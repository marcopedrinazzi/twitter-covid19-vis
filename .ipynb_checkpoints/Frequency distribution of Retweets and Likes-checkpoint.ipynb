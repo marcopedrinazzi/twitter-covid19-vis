{
 "cells": [
  {
   "cell_type": "markdown",
   "id": "efficient-toolbox",
   "metadata": {
    "scrolled": false
   },
   "source": [
    "# Frequency distribution of Retweets and Likes for each month until July 2020"
   ]
  },
  {
   "cell_type": "markdown",
   "id": "disabled-assist",
   "metadata": {},
   "source": [
    "We need the following packages:"
   ]
  },
  {
   "cell_type": "code",
   "execution_count": 4,
   "id": "authorized-conclusion",
   "metadata": {},
   "outputs": [
    {
     "data": {
      "text/plain": [
       "DataTransformerRegistry.enable('default')"
      ]
     },
     "execution_count": 4,
     "metadata": {},
     "output_type": "execute_result"
    }
   ],
   "source": [
    "import pandas as pd\n",
    "import datetime\n",
    "from dateutil.parser import parse\n",
    "import json\n",
    "import itertools\n",
    "import altair as alt\n",
    "import csv\n",
    "from vega_datasets import data\n",
    "import pytz\n",
    "utc=pytz.UTC\n",
    "alt.data_transformers.disable_max_rows()"
   ]
  },
  {
   "cell_type": "markdown",
   "id": "sitting-lecture",
   "metadata": {},
   "source": [
    "To read the JSON file that has all the tweets, it is necessary to do:"
   ]
  },
  {
   "cell_type": "code",
   "execution_count": 5,
   "id": "proud-disco",
   "metadata": {},
   "outputs": [],
   "source": [
    "data = []\n",
    "with open('generalcovid/dataset/general_result_translated_full.json', 'r') as f:\n",
    "    for line in f:\n",
    "        data.append(json.loads(line))"
   ]
  },
  {
   "cell_type": "markdown",
   "id": "bound-theory",
   "metadata": {},
   "source": [
    "## January 2020"
   ]
  },
  {
   "cell_type": "markdown",
   "id": "atmospheric-vermont",
   "metadata": {},
   "source": [
    "We're interested in the \"retweet_count\" and \"favorite_count\" fields:"
   ]
  },
  {
   "cell_type": "code",
   "execution_count": 12,
   "id": "graphic-trinidad",
   "metadata": {},
   "outputs": [
    {
     "name": "stdout",
     "output_type": "stream",
     "text": [
      "['2020-01-14', '2020-01-15', '2020-01-16', '2020-01-17', '2020-01-18', '2020-01-19', '2020-01-20', '2020-01-21', '2020-01-22', '2020-01-23', '2020-01-24', '2020-01-25', '2020-01-26', '2020-01-27', '2020-01-28', '2020-01-29', '2020-01-30']\n",
      "['2020-01-14', '2020-01-15', '2020-01-16', '2020-01-17', '2020-01-18', '2020-01-19', '2020-01-20', '2020-01-21', '2020-01-22', '2020-01-23', '2020-01-24', '2020-01-25', '2020-01-26', '2020-01-27', '2020-01-28', '2020-01-29', '2020-01-30', '2020-01-01', '2020-01-02', '2020-01-03', '2020-01-04', '2020-01-05', '2020-01-06', '2020-01-07', '2020-01-08', '2020-01-09', '2020-01-10', '2020-01-11', '2020-01-12', '2020-01-13']\n"
     ]
    }
   ],
   "source": [
    "start = utc.localize(datetime.datetime(2020, 1, 1))\n",
    "end = utc.localize(datetime.datetime(2020, 1, 31))\n",
    "\n",
    "index=0\n",
    "dates = [\"2020-01-14\"] \n",
    "retweets = [0]\n",
    "likes = [0]\n",
    "\n",
    "for element in data:\n",
    "    token = data[index]['created_at']\n",
    "    d = parse(token)\n",
    "   \n",
    "    if start <= d <= end:\n",
    "        d = d.strftime('%Y-%m-%d')\n",
    "        if d in dates:\n",
    "            i = dates.index(d)\n",
    "            retweets[i] = retweets[i] + data[index]['retweet_count']\n",
    "            likes[i] = likes[i]+ data[index]['favorite_count']\n",
    "        else:\n",
    "            dates.append(d)\n",
    "            retweets.append(data[index]['retweet_count'])\n",
    "            likes.append(data[index]['favorite_count'])\n",
    "        \n",
    "       \n",
    "    index=index+1\n",
    "\n",
    "\n",
    "\n",
    "# Fill the empty dates with 0.\n",
    "start = datetime.datetime.strptime(\"2020-01-01\", \"%Y-%m-%d\")\n",
    "end = datetime.datetime.strptime(\"2020-01-31\", \"%Y-%m-%d\")\n",
    "date_generated = [start + datetime.timedelta(days=x) for x in range(0, (end-start).days)]\n",
    "\n",
    "for date in date_generated:\n",
    "    if date.strftime(\"%Y-%m-%d\") not in dates:\n",
    "        d = date.strftime(\"%Y-%m-%d\")\n",
    "        dates.append(d)\n",
    "        retweets.append(0)\n",
    "        likes.append(0)\n",
    "       "
   ]
  },
  {
   "cell_type": "markdown",
   "id": "secondary-tunnel",
   "metadata": {},
   "source": [
    "We create the DataFrames which will be used to realize the chart, one for the Retweets count and one for the Likes count:"
   ]
  },
  {
   "cell_type": "code",
   "execution_count": 13,
   "id": "sweet-configuration",
   "metadata": {},
   "outputs": [],
   "source": [
    "df_likes_jan = pd.DataFrame(\n",
    "    {'Dates': dates,\n",
    "     'Likes': likes\n",
    "    })\n",
    "\n",
    "df_likes_jan['Dates']= pd.to_datetime(df_likes_jan['Dates'])\n",
    "\n",
    "\n",
    "\n",
    "df_retweets_jan = pd.DataFrame(\n",
    "    {'Dates': dates,\n",
    "     'Retweets': retweets\n",
    "    })\n",
    "\n",
    "df_retweets_jan['Dates']= pd.to_datetime(df_retweets_jan['Dates'])\n",
    "\n",
    "\n",
    "\n",
    "df_jan = pd.DataFrame(\n",
    "    {'Dates': dates,\n",
    "     'Likes': likes,\n",
    "     'Retweets': retweets\n",
    "    })\n",
    "\n",
    "df_jan['Dates']= pd.to_datetime(df_jan['Dates'])\n",
    "df_jan = df_jan.sort_values(by=['Dates'], ascending=True)"
   ]
  },
  {
   "cell_type": "markdown",
   "id": "olympic-protocol",
   "metadata": {},
   "source": [
    "We've normalised the count of Likes and Retweets using Min-Max Normalization in the scale of [0; 1]."
   ]
  },
  {
   "cell_type": "code",
   "execution_count": 14,
   "id": "short-festival",
   "metadata": {},
   "outputs": [],
   "source": [
    "# Likes and Retweets normalization.\n",
    "# https://www.geeksforgeeks.org/normalize-a-column-in-pandas/\n",
    "\n",
    "df_norm_jan = df_jan.copy()\n",
    "df_norm_jan[['Likes', 'Retweets']] = (df_norm_jan[['Likes', 'Retweets']] - df_norm_jan[['Likes', 'Retweets']].min()) / (df_norm_jan[['Likes', 'Retweets']].max() - df_norm_jan[['Likes', 'Retweets']].min())\n",
    "df_likes_jan['Likes'] = df_norm_jan['Likes']\n",
    "df_retweets_jan['Retweets'] = df_norm_jan['Retweets']"
   ]
  },
  {
   "cell_type": "markdown",
   "id": "harmful-flashing",
   "metadata": {},
   "source": [
    "The line chart is created:"
   ]
  },
  {
   "cell_type": "code",
   "execution_count": 15,
   "id": "preliminary-developer",
   "metadata": {
    "scrolled": false
   },
   "outputs": [
    {
     "data": {
      "text/html": [
       "\n",
       "<div id=\"altair-viz-e75157638f27448fbbfbb4b6a7531bb7\"></div>\n",
       "<script type=\"text/javascript\">\n",
       "  (function(spec, embedOpt){\n",
       "    let outputDiv = document.currentScript.previousElementSibling;\n",
       "    if (outputDiv.id !== \"altair-viz-e75157638f27448fbbfbb4b6a7531bb7\") {\n",
       "      outputDiv = document.getElementById(\"altair-viz-e75157638f27448fbbfbb4b6a7531bb7\");\n",
       "    }\n",
       "    const paths = {\n",
       "      \"vega\": \"https://cdn.jsdelivr.net/npm//vega@5?noext\",\n",
       "      \"vega-lib\": \"https://cdn.jsdelivr.net/npm//vega-lib?noext\",\n",
       "      \"vega-lite\": \"https://cdn.jsdelivr.net/npm//vega-lite@4.8.1?noext\",\n",
       "      \"vega-embed\": \"https://cdn.jsdelivr.net/npm//vega-embed@6?noext\",\n",
       "    };\n",
       "\n",
       "    function loadScript(lib) {\n",
       "      return new Promise(function(resolve, reject) {\n",
       "        var s = document.createElement('script');\n",
       "        s.src = paths[lib];\n",
       "        s.async = true;\n",
       "        s.onload = () => resolve(paths[lib]);\n",
       "        s.onerror = () => reject(`Error loading script: ${paths[lib]}`);\n",
       "        document.getElementsByTagName(\"head\")[0].appendChild(s);\n",
       "      });\n",
       "    }\n",
       "\n",
       "    function showError(err) {\n",
       "      outputDiv.innerHTML = `<div class=\"error\" style=\"color:red;\">${err}</div>`;\n",
       "      throw err;\n",
       "    }\n",
       "\n",
       "    function displayChart(vegaEmbed) {\n",
       "      vegaEmbed(outputDiv, spec, embedOpt)\n",
       "        .catch(err => showError(`Javascript Error: ${err.message}<br>This usually means there's a typo in your chart specification. See the javascript console for the full traceback.`));\n",
       "    }\n",
       "\n",
       "    if(typeof define === \"function\" && define.amd) {\n",
       "      requirejs.config({paths});\n",
       "      require([\"vega-embed\"], displayChart, err => showError(`Error loading script: ${err.message}`));\n",
       "    } else if (typeof vegaEmbed === \"function\") {\n",
       "      displayChart(vegaEmbed);\n",
       "    } else {\n",
       "      loadScript(\"vega\")\n",
       "        .then(() => loadScript(\"vega-lite\"))\n",
       "        .then(() => loadScript(\"vega-embed\"))\n",
       "        .catch(showError)\n",
       "        .then(() => displayChart(vegaEmbed));\n",
       "    }\n",
       "  })({\"config\": {\"view\": {\"continuousWidth\": 400, \"continuousHeight\": 300}}, \"hconcat\": [{\"data\": {\"name\": \"data-baf872ffb7e79b9c33c6e17aa382c905\"}, \"mark\": \"line\", \"encoding\": {\"x\": {\"type\": \"temporal\", \"field\": \"Dates\", \"timeUnit\": \"monthdate\", \"title\": \"Dates\"}, \"y\": {\"type\": \"quantitative\", \"field\": \"Likes\"}}, \"height\": 200, \"width\": 300}, {\"data\": {\"name\": \"data-ef2bf7093359a841e574d165d6b4a1a6\"}, \"mark\": \"line\", \"encoding\": {\"x\": {\"type\": \"temporal\", \"field\": \"Dates\", \"timeUnit\": \"monthdate\", \"title\": \"Dates\"}, \"y\": {\"type\": \"quantitative\", \"field\": \"Retweets\"}}, \"height\": 200, \"width\": 300}], \"$schema\": \"https://vega.github.io/schema/vega-lite/v4.8.1.json\", \"datasets\": {\"data-baf872ffb7e79b9c33c6e17aa382c905\": [{\"Dates\": \"2020-01-14T00:00:00\", \"Likes\": 0.6095387274494977}, {\"Dates\": \"2020-01-15T00:00:00\", \"Likes\": 0.5306679115418448}, {\"Dates\": \"2020-01-16T00:00:00\", \"Likes\": 0.3673667803515486}, {\"Dates\": \"2020-01-17T00:00:00\", \"Likes\": 0.438151051713761}, {\"Dates\": \"2020-01-18T00:00:00\", \"Likes\": 0.2994220589823917}, {\"Dates\": \"2020-01-19T00:00:00\", \"Likes\": 0.45831339989814657}, {\"Dates\": \"2020-01-20T00:00:00\", \"Likes\": 0.8152749270822081}, {\"Dates\": \"2020-01-21T00:00:00\", \"Likes\": 0.2352312535687279}, {\"Dates\": \"2020-01-22T00:00:00\", \"Likes\": 0.5269680087655674}, {\"Dates\": \"2020-01-23T00:00:00\", \"Likes\": 0.4775073689408787}, {\"Dates\": \"2020-01-24T00:00:00\", \"Likes\": 0.3902336455809503}, {\"Dates\": \"2020-01-25T00:00:00\", \"Likes\": 0.41683513634469666}, {\"Dates\": \"2020-01-26T00:00:00\", \"Likes\": 0.18032299881171004}, {\"Dates\": \"2020-01-27T00:00:00\", \"Likes\": 0.19820521921634593}, {\"Dates\": \"2020-01-28T00:00:00\", \"Likes\": 1.0}, {\"Dates\": \"2020-01-29T00:00:00\", \"Likes\": 0.6588489019892282}, {\"Dates\": \"2020-01-30T00:00:00\", \"Likes\": 0.4225528171731045}, {\"Dates\": \"2020-01-01T00:00:00\", \"Likes\": 0.0}, {\"Dates\": \"2020-01-02T00:00:00\", \"Likes\": 0.0}, {\"Dates\": \"2020-01-03T00:00:00\", \"Likes\": 0.0}, {\"Dates\": \"2020-01-04T00:00:00\", \"Likes\": 0.0}, {\"Dates\": \"2020-01-05T00:00:00\", \"Likes\": 0.0}, {\"Dates\": \"2020-01-06T00:00:00\", \"Likes\": 0.0}, {\"Dates\": \"2020-01-07T00:00:00\", \"Likes\": 0.0}, {\"Dates\": \"2020-01-08T00:00:00\", \"Likes\": 0.0}, {\"Dates\": \"2020-01-09T00:00:00\", \"Likes\": 0.0}, {\"Dates\": \"2020-01-10T00:00:00\", \"Likes\": 0.0}, {\"Dates\": \"2020-01-11T00:00:00\", \"Likes\": 0.0}, {\"Dates\": \"2020-01-12T00:00:00\", \"Likes\": 0.0}, {\"Dates\": \"2020-01-13T00:00:00\", \"Likes\": 0.0}], \"data-ef2bf7093359a841e574d165d6b4a1a6\": [{\"Dates\": \"2020-01-14T00:00:00\", \"Retweets\": 0.3566420309045622}, {\"Dates\": \"2020-01-15T00:00:00\", \"Retweets\": 0.13547578909298785}, {\"Dates\": \"2020-01-16T00:00:00\", \"Retweets\": 0.09830339903518033}, {\"Dates\": \"2020-01-17T00:00:00\", \"Retweets\": 0.09210411185841534}, {\"Dates\": \"2020-01-18T00:00:00\", \"Retweets\": 0.1199301759891735}, {\"Dates\": \"2020-01-19T00:00:00\", \"Retweets\": 0.14898268107868473}, {\"Dates\": \"2020-01-20T00:00:00\", \"Retweets\": 0.7193914752874334}, {\"Dates\": \"2020-01-21T00:00:00\", \"Retweets\": 0.1167379295459981}, {\"Dates\": \"2020-01-22T00:00:00\", \"Retweets\": 0.28958152259509656}, {\"Dates\": \"2020-01-23T00:00:00\", \"Retweets\": 0.371179949950709}, {\"Dates\": \"2020-01-24T00:00:00\", \"Retweets\": 0.2959470574166866}, {\"Dates\": \"2020-01-25T00:00:00\", \"Retweets\": 0.302716544848948}, {\"Dates\": \"2020-01-26T00:00:00\", \"Retweets\": 1.0}, {\"Dates\": \"2020-01-27T00:00:00\", \"Retweets\": 0.07517310171439238}, {\"Dates\": \"2020-01-28T00:00:00\", \"Retweets\": 0.42387462010954846}, {\"Dates\": \"2020-01-29T00:00:00\", \"Retweets\": 0.11355589129154003}, {\"Dates\": \"2020-01-30T00:00:00\", \"Retweets\": 0.13856449533631607}, {\"Dates\": \"2020-01-01T00:00:00\", \"Retweets\": 0.0}, {\"Dates\": \"2020-01-02T00:00:00\", \"Retweets\": 0.0}, {\"Dates\": \"2020-01-03T00:00:00\", \"Retweets\": 0.0}, {\"Dates\": \"2020-01-04T00:00:00\", \"Retweets\": 0.0}, {\"Dates\": \"2020-01-05T00:00:00\", \"Retweets\": 0.0}, {\"Dates\": \"2020-01-06T00:00:00\", \"Retweets\": 0.0}, {\"Dates\": \"2020-01-07T00:00:00\", \"Retweets\": 0.0}, {\"Dates\": \"2020-01-08T00:00:00\", \"Retweets\": 0.0}, {\"Dates\": \"2020-01-09T00:00:00\", \"Retweets\": 0.0}, {\"Dates\": \"2020-01-10T00:00:00\", \"Retweets\": 0.0}, {\"Dates\": \"2020-01-11T00:00:00\", \"Retweets\": 0.0}, {\"Dates\": \"2020-01-12T00:00:00\", \"Retweets\": 0.0}, {\"Dates\": \"2020-01-13T00:00:00\", \"Retweets\": 0.0}]}}, {\"mode\": \"vega-lite\"});\n",
       "</script>"
      ],
      "text/plain": [
       "alt.HConcatChart(...)"
      ]
     },
     "execution_count": 15,
     "metadata": {},
     "output_type": "execute_result"
    }
   ],
   "source": [
    "alt.data_transformers.disable_max_rows()\n",
    "\n",
    "c1_jan = alt.Chart(df_likes_jan).mark_line().encode(\n",
    "    x=\"monthdate(Dates):T\",\n",
    "    y=\"Likes\"\n",
    ").properties(\n",
    "    width=300,\n",
    "    height=200\n",
    ")\n",
    "c1_jan.encoding.x.title = 'Dates'\n",
    "\n",
    "c2_jan = alt.Chart(df_retweets_jan).mark_line().encode(\n",
    "    x=\"monthdate(Dates):T\",\n",
    "    y=\"Retweets\"\n",
    ").properties(\n",
    "    width=300,\n",
    "    height=200\n",
    ")\n",
    "c2_jan.encoding.x.title = 'Dates'\n",
    "\n",
    "alt.hconcat(c1_jan, c2_jan)"
   ]
  },
  {
   "cell_type": "markdown",
   "id": "biological-intellectual",
   "metadata": {},
   "source": [
    "We normalised the count of Retweets and Likes for the overall month together and plotted the normalised count of Retweets and Likes for both false and partially false and plotted it for each month, until July 2020."
   ]
  },
  {
   "cell_type": "markdown",
   "id": "pointed-juice",
   "metadata": {},
   "source": [
    "## February 2020"
   ]
  },
  {
   "cell_type": "code",
   "execution_count": null,
   "id": "heavy-blake",
   "metadata": {},
   "outputs": [],
   "source": []
  },
  {
   "cell_type": "markdown",
   "id": "official-monroe",
   "metadata": {},
   "source": [
    "## March 2020"
   ]
  },
  {
   "cell_type": "code",
   "execution_count": null,
   "id": "suited-billy",
   "metadata": {},
   "outputs": [],
   "source": []
  },
  {
   "cell_type": "markdown",
   "id": "substantial-skill",
   "metadata": {},
   "source": [
    "## April 2020"
   ]
  },
  {
   "cell_type": "code",
   "execution_count": null,
   "id": "spare-exercise",
   "metadata": {},
   "outputs": [],
   "source": []
  },
  {
   "cell_type": "markdown",
   "id": "rough-highland",
   "metadata": {},
   "source": [
    "## May 2020"
   ]
  },
  {
   "cell_type": "code",
   "execution_count": null,
   "id": "municipal-round",
   "metadata": {},
   "outputs": [],
   "source": []
  },
  {
   "cell_type": "markdown",
   "id": "expressed-plumbing",
   "metadata": {},
   "source": [
    "## June 2020"
   ]
  },
  {
   "cell_type": "code",
   "execution_count": null,
   "id": "engaged-newport",
   "metadata": {},
   "outputs": [],
   "source": []
  },
  {
   "cell_type": "markdown",
   "id": "fitting-trance",
   "metadata": {},
   "source": [
    "## July 2020"
   ]
  },
  {
   "cell_type": "code",
   "execution_count": null,
   "id": "younger-fighter",
   "metadata": {},
   "outputs": [],
   "source": []
  }
 ],
 "metadata": {
  "kernelspec": {
   "display_name": "Python 3",
   "language": "python",
   "name": "python3"
  },
  "language_info": {
   "codemirror_mode": {
    "name": "ipython",
    "version": 3
   },
   "file_extension": ".py",
   "mimetype": "text/x-python",
   "name": "python",
   "nbconvert_exporter": "python",
   "pygments_lexer": "ipython3",
   "version": "3.9.2"
  }
 },
 "nbformat": 4,
 "nbformat_minor": 5
}

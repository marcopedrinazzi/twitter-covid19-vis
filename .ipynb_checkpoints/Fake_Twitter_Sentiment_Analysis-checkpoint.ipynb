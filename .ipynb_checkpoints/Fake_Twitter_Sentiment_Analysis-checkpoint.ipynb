{
 "cells": [
  {
   "cell_type": "markdown",
   "id": "listed-surface",
   "metadata": {},
   "source": [
    "# Twitter Sentiment Analysis - Fake Covid-19 dataset"
   ]
  },
  {
   "cell_type": "markdown",
   "id": "empirical-cheese",
   "metadata": {},
   "source": [
    "We've used the following packages:"
   ]
  },
  {
   "cell_type": "code",
   "execution_count": 1,
   "id": "preceding-marble",
   "metadata": {},
   "outputs": [
    {
     "data": {
      "text/plain": [
       "DataTransformerRegistry.enable('default')"
      ]
     },
     "execution_count": 1,
     "metadata": {},
     "output_type": "execute_result"
    }
   ],
   "source": [
    "import plotly.express as px\n",
    "from textblob import TextBlob\n",
    "import sys\n",
    "import matplotlib.pyplot as plt\n",
    "import pandas as pd\n",
    "import numpy as np\n",
    "import os\n",
    "import nltk\n",
    "import pycountry\n",
    "import re\n",
    "import string\n",
    "from nltk.sentiment.vader import SentimentIntensityAnalyzer\n",
    "from langdetect import detect\n",
    "from nltk.stem import SnowballStemmer\n",
    "from nltk.sentiment.vader import SentimentIntensityAnalyzer\n",
    "from sklearn.feature_extraction.text import CountVectorizer\n",
    "from collections import Counter\n",
    "import json\n",
    "from emot.emo_unicode import UNICODE_EMO, EMOTICONS\n",
    "import emoji\n",
    "from nltk.corpus import stopwords\n",
    "import itertools\n",
    "import altair as alt\n",
    "\n",
    "alt.data_transformers.disable_max_rows()"
   ]
  },
  {
   "cell_type": "markdown",
   "id": "guided-assumption",
   "metadata": {},
   "source": [
    "Then we have defined the following functions to clean the tweets' text:"
   ]
  },
  {
   "cell_type": "code",
   "execution_count": 2,
   "id": "atmospheric-beaver",
   "metadata": {},
   "outputs": [],
   "source": [
    "def remove_emoticons(text):\n",
    "    emoticon_pattern = re.compile(u'(' + u'|'.join(k for k in EMOTICONS) + u')')\n",
    "    return emoticon_pattern.sub(r'', text)\n",
    "\n",
    "def remove_emoji(text):\n",
    "    emoji_pattern = re.compile(\"[\"\n",
    "                           u\"\\U0001F600-\\U0001F64F\"  # emoticons\n",
    "                           u\"\\U0001F300-\\U0001F5FF\"  # symbols & pictographs\n",
    "                           u\"\\U0001F680-\\U0001F6FF\"  # transport & map symbols\n",
    "                           u\"\\U0001F1E0-\\U0001F1FF\"  # flags (iOS)\n",
    "                           u\"\\U00002702-\\U000027B0\"\n",
    "                           u\"\\U000024C2-\\U0001F251\"\n",
    "                           \"]+\", flags=re.UNICODE)\n",
    "    return emoji_pattern.sub(r'', text)\n",
    "\n",
    "def remove_urls(text):\n",
    "    result = re.sub(r\"http\\S+\", \"\", text)\n",
    "    return(result)\n",
    "\n",
    "def remove_twitter_urls(text):\n",
    "    clean = re.sub(r\"pic.twitter\\S+\", \"\",text)\n",
    "    return(clean)\n",
    "\n",
    "def give_emoji_free_text(text):\n",
    "    return emoji.get_emoji_regexp().sub(r'', text)\n",
    "\n",
    "def noamp(text):\n",
    "    clean = re.sub(\"&amp\", \" \",text)\n",
    "    return (clean)"
   ]
  },
  {
   "cell_type": "markdown",
   "id": "grand-reference",
   "metadata": {},
   "source": [
    "In order to do the classification of the tweets, we need to read the csv file and the json file:"
   ]
  },
  {
   "cell_type": "code",
   "execution_count": 3,
   "id": "twenty-beijing",
   "metadata": {},
   "outputs": [],
   "source": [
    "csv_dataframe = pd.read_csv('fakecovid/dataset/FINAL_fakecovid_final_filtered_dataset_clean.csv',sep=\";\")\n",
    "csv_dataframe['tweet_id'] = csv_dataframe['tweet_id'].astype(str)\n",
    "csv_list = csv_dataframe.values.tolist()\n",
    "lista_unica_csv=list(itertools.chain.from_iterable(csv_list))\n",
    "\n",
    "data = []\n",
    "with open('fakecovid/dataset/fakecovid_result_final_translated_full.json', 'r') as f:\n",
    "    for line in f:\n",
    "        data.append(json.loads(line))\n",
    "        \n",
    "data1 = data"
   ]
  },
  {
   "cell_type": "markdown",
   "id": "trained-spirit",
   "metadata": {},
   "source": [
    "## Pie chart"
   ]
  },
  {
   "cell_type": "markdown",
   "id": "liked-class",
   "metadata": {},
   "source": [
    "We're interested in the \"full_text\" field, that it has been cleaned with specific functions.  \n",
    "We've used **TextBlob** to calculate positive, negative, neutral, polarity and compound parameters from the text."
   ]
  },
  {
   "cell_type": "code",
   "execution_count": 4,
   "id": "parliamentary-print",
   "metadata": {},
   "outputs": [],
   "source": [
    "tweet_list = []\n",
    "neutral_list = []\n",
    "negative_list = []\n",
    "positive_list = []\n",
    "\n",
    "index=0\n",
    "stop_words = stopwords.words('english')\n",
    "\n",
    "for element in data:\n",
    "    data[index]['full_text'] = data[index]['full_text'].lower()                 # Put everything in lowercase\n",
    "    #data[index]['full_text'] = contractions.fix(data[index]['full_text'])\n",
    "    data[index]['full_text'] = re.sub(\"\\'\\w+\", '', data[index]['full_text'])    # Remove everything after '\n",
    "    data[index]['full_text'] = remove_urls(data[index]['full_text'])\n",
    "    data[index]['full_text'] = remove_twitter_urls(data[index]['full_text'])\n",
    "    data[index]['full_text'] = remove_emoticons(data[index]['full_text'])\n",
    "    data[index]['full_text'] = remove_emoji(data[index]['full_text'])\n",
    "    data[index]['full_text'] = give_emoji_free_text(data[index]['full_text'])\n",
    "    data[index]['full_text'] = noamp(data[index]['full_text'])                  # No amp with space\n",
    "    data[index]['full_text'] = re.sub(\"#\\S+\", \" \",  data[index]['full_text'])   # Remove hashtags\n",
    "    data[index]['full_text'] = re.sub(\"@\\S+\", \" \",  data[index]['full_text'])   # No mentions\n",
    "    data[index]['full_text'] = data[index]['full_text'].translate(str.maketrans('', '', string.punctuation)) # No puntuaction\n",
    "    data[index]['full_text'] = data[index]['full_text'].encode('ascii', 'ignore').decode() # No unicode\n",
    "    data[index]['full_text'] = re.sub(\"^rt \", \" \", data[index]['full_text'])    # No RT\n",
    "    data[index]['full_text'] = re.sub('\\s{2,}', \" \", data[index]['full_text'])  # Remove big spaces\n",
    "\n",
    "    tweet_list.append(data[index]['full_text'])\n",
    "    analysis = TextBlob(data[index]['full_text'])\n",
    "    score = SentimentIntensityAnalyzer().polarity_scores(data[index]['full_text'])\n",
    "    neg = score['neg']\n",
    "    neu = score['neu']\n",
    "    pos = score['pos']\n",
    "    \n",
    "    if neg > pos:\n",
    "        negative_list.append(data[index]['full_text'])\n",
    "\n",
    "    elif pos > neg:\n",
    "        positive_list.append(data[index]['full_text'])\n",
    "    \n",
    "    elif pos == neg:\n",
    "        neutral_list.append(data[index]['full_text'])\n",
    "    \n",
    "    index=index+1           # Total number of tweets in the dataset."
   ]
  },
  {
   "cell_type": "markdown",
   "id": "incorporate-wisdom",
   "metadata": {},
   "source": [
    "We've reported the number of tweets (Positive, Negative, Neutral) in a DataFrame in order to visualise them:"
   ]
  },
  {
   "cell_type": "code",
   "execution_count": 5,
   "id": "portable-annex",
   "metadata": {},
   "outputs": [
    {
     "name": "stdout",
     "output_type": "stream",
     "text": [
      "Total number of tweets:  1454\n",
      "Positive number:  601\n",
      "Negative number:  559\n",
      "Neutral number:  294\n"
     ]
    }
   ],
   "source": [
    "print(\"Total number of tweets: \",len(tweet_list))\n",
    "print(\"Positive number: \",len(positive_list))\n",
    "print(\"Negative number: \", len(negative_list))\n",
    "print(\"Neutral number: \",len(neutral_list))\n",
    "\n",
    "category = []\n",
    "count = []\n",
    "\n",
    "categorypositive = [\"Positive\"] * len(positive_list)\n",
    "categoryneutral = [\"Neutral\"] * len(neutral_list)\n",
    "categorynegative = [\"Negative\"] * len(negative_list)\n",
    "\n",
    "category = categorypositive + categoryneutral + categorynegative\n",
    "\n",
    "count = Counter(category)\n",
    "\n",
    "df_fake1 = pd.DataFrame.from_dict(count, orient='index').reset_index()\n",
    "df_fake1 = df_fake1.rename(columns={'index':'Category', 0:'Count'})"
   ]
  },
  {
   "cell_type": "markdown",
   "id": "running-connection",
   "metadata": {},
   "source": [
    "Then we have created the pie chart:"
   ]
  },
  {
   "cell_type": "code",
   "execution_count": 19,
   "id": "unsigned-vegetarian",
   "metadata": {
    "scrolled": false
   },
   "outputs": [
    {
     "data": {
      "application/vnd.plotly.v1+json": {
       "config": {
        "plotlyServerURL": "https://plot.ly"
       },
       "data": [
        {
         "domain": {
          "x": [
           0,
           1
          ],
          "y": [
           0,
           1
          ]
         },
         "hovertemplate": "Category=%{label}<br>Count=%{value}<extra></extra>",
         "labels": [
          "Positive",
          "Neutral",
          "Negative"
         ],
         "legendgroup": "",
         "marker": {
          "colors": [
           "#1AFF1A",
           "#005AB5",
           "#DC3220"
          ],
          "line": {
           "color": "#000000",
           "width": 0.8
          }
         },
         "name": "",
         "showlegend": true,
         "sort": false,
         "textfont": {
          "size": 15
         },
         "textinfo": "percent+label",
         "textposition": "inside",
         "type": "pie",
         "values": [
          601,
          294,
          559
         ]
        }
       ],
       "layout": {
        "legend": {
         "tracegroupgap": 0
        },
        "template": {
         "data": {
          "bar": [
           {
            "error_x": {
             "color": "#2a3f5f"
            },
            "error_y": {
             "color": "#2a3f5f"
            },
            "marker": {
             "line": {
              "color": "#E5ECF6",
              "width": 0.5
             }
            },
            "type": "bar"
           }
          ],
          "barpolar": [
           {
            "marker": {
             "line": {
              "color": "#E5ECF6",
              "width": 0.5
             }
            },
            "type": "barpolar"
           }
          ],
          "carpet": [
           {
            "aaxis": {
             "endlinecolor": "#2a3f5f",
             "gridcolor": "white",
             "linecolor": "white",
             "minorgridcolor": "white",
             "startlinecolor": "#2a3f5f"
            },
            "baxis": {
             "endlinecolor": "#2a3f5f",
             "gridcolor": "white",
             "linecolor": "white",
             "minorgridcolor": "white",
             "startlinecolor": "#2a3f5f"
            },
            "type": "carpet"
           }
          ],
          "choropleth": [
           {
            "colorbar": {
             "outlinewidth": 0,
             "ticks": ""
            },
            "type": "choropleth"
           }
          ],
          "contour": [
           {
            "colorbar": {
             "outlinewidth": 0,
             "ticks": ""
            },
            "colorscale": [
             [
              0,
              "#0d0887"
             ],
             [
              0.1111111111111111,
              "#46039f"
             ],
             [
              0.2222222222222222,
              "#7201a8"
             ],
             [
              0.3333333333333333,
              "#9c179e"
             ],
             [
              0.4444444444444444,
              "#bd3786"
             ],
             [
              0.5555555555555556,
              "#d8576b"
             ],
             [
              0.6666666666666666,
              "#ed7953"
             ],
             [
              0.7777777777777778,
              "#fb9f3a"
             ],
             [
              0.8888888888888888,
              "#fdca26"
             ],
             [
              1,
              "#f0f921"
             ]
            ],
            "type": "contour"
           }
          ],
          "contourcarpet": [
           {
            "colorbar": {
             "outlinewidth": 0,
             "ticks": ""
            },
            "type": "contourcarpet"
           }
          ],
          "heatmap": [
           {
            "colorbar": {
             "outlinewidth": 0,
             "ticks": ""
            },
            "colorscale": [
             [
              0,
              "#0d0887"
             ],
             [
              0.1111111111111111,
              "#46039f"
             ],
             [
              0.2222222222222222,
              "#7201a8"
             ],
             [
              0.3333333333333333,
              "#9c179e"
             ],
             [
              0.4444444444444444,
              "#bd3786"
             ],
             [
              0.5555555555555556,
              "#d8576b"
             ],
             [
              0.6666666666666666,
              "#ed7953"
             ],
             [
              0.7777777777777778,
              "#fb9f3a"
             ],
             [
              0.8888888888888888,
              "#fdca26"
             ],
             [
              1,
              "#f0f921"
             ]
            ],
            "type": "heatmap"
           }
          ],
          "heatmapgl": [
           {
            "colorbar": {
             "outlinewidth": 0,
             "ticks": ""
            },
            "colorscale": [
             [
              0,
              "#0d0887"
             ],
             [
              0.1111111111111111,
              "#46039f"
             ],
             [
              0.2222222222222222,
              "#7201a8"
             ],
             [
              0.3333333333333333,
              "#9c179e"
             ],
             [
              0.4444444444444444,
              "#bd3786"
             ],
             [
              0.5555555555555556,
              "#d8576b"
             ],
             [
              0.6666666666666666,
              "#ed7953"
             ],
             [
              0.7777777777777778,
              "#fb9f3a"
             ],
             [
              0.8888888888888888,
              "#fdca26"
             ],
             [
              1,
              "#f0f921"
             ]
            ],
            "type": "heatmapgl"
           }
          ],
          "histogram": [
           {
            "marker": {
             "colorbar": {
              "outlinewidth": 0,
              "ticks": ""
             }
            },
            "type": "histogram"
           }
          ],
          "histogram2d": [
           {
            "colorbar": {
             "outlinewidth": 0,
             "ticks": ""
            },
            "colorscale": [
             [
              0,
              "#0d0887"
             ],
             [
              0.1111111111111111,
              "#46039f"
             ],
             [
              0.2222222222222222,
              "#7201a8"
             ],
             [
              0.3333333333333333,
              "#9c179e"
             ],
             [
              0.4444444444444444,
              "#bd3786"
             ],
             [
              0.5555555555555556,
              "#d8576b"
             ],
             [
              0.6666666666666666,
              "#ed7953"
             ],
             [
              0.7777777777777778,
              "#fb9f3a"
             ],
             [
              0.8888888888888888,
              "#fdca26"
             ],
             [
              1,
              "#f0f921"
             ]
            ],
            "type": "histogram2d"
           }
          ],
          "histogram2dcontour": [
           {
            "colorbar": {
             "outlinewidth": 0,
             "ticks": ""
            },
            "colorscale": [
             [
              0,
              "#0d0887"
             ],
             [
              0.1111111111111111,
              "#46039f"
             ],
             [
              0.2222222222222222,
              "#7201a8"
             ],
             [
              0.3333333333333333,
              "#9c179e"
             ],
             [
              0.4444444444444444,
              "#bd3786"
             ],
             [
              0.5555555555555556,
              "#d8576b"
             ],
             [
              0.6666666666666666,
              "#ed7953"
             ],
             [
              0.7777777777777778,
              "#fb9f3a"
             ],
             [
              0.8888888888888888,
              "#fdca26"
             ],
             [
              1,
              "#f0f921"
             ]
            ],
            "type": "histogram2dcontour"
           }
          ],
          "mesh3d": [
           {
            "colorbar": {
             "outlinewidth": 0,
             "ticks": ""
            },
            "type": "mesh3d"
           }
          ],
          "parcoords": [
           {
            "line": {
             "colorbar": {
              "outlinewidth": 0,
              "ticks": ""
             }
            },
            "type": "parcoords"
           }
          ],
          "pie": [
           {
            "automargin": true,
            "type": "pie"
           }
          ],
          "scatter": [
           {
            "marker": {
             "colorbar": {
              "outlinewidth": 0,
              "ticks": ""
             }
            },
            "type": "scatter"
           }
          ],
          "scatter3d": [
           {
            "line": {
             "colorbar": {
              "outlinewidth": 0,
              "ticks": ""
             }
            },
            "marker": {
             "colorbar": {
              "outlinewidth": 0,
              "ticks": ""
             }
            },
            "type": "scatter3d"
           }
          ],
          "scattercarpet": [
           {
            "marker": {
             "colorbar": {
              "outlinewidth": 0,
              "ticks": ""
             }
            },
            "type": "scattercarpet"
           }
          ],
          "scattergeo": [
           {
            "marker": {
             "colorbar": {
              "outlinewidth": 0,
              "ticks": ""
             }
            },
            "type": "scattergeo"
           }
          ],
          "scattergl": [
           {
            "marker": {
             "colorbar": {
              "outlinewidth": 0,
              "ticks": ""
             }
            },
            "type": "scattergl"
           }
          ],
          "scattermapbox": [
           {
            "marker": {
             "colorbar": {
              "outlinewidth": 0,
              "ticks": ""
             }
            },
            "type": "scattermapbox"
           }
          ],
          "scatterpolar": [
           {
            "marker": {
             "colorbar": {
              "outlinewidth": 0,
              "ticks": ""
             }
            },
            "type": "scatterpolar"
           }
          ],
          "scatterpolargl": [
           {
            "marker": {
             "colorbar": {
              "outlinewidth": 0,
              "ticks": ""
             }
            },
            "type": "scatterpolargl"
           }
          ],
          "scatterternary": [
           {
            "marker": {
             "colorbar": {
              "outlinewidth": 0,
              "ticks": ""
             }
            },
            "type": "scatterternary"
           }
          ],
          "surface": [
           {
            "colorbar": {
             "outlinewidth": 0,
             "ticks": ""
            },
            "colorscale": [
             [
              0,
              "#0d0887"
             ],
             [
              0.1111111111111111,
              "#46039f"
             ],
             [
              0.2222222222222222,
              "#7201a8"
             ],
             [
              0.3333333333333333,
              "#9c179e"
             ],
             [
              0.4444444444444444,
              "#bd3786"
             ],
             [
              0.5555555555555556,
              "#d8576b"
             ],
             [
              0.6666666666666666,
              "#ed7953"
             ],
             [
              0.7777777777777778,
              "#fb9f3a"
             ],
             [
              0.8888888888888888,
              "#fdca26"
             ],
             [
              1,
              "#f0f921"
             ]
            ],
            "type": "surface"
           }
          ],
          "table": [
           {
            "cells": {
             "fill": {
              "color": "#EBF0F8"
             },
             "line": {
              "color": "white"
             }
            },
            "header": {
             "fill": {
              "color": "#C8D4E3"
             },
             "line": {
              "color": "white"
             }
            },
            "type": "table"
           }
          ]
         },
         "layout": {
          "annotationdefaults": {
           "arrowcolor": "#2a3f5f",
           "arrowhead": 0,
           "arrowwidth": 1
          },
          "autotypenumbers": "strict",
          "coloraxis": {
           "colorbar": {
            "outlinewidth": 0,
            "ticks": ""
           }
          },
          "colorscale": {
           "diverging": [
            [
             0,
             "#8e0152"
            ],
            [
             0.1,
             "#c51b7d"
            ],
            [
             0.2,
             "#de77ae"
            ],
            [
             0.3,
             "#f1b6da"
            ],
            [
             0.4,
             "#fde0ef"
            ],
            [
             0.5,
             "#f7f7f7"
            ],
            [
             0.6,
             "#e6f5d0"
            ],
            [
             0.7,
             "#b8e186"
            ],
            [
             0.8,
             "#7fbc41"
            ],
            [
             0.9,
             "#4d9221"
            ],
            [
             1,
             "#276419"
            ]
           ],
           "sequential": [
            [
             0,
             "#0d0887"
            ],
            [
             0.1111111111111111,
             "#46039f"
            ],
            [
             0.2222222222222222,
             "#7201a8"
            ],
            [
             0.3333333333333333,
             "#9c179e"
            ],
            [
             0.4444444444444444,
             "#bd3786"
            ],
            [
             0.5555555555555556,
             "#d8576b"
            ],
            [
             0.6666666666666666,
             "#ed7953"
            ],
            [
             0.7777777777777778,
             "#fb9f3a"
            ],
            [
             0.8888888888888888,
             "#fdca26"
            ],
            [
             1,
             "#f0f921"
            ]
           ],
           "sequentialminus": [
            [
             0,
             "#0d0887"
            ],
            [
             0.1111111111111111,
             "#46039f"
            ],
            [
             0.2222222222222222,
             "#7201a8"
            ],
            [
             0.3333333333333333,
             "#9c179e"
            ],
            [
             0.4444444444444444,
             "#bd3786"
            ],
            [
             0.5555555555555556,
             "#d8576b"
            ],
            [
             0.6666666666666666,
             "#ed7953"
            ],
            [
             0.7777777777777778,
             "#fb9f3a"
            ],
            [
             0.8888888888888888,
             "#fdca26"
            ],
            [
             1,
             "#f0f921"
            ]
           ]
          },
          "colorway": [
           "#636efa",
           "#EF553B",
           "#00cc96",
           "#ab63fa",
           "#FFA15A",
           "#19d3f3",
           "#FF6692",
           "#B6E880",
           "#FF97FF",
           "#FECB52"
          ],
          "font": {
           "color": "#2a3f5f"
          },
          "geo": {
           "bgcolor": "white",
           "lakecolor": "white",
           "landcolor": "#E5ECF6",
           "showlakes": true,
           "showland": true,
           "subunitcolor": "white"
          },
          "hoverlabel": {
           "align": "left"
          },
          "hovermode": "closest",
          "mapbox": {
           "style": "light"
          },
          "paper_bgcolor": "white",
          "plot_bgcolor": "#E5ECF6",
          "polar": {
           "angularaxis": {
            "gridcolor": "white",
            "linecolor": "white",
            "ticks": ""
           },
           "bgcolor": "#E5ECF6",
           "radialaxis": {
            "gridcolor": "white",
            "linecolor": "white",
            "ticks": ""
           }
          },
          "scene": {
           "xaxis": {
            "backgroundcolor": "#E5ECF6",
            "gridcolor": "white",
            "gridwidth": 2,
            "linecolor": "white",
            "showbackground": true,
            "ticks": "",
            "zerolinecolor": "white"
           },
           "yaxis": {
            "backgroundcolor": "#E5ECF6",
            "gridcolor": "white",
            "gridwidth": 2,
            "linecolor": "white",
            "showbackground": true,
            "ticks": "",
            "zerolinecolor": "white"
           },
           "zaxis": {
            "backgroundcolor": "#E5ECF6",
            "gridcolor": "white",
            "gridwidth": 2,
            "linecolor": "white",
            "showbackground": true,
            "ticks": "",
            "zerolinecolor": "white"
           }
          },
          "shapedefaults": {
           "line": {
            "color": "#2a3f5f"
           }
          },
          "ternary": {
           "aaxis": {
            "gridcolor": "white",
            "linecolor": "white",
            "ticks": ""
           },
           "baxis": {
            "gridcolor": "white",
            "linecolor": "white",
            "ticks": ""
           },
           "bgcolor": "#E5ECF6",
           "caxis": {
            "gridcolor": "white",
            "linecolor": "white",
            "ticks": ""
           }
          },
          "title": {
           "x": 0.05
          },
          "xaxis": {
           "automargin": true,
           "gridcolor": "white",
           "linecolor": "white",
           "ticks": "",
           "title": {
            "standoff": 15
           },
           "zerolinecolor": "white",
           "zerolinewidth": 2
          },
          "yaxis": {
           "automargin": true,
           "gridcolor": "white",
           "linecolor": "white",
           "ticks": "",
           "title": {
            "standoff": 15
           },
           "zerolinecolor": "white",
           "zerolinewidth": 2
          }
         }
        },
        "title": {
         "text": "Tweets percentage classified by sentiment - Fake Covid-19 dataset"
        }
       }
      },
      "text/html": [
       "<div>                            <div id=\"a38bc6a2-631b-4932-bba7-ca53b9becac4\" class=\"plotly-graph-div\" style=\"height:525px; width:100%;\"></div>            <script type=\"text/javascript\">                require([\"plotly\"], function(Plotly) {                    window.PLOTLYENV=window.PLOTLYENV || {};                                    if (document.getElementById(\"a38bc6a2-631b-4932-bba7-ca53b9becac4\")) {                    Plotly.newPlot(                        \"a38bc6a2-631b-4932-bba7-ca53b9becac4\",                        [{\"domain\": {\"x\": [0.0, 1.0], \"y\": [0.0, 1.0]}, \"hovertemplate\": \"Category=%{label}<br>Count=%{value}<extra></extra>\", \"labels\": [\"Positive\", \"Neutral\", \"Negative\"], \"legendgroup\": \"\", \"marker\": {\"colors\": [\"#1AFF1A\", \"#005AB5\", \"#DC3220\"], \"line\": {\"color\": \"#000000\", \"width\": 0.8}}, \"name\": \"\", \"showlegend\": true, \"sort\": false, \"textfont\": {\"size\": 15}, \"textinfo\": \"percent+label\", \"textposition\": \"inside\", \"type\": \"pie\", \"values\": [601, 294, 559]}],                        {\"legend\": {\"tracegroupgap\": 0}, \"template\": {\"data\": {\"bar\": [{\"error_x\": {\"color\": \"#2a3f5f\"}, \"error_y\": {\"color\": \"#2a3f5f\"}, \"marker\": {\"line\": {\"color\": \"#E5ECF6\", \"width\": 0.5}}, \"type\": \"bar\"}], \"barpolar\": [{\"marker\": {\"line\": {\"color\": \"#E5ECF6\", \"width\": 0.5}}, \"type\": \"barpolar\"}], \"carpet\": [{\"aaxis\": {\"endlinecolor\": \"#2a3f5f\", \"gridcolor\": \"white\", \"linecolor\": \"white\", \"minorgridcolor\": \"white\", \"startlinecolor\": \"#2a3f5f\"}, \"baxis\": {\"endlinecolor\": \"#2a3f5f\", \"gridcolor\": \"white\", \"linecolor\": \"white\", \"minorgridcolor\": \"white\", \"startlinecolor\": \"#2a3f5f\"}, \"type\": \"carpet\"}], \"choropleth\": [{\"colorbar\": {\"outlinewidth\": 0, \"ticks\": \"\"}, \"type\": \"choropleth\"}], \"contour\": [{\"colorbar\": {\"outlinewidth\": 0, \"ticks\": \"\"}, \"colorscale\": [[0.0, \"#0d0887\"], [0.1111111111111111, \"#46039f\"], [0.2222222222222222, \"#7201a8\"], [0.3333333333333333, \"#9c179e\"], [0.4444444444444444, \"#bd3786\"], [0.5555555555555556, \"#d8576b\"], [0.6666666666666666, \"#ed7953\"], [0.7777777777777778, \"#fb9f3a\"], [0.8888888888888888, \"#fdca26\"], [1.0, \"#f0f921\"]], \"type\": \"contour\"}], \"contourcarpet\": [{\"colorbar\": {\"outlinewidth\": 0, \"ticks\": \"\"}, \"type\": \"contourcarpet\"}], \"heatmap\": [{\"colorbar\": {\"outlinewidth\": 0, \"ticks\": \"\"}, \"colorscale\": [[0.0, \"#0d0887\"], [0.1111111111111111, \"#46039f\"], [0.2222222222222222, \"#7201a8\"], [0.3333333333333333, \"#9c179e\"], [0.4444444444444444, \"#bd3786\"], [0.5555555555555556, \"#d8576b\"], [0.6666666666666666, \"#ed7953\"], [0.7777777777777778, \"#fb9f3a\"], [0.8888888888888888, \"#fdca26\"], [1.0, \"#f0f921\"]], \"type\": \"heatmap\"}], \"heatmapgl\": [{\"colorbar\": {\"outlinewidth\": 0, \"ticks\": \"\"}, \"colorscale\": [[0.0, \"#0d0887\"], [0.1111111111111111, \"#46039f\"], [0.2222222222222222, \"#7201a8\"], [0.3333333333333333, \"#9c179e\"], [0.4444444444444444, \"#bd3786\"], [0.5555555555555556, \"#d8576b\"], [0.6666666666666666, \"#ed7953\"], [0.7777777777777778, \"#fb9f3a\"], [0.8888888888888888, \"#fdca26\"], [1.0, \"#f0f921\"]], \"type\": \"heatmapgl\"}], \"histogram\": [{\"marker\": {\"colorbar\": {\"outlinewidth\": 0, \"ticks\": \"\"}}, \"type\": \"histogram\"}], \"histogram2d\": [{\"colorbar\": {\"outlinewidth\": 0, \"ticks\": \"\"}, \"colorscale\": [[0.0, \"#0d0887\"], [0.1111111111111111, \"#46039f\"], [0.2222222222222222, \"#7201a8\"], [0.3333333333333333, \"#9c179e\"], [0.4444444444444444, \"#bd3786\"], [0.5555555555555556, \"#d8576b\"], [0.6666666666666666, \"#ed7953\"], [0.7777777777777778, \"#fb9f3a\"], [0.8888888888888888, \"#fdca26\"], [1.0, \"#f0f921\"]], \"type\": \"histogram2d\"}], \"histogram2dcontour\": [{\"colorbar\": {\"outlinewidth\": 0, \"ticks\": \"\"}, \"colorscale\": [[0.0, \"#0d0887\"], [0.1111111111111111, \"#46039f\"], [0.2222222222222222, \"#7201a8\"], [0.3333333333333333, \"#9c179e\"], [0.4444444444444444, \"#bd3786\"], [0.5555555555555556, \"#d8576b\"], [0.6666666666666666, \"#ed7953\"], [0.7777777777777778, \"#fb9f3a\"], [0.8888888888888888, \"#fdca26\"], [1.0, \"#f0f921\"]], \"type\": \"histogram2dcontour\"}], \"mesh3d\": [{\"colorbar\": {\"outlinewidth\": 0, \"ticks\": \"\"}, \"type\": \"mesh3d\"}], \"parcoords\": [{\"line\": {\"colorbar\": {\"outlinewidth\": 0, \"ticks\": \"\"}}, \"type\": \"parcoords\"}], \"pie\": [{\"automargin\": true, \"type\": \"pie\"}], \"scatter\": [{\"marker\": {\"colorbar\": {\"outlinewidth\": 0, \"ticks\": \"\"}}, \"type\": \"scatter\"}], \"scatter3d\": [{\"line\": {\"colorbar\": {\"outlinewidth\": 0, \"ticks\": \"\"}}, \"marker\": {\"colorbar\": {\"outlinewidth\": 0, \"ticks\": \"\"}}, \"type\": \"scatter3d\"}], \"scattercarpet\": [{\"marker\": {\"colorbar\": {\"outlinewidth\": 0, \"ticks\": \"\"}}, \"type\": \"scattercarpet\"}], \"scattergeo\": [{\"marker\": {\"colorbar\": {\"outlinewidth\": 0, \"ticks\": \"\"}}, \"type\": \"scattergeo\"}], \"scattergl\": [{\"marker\": {\"colorbar\": {\"outlinewidth\": 0, \"ticks\": \"\"}}, \"type\": \"scattergl\"}], \"scattermapbox\": [{\"marker\": {\"colorbar\": {\"outlinewidth\": 0, \"ticks\": \"\"}}, \"type\": \"scattermapbox\"}], \"scatterpolar\": [{\"marker\": {\"colorbar\": {\"outlinewidth\": 0, \"ticks\": \"\"}}, \"type\": \"scatterpolar\"}], \"scatterpolargl\": [{\"marker\": {\"colorbar\": {\"outlinewidth\": 0, \"ticks\": \"\"}}, \"type\": \"scatterpolargl\"}], \"scatterternary\": [{\"marker\": {\"colorbar\": {\"outlinewidth\": 0, \"ticks\": \"\"}}, \"type\": \"scatterternary\"}], \"surface\": [{\"colorbar\": {\"outlinewidth\": 0, \"ticks\": \"\"}, \"colorscale\": [[0.0, \"#0d0887\"], [0.1111111111111111, \"#46039f\"], [0.2222222222222222, \"#7201a8\"], [0.3333333333333333, \"#9c179e\"], [0.4444444444444444, \"#bd3786\"], [0.5555555555555556, \"#d8576b\"], [0.6666666666666666, \"#ed7953\"], [0.7777777777777778, \"#fb9f3a\"], [0.8888888888888888, \"#fdca26\"], [1.0, \"#f0f921\"]], \"type\": \"surface\"}], \"table\": [{\"cells\": {\"fill\": {\"color\": \"#EBF0F8\"}, \"line\": {\"color\": \"white\"}}, \"header\": {\"fill\": {\"color\": \"#C8D4E3\"}, \"line\": {\"color\": \"white\"}}, \"type\": \"table\"}]}, \"layout\": {\"annotationdefaults\": {\"arrowcolor\": \"#2a3f5f\", \"arrowhead\": 0, \"arrowwidth\": 1}, \"autotypenumbers\": \"strict\", \"coloraxis\": {\"colorbar\": {\"outlinewidth\": 0, \"ticks\": \"\"}}, \"colorscale\": {\"diverging\": [[0, \"#8e0152\"], [0.1, \"#c51b7d\"], [0.2, \"#de77ae\"], [0.3, \"#f1b6da\"], [0.4, \"#fde0ef\"], [0.5, \"#f7f7f7\"], [0.6, \"#e6f5d0\"], [0.7, \"#b8e186\"], [0.8, \"#7fbc41\"], [0.9, \"#4d9221\"], [1, \"#276419\"]], \"sequential\": [[0.0, \"#0d0887\"], [0.1111111111111111, \"#46039f\"], [0.2222222222222222, \"#7201a8\"], [0.3333333333333333, \"#9c179e\"], [0.4444444444444444, \"#bd3786\"], [0.5555555555555556, \"#d8576b\"], [0.6666666666666666, \"#ed7953\"], [0.7777777777777778, \"#fb9f3a\"], [0.8888888888888888, \"#fdca26\"], [1.0, \"#f0f921\"]], \"sequentialminus\": [[0.0, \"#0d0887\"], [0.1111111111111111, \"#46039f\"], [0.2222222222222222, \"#7201a8\"], [0.3333333333333333, \"#9c179e\"], [0.4444444444444444, \"#bd3786\"], [0.5555555555555556, \"#d8576b\"], [0.6666666666666666, \"#ed7953\"], [0.7777777777777778, \"#fb9f3a\"], [0.8888888888888888, \"#fdca26\"], [1.0, \"#f0f921\"]]}, \"colorway\": [\"#636efa\", \"#EF553B\", \"#00cc96\", \"#ab63fa\", \"#FFA15A\", \"#19d3f3\", \"#FF6692\", \"#B6E880\", \"#FF97FF\", \"#FECB52\"], \"font\": {\"color\": \"#2a3f5f\"}, \"geo\": {\"bgcolor\": \"white\", \"lakecolor\": \"white\", \"landcolor\": \"#E5ECF6\", \"showlakes\": true, \"showland\": true, \"subunitcolor\": \"white\"}, \"hoverlabel\": {\"align\": \"left\"}, \"hovermode\": \"closest\", \"mapbox\": {\"style\": \"light\"}, \"paper_bgcolor\": \"white\", \"plot_bgcolor\": \"#E5ECF6\", \"polar\": {\"angularaxis\": {\"gridcolor\": \"white\", \"linecolor\": \"white\", \"ticks\": \"\"}, \"bgcolor\": \"#E5ECF6\", \"radialaxis\": {\"gridcolor\": \"white\", \"linecolor\": \"white\", \"ticks\": \"\"}}, \"scene\": {\"xaxis\": {\"backgroundcolor\": \"#E5ECF6\", \"gridcolor\": \"white\", \"gridwidth\": 2, \"linecolor\": \"white\", \"showbackground\": true, \"ticks\": \"\", \"zerolinecolor\": \"white\"}, \"yaxis\": {\"backgroundcolor\": \"#E5ECF6\", \"gridcolor\": \"white\", \"gridwidth\": 2, \"linecolor\": \"white\", \"showbackground\": true, \"ticks\": \"\", \"zerolinecolor\": \"white\"}, \"zaxis\": {\"backgroundcolor\": \"#E5ECF6\", \"gridcolor\": \"white\", \"gridwidth\": 2, \"linecolor\": \"white\", \"showbackground\": true, \"ticks\": \"\", \"zerolinecolor\": \"white\"}}, \"shapedefaults\": {\"line\": {\"color\": \"#2a3f5f\"}}, \"ternary\": {\"aaxis\": {\"gridcolor\": \"white\", \"linecolor\": \"white\", \"ticks\": \"\"}, \"baxis\": {\"gridcolor\": \"white\", \"linecolor\": \"white\", \"ticks\": \"\"}, \"bgcolor\": \"#E5ECF6\", \"caxis\": {\"gridcolor\": \"white\", \"linecolor\": \"white\", \"ticks\": \"\"}}, \"title\": {\"x\": 0.05}, \"xaxis\": {\"automargin\": true, \"gridcolor\": \"white\", \"linecolor\": \"white\", \"ticks\": \"\", \"title\": {\"standoff\": 15}, \"zerolinecolor\": \"white\", \"zerolinewidth\": 2}, \"yaxis\": {\"automargin\": true, \"gridcolor\": \"white\", \"linecolor\": \"white\", \"ticks\": \"\", \"title\": {\"standoff\": 15}, \"zerolinecolor\": \"white\", \"zerolinewidth\": 2}}}, \"title\": {\"text\": \"Tweets percentage classified by sentiment - Fake Covid-19 dataset\"}},                        {\"responsive\": true}                    ).then(function(){\n",
       "                            \n",
       "var gd = document.getElementById('a38bc6a2-631b-4932-bba7-ca53b9becac4');\n",
       "var x = new MutationObserver(function (mutations, observer) {{\n",
       "        var display = window.getComputedStyle(gd).display;\n",
       "        if (!display || display === 'none') {{\n",
       "            console.log([gd, 'removed!']);\n",
       "            Plotly.purge(gd);\n",
       "            observer.disconnect();\n",
       "        }}\n",
       "}});\n",
       "\n",
       "// Listen for the removal of the full notebook cells\n",
       "var notebookContainer = gd.closest('#notebook-container');\n",
       "if (notebookContainer) {{\n",
       "    x.observe(notebookContainer, {childList: true});\n",
       "}}\n",
       "\n",
       "// Listen for the clearing of the current output cell\n",
       "var outputEl = gd.closest('.output');\n",
       "if (outputEl) {{\n",
       "    x.observe(outputEl, {childList: true});\n",
       "}}\n",
       "\n",
       "                        })                };                });            </script>        </div>"
      ]
     },
     "metadata": {},
     "output_type": "display_data"
    }
   ],
   "source": [
    "colors = ['#1AFF1A', '#005AB5', '#DC3220']\n",
    "    \n",
    "fig_fake1 = px.pie(df_fake1, values='Count', names='Category',\n",
    "             title='Tweets percentage classified by sentiment - Fake Covid-19 dataset')\n",
    "fig_fake1.update_traces(sort=False,textposition='inside', textinfo='percent+label',textfont_size=15,\n",
    "                  marker=dict(colors=colors, line=dict(color='#000000', width=0.8)))\n",
    "fig_fake1.show()"
   ]
  },
  {
   "cell_type": "markdown",
   "id": "centered-cameroon",
   "metadata": {},
   "source": [
    "## Bar chart"
   ]
  },
  {
   "cell_type": "code",
   "execution_count": 20,
   "id": "scenic-credits",
   "metadata": {},
   "outputs": [
    {
     "name": "stdout",
     "output_type": "stream",
     "text": [
      "{'neg': 0.139, 'neu': 0.696, 'pos': 0.165, 'compound': 0.2023}\n",
      "{'neg': 0.0, 'neu': 1.0, 'pos': 0.0, 'compound': 0.0}\n",
      "{'neg': 0.149, 'neu': 0.851, 'pos': 0.0, 'compound': -0.4215}\n",
      "{'neg': 0.066, 'neu': 0.635, 'pos': 0.299, 'compound': 0.8481}\n",
      "{'neg': 0.0, 'neu': 0.639, 'pos': 0.361, 'compound': 0.8834}\n",
      "{'neg': 0.123, 'neu': 0.846, 'pos': 0.031, 'compound': -0.5849}\n",
      "{'neg': 0.156, 'neu': 0.844, 'pos': 0.0, 'compound': -0.4588}\n",
      "{'neg': 0.0, 'neu': 0.781, 'pos': 0.219, 'compound': 0.8807}\n",
      "{'neg': 0.0, 'neu': 0.967, 'pos': 0.033, 'compound': 0.0772}\n",
      "{'neg': 0.055, 'neu': 0.823, 'pos': 0.122, 'compound': 0.4939}\n",
      "{'neg': 0.0, 'neu': 1.0, 'pos': 0.0, 'compound': 0.0}\n",
      "{'neg': 0.0, 'neu': 0.933, 'pos': 0.067, 'compound': 0.3818}\n",
      "{'neg': 0.22, 'neu': 0.78, 'pos': 0.0, 'compound': -0.8834}\n",
      "{'neg': 0.0, 'neu': 1.0, 'pos': 0.0, 'compound': 0.0}\n",
      "{'neg': 0.078, 'neu': 0.922, 'pos': 0.0, 'compound': -0.296}\n",
      "{'neg': 0.177, 'neu': 0.823, 'pos': 0.0, 'compound': -0.743}\n",
      "{'neg': 0.0, 'neu': 1.0, 'pos': 0.0, 'compound': 0.0}\n",
      "{'neg': 0.064, 'neu': 0.862, 'pos': 0.074, 'compound': 0.1169}\n",
      "{'neg': 0.157, 'neu': 0.843, 'pos': 0.0, 'compound': -0.3818}\n",
      "{'neg': 0.0, 'neu': 0.956, 'pos': 0.044, 'compound': 0.1655}\n",
      "{'neg': 0.0, 'neu': 0.952, 'pos': 0.048, 'compound': 0.1531}\n",
      "{'neg': 0.0, 'neu': 0.682, 'pos': 0.318, 'compound': 0.6808}\n",
      "{'neg': 0.0, 'neu': 1.0, 'pos': 0.0, 'compound': 0.0}\n",
      "{'neg': 0.0, 'neu': 0.833, 'pos': 0.167, 'compound': 0.4939}\n",
      "{'neg': 0.128, 'neu': 0.718, 'pos': 0.153, 'compound': 0.0772}\n",
      "{'neg': 0.0, 'neu': 1.0, 'pos': 0.0, 'compound': 0.0}\n",
      "{'neg': 0.102, 'neu': 0.855, 'pos': 0.043, 'compound': -0.2716}\n",
      "{'neg': 0.062, 'neu': 0.789, 'pos': 0.149, 'compound': 0.4779}\n",
      "{'neg': 0.0, 'neu': 1.0, 'pos': 0.0, 'compound': 0.0}\n",
      "{'neg': 0.054, 'neu': 0.762, 'pos': 0.184, 'compound': 0.5994}\n",
      "{'neg': 0.103, 'neu': 0.732, 'pos': 0.165, 'compound': 0.5719}\n",
      "{'neg': 0.085, 'neu': 0.844, 'pos': 0.071, 'compound': -0.1139}\n",
      "{'neg': 0.161, 'neu': 0.839, 'pos': 0.0, 'compound': -0.7717}\n",
      "{'neg': 0.0, 'neu': 1.0, 'pos': 0.0, 'compound': 0.0}\n",
      "{'neg': 0.221, 'neu': 0.712, 'pos': 0.067, 'compound': -0.4754}\n",
      "{'neg': 0.0, 'neu': 0.872, 'pos': 0.128, 'compound': 0.6124}\n",
      "{'neg': 0.0, 'neu': 1.0, 'pos': 0.0, 'compound': 0.0}\n",
      "{'neg': 0.046, 'neu': 0.895, 'pos': 0.059, 'compound': 0.1027}\n",
      "{'neg': 0.313, 'neu': 0.687, 'pos': 0.0, 'compound': -0.9081}\n",
      "{'neg': 0.059, 'neu': 0.907, 'pos': 0.035, 'compound': -0.1154}\n",
      "{'neg': 0.257, 'neu': 0.743, 'pos': 0.0, 'compound': -0.743}\n",
      "{'neg': 0.299, 'neu': 0.675, 'pos': 0.027, 'compound': -0.9062}\n",
      "{'neg': 0.0, 'neu': 1.0, 'pos': 0.0, 'compound': 0.0}\n",
      "{'neg': 0.0, 'neu': 1.0, 'pos': 0.0, 'compound': 0.0}\n",
      "{'neg': 0.0, 'neu': 1.0, 'pos': 0.0, 'compound': 0.0}\n",
      "{'neg': 0.0, 'neu': 0.426, 'pos': 0.574, 'compound': 0.4019}\n",
      "{'neg': 0.0, 'neu': 0.799, 'pos': 0.201, 'compound': 0.7783}\n",
      "{'neg': 0.0, 'neu': 1.0, 'pos': 0.0, 'compound': 0.0}\n",
      "{'neg': 0.147, 'neu': 0.588, 'pos': 0.265, 'compound': 0.6816}\n",
      "{'neg': 0.0, 'neu': 0.917, 'pos': 0.083, 'compound': 0.25}\n",
      "{'neg': 0.045, 'neu': 0.955, 'pos': 0.0, 'compound': -0.1901}\n",
      "{'neg': 0.0, 'neu': 0.931, 'pos': 0.069, 'compound': 0.4404}\n",
      "{'neg': 0.0, 'neu': 0.79, 'pos': 0.21, 'compound': 0.8176}\n",
      "{'neg': 0.0, 'neu': 1.0, 'pos': 0.0, 'compound': 0.0}\n",
      "{'neg': 0.209, 'neu': 0.791, 'pos': 0.0, 'compound': -0.6597}\n",
      "{'neg': 0.0, 'neu': 1.0, 'pos': 0.0, 'compound': 0.0}\n",
      "{'neg': 0.0, 'neu': 1.0, 'pos': 0.0, 'compound': 0.0}\n",
      "{'neg': 0.094, 'neu': 0.906, 'pos': 0.0, 'compound': -0.34}\n",
      "{'neg': 0.084, 'neu': 0.916, 'pos': 0.0, 'compound': -0.4767}\n",
      "{'neg': 0.0, 'neu': 0.87, 'pos': 0.13, 'compound': 0.2023}\n",
      "{'neg': 0.11, 'neu': 0.816, 'pos': 0.074, 'compound': -0.25}\n",
      "{'neg': 0.0, 'neu': 1.0, 'pos': 0.0, 'compound': 0.0}\n",
      "{'neg': 0.0, 'neu': 0.86, 'pos': 0.14, 'compound': 0.0772}\n",
      "{'neg': 0.0, 'neu': 1.0, 'pos': 0.0, 'compound': 0.0}\n",
      "{'neg': 0.0, 'neu': 0.865, 'pos': 0.135, 'compound': 0.3818}\n",
      "{'neg': 0.06, 'neu': 0.709, 'pos': 0.231, 'compound': 0.7579}\n",
      "{'neg': 0.0, 'neu': 0.808, 'pos': 0.192, 'compound': 0.765}\n",
      "{'neg': 0.106, 'neu': 0.768, 'pos': 0.127, 'compound': 0.25}\n",
      "{'neg': 0.0, 'neu': 0.803, 'pos': 0.197, 'compound': 0.4019}\n",
      "{'neg': 0.0, 'neu': 1.0, 'pos': 0.0, 'compound': 0.0}\n",
      "{'neg': 0.084, 'neu': 0.862, 'pos': 0.054, 'compound': -0.1426}\n",
      "{'neg': 0.049, 'neu': 0.951, 'pos': 0.0, 'compound': -0.3089}\n",
      "{'neg': 0.131, 'neu': 0.809, 'pos': 0.06, 'compound': -0.4019}\n",
      "{'neg': 0.117, 'neu': 0.852, 'pos': 0.031, 'compound': -0.5859}\n",
      "{'neg': 0.0, 'neu': 0.817, 'pos': 0.183, 'compound': 0.8168}\n",
      "{'neg': 0.0, 'neu': 0.602, 'pos': 0.398, 'compound': 0.6486}\n",
      "{'neg': 0.0, 'neu': 1.0, 'pos': 0.0, 'compound': 0.0}\n",
      "{'neg': 0.137, 'neu': 0.817, 'pos': 0.046, 'compound': -0.5859}\n",
      "{'neg': 0.0, 'neu': 0.862, 'pos': 0.138, 'compound': 0.6956}\n",
      "{'neg': 0.444, 'neu': 0.556, 'pos': 0.0, 'compound': -0.6124}\n",
      "{'neg': 0.0, 'neu': 0.721, 'pos': 0.279, 'compound': 0.8854}\n",
      "{'neg': 0.042, 'neu': 0.788, 'pos': 0.171, 'compound': 0.7096}\n",
      "{'neg': 0.0, 'neu': 0.654, 'pos': 0.346, 'compound': 0.8376}\n",
      "{'neg': 0.0, 'neu': 1.0, 'pos': 0.0, 'compound': 0.0}\n",
      "{'neg': 0.0, 'neu': 0.769, 'pos': 0.231, 'compound': 0.4019}\n",
      "{'neg': 0.036, 'neu': 0.828, 'pos': 0.136, 'compound': 0.7161}\n",
      "{'neg': 0.19, 'neu': 0.686, 'pos': 0.124, 'compound': -0.2204}\n",
      "{'neg': 0.095, 'neu': 0.905, 'pos': 0.0, 'compound': -0.3182}\n",
      "{'neg': 0.306, 'neu': 0.694, 'pos': 0.0, 'compound': -0.296}\n",
      "{'neg': 0.178, 'neu': 0.594, 'pos': 0.228, 'compound': 0.0258}\n",
      "{'neg': 0.0, 'neu': 1.0, 'pos': 0.0, 'compound': 0.0}\n",
      "{'neg': 0.0, 'neu': 1.0, 'pos': 0.0, 'compound': 0.0}\n",
      "{'neg': 0.054, 'neu': 0.83, 'pos': 0.116, 'compound': 0.6124}\n",
      "{'neg': 0.403, 'neu': 0.597, 'pos': 0.0, 'compound': -0.4023}\n",
      "{'neg': 0.0, 'neu': 0.811, 'pos': 0.189, 'compound': 0.7845}\n",
      "{'neg': 0.0, 'neu': 1.0, 'pos': 0.0, 'compound': 0.0}\n",
      "{'neg': 0.062, 'neu': 0.938, 'pos': 0.0, 'compound': -0.2732}\n",
      "{'neg': 0.19, 'neu': 0.734, 'pos': 0.076, 'compound': -0.5719}\n",
      "{'neg': 0.0, 'neu': 0.856, 'pos': 0.144, 'compound': 0.7498}\n",
      "{'neg': 0.268, 'neu': 0.677, 'pos': 0.055, 'compound': -0.9387}\n",
      "{'neg': 0.084, 'neu': 0.838, 'pos': 0.079, 'compound': 0.2023}\n",
      "{'neg': 0.153, 'neu': 0.847, 'pos': 0.0, 'compound': -0.4404}\n",
      "{'neg': 0.131, 'neu': 0.803, 'pos': 0.066, 'compound': -0.3557}\n",
      "{'neg': 0.0, 'neu': 1.0, 'pos': 0.0, 'compound': 0.0}\n",
      "{'neg': 0.0, 'neu': 1.0, 'pos': 0.0, 'compound': 0.0}\n",
      "{'neg': 0.0, 'neu': 1.0, 'pos': 0.0, 'compound': 0.0}\n",
      "{'neg': 0.078, 'neu': 0.922, 'pos': 0.0, 'compound': -0.4939}\n",
      "{'neg': 0.145, 'neu': 0.855, 'pos': 0.0, 'compound': -0.6996}\n",
      "{'neg': 0.05, 'neu': 0.91, 'pos': 0.04, 'compound': -0.1154}\n",
      "{'neg': 0.0, 'neu': 1.0, 'pos': 0.0, 'compound': 0.0}\n",
      "{'neg': 0.058, 'neu': 0.942, 'pos': 0.0, 'compound': -0.3818}\n",
      "{'neg': 0.249, 'neu': 0.543, 'pos': 0.207, 'compound': -0.4767}\n",
      "{'neg': 0.0, 'neu': 0.928, 'pos': 0.072, 'compound': 0.4215}\n",
      "{'neg': 0.0, 'neu': 0.931, 'pos': 0.069, 'compound': 0.3818}\n",
      "{'neg': 0.2, 'neu': 0.657, 'pos': 0.144, 'compound': -0.5106}\n",
      "{'neg': 0.0, 'neu': 1.0, 'pos': 0.0, 'compound': 0.0}\n",
      "{'neg': 0.0, 'neu': 0.777, 'pos': 0.223, 'compound': 0.5574}\n",
      "{'neg': 0.0, 'neu': 1.0, 'pos': 0.0, 'compound': 0.0}\n",
      "{'neg': 0.082, 'neu': 0.789, 'pos': 0.129, 'compound': 0.2023}\n",
      "{'neg': 0.0, 'neu': 0.785, 'pos': 0.215, 'compound': 0.5371}\n",
      "{'neg': 0.0, 'neu': 1.0, 'pos': 0.0, 'compound': 0.0}\n",
      "{'neg': 0.0, 'neu': 1.0, 'pos': 0.0, 'compound': 0.0}\n",
      "{'neg': 0.194, 'neu': 0.583, 'pos': 0.223, 'compound': 0.0772}\n",
      "{'neg': 0.0, 'neu': 1.0, 'pos': 0.0, 'compound': 0.0}\n",
      "{'neg': 0.0, 'neu': 0.764, 'pos': 0.236, 'compound': 0.5267}\n",
      "{'neg': 0.144, 'neu': 0.81, 'pos': 0.046, 'compound': -0.7043}\n",
      "{'neg': 0.177, 'neu': 0.823, 'pos': 0.0, 'compound': -0.4215}\n",
      "{'neg': 0.0, 'neu': 1.0, 'pos': 0.0, 'compound': 0.0}\n",
      "{'neg': 0.0, 'neu': 1.0, 'pos': 0.0, 'compound': 0.0}\n",
      "{'neg': 0.0, 'neu': 0.669, 'pos': 0.331, 'compound': 0.7845}\n",
      "{'neg': 0.0, 'neu': 1.0, 'pos': 0.0, 'compound': 0.0}\n",
      "{'neg': 0.0, 'neu': 0.696, 'pos': 0.304, 'compound': 0.5859}\n",
      "{'neg': 0.127, 'neu': 0.748, 'pos': 0.125, 'compound': -0.0258}\n",
      "{'neg': 0.225, 'neu': 0.775, 'pos': 0.0, 'compound': -0.8126}\n",
      "{'neg': 0.068, 'neu': 0.932, 'pos': 0.0, 'compound': -0.296}\n",
      "{'neg': 0.079, 'neu': 0.842, 'pos': 0.079, 'compound': 0.0}\n",
      "{'neg': 0.0, 'neu': 0.946, 'pos': 0.054, 'compound': 0.2263}\n",
      "{'neg': 0.0, 'neu': 0.831, 'pos': 0.169, 'compound': 0.6908}\n",
      "{'neg': 0.138, 'neu': 0.862, 'pos': 0.0, 'compound': -0.431}\n",
      "{'neg': 0.0, 'neu': 0.727, 'pos': 0.273, 'compound': 0.7845}\n",
      "{'neg': 0.245, 'neu': 0.755, 'pos': 0.0, 'compound': -0.5994}\n",
      "{'neg': 0.0, 'neu': 0.819, 'pos': 0.181, 'compound': 0.7506}\n",
      "{'neg': 0.223, 'neu': 0.681, 'pos': 0.096, 'compound': -0.7425}\n",
      "{'neg': 0.079, 'neu': 0.725, 'pos': 0.196, 'compound': 0.5994}\n",
      "{'neg': 0.286, 'neu': 0.714, 'pos': 0.0, 'compound': -0.886}\n",
      "{'neg': 0.213, 'neu': 0.787, 'pos': 0.0, 'compound': -0.4019}\n",
      "{'neg': 0.236, 'neu': 0.698, 'pos': 0.066, 'compound': -0.8519}\n",
      "{'neg': 0.059, 'neu': 0.941, 'pos': 0.0, 'compound': -0.3182}\n",
      "{'neg': 0.045, 'neu': 0.892, 'pos': 0.063, 'compound': 0.1793}\n",
      "{'neg': 0.06, 'neu': 0.906, 'pos': 0.034, 'compound': -0.2575}\n",
      "{'neg': 0.049, 'neu': 0.883, 'pos': 0.068, 'compound': -0.0598}\n",
      "{'neg': 0.0, 'neu': 0.748, 'pos': 0.252, 'compound': 0.926}\n",
      "{'neg': 0.135, 'neu': 0.769, 'pos': 0.095, 'compound': -0.128}\n"
     ]
    },
    {
     "name": "stdout",
     "output_type": "stream",
     "text": [
      "{'neg': 0.207, 'neu': 0.793, 'pos': 0.0, 'compound': -0.8555}\n",
      "{'neg': 0.0, 'neu': 0.838, 'pos': 0.162, 'compound': 0.6808}\n",
      "{'neg': 0.0, 'neu': 0.769, 'pos': 0.231, 'compound': 0.4019}\n",
      "{'neg': 0.279, 'neu': 0.465, 'pos': 0.256, 'compound': -0.0772}\n",
      "{'neg': 0.0, 'neu': 0.907, 'pos': 0.093, 'compound': 0.5574}\n",
      "{'neg': 0.203, 'neu': 0.797, 'pos': 0.0, 'compound': -0.7506}\n",
      "{'neg': 0.168, 'neu': 0.762, 'pos': 0.07, 'compound': -0.4767}\n",
      "{'neg': 0.095, 'neu': 0.859, 'pos': 0.046, 'compound': -0.3818}\n",
      "{'neg': 0.0, 'neu': 0.92, 'pos': 0.08, 'compound': 0.5106}\n",
      "{'neg': 0.202, 'neu': 0.699, 'pos': 0.099, 'compound': -0.4215}\n",
      "{'neg': 0.041, 'neu': 0.828, 'pos': 0.131, 'compound': 0.3502}\n",
      "{'neg': 0.091, 'neu': 0.909, 'pos': 0.0, 'compound': -0.296}\n",
      "{'neg': 0.075, 'neu': 0.925, 'pos': 0.0, 'compound': -0.296}\n",
      "{'neg': 0.0, 'neu': 0.748, 'pos': 0.252, 'compound': 0.6597}\n",
      "{'neg': 0.064, 'neu': 0.936, 'pos': 0.0, 'compound': -0.2263}\n",
      "{'neg': 0.0, 'neu': 1.0, 'pos': 0.0, 'compound': 0.0}\n",
      "{'neg': 0.0, 'neu': 0.784, 'pos': 0.216, 'compound': 0.7717}\n",
      "{'neg': 0.0, 'neu': 0.941, 'pos': 0.059, 'compound': 0.296}\n",
      "{'neg': 0.0, 'neu': 0.93, 'pos': 0.07, 'compound': 0.4357}\n",
      "{'neg': 0.066, 'neu': 0.859, 'pos': 0.075, 'compound': 0.0772}\n",
      "{'neg': 0.303, 'neu': 0.697, 'pos': 0.0, 'compound': -0.7684}\n",
      "{'neg': 0.0, 'neu': 1.0, 'pos': 0.0, 'compound': 0.0}\n",
      "{'neg': 0.112, 'neu': 0.888, 'pos': 0.0, 'compound': -0.5267}\n",
      "{'neg': 0.357, 'neu': 0.643, 'pos': 0.0, 'compound': -0.7269}\n",
      "{'neg': 0.0, 'neu': 1.0, 'pos': 0.0, 'compound': 0.0}\n",
      "{'neg': 0.0, 'neu': 1.0, 'pos': 0.0, 'compound': 0.0}\n",
      "{'neg': 0.186, 'neu': 0.665, 'pos': 0.15, 'compound': -0.0772}\n",
      "{'neg': 0.0, 'neu': 0.929, 'pos': 0.071, 'compound': 0.2263}\n",
      "{'neg': 0.0, 'neu': 0.769, 'pos': 0.231, 'compound': 0.7964}\n",
      "{'neg': 0.09, 'neu': 0.595, 'pos': 0.314, 'compound': 0.872}\n",
      "{'neg': 0.0, 'neu': 1.0, 'pos': 0.0, 'compound': 0.0}\n",
      "{'neg': 0.0, 'neu': 0.841, 'pos': 0.159, 'compound': 0.5574}\n",
      "{'neg': 0.085, 'neu': 0.915, 'pos': 0.0, 'compound': -0.5719}\n",
      "{'neg': 0.0, 'neu': 1.0, 'pos': 0.0, 'compound': 0.0}\n",
      "{'neg': 0.0, 'neu': 0.888, 'pos': 0.112, 'compound': 0.5106}\n",
      "{'neg': 0.0, 'neu': 1.0, 'pos': 0.0, 'compound': 0.0}\n",
      "{'neg': 0.087, 'neu': 0.824, 'pos': 0.089, 'compound': 0.0281}\n",
      "{'neg': 0.049, 'neu': 0.951, 'pos': 0.0, 'compound': -0.296}\n",
      "{'neg': 0.077, 'neu': 0.743, 'pos': 0.18, 'compound': 0.6486}\n",
      "{'neg': 0.077, 'neu': 0.743, 'pos': 0.18, 'compound': 0.6486}\n",
      "{'neg': 0.127, 'neu': 0.873, 'pos': 0.0, 'compound': -0.4939}\n",
      "{'neg': 0.192, 'neu': 0.604, 'pos': 0.204, 'compound': 0.1531}\n",
      "{'neg': 0.074, 'neu': 0.627, 'pos': 0.3, 'compound': 0.8074}\n",
      "{'neg': 0.062, 'neu': 0.938, 'pos': 0.0, 'compound': -0.4767}\n",
      "{'neg': 0.0, 'neu': 0.0, 'pos': 0.0, 'compound': 0.0}\n",
      "{'neg': 0.0, 'neu': 0.93, 'pos': 0.07, 'compound': 0.128}\n",
      "{'neg': 0.26, 'neu': 0.611, 'pos': 0.129, 'compound': -0.8417}\n",
      "{'neg': 0.06, 'neu': 0.814, 'pos': 0.126, 'compound': 0.4215}\n",
      "{'neg': 0.105, 'neu': 0.752, 'pos': 0.143, 'compound': 0.3612}\n",
      "{'neg': 0.0, 'neu': 0.964, 'pos': 0.036, 'compound': 0.0516}\n",
      "{'neg': 0.222, 'neu': 0.778, 'pos': 0.0, 'compound': -0.6608}\n",
      "{'neg': 0.0, 'neu': 0.87, 'pos': 0.13, 'compound': 0.6757}\n",
      "{'neg': 0.0, 'neu': 1.0, 'pos': 0.0, 'compound': 0.0}\n",
      "{'neg': 0.0, 'neu': 0.913, 'pos': 0.087, 'compound': 0.5267}\n",
      "{'neg': 0.033, 'neu': 0.902, 'pos': 0.065, 'compound': 0.3182}\n",
      "{'neg': 0.196, 'neu': 0.804, 'pos': 0.0, 'compound': -0.5994}\n",
      "{'neg': 0.0, 'neu': 0.718, 'pos': 0.282, 'compound': 0.8316}\n",
      "{'neg': 0.056, 'neu': 0.844, 'pos': 0.1, 'compound': 0.1779}\n",
      "{'neg': 0.0, 'neu': 0.909, 'pos': 0.091, 'compound': 0.2023}\n",
      "{'neg': 0.123, 'neu': 0.877, 'pos': 0.0, 'compound': -0.5423}\n",
      "{'neg': 0.064, 'neu': 0.856, 'pos': 0.08, 'compound': 0.1321}\n",
      "{'neg': 0.0, 'neu': 0.874, 'pos': 0.126, 'compound': 0.7096}\n",
      "{'neg': 0.0, 'neu': 0.787, 'pos': 0.213, 'compound': 0.5859}\n",
      "{'neg': 0.0, 'neu': 0.803, 'pos': 0.197, 'compound': 0.8225}\n",
      "{'neg': 0.0, 'neu': 0.858, 'pos': 0.142, 'compound': 0.6494}\n",
      "{'neg': 0.0, 'neu': 0.932, 'pos': 0.068, 'compound': 0.296}\n",
      "{'neg': 0.123, 'neu': 0.78, 'pos': 0.097, 'compound': -0.0772}\n",
      "{'neg': 0.0, 'neu': 1.0, 'pos': 0.0, 'compound': 0.0}\n",
      "{'neg': 0.0, 'neu': 0.876, 'pos': 0.124, 'compound': 0.6597}\n",
      "{'neg': 0.054, 'neu': 0.946, 'pos': 0.0, 'compound': -0.1419}\n",
      "{'neg': 0.351, 'neu': 0.649, 'pos': 0.0, 'compound': -0.5023}\n",
      "{'neg': 0.169, 'neu': 0.756, 'pos': 0.075, 'compound': -0.5452}\n",
      "{'neg': 0.0, 'neu': 0.862, 'pos': 0.138, 'compound': 0.5423}\n",
      "{'neg': 0.104, 'neu': 0.669, 'pos': 0.227, 'compound': 0.5106}\n",
      "{'neg': 0.0, 'neu': 0.87, 'pos': 0.13, 'compound': 0.7269}\n",
      "{'neg': 0.036, 'neu': 0.792, 'pos': 0.173, 'compound': 0.7964}\n",
      "{'neg': 0.056, 'neu': 0.81, 'pos': 0.134, 'compound': 0.4779}\n",
      "{'neg': 0.0, 'neu': 0.597, 'pos': 0.403, 'compound': 0.4019}\n",
      "{'neg': 0.109, 'neu': 0.718, 'pos': 0.174, 'compound': 0.4215}\n",
      "{'neg': 0.0, 'neu': 1.0, 'pos': 0.0, 'compound': 0.0}\n",
      "{'neg': 0.196, 'neu': 0.778, 'pos': 0.025, 'compound': -0.8316}\n",
      "{'neg': 0.0, 'neu': 0.9, 'pos': 0.1, 'compound': 0.4404}\n",
      "{'neg': 0.078, 'neu': 0.744, 'pos': 0.177, 'compound': 0.7239}\n",
      "{'neg': 0.058, 'neu': 0.842, 'pos': 0.1, 'compound': 0.2679}\n",
      "{'neg': 0.257, 'neu': 0.704, 'pos': 0.039, 'compound': -0.8885}\n",
      "{'neg': 0.223, 'neu': 0.574, 'pos': 0.204, 'compound': -0.0838}\n",
      "{'neg': 0.0, 'neu': 1.0, 'pos': 0.0, 'compound': 0.0}\n",
      "{'neg': 0.0, 'neu': 1.0, 'pos': 0.0, 'compound': 0.0}\n",
      "{'neg': 0.105, 'neu': 0.541, 'pos': 0.354, 'compound': 0.8479}\n",
      "{'neg': 0.0, 'neu': 0.816, 'pos': 0.184, 'compound': 0.4019}\n",
      "{'neg': 0.254, 'neu': 0.746, 'pos': 0.0, 'compound': -0.7003}\n",
      "{'neg': 0.229, 'neu': 0.713, 'pos': 0.058, 'compound': -0.91}\n",
      "{'neg': 0.056, 'neu': 0.704, 'pos': 0.241, 'compound': 0.8402}\n",
      "{'neg': 0.113, 'neu': 0.887, 'pos': 0.0, 'compound': -0.4939}\n",
      "{'neg': 0.0, 'neu': 0.905, 'pos': 0.095, 'compound': 0.3182}\n",
      "{'neg': 0.0, 'neu': 0.788, 'pos': 0.212, 'compound': 0.8316}\n",
      "{'neg': 0.082, 'neu': 0.667, 'pos': 0.252, 'compound': 0.6808}\n",
      "{'neg': 0.0, 'neu': 0.0, 'pos': 0.0, 'compound': 0.0}\n",
      "{'neg': 0.128, 'neu': 0.872, 'pos': 0.0, 'compound': -0.5267}\n",
      "{'neg': 0.0, 'neu': 0.921, 'pos': 0.079, 'compound': 0.0516}\n",
      "{'neg': 0.067, 'neu': 0.856, 'pos': 0.076, 'compound': 0.0772}\n",
      "{'neg': 0.0, 'neu': 0.948, 'pos': 0.052, 'compound': 0.1901}\n",
      "{'neg': 0.079, 'neu': 0.738, 'pos': 0.183, 'compound': 0.7269}\n",
      "{'neg': 0.0, 'neu': 0.756, 'pos': 0.244, 'compound': 0.8748}\n",
      "{'neg': 0.052, 'neu': 0.903, 'pos': 0.045, 'compound': -0.0772}\n",
      "{'neg': 0.0, 'neu': 1.0, 'pos': 0.0, 'compound': 0.0}\n",
      "{'neg': 0.0, 'neu': 0.906, 'pos': 0.094, 'compound': 0.6652}\n",
      "{'neg': 0.0, 'neu': 0.899, 'pos': 0.101, 'compound': 0.4215}\n",
      "{'neg': 0.059, 'neu': 0.83, 'pos': 0.111, 'compound': 0.3374}\n",
      "{'neg': 0.0, 'neu': 1.0, 'pos': 0.0, 'compound': 0.0}\n",
      "{'neg': 0.078, 'neu': 0.922, 'pos': 0.0, 'compound': -0.5106}\n",
      "{'neg': 0.163, 'neu': 0.837, 'pos': 0.0, 'compound': -0.6249}\n",
      "{'neg': 0.062, 'neu': 0.739, 'pos': 0.199, 'compound': 0.7003}\n",
      "{'neg': 0.0, 'neu': 1.0, 'pos': 0.0, 'compound': 0.0}\n",
      "{'neg': 0.104, 'neu': 0.856, 'pos': 0.04, 'compound': -0.4767}\n",
      "{'neg': 0.0, 'neu': 1.0, 'pos': 0.0, 'compound': 0.0}\n",
      "{'neg': 0.1, 'neu': 0.9, 'pos': 0.0, 'compound': -0.6249}\n",
      "{'neg': 0.033, 'neu': 0.927, 'pos': 0.041, 'compound': 0.102}\n",
      "{'neg': 0.063, 'neu': 0.882, 'pos': 0.056, 'compound': -0.0613}\n",
      "{'neg': 0.108, 'neu': 0.761, 'pos': 0.13, 'compound': 0.058}\n",
      "{'neg': 0.187, 'neu': 0.754, 'pos': 0.059, 'compound': -0.743}\n",
      "{'neg': 0.208, 'neu': 0.66, 'pos': 0.132, 'compound': -0.3612}\n",
      "{'neg': 0.0, 'neu': 1.0, 'pos': 0.0, 'compound': 0.0}\n",
      "{'neg': 0.213, 'neu': 0.787, 'pos': 0.0, 'compound': -0.4019}\n",
      "{'neg': 0.392, 'neu': 0.608, 'pos': 0.0, 'compound': -0.7269}\n",
      "{'neg': 0.0, 'neu': 1.0, 'pos': 0.0, 'compound': 0.0}\n",
      "{'neg': 0.0, 'neu': 0.86, 'pos': 0.14, 'compound': 0.6369}\n",
      "{'neg': 0.485, 'neu': 0.515, 'pos': 0.0, 'compound': -0.9432}\n",
      "{'neg': 0.106, 'neu': 0.894, 'pos': 0.0, 'compound': -0.6808}\n",
      "{'neg': 0.0, 'neu': 1.0, 'pos': 0.0, 'compound': 0.0}\n",
      "{'neg': 0.075, 'neu': 0.858, 'pos': 0.067, 'compound': -0.1027}\n",
      "{'neg': 0.1, 'neu': 0.796, 'pos': 0.104, 'compound': 0.0258}\n",
      "{'neg': 0.045, 'neu': 0.893, 'pos': 0.062, 'compound': 0.2023}\n",
      "{'neg': 0.073, 'neu': 0.927, 'pos': 0.0, 'compound': -0.296}\n",
      "{'neg': 0.0, 'neu': 1.0, 'pos': 0.0, 'compound': 0.0}\n",
      "{'neg': 0.061, 'neu': 0.818, 'pos': 0.12, 'compound': 0.3182}\n",
      "{'neg': 0.0, 'neu': 1.0, 'pos': 0.0, 'compound': 0.0}\n",
      "{'neg': 0.0, 'neu': 0.811, 'pos': 0.189, 'compound': 0.7906}\n",
      "{'neg': 0.0, 'neu': 0.712, 'pos': 0.288, 'compound': 0.836}\n",
      "{'neg': 0.043, 'neu': 0.826, 'pos': 0.131, 'compound': 0.4404}\n",
      "{'neg': 0.157, 'neu': 0.756, 'pos': 0.087, 'compound': -0.6652}\n",
      "{'neg': 0.132, 'neu': 0.868, 'pos': 0.0, 'compound': -0.4939}\n",
      "{'neg': 0.118, 'neu': 0.882, 'pos': 0.0, 'compound': -0.4215}\n",
      "{'neg': 0.0, 'neu': 0.781, 'pos': 0.219, 'compound': 0.7096}\n"
     ]
    },
    {
     "name": "stdout",
     "output_type": "stream",
     "text": [
      "{'neg': 0.155, 'neu': 0.777, 'pos': 0.068, 'compound': -0.4404}\n",
      "{'neg': 0.088, 'neu': 0.717, 'pos': 0.195, 'compound': 0.4019}\n",
      "{'neg': 0.27, 'neu': 0.73, 'pos': 0.0, 'compound': -0.9287}\n",
      "{'neg': 0.066, 'neu': 0.778, 'pos': 0.156, 'compound': 0.4588}\n",
      "{'neg': 0.0, 'neu': 1.0, 'pos': 0.0, 'compound': 0.0}\n",
      "{'neg': 0.043, 'neu': 0.766, 'pos': 0.191, 'compound': 0.7351}\n",
      "{'neg': 0.072, 'neu': 0.841, 'pos': 0.087, 'compound': 0.128}\n",
      "{'neg': 0.0, 'neu': 0.952, 'pos': 0.048, 'compound': 0.0516}\n",
      "{'neg': 0.0, 'neu': 0.874, 'pos': 0.126, 'compound': 0.6369}\n",
      "{'neg': 0.0, 'neu': 0.9, 'pos': 0.1, 'compound': 0.6369}\n",
      "{'neg': 0.0, 'neu': 0.789, 'pos': 0.211, 'compound': 0.4939}\n",
      "{'neg': 0.0, 'neu': 0.876, 'pos': 0.124, 'compound': 0.5267}\n",
      "{'neg': 0.0, 'neu': 1.0, 'pos': 0.0, 'compound': 0.0}\n",
      "{'neg': 0.0, 'neu': 1.0, 'pos': 0.0, 'compound': 0.0}\n",
      "{'neg': 0.092, 'neu': 0.875, 'pos': 0.033, 'compound': -0.34}\n",
      "{'neg': 0.134, 'neu': 0.767, 'pos': 0.099, 'compound': -0.0772}\n",
      "{'neg': 0.0, 'neu': 0.866, 'pos': 0.134, 'compound': 0.6597}\n",
      "{'neg': 0.0, 'neu': 0.721, 'pos': 0.279, 'compound': 0.7003}\n",
      "{'neg': 0.149, 'neu': 0.774, 'pos': 0.077, 'compound': -0.3195}\n",
      "{'neg': 0.213, 'neu': 0.787, 'pos': 0.0, 'compound': -0.7269}\n",
      "{'neg': 0.0, 'neu': 0.921, 'pos': 0.079, 'compound': 0.4767}\n",
      "{'neg': 0.0, 'neu': 0.955, 'pos': 0.045, 'compound': 0.2263}\n",
      "{'neg': 0.059, 'neu': 0.941, 'pos': 0.0, 'compound': -0.296}\n",
      "{'neg': 0.112, 'neu': 0.695, 'pos': 0.193, 'compound': 0.4588}\n",
      "{'neg': 0.0, 'neu': 1.0, 'pos': 0.0, 'compound': 0.0}\n",
      "{'neg': 0.211, 'neu': 0.637, 'pos': 0.152, 'compound': -0.596}\n",
      "{'neg': 0.133, 'neu': 0.867, 'pos': 0.0, 'compound': -0.25}\n",
      "{'neg': 0.0, 'neu': 0.874, 'pos': 0.126, 'compound': 0.6369}\n",
      "{'neg': 0.125, 'neu': 0.799, 'pos': 0.076, 'compound': -0.5106}\n",
      "{'neg': 0.063, 'neu': 0.937, 'pos': 0.0, 'compound': -0.3612}\n",
      "{'neg': 0.0, 'neu': 0.898, 'pos': 0.102, 'compound': 0.4963}\n",
      "{'neg': 0.095, 'neu': 0.672, 'pos': 0.232, 'compound': 0.5994}\n",
      "{'neg': 0.292, 'neu': 0.635, 'pos': 0.074, 'compound': -0.8625}\n",
      "{'neg': 0.0, 'neu': 1.0, 'pos': 0.0, 'compound': 0.0}\n",
      "{'neg': 0.0, 'neu': 0.754, 'pos': 0.246, 'compound': 0.7579}\n",
      "{'neg': 0.0, 'neu': 0.625, 'pos': 0.375, 'compound': 0.7184}\n",
      "{'neg': 0.055, 'neu': 0.798, 'pos': 0.147, 'compound': 0.4692}\n",
      "{'neg': 0.257, 'neu': 0.743, 'pos': 0.0, 'compound': -0.765}\n",
      "{'neg': 0.171, 'neu': 0.683, 'pos': 0.147, 'compound': -0.296}\n",
      "{'neg': 0.0, 'neu': 0.794, 'pos': 0.206, 'compound': 0.0772}\n",
      "{'neg': 0.353, 'neu': 0.647, 'pos': 0.0, 'compound': -0.7269}\n",
      "{'neg': 0.106, 'neu': 0.803, 'pos': 0.091, 'compound': -0.2023}\n",
      "{'neg': 0.173, 'neu': 0.793, 'pos': 0.034, 'compound': -0.7876}\n",
      "{'neg': 0.0, 'neu': 0.916, 'pos': 0.084, 'compound': 0.5106}\n",
      "{'neg': 0.297, 'neu': 0.541, 'pos': 0.162, 'compound': -0.25}\n",
      "{'neg': 0.098, 'neu': 0.873, 'pos': 0.03, 'compound': -0.4497}\n",
      "{'neg': 0.053, 'neu': 0.947, 'pos': 0.0, 'compound': -0.2023}\n",
      "{'neg': 0.235, 'neu': 0.602, 'pos': 0.162, 'compound': -0.6597}\n",
      "{'neg': 0.208, 'neu': 0.74, 'pos': 0.052, 'compound': -0.7269}\n",
      "{'neg': 0.187, 'neu': 0.733, 'pos': 0.08, 'compound': -0.5859}\n",
      "{'neg': 0.0, 'neu': 0.74, 'pos': 0.26, 'compound': 0.8817}\n",
      "{'neg': 0.053, 'neu': 0.814, 'pos': 0.133, 'compound': 0.5267}\n",
      "{'neg': 0.0, 'neu': 0.94, 'pos': 0.06, 'compound': 0.4019}\n",
      "{'neg': 0.091, 'neu': 0.764, 'pos': 0.145, 'compound': 0.296}\n",
      "{'neg': 0.265, 'neu': 0.639, 'pos': 0.096, 'compound': -0.5719}\n",
      "{'neg': 0.11, 'neu': 0.776, 'pos': 0.113, 'compound': 0.0258}\n",
      "{'neg': 0.0, 'neu': 1.0, 'pos': 0.0, 'compound': 0.0}\n",
      "{'neg': 0.0, 'neu': 0.0, 'pos': 0.0, 'compound': 0.0}\n",
      "{'neg': 0.0, 'neu': 1.0, 'pos': 0.0, 'compound': 0.0}\n",
      "{'neg': 0.065, 'neu': 0.878, 'pos': 0.057, 'compound': -0.0772}\n",
      "{'neg': 0.0, 'neu': 0.796, 'pos': 0.204, 'compound': 0.5574}\n",
      "{'neg': 0.145, 'neu': 0.812, 'pos': 0.043, 'compound': -0.5423}\n",
      "{'neg': 0.0, 'neu': 0.684, 'pos': 0.316, 'compound': 0.5719}\n",
      "{'neg': 0.078, 'neu': 0.922, 'pos': 0.0, 'compound': -0.4019}\n",
      "{'neg': 0.0, 'neu': 1.0, 'pos': 0.0, 'compound': 0.0}\n",
      "{'neg': 0.185, 'neu': 0.7, 'pos': 0.115, 'compound': -0.5574}\n",
      "{'neg': 0.122, 'neu': 0.878, 'pos': 0.0, 'compound': -0.2023}\n",
      "{'neg': 0.0, 'neu': 0.898, 'pos': 0.102, 'compound': 0.4767}\n",
      "{'neg': 0.137, 'neu': 0.707, 'pos': 0.156, 'compound': 0.2263}\n",
      "{'neg': 0.041, 'neu': 0.736, 'pos': 0.223, 'compound': 0.7845}\n",
      "{'neg': 0.056, 'neu': 0.858, 'pos': 0.086, 'compound': 0.2716}\n",
      "{'neg': 0.054, 'neu': 0.901, 'pos': 0.045, 'compound': -0.128}\n",
      "{'neg': 0.059, 'neu': 0.941, 'pos': 0.0, 'compound': -0.2235}\n",
      "{'neg': 0.133, 'neu': 0.745, 'pos': 0.122, 'compound': -0.099}\n",
      "{'neg': 0.209, 'neu': 0.791, 'pos': 0.0, 'compound': -0.4404}\n",
      "{'neg': 0.0, 'neu': 1.0, 'pos': 0.0, 'compound': 0.0}\n",
      "{'neg': 0.0, 'neu': 0.0, 'pos': 0.0, 'compound': 0.0}\n",
      "{'neg': 0.0, 'neu': 1.0, 'pos': 0.0, 'compound': 0.0}\n",
      "{'neg': 0.0, 'neu': 0.921, 'pos': 0.079, 'compound': 0.4576}\n",
      "{'neg': 0.08, 'neu': 0.92, 'pos': 0.0, 'compound': -0.2732}\n",
      "{'neg': 0.207, 'neu': 0.684, 'pos': 0.109, 'compound': -0.6596}\n",
      "{'neg': 0.0, 'neu': 1.0, 'pos': 0.0, 'compound': 0.0}\n",
      "{'neg': 0.137, 'neu': 0.81, 'pos': 0.053, 'compound': -0.5106}\n",
      "{'neg': 0.205, 'neu': 0.795, 'pos': 0.0, 'compound': -0.4767}\n",
      "{'neg': 0.265, 'neu': 0.735, 'pos': 0.0, 'compound': -0.2023}\n",
      "{'neg': 0.055, 'neu': 0.724, 'pos': 0.221, 'compound': 0.765}\n",
      "{'neg': 0.0, 'neu': 1.0, 'pos': 0.0, 'compound': 0.0}\n",
      "{'neg': 0.0, 'neu': 1.0, 'pos': 0.0, 'compound': 0.0}\n",
      "{'neg': 0.0, 'neu': 0.901, 'pos': 0.099, 'compound': 0.5423}\n",
      "{'neg': 0.167, 'neu': 0.595, 'pos': 0.238, 'compound': 0.5423}\n",
      "{'neg': 0.077, 'neu': 0.755, 'pos': 0.168, 'compound': 0.5994}\n",
      "{'neg': 0.078, 'neu': 0.766, 'pos': 0.155, 'compound': 0.2732}\n",
      "{'neg': 0.12, 'neu': 0.78, 'pos': 0.1, 'compound': -0.2263}\n",
      "{'neg': 0.285, 'neu': 0.715, 'pos': 0.0, 'compound': -0.8104}\n",
      "{'neg': 0.046, 'neu': 0.693, 'pos': 0.261, 'compound': 0.802}\n",
      "{'neg': 0.149, 'neu': 0.732, 'pos': 0.12, 'compound': -0.0516}\n",
      "{'neg': 0.039, 'neu': 0.961, 'pos': 0.0, 'compound': -0.1695}\n",
      "{'neg': 0.123, 'neu': 0.877, 'pos': 0.0, 'compound': -0.2732}\n",
      "{'neg': 0.0, 'neu': 1.0, 'pos': 0.0, 'compound': 0.0}\n",
      "{'neg': 0.132, 'neu': 0.81, 'pos': 0.057, 'compound': -0.5859}\n",
      "{'neg': 0.16, 'neu': 0.84, 'pos': 0.0, 'compound': -0.2732}\n",
      "{'neg': 0.209, 'neu': 0.791, 'pos': 0.0, 'compound': -0.6486}\n",
      "{'neg': 0.0, 'neu': 0.764, 'pos': 0.236, 'compound': 0.8357}\n",
      "{'neg': 0.227, 'neu': 0.693, 'pos': 0.081, 'compound': -0.7876}\n",
      "{'neg': 0.088, 'neu': 0.668, 'pos': 0.244, 'compound': 0.8625}\n",
      "{'neg': 0.059, 'neu': 0.884, 'pos': 0.057, 'compound': -0.0258}\n",
      "{'neg': 0.0, 'neu': 1.0, 'pos': 0.0, 'compound': 0.0}\n",
      "{'neg': 0.0, 'neu': 1.0, 'pos': 0.0, 'compound': 0.0}\n",
      "{'neg': 0.0, 'neu': 1.0, 'pos': 0.0, 'compound': 0.0}\n",
      "{'neg': 0.0, 'neu': 1.0, 'pos': 0.0, 'compound': 0.0}\n",
      "{'neg': 0.097, 'neu': 0.806, 'pos': 0.097, 'compound': 0.0}\n",
      "{'neg': 0.084, 'neu': 0.86, 'pos': 0.057, 'compound': -0.2732}\n",
      "{'neg': 0.0, 'neu': 1.0, 'pos': 0.0, 'compound': 0.0}\n",
      "{'neg': 0.068, 'neu': 0.739, 'pos': 0.193, 'compound': 0.4981}\n",
      "{'neg': 0.0, 'neu': 1.0, 'pos': 0.0, 'compound': 0.0}\n",
      "{'neg': 0.0, 'neu': 0.924, 'pos': 0.076, 'compound': 0.34}\n",
      "{'neg': 0.08, 'neu': 0.856, 'pos': 0.064, 'compound': -0.1531}\n",
      "{'neg': 0.792, 'neu': 0.208, 'pos': 0.0, 'compound': -0.5859}\n",
      "{'neg': 0.0, 'neu': 1.0, 'pos': 0.0, 'compound': 0.0}\n",
      "{'neg': 0.145, 'neu': 0.855, 'pos': 0.0, 'compound': -0.296}\n",
      "{'neg': 0.0, 'neu': 1.0, 'pos': 0.0, 'compound': 0.0}\n",
      "{'neg': 0.097, 'neu': 0.854, 'pos': 0.049, 'compound': -0.2732}\n",
      "{'neg': 0.0, 'neu': 0.931, 'pos': 0.069, 'compound': 0.3182}\n",
      "{'neg': 0.067, 'neu': 0.736, 'pos': 0.196, 'compound': 0.6369}\n",
      "{'neg': 0.0, 'neu': 0.803, 'pos': 0.197, 'compound': 0.8519}\n",
      "{'neg': 0.0, 'neu': 1.0, 'pos': 0.0, 'compound': 0.0}\n",
      "{'neg': 0.215, 'neu': 0.678, 'pos': 0.107, 'compound': -0.6486}\n",
      "{'neg': 0.311, 'neu': 0.689, 'pos': 0.0, 'compound': -0.608}\n",
      "{'neg': 0.243, 'neu': 0.757, 'pos': 0.0, 'compound': -0.7269}\n",
      "{'neg': 0.0, 'neu': 0.864, 'pos': 0.136, 'compound': 0.5106}\n",
      "{'neg': 0.069, 'neu': 0.931, 'pos': 0.0, 'compound': -0.3182}\n",
      "{'neg': 0.0, 'neu': 1.0, 'pos': 0.0, 'compound': 0.0}\n",
      "{'neg': 0.058, 'neu': 0.848, 'pos': 0.094, 'compound': 0.3818}\n",
      "{'neg': 0.0, 'neu': 1.0, 'pos': 0.0, 'compound': 0.0}\n",
      "{'neg': 0.0, 'neu': 0.79, 'pos': 0.21, 'compound': 0.8622}\n",
      "{'neg': 0.0, 'neu': 1.0, 'pos': 0.0, 'compound': 0.0}\n",
      "{'neg': 0.216, 'neu': 0.697, 'pos': 0.087, 'compound': -0.5719}\n",
      "{'neg': 0.154, 'neu': 0.757, 'pos': 0.089, 'compound': -0.4069}\n",
      "{'neg': 0.0, 'neu': 0.69, 'pos': 0.31, 'compound': 0.8402}\n",
      "{'neg': 0.067, 'neu': 0.933, 'pos': 0.0, 'compound': -0.4449}\n"
     ]
    },
    {
     "name": "stdout",
     "output_type": "stream",
     "text": [
      "{'neg': 0.099, 'neu': 0.746, 'pos': 0.156, 'compound': 0.3832}\n",
      "{'neg': 0.148, 'neu': 0.761, 'pos': 0.092, 'compound': -0.3612}\n",
      "{'neg': 0.0, 'neu': 0.837, 'pos': 0.163, 'compound': 0.7906}\n",
      "{'neg': 0.064, 'neu': 0.936, 'pos': 0.0, 'compound': -0.296}\n",
      "{'neg': 0.058, 'neu': 0.838, 'pos': 0.104, 'compound': 0.3612}\n",
      "{'neg': 0.147, 'neu': 0.714, 'pos': 0.139, 'compound': -0.0719}\n",
      "{'neg': 0.0, 'neu': 0.887, 'pos': 0.113, 'compound': 0.5719}\n",
      "{'neg': 0.0, 'neu': 0.899, 'pos': 0.101, 'compound': 0.5367}\n",
      "{'neg': 0.125, 'neu': 0.745, 'pos': 0.13, 'compound': -0.2023}\n",
      "{'neg': 0.29, 'neu': 0.657, 'pos': 0.053, 'compound': -0.9186}\n",
      "{'neg': 0.189, 'neu': 0.701, 'pos': 0.11, 'compound': -0.5719}\n",
      "{'neg': 0.0, 'neu': 0.889, 'pos': 0.111, 'compound': 0.4588}\n",
      "{'neg': 0.0, 'neu': 0.0, 'pos': 0.0, 'compound': 0.0}\n",
      "{'neg': 0.058, 'neu': 0.811, 'pos': 0.13, 'compound': 0.4215}\n",
      "{'neg': 0.102, 'neu': 0.898, 'pos': 0.0, 'compound': -0.6249}\n",
      "{'neg': 0.0, 'neu': 0.728, 'pos': 0.272, 'compound': 0.4576}\n",
      "{'neg': 0.208, 'neu': 0.549, 'pos': 0.243, 'compound': -0.1306}\n",
      "{'neg': 0.089, 'neu': 0.911, 'pos': 0.0, 'compound': -0.5994}\n",
      "{'neg': 0.081, 'neu': 0.738, 'pos': 0.181, 'compound': 0.4019}\n",
      "{'neg': 0.16, 'neu': 0.726, 'pos': 0.115, 'compound': -0.5515}\n",
      "{'neg': 0.0, 'neu': 0.46, 'pos': 0.54, 'compound': 0.5719}\n",
      "{'neg': 0.133, 'neu': 0.685, 'pos': 0.182, 'compound': 0.2878}\n",
      "{'neg': 0.0, 'neu': 0.906, 'pos': 0.094, 'compound': 0.4019}\n",
      "{'neg': 0.0, 'neu': 0.657, 'pos': 0.343, 'compound': 0.5719}\n",
      "{'neg': 0.087, 'neu': 0.913, 'pos': 0.0, 'compound': -0.296}\n",
      "{'neg': 0.172, 'neu': 0.707, 'pos': 0.12, 'compound': -0.331}\n",
      "{'neg': 0.124, 'neu': 0.71, 'pos': 0.166, 'compound': 0.228}\n",
      "{'neg': 0.0, 'neu': 0.508, 'pos': 0.492, 'compound': 0.4404}\n",
      "{'neg': 0.0, 'neu': 0.85, 'pos': 0.15, 'compound': 0.5267}\n",
      "{'neg': 0.08, 'neu': 0.851, 'pos': 0.069, 'compound': -0.128}\n",
      "{'neg': 0.0, 'neu': 1.0, 'pos': 0.0, 'compound': 0.0}\n",
      "{'neg': 0.318, 'neu': 0.682, 'pos': 0.0, 'compound': -0.3252}\n",
      "{'neg': 0.0, 'neu': 0.896, 'pos': 0.104, 'compound': 0.5574}\n",
      "{'neg': 0.074, 'neu': 0.872, 'pos': 0.054, 'compound': -0.1779}\n",
      "{'neg': 0.073, 'neu': 0.637, 'pos': 0.29, 'compound': 0.8481}\n",
      "{'neg': 0.236, 'neu': 0.633, 'pos': 0.131, 'compound': -0.3612}\n",
      "{'neg': 0.089, 'neu': 0.84, 'pos': 0.071, 'compound': -0.1779}\n",
      "{'neg': 0.164, 'neu': 0.683, 'pos': 0.153, 'compound': -0.3612}\n",
      "{'neg': 0.0, 'neu': 0.929, 'pos': 0.071, 'compound': 0.5106}\n",
      "{'neg': 0.0, 'neu': 1.0, 'pos': 0.0, 'compound': 0.0}\n",
      "{'neg': 0.0, 'neu': 0.859, 'pos': 0.141, 'compound': 0.8338}\n",
      "{'neg': 0.0, 'neu': 0.755, 'pos': 0.245, 'compound': 0.7964}\n",
      "{'neg': 0.0, 'neu': 0.936, 'pos': 0.064, 'compound': 0.3818}\n",
      "{'neg': 0.087, 'neu': 0.855, 'pos': 0.058, 'compound': -0.128}\n",
      "{'neg': 0.053, 'neu': 0.824, 'pos': 0.122, 'compound': 0.4767}\n",
      "{'neg': 0.0, 'neu': 1.0, 'pos': 0.0, 'compound': 0.0}\n",
      "{'neg': 0.0, 'neu': 1.0, 'pos': 0.0, 'compound': 0.0}\n",
      "{'neg': 0.048, 'neu': 0.891, 'pos': 0.06, 'compound': 0.1531}\n",
      "{'neg': 0.0, 'neu': 1.0, 'pos': 0.0, 'compound': 0.0}\n",
      "{'neg': 0.138, 'neu': 0.862, 'pos': 0.0, 'compound': -0.5859}\n",
      "{'neg': 0.0, 'neu': 1.0, 'pos': 0.0, 'compound': 0.0}\n",
      "{'neg': 0.136, 'neu': 0.832, 'pos': 0.031, 'compound': -0.6858}\n",
      "{'neg': 0.0, 'neu': 1.0, 'pos': 0.0, 'compound': 0.0}\n",
      "{'neg': 0.084, 'neu': 0.745, 'pos': 0.171, 'compound': 0.4215}\n",
      "{'neg': 0.051, 'neu': 0.859, 'pos': 0.091, 'compound': 0.3818}\n",
      "{'neg': 0.127, 'neu': 0.873, 'pos': 0.0, 'compound': -0.2924}\n",
      "{'neg': 0.116, 'neu': 0.776, 'pos': 0.108, 'compound': 0.1969}\n",
      "{'neg': 0.0, 'neu': 0.682, 'pos': 0.318, 'compound': 0.9365}\n",
      "{'neg': 0.0, 'neu': 1.0, 'pos': 0.0, 'compound': 0.0}\n",
      "{'neg': 0.074, 'neu': 0.823, 'pos': 0.103, 'compound': 0.184}\n",
      "{'neg': 0.0, 'neu': 0.749, 'pos': 0.251, 'compound': 0.8122}\n",
      "{'neg': 0.036, 'neu': 0.964, 'pos': 0.0, 'compound': -0.1877}\n",
      "{'neg': 0.0, 'neu': 0.854, 'pos': 0.146, 'compound': 0.5574}\n",
      "{'neg': 0.205, 'neu': 0.707, 'pos': 0.088, 'compound': -0.5106}\n",
      "{'neg': 0.081, 'neu': 0.712, 'pos': 0.207, 'compound': 0.6588}\n",
      "{'neg': 0.055, 'neu': 0.768, 'pos': 0.177, 'compound': 0.7351}\n",
      "{'neg': 0.082, 'neu': 0.694, 'pos': 0.224, 'compound': 0.5423}\n",
      "{'neg': 0.265, 'neu': 0.678, 'pos': 0.057, 'compound': -0.8698}\n",
      "{'neg': 0.092, 'neu': 0.831, 'pos': 0.077, 'compound': -0.128}\n",
      "{'neg': 0.0, 'neu': 0.929, 'pos': 0.071, 'compound': 0.4939}\n",
      "{'neg': 0.278, 'neu': 0.625, 'pos': 0.097, 'compound': -0.8698}\n",
      "{'neg': 0.456, 'neu': 0.544, 'pos': 0.0, 'compound': -0.7717}\n",
      "{'neg': 0.0, 'neu': 0.89, 'pos': 0.11, 'compound': 0.4767}\n",
      "{'neg': 0.0, 'neu': 1.0, 'pos': 0.0, 'compound': 0.0}\n",
      "{'neg': 0.094, 'neu': 0.906, 'pos': 0.0, 'compound': -0.4767}\n",
      "{'neg': 0.071, 'neu': 0.929, 'pos': 0.0, 'compound': -0.296}\n",
      "{'neg': 0.0, 'neu': 1.0, 'pos': 0.0, 'compound': 0.0}\n",
      "{'neg': 0.0, 'neu': 1.0, 'pos': 0.0, 'compound': 0.0}\n",
      "{'neg': 0.0, 'neu': 1.0, 'pos': 0.0, 'compound': 0.0}\n",
      "{'neg': 0.07, 'neu': 0.93, 'pos': 0.0, 'compound': -0.25}\n",
      "{'neg': 0.053, 'neu': 0.764, 'pos': 0.184, 'compound': 0.6705}\n",
      "{'neg': 0.0, 'neu': 0.847, 'pos': 0.153, 'compound': 0.4019}\n",
      "{'neg': 0.0, 'neu': 0.917, 'pos': 0.083, 'compound': 0.25}\n",
      "{'neg': 0.091, 'neu': 0.821, 'pos': 0.089, 'compound': -0.0258}\n",
      "{'neg': 0.0, 'neu': 0.909, 'pos': 0.091, 'compound': 0.3182}\n",
      "{'neg': 0.0, 'neu': 0.876, 'pos': 0.124, 'compound': 0.4019}\n",
      "{'neg': 0.0, 'neu': 1.0, 'pos': 0.0, 'compound': 0.0}\n",
      "{'neg': 0.0, 'neu': 0.444, 'pos': 0.556, 'compound': 0.3612}\n",
      "{'neg': 0.055, 'neu': 0.85, 'pos': 0.095, 'compound': 0.1531}\n",
      "{'neg': 0.078, 'neu': 0.777, 'pos': 0.145, 'compound': 0.4404}\n",
      "{'neg': 0.167, 'neu': 0.833, 'pos': 0.0, 'compound': -0.8126}\n",
      "{'neg': 0.07, 'neu': 0.659, 'pos': 0.271, 'compound': 0.6705}\n",
      "{'neg': 0.224, 'neu': 0.697, 'pos': 0.08, 'compound': -0.8649}\n",
      "{'neg': 0.107, 'neu': 0.686, 'pos': 0.207, 'compound': 0.7397}\n",
      "{'neg': 0.083, 'neu': 0.729, 'pos': 0.188, 'compound': 0.4939}\n",
      "{'neg': 0.234, 'neu': 0.766, 'pos': 0.0, 'compound': -0.7269}\n",
      "{'neg': 0.135, 'neu': 0.865, 'pos': 0.0, 'compound': -0.5719}\n",
      "{'neg': 0.123, 'neu': 0.827, 'pos': 0.05, 'compound': -0.5574}\n",
      "{'neg': 0.0, 'neu': 0.857, 'pos': 0.143, 'compound': 0.3612}\n",
      "{'neg': 0.162, 'neu': 0.789, 'pos': 0.049, 'compound': -0.6908}\n",
      "{'neg': 0.075, 'neu': 0.872, 'pos': 0.053, 'compound': -0.2263}\n",
      "{'neg': 0.148, 'neu': 0.721, 'pos': 0.131, 'compound': -0.2263}\n",
      "{'neg': 0.05, 'neu': 0.903, 'pos': 0.048, 'compound': -0.0258}\n",
      "{'neg': 0.306, 'neu': 0.393, 'pos': 0.301, 'compound': -0.0083}\n",
      "{'neg': 0.152, 'neu': 0.743, 'pos': 0.105, 'compound': -0.6124}\n",
      "{'neg': 0.0, 'neu': 1.0, 'pos': 0.0, 'compound': 0.0}\n",
      "{'neg': 0.0, 'neu': 1.0, 'pos': 0.0, 'compound': 0.0}\n",
      "{'neg': 0.222, 'neu': 0.778, 'pos': 0.0, 'compound': -0.9515}\n",
      "{'neg': 0.0, 'neu': 1.0, 'pos': 0.0, 'compound': 0.0}\n",
      "{'neg': 0.044, 'neu': 0.797, 'pos': 0.159, 'compound': 0.7003}\n",
      "{'neg': 0.0, 'neu': 0.815, 'pos': 0.185, 'compound': 0.8779}\n",
      "{'neg': 0.243, 'neu': 0.657, 'pos': 0.1, 'compound': -0.8316}\n",
      "{'neg': 0.225, 'neu': 0.71, 'pos': 0.065, 'compound': -0.8271}\n",
      "{'neg': 0.0, 'neu': 0.783, 'pos': 0.217, 'compound': 0.8689}\n",
      "{'neg': 0.049, 'neu': 0.951, 'pos': 0.0, 'compound': -0.296}\n",
      "{'neg': 0.082, 'neu': 0.918, 'pos': 0.0, 'compound': -0.4939}\n",
      "{'neg': 0.0, 'neu': 0.707, 'pos': 0.293, 'compound': 0.7003}\n",
      "{'neg': 0.057, 'neu': 0.888, 'pos': 0.055, 'compound': -0.0258}\n",
      "{'neg': 0.0, 'neu': 0.912, 'pos': 0.088, 'compound': 0.3612}\n",
      "{'neg': 0.0, 'neu': 1.0, 'pos': 0.0, 'compound': 0.0}\n",
      "{'neg': 0.079, 'neu': 0.921, 'pos': 0.0, 'compound': -0.2023}\n",
      "{'neg': 0.134, 'neu': 0.866, 'pos': 0.0, 'compound': -0.5859}\n",
      "{'neg': 0.241, 'neu': 0.625, 'pos': 0.135, 'compound': -0.6032}\n",
      "{'neg': 0.052, 'neu': 0.912, 'pos': 0.036, 'compound': -0.1513}\n",
      "{'neg': 0.0, 'neu': 1.0, 'pos': 0.0, 'compound': 0.0}\n",
      "{'neg': 0.115, 'neu': 0.612, 'pos': 0.274, 'compound': 0.891}\n",
      "{'neg': 0.106, 'neu': 0.894, 'pos': 0.0, 'compound': -0.2263}\n",
      "{'neg': 0.128, 'neu': 0.872, 'pos': 0.0, 'compound': -0.6486}\n",
      "{'neg': 0.0, 'neu': 1.0, 'pos': 0.0, 'compound': 0.0}\n",
      "{'neg': 0.0, 'neu': 1.0, 'pos': 0.0, 'compound': 0.0}\n",
      "{'neg': 0.0, 'neu': 1.0, 'pos': 0.0, 'compound': 0.0}\n",
      "{'neg': 0.153, 'neu': 0.847, 'pos': 0.0, 'compound': -0.4019}\n",
      "{'neg': 0.0, 'neu': 1.0, 'pos': 0.0, 'compound': 0.0}\n",
      "{'neg': 0.088, 'neu': 0.847, 'pos': 0.066, 'compound': -0.2617}\n",
      "{'neg': 0.04, 'neu': 0.96, 'pos': 0.0, 'compound': -0.2023}\n",
      "{'neg': 0.033, 'neu': 0.967, 'pos': 0.0, 'compound': -0.1027}\n",
      "{'neg': 0.22, 'neu': 0.674, 'pos': 0.106, 'compound': -0.4951}\n",
      "{'neg': 0.255, 'neu': 0.745, 'pos': 0.0, 'compound': -0.6249}\n",
      "{'neg': 0.0, 'neu': 0.847, 'pos': 0.153, 'compound': 0.5859}\n",
      "{'neg': 0.0, 'neu': 1.0, 'pos': 0.0, 'compound': 0.0}\n",
      "{'neg': 0.0, 'neu': 1.0, 'pos': 0.0, 'compound': 0.0}\n",
      "{'neg': 0.093, 'neu': 0.907, 'pos': 0.0, 'compound': -0.5122}\n",
      "{'neg': 0.0, 'neu': 0.774, 'pos': 0.226, 'compound': 0.743}\n",
      "{'neg': 0.0, 'neu': 0.915, 'pos': 0.085, 'compound': 0.3612}\n",
      "{'neg': 0.0, 'neu': 0.687, 'pos': 0.313, 'compound': 0.8834}\n",
      "{'neg': 0.07, 'neu': 0.88, 'pos': 0.05, 'compound': -0.2263}\n",
      "{'neg': 0.151, 'neu': 0.849, 'pos': 0.0, 'compound': -0.6705}\n",
      "{'neg': 0.0, 'neu': 1.0, 'pos': 0.0, 'compound': 0.0}\n",
      "{'neg': 0.0, 'neu': 1.0, 'pos': 0.0, 'compound': 0.0}\n",
      "{'neg': 0.0, 'neu': 1.0, 'pos': 0.0, 'compound': 0.0}\n",
      "{'neg': 0.084, 'neu': 0.916, 'pos': 0.0, 'compound': -0.2755}\n",
      "{'neg': 0.0, 'neu': 0.909, 'pos': 0.091, 'compound': 0.4939}\n",
      "{'neg': 0.0, 'neu': 1.0, 'pos': 0.0, 'compound': 0.0}\n",
      "{'neg': 0.247, 'neu': 0.617, 'pos': 0.136, 'compound': -0.2263}\n",
      "{'neg': 0.0, 'neu': 0.796, 'pos': 0.204, 'compound': 0.7717}\n",
      "{'neg': 0.144, 'neu': 0.814, 'pos': 0.042, 'compound': -0.6094}\n",
      "{'neg': 0.023, 'neu': 0.791, 'pos': 0.186, 'compound': 0.8271}\n"
     ]
    },
    {
     "name": "stdout",
     "output_type": "stream",
     "text": [
      "{'neg': 0.116, 'neu': 0.884, 'pos': 0.0, 'compound': -0.6597}\n",
      "{'neg': 0.0, 'neu': 0.791, 'pos': 0.209, 'compound': 0.7311}\n",
      "{'neg': 0.0, 'neu': 1.0, 'pos': 0.0, 'compound': 0.0}\n",
      "{'neg': 0.0, 'neu': 1.0, 'pos': 0.0, 'compound': 0.0}\n",
      "{'neg': 0.181, 'neu': 0.646, 'pos': 0.173, 'compound': -0.1027}\n",
      "{'neg': 0.0, 'neu': 1.0, 'pos': 0.0, 'compound': 0.0}\n",
      "{'neg': 0.0, 'neu': 0.764, 'pos': 0.236, 'compound': 0.7964}\n",
      "{'neg': 0.099, 'neu': 0.901, 'pos': 0.0, 'compound': -0.296}\n",
      "{'neg': 0.276, 'neu': 0.674, 'pos': 0.05, 'compound': -0.9201}\n",
      "{'neg': 0.0, 'neu': 1.0, 'pos': 0.0, 'compound': 0.0}\n",
      "{'neg': 0.127, 'neu': 0.81, 'pos': 0.063, 'compound': -0.3612}\n",
      "{'neg': 0.128, 'neu': 0.812, 'pos': 0.06, 'compound': -0.4423}\n",
      "{'neg': 0.073, 'neu': 0.927, 'pos': 0.0, 'compound': -0.296}\n",
      "{'neg': 0.065, 'neu': 0.935, 'pos': 0.0, 'compound': -0.3491}\n",
      "{'neg': 0.0, 'neu': 1.0, 'pos': 0.0, 'compound': 0.0}\n",
      "{'neg': 0.0, 'neu': 1.0, 'pos': 0.0, 'compound': 0.0}\n",
      "{'neg': 0.0, 'neu': 0.905, 'pos': 0.095, 'compound': 0.3182}\n",
      "{'neg': 0.069, 'neu': 0.931, 'pos': 0.0, 'compound': -0.3182}\n",
      "{'neg': 0.051, 'neu': 0.949, 'pos': 0.0, 'compound': -0.3182}\n",
      "{'neg': 0.065, 'neu': 0.935, 'pos': 0.0, 'compound': -0.25}\n",
      "{'neg': 0.0, 'neu': 0.771, 'pos': 0.229, 'compound': 0.8555}\n",
      "{'neg': 0.254, 'neu': 0.57, 'pos': 0.176, 'compound': -0.2158}\n",
      "{'neg': 0.061, 'neu': 0.939, 'pos': 0.0, 'compound': -0.296}\n",
      "{'neg': 0.135, 'neu': 0.8, 'pos': 0.065, 'compound': -0.4215}\n",
      "{'neg': 0.176, 'neu': 0.824, 'pos': 0.0, 'compound': -0.5719}\n",
      "{'neg': 0.0, 'neu': 0.856, 'pos': 0.144, 'compound': 0.4019}\n",
      "{'neg': 0.186, 'neu': 0.704, 'pos': 0.11, 'compound': -0.5181}\n",
      "{'neg': 0.102, 'neu': 0.781, 'pos': 0.117, 'compound': -0.1027}\n",
      "{'neg': 0.0, 'neu': 0.94, 'pos': 0.06, 'compound': 0.2732}\n",
      "{'neg': 0.425, 'neu': 0.274, 'pos': 0.301, 'compound': -0.2263}\n",
      "{'neg': 0.108, 'neu': 0.892, 'pos': 0.0, 'compound': -0.5256}\n",
      "{'neg': 0.073, 'neu': 0.87, 'pos': 0.057, 'compound': 0.0}\n",
      "{'neg': 0.0, 'neu': 1.0, 'pos': 0.0, 'compound': 0.0}\n",
      "{'neg': 0.109, 'neu': 0.784, 'pos': 0.107, 'compound': -0.0186}\n",
      "{'neg': 0.06, 'neu': 0.886, 'pos': 0.054, 'compound': -0.0772}\n",
      "{'neg': 0.08, 'neu': 0.767, 'pos': 0.153, 'compound': 0.3156}\n",
      "{'neg': 0.124, 'neu': 0.876, 'pos': 0.0, 'compound': -0.4767}\n",
      "{'neg': 0.0, 'neu': 1.0, 'pos': 0.0, 'compound': 0.0}\n",
      "{'neg': 0.0, 'neu': 1.0, 'pos': 0.0, 'compound': 0.0}\n",
      "{'neg': 0.0, 'neu': 1.0, 'pos': 0.0, 'compound': 0.0}\n",
      "{'neg': 0.0, 'neu': 1.0, 'pos': 0.0, 'compound': 0.0}\n",
      "{'neg': 0.049, 'neu': 0.714, 'pos': 0.237, 'compound': 0.7003}\n",
      "{'neg': 0.508, 'neu': 0.492, 'pos': 0.0, 'compound': -0.7351}\n",
      "{'neg': 0.0, 'neu': 1.0, 'pos': 0.0, 'compound': 0.0}\n",
      "{'neg': 0.218, 'neu': 0.734, 'pos': 0.048, 'compound': -0.836}\n",
      "{'neg': 0.176, 'neu': 0.824, 'pos': 0.0, 'compound': -0.7717}\n",
      "{'neg': 0.209, 'neu': 0.791, 'pos': 0.0, 'compound': -0.6486}\n",
      "{'neg': 0.31, 'neu': 0.69, 'pos': 0.0, 'compound': -0.6059}\n",
      "{'neg': 0.054, 'neu': 0.854, 'pos': 0.092, 'compound': 0.5798}\n",
      "{'neg': 0.0, 'neu': 0.855, 'pos': 0.145, 'compound': 0.6808}\n",
      "{'neg': 0.0, 'neu': 0.0, 'pos': 0.0, 'compound': 0.0}\n",
      "{'neg': 0.0, 'neu': 0.965, 'pos': 0.035, 'compound': 0.0772}\n",
      "{'neg': 0.0, 'neu': 0.834, 'pos': 0.166, 'compound': 0.6059}\n",
      "{'neg': 0.0, 'neu': 0.87, 'pos': 0.13, 'compound': 0.7506}\n",
      "{'neg': 0.0, 'neu': 0.924, 'pos': 0.076, 'compound': 0.34}\n",
      "{'neg': 0.0, 'neu': 1.0, 'pos': 0.0, 'compound': 0.0}\n",
      "{'neg': 0.0, 'neu': 0.701, 'pos': 0.299, 'compound': 0.6597}\n",
      "{'neg': 0.0, 'neu': 0.505, 'pos': 0.495, 'compound': 0.5994}\n",
      "{'neg': 0.0, 'neu': 0.855, 'pos': 0.145, 'compound': 0.6808}\n",
      "{'neg': 0.06, 'neu': 0.878, 'pos': 0.062, 'compound': 0.015}\n",
      "{'neg': 0.0, 'neu': 1.0, 'pos': 0.0, 'compound': 0.0}\n",
      "{'neg': 0.0, 'neu': 1.0, 'pos': 0.0, 'compound': 0.0}\n",
      "{'neg': 0.0, 'neu': 0.741, 'pos': 0.259, 'compound': 0.8807}\n",
      "{'neg': 0.061, 'neu': 0.939, 'pos': 0.0, 'compound': -0.3818}\n",
      "{'neg': 0.0, 'neu': 1.0, 'pos': 0.0, 'compound': 0.0}\n",
      "{'neg': 0.266, 'neu': 0.734, 'pos': 0.0, 'compound': -0.9024}\n",
      "{'neg': 0.079, 'neu': 0.921, 'pos': 0.0, 'compound': -0.0516}\n",
      "{'neg': 0.084, 'neu': 0.805, 'pos': 0.111, 'compound': -0.0772}\n",
      "{'neg': 0.128, 'neu': 0.75, 'pos': 0.122, 'compound': -0.0516}\n",
      "{'neg': 0.102, 'neu': 0.844, 'pos': 0.053, 'compound': -0.296}\n",
      "{'neg': 0.095, 'neu': 0.822, 'pos': 0.082, 'compound': 0.128}\n",
      "{'neg': 0.04, 'neu': 0.784, 'pos': 0.176, 'compound': 0.7562}\n",
      "{'neg': 0.039, 'neu': 0.859, 'pos': 0.102, 'compound': 0.4404}\n",
      "{'neg': 0.167, 'neu': 0.833, 'pos': 0.0, 'compound': -0.6124}\n",
      "{'neg': 0.0, 'neu': 0.809, 'pos': 0.191, 'compound': 0.8402}\n",
      "{'neg': 0.118, 'neu': 0.78, 'pos': 0.102, 'compound': -0.1779}\n",
      "{'neg': 0.0, 'neu': 1.0, 'pos': 0.0, 'compound': 0.0}\n",
      "{'neg': 0.073, 'neu': 0.801, 'pos': 0.126, 'compound': 0.6967}\n",
      "{'neg': 0.0, 'neu': 0.859, 'pos': 0.141, 'compound': 0.4215}\n",
      "{'neg': 0.044, 'neu': 0.84, 'pos': 0.116, 'compound': 0.5252}\n",
      "{'neg': 0.301, 'neu': 0.641, 'pos': 0.058, 'compound': -0.7885}\n",
      "{'neg': 0.239, 'neu': 0.761, 'pos': 0.0, 'compound': -0.296}\n",
      "{'neg': 0.0, 'neu': 0.967, 'pos': 0.033, 'compound': 0.0772}\n",
      "{'neg': 0.0, 'neu': 0.906, 'pos': 0.094, 'compound': 0.4404}\n",
      "{'neg': 0.0, 'neu': 0.176, 'pos': 0.824, 'compound': 0.9325}\n",
      "{'neg': 0.0, 'neu': 1.0, 'pos': 0.0, 'compound': 0.0}\n",
      "{'neg': 0.126, 'neu': 0.874, 'pos': 0.0, 'compound': -0.3818}\n",
      "{'neg': 0.0, 'neu': 1.0, 'pos': 0.0, 'compound': 0.0}\n",
      "{'neg': 0.107, 'neu': 0.893, 'pos': 0.0, 'compound': -0.4854}\n",
      "{'neg': 0.0, 'neu': 1.0, 'pos': 0.0, 'compound': 0.0}\n",
      "{'neg': 0.136, 'neu': 0.704, 'pos': 0.16, 'compound': 0.0}\n",
      "{'neg': 0.041, 'neu': 0.959, 'pos': 0.0, 'compound': -0.1531}\n",
      "{'neg': 0.0, 'neu': 0.27, 'pos': 0.73, 'compound': 0.4019}\n",
      "{'neg': 0.035, 'neu': 0.77, 'pos': 0.195, 'compound': 0.7552}\n",
      "{'neg': 0.0, 'neu': 0.931, 'pos': 0.069, 'compound': 0.6808}\n",
      "{'neg': 0.0, 'neu': 1.0, 'pos': 0.0, 'compound': 0.0}\n",
      "{'neg': 0.106, 'neu': 0.894, 'pos': 0.0, 'compound': -0.3818}\n",
      "{'neg': 0.0, 'neu': 1.0, 'pos': 0.0, 'compound': 0.0}\n",
      "{'neg': 0.0, 'neu': 1.0, 'pos': 0.0, 'compound': 0.0}\n",
      "{'neg': 0.0, 'neu': 0.629, 'pos': 0.371, 'compound': 0.7096}\n",
      "{'neg': 0.052, 'neu': 0.796, 'pos': 0.152, 'compound': 0.6478}\n",
      "{'neg': 0.108, 'neu': 0.788, 'pos': 0.103, 'compound': -0.0258}\n",
      "{'neg': 0.0, 'neu': 0.85, 'pos': 0.15, 'compound': 0.7351}\n",
      "{'neg': 0.293, 'neu': 0.372, 'pos': 0.335, 'compound': 0.1531}\n",
      "{'neg': 0.0, 'neu': 1.0, 'pos': 0.0, 'compound': 0.0}\n",
      "{'neg': 0.106, 'neu': 0.867, 'pos': 0.027, 'compound': -0.5106}\n",
      "{'neg': 0.0, 'neu': 0.738, 'pos': 0.262, 'compound': 0.7841}\n",
      "{'neg': 0.0, 'neu': 0.85, 'pos': 0.15, 'compound': 0.2921}\n",
      "{'neg': 0.0, 'neu': 0.663, 'pos': 0.337, 'compound': 0.6808}\n",
      "{'neg': 0.077, 'neu': 0.685, 'pos': 0.238, 'compound': 0.6597}\n",
      "{'neg': 0.0, 'neu': 0.93, 'pos': 0.07, 'compound': 0.4215}\n",
      "{'neg': 0.0, 'neu': 0.725, 'pos': 0.275, 'compound': 0.2263}\n",
      "{'neg': 0.082, 'neu': 0.787, 'pos': 0.131, 'compound': 0.0772}\n",
      "{'neg': 0.13, 'neu': 0.76, 'pos': 0.11, 'compound': 0.0}\n",
      "{'neg': 0.08, 'neu': 0.703, 'pos': 0.217, 'compound': 0.6705}\n",
      "{'neg': 0.367, 'neu': 0.633, 'pos': 0.0, 'compound': -0.9037}\n",
      "{'neg': 0.134, 'neu': 0.729, 'pos': 0.137, 'compound': 0.031}\n",
      "{'neg': 0.0, 'neu': 0.784, 'pos': 0.216, 'compound': 0.7964}\n",
      "{'neg': 0.157, 'neu': 0.735, 'pos': 0.109, 'compound': -0.3612}\n",
      "{'neg': 0.103, 'neu': 0.897, 'pos': 0.0, 'compound': -0.34}\n",
      "{'neg': 0.0, 'neu': 0.797, 'pos': 0.203, 'compound': 0.5574}\n",
      "{'neg': 0.048, 'neu': 0.801, 'pos': 0.152, 'compound': 0.5859}\n",
      "{'neg': 0.096, 'neu': 0.813, 'pos': 0.091, 'compound': -0.0516}\n",
      "{'neg': 0.0, 'neu': 1.0, 'pos': 0.0, 'compound': 0.0}\n",
      "{'neg': 0.0, 'neu': 0.836, 'pos': 0.164, 'compound': 0.4703}\n",
      "{'neg': 0.044, 'neu': 0.749, 'pos': 0.207, 'compound': 0.7822}\n",
      "{'neg': 0.145, 'neu': 0.738, 'pos': 0.117, 'compound': -0.25}\n",
      "{'neg': 0.081, 'neu': 0.849, 'pos': 0.07, 'compound': -0.0772}\n",
      "{'neg': 0.0, 'neu': 0.841, 'pos': 0.159, 'compound': 0.5994}\n",
      "{'neg': 0.102, 'neu': 0.898, 'pos': 0.0, 'compound': -0.3818}\n",
      "{'neg': 0.118, 'neu': 0.798, 'pos': 0.085, 'compound': -0.5228}\n",
      "{'neg': 0.0, 'neu': 0.623, 'pos': 0.377, 'compound': 0.7818}\n",
      "{'neg': 0.15, 'neu': 0.85, 'pos': 0.0, 'compound': -0.7184}\n",
      "{'neg': 0.0, 'neu': 1.0, 'pos': 0.0, 'compound': 0.0}\n",
      "{'neg': 0.0, 'neu': 1.0, 'pos': 0.0, 'compound': 0.0}\n",
      "{'neg': 0.139, 'neu': 0.861, 'pos': 0.0, 'compound': -0.4404}\n",
      "{'neg': 0.0, 'neu': 0.836, 'pos': 0.164, 'compound': 0.6486}\n",
      "{'neg': 0.127, 'neu': 0.828, 'pos': 0.044, 'compound': -0.6249}\n",
      "{'neg': 0.0, 'neu': 1.0, 'pos': 0.0, 'compound': 0.0}\n",
      "{'neg': 0.0, 'neu': 1.0, 'pos': 0.0, 'compound': 0.0}\n",
      "{'neg': 0.147, 'neu': 0.853, 'pos': 0.0, 'compound': -0.6908}\n",
      "{'neg': 0.0, 'neu': 1.0, 'pos': 0.0, 'compound': 0.0}\n"
     ]
    },
    {
     "name": "stdout",
     "output_type": "stream",
     "text": [
      "{'neg': 0.17, 'neu': 0.727, 'pos': 0.103, 'compound': -0.3995}\n",
      "{'neg': 0.179, 'neu': 0.821, 'pos': 0.0, 'compound': -0.7506}\n",
      "{'neg': 0.0, 'neu': 1.0, 'pos': 0.0, 'compound': 0.0}\n",
      "{'neg': 0.0, 'neu': 1.0, 'pos': 0.0, 'compound': 0.0}\n",
      "{'neg': 0.0, 'neu': 0.811, 'pos': 0.189, 'compound': 0.6369}\n",
      "{'neg': 0.123, 'neu': 0.877, 'pos': 0.0, 'compound': -0.2755}\n",
      "{'neg': 0.045, 'neu': 0.835, 'pos': 0.12, 'compound': 0.5423}\n",
      "{'neg': 0.132, 'neu': 0.828, 'pos': 0.04, 'compound': -0.4576}\n",
      "{'neg': 0.0, 'neu': 1.0, 'pos': 0.0, 'compound': 0.0}\n",
      "{'neg': 0.0, 'neu': 0.609, 'pos': 0.391, 'compound': 0.9254}\n",
      "{'neg': 0.0, 'neu': 1.0, 'pos': 0.0, 'compound': 0.0}\n",
      "{'neg': 0.0, 'neu': 0.577, 'pos': 0.423, 'compound': 0.8822}\n",
      "{'neg': 0.0, 'neu': 1.0, 'pos': 0.0, 'compound': 0.0}\n",
      "{'neg': 0.205, 'neu': 0.795, 'pos': 0.0, 'compound': -0.6597}\n",
      "{'neg': 0.0, 'neu': 0.902, 'pos': 0.098, 'compound': 0.0772}\n",
      "{'neg': 0.0, 'neu': 0.0, 'pos': 1.0, 'compound': 0.4588}\n",
      "{'neg': 0.082, 'neu': 0.918, 'pos': 0.0, 'compound': -0.5256}\n",
      "{'neg': 0.0, 'neu': 0.926, 'pos': 0.074, 'compound': 0.4939}\n",
      "{'neg': 0.176, 'neu': 0.824, 'pos': 0.0, 'compound': -0.8176}\n",
      "{'neg': 0.0, 'neu': 0.873, 'pos': 0.127, 'compound': 0.5859}\n",
      "{'neg': 0.125, 'neu': 0.875, 'pos': 0.0, 'compound': -0.6808}\n",
      "{'neg': 0.0, 'neu': 0.781, 'pos': 0.219, 'compound': 0.4215}\n",
      "{'neg': 0.177, 'neu': 0.823, 'pos': 0.0, 'compound': -0.8942}\n",
      "{'neg': 0.203, 'neu': 0.771, 'pos': 0.026, 'compound': -0.8658}\n",
      "{'neg': 0.066, 'neu': 0.814, 'pos': 0.119, 'compound': 0.1217}\n",
      "{'neg': 0.242, 'neu': 0.758, 'pos': 0.0, 'compound': -0.5372}\n",
      "{'neg': 0.122, 'neu': 0.878, 'pos': 0.0, 'compound': -0.4939}\n",
      "{'neg': 0.0, 'neu': 0.844, 'pos': 0.156, 'compound': 0.7096}\n",
      "{'neg': 0.0, 'neu': 1.0, 'pos': 0.0, 'compound': 0.0}\n",
      "{'neg': 0.0, 'neu': 0.94, 'pos': 0.06, 'compound': 0.3612}\n",
      "{'neg': 0.056, 'neu': 0.774, 'pos': 0.171, 'compound': 0.7783}\n",
      "{'neg': 0.0, 'neu': 1.0, 'pos': 0.0, 'compound': 0.0}\n",
      "{'neg': 0.082, 'neu': 0.85, 'pos': 0.069, 'compound': -0.1027}\n",
      "{'neg': 0.221, 'neu': 0.683, 'pos': 0.096, 'compound': -0.6796}\n",
      "{'neg': 0.103, 'neu': 0.607, 'pos': 0.29, 'compound': 0.4588}\n",
      "{'neg': 0.121, 'neu': 0.829, 'pos': 0.05, 'compound': -0.4588}\n",
      "{'neg': 0.0, 'neu': 0.874, 'pos': 0.126, 'compound': 0.6369}\n",
      "{'neg': 0.266, 'neu': 0.709, 'pos': 0.025, 'compound': -0.9354}\n",
      "{'neg': 0.133, 'neu': 0.821, 'pos': 0.046, 'compound': -0.6249}\n",
      "{'neg': 0.0, 'neu': 0.851, 'pos': 0.149, 'compound': 0.4215}\n",
      "{'neg': 0.0, 'neu': 1.0, 'pos': 0.0, 'compound': 0.0}\n",
      "{'neg': 0.0, 'neu': 0.649, 'pos': 0.351, 'compound': 0.9284}\n",
      "{'neg': 0.0, 'neu': 0.0, 'pos': 0.0, 'compound': 0.0}\n",
      "{'neg': 0.279, 'neu': 0.721, 'pos': 0.0, 'compound': -0.4767}\n",
      "{'neg': 0.0, 'neu': 1.0, 'pos': 0.0, 'compound': 0.0}\n",
      "{'neg': 0.199, 'neu': 0.741, 'pos': 0.06, 'compound': -0.7096}\n",
      "{'neg': 0.049, 'neu': 0.78, 'pos': 0.172, 'compound': 0.6486}\n",
      "{'neg': 0.06, 'neu': 0.837, 'pos': 0.103, 'compound': 0.25}\n",
      "{'neg': 0.0, 'neu': 0.69, 'pos': 0.31, 'compound': 0.5574}\n",
      "{'neg': 0.162, 'neu': 0.838, 'pos': 0.0, 'compound': -0.4404}\n",
      "{'neg': 0.095, 'neu': 0.754, 'pos': 0.151, 'compound': 0.1779}\n",
      "{'neg': 0.0, 'neu': 1.0, 'pos': 0.0, 'compound': 0.0}\n",
      "{'neg': 0.203, 'neu': 0.797, 'pos': 0.0, 'compound': -0.7269}\n",
      "{'neg': 0.0, 'neu': 1.0, 'pos': 0.0, 'compound': 0.0}\n",
      "{'neg': 0.0, 'neu': 1.0, 'pos': 0.0, 'compound': 0.0}\n",
      "{'neg': 0.179, 'neu': 0.668, 'pos': 0.153, 'compound': -0.2193}\n",
      "{'neg': 0.0, 'neu': 1.0, 'pos': 0.0, 'compound': 0.0}\n",
      "{'neg': 0.263, 'neu': 0.663, 'pos': 0.074, 'compound': -0.7269}\n",
      "{'neg': 0.0, 'neu': 0.866, 'pos': 0.134, 'compound': 0.6249}\n",
      "{'neg': 0.16, 'neu': 0.675, 'pos': 0.166, 'compound': 0.0258}\n",
      "{'neg': 0.137, 'neu': 0.683, 'pos': 0.18, 'compound': 0.34}\n",
      "{'neg': 0.147, 'neu': 0.759, 'pos': 0.094, 'compound': -0.5162}\n",
      "{'neg': 0.307, 'neu': 0.693, 'pos': 0.0, 'compound': -0.7964}\n",
      "{'neg': 0.108, 'neu': 0.758, 'pos': 0.133, 'compound': 0.2086}\n",
      "{'neg': 0.223, 'neu': 0.777, 'pos': 0.0, 'compound': -0.7096}\n",
      "{'neg': 0.0, 'neu': 0.848, 'pos': 0.152, 'compound': 0.3612}\n",
      "{'neg': 0.0, 'neu': 1.0, 'pos': 0.0, 'compound': 0.0}\n",
      "{'neg': 0.0, 'neu': 0.738, 'pos': 0.262, 'compound': 0.7506}\n",
      "{'neg': 0.0, 'neu': 1.0, 'pos': 0.0, 'compound': 0.0}\n",
      "{'neg': 0.0, 'neu': 1.0, 'pos': 0.0, 'compound': 0.0}\n",
      "{'neg': 0.0, 'neu': 1.0, 'pos': 0.0, 'compound': 0.0}\n",
      "{'neg': 0.0, 'neu': 1.0, 'pos': 0.0, 'compound': 0.0}\n",
      "{'neg': 0.073, 'neu': 0.766, 'pos': 0.161, 'compound': 0.5267}\n",
      "{'neg': 0.0, 'neu': 0.963, 'pos': 0.037, 'compound': 0.0258}\n",
      "{'neg': 0.111, 'neu': 0.782, 'pos': 0.107, 'compound': 0.2023}\n",
      "{'neg': 0.0, 'neu': 1.0, 'pos': 0.0, 'compound': 0.0}\n",
      "{'neg': 0.036, 'neu': 0.664, 'pos': 0.3, 'compound': 0.926}\n",
      "{'neg': 0.0, 'neu': 1.0, 'pos': 0.0, 'compound': 0.0}\n",
      "{'neg': 0.0, 'neu': 0.0, 'pos': 1.0, 'compound': 0.4215}\n",
      "{'neg': 0.059, 'neu': 0.751, 'pos': 0.19, 'compound': 0.7115}\n",
      "{'neg': 0.0, 'neu': 0.645, 'pos': 0.355, 'compound': 0.296}\n",
      "{'neg': 0.082, 'neu': 0.821, 'pos': 0.097, 'compound': 0.1027}\n",
      "{'neg': 0.0, 'neu': 0.83, 'pos': 0.17, 'compound': 0.4767}\n",
      "{'neg': 0.0, 'neu': 0.679, 'pos': 0.321, 'compound': 0.6369}\n",
      "{'neg': 0.0, 'neu': 0.351, 'pos': 0.649, 'compound': 0.5719}\n",
      "{'neg': 0.0, 'neu': 0.718, 'pos': 0.282, 'compound': 0.7425}\n",
      "{'neg': 0.0, 'neu': 0.791, 'pos': 0.209, 'compound': 0.7906}\n",
      "{'neg': 0.14, 'neu': 0.772, 'pos': 0.088, 'compound': -0.128}\n",
      "{'neg': 0.129, 'neu': 0.8, 'pos': 0.071, 'compound': -0.3818}\n",
      "{'neg': 0.0, 'neu': 0.876, 'pos': 0.124, 'compound': 0.4767}\n",
      "{'neg': 0.0, 'neu': 1.0, 'pos': 0.0, 'compound': 0.0}\n",
      "{'neg': 0.0, 'neu': 1.0, 'pos': 0.0, 'compound': 0.0}\n",
      "{'neg': 0.159, 'neu': 0.621, 'pos': 0.22, 'compound': 0.3325}\n",
      "{'neg': 0.0, 'neu': 0.635, 'pos': 0.365, 'compound': 0.83}\n",
      "{'neg': 0.0, 'neu': 1.0, 'pos': 0.0, 'compound': 0.0}\n",
      "{'neg': 0.201, 'neu': 0.72, 'pos': 0.079, 'compound': -0.4951}\n",
      "{'neg': 0.197, 'neu': 0.697, 'pos': 0.106, 'compound': -0.765}\n",
      "{'neg': 0.068, 'neu': 0.825, 'pos': 0.108, 'compound': 0.2263}\n",
      "{'neg': 0.0, 'neu': 0.735, 'pos': 0.265, 'compound': 0.5574}\n",
      "{'neg': 0.171, 'neu': 0.733, 'pos': 0.096, 'compound': -0.5709}\n",
      "{'neg': 0.236, 'neu': 0.569, 'pos': 0.194, 'compound': 0.031}\n",
      "{'neg': 0.064, 'neu': 0.725, 'pos': 0.212, 'compound': 0.6249}\n",
      "{'neg': 0.089, 'neu': 0.911, 'pos': 0.0, 'compound': -0.4588}\n",
      "{'neg': 0.0, 'neu': 0.954, 'pos': 0.046, 'compound': 0.0772}\n",
      "{'neg': 0.105, 'neu': 0.834, 'pos': 0.062, 'compound': -0.3384}\n",
      "{'neg': 0.056, 'neu': 0.773, 'pos': 0.172, 'compound': 0.5267}\n",
      "{'neg': 0.0, 'neu': 1.0, 'pos': 0.0, 'compound': 0.0}\n",
      "{'neg': 0.0, 'neu': 1.0, 'pos': 0.0, 'compound': 0.0}\n",
      "{'neg': 0.315, 'neu': 0.685, 'pos': 0.0, 'compound': -0.3182}\n",
      "{'neg': 0.054, 'neu': 0.946, 'pos': 0.0, 'compound': -0.2732}\n",
      "{'neg': 0.039, 'neu': 0.78, 'pos': 0.18, 'compound': 0.7003}\n",
      "{'neg': 0.0, 'neu': 0.654, 'pos': 0.346, 'compound': 0.7906}\n",
      "{'neg': 0.029, 'neu': 0.971, 'pos': 0.0, 'compound': -0.1027}\n",
      "{'neg': 0.135, 'neu': 0.714, 'pos': 0.151, 'compound': 0.1548}\n",
      "{'neg': 0.082, 'neu': 0.918, 'pos': 0.0, 'compound': -0.3818}\n",
      "{'neg': 0.064, 'neu': 0.936, 'pos': 0.0, 'compound': -0.4767}\n",
      "{'neg': 0.0, 'neu': 0.909, 'pos': 0.091, 'compound': 0.4404}\n",
      "{'neg': 0.0, 'neu': 1.0, 'pos': 0.0, 'compound': 0.0}\n",
      "{'neg': 0.0, 'neu': 1.0, 'pos': 0.0, 'compound': 0.0}\n",
      "{'neg': 0.0, 'neu': 0.925, 'pos': 0.075, 'compound': 0.2732}\n",
      "{'neg': 0.0, 'neu': 0.704, 'pos': 0.296, 'compound': 0.2732}\n",
      "{'neg': 0.051, 'neu': 0.891, 'pos': 0.057, 'compound': 0.0772}\n",
      "{'neg': 0.0, 'neu': 1.0, 'pos': 0.0, 'compound': 0.0}\n",
      "{'neg': 0.152, 'neu': 0.735, 'pos': 0.113, 'compound': -0.4263}\n",
      "{'neg': 0.092, 'neu': 0.752, 'pos': 0.156, 'compound': 0.3182}\n",
      "{'neg': 0.0, 'neu': 0.946, 'pos': 0.054, 'compound': 0.2235}\n",
      "{'neg': 0.0, 'neu': 1.0, 'pos': 0.0, 'compound': 0.0}\n",
      "{'neg': 0.088, 'neu': 0.793, 'pos': 0.119, 'compound': 0.0}\n",
      "{'neg': 0.0, 'neu': 1.0, 'pos': 0.0, 'compound': 0.0}\n",
      "{'neg': 0.163, 'neu': 0.837, 'pos': 0.0, 'compound': -0.7783}\n",
      "{'neg': 0.147, 'neu': 0.784, 'pos': 0.069, 'compound': -0.374}\n",
      "{'neg': 0.21, 'neu': 0.744, 'pos': 0.045, 'compound': -0.7269}\n",
      "{'neg': 0.0, 'neu': 0.742, 'pos': 0.258, 'compound': 0.6808}\n",
      "{'neg': 0.13, 'neu': 0.802, 'pos': 0.068, 'compound': -0.3612}\n",
      "{'neg': 0.298, 'neu': 0.702, 'pos': 0.0, 'compound': -0.7783}\n",
      "{'neg': 0.0, 'neu': 0.839, 'pos': 0.161, 'compound': 0.6908}\n",
      "{'neg': 0.0, 'neu': 1.0, 'pos': 0.0, 'compound': 0.0}\n",
      "{'neg': 0.0, 'neu': 0.854, 'pos': 0.146, 'compound': 0.6652}\n",
      "{'neg': 0.232, 'neu': 0.721, 'pos': 0.047, 'compound': -0.8591}\n",
      "{'neg': 0.099, 'neu': 0.831, 'pos': 0.07, 'compound': -0.2263}\n",
      "{'neg': 0.0, 'neu': 0.699, 'pos': 0.301, 'compound': 0.6808}\n",
      "{'neg': 0.203, 'neu': 0.541, 'pos': 0.256, 'compound': 0.6028}\n",
      "{'neg': 0.056, 'neu': 0.944, 'pos': 0.0, 'compound': -0.296}\n",
      "{'neg': 0.0, 'neu': 0.872, 'pos': 0.128, 'compound': 0.3612}\n"
     ]
    },
    {
     "name": "stdout",
     "output_type": "stream",
     "text": [
      "{'neg': 0.236, 'neu': 0.675, 'pos': 0.089, 'compound': -0.7021}\n",
      "{'neg': 0.0, 'neu': 1.0, 'pos': 0.0, 'compound': 0.0}\n",
      "{'neg': 0.111, 'neu': 0.73, 'pos': 0.159, 'compound': 0.296}\n",
      "{'neg': 0.084, 'neu': 0.916, 'pos': 0.0, 'compound': -0.5256}\n",
      "{'neg': 0.0, 'neu': 0.732, 'pos': 0.268, 'compound': 0.9022}\n",
      "{'neg': 0.171, 'neu': 0.829, 'pos': 0.0, 'compound': -0.7506}\n",
      "{'neg': 0.0, 'neu': 0.868, 'pos': 0.132, 'compound': 0.4767}\n",
      "{'neg': 0.057, 'neu': 0.883, 'pos': 0.06, 'compound': 0.0258}\n",
      "{'neg': 0.128, 'neu': 0.76, 'pos': 0.112, 'compound': -0.1027}\n",
      "{'neg': 0.0, 'neu': 1.0, 'pos': 0.0, 'compound': 0.0}\n",
      "{'neg': 0.081, 'neu': 0.919, 'pos': 0.0, 'compound': -0.296}\n",
      "{'neg': 0.0, 'neu': 0.792, 'pos': 0.208, 'compound': 0.4939}\n",
      "{'neg': 0.035, 'neu': 0.965, 'pos': 0.0, 'compound': -0.0258}\n",
      "{'neg': 0.072, 'neu': 0.688, 'pos': 0.241, 'compound': 0.7096}\n",
      "{'neg': 0.0, 'neu': 1.0, 'pos': 0.0, 'compound': 0.0}\n",
      "{'neg': 0.076, 'neu': 0.853, 'pos': 0.071, 'compound': 0.2023}\n",
      "{'neg': 0.0, 'neu': 0.852, 'pos': 0.148, 'compound': 0.3612}\n",
      "{'neg': 0.072, 'neu': 0.928, 'pos': 0.0, 'compound': -0.2755}\n",
      "{'neg': 0.106, 'neu': 0.678, 'pos': 0.215, 'compound': 0.4019}\n",
      "{'neg': 0.083, 'neu': 0.828, 'pos': 0.089, 'compound': 0.0516}\n",
      "{'neg': 0.182, 'neu': 0.818, 'pos': 0.0, 'compound': -0.836}\n",
      "{'neg': 0.082, 'neu': 0.823, 'pos': 0.095, 'compound': -0.128}\n",
      "{'neg': 0.08, 'neu': 0.92, 'pos': 0.0, 'compound': -0.3818}\n",
      "{'neg': 0.155, 'neu': 0.845, 'pos': 0.0, 'compound': -0.6705}\n",
      "{'neg': 0.213, 'neu': 0.787, 'pos': 0.0, 'compound': -0.8126}\n",
      "{'neg': 0.045, 'neu': 0.762, 'pos': 0.193, 'compound': 0.684}\n",
      "{'neg': 0.078, 'neu': 0.556, 'pos': 0.367, 'compound': 0.7351}\n",
      "{'neg': 0.0, 'neu': 1.0, 'pos': 0.0, 'compound': 0.0}\n",
      "{'neg': 0.0, 'neu': 0.902, 'pos': 0.098, 'compound': 0.5975}\n",
      "{'neg': 0.147, 'neu': 0.723, 'pos': 0.13, 'compound': 0.2846}\n",
      "{'neg': 0.034, 'neu': 0.892, 'pos': 0.073, 'compound': 0.4019}\n",
      "{'neg': 0.0, 'neu': 0.357, 'pos': 0.643, 'compound': 0.2023}\n",
      "{'neg': 0.0, 'neu': 0.955, 'pos': 0.045, 'compound': 0.2023}\n",
      "{'neg': 0.156, 'neu': 0.807, 'pos': 0.038, 'compound': -0.7425}\n",
      "{'neg': 0.099, 'neu': 0.774, 'pos': 0.128, 'compound': 0.25}\n",
      "{'neg': 0.097, 'neu': 0.796, 'pos': 0.108, 'compound': 0.128}\n",
      "{'neg': 0.086, 'neu': 0.792, 'pos': 0.122, 'compound': 0.2282}\n",
      "{'neg': 0.08, 'neu': 0.691, 'pos': 0.229, 'compound': 0.6249}\n",
      "{'neg': 0.152, 'neu': 0.621, 'pos': 0.228, 'compound': 0.2732}\n",
      "{'neg': 0.0, 'neu': 0.746, 'pos': 0.254, 'compound': 0.6249}\n",
      "{'neg': 0.128, 'neu': 0.872, 'pos': 0.0, 'compound': -0.6486}\n",
      "{'neg': 0.0, 'neu': 1.0, 'pos': 0.0, 'compound': 0.0}\n",
      "{'neg': 0.072, 'neu': 0.781, 'pos': 0.148, 'compound': 0.558}\n",
      "{'neg': 0.0, 'neu': 0.909, 'pos': 0.091, 'compound': 0.4767}\n",
      "{'neg': 0.221, 'neu': 0.779, 'pos': 0.0, 'compound': -0.9169}\n",
      "{'neg': 0.091, 'neu': 0.853, 'pos': 0.056, 'compound': -0.1749}\n",
      "{'neg': 0.133, 'neu': 0.664, 'pos': 0.203, 'compound': 0.2023}\n",
      "{'neg': 0.0, 'neu': 0.862, 'pos': 0.138, 'compound': 0.5812}\n",
      "{'neg': 0.0, 'neu': 0.966, 'pos': 0.034, 'compound': 0.0258}\n",
      "{'neg': 0.0, 'neu': 1.0, 'pos': 0.0, 'compound': 0.0}\n",
      "{'neg': 0.09, 'neu': 0.874, 'pos': 0.037, 'compound': -0.5106}\n",
      "{'neg': 0.032, 'neu': 0.905, 'pos': 0.063, 'compound': 0.3182}\n",
      "{'neg': 0.024, 'neu': 0.675, 'pos': 0.301, 'compound': 0.9349}\n",
      "{'neg': 0.0, 'neu': 0.839, 'pos': 0.161, 'compound': 0.7717}\n",
      "{'neg': 0.0, 'neu': 0.953, 'pos': 0.047, 'compound': 0.0762}\n",
      "{'neg': 0.177, 'neu': 0.734, 'pos': 0.09, 'compound': -0.296}\n",
      "{'neg': 0.064, 'neu': 0.936, 'pos': 0.0, 'compound': -0.3716}\n",
      "{'neg': 0.075, 'neu': 0.898, 'pos': 0.027, 'compound': -0.4588}\n",
      "{'neg': 0.232, 'neu': 0.768, 'pos': 0.0, 'compound': -0.83}\n",
      "{'neg': 0.0, 'neu': 0.877, 'pos': 0.123, 'compound': 0.4939}\n",
      "{'neg': 0.035, 'neu': 0.904, 'pos': 0.061, 'compound': 0.25}\n",
      "{'neg': 0.0, 'neu': 1.0, 'pos': 0.0, 'compound': 0.0}\n",
      "{'neg': 0.138, 'neu': 0.741, 'pos': 0.121, 'compound': -0.1779}\n",
      "{'neg': 0.109, 'neu': 0.792, 'pos': 0.099, 'compound': -0.0516}\n",
      "{'neg': 0.0, 'neu': 1.0, 'pos': 0.0, 'compound': 0.0}\n",
      "{'neg': 0.059, 'neu': 0.879, 'pos': 0.062, 'compound': 0.0258}\n",
      "{'neg': 0.0, 'neu': 1.0, 'pos': 0.0, 'compound': 0.0}\n",
      "{'neg': 0.12, 'neu': 0.88, 'pos': 0.0, 'compound': -0.5994}\n",
      "{'neg': 0.0, 'neu': 0.944, 'pos': 0.056, 'compound': 0.3612}\n",
      "{'neg': 0.0, 'neu': 1.0, 'pos': 0.0, 'compound': 0.0}\n",
      "{'neg': 0.092, 'neu': 0.756, 'pos': 0.151, 'compound': 0.34}\n",
      "{'neg': 0.147, 'neu': 0.853, 'pos': 0.0, 'compound': -0.4767}\n",
      "{'neg': 0.0, 'neu': 0.761, 'pos': 0.239, 'compound': 0.8176}\n",
      "{'neg': 0.0, 'neu': 1.0, 'pos': 0.0, 'compound': 0.0}\n",
      "{'neg': 0.355, 'neu': 0.645, 'pos': 0.0, 'compound': -0.5267}\n",
      "{'neg': 0.091, 'neu': 0.909, 'pos': 0.0, 'compound': -0.4939}\n",
      "{'neg': 0.0, 'neu': 0.959, 'pos': 0.041, 'compound': 0.0516}\n",
      "{'neg': 0.058, 'neu': 0.893, 'pos': 0.049, 'compound': -0.0516}\n",
      "{'neg': 0.061, 'neu': 0.78, 'pos': 0.159, 'compound': 0.4581}\n",
      "{'neg': 0.0, 'neu': 1.0, 'pos': 0.0, 'compound': 0.0}\n",
      "{'neg': 0.0, 'neu': 1.0, 'pos': 0.0, 'compound': 0.0}\n",
      "{'neg': 0.0, 'neu': 0.312, 'pos': 0.688, 'compound': 0.296}\n",
      "{'neg': 0.076, 'neu': 0.764, 'pos': 0.16, 'compound': 0.34}\n",
      "{'neg': 0.0, 'neu': 1.0, 'pos': 0.0, 'compound': 0.0}\n",
      "{'neg': 0.056, 'neu': 0.872, 'pos': 0.072, 'compound': 0.1779}\n",
      "{'neg': 0.0, 'neu': 1.0, 'pos': 0.0, 'compound': 0.0}\n",
      "{'neg': 0.119, 'neu': 0.881, 'pos': 0.0, 'compound': -0.5994}\n",
      "{'neg': 0.0, 'neu': 0.802, 'pos': 0.198, 'compound': 0.8126}\n",
      "{'neg': 0.0, 'neu': 0.776, 'pos': 0.224, 'compound': 0.5994}\n",
      "{'neg': 0.126, 'neu': 0.874, 'pos': 0.0, 'compound': -0.6369}\n",
      "{'neg': 0.185, 'neu': 0.703, 'pos': 0.112, 'compound': -0.6173}\n",
      "{'neg': 0.0, 'neu': 1.0, 'pos': 0.0, 'compound': 0.0}\n",
      "{'neg': 0.0, 'neu': 0.719, 'pos': 0.281, 'compound': 0.8225}\n",
      "{'neg': 0.0, 'neu': 0.931, 'pos': 0.069, 'compound': 0.4215}\n",
      "{'neg': 0.178, 'neu': 0.822, 'pos': 0.0, 'compound': -0.3818}\n",
      "{'neg': 0.113, 'neu': 0.828, 'pos': 0.059, 'compound': -0.128}\n",
      "{'neg': 0.128, 'neu': 0.724, 'pos': 0.148, 'compound': 0.0516}\n",
      "{'neg': 0.0, 'neu': 1.0, 'pos': 0.0, 'compound': 0.0}\n",
      "{'neg': 0.096, 'neu': 0.841, 'pos': 0.063, 'compound': -0.34}\n",
      "{'neg': 0.0, 'neu': 0.918, 'pos': 0.082, 'compound': 0.5106}\n",
      "{'neg': 0.0, 'neu': 0.786, 'pos': 0.214, 'compound': 0.8153}\n",
      "{'neg': 0.054, 'neu': 0.946, 'pos': 0.0, 'compound': -0.3252}\n",
      "{'neg': 0.0, 'neu': 0.783, 'pos': 0.217, 'compound': 0.5574}\n",
      "{'neg': 0.048, 'neu': 0.845, 'pos': 0.107, 'compound': 0.3071}\n",
      "{'neg': 0.234, 'neu': 0.766, 'pos': 0.0, 'compound': -0.6369}\n",
      "{'neg': 0.0, 'neu': 0.932, 'pos': 0.068, 'compound': 0.2263}\n",
      "{'neg': 0.069, 'neu': 0.631, 'pos': 0.3, 'compound': 0.8074}\n",
      "{'neg': 0.196, 'neu': 0.804, 'pos': 0.0, 'compound': -0.296}\n",
      "{'neg': 0.0, 'neu': 1.0, 'pos': 0.0, 'compound': 0.0}\n",
      "{'neg': 0.0, 'neu': 1.0, 'pos': 0.0, 'compound': 0.0}\n",
      "{'neg': 0.0, 'neu': 1.0, 'pos': 0.0, 'compound': 0.0}\n",
      "{'neg': 0.0, 'neu': 1.0, 'pos': 0.0, 'compound': 0.0}\n",
      "{'neg': 0.0, 'neu': 1.0, 'pos': 0.0, 'compound': 0.0}\n",
      "{'neg': 0.233, 'neu': 0.767, 'pos': 0.0, 'compound': -0.6324}\n",
      "{'neg': 0.0, 'neu': 1.0, 'pos': 0.0, 'compound': 0.0}\n",
      "{'neg': 0.0, 'neu': 0.835, 'pos': 0.165, 'compound': 0.7269}\n",
      "{'neg': 0.0, 'neu': 0.841, 'pos': 0.159, 'compound': 0.6249}\n",
      "{'neg': 0.0, 'neu': 0.873, 'pos': 0.127, 'compound': 0.6369}\n",
      "{'neg': 0.13, 'neu': 0.87, 'pos': 0.0, 'compound': -0.4019}\n",
      "{'neg': 0.071, 'neu': 0.864, 'pos': 0.065, 'compound': -0.0516}\n",
      "{'neg': 0.093, 'neu': 0.83, 'pos': 0.076, 'compound': -0.128}\n",
      "{'neg': 0.0, 'neu': 0.888, 'pos': 0.112, 'compound': 0.4404}\n",
      "{'neg': 0.072, 'neu': 0.814, 'pos': 0.114, 'compound': 0.2023}\n",
      "{'neg': 0.102, 'neu': 0.787, 'pos': 0.11, 'compound': 0.0772}\n",
      "{'neg': 0.218, 'neu': 0.59, 'pos': 0.192, 'compound': -0.046}\n",
      "{'neg': 0.064, 'neu': 0.936, 'pos': 0.0, 'compound': -0.4939}\n",
      "{'neg': 0.071, 'neu': 0.929, 'pos': 0.0, 'compound': -0.3182}\n",
      "{'neg': 0.085, 'neu': 0.915, 'pos': 0.0, 'compound': -0.34}\n",
      "{'neg': 0.199, 'neu': 0.647, 'pos': 0.154, 'compound': -0.3025}\n",
      "{'neg': 0.0, 'neu': 1.0, 'pos': 0.0, 'compound': 0.0}\n",
      "{'neg': 0.0, 'neu': 0.861, 'pos': 0.139, 'compound': 0.7783}\n",
      "{'neg': 0.0, 'neu': 1.0, 'pos': 0.0, 'compound': 0.0}\n",
      "{'neg': 0.054, 'neu': 0.886, 'pos': 0.06, 'compound': -0.1779}\n",
      "{'neg': 0.0, 'neu': 0.888, 'pos': 0.112, 'compound': 0.5859}\n",
      "{'neg': 0.0, 'neu': 1.0, 'pos': 0.0, 'compound': 0.0}\n",
      "{'neg': 0.0, 'neu': 1.0, 'pos': 0.0, 'compound': 0.0}\n",
      "{'neg': 0.0, 'neu': 1.0, 'pos': 0.0, 'compound': 0.0}\n",
      "{'neg': 0.114, 'neu': 0.714, 'pos': 0.171, 'compound': 0.4588}\n",
      "{'neg': 0.111, 'neu': 0.889, 'pos': 0.0, 'compound': -0.4334}\n",
      "{'neg': 0.0, 'neu': 1.0, 'pos': 0.0, 'compound': 0.0}\n",
      "{'neg': 0.046, 'neu': 0.847, 'pos': 0.107, 'compound': 0.4404}\n",
      "{'neg': 0.171, 'neu': 0.829, 'pos': 0.0, 'compound': -0.4767}\n",
      "{'neg': 0.0, 'neu': 1.0, 'pos': 0.0, 'compound': 0.0}\n",
      "{'neg': 0.051, 'neu': 0.739, 'pos': 0.21, 'compound': 0.7845}\n"
     ]
    },
    {
     "name": "stdout",
     "output_type": "stream",
     "text": [
      "{'neg': 0.107, 'neu': 0.655, 'pos': 0.238, 'compound': 0.4215}\n",
      "{'neg': 0.0, 'neu': 1.0, 'pos': 0.0, 'compound': 0.0}\n",
      "{'neg': 0.223, 'neu': 0.607, 'pos': 0.17, 'compound': -0.6164}\n",
      "{'neg': 0.0, 'neu': 0.868, 'pos': 0.132, 'compound': 0.4404}\n",
      "{'neg': 0.0, 'neu': 0.873, 'pos': 0.127, 'compound': 0.4404}\n",
      "{'neg': 0.177, 'neu': 0.689, 'pos': 0.134, 'compound': -0.3378}\n",
      "{'neg': 0.0, 'neu': 0.909, 'pos': 0.091, 'compound': 0.4215}\n",
      "{'neg': 0.0, 'neu': 0.887, 'pos': 0.113, 'compound': 0.5719}\n",
      "{'neg': 0.0, 'neu': 1.0, 'pos': 0.0, 'compound': 0.0}\n",
      "{'neg': 0.154, 'neu': 0.674, 'pos': 0.171, 'compound': -0.0258}\n",
      "{'neg': 0.0, 'neu': 0.866, 'pos': 0.134, 'compound': 0.7783}\n",
      "{'neg': 0.114, 'neu': 0.808, 'pos': 0.078, 'compound': -0.1027}\n",
      "{'neg': 0.0, 'neu': 0.919, 'pos': 0.081, 'compound': 0.296}\n",
      "{'neg': 0.0, 'neu': 1.0, 'pos': 0.0, 'compound': 0.0}\n",
      "{'neg': 0.0, 'neu': 1.0, 'pos': 0.0, 'compound': 0.0}\n",
      "{'neg': 0.0, 'neu': 1.0, 'pos': 0.0, 'compound': 0.0}\n",
      "{'neg': 0.0, 'neu': 1.0, 'pos': 0.0, 'compound': 0.0}\n",
      "{'neg': 0.461, 'neu': 0.539, 'pos': 0.0, 'compound': -0.9136}\n",
      "{'neg': 0.2, 'neu': 0.8, 'pos': 0.0, 'compound': -0.9186}\n",
      "{'neg': 0.111, 'neu': 0.714, 'pos': 0.175, 'compound': 0.1531}\n",
      "{'neg': 0.253, 'neu': 0.747, 'pos': 0.0, 'compound': -0.5267}\n",
      "{'neg': 0.078, 'neu': 0.636, 'pos': 0.286, 'compound': 0.7096}\n",
      "{'neg': 0.0, 'neu': 1.0, 'pos': 0.0, 'compound': 0.0}\n",
      "{'neg': 0.0, 'neu': 1.0, 'pos': 0.0, 'compound': 0.0}\n",
      "{'neg': 0.0, 'neu': 1.0, 'pos': 0.0, 'compound': 0.0}\n",
      "{'neg': 0.088, 'neu': 0.779, 'pos': 0.133, 'compound': 0.3612}\n",
      "{'neg': 0.378, 'neu': 0.622, 'pos': 0.0, 'compound': -0.6674}\n",
      "{'neg': 0.331, 'neu': 0.669, 'pos': 0.0, 'compound': -0.872}\n",
      "{'neg': 0.0, 'neu': 0.785, 'pos': 0.215, 'compound': 0.743}\n",
      "{'neg': 0.024, 'neu': 0.679, 'pos': 0.296, 'compound': 0.9393}\n",
      "{'neg': 0.043, 'neu': 0.872, 'pos': 0.085, 'compound': 0.2973}\n",
      "{'neg': 0.0, 'neu': 0.735, 'pos': 0.265, 'compound': 0.2023}\n",
      "{'neg': 0.191, 'neu': 0.658, 'pos': 0.151, 'compound': -0.3252}\n",
      "{'neg': 0.134, 'neu': 0.866, 'pos': 0.0, 'compound': -0.6597}\n",
      "{'neg': 0.0, 'neu': 0.669, 'pos': 0.331, 'compound': 0.9242}\n",
      "{'neg': 0.0, 'neu': 1.0, 'pos': 0.0, 'compound': 0.0}\n",
      "{'neg': 0.187, 'neu': 0.813, 'pos': 0.0, 'compound': -0.8555}\n",
      "{'neg': 0.296, 'neu': 0.704, 'pos': 0.0, 'compound': -0.8402}\n",
      "{'neg': 0.171, 'neu': 0.754, 'pos': 0.075, 'compound': -0.5859}\n",
      "{'neg': 0.083, 'neu': 0.809, 'pos': 0.109, 'compound': 0.0516}\n",
      "{'neg': 0.0, 'neu': 1.0, 'pos': 0.0, 'compound': 0.0}\n",
      "{'neg': 0.0, 'neu': 0.92, 'pos': 0.08, 'compound': 0.4019}\n",
      "{'neg': 0.193, 'neu': 0.676, 'pos': 0.13, 'compound': -0.0772}\n",
      "{'neg': 0.266, 'neu': 0.734, 'pos': 0.0, 'compound': -0.7003}\n",
      "{'neg': 0.0, 'neu': 1.0, 'pos': 0.0, 'compound': 0.0}\n",
      "{'neg': 0.084, 'neu': 0.64, 'pos': 0.276, 'compound': 0.8275}\n",
      "{'neg': 0.0, 'neu': 0.938, 'pos': 0.062, 'compound': 0.34}\n",
      "{'neg': 0.137, 'neu': 0.687, 'pos': 0.176, 'compound': 0.3291}\n",
      "{'neg': 0.0, 'neu': 0.795, 'pos': 0.205, 'compound': 0.2023}\n",
      "{'neg': 0.0, 'neu': 0.869, 'pos': 0.131, 'compound': 0.7212}\n",
      "{'neg': 0.106, 'neu': 0.894, 'pos': 0.0, 'compound': -0.0772}\n",
      "{'neg': 0.039, 'neu': 0.882, 'pos': 0.08, 'compound': 0.3612}\n",
      "{'neg': 0.18, 'neu': 0.82, 'pos': 0.0, 'compound': -0.765}\n",
      "{'neg': 0.0, 'neu': 0.959, 'pos': 0.041, 'compound': 0.0258}\n",
      "{'neg': 0.0, 'neu': 1.0, 'pos': 0.0, 'compound': 0.0}\n",
      "{'neg': 0.0, 'neu': 1.0, 'pos': 0.0, 'compound': 0.0}\n",
      "{'neg': 0.0, 'neu': 1.0, 'pos': 0.0, 'compound': 0.0}\n",
      "{'neg': 0.0, 'neu': 0.818, 'pos': 0.182, 'compound': 0.5859}\n",
      "{'neg': 0.179, 'neu': 0.821, 'pos': 0.0, 'compound': -0.7184}\n",
      "{'neg': 0.12, 'neu': 0.761, 'pos': 0.12, 'compound': 0.0}\n",
      "{'neg': 0.115, 'neu': 0.815, 'pos': 0.07, 'compound': -0.5499}\n",
      "{'neg': 0.0, 'neu': 1.0, 'pos': 0.0, 'compound': 0.0}\n",
      "{'neg': 0.0, 'neu': 0.96, 'pos': 0.04, 'compound': 0.0772}\n",
      "{'neg': 0.224, 'neu': 0.776, 'pos': 0.0, 'compound': -0.8316}\n",
      "{'neg': 0.198, 'neu': 0.713, 'pos': 0.089, 'compound': -0.6908}\n",
      "{'neg': 0.052, 'neu': 0.849, 'pos': 0.099, 'compound': 0.4019}\n",
      "{'neg': 0.0, 'neu': 0.72, 'pos': 0.28, 'compound': 0.765}\n",
      "{'neg': 0.061, 'neu': 0.684, 'pos': 0.255, 'compound': 0.8807}\n",
      "{'neg': 0.061, 'neu': 0.684, 'pos': 0.255, 'compound': 0.8807}\n",
      "{'neg': 0.074, 'neu': 0.644, 'pos': 0.283, 'compound': 0.8442}\n",
      "{'neg': 0.0, 'neu': 1.0, 'pos': 0.0, 'compound': 0.0}\n",
      "{'neg': 0.066, 'neu': 0.934, 'pos': 0.0, 'compound': -0.3818}\n",
      "{'neg': 0.082, 'neu': 0.825, 'pos': 0.093, 'compound': 0.0772}\n",
      "{'neg': 0.0, 'neu': 0.922, 'pos': 0.078, 'compound': 0.4019}\n",
      "{'neg': 0.108, 'neu': 0.784, 'pos': 0.108, 'compound': 0.0}\n",
      "{'neg': 0.0, 'neu': 1.0, 'pos': 0.0, 'compound': 0.0}\n",
      "{'neg': 0.105, 'neu': 0.895, 'pos': 0.0, 'compound': -0.5719}\n",
      "{'neg': 0.0, 'neu': 1.0, 'pos': 0.0, 'compound': 0.0}\n",
      "{'neg': 0.1, 'neu': 0.758, 'pos': 0.142, 'compound': 0.4215}\n",
      "{'neg': 0.076, 'neu': 0.853, 'pos': 0.071, 'compound': -0.296}\n",
      "{'neg': 0.0, 'neu': 1.0, 'pos': 0.0, 'compound': 0.0}\n",
      "{'neg': 0.302, 'neu': 0.651, 'pos': 0.047, 'compound': -0.9336}\n",
      "{'neg': 0.0, 'neu': 1.0, 'pos': 0.0, 'compound': 0.0}\n",
      "{'neg': 0.234, 'neu': 0.719, 'pos': 0.047, 'compound': -0.7567}\n",
      "{'neg': 0.0, 'neu': 0.876, 'pos': 0.124, 'compound': 0.6597}\n",
      "{'neg': 0.231, 'neu': 0.769, 'pos': 0.0, 'compound': -0.2732}\n",
      "{'neg': 0.0, 'neu': 1.0, 'pos': 0.0, 'compound': 0.0}\n",
      "{'neg': 0.0, 'neu': 0.737, 'pos': 0.263, 'compound': 0.6124}\n",
      "{'neg': 0.0, 'neu': 1.0, 'pos': 0.0, 'compound': 0.0}\n",
      "{'neg': 0.102, 'neu': 0.898, 'pos': 0.0, 'compound': -0.3818}\n",
      "{'neg': 0.302, 'neu': 0.613, 'pos': 0.085, 'compound': -0.9331}\n",
      "{'neg': 0.0, 'neu': 1.0, 'pos': 0.0, 'compound': 0.0}\n",
      "{'neg': 0.0, 'neu': 1.0, 'pos': 0.0, 'compound': 0.0}\n",
      "{'neg': 0.048, 'neu': 0.788, 'pos': 0.164, 'compound': 0.6486}\n",
      "{'neg': 0.11, 'neu': 0.89, 'pos': 0.0, 'compound': -0.6486}\n",
      "{'neg': 0.344, 'neu': 0.485, 'pos': 0.171, 'compound': -0.561}\n",
      "{'neg': 0.0, 'neu': 0.856, 'pos': 0.144, 'compound': 0.5233}\n",
      "{'neg': 0.233, 'neu': 0.587, 'pos': 0.18, 'compound': -0.3535}\n",
      "{'neg': 0.121, 'neu': 0.773, 'pos': 0.106, 'compound': -0.0772}\n",
      "{'neg': 0.249, 'neu': 0.643, 'pos': 0.108, 'compound': -0.6705}\n",
      "{'neg': 0.112, 'neu': 0.778, 'pos': 0.109, 'compound': -0.0258}\n",
      "{'neg': 0.0, 'neu': 1.0, 'pos': 0.0, 'compound': 0.0}\n",
      "{'neg': 0.267, 'neu': 0.686, 'pos': 0.048, 'compound': -0.8885}\n",
      "{'neg': 0.085, 'neu': 0.748, 'pos': 0.166, 'compound': 0.5647}\n",
      "{'neg': 0.128, 'neu': 0.872, 'pos': 0.0, 'compound': -0.5733}\n",
      "{'neg': 0.0, 'neu': 0.937, 'pos': 0.063, 'compound': 0.3182}\n",
      "{'neg': 0.395, 'neu': 0.297, 'pos': 0.309, 'compound': -0.4404}\n",
      "{'neg': 0.192, 'neu': 0.808, 'pos': 0.0, 'compound': -0.2263}\n",
      "{'neg': 0.103, 'neu': 0.86, 'pos': 0.037, 'compound': -0.4019}\n",
      "{'neg': 0.045, 'neu': 0.854, 'pos': 0.102, 'compound': 0.4215}\n",
      "{'neg': 0.177, 'neu': 0.823, 'pos': 0.0, 'compound': -0.4215}\n",
      "{'neg': 0.096, 'neu': 0.685, 'pos': 0.219, 'compound': 0.3818}\n",
      "{'neg': 0.0, 'neu': 0.934, 'pos': 0.066, 'compound': 0.3818}\n",
      "{'neg': 0.0, 'neu': 1.0, 'pos': 0.0, 'compound': 0.0}\n",
      "{'neg': 0.386, 'neu': 0.614, 'pos': 0.0, 'compound': -0.9287}\n",
      "{'neg': 0.0, 'neu': 0.929, 'pos': 0.071, 'compound': 0.2263}\n",
      "{'neg': 0.118, 'neu': 0.882, 'pos': 0.0, 'compound': -0.5319}\n",
      "{'neg': 0.215, 'neu': 0.538, 'pos': 0.247, 'compound': -0.0}\n",
      "{'neg': 0.117, 'neu': 0.774, 'pos': 0.109, 'compound': -0.1027}\n",
      "{'neg': 0.0, 'neu': 0.884, 'pos': 0.116, 'compound': 0.6705}\n",
      "{'neg': 0.072, 'neu': 0.85, 'pos': 0.078, 'compound': -0.2023}\n",
      "{'neg': 0.0, 'neu': 1.0, 'pos': 0.0, 'compound': 0.0}\n",
      "{'neg': 0.036, 'neu': 0.823, 'pos': 0.141, 'compound': 0.6033}\n",
      "{'neg': 0.1, 'neu': 0.813, 'pos': 0.086, 'compound': -0.1531}\n",
      "{'neg': 0.063, 'neu': 0.631, 'pos': 0.306, 'compound': 0.7964}\n",
      "{'neg': 0.129, 'neu': 0.747, 'pos': 0.124, 'compound': -0.0516}\n",
      "{'neg': 0.138, 'neu': 0.736, 'pos': 0.126, 'compound': 0.1027}\n",
      "{'neg': 0.0, 'neu': 1.0, 'pos': 0.0, 'compound': 0.0}\n",
      "{'neg': 0.108, 'neu': 0.776, 'pos': 0.115, 'compound': 0.0772}\n",
      "{'neg': 0.0, 'neu': 0.858, 'pos': 0.142, 'compound': 0.5859}\n",
      "{'neg': 0.0, 'neu': 0.0, 'pos': 0.0, 'compound': 0.0}\n",
      "{'neg': 0.0, 'neu': 0.804, 'pos': 0.196, 'compound': 0.296}\n",
      "{'neg': 0.108, 'neu': 0.746, 'pos': 0.146, 'compound': 0.1423}\n",
      "{'neg': 0.0, 'neu': 0.926, 'pos': 0.074, 'compound': 0.5106}\n",
      "{'neg': 0.097, 'neu': 0.805, 'pos': 0.097, 'compound': 0.0}\n",
      "{'neg': 0.0, 'neu': 0.844, 'pos': 0.156, 'compound': 0.6874}\n",
      "{'neg': 0.127, 'neu': 0.758, 'pos': 0.115, 'compound': -0.3559}\n",
      "{'neg': 0.131, 'neu': 0.826, 'pos': 0.043, 'compound': -0.6327}\n",
      "{'neg': 0.0, 'neu': 1.0, 'pos': 0.0, 'compound': 0.0}\n",
      "{'neg': 0.164, 'neu': 0.779, 'pos': 0.057, 'compound': -0.6249}\n",
      "{'neg': 0.143, 'neu': 0.805, 'pos': 0.053, 'compound': -0.5994}\n",
      "{'neg': 0.0, 'neu': 1.0, 'pos': 0.0, 'compound': 0.0}\n",
      "{'neg': 0.848, 'neu': 0.152, 'pos': 0.0, 'compound': -0.6808}\n"
     ]
    },
    {
     "name": "stdout",
     "output_type": "stream",
     "text": [
      "{'neg': 0.08, 'neu': 0.92, 'pos': 0.0, 'compound': -0.2732}\n",
      "{'neg': 0.304, 'neu': 0.559, 'pos': 0.137, 'compound': -0.4019}\n",
      "{'neg': 0.054, 'neu': 0.78, 'pos': 0.166, 'compound': 0.7579}\n",
      "{'neg': 0.0, 'neu': 1.0, 'pos': 0.0, 'compound': 0.0}\n",
      "{'neg': 0.0, 'neu': 0.877, 'pos': 0.123, 'compound': 0.7096}\n",
      "{'neg': 0.162, 'neu': 0.792, 'pos': 0.046, 'compound': -0.6426}\n",
      "{'neg': 0.0, 'neu': 0.8, 'pos': 0.2, 'compound': 0.8885}\n",
      "{'neg': 0.134, 'neu': 0.866, 'pos': 0.0, 'compound': -0.5859}\n",
      "{'neg': 0.0, 'neu': 0.914, 'pos': 0.086, 'compound': 0.5106}\n",
      "{'neg': 0.196, 'neu': 0.804, 'pos': 0.0, 'compound': -0.5994}\n",
      "{'neg': 0.0, 'neu': 0.797, 'pos': 0.203, 'compound': 0.9056}\n",
      "{'neg': 0.321, 'neu': 0.605, 'pos': 0.073, 'compound': -0.7772}\n",
      "{'neg': 0.069, 'neu': 0.931, 'pos': 0.0, 'compound': -0.3818}\n",
      "{'neg': 0.184, 'neu': 0.816, 'pos': 0.0, 'compound': -0.7789}\n",
      "{'neg': 0.0, 'neu': 0.859, 'pos': 0.141, 'compound': 0.5574}\n",
      "{'neg': 0.127, 'neu': 0.832, 'pos': 0.041, 'compound': -0.5475}\n",
      "{'neg': 0.219, 'neu': 0.645, 'pos': 0.135, 'compound': -0.3182}\n",
      "{'neg': 0.098, 'neu': 0.882, 'pos': 0.021, 'compound': -0.6249}\n",
      "{'neg': 0.061, 'neu': 0.684, 'pos': 0.255, 'compound': 0.8807}\n",
      "{'neg': 0.0, 'neu': 0.769, 'pos': 0.231, 'compound': 0.7783}\n",
      "{'neg': 0.0, 'neu': 1.0, 'pos': 0.0, 'compound': 0.0}\n",
      "{'neg': 0.116, 'neu': 0.749, 'pos': 0.134, 'compound': -0.0056}\n",
      "{'neg': 0.114, 'neu': 0.886, 'pos': 0.0, 'compound': -0.5439}\n",
      "{'neg': 0.051, 'neu': 0.805, 'pos': 0.144, 'compound': 0.6597}\n",
      "{'neg': 0.0, 'neu': 0.875, 'pos': 0.125, 'compound': 0.4019}\n",
      "{'neg': 0.0, 'neu': 0.658, 'pos': 0.342, 'compound': 0.6369}\n",
      "{'neg': 0.0, 'neu': 0.752, 'pos': 0.248, 'compound': 0.6808}\n",
      "{'neg': 0.0, 'neu': 1.0, 'pos': 0.0, 'compound': 0.0}\n",
      "{'neg': 0.207, 'neu': 0.677, 'pos': 0.117, 'compound': -0.7339}\n",
      "{'neg': 0.1, 'neu': 0.811, 'pos': 0.089, 'compound': -0.0772}\n",
      "{'neg': 0.136, 'neu': 0.837, 'pos': 0.027, 'compound': -0.6369}\n",
      "{'neg': 0.39, 'neu': 0.61, 'pos': 0.0, 'compound': -0.4939}\n",
      "{'neg': 0.091, 'neu': 0.844, 'pos': 0.066, 'compound': -0.0516}\n",
      "{'neg': 0.048, 'neu': 0.758, 'pos': 0.195, 'compound': 0.7783}\n",
      "{'neg': 0.155, 'neu': 0.747, 'pos': 0.099, 'compound': -0.4767}\n",
      "{'neg': 0.125, 'neu': 0.841, 'pos': 0.034, 'compound': -0.6369}\n",
      "{'neg': 0.047, 'neu': 0.807, 'pos': 0.146, 'compound': 0.4497}\n",
      "{'neg': 0.125, 'neu': 0.735, 'pos': 0.14, 'compound': -0.1027}\n",
      "{'neg': 0.028, 'neu': 0.972, 'pos': 0.0, 'compound': -0.0516}\n",
      "{'neg': 0.114, 'neu': 0.829, 'pos': 0.057, 'compound': -0.4912}\n",
      "{'neg': 0.203, 'neu': 0.432, 'pos': 0.365, 'compound': 0.577}\n",
      "{'neg': 0.0, 'neu': 1.0, 'pos': 0.0, 'compound': 0.0}\n",
      "{'neg': 0.073, 'neu': 0.927, 'pos': 0.0, 'compound': -0.296}\n",
      "{'neg': 0.132, 'neu': 0.868, 'pos': 0.0, 'compound': -0.7184}\n",
      "{'neg': 0.159, 'neu': 0.841, 'pos': 0.0, 'compound': -0.5994}\n",
      "{'neg': 0.154, 'neu': 0.792, 'pos': 0.054, 'compound': -0.34}\n",
      "{'neg': 0.108, 'neu': 0.747, 'pos': 0.145, 'compound': 0.2023}\n",
      "{'neg': 0.16, 'neu': 0.84, 'pos': 0.0, 'compound': -0.2732}\n",
      "{'neg': 0.053, 'neu': 0.815, 'pos': 0.132, 'compound': 0.5106}\n",
      "{'neg': 0.0, 'neu': 0.787, 'pos': 0.213, 'compound': 0.4019}\n",
      "{'neg': 0.154, 'neu': 0.729, 'pos': 0.117, 'compound': -0.2023}\n",
      "{'neg': 0.237, 'neu': 0.763, 'pos': 0.0, 'compound': -0.4767}\n",
      "{'neg': 0.055, 'neu': 0.823, 'pos': 0.122, 'compound': 0.4019}\n",
      "{'neg': 0.0, 'neu': 0.888, 'pos': 0.112, 'compound': 0.4404}\n",
      "{'neg': 0.181, 'neu': 0.739, 'pos': 0.079, 'compound': -0.7003}\n",
      "{'neg': 0.059, 'neu': 0.904, 'pos': 0.037, 'compound': -0.2732}\n",
      "{'neg': 0.117, 'neu': 0.779, 'pos': 0.104, 'compound': -0.1531}\n",
      "{'neg': 0.0, 'neu': 0.696, 'pos': 0.304, 'compound': 0.5859}\n",
      "{'neg': 0.265, 'neu': 0.636, 'pos': 0.1, 'compound': -0.6094}\n",
      "{'neg': 0.179, 'neu': 0.619, 'pos': 0.202, 'compound': 0.3434}\n",
      "{'neg': 0.246, 'neu': 0.672, 'pos': 0.082, 'compound': -0.5242}\n",
      "{'neg': 0.0, 'neu': 1.0, 'pos': 0.0, 'compound': 0.0}\n",
      "{'neg': 0.108, 'neu': 0.697, 'pos': 0.195, 'compound': 0.128}\n",
      "{'neg': 0.0, 'neu': 1.0, 'pos': 0.0, 'compound': 0.0}\n",
      "{'neg': 0.0, 'neu': 0.939, 'pos': 0.061, 'compound': 0.0772}\n",
      "{'neg': 0.036, 'neu': 0.804, 'pos': 0.161, 'compound': 0.6808}\n",
      "{'neg': 0.0, 'neu': 0.0, 'pos': 0.0, 'compound': 0.0}\n",
      "{'neg': 0.11, 'neu': 0.89, 'pos': 0.0, 'compound': -0.1531}\n",
      "{'neg': 0.056, 'neu': 0.877, 'pos': 0.067, 'compound': 0.128}\n",
      "{'neg': 0.0, 'neu': 0.523, 'pos': 0.477, 'compound': 0.936}\n",
      "{'neg': 0.044, 'neu': 0.956, 'pos': 0.0, 'compound': -0.2732}\n",
      "{'neg': 0.215, 'neu': 0.785, 'pos': 0.0, 'compound': -0.4767}\n",
      "{'neg': 0.368, 'neu': 0.632, 'pos': 0.0, 'compound': -0.7506}\n",
      "{'neg': 0.0, 'neu': 1.0, 'pos': 0.0, 'compound': 0.0}\n",
      "{'neg': 0.0, 'neu': 0.879, 'pos': 0.121, 'compound': 0.5719}\n",
      "{'neg': 0.056, 'neu': 0.767, 'pos': 0.177, 'compound': 0.5647}\n",
      "{'neg': 0.0, 'neu': 1.0, 'pos': 0.0, 'compound': 0.0}\n",
      "{'neg': 0.081, 'neu': 0.919, 'pos': 0.0, 'compound': -0.5719}\n",
      "{'neg': 1.0, 'neu': 0.0, 'pos': 0.0, 'compound': -0.5994}\n",
      "{'neg': 0.044, 'neu': 0.907, 'pos': 0.049, 'compound': 0.0547}\n",
      "{'neg': 0.141, 'neu': 0.859, 'pos': 0.0, 'compound': -0.6597}\n",
      "{'neg': 0.0, 'neu': 0.769, 'pos': 0.231, 'compound': 0.4019}\n",
      "{'neg': 0.141, 'neu': 0.795, 'pos': 0.064, 'compound': -0.3612}\n",
      "{'neg': 0.054, 'neu': 0.946, 'pos': 0.0, 'compound': -0.2235}\n",
      "{'neg': 0.0, 'neu': 0.707, 'pos': 0.293, 'compound': 0.6597}\n",
      "{'neg': 0.134, 'neu': 0.808, 'pos': 0.058, 'compound': -0.4019}\n",
      "{'neg': 0.331, 'neu': 0.669, 'pos': 0.0, 'compound': -0.8563}\n",
      "{'neg': 0.0, 'neu': 1.0, 'pos': 0.0, 'compound': 0.0}\n",
      "{'neg': 0.0, 'neu': 1.0, 'pos': 0.0, 'compound': 0.0}\n",
      "{'neg': 0.0, 'neu': 0.945, 'pos': 0.055, 'compound': 0.2732}\n",
      "{'neg': 0.0, 'neu': 0.688, 'pos': 0.312, 'compound': 0.7096}\n",
      "{'neg': 0.062, 'neu': 0.868, 'pos': 0.07, 'compound': 0.0772}\n",
      "{'neg': 0.061, 'neu': 0.939, 'pos': 0.0, 'compound': -0.3818}\n",
      "{'neg': 0.055, 'neu': 0.896, 'pos': 0.049, 'compound': -0.0572}\n",
      "{'neg': 0.0, 'neu': 0.924, 'pos': 0.076, 'compound': 0.3182}\n",
      "{'neg': 0.0, 'neu': 1.0, 'pos': 0.0, 'compound': 0.0}\n",
      "{'neg': 0.125, 'neu': 0.735, 'pos': 0.141, 'compound': -0.128}\n",
      "{'neg': 0.228, 'neu': 0.587, 'pos': 0.185, 'compound': -0.1045}\n",
      "{'neg': 0.146, 'neu': 0.854, 'pos': 0.0, 'compound': -0.8126}\n",
      "{'neg': 0.111, 'neu': 0.759, 'pos': 0.129, 'compound': 0.091}\n",
      "{'neg': 0.0, 'neu': 1.0, 'pos': 0.0, 'compound': 0.0}\n",
      "{'neg': 0.0, 'neu': 0.776, 'pos': 0.224, 'compound': 0.3818}\n",
      "{'neg': 0.065, 'neu': 0.808, 'pos': 0.127, 'compound': 0.3169}\n",
      "{'neg': 0.094, 'neu': 0.725, 'pos': 0.181, 'compound': 0.6249}\n",
      "{'neg': 0.0, 'neu': 0.957, 'pos': 0.043, 'compound': 0.0772}\n",
      "{'neg': 0.0, 'neu': 1.0, 'pos': 0.0, 'compound': 0.0}\n",
      "{'neg': 0.079, 'neu': 0.825, 'pos': 0.096, 'compound': 0.128}\n",
      "{'neg': 0.097, 'neu': 0.903, 'pos': 0.0, 'compound': -0.4939}\n",
      "{'neg': 0.272, 'neu': 0.669, 'pos': 0.059, 'compound': -0.8494}\n",
      "{'neg': 0.0, 'neu': 0.928, 'pos': 0.072, 'compound': 0.2732}\n",
      "{'neg': 0.0, 'neu': 0.974, 'pos': 0.026, 'compound': 0.0772}\n",
      "{'neg': 0.142, 'neu': 0.858, 'pos': 0.0, 'compound': -0.5095}\n",
      "{'neg': 0.0, 'neu': 0.959, 'pos': 0.041, 'compound': 0.2263}\n",
      "{'neg': 0.0, 'neu': 1.0, 'pos': 0.0, 'compound': 0.0}\n",
      "{'neg': 0.0, 'neu': 0.757, 'pos': 0.243, 'compound': 0.8519}\n",
      "{'neg': 0.0, 'neu': 0.877, 'pos': 0.123, 'compound': 0.2732}\n",
      "{'neg': 0.231, 'neu': 0.769, 'pos': 0.0, 'compound': -0.5859}\n",
      "{'neg': 0.259, 'neu': 0.741, 'pos': 0.0, 'compound': -0.743}\n",
      "{'neg': 0.0, 'neu': 0.934, 'pos': 0.066, 'compound': 0.3818}\n",
      "{'neg': 0.163, 'neu': 0.785, 'pos': 0.051, 'compound': -0.5528}\n",
      "{'neg': 0.055, 'neu': 0.814, 'pos': 0.131, 'compound': 0.4404}\n",
      "{'neg': 0.0, 'neu': 0.831, 'pos': 0.169, 'compound': 0.6249}\n",
      "{'neg': 0.0, 'neu': 0.958, 'pos': 0.042, 'compound': 0.0258}\n",
      "{'neg': 0.268, 'neu': 0.732, 'pos': 0.0, 'compound': -0.6705}\n",
      "{'neg': 0.0, 'neu': 0.887, 'pos': 0.113, 'compound': 0.3182}\n",
      "{'neg': 0.102, 'neu': 0.898, 'pos': 0.0, 'compound': -0.3818}\n",
      "{'neg': 0.236, 'neu': 0.709, 'pos': 0.055, 'compound': -0.8481}\n",
      "{'neg': 0.195, 'neu': 0.805, 'pos': 0.0, 'compound': -0.6514}\n",
      "{'neg': 0.149, 'neu': 0.744, 'pos': 0.107, 'compound': -0.2263}\n",
      "{'neg': 0.0, 'neu': 1.0, 'pos': 0.0, 'compound': 0.0}\n",
      "{'neg': 0.07, 'neu': 0.93, 'pos': 0.0, 'compound': -0.2732}\n",
      "{'neg': 0.0, 'neu': 1.0, 'pos': 0.0, 'compound': 0.0}\n",
      "{'neg': 0.062, 'neu': 0.71, 'pos': 0.228, 'compound': 0.7717}\n",
      "{'neg': 0.403, 'neu': 0.597, 'pos': 0.0, 'compound': -0.7241}\n",
      "{'neg': 0.198, 'neu': 0.802, 'pos': 0.0, 'compound': -0.4939}\n",
      "{'neg': 0.0, 'neu': 1.0, 'pos': 0.0, 'compound': 0.0}\n",
      "{'neg': 0.0, 'neu': 1.0, 'pos': 0.0, 'compound': 0.0}\n",
      "{'neg': 0.0, 'neu': 1.0, 'pos': 0.0, 'compound': 0.0}\n",
      "{'neg': 0.249, 'neu': 0.633, 'pos': 0.118, 'compound': -0.7184}\n",
      "{'neg': 0.0, 'neu': 1.0, 'pos': 0.0, 'compound': 0.0}\n",
      "{'neg': 0.087, 'neu': 0.732, 'pos': 0.18, 'compound': 0.5106}\n",
      "{'neg': 0.0, 'neu': 0.892, 'pos': 0.108, 'compound': 0.3182}\n",
      "{'neg': 0.205, 'neu': 0.795, 'pos': 0.0, 'compound': -0.7351}\n"
     ]
    },
    {
     "name": "stdout",
     "output_type": "stream",
     "text": [
      "{'neg': 0.0, 'neu': 0.944, 'pos': 0.056, 'compound': 0.296}\n",
      "{'neg': 0.0, 'neu': 1.0, 'pos': 0.0, 'compound': 0.0}\n",
      "{'neg': 0.442, 'neu': 0.558, 'pos': 0.0, 'compound': -0.8779}\n",
      "{'neg': 0.0, 'neu': 1.0, 'pos': 0.0, 'compound': 0.0}\n",
      "{'neg': 0.11, 'neu': 0.779, 'pos': 0.111, 'compound': 0.2656}\n",
      "{'neg': 0.175, 'neu': 0.825, 'pos': 0.0, 'compound': -0.5574}\n",
      "{'neg': 0.0, 'neu': 1.0, 'pos': 0.0, 'compound': 0.0}\n",
      "{'neg': 0.1, 'neu': 0.9, 'pos': 0.0, 'compound': -0.4404}\n",
      "{'neg': 0.208, 'neu': 0.752, 'pos': 0.04, 'compound': -0.9153}\n",
      "{'neg': 0.097, 'neu': 0.781, 'pos': 0.122, 'compound': 0.0316}\n",
      "{'neg': 0.215, 'neu': 0.785, 'pos': 0.0, 'compound': -0.9743}\n",
      "{'neg': 0.0, 'neu': 1.0, 'pos': 0.0, 'compound': 0.0}\n",
      "{'neg': 0.0, 'neu': 0.577, 'pos': 0.423, 'compound': 0.296}\n",
      "{'neg': 0.149, 'neu': 0.851, 'pos': 0.0, 'compound': -0.8266}\n",
      "{'neg': 0.059, 'neu': 0.88, 'pos': 0.061, 'compound': 0.0258}\n",
      "{'neg': 0.051, 'neu': 0.949, 'pos': 0.0, 'compound': -0.3182}\n",
      "{'neg': 0.0, 'neu': 1.0, 'pos': 0.0, 'compound': 0.0}\n",
      "{'neg': 0.089, 'neu': 0.876, 'pos': 0.035, 'compound': -0.5267}\n",
      "{'neg': 0.103, 'neu': 0.632, 'pos': 0.265, 'compound': 0.7096}\n",
      "{'neg': 0.0, 'neu': 0.871, 'pos': 0.129, 'compound': 0.5994}\n",
      "{'neg': 0.0, 'neu': 1.0, 'pos': 0.0, 'compound': 0.0}\n",
      "{'neg': 0.0, 'neu': 0.824, 'pos': 0.176, 'compound': 0.296}\n",
      "{'neg': 0.141, 'neu': 0.705, 'pos': 0.154, 'compound': 0.1566}\n",
      "{'neg': 0.059, 'neu': 0.67, 'pos': 0.271, 'compound': 0.8658}\n",
      "{'neg': 0.124, 'neu': 0.763, 'pos': 0.112, 'compound': -0.0772}\n",
      "{'neg': 0.0, 'neu': 1.0, 'pos': 0.0, 'compound': 0.0}\n",
      "{'neg': 0.095, 'neu': 0.868, 'pos': 0.037, 'compound': -0.4019}\n",
      "{'neg': 0.071, 'neu': 0.792, 'pos': 0.137, 'compound': 0.34}\n",
      "{'neg': 0.06, 'neu': 0.855, 'pos': 0.085, 'compound': 0.2732}\n",
      "{'neg': 0.0, 'neu': 0.845, 'pos': 0.155, 'compound': 0.7333}\n",
      "{'neg': 0.197, 'neu': 0.543, 'pos': 0.26, 'compound': 0.2951}\n",
      "{'neg': 0.182, 'neu': 0.799, 'pos': 0.019, 'compound': -0.9509}\n",
      "{'neg': 0.036, 'neu': 0.964, 'pos': 0.0, 'compound': -0.2732}\n",
      "{'neg': 0.2, 'neu': 0.78, 'pos': 0.02, 'compound': -0.8924}\n",
      "{'neg': 0.0, 'neu': 0.909, 'pos': 0.091, 'compound': 0.3182}\n",
      "{'neg': 0.124, 'neu': 0.876, 'pos': 0.0, 'compound': -0.5859}\n",
      "{'neg': 0.23, 'neu': 0.528, 'pos': 0.243, 'compound': -0.128}\n",
      "{'neg': 0.074, 'neu': 0.71, 'pos': 0.216, 'compound': 0.4588}\n",
      "{'neg': 0.139, 'neu': 0.861, 'pos': 0.0, 'compound': -0.2732}\n",
      "{'neg': 0.078, 'neu': 0.736, 'pos': 0.186, 'compound': 0.4215}\n",
      "{'neg': 0.079, 'neu': 0.888, 'pos': 0.033, 'compound': -0.3818}\n",
      "{'neg': 0.131, 'neu': 0.759, 'pos': 0.11, 'compound': -0.128}\n",
      "{'neg': 0.0, 'neu': 0.895, 'pos': 0.105, 'compound': 0.5267}\n",
      "{'neg': 0.0, 'neu': 1.0, 'pos': 0.0, 'compound': 0.0}\n",
      "{'neg': 0.0, 'neu': 0.952, 'pos': 0.048, 'compound': 0.1901}\n",
      "{'neg': 0.16, 'neu': 0.84, 'pos': 0.0, 'compound': -0.2732}\n",
      "{'neg': 0.0, 'neu': 0.635, 'pos': 0.365, 'compound': 0.3182}\n",
      "{'neg': 0.115, 'neu': 0.774, 'pos': 0.111, 'compound': -0.0258}\n",
      "{'neg': 0.0, 'neu': 1.0, 'pos': 0.0, 'compound': 0.0}\n",
      "{'neg': 0.124, 'neu': 0.717, 'pos': 0.159, 'compound': 0.2023}\n",
      "{'neg': 0.143, 'neu': 0.857, 'pos': 0.0, 'compound': -0.5423}\n",
      "{'neg': 0.0, 'neu': 0.849, 'pos': 0.151, 'compound': 0.5719}\n",
      "{'neg': 0.0, 'neu': 0.821, 'pos': 0.179, 'compound': 0.7506}\n",
      "{'neg': 0.0, 'neu': 0.739, 'pos': 0.261, 'compound': 0.9022}\n",
      "{'neg': 0.185, 'neu': 0.815, 'pos': 0.0, 'compound': -0.5106}\n",
      "{'neg': 0.0, 'neu': 0.757, 'pos': 0.243, 'compound': 0.8074}\n",
      "{'neg': 0.0, 'neu': 0.954, 'pos': 0.046, 'compound': 0.2235}\n",
      "{'neg': 0.0, 'neu': 1.0, 'pos': 0.0, 'compound': 0.0}\n",
      "{'neg': 0.1, 'neu': 0.863, 'pos': 0.037, 'compound': -0.4939}\n",
      "{'neg': 0.253, 'neu': 0.658, 'pos': 0.089, 'compound': -0.7184}\n",
      "{'neg': 0.087, 'neu': 0.809, 'pos': 0.103, 'compound': -0.0258}\n",
      "{'neg': 0.0, 'neu': 1.0, 'pos': 0.0, 'compound': 0.0}\n",
      "{'neg': 0.0, 'neu': 0.0, 'pos': 0.0, 'compound': 0.0}\n",
      "{'neg': 0.0, 'neu': 0.871, 'pos': 0.129, 'compound': 0.5106}\n",
      "{'neg': 0.0, 'neu': 0.909, 'pos': 0.091, 'compound': 0.3612}\n",
      "{'neg': 0.058, 'neu': 0.942, 'pos': 0.0, 'compound': -0.2023}\n",
      "{'neg': 0.0, 'neu': 0.728, 'pos': 0.272, 'compound': 0.8617}\n",
      "{'neg': 0.0, 'neu': 0.844, 'pos': 0.156, 'compound': 0.6486}\n",
      "{'neg': 0.045, 'neu': 0.83, 'pos': 0.126, 'compound': 0.6124}\n",
      "{'neg': 0.3, 'neu': 0.64, 'pos': 0.06, 'compound': -0.8032}\n",
      "{'neg': 0.0, 'neu': 1.0, 'pos': 0.0, 'compound': 0.0}\n",
      "{'neg': 0.116, 'neu': 0.794, 'pos': 0.09, 'compound': -0.1779}\n",
      "{'neg': 0.0, 'neu': 1.0, 'pos': 0.0, 'compound': 0.0}\n",
      "{'neg': 0.068, 'neu': 0.878, 'pos': 0.054, 'compound': -0.1531}\n",
      "{'neg': 0.0, 'neu': 0.0, 'pos': 0.0, 'compound': 0.0}\n",
      "{'neg': 0.0, 'neu': 0.455, 'pos': 0.545, 'compound': 0.5574}\n",
      "{'neg': 0.0, 'neu': 0.886, 'pos': 0.114, 'compound': 0.4588}\n",
      "{'neg': 0.0, 'neu': 0.932, 'pos': 0.068, 'compound': 0.5106}\n",
      "{'neg': 0.038, 'neu': 0.962, 'pos': 0.0, 'compound': -0.1027}\n",
      "{'neg': 0.0, 'neu': 1.0, 'pos': 0.0, 'compound': 0.0}\n",
      "{'neg': 0.364, 'neu': 0.455, 'pos': 0.182, 'compound': -0.4215}\n",
      "{'neg': 0.0, 'neu': 0.942, 'pos': 0.058, 'compound': 0.0772}\n",
      "{'neg': 0.055, 'neu': 0.893, 'pos': 0.052, 'compound': -0.0258}\n",
      "{'neg': 0.0, 'neu': 1.0, 'pos': 0.0, 'compound': 0.0}\n",
      "{'neg': 0.22, 'neu': 0.78, 'pos': 0.0, 'compound': -0.4767}\n",
      "{'neg': 0.0, 'neu': 0.891, 'pos': 0.109, 'compound': 0.5994}\n",
      "{'neg': 0.096, 'neu': 0.833, 'pos': 0.071, 'compound': -0.25}\n",
      "{'neg': 0.0, 'neu': 1.0, 'pos': 0.0, 'compound': 0.0}\n",
      "{'neg': 0.157, 'neu': 0.843, 'pos': 0.0, 'compound': -0.6155}\n",
      "{'neg': 0.0, 'neu': 1.0, 'pos': 0.0, 'compound': 0.0}\n",
      "{'neg': 0.0, 'neu': 0.89, 'pos': 0.11, 'compound': 0.3818}\n",
      "{'neg': 0.0, 'neu': 0.948, 'pos': 0.052, 'compound': 0.3612}\n",
      "{'neg': 0.116, 'neu': 0.745, 'pos': 0.139, 'compound': 0.0516}\n",
      "{'neg': 0.076, 'neu': 0.924, 'pos': 0.0, 'compound': -0.4215}\n",
      "{'neg': 0.23, 'neu': 0.65, 'pos': 0.12, 'compound': -0.3662}\n",
      "{'neg': 0.129, 'neu': 0.784, 'pos': 0.088, 'compound': -0.3197}\n",
      "{'neg': 0.265, 'neu': 0.683, 'pos': 0.052, 'compound': -0.8318}\n",
      "{'neg': 0.172, 'neu': 0.828, 'pos': 0.0, 'compound': -0.6597}\n",
      "{'neg': 0.107, 'neu': 0.893, 'pos': 0.0, 'compound': -0.4767}\n",
      "{'neg': 0.0, 'neu': 0.795, 'pos': 0.205, 'compound': 0.5574}\n",
      "{'neg': 0.0, 'neu': 1.0, 'pos': 0.0, 'compound': 0.0}\n",
      "{'neg': 0.0, 'neu': 1.0, 'pos': 0.0, 'compound': 0.0}\n",
      "{'neg': 0.0, 'neu': 0.833, 'pos': 0.167, 'compound': 0.4215}\n",
      "{'neg': 0.0, 'neu': 0.782, 'pos': 0.218, 'compound': 0.5994}\n",
      "{'neg': 0.13, 'neu': 0.701, 'pos': 0.169, 'compound': 0.4304}\n",
      "{'neg': 0.0, 'neu': 1.0, 'pos': 0.0, 'compound': 0.0}\n",
      "{'neg': 0.28, 'neu': 0.72, 'pos': 0.0, 'compound': -0.3252}\n",
      "{'neg': 0.0, 'neu': 0.857, 'pos': 0.143, 'compound': 0.7684}\n",
      "{'neg': 0.0, 'neu': 1.0, 'pos': 0.0, 'compound': 0.0}\n",
      "{'neg': 0.0, 'neu': 0.857, 'pos': 0.143, 'compound': 0.6705}\n",
      "{'neg': 0.071, 'neu': 0.929, 'pos': 0.0, 'compound': -0.5106}\n",
      "{'neg': 0.0, 'neu': 1.0, 'pos': 0.0, 'compound': 0.0}\n",
      "{'neg': 0.0, 'neu': 0.827, 'pos': 0.173, 'compound': 0.3182}\n",
      "{'neg': 0.0, 'neu': 1.0, 'pos': 0.0, 'compound': 0.0}\n",
      "{'neg': 0.299, 'neu': 0.701, 'pos': 0.0, 'compound': -0.7506}\n",
      "{'neg': 0.173, 'neu': 0.827, 'pos': 0.0, 'compound': -0.7783}\n",
      "{'neg': 0.145, 'neu': 0.855, 'pos': 0.0, 'compound': -0.6249}\n",
      "{'neg': 0.097, 'neu': 0.903, 'pos': 0.0, 'compound': -0.4767}\n",
      "{'neg': 0.311, 'neu': 0.689, 'pos': 0.0, 'compound': -0.8034}\n",
      "{'neg': 0.147, 'neu': 0.805, 'pos': 0.048, 'compound': -0.4512}\n",
      "{'neg': 0.0, 'neu': 0.949, 'pos': 0.051, 'compound': 0.1571}\n",
      "{'neg': 0.108, 'neu': 0.892, 'pos': 0.0, 'compound': -0.3919}\n",
      "{'neg': 0.115, 'neu': 0.788, 'pos': 0.097, 'compound': 0.0}\n",
      "{'neg': 0.157, 'neu': 0.657, 'pos': 0.186, 'compound': 0.3262}\n",
      "{'neg': 0.0, 'neu': 0.813, 'pos': 0.187, 'compound': 0.3182}\n",
      "{'neg': 0.167, 'neu': 0.833, 'pos': 0.0, 'compound': -0.5574}\n",
      "{'neg': 0.0, 'neu': 0.915, 'pos': 0.085, 'compound': 0.0772}\n",
      "{'neg': 0.0, 'neu': 1.0, 'pos': 0.0, 'compound': 0.0}\n",
      "{'neg': 0.067, 'neu': 0.933, 'pos': 0.0, 'compound': -0.3818}\n",
      "{'neg': 0.225, 'neu': 0.775, 'pos': 0.0, 'compound': -0.8271}\n",
      "{'neg': 0.0, 'neu': 1.0, 'pos': 0.0, 'compound': 0.0}\n",
      "{'neg': 0.179, 'neu': 0.821, 'pos': 0.0, 'compound': -0.34}\n",
      "{'neg': 0.046, 'neu': 0.865, 'pos': 0.089, 'compound': 0.25}\n",
      "{'neg': 0.417, 'neu': 0.583, 'pos': 0.0, 'compound': -0.6486}\n",
      "{'neg': 0.0, 'neu': 0.635, 'pos': 0.365, 'compound': 0.3182}\n",
      "{'neg': 0.089, 'neu': 0.911, 'pos': 0.0, 'compound': -0.5423}\n",
      "{'neg': 0.105, 'neu': 0.642, 'pos': 0.253, 'compound': 0.5267}\n",
      "{'neg': 0.122, 'neu': 0.757, 'pos': 0.121, 'compound': -0.0018}\n",
      "{'neg': 0.088, 'neu': 0.875, 'pos': 0.037, 'compound': -0.34}\n"
     ]
    },
    {
     "name": "stdout",
     "output_type": "stream",
     "text": [
      "{'neg': 0.0, 'neu': 0.357, 'pos': 0.643, 'compound': 0.2023}\n",
      "{'neg': 0.165, 'neu': 0.808, 'pos': 0.027, 'compound': -0.8294}\n",
      "{'neg': 0.0, 'neu': 0.789, 'pos': 0.211, 'compound': 0.7717}\n",
      "{'neg': 0.0, 'neu': 0.844, 'pos': 0.156, 'compound': 0.743}\n",
      "{'neg': 0.0, 'neu': 0.773, 'pos': 0.227, 'compound': 0.6486}\n"
     ]
    }
   ],
   "source": [
    "tweet_list = []\n",
    "neutral_list = []\n",
    "negative_list = []\n",
    "positive_list = []\n",
    "\n",
    "pos_sum= 0\n",
    "neu_sum= 0\n",
    "neg_sum= 0\n",
    "media_pos= 0\n",
    "media_neu= 0\n",
    "media_neg= 0\n",
    "\n",
    "index=0\n",
    "stop_words = stopwords.words('english')\n",
    "\n",
    "for element in data:\n",
    "    data[index]['full_text'] = data[index]['full_text'].lower()                 # Put everything in lowercase\n",
    "    #data[index]['full_text'] = contractions.fix(data[index]['full_text'])\n",
    "    data[index]['full_text'] = re.sub(\"\\'\\w+\", '', data[index]['full_text'])    # Remove everything after '\n",
    "    data[index]['full_text'] = remove_urls(data[index]['full_text'])\n",
    "    data[index]['full_text'] = remove_twitter_urls(data[index]['full_text'])\n",
    "    data[index]['full_text'] = remove_emoticons(data[index]['full_text'])\n",
    "    data[index]['full_text'] = remove_emoji(data[index]['full_text'])\n",
    "    data[index]['full_text'] = give_emoji_free_text(data[index]['full_text'])\n",
    "    data[index]['full_text'] = noamp(data[index]['full_text'])                  # No amp with space\n",
    "    data[index]['full_text'] = re.sub(\"#\\S+\", \" \",  data[index]['full_text'])   # Remove hashtags\n",
    "    data[index]['full_text'] = re.sub(\"@\\S+\", \" \",  data[index]['full_text'])   # No mentions\n",
    "    data[index]['full_text'] = data[index]['full_text'].translate(str.maketrans('', '', string.punctuation)) # No puntuaction\n",
    "    data[index]['full_text'] = data[index]['full_text'].encode('ascii', 'ignore').decode() # No unicode\n",
    "    data[index]['full_text'] = re.sub(\"^rt \", \" \", data[index]['full_text'])    # No RT\n",
    "    data[index]['full_text'] = re.sub('\\s{2,}', \" \", data[index]['full_text'])  # Remove big spaces\n",
    "\n",
    "    tweet_list.append(data[index]['full_text'])\n",
    "    analysis = TextBlob(data[index]['full_text'])\n",
    "    score = SentimentIntensityAnalyzer().polarity_scores(data[index]['full_text'])\n",
    "    #print(score)\n",
    "    neg = score['neg']\n",
    "    neg_sum= neg_sum + neg\n",
    "    neu = score['neu']\n",
    "    neu_sum = neu_sum + neu\n",
    "    pos = score['pos']\n",
    "    pos_sum = pos_sum + pos\n",
    "    \n",
    "    if neg > pos:\n",
    "        negative_list.append(data[index]['full_text'])\n",
    "\n",
    "    elif pos > neg:\n",
    "        positive_list.append(data[index]['full_text'])\n",
    "    \n",
    "    elif pos == neg:\n",
    "        neutral_list.append(data[index]['full_text'])\n",
    "    \n",
    "    index=index+1           # Total number of tweets in the dataset.\n",
    "    \n",
    "media_pos= pos_sum/len(positive_list)\n",
    "media_neu= neu_sum/len(neutral_list)\n",
    "media_neg= neg_sum/len(positive_list)"
   ]
  },
  {
   "cell_type": "code",
   "execution_count": 16,
   "id": "royal-pendant",
   "metadata": {},
   "outputs": [],
   "source": [
    "category = [\"Positive\",\"Neutral\",\"Negative\"]\n",
    "media = [media_pos, media_neu, media_neg]\n",
    "#print(media)\n",
    "\n",
    "#categorypositive = [\"Positive\"] * len(positive_list)\n",
    "#categoryneutral = [\"Neutral\"] * len(neutral_list)\n",
    "#categorynegative = [\"Negative\"] * len(negative_list)\n",
    "\n",
    "#category = categorypositive + categoryneutral + categorynegative\n",
    "\n",
    "df_fake2 = pd.DataFrame(\n",
    "    {'Media': media,\n",
    "     'Category': category\n",
    "    })"
   ]
  },
  {
   "cell_type": "markdown",
   "id": "respected-witch",
   "metadata": {},
   "source": [
    "Let's create the chart:"
   ]
  },
  {
   "cell_type": "code",
   "execution_count": 14,
   "id": "graphic-lawsuit",
   "metadata": {},
   "outputs": [
    {
     "data": {
      "text/html": [
       "\n",
       "<div id=\"altair-viz-165f157dec7949829c3c4197f842da35\"></div>\n",
       "<script type=\"text/javascript\">\n",
       "  (function(spec, embedOpt){\n",
       "    let outputDiv = document.currentScript.previousElementSibling;\n",
       "    if (outputDiv.id !== \"altair-viz-165f157dec7949829c3c4197f842da35\") {\n",
       "      outputDiv = document.getElementById(\"altair-viz-165f157dec7949829c3c4197f842da35\");\n",
       "    }\n",
       "    const paths = {\n",
       "      \"vega\": \"https://cdn.jsdelivr.net/npm//vega@5?noext\",\n",
       "      \"vega-lib\": \"https://cdn.jsdelivr.net/npm//vega-lib?noext\",\n",
       "      \"vega-lite\": \"https://cdn.jsdelivr.net/npm//vega-lite@4.8.1?noext\",\n",
       "      \"vega-embed\": \"https://cdn.jsdelivr.net/npm//vega-embed@6?noext\",\n",
       "    };\n",
       "\n",
       "    function loadScript(lib) {\n",
       "      return new Promise(function(resolve, reject) {\n",
       "        var s = document.createElement('script');\n",
       "        s.src = paths[lib];\n",
       "        s.async = true;\n",
       "        s.onload = () => resolve(paths[lib]);\n",
       "        s.onerror = () => reject(`Error loading script: ${paths[lib]}`);\n",
       "        document.getElementsByTagName(\"head\")[0].appendChild(s);\n",
       "      });\n",
       "    }\n",
       "\n",
       "    function showError(err) {\n",
       "      outputDiv.innerHTML = `<div class=\"error\" style=\"color:red;\">${err}</div>`;\n",
       "      throw err;\n",
       "    }\n",
       "\n",
       "    function displayChart(vegaEmbed) {\n",
       "      vegaEmbed(outputDiv, spec, embedOpt)\n",
       "        .catch(err => showError(`Javascript Error: ${err.message}<br>This usually means there's a typo in your chart specification. See the javascript console for the full traceback.`));\n",
       "    }\n",
       "\n",
       "    if(typeof define === \"function\" && define.amd) {\n",
       "      requirejs.config({paths});\n",
       "      require([\"vega-embed\"], displayChart, err => showError(`Error loading script: ${err.message}`));\n",
       "    } else if (typeof vegaEmbed === \"function\") {\n",
       "      displayChart(vegaEmbed);\n",
       "    } else {\n",
       "      loadScript(\"vega\")\n",
       "        .then(() => loadScript(\"vega-lite\"))\n",
       "        .then(() => loadScript(\"vega-embed\"))\n",
       "        .catch(showError)\n",
       "        .then(() => displayChart(vegaEmbed));\n",
       "    }\n",
       "  })({\"config\": {\"view\": {\"continuousWidth\": 400, \"continuousHeight\": 300}, \"axis\": {\"labelFontSize\": 13, \"titleFontSize\": 15, \"titlePadding\": 15}, \"axisX\": {\"labelAngle\": 360}, \"header\": {\"labelFontSize\": 12, \"titleFontSize\": 15}, \"legend\": {\"labelFontSize\": 12, \"titleFontSize\": 14, \"titlePadding\": 10}, \"title\": {\"fontSize\": 17, \"offset\": 25}}, \"data\": {\"name\": \"data-973ba33df033a084c821ebb2978b9eda\"}, \"mark\": {\"type\": \"bar\", \"size\": 40}, \"encoding\": {\"color\": {\"type\": \"nominal\", \"field\": \"Category\", \"legend\": null, \"scale\": {\"range\": [\"#D41159\", \"#1A85FF\", \"#00a300\"]}}, \"x\": {\"type\": \"nominal\", \"field\": \"Category\", \"title\": \"Sentiment\"}, \"y\": {\"type\": \"quantitative\", \"field\": \"Media\", \"title\": \"Media\"}}, \"title\": \"On average how much are the tweets positive, negative and neutral? - Fake Covid-19 dataset\", \"width\": 300, \"$schema\": \"https://vega.github.io/schema/vega-lite/v4.8.1.json\", \"datasets\": {\"data-973ba33df033a084c821ebb2978b9eda\": [{\"Media\": 0.2145091514143096, \"Category\": \"Positive\"}, {\"Media\": 4.084619047619054, \"Category\": \"Neutral\"}, {\"Media\": 0.1883876871880201, \"Category\": \"Negative\"}]}}, {\"mode\": \"vega-lite\"});\n",
       "</script>"
      ],
      "text/plain": [
       "alt.Chart(...)"
      ]
     },
     "execution_count": 14,
     "metadata": {},
     "output_type": "execute_result"
    }
   ],
   "source": [
    "range_ = ['#D41159', '#1A85FF', '#00a300']\n",
    "\n",
    "\n",
    "bars = alt.Chart(df_fake2).mark_bar(size=40).encode(\n",
    "    x=alt.X('Category:N',title=\"Sentiment\"),\n",
    "    y=alt.Y('Media:Q',title=\"Media\"),\n",
    "    color=alt.Color('Category:N', scale=alt.Scale(range=range_),legend=None),  #legend=None for the Tufte's data ink ratio principle\n",
    "    #column=\"Category:N\"\n",
    ").properties(\n",
    "    title=\"On average how much are the tweets in the dataset positive, negative and neutral? - Fake Covid-19 dataset\", \n",
    "    width=300\n",
    ").configure_title(\n",
    "    fontSize=17,\n",
    "    offset=25\n",
    ").configure_axis(\n",
    "    labelFontSize=13,\n",
    "    titleFontSize=15,\n",
    "    titlePadding=15\n",
    ").configure_axisX(\n",
    "    labelAngle=360\n",
    ").configure_legend(\n",
    "    titleFontSize=14,\n",
    "    labelFontSize=12,\n",
    "    titlePadding=10\n",
    ").configure_header(\n",
    "    titleFontSize=15,\n",
    "    labelFontSize=12\n",
    ")\n",
    "\n",
    "bars"
   ]
  },
  {
   "cell_type": "code",
   "execution_count": null,
   "id": "familiar-costs",
   "metadata": {},
   "outputs": [],
   "source": []
  }
 ],
 "metadata": {
  "kernelspec": {
   "display_name": "Python 3",
   "language": "python",
   "name": "python3"
  },
  "language_info": {
   "codemirror_mode": {
    "name": "ipython",
    "version": 3
   },
   "file_extension": ".py",
   "mimetype": "text/x-python",
   "name": "python",
   "nbconvert_exporter": "python",
   "pygments_lexer": "ipython3",
   "version": "3.9.2"
  }
 },
 "nbformat": 4,
 "nbformat_minor": 5
}

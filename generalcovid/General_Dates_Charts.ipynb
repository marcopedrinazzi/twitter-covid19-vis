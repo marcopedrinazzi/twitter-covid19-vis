{
 "cells": [
  {
   "cell_type": "markdown",
   "id": "potential-surrey",
   "metadata": {},
   "source": [
    "# Dates Bar Charts - General Covid-19 dataset"
   ]
  },
  {
   "cell_type": "markdown",
   "id": "about-easter",
   "metadata": {},
   "source": [
    "### dates_bar_chart.py and dates_area_chart.py"
   ]
  },
  {
   "cell_type": "markdown",
   "id": "polyphonic-virgin",
   "metadata": {},
   "source": [
    "In order to create the bar and area charts, we need the following packages:"
   ]
  },
  {
   "cell_type": "code",
   "execution_count": 1,
   "id": "comparable-ferry",
   "metadata": {},
   "outputs": [],
   "source": [
    "import pandas as pd\n",
    "import json\n",
    "from collections import Counter\n",
    "import altair as alt"
   ]
  },
  {
   "cell_type": "markdown",
   "id": "asian-netherlands",
   "metadata": {},
   "source": [
    "To read the JSON file that has all the tweets, it is necessary to do:"
   ]
  },
  {
   "cell_type": "code",
   "execution_count": 2,
   "id": "approved-stack",
   "metadata": {},
   "outputs": [],
   "source": [
    "data = []\n",
    "with open('dataset/general_result_translated_full.json', 'r') as f:\n",
    "    for line in f:\n",
    "        data.append(json.loads(line))"
   ]
  },
  {
   "cell_type": "markdown",
   "id": "educated-collar",
   "metadata": {},
   "source": [
    "### Bar chart: \"Number of Tweets per day of the week\""
   ]
  },
  {
   "cell_type": "markdown",
   "id": "certified-kenya",
   "metadata": {},
   "source": [
    "We're interested in the \"created_at\" field:"
   ]
  },
  {
   "cell_type": "code",
   "execution_count": 3,
   "id": "central-freedom",
   "metadata": {},
   "outputs": [],
   "source": [
    "index = 0\n",
    "new = []\n",
    "for element in data:\n",
    "    token = data[index]['created_at']\n",
    "    new.append(token[0:3])\n",
    "    index = index + 1\n",
    "\n",
    "#print(new)\n",
    "#print(len(new))\n",
    "\n",
    "count = Counter(new)\n",
    "#print(count)"
   ]
  },
  {
   "cell_type": "markdown",
   "id": "verbal-spirit",
   "metadata": {},
   "source": [
    "The bar chart is created:"
   ]
  },
  {
   "cell_type": "code",
   "execution_count": 4,
   "id": "royal-vertex",
   "metadata": {},
   "outputs": [
    {
     "name": "stdout",
     "output_type": "stream",
     "text": [
      "   Day  Tweet count\n",
      "0  Tue        10566\n",
      "1  Wed        10508\n",
      "2  Thu        10690\n",
      "3  Fri        10612\n",
      "4  Sat        10454\n",
      "5  Sun        10167\n",
      "6  Mon        10022\n",
      "Displaying chart at http://localhost:24688/\n"
     ]
    }
   ],
   "source": [
    "df = pd.DataFrame.from_dict(count, orient='index').reset_index()\n",
    "df = df.rename(columns={'index':'Day',0:'Tweet count'})\n",
    "\n",
    "print(df)\n",
    "\n",
    "chart = alt.Chart(df).mark_bar().encode(\n",
    "    x = alt.X('Tweet count:Q'),\n",
    "    y = alt.Y('Day', sort = ['Mon','Tue','Wed','Thu','Fri','Sat','Sun']),\n",
    "    color=alt.Color('Tweet count:Q',scale=alt.Scale(scheme=\"blues\"))\n",
    ").transform_window(\n",
    "    rank='rank(count)',\n",
    "    sort=[alt.SortField('count', order='descending')]\n",
    ").properties(width=700, height=300,  title = \"Number of Tweets per day of the week\")\n",
    "\n",
    "chart.show()"
   ]
  },
  {
   "cell_type": "markdown",
   "id": "upper-roads",
   "metadata": {},
   "source": [
    "### Area chart: \"Trend of the number of Tweets during the year\""
   ]
  },
  {
   "cell_type": "markdown",
   "id": "metropolitan-howard",
   "metadata": {},
   "source": [
    "We're interested in the \"created_at\" field:"
   ]
  },
  {
   "cell_type": "code",
   "execution_count": 5,
   "id": "alpha-extreme",
   "metadata": {},
   "outputs": [],
   "source": [
    "index = 0\n",
    "new = []\n",
    "for element in data:\n",
    "    token = data[index]['created_at']\n",
    "    new.append(token[4:7])\n",
    "    index = index + 1\n",
    "\n",
    "#print(new)\n",
    "#print(len(new))\n",
    "\n",
    "count = Counter(new)\n",
    "#print(count)"
   ]
  },
  {
   "cell_type": "markdown",
   "id": "statistical-reservation",
   "metadata": {},
   "source": [
    "The area chart is created:"
   ]
  },
  {
   "cell_type": "code",
   "execution_count": 6,
   "id": "indoor-doubt",
   "metadata": {},
   "outputs": [
    {
     "name": "stdout",
     "output_type": "stream",
     "text": [
      "  Month  Tweet count\n",
      "0   Jan         7481\n",
      "1   Feb        12097\n",
      "2   Mar        12374\n",
      "3   Apr        11242\n",
      "4   May        12858\n",
      "5   Jun        12592\n",
      "6   Jul         4375\n",
      "Displaying chart at http://localhost:24688/\n"
     ]
    }
   ],
   "source": [
    "df = pd.DataFrame.from_dict(count, orient='index').reset_index()\n",
    "df = df.rename(columns={'index':'Month',0:'Tweet count'})\n",
    "\n",
    "print(df)\n",
    "\n",
    "chart = alt.Chart(df).mark_area(\n",
    "    point= True,\n",
    "    line={'color':'dodgerblue'},\n",
    "    color=alt.Gradient(\n",
    "        gradient='linear',\n",
    "        stops=[alt.GradientStop(color='white', offset=0),\n",
    "               alt.GradientStop(color='mediumturquoise', offset=1)],\n",
    "        x1=1,\n",
    "        x2=1,\n",
    "        y1=1,\n",
    "        y2=0\n",
    "    )\n",
    ").properties(width=500, height=300,  title = \"Trend of the number of Tweets during the year\").encode(\n",
    "    alt.X('Month', sort = ['Jan','Feb','Mar','Apr','May','Jun','Jul']),\n",
    "    alt.Y('Tweet count:Q'),\n",
    "    tooltip=['Month', 'Tweet count']\n",
    ").interactive()\n",
    "\n",
    "chart.show()"
   ]
  }
 ],
 "metadata": {
  "kernelspec": {
   "display_name": "Python 3",
   "language": "python",
   "name": "python3"
  },
  "language_info": {
   "codemirror_mode": {
    "name": "ipython",
    "version": 3
   },
   "file_extension": ".py",
   "mimetype": "text/x-python",
   "name": "python",
   "nbconvert_exporter": "python",
   "pygments_lexer": "ipython3",
   "version": "3.9.2"
  }
 },
 "nbformat": 4,
 "nbformat_minor": 5
}

{
 "cells": [
  {
   "cell_type": "markdown",
   "id": "potential-surrey",
   "metadata": {},
   "source": [
    "# Dates Bar Charts - General Covid-19 dataset"
   ]
  },
  {
   "cell_type": "markdown",
   "id": "about-easter",
   "metadata": {},
   "source": [
    "### dates_bar_chart.py and dates_area_chart.py"
   ]
  },
  {
   "cell_type": "markdown",
   "id": "polyphonic-virgin",
   "metadata": {},
   "source": [
    "In order to create the bar and area charts, we need the following packages:"
   ]
  },
  {
   "cell_type": "code",
   "execution_count": 1,
   "id": "comparable-ferry",
   "metadata": {},
   "outputs": [],
   "source": [
    "import pandas as pd\n",
    "import json\n",
    "from collections import Counter\n",
    "import altair as alt"
   ]
  },
  {
   "cell_type": "markdown",
   "id": "asian-netherlands",
   "metadata": {},
   "source": [
    "To read the JSON file that has all the tweets, it is necessary to do:"
   ]
  },
  {
   "cell_type": "code",
   "execution_count": 2,
   "id": "approved-stack",
   "metadata": {},
   "outputs": [],
   "source": [
    "data = []\n",
    "with open('dataset/general_result_translated_full.json', 'r') as f:\n",
    "    for line in f:\n",
    "        data.append(json.loads(line))"
   ]
  },
  {
   "cell_type": "markdown",
   "id": "educated-collar",
   "metadata": {},
   "source": [
    "### Bar chart: \"Number of Tweets per day of the week\""
   ]
  },
  {
   "cell_type": "markdown",
   "id": "certified-kenya",
   "metadata": {},
   "source": [
    "We're interested in the \"created_at\" field:"
   ]
  },
  {
   "cell_type": "code",
   "execution_count": 3,
   "id": "central-freedom",
   "metadata": {},
   "outputs": [],
   "source": [
    "index = 0\n",
    "new = []\n",
    "for element in data:\n",
    "    token = data[index]['created_at']\n",
    "    new.append(token[0:3])\n",
    "    index = index + 1\n",
    "\n",
    "#print(new)\n",
    "#print(len(new))\n",
    "\n",
    "count = Counter(new)\n",
    "#print(count)"
   ]
  },
  {
   "cell_type": "markdown",
   "id": "verbal-spirit",
   "metadata": {},
   "source": [
    "The bar chart is created:"
   ]
  },
  {
   "cell_type": "code",
   "execution_count": 4,
   "id": "royal-vertex",
   "metadata": {},
   "outputs": [
    {
     "data": {
      "text/html": [
       "\n",
       "<div id=\"altair-viz-107db712d36541ec8bf6b9950c02f1ac\"></div>\n",
       "<script type=\"text/javascript\">\n",
       "  (function(spec, embedOpt){\n",
       "    let outputDiv = document.currentScript.previousElementSibling;\n",
       "    if (outputDiv.id !== \"altair-viz-107db712d36541ec8bf6b9950c02f1ac\") {\n",
       "      outputDiv = document.getElementById(\"altair-viz-107db712d36541ec8bf6b9950c02f1ac\");\n",
       "    }\n",
       "    const paths = {\n",
       "      \"vega\": \"https://cdn.jsdelivr.net/npm//vega@5?noext\",\n",
       "      \"vega-lib\": \"https://cdn.jsdelivr.net/npm//vega-lib?noext\",\n",
       "      \"vega-lite\": \"https://cdn.jsdelivr.net/npm//vega-lite@4.8.1?noext\",\n",
       "      \"vega-embed\": \"https://cdn.jsdelivr.net/npm//vega-embed@6?noext\",\n",
       "    };\n",
       "\n",
       "    function loadScript(lib) {\n",
       "      return new Promise(function(resolve, reject) {\n",
       "        var s = document.createElement('script');\n",
       "        s.src = paths[lib];\n",
       "        s.async = true;\n",
       "        s.onload = () => resolve(paths[lib]);\n",
       "        s.onerror = () => reject(`Error loading script: ${paths[lib]}`);\n",
       "        document.getElementsByTagName(\"head\")[0].appendChild(s);\n",
       "      });\n",
       "    }\n",
       "\n",
       "    function showError(err) {\n",
       "      outputDiv.innerHTML = `<div class=\"error\" style=\"color:red;\">${err}</div>`;\n",
       "      throw err;\n",
       "    }\n",
       "\n",
       "    function displayChart(vegaEmbed) {\n",
       "      vegaEmbed(outputDiv, spec, embedOpt)\n",
       "        .catch(err => showError(`Javascript Error: ${err.message}<br>This usually means there's a typo in your chart specification. See the javascript console for the full traceback.`));\n",
       "    }\n",
       "\n",
       "    if(typeof define === \"function\" && define.amd) {\n",
       "      requirejs.config({paths});\n",
       "      require([\"vega-embed\"], displayChart, err => showError(`Error loading script: ${err.message}`));\n",
       "    } else if (typeof vegaEmbed === \"function\") {\n",
       "      displayChart(vegaEmbed);\n",
       "    } else {\n",
       "      loadScript(\"vega\")\n",
       "        .then(() => loadScript(\"vega-lite\"))\n",
       "        .then(() => loadScript(\"vega-embed\"))\n",
       "        .catch(showError)\n",
       "        .then(() => displayChart(vegaEmbed));\n",
       "    }\n",
       "  })({\"config\": {\"view\": {\"continuousWidth\": 400, \"continuousHeight\": 300}}, \"data\": {\"name\": \"data-f5cda8e8c16a9b3059fecd7082d1df4a\"}, \"mark\": \"bar\", \"encoding\": {\"color\": {\"type\": \"quantitative\", \"field\": \"Tweet count\", \"scale\": {\"scheme\": \"blues\"}}, \"x\": {\"type\": \"quantitative\", \"field\": \"Tweet count\"}, \"y\": {\"type\": \"nominal\", \"field\": \"Day\", \"sort\": [\"Mon\", \"Tue\", \"Wed\", \"Thu\", \"Fri\", \"Sat\", \"Sun\"]}}, \"height\": 300, \"title\": \"Number of Tweets per day of the week\", \"transform\": [{\"window\": [{\"op\": \"rank\", \"field\": \"count\", \"as\": \"rank\"}], \"sort\": [{\"field\": \"count\", \"order\": \"descending\"}]}], \"width\": 700, \"$schema\": \"https://vega.github.io/schema/vega-lite/v4.8.1.json\", \"datasets\": {\"data-f5cda8e8c16a9b3059fecd7082d1df4a\": [{\"Day\": \"Tue\", \"Tweet count\": 10566}, {\"Day\": \"Wed\", \"Tweet count\": 10508}, {\"Day\": \"Thu\", \"Tweet count\": 10690}, {\"Day\": \"Fri\", \"Tweet count\": 10612}, {\"Day\": \"Sat\", \"Tweet count\": 10454}, {\"Day\": \"Sun\", \"Tweet count\": 10167}, {\"Day\": \"Mon\", \"Tweet count\": 10022}]}}, {\"mode\": \"vega-lite\"});\n",
       "</script>"
      ],
      "text/plain": [
       "alt.Chart(...)"
      ]
     },
     "execution_count": 4,
     "metadata": {},
     "output_type": "execute_result"
    }
   ],
   "source": [
    "df = pd.DataFrame.from_dict(count, orient='index').reset_index()\n",
    "df = df.rename(columns={'index':'Day',0:'Tweet count'})\n",
    "\n",
    "\n",
    "\n",
    "chart = alt.Chart(df).mark_bar().encode(\n",
    "    x = alt.X('Tweet count:Q'),\n",
    "    y = alt.Y('Day', sort = ['Mon','Tue','Wed','Thu','Fri','Sat','Sun']),\n",
    "    color=alt.Color('Tweet count:Q',scale=alt.Scale(scheme=\"blues\"))\n",
    ").transform_window(\n",
    "    rank='rank(count)',\n",
    "    sort=[alt.SortField('count', order='descending')]\n",
    ").properties(width=700, height=300,  title = \"Number of Tweets per day of the week\")\n",
    "\n",
    "chart"
   ]
  },
  {
   "cell_type": "markdown",
   "id": "upper-roads",
   "metadata": {},
   "source": [
    "### Area chart: \"Trend of the number of Tweets during the year\""
   ]
  },
  {
   "cell_type": "markdown",
   "id": "metropolitan-howard",
   "metadata": {},
   "source": [
    "We're interested in the \"created_at\" field:"
   ]
  },
  {
   "cell_type": "code",
   "execution_count": 5,
   "id": "alpha-extreme",
   "metadata": {},
   "outputs": [],
   "source": [
    "index = 0\n",
    "new = []\n",
    "for element in data:\n",
    "    token = data[index]['created_at']\n",
    "    new.append(token[4:7])\n",
    "    index = index + 1\n",
    "\n",
    "#print(new)\n",
    "#print(len(new))\n",
    "\n",
    "count = Counter(new)\n",
    "#print(count)"
   ]
  },
  {
   "cell_type": "markdown",
   "id": "statistical-reservation",
   "metadata": {},
   "source": [
    "The area chart is created:"
   ]
  },
  {
   "cell_type": "code",
   "execution_count": 6,
   "id": "indoor-doubt",
   "metadata": {},
   "outputs": [
    {
     "data": {
      "text/html": [
       "\n",
       "<div id=\"altair-viz-86c2616561974929a0bab6ce3ee3b66d\"></div>\n",
       "<script type=\"text/javascript\">\n",
       "  (function(spec, embedOpt){\n",
       "    let outputDiv = document.currentScript.previousElementSibling;\n",
       "    if (outputDiv.id !== \"altair-viz-86c2616561974929a0bab6ce3ee3b66d\") {\n",
       "      outputDiv = document.getElementById(\"altair-viz-86c2616561974929a0bab6ce3ee3b66d\");\n",
       "    }\n",
       "    const paths = {\n",
       "      \"vega\": \"https://cdn.jsdelivr.net/npm//vega@5?noext\",\n",
       "      \"vega-lib\": \"https://cdn.jsdelivr.net/npm//vega-lib?noext\",\n",
       "      \"vega-lite\": \"https://cdn.jsdelivr.net/npm//vega-lite@4.8.1?noext\",\n",
       "      \"vega-embed\": \"https://cdn.jsdelivr.net/npm//vega-embed@6?noext\",\n",
       "    };\n",
       "\n",
       "    function loadScript(lib) {\n",
       "      return new Promise(function(resolve, reject) {\n",
       "        var s = document.createElement('script');\n",
       "        s.src = paths[lib];\n",
       "        s.async = true;\n",
       "        s.onload = () => resolve(paths[lib]);\n",
       "        s.onerror = () => reject(`Error loading script: ${paths[lib]}`);\n",
       "        document.getElementsByTagName(\"head\")[0].appendChild(s);\n",
       "      });\n",
       "    }\n",
       "\n",
       "    function showError(err) {\n",
       "      outputDiv.innerHTML = `<div class=\"error\" style=\"color:red;\">${err}</div>`;\n",
       "      throw err;\n",
       "    }\n",
       "\n",
       "    function displayChart(vegaEmbed) {\n",
       "      vegaEmbed(outputDiv, spec, embedOpt)\n",
       "        .catch(err => showError(`Javascript Error: ${err.message}<br>This usually means there's a typo in your chart specification. See the javascript console for the full traceback.`));\n",
       "    }\n",
       "\n",
       "    if(typeof define === \"function\" && define.amd) {\n",
       "      requirejs.config({paths});\n",
       "      require([\"vega-embed\"], displayChart, err => showError(`Error loading script: ${err.message}`));\n",
       "    } else if (typeof vegaEmbed === \"function\") {\n",
       "      displayChart(vegaEmbed);\n",
       "    } else {\n",
       "      loadScript(\"vega\")\n",
       "        .then(() => loadScript(\"vega-lite\"))\n",
       "        .then(() => loadScript(\"vega-embed\"))\n",
       "        .catch(showError)\n",
       "        .then(() => displayChart(vegaEmbed));\n",
       "    }\n",
       "  })({\"config\": {\"view\": {\"continuousWidth\": 400, \"continuousHeight\": 300}}, \"layer\": [{\"mark\": {\"type\": \"area\", \"color\": {\"gradient\": \"linear\", \"stops\": [{\"color\": \"white\", \"offset\": 0}, {\"color\": \"mediumturquoise\", \"offset\": 1}], \"x1\": 1, \"x2\": 1, \"y1\": 1, \"y2\": 0}, \"line\": {\"color\": \"dodgerblue\"}, \"point\": true}, \"encoding\": {\"x\": {\"type\": \"nominal\", \"field\": \"Month\", \"sort\": [\"Jan\", \"Feb\", \"Mar\", \"Apr\", \"May\", \"Jun\", \"Jul\"]}, \"y\": {\"type\": \"quantitative\", \"field\": \"Tweet count\"}}, \"height\": 300, \"title\": \"Trend of the number of Tweets during the year\", \"width\": 700}, {\"mark\": \"point\", \"encoding\": {\"opacity\": {\"value\": 0}, \"x\": {\"type\": \"nominal\", \"field\": \"Month\", \"sort\": [\"Jan\", \"Feb\", \"Mar\", \"Apr\", \"May\", \"Jun\", \"Jul\"]}}, \"selection\": {\"selector001\": {\"type\": \"single\", \"nearest\": true, \"on\": \"mouseover\", \"fields\": [\"Month\"], \"empty\": \"none\"}}}, {\"mark\": \"point\", \"encoding\": {\"opacity\": {\"condition\": {\"value\": 1, \"selection\": \"selector001\"}, \"value\": 0}, \"x\": {\"type\": \"nominal\", \"field\": \"Month\", \"sort\": [\"Jan\", \"Feb\", \"Mar\", \"Apr\", \"May\", \"Jun\", \"Jul\"]}, \"y\": {\"type\": \"quantitative\", \"field\": \"Tweet count\"}}, \"height\": 300, \"title\": \"Trend of the number of Tweets during the year\", \"width\": 700}, {\"mark\": {\"type\": \"rule\", \"color\": \"gray\"}, \"encoding\": {\"x\": {\"type\": \"nominal\", \"field\": \"Month\", \"sort\": [\"Jan\", \"Feb\", \"Mar\", \"Apr\", \"May\", \"Jun\", \"Jul\"]}}, \"transform\": [{\"filter\": {\"selection\": \"selector001\"}}]}, {\"mark\": {\"type\": \"text\", \"align\": \"left\", \"dx\": 5, \"dy\": -5}, \"encoding\": {\"text\": {\"condition\": {\"type\": \"quantitative\", \"field\": \"Tweet count\", \"selection\": \"selector001\"}, \"value\": \" \"}, \"x\": {\"type\": \"nominal\", \"field\": \"Month\", \"sort\": [\"Jan\", \"Feb\", \"Mar\", \"Apr\", \"May\", \"Jun\", \"Jul\"]}, \"y\": {\"type\": \"quantitative\", \"field\": \"Tweet count\"}}, \"height\": 300, \"title\": \"Trend of the number of Tweets during the year\", \"width\": 700}], \"data\": {\"name\": \"data-9fb86646e6eae6158eaf0c82e7327a34\"}, \"height\": 300, \"width\": 700, \"$schema\": \"https://vega.github.io/schema/vega-lite/v4.8.1.json\", \"datasets\": {\"data-9fb86646e6eae6158eaf0c82e7327a34\": [{\"Month\": \"Jan\", \"Tweet count\": 7481}, {\"Month\": \"Feb\", \"Tweet count\": 12097}, {\"Month\": \"Mar\", \"Tweet count\": 12374}, {\"Month\": \"Apr\", \"Tweet count\": 11242}, {\"Month\": \"May\", \"Tweet count\": 12858}, {\"Month\": \"Jun\", \"Tweet count\": 12592}, {\"Month\": \"Jul\", \"Tweet count\": 4375}]}}, {\"mode\": \"vega-lite\"});\n",
       "</script>"
      ],
      "text/plain": [
       "alt.LayerChart(...)"
      ]
     },
     "execution_count": 6,
     "metadata": {},
     "output_type": "execute_result"
    }
   ],
   "source": [
    "df = pd.DataFrame.from_dict(count, orient='index').reset_index()\n",
    "df = df.rename(columns={'index':'Month',0:'Tweet count'})\n",
    "\n",
    "# Create a selection that chooses the nearest point & selects based on x-value\n",
    "nearest = alt.selection(type='single', nearest=True, on='mouseover',\n",
    "                        fields=['Month'], empty='none')\n",
    "\n",
    "\n",
    "chart = alt.Chart(df).mark_area(\n",
    "    point= True,\n",
    "    line={'color':'dodgerblue'},\n",
    "    color=alt.Gradient(\n",
    "        gradient='linear',\n",
    "        stops=[alt.GradientStop(color='white', offset=0),\n",
    "               alt.GradientStop(color='mediumturquoise', offset=1)],\n",
    "        x1=1,\n",
    "        x2=1,\n",
    "        y1=1,\n",
    "        y2=0\n",
    "    )\n",
    ").properties(width=700, height=300,  title = \"Trend of the number of Tweets during the year\").encode(\n",
    "    alt.X('Month', sort = ['Jan','Feb','Mar','Apr','May','Jun','Jul']),\n",
    "    alt.Y('Tweet count:Q')\n",
    "    #tooltip=['Month', 'Tweet count']\n",
    ")\n",
    "\n",
    "# Transparent selectors across the chart. This is what tells us\n",
    "# the x-value of the cursor\n",
    "selectors = alt.Chart(df).mark_point().encode(\n",
    "    x=alt.X('Month', sort = ['Jan','Feb','Mar','Apr','May','Jun','Jul']),\n",
    "    opacity=alt.value(0),\n",
    ").add_selection(\n",
    "    nearest\n",
    ")\n",
    "\n",
    "# Draw points on the line, and highlight based on selection\n",
    "points = chart.mark_point().encode(\n",
    "    opacity=alt.condition(nearest, alt.value(1), alt.value(0))\n",
    ")\n",
    "\n",
    "# Draw text labels near the points, and highlight based on selection\n",
    "text = chart.mark_text(align='left', dx=5, dy=-5).encode(\n",
    "    text=alt.condition(nearest, 'Tweet count:Q', alt.value(' '))\n",
    ")\n",
    "\n",
    "# Draw a rule at the location of the selection\n",
    "rules = alt.Chart(df).mark_rule(color='gray').encode(\n",
    "    x=alt.X('Month', sort = ['Jan','Feb','Mar','Apr','May','Jun','Jul']),\n",
    ").transform_filter(\n",
    "    nearest\n",
    ")\n",
    "\n",
    "# Put the five layers into a chart and bind the data\n",
    "alt.layer(\n",
    "    chart, selectors, points, rules, text\n",
    ").properties(\n",
    "    width=700, height=300\n",
    ")"
   ]
  },
  {
   "cell_type": "code",
   "execution_count": null,
   "id": "academic-validation",
   "metadata": {},
   "outputs": [],
   "source": []
  }
 ],
 "metadata": {
  "kernelspec": {
   "display_name": "Python 3",
   "language": "python",
   "name": "python3"
  },
  "language_info": {
   "codemirror_mode": {
    "name": "ipython",
    "version": 3
   },
   "file_extension": ".py",
   "mimetype": "text/x-python",
   "name": "python",
   "nbconvert_exporter": "python",
   "pygments_lexer": "ipython3",
   "version": "3.9.2"
  }
 },
 "nbformat": 4,
 "nbformat_minor": 5
}

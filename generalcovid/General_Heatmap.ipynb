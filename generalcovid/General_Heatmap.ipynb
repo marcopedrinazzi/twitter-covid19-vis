{
 "cells": [
  {
   "cell_type": "markdown",
   "id": "dirty-coffee",
   "metadata": {},
   "source": [
    "# Heat Map"
   ]
  },
  {
   "cell_type": "markdown",
   "id": "western-cloud",
   "metadata": {},
   "source": [
    "### heatmap.py"
   ]
  },
  {
   "cell_type": "markdown",
   "id": "strategic-disaster",
   "metadata": {},
   "source": [
    "In order to create the heatmap, we need the following packages:"
   ]
  },
  {
   "cell_type": "code",
   "execution_count": 1,
   "id": "unlikely-trust",
   "metadata": {},
   "outputs": [],
   "source": [
    "import json\n",
    "from collections import Counter\n",
    "import pandas as pd\n",
    "import altair as alt\n",
    "import datetime\n",
    "from dateutil.parser import parse"
   ]
  },
  {
   "cell_type": "markdown",
   "id": "equipped-coating",
   "metadata": {},
   "source": [
    "To read the JSON file that has all the tweets, it is necessary to do:"
   ]
  },
  {
   "cell_type": "code",
   "execution_count": 2,
   "id": "medium-prompt",
   "metadata": {},
   "outputs": [],
   "source": [
    "data = []\n",
    "with open('dataset/general_result.json', 'r') as f:\n",
    "    for line in f:\n",
    "        data.append(json.loads(line))\n"
   ]
  },
  {
   "cell_type": "markdown",
   "id": "rental-colorado",
   "metadata": {},
   "source": [
    "We're interested in the \"created_at\" field."
   ]
  },
  {
   "cell_type": "code",
   "execution_count": 3,
   "id": "manual-colony",
   "metadata": {},
   "outputs": [],
   "source": [
    "lista = []\n",
    "index = 0\n",
    "\n",
    "for element in data: \n",
    "    token=data[index]['created_at']\n",
    "    d = parse(token)\n",
    "    d = d.strftime('%Y/%m/%d')\n",
    "    lista.append(d)\n",
    "    index=index+1"
   ]
  },
  {
   "cell_type": "markdown",
   "id": "optional-semester",
   "metadata": {},
   "source": [
    "After converting the related date into a string, the number of occurrences in the created 'lista' has been counted.\n",
    "Then the DataFrame, that is a 2-dimensional labeled data structure, was generated from the array 'lista'."
   ]
  },
  {
   "cell_type": "code",
   "execution_count": 4,
   "id": "heavy-grant",
   "metadata": {},
   "outputs": [
    {
     "name": "stdout",
     "output_type": "stream",
     "text": [
      "2020/01/01\n",
      "2020/01/02\n",
      "2020/01/03\n",
      "2020/01/04\n",
      "2020/01/05\n",
      "2020/01/06\n",
      "2020/01/07\n",
      "2020/01/08\n",
      "2020/01/09\n",
      "2020/01/10\n",
      "2020/01/11\n",
      "2020/01/12\n",
      "2020/01/13\n",
      "2020/07/11\n",
      "2020/07/12\n",
      "2020/07/13\n",
      "2020/07/14\n",
      "2020/07/15\n",
      "2020/07/16\n",
      "2020/07/17\n",
      "2020/07/18\n",
      "2020/07/19\n",
      "2020/07/20\n",
      "2020/07/21\n",
      "2020/07/22\n",
      "2020/07/23\n",
      "2020/07/24\n",
      "2020/07/25\n",
      "2020/07/26\n",
      "2020/07/27\n",
      "2020/07/28\n",
      "2020/07/29\n",
      "2020/07/30\n",
      "2020/07/31\n",
      "2020/08/01\n",
      "2020/08/02\n",
      "2020/08/03\n",
      "2020/08/04\n",
      "2020/08/05\n",
      "2020/08/06\n",
      "2020/08/07\n",
      "2020/08/08\n",
      "2020/08/09\n",
      "2020/08/10\n",
      "2020/08/11\n",
      "2020/08/12\n",
      "2020/08/13\n",
      "2020/08/14\n",
      "2020/08/15\n",
      "2020/08/16\n",
      "2020/08/17\n",
      "2020/08/18\n",
      "2020/08/19\n",
      "2020/08/20\n",
      "2020/08/21\n",
      "2020/08/22\n",
      "2020/08/23\n",
      "2020/08/24\n",
      "2020/08/25\n",
      "2020/08/26\n",
      "2020/08/27\n",
      "2020/08/28\n",
      "2020/08/29\n",
      "2020/08/30\n",
      "2020/08/31\n",
      "2020/09/01\n",
      "2020/09/02\n",
      "2020/09/03\n",
      "2020/09/04\n",
      "2020/09/05\n",
      "2020/09/06\n",
      "2020/09/07\n",
      "2020/09/08\n",
      "2020/09/09\n",
      "2020/09/10\n",
      "2020/09/11\n",
      "2020/09/12\n",
      "2020/09/13\n",
      "2020/09/14\n",
      "2020/09/15\n",
      "2020/09/16\n",
      "2020/09/17\n",
      "2020/09/18\n",
      "2020/09/19\n",
      "2020/09/20\n",
      "2020/09/21\n",
      "2020/09/22\n",
      "2020/09/23\n",
      "2020/09/24\n",
      "2020/09/25\n",
      "2020/09/26\n",
      "2020/09/27\n",
      "2020/09/28\n",
      "2020/09/29\n",
      "2020/09/30\n"
     ]
    }
   ],
   "source": [
    "count=Counter(lista)\n",
    "\n",
    "start = datetime.datetime.strptime(\"2020/01/01\", \"%Y/%m/%d\")\n",
    "end = datetime.datetime.strptime(\"2020/10/01\", \"%Y/%m/%d\")\n",
    "date_generated = [start + datetime.timedelta(days=x) for x in range(0, (end-start).days)]\n",
    "\n",
    "for date in date_generated:\n",
    "    if date.strftime(\"%Y/%m/%d\") not in count:\n",
    "        print(date.strftime(\"%Y/%m/%d\") )\n",
    "        count[date.strftime(\"%Y/%m/%d\")] = 0\n",
    "\n",
    "df = pd.DataFrame.from_dict(count, orient='index').reset_index()\n",
    "df = df.rename(columns={'index':'data', 0:'tweet_count'})\n"
   ]
  },
  {
   "cell_type": "markdown",
   "id": "pressing-footage",
   "metadata": {},
   "source": [
    "The heatmap is created and visualized through the 'altair_viewer':"
   ]
  },
  {
   "cell_type": "code",
   "execution_count": 5,
   "id": "minus-timer",
   "metadata": {},
   "outputs": [
    {
     "data": {
      "text/html": [
       "\n",
       "<div id=\"altair-chart-b89b80a0085d40deb22285369035540f\"></div>\n",
       "<script type=\"text/javascript\">\n",
       "  (function(spec, embedOpt) {\n",
       "    const outputDiv = document.getElementById(\"altair-chart-b89b80a0085d40deb22285369035540f\");\n",
       "    const urls = {\n",
       "      \"vega\": \"http://localhost:23759/scripts/vega.js\",\n",
       "      \"vega-lite\": \"http://localhost:23759/scripts/vega-lite.js\",\n",
       "      \"vega-embed\": \"http://localhost:23759/scripts/vega-embed.js\",\n",
       "    };\n",
       "    function loadScript(lib) {\n",
       "      return new Promise(function(resolve, reject) {\n",
       "        var s = document.createElement('script');\n",
       "        s.src = urls[lib];\n",
       "        s.async = true;\n",
       "        s.onload = () => resolve(urls[lib]);\n",
       "        s.onerror = () => reject(`Error loading script: ${urls[lib]}`);\n",
       "        document.getElementsByTagName(\"head\")[0].appendChild(s);\n",
       "      });\n",
       "    }\n",
       "    function showError(err) {\n",
       "      outputDiv.innerHTML = `<div class=\"error\" style=\"color:red;\">${err}</div>`;\n",
       "      throw err;\n",
       "    }\n",
       "    function displayChart(vegaEmbed) {\n",
       "      vegaEmbed(outputDiv, spec, embedOpt)\n",
       "        .catch(err => showError(`Javascript Error: ${err.message}<br>This usually means there's a typo in your chart specification. See the javascript console for the full traceback.`));\n",
       "    }\n",
       "\n",
       "    if(typeof define === \"function\" && define.amd) {\n",
       "        // requirejs paths need '.js' extension stripped.\n",
       "        const paths = Object.keys(urls).reduce(function(paths, package) {\n",
       "            paths[package] = urls[package].replace(/\\.js$/, \"\");\n",
       "            return paths\n",
       "        }, {})\n",
       "        requirejs.config({paths});\n",
       "        require([\"vega-embed\"], displayChart, err => showError(`Error loading script: ${err.message}`));\n",
       "    } else if (typeof vegaEmbed === \"function\") {\n",
       "        displayChart(vegaEmbed);\n",
       "    } else {\n",
       "        loadScript(\"vega\")\n",
       "            .then(() => loadScript(\"vega-lite\"))\n",
       "            .then(() => loadScript(\"vega-embed\"))\n",
       "            .catch(showError)\n",
       "            .then(() => displayChart(vegaEmbed));\n",
       "    }\n",
       "  })({\"config\": {\"view\": {\"continuousWidth\": 400, \"continuousHeight\": 300}}, \"data\": {\"name\": \"data-577bbfd9dea05599a32871f2d1ca5dab\"}, \"mark\": \"rect\", \"encoding\": {\"color\": {\"type\": \"quantitative\", \"field\": \"tweet_count\", \"scale\": {\"scheme\": \"greenblue\"}}, \"tooltip\": [{\"type\": \"temporal\", \"field\": \"data\", \"timeUnit\": \"monthdate\", \"title\": \"Date\"}, {\"type\": \"quantitative\", \"field\": \"tweet_count\", \"title\": \"Tweet Count\"}], \"x\": {\"type\": \"ordinal\", \"field\": \"data\", \"timeUnit\": \"date\"}, \"y\": {\"type\": \"ordinal\", \"field\": \"data\", \"timeUnit\": \"month\"}}, \"title\": \"Tweet count hetmap\", \"width\": 550, \"$schema\": \"https://vega.github.io/schema/vega-lite/v4.8.1.json\", \"datasets\": {\"data-577bbfd9dea05599a32871f2d1ca5dab\": [{\"data\": \"2020/01/14\", \"tweet_count\": 425}, {\"data\": \"2020/01/15\", \"tweet_count\": 419}, {\"data\": \"2020/01/16\", \"tweet_count\": 415}, {\"data\": \"2020/01/17\", \"tweet_count\": 430}, {\"data\": \"2020/01/18\", \"tweet_count\": 410}, {\"data\": \"2020/01/19\", \"tweet_count\": 387}, {\"data\": \"2020/01/20\", \"tweet_count\": 439}, {\"data\": \"2020/01/21\", \"tweet_count\": 428}, {\"data\": \"2020/01/22\", \"tweet_count\": 436}, {\"data\": \"2020/01/23\", \"tweet_count\": 422}, {\"data\": \"2020/01/24\", \"tweet_count\": 398}, {\"data\": \"2020/01/25\", \"tweet_count\": 399}, {\"data\": \"2020/01/26\", \"tweet_count\": 403}, {\"data\": \"2020/01/27\", \"tweet_count\": 400}, {\"data\": \"2020/01/28\", \"tweet_count\": 428}, {\"data\": \"2020/01/29\", \"tweet_count\": 422}, {\"data\": \"2020/01/30\", \"tweet_count\": 399}, {\"data\": \"2020/01/31\", \"tweet_count\": 408}, {\"data\": \"2020/02/01\", \"tweet_count\": 411}, {\"data\": \"2020/02/02\", \"tweet_count\": 412}, {\"data\": \"2020/02/03\", \"tweet_count\": 406}, {\"data\": \"2020/02/04\", \"tweet_count\": 413}, {\"data\": \"2020/02/05\", \"tweet_count\": 438}, {\"data\": \"2020/02/06\", \"tweet_count\": 393}, {\"data\": \"2020/02/07\", \"tweet_count\": 407}, {\"data\": \"2020/02/08\", \"tweet_count\": 420}, {\"data\": \"2020/02/09\", \"tweet_count\": 387}, {\"data\": \"2020/02/10\", \"tweet_count\": 404}, {\"data\": \"2020/02/11\", \"tweet_count\": 422}, {\"data\": \"2020/02/12\", \"tweet_count\": 423}, {\"data\": \"2020/02/13\", \"tweet_count\": 439}, {\"data\": \"2020/02/14\", \"tweet_count\": 410}, {\"data\": \"2020/02/15\", \"tweet_count\": 402}, {\"data\": \"2020/02/16\", \"tweet_count\": 417}, {\"data\": \"2020/02/17\", \"tweet_count\": 417}, {\"data\": \"2020/02/18\", \"tweet_count\": 427}, {\"data\": \"2020/02/19\", \"tweet_count\": 409}, {\"data\": \"2020/02/20\", \"tweet_count\": 414}, {\"data\": \"2020/02/21\", \"tweet_count\": 395}, {\"data\": \"2020/02/22\", \"tweet_count\": 417}, {\"data\": \"2020/02/23\", \"tweet_count\": 390}, {\"data\": \"2020/02/24\", \"tweet_count\": 441}, {\"data\": \"2020/02/25\", \"tweet_count\": 419}, {\"data\": \"2020/02/26\", \"tweet_count\": 430}, {\"data\": \"2020/02/27\", \"tweet_count\": 415}, {\"data\": \"2020/02/28\", \"tweet_count\": 425}, {\"data\": \"2020/02/29\", \"tweet_count\": 444}, {\"data\": \"2020/03/01\", \"tweet_count\": 452}, {\"data\": \"2020/03/02\", \"tweet_count\": 420}, {\"data\": \"2020/03/03\", \"tweet_count\": 412}, {\"data\": \"2020/03/04\", \"tweet_count\": 407}, {\"data\": \"2020/03/05\", \"tweet_count\": 443}, {\"data\": \"2020/03/06\", \"tweet_count\": 418}, {\"data\": \"2020/03/07\", \"tweet_count\": 430}, {\"data\": \"2020/03/08\", \"tweet_count\": 386}, {\"data\": \"2020/03/09\", \"tweet_count\": 393}, {\"data\": \"2020/03/10\", \"tweet_count\": 424}, {\"data\": \"2020/03/11\", \"tweet_count\": 400}, {\"data\": \"2020/03/12\", \"tweet_count\": 403}, {\"data\": \"2020/03/13\", \"tweet_count\": 387}, {\"data\": \"2020/03/14\", \"tweet_count\": 399}, {\"data\": \"2020/03/15\", \"tweet_count\": 399}, {\"data\": \"2020/03/16\", \"tweet_count\": 388}, {\"data\": \"2020/03/17\", \"tweet_count\": 400}, {\"data\": \"2020/03/18\", \"tweet_count\": 333}, {\"data\": \"2020/03/19\", \"tweet_count\": 427}, {\"data\": \"2020/03/20\", \"tweet_count\": 378}, {\"data\": \"2020/03/21\", \"tweet_count\": 386}, {\"data\": \"2020/03/22\", \"tweet_count\": 355}, {\"data\": \"2020/03/23\", \"tweet_count\": 371}, {\"data\": \"2020/03/24\", \"tweet_count\": 391}, {\"data\": \"2020/03/25\", \"tweet_count\": 402}, {\"data\": \"2020/03/26\", \"tweet_count\": 410}, {\"data\": \"2020/03/27\", \"tweet_count\": 383}, {\"data\": \"2020/03/28\", \"tweet_count\": 393}, {\"data\": \"2020/03/29\", \"tweet_count\": 372}, {\"data\": \"2020/03/30\", \"tweet_count\": 386}, {\"data\": \"2020/03/31\", \"tweet_count\": 392}, {\"data\": \"2020/04/01\", \"tweet_count\": 367}, {\"data\": \"2020/04/02\", \"tweet_count\": 359}, {\"data\": \"2020/04/03\", \"tweet_count\": 377}, {\"data\": \"2020/04/04\", \"tweet_count\": 391}, {\"data\": \"2020/04/05\", \"tweet_count\": 374}, {\"data\": \"2020/04/06\", \"tweet_count\": 371}, {\"data\": \"2020/04/07\", \"tweet_count\": 353}, {\"data\": \"2020/04/08\", \"tweet_count\": 388}, {\"data\": \"2020/04/09\", \"tweet_count\": 388}, {\"data\": \"2020/04/10\", \"tweet_count\": 352}, {\"data\": \"2020/04/11\", \"tweet_count\": 416}, {\"data\": \"2020/04/12\", \"tweet_count\": 375}, {\"data\": \"2020/04/13\", \"tweet_count\": 373}, {\"data\": \"2020/04/14\", \"tweet_count\": 356}, {\"data\": \"2020/04/15\", \"tweet_count\": 343}, {\"data\": \"2020/04/16\", \"tweet_count\": 374}, {\"data\": \"2020/04/17\", \"tweet_count\": 361}, {\"data\": \"2020/04/18\", \"tweet_count\": 386}, {\"data\": \"2020/04/19\", \"tweet_count\": 374}, {\"data\": \"2020/04/20\", \"tweet_count\": 343}, {\"data\": \"2020/04/21\", \"tweet_count\": 395}, {\"data\": \"2020/04/22\", \"tweet_count\": 396}, {\"data\": \"2020/04/23\", \"tweet_count\": 375}, {\"data\": \"2020/04/24\", \"tweet_count\": 364}, {\"data\": \"2020/04/25\", \"tweet_count\": 380}, {\"data\": \"2020/04/26\", \"tweet_count\": 414}, {\"data\": \"2020/04/27\", \"tweet_count\": 403}, {\"data\": \"2020/04/28\", \"tweet_count\": 344}, {\"data\": \"2020/04/29\", \"tweet_count\": 349}, {\"data\": \"2020/04/30\", \"tweet_count\": 366}, {\"data\": \"2020/05/01\", \"tweet_count\": 428}, {\"data\": \"2020/05/02\", \"tweet_count\": 416}, {\"data\": \"2020/05/03\", \"tweet_count\": 391}, {\"data\": \"2020/05/04\", \"tweet_count\": 373}, {\"data\": \"2020/05/05\", \"tweet_count\": 418}, {\"data\": \"2020/05/06\", \"tweet_count\": 450}, {\"data\": \"2020/05/07\", \"tweet_count\": 425}, {\"data\": \"2020/05/08\", \"tweet_count\": 416}, {\"data\": \"2020/05/09\", \"tweet_count\": 430}, {\"data\": \"2020/05/10\", \"tweet_count\": 414}, {\"data\": \"2020/05/11\", \"tweet_count\": 409}, {\"data\": \"2020/05/12\", \"tweet_count\": 413}, {\"data\": \"2020/05/13\", \"tweet_count\": 403}, {\"data\": \"2020/05/14\", \"tweet_count\": 390}, {\"data\": \"2020/05/15\", \"tweet_count\": 427}, {\"data\": \"2020/05/16\", \"tweet_count\": 471}, {\"data\": \"2020/05/17\", \"tweet_count\": 425}, {\"data\": \"2020/05/18\", \"tweet_count\": 393}, {\"data\": \"2020/05/19\", \"tweet_count\": 407}, {\"data\": \"2020/05/20\", \"tweet_count\": 425}, {\"data\": \"2020/05/21\", \"tweet_count\": 402}, {\"data\": \"2020/05/22\", \"tweet_count\": 418}, {\"data\": \"2020/05/23\", \"tweet_count\": 422}, {\"data\": \"2020/05/24\", \"tweet_count\": 411}, {\"data\": \"2020/05/25\", \"tweet_count\": 403}, {\"data\": \"2020/05/26\", \"tweet_count\": 389}, {\"data\": \"2020/05/27\", \"tweet_count\": 353}, {\"data\": \"2020/05/28\", \"tweet_count\": 450}, {\"data\": \"2020/05/29\", \"tweet_count\": 401}, {\"data\": \"2020/05/30\", \"tweet_count\": 402}, {\"data\": \"2020/05/31\", \"tweet_count\": 421}, {\"data\": \"2020/06/01\", \"tweet_count\": 382}, {\"data\": \"2020/06/02\", \"tweet_count\": 369}, {\"data\": \"2020/06/03\", \"tweet_count\": 419}, {\"data\": \"2020/06/04\", \"tweet_count\": 394}, {\"data\": \"2020/06/05\", \"tweet_count\": 423}, {\"data\": \"2020/06/06\", \"tweet_count\": 431}, {\"data\": \"2020/06/07\", \"tweet_count\": 419}, {\"data\": \"2020/06/08\", \"tweet_count\": 418}, {\"data\": \"2020/06/09\", \"tweet_count\": 411}, {\"data\": \"2020/06/10\", \"tweet_count\": 370}, {\"data\": \"2020/06/11\", \"tweet_count\": 436}, {\"data\": \"2020/06/12\", \"tweet_count\": 423}, {\"data\": \"2020/06/13\", \"tweet_count\": 418}, {\"data\": \"2020/06/14\", \"tweet_count\": 425}, {\"data\": \"2020/06/15\", \"tweet_count\": 388}, {\"data\": \"2020/06/16\", \"tweet_count\": 417}, {\"data\": \"2020/06/17\", \"tweet_count\": 417}, {\"data\": \"2020/06/18\", \"tweet_count\": 399}, {\"data\": \"2020/06/19\", \"tweet_count\": 435}, {\"data\": \"2020/06/20\", \"tweet_count\": 476}, {\"data\": \"2020/06/21\", \"tweet_count\": 461}, {\"data\": \"2020/06/22\", \"tweet_count\": 406}, {\"data\": \"2020/06/23\", \"tweet_count\": 441}, {\"data\": \"2020/06/24\", \"tweet_count\": 393}, {\"data\": \"2020/06/25\", \"tweet_count\": 429}, {\"data\": \"2020/06/26\", \"tweet_count\": 433}, {\"data\": \"2020/06/27\", \"tweet_count\": 437}, {\"data\": \"2020/06/28\", \"tweet_count\": 415}, {\"data\": \"2020/06/29\", \"tweet_count\": 429}, {\"data\": \"2020/06/30\", \"tweet_count\": 406}, {\"data\": \"2020/07/01\", \"tweet_count\": 446}, {\"data\": \"2020/07/02\", \"tweet_count\": 457}, {\"data\": \"2020/07/03\", \"tweet_count\": 430}, {\"data\": \"2020/07/04\", \"tweet_count\": 423}, {\"data\": \"2020/07/05\", \"tweet_count\": 429}, {\"data\": \"2020/07/06\", \"tweet_count\": 419}, {\"data\": \"2020/07/07\", \"tweet_count\": 436}, {\"data\": \"2020/07/08\", \"tweet_count\": 438}, {\"data\": \"2020/07/09\", \"tweet_count\": 430}, {\"data\": \"2020/07/10\", \"tweet_count\": 446}, {\"data\": \"2020/01/01\", \"tweet_count\": 0}, {\"data\": \"2020/01/02\", \"tweet_count\": 0}, {\"data\": \"2020/01/03\", \"tweet_count\": 0}, {\"data\": \"2020/01/04\", \"tweet_count\": 0}, {\"data\": \"2020/01/05\", \"tweet_count\": 0}, {\"data\": \"2020/01/06\", \"tweet_count\": 0}, {\"data\": \"2020/01/07\", \"tweet_count\": 0}, {\"data\": \"2020/01/08\", \"tweet_count\": 0}, {\"data\": \"2020/01/09\", \"tweet_count\": 0}, {\"data\": \"2020/01/10\", \"tweet_count\": 0}, {\"data\": \"2020/01/11\", \"tweet_count\": 0}, {\"data\": \"2020/01/12\", \"tweet_count\": 0}, {\"data\": \"2020/01/13\", \"tweet_count\": 0}, {\"data\": \"2020/07/11\", \"tweet_count\": 0}, {\"data\": \"2020/07/12\", \"tweet_count\": 0}, {\"data\": \"2020/07/13\", \"tweet_count\": 0}, {\"data\": \"2020/07/14\", \"tweet_count\": 0}, {\"data\": \"2020/07/15\", \"tweet_count\": 0}, {\"data\": \"2020/07/16\", \"tweet_count\": 0}, {\"data\": \"2020/07/17\", \"tweet_count\": 0}, {\"data\": \"2020/07/18\", \"tweet_count\": 0}, {\"data\": \"2020/07/19\", \"tweet_count\": 0}, {\"data\": \"2020/07/20\", \"tweet_count\": 0}, {\"data\": \"2020/07/21\", \"tweet_count\": 0}, {\"data\": \"2020/07/22\", \"tweet_count\": 0}, {\"data\": \"2020/07/23\", \"tweet_count\": 0}, {\"data\": \"2020/07/24\", \"tweet_count\": 0}, {\"data\": \"2020/07/25\", \"tweet_count\": 0}, {\"data\": \"2020/07/26\", \"tweet_count\": 0}, {\"data\": \"2020/07/27\", \"tweet_count\": 0}, {\"data\": \"2020/07/28\", \"tweet_count\": 0}, {\"data\": \"2020/07/29\", \"tweet_count\": 0}, {\"data\": \"2020/07/30\", \"tweet_count\": 0}, {\"data\": \"2020/07/31\", \"tweet_count\": 0}, {\"data\": \"2020/08/01\", \"tweet_count\": 0}, {\"data\": \"2020/08/02\", \"tweet_count\": 0}, {\"data\": \"2020/08/03\", \"tweet_count\": 0}, {\"data\": \"2020/08/04\", \"tweet_count\": 0}, {\"data\": \"2020/08/05\", \"tweet_count\": 0}, {\"data\": \"2020/08/06\", \"tweet_count\": 0}, {\"data\": \"2020/08/07\", \"tweet_count\": 0}, {\"data\": \"2020/08/08\", \"tweet_count\": 0}, {\"data\": \"2020/08/09\", \"tweet_count\": 0}, {\"data\": \"2020/08/10\", \"tweet_count\": 0}, {\"data\": \"2020/08/11\", \"tweet_count\": 0}, {\"data\": \"2020/08/12\", \"tweet_count\": 0}, {\"data\": \"2020/08/13\", \"tweet_count\": 0}, {\"data\": \"2020/08/14\", \"tweet_count\": 0}, {\"data\": \"2020/08/15\", \"tweet_count\": 0}, {\"data\": \"2020/08/16\", \"tweet_count\": 0}, {\"data\": \"2020/08/17\", \"tweet_count\": 0}, {\"data\": \"2020/08/18\", \"tweet_count\": 0}, {\"data\": \"2020/08/19\", \"tweet_count\": 0}, {\"data\": \"2020/08/20\", \"tweet_count\": 0}, {\"data\": \"2020/08/21\", \"tweet_count\": 0}, {\"data\": \"2020/08/22\", \"tweet_count\": 0}, {\"data\": \"2020/08/23\", \"tweet_count\": 0}, {\"data\": \"2020/08/24\", \"tweet_count\": 0}, {\"data\": \"2020/08/25\", \"tweet_count\": 0}, {\"data\": \"2020/08/26\", \"tweet_count\": 0}, {\"data\": \"2020/08/27\", \"tweet_count\": 0}, {\"data\": \"2020/08/28\", \"tweet_count\": 0}, {\"data\": \"2020/08/29\", \"tweet_count\": 0}, {\"data\": \"2020/08/30\", \"tweet_count\": 0}, {\"data\": \"2020/08/31\", \"tweet_count\": 0}, {\"data\": \"2020/09/01\", \"tweet_count\": 0}, {\"data\": \"2020/09/02\", \"tweet_count\": 0}, {\"data\": \"2020/09/03\", \"tweet_count\": 0}, {\"data\": \"2020/09/04\", \"tweet_count\": 0}, {\"data\": \"2020/09/05\", \"tweet_count\": 0}, {\"data\": \"2020/09/06\", \"tweet_count\": 0}, {\"data\": \"2020/09/07\", \"tweet_count\": 0}, {\"data\": \"2020/09/08\", \"tweet_count\": 0}, {\"data\": \"2020/09/09\", \"tweet_count\": 0}, {\"data\": \"2020/09/10\", \"tweet_count\": 0}, {\"data\": \"2020/09/11\", \"tweet_count\": 0}, {\"data\": \"2020/09/12\", \"tweet_count\": 0}, {\"data\": \"2020/09/13\", \"tweet_count\": 0}, {\"data\": \"2020/09/14\", \"tweet_count\": 0}, {\"data\": \"2020/09/15\", \"tweet_count\": 0}, {\"data\": \"2020/09/16\", \"tweet_count\": 0}, {\"data\": \"2020/09/17\", \"tweet_count\": 0}, {\"data\": \"2020/09/18\", \"tweet_count\": 0}, {\"data\": \"2020/09/19\", \"tweet_count\": 0}, {\"data\": \"2020/09/20\", \"tweet_count\": 0}, {\"data\": \"2020/09/21\", \"tweet_count\": 0}, {\"data\": \"2020/09/22\", \"tweet_count\": 0}, {\"data\": \"2020/09/23\", \"tweet_count\": 0}, {\"data\": \"2020/09/24\", \"tweet_count\": 0}, {\"data\": \"2020/09/25\", \"tweet_count\": 0}, {\"data\": \"2020/09/26\", \"tweet_count\": 0}, {\"data\": \"2020/09/27\", \"tweet_count\": 0}, {\"data\": \"2020/09/28\", \"tweet_count\": 0}, {\"data\": \"2020/09/29\", \"tweet_count\": 0}, {\"data\": \"2020/09/30\", \"tweet_count\": 0}]}}, {});\n",
       "</script>\n"
      ],
      "text/plain": [
       "alt.Chart(...)"
      ]
     },
     "execution_count": 5,
     "metadata": {},
     "output_type": "execute_result"
    }
   ],
   "source": [
    "alt.renderers.enable('altair_viewer',inline=True)\n",
    "alt.Chart(\n",
    "    df,\n",
    "    title=\"Tweet count hetmap\"\n",
    ").mark_rect().encode(\n",
    "    x='date(data):O',\n",
    "    y='month(data):O',\n",
    "    color=alt.Color('tweet_count:Q', scale=alt.Scale(scheme=\"greenblue\")),\n",
    "    tooltip=[\n",
    "        alt.Tooltip('monthdate(data):T', title='Date'),\n",
    "        alt.Tooltip('tweet_count:Q', title='Tweet Count')\n",
    "    ]\n",
    ").properties(width=550)\n"
   ]
  }
 ],
 "metadata": {
  "kernelspec": {
   "display_name": "Python 3",
   "language": "python",
   "name": "python3"
  },
  "language_info": {
   "codemirror_mode": {
    "name": "ipython",
    "version": 3
   },
   "file_extension": ".py",
   "mimetype": "text/x-python",
   "name": "python",
   "nbconvert_exporter": "python",
   "pygments_lexer": "ipython3",
   "version": "3.9.2"
  }
 },
 "nbformat": 4,
 "nbformat_minor": 5
}

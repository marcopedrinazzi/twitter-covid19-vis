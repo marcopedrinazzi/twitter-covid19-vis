{
 "cells": [
  {
   "cell_type": "markdown",
   "id": "natural-speaker",
   "metadata": {},
   "source": [
    "# Tables - General Covid-19 Dataset"
   ]
  },
  {
   "cell_type": "markdown",
   "id": "regional-artwork",
   "metadata": {},
   "source": [
    "## Tweets Visualization"
   ]
  },
  {
   "cell_type": "markdown",
   "id": "early-amount",
   "metadata": {},
   "source": [
    "### tabella_general.py"
   ]
  },
  {
   "cell_type": "markdown",
   "id": "configured-tomorrow",
   "metadata": {},
   "source": [
    "We've used the following packages to create a table showing the Tweets and the relative Tweets links:"
   ]
  },
  {
   "cell_type": "code",
   "execution_count": 1,
   "id": "studied-figure",
   "metadata": {},
   "outputs": [],
   "source": [
    "import pandas as pd\n",
    "import json\n",
    "from dateutil.parser import parse\n",
    "import dash\n",
    "import dash_core_components as dcc\n",
    "import dash_html_components as html\n",
    "from dash.dependencies import Input, Output\n",
    "import dash_table\n",
    "import re"
   ]
  },
  {
   "cell_type": "markdown",
   "id": "simple-polls",
   "metadata": {},
   "source": [
    "We've defined a function to remove URLs from the Tweet's text:"
   ]
  },
  {
   "cell_type": "code",
   "execution_count": 2,
   "id": "explicit-symbol",
   "metadata": {},
   "outputs": [],
   "source": [
    "def remove_urls(text):\n",
    "    result = re.sub(r\"http\\S+\", \"\", text)\n",
    "    return(result)"
   ]
  },
  {
   "cell_type": "markdown",
   "id": "remarkable-update",
   "metadata": {},
   "source": [
    "To read the JSON file that has all the tweets, it is necessary to do:"
   ]
  },
  {
   "cell_type": "code",
   "execution_count": null,
   "id": "religious-employment",
   "metadata": {},
   "outputs": [],
   "source": [
    "data = []\n",
    "with open('dataset/general_result_translated_full.json', 'r') as f:\n",
    "    for line in f:\n",
    "        data.append(json.loads(line))"
   ]
  },
  {
   "cell_type": "markdown",
   "id": "separated-republic",
   "metadata": {},
   "source": [
    "We're interested in the \"created_at\", \"full_text\" and \"id_str\" fields:"
   ]
  },
  {
   "cell_type": "code",
   "execution_count": null,
   "id": "unlikely-sleeping",
   "metadata": {},
   "outputs": [],
   "source": [
    "index= 0\n",
    "\n",
    "date = []\n",
    "txt = []\n",
    "link = []\n",
    "\n",
    "for element in data:\n",
    "    token=data[index]['created_at']\n",
    "    d = parse(token)\n",
    "    d = d.strftime('%Y/%m/%d')\n",
    "    date.append(d)\n",
    "    \n",
    "    txt.append(remove_urls(data[index]['full_text']))\n",
    "    link.append(\"[http://twitter.com/anyuser/status/\"+data[index]['id_str']+\"](http://twitter.com/anyuser/status/\"+data[index]['id_str']+\")\")\n",
    "    \n",
    "    index=index+1"
   ]
  },
  {
   "cell_type": "markdown",
   "id": "insured-clarity",
   "metadata": {},
   "source": [
    "We create the Pandas DataFrame and then we work on it in order to create the table:"
   ]
  },
  {
   "cell_type": "code",
   "execution_count": null,
   "id": "fantastic-scheduling",
   "metadata": {},
   "outputs": [],
   "source": [
    "df = pd.DataFrame(\n",
    "    {'Date': date,\n",
    "    'Tweet': txt,\n",
    "     'Link': link\n",
    "    })"
   ]
  },
  {
   "cell_type": "markdown",
   "id": "gross-johnston",
   "metadata": {},
   "source": [
    "In order to create the table, we've used the Dash module, that allows to generate an interactive table."
   ]
  },
  {
   "cell_type": "code",
   "execution_count": null,
   "id": "general-aggregate",
   "metadata": {},
   "outputs": [],
   "source": [
    "app = dash.Dash(__name__)\n",
    "#https://dash.plotly.com/datatable/filtering\n",
    "app.layout = html.Div([\n",
    "    dash_table.DataTable(\n",
    "        id='datatable-interactivity',\n",
    "        columns=[\n",
    "            {'name': 'Date', 'id': 'Date'},\n",
    "            {'name': 'Tweet', 'id': 'Tweet'},\n",
    "            {'name': 'Link', 'id':'Link', 'type': 'text', 'presentation':'markdown'}],\n",
    "        data=df.to_dict('records'),\n",
    "        style_filter={\n",
    "            \"backgroundColor\":\"white\"\n",
    "        },\n",
    "        style_data_conditional=[\n",
    "        {\n",
    "            'if': {\n",
    "                'column_id': 'Date',\n",
    "            },\n",
    "            'width':'200px'\n",
    "        },\n",
    "        {\n",
    "            'if': {\n",
    "                'column_id': 'Tweet',\n",
    "            },\n",
    "            'width':'2500px'\n",
    "        },\n",
    "        {\n",
    "            'if': {\n",
    "                'column_id': 'Link',\n",
    "            },\n",
    "            'font-size':'16px'\n",
    "        }],\n",
    "        style_cell={\n",
    "            'textAlign':'left',\n",
    "            'font-family': 'Helvetica Neue',\n",
    "            'whiteSpace': 'normal',\n",
    "            'padding-bottom': '15px',\n",
    "            'border':'0px solid darkslategray',\n",
    "            'font-size':'16px',\n",
    "            'height': 'auto'\n",
    "        },\n",
    "        style_header={\n",
    "            'backgroundColor':\"white\",\n",
    "            'font-family':'Helvetica Neue',\n",
    "            'font-weight': 'bold',\n",
    "            'whiteSpace': 'normal',\n",
    "            'padding': '10px',\n",
    "            'border-bottom':'1px solid darkslategray',\n",
    "            'font-size':'18px',\n",
    "            'height': 'auto'\n",
    "        },\n",
    "        style_data={\n",
    "            'whiteSpace': 'normal',\n",
    "            'height': 'auto'\n",
    "        },\n",
    "        filter_action=\"native\",\n",
    "        sort_action=\"native\",\n",
    "        sort_mode=\"multi\",\n",
    "        page_action=\"native\",\n",
    "        page_current= 0,\n",
    "        page_size= 8,\n",
    "        fill_width=False\n",
    "    ),\n",
    "    html.Div(id='datatable-interactivity-container')\n",
    "])\n",
    "\n",
    "if __name__ == '__main__':\n",
    "    app.run_server(debug=False)"
   ]
  }
 ],
 "metadata": {
  "kernelspec": {
   "display_name": "Python 3",
   "language": "python",
   "name": "python3"
  },
  "language_info": {
   "codemirror_mode": {
    "name": "ipython",
    "version": 3
   },
   "file_extension": ".py",
   "mimetype": "text/x-python",
   "name": "python",
   "nbconvert_exporter": "python",
   "pygments_lexer": "ipython3",
   "version": "3.9.2"
  }
 },
 "nbformat": 4,
 "nbformat_minor": 5
}

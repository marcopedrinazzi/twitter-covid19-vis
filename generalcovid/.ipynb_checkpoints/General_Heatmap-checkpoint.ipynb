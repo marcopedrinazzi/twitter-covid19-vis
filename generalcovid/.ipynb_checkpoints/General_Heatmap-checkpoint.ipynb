{
 "cells": [
  {
   "cell_type": "markdown",
   "id": "dirty-coffee",
   "metadata": {},
   "source": [
    "# Heat Map"
   ]
  },
  {
   "cell_type": "markdown",
   "id": "strategic-disaster",
   "metadata": {},
   "source": []
  },
  {
   "cell_type": "code",
   "execution_count": 1,
   "id": "unlikely-trust",
   "metadata": {},
   "outputs": [],
   "source": [
    "import json\n",
    "from collections import Counter\n",
    "import pandas as pd\n",
    "import altair as alt\n",
    "import datetime\n",
    "from dateutil.parser import parse"
   ]
  },
  {
   "cell_type": "markdown",
   "id": "equipped-coating",
   "metadata": {},
   "source": []
  },
  {
   "cell_type": "code",
   "execution_count": 2,
   "id": "medium-prompt",
   "metadata": {},
   "outputs": [],
   "source": [
    "data = []\n",
    "with open('dataset/general_result.json', 'r') as f:\n",
    "    for line in f:\n",
    "        data.append(json.loads(line))\n"
   ]
  },
  {
   "cell_type": "markdown",
   "id": "rental-colorado",
   "metadata": {},
   "source": []
  },
  {
   "cell_type": "code",
   "execution_count": 3,
   "id": "manual-colony",
   "metadata": {},
   "outputs": [],
   "source": [
    "lista = []\n",
    "index = 0\n",
    "\n",
    "for element in data: \n",
    "    token=data[index]['created_at']\n",
    "    d = parse(token)\n",
    "    d = d.strftime('%Y/%m/%d')\n",
    "    lista.append(d)\n",
    "    index=index+1\n",
    "\n",
    "\n",
    "count=Counter(lista)\n",
    "df = pd.DataFrame.from_dict(count, orient='index').reset_index()\n",
    "df = df.rename(columns={'index':'data', 0:'tweet_count'})\n",
    "\n"
   ]
  },
  {
   "cell_type": "markdown",
   "id": "pressing-footage",
   "metadata": {},
   "source": []
  },
  {
   "cell_type": "code",
   "execution_count": 4,
   "id": "minus-timer",
   "metadata": {},
   "outputs": [
    {
     "data": {
      "text/html": [
       "\n",
       "<div id=\"altair-chart-9d069d8e1b0e4aeaad618ed5e924b6ce\"></div>\n",
       "<script type=\"text/javascript\">\n",
       "  (function(spec, embedOpt) {\n",
       "    const outputDiv = document.getElementById(\"altair-chart-9d069d8e1b0e4aeaad618ed5e924b6ce\");\n",
       "    const urls = {\n",
       "      \"vega\": \"http://localhost:17962/scripts/vega.js\",\n",
       "      \"vega-lite\": \"http://localhost:17962/scripts/vega-lite.js\",\n",
       "      \"vega-embed\": \"http://localhost:17962/scripts/vega-embed.js\",\n",
       "    };\n",
       "    function loadScript(lib) {\n",
       "      return new Promise(function(resolve, reject) {\n",
       "        var s = document.createElement('script');\n",
       "        s.src = urls[lib];\n",
       "        s.async = true;\n",
       "        s.onload = () => resolve(urls[lib]);\n",
       "        s.onerror = () => reject(`Error loading script: ${urls[lib]}`);\n",
       "        document.getElementsByTagName(\"head\")[0].appendChild(s);\n",
       "      });\n",
       "    }\n",
       "    function showError(err) {\n",
       "      outputDiv.innerHTML = `<div class=\"error\" style=\"color:red;\">${err}</div>`;\n",
       "      throw err;\n",
       "    }\n",
       "    function displayChart(vegaEmbed) {\n",
       "      vegaEmbed(outputDiv, spec, embedOpt)\n",
       "        .catch(err => showError(`Javascript Error: ${err.message}<br>This usually means there's a typo in your chart specification. See the javascript console for the full traceback.`));\n",
       "    }\n",
       "\n",
       "    if(typeof define === \"function\" && define.amd) {\n",
       "        // requirejs paths need '.js' extension stripped.\n",
       "        const paths = Object.keys(urls).reduce(function(paths, package) {\n",
       "            paths[package] = urls[package].replace(/\\.js$/, \"\");\n",
       "            return paths\n",
       "        }, {})\n",
       "        requirejs.config({paths});\n",
       "        require([\"vega-embed\"], displayChart, err => showError(`Error loading script: ${err.message}`));\n",
       "    } else if (typeof vegaEmbed === \"function\") {\n",
       "        displayChart(vegaEmbed);\n",
       "    } else {\n",
       "        loadScript(\"vega\")\n",
       "            .then(() => loadScript(\"vega-lite\"))\n",
       "            .then(() => loadScript(\"vega-embed\"))\n",
       "            .catch(showError)\n",
       "            .then(() => displayChart(vegaEmbed));\n",
       "    }\n",
       "  })({\"config\": {\"view\": {\"continuousWidth\": 400, \"continuousHeight\": 300}}, \"data\": {\"name\": \"data-2c57b3412e0db3f1fac4fd5b1639a5a9\"}, \"mark\": \"rect\", \"encoding\": {\"color\": {\"type\": \"quantitative\", \"field\": \"tweet_count\", \"scale\": {\"scheme\": \"inferno\"}}, \"tooltip\": [{\"type\": \"temporal\", \"field\": \"data\", \"timeUnit\": \"monthdate\", \"title\": \"Date\"}, {\"type\": \"quantitative\", \"field\": \"tweet_count\", \"title\": \"Tweet Count\"}], \"x\": {\"type\": \"ordinal\", \"field\": \"data\", \"timeUnit\": \"date\"}, \"y\": {\"type\": \"ordinal\", \"field\": \"data\", \"timeUnit\": \"month\"}}, \"title\": \"Tweet count hetmap\", \"width\": 550, \"$schema\": \"https://vega.github.io/schema/vega-lite/v4.8.1.json\", \"datasets\": {\"data-2c57b3412e0db3f1fac4fd5b1639a5a9\": [{\"data\": \"2020/01/14\", \"tweet_count\": 425}, {\"data\": \"2020/01/15\", \"tweet_count\": 416}, {\"data\": \"2020/01/16\", \"tweet_count\": 412}, {\"data\": \"2020/01/17\", \"tweet_count\": 434}, {\"data\": \"2020/01/18\", \"tweet_count\": 417}, {\"data\": \"2020/01/19\", \"tweet_count\": 390}, {\"data\": \"2020/01/20\", \"tweet_count\": 444}, {\"data\": \"2020/01/21\", \"tweet_count\": 427}, {\"data\": \"2020/01/22\", \"tweet_count\": 439}, {\"data\": \"2020/01/23\", \"tweet_count\": 423}, {\"data\": \"2020/01/24\", \"tweet_count\": 401}, {\"data\": \"2020/01/25\", \"tweet_count\": 395}, {\"data\": \"2020/01/26\", \"tweet_count\": 401}, {\"data\": \"2020/01/27\", \"tweet_count\": 400}, {\"data\": \"2020/01/28\", \"tweet_count\": 426}, {\"data\": \"2020/01/29\", \"tweet_count\": 425}, {\"data\": \"2020/01/30\", \"tweet_count\": 398}, {\"data\": \"2020/01/31\", \"tweet_count\": 408}, {\"data\": \"2020/02/01\", \"tweet_count\": 414}, {\"data\": \"2020/02/02\", \"tweet_count\": 413}, {\"data\": \"2020/02/03\", \"tweet_count\": 410}, {\"data\": \"2020/02/04\", \"tweet_count\": 414}, {\"data\": \"2020/02/05\", \"tweet_count\": 442}, {\"data\": \"2020/02/06\", \"tweet_count\": 396}, {\"data\": \"2020/02/07\", \"tweet_count\": 405}, {\"data\": \"2020/02/08\", \"tweet_count\": 425}, {\"data\": \"2020/02/09\", \"tweet_count\": 390}, {\"data\": \"2020/02/10\", \"tweet_count\": 402}, {\"data\": \"2020/02/11\", \"tweet_count\": 426}, {\"data\": \"2020/02/12\", \"tweet_count\": 426}, {\"data\": \"2020/02/13\", \"tweet_count\": 439}, {\"data\": \"2020/02/14\", \"tweet_count\": 412}, {\"data\": \"2020/02/15\", \"tweet_count\": 404}, {\"data\": \"2020/02/16\", \"tweet_count\": 419}, {\"data\": \"2020/02/17\", \"tweet_count\": 418}, {\"data\": \"2020/02/18\", \"tweet_count\": 426}, {\"data\": \"2020/02/19\", \"tweet_count\": 407}, {\"data\": \"2020/02/20\", \"tweet_count\": 418}, {\"data\": \"2020/02/21\", \"tweet_count\": 401}, {\"data\": \"2020/02/22\", \"tweet_count\": 414}, {\"data\": \"2020/02/23\", \"tweet_count\": 393}, {\"data\": \"2020/02/24\", \"tweet_count\": 443}, {\"data\": \"2020/02/25\", \"tweet_count\": 418}, {\"data\": \"2020/02/26\", \"tweet_count\": 431}, {\"data\": \"2020/02/27\", \"tweet_count\": 418}, {\"data\": \"2020/02/28\", \"tweet_count\": 425}, {\"data\": \"2020/02/29\", \"tweet_count\": 448}, {\"data\": \"2020/03/01\", \"tweet_count\": 457}, {\"data\": \"2020/03/02\", \"tweet_count\": 420}, {\"data\": \"2020/03/03\", \"tweet_count\": 416}, {\"data\": \"2020/03/04\", \"tweet_count\": 409}, {\"data\": \"2020/03/05\", \"tweet_count\": 446}, {\"data\": \"2020/03/06\", \"tweet_count\": 420}, {\"data\": \"2020/03/07\", \"tweet_count\": 430}, {\"data\": \"2020/03/08\", \"tweet_count\": 384}, {\"data\": \"2020/03/09\", \"tweet_count\": 393}, {\"data\": \"2020/03/10\", \"tweet_count\": 426}, {\"data\": \"2020/03/11\", \"tweet_count\": 406}, {\"data\": \"2020/03/12\", \"tweet_count\": 403}, {\"data\": \"2020/03/13\", \"tweet_count\": 385}, {\"data\": \"2020/03/14\", \"tweet_count\": 400}, {\"data\": \"2020/03/15\", \"tweet_count\": 401}, {\"data\": \"2020/03/16\", \"tweet_count\": 388}, {\"data\": \"2020/03/17\", \"tweet_count\": 398}, {\"data\": \"2020/03/18\", \"tweet_count\": 334}, {\"data\": \"2020/03/19\", \"tweet_count\": 427}, {\"data\": \"2020/03/20\", \"tweet_count\": 381}, {\"data\": \"2020/03/21\", \"tweet_count\": 384}, {\"data\": \"2020/03/22\", \"tweet_count\": 357}, {\"data\": \"2020/03/23\", \"tweet_count\": 370}, {\"data\": \"2020/03/24\", \"tweet_count\": 395}, {\"data\": \"2020/03/25\", \"tweet_count\": 404}, {\"data\": \"2020/03/26\", \"tweet_count\": 412}, {\"data\": \"2020/03/27\", \"tweet_count\": 385}, {\"data\": \"2020/03/28\", \"tweet_count\": 394}, {\"data\": \"2020/03/29\", \"tweet_count\": 377}, {\"data\": \"2020/03/30\", \"tweet_count\": 379}, {\"data\": \"2020/03/31\", \"tweet_count\": 393}, {\"data\": \"2020/04/01\", \"tweet_count\": 371}, {\"data\": \"2020/04/02\", \"tweet_count\": 363}, {\"data\": \"2020/04/03\", \"tweet_count\": 376}, {\"data\": \"2020/04/04\", \"tweet_count\": 392}, {\"data\": \"2020/04/05\", \"tweet_count\": 375}, {\"data\": \"2020/04/06\", \"tweet_count\": 374}, {\"data\": \"2020/04/07\", \"tweet_count\": 351}, {\"data\": \"2020/04/08\", \"tweet_count\": 389}, {\"data\": \"2020/04/09\", \"tweet_count\": 387}, {\"data\": \"2020/04/10\", \"tweet_count\": 353}, {\"data\": \"2020/04/11\", \"tweet_count\": 419}, {\"data\": \"2020/04/12\", \"tweet_count\": 374}, {\"data\": \"2020/04/13\", \"tweet_count\": 376}, {\"data\": \"2020/04/14\", \"tweet_count\": 361}, {\"data\": \"2020/04/15\", \"tweet_count\": 341}, {\"data\": \"2020/04/16\", \"tweet_count\": 373}, {\"data\": \"2020/04/17\", \"tweet_count\": 362}, {\"data\": \"2020/04/18\", \"tweet_count\": 387}, {\"data\": \"2020/04/19\", \"tweet_count\": 377}, {\"data\": \"2020/04/20\", \"tweet_count\": 342}, {\"data\": \"2020/04/21\", \"tweet_count\": 397}, {\"data\": \"2020/04/22\", \"tweet_count\": 397}, {\"data\": \"2020/04/23\", \"tweet_count\": 377}, {\"data\": \"2020/04/24\", \"tweet_count\": 364}, {\"data\": \"2020/04/25\", \"tweet_count\": 383}, {\"data\": \"2020/04/26\", \"tweet_count\": 415}, {\"data\": \"2020/04/27\", \"tweet_count\": 407}, {\"data\": \"2020/04/28\", \"tweet_count\": 341}, {\"data\": \"2020/04/29\", \"tweet_count\": 351}, {\"data\": \"2020/04/30\", \"tweet_count\": 367}, {\"data\": \"2020/05/01\", \"tweet_count\": 429}, {\"data\": \"2020/05/02\", \"tweet_count\": 416}, {\"data\": \"2020/05/03\", \"tweet_count\": 391}, {\"data\": \"2020/05/04\", \"tweet_count\": 375}, {\"data\": \"2020/05/05\", \"tweet_count\": 421}, {\"data\": \"2020/05/06\", \"tweet_count\": 451}, {\"data\": \"2020/05/07\", \"tweet_count\": 430}, {\"data\": \"2020/05/08\", \"tweet_count\": 418}, {\"data\": \"2020/05/09\", \"tweet_count\": 432}, {\"data\": \"2020/05/10\", \"tweet_count\": 421}, {\"data\": \"2020/05/11\", \"tweet_count\": 415}, {\"data\": \"2020/05/12\", \"tweet_count\": 418}, {\"data\": \"2020/05/13\", \"tweet_count\": 403}, {\"data\": \"2020/05/14\", \"tweet_count\": 385}, {\"data\": \"2020/05/15\", \"tweet_count\": 429}, {\"data\": \"2020/05/16\", \"tweet_count\": 477}, {\"data\": \"2020/05/17\", \"tweet_count\": 424}, {\"data\": \"2020/05/18\", \"tweet_count\": 396}, {\"data\": \"2020/05/19\", \"tweet_count\": 407}, {\"data\": \"2020/05/20\", \"tweet_count\": 430}, {\"data\": \"2020/05/21\", \"tweet_count\": 401}, {\"data\": \"2020/05/22\", \"tweet_count\": 426}, {\"data\": \"2020/05/23\", \"tweet_count\": 426}, {\"data\": \"2020/05/24\", \"tweet_count\": 421}, {\"data\": \"2020/05/25\", \"tweet_count\": 406}, {\"data\": \"2020/05/26\", \"tweet_count\": 388}, {\"data\": \"2020/05/27\", \"tweet_count\": 354}, {\"data\": \"2020/05/28\", \"tweet_count\": 448}, {\"data\": \"2020/05/29\", \"tweet_count\": 394}, {\"data\": \"2020/05/30\", \"tweet_count\": 402}, {\"data\": \"2020/05/31\", \"tweet_count\": 424}, {\"data\": \"2020/06/01\", \"tweet_count\": 388}, {\"data\": \"2020/06/02\", \"tweet_count\": 374}, {\"data\": \"2020/06/03\", \"tweet_count\": 413}, {\"data\": \"2020/06/04\", \"tweet_count\": 395}, {\"data\": \"2020/06/05\", \"tweet_count\": 426}, {\"data\": \"2020/06/06\", \"tweet_count\": 430}, {\"data\": \"2020/06/07\", \"tweet_count\": 418}, {\"data\": \"2020/06/08\", \"tweet_count\": 421}, {\"data\": \"2020/06/09\", \"tweet_count\": 407}, {\"data\": \"2020/06/10\", \"tweet_count\": 374}, {\"data\": \"2020/06/11\", \"tweet_count\": 442}, {\"data\": \"2020/06/12\", \"tweet_count\": 421}, {\"data\": \"2020/06/13\", \"tweet_count\": 419}, {\"data\": \"2020/06/14\", \"tweet_count\": 434}, {\"data\": \"2020/06/15\", \"tweet_count\": 396}, {\"data\": \"2020/06/16\", \"tweet_count\": 420}, {\"data\": \"2020/06/17\", \"tweet_count\": 415}, {\"data\": \"2020/06/18\", \"tweet_count\": 404}, {\"data\": \"2020/06/19\", \"tweet_count\": 442}, {\"data\": \"2020/06/20\", \"tweet_count\": 485}, {\"data\": \"2020/06/21\", \"tweet_count\": 463}, {\"data\": \"2020/06/22\", \"tweet_count\": 407}, {\"data\": \"2020/06/23\", \"tweet_count\": 440}, {\"data\": \"2020/06/24\", \"tweet_count\": 389}, {\"data\": \"2020/06/25\", \"tweet_count\": 429}, {\"data\": \"2020/06/26\", \"tweet_count\": 438}, {\"data\": \"2020/06/27\", \"tweet_count\": 439}, {\"data\": \"2020/06/28\", \"tweet_count\": 420}, {\"data\": \"2020/06/29\", \"tweet_count\": 435}, {\"data\": \"2020/06/30\", \"tweet_count\": 408}, {\"data\": \"2020/07/01\", \"tweet_count\": 453}, {\"data\": \"2020/07/02\", \"tweet_count\": 463}, {\"data\": \"2020/07/03\", \"tweet_count\": 430}, {\"data\": \"2020/07/04\", \"tweet_count\": 422}, {\"data\": \"2020/07/05\", \"tweet_count\": 428}, {\"data\": \"2020/07/06\", \"tweet_count\": 417}, {\"data\": \"2020/07/07\", \"tweet_count\": 443}, {\"data\": \"2020/07/08\", \"tweet_count\": 438}, {\"data\": \"2020/07/09\", \"tweet_count\": 434}, {\"data\": \"2020/07/10\", \"tweet_count\": 447}]}}, {});\n",
       "</script>\n"
      ],
      "text/plain": [
       "alt.Chart(...)"
      ]
     },
     "execution_count": 4,
     "metadata": {},
     "output_type": "execute_result"
    }
   ],
   "source": [
    "alt.renderers.enable('altair_viewer',inline=True)\n",
    "alt.Chart(\n",
    "    df,\n",
    "    title=\"Tweet count hetmap\"\n",
    ").mark_rect().encode(\n",
    "    x='date(data):O',\n",
    "    y='month(data):O',\n",
    "    color=alt.Color('tweet_count:Q', scale=alt.Scale(scheme=\"inferno\")),\n",
    "    tooltip=[\n",
    "        alt.Tooltip('monthdate(data):T', title='Date'),\n",
    "        alt.Tooltip('tweet_count:Q', title='Tweet Count')\n",
    "    ]\n",
    ").properties(width=550)\n"
   ]
  },
  {
   "cell_type": "code",
   "execution_count": null,
   "id": "light-bridges",
   "metadata": {},
   "outputs": [],
   "source": []
  }
 ],
 "metadata": {
  "kernelspec": {
   "display_name": "Python 3",
   "language": "python",
   "name": "python3"
  },
  "language_info": {
   "codemirror_mode": {
    "name": "ipython",
    "version": 3
   },
   "file_extension": ".py",
   "mimetype": "text/x-python",
   "name": "python",
   "nbconvert_exporter": "python",
   "pygments_lexer": "ipython3",
   "version": "3.9.2"
  }
 },
 "nbformat": 4,
 "nbformat_minor": 5
}

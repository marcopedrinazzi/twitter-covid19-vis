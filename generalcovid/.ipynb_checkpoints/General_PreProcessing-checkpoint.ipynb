{
 "cells": [
  {
   "cell_type": "markdown",
   "id": "dirty-coffee",
   "metadata": {},
   "source": [
    "# Pre-Processing on the General Covid-19 Dataset"
   ]
  },
  {
   "cell_type": "markdown",
   "id": "aquatic-mining",
   "metadata": {},
   "source": [
    "The dataset has a lot of entries which aren't in English. We have translated them to english (see below). Now we're going to visualize the different languages inside the dataset. The language classification is done by a Twitter ML algorithm."
   ]
  },
  {
   "cell_type": "code",
   "execution_count": 8,
   "id": "supreme-science",
   "metadata": {},
   "outputs": [
    {
     "data": {
      "text/html": [
       "\n",
       "<div id=\"altair-viz-948decb2042c491e8eeea99a714a74fa\"></div>\n",
       "<script type=\"text/javascript\">\n",
       "  (function(spec, embedOpt){\n",
       "    let outputDiv = document.currentScript.previousElementSibling;\n",
       "    if (outputDiv.id !== \"altair-viz-948decb2042c491e8eeea99a714a74fa\") {\n",
       "      outputDiv = document.getElementById(\"altair-viz-948decb2042c491e8eeea99a714a74fa\");\n",
       "    }\n",
       "    const paths = {\n",
       "      \"vega\": \"https://cdn.jsdelivr.net/npm//vega@5?noext\",\n",
       "      \"vega-lib\": \"https://cdn.jsdelivr.net/npm//vega-lib?noext\",\n",
       "      \"vega-lite\": \"https://cdn.jsdelivr.net/npm//vega-lite@4.8.1?noext\",\n",
       "      \"vega-embed\": \"https://cdn.jsdelivr.net/npm//vega-embed@6?noext\",\n",
       "    };\n",
       "\n",
       "    function loadScript(lib) {\n",
       "      return new Promise(function(resolve, reject) {\n",
       "        var s = document.createElement('script');\n",
       "        s.src = paths[lib];\n",
       "        s.async = true;\n",
       "        s.onload = () => resolve(paths[lib]);\n",
       "        s.onerror = () => reject(`Error loading script: ${paths[lib]}`);\n",
       "        document.getElementsByTagName(\"head\")[0].appendChild(s);\n",
       "      });\n",
       "    }\n",
       "\n",
       "    function showError(err) {\n",
       "      outputDiv.innerHTML = `<div class=\"error\" style=\"color:red;\">${err}</div>`;\n",
       "      throw err;\n",
       "    }\n",
       "\n",
       "    function displayChart(vegaEmbed) {\n",
       "      vegaEmbed(outputDiv, spec, embedOpt)\n",
       "        .catch(err => showError(`Javascript Error: ${err.message}<br>This usually means there's a typo in your chart specification. See the javascript console for the full traceback.`));\n",
       "    }\n",
       "\n",
       "    if(typeof define === \"function\" && define.amd) {\n",
       "      requirejs.config({paths});\n",
       "      require([\"vega-embed\"], displayChart, err => showError(`Error loading script: ${err.message}`));\n",
       "    } else if (typeof vegaEmbed === \"function\") {\n",
       "      displayChart(vegaEmbed);\n",
       "    } else {\n",
       "      loadScript(\"vega\")\n",
       "        .then(() => loadScript(\"vega-lite\"))\n",
       "        .then(() => loadScript(\"vega-embed\"))\n",
       "        .catch(showError)\n",
       "        .then(() => displayChart(vegaEmbed));\n",
       "    }\n",
       "  })({\"config\": {\"view\": {\"continuousWidth\": 400, \"continuousHeight\": 300}}, \"layer\": [{\"mark\": \"bar\", \"encoding\": {\"color\": {\"type\": \"nominal\", \"field\": \"lang\", \"legend\": {\"columns\": 4, \"symbolLimit\": 0}}, \"x\": {\"type\": \"quantitative\", \"field\": \"count\"}, \"y\": {\"type\": \"nominal\", \"field\": \"lang\"}}}, {\"mark\": {\"type\": \"text\", \"align\": \"left\", \"baseline\": \"middle\", \"dx\": 3}, \"encoding\": {\"color\": {\"type\": \"nominal\", \"field\": \"lang\", \"legend\": {\"columns\": 4, \"symbolLimit\": 0}}, \"text\": {\"type\": \"quantitative\", \"field\": \"count\"}, \"x\": {\"type\": \"quantitative\", \"field\": \"count\"}, \"y\": {\"type\": \"nominal\", \"field\": \"lang\"}}}], \"data\": {\"name\": \"data-298be47afc53ce7890c2c5ad02d1c38d\"}, \"height\": 900, \"$schema\": \"https://vega.github.io/schema/vega-lite/v4.8.1.json\", \"datasets\": {\"data-298be47afc53ce7890c2c5ad02d1c38d\": [{\"lang\": \"en\", \"count\": 67080}, {\"lang\": \"es\", \"count\": 959}, {\"lang\": \"ar\", \"count\": 483}, {\"lang\": \"pt\", \"count\": 776}, {\"lang\": \"zh\", \"count\": 16}, {\"lang\": \"ko\", \"count\": 179}, {\"lang\": \"de\", \"count\": 55}, {\"lang\": \"fr\", \"count\": 243}, {\"lang\": \"und\", \"count\": 691}, {\"lang\": \"th\", \"count\": 400}, {\"lang\": \"ta\", \"count\": 12}, {\"lang\": \"tl\", \"count\": 103}, {\"lang\": \"ja\", \"count\": 1107}, {\"lang\": \"ht\", \"count\": 19}, {\"lang\": \"it\", \"count\": 60}, {\"lang\": \"hi\", \"count\": 92}, {\"lang\": \"tr\", \"count\": 200}, {\"lang\": \"sl\", \"count\": 7}, {\"lang\": \"pl\", \"count\": 34}, {\"lang\": \"ur\", \"count\": 32}, {\"lang\": \"in\", \"count\": 196}, {\"lang\": \"nl\", \"count\": 31}, {\"lang\": \"cs\", \"count\": 4}, {\"lang\": \"ru\", \"count\": 64}, {\"lang\": \"et\", \"count\": 17}, {\"lang\": \"fa\", \"count\": 40}, {\"lang\": \"ca\", \"count\": 27}, {\"lang\": \"el\", \"count\": 14}, {\"lang\": \"sv\", \"count\": 8}, {\"lang\": \"eu\", \"count\": 3}, {\"lang\": \"fi\", \"count\": 7}, {\"lang\": \"kn\", \"count\": 1}, {\"lang\": \"te\", \"count\": 4}, {\"lang\": \"uk\", \"count\": 6}, {\"lang\": \"iw\", \"count\": 3}, {\"lang\": \"cy\", \"count\": 5}, {\"lang\": \"hu\", \"count\": 8}, {\"lang\": \"ro\", \"count\": 5}, {\"lang\": \"my\", \"count\": 1}, {\"lang\": \"lt\", \"count\": 3}, {\"lang\": \"mr\", \"count\": 2}, {\"lang\": \"ne\", \"count\": 6}, {\"lang\": \"no\", \"count\": 4}, {\"lang\": \"km\", \"count\": 1}, {\"lang\": \"vi\", \"count\": 3}, {\"lang\": \"sr\", \"count\": 2}, {\"lang\": \"sd\", \"count\": 2}, {\"lang\": \"lv\", \"count\": 1}, {\"lang\": \"da\", \"count\": 1}, {\"lang\": \"is\", \"count\": 1}, {\"lang\": \"bg\", \"count\": 1}]}}, {\"mode\": \"vega-lite\"});\n",
       "</script>"
      ],
      "text/plain": [
       "alt.LayerChart(...)"
      ]
     },
     "execution_count": 8,
     "metadata": {},
     "output_type": "execute_result"
    }
   ],
   "source": [
    "from collections import Counter\n",
    "import json\n",
    "import pandas as pd\n",
    "import altair as alt\n",
    "\n",
    "data = []\n",
    "with open('dataset/general_result_translated_full.json', 'r') as f:\n",
    "    for line in f:\n",
    "        data.append(json.loads(line))\n",
    "\n",
    "index_lang=0\n",
    "langs = []\n",
    "for element in data:\n",
    "    t=data[index_lang]['lang']\n",
    "    langs.append(t)\n",
    "    index_lang=index_lang+1\n",
    "    \n",
    "count=Counter(langs)\n",
    "df = pd.DataFrame.from_dict(count, orient='index').reset_index()\n",
    "df = df.rename(columns={'index':'lang', 0:'count'})\n",
    "\n",
    "#TODO il mapping va finito con i flag, controlla se i flag che ho messo abbiano senso (nell'if). \n",
    "#Nel domain va rispettata la struttura dell'if sopra.\n",
    "#I colori vanno sistemati perchè quelli chiari si vedono male, ma i colori cmq devono essere diversi tra lor\n",
    "#per colorare le barre\n",
    "\n",
    "#TODO riportare la struttura dell'if di FAKE nel for sopra\n",
    "\n",
    "domain = ['ar','bg','ca','cs','cy','da','de','el','en','es','et','eu','fa','fi','fr','hi','ht','hu','in','is'..........]\n",
    "range_ = ['red','green','blue','pink','purple','black','yellow','brown','darkgrey','orange','fuchsia','teal','coral','cyan','violet','crimson','lime','lightblue','lightgrey','khaki','tan','indigo','olive','gold','maroon','silver','azure','tomato','lightcyna','darkgreen','chocolate','plum','peru']\n",
    "\n",
    "chart = alt.Chart(df).mark_bar().encode(\n",
    "    x='count:Q',\n",
    "    y='lang:N',\n",
    "    #color=alt.Color('lang',scale=alt.Scale(domain=domain, range=range_),legend=alt.Legend(columns=4, symbolLimit=0))\n",
    ")\n",
    "\n",
    "text = chart.mark_text(\n",
    "    align='left',\n",
    "    baseline='middle',\n",
    "    color='black',\n",
    "    dx=3  # Nudges text to right so it doesn't appear on top of the bar\n",
    ").encode(\n",
    "    text='count:Q'\n",
    ")\n",
    "\n",
    "\n",
    "(chart + text).properties(height=900)\n"
   ]
  },
  {
   "cell_type": "markdown",
   "id": "administrative-housing",
   "metadata": {},
   "source": [
    "### traduttore.py"
   ]
  },
  {
   "cell_type": "markdown",
   "id": "close-vaccine",
   "metadata": {},
   "source": [
    "The .json file produced had multiple languages inside the text fields, we wrote this script to translate the fields which weren't in english (\"hashtags\" and \"full_text\") to english.\n",
    "\n",
    "Everything is done through the Google Translate APIs.\n",
    "\n",
    "Due to Google Translate Limitations to a massive number of requests, the for loop below does a pre-filtering, based on the lang filed from the .json file. The lang field is filled automatically during the hydratation process, the language classification is done by machine learning algorithms.\n",
    "\n",
    "The script below is the full version, we've dived the execution in two phases: the first one worked on the \"full_text\" field, the second one worked on the \"hashtag\" filed considering that the \"full_text\" filed was already OK."
   ]
  },
  {
   "cell_type": "code",
   "execution_count": null,
   "id": "empty-transcription",
   "metadata": {},
   "outputs": [],
   "source": [
    "import json\n",
    "import sys\n",
    "import string\n",
    "from google_trans_new import google_translator  \n",
    "import time\n",
    "\n",
    "data = []\n",
    "with open('dataset/general_result.json', 'r') as f:\n",
    "    for line in f:\n",
    "        data.append(json.loads(line))\n",
    "\n",
    "f.close()\n",
    "\n",
    "\n",
    "index=0\n",
    "translator = google_translator()  \n",
    "for element in data:\n",
    "    if data[index]['lang']==\"en\":\n",
    "        print(str(index)+\" già inglese\")\n",
    "    else:\n",
    "        translated  = translator.translate(data[index]['full_text'],lang_tgt='en')  \n",
    "        data[index]['full_text'] = translated\n",
    "        time.sleep(1) #sleep to avoid being blocked by Google \n",
    "        #print(str(index)+\" indice\" + data[index]['full_text'])\n",
    "        for entity in data[index]['entities']['hashtags']:\n",
    "            translated = translator.translate(entity['text'],lang_tgt='en')#lang_tgt è l'alt\n",
    "            entity['text']=translated\n",
    "            time.sleep(1)  #sleep to avoid being blocked by Google\n",
    "            #print(str(index)+\" indice\" + entity['text'])\n",
    "    index=index+1\n",
    "\n",
    "\n",
    "with open('general_result_translated_full.json', 'a') as f_w:\n",
    "    for line_w in data:\n",
    "        #print(\"sto stampando\")\n",
    "        json.dump(line_w, f_w)\n",
    "        f_w.write('\\n')\n",
    "\n",
    "f.close()"
   ]
  }
 ],
 "metadata": {
  "kernelspec": {
   "display_name": "Python 3",
   "language": "python",
   "name": "python3"
  },
  "language_info": {
   "codemirror_mode": {
    "name": "ipython",
    "version": 3
   },
   "file_extension": ".py",
   "mimetype": "text/x-python",
   "name": "python",
   "nbconvert_exporter": "python",
   "pygments_lexer": "ipython3",
   "version": "3.9.2"
  }
 },
 "nbformat": 4,
 "nbformat_minor": 5
}

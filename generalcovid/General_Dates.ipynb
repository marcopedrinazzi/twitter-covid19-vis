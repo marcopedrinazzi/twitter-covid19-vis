{
 "cells": [
  {
   "cell_type": "markdown",
   "id": "potential-surrey",
   "metadata": {},
   "source": [
    "# Dates - General Covid-19 dataset"
   ]
  },
  {
   "cell_type": "markdown",
   "id": "polyphonic-virgin",
   "metadata": {},
   "source": [
    "In order to create the bar and area charts, we need the following packages:"
   ]
  },
  {
   "cell_type": "code",
   "execution_count": 1,
   "id": "comparable-ferry",
   "metadata": {},
   "outputs": [],
   "source": [
    "import pandas as pd\n",
    "import json\n",
    "from collections import Counter\n",
    "import altair as alt\n",
    "from dateutil.parser import parse"
   ]
  },
  {
   "cell_type": "markdown",
   "id": "asian-netherlands",
   "metadata": {},
   "source": [
    "To read the JSON file that has all the tweets, it is necessary to do:"
   ]
  },
  {
   "cell_type": "code",
   "execution_count": 2,
   "id": "approved-stack",
   "metadata": {},
   "outputs": [],
   "source": [
    "data = []\n",
    "with open('dataset/general_result_translated_full.json', 'r') as f:\n",
    "    for line in f:\n",
    "        data.append(json.loads(line))"
   ]
  },
  {
   "cell_type": "markdown",
   "id": "educated-collar",
   "metadata": {},
   "source": [
    "## Bar chart: \"Number of tweets per day of the week\""
   ]
  },
  {
   "cell_type": "markdown",
   "id": "certified-kenya",
   "metadata": {},
   "source": [
    "We're interested in the \"created_at\" field:"
   ]
  },
  {
   "cell_type": "code",
   "execution_count": 3,
   "id": "central-freedom",
   "metadata": {},
   "outputs": [],
   "source": [
    "index = 0\n",
    "new = []\n",
    "for element in data:\n",
    "    token = data[index]['created_at']\n",
    "    new.append(token[0:3])\n",
    "    index = index + 1\n",
    "\n",
    "#print(new)\n",
    "#print(len(new))\n",
    "\n",
    "count = Counter(new)\n",
    "#print(count)"
   ]
  },
  {
   "cell_type": "markdown",
   "id": "verbal-spirit",
   "metadata": {},
   "source": [
    "The bar chart is created:"
   ]
  },
  {
   "cell_type": "code",
   "execution_count": 4,
   "id": "royal-vertex",
   "metadata": {},
   "outputs": [
    {
     "data": {
      "text/html": [
       "\n",
       "<div id=\"altair-viz-def8db34592b4842823845636bdd9405\"></div>\n",
       "<script type=\"text/javascript\">\n",
       "  (function(spec, embedOpt){\n",
       "    let outputDiv = document.currentScript.previousElementSibling;\n",
       "    if (outputDiv.id !== \"altair-viz-def8db34592b4842823845636bdd9405\") {\n",
       "      outputDiv = document.getElementById(\"altair-viz-def8db34592b4842823845636bdd9405\");\n",
       "    }\n",
       "    const paths = {\n",
       "      \"vega\": \"https://cdn.jsdelivr.net/npm//vega@5?noext\",\n",
       "      \"vega-lib\": \"https://cdn.jsdelivr.net/npm//vega-lib?noext\",\n",
       "      \"vega-lite\": \"https://cdn.jsdelivr.net/npm//vega-lite@4.8.1?noext\",\n",
       "      \"vega-embed\": \"https://cdn.jsdelivr.net/npm//vega-embed@6?noext\",\n",
       "    };\n",
       "\n",
       "    function loadScript(lib) {\n",
       "      return new Promise(function(resolve, reject) {\n",
       "        var s = document.createElement('script');\n",
       "        s.src = paths[lib];\n",
       "        s.async = true;\n",
       "        s.onload = () => resolve(paths[lib]);\n",
       "        s.onerror = () => reject(`Error loading script: ${paths[lib]}`);\n",
       "        document.getElementsByTagName(\"head\")[0].appendChild(s);\n",
       "      });\n",
       "    }\n",
       "\n",
       "    function showError(err) {\n",
       "      outputDiv.innerHTML = `<div class=\"error\" style=\"color:red;\">${err}</div>`;\n",
       "      throw err;\n",
       "    }\n",
       "\n",
       "    function displayChart(vegaEmbed) {\n",
       "      vegaEmbed(outputDiv, spec, embedOpt)\n",
       "        .catch(err => showError(`Javascript Error: ${err.message}<br>This usually means there's a typo in your chart specification. See the javascript console for the full traceback.`));\n",
       "    }\n",
       "\n",
       "    if(typeof define === \"function\" && define.amd) {\n",
       "      requirejs.config({paths});\n",
       "      require([\"vega-embed\"], displayChart, err => showError(`Error loading script: ${err.message}`));\n",
       "    } else if (typeof vegaEmbed === \"function\") {\n",
       "      displayChart(vegaEmbed);\n",
       "    } else {\n",
       "      loadScript(\"vega\")\n",
       "        .then(() => loadScript(\"vega-lite\"))\n",
       "        .then(() => loadScript(\"vega-embed\"))\n",
       "        .catch(showError)\n",
       "        .then(() => displayChart(vegaEmbed));\n",
       "    }\n",
       "  })({\"config\": {\"view\": {\"continuousWidth\": 400, \"continuousHeight\": 300}, \"axis\": {\"labelFontSize\": 13, \"titleFontSize\": 15, \"titlePadding\": 15}, \"legend\": {\"gradientThickness\": 15, \"labelFontSize\": 13, \"titleFontSize\": 15}, \"title\": {\"fontSize\": 17, \"offset\": 25}}, \"data\": {\"name\": \"data-f5cda8e8c16a9b3059fecd7082d1df4a\"}, \"mark\": \"bar\", \"encoding\": {\"color\": {\"type\": \"quantitative\", \"field\": \"Tweet count\", \"scale\": {\"range\": [\"#acdbf3\", \"#a5d8f2\", \"#9ed5f1\", \"#97d2f0\", \"#90cfef\", \"#89ccee\", \"#82c9ed\", \"#7ac6ec\", \"#73c3eb\", \"#6cc0ea\", \"#65bde9\", \"#5ebae8\", \"#57b7e7\", \"#50b4e6\", \"#48b0e4\", \"#41ade3\", \"#3aaae2\", \"#33a7e1\", \"#2ca4e0\", \"#25a1df\", \"#1f9edd\", \"#1e99d6\", \"#1d93cf\", \"#1c8ec7\", \"#1b89c0\", \"#1a84b9\", \"#197fb2\", \"#187aab\", \"#1775a4\", \"#16709d\", \"#156b95\", \"#14668e\", \"#136087\", \"#125b80\", \"#115679\", \"#105172\", \"#0f4c6b\", \"#0e4763\", \"#0d425c\", \"#0c3d55\", \"#0b384e\", \"#0a3347\", \"#092d40\", \"#082839\"]}}, \"x\": {\"type\": \"quantitative\", \"field\": \"Tweet count\"}, \"y\": {\"type\": \"nominal\", \"field\": \"Day\", \"sort\": [\"Mon\", \"Tue\", \"Wed\", \"Thu\", \"Fri\", \"Sat\", \"Sun\"]}}, \"height\": 300, \"title\": \"Number of tweets per day of the week\", \"transform\": [{\"window\": [{\"op\": \"rank\", \"field\": \"count\", \"as\": \"rank\"}], \"sort\": [{\"field\": \"count\", \"order\": \"descending\"}]}], \"width\": 700, \"$schema\": \"https://vega.github.io/schema/vega-lite/v4.8.1.json\", \"datasets\": {\"data-f5cda8e8c16a9b3059fecd7082d1df4a\": [{\"Day\": \"Tue\", \"Tweet count\": 10566}, {\"Day\": \"Wed\", \"Tweet count\": 10508}, {\"Day\": \"Thu\", \"Tweet count\": 10690}, {\"Day\": \"Fri\", \"Tweet count\": 10612}, {\"Day\": \"Sat\", \"Tweet count\": 10454}, {\"Day\": \"Sun\", \"Tweet count\": 10167}, {\"Day\": \"Mon\", \"Tweet count\": 10022}]}}, {\"mode\": \"vega-lite\"});\n",
       "</script>"
      ],
      "text/plain": [
       "alt.Chart(...)"
      ]
     },
     "execution_count": 4,
     "metadata": {},
     "output_type": "execute_result"
    }
   ],
   "source": [
    "df = pd.DataFrame.from_dict(count, orient='index').reset_index()\n",
    "df = df.rename(columns={'index':'Day',0:'Tweet count'})\n",
    "\n",
    "#'#acdbf3','#a5d8f2','#9ed5f1','#97d2f0','#90cfef','#89ccee','#82c9ed','#7ac6ec','#73c3eb','#6cc0ea','#65bde9','#5ebae8','#57b7e7','#50b4e6','#48b0e4','#41ade3','#3aaae2','#33a7e1','#2ca4e0','#25a1df','#1f9edd','#1e99d6','#1d93cf','#1c8ec7','#1b89c0','#1a84b9','#197fb2','#187aab','#1775a4','#16709d','#156b95','#14668e','#136087','#125b80','#115679','#105172','#0f4c6b','#0e4763','#0d425c','#0c3d55','#0b384e','#0a3347','#092d40','#082839'\n",
    "chart = alt.Chart(\n",
    "    df\n",
    ").mark_bar().encode(\n",
    "    x = alt.X('Tweet count:Q'),\n",
    "    y = alt.Y('Day', sort = ['Mon','Tue','Wed','Thu','Fri','Sat','Sun']),\n",
    "    color=alt.Color('Tweet count:Q',scale=alt.Scale(range=['#acdbf3','#a5d8f2','#9ed5f1','#97d2f0','#90cfef','#89ccee','#82c9ed','#7ac6ec','#73c3eb','#6cc0ea','#65bde9','#5ebae8','#57b7e7','#50b4e6','#48b0e4','#41ade3','#3aaae2','#33a7e1','#2ca4e0','#25a1df','#1f9edd','#1e99d6','#1d93cf','#1c8ec7','#1b89c0','#1a84b9','#197fb2','#187aab','#1775a4','#16709d','#156b95','#14668e','#136087','#125b80','#115679','#105172','#0f4c6b','#0e4763','#0d425c','#0c3d55','#0b384e','#0a3347','#092d40','#082839']))\n",
    ").transform_window(\n",
    "    rank='rank(count)',\n",
    "    sort=[alt.SortField('count', order='descending')]\n",
    ").properties(\n",
    "    width=700,\n",
    "    height=300,\n",
    "    title = \"Number of tweets per day of the week\"\n",
    ").configure_title(\n",
    "    fontSize=17,\n",
    "    offset=25\n",
    ").configure_axis(\n",
    "    labelFontSize=13,\n",
    "    titleFontSize=15,\n",
    "    titlePadding=15\n",
    ").configure_legend(\n",
    "    gradientThickness=15,\n",
    "    titleFontSize=15,\n",
    "    labelFontSize=13\n",
    ")\n",
    "\n",
    "chart"
   ]
  },
  {
   "cell_type": "markdown",
   "id": "upper-roads",
   "metadata": {},
   "source": [
    "## Area chart: \"Trend of the number of Tweets during the year\""
   ]
  },
  {
   "cell_type": "markdown",
   "id": "metropolitan-howard",
   "metadata": {},
   "source": [
    "We're interested in the \"created_at\" field:"
   ]
  },
  {
   "cell_type": "code",
   "execution_count": 5,
   "id": "alpha-extreme",
   "metadata": {},
   "outputs": [],
   "source": [
    "index = 0\n",
    "new = []\n",
    "for element in data:\n",
    "    token = data[index]['created_at']\n",
    "    d = parse(token)\n",
    "    d = d.strftime('%Y/%m/%d')\n",
    "    new.append(d)\n",
    "    index = index + 1\n",
    "\n",
    "#print(new)\n",
    "#print(len(new))\n",
    "\n",
    "count = Counter(new)\n",
    "#print(count)"
   ]
  },
  {
   "cell_type": "markdown",
   "id": "statistical-reservation",
   "metadata": {},
   "source": [
    "The area chart is created:"
   ]
  },
  {
   "cell_type": "code",
   "execution_count": 6,
   "id": "indoor-doubt",
   "metadata": {},
   "outputs": [
    {
     "data": {
      "text/html": [
       "\n",
       "<div id=\"altair-viz-1a4463cecc2541ddb0cc0cf90ed23e0e\"></div>\n",
       "<script type=\"text/javascript\">\n",
       "  (function(spec, embedOpt){\n",
       "    let outputDiv = document.currentScript.previousElementSibling;\n",
       "    if (outputDiv.id !== \"altair-viz-1a4463cecc2541ddb0cc0cf90ed23e0e\") {\n",
       "      outputDiv = document.getElementById(\"altair-viz-1a4463cecc2541ddb0cc0cf90ed23e0e\");\n",
       "    }\n",
       "    const paths = {\n",
       "      \"vega\": \"https://cdn.jsdelivr.net/npm//vega@5?noext\",\n",
       "      \"vega-lib\": \"https://cdn.jsdelivr.net/npm//vega-lib?noext\",\n",
       "      \"vega-lite\": \"https://cdn.jsdelivr.net/npm//vega-lite@4.8.1?noext\",\n",
       "      \"vega-embed\": \"https://cdn.jsdelivr.net/npm//vega-embed@6?noext\",\n",
       "    };\n",
       "\n",
       "    function loadScript(lib) {\n",
       "      return new Promise(function(resolve, reject) {\n",
       "        var s = document.createElement('script');\n",
       "        s.src = paths[lib];\n",
       "        s.async = true;\n",
       "        s.onload = () => resolve(paths[lib]);\n",
       "        s.onerror = () => reject(`Error loading script: ${paths[lib]}`);\n",
       "        document.getElementsByTagName(\"head\")[0].appendChild(s);\n",
       "      });\n",
       "    }\n",
       "\n",
       "    function showError(err) {\n",
       "      outputDiv.innerHTML = `<div class=\"error\" style=\"color:red;\">${err}</div>`;\n",
       "      throw err;\n",
       "    }\n",
       "\n",
       "    function displayChart(vegaEmbed) {\n",
       "      vegaEmbed(outputDiv, spec, embedOpt)\n",
       "        .catch(err => showError(`Javascript Error: ${err.message}<br>This usually means there's a typo in your chart specification. See the javascript console for the full traceback.`));\n",
       "    }\n",
       "\n",
       "    if(typeof define === \"function\" && define.amd) {\n",
       "      requirejs.config({paths});\n",
       "      require([\"vega-embed\"], displayChart, err => showError(`Error loading script: ${err.message}`));\n",
       "    } else if (typeof vegaEmbed === \"function\") {\n",
       "      displayChart(vegaEmbed);\n",
       "    } else {\n",
       "      loadScript(\"vega\")\n",
       "        .then(() => loadScript(\"vega-lite\"))\n",
       "        .then(() => loadScript(\"vega-embed\"))\n",
       "        .catch(showError)\n",
       "        .then(() => displayChart(vegaEmbed));\n",
       "    }\n",
       "  })({\"config\": {\"view\": {\"continuousWidth\": 400, \"continuousHeight\": 300}, \"axis\": {\"labelFontSize\": 13, \"titleFontSize\": 15, \"titlePadding\": 15}, \"title\": {\"fontSize\": 17, \"offset\": 25}}, \"layer\": [{\"mark\": {\"type\": \"area\", \"color\": {\"gradient\": \"linear\", \"stops\": [{\"color\": \"white\", \"offset\": 0}, {\"color\": \"mediumturquoise\", \"offset\": 1}], \"x1\": 1, \"x2\": 1, \"y1\": 1, \"y2\": 0}, \"line\": {\"color\": \"#126DC5\"}}, \"encoding\": {\"x\": {\"type\": \"temporal\", \"field\": \"Month\"}, \"y\": {\"type\": \"quantitative\", \"field\": \"Tweet count\"}}, \"height\": 300, \"title\": \"Trend of the number of Tweets during the year\", \"width\": 700}, {\"mark\": \"point\", \"encoding\": {\"opacity\": {\"value\": 0}, \"x\": {\"type\": \"temporal\", \"field\": \"Month\"}}, \"selection\": {\"selector001\": {\"type\": \"single\", \"nearest\": true, \"on\": \"mouseover\", \"fields\": [\"Month\"], \"empty\": \"none\"}}}, {\"mark\": \"point\", \"encoding\": {\"opacity\": {\"condition\": {\"value\": 1, \"selection\": \"selector001\"}, \"value\": 0}, \"x\": {\"type\": \"temporal\", \"field\": \"Month\"}, \"y\": {\"type\": \"quantitative\", \"field\": \"Tweet count\"}}, \"height\": 300, \"title\": \"Trend of the number of Tweets during the year\", \"width\": 700}, {\"mark\": {\"type\": \"rule\", \"color\": \"gray\"}, \"encoding\": {\"x\": {\"type\": \"temporal\", \"field\": \"Month\"}}, \"transform\": [{\"filter\": {\"selection\": \"selector001\"}}]}, {\"mark\": {\"type\": \"text\", \"align\": \"left\", \"dx\": 5, \"dy\": -5}, \"encoding\": {\"text\": {\"condition\": {\"type\": \"quantitative\", \"field\": \"Tweet count\", \"selection\": \"selector001\"}, \"value\": \" \"}, \"x\": {\"type\": \"temporal\", \"field\": \"Month\"}, \"y\": {\"type\": \"quantitative\", \"field\": \"Tweet count\"}}, \"height\": 300, \"title\": \"Trend of the number of Tweets during the year\", \"width\": 700}], \"data\": {\"name\": \"data-45049bc41ec7d3d1f3dc2bf9716c36d1\"}, \"height\": 300, \"width\": 700, \"$schema\": \"https://vega.github.io/schema/vega-lite/v4.8.1.json\", \"datasets\": {\"data-45049bc41ec7d3d1f3dc2bf9716c36d1\": [{\"Month\": \"2020-01-14T00:00:00\", \"Tweet count\": 425}, {\"Month\": \"2020-01-15T00:00:00\", \"Tweet count\": 416}, {\"Month\": \"2020-01-16T00:00:00\", \"Tweet count\": 412}, {\"Month\": \"2020-01-17T00:00:00\", \"Tweet count\": 434}, {\"Month\": \"2020-01-18T00:00:00\", \"Tweet count\": 417}, {\"Month\": \"2020-01-19T00:00:00\", \"Tweet count\": 390}, {\"Month\": \"2020-01-20T00:00:00\", \"Tweet count\": 444}, {\"Month\": \"2020-01-21T00:00:00\", \"Tweet count\": 427}, {\"Month\": \"2020-01-22T00:00:00\", \"Tweet count\": 439}, {\"Month\": \"2020-01-23T00:00:00\", \"Tweet count\": 423}, {\"Month\": \"2020-01-24T00:00:00\", \"Tweet count\": 401}, {\"Month\": \"2020-01-25T00:00:00\", \"Tweet count\": 395}, {\"Month\": \"2020-01-26T00:00:00\", \"Tweet count\": 401}, {\"Month\": \"2020-01-27T00:00:00\", \"Tweet count\": 400}, {\"Month\": \"2020-01-28T00:00:00\", \"Tweet count\": 426}, {\"Month\": \"2020-01-29T00:00:00\", \"Tweet count\": 425}, {\"Month\": \"2020-01-30T00:00:00\", \"Tweet count\": 398}, {\"Month\": \"2020-01-31T00:00:00\", \"Tweet count\": 408}, {\"Month\": \"2020-02-01T00:00:00\", \"Tweet count\": 414}, {\"Month\": \"2020-02-02T00:00:00\", \"Tweet count\": 413}, {\"Month\": \"2020-02-03T00:00:00\", \"Tweet count\": 410}, {\"Month\": \"2020-02-04T00:00:00\", \"Tweet count\": 414}, {\"Month\": \"2020-02-05T00:00:00\", \"Tweet count\": 442}, {\"Month\": \"2020-02-06T00:00:00\", \"Tweet count\": 396}, {\"Month\": \"2020-02-07T00:00:00\", \"Tweet count\": 405}, {\"Month\": \"2020-02-08T00:00:00\", \"Tweet count\": 425}, {\"Month\": \"2020-02-09T00:00:00\", \"Tweet count\": 390}, {\"Month\": \"2020-02-10T00:00:00\", \"Tweet count\": 402}, {\"Month\": \"2020-02-11T00:00:00\", \"Tweet count\": 426}, {\"Month\": \"2020-02-12T00:00:00\", \"Tweet count\": 426}, {\"Month\": \"2020-02-13T00:00:00\", \"Tweet count\": 439}, {\"Month\": \"2020-02-14T00:00:00\", \"Tweet count\": 412}, {\"Month\": \"2020-02-15T00:00:00\", \"Tweet count\": 404}, {\"Month\": \"2020-02-16T00:00:00\", \"Tweet count\": 419}, {\"Month\": \"2020-02-17T00:00:00\", \"Tweet count\": 418}, {\"Month\": \"2020-02-18T00:00:00\", \"Tweet count\": 426}, {\"Month\": \"2020-02-19T00:00:00\", \"Tweet count\": 407}, {\"Month\": \"2020-02-20T00:00:00\", \"Tweet count\": 418}, {\"Month\": \"2020-02-21T00:00:00\", \"Tweet count\": 401}, {\"Month\": \"2020-02-22T00:00:00\", \"Tweet count\": 414}, {\"Month\": \"2020-02-23T00:00:00\", \"Tweet count\": 393}, {\"Month\": \"2020-02-24T00:00:00\", \"Tweet count\": 443}, {\"Month\": \"2020-02-25T00:00:00\", \"Tweet count\": 418}, {\"Month\": \"2020-02-26T00:00:00\", \"Tweet count\": 431}, {\"Month\": \"2020-02-27T00:00:00\", \"Tweet count\": 418}, {\"Month\": \"2020-02-28T00:00:00\", \"Tweet count\": 425}, {\"Month\": \"2020-02-29T00:00:00\", \"Tweet count\": 448}, {\"Month\": \"2020-03-01T00:00:00\", \"Tweet count\": 457}, {\"Month\": \"2020-03-02T00:00:00\", \"Tweet count\": 420}, {\"Month\": \"2020-03-03T00:00:00\", \"Tweet count\": 416}, {\"Month\": \"2020-03-04T00:00:00\", \"Tweet count\": 409}, {\"Month\": \"2020-03-05T00:00:00\", \"Tweet count\": 446}, {\"Month\": \"2020-03-06T00:00:00\", \"Tweet count\": 420}, {\"Month\": \"2020-03-07T00:00:00\", \"Tweet count\": 430}, {\"Month\": \"2020-03-08T00:00:00\", \"Tweet count\": 384}, {\"Month\": \"2020-03-09T00:00:00\", \"Tweet count\": 393}, {\"Month\": \"2020-03-10T00:00:00\", \"Tweet count\": 426}, {\"Month\": \"2020-03-11T00:00:00\", \"Tweet count\": 406}, {\"Month\": \"2020-03-12T00:00:00\", \"Tweet count\": 403}, {\"Month\": \"2020-03-13T00:00:00\", \"Tweet count\": 385}, {\"Month\": \"2020-03-14T00:00:00\", \"Tweet count\": 400}, {\"Month\": \"2020-03-15T00:00:00\", \"Tweet count\": 401}, {\"Month\": \"2020-03-16T00:00:00\", \"Tweet count\": 388}, {\"Month\": \"2020-03-17T00:00:00\", \"Tweet count\": 398}, {\"Month\": \"2020-03-18T00:00:00\", \"Tweet count\": 334}, {\"Month\": \"2020-03-19T00:00:00\", \"Tweet count\": 427}, {\"Month\": \"2020-03-20T00:00:00\", \"Tweet count\": 381}, {\"Month\": \"2020-03-21T00:00:00\", \"Tweet count\": 384}, {\"Month\": \"2020-03-22T00:00:00\", \"Tweet count\": 357}, {\"Month\": \"2020-03-23T00:00:00\", \"Tweet count\": 370}, {\"Month\": \"2020-03-24T00:00:00\", \"Tweet count\": 395}, {\"Month\": \"2020-03-25T00:00:00\", \"Tweet count\": 404}, {\"Month\": \"2020-03-26T00:00:00\", \"Tweet count\": 412}, {\"Month\": \"2020-03-27T00:00:00\", \"Tweet count\": 385}, {\"Month\": \"2020-03-28T00:00:00\", \"Tweet count\": 394}, {\"Month\": \"2020-03-29T00:00:00\", \"Tweet count\": 377}, {\"Month\": \"2020-03-30T00:00:00\", \"Tweet count\": 379}, {\"Month\": \"2020-03-31T00:00:00\", \"Tweet count\": 393}, {\"Month\": \"2020-04-01T00:00:00\", \"Tweet count\": 371}, {\"Month\": \"2020-04-02T00:00:00\", \"Tweet count\": 363}, {\"Month\": \"2020-04-03T00:00:00\", \"Tweet count\": 376}, {\"Month\": \"2020-04-04T00:00:00\", \"Tweet count\": 392}, {\"Month\": \"2020-04-05T00:00:00\", \"Tweet count\": 375}, {\"Month\": \"2020-04-06T00:00:00\", \"Tweet count\": 374}, {\"Month\": \"2020-04-07T00:00:00\", \"Tweet count\": 351}, {\"Month\": \"2020-04-08T00:00:00\", \"Tweet count\": 389}, {\"Month\": \"2020-04-09T00:00:00\", \"Tweet count\": 387}, {\"Month\": \"2020-04-10T00:00:00\", \"Tweet count\": 353}, {\"Month\": \"2020-04-11T00:00:00\", \"Tweet count\": 419}, {\"Month\": \"2020-04-12T00:00:00\", \"Tweet count\": 374}, {\"Month\": \"2020-04-13T00:00:00\", \"Tweet count\": 376}, {\"Month\": \"2020-04-14T00:00:00\", \"Tweet count\": 361}, {\"Month\": \"2020-04-15T00:00:00\", \"Tweet count\": 341}, {\"Month\": \"2020-04-16T00:00:00\", \"Tweet count\": 373}, {\"Month\": \"2020-04-17T00:00:00\", \"Tweet count\": 362}, {\"Month\": \"2020-04-18T00:00:00\", \"Tweet count\": 387}, {\"Month\": \"2020-04-19T00:00:00\", \"Tweet count\": 377}, {\"Month\": \"2020-04-20T00:00:00\", \"Tweet count\": 342}, {\"Month\": \"2020-04-21T00:00:00\", \"Tweet count\": 397}, {\"Month\": \"2020-04-22T00:00:00\", \"Tweet count\": 397}, {\"Month\": \"2020-04-23T00:00:00\", \"Tweet count\": 377}, {\"Month\": \"2020-04-24T00:00:00\", \"Tweet count\": 364}, {\"Month\": \"2020-04-25T00:00:00\", \"Tweet count\": 383}, {\"Month\": \"2020-04-26T00:00:00\", \"Tweet count\": 415}, {\"Month\": \"2020-04-27T00:00:00\", \"Tweet count\": 407}, {\"Month\": \"2020-04-28T00:00:00\", \"Tweet count\": 341}, {\"Month\": \"2020-04-29T00:00:00\", \"Tweet count\": 351}, {\"Month\": \"2020-04-30T00:00:00\", \"Tweet count\": 367}, {\"Month\": \"2020-05-01T00:00:00\", \"Tweet count\": 429}, {\"Month\": \"2020-05-02T00:00:00\", \"Tweet count\": 416}, {\"Month\": \"2020-05-03T00:00:00\", \"Tweet count\": 391}, {\"Month\": \"2020-05-04T00:00:00\", \"Tweet count\": 375}, {\"Month\": \"2020-05-05T00:00:00\", \"Tweet count\": 421}, {\"Month\": \"2020-05-06T00:00:00\", \"Tweet count\": 451}, {\"Month\": \"2020-05-07T00:00:00\", \"Tweet count\": 430}, {\"Month\": \"2020-05-08T00:00:00\", \"Tweet count\": 418}, {\"Month\": \"2020-05-09T00:00:00\", \"Tweet count\": 432}, {\"Month\": \"2020-05-10T00:00:00\", \"Tweet count\": 421}, {\"Month\": \"2020-05-11T00:00:00\", \"Tweet count\": 415}, {\"Month\": \"2020-05-12T00:00:00\", \"Tweet count\": 418}, {\"Month\": \"2020-05-13T00:00:00\", \"Tweet count\": 403}, {\"Month\": \"2020-05-14T00:00:00\", \"Tweet count\": 385}, {\"Month\": \"2020-05-15T00:00:00\", \"Tweet count\": 429}, {\"Month\": \"2020-05-16T00:00:00\", \"Tweet count\": 477}, {\"Month\": \"2020-05-17T00:00:00\", \"Tweet count\": 424}, {\"Month\": \"2020-05-18T00:00:00\", \"Tweet count\": 396}, {\"Month\": \"2020-05-19T00:00:00\", \"Tweet count\": 407}, {\"Month\": \"2020-05-20T00:00:00\", \"Tweet count\": 430}, {\"Month\": \"2020-05-21T00:00:00\", \"Tweet count\": 401}, {\"Month\": \"2020-05-22T00:00:00\", \"Tweet count\": 426}, {\"Month\": \"2020-05-23T00:00:00\", \"Tweet count\": 426}, {\"Month\": \"2020-05-24T00:00:00\", \"Tweet count\": 421}, {\"Month\": \"2020-05-25T00:00:00\", \"Tweet count\": 406}, {\"Month\": \"2020-05-26T00:00:00\", \"Tweet count\": 388}, {\"Month\": \"2020-05-27T00:00:00\", \"Tweet count\": 354}, {\"Month\": \"2020-05-28T00:00:00\", \"Tweet count\": 448}, {\"Month\": \"2020-05-29T00:00:00\", \"Tweet count\": 394}, {\"Month\": \"2020-05-30T00:00:00\", \"Tweet count\": 402}, {\"Month\": \"2020-05-31T00:00:00\", \"Tweet count\": 424}, {\"Month\": \"2020-06-01T00:00:00\", \"Tweet count\": 388}, {\"Month\": \"2020-06-02T00:00:00\", \"Tweet count\": 374}, {\"Month\": \"2020-06-03T00:00:00\", \"Tweet count\": 413}, {\"Month\": \"2020-06-04T00:00:00\", \"Tweet count\": 395}, {\"Month\": \"2020-06-05T00:00:00\", \"Tweet count\": 426}, {\"Month\": \"2020-06-06T00:00:00\", \"Tweet count\": 430}, {\"Month\": \"2020-06-07T00:00:00\", \"Tweet count\": 418}, {\"Month\": \"2020-06-08T00:00:00\", \"Tweet count\": 421}, {\"Month\": \"2020-06-09T00:00:00\", \"Tweet count\": 407}, {\"Month\": \"2020-06-10T00:00:00\", \"Tweet count\": 374}, {\"Month\": \"2020-06-11T00:00:00\", \"Tweet count\": 442}, {\"Month\": \"2020-06-12T00:00:00\", \"Tweet count\": 421}, {\"Month\": \"2020-06-13T00:00:00\", \"Tweet count\": 419}, {\"Month\": \"2020-06-14T00:00:00\", \"Tweet count\": 434}, {\"Month\": \"2020-06-15T00:00:00\", \"Tweet count\": 396}, {\"Month\": \"2020-06-16T00:00:00\", \"Tweet count\": 420}, {\"Month\": \"2020-06-17T00:00:00\", \"Tweet count\": 415}, {\"Month\": \"2020-06-18T00:00:00\", \"Tweet count\": 404}, {\"Month\": \"2020-06-19T00:00:00\", \"Tweet count\": 442}, {\"Month\": \"2020-06-20T00:00:00\", \"Tweet count\": 485}, {\"Month\": \"2020-06-21T00:00:00\", \"Tweet count\": 463}, {\"Month\": \"2020-06-22T00:00:00\", \"Tweet count\": 407}, {\"Month\": \"2020-06-23T00:00:00\", \"Tweet count\": 440}, {\"Month\": \"2020-06-24T00:00:00\", \"Tweet count\": 389}, {\"Month\": \"2020-06-25T00:00:00\", \"Tweet count\": 429}, {\"Month\": \"2020-06-26T00:00:00\", \"Tweet count\": 438}, {\"Month\": \"2020-06-27T00:00:00\", \"Tweet count\": 439}, {\"Month\": \"2020-06-28T00:00:00\", \"Tweet count\": 420}, {\"Month\": \"2020-06-29T00:00:00\", \"Tweet count\": 435}, {\"Month\": \"2020-06-30T00:00:00\", \"Tweet count\": 408}, {\"Month\": \"2020-07-01T00:00:00\", \"Tweet count\": 453}, {\"Month\": \"2020-07-02T00:00:00\", \"Tweet count\": 463}, {\"Month\": \"2020-07-03T00:00:00\", \"Tweet count\": 430}, {\"Month\": \"2020-07-04T00:00:00\", \"Tweet count\": 422}, {\"Month\": \"2020-07-05T00:00:00\", \"Tweet count\": 428}, {\"Month\": \"2020-07-06T00:00:00\", \"Tweet count\": 417}, {\"Month\": \"2020-07-07T00:00:00\", \"Tweet count\": 443}, {\"Month\": \"2020-07-08T00:00:00\", \"Tweet count\": 438}, {\"Month\": \"2020-07-09T00:00:00\", \"Tweet count\": 434}, {\"Month\": \"2020-07-10T00:00:00\", \"Tweet count\": 447}]}}, {\"mode\": \"vega-lite\"});\n",
       "</script>"
      ],
      "text/plain": [
       "alt.LayerChart(...)"
      ]
     },
     "execution_count": 6,
     "metadata": {},
     "output_type": "execute_result"
    }
   ],
   "source": [
    "df = pd.DataFrame.from_dict(count, orient='index').reset_index()\n",
    "df = df.rename(columns={'index':'Month',0:'Tweet count'})\n",
    "df['Month']= pd.to_datetime(df['Month'])\n",
    "\n",
    "# Create a selection that chooses the nearest point & selects based on x-value\n",
    "nearest = alt.selection(type='single', nearest=True, on='mouseover',\n",
    "                        fields=['Month'], empty='none')\n",
    "\n",
    "\n",
    "chart = alt.Chart(df).mark_area(\n",
    "    #point= True,\n",
    "    line={'color':'#126DC5'},\n",
    "    color=alt.Gradient(\n",
    "        gradient='linear',\n",
    "        stops=[alt.GradientStop(color='white', offset=0),\n",
    "               alt.GradientStop(color='mediumturquoise', offset=1)],\n",
    "        x1=1,\n",
    "        x2=1,\n",
    "        y1=1,\n",
    "        y2=0\n",
    "    )\n",
    ").properties(\n",
    "    width=700,\n",
    "    height=300,\n",
    "    title = \"Trend of the number of Tweets during the year\"\n",
    ").encode(\n",
    "        #alt.X('Month', sort = ['Jan','Feb','Mar','Apr','May','Jun','Jul']),\n",
    "        alt.X('Month'),\n",
    "        alt.Y('Tweet count:Q')\n",
    "        #tooltip=['Month', 'Tweet count']\n",
    ")\n",
    "\n",
    "# Transparent selectors across the chart. This is what tells us\n",
    "# the x-value of the cursor\n",
    "selectors = alt.Chart(df).mark_point().encode(\n",
    "    #x=alt.X('Month', sort = ['Jan','Feb','Mar','Apr','May','Jun','Jul']),\n",
    "    x=alt.X('Month'),\n",
    "    opacity=alt.value(0),\n",
    ").add_selection(\n",
    "    nearest\n",
    ")\n",
    "\n",
    "# Draw points on the line, and highlight based on selection\n",
    "points = chart.mark_point().encode(\n",
    "    opacity=alt.condition(nearest, alt.value(1), alt.value(0))\n",
    ")\n",
    "\n",
    "# Draw text labels near the points, and highlight based on selection\n",
    "text = chart.mark_text(align='left', dx=5, dy=-5).encode(\n",
    "    text=alt.condition(nearest, 'Tweet count:Q', alt.value(' '))\n",
    ")\n",
    "\n",
    "# Draw a rule at the location of the selection\n",
    "rules = alt.Chart(df).mark_rule(color='gray').encode(\n",
    "    #x=alt.X('Month', sort = ['Jan','Feb','Mar','Apr','May','Jun','Jul']),\n",
    "    x=alt.X('Month'),\n",
    ").transform_filter(\n",
    "    nearest\n",
    ")\n",
    "\n",
    "# Put the five layers into a chart and bind the data\n",
    "alt.layer(\n",
    "    chart, selectors, points, rules, text\n",
    ").properties(\n",
    "    width=700,\n",
    "    height=300\n",
    ").configure_title(\n",
    "    fontSize=17,\n",
    "    offset=25\n",
    ").configure_axis(\n",
    "    labelFontSize=13,\n",
    "    titleFontSize=15,\n",
    "    titlePadding=15\n",
    ")"
   ]
  }
 ],
 "metadata": {
  "kernelspec": {
   "display_name": "Python 3",
   "language": "python",
   "name": "python3"
  },
  "language_info": {
   "codemirror_mode": {
    "name": "ipython",
    "version": 3
   },
   "file_extension": ".py",
   "mimetype": "text/x-python",
   "name": "python",
   "nbconvert_exporter": "python",
   "pygments_lexer": "ipython3",
   "version": "3.9.2"
  }
 },
 "nbformat": 4,
 "nbformat_minor": 5
}

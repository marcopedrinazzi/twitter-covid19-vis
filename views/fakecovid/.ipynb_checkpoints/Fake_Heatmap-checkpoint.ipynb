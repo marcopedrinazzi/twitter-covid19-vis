{
 "cells": [
  {
   "cell_type": "markdown",
   "id": "dirty-coffee",
   "metadata": {},
   "source": [
    "# Fake Heat Map"
   ]
  },
  {
   "cell_type": "markdown",
   "id": "strategic-disaster",
   "metadata": {},
   "source": [
    "### fake_heatmap.py"
   ]
  },
  {
   "cell_type": "markdown",
   "id": "miniature-elephant",
   "metadata": {},
   "source": [
    "In order to create the heatmap, we need the following packages:"
   ]
  },
  {
   "cell_type": "code",
   "execution_count": 1,
   "id": "unlikely-trust",
   "metadata": {},
   "outputs": [],
   "source": [
    "import json\n",
    "from collections import Counter\n",
    "import pandas as pd\n",
    "import altair as alt\n",
    "import datetime\n",
    "from dateutil.parser import parse\n",
    "from itertools import groupby\n",
    "from operator import itemgetter"
   ]
  },
  {
   "cell_type": "markdown",
   "id": "equipped-coating",
   "metadata": {},
   "source": [
    "To read the JSON file that has all the tweets, it is necessary to do:"
   ]
  },
  {
   "cell_type": "code",
   "execution_count": 2,
   "id": "medium-prompt",
   "metadata": {},
   "outputs": [],
   "source": [
    "data = []\n",
    "with open('dataset/fakecovid_result_final_translated_full.json', 'r') as f:\n",
    "    for line in f:\n",
    "        data.append(json.loads(line))\n"
   ]
  },
  {
   "cell_type": "markdown",
   "id": "rental-colorado",
   "metadata": {},
   "source": [
    "We're interested in the \"created_at\" field."
   ]
  },
  {
   "cell_type": "code",
   "execution_count": 3,
   "id": "manual-colony",
   "metadata": {},
   "outputs": [],
   "source": [
    "lista = []\n",
    "index = 0\n",
    "\n",
    "for element in data: \n",
    "    token=data[index]['created_at']\n",
    "    d = parse(token)\n",
    "    d = d.strftime('%Y/%m/%d')\n",
    "    lista.append(d)\n",
    "    index=index+1"
   ]
  },
  {
   "cell_type": "markdown",
   "id": "subtle-matrix",
   "metadata": {},
   "source": [
    "After converting the related date into a string, the number of occurrences in the created 'lista' has been counted.\n",
    "Then the DataFrame, that is a 2-dimensional labeled data structure, was generated from the array 'lista'."
   ]
  },
  {
   "cell_type": "code",
   "execution_count": 4,
   "id": "powerful-latino",
   "metadata": {},
   "outputs": [],
   "source": [
    "count=Counter(lista)\n",
    "\n",
    "start = datetime.datetime.strptime(\"2020/01/01\", \"%Y/%m/%d\")\n",
    "end = datetime.datetime.strptime(\"2020/09/01\", \"%Y/%m/%d\")\n",
    "date_generated = [start + datetime.timedelta(days=x) for x in range(0, (end-start).days)]\n",
    "\n",
    "for date in date_generated:\n",
    "    if date.strftime(\"%Y/%m/%d\") not in count:\n",
    "        count[date.strftime(\"%Y/%m/%d\")] = 0\n",
    "\n",
    "df = pd.DataFrame.from_dict(count, orient='index').reset_index()\n",
    "df = df.rename(columns={'index':'data', 0:'tweet_count'})"
   ]
  },
  {
   "cell_type": "markdown",
   "id": "pressing-footage",
   "metadata": {},
   "source": [
    "The heatmap is created and visualized through the 'altair_viewer':"
   ]
  },
  {
   "cell_type": "code",
   "execution_count": 5,
   "id": "minus-timer",
   "metadata": {},
   "outputs": [
    {
     "data": {
      "text/html": [
       "\n",
       "<div id=\"altair-viz-817d7e9b287945838ff93809fd9edad4\"></div>\n",
       "<script type=\"text/javascript\">\n",
       "  (function(spec, embedOpt){\n",
       "    let outputDiv = document.currentScript.previousElementSibling;\n",
       "    if (outputDiv.id !== \"altair-viz-817d7e9b287945838ff93809fd9edad4\") {\n",
       "      outputDiv = document.getElementById(\"altair-viz-817d7e9b287945838ff93809fd9edad4\");\n",
       "    }\n",
       "    const paths = {\n",
       "      \"vega\": \"https://cdn.jsdelivr.net/npm//vega@5?noext\",\n",
       "      \"vega-lib\": \"https://cdn.jsdelivr.net/npm//vega-lib?noext\",\n",
       "      \"vega-lite\": \"https://cdn.jsdelivr.net/npm//vega-lite@4.8.1?noext\",\n",
       "      \"vega-embed\": \"https://cdn.jsdelivr.net/npm//vega-embed@6?noext\",\n",
       "    };\n",
       "\n",
       "    function loadScript(lib) {\n",
       "      return new Promise(function(resolve, reject) {\n",
       "        var s = document.createElement('script');\n",
       "        s.src = paths[lib];\n",
       "        s.async = true;\n",
       "        s.onload = () => resolve(paths[lib]);\n",
       "        s.onerror = () => reject(`Error loading script: ${paths[lib]}`);\n",
       "        document.getElementsByTagName(\"head\")[0].appendChild(s);\n",
       "      });\n",
       "    }\n",
       "\n",
       "    function showError(err) {\n",
       "      outputDiv.innerHTML = `<div class=\"error\" style=\"color:red;\">${err}</div>`;\n",
       "      throw err;\n",
       "    }\n",
       "\n",
       "    function displayChart(vegaEmbed) {\n",
       "      vegaEmbed(outputDiv, spec, embedOpt)\n",
       "        .catch(err => showError(`Javascript Error: ${err.message}<br>This usually means there's a typo in your chart specification. See the javascript console for the full traceback.`));\n",
       "    }\n",
       "\n",
       "    if(typeof define === \"function\" && define.amd) {\n",
       "      requirejs.config({paths});\n",
       "      require([\"vega-embed\"], displayChart, err => showError(`Error loading script: ${err.message}`));\n",
       "    } else if (typeof vegaEmbed === \"function\") {\n",
       "      displayChart(vegaEmbed);\n",
       "    } else {\n",
       "      loadScript(\"vega\")\n",
       "        .then(() => loadScript(\"vega-lite\"))\n",
       "        .then(() => loadScript(\"vega-embed\"))\n",
       "        .catch(showError)\n",
       "        .then(() => displayChart(vegaEmbed));\n",
       "    }\n",
       "  })({\"config\": {\"view\": {\"continuousWidth\": 400, \"continuousHeight\": 300}}, \"layer\": [{\"mark\": \"rect\", \"encoding\": {\"color\": {\"type\": \"quantitative\", \"field\": \"tweet_count\", \"scale\": {\"scheme\": \"turbo\"}}, \"tooltip\": [{\"type\": \"temporal\", \"field\": \"data\", \"timeUnit\": \"monthdate\", \"title\": \"Date\"}, {\"type\": \"quantitative\", \"field\": \"tweet_count\", \"title\": \"Tweet Count\"}], \"x\": {\"type\": \"ordinal\", \"field\": \"data\", \"timeUnit\": \"date\"}, \"y\": {\"type\": \"ordinal\", \"field\": \"data\", \"timeUnit\": \"month\"}}, \"height\": 300, \"title\": \"Tweet count heatmap\", \"width\": 800}, {\"mark\": {\"type\": \"text\", \"baseline\": \"middle\"}, \"encoding\": {\"color\": {\"condition\": {\"value\": \"black\", \"test\": {\"field\": \"tweet_count\", \"range\": [12, 25]}}, \"value\": \"white\"}, \"text\": {\"type\": \"quantitative\", \"field\": \"tweet_count\"}, \"tooltip\": [{\"type\": \"temporal\", \"field\": \"data\", \"timeUnit\": \"monthdate\", \"title\": \"Date\"}, {\"type\": \"quantitative\", \"field\": \"tweet_count\", \"title\": \"Tweet Count\"}], \"x\": {\"type\": \"ordinal\", \"field\": \"data\", \"timeUnit\": \"date\"}, \"y\": {\"type\": \"ordinal\", \"field\": \"data\", \"timeUnit\": \"month\"}}, \"height\": 300, \"title\": \"Tweet count heatmap\", \"width\": 800}], \"data\": {\"name\": \"data-42806f59520e549a23c97e09efbd36f1\"}, \"$schema\": \"https://vega.github.io/schema/vega-lite/v4.8.1.json\", \"datasets\": {\"data-42806f59520e549a23c97e09efbd36f1\": [{\"data\": \"2020/02/02\", \"tweet_count\": 5}, {\"data\": \"2020/02/11\", \"tweet_count\": 6}, {\"data\": \"2020/02/15\", \"tweet_count\": 1}, {\"data\": \"2020/02/16\", \"tweet_count\": 3}, {\"data\": \"2020/03/04\", \"tweet_count\": 7}, {\"data\": \"2020/03/11\", \"tweet_count\": 13}, {\"data\": \"2020/03/24\", \"tweet_count\": 25}, {\"data\": \"2020/03/26\", \"tweet_count\": 17}, {\"data\": \"2020/03/27\", \"tweet_count\": 19}, {\"data\": \"2020/04/08\", \"tweet_count\": 18}, {\"data\": \"2020/04/09\", \"tweet_count\": 15}, {\"data\": \"2020/04/15\", \"tweet_count\": 18}, {\"data\": \"2020/04/21\", \"tweet_count\": 15}, {\"data\": \"2020/04/24\", \"tweet_count\": 9}, {\"data\": \"2020/04/28\", \"tweet_count\": 10}, {\"data\": \"2020/05/03\", \"tweet_count\": 11}, {\"data\": \"2020/05/06\", \"tweet_count\": 11}, {\"data\": \"2020/05/07\", \"tweet_count\": 10}, {\"data\": \"2020/05/10\", \"tweet_count\": 7}, {\"data\": \"2020/05/16\", \"tweet_count\": 7}, {\"data\": \"2020/05/19\", \"tweet_count\": 6}, {\"data\": \"2020/05/20\", \"tweet_count\": 12}, {\"data\": \"2020/05/21\", \"tweet_count\": 13}, {\"data\": \"2020/05/24\", \"tweet_count\": 5}, {\"data\": \"2020/05/25\", \"tweet_count\": 13}, {\"data\": \"2020/05/26\", \"tweet_count\": 12}, {\"data\": \"2020/05/27\", \"tweet_count\": 10}, {\"data\": \"2020/06/01\", \"tweet_count\": 2}, {\"data\": \"2020/06/04\", \"tweet_count\": 4}, {\"data\": \"2020/06/06\", \"tweet_count\": 5}, {\"data\": \"2020/06/08\", \"tweet_count\": 9}, {\"data\": \"2020/06/09\", \"tweet_count\": 5}, {\"data\": \"2020/06/10\", \"tweet_count\": 2}, {\"data\": \"2020/06/11\", \"tweet_count\": 5}, {\"data\": \"2020/06/12\", \"tweet_count\": 5}, {\"data\": \"2020/06/13\", \"tweet_count\": 2}, {\"data\": \"2020/06/14\", \"tweet_count\": 5}, {\"data\": \"2020/06/16\", \"tweet_count\": 1}, {\"data\": \"2020/06/17\", \"tweet_count\": 2}, {\"data\": \"2020/06/24\", \"tweet_count\": 6}, {\"data\": \"2020/06/25\", \"tweet_count\": 5}, {\"data\": \"2020/06/26\", \"tweet_count\": 1}, {\"data\": \"2020/06/30\", \"tweet_count\": 3}, {\"data\": \"2020/07/01\", \"tweet_count\": 3}, {\"data\": \"2020/07/03\", \"tweet_count\": 2}, {\"data\": \"2020/07/08\", \"tweet_count\": 1}, {\"data\": \"2020/07/18\", \"tweet_count\": 2}, {\"data\": \"2020/07/24\", \"tweet_count\": 3}, {\"data\": \"2020/07/30\", \"tweet_count\": 3}, {\"data\": \"2020/08/07\", \"tweet_count\": 3}, {\"data\": \"2020/08/11\", \"tweet_count\": 6}, {\"data\": \"2020/08/12\", \"tweet_count\": 4}, {\"data\": \"2020/08/13\", \"tweet_count\": 1}, {\"data\": \"2020/01/16\", \"tweet_count\": 4}, {\"data\": \"2020/01/27\", \"tweet_count\": 7}, {\"data\": \"2020/02/10\", \"tweet_count\": 1}, {\"data\": \"2020/02/29\", \"tweet_count\": 6}, {\"data\": \"2020/03/15\", \"tweet_count\": 28}, {\"data\": \"2020/03/20\", \"tweet_count\": 25}, {\"data\": \"2020/03/23\", \"tweet_count\": 27}, {\"data\": \"2020/04/12\", \"tweet_count\": 7}, {\"data\": \"2020/04/26\", \"tweet_count\": 23}, {\"data\": \"2020/04/29\", \"tweet_count\": 11}, {\"data\": \"2020/05/02\", \"tweet_count\": 12}, {\"data\": \"2020/05/11\", \"tweet_count\": 8}, {\"data\": \"2020/05/12\", \"tweet_count\": 20}, {\"data\": \"2020/05/13\", \"tweet_count\": 10}, {\"data\": \"2020/05/14\", \"tweet_count\": 6}, {\"data\": \"2020/05/18\", \"tweet_count\": 5}, {\"data\": \"2020/05/22\", \"tweet_count\": 4}, {\"data\": \"2020/05/28\", \"tweet_count\": 1}, {\"data\": \"2020/05/29\", \"tweet_count\": 4}, {\"data\": \"2020/06/02\", \"tweet_count\": 2}, {\"data\": \"2020/06/05\", \"tweet_count\": 3}, {\"data\": \"2020/06/23\", \"tweet_count\": 1}, {\"data\": \"2020/08/06\", \"tweet_count\": 1}, {\"data\": \"2020/08/08\", \"tweet_count\": 2}, {\"data\": \"2020/08/15\", \"tweet_count\": 1}, {\"data\": \"2020/03/05\", \"tweet_count\": 11}, {\"data\": \"2020/03/06\", \"tweet_count\": 10}, {\"data\": \"2020/03/18\", \"tweet_count\": 34}, {\"data\": \"2020/03/22\", \"tweet_count\": 30}, {\"data\": \"2020/03/28\", \"tweet_count\": 15}, {\"data\": \"2020/03/31\", \"tweet_count\": 18}, {\"data\": \"2020/04/01\", \"tweet_count\": 11}, {\"data\": \"2020/04/03\", \"tweet_count\": 20}, {\"data\": \"2020/04/17\", \"tweet_count\": 5}, {\"data\": \"2020/04/18\", \"tweet_count\": 7}, {\"data\": \"2020/04/19\", \"tweet_count\": 8}, {\"data\": \"2020/04/20\", \"tweet_count\": 10}, {\"data\": \"2020/04/30\", \"tweet_count\": 5}, {\"data\": \"2020/05/01\", \"tweet_count\": 3}, {\"data\": \"2020/05/04\", \"tweet_count\": 8}, {\"data\": \"2020/05/08\", \"tweet_count\": 16}, {\"data\": \"2020/05/09\", \"tweet_count\": 5}, {\"data\": \"2020/05/15\", \"tweet_count\": 2}, {\"data\": \"2020/05/17\", \"tweet_count\": 4}, {\"data\": \"2020/07/31\", \"tweet_count\": 2}, {\"data\": \"2020/08/09\", \"tweet_count\": 1}, {\"data\": \"2020/08/10\", \"tweet_count\": 2}, {\"data\": \"2020/08/26\", \"tweet_count\": 1}, {\"data\": \"2020/01/14\", \"tweet_count\": 1}, {\"data\": \"2020/02/01\", \"tweet_count\": 2}, {\"data\": \"2020/02/04\", \"tweet_count\": 2}, {\"data\": \"2020/02/26\", \"tweet_count\": 4}, {\"data\": \"2020/03/07\", \"tweet_count\": 6}, {\"data\": \"2020/03/14\", \"tweet_count\": 17}, {\"data\": \"2020/03/16\", \"tweet_count\": 38}, {\"data\": \"2020/03/19\", \"tweet_count\": 18}, {\"data\": \"2020/03/30\", \"tweet_count\": 26}, {\"data\": \"2020/04/06\", \"tweet_count\": 20}, {\"data\": \"2020/04/07\", \"tweet_count\": 16}, {\"data\": \"2020/04/10\", \"tweet_count\": 14}, {\"data\": \"2020/04/22\", \"tweet_count\": 11}, {\"data\": \"2020/04/25\", \"tweet_count\": 4}, {\"data\": \"2020/05/05\", \"tweet_count\": 2}, {\"data\": \"2020/05/23\", \"tweet_count\": 2}, {\"data\": \"2020/08/01\", \"tweet_count\": 2}, {\"data\": \"2020/08/02\", \"tweet_count\": 1}, {\"data\": \"2020/08/03\", \"tweet_count\": 1}, {\"data\": \"2020/08/04\", \"tweet_count\": 1}, {\"data\": \"2020/08/27\", \"tweet_count\": 4}, {\"data\": \"2020/08/31\", \"tweet_count\": 2}, {\"data\": \"2020/03/21\", \"tweet_count\": 24}, {\"data\": \"2020/04/02\", \"tweet_count\": 19}, {\"data\": \"2020/04/04\", \"tweet_count\": 14}, {\"data\": \"2020/04/05\", \"tweet_count\": 15}, {\"data\": \"2020/04/14\", \"tweet_count\": 9}, {\"data\": \"2020/04/23\", \"tweet_count\": 4}, {\"data\": \"2020/04/27\", \"tweet_count\": 5}, {\"data\": \"2020/06/03\", \"tweet_count\": 2}, {\"data\": \"2020/07/06\", \"tweet_count\": 1}, {\"data\": \"2020/07/27\", \"tweet_count\": 1}, {\"data\": \"2020/08/30\", \"tweet_count\": 1}, {\"data\": \"2020/01/19\", \"tweet_count\": 2}, {\"data\": \"2020/01/21\", \"tweet_count\": 2}, {\"data\": \"2020/01/31\", \"tweet_count\": 8}, {\"data\": \"2020/03/02\", \"tweet_count\": 10}, {\"data\": \"2020/03/03\", \"tweet_count\": 8}, {\"data\": \"2020/03/17\", \"tweet_count\": 21}, {\"data\": \"2020/03/25\", \"tweet_count\": 22}, {\"data\": \"2020/03/29\", \"tweet_count\": 11}, {\"data\": \"2020/04/11\", \"tweet_count\": 13}, {\"data\": \"2020/04/13\", \"tweet_count\": 11}, {\"data\": \"2020/04/16\", \"tweet_count\": 9}, {\"data\": \"2020/07/21\", \"tweet_count\": 1}, {\"data\": \"2020/07/28\", \"tweet_count\": 1}, {\"data\": \"2020/02/14\", \"tweet_count\": 1}, {\"data\": \"2020/02/19\", \"tweet_count\": 1}, {\"data\": \"2020/02/22\", \"tweet_count\": 2}, {\"data\": \"2020/02/23\", \"tweet_count\": 1}, {\"data\": \"2020/02/25\", \"tweet_count\": 7}, {\"data\": \"2020/03/12\", \"tweet_count\": 27}, {\"data\": \"2020/07/02\", \"tweet_count\": 1}, {\"data\": \"2020/07/11\", \"tweet_count\": 1}, {\"data\": \"2020/07/15\", \"tweet_count\": 1}, {\"data\": \"2020/07/22\", \"tweet_count\": 2}, {\"data\": \"2020/07/25\", \"tweet_count\": 1}, {\"data\": \"2020/01/29\", \"tweet_count\": 5}, {\"data\": \"2020/02/12\", \"tweet_count\": 4}, {\"data\": \"2020/03/09\", \"tweet_count\": 18}, {\"data\": \"2020/03/13\", \"tweet_count\": 19}, {\"data\": \"2020/07/23\", \"tweet_count\": 1}, {\"data\": \"2020/02/08\", \"tweet_count\": 4}, {\"data\": \"2020/03/01\", \"tweet_count\": 1}, {\"data\": \"2020/03/08\", \"tweet_count\": 4}, {\"data\": \"2020/06/18\", \"tweet_count\": 5}, {\"data\": \"2020/06/28\", \"tweet_count\": 4}, {\"data\": \"2020/02/28\", \"tweet_count\": 3}, {\"data\": \"2020/07/14\", \"tweet_count\": 1}, {\"data\": \"2020/07/17\", \"tweet_count\": 1}, {\"data\": \"2020/08/18\", \"tweet_count\": 3}, {\"data\": \"2020/06/27\", \"tweet_count\": 2}, {\"data\": \"2020/01/22\", \"tweet_count\": 2}, {\"data\": \"2020/02/06\", \"tweet_count\": 6}, {\"data\": \"2020/02/07\", \"tweet_count\": 2}, {\"data\": \"2020/03/10\", \"tweet_count\": 17}, {\"data\": \"2020/05/31\", \"tweet_count\": 1}, {\"data\": \"2020/06/19\", \"tweet_count\": 2}, {\"data\": \"2020/07/10\", \"tweet_count\": 1}, {\"data\": \"2020/07/12\", \"tweet_count\": 1}, {\"data\": \"2020/07/13\", \"tweet_count\": 2}, {\"data\": \"2020/08/20\", \"tweet_count\": 1}, {\"data\": \"2020/01/26\", \"tweet_count\": 3}, {\"data\": \"2020/01/30\", \"tweet_count\": 6}, {\"data\": \"2020/02/03\", \"tweet_count\": 2}, {\"data\": \"2020/02/05\", \"tweet_count\": 11}, {\"data\": \"2020/02/27\", \"tweet_count\": 1}, {\"data\": \"2020/01/04\", \"tweet_count\": 1}, {\"data\": \"2020/01/23\", \"tweet_count\": 6}, {\"data\": \"2020/01/24\", \"tweet_count\": 2}, {\"data\": \"2020/01/25\", \"tweet_count\": 6}, {\"data\": \"2020/01/28\", \"tweet_count\": 5}, {\"data\": \"2020/02/09\", \"tweet_count\": 3}, {\"data\": \"2020/02/18\", \"tweet_count\": 3}, {\"data\": \"2020/02/20\", \"tweet_count\": 1}, {\"data\": \"2020/07/04\", \"tweet_count\": 1}, {\"data\": \"2020/08/16\", \"tweet_count\": 2}, {\"data\": \"2020/08/19\", \"tweet_count\": 1}, {\"data\": \"2020/02/13\", \"tweet_count\": 1}, {\"data\": \"2020/01/15\", \"tweet_count\": 1}, {\"data\": \"2020/01/01\", \"tweet_count\": 0}, {\"data\": \"2020/01/02\", \"tweet_count\": 0}, {\"data\": \"2020/01/03\", \"tweet_count\": 0}, {\"data\": \"2020/01/05\", \"tweet_count\": 0}, {\"data\": \"2020/01/06\", \"tweet_count\": 0}, {\"data\": \"2020/01/07\", \"tweet_count\": 0}, {\"data\": \"2020/01/08\", \"tweet_count\": 0}, {\"data\": \"2020/01/09\", \"tweet_count\": 0}, {\"data\": \"2020/01/10\", \"tweet_count\": 0}, {\"data\": \"2020/01/11\", \"tweet_count\": 0}, {\"data\": \"2020/01/12\", \"tweet_count\": 0}, {\"data\": \"2020/01/13\", \"tweet_count\": 0}, {\"data\": \"2020/01/17\", \"tweet_count\": 0}, {\"data\": \"2020/01/18\", \"tweet_count\": 0}, {\"data\": \"2020/01/20\", \"tweet_count\": 0}, {\"data\": \"2020/02/17\", \"tweet_count\": 0}, {\"data\": \"2020/02/21\", \"tweet_count\": 0}, {\"data\": \"2020/02/24\", \"tweet_count\": 0}, {\"data\": \"2020/05/30\", \"tweet_count\": 0}, {\"data\": \"2020/06/07\", \"tweet_count\": 0}, {\"data\": \"2020/06/15\", \"tweet_count\": 0}, {\"data\": \"2020/06/20\", \"tweet_count\": 0}, {\"data\": \"2020/06/21\", \"tweet_count\": 0}, {\"data\": \"2020/06/22\", \"tweet_count\": 0}, {\"data\": \"2020/06/29\", \"tweet_count\": 0}, {\"data\": \"2020/07/05\", \"tweet_count\": 0}, {\"data\": \"2020/07/07\", \"tweet_count\": 0}, {\"data\": \"2020/07/09\", \"tweet_count\": 0}, {\"data\": \"2020/07/16\", \"tweet_count\": 0}, {\"data\": \"2020/07/19\", \"tweet_count\": 0}, {\"data\": \"2020/07/20\", \"tweet_count\": 0}, {\"data\": \"2020/07/26\", \"tweet_count\": 0}, {\"data\": \"2020/07/29\", \"tweet_count\": 0}, {\"data\": \"2020/08/05\", \"tweet_count\": 0}, {\"data\": \"2020/08/14\", \"tweet_count\": 0}, {\"data\": \"2020/08/17\", \"tweet_count\": 0}, {\"data\": \"2020/08/21\", \"tweet_count\": 0}, {\"data\": \"2020/08/22\", \"tweet_count\": 0}, {\"data\": \"2020/08/23\", \"tweet_count\": 0}, {\"data\": \"2020/08/24\", \"tweet_count\": 0}, {\"data\": \"2020/08/25\", \"tweet_count\": 0}, {\"data\": \"2020/08/28\", \"tweet_count\": 0}, {\"data\": \"2020/08/29\", \"tweet_count\": 0}]}}, {\"mode\": \"vega-lite\"});\n",
       "</script>"
      ],
      "text/plain": [
       "alt.LayerChart(...)"
      ]
     },
     "execution_count": 5,
     "metadata": {},
     "output_type": "execute_result"
    }
   ],
   "source": [
    "chart = alt.Chart(\n",
    "    df,\n",
    "    title=\"Tweet count heatmap\"\n",
    ").mark_rect().encode(\n",
    "    x='date(data):O',\n",
    "    y='month(data):O',\n",
    "    color=alt.Color('tweet_count:Q', scale=alt.Scale(scheme=\"turbo\")),\n",
    "    tooltip=[\n",
    "        alt.Tooltip('monthdate(data):T', title='Date'),\n",
    "        alt.Tooltip('tweet_count:Q', title='Tweet Count')\n",
    "    ]\n",
    ").properties(width=800, height=300)\n",
    "\n",
    "# Configure text\n",
    "text = chart.mark_text(baseline='middle').encode(\n",
    "    text='tweet_count:Q',\n",
    "    color=alt.condition(\n",
    "        alt.FieldRangePredicate(field='tweet_count', range=[12,25]),\n",
    "        alt.value('black'),#if true\n",
    "        alt.value('white')#if false\n",
    "    )\n",
    ")\n",
    "\n",
    "chart + text"
   ]
  },
  {
   "cell_type": "markdown",
   "id": "neutral-chart",
   "metadata": {},
   "source": [
    "### Heatmap - Time/Day of the week"
   ]
  },
  {
   "cell_type": "markdown",
   "id": "regional-stupid",
   "metadata": {},
   "source": [
    "The code is pretty much the same as the above. The heatmap now shows a peak in the number of tweets created after 10 am every day of the week."
   ]
  },
  {
   "cell_type": "code",
   "execution_count": 6,
   "id": "experimental-aquarium",
   "metadata": {},
   "outputs": [
    {
     "data": {
      "text/html": [
       "\n",
       "<div id=\"altair-viz-ce2e121ac04e44bd99930eaad95129a6\"></div>\n",
       "<script type=\"text/javascript\">\n",
       "  (function(spec, embedOpt){\n",
       "    let outputDiv = document.currentScript.previousElementSibling;\n",
       "    if (outputDiv.id !== \"altair-viz-ce2e121ac04e44bd99930eaad95129a6\") {\n",
       "      outputDiv = document.getElementById(\"altair-viz-ce2e121ac04e44bd99930eaad95129a6\");\n",
       "    }\n",
       "    const paths = {\n",
       "      \"vega\": \"https://cdn.jsdelivr.net/npm//vega@5?noext\",\n",
       "      \"vega-lib\": \"https://cdn.jsdelivr.net/npm//vega-lib?noext\",\n",
       "      \"vega-lite\": \"https://cdn.jsdelivr.net/npm//vega-lite@4.8.1?noext\",\n",
       "      \"vega-embed\": \"https://cdn.jsdelivr.net/npm//vega-embed@6?noext\",\n",
       "    };\n",
       "\n",
       "    function loadScript(lib) {\n",
       "      return new Promise(function(resolve, reject) {\n",
       "        var s = document.createElement('script');\n",
       "        s.src = paths[lib];\n",
       "        s.async = true;\n",
       "        s.onload = () => resolve(paths[lib]);\n",
       "        s.onerror = () => reject(`Error loading script: ${paths[lib]}`);\n",
       "        document.getElementsByTagName(\"head\")[0].appendChild(s);\n",
       "      });\n",
       "    }\n",
       "\n",
       "    function showError(err) {\n",
       "      outputDiv.innerHTML = `<div class=\"error\" style=\"color:red;\">${err}</div>`;\n",
       "      throw err;\n",
       "    }\n",
       "\n",
       "    function displayChart(vegaEmbed) {\n",
       "      vegaEmbed(outputDiv, spec, embedOpt)\n",
       "        .catch(err => showError(`Javascript Error: ${err.message}<br>This usually means there's a typo in your chart specification. See the javascript console for the full traceback.`));\n",
       "    }\n",
       "\n",
       "    if(typeof define === \"function\" && define.amd) {\n",
       "      requirejs.config({paths});\n",
       "      require([\"vega-embed\"], displayChart, err => showError(`Error loading script: ${err.message}`));\n",
       "    } else if (typeof vegaEmbed === \"function\") {\n",
       "      displayChart(vegaEmbed);\n",
       "    } else {\n",
       "      loadScript(\"vega\")\n",
       "        .then(() => loadScript(\"vega-lite\"))\n",
       "        .then(() => loadScript(\"vega-embed\"))\n",
       "        .catch(showError)\n",
       "        .then(() => displayChart(vegaEmbed));\n",
       "    }\n",
       "  })({\"config\": {\"view\": {\"continuousWidth\": 400, \"continuousHeight\": 300}}, \"layer\": [{\"mark\": \"rect\", \"encoding\": {\"color\": {\"type\": \"quantitative\", \"field\": \"tweet_count\", \"scale\": {\"scheme\": \"turbo\"}}, \"tooltip\": [{\"type\": \"nominal\", \"field\": \"data\", \"title\": \"Date\"}, {\"type\": \"quantitative\", \"field\": \"tweet_count\", \"title\": \"Tweet Count\"}], \"x\": {\"type\": \"nominal\", \"field\": \"ora\"}, \"y\": {\"type\": \"nominal\", \"field\": \"data\", \"sort\": [\"Mon\", \"Tue\", \"Wed\", \"Thu\", \"Fri\", \"Sat\", \"Sun\"]}}, \"height\": 300, \"title\": \"Time/Day of the week heatmap\", \"width\": 800}, {\"mark\": {\"type\": \"text\", \"baseline\": \"middle\"}, \"encoding\": {\"color\": {\"condition\": {\"value\": \"black\", \"test\": {\"field\": \"tweet_count\", \"range\": [9, 20]}}, \"value\": \"white\"}, \"text\": {\"type\": \"quantitative\", \"field\": \"tweet_count\"}, \"tooltip\": [{\"type\": \"nominal\", \"field\": \"data\", \"title\": \"Date\"}, {\"type\": \"quantitative\", \"field\": \"tweet_count\", \"title\": \"Tweet Count\"}], \"x\": {\"type\": \"nominal\", \"field\": \"ora\"}, \"y\": {\"type\": \"nominal\", \"field\": \"data\", \"sort\": [\"Mon\", \"Tue\", \"Wed\", \"Thu\", \"Fri\", \"Sat\", \"Sun\"]}}, \"height\": 300, \"title\": \"Time/Day of the week heatmap\", \"width\": 800}], \"data\": {\"name\": \"data-d46b5a9c55cf09f72f6a889952cd379d\"}, \"$schema\": \"https://vega.github.io/schema/vega-lite/v4.8.1.json\", \"datasets\": {\"data-d46b5a9c55cf09f72f6a889952cd379d\": [{\"data\": \"Sun\", \"tweet_count\": 15, \"ora\": \"15\"}, {\"data\": \"Tue\", \"tweet_count\": 26, \"ora\": \"15\"}, {\"data\": \"Sat\", \"tweet_count\": 6, \"ora\": \"20\"}, {\"data\": \"Sun\", \"tweet_count\": 9, \"ora\": \"10\"}, {\"data\": \"Wed\", \"tweet_count\": 14, \"ora\": \"14\"}, {\"data\": \"Wed\", \"tweet_count\": 12, \"ora\": \"16\"}, {\"data\": \"Tue\", \"tweet_count\": 6, \"ora\": \"22\"}, {\"data\": \"Thu\", \"tweet_count\": 18, \"ora\": \"17\"}, {\"data\": \"Fri\", \"tweet_count\": 17, \"ora\": \"19\"}, {\"data\": \"Wed\", \"tweet_count\": 18, \"ora\": \"13\"}, {\"data\": \"Thu\", \"tweet_count\": 14, \"ora\": \"13\"}, {\"data\": \"Wed\", \"tweet_count\": 7, \"ora\": \"05\"}, {\"data\": \"Tue\", \"tweet_count\": 7, \"ora\": \"02\"}, {\"data\": \"Tue\", \"tweet_count\": 7, \"ora\": \"03\"}, {\"data\": \"Sun\", \"tweet_count\": 5, \"ora\": \"08\"}, {\"data\": \"Wed\", \"tweet_count\": 7, \"ora\": \"00\"}, {\"data\": \"Thu\", \"tweet_count\": 7, \"ora\": \"12\"}, {\"data\": \"Sun\", \"tweet_count\": 6, \"ora\": \"07\"}, {\"data\": \"Sat\", \"tweet_count\": 13, \"ora\": \"17\"}, {\"data\": \"Sat\", \"tweet_count\": 12, \"ora\": \"19\"}, {\"data\": \"Tue\", \"tweet_count\": 13, \"ora\": \"18\"}, {\"data\": \"Wed\", \"tweet_count\": 11, \"ora\": \"09\"}, {\"data\": \"Wed\", \"tweet_count\": 13, \"ora\": \"19\"}, {\"data\": \"Wed\", \"tweet_count\": 9, \"ora\": \"20\"}, {\"data\": \"Wed\", \"tweet_count\": 8, \"ora\": \"23\"}, {\"data\": \"Thu\", \"tweet_count\": 9, \"ora\": \"01\"}, {\"data\": \"Sun\", \"tweet_count\": 5, \"ora\": \"22\"}, {\"data\": \"Mon\", \"tweet_count\": 11, \"ora\": \"00\"}, {\"data\": \"Tue\", \"tweet_count\": 14, \"ora\": \"00\"}, {\"data\": \"Tue\", \"tweet_count\": 6, \"ora\": \"06\"}, {\"data\": \"Tue\", \"tweet_count\": 6, \"ora\": \"07\"}, {\"data\": \"Wed\", \"tweet_count\": 6, \"ora\": \"02\"}, {\"data\": \"Wed\", \"tweet_count\": 6, \"ora\": \"04\"}, {\"data\": \"Wed\", \"tweet_count\": 17, \"ora\": \"12\"}, {\"data\": \"Wed\", \"tweet_count\": 12, \"ora\": \"18\"}, {\"data\": \"Mon\", \"tweet_count\": 5, \"ora\": \"06\"}, {\"data\": \"Thu\", \"tweet_count\": 10, \"ora\": \"10\"}, {\"data\": \"Sat\", \"tweet_count\": 4, \"ora\": \"07\"}, {\"data\": \"Sat\", \"tweet_count\": 2, \"ora\": \"21\"}, {\"data\": \"Mon\", \"tweet_count\": 3, \"ora\": \"08\"}, {\"data\": \"Mon\", \"tweet_count\": 25, \"ora\": \"15\"}, {\"data\": \"Mon\", \"tweet_count\": 11, \"ora\": \"19\"}, {\"data\": \"Mon\", \"tweet_count\": 13, \"ora\": \"20\"}, {\"data\": \"Mon\", \"tweet_count\": 8, \"ora\": \"21\"}, {\"data\": \"Tue\", \"tweet_count\": 11, \"ora\": \"01\"}, {\"data\": \"Tue\", \"tweet_count\": 17, \"ora\": \"11\"}, {\"data\": \"Wed\", \"tweet_count\": 14, \"ora\": \"17\"}, {\"data\": \"Thu\", \"tweet_count\": 5, \"ora\": \"04\"}, {\"data\": \"Thu\", \"tweet_count\": 17, \"ora\": \"16\"}, {\"data\": \"Thu\", \"tweet_count\": 7, \"ora\": \"20\"}, {\"data\": \"Fri\", \"tweet_count\": 10, \"ora\": \"21\"}, {\"data\": \"Sat\", \"tweet_count\": 4, \"ora\": \"09\"}, {\"data\": \"Sun\", \"tweet_count\": 5, \"ora\": \"00\"}, {\"data\": \"Sun\", \"tweet_count\": 11, \"ora\": \"09\"}, {\"data\": \"Sun\", \"tweet_count\": 7, \"ora\": \"11\"}, {\"data\": \"Sun\", \"tweet_count\": 7, \"ora\": \"17\"}, {\"data\": \"Sun\", \"tweet_count\": 8, \"ora\": \"19\"}, {\"data\": \"Tue\", \"tweet_count\": 9, \"ora\": \"20\"}, {\"data\": \"Wed\", \"tweet_count\": 11, \"ora\": \"21\"}, {\"data\": \"Wed\", \"tweet_count\": 7, \"ora\": \"15\"}, {\"data\": \"Wed\", \"tweet_count\": 12, \"ora\": \"22\"}, {\"data\": \"Thu\", \"tweet_count\": 9, \"ora\": \"21\"}, {\"data\": \"Thu\", \"tweet_count\": 6, \"ora\": \"23\"}, {\"data\": \"Fri\", \"tweet_count\": 7, \"ora\": \"07\"}, {\"data\": \"Wed\", \"tweet_count\": 11, \"ora\": \"08\"}, {\"data\": \"Fri\", \"tweet_count\": 11, \"ora\": \"14\"}, {\"data\": \"Sat\", \"tweet_count\": 10, \"ora\": \"10\"}, {\"data\": \"Sat\", \"tweet_count\": 12, \"ora\": \"14\"}, {\"data\": \"Fri\", \"tweet_count\": 15, \"ora\": \"12\"}, {\"data\": \"Fri\", \"tweet_count\": 9, \"ora\": \"22\"}, {\"data\": \"Tue\", \"tweet_count\": 8, \"ora\": \"14\"}, {\"data\": \"Thu\", \"tweet_count\": 7, \"ora\": \"09\"}, {\"data\": \"Mon\", \"tweet_count\": 12, \"ora\": \"14\"}, {\"data\": \"Mon\", \"tweet_count\": 16, \"ora\": \"17\"}, {\"data\": \"Sat\", \"tweet_count\": 7, \"ora\": \"12\"}, {\"data\": \"Sun\", \"tweet_count\": 16, \"ora\": \"12\"}, {\"data\": \"Sun\", \"tweet_count\": 11, \"ora\": \"16\"}, {\"data\": \"Tue\", \"tweet_count\": 10, \"ora\": \"16\"}, {\"data\": \"Sun\", \"tweet_count\": 16, \"ora\": \"18\"}, {\"data\": \"Sat\", \"tweet_count\": 3, \"ora\": \"08\"}, {\"data\": \"Sun\", \"tweet_count\": 11, \"ora\": \"13\"}, {\"data\": \"Wed\", \"tweet_count\": 4, \"ora\": \"06\"}, {\"data\": \"Mon\", \"tweet_count\": 14, \"ora\": \"12\"}, {\"data\": \"Tue\", \"tweet_count\": 7, \"ora\": \"10\"}, {\"data\": \"Thu\", \"tweet_count\": 8, \"ora\": \"19\"}, {\"data\": \"Sat\", \"tweet_count\": 4, \"ora\": \"04\"}, {\"data\": \"Sat\", \"tweet_count\": 17, \"ora\": \"18\"}, {\"data\": \"Mon\", \"tweet_count\": 9, \"ora\": \"11\"}, {\"data\": \"Mon\", \"tweet_count\": 15, \"ora\": \"13\"}, {\"data\": \"Tue\", \"tweet_count\": 11, \"ora\": \"12\"}, {\"data\": \"Thu\", \"tweet_count\": 7, \"ora\": \"06\"}, {\"data\": \"Thu\", \"tweet_count\": 12, \"ora\": \"07\"}, {\"data\": \"Thu\", \"tweet_count\": 14, \"ora\": \"15\"}, {\"data\": \"Thu\", \"tweet_count\": 10, \"ora\": \"22\"}, {\"data\": \"Fri\", \"tweet_count\": 5, \"ora\": \"00\"}, {\"data\": \"Tue\", \"tweet_count\": 4, \"ora\": \"05\"}, {\"data\": \"Tue\", \"tweet_count\": 19, \"ora\": \"13\"}, {\"data\": \"Wed\", \"tweet_count\": 4, \"ora\": \"01\"}, {\"data\": \"Wed\", \"tweet_count\": 10, \"ora\": \"07\"}, {\"data\": \"Fri\", \"tweet_count\": 6, \"ora\": \"03\"}, {\"data\": \"Fri\", \"tweet_count\": 5, \"ora\": \"08\"}, {\"data\": \"Mon\", \"tweet_count\": 11, \"ora\": \"10\"}, {\"data\": \"Tue\", \"tweet_count\": 14, \"ora\": \"19\"}, {\"data\": \"Fri\", \"tweet_count\": 14, \"ora\": \"16\"}, {\"data\": \"Sat\", \"tweet_count\": 5, \"ora\": \"05\"}, {\"data\": \"Mon\", \"tweet_count\": 6, \"ora\": \"07\"}, {\"data\": \"Tue\", \"tweet_count\": 6, \"ora\": \"04\"}, {\"data\": \"Fri\", \"tweet_count\": 8, \"ora\": \"20\"}, {\"data\": \"Sat\", \"tweet_count\": 5, \"ora\": \"15\"}, {\"data\": \"Sun\", \"tweet_count\": 5, \"ora\": \"01\"}, {\"data\": \"Sun\", \"tweet_count\": 15, \"ora\": \"14\"}, {\"data\": \"Sun\", \"tweet_count\": 6, \"ora\": \"20\"}, {\"data\": \"Sun\", \"tweet_count\": 6, \"ora\": \"21\"}, {\"data\": \"Wed\", \"tweet_count\": 11, \"ora\": \"10\"}, {\"data\": \"Thu\", \"tweet_count\": 18, \"ora\": \"14\"}, {\"data\": \"Fri\", \"tweet_count\": 8, \"ora\": \"18\"}, {\"data\": \"Sat\", \"tweet_count\": 6, \"ora\": \"00\"}, {\"data\": \"Sat\", \"tweet_count\": 7, \"ora\": \"16\"}, {\"data\": \"Fri\", \"tweet_count\": 8, \"ora\": \"09\"}, {\"data\": \"Fri\", \"tweet_count\": 9, \"ora\": \"11\"}, {\"data\": \"Fri\", \"tweet_count\": 11, \"ora\": \"15\"}, {\"data\": \"Sat\", \"tweet_count\": 5, \"ora\": \"02\"}, {\"data\": \"Sat\", \"tweet_count\": 6, \"ora\": \"03\"}, {\"data\": \"Sat\", \"tweet_count\": 7, \"ora\": \"06\"}, {\"data\": \"Mon\", \"tweet_count\": 4, \"ora\": \"04\"}, {\"data\": \"Wed\", \"tweet_count\": 5, \"ora\": \"03\"}, {\"data\": \"Sat\", \"tweet_count\": 5, \"ora\": \"01\"}, {\"data\": \"Fri\", \"tweet_count\": 6, \"ora\": \"17\"}, {\"data\": \"Mon\", \"tweet_count\": 12, \"ora\": \"18\"}, {\"data\": \"Mon\", \"tweet_count\": 10, \"ora\": \"22\"}, {\"data\": \"Sat\", \"tweet_count\": 7, \"ora\": \"22\"}, {\"data\": \"Thu\", \"tweet_count\": 4, \"ora\": \"02\"}, {\"data\": \"Mon\", \"tweet_count\": 5, \"ora\": \"01\"}, {\"data\": \"Mon\", \"tweet_count\": 7, \"ora\": \"03\"}, {\"data\": \"Tue\", \"tweet_count\": 6, \"ora\": \"17\"}, {\"data\": \"Fri\", \"tweet_count\": 4, \"ora\": \"06\"}, {\"data\": \"Tue\", \"tweet_count\": 9, \"ora\": \"08\"}, {\"data\": \"Sun\", \"tweet_count\": 7, \"ora\": \"23\"}, {\"data\": \"Fri\", \"tweet_count\": 6, \"ora\": \"01\"}, {\"data\": \"Fri\", \"tweet_count\": 6, \"ora\": \"04\"}, {\"data\": \"Fri\", \"tweet_count\": 7, \"ora\": \"05\"}, {\"data\": \"Fri\", \"tweet_count\": 4, \"ora\": \"13\"}, {\"data\": \"Mon\", \"tweet_count\": 6, \"ora\": \"09\"}, {\"data\": \"Mon\", \"tweet_count\": 16, \"ora\": \"16\"}, {\"data\": \"Wed\", \"tweet_count\": 12, \"ora\": \"11\"}, {\"data\": \"Fri\", \"tweet_count\": 4, \"ora\": \"23\"}, {\"data\": \"Sun\", \"tweet_count\": 4, \"ora\": \"04\"}, {\"data\": \"Sun\", \"tweet_count\": 5, \"ora\": \"06\"}, {\"data\": \"Tue\", \"tweet_count\": 7, \"ora\": \"21\"}, {\"data\": \"Thu\", \"tweet_count\": 8, \"ora\": \"00\"}, {\"data\": \"Thu\", \"tweet_count\": 4, \"ora\": \"03\"}, {\"data\": \"Mon\", \"tweet_count\": 3, \"ora\": \"23\"}, {\"data\": \"Tue\", \"tweet_count\": 3, \"ora\": \"09\"}, {\"data\": \"Sat\", \"tweet_count\": 6, \"ora\": \"11\"}, {\"data\": \"Sat\", \"tweet_count\": 11, \"ora\": \"13\"}, {\"data\": \"Fri\", \"tweet_count\": 6, \"ora\": \"10\"}, {\"data\": \"Mon\", \"tweet_count\": 3, \"ora\": \"05\"}, {\"data\": \"Thu\", \"tweet_count\": 4, \"ora\": \"05\"}, {\"data\": \"Thu\", \"tweet_count\": 2, \"ora\": \"08\"}, {\"data\": \"Sun\", \"tweet_count\": 3, \"ora\": \"05\"}, {\"data\": \"Mon\", \"tweet_count\": 4, \"ora\": \"02\"}, {\"data\": \"Tue\", \"tweet_count\": 4, \"ora\": \"23\"}, {\"data\": \"Thu\", \"tweet_count\": 6, \"ora\": \"11\"}, {\"data\": \"Sun\", \"tweet_count\": 1, \"ora\": \"03\"}, {\"data\": \"Thu\", \"tweet_count\": 5, \"ora\": \"18\"}, {\"data\": \"Sat\", \"tweet_count\": 3, \"ora\": \"23\"}, {\"data\": \"Fri\", \"tweet_count\": 3, \"ora\": \"02\"}, {\"data\": \"Sun\", \"tweet_count\": 3, \"ora\": \"02\"}]}}, {\"mode\": \"vega-lite\"});\n",
       "</script>"
      ],
      "text/plain": [
       "alt.LayerChart(...)"
      ]
     },
     "execution_count": 6,
     "metadata": {},
     "output_type": "execute_result"
    }
   ],
   "source": [
    "lista_ora = []\n",
    "index_ora = 0\n",
    "\n",
    "for element in data: \n",
    "    token=data[index_ora]['created_at']\n",
    "    day = parse(token)\n",
    "    day = day.strftime('%a')\n",
    "    \n",
    "    hour = parse(token)\n",
    "    hour = hour.strftime('%H')\n",
    "    \n",
    "    lista_ora.append(day + \" \"+ hour)\n",
    "    index_ora=index_ora+1\n",
    "\n",
    "\n",
    "count_ora=Counter(lista_ora)\n",
    "\n",
    "df_ora = pd.DataFrame.from_dict(count_ora, orient='index').reset_index()\n",
    "df_ora = df_ora.rename(columns={'index':'data', 0:'tweet_count'})\n",
    "columnone = df_ora['data'].tolist()\n",
    "\n",
    "dlist = []\n",
    "hlist = []\n",
    "for el in columnone:\n",
    "    t = el.split()\n",
    "    dlist.append(t[0])\n",
    "    hlist.append(t[1])\n",
    "    \n",
    "df_ora['data'] = dlist\n",
    "df_ora['ora'] = hlist\n",
    "\n",
    "chart = alt.Chart(\n",
    "    df_ora,\n",
    "    title=\"Time/Day of the week heatmap\"\n",
    ").mark_rect().encode(\n",
    "    x='ora:N',\n",
    "    y=alt.Y('data:N',sort=['Mon','Tue','Wed','Thu','Fri','Sat','Sun']),\n",
    "    color=alt.Color('tweet_count:Q', scale=alt.Scale(scheme=\"turbo\")),\n",
    "    tooltip=[\n",
    "        alt.Tooltip('data:N', title='Date'),\n",
    "        alt.Tooltip('tweet_count:Q', title='Tweet Count')\n",
    "    ]\n",
    ").properties(width=800, height=300)\n",
    "\n",
    "# Configure text\n",
    "text = chart.mark_text(baseline='middle').encode(\n",
    "    text='tweet_count:Q',\n",
    "    color=alt.condition(\n",
    "        alt.FieldRangePredicate(field='tweet_count', range=[9,20]),\n",
    "        alt.value('black'),#if true\n",
    "        alt.value('white')#if false\n",
    "    )\n",
    ")\n",
    "\n",
    "chart + text"
   ]
  },
  {
   "cell_type": "markdown",
   "id": "moving-friend",
   "metadata": {},
   "source": [
    "### HeatMap Engagement - Number of Likes generated by all the tweets in the dataset for each date"
   ]
  },
  {
   "cell_type": "markdown",
   "id": "primary-identification",
   "metadata": {},
   "source": [
    "The code is the pretty much the same as above, in this case we have considered the 'favorite count' field and worked on it."
   ]
  },
  {
   "cell_type": "code",
   "execution_count": 7,
   "id": "defensive-accident",
   "metadata": {},
   "outputs": [
    {
     "data": {
      "text/html": [
       "\n",
       "<div id=\"altair-viz-68a46593b6464094a057b895fa47eabb\"></div>\n",
       "<script type=\"text/javascript\">\n",
       "  (function(spec, embedOpt){\n",
       "    let outputDiv = document.currentScript.previousElementSibling;\n",
       "    if (outputDiv.id !== \"altair-viz-68a46593b6464094a057b895fa47eabb\") {\n",
       "      outputDiv = document.getElementById(\"altair-viz-68a46593b6464094a057b895fa47eabb\");\n",
       "    }\n",
       "    const paths = {\n",
       "      \"vega\": \"https://cdn.jsdelivr.net/npm//vega@5?noext\",\n",
       "      \"vega-lib\": \"https://cdn.jsdelivr.net/npm//vega-lib?noext\",\n",
       "      \"vega-lite\": \"https://cdn.jsdelivr.net/npm//vega-lite@4.8.1?noext\",\n",
       "      \"vega-embed\": \"https://cdn.jsdelivr.net/npm//vega-embed@6?noext\",\n",
       "    };\n",
       "\n",
       "    function loadScript(lib) {\n",
       "      return new Promise(function(resolve, reject) {\n",
       "        var s = document.createElement('script');\n",
       "        s.src = paths[lib];\n",
       "        s.async = true;\n",
       "        s.onload = () => resolve(paths[lib]);\n",
       "        s.onerror = () => reject(`Error loading script: ${paths[lib]}`);\n",
       "        document.getElementsByTagName(\"head\")[0].appendChild(s);\n",
       "      });\n",
       "    }\n",
       "\n",
       "    function showError(err) {\n",
       "      outputDiv.innerHTML = `<div class=\"error\" style=\"color:red;\">${err}</div>`;\n",
       "      throw err;\n",
       "    }\n",
       "\n",
       "    function displayChart(vegaEmbed) {\n",
       "      vegaEmbed(outputDiv, spec, embedOpt)\n",
       "        .catch(err => showError(`Javascript Error: ${err.message}<br>This usually means there's a typo in your chart specification. See the javascript console for the full traceback.`));\n",
       "    }\n",
       "\n",
       "    if(typeof define === \"function\" && define.amd) {\n",
       "      requirejs.config({paths});\n",
       "      require([\"vega-embed\"], displayChart, err => showError(`Error loading script: ${err.message}`));\n",
       "    } else if (typeof vegaEmbed === \"function\") {\n",
       "      displayChart(vegaEmbed);\n",
       "    } else {\n",
       "      loadScript(\"vega\")\n",
       "        .then(() => loadScript(\"vega-lite\"))\n",
       "        .then(() => loadScript(\"vega-embed\"))\n",
       "        .catch(showError)\n",
       "        .then(() => displayChart(vegaEmbed));\n",
       "    }\n",
       "  })({\"config\": {\"view\": {\"continuousWidth\": 400, \"continuousHeight\": 300}}, \"layer\": [{\"mark\": \"rect\", \"encoding\": {\"color\": {\"type\": \"quantitative\", \"field\": \"likes_count\", \"scale\": {\"scheme\": \"turbo\"}}, \"tooltip\": [{\"type\": \"temporal\", \"field\": \"data\", \"timeUnit\": \"monthdate\", \"title\": \"Date\"}, {\"type\": \"quantitative\", \"field\": \"likes_count\", \"title\": \"Likes Count\"}], \"x\": {\"type\": \"ordinal\", \"field\": \"data\", \"timeUnit\": \"date\"}, \"y\": {\"type\": \"ordinal\", \"field\": \"data\", \"timeUnit\": \"month\"}}, \"height\": 500, \"title\": \"Likes heatmap\", \"width\": 1500}, {\"mark\": {\"type\": \"text\", \"baseline\": \"middle\"}, \"encoding\": {\"color\": {\"condition\": {\"value\": \"black\", \"test\": {\"field\": \"likes_count\", \"range\": [600000, 730000]}}, \"value\": \"white\"}, \"text\": {\"type\": \"quantitative\", \"field\": \"likes_count\"}, \"tooltip\": [{\"type\": \"temporal\", \"field\": \"data\", \"timeUnit\": \"monthdate\", \"title\": \"Date\"}, {\"type\": \"quantitative\", \"field\": \"likes_count\", \"title\": \"Likes Count\"}], \"x\": {\"type\": \"ordinal\", \"field\": \"data\", \"timeUnit\": \"date\"}, \"y\": {\"type\": \"ordinal\", \"field\": \"data\", \"timeUnit\": \"month\"}}, \"height\": 500, \"title\": \"Likes heatmap\", \"width\": 1500}], \"data\": {\"name\": \"data-930ea25eb9b5095bf6b9ae234a8ea117\"}, \"$schema\": \"https://vega.github.io/schema/vega-lite/v4.8.1.json\", \"datasets\": {\"data-930ea25eb9b5095bf6b9ae234a8ea117\": [{\"data\": \"2020/01/04\", \"likes_count\": 795}, {\"data\": \"2020/01/14\", \"likes_count\": 26998}, {\"data\": \"2020/01/15\", \"likes_count\": 22}, {\"data\": \"2020/01/16\", \"likes_count\": 96}, {\"data\": \"2020/01/19\", \"likes_count\": 274}, {\"data\": \"2020/01/21\", \"likes_count\": 390}, {\"data\": \"2020/01/22\", \"likes_count\": 1927}, {\"data\": \"2020/01/23\", \"likes_count\": 7870}, {\"data\": \"2020/01/24\", \"likes_count\": 16506}, {\"data\": \"2020/01/25\", \"likes_count\": 18054}, {\"data\": \"2020/01/26\", \"likes_count\": 61098}, {\"data\": \"2020/01/27\", \"likes_count\": 8005}, {\"data\": \"2020/01/28\", \"likes_count\": 7569}, {\"data\": \"2020/01/29\", \"likes_count\": 4842}, {\"data\": \"2020/01/30\", \"likes_count\": 12071}, {\"data\": \"2020/01/31\", \"likes_count\": 6066}, {\"data\": \"2020/02/01\", \"likes_count\": 14527}, {\"data\": \"2020/02/02\", \"likes_count\": 760}, {\"data\": \"2020/02/03\", \"likes_count\": 59}, {\"data\": \"2020/02/04\", \"likes_count\": 74}, {\"data\": \"2020/02/05\", \"likes_count\": 47566}, {\"data\": \"2020/02/06\", \"likes_count\": 51641}, {\"data\": \"2020/02/07\", \"likes_count\": 6873}, {\"data\": \"2020/02/08\", \"likes_count\": 1148}, {\"data\": \"2020/02/09\", \"likes_count\": 3553}, {\"data\": \"2020/02/10\", \"likes_count\": 335}, {\"data\": \"2020/02/11\", \"likes_count\": 13309}, {\"data\": \"2020/02/12\", \"likes_count\": 82}, {\"data\": \"2020/02/13\", \"likes_count\": 13138}, {\"data\": \"2020/02/14\", \"likes_count\": 0}, {\"data\": \"2020/02/15\", \"likes_count\": 1671}, {\"data\": \"2020/02/16\", \"likes_count\": 7191}, {\"data\": \"2020/02/18\", \"likes_count\": 1650}, {\"data\": \"2020/02/19\", \"likes_count\": 12}, {\"data\": \"2020/02/20\", \"likes_count\": 1423}, {\"data\": \"2020/02/22\", \"likes_count\": 395}, {\"data\": \"2020/02/23\", \"likes_count\": 15}, {\"data\": \"2020/02/25\", \"likes_count\": 42094}, {\"data\": \"2020/02/26\", \"likes_count\": 520}, {\"data\": \"2020/02/27\", \"likes_count\": 17}, {\"data\": \"2020/02/28\", \"likes_count\": 18277}, {\"data\": \"2020/02/29\", \"likes_count\": 161130}, {\"data\": \"2020/03/01\", \"likes_count\": 2}, {\"data\": \"2020/03/02\", \"likes_count\": 8821}, {\"data\": \"2020/03/03\", \"likes_count\": 42650}, {\"data\": \"2020/03/04\", \"likes_count\": 20676}, {\"data\": \"2020/03/05\", \"likes_count\": 25544}, {\"data\": \"2020/03/06\", \"likes_count\": 9458}, {\"data\": \"2020/03/07\", \"likes_count\": 5300}, {\"data\": \"2020/03/08\", \"likes_count\": 6029}, {\"data\": \"2020/03/09\", \"likes_count\": 68271}, {\"data\": \"2020/03/10\", \"likes_count\": 36205}, {\"data\": \"2020/03/11\", \"likes_count\": 73025}, {\"data\": \"2020/03/12\", \"likes_count\": 1354356}, {\"data\": \"2020/03/13\", \"likes_count\": 368547}, {\"data\": \"2020/03/14\", \"likes_count\": 121052}, {\"data\": \"2020/03/15\", \"likes_count\": 136960}, {\"data\": \"2020/03/16\", \"likes_count\": 183580}, {\"data\": \"2020/03/17\", \"likes_count\": 200974}, {\"data\": \"2020/03/18\", \"likes_count\": 293080}, {\"data\": \"2020/03/19\", \"likes_count\": 23665}, {\"data\": \"2020/03/20\", \"likes_count\": 27429}, {\"data\": \"2020/03/21\", \"likes_count\": 312518}, {\"data\": \"2020/03/22\", \"likes_count\": 477764}, {\"data\": \"2020/03/23\", \"likes_count\": 264749}, {\"data\": \"2020/03/24\", \"likes_count\": 363754}, {\"data\": \"2020/03/25\", \"likes_count\": 200013}, {\"data\": \"2020/03/26\", \"likes_count\": 50465}, {\"data\": \"2020/03/27\", \"likes_count\": 394238}, {\"data\": \"2020/03/28\", \"likes_count\": 350228}, {\"data\": \"2020/03/29\", \"likes_count\": 91640}, {\"data\": \"2020/03/30\", \"likes_count\": 81318}, {\"data\": \"2020/03/31\", \"likes_count\": 80655}, {\"data\": \"2020/04/01\", \"likes_count\": 328912}, {\"data\": \"2020/04/02\", \"likes_count\": 63555}, {\"data\": \"2020/04/03\", \"likes_count\": 57073}, {\"data\": \"2020/04/04\", \"likes_count\": 30466}, {\"data\": \"2020/04/05\", \"likes_count\": 140432}, {\"data\": \"2020/04/06\", \"likes_count\": 97875}, {\"data\": \"2020/04/07\", \"likes_count\": 59480}, {\"data\": \"2020/04/08\", \"likes_count\": 43045}, {\"data\": \"2020/04/09\", \"likes_count\": 57980}, {\"data\": \"2020/04/10\", \"likes_count\": 60275}, {\"data\": \"2020/04/11\", \"likes_count\": 178843}, {\"data\": \"2020/04/12\", \"likes_count\": 2792}, {\"data\": \"2020/04/13\", \"likes_count\": 725086}, {\"data\": \"2020/04/14\", \"likes_count\": 161302}, {\"data\": \"2020/04/15\", \"likes_count\": 422003}, {\"data\": \"2020/04/16\", \"likes_count\": 3654}, {\"data\": \"2020/04/17\", \"likes_count\": 34280}, {\"data\": \"2020/04/18\", \"likes_count\": 18986}, {\"data\": \"2020/04/19\", \"likes_count\": 8478}, {\"data\": \"2020/04/20\", \"likes_count\": 44345}, {\"data\": \"2020/04/21\", \"likes_count\": 13382}, {\"data\": \"2020/04/22\", \"likes_count\": 17941}, {\"data\": \"2020/04/23\", \"likes_count\": 17514}, {\"data\": \"2020/04/24\", \"likes_count\": 12105}, {\"data\": \"2020/04/25\", \"likes_count\": 2485}, {\"data\": \"2020/04/26\", \"likes_count\": 106911}, {\"data\": \"2020/04/27\", \"likes_count\": 5898}, {\"data\": \"2020/04/28\", \"likes_count\": 6437}, {\"data\": \"2020/04/29\", \"likes_count\": 28704}, {\"data\": \"2020/04/30\", \"likes_count\": 47057}, {\"data\": \"2020/05/01\", \"likes_count\": 2325}, {\"data\": \"2020/05/02\", \"likes_count\": 86558}, {\"data\": \"2020/05/03\", \"likes_count\": 23744}, {\"data\": \"2020/05/04\", \"likes_count\": 2555}, {\"data\": \"2020/05/05\", \"likes_count\": 6053}, {\"data\": \"2020/05/06\", \"likes_count\": 11852}, {\"data\": \"2020/05/07\", \"likes_count\": 1584}, {\"data\": \"2020/05/08\", \"likes_count\": 388613}, {\"data\": \"2020/05/09\", \"likes_count\": 506}, {\"data\": \"2020/05/10\", \"likes_count\": 18342}, {\"data\": \"2020/05/11\", \"likes_count\": 492841}, {\"data\": \"2020/05/12\", \"likes_count\": 269357}, {\"data\": \"2020/05/13\", \"likes_count\": 202028}, {\"data\": \"2020/05/14\", \"likes_count\": 23288}, {\"data\": \"2020/05/15\", \"likes_count\": 1385}, {\"data\": \"2020/05/16\", \"likes_count\": 50747}, {\"data\": \"2020/05/17\", \"likes_count\": 23008}, {\"data\": \"2020/05/18\", \"likes_count\": 26391}, {\"data\": \"2020/05/19\", \"likes_count\": 25576}, {\"data\": \"2020/05/20\", \"likes_count\": 74770}, {\"data\": \"2020/05/21\", \"likes_count\": 121664}, {\"data\": \"2020/05/22\", \"likes_count\": 327}, {\"data\": \"2020/05/23\", \"likes_count\": 13}, {\"data\": \"2020/05/24\", \"likes_count\": 880}, {\"data\": \"2020/05/25\", \"likes_count\": 38622}, {\"data\": \"2020/05/26\", \"likes_count\": 7119}, {\"data\": \"2020/05/27\", \"likes_count\": 42945}, {\"data\": \"2020/05/28\", \"likes_count\": 176}, {\"data\": \"2020/05/29\", \"likes_count\": 94638}, {\"data\": \"2020/05/31\", \"likes_count\": 24}, {\"data\": \"2020/06/01\", \"likes_count\": 326}, {\"data\": \"2020/06/02\", \"likes_count\": 415}, {\"data\": \"2020/06/03\", \"likes_count\": 506}, {\"data\": \"2020/06/04\", \"likes_count\": 2361}, {\"data\": \"2020/06/05\", \"likes_count\": 376}, {\"data\": \"2020/06/06\", \"likes_count\": 11697}, {\"data\": \"2020/06/08\", \"likes_count\": 7631}, {\"data\": \"2020/06/09\", \"likes_count\": 89497}, {\"data\": \"2020/06/10\", \"likes_count\": 3}, {\"data\": \"2020/06/11\", \"likes_count\": 210}, {\"data\": \"2020/06/12\", \"likes_count\": 19542}, {\"data\": \"2020/06/13\", \"likes_count\": 3167}, {\"data\": \"2020/06/14\", \"likes_count\": 664}, {\"data\": \"2020/06/16\", \"likes_count\": 47361}, {\"data\": \"2020/06/17\", \"likes_count\": 16998}, {\"data\": \"2020/06/18\", \"likes_count\": 5696}, {\"data\": \"2020/06/19\", \"likes_count\": 45522}, {\"data\": \"2020/06/23\", \"likes_count\": 157}, {\"data\": \"2020/06/24\", \"likes_count\": 2254}, {\"data\": \"2020/06/25\", \"likes_count\": 7629}, {\"data\": \"2020/06/26\", \"likes_count\": 1}, {\"data\": \"2020/06/27\", \"likes_count\": 98}, {\"data\": \"2020/06/28\", \"likes_count\": 981}, {\"data\": \"2020/06/30\", \"likes_count\": 4877}, {\"data\": \"2020/07/01\", \"likes_count\": 1456}, {\"data\": \"2020/07/02\", \"likes_count\": 208}, {\"data\": \"2020/07/03\", \"likes_count\": 1591}, {\"data\": \"2020/07/04\", \"likes_count\": 74}, {\"data\": \"2020/07/06\", \"likes_count\": 131}, {\"data\": \"2020/07/08\", \"likes_count\": 901}, {\"data\": \"2020/07/10\", \"likes_count\": 2109}, {\"data\": \"2020/07/11\", \"likes_count\": 7}, {\"data\": \"2020/07/12\", \"likes_count\": 797}, {\"data\": \"2020/07/13\", \"likes_count\": 180}, {\"data\": \"2020/07/14\", \"likes_count\": 29}, {\"data\": \"2020/07/15\", \"likes_count\": 148094}, {\"data\": \"2020/07/17\", \"likes_count\": 20368}, {\"data\": \"2020/07/18\", \"likes_count\": 1166}, {\"data\": \"2020/07/21\", \"likes_count\": 4245}, {\"data\": \"2020/07/22\", \"likes_count\": 1711}, {\"data\": \"2020/07/23\", \"likes_count\": 721}, {\"data\": \"2020/07/24\", \"likes_count\": 9940}, {\"data\": \"2020/07/25\", \"likes_count\": 1}, {\"data\": \"2020/07/27\", \"likes_count\": 2634}, {\"data\": \"2020/07/28\", \"likes_count\": 4033}, {\"data\": \"2020/07/30\", \"likes_count\": 614}, {\"data\": \"2020/07/31\", \"likes_count\": 7815}, {\"data\": \"2020/08/01\", \"likes_count\": 5193}, {\"data\": \"2020/08/02\", \"likes_count\": 8035}, {\"data\": \"2020/08/03\", \"likes_count\": 496}, {\"data\": \"2020/08/04\", \"likes_count\": 7}, {\"data\": \"2020/08/06\", \"likes_count\": 1498}, {\"data\": \"2020/08/07\", \"likes_count\": 4037}, {\"data\": \"2020/08/08\", \"likes_count\": 3674}, {\"data\": \"2020/08/09\", \"likes_count\": 16}, {\"data\": \"2020/08/10\", \"likes_count\": 1580}, {\"data\": \"2020/08/11\", \"likes_count\": 2759}, {\"data\": \"2020/08/12\", \"likes_count\": 8779}, {\"data\": \"2020/08/13\", \"likes_count\": 1123}, {\"data\": \"2020/08/15\", \"likes_count\": 2}, {\"data\": \"2020/08/16\", \"likes_count\": 545}, {\"data\": \"2020/08/18\", \"likes_count\": 1112}, {\"data\": \"2020/08/19\", \"likes_count\": 1840}, {\"data\": \"2020/08/20\", \"likes_count\": 78}, {\"data\": \"2020/08/26\", \"likes_count\": 32475}, {\"data\": \"2020/08/27\", \"likes_count\": 8809}, {\"data\": \"2020/08/30\", \"likes_count\": 37}, {\"data\": \"2020/08/31\", \"likes_count\": 347}, {\"data\": \"2020/01/01\", \"likes_count\": 0}, {\"data\": \"2020/01/02\", \"likes_count\": 0}, {\"data\": \"2020/01/03\", \"likes_count\": 0}, {\"data\": \"2020/01/05\", \"likes_count\": 0}, {\"data\": \"2020/01/06\", \"likes_count\": 0}, {\"data\": \"2020/01/07\", \"likes_count\": 0}, {\"data\": \"2020/01/08\", \"likes_count\": 0}, {\"data\": \"2020/01/09\", \"likes_count\": 0}, {\"data\": \"2020/01/10\", \"likes_count\": 0}, {\"data\": \"2020/01/11\", \"likes_count\": 0}, {\"data\": \"2020/01/12\", \"likes_count\": 0}, {\"data\": \"2020/01/13\", \"likes_count\": 0}, {\"data\": \"2020/01/17\", \"likes_count\": 0}, {\"data\": \"2020/01/18\", \"likes_count\": 0}, {\"data\": \"2020/01/20\", \"likes_count\": 0}, {\"data\": \"2020/02/17\", \"likes_count\": 0}, {\"data\": \"2020/02/21\", \"likes_count\": 0}, {\"data\": \"2020/02/24\", \"likes_count\": 0}, {\"data\": \"2020/05/30\", \"likes_count\": 0}, {\"data\": \"2020/06/07\", \"likes_count\": 0}, {\"data\": \"2020/06/15\", \"likes_count\": 0}, {\"data\": \"2020/06/20\", \"likes_count\": 0}, {\"data\": \"2020/06/21\", \"likes_count\": 0}, {\"data\": \"2020/06/22\", \"likes_count\": 0}, {\"data\": \"2020/06/29\", \"likes_count\": 0}, {\"data\": \"2020/07/05\", \"likes_count\": 0}, {\"data\": \"2020/07/07\", \"likes_count\": 0}, {\"data\": \"2020/07/09\", \"likes_count\": 0}, {\"data\": \"2020/07/16\", \"likes_count\": 0}, {\"data\": \"2020/07/19\", \"likes_count\": 0}, {\"data\": \"2020/07/20\", \"likes_count\": 0}, {\"data\": \"2020/07/26\", \"likes_count\": 0}, {\"data\": \"2020/07/29\", \"likes_count\": 0}, {\"data\": \"2020/08/05\", \"likes_count\": 0}, {\"data\": \"2020/08/14\", \"likes_count\": 0}, {\"data\": \"2020/08/17\", \"likes_count\": 0}, {\"data\": \"2020/08/21\", \"likes_count\": 0}, {\"data\": \"2020/08/22\", \"likes_count\": 0}, {\"data\": \"2020/08/23\", \"likes_count\": 0}, {\"data\": \"2020/08/24\", \"likes_count\": 0}, {\"data\": \"2020/08/25\", \"likes_count\": 0}, {\"data\": \"2020/08/28\", \"likes_count\": 0}, {\"data\": \"2020/08/29\", \"likes_count\": 0}]}}, {\"mode\": \"vega-lite\"});\n",
       "</script>"
      ],
      "text/plain": [
       "alt.LayerChart(...)"
      ]
     },
     "execution_count": 7,
     "metadata": {},
     "output_type": "execute_result"
    }
   ],
   "source": [
    "likes = []\n",
    "index = 0\n",
    "\n",
    "for element in data: \n",
    "    token=data[index]['created_at']\n",
    "    d = parse(token)\n",
    "    d = d.strftime('%Y/%m/%d')\n",
    "    like=(d,data[index]['favorite_count'])\n",
    "    \n",
    "    likes.append(like)\n",
    "    index=index+1\n",
    "\n",
    "\n",
    "first = itemgetter(0)\n",
    "\n",
    "sums = [(k, sum(item[1] for item in tups_to_sum))\n",
    "        for k, tups_to_sum in groupby(sorted(likes, key=first), key=first)]\n",
    "dictsum=dict(sums)\n",
    "\n",
    "\n",
    "start = datetime.datetime.strptime(\"2020/01/01\", \"%Y/%m/%d\")\n",
    "end = datetime.datetime.strptime(\"2020/09/01\", \"%Y/%m/%d\")\n",
    "date_generated = [start + datetime.timedelta(days=x) for x in range(0, (end-start).days)]\n",
    "\n",
    "for date in date_generated:\n",
    "    if date.strftime(\"%Y/%m/%d\") not in dictsum:\n",
    "        dictsum[date.strftime(\"%Y/%m/%d\")] = 0\n",
    "\n",
    "\n",
    "df = pd.DataFrame.from_dict(dictsum, orient='index').reset_index()\n",
    "df = df.rename(columns={'index':'data', 0:'likes_count'})\n",
    "\n",
    "\n",
    "chart = alt.Chart(\n",
    "    df,\n",
    "    title=\"Likes heatmap\"\n",
    ").mark_rect().encode(\n",
    "    x='date(data):O',\n",
    "    y='month(data):O',\n",
    "    color=alt.Color('likes_count:Q', scale=alt.Scale(scheme=\"turbo\")),\n",
    "    tooltip=[\n",
    "        alt.Tooltip('monthdate(data):T', title='Date'),\n",
    "        alt.Tooltip('likes_count:Q', title='Likes Count')\n",
    "    ]\n",
    ").properties(width=1500, height=500)\n",
    "\n",
    "# Configure text\n",
    "text = chart.mark_text(baseline='middle').encode(\n",
    "    text='likes_count:Q',\n",
    "    color=alt.condition(\n",
    "        alt.FieldRangePredicate(field='likes_count', range=[600000,730000]),\n",
    "        alt.value('black'),\n",
    "        alt.value('white')\n",
    "    )\n",
    ")\n",
    "\n",
    "chart + text"
   ]
  },
  {
   "cell_type": "markdown",
   "id": "african-recipe",
   "metadata": {},
   "source": [
    "### HeatMap Engagement - Number of Retweets generated by all the tweets in the dataset for each date"
   ]
  },
  {
   "cell_type": "markdown",
   "id": "accompanied-hungarian",
   "metadata": {},
   "source": [
    "The code is the pretty much the same as above, in this case we have considered the 'favorite count' field and worked on it."
   ]
  },
  {
   "cell_type": "code",
   "execution_count": 8,
   "id": "rational-exemption",
   "metadata": {
    "scrolled": true
   },
   "outputs": [
    {
     "data": {
      "text/html": [
       "\n",
       "<div id=\"altair-viz-b44b6d3f69d6429c95dd39791f837357\"></div>\n",
       "<script type=\"text/javascript\">\n",
       "  (function(spec, embedOpt){\n",
       "    let outputDiv = document.currentScript.previousElementSibling;\n",
       "    if (outputDiv.id !== \"altair-viz-b44b6d3f69d6429c95dd39791f837357\") {\n",
       "      outputDiv = document.getElementById(\"altair-viz-b44b6d3f69d6429c95dd39791f837357\");\n",
       "    }\n",
       "    const paths = {\n",
       "      \"vega\": \"https://cdn.jsdelivr.net/npm//vega@5?noext\",\n",
       "      \"vega-lib\": \"https://cdn.jsdelivr.net/npm//vega-lib?noext\",\n",
       "      \"vega-lite\": \"https://cdn.jsdelivr.net/npm//vega-lite@4.8.1?noext\",\n",
       "      \"vega-embed\": \"https://cdn.jsdelivr.net/npm//vega-embed@6?noext\",\n",
       "    };\n",
       "\n",
       "    function loadScript(lib) {\n",
       "      return new Promise(function(resolve, reject) {\n",
       "        var s = document.createElement('script');\n",
       "        s.src = paths[lib];\n",
       "        s.async = true;\n",
       "        s.onload = () => resolve(paths[lib]);\n",
       "        s.onerror = () => reject(`Error loading script: ${paths[lib]}`);\n",
       "        document.getElementsByTagName(\"head\")[0].appendChild(s);\n",
       "      });\n",
       "    }\n",
       "\n",
       "    function showError(err) {\n",
       "      outputDiv.innerHTML = `<div class=\"error\" style=\"color:red;\">${err}</div>`;\n",
       "      throw err;\n",
       "    }\n",
       "\n",
       "    function displayChart(vegaEmbed) {\n",
       "      vegaEmbed(outputDiv, spec, embedOpt)\n",
       "        .catch(err => showError(`Javascript Error: ${err.message}<br>This usually means there's a typo in your chart specification. See the javascript console for the full traceback.`));\n",
       "    }\n",
       "\n",
       "    if(typeof define === \"function\" && define.amd) {\n",
       "      requirejs.config({paths});\n",
       "      require([\"vega-embed\"], displayChart, err => showError(`Error loading script: ${err.message}`));\n",
       "    } else if (typeof vegaEmbed === \"function\") {\n",
       "      displayChart(vegaEmbed);\n",
       "    } else {\n",
       "      loadScript(\"vega\")\n",
       "        .then(() => loadScript(\"vega-lite\"))\n",
       "        .then(() => loadScript(\"vega-embed\"))\n",
       "        .catch(showError)\n",
       "        .then(() => displayChart(vegaEmbed));\n",
       "    }\n",
       "  })({\"config\": {\"view\": {\"continuousWidth\": 400, \"continuousHeight\": 300}}, \"layer\": [{\"mark\": \"rect\", \"encoding\": {\"color\": {\"type\": \"quantitative\", \"field\": \"retweet_count\", \"scale\": {\"scheme\": \"turbo\"}}, \"tooltip\": [{\"type\": \"temporal\", \"field\": \"data\", \"timeUnit\": \"monthdate\", \"title\": \"Date\"}, {\"type\": \"quantitative\", \"field\": \"retweet_count\", \"title\": \"Retweet Count\"}], \"x\": {\"type\": \"ordinal\", \"field\": \"data\", \"timeUnit\": \"date\"}, \"y\": {\"type\": \"ordinal\", \"field\": \"data\", \"timeUnit\": \"month\"}}, \"height\": 500, \"title\": \"Retweets heatmap\", \"width\": 1500}, {\"mark\": {\"type\": \"text\", \"baseline\": \"middle\"}, \"encoding\": {\"color\": {\"condition\": {\"value\": \"black\", \"test\": {\"field\": \"retweet_count\", \"range\": [100000, 250000]}}, \"value\": \"white\"}, \"text\": {\"type\": \"quantitative\", \"field\": \"retweet_count\"}, \"tooltip\": [{\"type\": \"temporal\", \"field\": \"data\", \"timeUnit\": \"monthdate\", \"title\": \"Date\"}, {\"type\": \"quantitative\", \"field\": \"retweet_count\", \"title\": \"Retweet Count\"}], \"x\": {\"type\": \"ordinal\", \"field\": \"data\", \"timeUnit\": \"date\"}, \"y\": {\"type\": \"ordinal\", \"field\": \"data\", \"timeUnit\": \"month\"}}, \"height\": 500, \"title\": \"Retweets heatmap\", \"width\": 1500}], \"data\": {\"name\": \"data-e99acd5aef87ab22d2bd47764d0a40fc\"}, \"$schema\": \"https://vega.github.io/schema/vega-lite/v4.8.1.json\", \"datasets\": {\"data-e99acd5aef87ab22d2bd47764d0a40fc\": [{\"data\": \"2020/01/04\", \"retweet_count\": 443}, {\"data\": \"2020/01/14\", \"retweet_count\": 22688}, {\"data\": \"2020/01/15\", \"retweet_count\": 5}, {\"data\": \"2020/01/16\", \"retweet_count\": 41}, {\"data\": \"2020/01/19\", \"retweet_count\": 181}, {\"data\": \"2020/01/21\", \"retweet_count\": 328}, {\"data\": \"2020/01/22\", \"retweet_count\": 701}, {\"data\": \"2020/01/23\", \"retweet_count\": 10975}, {\"data\": \"2020/01/24\", \"retweet_count\": 8272}, {\"data\": \"2020/01/25\", \"retweet_count\": 14017}, {\"data\": \"2020/01/26\", \"retweet_count\": 24424}, {\"data\": \"2020/01/27\", \"retweet_count\": 7413}, {\"data\": \"2020/01/28\", \"retweet_count\": 3334}, {\"data\": \"2020/01/29\", \"retweet_count\": 1867}, {\"data\": \"2020/01/30\", \"retweet_count\": 4999}, {\"data\": \"2020/01/31\", \"retweet_count\": 5317}, {\"data\": \"2020/02/01\", \"retweet_count\": 3964}, {\"data\": \"2020/02/02\", \"retweet_count\": 517}, {\"data\": \"2020/02/03\", \"retweet_count\": 124}, {\"data\": \"2020/02/04\", \"retweet_count\": 71}, {\"data\": \"2020/02/05\", \"retweet_count\": 14736}, {\"data\": \"2020/02/06\", \"retweet_count\": 14595}, {\"data\": \"2020/02/07\", \"retweet_count\": 5065}, {\"data\": \"2020/02/08\", \"retweet_count\": 911}, {\"data\": \"2020/02/09\", \"retweet_count\": 1607}, {\"data\": \"2020/02/10\", \"retweet_count\": 65}, {\"data\": \"2020/02/11\", \"retweet_count\": 11533}, {\"data\": \"2020/02/12\", \"retweet_count\": 64}, {\"data\": \"2020/02/13\", \"retweet_count\": 6145}, {\"data\": \"2020/02/14\", \"retweet_count\": 1}, {\"data\": \"2020/02/15\", \"retweet_count\": 494}, {\"data\": \"2020/02/16\", \"retweet_count\": 3771}, {\"data\": \"2020/02/18\", \"retweet_count\": 972}, {\"data\": \"2020/02/19\", \"retweet_count\": 5}, {\"data\": \"2020/02/20\", \"retweet_count\": 1032}, {\"data\": \"2020/02/22\", \"retweet_count\": 160}, {\"data\": \"2020/02/23\", \"retweet_count\": 3}, {\"data\": \"2020/02/25\", \"retweet_count\": 16327}, {\"data\": \"2020/02/26\", \"retweet_count\": 720}, {\"data\": \"2020/02/27\", \"retweet_count\": 12}, {\"data\": \"2020/02/28\", \"retweet_count\": 6125}, {\"data\": \"2020/02/29\", \"retweet_count\": 33683}, {\"data\": \"2020/03/01\", \"retweet_count\": 1}, {\"data\": \"2020/03/02\", \"retweet_count\": 3191}, {\"data\": \"2020/03/03\", \"retweet_count\": 16878}, {\"data\": \"2020/03/04\", \"retweet_count\": 3984}, {\"data\": \"2020/03/05\", \"retweet_count\": 6830}, {\"data\": \"2020/03/06\", \"retweet_count\": 5636}, {\"data\": \"2020/03/07\", \"retweet_count\": 4261}, {\"data\": \"2020/03/08\", \"retweet_count\": 2874}, {\"data\": \"2020/03/09\", \"retweet_count\": 28002}, {\"data\": \"2020/03/10\", \"retweet_count\": 17116}, {\"data\": \"2020/03/11\", \"retweet_count\": 55018}, {\"data\": \"2020/03/12\", \"retweet_count\": 299598}, {\"data\": \"2020/03/13\", \"retweet_count\": 95235}, {\"data\": \"2020/03/14\", \"retweet_count\": 76100}, {\"data\": \"2020/03/15\", \"retweet_count\": 49999}, {\"data\": \"2020/03/16\", \"retweet_count\": 86920}, {\"data\": \"2020/03/17\", \"retweet_count\": 57678}, {\"data\": \"2020/03/18\", \"retweet_count\": 92525}, {\"data\": \"2020/03/19\", \"retweet_count\": 6085}, {\"data\": \"2020/03/20\", \"retweet_count\": 17130}, {\"data\": \"2020/03/21\", \"retweet_count\": 147956}, {\"data\": \"2020/03/22\", \"retweet_count\": 160937}, {\"data\": \"2020/03/23\", \"retweet_count\": 132135}, {\"data\": \"2020/03/24\", \"retweet_count\": 110472}, {\"data\": \"2020/03/25\", \"retweet_count\": 40650}, {\"data\": \"2020/03/26\", \"retweet_count\": 17542}, {\"data\": \"2020/03/27\", \"retweet_count\": 146005}, {\"data\": \"2020/03/28\", \"retweet_count\": 88756}, {\"data\": \"2020/03/29\", \"retweet_count\": 23357}, {\"data\": \"2020/03/30\", \"retweet_count\": 20910}, {\"data\": \"2020/03/31\", \"retweet_count\": 29128}, {\"data\": \"2020/04/01\", \"retweet_count\": 115822}, {\"data\": \"2020/04/02\", \"retweet_count\": 17671}, {\"data\": \"2020/04/03\", \"retweet_count\": 16269}, {\"data\": \"2020/04/04\", \"retweet_count\": 12735}, {\"data\": \"2020/04/05\", \"retweet_count\": 22291}, {\"data\": \"2020/04/06\", \"retweet_count\": 31072}, {\"data\": \"2020/04/07\", \"retweet_count\": 17999}, {\"data\": \"2020/04/08\", \"retweet_count\": 12660}, {\"data\": \"2020/04/09\", \"retweet_count\": 42245}, {\"data\": \"2020/04/10\", \"retweet_count\": 28635}, {\"data\": \"2020/04/11\", \"retweet_count\": 44341}, {\"data\": \"2020/04/12\", \"retweet_count\": 1957}, {\"data\": \"2020/04/13\", \"retweet_count\": 166744}, {\"data\": \"2020/04/14\", \"retweet_count\": 34868}, {\"data\": \"2020/04/15\", \"retweet_count\": 111494}, {\"data\": \"2020/04/16\", \"retweet_count\": 2028}, {\"data\": \"2020/04/17\", \"retweet_count\": 8920}, {\"data\": \"2020/04/18\", \"retweet_count\": 8406}, {\"data\": \"2020/04/19\", \"retweet_count\": 4396}, {\"data\": \"2020/04/20\", \"retweet_count\": 15094}, {\"data\": \"2020/04/21\", \"retweet_count\": 6946}, {\"data\": \"2020/04/22\", \"retweet_count\": 6061}, {\"data\": \"2020/04/23\", \"retweet_count\": 6079}, {\"data\": \"2020/04/24\", \"retweet_count\": 4414}, {\"data\": \"2020/04/25\", \"retweet_count\": 2012}, {\"data\": \"2020/04/26\", \"retweet_count\": 37661}, {\"data\": \"2020/04/27\", \"retweet_count\": 1330}, {\"data\": \"2020/04/28\", \"retweet_count\": 1897}, {\"data\": \"2020/04/29\", \"retweet_count\": 26677}, {\"data\": \"2020/04/30\", \"retweet_count\": 9013}, {\"data\": \"2020/05/01\", \"retweet_count\": 774}, {\"data\": \"2020/05/02\", \"retweet_count\": 42501}, {\"data\": \"2020/05/03\", \"retweet_count\": 14064}, {\"data\": \"2020/05/04\", \"retweet_count\": 1291}, {\"data\": \"2020/05/05\", \"retweet_count\": 2385}, {\"data\": \"2020/05/06\", \"retweet_count\": 4411}, {\"data\": \"2020/05/07\", \"retweet_count\": 670}, {\"data\": \"2020/05/08\", \"retweet_count\": 131560}, {\"data\": \"2020/05/09\", \"retweet_count\": 211}, {\"data\": \"2020/05/10\", \"retweet_count\": 7543}, {\"data\": \"2020/05/11\", \"retweet_count\": 73898}, {\"data\": \"2020/05/12\", \"retweet_count\": 97400}, {\"data\": \"2020/05/13\", \"retweet_count\": 31516}, {\"data\": \"2020/05/14\", \"retweet_count\": 4677}, {\"data\": \"2020/05/15\", \"retweet_count\": 795}, {\"data\": \"2020/05/16\", \"retweet_count\": 16778}, {\"data\": \"2020/05/17\", \"retweet_count\": 2261}, {\"data\": \"2020/05/18\", \"retweet_count\": 6323}, {\"data\": \"2020/05/19\", \"retweet_count\": 10606}, {\"data\": \"2020/05/20\", \"retweet_count\": 11334}, {\"data\": \"2020/05/21\", \"retweet_count\": 14089}, {\"data\": \"2020/05/22\", \"retweet_count\": 88}, {\"data\": \"2020/05/23\", \"retweet_count\": 4}, {\"data\": \"2020/05/24\", \"retweet_count\": 202}, {\"data\": \"2020/05/25\", \"retweet_count\": 7862}, {\"data\": \"2020/05/26\", \"retweet_count\": 3041}, {\"data\": \"2020/05/27\", \"retweet_count\": 19088}, {\"data\": \"2020/05/28\", \"retweet_count\": 87}, {\"data\": \"2020/05/29\", \"retweet_count\": 24460}, {\"data\": \"2020/05/31\", \"retweet_count\": 6}, {\"data\": \"2020/06/01\", \"retweet_count\": 244}, {\"data\": \"2020/06/02\", \"retweet_count\": 148}, {\"data\": \"2020/06/03\", \"retweet_count\": 369}, {\"data\": \"2020/06/04\", \"retweet_count\": 739}, {\"data\": \"2020/06/05\", \"retweet_count\": 111}, {\"data\": \"2020/06/06\", \"retweet_count\": 2908}, {\"data\": \"2020/06/08\", \"retweet_count\": 3808}, {\"data\": \"2020/06/09\", \"retweet_count\": 27259}, {\"data\": \"2020/06/10\", \"retweet_count\": 1}, {\"data\": \"2020/06/11\", \"retweet_count\": 144}, {\"data\": \"2020/06/12\", \"retweet_count\": 3530}, {\"data\": \"2020/06/13\", \"retweet_count\": 462}, {\"data\": \"2020/06/14\", \"retweet_count\": 307}, {\"data\": \"2020/06/16\", \"retweet_count\": 11894}, {\"data\": \"2020/06/17\", \"retweet_count\": 751}, {\"data\": \"2020/06/18\", \"retweet_count\": 2126}, {\"data\": \"2020/06/19\", \"retweet_count\": 11937}, {\"data\": \"2020/06/23\", \"retweet_count\": 136}, {\"data\": \"2020/06/24\", \"retweet_count\": 308}, {\"data\": \"2020/06/25\", \"retweet_count\": 891}, {\"data\": \"2020/06/26\", \"retweet_count\": 0}, {\"data\": \"2020/06/27\", \"retweet_count\": 53}, {\"data\": \"2020/06/28\", \"retweet_count\": 353}, {\"data\": \"2020/06/30\", \"retweet_count\": 856}, {\"data\": \"2020/07/01\", \"retweet_count\": 755}, {\"data\": \"2020/07/02\", \"retweet_count\": 156}, {\"data\": \"2020/07/03\", \"retweet_count\": 501}, {\"data\": \"2020/07/04\", \"retweet_count\": 50}, {\"data\": \"2020/07/06\", \"retweet_count\": 78}, {\"data\": \"2020/07/08\", \"retweet_count\": 137}, {\"data\": \"2020/07/10\", \"retweet_count\": 290}, {\"data\": \"2020/07/11\", \"retweet_count\": 2}, {\"data\": \"2020/07/12\", \"retweet_count\": 226}, {\"data\": \"2020/07/13\", \"retweet_count\": 62}, {\"data\": \"2020/07/14\", \"retweet_count\": 29}, {\"data\": \"2020/07/15\", \"retweet_count\": 38025}, {\"data\": \"2020/07/17\", \"retweet_count\": 5196}, {\"data\": \"2020/07/18\", \"retweet_count\": 359}, {\"data\": \"2020/07/21\", \"retweet_count\": 1222}, {\"data\": \"2020/07/22\", \"retweet_count\": 528}, {\"data\": \"2020/07/23\", \"retweet_count\": 61}, {\"data\": \"2020/07/24\", \"retweet_count\": 891}, {\"data\": \"2020/07/25\", \"retweet_count\": 1}, {\"data\": \"2020/07/27\", \"retweet_count\": 49}, {\"data\": \"2020/07/28\", \"retweet_count\": 1002}, {\"data\": \"2020/07/30\", \"retweet_count\": 207}, {\"data\": \"2020/07/31\", \"retweet_count\": 2396}, {\"data\": \"2020/08/01\", \"retweet_count\": 2414}, {\"data\": \"2020/08/02\", \"retweet_count\": 699}, {\"data\": \"2020/08/03\", \"retweet_count\": 312}, {\"data\": \"2020/08/04\", \"retweet_count\": 5}, {\"data\": \"2020/08/06\", \"retweet_count\": 775}, {\"data\": \"2020/08/07\", \"retweet_count\": 2586}, {\"data\": \"2020/08/08\", \"retweet_count\": 443}, {\"data\": \"2020/08/09\", \"retweet_count\": 7}, {\"data\": \"2020/08/10\", \"retweet_count\": 364}, {\"data\": \"2020/08/11\", \"retweet_count\": 1032}, {\"data\": \"2020/08/12\", \"retweet_count\": 2768}, {\"data\": \"2020/08/13\", \"retweet_count\": 204}, {\"data\": \"2020/08/15\", \"retweet_count\": 1}, {\"data\": \"2020/08/16\", \"retweet_count\": 48}, {\"data\": \"2020/08/18\", \"retweet_count\": 226}, {\"data\": \"2020/08/19\", \"retweet_count\": 878}, {\"data\": \"2020/08/20\", \"retweet_count\": 59}, {\"data\": \"2020/08/26\", \"retweet_count\": 3123}, {\"data\": \"2020/08/27\", \"retweet_count\": 2570}, {\"data\": \"2020/08/30\", \"retweet_count\": 24}, {\"data\": \"2020/08/31\", \"retweet_count\": 67}, {\"data\": \"2020/01/01\", \"retweet_count\": 0}, {\"data\": \"2020/01/02\", \"retweet_count\": 0}, {\"data\": \"2020/01/03\", \"retweet_count\": 0}, {\"data\": \"2020/01/05\", \"retweet_count\": 0}, {\"data\": \"2020/01/06\", \"retweet_count\": 0}, {\"data\": \"2020/01/07\", \"retweet_count\": 0}, {\"data\": \"2020/01/08\", \"retweet_count\": 0}, {\"data\": \"2020/01/09\", \"retweet_count\": 0}, {\"data\": \"2020/01/10\", \"retweet_count\": 0}, {\"data\": \"2020/01/11\", \"retweet_count\": 0}, {\"data\": \"2020/01/12\", \"retweet_count\": 0}, {\"data\": \"2020/01/13\", \"retweet_count\": 0}, {\"data\": \"2020/01/17\", \"retweet_count\": 0}, {\"data\": \"2020/01/18\", \"retweet_count\": 0}, {\"data\": \"2020/01/20\", \"retweet_count\": 0}, {\"data\": \"2020/02/17\", \"retweet_count\": 0}, {\"data\": \"2020/02/21\", \"retweet_count\": 0}, {\"data\": \"2020/02/24\", \"retweet_count\": 0}, {\"data\": \"2020/05/30\", \"retweet_count\": 0}, {\"data\": \"2020/06/07\", \"retweet_count\": 0}, {\"data\": \"2020/06/15\", \"retweet_count\": 0}, {\"data\": \"2020/06/20\", \"retweet_count\": 0}, {\"data\": \"2020/06/21\", \"retweet_count\": 0}, {\"data\": \"2020/06/22\", \"retweet_count\": 0}, {\"data\": \"2020/06/29\", \"retweet_count\": 0}, {\"data\": \"2020/07/05\", \"retweet_count\": 0}, {\"data\": \"2020/07/07\", \"retweet_count\": 0}, {\"data\": \"2020/07/09\", \"retweet_count\": 0}, {\"data\": \"2020/07/16\", \"retweet_count\": 0}, {\"data\": \"2020/07/19\", \"retweet_count\": 0}, {\"data\": \"2020/07/20\", \"retweet_count\": 0}, {\"data\": \"2020/07/26\", \"retweet_count\": 0}, {\"data\": \"2020/07/29\", \"retweet_count\": 0}, {\"data\": \"2020/08/05\", \"retweet_count\": 0}, {\"data\": \"2020/08/14\", \"retweet_count\": 0}, {\"data\": \"2020/08/17\", \"retweet_count\": 0}, {\"data\": \"2020/08/21\", \"retweet_count\": 0}, {\"data\": \"2020/08/22\", \"retweet_count\": 0}, {\"data\": \"2020/08/23\", \"retweet_count\": 0}, {\"data\": \"2020/08/24\", \"retweet_count\": 0}, {\"data\": \"2020/08/25\", \"retweet_count\": 0}, {\"data\": \"2020/08/28\", \"retweet_count\": 0}, {\"data\": \"2020/08/29\", \"retweet_count\": 0}]}}, {\"mode\": \"vega-lite\"});\n",
       "</script>"
      ],
      "text/plain": [
       "alt.LayerChart(...)"
      ]
     },
     "execution_count": 8,
     "metadata": {},
     "output_type": "execute_result"
    }
   ],
   "source": [
    "rts = []\n",
    "index = 0\n",
    "\n",
    "for element in data: \n",
    "    token=data[index]['created_at']\n",
    "    d = parse(token)\n",
    "    d = d.strftime('%Y/%m/%d')\n",
    "    rt=(d,data[index]['retweet_count'])\n",
    "    \n",
    "    rts.append(rt)\n",
    "    index=index+1\n",
    "    \n",
    "\n",
    "\n",
    "first_rt = itemgetter(0)\n",
    "sums_rt = [(k, sum(item[1] for item in tups_to_sum))\n",
    "        for k, tups_to_sum in groupby(sorted(rts, key=first_rt), key=first_rt)]\n",
    "dictsum_rt=dict(sums_rt)\n",
    "\n",
    "\n",
    "start = datetime.datetime.strptime(\"2020/01/01\", \"%Y/%m/%d\")\n",
    "end = datetime.datetime.strptime(\"2020/09/01\", \"%Y/%m/%d\")\n",
    "date_generated = [start + datetime.timedelta(days=x) for x in range(0, (end-start).days)]\n",
    "\n",
    "for date in date_generated:\n",
    "    if date.strftime(\"%Y/%m/%d\") not in dictsum_rt:\n",
    "        dictsum_rt[date.strftime(\"%Y/%m/%d\")] = 0\n",
    "\n",
    "\n",
    "df_rt = pd.DataFrame.from_dict(dictsum_rt, orient='index').reset_index()\n",
    "df_rt = df_rt.rename(columns={'index':'data', 0:'retweet_count'})\n",
    "\n",
    "\n",
    "c = alt.Chart(\n",
    "    df_rt,\n",
    "    title=\"Retweets heatmap\"\n",
    ").mark_rect().encode(\n",
    "    x='date(data):O',\n",
    "    y='month(data):O',\n",
    "    color=alt.Color('retweet_count:Q', scale=alt.Scale(scheme=\"turbo\")),\n",
    "    tooltip=[\n",
    "        alt.Tooltip('monthdate(data):T', title='Date'),\n",
    "        alt.Tooltip('retweet_count:Q', title='Retweet Count')\n",
    "    ]\n",
    ").properties(width=1500, height=500)\n",
    "\n",
    "# Configure text\n",
    "t = c.mark_text(baseline='middle').encode(\n",
    "    text='retweet_count:Q',\n",
    "    color=alt.condition(\n",
    "        alt.FieldRangePredicate(field='retweet_count', range=[100000,250000]),\n",
    "        alt.value('black'),\n",
    "        alt.value('white')\n",
    "    )\n",
    ")\n",
    "\n",
    "c + t"
   ]
  },
  {
   "cell_type": "code",
   "execution_count": null,
   "id": "objective-korean",
   "metadata": {},
   "outputs": [],
   "source": []
  }
 ],
 "metadata": {
  "kernelspec": {
   "display_name": "Python 3",
   "language": "python",
   "name": "python3"
  },
  "language_info": {
   "codemirror_mode": {
    "name": "ipython",
    "version": 3
   },
   "file_extension": ".py",
   "mimetype": "text/x-python",
   "name": "python",
   "nbconvert_exporter": "python",
   "pygments_lexer": "ipython3",
   "version": "3.9.2"
  }
 },
 "nbformat": 4,
 "nbformat_minor": 5
}

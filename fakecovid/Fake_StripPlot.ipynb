{
 "cells": [
  {
   "cell_type": "code",
   "execution_count": 6,
   "id": "fitting-bulgarian",
   "metadata": {},
   "outputs": [],
   "source": [
    "import pandas as pd\n",
    "import numpy as np\n",
    "import json\n",
    "import sys\n",
    "import string\n",
    "import re\n",
    "from emot.emo_unicode import UNICODE_EMO, EMOTICONS\n",
    "import emoji\n",
    "from wordcloud import WordCloud, STOPWORDS\n",
    "import matplotlib.pyplot as plt \n",
    "import nltk\n",
    "from PIL import Image\n",
    "import itertools\n",
    "import altair as alt\n",
    "from dateutil.parser import parse\n",
    "import seaborn as sns\n",
    "import num2words\n",
    "plt.rc('xtick',labelsize=18)\n",
    "plt.rc('ytick',labelsize=18)"
   ]
  },
  {
   "cell_type": "code",
   "execution_count": 2,
   "id": "underlying-style",
   "metadata": {},
   "outputs": [],
   "source": [
    "data = []\n",
    "with open('dataset/general_result_translated_full.json', 'r') as f:\n",
    "    for line in f:\n",
    "        data.append(json.loads(line))"
   ]
  },
  {
   "cell_type": "markdown",
   "id": "retained-apparel",
   "metadata": {},
   "source": [
    "## Hashtag"
   ]
  },
  {
   "cell_type": "markdown",
   "id": "hollywood-windows",
   "metadata": {},
   "source": [
    "Here there are just the top 5 hashtags but the chart can be extended with more hashtags."
   ]
  },
  {
   "cell_type": "code",
   "execution_count": null,
   "id": "ecological-newcastle",
   "metadata": {},
   "outputs": [],
   "source": [
    "index=0\n",
    "l = []\n",
    "date = []\n",
    "month = []\n",
    "covid_hashtags = [\"covid19\",\"coronavirus\",\"china\",\"stayhome\",\"lockdown\"]\n",
    "for element in data:\n",
    "    for entity in data[index]['entities']['hashtags']:\n",
    "        token_covid=entity['text'].lower()\n",
    "        if token_covid in covid_hashtags:\n",
    "            l.append(token_covid)\n",
    "            token=data[index]['created_at']\n",
    "            d = parse(token)\n",
    "            #d1 = parse(token)\n",
    "            d = d.strftime('%Y/%m/%d')\n",
    "            date.append(d)\n",
    "            #month.append(d1.strftime('%B'))\n",
    "        \n",
    "    index=index+1\n",
    "    \n",
    "df = pd.DataFrame(\n",
    "    {'Date': date,\n",
    "    'Hashtag': l\n",
    "     #'Month': month\n",
    "    })\n",
    "df['Date']= pd.to_datetime(df['Date'])"
   ]
  },
  {
   "cell_type": "code",
   "execution_count": null,
   "id": "deluxe-workplace",
   "metadata": {},
   "outputs": [],
   "source": [
    "#http://alanpryorjr.com/visualizations/seaborn/stripplot/stripplot/\n",
    "\n",
    "\n",
    "plt.figure(figsize=(20,15))\n",
    "ax = sns.stripplot(x=\"Date\", y=\"Hashtag\", data=df, jitter=0.35, orient='h', marker=\"D\")\n",
    "#print(np.linspace(0,213,8)[:-1])\n",
    "#plt.xticks(np.linspace(0,213,8)[:-1], ('Jan', 'Feb','Mar','Apr','May','Jun','Jul'))\n",
    "plt.xlabel(\"Month\",fontsize=20)\n",
    "plt.ylabel(\"Hashtag\",fontsize=20)\n"
   ]
  },
  {
   "cell_type": "markdown",
   "id": "decent-yukon",
   "metadata": {},
   "source": [
    "## Mentions"
   ]
  },
  {
   "cell_type": "code",
   "execution_count": null,
   "id": "literary-course",
   "metadata": {},
   "outputs": [],
   "source": [
    "index_mentions=0\n",
    "date_mention = []\n",
    "mentions = []\n",
    "mentions_list = [\"realDonaldTrump\",\"JoeBiden\",\"narendramodi\",\"WHO\",\"CNN\"]\n",
    "for element in data:\n",
    "    for entity in data[index_mentions]['entities']['user_mentions']:\n",
    "        token_mentions=entity['screen_name']\n",
    "        #print(token_mentions)\n",
    "        if token_mentions in mentions_list:\n",
    "            #print(\"in\")\n",
    "            mentions.append(token_mentions)\n",
    "            token=data[index_mentions]['created_at']\n",
    "            d = parse(token)\n",
    "            d = d.strftime('%Y/%m/%d')\n",
    "            date_mention.append(d)\n",
    "            \n",
    "    index_mentions=index_mentions+1\n",
    "    \n",
    "    \n",
    "df_mentions = pd.DataFrame(\n",
    "    {'Date': date_mention,\n",
    "    'Mentions': mentions\n",
    "    })\n",
    "\n",
    "df_mentions['Date']= pd.to_datetime(df_mentions['Date'])\n"
   ]
  },
  {
   "cell_type": "code",
   "execution_count": null,
   "id": "rising-instrument",
   "metadata": {},
   "outputs": [],
   "source": [
    "plt.figure(figsize=(20,15))\n",
    "ax = sns.stripplot(x=\"Date\", y=\"Mentions\", data=df_mentions, jitter=0.35, orient='h', marker=\"D\")\n",
    "#print(np.linspace(0,213,8)[:-1])\n",
    "#plt.xticks(np.linspace(0,213,8)[:-1], ('Jan', 'Feb','Mar','Apr','May','Jun','Jul'))\n",
    "plt.xlabel(\"Month\",fontsize=20)\n",
    "plt.ylabel(\"Mentions\",fontsize=20)\n"
   ]
  },
  {
   "cell_type": "markdown",
   "id": "opening-graham",
   "metadata": {},
   "source": [
    "## Emoji"
   ]
  },
  {
   "cell_type": "code",
   "execution_count": null,
   "id": "dangerous-quilt",
   "metadata": {},
   "outputs": [],
   "source": [
    "import demoji\n",
    "import itertools \n",
    "\n",
    "date_emoji = []\n",
    "index= 0\n",
    "emos = []\n",
    "emoji_list = [\"😂\",\"😭\",\"🤣\",\"🙏\",\"❤️\"]\n",
    "for element in data:\n",
    "    em = demoji.findall_list(data[index]['full_text'], False)\n",
    "    for e in em:\n",
    "        if e in emoji_list:\n",
    "            emos.append(e)\n",
    "            token=data[index]['created_at']\n",
    "            d = parse(token)\n",
    "            d = d.strftime('%Y/%m/%d')\n",
    "            date_emoji.append(d)\n",
    "    index= index+1\n",
    "    \n",
    "#merged=list(itertools.chain.from_iterable(emos))\n",
    "    \n",
    "    \n",
    "df_em = pd.DataFrame(\n",
    "    {'Date': date_emoji,\n",
    "    'Emoji': emos\n",
    "    })\n",
    "\n",
    "df_em['Date']= pd.to_datetime(df_em['Date'])"
   ]
  },
  {
   "cell_type": "code",
   "execution_count": null,
   "id": "three-property",
   "metadata": {},
   "outputs": [],
   "source": [
    "\n",
    "plt.figure(figsize=(20,15))\n",
    "ax = sns.stripplot(x=\"Date\", y=\"Emoji\", data=df_em, jitter=0.35, orient='h', marker=\"D\")\n",
    "#print(np.linspace(0,213,8)[:-1])\n",
    "#plt.xticks(np.linspace(0,213,8)[:-1], ('Jan', 'Feb','Mar','Apr','May','Jun','Jul'))\n",
    "plt.xlabel(\"Month\",fontsize=20)\n",
    "plt.ylabel(\"Emoji\",fontsize=20)"
   ]
  },
  {
   "cell_type": "markdown",
   "id": "hollow-leather",
   "metadata": {},
   "source": [
    "## Text"
   ]
  },
  {
   "cell_type": "markdown",
   "id": "broke-arbor",
   "metadata": {},
   "source": [
    "Not the top 5 words from the bar chart but 5 words that make sense for the purpose of the chart"
   ]
  },
  {
   "cell_type": "code",
   "execution_count": 4,
   "id": "instrumental-shell",
   "metadata": {},
   "outputs": [],
   "source": [
    "def remove_emoticons(text):\n",
    "    emoticon_pattern = re.compile(u'(' + u'|'.join(k for k in EMOTICONS) + u')')\n",
    "    return emoticon_pattern.sub(r'', text)\n",
    "\n",
    "def remove_emoji(text):\n",
    "    emoji_pattern = re.compile(\"[\"\n",
    "                           u\"\\U0001F600-\\U0001F64F\"  # emoticons\n",
    "                           u\"\\U0001F300-\\U0001F5FF\"  # symbols & pictographs\n",
    "                           u\"\\U0001F680-\\U0001F6FF\"  # transport & map symbols\n",
    "                           u\"\\U0001F1E0-\\U0001F1FF\"  # flags (iOS)\n",
    "                           u\"\\U00002702-\\U000027B0\"\n",
    "                           u\"\\U000024C2-\\U0001F251\"\n",
    "                           \"]+\", flags=re.UNICODE)\n",
    "    return emoji_pattern.sub(r'', text)\n",
    "\n",
    "def remove_urls(text):\n",
    "    result = re.sub(r\"http\\S+\", \"\", text)\n",
    "    return(result)\n",
    "\n",
    "def remove_twitter_urls(text):\n",
    "    clean = re.sub(r\"pic.twitter\\S+\", \"\",text)\n",
    "    return(clean)\n",
    "\n",
    "def give_emoji_free_text(text):\n",
    "    return emoji.get_emoji_regexp().sub(r'', text)\n",
    "\n",
    "def noamp(text):\n",
    "    clean = re.sub(\"&amp\", \" \",text)\n",
    "    return (clean)"
   ]
  },
  {
   "cell_type": "code",
   "execution_count": null,
   "id": "casual-bloom",
   "metadata": {},
   "outputs": [],
   "source": [
    "\n",
    "word_list = [\"cases\",\"coronavirus\",\"lockdown\",\"china\",\"pandemic\"]\n",
    "wlist = []\n",
    "index=0\n",
    "dates = []\n",
    "for element in data:\n",
    "    data[index]['full_text'] = data[index]['full_text'].lower()                   # Put everything in lowercase\n",
    "    #data[index]['full_text'] = contractions.fix(data[index]['full_text'])\n",
    "    data[index]['full_text'] = re.sub(\"\\'\\w+\", '', data[index]['full_text'])      # Remove everything after '\n",
    "    data[index]['full_text'] = remove_urls(data[index]['full_text'])\n",
    "    data[index]['full_text'] = remove_twitter_urls(data[index]['full_text'])\n",
    "    data[index]['full_text'] = remove_emoticons(data[index]['full_text'])\n",
    "    data[index]['full_text'] = remove_emoji(data[index]['full_text'])\n",
    "    data[index]['full_text'] = give_emoji_free_text(data[index]['full_text'])\n",
    "    data[index]['full_text'] = noamp(data[index]['full_text'])                    # No amp with space\n",
    "    data[index]['full_text'] = re.sub(\"#\\S+\", \" \",  data[index]['full_text'])     # Remove hashtags\n",
    "    data[index]['full_text'] = re.sub(\"@\\S+\", \" \",  data[index]['full_text'])     # No mentions\n",
    "    data[index]['full_text'] = data[index]['full_text'].translate(str.maketrans('', '', string.punctuation)) # No puntuaction\n",
    "    data[index]['full_text'] = data[index]['full_text'].encode('ascii', 'ignore').decode() # No unicode\n",
    "    data[index]['full_text'] = re.sub(\"^rt \", \" \", data[index]['full_text'])      # No RT\n",
    "    data[index]['full_text'] = re.sub('\\s{2,}', \" \", data[index]['full_text'])    # Remove big spaces\n",
    "\n",
    "    \n",
    "    tokens=data[index]['full_text'].split()\n",
    "    for t in tokens:\n",
    "        if t in word_list:\n",
    "            wlist.append(t)\n",
    "            token=data[index]['created_at']\n",
    "            d = parse(token)\n",
    "            d = d.strftime('%Y/%m/%d')\n",
    "            dates.append(d)\n",
    "\n",
    "    index=index+1\n",
    "    \n",
    "    \n",
    "df_text = pd.DataFrame(\n",
    "    {'Date': dates,\n",
    "    'Words': wlist\n",
    "    })\n",
    "\n",
    "df_text['Date']= pd.to_datetime(df_text['Date'])"
   ]
  },
  {
   "cell_type": "code",
   "execution_count": null,
   "id": "brave-mistress",
   "metadata": {},
   "outputs": [],
   "source": [
    "\n",
    "plt.figure(figsize=(20,15))\n",
    "ax = sns.stripplot(x=\"Date\", y=\"Words\", data=df_text, jitter=0.35, orient='h', marker=\"D\")\n",
    "#print(np.linspace(0,213,8)[:-1])\n",
    "#plt.xticks(np.linspace(0,213,8)[:-1], ('Jan', 'Feb','Mar','Apr','May','Jun','Jul'))\n",
    "plt.xlabel(\"Month\",fontsize=20)\n",
    "plt.ylabel(\"Words\",fontsize=20)"
   ]
  },
  {
   "cell_type": "markdown",
   "id": "residential-granny",
   "metadata": {},
   "source": [
    "## Bigrams"
   ]
  },
  {
   "cell_type": "code",
   "execution_count": null,
   "id": "mounted-mozambique",
   "metadata": {},
   "outputs": [],
   "source": [
    "from nltk.corpus import stopwords\n",
    "import contractions\n",
    "\n",
    "index=0\n",
    "stop_words = stopwords.words('english')\n",
    "listab = [(\"social\", \"distancing\"),(\"stay\", \"home\"), (\"tested\", \"positive\"), (\"corona\", \"virus\"), (\"coronavirus\", \"cases\")]\n",
    "new_bigram=[]\n",
    "datesb = []\n",
    "for element in data:\n",
    "    data[index]['full_text'] = data[index]['full_text'].lower()                              # Put everything in lowercase\n",
    "    data[index]['full_text'] = contractions.fix(data[index]['full_text'])\n",
    "    #data[index]['full_text'] = re.sub(\"\\'\\w+\", '', data[index]['full_text'])                # Remove everything after '\n",
    "    data[index]['full_text'] = remove_urls(data[index]['full_text'])\n",
    "    data[index]['full_text'] = remove_twitter_urls(data[index]['full_text'])\n",
    "    data[index]['full_text'] = remove_emoticons(data[index]['full_text'])\n",
    "    data[index]['full_text'] = remove_emoji(data[index]['full_text'])\n",
    "    data[index]['full_text'] = give_emoji_free_text(data[index]['full_text'])\n",
    "    data[index]['full_text'] = noamp(data[index]['full_text'])                               # No amp with space\n",
    "    data[index]['full_text'] = re.sub(\"#\\S+\", \" \",  data[index]['full_text'])                # Remove hashtags\n",
    "    data[index]['full_text'] = re.sub(\"@\\S+\", \" \",  data[index]['full_text'])                # No mentions\n",
    "    data[index]['full_text'] = data[index]['full_text'].translate(str.maketrans('', '', string.punctuation)) # No puntuaction\n",
    "    data[index]['full_text'] = data[index]['full_text'].encode('ascii', 'ignore').decode()   # No unicode\n",
    "    data[index]['full_text'] = re.sub(\"^rt \", \" \", data[index]['full_text'])                 # No RT\n",
    "    data[index]['full_text'] = re.sub('\\s{2,}', \" \", data[index]['full_text'])               # Remove big spaces\n",
    "    bigram_tokens=list(nltk.bigrams(nltk.word_tokenize(data[index]['full_text'])))\n",
    "    #print(bigram_tokens)\n",
    "    clean_bigram_tokens = [gram for gram in bigram_tokens if not any(stop in gram for stop in stop_words)]\n",
    "    for c in clean_bigram_tokens:\n",
    "        if c in listab:\n",
    "            new_bigram.append(c[0]+\" \"+c[1])\n",
    "            token=data[index]['created_at']\n",
    "            d = parse(token)\n",
    "            d = d.strftime('%Y/%m/%d')\n",
    "            datesb.append(d)\n",
    "    index=index+1\n",
    "    \n",
    "    \n",
    "df_bi = pd.DataFrame(\n",
    "    {'Date': datesb,\n",
    "    'Bigrams': new_bigram\n",
    "    })\n",
    "\n",
    "df_bi['Date']= pd.to_datetime(df_bi['Date'])\n",
    "\n"
   ]
  },
  {
   "cell_type": "code",
   "execution_count": null,
   "id": "promotional-shepherd",
   "metadata": {},
   "outputs": [],
   "source": [
    "plt.figure(figsize=(20,15))\n",
    "ax = sns.stripplot(x=\"Date\", y=\"Bigrams\", data=df_bi, jitter=0.35, orient='h', marker=\"D\")\n",
    "#print(np.linspace(0,213,8)[:-1])\n",
    "#plt.xticks(np.linspace(0,213,8)[:-1], ('Jan', 'Feb','Mar','Apr','May','Jun','Jul'))\n",
    "plt.xlabel(\"Month\",fontsize=20)\n",
    "plt.ylabel(\"Bigrams\",fontsize=20)"
   ]
  },
  {
   "cell_type": "markdown",
   "id": "dedicated-chapel",
   "metadata": {},
   "source": [
    "## Trigrams - da finire"
   ]
  },
  {
   "cell_type": "code",
   "execution_count": 9,
   "id": "affected-deployment",
   "metadata": {},
   "outputs": [],
   "source": [
    "from nltk.corpus import stopwords\n",
    "import contractions\n",
    "\n",
    "index_tri=0\n",
    "stop_words_tri = stopwords.words('english')\n",
    "listat = [(\"new\", \"coronavirus\", \"cases\"),(\"black\", \"lives\", \"matter\"), (\"let\", \"us\", \"see\"), (\"last\", \"24\", \"hours\"), (\"coronavirus\", \"death\", \"toll\")]\n",
    "new_trigram=[]\n",
    "datest=[]\n",
    "for element in data:\n",
    "    data[index_tri]['full_text'] = data[index_tri]['full_text'].lower()                   # Put everything in lowercase\n",
    "    data[index_tri]['full_text'] = contractions.fix(data[index_tri]['full_text'])\n",
    "    #data[index_tri]['full_text'] = re.sub(\"\\'\\w+\", '', data[index_tri]['full_text'])     # Remove everything after '\n",
    "    data[index_tri]['full_text'] = remove_urls(data[index_tri]['full_text'])\n",
    "    data[index_tri]['full_text'] = remove_twitter_urls(data[index_tri]['full_text'])\n",
    "    data[index_tri]['full_text'] = remove_emoticons(data[index_tri]['full_text'])\n",
    "    data[index_tri]['full_text'] = remove_emoji(data[index_tri]['full_text'])\n",
    "    data[index_tri]['full_text'] = give_emoji_free_text(data[index_tri]['full_text'])\n",
    "    data[index_tri]['full_text'] = noamp(data[index_tri]['full_text'])                    # No amp with space\n",
    "    data[index_tri]['full_text'] = re.sub(\"#\\S+\", \" \",  data[index_tri]['full_text'])     # Remove hashtags\n",
    "    data[index_tri]['full_text'] = re.sub(\"@\\S+\", \" \",  data[index_tri]['full_text'])     # No mentions\n",
    "    data[index_tri]['full_text'] = data[index_tri]['full_text'].translate(str.maketrans('', '', string.punctuation)) # No puntuaction\n",
    "    data[index_tri]['full_text'] = data[index_tri]['full_text'].encode('ascii', 'ignore').decode() # No unicode\n",
    "    data[index_tri]['full_text'] = re.sub(\"^rt \", \" \", data[index_tri]['full_text'])      # No RT\n",
    "    data[index_tri]['full_text'] = re.sub(r'\\b\\d\\b', lambda x: num2words.num2words(int(x.group(0))), data[index_tri]['full_text'])\n",
    "    data[index_tri]['full_text'] = re.sub('\\s{2,}', \" \", data[index_tri]['full_text'])    # Remove big spaces\n",
    "    trigram_tokens=list(nltk.trigrams(nltk.word_tokenize(data[index_tri]['full_text'])))\n",
    "    #print(trigram_tokens)\n",
    "    clean_trigram_tokens = [gram for gram in trigram_tokens if not any(stop in gram for stop in stop_words_tri)]\n",
    "    for c in clean_trigram_tokens:\n",
    "        if c in listat:\n",
    "            new_trigram.append(c[0]+\" \"+c[1]+\" \"+c[2])\n",
    "            token=data[index_tri]['created_at']\n",
    "            d = parse(token)\n",
    "            d = d.strftime('%Y/%m/%d')\n",
    "            datest.append(d)\n",
    "            \n",
    "    index_tri=index_tri+1\n",
    "\n",
    "df_tri = pd.DataFrame(\n",
    "    {'Date': datest,\n",
    "    'Trigrams': new_trigram\n",
    "    })\n",
    "\n",
    "df_tri['Date']= pd.to_datetime(df_tri['Date'])\n",
    "\n",
    "\n"
   ]
  },
  {
   "cell_type": "code",
   "execution_count": 10,
   "id": "induced-driver",
   "metadata": {},
   "outputs": [
    {
     "data": {
      "text/plain": [
       "Text(0, 0.5, 'Trigrams')"
      ]
     },
     "execution_count": 10,
     "metadata": {},
     "output_type": "execute_result"
    },
    {
     "data": {
      "image/png": "[encoded data removed]",
      "text/plain": [
       "<Figure size 1440x1080 with 1 Axes>"
      ]
     },
     "metadata": {
      "needs_background": "light"
     },
     "output_type": "display_data"
    }
   ],
   "source": [
    "plt.figure(figsize=(20,15))\n",
    "ax = sns.stripplot(x=\"Date\", y=\"Trigrams\", data=df_tri, jitter=0.35, orient='h', marker=\"D\")\n",
    "#print(np.linspace(0,213,8)[:-1])\n",
    "#plt.xticks(np.linspace(0,213,8)[:-1], ('Jan', 'Feb','Mar','Apr','May','Jun','Jul'))\n",
    "plt.xlabel(\"Month\",fontsize=20)\n",
    "plt.ylabel(\"Trigrams\",fontsize=20)"
   ]
  },
  {
   "cell_type": "code",
   "execution_count": null,
   "id": "greater-dakota",
   "metadata": {},
   "outputs": [],
   "source": []
  }
 ],
 "metadata": {
  "kernelspec": {
   "display_name": "Python 3",
   "language": "python",
   "name": "python3"
  },
  "language_info": {
   "codemirror_mode": {
    "name": "ipython",
    "version": 3
   },
   "file_extension": ".py",
   "mimetype": "text/x-python",
   "name": "python",
   "nbconvert_exporter": "python",
   "pygments_lexer": "ipython3",
   "version": "3.9.2"
  }
 },
 "nbformat": 4,
 "nbformat_minor": 5
}

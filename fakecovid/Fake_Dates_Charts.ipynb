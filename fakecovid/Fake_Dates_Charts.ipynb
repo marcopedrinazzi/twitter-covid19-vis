{
 "cells": [
  {
   "cell_type": "markdown",
   "id": "potential-surrey",
   "metadata": {},
   "source": [
    "# Dates Bar Charts - Fake Covid-19 Dataset"
   ]
  },
  {
   "cell_type": "markdown",
   "id": "about-easter",
   "metadata": {},
   "source": [
    "### fake_dates_bar_chart.py and fake_dates_area_chart.py"
   ]
  },
  {
   "cell_type": "markdown",
   "id": "polyphonic-virgin",
   "metadata": {},
   "source": [
    "In order to create the bar and area charts, we need the following packages:"
   ]
  },
  {
   "cell_type": "code",
   "execution_count": 1,
   "id": "comparable-ferry",
   "metadata": {},
   "outputs": [],
   "source": [
    "from collections import Counter\n",
    "import pandas as pd\n",
    "#import numpy as np\n",
    "import json\n",
    "#import sys\n",
    "#import string\n",
    "#import re\n",
    "import itertools  \n",
    "#from emot.emo_unicode import UNICODE_EMO, EMOTICONS\n",
    "#import emoji\n",
    "#from wordcloud import WordCloud, STOPWORDS\n",
    "#import matplotlib.pyplot as plt \n",
    "import nltk\n",
    "#from PIL import Image\n",
    "import altair as alt\n",
    "import csv\n",
    "#import itertools"
   ]
  },
  {
   "cell_type": "markdown",
   "id": "asian-netherlands",
   "metadata": {},
   "source": [
    "To read the JSON file that has all the tweets, it is necessary to do:"
   ]
  },
  {
   "cell_type": "code",
   "execution_count": 2,
   "id": "approved-stack",
   "metadata": {},
   "outputs": [],
   "source": [
    "data = []\n",
    "with open('dataset/fakecovid_result_translated_full.json', 'r') as f:\n",
    "    for line in f:\n",
    "        data.append(json.loads(line))"
   ]
  },
  {
   "cell_type": "markdown",
   "id": "monetary-syracuse",
   "metadata": {},
   "source": [
    "### Bar chart: \"Number of Tweets per day of the week\""
   ]
  },
  {
   "cell_type": "markdown",
   "id": "certified-kenya",
   "metadata": {},
   "source": [
    "We're interested in the \"created_at\" field:"
   ]
  },
  {
   "cell_type": "code",
   "execution_count": 3,
   "id": "central-freedom",
   "metadata": {},
   "outputs": [],
   "source": [
    "index = 0\n",
    "new = []\n",
    "for element in data:\n",
    "    token = data[index]['created_at']\n",
    "    new.append(token[0:3])\n",
    "    index = index + 1\n",
    "\n",
    "#print(new)\n",
    "#print(len(new))\n",
    "\n",
    "count = Counter(new)\n",
    "#print(count)"
   ]
  },
  {
   "cell_type": "markdown",
   "id": "verbal-spirit",
   "metadata": {},
   "source": [
    "The bar chart is created:"
   ]
  },
  {
   "cell_type": "code",
   "execution_count": 4,
   "id": "royal-vertex",
   "metadata": {},
   "outputs": [
    {
     "name": "stdout",
     "output_type": "stream",
     "text": [
      "   Day  Tweet count\n",
      "0  Tue          242\n",
      "1  Sat          176\n",
      "2  Sun          194\n",
      "3  Wed          259\n",
      "4  Thu          231\n",
      "5  Fri          201\n",
      "6  Mon          248\n",
      "Displaying chart at http://localhost:20856/\n"
     ]
    }
   ],
   "source": [
    "df = pd.DataFrame.from_dict(count, orient='index').reset_index()\n",
    "df = df.rename(columns={'index':'Day',0:'Tweet count'})\n",
    "\n",
    "print(df)\n",
    "\n",
    "chart = alt.Chart(df).mark_bar().encode(\n",
    "    x = alt.X('Tweet count:Q'),\n",
    "    y = alt.Y('Day', sort = ['Mon','Tue','Wed','Thu','Fri','Sat','Sun']),\n",
    "    color=alt.Color('Tweet count:Q',scale=alt.Scale(scheme=\"blues\"))\n",
    ").transform_window(\n",
    "    rank='rank(count)',\n",
    "    sort=[alt.SortField('count', order='descending')]\n",
    ").properties(width=700, height=300,  title = \"Number of Tweets per day of the week\")\n",
    "\n",
    "chart.show()"
   ]
  },
  {
   "cell_type": "markdown",
   "id": "standard-runner",
   "metadata": {},
   "source": [
    "### Area chart: \"Trend of the number of Tweets during the year\""
   ]
  },
  {
   "cell_type": "markdown",
   "id": "junior-mauritius",
   "metadata": {},
   "source": [
    "We're interested in the \"created_at\" field:"
   ]
  },
  {
   "cell_type": "code",
   "execution_count": 5,
   "id": "pregnant-direction",
   "metadata": {},
   "outputs": [],
   "source": [
    "index = 0\n",
    "new = []\n",
    "for element in data:\n",
    "    token = data[index]['created_at']\n",
    "    new.append(token[4:7])\n",
    "    index = index + 1\n",
    "\n",
    "#print(new)\n",
    "#print(len(new))\n",
    "\n",
    "count = Counter(new)\n",
    "#print(count)"
   ]
  },
  {
   "cell_type": "markdown",
   "id": "following-examination",
   "metadata": {},
   "source": [
    "The area chart is created:"
   ]
  },
  {
   "cell_type": "code",
   "execution_count": 6,
   "id": "atlantic-rates",
   "metadata": {},
   "outputs": [
    {
     "name": "stdout",
     "output_type": "stream",
     "text": [
      "  Month  Tweet count\n",
      "0   Feb           92\n",
      "1   Mar          597\n",
      "2   Apr          381\n",
      "3   May          237\n",
      "4   Jun           85\n",
      "5   Jul           38\n",
      "6   Aug           44\n",
      "7   Jan           76\n",
      "8   Sep            1\n",
      "Displaying chart at http://localhost:20856/\n"
     ]
    }
   ],
   "source": [
    "df = pd.DataFrame.from_dict(count, orient='index').reset_index()\n",
    "df = df.rename(columns={'index':'Month',0:'Tweet count'})\n",
    "\n",
    "print(df)\n",
    "\n",
    "chart = alt.Chart(df).mark_area(\n",
    "    point= True,\n",
    "    line={'color':'dodgerblue'},\n",
    "    color=alt.Gradient(\n",
    "        gradient='linear',\n",
    "        stops=[alt.GradientStop(color='white', offset=0),\n",
    "               alt.GradientStop(color='mediumturquoise', offset=1)],\n",
    "        x1=1,\n",
    "        x2=1,\n",
    "        y1=1,\n",
    "        y2=0\n",
    "    )\n",
    ").properties(width=500, height=300,  title = \"Trend of the number of Tweets during the year\").encode(\n",
    "    alt.X('Month', sort = ['Jan','Feb','Mar','Apr','May','Jun','Jul','Aug','Sep']),\n",
    "    alt.Y('Tweet count:Q'),\n",
    "    tooltip=['Month', 'Tweet count']\n",
    ").interactive()\n",
    "\n",
    "chart.show()"
   ]
  },
  {
   "cell_type": "markdown",
   "id": "enormous-piano",
   "metadata": {},
   "source": [
    "# Marco"
   ]
  },
  {
   "cell_type": "code",
   "execution_count": 7,
   "id": "floral-oakland",
   "metadata": {},
   "outputs": [
    {
     "data": {
      "text/html": [
       "\n",
       "<div id=\"altair-viz-5b82b8a7ef0d4e65a3ae45580f5afd70\"></div>\n",
       "<script type=\"text/javascript\">\n",
       "  (function(spec, embedOpt){\n",
       "    let outputDiv = document.currentScript.previousElementSibling;\n",
       "    if (outputDiv.id !== \"altair-viz-5b82b8a7ef0d4e65a3ae45580f5afd70\") {\n",
       "      outputDiv = document.getElementById(\"altair-viz-5b82b8a7ef0d4e65a3ae45580f5afd70\");\n",
       "    }\n",
       "    const paths = {\n",
       "      \"vega\": \"https://cdn.jsdelivr.net/npm//vega@5?noext\",\n",
       "      \"vega-lib\": \"https://cdn.jsdelivr.net/npm//vega-lib?noext\",\n",
       "      \"vega-lite\": \"https://cdn.jsdelivr.net/npm//vega-lite@4.8.1?noext\",\n",
       "      \"vega-embed\": \"https://cdn.jsdelivr.net/npm//vega-embed@6?noext\",\n",
       "    };\n",
       "\n",
       "    function loadScript(lib) {\n",
       "      return new Promise(function(resolve, reject) {\n",
       "        var s = document.createElement('script');\n",
       "        s.src = paths[lib];\n",
       "        s.async = true;\n",
       "        s.onload = () => resolve(paths[lib]);\n",
       "        s.onerror = () => reject(`Error loading script: ${paths[lib]}`);\n",
       "        document.getElementsByTagName(\"head\")[0].appendChild(s);\n",
       "      });\n",
       "    }\n",
       "\n",
       "    function showError(err) {\n",
       "      outputDiv.innerHTML = `<div class=\"error\" style=\"color:red;\">${err}</div>`;\n",
       "      throw err;\n",
       "    }\n",
       "\n",
       "    function displayChart(vegaEmbed) {\n",
       "      vegaEmbed(outputDiv, spec, embedOpt)\n",
       "        .catch(err => showError(`Javascript Error: ${err.message}<br>This usually means there's a typo in your chart specification. See the javascript console for the full traceback.`));\n",
       "    }\n",
       "\n",
       "    if(typeof define === \"function\" && define.amd) {\n",
       "      requirejs.config({paths});\n",
       "      require([\"vega-embed\"], displayChart, err => showError(`Error loading script: ${err.message}`));\n",
       "    } else if (typeof vegaEmbed === \"function\") {\n",
       "      displayChart(vegaEmbed);\n",
       "    } else {\n",
       "      loadScript(\"vega\")\n",
       "        .then(() => loadScript(\"vega-lite\"))\n",
       "        .then(() => loadScript(\"vega-embed\"))\n",
       "        .catch(showError)\n",
       "        .then(() => displayChart(vegaEmbed));\n",
       "    }\n",
       "  })({\"config\": {\"view\": {\"continuousWidth\": 400, \"continuousHeight\": 300}}, \"data\": {\"name\": \"data-80530d58c424d6d585b6567455696d01\"}, \"mark\": \"bar\", \"encoding\": {\"color\": {\"type\": \"nominal\", \"field\": \"key\"}, \"x\": {\"type\": \"quantitative\", \"field\": \"value\"}, \"y\": {\"type\": \"nominal\", \"field\": \"month\"}}, \"title\": \"aaa\", \"transform\": [{\"fold\": [\"Count False Tweets\", \"Count Partially False Tweets\", \"Count Unproven Tweets\", \"Counter Other Tweets\", \"Counter True Tweets\"]}, {\"filter\": {\"field\": \"count\", \"range\": [1, 1000]}}], \"$schema\": \"https://vega.github.io/schema/vega-lite/v4.8.1.json\", \"datasets\": {\"data-80530d58c424d6d585b6567455696d01\": [{\"month\": \"Mar\", \"count\": 597, \"Count False Tweets\": 465, \"Count Partially False Tweets\": 102, \"Count Unproven Tweets\": 7, \"Counter Other Tweets\": 9, \"Counter True Tweets\": 14}, {\"month\": \"Apr\", \"count\": 381, \"Count False Tweets\": 302, \"Count Partially False Tweets\": 55, \"Count Unproven Tweets\": 6, \"Counter Other Tweets\": 5, \"Counter True Tweets\": 13}, {\"month\": \"May\", \"count\": 237, \"Count False Tweets\": 187, \"Count Partially False Tweets\": 43, \"Count Unproven Tweets\": 1, \"Counter Other Tweets\": 1, \"Counter True Tweets\": 5}, {\"month\": \"Feb\", \"count\": 92, \"Count False Tweets\": 61, \"Count Partially False Tweets\": 23, \"Count Unproven Tweets\": 1, \"Counter Other Tweets\": 4, \"Counter True Tweets\": 3}, {\"month\": \"Jun\", \"count\": 85, \"Count False Tweets\": 58, \"Count Partially False Tweets\": 25, \"Count Unproven Tweets\": 1, \"Counter Other Tweets\": 0, \"Counter True Tweets\": 1}, {\"month\": \"Jan\", \"count\": 76, \"Count False Tweets\": 47, \"Count Partially False Tweets\": 14, \"Count Unproven Tweets\": 4, \"Counter Other Tweets\": 11, \"Counter True Tweets\": 0}, {\"month\": \"Aug\", \"count\": 44, \"Count False Tweets\": 27, \"Count Partially False Tweets\": 14, \"Count Unproven Tweets\": 1, \"Counter Other Tweets\": 2, \"Counter True Tweets\": 0}, {\"month\": \"Jul\", \"count\": 38, \"Count False Tweets\": 26, \"Count Partially False Tweets\": 10, \"Count Unproven Tweets\": 0, \"Counter Other Tweets\": 1, \"Counter True Tweets\": 1}, {\"month\": \"Sep\", \"count\": 1, \"Count False Tweets\": 1, \"Count Partially False Tweets\": 0, \"Count Unproven Tweets\": 0, \"Counter Other Tweets\": 0, \"Counter True Tweets\": 0}, {\"month\": \"May\", \"count\": 0, \"Count False Tweets\": 0, \"Count Partially False Tweets\": 0, \"Count Unproven Tweets\": 0, \"Counter Other Tweets\": 0, \"Counter True Tweets\": 0}, {\"month\": \"Apr\", \"count\": 0, \"Count False Tweets\": 0, \"Count Partially False Tweets\": 0, \"Count Unproven Tweets\": 0, \"Counter Other Tweets\": 0, \"Counter True Tweets\": 0}, {\"month\": \"Apr\", \"count\": 0, \"Count False Tweets\": 0, \"Count Partially False Tweets\": 0, \"Count Unproven Tweets\": 0, \"Counter Other Tweets\": 0, \"Counter True Tweets\": 0}, {\"month\": \"Jul\", \"count\": 0, \"Count False Tweets\": 0, \"Count Partially False Tweets\": 0, \"Count Unproven Tweets\": 0, \"Counter Other Tweets\": 0, \"Counter True Tweets\": 0}, {\"month\": \"Mar\", \"count\": 0, \"Count False Tweets\": 0, \"Count Partially False Tweets\": 0, \"Count Unproven Tweets\": 0, \"Counter Other Tweets\": 0, \"Counter True Tweets\": 0}, {\"month\": \"Jun\", \"count\": 0, \"Count False Tweets\": 0, \"Count Partially False Tweets\": 0, \"Count Unproven Tweets\": 0, \"Counter Other Tweets\": 0, \"Counter True Tweets\": 0}, {\"month\": \"Mar\", \"count\": 0, \"Count False Tweets\": 0, \"Count Partially False Tweets\": 0, \"Count Unproven Tweets\": 0, \"Counter Other Tweets\": 0, \"Counter True Tweets\": 0}, {\"month\": \"Feb\", \"count\": 0, \"Count False Tweets\": 0, \"Count Partially False Tweets\": 0, \"Count Unproven Tweets\": 0, \"Counter Other Tweets\": 0, \"Counter True Tweets\": 0}, {\"month\": \"Jan\", \"count\": 0, \"Count False Tweets\": 0, \"Count Partially False Tweets\": 0, \"Count Unproven Tweets\": 0, \"Counter Other Tweets\": 0, \"Counter True Tweets\": 0}, {\"month\": \"Jan\", \"count\": 0, \"Count False Tweets\": 0, \"Count Partially False Tweets\": 0, \"Count Unproven Tweets\": 0, \"Counter Other Tweets\": 0, \"Counter True Tweets\": 0}, {\"month\": \"May\", \"count\": 0, \"Count False Tweets\": 0, \"Count Partially False Tweets\": 0, \"Count Unproven Tweets\": 0, \"Counter Other Tweets\": 0, \"Counter True Tweets\": 0}, {\"month\": \"Feb\", \"count\": 0, \"Count False Tweets\": 0, \"Count Partially False Tweets\": 0, \"Count Unproven Tweets\": 0, \"Counter Other Tweets\": 0, \"Counter True Tweets\": 0}, {\"month\": \"Jul\", \"count\": 0, \"Count False Tweets\": 0, \"Count Partially False Tweets\": 0, \"Count Unproven Tweets\": 0, \"Counter Other Tweets\": 0, \"Counter True Tweets\": 0}, {\"month\": \"Feb\", \"count\": 0, \"Count False Tweets\": 0, \"Count Partially False Tweets\": 0, \"Count Unproven Tweets\": 0, \"Counter Other Tweets\": 0, \"Counter True Tweets\": 0}, {\"month\": \"May\", \"count\": 0, \"Count False Tweets\": 0, \"Count Partially False Tweets\": 0, \"Count Unproven Tweets\": 0, \"Counter Other Tweets\": 0, \"Counter True Tweets\": 0}, {\"month\": \"Feb\", \"count\": 0, \"Count False Tweets\": 0, \"Count Partially False Tweets\": 0, \"Count Unproven Tweets\": 0, \"Counter Other Tweets\": 0, \"Counter True Tweets\": 0}, {\"month\": \"Apr\", \"count\": 0, \"Count False Tweets\": 0, \"Count Partially False Tweets\": 0, \"Count Unproven Tweets\": 0, \"Counter Other Tweets\": 0, \"Counter True Tweets\": 0}, {\"month\": \"Aug\", \"count\": 0, \"Count False Tweets\": 0, \"Count Partially False Tweets\": 0, \"Count Unproven Tweets\": 0, \"Counter Other Tweets\": 0, \"Counter True Tweets\": 0}, {\"month\": \"Aug\", \"count\": 0, \"Count False Tweets\": 0, \"Count Partially False Tweets\": 0, \"Count Unproven Tweets\": 0, \"Counter Other Tweets\": 0, \"Counter True Tweets\": 0}, {\"month\": \"Apr\", \"count\": 0, \"Count False Tweets\": 0, \"Count Partially False Tweets\": 0, \"Count Unproven Tweets\": 0, \"Counter Other Tweets\": 0, \"Counter True Tweets\": 0}, {\"month\": \"Jan\", \"count\": 0, \"Count False Tweets\": 0, \"Count Partially False Tweets\": 0, \"Count Unproven Tweets\": 0, \"Counter Other Tweets\": 0, \"Counter True Tweets\": 0}, {\"month\": \"Aug\", \"count\": 0, \"Count False Tweets\": 0, \"Count Partially False Tweets\": 0, \"Count Unproven Tweets\": 0, \"Counter Other Tweets\": 0, \"Counter True Tweets\": 0}, {\"month\": \"Jul\", \"count\": 0, \"Count False Tweets\": 0, \"Count Partially False Tweets\": 0, \"Count Unproven Tweets\": 0, \"Counter Other Tweets\": 0, \"Counter True Tweets\": 0}, {\"month\": \"Jun\", \"count\": 0, \"Count False Tweets\": 0, \"Count Partially False Tweets\": 0, \"Count Unproven Tweets\": 0, \"Counter Other Tweets\": 0, \"Counter True Tweets\": 0}, {\"month\": \"May\", \"count\": 0, \"Count False Tweets\": 0, \"Count Partially False Tweets\": 0, \"Count Unproven Tweets\": 0, \"Counter Other Tweets\": 0, \"Counter True Tweets\": 0}, {\"month\": \"Mar\", \"count\": 0, \"Count False Tweets\": 0, \"Count Partially False Tweets\": 0, \"Count Unproven Tweets\": 0, \"Counter Other Tweets\": 0, \"Counter True Tweets\": 0}, {\"month\": \"Mar\", \"count\": 0, \"Count False Tweets\": 0, \"Count Partially False Tweets\": 0, \"Count Unproven Tweets\": 0, \"Counter Other Tweets\": 0, \"Counter True Tweets\": 0}, {\"month\": \"Jun\", \"count\": 0, \"Count False Tweets\": 0, \"Count Partially False Tweets\": 0, \"Count Unproven Tweets\": 0, \"Counter Other Tweets\": 0, \"Counter True Tweets\": 0}]}}, {\"mode\": \"vega-lite\"});\n",
       "</script>"
      ],
      "text/plain": [
       "alt.Chart(...)"
      ]
     },
     "execution_count": 7,
     "metadata": {},
     "output_type": "execute_result"
    }
   ],
   "source": [
    "csv_dataframe = pd.read_csv('dataset/fakecovid_filtered_dataset_clean.csv',sep=\";\")\n",
    "csv_dataframe['tweet_id'] = csv_dataframe['tweet_id'].astype(str)\n",
    "csv_list = csv_dataframe.values.tolist()\n",
    "lista_unica_csv=list(itertools.chain.from_iterable(csv_list))\n",
    "\n",
    "data = []\n",
    "with open('dataset/fakecovid_result_translated_full.json', 'r') as f:\n",
    "    for line in f:\n",
    "        data.append(json.loads(line))\n",
    "\n",
    "index=0\n",
    "cmt_list = []\n",
    "#stopwords = set(STOPWORDS) \n",
    "for element in data:\n",
    "    token_id = data[index]['id_str']\n",
    "    indice_csv = lista_unica_csv.index(token_id)\n",
    "    token = token=data[index]['created_at']\n",
    "    final_token = token[4:7] + \" \" +lista_unica_csv[indice_csv+1].lower().replace(\" \", \"\")\n",
    "    cmt_list.append(final_token)\n",
    "    index=index+1\n",
    "    \n",
    "#print(cmt_list)\n",
    "fdist = dict(nltk.FreqDist(cmt_list))\n",
    "df = pd.DataFrame.from_dict(fdist, orient='index').reset_index()\n",
    "df = df.rename(columns={'index':'month', 0:'count'})\n",
    "col_one_list = df['month'].tolist()\n",
    "col_two_list = df['count'].tolist()\n",
    "\n",
    "typelist=[]\n",
    "namelist=[]\n",
    "\n",
    "index = 0\n",
    "\n",
    "count_false = [0] * len(col_one_list)\n",
    "count_part = [0] * len(col_one_list)\n",
    "count_true = [0] * len(col_one_list)\n",
    "count_other = [0] * len(col_one_list)\n",
    "count_unproven = [0] * len(col_one_list)\n",
    "#print(\"count false len \"+str(len(count_false)))\n",
    "\n",
    "for el in col_one_list:\n",
    "    tok = el.split()\n",
    "    namelist.append(tok[0])\n",
    "    #typelist.append(tok[1])\n",
    "    if tok[0] in namelist:\n",
    "        indx = namelist.index(tok[0])\n",
    "        if tok[1] == \"false\":\n",
    "            count_false[indx] = col_two_list[index]\n",
    "        elif tok[1] == \"partiallyfalse\":\n",
    "            count_part[indx] = col_two_list[index]\n",
    "        elif tok[1] == \"unproven\":\n",
    "            count_unproven[indx] = col_two_list[index]\n",
    "        elif tok[1] == \"others\":\n",
    "            count_other[indx] = col_two_list[index]\n",
    "        elif tok[1] == \"true\":\n",
    "            count_true[indx] = col_two_list[index]\n",
    "        else:\n",
    "            print(\"errore count\")\n",
    "   \n",
    "    index = index + 1\n",
    "\n",
    "i=0\n",
    "for el in col_two_list:\n",
    "    col_two_list[i] = count_false[i] + count_part[i] + count_unproven[i] + count_other[i] + count_true[i]\n",
    "    i = i + 1\n",
    "\n",
    "#print(\"count false len \"+str(len(count_false)))\n",
    "df['month']=namelist\n",
    "df['Count False Tweets']=count_false\n",
    "df['Count Partially False Tweets']=count_part\n",
    "df['Count Unproven Tweets']=count_unproven\n",
    "df['Counter Other Tweets']=count_other\n",
    "df['Counter True Tweets']=count_true\n",
    "df['count'] = col_two_list\n",
    "#del df['count']\n",
    "\n",
    "\n",
    "#df['type']=typelist\n",
    "\n",
    "df = df.sort_values(by=['count'],ascending=[False])\n",
    "\n",
    "#print(df.head(20))\n",
    "\n",
    "bars = alt.Chart(df).transform_fold(\n",
    "    ['Count False Tweets', 'Count Partially False Tweets', 'Count Unproven Tweets', 'Counter Other Tweets', 'Counter True Tweets'],\n",
    ").mark_bar().encode(\n",
    "    x=alt.X('value:Q'),\n",
    "    y=alt.Y('month:N'),\n",
    "    color=alt.Color('key:N')\n",
    ").transform_filter(\n",
    "    alt.FieldRangePredicate(field='count', range=[1, 1000])\n",
    ").properties(title=\"aaa\")\n",
    "\n",
    "\n",
    "bars"
   ]
  }
 ],
 "metadata": {
  "kernelspec": {
   "display_name": "Python 3",
   "language": "python",
   "name": "python3"
  },
  "language_info": {
   "codemirror_mode": {
    "name": "ipython",
    "version": 3
   },
   "file_extension": ".py",
   "mimetype": "text/x-python",
   "name": "python",
   "nbconvert_exporter": "python",
   "pygments_lexer": "ipython3",
   "version": "3.9.2"
  }
 },
 "nbformat": 4,
 "nbformat_minor": 5
}

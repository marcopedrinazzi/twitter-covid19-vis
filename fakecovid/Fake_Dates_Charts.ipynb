{
 "cells": [
  {
   "cell_type": "markdown",
   "id": "potential-surrey",
   "metadata": {},
   "source": [
    "# Dates Bar Charts - Fake Covid-19 Dataset"
   ]
  },
  {
   "cell_type": "markdown",
   "id": "about-easter",
   "metadata": {},
   "source": [
    "### fake_dates_bar_chart.py and fake_dates_area_chart.py"
   ]
  },
  {
   "cell_type": "markdown",
   "id": "polyphonic-virgin",
   "metadata": {},
   "source": [
    "In order to create the bar and area charts, we need the following packages:"
   ]
  },
  {
   "cell_type": "code",
   "execution_count": 1,
   "id": "comparable-ferry",
   "metadata": {},
   "outputs": [],
   "source": [
    "from collections import Counter\n",
    "import pandas as pd\n",
    "from dateutil.parser import parse\n",
    "import datetime\n",
    "#import numpy as np\n",
    "import json\n",
    "#import sys\n",
    "#import string\n",
    "#import re\n",
    "import itertools  \n",
    "#from emot.emo_unicode import UNICODE_EMO, EMOTICONS\n",
    "#import emoji\n",
    "#from wordcloud import WordCloud, STOPWORDS\n",
    "#import matplotlib.pyplot as plt \n",
    "import nltk\n",
    "#from PIL import Image\n",
    "import altair as alt\n",
    "import csv\n",
    "#import itertools"
   ]
  },
  {
   "cell_type": "markdown",
   "id": "asian-netherlands",
   "metadata": {},
   "source": [
    "To read the JSON file that has all the tweets, it is necessary to do:"
   ]
  },
  {
   "cell_type": "code",
   "execution_count": 2,
   "id": "approved-stack",
   "metadata": {},
   "outputs": [],
   "source": [
    "data = []\n",
    "with open('dataset/fakecovid_result_final_translated_full.json', 'r') as f:\n",
    "    for line in f:\n",
    "        data.append(json.loads(line))"
   ]
  },
  {
   "cell_type": "markdown",
   "id": "monetary-syracuse",
   "metadata": {},
   "source": [
    "### Bar chart: \"Number of Tweets per day of the week\""
   ]
  },
  {
   "cell_type": "markdown",
   "id": "certified-kenya",
   "metadata": {},
   "source": [
    "We're interested in the \"created_at\" field:"
   ]
  },
  {
   "cell_type": "code",
   "execution_count": 3,
   "id": "central-freedom",
   "metadata": {},
   "outputs": [],
   "source": [
    "index = 0\n",
    "new = []\n",
    "for element in data:\n",
    "    token = data[index]['created_at']\n",
    "    new.append(token[0:3])\n",
    "    index = index + 1\n",
    "\n",
    "#print(new)\n",
    "#print(len(new))\n",
    "\n",
    "count = Counter(new)\n",
    "#print(count)"
   ]
  },
  {
   "cell_type": "markdown",
   "id": "verbal-spirit",
   "metadata": {},
   "source": [
    "The bar chart is created:"
   ]
  },
  {
   "cell_type": "code",
   "execution_count": 4,
   "id": "royal-vertex",
   "metadata": {},
   "outputs": [
    {
     "data": {
      "text/html": [
       "\n",
       "<div id=\"altair-viz-23511b017f02450db01f69bab3c247da\"></div>\n",
       "<script type=\"text/javascript\">\n",
       "  (function(spec, embedOpt){\n",
       "    let outputDiv = document.currentScript.previousElementSibling;\n",
       "    if (outputDiv.id !== \"altair-viz-23511b017f02450db01f69bab3c247da\") {\n",
       "      outputDiv = document.getElementById(\"altair-viz-23511b017f02450db01f69bab3c247da\");\n",
       "    }\n",
       "    const paths = {\n",
       "      \"vega\": \"https://cdn.jsdelivr.net/npm//vega@5?noext\",\n",
       "      \"vega-lib\": \"https://cdn.jsdelivr.net/npm//vega-lib?noext\",\n",
       "      \"vega-lite\": \"https://cdn.jsdelivr.net/npm//vega-lite@4.8.1?noext\",\n",
       "      \"vega-embed\": \"https://cdn.jsdelivr.net/npm//vega-embed@6?noext\",\n",
       "    };\n",
       "\n",
       "    function loadScript(lib) {\n",
       "      return new Promise(function(resolve, reject) {\n",
       "        var s = document.createElement('script');\n",
       "        s.src = paths[lib];\n",
       "        s.async = true;\n",
       "        s.onload = () => resolve(paths[lib]);\n",
       "        s.onerror = () => reject(`Error loading script: ${paths[lib]}`);\n",
       "        document.getElementsByTagName(\"head\")[0].appendChild(s);\n",
       "      });\n",
       "    }\n",
       "\n",
       "    function showError(err) {\n",
       "      outputDiv.innerHTML = `<div class=\"error\" style=\"color:red;\">${err}</div>`;\n",
       "      throw err;\n",
       "    }\n",
       "\n",
       "    function displayChart(vegaEmbed) {\n",
       "      vegaEmbed(outputDiv, spec, embedOpt)\n",
       "        .catch(err => showError(`Javascript Error: ${err.message}<br>This usually means there's a typo in your chart specification. See the javascript console for the full traceback.`));\n",
       "    }\n",
       "\n",
       "    if(typeof define === \"function\" && define.amd) {\n",
       "      requirejs.config({paths});\n",
       "      require([\"vega-embed\"], displayChart, err => showError(`Error loading script: ${err.message}`));\n",
       "    } else if (typeof vegaEmbed === \"function\") {\n",
       "      displayChart(vegaEmbed);\n",
       "    } else {\n",
       "      loadScript(\"vega\")\n",
       "        .then(() => loadScript(\"vega-lite\"))\n",
       "        .then(() => loadScript(\"vega-embed\"))\n",
       "        .catch(showError)\n",
       "        .then(() => displayChart(vegaEmbed));\n",
       "    }\n",
       "  })({\"config\": {\"view\": {\"continuousWidth\": 400, \"continuousHeight\": 300}}, \"data\": {\"name\": \"data-a5038a8cfd20a25b3ac42e06f2d7f8c3\"}, \"mark\": \"bar\", \"encoding\": {\"color\": {\"type\": \"quantitative\", \"field\": \"Tweet count\", \"scale\": {\"scheme\": \"blues\"}}, \"x\": {\"type\": \"quantitative\", \"field\": \"Tweet count\"}, \"y\": {\"type\": \"nominal\", \"field\": \"Day\", \"sort\": [\"Mon\", \"Tue\", \"Wed\", \"Thu\", \"Fri\", \"Sat\", \"Sun\"]}}, \"height\": 300, \"title\": \"Number of Tweets per day of the week\", \"transform\": [{\"window\": [{\"op\": \"rank\", \"field\": \"count\", \"as\": \"rank\"}], \"sort\": [{\"field\": \"count\", \"order\": \"descending\"}]}], \"width\": 700, \"$schema\": \"https://vega.github.io/schema/vega-lite/v4.8.1.json\", \"datasets\": {\"data-a5038a8cfd20a25b3ac42e06f2d7f8c3\": [{\"Day\": \"Sun\", \"Tweet count\": 187}, {\"Day\": \"Tue\", \"Tweet count\": 230}, {\"Day\": \"Sat\", \"Tweet count\": 167}, {\"Day\": \"Wed\", \"Tweet count\": 241}, {\"Day\": \"Thu\", \"Tweet count\": 211}, {\"Day\": \"Fri\", \"Tweet count\": 189}, {\"Day\": \"Mon\", \"Tweet count\": 229}]}}, {\"mode\": \"vega-lite\"});\n",
       "</script>"
      ],
      "text/plain": [
       "alt.Chart(...)"
      ]
     },
     "execution_count": 4,
     "metadata": {},
     "output_type": "execute_result"
    }
   ],
   "source": [
    "df = pd.DataFrame.from_dict(count, orient='index').reset_index()\n",
    "df = df.rename(columns={'index':'Day',0:'Tweet count'})\n",
    "\n",
    "\n",
    "chart = alt.Chart(df).mark_bar().encode(\n",
    "    x = alt.X('Tweet count:Q'),\n",
    "    y = alt.Y('Day', sort = ['Mon','Tue','Wed','Thu','Fri','Sat','Sun']),\n",
    "    color=alt.Color('Tweet count:Q',scale=alt.Scale(scheme=\"blues\"))\n",
    ").transform_window(\n",
    "    rank='rank(count)',\n",
    "    sort=[alt.SortField('count', order='descending')]\n",
    ").properties(width=700, height=300,  title = \"Number of Tweets per day of the week\")\n",
    "\n",
    "chart"
   ]
  },
  {
   "cell_type": "markdown",
   "id": "standard-runner",
   "metadata": {},
   "source": [
    "### Area chart: \"Trend of the number of Tweets during the year\""
   ]
  },
  {
   "cell_type": "markdown",
   "id": "junior-mauritius",
   "metadata": {},
   "source": [
    "We're interested in the \"created_at\" field:"
   ]
  },
  {
   "cell_type": "code",
   "execution_count": 5,
   "id": "pregnant-direction",
   "metadata": {},
   "outputs": [],
   "source": [
    "index = 0\n",
    "new = []\n",
    "for element in data:\n",
    "    token = data[index]['created_at']\n",
    "    new.append(token[4:7])\n",
    "    index = index + 1\n",
    "\n",
    "#print(new)\n",
    "#print(len(new))\n",
    "\n",
    "count = Counter(new)\n",
    "#print(count)"
   ]
  },
  {
   "cell_type": "markdown",
   "id": "following-examination",
   "metadata": {},
   "source": [
    "The area chart is created:"
   ]
  },
  {
   "cell_type": "code",
   "execution_count": 6,
   "id": "atlantic-rates",
   "metadata": {},
   "outputs": [
    {
     "data": {
      "text/html": [
       "\n",
       "<div id=\"altair-viz-8c125f1884b4443296f1cae3c6ce36c6\"></div>\n",
       "<script type=\"text/javascript\">\n",
       "  (function(spec, embedOpt){\n",
       "    let outputDiv = document.currentScript.previousElementSibling;\n",
       "    if (outputDiv.id !== \"altair-viz-8c125f1884b4443296f1cae3c6ce36c6\") {\n",
       "      outputDiv = document.getElementById(\"altair-viz-8c125f1884b4443296f1cae3c6ce36c6\");\n",
       "    }\n",
       "    const paths = {\n",
       "      \"vega\": \"https://cdn.jsdelivr.net/npm//vega@5?noext\",\n",
       "      \"vega-lib\": \"https://cdn.jsdelivr.net/npm//vega-lib?noext\",\n",
       "      \"vega-lite\": \"https://cdn.jsdelivr.net/npm//vega-lite@4.8.1?noext\",\n",
       "      \"vega-embed\": \"https://cdn.jsdelivr.net/npm//vega-embed@6?noext\",\n",
       "    };\n",
       "\n",
       "    function loadScript(lib) {\n",
       "      return new Promise(function(resolve, reject) {\n",
       "        var s = document.createElement('script');\n",
       "        s.src = paths[lib];\n",
       "        s.async = true;\n",
       "        s.onload = () => resolve(paths[lib]);\n",
       "        s.onerror = () => reject(`Error loading script: ${paths[lib]}`);\n",
       "        document.getElementsByTagName(\"head\")[0].appendChild(s);\n",
       "      });\n",
       "    }\n",
       "\n",
       "    function showError(err) {\n",
       "      outputDiv.innerHTML = `<div class=\"error\" style=\"color:red;\">${err}</div>`;\n",
       "      throw err;\n",
       "    }\n",
       "\n",
       "    function displayChart(vegaEmbed) {\n",
       "      vegaEmbed(outputDiv, spec, embedOpt)\n",
       "        .catch(err => showError(`Javascript Error: ${err.message}<br>This usually means there's a typo in your chart specification. See the javascript console for the full traceback.`));\n",
       "    }\n",
       "\n",
       "    if(typeof define === \"function\" && define.amd) {\n",
       "      requirejs.config({paths});\n",
       "      require([\"vega-embed\"], displayChart, err => showError(`Error loading script: ${err.message}`));\n",
       "    } else if (typeof vegaEmbed === \"function\") {\n",
       "      displayChart(vegaEmbed);\n",
       "    } else {\n",
       "      loadScript(\"vega\")\n",
       "        .then(() => loadScript(\"vega-lite\"))\n",
       "        .then(() => loadScript(\"vega-embed\"))\n",
       "        .catch(showError)\n",
       "        .then(() => displayChart(vegaEmbed));\n",
       "    }\n",
       "  })({\"config\": {\"view\": {\"continuousWidth\": 400, \"continuousHeight\": 300}}, \"layer\": [{\"mark\": {\"type\": \"area\", \"color\": {\"gradient\": \"linear\", \"stops\": [{\"color\": \"white\", \"offset\": 0}, {\"color\": \"mediumturquoise\", \"offset\": 1}], \"x1\": 1, \"x2\": 1, \"y1\": 1, \"y2\": 0}, \"line\": {\"color\": \"dodgerblue\"}, \"point\": true}, \"encoding\": {\"x\": {\"type\": \"nominal\", \"field\": \"Month\", \"sort\": [\"Jan\", \"Feb\", \"Mar\", \"Apr\", \"May\", \"Jun\", \"Jul\", \"Aug\"]}, \"y\": {\"type\": \"quantitative\", \"field\": \"Tweet count\"}}, \"height\": 300, \"title\": \"Trend of the number of Tweets during the year\", \"width\": 700}, {\"mark\": \"point\", \"encoding\": {\"opacity\": {\"value\": 0}, \"x\": {\"type\": \"nominal\", \"field\": \"Month\", \"sort\": [\"Jan\", \"Feb\", \"Mar\", \"Apr\", \"May\", \"Jun\", \"Jul\", \"Aug\"]}}, \"selection\": {\"selector001\": {\"type\": \"single\", \"nearest\": true, \"on\": \"mouseover\", \"fields\": [\"Month\"], \"empty\": \"none\"}}}, {\"mark\": \"point\", \"encoding\": {\"opacity\": {\"condition\": {\"value\": 1, \"selection\": \"selector001\"}, \"value\": 0}, \"x\": {\"type\": \"nominal\", \"field\": \"Month\", \"sort\": [\"Jan\", \"Feb\", \"Mar\", \"Apr\", \"May\", \"Jun\", \"Jul\", \"Aug\"]}, \"y\": {\"type\": \"quantitative\", \"field\": \"Tweet count\"}}, \"height\": 300, \"title\": \"Trend of the number of Tweets during the year\", \"width\": 700}, {\"mark\": {\"type\": \"rule\", \"color\": \"gray\"}, \"encoding\": {\"x\": {\"type\": \"nominal\", \"field\": \"Month\", \"sort\": [\"Jan\", \"Feb\", \"Mar\", \"Apr\", \"May\", \"Jun\", \"Jul\", \"Aug\"]}}, \"transform\": [{\"filter\": {\"selection\": \"selector001\"}}]}, {\"mark\": {\"type\": \"text\", \"align\": \"left\", \"dx\": 5, \"dy\": -5}, \"encoding\": {\"text\": {\"condition\": {\"type\": \"quantitative\", \"field\": \"Tweet count\", \"selection\": \"selector001\"}, \"value\": \" \"}, \"x\": {\"type\": \"nominal\", \"field\": \"Month\", \"sort\": [\"Jan\", \"Feb\", \"Mar\", \"Apr\", \"May\", \"Jun\", \"Jul\", \"Aug\"]}, \"y\": {\"type\": \"quantitative\", \"field\": \"Tweet count\"}}, \"height\": 300, \"title\": \"Trend of the number of Tweets during the year\", \"width\": 700}], \"data\": {\"name\": \"data-21f4a1a03af7303255d124757ed1cda8\"}, \"height\": 300, \"width\": 700, \"$schema\": \"https://vega.github.io/schema/vega-lite/v4.8.1.json\", \"datasets\": {\"data-21f4a1a03af7303255d124757ed1cda8\": [{\"Month\": \"Feb\", \"Tweet count\": 83}, {\"Month\": \"Mar\", \"Tweet count\": 566}, {\"Month\": \"Apr\", \"Tweet count\": 356}, {\"Month\": \"May\", \"Tweet count\": 230}, {\"Month\": \"Jun\", \"Tweet count\": 83}, {\"Month\": \"Jul\", \"Tweet count\": 34}, {\"Month\": \"Aug\", \"Tweet count\": 41}, {\"Month\": \"Jan\", \"Tweet count\": 61}]}}, {\"mode\": \"vega-lite\"});\n",
       "</script>"
      ],
      "text/plain": [
       "alt.LayerChart(...)"
      ]
     },
     "execution_count": 6,
     "metadata": {},
     "output_type": "execute_result"
    }
   ],
   "source": [
    "df = pd.DataFrame.from_dict(count, orient='index').reset_index()\n",
    "df = df.rename(columns={'index':'Month',0:'Tweet count'})\n",
    "\n",
    "# Create a selection that chooses the nearest point & selects based on x-value\n",
    "nearest = alt.selection(type='single', nearest=True, on='mouseover',\n",
    "                        fields=['Month'], empty='none')\n",
    "\n",
    "\n",
    "chart = alt.Chart(df).mark_area(\n",
    "    point= True,\n",
    "    line={'color':'dodgerblue'},\n",
    "    color=alt.Gradient(\n",
    "        gradient='linear',\n",
    "        stops=[alt.GradientStop(color='white', offset=0),\n",
    "               alt.GradientStop(color='mediumturquoise', offset=1)],\n",
    "        x1=1,\n",
    "        x2=1,\n",
    "        y1=1,\n",
    "        y2=0\n",
    "    )\n",
    ").properties(width=700, height=300,  title = \"Trend of the number of Tweets during the year\").encode(\n",
    "    alt.X('Month', sort = ['Jan','Feb','Mar','Apr','May','Jun','Jul','Aug']),\n",
    "    alt.Y('Tweet count:Q')\n",
    "    #tooltip=['Month', 'Tweet count']\n",
    ")\n",
    "\n",
    "# Transparent selectors across the chart. This is what tells us\n",
    "# the x-value of the cursor\n",
    "selectors = alt.Chart(df).mark_point().encode(\n",
    "    x=alt.X('Month', sort = ['Jan','Feb','Mar','Apr','May','Jun','Jul','Aug']),\n",
    "    opacity=alt.value(0),\n",
    ").add_selection(\n",
    "    nearest\n",
    ")\n",
    "\n",
    "# Draw points on the line, and highlight based on selection\n",
    "points = chart.mark_point().encode(\n",
    "    opacity=alt.condition(nearest, alt.value(1), alt.value(0))\n",
    ")\n",
    "\n",
    "# Draw text labels near the points, and highlight based on selection\n",
    "text = chart.mark_text(align='left', dx=5, dy=-5).encode(\n",
    "    text=alt.condition(nearest, 'Tweet count:Q', alt.value(' '))\n",
    ")\n",
    "\n",
    "# Draw a rule at the location of the selection\n",
    "rules = alt.Chart(df).mark_rule(color='gray').encode(\n",
    "    x=alt.X('Month', sort = ['Jan','Feb','Mar','Apr','May','Jun','Jul','Aug']),\n",
    ").transform_filter(\n",
    "    nearest\n",
    ")\n",
    "\n",
    "# Put the five layers into a chart and bind the data\n",
    "alt.layer(\n",
    "    chart, selectors, points, rules, text\n",
    ").properties(\n",
    "    width=700, height=300\n",
    ")"
   ]
  },
  {
   "cell_type": "markdown",
   "id": "enormous-piano",
   "metadata": {},
   "source": [
    "### Multi Line Chart: number of tweets created each month and classified by their category"
   ]
  },
  {
   "cell_type": "markdown",
   "id": "extraordinary-celebration",
   "metadata": {},
   "source": [
    "Here the goal is still to create a multi line chart that shows the trend of the number of tweets created during the year (grouped by month) but here we are going to visualize two lines: one for the FALSE tweets and one for the PARTIALLY FALSE tweets:"
   ]
  },
  {
   "cell_type": "code",
   "execution_count": 7,
   "id": "floral-oakland",
   "metadata": {},
   "outputs": [],
   "source": [
    "csv_dataframe = pd.read_csv('dataset/FINAL_fakecovid_final_filtered_dataset_clean.csv',sep=\";\")\n",
    "csv_dataframe['tweet_id'] = csv_dataframe['tweet_id'].astype(str)\n",
    "csv_list = csv_dataframe.values.tolist()\n",
    "lista_unica_csv=list(itertools.chain.from_iterable(csv_list))\n",
    "\n",
    "\n",
    "index=0\n",
    "cmt_list = [] \n",
    "for element in data:\n",
    "    token_id = data[index]['id_str']\n",
    "    indice_csv = lista_unica_csv.index(token_id)\n",
    "    token = data[index]['created_at']\n",
    "    final_token = token[4:7] + \" \" +lista_unica_csv[indice_csv+1].lower().replace(\" \", \"\")\n",
    "    cmt_list.append(final_token)\n",
    "    index=index+1\n",
    "    \n",
    "fdist = dict(nltk.FreqDist(cmt_list))\n",
    "df = pd.DataFrame.from_dict(fdist, orient='index').reset_index()\n",
    "df = df.rename(columns={'index':'month', 0:'count'})"
   ]
  },
  {
   "cell_type": "markdown",
   "id": "equal-toilet",
   "metadata": {},
   "source": [
    "Once the dataset is created, we work on it to create a better visualisation:"
   ]
  },
  {
   "cell_type": "code",
   "execution_count": 8,
   "id": "pursuant-cincinnati",
   "metadata": {},
   "outputs": [],
   "source": [
    "col_one_list = df['month'].tolist()\n",
    "col_two_list = df['count'].tolist()\n",
    "\n",
    "typelist=[]\n",
    "namelist=[]\n",
    "\n",
    "index = 0\n",
    "\n",
    "count_false = [0] * len(col_one_list)\n",
    "count_part = [0] * len(col_one_list)\n",
    "\n",
    "for el in col_one_list:\n",
    "    tok = el.split()\n",
    "    namelist.append(tok[0])\n",
    "    #typelist.append(tok[1])\n",
    "    if tok[0] in namelist:\n",
    "        indx = namelist.index(tok[0])\n",
    "        if tok[1] == \"false\":\n",
    "            count_false[indx] = col_two_list[index]\n",
    "        elif tok[1] == \"partiallyfalse\":\n",
    "            count_part[indx] = col_two_list[index]\n",
    "        else:\n",
    "            print(\"errore\")\n",
    "   \n",
    "    index = index + 1\n",
    "\n",
    "i=0\n",
    "for el in col_two_list:\n",
    "    col_two_list[i] = count_false[i] + count_part[i]\n",
    "    i = i + 1\n",
    "\n",
    "df['month']=namelist\n",
    "df['Count False Tweets']=count_false\n",
    "df['Count Partially False Tweets']=count_part\n",
    "df['count'] = col_two_list\n",
    "\n",
    "df = df.sort_values(by=['count'],ascending=[False])"
   ]
  },
  {
   "cell_type": "markdown",
   "id": "beautiful-compilation",
   "metadata": {},
   "source": [
    "Plot the chart and add the tooltip for a better experience:"
   ]
  },
  {
   "cell_type": "code",
   "execution_count": 9,
   "id": "miniature-crossing",
   "metadata": {},
   "outputs": [
    {
     "data": {
      "text/html": [
       "\n",
       "<div id=\"altair-viz-23ef6aa98d4f44cebba3b43a5009072a\"></div>\n",
       "<script type=\"text/javascript\">\n",
       "  (function(spec, embedOpt){\n",
       "    let outputDiv = document.currentScript.previousElementSibling;\n",
       "    if (outputDiv.id !== \"altair-viz-23ef6aa98d4f44cebba3b43a5009072a\") {\n",
       "      outputDiv = document.getElementById(\"altair-viz-23ef6aa98d4f44cebba3b43a5009072a\");\n",
       "    }\n",
       "    const paths = {\n",
       "      \"vega\": \"https://cdn.jsdelivr.net/npm//vega@5?noext\",\n",
       "      \"vega-lib\": \"https://cdn.jsdelivr.net/npm//vega-lib?noext\",\n",
       "      \"vega-lite\": \"https://cdn.jsdelivr.net/npm//vega-lite@4.8.1?noext\",\n",
       "      \"vega-embed\": \"https://cdn.jsdelivr.net/npm//vega-embed@6?noext\",\n",
       "    };\n",
       "\n",
       "    function loadScript(lib) {\n",
       "      return new Promise(function(resolve, reject) {\n",
       "        var s = document.createElement('script');\n",
       "        s.src = paths[lib];\n",
       "        s.async = true;\n",
       "        s.onload = () => resolve(paths[lib]);\n",
       "        s.onerror = () => reject(`Error loading script: ${paths[lib]}`);\n",
       "        document.getElementsByTagName(\"head\")[0].appendChild(s);\n",
       "      });\n",
       "    }\n",
       "\n",
       "    function showError(err) {\n",
       "      outputDiv.innerHTML = `<div class=\"error\" style=\"color:red;\">${err}</div>`;\n",
       "      throw err;\n",
       "    }\n",
       "\n",
       "    function displayChart(vegaEmbed) {\n",
       "      vegaEmbed(outputDiv, spec, embedOpt)\n",
       "        .catch(err => showError(`Javascript Error: ${err.message}<br>This usually means there's a typo in your chart specification. See the javascript console for the full traceback.`));\n",
       "    }\n",
       "\n",
       "    if(typeof define === \"function\" && define.amd) {\n",
       "      requirejs.config({paths});\n",
       "      require([\"vega-embed\"], displayChart, err => showError(`Error loading script: ${err.message}`));\n",
       "    } else if (typeof vegaEmbed === \"function\") {\n",
       "      displayChart(vegaEmbed);\n",
       "    } else {\n",
       "      loadScript(\"vega\")\n",
       "        .then(() => loadScript(\"vega-lite\"))\n",
       "        .then(() => loadScript(\"vega-embed\"))\n",
       "        .catch(showError)\n",
       "        .then(() => displayChart(vegaEmbed));\n",
       "    }\n",
       "  })({\"config\": {\"view\": {\"continuousWidth\": 400, \"continuousHeight\": 300}}, \"layer\": [{\"mark\": \"line\", \"encoding\": {\"color\": {\"type\": \"nominal\", \"field\": \"key\"}, \"x\": {\"type\": \"nominal\", \"field\": \"month\", \"sort\": [\"Jan\", \"Feb\", \"Mar\", \"Apr\", \"May\", \"Jun\", \"Jul\", \"Aug\"]}, \"y\": {\"type\": \"quantitative\", \"field\": \"value\"}}, \"title\": \"aaa\", \"transform\": [{\"fold\": [\"Count False Tweets\", \"Count Partially False Tweets\"]}, {\"filter\": {\"field\": \"count\", \"range\": [1, 1000]}}], \"width\": 600}, {\"mark\": \"point\", \"encoding\": {\"opacity\": {\"value\": 0}, \"x\": {\"type\": \"nominal\", \"field\": \"month\", \"sort\": [\"Jan\", \"Feb\", \"Mar\", \"Apr\", \"May\", \"Jun\", \"Jul\", \"Aug\"]}}, \"selection\": {\"selector002\": {\"type\": \"single\", \"nearest\": true, \"on\": \"mouseover\", \"fields\": [\"month\"], \"empty\": \"none\"}}}, {\"mark\": \"point\", \"encoding\": {\"color\": {\"type\": \"nominal\", \"field\": \"key\"}, \"opacity\": {\"condition\": {\"value\": 1, \"selection\": \"selector002\"}, \"value\": 0}, \"x\": {\"type\": \"nominal\", \"field\": \"month\", \"sort\": [\"Jan\", \"Feb\", \"Mar\", \"Apr\", \"May\", \"Jun\", \"Jul\", \"Aug\"]}, \"y\": {\"type\": \"quantitative\", \"field\": \"value\"}}, \"title\": \"aaa\", \"transform\": [{\"fold\": [\"Count False Tweets\", \"Count Partially False Tweets\"]}, {\"filter\": {\"field\": \"count\", \"range\": [1, 1000]}}], \"width\": 600}, {\"mark\": {\"type\": \"rule\", \"color\": \"gray\"}, \"encoding\": {\"x\": {\"type\": \"nominal\", \"field\": \"month\", \"sort\": [\"Jan\", \"Feb\", \"Mar\", \"Apr\", \"May\", \"Jun\", \"Jul\", \"Aug\"]}}, \"transform\": [{\"filter\": {\"selection\": \"selector002\"}}]}, {\"mark\": {\"type\": \"text\", \"align\": \"left\", \"dx\": 5, \"dy\": -5}, \"encoding\": {\"color\": {\"type\": \"nominal\", \"field\": \"key\"}, \"text\": {\"condition\": {\"type\": \"quantitative\", \"field\": \"value\", \"selection\": \"selector002\"}, \"value\": \" \"}, \"x\": {\"type\": \"nominal\", \"field\": \"month\", \"sort\": [\"Jan\", \"Feb\", \"Mar\", \"Apr\", \"May\", \"Jun\", \"Jul\", \"Aug\"]}, \"y\": {\"type\": \"quantitative\", \"field\": \"value\"}}, \"title\": \"aaa\", \"transform\": [{\"fold\": [\"Count False Tweets\", \"Count Partially False Tweets\"]}, {\"filter\": {\"field\": \"count\", \"range\": [1, 1000]}}, {\"fold\": [\"Count False Tweets\", \"Count Partially False Tweets\"]}], \"width\": 600}], \"data\": {\"name\": \"data-3596fab42c58f2d3cbd347e1d50a6f34\"}, \"height\": 300, \"width\": 600, \"$schema\": \"https://vega.github.io/schema/vega-lite/v4.8.1.json\", \"datasets\": {\"data-3596fab42c58f2d3cbd347e1d50a6f34\": [{\"month\": \"Mar\", \"count\": 566, \"Count False Tweets\": 464, \"Count Partially False Tweets\": 102}, {\"month\": \"Apr\", \"count\": 356, \"Count False Tweets\": 301, \"Count Partially False Tweets\": 55}, {\"month\": \"May\", \"count\": 230, \"Count False Tweets\": 187, \"Count Partially False Tweets\": 43}, {\"month\": \"Feb\", \"count\": 83, \"Count False Tweets\": 61, \"Count Partially False Tweets\": 22}, {\"month\": \"Jun\", \"count\": 83, \"Count False Tweets\": 58, \"Count Partially False Tweets\": 25}, {\"month\": \"Jan\", \"count\": 61, \"Count False Tweets\": 47, \"Count Partially False Tweets\": 14}, {\"month\": \"Aug\", \"count\": 41, \"Count False Tweets\": 27, \"Count Partially False Tweets\": 14}, {\"month\": \"Jul\", \"count\": 34, \"Count False Tweets\": 25, \"Count Partially False Tweets\": 9}, {\"month\": \"Mar\", \"count\": 0, \"Count False Tweets\": 0, \"Count Partially False Tweets\": 0}, {\"month\": \"May\", \"count\": 0, \"Count False Tweets\": 0, \"Count Partially False Tweets\": 0}, {\"month\": \"Jun\", \"count\": 0, \"Count False Tweets\": 0, \"Count Partially False Tweets\": 0}, {\"month\": \"Jul\", \"count\": 0, \"Count False Tweets\": 0, \"Count Partially False Tweets\": 0}, {\"month\": \"Jan\", \"count\": 0, \"Count False Tweets\": 0, \"Count Partially False Tweets\": 0}, {\"month\": \"Apr\", \"count\": 0, \"Count False Tweets\": 0, \"Count Partially False Tweets\": 0}, {\"month\": \"Aug\", \"count\": 0, \"Count False Tweets\": 0, \"Count Partially False Tweets\": 0}, {\"month\": \"Feb\", \"count\": 0, \"Count False Tweets\": 0, \"Count Partially False Tweets\": 0}]}}, {\"mode\": \"vega-lite\"});\n",
       "</script>"
      ],
      "text/plain": [
       "alt.LayerChart(...)"
      ]
     },
     "execution_count": 9,
     "metadata": {},
     "output_type": "execute_result"
    }
   ],
   "source": [
    "# Create a selection that chooses the nearest point & selects based on x-value\n",
    "nearest = alt.selection(type='single', nearest=True, on='mouseover',\n",
    "                        fields=['month'], empty='none')\n",
    "\n",
    "\n",
    "\n",
    "lines = alt.Chart(df).transform_fold(\n",
    "    ['Count False Tweets', 'Count Partially False Tweets'],\n",
    ").mark_line().encode(\n",
    "    x=alt.X('month:N', sort = ['Jan','Feb','Mar','Apr','May','Jun','Jul','Aug']),\n",
    "    y=alt.Y('value:Q'),\n",
    "    color=alt.Color('key:N'),  \n",
    ").transform_filter(\n",
    "    alt.FieldRangePredicate(field='count', range=[1, 1000])\n",
    ").properties(title=\"aaa\",width=600)\n",
    "\n",
    "selectors = alt.Chart(df).mark_point().encode(\n",
    "    x=alt.X('month:N', sort = ['Jan','Feb','Mar','Apr','May','Jun','Jul','Aug']),\n",
    "    opacity=alt.value(0),\n",
    ").add_selection(\n",
    "    nearest\n",
    ")\n",
    "\n",
    "# Draw points on the line, and highlight based on selection\n",
    "points = lines.mark_point().encode(\n",
    "    opacity=alt.condition(nearest, alt.value(1), alt.value(0))\n",
    ")\n",
    "\n",
    "\n",
    "# Draw text labels near the points, and highlight based on selection\n",
    "text = lines.transform_fold(\n",
    "    ['Count False Tweets', 'Count Partially False Tweets'],\n",
    ").mark_text(align='left', dx=5, dy=-5).encode(\n",
    "    text=alt.condition(nearest, 'value:Q', alt.value(' '))\n",
    ")\n",
    "\n",
    "# Draw a rule at the location of the selection\n",
    "rules = alt.Chart(df).mark_rule(color='gray').encode(\n",
    "    x=alt.X('month:N', sort = ['Jan','Feb','Mar','Apr','May','Jun','Jul','Aug']),\n",
    ").transform_filter(\n",
    "    nearest\n",
    ")\n",
    "\n",
    "# Put the five layers into a chart and bind the data\n",
    "alt.layer(\n",
    "    lines, selectors, points, rules, text\n",
    ").properties(\n",
    "    width=600, height=300\n",
    ")"
   ]
  }
 ],
 "metadata": {
  "kernelspec": {
   "display_name": "Python 3",
   "language": "python",
   "name": "python3"
  },
  "language_info": {
   "codemirror_mode": {
    "name": "ipython",
    "version": 3
   },
   "file_extension": ".py",
   "mimetype": "text/x-python",
   "name": "python",
   "nbconvert_exporter": "python",
   "pygments_lexer": "ipython3",
   "version": "3.9.2"
  }
 },
 "nbformat": 4,
 "nbformat_minor": 5
}

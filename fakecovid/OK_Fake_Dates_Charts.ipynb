{
 "cells": [
  {
   "cell_type": "markdown",
   "id": "potential-surrey",
   "metadata": {},
   "source": [
    "# Dates - Fake Covid-19 dataset"
   ]
  },
  {
   "cell_type": "markdown",
   "id": "polyphonic-virgin",
   "metadata": {},
   "source": [
    "In order to create the bar and area charts, we need the following packages:"
   ]
  },
  {
   "cell_type": "code",
   "execution_count": 1,
   "id": "comparable-ferry",
   "metadata": {},
   "outputs": [],
   "source": [
    "from collections import Counter\n",
    "import pandas as pd\n",
    "from dateutil.parser import parse\n",
    "import datetime\n",
    "import json\n",
    "import itertools  \n",
    "import nltk\n",
    "import altair as alt\n",
    "import csv\n",
    "from dateutil.parser import parse"
   ]
  },
  {
   "cell_type": "markdown",
   "id": "asian-netherlands",
   "metadata": {},
   "source": [
    "To read the JSON file that has all the tweets, it is necessary to do:"
   ]
  },
  {
   "cell_type": "code",
   "execution_count": 2,
   "id": "approved-stack",
   "metadata": {},
   "outputs": [],
   "source": [
    "data = []\n",
    "with open('dataset/fakecovid_result_final_translated_full.json', 'r') as f:\n",
    "    for line in f:\n",
    "        data.append(json.loads(line))"
   ]
  },
  {
   "cell_type": "markdown",
   "id": "monetary-syracuse",
   "metadata": {},
   "source": [
    "## Bar chart: \"Number of Tweets per day of the week\""
   ]
  },
  {
   "cell_type": "markdown",
   "id": "certified-kenya",
   "metadata": {},
   "source": [
    "We're interested in the \"created_at\" field:"
   ]
  },
  {
   "cell_type": "code",
   "execution_count": 3,
   "id": "central-freedom",
   "metadata": {},
   "outputs": [],
   "source": [
    "index = 0\n",
    "new = []\n",
    "for element in data:\n",
    "    token = data[index]['created_at']\n",
    "    new.append(token[0:3])\n",
    "    index = index + 1\n",
    "\n",
    "#print(new)\n",
    "#print(len(new))\n",
    "\n",
    "count_w = Counter(new)\n",
    "#print(count)"
   ]
  },
  {
   "cell_type": "markdown",
   "id": "verbal-spirit",
   "metadata": {},
   "source": [
    "The bar chart is created:"
   ]
  },
  {
   "cell_type": "code",
   "execution_count": 4,
   "id": "royal-vertex",
   "metadata": {},
   "outputs": [
    {
     "data": {
      "text/html": [
       "\n",
       "<div id=\"altair-viz-a0341b70d7df49bb98ca8a2d5f9bfaae\"></div>\n",
       "<script type=\"text/javascript\">\n",
       "  (function(spec, embedOpt){\n",
       "    let outputDiv = document.currentScript.previousElementSibling;\n",
       "    if (outputDiv.id !== \"altair-viz-a0341b70d7df49bb98ca8a2d5f9bfaae\") {\n",
       "      outputDiv = document.getElementById(\"altair-viz-a0341b70d7df49bb98ca8a2d5f9bfaae\");\n",
       "    }\n",
       "    const paths = {\n",
       "      \"vega\": \"https://cdn.jsdelivr.net/npm//vega@5?noext\",\n",
       "      \"vega-lib\": \"https://cdn.jsdelivr.net/npm//vega-lib?noext\",\n",
       "      \"vega-lite\": \"https://cdn.jsdelivr.net/npm//vega-lite@4.8.1?noext\",\n",
       "      \"vega-embed\": \"https://cdn.jsdelivr.net/npm//vega-embed@6?noext\",\n",
       "    };\n",
       "\n",
       "    function loadScript(lib) {\n",
       "      return new Promise(function(resolve, reject) {\n",
       "        var s = document.createElement('script');\n",
       "        s.src = paths[lib];\n",
       "        s.async = true;\n",
       "        s.onload = () => resolve(paths[lib]);\n",
       "        s.onerror = () => reject(`Error loading script: ${paths[lib]}`);\n",
       "        document.getElementsByTagName(\"head\")[0].appendChild(s);\n",
       "      });\n",
       "    }\n",
       "\n",
       "    function showError(err) {\n",
       "      outputDiv.innerHTML = `<div class=\"error\" style=\"color:red;\">${err}</div>`;\n",
       "      throw err;\n",
       "    }\n",
       "\n",
       "    function displayChart(vegaEmbed) {\n",
       "      vegaEmbed(outputDiv, spec, embedOpt)\n",
       "        .catch(err => showError(`Javascript Error: ${err.message}<br>This usually means there's a typo in your chart specification. See the javascript console for the full traceback.`));\n",
       "    }\n",
       "\n",
       "    if(typeof define === \"function\" && define.amd) {\n",
       "      requirejs.config({paths});\n",
       "      require([\"vega-embed\"], displayChart, err => showError(`Error loading script: ${err.message}`));\n",
       "    } else if (typeof vegaEmbed === \"function\") {\n",
       "      displayChart(vegaEmbed);\n",
       "    } else {\n",
       "      loadScript(\"vega\")\n",
       "        .then(() => loadScript(\"vega-lite\"))\n",
       "        .then(() => loadScript(\"vega-embed\"))\n",
       "        .catch(showError)\n",
       "        .then(() => displayChart(vegaEmbed));\n",
       "    }\n",
       "  })({\"config\": {\"view\": {\"continuousWidth\": 400, \"continuousHeight\": 300}, \"axis\": {\"labelFontSize\": 13, \"titleFontSize\": 15, \"titlePadding\": 15}, \"legend\": {\"gradientThickness\": 20, \"labelFontSize\": 13, \"titleFontSize\": 15, \"titlePadding\": 10}, \"title\": {\"fontSize\": 17, \"offset\": 25}}, \"data\": {\"name\": \"data-a5038a8cfd20a25b3ac42e06f2d7f8c3\"}, \"mark\": \"bar\", \"encoding\": {\"color\": {\"type\": \"quantitative\", \"field\": \"Tweet count\", \"scale\": {\"scheme\": \"purples\"}}, \"tooltip\": [{\"type\": \"nominal\", \"field\": \"Day\", \"title\": \"Day\"}, {\"type\": \"quantitative\", \"field\": \"Tweet count\", \"title\": \"Tweet count\"}], \"x\": {\"type\": \"quantitative\", \"field\": \"Tweet count\"}, \"y\": {\"type\": \"nominal\", \"field\": \"Day\", \"sort\": [\"Mon\", \"Tue\", \"Wed\", \"Thu\", \"Fri\", \"Sat\", \"Sun\"]}}, \"height\": 300, \"title\": \"Number of Tweets per day of the week\", \"transform\": [{\"window\": [{\"op\": \"rank\", \"field\": \"count\", \"as\": \"rank\"}], \"sort\": [{\"field\": \"count\", \"order\": \"descending\"}]}], \"width\": 700, \"$schema\": \"https://vega.github.io/schema/vega-lite/v4.8.1.json\", \"datasets\": {\"data-a5038a8cfd20a25b3ac42e06f2d7f8c3\": [{\"Day\": \"Sun\", \"Tweet count\": 187}, {\"Day\": \"Tue\", \"Tweet count\": 230}, {\"Day\": \"Sat\", \"Tweet count\": 167}, {\"Day\": \"Wed\", \"Tweet count\": 241}, {\"Day\": \"Thu\", \"Tweet count\": 211}, {\"Day\": \"Fri\", \"Tweet count\": 189}, {\"Day\": \"Mon\", \"Tweet count\": 229}]}}, {\"mode\": \"vega-lite\"});\n",
       "</script>"
      ],
      "text/plain": [
       "alt.Chart(...)"
      ]
     },
     "execution_count": 4,
     "metadata": {},
     "output_type": "execute_result"
    }
   ],
   "source": [
    "df_w = pd.DataFrame.from_dict(count_w, orient='index').reset_index()\n",
    "df_w = df_w.rename(columns={'index':'Day',0:'Tweet count'})\n",
    "\n",
    "#range=['#e5c9fe','#c990ff','#b15fff','#992eff','#8100fc','#6800cc','#4f009b','#36006a','#1d0039']\n",
    "chart = alt.Chart(df_w).mark_bar().encode(\n",
    "    x = alt.X('Tweet count:Q'),\n",
    "    y = alt.Y('Day', sort = ['Mon','Tue','Wed','Thu','Fri','Sat','Sun']),\n",
    "    color=alt.Color('Tweet count:Q',scale=alt.Scale(scheme=\"purples\")),\n",
    "    tooltip=[\n",
    "        alt.Tooltip('Day', title='Day'),\n",
    "        alt.Tooltip('Tweet count:Q', title='Tweet count')\n",
    "    ]\n",
    ").transform_window( \n",
    "    rank='rank(count)',\n",
    "    sort=[alt.SortField('count', order='descending')]\n",
    ").properties(width=700, height=300,  title = \"Number of Tweets per day of the week\").configure_title(\n",
    "    fontSize=17,\n",
    "    offset=25\n",
    ").configure_axis(\n",
    "    labelFontSize=13,\n",
    "    titleFontSize=15,\n",
    "    titlePadding=15\n",
    ").configure_legend(\n",
    "    gradientThickness=20,\n",
    "    titleFontSize=15,\n",
    "    labelFontSize=13,\n",
    "    titlePadding=10\n",
    ")\n",
    "\n",
    "chart"
   ]
  },
  {
   "cell_type": "markdown",
   "id": "standard-runner",
   "metadata": {},
   "source": [
    "## Area chart: \"Number of Tweets during the year\""
   ]
  },
  {
   "cell_type": "markdown",
   "id": "junior-mauritius",
   "metadata": {},
   "source": [
    "We're interested in the \"created_at\" field:"
   ]
  },
  {
   "cell_type": "code",
   "execution_count": 5,
   "id": "pregnant-direction",
   "metadata": {},
   "outputs": [],
   "source": [
    "index = 0\n",
    "new = []\n",
    "for element in data:\n",
    "    token = data[index]['created_at']\n",
    "    d = parse(token)\n",
    "    d = d.strftime('%Y/%m/%d')\n",
    "    #new.append(token[4:7])\n",
    "    new.append(d)\n",
    "    index = index + 1\n",
    "\n",
    "#print(new)\n",
    "#print(len(new))\n",
    "\n",
    "count = Counter(new)\n",
    "#print(count)"
   ]
  },
  {
   "cell_type": "markdown",
   "id": "following-examination",
   "metadata": {},
   "source": [
    "The area chart is created:"
   ]
  },
  {
   "cell_type": "code",
   "execution_count": 6,
   "id": "atlantic-rates",
   "metadata": {},
   "outputs": [
    {
     "data": {
      "text/html": [
       "\n",
       "<div id=\"altair-viz-2ecb8eec327f4993955fb84122660cc7\"></div>\n",
       "<script type=\"text/javascript\">\n",
       "  (function(spec, embedOpt){\n",
       "    let outputDiv = document.currentScript.previousElementSibling;\n",
       "    if (outputDiv.id !== \"altair-viz-2ecb8eec327f4993955fb84122660cc7\") {\n",
       "      outputDiv = document.getElementById(\"altair-viz-2ecb8eec327f4993955fb84122660cc7\");\n",
       "    }\n",
       "    const paths = {\n",
       "      \"vega\": \"https://cdn.jsdelivr.net/npm//vega@5?noext\",\n",
       "      \"vega-lib\": \"https://cdn.jsdelivr.net/npm//vega-lib?noext\",\n",
       "      \"vega-lite\": \"https://cdn.jsdelivr.net/npm//vega-lite@4.8.1?noext\",\n",
       "      \"vega-embed\": \"https://cdn.jsdelivr.net/npm//vega-embed@6?noext\",\n",
       "    };\n",
       "\n",
       "    function loadScript(lib) {\n",
       "      return new Promise(function(resolve, reject) {\n",
       "        var s = document.createElement('script');\n",
       "        s.src = paths[lib];\n",
       "        s.async = true;\n",
       "        s.onload = () => resolve(paths[lib]);\n",
       "        s.onerror = () => reject(`Error loading script: ${paths[lib]}`);\n",
       "        document.getElementsByTagName(\"head\")[0].appendChild(s);\n",
       "      });\n",
       "    }\n",
       "\n",
       "    function showError(err) {\n",
       "      outputDiv.innerHTML = `<div class=\"error\" style=\"color:red;\">${err}</div>`;\n",
       "      throw err;\n",
       "    }\n",
       "\n",
       "    function displayChart(vegaEmbed) {\n",
       "      vegaEmbed(outputDiv, spec, embedOpt)\n",
       "        .catch(err => showError(`Javascript Error: ${err.message}<br>This usually means there's a typo in your chart specification. See the javascript console for the full traceback.`));\n",
       "    }\n",
       "\n",
       "    if(typeof define === \"function\" && define.amd) {\n",
       "      requirejs.config({paths});\n",
       "      require([\"vega-embed\"], displayChart, err => showError(`Error loading script: ${err.message}`));\n",
       "    } else if (typeof vegaEmbed === \"function\") {\n",
       "      displayChart(vegaEmbed);\n",
       "    } else {\n",
       "      loadScript(\"vega\")\n",
       "        .then(() => loadScript(\"vega-lite\"))\n",
       "        .then(() => loadScript(\"vega-embed\"))\n",
       "        .catch(showError)\n",
       "        .then(() => displayChart(vegaEmbed));\n",
       "    }\n",
       "  })({\"config\": {\"view\": {\"continuousWidth\": 400, \"continuousHeight\": 300}, \"axis\": {\"labelFontSize\": 13, \"titleFontSize\": 15, \"titlePadding\": 15}, \"title\": {\"fontSize\": 17, \"offset\": 25}}, \"layer\": [{\"mark\": {\"type\": \"area\", \"color\": {\"gradient\": \"linear\", \"stops\": [{\"color\": \"white\", \"offset\": 0}, {\"color\": \"mediumturquoise\", \"offset\": 1}], \"x1\": 1, \"x2\": 1, \"y1\": 1, \"y2\": 0}, \"line\": {\"color\": \"#126DC5\"}}, \"encoding\": {\"x\": {\"type\": \"temporal\", \"field\": \"Month\"}, \"y\": {\"type\": \"quantitative\", \"field\": \"Tweet count\"}}, \"height\": 300, \"title\": \"Number of Tweets during the year\", \"width\": 700}, {\"mark\": \"point\", \"encoding\": {\"opacity\": {\"value\": 0}, \"x\": {\"type\": \"temporal\", \"field\": \"Month\"}}, \"selection\": {\"selector001\": {\"type\": \"single\", \"nearest\": true, \"on\": \"mouseover\", \"fields\": [\"Month\"], \"empty\": \"none\"}}}, {\"mark\": \"point\", \"encoding\": {\"opacity\": {\"condition\": {\"value\": 1, \"selection\": \"selector001\"}, \"value\": 0}, \"x\": {\"type\": \"temporal\", \"field\": \"Month\"}, \"y\": {\"type\": \"quantitative\", \"field\": \"Tweet count\"}}, \"height\": 300, \"title\": \"Number of Tweets during the year\", \"width\": 700}, {\"mark\": {\"type\": \"rule\", \"color\": \"gray\"}, \"encoding\": {\"x\": {\"type\": \"temporal\", \"field\": \"Month\"}}, \"transform\": [{\"filter\": {\"selection\": \"selector001\"}}]}, {\"mark\": {\"type\": \"text\", \"align\": \"left\", \"dx\": 5, \"dy\": -5}, \"encoding\": {\"text\": {\"condition\": {\"type\": \"quantitative\", \"field\": \"Tweet count\", \"selection\": \"selector001\"}, \"value\": \" \"}, \"x\": {\"type\": \"temporal\", \"field\": \"Month\"}, \"y\": {\"type\": \"quantitative\", \"field\": \"Tweet count\"}}, \"height\": 300, \"title\": \"Number of Tweets during the year\", \"width\": 700}], \"data\": {\"name\": \"data-d0454ce303fb9bb5e060f178a25862bc\"}, \"height\": 300, \"width\": 700, \"$schema\": \"https://vega.github.io/schema/vega-lite/v4.8.1.json\", \"datasets\": {\"data-d0454ce303fb9bb5e060f178a25862bc\": [{\"Month\": \"2020-02-02T00:00:00\", \"Tweet count\": 5}, {\"Month\": \"2020-02-11T00:00:00\", \"Tweet count\": 6}, {\"Month\": \"2020-02-15T00:00:00\", \"Tweet count\": 1}, {\"Month\": \"2020-02-16T00:00:00\", \"Tweet count\": 3}, {\"Month\": \"2020-03-04T00:00:00\", \"Tweet count\": 7}, {\"Month\": \"2020-03-11T00:00:00\", \"Tweet count\": 13}, {\"Month\": \"2020-03-24T00:00:00\", \"Tweet count\": 25}, {\"Month\": \"2020-03-26T00:00:00\", \"Tweet count\": 17}, {\"Month\": \"2020-03-27T00:00:00\", \"Tweet count\": 19}, {\"Month\": \"2020-04-08T00:00:00\", \"Tweet count\": 18}, {\"Month\": \"2020-04-09T00:00:00\", \"Tweet count\": 15}, {\"Month\": \"2020-04-15T00:00:00\", \"Tweet count\": 18}, {\"Month\": \"2020-04-21T00:00:00\", \"Tweet count\": 15}, {\"Month\": \"2020-04-24T00:00:00\", \"Tweet count\": 9}, {\"Month\": \"2020-04-28T00:00:00\", \"Tweet count\": 10}, {\"Month\": \"2020-05-03T00:00:00\", \"Tweet count\": 11}, {\"Month\": \"2020-05-06T00:00:00\", \"Tweet count\": 11}, {\"Month\": \"2020-05-07T00:00:00\", \"Tweet count\": 10}, {\"Month\": \"2020-05-10T00:00:00\", \"Tweet count\": 7}, {\"Month\": \"2020-05-16T00:00:00\", \"Tweet count\": 7}, {\"Month\": \"2020-05-19T00:00:00\", \"Tweet count\": 6}, {\"Month\": \"2020-05-20T00:00:00\", \"Tweet count\": 12}, {\"Month\": \"2020-05-21T00:00:00\", \"Tweet count\": 13}, {\"Month\": \"2020-05-24T00:00:00\", \"Tweet count\": 5}, {\"Month\": \"2020-05-25T00:00:00\", \"Tweet count\": 13}, {\"Month\": \"2020-05-26T00:00:00\", \"Tweet count\": 12}, {\"Month\": \"2020-05-27T00:00:00\", \"Tweet count\": 10}, {\"Month\": \"2020-06-01T00:00:00\", \"Tweet count\": 2}, {\"Month\": \"2020-06-04T00:00:00\", \"Tweet count\": 4}, {\"Month\": \"2020-06-06T00:00:00\", \"Tweet count\": 5}, {\"Month\": \"2020-06-08T00:00:00\", \"Tweet count\": 9}, {\"Month\": \"2020-06-09T00:00:00\", \"Tweet count\": 5}, {\"Month\": \"2020-06-10T00:00:00\", \"Tweet count\": 2}, {\"Month\": \"2020-06-11T00:00:00\", \"Tweet count\": 5}, {\"Month\": \"2020-06-12T00:00:00\", \"Tweet count\": 5}, {\"Month\": \"2020-06-13T00:00:00\", \"Tweet count\": 2}, {\"Month\": \"2020-06-14T00:00:00\", \"Tweet count\": 5}, {\"Month\": \"2020-06-16T00:00:00\", \"Tweet count\": 1}, {\"Month\": \"2020-06-17T00:00:00\", \"Tweet count\": 2}, {\"Month\": \"2020-06-24T00:00:00\", \"Tweet count\": 6}, {\"Month\": \"2020-06-25T00:00:00\", \"Tweet count\": 5}, {\"Month\": \"2020-06-26T00:00:00\", \"Tweet count\": 1}, {\"Month\": \"2020-06-30T00:00:00\", \"Tweet count\": 3}, {\"Month\": \"2020-07-01T00:00:00\", \"Tweet count\": 3}, {\"Month\": \"2020-07-03T00:00:00\", \"Tweet count\": 2}, {\"Month\": \"2020-07-08T00:00:00\", \"Tweet count\": 1}, {\"Month\": \"2020-07-18T00:00:00\", \"Tweet count\": 2}, {\"Month\": \"2020-07-24T00:00:00\", \"Tweet count\": 3}, {\"Month\": \"2020-07-30T00:00:00\", \"Tweet count\": 3}, {\"Month\": \"2020-08-07T00:00:00\", \"Tweet count\": 3}, {\"Month\": \"2020-08-11T00:00:00\", \"Tweet count\": 6}, {\"Month\": \"2020-08-12T00:00:00\", \"Tweet count\": 4}, {\"Month\": \"2020-08-13T00:00:00\", \"Tweet count\": 1}, {\"Month\": \"2020-01-16T00:00:00\", \"Tweet count\": 4}, {\"Month\": \"2020-01-27T00:00:00\", \"Tweet count\": 7}, {\"Month\": \"2020-02-10T00:00:00\", \"Tweet count\": 1}, {\"Month\": \"2020-02-29T00:00:00\", \"Tweet count\": 6}, {\"Month\": \"2020-03-15T00:00:00\", \"Tweet count\": 28}, {\"Month\": \"2020-03-20T00:00:00\", \"Tweet count\": 25}, {\"Month\": \"2020-03-23T00:00:00\", \"Tweet count\": 27}, {\"Month\": \"2020-04-12T00:00:00\", \"Tweet count\": 7}, {\"Month\": \"2020-04-26T00:00:00\", \"Tweet count\": 23}, {\"Month\": \"2020-04-29T00:00:00\", \"Tweet count\": 11}, {\"Month\": \"2020-05-02T00:00:00\", \"Tweet count\": 12}, {\"Month\": \"2020-05-11T00:00:00\", \"Tweet count\": 8}, {\"Month\": \"2020-05-12T00:00:00\", \"Tweet count\": 20}, {\"Month\": \"2020-05-13T00:00:00\", \"Tweet count\": 10}, {\"Month\": \"2020-05-14T00:00:00\", \"Tweet count\": 6}, {\"Month\": \"2020-05-18T00:00:00\", \"Tweet count\": 5}, {\"Month\": \"2020-05-22T00:00:00\", \"Tweet count\": 4}, {\"Month\": \"2020-05-28T00:00:00\", \"Tweet count\": 1}, {\"Month\": \"2020-05-29T00:00:00\", \"Tweet count\": 4}, {\"Month\": \"2020-06-02T00:00:00\", \"Tweet count\": 2}, {\"Month\": \"2020-06-05T00:00:00\", \"Tweet count\": 3}, {\"Month\": \"2020-06-23T00:00:00\", \"Tweet count\": 1}, {\"Month\": \"2020-08-06T00:00:00\", \"Tweet count\": 1}, {\"Month\": \"2020-08-08T00:00:00\", \"Tweet count\": 2}, {\"Month\": \"2020-08-15T00:00:00\", \"Tweet count\": 1}, {\"Month\": \"2020-03-05T00:00:00\", \"Tweet count\": 11}, {\"Month\": \"2020-03-06T00:00:00\", \"Tweet count\": 10}, {\"Month\": \"2020-03-18T00:00:00\", \"Tweet count\": 34}, {\"Month\": \"2020-03-22T00:00:00\", \"Tweet count\": 30}, {\"Month\": \"2020-03-28T00:00:00\", \"Tweet count\": 15}, {\"Month\": \"2020-03-31T00:00:00\", \"Tweet count\": 18}, {\"Month\": \"2020-04-01T00:00:00\", \"Tweet count\": 11}, {\"Month\": \"2020-04-03T00:00:00\", \"Tweet count\": 20}, {\"Month\": \"2020-04-17T00:00:00\", \"Tweet count\": 5}, {\"Month\": \"2020-04-18T00:00:00\", \"Tweet count\": 7}, {\"Month\": \"2020-04-19T00:00:00\", \"Tweet count\": 8}, {\"Month\": \"2020-04-20T00:00:00\", \"Tweet count\": 10}, {\"Month\": \"2020-04-30T00:00:00\", \"Tweet count\": 5}, {\"Month\": \"2020-05-01T00:00:00\", \"Tweet count\": 3}, {\"Month\": \"2020-05-04T00:00:00\", \"Tweet count\": 8}, {\"Month\": \"2020-05-08T00:00:00\", \"Tweet count\": 16}, {\"Month\": \"2020-05-09T00:00:00\", \"Tweet count\": 5}, {\"Month\": \"2020-05-15T00:00:00\", \"Tweet count\": 2}, {\"Month\": \"2020-05-17T00:00:00\", \"Tweet count\": 4}, {\"Month\": \"2020-07-31T00:00:00\", \"Tweet count\": 2}, {\"Month\": \"2020-08-09T00:00:00\", \"Tweet count\": 1}, {\"Month\": \"2020-08-10T00:00:00\", \"Tweet count\": 2}, {\"Month\": \"2020-08-26T00:00:00\", \"Tweet count\": 1}, {\"Month\": \"2020-01-14T00:00:00\", \"Tweet count\": 1}, {\"Month\": \"2020-02-01T00:00:00\", \"Tweet count\": 2}, {\"Month\": \"2020-02-04T00:00:00\", \"Tweet count\": 2}, {\"Month\": \"2020-02-26T00:00:00\", \"Tweet count\": 4}, {\"Month\": \"2020-03-07T00:00:00\", \"Tweet count\": 6}, {\"Month\": \"2020-03-14T00:00:00\", \"Tweet count\": 17}, {\"Month\": \"2020-03-16T00:00:00\", \"Tweet count\": 38}, {\"Month\": \"2020-03-19T00:00:00\", \"Tweet count\": 18}, {\"Month\": \"2020-03-30T00:00:00\", \"Tweet count\": 26}, {\"Month\": \"2020-04-06T00:00:00\", \"Tweet count\": 20}, {\"Month\": \"2020-04-07T00:00:00\", \"Tweet count\": 16}, {\"Month\": \"2020-04-10T00:00:00\", \"Tweet count\": 14}, {\"Month\": \"2020-04-22T00:00:00\", \"Tweet count\": 11}, {\"Month\": \"2020-04-25T00:00:00\", \"Tweet count\": 4}, {\"Month\": \"2020-05-05T00:00:00\", \"Tweet count\": 2}, {\"Month\": \"2020-05-23T00:00:00\", \"Tweet count\": 2}, {\"Month\": \"2020-08-01T00:00:00\", \"Tweet count\": 2}, {\"Month\": \"2020-08-02T00:00:00\", \"Tweet count\": 1}, {\"Month\": \"2020-08-03T00:00:00\", \"Tweet count\": 1}, {\"Month\": \"2020-08-04T00:00:00\", \"Tweet count\": 1}, {\"Month\": \"2020-08-27T00:00:00\", \"Tweet count\": 4}, {\"Month\": \"2020-08-31T00:00:00\", \"Tweet count\": 2}, {\"Month\": \"2020-03-21T00:00:00\", \"Tweet count\": 24}, {\"Month\": \"2020-04-02T00:00:00\", \"Tweet count\": 19}, {\"Month\": \"2020-04-04T00:00:00\", \"Tweet count\": 14}, {\"Month\": \"2020-04-05T00:00:00\", \"Tweet count\": 15}, {\"Month\": \"2020-04-14T00:00:00\", \"Tweet count\": 9}, {\"Month\": \"2020-04-23T00:00:00\", \"Tweet count\": 4}, {\"Month\": \"2020-04-27T00:00:00\", \"Tweet count\": 5}, {\"Month\": \"2020-06-03T00:00:00\", \"Tweet count\": 2}, {\"Month\": \"2020-07-06T00:00:00\", \"Tweet count\": 1}, {\"Month\": \"2020-07-27T00:00:00\", \"Tweet count\": 1}, {\"Month\": \"2020-08-30T00:00:00\", \"Tweet count\": 1}, {\"Month\": \"2020-01-19T00:00:00\", \"Tweet count\": 2}, {\"Month\": \"2020-01-21T00:00:00\", \"Tweet count\": 2}, {\"Month\": \"2020-01-31T00:00:00\", \"Tweet count\": 8}, {\"Month\": \"2020-03-02T00:00:00\", \"Tweet count\": 10}, {\"Month\": \"2020-03-03T00:00:00\", \"Tweet count\": 8}, {\"Month\": \"2020-03-17T00:00:00\", \"Tweet count\": 21}, {\"Month\": \"2020-03-25T00:00:00\", \"Tweet count\": 22}, {\"Month\": \"2020-03-29T00:00:00\", \"Tweet count\": 11}, {\"Month\": \"2020-04-11T00:00:00\", \"Tweet count\": 13}, {\"Month\": \"2020-04-13T00:00:00\", \"Tweet count\": 11}, {\"Month\": \"2020-04-16T00:00:00\", \"Tweet count\": 9}, {\"Month\": \"2020-07-21T00:00:00\", \"Tweet count\": 1}, {\"Month\": \"2020-07-28T00:00:00\", \"Tweet count\": 1}, {\"Month\": \"2020-02-14T00:00:00\", \"Tweet count\": 1}, {\"Month\": \"2020-02-19T00:00:00\", \"Tweet count\": 1}, {\"Month\": \"2020-02-22T00:00:00\", \"Tweet count\": 2}, {\"Month\": \"2020-02-23T00:00:00\", \"Tweet count\": 1}, {\"Month\": \"2020-02-25T00:00:00\", \"Tweet count\": 7}, {\"Month\": \"2020-03-12T00:00:00\", \"Tweet count\": 27}, {\"Month\": \"2020-07-02T00:00:00\", \"Tweet count\": 1}, {\"Month\": \"2020-07-11T00:00:00\", \"Tweet count\": 1}, {\"Month\": \"2020-07-15T00:00:00\", \"Tweet count\": 1}, {\"Month\": \"2020-07-22T00:00:00\", \"Tweet count\": 2}, {\"Month\": \"2020-07-25T00:00:00\", \"Tweet count\": 1}, {\"Month\": \"2020-01-29T00:00:00\", \"Tweet count\": 5}, {\"Month\": \"2020-02-12T00:00:00\", \"Tweet count\": 4}, {\"Month\": \"2020-03-09T00:00:00\", \"Tweet count\": 18}, {\"Month\": \"2020-03-13T00:00:00\", \"Tweet count\": 19}, {\"Month\": \"2020-07-23T00:00:00\", \"Tweet count\": 1}, {\"Month\": \"2020-02-08T00:00:00\", \"Tweet count\": 4}, {\"Month\": \"2020-03-01T00:00:00\", \"Tweet count\": 1}, {\"Month\": \"2020-03-08T00:00:00\", \"Tweet count\": 4}, {\"Month\": \"2020-06-18T00:00:00\", \"Tweet count\": 5}, {\"Month\": \"2020-06-28T00:00:00\", \"Tweet count\": 4}, {\"Month\": \"2020-02-28T00:00:00\", \"Tweet count\": 3}, {\"Month\": \"2020-07-14T00:00:00\", \"Tweet count\": 1}, {\"Month\": \"2020-07-17T00:00:00\", \"Tweet count\": 1}, {\"Month\": \"2020-08-18T00:00:00\", \"Tweet count\": 3}, {\"Month\": \"2020-06-27T00:00:00\", \"Tweet count\": 2}, {\"Month\": \"2020-01-22T00:00:00\", \"Tweet count\": 2}, {\"Month\": \"2020-02-06T00:00:00\", \"Tweet count\": 6}, {\"Month\": \"2020-02-07T00:00:00\", \"Tweet count\": 2}, {\"Month\": \"2020-03-10T00:00:00\", \"Tweet count\": 17}, {\"Month\": \"2020-05-31T00:00:00\", \"Tweet count\": 1}, {\"Month\": \"2020-06-19T00:00:00\", \"Tweet count\": 2}, {\"Month\": \"2020-07-10T00:00:00\", \"Tweet count\": 1}, {\"Month\": \"2020-07-12T00:00:00\", \"Tweet count\": 1}, {\"Month\": \"2020-07-13T00:00:00\", \"Tweet count\": 2}, {\"Month\": \"2020-08-20T00:00:00\", \"Tweet count\": 1}, {\"Month\": \"2020-01-26T00:00:00\", \"Tweet count\": 3}, {\"Month\": \"2020-01-30T00:00:00\", \"Tweet count\": 6}, {\"Month\": \"2020-02-03T00:00:00\", \"Tweet count\": 2}, {\"Month\": \"2020-02-05T00:00:00\", \"Tweet count\": 11}, {\"Month\": \"2020-02-27T00:00:00\", \"Tweet count\": 1}, {\"Month\": \"2020-01-04T00:00:00\", \"Tweet count\": 1}, {\"Month\": \"2020-01-23T00:00:00\", \"Tweet count\": 6}, {\"Month\": \"2020-01-24T00:00:00\", \"Tweet count\": 2}, {\"Month\": \"2020-01-25T00:00:00\", \"Tweet count\": 6}, {\"Month\": \"2020-01-28T00:00:00\", \"Tweet count\": 5}, {\"Month\": \"2020-02-09T00:00:00\", \"Tweet count\": 3}, {\"Month\": \"2020-02-18T00:00:00\", \"Tweet count\": 3}, {\"Month\": \"2020-02-20T00:00:00\", \"Tweet count\": 1}, {\"Month\": \"2020-07-04T00:00:00\", \"Tweet count\": 1}, {\"Month\": \"2020-08-16T00:00:00\", \"Tweet count\": 2}, {\"Month\": \"2020-08-19T00:00:00\", \"Tweet count\": 1}, {\"Month\": \"2020-02-13T00:00:00\", \"Tweet count\": 1}, {\"Month\": \"2020-01-15T00:00:00\", \"Tweet count\": 1}]}}, {\"mode\": \"vega-lite\"});\n",
       "</script>"
      ],
      "text/plain": [
       "alt.LayerChart(...)"
      ]
     },
     "execution_count": 6,
     "metadata": {},
     "output_type": "execute_result"
    }
   ],
   "source": [
    "df = pd.DataFrame.from_dict(count, orient='index').reset_index()\n",
    "df = df.rename(columns={'index':'Month',0:'Tweet count'})\n",
    "\n",
    "df['Month']= pd.to_datetime(df['Month'])\n",
    "\n",
    "# Create a selection that chooses the nearest point & selects based on x-value\n",
    "nearest = alt.selection(type='single', nearest=True, on='mouseover',\n",
    "                        fields=['Month'], empty='none')\n",
    "\n",
    "\n",
    "chart = alt.Chart(df).mark_area(\n",
    "    #point= True,\n",
    "    line={'color':'#126DC5'},\n",
    "    color=alt.Gradient(\n",
    "        gradient='linear',\n",
    "        stops=[alt.GradientStop(color='white', offset=0),\n",
    "               alt.GradientStop(color='mediumturquoise', offset=1)],\n",
    "        x1=1,\n",
    "        x2=1,\n",
    "        y1=1,\n",
    "        y2=0\n",
    "    )\n",
    ").properties(width=700, height=300,  title = \"Number of Tweets during the year\").encode(\n",
    "    #alt.X('Month', sort = ['Jan','Feb','Mar','Apr','May','Jun','Jul','Aug']),\n",
    "    alt.X('Month'),\n",
    "    alt.Y('Tweet count:Q')\n",
    "    #tooltip=['Month', 'Tweet count']\n",
    ")\n",
    "\n",
    "# Transparent selectors across the chart. This is what tells us\n",
    "# the x-value of the cursor\n",
    "selectors = alt.Chart(df).mark_point().encode(\n",
    "    #x=alt.X('Month', sort = ['Jan','Feb','Mar','Apr','May','Jun','Jul','Aug']),\n",
    "    x=alt.X('Month'),\n",
    "    opacity=alt.value(0),\n",
    ").add_selection(\n",
    "    nearest\n",
    ")\n",
    "\n",
    "# Draw points on the line, and highlight based on selection\n",
    "points = chart.mark_point().encode(\n",
    "    opacity=alt.condition(nearest, alt.value(1), alt.value(0))\n",
    ")\n",
    "\n",
    "# Draw text labels near the points, and highlight based on selection\n",
    "text = chart.mark_text(align='left', dx=5, dy=-5).encode(\n",
    "    text=alt.condition(nearest, 'Tweet count:Q', alt.value(' '))\n",
    ")\n",
    "\n",
    "# Draw a rule at the location of the selection\n",
    "rules = alt.Chart(df).mark_rule(color='gray').encode(\n",
    "    #x=alt.X('Month', sort = ['Jan','Feb','Mar','Apr','May','Jun','Jul','Aug']),\n",
    "     x=alt.X('Month'),\n",
    ").transform_filter(\n",
    "    nearest\n",
    ")\n",
    "\n",
    "# Put the five layers into a chart and bind the data\n",
    "alt.layer(\n",
    "    chart, selectors, points, rules, text\n",
    ").properties(\n",
    "    width=700, height=300\n",
    ").configure_title(\n",
    "    fontSize=17,\n",
    "    offset=25\n",
    ").configure_axis(\n",
    "    labelFontSize=13,\n",
    "    titleFontSize=15,\n",
    "    titlePadding=15\n",
    ")"
   ]
  },
  {
   "cell_type": "markdown",
   "id": "enormous-piano",
   "metadata": {},
   "source": [
    "## Multi-Line Chart: number of tweets created each month and classified by their category"
   ]
  },
  {
   "cell_type": "markdown",
   "id": "extraordinary-celebration",
   "metadata": {},
   "source": [
    "Here the goal is still to create a multi-line chart that shows the trend of the number of tweets created during the year (grouped by month) but here we are going to visualize two lines: one for the FALSE tweets and one for the PARTIALLY FALSE tweets."
   ]
  },
  {
   "cell_type": "code",
   "execution_count": 7,
   "id": "floral-oakland",
   "metadata": {},
   "outputs": [],
   "source": [
    "csv_dataframe = pd.read_csv('dataset/FINAL_fakecovid_final_filtered_dataset_clean.csv',sep=\";\")\n",
    "csv_dataframe['tweet_id'] = csv_dataframe['tweet_id'].astype(str)\n",
    "csv_list = csv_dataframe.values.tolist()\n",
    "lista_unica_csv=list(itertools.chain.from_iterable(csv_list))\n",
    "\n",
    "\n",
    "index=0\n",
    "cmt_list = [] \n",
    "for element in data:\n",
    "    token_id = data[index]['id_str']\n",
    "    indice_csv = lista_unica_csv.index(token_id)\n",
    "    token = data[index]['created_at']\n",
    "    d = parse(token)\n",
    "    d = d.strftime('%Y/%m/%d')\n",
    "    #final_token = token[4:7] + \" \" +lista_unica_csv[indice_csv+1].lower().replace(\" \", \"\")\n",
    "    final_token = d + \" \" +lista_unica_csv[indice_csv+1].lower().replace(\" \", \"\")\n",
    "    \n",
    "    cmt_list.append(final_token)\n",
    "    index=index+1\n",
    "    \n",
    "fdist = dict(nltk.FreqDist(cmt_list))\n",
    "df = pd.DataFrame.from_dict(fdist, orient='index').reset_index()\n",
    "df = df.rename(columns={'index':'Month', 0:'count'})"
   ]
  },
  {
   "cell_type": "markdown",
   "id": "equal-toilet",
   "metadata": {},
   "source": [
    "Once the dataset is created, we work on it to create a better visualisation:"
   ]
  },
  {
   "cell_type": "code",
   "execution_count": 8,
   "id": "pursuant-cincinnati",
   "metadata": {},
   "outputs": [],
   "source": [
    "col_one_list = df['Month'].tolist()\n",
    "col_two_list = df['count'].tolist()\n",
    "\n",
    "typelist=[]\n",
    "namelist=[]\n",
    "\n",
    "index = 0\n",
    "\n",
    "count_false = [0] * len(col_one_list)\n",
    "count_part = [0] * len(col_one_list)\n",
    "\n",
    "for el in col_one_list:\n",
    "    tok = el.split()\n",
    "    namelist.append(tok[0])\n",
    "    #typelist.append(tok[1])\n",
    "    if tok[0] in namelist:\n",
    "        indx = namelist.index(tok[0])\n",
    "        if tok[1] == \"false\":\n",
    "            count_false[indx] = col_two_list[index]\n",
    "        elif tok[1] == \"partiallyfalse\":\n",
    "            count_part[indx] = col_two_list[index]\n",
    "        else:\n",
    "            print(\"errore\")\n",
    "   \n",
    "    index = index + 1\n",
    "\n",
    "df['Month']=namelist\n",
    "df['False Tweets']=count_false\n",
    "df['Partially False Tweets']=count_part\n",
    "del df['count'] #clean column\n",
    "df['count'] = df['False Tweets'] + df['Partially False Tweets']\n",
    "\n",
    "df['Month']= pd.to_datetime(df['Month'])\n",
    "#print(df.to_string())"
   ]
  },
  {
   "cell_type": "markdown",
   "id": "beautiful-compilation",
   "metadata": {},
   "source": [
    "Plot the chart:"
   ]
  },
  {
   "cell_type": "code",
   "execution_count": 9,
   "id": "miniature-crossing",
   "metadata": {},
   "outputs": [
    {
     "data": {
      "text/html": [
       "\n",
       "<div id=\"altair-viz-8d2d400624df40c9b81b75bb21379723\"></div>\n",
       "<script type=\"text/javascript\">\n",
       "  (function(spec, embedOpt){\n",
       "    let outputDiv = document.currentScript.previousElementSibling;\n",
       "    if (outputDiv.id !== \"altair-viz-8d2d400624df40c9b81b75bb21379723\") {\n",
       "      outputDiv = document.getElementById(\"altair-viz-8d2d400624df40c9b81b75bb21379723\");\n",
       "    }\n",
       "    const paths = {\n",
       "      \"vega\": \"https://cdn.jsdelivr.net/npm//vega@5?noext\",\n",
       "      \"vega-lib\": \"https://cdn.jsdelivr.net/npm//vega-lib?noext\",\n",
       "      \"vega-lite\": \"https://cdn.jsdelivr.net/npm//vega-lite@4.8.1?noext\",\n",
       "      \"vega-embed\": \"https://cdn.jsdelivr.net/npm//vega-embed@6?noext\",\n",
       "    };\n",
       "\n",
       "    function loadScript(lib) {\n",
       "      return new Promise(function(resolve, reject) {\n",
       "        var s = document.createElement('script');\n",
       "        s.src = paths[lib];\n",
       "        s.async = true;\n",
       "        s.onload = () => resolve(paths[lib]);\n",
       "        s.onerror = () => reject(`Error loading script: ${paths[lib]}`);\n",
       "        document.getElementsByTagName(\"head\")[0].appendChild(s);\n",
       "      });\n",
       "    }\n",
       "\n",
       "    function showError(err) {\n",
       "      outputDiv.innerHTML = `<div class=\"error\" style=\"color:red;\">${err}</div>`;\n",
       "      throw err;\n",
       "    }\n",
       "\n",
       "    function displayChart(vegaEmbed) {\n",
       "      vegaEmbed(outputDiv, spec, embedOpt)\n",
       "        .catch(err => showError(`Javascript Error: ${err.message}<br>This usually means there's a typo in your chart specification. See the javascript console for the full traceback.`));\n",
       "    }\n",
       "\n",
       "    if(typeof define === \"function\" && define.amd) {\n",
       "      requirejs.config({paths});\n",
       "      require([\"vega-embed\"], displayChart, err => showError(`Error loading script: ${err.message}`));\n",
       "    } else if (typeof vegaEmbed === \"function\") {\n",
       "      displayChart(vegaEmbed);\n",
       "    } else {\n",
       "      loadScript(\"vega\")\n",
       "        .then(() => loadScript(\"vega-lite\"))\n",
       "        .then(() => loadScript(\"vega-embed\"))\n",
       "        .catch(showError)\n",
       "        .then(() => displayChart(vegaEmbed));\n",
       "    }\n",
       "  })({\"config\": {\"view\": {\"continuousWidth\": 400, \"continuousHeight\": 300}, \"axis\": {\"labelFontSize\": 13, \"titleFontSize\": 15, \"titlePadding\": 10}, \"legend\": {\"labelFontSize\": 12, \"titleFontSize\": 14, \"titlePadding\": 10}, \"title\": {\"fontSize\": 17, \"offset\": 25}}, \"layer\": [{\"mark\": \"line\", \"encoding\": {\"color\": {\"type\": \"nominal\", \"field\": \"key\", \"scale\": {\"range\": [\"#5D3A9B\", \"#E66100\"]}, \"title\": \"Category\"}, \"x\": {\"type\": \"temporal\", \"field\": \"Month\"}, \"y\": {\"type\": \"quantitative\", \"field\": \"value\", \"title\": \"Tweet count\"}}, \"title\": \"Number of tweets created and classified by their category\", \"transform\": [{\"fold\": [\"False Tweets\", \"Partially False Tweets\"]}, {\"filter\": {\"field\": \"count\", \"range\": [1, 1000]}}], \"width\": 600}, {\"mark\": \"point\", \"encoding\": {\"opacity\": {\"value\": 0}, \"x\": {\"type\": \"temporal\", \"field\": \"Month\"}}, \"selection\": {\"selector002\": {\"type\": \"single\", \"nearest\": true, \"on\": \"mouseover\", \"fields\": [\"Month\"], \"empty\": \"none\"}}}, {\"mark\": \"point\", \"encoding\": {\"color\": {\"type\": \"nominal\", \"field\": \"key\", \"scale\": {\"range\": [\"#5D3A9B\", \"#E66100\"]}, \"title\": \"Category\"}, \"opacity\": {\"condition\": {\"value\": 1, \"selection\": \"selector002\"}, \"value\": 0}, \"x\": {\"type\": \"temporal\", \"field\": \"Month\"}, \"y\": {\"type\": \"quantitative\", \"field\": \"value\", \"title\": \"Tweet count\"}}, \"title\": \"Number of tweets created and classified by their category\", \"transform\": [{\"fold\": [\"False Tweets\", \"Partially False Tweets\"]}, {\"filter\": {\"field\": \"count\", \"range\": [1, 1000]}}], \"width\": 600}, {\"mark\": {\"type\": \"rule\", \"color\": \"gray\"}, \"encoding\": {\"x\": {\"type\": \"temporal\", \"field\": \"Month\"}}, \"transform\": [{\"filter\": {\"selection\": \"selector002\"}}]}, {\"mark\": {\"type\": \"text\", \"align\": \"left\", \"dx\": 5, \"dy\": -5}, \"encoding\": {\"color\": {\"type\": \"nominal\", \"field\": \"key\", \"scale\": {\"range\": [\"#5D3A9B\", \"#E66100\"]}, \"title\": \"Category\"}, \"text\": {\"condition\": {\"type\": \"quantitative\", \"field\": \"value\", \"selection\": \"selector002\"}, \"value\": \" \"}, \"x\": {\"type\": \"temporal\", \"field\": \"Month\"}, \"y\": {\"type\": \"quantitative\", \"field\": \"value\", \"title\": \"Tweet count\"}}, \"title\": \"Number of tweets created and classified by their category\", \"transform\": [{\"fold\": [\"False Tweets\", \"Partially False Tweets\"]}, {\"filter\": {\"field\": \"count\", \"range\": [1, 1000]}}], \"width\": 600}], \"data\": {\"name\": \"data-03028c362f3e7ebd3d85bab5ee2bd483\"}, \"height\": 300, \"width\": 700, \"$schema\": \"https://vega.github.io/schema/vega-lite/v4.8.1.json\", \"datasets\": {\"data-03028c362f3e7ebd3d85bab5ee2bd483\": [{\"Month\": \"2020-02-02T00:00:00\", \"False Tweets\": 4, \"Partially False Tweets\": 1, \"count\": 5}, {\"Month\": \"2020-02-11T00:00:00\", \"False Tweets\": 4, \"Partially False Tweets\": 2, \"count\": 6}, {\"Month\": \"2020-02-15T00:00:00\", \"False Tweets\": 1, \"Partially False Tweets\": 0, \"count\": 1}, {\"Month\": \"2020-02-16T00:00:00\", \"False Tweets\": 1, \"Partially False Tweets\": 2, \"count\": 3}, {\"Month\": \"2020-03-04T00:00:00\", \"False Tweets\": 6, \"Partially False Tweets\": 1, \"count\": 7}, {\"Month\": \"2020-03-11T00:00:00\", \"False Tweets\": 12, \"Partially False Tweets\": 1, \"count\": 13}, {\"Month\": \"2020-03-24T00:00:00\", \"False Tweets\": 21, \"Partially False Tweets\": 4, \"count\": 25}, {\"Month\": \"2020-03-26T00:00:00\", \"False Tweets\": 11, \"Partially False Tweets\": 6, \"count\": 17}, {\"Month\": \"2020-03-27T00:00:00\", \"False Tweets\": 15, \"Partially False Tweets\": 4, \"count\": 19}, {\"Month\": \"2020-04-08T00:00:00\", \"False Tweets\": 15, \"Partially False Tweets\": 3, \"count\": 18}, {\"Month\": \"2020-04-09T00:00:00\", \"False Tweets\": 14, \"Partially False Tweets\": 1, \"count\": 15}, {\"Month\": \"2020-04-15T00:00:00\", \"False Tweets\": 16, \"Partially False Tweets\": 2, \"count\": 18}, {\"Month\": \"2020-04-21T00:00:00\", \"False Tweets\": 12, \"Partially False Tweets\": 3, \"count\": 15}, {\"Month\": \"2020-04-24T00:00:00\", \"False Tweets\": 9, \"Partially False Tweets\": 0, \"count\": 9}, {\"Month\": \"2020-04-28T00:00:00\", \"False Tweets\": 10, \"Partially False Tweets\": 0, \"count\": 10}, {\"Month\": \"2020-05-03T00:00:00\", \"False Tweets\": 11, \"Partially False Tweets\": 0, \"count\": 11}, {\"Month\": \"2020-05-06T00:00:00\", \"False Tweets\": 10, \"Partially False Tweets\": 1, \"count\": 11}, {\"Month\": \"2020-05-07T00:00:00\", \"False Tweets\": 9, \"Partially False Tweets\": 1, \"count\": 10}, {\"Month\": \"2020-05-10T00:00:00\", \"False Tweets\": 7, \"Partially False Tweets\": 0, \"count\": 7}, {\"Month\": \"2020-05-16T00:00:00\", \"False Tweets\": 7, \"Partially False Tweets\": 0, \"count\": 7}, {\"Month\": \"2020-05-19T00:00:00\", \"False Tweets\": 2, \"Partially False Tweets\": 4, \"count\": 6}, {\"Month\": \"2020-05-20T00:00:00\", \"False Tweets\": 10, \"Partially False Tweets\": 2, \"count\": 12}, {\"Month\": \"2020-05-21T00:00:00\", \"False Tweets\": 12, \"Partially False Tweets\": 1, \"count\": 13}, {\"Month\": \"2020-05-24T00:00:00\", \"False Tweets\": 5, \"Partially False Tweets\": 0, \"count\": 5}, {\"Month\": \"2020-05-25T00:00:00\", \"False Tweets\": 11, \"Partially False Tweets\": 2, \"count\": 13}, {\"Month\": \"2020-05-26T00:00:00\", \"False Tweets\": 6, \"Partially False Tweets\": 6, \"count\": 12}, {\"Month\": \"2020-05-26T00:00:00\", \"False Tweets\": 0, \"Partially False Tweets\": 0, \"count\": 0}, {\"Month\": \"2020-05-27T00:00:00\", \"False Tweets\": 4, \"Partially False Tweets\": 6, \"count\": 10}, {\"Month\": \"2020-05-27T00:00:00\", \"False Tweets\": 0, \"Partially False Tweets\": 0, \"count\": 0}, {\"Month\": \"2020-06-01T00:00:00\", \"False Tweets\": 1, \"Partially False Tweets\": 1, \"count\": 2}, {\"Month\": \"2020-06-04T00:00:00\", \"False Tweets\": 3, \"Partially False Tweets\": 1, \"count\": 4}, {\"Month\": \"2020-06-06T00:00:00\", \"False Tweets\": 4, \"Partially False Tweets\": 1, \"count\": 5}, {\"Month\": \"2020-06-08T00:00:00\", \"False Tweets\": 6, \"Partially False Tweets\": 3, \"count\": 9}, {\"Month\": \"2020-06-08T00:00:00\", \"False Tweets\": 0, \"Partially False Tweets\": 0, \"count\": 0}, {\"Month\": \"2020-06-09T00:00:00\", \"False Tweets\": 4, \"Partially False Tweets\": 1, \"count\": 5}, {\"Month\": \"2020-06-10T00:00:00\", \"False Tweets\": 2, \"Partially False Tweets\": 0, \"count\": 2}, {\"Month\": \"2020-06-11T00:00:00\", \"False Tweets\": 4, \"Partially False Tweets\": 1, \"count\": 5}, {\"Month\": \"2020-06-11T00:00:00\", \"False Tweets\": 0, \"Partially False Tweets\": 0, \"count\": 0}, {\"Month\": \"2020-06-12T00:00:00\", \"False Tweets\": 4, \"Partially False Tweets\": 1, \"count\": 5}, {\"Month\": \"2020-06-13T00:00:00\", \"False Tweets\": 1, \"Partially False Tweets\": 1, \"count\": 2}, {\"Month\": \"2020-06-14T00:00:00\", \"False Tweets\": 4, \"Partially False Tweets\": 1, \"count\": 5}, {\"Month\": \"2020-06-14T00:00:00\", \"False Tweets\": 0, \"Partially False Tweets\": 0, \"count\": 0}, {\"Month\": \"2020-06-16T00:00:00\", \"False Tweets\": 1, \"Partially False Tweets\": 0, \"count\": 1}, {\"Month\": \"2020-06-17T00:00:00\", \"False Tweets\": 2, \"Partially False Tweets\": 0, \"count\": 2}, {\"Month\": \"2020-06-24T00:00:00\", \"False Tweets\": 5, \"Partially False Tweets\": 1, \"count\": 6}, {\"Month\": \"2020-06-24T00:00:00\", \"False Tweets\": 0, \"Partially False Tweets\": 0, \"count\": 0}, {\"Month\": \"2020-06-25T00:00:00\", \"False Tweets\": 4, \"Partially False Tweets\": 1, \"count\": 5}, {\"Month\": \"2020-06-25T00:00:00\", \"False Tweets\": 0, \"Partially False Tweets\": 0, \"count\": 0}, {\"Month\": \"2020-06-26T00:00:00\", \"False Tweets\": 0, \"Partially False Tweets\": 1, \"count\": 1}, {\"Month\": \"2020-06-30T00:00:00\", \"False Tweets\": 1, \"Partially False Tweets\": 2, \"count\": 3}, {\"Month\": \"2020-06-30T00:00:00\", \"False Tweets\": 0, \"Partially False Tweets\": 0, \"count\": 0}, {\"Month\": \"2020-07-01T00:00:00\", \"False Tweets\": 1, \"Partially False Tweets\": 2, \"count\": 3}, {\"Month\": \"2020-07-03T00:00:00\", \"False Tweets\": 2, \"Partially False Tweets\": 0, \"count\": 2}, {\"Month\": \"2020-07-08T00:00:00\", \"False Tweets\": 0, \"Partially False Tweets\": 1, \"count\": 1}, {\"Month\": \"2020-07-18T00:00:00\", \"False Tweets\": 0, \"Partially False Tweets\": 2, \"count\": 2}, {\"Month\": \"2020-07-24T00:00:00\", \"False Tweets\": 3, \"Partially False Tweets\": 0, \"count\": 3}, {\"Month\": \"2020-07-30T00:00:00\", \"False Tweets\": 1, \"Partially False Tweets\": 2, \"count\": 3}, {\"Month\": \"2020-08-07T00:00:00\", \"False Tweets\": 2, \"Partially False Tweets\": 1, \"count\": 3}, {\"Month\": \"2020-08-11T00:00:00\", \"False Tweets\": 3, \"Partially False Tweets\": 3, \"count\": 6}, {\"Month\": \"2020-08-12T00:00:00\", \"False Tweets\": 3, \"Partially False Tweets\": 1, \"count\": 4}, {\"Month\": \"2020-08-13T00:00:00\", \"False Tweets\": 0, \"Partially False Tweets\": 1, \"count\": 1}, {\"Month\": \"2020-01-16T00:00:00\", \"False Tweets\": 2, \"Partially False Tweets\": 2, \"count\": 4}, {\"Month\": \"2020-01-27T00:00:00\", \"False Tweets\": 5, \"Partially False Tweets\": 2, \"count\": 7}, {\"Month\": \"2020-02-10T00:00:00\", \"False Tweets\": 1, \"Partially False Tweets\": 0, \"count\": 1}, {\"Month\": \"2020-02-29T00:00:00\", \"False Tweets\": 4, \"Partially False Tweets\": 2, \"count\": 6}, {\"Month\": \"2020-03-15T00:00:00\", \"False Tweets\": 26, \"Partially False Tweets\": 2, \"count\": 28}, {\"Month\": \"2020-03-20T00:00:00\", \"False Tweets\": 19, \"Partially False Tweets\": 6, \"count\": 25}, {\"Month\": \"2020-03-23T00:00:00\", \"False Tweets\": 23, \"Partially False Tweets\": 4, \"count\": 27}, {\"Month\": \"2020-03-27T00:00:00\", \"False Tweets\": 0, \"Partially False Tweets\": 0, \"count\": 0}, {\"Month\": \"2020-04-12T00:00:00\", \"False Tweets\": 6, \"Partially False Tweets\": 1, \"count\": 7}, {\"Month\": \"2020-04-15T00:00:00\", \"False Tweets\": 0, \"Partially False Tweets\": 0, \"count\": 0}, {\"Month\": \"2020-04-26T00:00:00\", \"False Tweets\": 19, \"Partially False Tweets\": 4, \"count\": 23}, {\"Month\": \"2020-04-29T00:00:00\", \"False Tweets\": 11, \"Partially False Tweets\": 0, \"count\": 11}, {\"Month\": \"2020-05-02T00:00:00\", \"False Tweets\": 11, \"Partially False Tweets\": 1, \"count\": 12}, {\"Month\": \"2020-05-06T00:00:00\", \"False Tweets\": 0, \"Partially False Tweets\": 0, \"count\": 0}, {\"Month\": \"2020-05-11T00:00:00\", \"False Tweets\": 6, \"Partially False Tweets\": 2, \"count\": 8}, {\"Month\": \"2020-05-12T00:00:00\", \"False Tweets\": 17, \"Partially False Tweets\": 3, \"count\": 20}, {\"Month\": \"2020-05-13T00:00:00\", \"False Tweets\": 7, \"Partially False Tweets\": 3, \"count\": 10}, {\"Month\": \"2020-05-14T00:00:00\", \"False Tweets\": 5, \"Partially False Tweets\": 1, \"count\": 6}, {\"Month\": \"2020-05-18T00:00:00\", \"False Tweets\": 3, \"Partially False Tweets\": 2, \"count\": 5}, {\"Month\": \"2020-05-18T00:00:00\", \"False Tweets\": 0, \"Partially False Tweets\": 0, \"count\": 0}, {\"Month\": \"2020-05-19T00:00:00\", \"False Tweets\": 0, \"Partially False Tweets\": 0, \"count\": 0}, {\"Month\": \"2020-05-20T00:00:00\", \"False Tweets\": 0, \"Partially False Tweets\": 0, \"count\": 0}, {\"Month\": \"2020-05-22T00:00:00\", \"False Tweets\": 3, \"Partially False Tweets\": 1, \"count\": 4}, {\"Month\": \"2020-05-25T00:00:00\", \"False Tweets\": 0, \"Partially False Tweets\": 0, \"count\": 0}, {\"Month\": \"2020-05-28T00:00:00\", \"False Tweets\": 1, \"Partially False Tweets\": 0, \"count\": 1}, {\"Month\": \"2020-05-29T00:00:00\", \"False Tweets\": 4, \"Partially False Tweets\": 0, \"count\": 4}, {\"Month\": \"2020-06-01T00:00:00\", \"False Tweets\": 0, \"Partially False Tweets\": 0, \"count\": 0}, {\"Month\": \"2020-06-02T00:00:00\", \"False Tweets\": 1, \"Partially False Tweets\": 1, \"count\": 2}, {\"Month\": \"2020-06-02T00:00:00\", \"False Tweets\": 0, \"Partially False Tweets\": 0, \"count\": 0}, {\"Month\": \"2020-06-04T00:00:00\", \"False Tweets\": 0, \"Partially False Tweets\": 0, \"count\": 0}, {\"Month\": \"2020-06-05T00:00:00\", \"False Tweets\": 2, \"Partially False Tweets\": 1, \"count\": 3}, {\"Month\": \"2020-06-09T00:00:00\", \"False Tweets\": 0, \"Partially False Tweets\": 0, \"count\": 0}, {\"Month\": \"2020-06-23T00:00:00\", \"False Tweets\": 1, \"Partially False Tweets\": 0, \"count\": 1}, {\"Month\": \"2020-08-06T00:00:00\", \"False Tweets\": 0, \"Partially False Tweets\": 1, \"count\": 1}, {\"Month\": \"2020-08-07T00:00:00\", \"False Tweets\": 0, \"Partially False Tweets\": 0, \"count\": 0}, {\"Month\": \"2020-08-08T00:00:00\", \"False Tweets\": 2, \"Partially False Tweets\": 0, \"count\": 2}, {\"Month\": \"2020-08-11T00:00:00\", \"False Tweets\": 0, \"Partially False Tweets\": 0, \"count\": 0}, {\"Month\": \"2020-08-12T00:00:00\", \"False Tweets\": 0, \"Partially False Tweets\": 0, \"count\": 0}, {\"Month\": \"2020-08-15T00:00:00\", \"False Tweets\": 1, \"Partially False Tweets\": 0, \"count\": 1}, {\"Month\": \"2020-01-16T00:00:00\", \"False Tweets\": 0, \"Partially False Tweets\": 0, \"count\": 0}, {\"Month\": \"2020-02-16T00:00:00\", \"False Tweets\": 0, \"Partially False Tweets\": 0, \"count\": 0}, {\"Month\": \"2020-03-05T00:00:00\", \"False Tweets\": 8, \"Partially False Tweets\": 3, \"count\": 11}, {\"Month\": \"2020-03-06T00:00:00\", \"False Tweets\": 8, \"Partially False Tweets\": 2, \"count\": 10}, {\"Month\": \"2020-03-18T00:00:00\", \"False Tweets\": 29, \"Partially False Tweets\": 5, \"count\": 34}, {\"Month\": \"2020-03-22T00:00:00\", \"False Tweets\": 19, \"Partially False Tweets\": 11, \"count\": 30}, {\"Month\": \"2020-03-28T00:00:00\", \"False Tweets\": 12, \"Partially False Tweets\": 3, \"count\": 15}, {\"Month\": \"2020-03-31T00:00:00\", \"False Tweets\": 15, \"Partially False Tweets\": 3, \"count\": 18}, {\"Month\": \"2020-04-01T00:00:00\", \"False Tweets\": 9, \"Partially False Tweets\": 2, \"count\": 11}, {\"Month\": \"2020-04-03T00:00:00\", \"False Tweets\": 12, \"Partially False Tweets\": 8, \"count\": 20}, {\"Month\": \"2020-04-12T00:00:00\", \"False Tweets\": 0, \"Partially False Tweets\": 0, \"count\": 0}, {\"Month\": \"2020-04-17T00:00:00\", \"False Tweets\": 5, \"Partially False Tweets\": 0, \"count\": 5}, {\"Month\": \"2020-04-18T00:00:00\", \"False Tweets\": 3, \"Partially False Tweets\": 4, \"count\": 7}, {\"Month\": \"2020-04-19T00:00:00\", \"False Tweets\": 6, \"Partially False Tweets\": 2, \"count\": 8}, {\"Month\": \"2020-04-20T00:00:00\", \"False Tweets\": 8, \"Partially False Tweets\": 2, \"count\": 10}, {\"Month\": \"2020-04-20T00:00:00\", \"False Tweets\": 0, \"Partially False Tweets\": 0, \"count\": 0}, {\"Month\": \"2020-04-30T00:00:00\", \"False Tweets\": 5, \"Partially False Tweets\": 0, \"count\": 5}, {\"Month\": \"2020-05-01T00:00:00\", \"False Tweets\": 2, \"Partially False Tweets\": 1, \"count\": 3}, {\"Month\": \"2020-05-02T00:00:00\", \"False Tweets\": 0, \"Partially False Tweets\": 0, \"count\": 0}, {\"Month\": \"2020-05-04T00:00:00\", \"False Tweets\": 7, \"Partially False Tweets\": 1, \"count\": 8}, {\"Month\": \"2020-05-08T00:00:00\", \"False Tweets\": 15, \"Partially False Tweets\": 1, \"count\": 16}, {\"Month\": \"2020-05-08T00:00:00\", \"False Tweets\": 0, \"Partially False Tweets\": 0, \"count\": 0}, {\"Month\": \"2020-05-09T00:00:00\", \"False Tweets\": 5, \"Partially False Tweets\": 0, \"count\": 5}, {\"Month\": \"2020-05-11T00:00:00\", \"False Tweets\": 0, \"Partially False Tweets\": 0, \"count\": 0}, {\"Month\": \"2020-05-12T00:00:00\", \"False Tweets\": 0, \"Partially False Tweets\": 0, \"count\": 0}, {\"Month\": \"2020-05-15T00:00:00\", \"False Tweets\": 1, \"Partially False Tweets\": 1, \"count\": 2}, {\"Month\": \"2020-05-17T00:00:00\", \"False Tweets\": 4, \"Partially False Tweets\": 0, \"count\": 4}, {\"Month\": \"2020-05-21T00:00:00\", \"False Tweets\": 0, \"Partially False Tweets\": 0, \"count\": 0}, {\"Month\": \"2020-07-31T00:00:00\", \"False Tweets\": 2, \"Partially False Tweets\": 0, \"count\": 2}, {\"Month\": \"2020-08-09T00:00:00\", \"False Tweets\": 0, \"Partially False Tweets\": 1, \"count\": 1}, {\"Month\": \"2020-08-10T00:00:00\", \"False Tweets\": 2, \"Partially False Tweets\": 0, \"count\": 2}, {\"Month\": \"2020-08-26T00:00:00\", \"False Tweets\": 1, \"Partially False Tweets\": 0, \"count\": 1}, {\"Month\": \"2020-01-14T00:00:00\", \"False Tweets\": 0, \"Partially False Tweets\": 1, \"count\": 1}, {\"Month\": \"2020-02-01T00:00:00\", \"False Tweets\": 2, \"Partially False Tweets\": 0, \"count\": 2}, {\"Month\": \"2020-02-04T00:00:00\", \"False Tweets\": 2, \"Partially False Tweets\": 0, \"count\": 2}, {\"Month\": \"2020-02-26T00:00:00\", \"False Tweets\": 2, \"Partially False Tweets\": 2, \"count\": 4}, {\"Month\": \"2020-03-07T00:00:00\", \"False Tweets\": 6, \"Partially False Tweets\": 0, \"count\": 6}, {\"Month\": \"2020-03-14T00:00:00\", \"False Tweets\": 14, \"Partially False Tweets\": 3, \"count\": 17}, {\"Month\": \"2020-03-16T00:00:00\", \"False Tweets\": 33, \"Partially False Tweets\": 5, \"count\": 38}, {\"Month\": \"2020-03-19T00:00:00\", \"False Tweets\": 12, \"Partially False Tweets\": 6, \"count\": 18}, {\"Month\": \"2020-03-22T00:00:00\", \"False Tweets\": 0, \"Partially False Tweets\": 0, \"count\": 0}, {\"Month\": \"2020-03-30T00:00:00\", \"False Tweets\": 22, \"Partially False Tweets\": 4, \"count\": 26}, {\"Month\": \"2020-03-30T00:00:00\", \"False Tweets\": 0, \"Partially False Tweets\": 0, \"count\": 0}, {\"Month\": \"2020-04-06T00:00:00\", \"False Tweets\": 17, \"Partially False Tweets\": 3, \"count\": 20}, {\"Month\": \"2020-04-07T00:00:00\", \"False Tweets\": 14, \"Partially False Tweets\": 2, \"count\": 16}, {\"Month\": \"2020-04-10T00:00:00\", \"False Tweets\": 11, \"Partially False Tweets\": 3, \"count\": 14}, {\"Month\": \"2020-04-22T00:00:00\", \"False Tweets\": 9, \"Partially False Tweets\": 2, \"count\": 11}, {\"Month\": \"2020-04-25T00:00:00\", \"False Tweets\": 4, \"Partially False Tweets\": 0, \"count\": 4}, {\"Month\": \"2020-05-05T00:00:00\", \"False Tweets\": 2, \"Partially False Tweets\": 0, \"count\": 2}, {\"Month\": \"2020-05-15T00:00:00\", \"False Tweets\": 0, \"Partially False Tweets\": 0, \"count\": 0}, {\"Month\": \"2020-05-23T00:00:00\", \"False Tweets\": 0, \"Partially False Tweets\": 2, \"count\": 2}, {\"Month\": \"2020-08-01T00:00:00\", \"False Tweets\": 2, \"Partially False Tweets\": 0, \"count\": 2}, {\"Month\": \"2020-08-02T00:00:00\", \"False Tweets\": 1, \"Partially False Tweets\": 0, \"count\": 1}, {\"Month\": \"2020-08-03T00:00:00\", \"False Tweets\": 0, \"Partially False Tweets\": 1, \"count\": 1}, {\"Month\": \"2020-08-04T00:00:00\", \"False Tweets\": 1, \"Partially False Tweets\": 0, \"count\": 1}, {\"Month\": \"2020-08-27T00:00:00\", \"False Tweets\": 0, \"Partially False Tweets\": 4, \"count\": 4}, {\"Month\": \"2020-08-31T00:00:00\", \"False Tweets\": 2, \"Partially False Tweets\": 0, \"count\": 2}, {\"Month\": \"2020-03-21T00:00:00\", \"False Tweets\": 17, \"Partially False Tweets\": 7, \"count\": 24}, {\"Month\": \"2020-03-23T00:00:00\", \"False Tweets\": 0, \"Partially False Tweets\": 0, \"count\": 0}, {\"Month\": \"2020-04-02T00:00:00\", \"False Tweets\": 18, \"Partially False Tweets\": 1, \"count\": 19}, {\"Month\": \"2020-04-04T00:00:00\", \"False Tweets\": 9, \"Partially False Tweets\": 5, \"count\": 14}, {\"Month\": \"2020-04-05T00:00:00\", \"False Tweets\": 13, \"Partially False Tweets\": 2, \"count\": 15}, {\"Month\": \"2020-04-14T00:00:00\", \"False Tweets\": 8, \"Partially False Tweets\": 1, \"count\": 9}, {\"Month\": \"2020-04-18T00:00:00\", \"False Tweets\": 0, \"Partially False Tweets\": 0, \"count\": 0}, {\"Month\": \"2020-04-19T00:00:00\", \"False Tweets\": 0, \"Partially False Tweets\": 0, \"count\": 0}, {\"Month\": \"2020-04-22T00:00:00\", \"False Tweets\": 0, \"Partially False Tweets\": 0, \"count\": 0}, {\"Month\": \"2020-04-23T00:00:00\", \"False Tweets\": 4, \"Partially False Tweets\": 0, \"count\": 4}, {\"Month\": \"2020-04-26T00:00:00\", \"False Tweets\": 0, \"Partially False Tweets\": 0, \"count\": 0}, {\"Month\": \"2020-04-27T00:00:00\", \"False Tweets\": 4, \"Partially False Tweets\": 1, \"count\": 5}, {\"Month\": \"2020-04-27T00:00:00\", \"False Tweets\": 0, \"Partially False Tweets\": 0, \"count\": 0}, {\"Month\": \"2020-05-04T00:00:00\", \"False Tweets\": 0, \"Partially False Tweets\": 0, \"count\": 0}, {\"Month\": \"2020-05-07T00:00:00\", \"False Tweets\": 0, \"Partially False Tweets\": 0, \"count\": 0}, {\"Month\": \"2020-05-22T00:00:00\", \"False Tweets\": 0, \"Partially False Tweets\": 0, \"count\": 0}, {\"Month\": \"2020-06-03T00:00:00\", \"False Tweets\": 1, \"Partially False Tweets\": 1, \"count\": 2}, {\"Month\": \"2020-07-06T00:00:00\", \"False Tweets\": 1, \"Partially False Tweets\": 0, \"count\": 1}, {\"Month\": \"2020-07-27T00:00:00\", \"False Tweets\": 1, \"Partially False Tweets\": 0, \"count\": 1}, {\"Month\": \"2020-08-30T00:00:00\", \"False Tweets\": 1, \"Partially False Tweets\": 0, \"count\": 1}, {\"Month\": \"2020-01-19T00:00:00\", \"False Tweets\": 1, \"Partially False Tweets\": 1, \"count\": 2}, {\"Month\": \"2020-01-21T00:00:00\", \"False Tweets\": 1, \"Partially False Tweets\": 1, \"count\": 2}, {\"Month\": \"2020-01-31T00:00:00\", \"False Tweets\": 7, \"Partially False Tweets\": 1, \"count\": 8}, {\"Month\": \"2020-03-02T00:00:00\", \"False Tweets\": 8, \"Partially False Tweets\": 2, \"count\": 10}, {\"Month\": \"2020-03-03T00:00:00\", \"False Tweets\": 7, \"Partially False Tweets\": 1, \"count\": 8}, {\"Month\": \"2020-03-17T00:00:00\", \"False Tweets\": 18, \"Partially False Tweets\": 3, \"count\": 21}, {\"Month\": \"2020-03-20T00:00:00\", \"False Tweets\": 0, \"Partially False Tweets\": 0, \"count\": 0}, {\"Month\": \"2020-03-21T00:00:00\", \"False Tweets\": 0, \"Partially False Tweets\": 0, \"count\": 0}, {\"Month\": \"2020-03-25T00:00:00\", \"False Tweets\": 18, \"Partially False Tweets\": 4, \"count\": 22}, {\"Month\": \"2020-03-28T00:00:00\", \"False Tweets\": 0, \"Partially False Tweets\": 0, \"count\": 0}, {\"Month\": \"2020-03-29T00:00:00\", \"False Tweets\": 11, \"Partially False Tweets\": 0, \"count\": 11}, {\"Month\": \"2020-04-03T00:00:00\", \"False Tweets\": 0, \"Partially False Tweets\": 0, \"count\": 0}, {\"Month\": \"2020-04-04T00:00:00\", \"False Tweets\": 0, \"Partially False Tweets\": 0, \"count\": 0}, {\"Month\": \"2020-04-10T00:00:00\", \"False Tweets\": 0, \"Partially False Tweets\": 0, \"count\": 0}, {\"Month\": \"2020-04-11T00:00:00\", \"False Tweets\": 13, \"Partially False Tweets\": 0, \"count\": 13}, {\"Month\": \"2020-04-13T00:00:00\", \"False Tweets\": 9, \"Partially False Tweets\": 2, \"count\": 11}, {\"Month\": \"2020-04-13T00:00:00\", \"False Tweets\": 0, \"Partially False Tweets\": 0, \"count\": 0}, {\"Month\": \"2020-04-16T00:00:00\", \"False Tweets\": 8, \"Partially False Tweets\": 1, \"count\": 9}, {\"Month\": \"2020-04-16T00:00:00\", \"False Tweets\": 0, \"Partially False Tweets\": 0, \"count\": 0}, {\"Month\": \"2020-04-21T00:00:00\", \"False Tweets\": 0, \"Partially False Tweets\": 0, \"count\": 0}, {\"Month\": \"2020-07-21T00:00:00\", \"False Tweets\": 1, \"Partially False Tweets\": 0, \"count\": 1}, {\"Month\": \"2020-07-28T00:00:00\", \"False Tweets\": 1, \"Partially False Tweets\": 0, \"count\": 1}, {\"Month\": \"2020-07-30T00:00:00\", \"False Tweets\": 0, \"Partially False Tweets\": 0, \"count\": 0}, {\"Month\": \"2020-02-14T00:00:00\", \"False Tweets\": 1, \"Partially False Tweets\": 0, \"count\": 1}, {\"Month\": \"2020-02-19T00:00:00\", \"False Tweets\": 1, \"Partially False Tweets\": 0, \"count\": 1}, {\"Month\": \"2020-02-22T00:00:00\", \"False Tweets\": 2, \"Partially False Tweets\": 0, \"count\": 2}, {\"Month\": \"2020-02-23T00:00:00\", \"False Tweets\": 1, \"Partially False Tweets\": 0, \"count\": 1}, {\"Month\": \"2020-02-25T00:00:00\", \"False Tweets\": 6, \"Partially False Tweets\": 1, \"count\": 7}, {\"Month\": \"2020-03-12T00:00:00\", \"False Tweets\": 23, \"Partially False Tweets\": 4, \"count\": 27}, {\"Month\": \"2020-03-18T00:00:00\", \"False Tweets\": 0, \"Partially False Tweets\": 0, \"count\": 0}, {\"Month\": \"2020-04-05T00:00:00\", \"False Tweets\": 0, \"Partially False Tweets\": 0, \"count\": 0}, {\"Month\": \"2020-04-07T00:00:00\", \"False Tweets\": 0, \"Partially False Tweets\": 0, \"count\": 0}, {\"Month\": \"2020-04-08T00:00:00\", \"False Tweets\": 0, \"Partially False Tweets\": 0, \"count\": 0}, {\"Month\": \"2020-07-02T00:00:00\", \"False Tweets\": 0, \"Partially False Tweets\": 1, \"count\": 1}, {\"Month\": \"2020-07-11T00:00:00\", \"False Tweets\": 1, \"Partially False Tweets\": 0, \"count\": 1}, {\"Month\": \"2020-07-15T00:00:00\", \"False Tweets\": 1, \"Partially False Tweets\": 0, \"count\": 1}, {\"Month\": \"2020-07-22T00:00:00\", \"False Tweets\": 2, \"Partially False Tweets\": 0, \"count\": 2}, {\"Month\": \"2020-07-25T00:00:00\", \"False Tweets\": 1, \"Partially False Tweets\": 0, \"count\": 1}, {\"Month\": \"2020-01-29T00:00:00\", \"False Tweets\": 4, \"Partially False Tweets\": 1, \"count\": 5}, {\"Month\": \"2020-02-12T00:00:00\", \"False Tweets\": 1, \"Partially False Tweets\": 3, \"count\": 4}, {\"Month\": \"2020-02-29T00:00:00\", \"False Tweets\": 0, \"Partially False Tweets\": 0, \"count\": 0}, {\"Month\": \"2020-03-09T00:00:00\", \"False Tweets\": 14, \"Partially False Tweets\": 4, \"count\": 18}, {\"Month\": \"2020-03-13T00:00:00\", \"False Tweets\": 16, \"Partially False Tweets\": 3, \"count\": 19}, {\"Month\": \"2020-03-19T00:00:00\", \"False Tweets\": 0, \"Partially False Tweets\": 0, \"count\": 0}, {\"Month\": \"2020-03-31T00:00:00\", \"False Tweets\": 0, \"Partially False Tweets\": 0, \"count\": 0}, {\"Month\": \"2020-04-01T00:00:00\", \"False Tweets\": 0, \"Partially False Tweets\": 0, \"count\": 0}, {\"Month\": \"2020-04-02T00:00:00\", \"False Tweets\": 0, \"Partially False Tweets\": 0, \"count\": 0}, {\"Month\": \"2020-04-06T00:00:00\", \"False Tweets\": 0, \"Partially False Tweets\": 0, \"count\": 0}, {\"Month\": \"2020-07-23T00:00:00\", \"False Tweets\": 1, \"Partially False Tweets\": 0, \"count\": 1}, {\"Month\": \"2020-01-19T00:00:00\", \"False Tweets\": 0, \"Partially False Tweets\": 0, \"count\": 0}, {\"Month\": \"2020-02-08T00:00:00\", \"False Tweets\": 3, \"Partially False Tweets\": 1, \"count\": 4}, {\"Month\": \"2020-02-26T00:00:00\", \"False Tweets\": 0, \"Partially False Tweets\": 0, \"count\": 0}, {\"Month\": \"2020-03-01T00:00:00\", \"False Tweets\": 1, \"Partially False Tweets\": 0, \"count\": 1}, {\"Month\": \"2020-03-08T00:00:00\", \"False Tweets\": 3, \"Partially False Tweets\": 1, \"count\": 4}, {\"Month\": \"2020-03-16T00:00:00\", \"False Tweets\": 0, \"Partially False Tweets\": 0, \"count\": 0}, {\"Month\": \"2020-03-24T00:00:00\", \"False Tweets\": 0, \"Partially False Tweets\": 0, \"count\": 0}, {\"Month\": \"2020-03-26T00:00:00\", \"False Tweets\": 0, \"Partially False Tweets\": 0, \"count\": 0}, {\"Month\": \"2020-06-03T00:00:00\", \"False Tweets\": 0, \"Partially False Tweets\": 0, \"count\": 0}, {\"Month\": \"2020-06-18T00:00:00\", \"False Tweets\": 1, \"Partially False Tweets\": 4, \"count\": 5}, {\"Month\": \"2020-06-28T00:00:00\", \"False Tweets\": 4, \"Partially False Tweets\": 0, \"count\": 4}, {\"Month\": \"2020-02-28T00:00:00\", \"False Tweets\": 2, \"Partially False Tweets\": 1, \"count\": 3}, {\"Month\": \"2020-03-12T00:00:00\", \"False Tweets\": 0, \"Partially False Tweets\": 0, \"count\": 0}, {\"Month\": \"2020-03-14T00:00:00\", \"False Tweets\": 0, \"Partially False Tweets\": 0, \"count\": 0}, {\"Month\": \"2020-03-25T00:00:00\", \"False Tweets\": 0, \"Partially False Tweets\": 0, \"count\": 0}, {\"Month\": \"2020-06-05T00:00:00\", \"False Tweets\": 0, \"Partially False Tweets\": 0, \"count\": 0}, {\"Month\": \"2020-06-12T00:00:00\", \"False Tweets\": 0, \"Partially False Tweets\": 0, \"count\": 0}, {\"Month\": \"2020-07-14T00:00:00\", \"False Tweets\": 1, \"Partially False Tweets\": 0, \"count\": 1}, {\"Month\": \"2020-07-17T00:00:00\", \"False Tweets\": 1, \"Partially False Tweets\": 0, \"count\": 1}, {\"Month\": \"2020-08-18T00:00:00\", \"False Tweets\": 2, \"Partially False Tweets\": 1, \"count\": 3}, {\"Month\": \"2020-02-08T00:00:00\", \"False Tweets\": 0, \"Partially False Tweets\": 0, \"count\": 0}, {\"Month\": \"2020-02-12T00:00:00\", \"False Tweets\": 0, \"Partially False Tweets\": 0, \"count\": 0}, {\"Month\": \"2020-02-25T00:00:00\", \"False Tweets\": 0, \"Partially False Tweets\": 0, \"count\": 0}, {\"Month\": \"2020-03-08T00:00:00\", \"False Tweets\": 0, \"Partially False Tweets\": 0, \"count\": 0}, {\"Month\": \"2020-03-09T00:00:00\", \"False Tweets\": 0, \"Partially False Tweets\": 0, \"count\": 0}, {\"Month\": \"2020-03-13T00:00:00\", \"False Tweets\": 0, \"Partially False Tweets\": 0, \"count\": 0}, {\"Month\": \"2020-03-15T00:00:00\", \"False Tweets\": 0, \"Partially False Tweets\": 0, \"count\": 0}, {\"Month\": \"2020-05-01T00:00:00\", \"False Tweets\": 0, \"Partially False Tweets\": 0, \"count\": 0}, {\"Month\": \"2020-06-27T00:00:00\", \"False Tweets\": 1, \"Partially False Tweets\": 1, \"count\": 2}, {\"Month\": \"2020-01-22T00:00:00\", \"False Tweets\": 2, \"Partially False Tweets\": 0, \"count\": 2}, {\"Month\": \"2020-02-06T00:00:00\", \"False Tweets\": 6, \"Partially False Tweets\": 0, \"count\": 6}, {\"Month\": \"2020-02-07T00:00:00\", \"False Tweets\": 1, \"Partially False Tweets\": 1, \"count\": 2}, {\"Month\": \"2020-03-04T00:00:00\", \"False Tweets\": 0, \"Partially False Tweets\": 0, \"count\": 0}, {\"Month\": \"2020-03-06T00:00:00\", \"False Tweets\": 0, \"Partially False Tweets\": 0, \"count\": 0}, {\"Month\": \"2020-03-10T00:00:00\", \"False Tweets\": 17, \"Partially False Tweets\": 0, \"count\": 17}, {\"Month\": \"2020-03-11T00:00:00\", \"False Tweets\": 0, \"Partially False Tweets\": 0, \"count\": 0}, {\"Month\": \"2020-03-17T00:00:00\", \"False Tweets\": 0, \"Partially False Tweets\": 0, \"count\": 0}, {\"Month\": \"2020-05-31T00:00:00\", \"False Tweets\": 0, \"Partially False Tweets\": 1, \"count\": 1}, {\"Month\": \"2020-06-06T00:00:00\", \"False Tweets\": 0, \"Partially False Tweets\": 0, \"count\": 0}, {\"Month\": \"2020-06-13T00:00:00\", \"False Tweets\": 0, \"Partially False Tweets\": 0, \"count\": 0}, {\"Month\": \"2020-06-19T00:00:00\", \"False Tweets\": 1, \"Partially False Tweets\": 1, \"count\": 2}, {\"Month\": \"2020-07-10T00:00:00\", \"False Tweets\": 1, \"Partially False Tweets\": 0, \"count\": 1}, {\"Month\": \"2020-07-12T00:00:00\", \"False Tweets\": 0, \"Partially False Tweets\": 1, \"count\": 1}, {\"Month\": \"2020-07-13T00:00:00\", \"False Tweets\": 2, \"Partially False Tweets\": 0, \"count\": 2}, {\"Month\": \"2020-08-18T00:00:00\", \"False Tweets\": 0, \"Partially False Tweets\": 0, \"count\": 0}, {\"Month\": \"2020-08-20T00:00:00\", \"False Tweets\": 1, \"Partially False Tweets\": 0, \"count\": 1}, {\"Month\": \"2020-01-21T00:00:00\", \"False Tweets\": 0, \"Partially False Tweets\": 0, \"count\": 0}, {\"Month\": \"2020-01-26T00:00:00\", \"False Tweets\": 2, \"Partially False Tweets\": 1, \"count\": 3}, {\"Month\": \"2020-01-30T00:00:00\", \"False Tweets\": 6, \"Partially False Tweets\": 0, \"count\": 6}, {\"Month\": \"2020-02-03T00:00:00\", \"False Tweets\": 2, \"Partially False Tweets\": 0, \"count\": 2}, {\"Month\": \"2020-02-05T00:00:00\", \"False Tweets\": 10, \"Partially False Tweets\": 1, \"count\": 11}, {\"Month\": \"2020-02-27T00:00:00\", \"False Tweets\": 1, \"Partially False Tweets\": 0, \"count\": 1}, {\"Month\": \"2020-03-03T00:00:00\", \"False Tweets\": 0, \"Partially False Tweets\": 0, \"count\": 0}, {\"Month\": \"2020-03-05T00:00:00\", \"False Tweets\": 0, \"Partially False Tweets\": 0, \"count\": 0}, {\"Month\": \"2020-01-04T00:00:00\", \"False Tweets\": 1, \"Partially False Tweets\": 0, \"count\": 1}, {\"Month\": \"2020-01-23T00:00:00\", \"False Tweets\": 6, \"Partially False Tweets\": 0, \"count\": 6}, {\"Month\": \"2020-01-24T00:00:00\", \"False Tweets\": 1, \"Partially False Tweets\": 1, \"count\": 2}, {\"Month\": \"2020-01-24T00:00:00\", \"False Tweets\": 0, \"Partially False Tweets\": 0, \"count\": 0}, {\"Month\": \"2020-01-25T00:00:00\", \"False Tweets\": 3, \"Partially False Tweets\": 3, \"count\": 6}, {\"Month\": \"2020-01-25T00:00:00\", \"False Tweets\": 0, \"Partially False Tweets\": 0, \"count\": 0}, {\"Month\": \"2020-01-26T00:00:00\", \"False Tweets\": 0, \"Partially False Tweets\": 0, \"count\": 0}, {\"Month\": \"2020-01-27T00:00:00\", \"False Tweets\": 0, \"Partially False Tweets\": 0, \"count\": 0}, {\"Month\": \"2020-01-28T00:00:00\", \"False Tweets\": 5, \"Partially False Tweets\": 0, \"count\": 5}, {\"Month\": \"2020-01-29T00:00:00\", \"False Tweets\": 0, \"Partially False Tweets\": 0, \"count\": 0}, {\"Month\": \"2020-01-31T00:00:00\", \"False Tweets\": 0, \"Partially False Tweets\": 0, \"count\": 0}, {\"Month\": \"2020-02-02T00:00:00\", \"False Tweets\": 0, \"Partially False Tweets\": 0, \"count\": 0}, {\"Month\": \"2020-02-05T00:00:00\", \"False Tweets\": 0, \"Partially False Tweets\": 0, \"count\": 0}, {\"Month\": \"2020-02-07T00:00:00\", \"False Tweets\": 0, \"Partially False Tweets\": 0, \"count\": 0}, {\"Month\": \"2020-02-09T00:00:00\", \"False Tweets\": 2, \"Partially False Tweets\": 1, \"count\": 3}, {\"Month\": \"2020-02-09T00:00:00\", \"False Tweets\": 0, \"Partially False Tweets\": 0, \"count\": 0}, {\"Month\": \"2020-02-11T00:00:00\", \"False Tweets\": 0, \"Partially False Tweets\": 0, \"count\": 0}, {\"Month\": \"2020-02-18T00:00:00\", \"False Tweets\": 1, \"Partially False Tweets\": 2, \"count\": 3}, {\"Month\": \"2020-02-18T00:00:00\", \"False Tweets\": 0, \"Partially False Tweets\": 0, \"count\": 0}, {\"Month\": \"2020-02-20T00:00:00\", \"False Tweets\": 0, \"Partially False Tweets\": 1, \"count\": 1}, {\"Month\": \"2020-02-28T00:00:00\", \"False Tweets\": 0, \"Partially False Tweets\": 0, \"count\": 0}, {\"Month\": \"2020-03-02T00:00:00\", \"False Tweets\": 0, \"Partially False Tweets\": 0, \"count\": 0}, {\"Month\": \"2020-06-18T00:00:00\", \"False Tweets\": 0, \"Partially False Tweets\": 0, \"count\": 0}, {\"Month\": \"2020-06-19T00:00:00\", \"False Tweets\": 0, \"Partially False Tweets\": 0, \"count\": 0}, {\"Month\": \"2020-06-27T00:00:00\", \"False Tweets\": 0, \"Partially False Tweets\": 0, \"count\": 0}, {\"Month\": \"2020-07-01T00:00:00\", \"False Tweets\": 0, \"Partially False Tweets\": 0, \"count\": 0}, {\"Month\": \"2020-07-04T00:00:00\", \"False Tweets\": 1, \"Partially False Tweets\": 0, \"count\": 1}, {\"Month\": \"2020-08-16T00:00:00\", \"False Tweets\": 2, \"Partially False Tweets\": 0, \"count\": 2}, {\"Month\": \"2020-08-19T00:00:00\", \"False Tweets\": 1, \"Partially False Tweets\": 0, \"count\": 1}, {\"Month\": \"2020-02-13T00:00:00\", \"False Tweets\": 0, \"Partially False Tweets\": 1, \"count\": 1}, {\"Month\": \"2020-05-13T00:00:00\", \"False Tweets\": 0, \"Partially False Tweets\": 0, \"count\": 0}, {\"Month\": \"2020-04-14T00:00:00\", \"False Tweets\": 0, \"Partially False Tweets\": 0, \"count\": 0}, {\"Month\": \"2020-04-09T00:00:00\", \"False Tweets\": 0, \"Partially False Tweets\": 0, \"count\": 0}, {\"Month\": \"2020-05-14T00:00:00\", \"False Tweets\": 0, \"Partially False Tweets\": 0, \"count\": 0}, {\"Month\": \"2020-01-15T00:00:00\", \"False Tweets\": 1, \"Partially False Tweets\": 0, \"count\": 1}]}}, {\"mode\": \"vega-lite\"});\n",
       "</script>"
      ],
      "text/plain": [
       "alt.LayerChart(...)"
      ]
     },
     "execution_count": 9,
     "metadata": {},
     "output_type": "execute_result"
    }
   ],
   "source": [
    "# Create a selection that chooses the nearest point & selects based on x-value\n",
    "nearest = alt.selection(type='single', nearest=True, on='mouseover',\n",
    "                        fields=['Month'], empty='none')\n",
    "\n",
    "\n",
    "\n",
    "lines = alt.Chart(df).transform_fold(\n",
    "    ['False Tweets', 'Partially False Tweets'],\n",
    ").mark_line().encode(\n",
    "    #x=alt.X('month:N', sort = ['Jan','Feb','Mar','Apr','May','Jun','Jul','Aug']),\n",
    "    x=alt.X('Month'),\n",
    "    y=alt.Y('value:Q',title=\"Tweet count\"),\n",
    "    color=alt.Color('key:N',scale=alt.Scale(range=['#5D3A9B','#E66100']),title=\"Category\"),  \n",
    ").transform_filter(\n",
    "    alt.FieldRangePredicate(field='count', range=[1, 1000])\n",
    ").properties(title=\"Number of tweets created and classified by their category\",width=600)\n",
    "\n",
    "selectors = alt.Chart(df).mark_point().encode(\n",
    "    #x=alt.X('month:N', sort = ['Jan','Feb','Mar','Apr','May','Jun','Jul','Aug']),\n",
    "    x=alt.X('Month'),\n",
    "    opacity=alt.value(0),\n",
    ").add_selection(\n",
    "    nearest\n",
    ")\n",
    "\n",
    "# Draw points on the line, and highlight based on selection\n",
    "points = lines.mark_point().encode(\n",
    "    opacity=alt.condition(nearest, alt.value(1), alt.value(0))\n",
    ")\n",
    "\n",
    "\n",
    "# Draw text labels near the points, and highlight based on selection\n",
    "text = lines.mark_text(align='left', dx=5, dy=-5).encode(\n",
    "    text=alt.condition(nearest, 'value:Q', alt.value(' '))\n",
    ")\n",
    "\n",
    "# Draw a rule at the location of the selection\n",
    "rules = alt.Chart(df).mark_rule(color='gray').encode(\n",
    "    #x=alt.X('month:N', sort = ['Jan','Feb','Mar','Apr','May','Jun','Jul','Aug']),\n",
    "     x=alt.X('Month'),\n",
    ").transform_filter(\n",
    "    nearest\n",
    ")\n",
    "\n",
    "# Put the five layers into a chart and bind the data\n",
    "alt.layer(\n",
    "    lines, selectors, points, rules, text\n",
    ").properties(\n",
    "    width=700, height=300\n",
    ").configure_title(\n",
    "    fontSize=17,\n",
    "    offset=25\n",
    ").configure_axis(\n",
    "    labelFontSize=13,\n",
    "    titleFontSize=15,\n",
    "    titlePadding=10\n",
    ").configure_legend(\n",
    "    titleFontSize=14,\n",
    "    titlePadding=10,\n",
    "    labelFontSize=12\n",
    ")"
   ]
  }
 ],
 "metadata": {
  "kernelspec": {
   "display_name": "Python 3",
   "language": "python",
   "name": "python3"
  },
  "language_info": {
   "codemirror_mode": {
    "name": "ipython",
    "version": 3
   },
   "file_extension": ".py",
   "mimetype": "text/x-python",
   "name": "python",
   "nbconvert_exporter": "python",
   "pygments_lexer": "ipython3",
   "version": "3.9.2"
  }
 },
 "nbformat": 4,
 "nbformat_minor": 5
}

{
 "cells": [
  {
   "cell_type": "markdown",
   "id": "dirty-coffee",
   "metadata": {},
   "source": [
    "# Fake Heat Map"
   ]
  },
  {
   "cell_type": "markdown",
   "id": "strategic-disaster",
   "metadata": {},
   "source": [
    "### fake_heatmap.py"
   ]
  },
  {
   "cell_type": "markdown",
   "id": "miniature-elephant",
   "metadata": {},
   "source": [
    "In order to create the heatmap, we need the following packages:"
   ]
  },
  {
   "cell_type": "code",
   "execution_count": 1,
   "id": "unlikely-trust",
   "metadata": {},
   "outputs": [],
   "source": [
    "import json\n",
    "from collections import Counter\n",
    "import pandas as pd\n",
    "import altair as alt\n",
    "import datetime\n",
    "from dateutil.parser import parse"
   ]
  },
  {
   "cell_type": "markdown",
   "id": "equipped-coating",
   "metadata": {},
   "source": [
    "To read the JSON file that has all the tweets, it is necessary to do:"
   ]
  },
  {
   "cell_type": "code",
   "execution_count": 2,
   "id": "medium-prompt",
   "metadata": {},
   "outputs": [],
   "source": [
    "data = []\n",
    "with open('dataset/fakecovid_result_translated_full.json', 'r') as f:\n",
    "    for line in f:\n",
    "        data.append(json.loads(line))\n"
   ]
  },
  {
   "cell_type": "markdown",
   "id": "rental-colorado",
   "metadata": {},
   "source": [
    "We're interested in the \"created_at\" field."
   ]
  },
  {
   "cell_type": "code",
   "execution_count": 3,
   "id": "manual-colony",
   "metadata": {},
   "outputs": [],
   "source": [
    "lista = []\n",
    "index = 0\n",
    "\n",
    "for element in data: \n",
    "    token=data[index]['created_at']\n",
    "    d = parse(token)\n",
    "    d = d.strftime('%Y/%m/%d')\n",
    "    lista.append(d)\n",
    "    index=index+1"
   ]
  },
  {
   "cell_type": "markdown",
   "id": "subtle-matrix",
   "metadata": {},
   "source": [
    "After converting the related date into a string, the number of occurrences in the created 'lista' has been counted.\n",
    "Then the DataFrame, that is a 2-dimensional labeled data structure, was generated from the array 'lista'."
   ]
  },
  {
   "cell_type": "code",
   "execution_count": 4,
   "id": "powerful-latino",
   "metadata": {},
   "outputs": [],
   "source": [
    "count=Counter(lista)\n",
    "\n",
    "start = datetime.datetime.strptime(\"2020/01/01\", \"%Y/%m/%d\")\n",
    "end = datetime.datetime.strptime(\"2020/10/01\", \"%Y/%m/%d\")\n",
    "date_generated = [start + datetime.timedelta(days=x) for x in range(0, (end-start).days)]\n",
    "\n",
    "for date in date_generated:\n",
    "    if date.strftime(\"%Y/%m/%d\") not in count:\n",
    "        count[date.strftime(\"%Y/%m/%d\")] = 0\n",
    "\n",
    "df = pd.DataFrame.from_dict(count, orient='index').reset_index()\n",
    "df = df.rename(columns={'index':'data', 0:'tweet_count'})"
   ]
  },
  {
   "cell_type": "markdown",
   "id": "pressing-footage",
   "metadata": {},
   "source": [
    "The heatmap is created and visualized through the 'altair_viewer':"
   ]
  },
  {
   "cell_type": "code",
   "execution_count": 5,
   "id": "minus-timer",
   "metadata": {},
   "outputs": [
    {
     "data": {
      "text/html": [
       "\n",
       "<div id=\"altair-viz-b5c13eafbc914341955695a707a25d3e\"></div>\n",
       "<script type=\"text/javascript\">\n",
       "  (function(spec, embedOpt){\n",
       "    let outputDiv = document.currentScript.previousElementSibling;\n",
       "    if (outputDiv.id !== \"altair-viz-b5c13eafbc914341955695a707a25d3e\") {\n",
       "      outputDiv = document.getElementById(\"altair-viz-b5c13eafbc914341955695a707a25d3e\");\n",
       "    }\n",
       "    const paths = {\n",
       "      \"vega\": \"https://cdn.jsdelivr.net/npm//vega@5?noext\",\n",
       "      \"vega-lib\": \"https://cdn.jsdelivr.net/npm//vega-lib?noext\",\n",
       "      \"vega-lite\": \"https://cdn.jsdelivr.net/npm//vega-lite@4.8.1?noext\",\n",
       "      \"vega-embed\": \"https://cdn.jsdelivr.net/npm//vega-embed@6?noext\",\n",
       "    };\n",
       "\n",
       "    function loadScript(lib) {\n",
       "      return new Promise(function(resolve, reject) {\n",
       "        var s = document.createElement('script');\n",
       "        s.src = paths[lib];\n",
       "        s.async = true;\n",
       "        s.onload = () => resolve(paths[lib]);\n",
       "        s.onerror = () => reject(`Error loading script: ${paths[lib]}`);\n",
       "        document.getElementsByTagName(\"head\")[0].appendChild(s);\n",
       "      });\n",
       "    }\n",
       "\n",
       "    function showError(err) {\n",
       "      outputDiv.innerHTML = `<div class=\"error\" style=\"color:red;\">${err}</div>`;\n",
       "      throw err;\n",
       "    }\n",
       "\n",
       "    function displayChart(vegaEmbed) {\n",
       "      vegaEmbed(outputDiv, spec, embedOpt)\n",
       "        .catch(err => showError(`Javascript Error: ${err.message}<br>This usually means there's a typo in your chart specification. See the javascript console for the full traceback.`));\n",
       "    }\n",
       "\n",
       "    if(typeof define === \"function\" && define.amd) {\n",
       "      requirejs.config({paths});\n",
       "      require([\"vega-embed\"], displayChart, err => showError(`Error loading script: ${err.message}`));\n",
       "    } else if (typeof vegaEmbed === \"function\") {\n",
       "      displayChart(vegaEmbed);\n",
       "    } else {\n",
       "      loadScript(\"vega\")\n",
       "        .then(() => loadScript(\"vega-lite\"))\n",
       "        .then(() => loadScript(\"vega-embed\"))\n",
       "        .catch(showError)\n",
       "        .then(() => displayChart(vegaEmbed));\n",
       "    }\n",
       "  })({\"config\": {\"view\": {\"continuousWidth\": 400, \"continuousHeight\": 300}}, \"layer\": [{\"mark\": \"rect\", \"encoding\": {\"color\": {\"type\": \"quantitative\", \"field\": \"tweet_count\", \"scale\": {\"scheme\": \"turbo\"}}, \"tooltip\": [{\"type\": \"temporal\", \"field\": \"data\", \"timeUnit\": \"monthdate\", \"title\": \"Date\"}, {\"type\": \"quantitative\", \"field\": \"tweet_count\", \"title\": \"Tweet Count\"}], \"x\": {\"type\": \"ordinal\", \"field\": \"data\", \"timeUnit\": \"date\"}, \"y\": {\"type\": \"ordinal\", \"field\": \"data\", \"timeUnit\": \"month\"}}, \"height\": 300, \"title\": \"Tweet count hetmap\", \"width\": 800}, {\"mark\": {\"type\": \"text\", \"baseline\": \"middle\"}, \"encoding\": {\"color\": {\"condition\": {\"value\": \"black\", \"test\": \"(datum.num_cars > 100)\"}, \"value\": \"white\"}, \"text\": {\"type\": \"quantitative\", \"field\": \"tweet_count\"}, \"tooltip\": [{\"type\": \"temporal\", \"field\": \"data\", \"timeUnit\": \"monthdate\", \"title\": \"Date\"}, {\"type\": \"quantitative\", \"field\": \"tweet_count\", \"title\": \"Tweet Count\"}], \"x\": {\"type\": \"ordinal\", \"field\": \"data\", \"timeUnit\": \"date\"}, \"y\": {\"type\": \"ordinal\", \"field\": \"data\", \"timeUnit\": \"month\"}}, \"height\": 300, \"title\": \"Tweet count hetmap\", \"width\": 800}], \"data\": {\"name\": \"data-5777d87f7e0079cf209b4d99ca8dca54\"}, \"$schema\": \"https://vega.github.io/schema/vega-lite/v4.8.1.json\", \"datasets\": {\"data-5777d87f7e0079cf209b4d99ca8dca54\": [{\"data\": \"2020/02/11\", \"tweet_count\": 6}, {\"data\": \"2020/02/15\", \"tweet_count\": 1}, {\"data\": \"2020/02/16\", \"tweet_count\": 3}, {\"data\": \"2020/03/04\", \"tweet_count\": 7}, {\"data\": \"2020/03/11\", \"tweet_count\": 14}, {\"data\": \"2020/03/24\", \"tweet_count\": 26}, {\"data\": \"2020/03/26\", \"tweet_count\": 17}, {\"data\": \"2020/03/27\", \"tweet_count\": 19}, {\"data\": \"2020/04/08\", \"tweet_count\": 18}, {\"data\": \"2020/04/09\", \"tweet_count\": 16}, {\"data\": \"2020/04/15\", \"tweet_count\": 19}, {\"data\": \"2020/04/21\", \"tweet_count\": 16}, {\"data\": \"2020/04/24\", \"tweet_count\": 10}, {\"data\": \"2020/04/28\", \"tweet_count\": 10}, {\"data\": \"2020/05/03\", \"tweet_count\": 11}, {\"data\": \"2020/05/06\", \"tweet_count\": 11}, {\"data\": \"2020/05/07\", \"tweet_count\": 10}, {\"data\": \"2020/05/10\", \"tweet_count\": 7}, {\"data\": \"2020/05/16\", \"tweet_count\": 8}, {\"data\": \"2020/05/19\", \"tweet_count\": 6}, {\"data\": \"2020/05/20\", \"tweet_count\": 12}, {\"data\": \"2020/05/21\", \"tweet_count\": 14}, {\"data\": \"2020/05/25\", \"tweet_count\": 14}, {\"data\": \"2020/05/26\", \"tweet_count\": 12}, {\"data\": \"2020/05/27\", \"tweet_count\": 10}, {\"data\": \"2020/06/01\", \"tweet_count\": 2}, {\"data\": \"2020/06/08\", \"tweet_count\": 9}, {\"data\": \"2020/06/09\", \"tweet_count\": 5}, {\"data\": \"2020/06/10\", \"tweet_count\": 2}, {\"data\": \"2020/06/11\", \"tweet_count\": 5}, {\"data\": \"2020/06/12\", \"tweet_count\": 5}, {\"data\": \"2020/06/13\", \"tweet_count\": 2}, {\"data\": \"2020/06/14\", \"tweet_count\": 5}, {\"data\": \"2020/06/16\", \"tweet_count\": 1}, {\"data\": \"2020/06/17\", \"tweet_count\": 2}, {\"data\": \"2020/06/24\", \"tweet_count\": 6}, {\"data\": \"2020/06/25\", \"tweet_count\": 5}, {\"data\": \"2020/06/26\", \"tweet_count\": 2}, {\"data\": \"2020/06/30\", \"tweet_count\": 3}, {\"data\": \"2020/07/01\", \"tweet_count\": 4}, {\"data\": \"2020/07/02\", \"tweet_count\": 2}, {\"data\": \"2020/07/08\", \"tweet_count\": 1}, {\"data\": \"2020/07/18\", \"tweet_count\": 2}, {\"data\": \"2020/07/24\", \"tweet_count\": 3}, {\"data\": \"2020/07/30\", \"tweet_count\": 3}, {\"data\": \"2020/08/02\", \"tweet_count\": 2}, {\"data\": \"2020/08/07\", \"tweet_count\": 3}, {\"data\": \"2020/08/11\", \"tweet_count\": 6}, {\"data\": \"2020/08/12\", \"tweet_count\": 4}, {\"data\": \"2020/08/13\", \"tweet_count\": 1}, {\"data\": \"2020/08/14\", \"tweet_count\": 1}, {\"data\": \"2020/01/16\", \"tweet_count\": 4}, {\"data\": \"2020/01/27\", \"tweet_count\": 8}, {\"data\": \"2020/02/02\", \"tweet_count\": 5}, {\"data\": \"2020/03/15\", \"tweet_count\": 29}, {\"data\": \"2020/03/20\", \"tweet_count\": 25}, {\"data\": \"2020/03/23\", \"tweet_count\": 29}, {\"data\": \"2020/04/12\", \"tweet_count\": 8}, {\"data\": \"2020/04/26\", \"tweet_count\": 23}, {\"data\": \"2020/04/29\", \"tweet_count\": 11}, {\"data\": \"2020/05/02\", \"tweet_count\": 13}, {\"data\": \"2020/05/11\", \"tweet_count\": 8}, {\"data\": \"2020/05/12\", \"tweet_count\": 20}, {\"data\": \"2020/05/13\", \"tweet_count\": 10}, {\"data\": \"2020/05/14\", \"tweet_count\": 6}, {\"data\": \"2020/05/18\", \"tweet_count\": 5}, {\"data\": \"2020/05/22\", \"tweet_count\": 5}, {\"data\": \"2020/05/24\", \"tweet_count\": 5}, {\"data\": \"2020/05/28\", \"tweet_count\": 1}, {\"data\": \"2020/05/29\", \"tweet_count\": 4}, {\"data\": \"2020/06/02\", \"tweet_count\": 2}, {\"data\": \"2020/06/04\", \"tweet_count\": 4}, {\"data\": \"2020/06/05\", \"tweet_count\": 3}, {\"data\": \"2020/06/06\", \"tweet_count\": 5}, {\"data\": \"2020/06/23\", \"tweet_count\": 1}, {\"data\": \"2020/07/03\", \"tweet_count\": 2}, {\"data\": \"2020/08/01\", \"tweet_count\": 3}, {\"data\": \"2020/08/06\", \"tweet_count\": 1}, {\"data\": \"2020/02/10\", \"tweet_count\": 2}, {\"data\": \"2020/02/29\", \"tweet_count\": 6}, {\"data\": \"2020/03/05\", \"tweet_count\": 11}, {\"data\": \"2020/03/06\", \"tweet_count\": 10}, {\"data\": \"2020/03/18\", \"tweet_count\": 39}, {\"data\": \"2020/03/22\", \"tweet_count\": 31}, {\"data\": \"2020/03/31\", \"tweet_count\": 19}, {\"data\": \"2020/04/01\", \"tweet_count\": 13}, {\"data\": \"2020/04/03\", \"tweet_count\": 21}, {\"data\": \"2020/04/19\", \"tweet_count\": 8}, {\"data\": \"2020/04/20\", \"tweet_count\": 11}, {\"data\": \"2020/04/30\", \"tweet_count\": 5}, {\"data\": \"2020/05/01\", \"tweet_count\": 3}, {\"data\": \"2020/05/08\", \"tweet_count\": 16}, {\"data\": \"2020/05/09\", \"tweet_count\": 5}, {\"data\": \"2020/05/15\", \"tweet_count\": 2}, {\"data\": \"2020/05/17\", \"tweet_count\": 4}, {\"data\": \"2020/07/31\", \"tweet_count\": 2}, {\"data\": \"2020/08/08\", \"tweet_count\": 2}, {\"data\": \"2020/08/09\", \"tweet_count\": 1}, {\"data\": \"2020/08/10\", \"tweet_count\": 2}, {\"data\": \"2020/08/15\", \"tweet_count\": 1}, {\"data\": \"2020/02/04\", \"tweet_count\": 4}, {\"data\": \"2020/02/26\", \"tweet_count\": 4}, {\"data\": \"2020/03/07\", \"tweet_count\": 7}, {\"data\": \"2020/03/14\", \"tweet_count\": 18}, {\"data\": \"2020/03/16\", \"tweet_count\": 41}, {\"data\": \"2020/03/19\", \"tweet_count\": 25}, {\"data\": \"2020/03/28\", \"tweet_count\": 15}, {\"data\": \"2020/03/30\", \"tweet_count\": 29}, {\"data\": \"2020/04/06\", \"tweet_count\": 21}, {\"data\": \"2020/04/10\", \"tweet_count\": 15}, {\"data\": \"2020/04/17\", \"tweet_count\": 7}, {\"data\": \"2020/04/18\", \"tweet_count\": 7}, {\"data\": \"2020/04/25\", \"tweet_count\": 4}, {\"data\": \"2020/05/04\", \"tweet_count\": 8}, {\"data\": \"2020/05/23\", \"tweet_count\": 2}, {\"data\": \"2020/08/03\", \"tweet_count\": 1}, {\"data\": \"2020/08/04\", \"tweet_count\": 1}, {\"data\": \"2020/08/26\", \"tweet_count\": 1}, {\"data\": \"2020/08/27\", \"tweet_count\": 4}, {\"data\": \"2020/01/14\", \"tweet_count\": 1}, {\"data\": \"2020/02/01\", \"tweet_count\": 2}, {\"data\": \"2020/03/21\", \"tweet_count\": 25}, {\"data\": \"2020/04/02\", \"tweet_count\": 22}, {\"data\": \"2020/04/05\", \"tweet_count\": 16}, {\"data\": \"2020/04/07\", \"tweet_count\": 16}, {\"data\": \"2020/04/14\", \"tweet_count\": 10}, {\"data\": \"2020/04/22\", \"tweet_count\": 14}, {\"data\": \"2020/04/27\", \"tweet_count\": 5}, {\"data\": \"2020/05/05\", \"tweet_count\": 4}, {\"data\": \"2020/06/03\", \"tweet_count\": 2}, {\"data\": \"2020/07/27\", \"tweet_count\": 1}, {\"data\": \"2020/08/30\", \"tweet_count\": 1}, {\"data\": \"2020/08/31\", \"tweet_count\": 2}, {\"data\": \"2020/09/04\", \"tweet_count\": 1}, {\"data\": \"2020/01/31\", \"tweet_count\": 8}, {\"data\": \"2020/03/02\", \"tweet_count\": 10}, {\"data\": \"2020/03/03\", \"tweet_count\": 8}, {\"data\": \"2020/03/25\", \"tweet_count\": 23}, {\"data\": \"2020/04/04\", \"tweet_count\": 15}, {\"data\": \"2020/04/13\", \"tweet_count\": 12}, {\"data\": \"2020/04/16\", \"tweet_count\": 10}, {\"data\": \"2020/04/23\", \"tweet_count\": 5}, {\"data\": \"2020/07/06\", \"tweet_count\": 1}, {\"data\": \"2020/07/21\", \"tweet_count\": 2}, {\"data\": \"2020/07/28\", \"tweet_count\": 1}, {\"data\": \"2020/01/19\", \"tweet_count\": 2}, {\"data\": \"2020/01/21\", \"tweet_count\": 2}, {\"data\": \"2020/02/19\", \"tweet_count\": 1}, {\"data\": \"2020/02/22\", \"tweet_count\": 2}, {\"data\": \"2020/02/23\", \"tweet_count\": 1}, {\"data\": \"2020/03/17\", \"tweet_count\": 21}, {\"data\": \"2020/03/29\", \"tweet_count\": 12}, {\"data\": \"2020/04/11\", \"tweet_count\": 13}, {\"data\": \"2020/07/11\", \"tweet_count\": 1}, {\"data\": \"2020/07/22\", \"tweet_count\": 2}, {\"data\": \"2020/07/25\", \"tweet_count\": 1}, {\"data\": \"2020/02/12\", \"tweet_count\": 5}, {\"data\": \"2020/02/14\", \"tweet_count\": 1}, {\"data\": \"2020/02/25\", \"tweet_count\": 8}, {\"data\": \"2020/03/12\", \"tweet_count\": 27}, {\"data\": \"2020/07/15\", \"tweet_count\": 1}, {\"data\": \"2020/01/29\", \"tweet_count\": 5}, {\"data\": \"2020/02/03\", \"tweet_count\": 3}, {\"data\": \"2020/03/09\", \"tweet_count\": 19}, {\"data\": \"2020/03/13\", \"tweet_count\": 19}, {\"data\": \"2020/07/07\", \"tweet_count\": 1}, {\"data\": \"2020/07/23\", \"tweet_count\": 1}, {\"data\": \"2020/02/08\", \"tweet_count\": 4}, {\"data\": \"2020/03/01\", \"tweet_count\": 1}, {\"data\": \"2020/03/08\", \"tweet_count\": 4}, {\"data\": \"2020/06/18\", \"tweet_count\": 5}, {\"data\": \"2020/06/28\", \"tweet_count\": 4}, {\"data\": \"2020/07/14\", \"tweet_count\": 1}, {\"data\": \"2020/02/28\", \"tweet_count\": 3}, {\"data\": \"2020/07/17\", \"tweet_count\": 1}, {\"data\": \"2020/08/18\", \"tweet_count\": 3}, {\"data\": \"2020/06/27\", \"tweet_count\": 2}, {\"data\": \"2020/07/12\", \"tweet_count\": 1}, {\"data\": \"2020/01/22\", \"tweet_count\": 5}, {\"data\": \"2020/02/06\", \"tweet_count\": 6}, {\"data\": \"2020/02/07\", \"tweet_count\": 2}, {\"data\": \"2020/03/10\", \"tweet_count\": 17}, {\"data\": \"2020/05/31\", \"tweet_count\": 1}, {\"data\": \"2020/06/19\", \"tweet_count\": 2}, {\"data\": \"2020/07/10\", \"tweet_count\": 1}, {\"data\": \"2020/07/13\", \"tweet_count\": 2}, {\"data\": \"2020/08/20\", \"tweet_count\": 1}, {\"data\": \"2020/01/26\", \"tweet_count\": 3}, {\"data\": \"2020/01/30\", \"tweet_count\": 9}, {\"data\": \"2020/02/05\", \"tweet_count\": 11}, {\"data\": \"2020/02/27\", \"tweet_count\": 1}, {\"data\": \"2020/01/04\", \"tweet_count\": 1}, {\"data\": \"2020/01/23\", \"tweet_count\": 8}, {\"data\": \"2020/01/24\", \"tweet_count\": 5}, {\"data\": \"2020/01/25\", \"tweet_count\": 8}, {\"data\": \"2020/01/28\", \"tweet_count\": 6}, {\"data\": \"2020/02/09\", \"tweet_count\": 4}, {\"data\": \"2020/07/04\", \"tweet_count\": 1}, {\"data\": \"2020/08/16\", \"tweet_count\": 2}, {\"data\": \"2020/08/19\", \"tweet_count\": 1}, {\"data\": \"2020/02/13\", \"tweet_count\": 1}, {\"data\": \"2020/02/18\", \"tweet_count\": 3}, {\"data\": \"2020/02/20\", \"tweet_count\": 1}, {\"data\": \"2020/02/24\", \"tweet_count\": 2}, {\"data\": \"2020/06/29\", \"tweet_count\": 1}, {\"data\": \"2020/01/15\", \"tweet_count\": 1}, {\"data\": \"2020/01/01\", \"tweet_count\": 0}, {\"data\": \"2020/01/02\", \"tweet_count\": 0}, {\"data\": \"2020/01/03\", \"tweet_count\": 0}, {\"data\": \"2020/01/05\", \"tweet_count\": 0}, {\"data\": \"2020/01/06\", \"tweet_count\": 0}, {\"data\": \"2020/01/07\", \"tweet_count\": 0}, {\"data\": \"2020/01/08\", \"tweet_count\": 0}, {\"data\": \"2020/01/09\", \"tweet_count\": 0}, {\"data\": \"2020/01/10\", \"tweet_count\": 0}, {\"data\": \"2020/01/11\", \"tweet_count\": 0}, {\"data\": \"2020/01/12\", \"tweet_count\": 0}, {\"data\": \"2020/01/13\", \"tweet_count\": 0}, {\"data\": \"2020/01/17\", \"tweet_count\": 0}, {\"data\": \"2020/01/18\", \"tweet_count\": 0}, {\"data\": \"2020/01/20\", \"tweet_count\": 0}, {\"data\": \"2020/02/17\", \"tweet_count\": 0}, {\"data\": \"2020/02/21\", \"tweet_count\": 0}, {\"data\": \"2020/05/30\", \"tweet_count\": 0}, {\"data\": \"2020/06/07\", \"tweet_count\": 0}, {\"data\": \"2020/06/15\", \"tweet_count\": 0}, {\"data\": \"2020/06/20\", \"tweet_count\": 0}, {\"data\": \"2020/06/21\", \"tweet_count\": 0}, {\"data\": \"2020/06/22\", \"tweet_count\": 0}, {\"data\": \"2020/07/05\", \"tweet_count\": 0}, {\"data\": \"2020/07/09\", \"tweet_count\": 0}, {\"data\": \"2020/07/16\", \"tweet_count\": 0}, {\"data\": \"2020/07/19\", \"tweet_count\": 0}, {\"data\": \"2020/07/20\", \"tweet_count\": 0}, {\"data\": \"2020/07/26\", \"tweet_count\": 0}, {\"data\": \"2020/07/29\", \"tweet_count\": 0}, {\"data\": \"2020/08/05\", \"tweet_count\": 0}, {\"data\": \"2020/08/17\", \"tweet_count\": 0}, {\"data\": \"2020/08/21\", \"tweet_count\": 0}, {\"data\": \"2020/08/22\", \"tweet_count\": 0}, {\"data\": \"2020/08/23\", \"tweet_count\": 0}, {\"data\": \"2020/08/24\", \"tweet_count\": 0}, {\"data\": \"2020/08/25\", \"tweet_count\": 0}, {\"data\": \"2020/08/28\", \"tweet_count\": 0}, {\"data\": \"2020/08/29\", \"tweet_count\": 0}, {\"data\": \"2020/09/01\", \"tweet_count\": 0}, {\"data\": \"2020/09/02\", \"tweet_count\": 0}, {\"data\": \"2020/09/03\", \"tweet_count\": 0}, {\"data\": \"2020/09/05\", \"tweet_count\": 0}, {\"data\": \"2020/09/06\", \"tweet_count\": 0}, {\"data\": \"2020/09/07\", \"tweet_count\": 0}, {\"data\": \"2020/09/08\", \"tweet_count\": 0}, {\"data\": \"2020/09/09\", \"tweet_count\": 0}, {\"data\": \"2020/09/10\", \"tweet_count\": 0}, {\"data\": \"2020/09/11\", \"tweet_count\": 0}, {\"data\": \"2020/09/12\", \"tweet_count\": 0}, {\"data\": \"2020/09/13\", \"tweet_count\": 0}, {\"data\": \"2020/09/14\", \"tweet_count\": 0}, {\"data\": \"2020/09/15\", \"tweet_count\": 0}, {\"data\": \"2020/09/16\", \"tweet_count\": 0}, {\"data\": \"2020/09/17\", \"tweet_count\": 0}, {\"data\": \"2020/09/18\", \"tweet_count\": 0}, {\"data\": \"2020/09/19\", \"tweet_count\": 0}, {\"data\": \"2020/09/20\", \"tweet_count\": 0}, {\"data\": \"2020/09/21\", \"tweet_count\": 0}, {\"data\": \"2020/09/22\", \"tweet_count\": 0}, {\"data\": \"2020/09/23\", \"tweet_count\": 0}, {\"data\": \"2020/09/24\", \"tweet_count\": 0}, {\"data\": \"2020/09/25\", \"tweet_count\": 0}, {\"data\": \"2020/09/26\", \"tweet_count\": 0}, {\"data\": \"2020/09/27\", \"tweet_count\": 0}, {\"data\": \"2020/09/28\", \"tweet_count\": 0}, {\"data\": \"2020/09/29\", \"tweet_count\": 0}, {\"data\": \"2020/09/30\", \"tweet_count\": 0}]}}, {\"mode\": \"vega-lite\"});\n",
       "</script>"
      ],
      "text/plain": [
       "alt.LayerChart(...)"
      ]
     },
     "execution_count": 5,
     "metadata": {},
     "output_type": "execute_result"
    }
   ],
   "source": [
    "chart = alt.Chart(\n",
    "    df,\n",
    "    title=\"Tweet count hetmap\"\n",
    ").mark_rect().encode(\n",
    "    x='date(data):O',\n",
    "    y='month(data):O',\n",
    "    color=alt.Color('tweet_count:Q', scale=alt.Scale(scheme=\"turbo\")),\n",
    "    tooltip=[\n",
    "        alt.Tooltip('monthdate(data):T', title='Date'),\n",
    "        alt.Tooltip('tweet_count:Q', title='Tweet Count')\n",
    "    ]\n",
    ").properties(width=800, height=300)\n",
    "\n",
    "# Configure text\n",
    "text = chart.mark_text(baseline='middle').encode(\n",
    "    text='tweet_count:Q',\n",
    "    color=alt.condition(\n",
    "        alt.datum.num_cars > 100,\n",
    "        alt.value('black'),\n",
    "        alt.value('white')\n",
    "    )\n",
    ")\n",
    "\n",
    "chart + text"
   ]
  }
 ],
 "metadata": {
  "kernelspec": {
   "display_name": "Python 3",
   "language": "python",
   "name": "python3"
  },
  "language_info": {
   "codemirror_mode": {
    "name": "ipython",
    "version": 3
   },
   "file_extension": ".py",
   "mimetype": "text/x-python",
   "name": "python",
   "nbconvert_exporter": "python",
   "pygments_lexer": "ipython3",
   "version": "3.9.2"
  }
 },
 "nbformat": 4,
 "nbformat_minor": 5
}

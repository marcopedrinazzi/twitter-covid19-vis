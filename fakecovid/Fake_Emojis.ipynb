{
 "cells": [
  {
   "cell_type": "markdown",
   "id": "going-heart",
   "metadata": {},
   "source": [
    "# Emojis Visualizations - Fake Covid-19 Dataset"
   ]
  },
  {
   "cell_type": "markdown",
   "id": "arctic-disney",
   "metadata": {},
   "source": [
    "### fake_emoji_bar_chart.py"
   ]
  },
  {
   "cell_type": "markdown",
   "id": "premium-perception",
   "metadata": {},
   "source": [
    "We've used the following packages:"
   ]
  },
  {
   "cell_type": "code",
   "execution_count": 1,
   "id": "invisible-indie",
   "metadata": {},
   "outputs": [],
   "source": [
    "import pandas as pd\n",
    "import numpy as np\n",
    "import json\n",
    "import itertools  \n",
    "from collections import Counter\n",
    "#import emoji_data_python\n",
    "import altair as alt\n",
    "import demoji\n",
    "\n",
    "#demoji.download_codes()"
   ]
  },
  {
   "cell_type": "markdown",
   "id": "regulated-narrow",
   "metadata": {},
   "source": [
    "To read the JSON file that has all the tweets, it is necessary to do:"
   ]
  },
  {
   "cell_type": "code",
   "execution_count": 2,
   "id": "macro-inspector",
   "metadata": {},
   "outputs": [],
   "source": [
    "data = []\n",
    "with open('dataset/fakecovid_result_final_translated_full.json', 'r') as f:\n",
    "    for line in f:\n",
    "        data.append(json.loads(line))"
   ]
  },
  {
   "cell_type": "markdown",
   "id": "frequent-enemy",
   "metadata": {},
   "source": [
    "We're interested in the \"full_text\" field:"
   ]
  },
  {
   "cell_type": "code",
   "execution_count": 3,
   "id": "angry-frank",
   "metadata": {},
   "outputs": [],
   "source": [
    "index= 0\n",
    "emos = []\n",
    "for element in data:\n",
    "    em = demoji.findall_list(data[index]['full_text'], False)\n",
    "    emos.append(em)\n",
    "    index= index+1"
   ]
  },
  {
   "cell_type": "markdown",
   "id": "arranged-mention",
   "metadata": {},
   "source": [
    "We have calculated the frequency distribution, displayed in the form of a bar chart showing the 15 most frequent usernames within the dataset:"
   ]
  },
  {
   "cell_type": "code",
   "execution_count": 4,
   "id": "tight-istanbul",
   "metadata": {},
   "outputs": [
    {
     "data": {
      "text/html": [
       "\n",
       "<div id=\"altair-viz-b3293af9f24d4a5b9675cfdd0807f1f0\"></div>\n",
       "<script type=\"text/javascript\">\n",
       "  (function(spec, embedOpt){\n",
       "    let outputDiv = document.currentScript.previousElementSibling;\n",
       "    if (outputDiv.id !== \"altair-viz-b3293af9f24d4a5b9675cfdd0807f1f0\") {\n",
       "      outputDiv = document.getElementById(\"altair-viz-b3293af9f24d4a5b9675cfdd0807f1f0\");\n",
       "    }\n",
       "    const paths = {\n",
       "      \"vega\": \"https://cdn.jsdelivr.net/npm//vega@5?noext\",\n",
       "      \"vega-lib\": \"https://cdn.jsdelivr.net/npm//vega-lib?noext\",\n",
       "      \"vega-lite\": \"https://cdn.jsdelivr.net/npm//vega-lite@4.8.1?noext\",\n",
       "      \"vega-embed\": \"https://cdn.jsdelivr.net/npm//vega-embed@6?noext\",\n",
       "    };\n",
       "\n",
       "    function loadScript(lib) {\n",
       "      return new Promise(function(resolve, reject) {\n",
       "        var s = document.createElement('script');\n",
       "        s.src = paths[lib];\n",
       "        s.async = true;\n",
       "        s.onload = () => resolve(paths[lib]);\n",
       "        s.onerror = () => reject(`Error loading script: ${paths[lib]}`);\n",
       "        document.getElementsByTagName(\"head\")[0].appendChild(s);\n",
       "      });\n",
       "    }\n",
       "\n",
       "    function showError(err) {\n",
       "      outputDiv.innerHTML = `<div class=\"error\" style=\"color:red;\">${err}</div>`;\n",
       "      throw err;\n",
       "    }\n",
       "\n",
       "    function displayChart(vegaEmbed) {\n",
       "      vegaEmbed(outputDiv, spec, embedOpt)\n",
       "        .catch(err => showError(`Javascript Error: ${err.message}<br>This usually means there's a typo in your chart specification. See the javascript console for the full traceback.`));\n",
       "    }\n",
       "\n",
       "    if(typeof define === \"function\" && define.amd) {\n",
       "      requirejs.config({paths});\n",
       "      require([\"vega-embed\"], displayChart, err => showError(`Error loading script: ${err.message}`));\n",
       "    } else if (typeof vegaEmbed === \"function\") {\n",
       "      displayChart(vegaEmbed);\n",
       "    } else {\n",
       "      loadScript(\"vega\")\n",
       "        .then(() => loadScript(\"vega-lite\"))\n",
       "        .then(() => loadScript(\"vega-embed\"))\n",
       "        .catch(showError)\n",
       "        .then(() => displayChart(vegaEmbed));\n",
       "    }\n",
       "  })({\"config\": {\"view\": {\"continuousWidth\": 400, \"continuousHeight\": 300}}, \"data\": {\"name\": \"data-56b1582cade452c68b0e766941b3a954\"}, \"mark\": \"bar\", \"encoding\": {\"color\": {\"type\": \"quantitative\", \"field\": \"count\", \"scale\": {\"scheme\": \"blues\"}}, \"x\": {\"type\": \"quantitative\", \"field\": \"count\"}, \"y\": {\"type\": \"nominal\", \"field\": \"emoji\", \"sort\": \"-x\"}}, \"height\": 300, \"title\": \"Most 15 frequent emojis in the dataset\", \"transform\": [{\"window\": [{\"op\": \"rank\", \"field\": \"count\", \"as\": \"rank\"}], \"sort\": [{\"field\": \"count\", \"order\": \"descending\"}]}, {\"filter\": \"(datum.rank < 15)\"}], \"width\": 700, \"$schema\": \"https://vega.github.io/schema/vega-lite/v4.8.1.json\", \"datasets\": {\"data-56b1582cade452c68b0e766941b3a954\": [{\"emoji\": \"\\ud83d\\udea8\", \"count\": 15}, {\"emoji\": \"\\ud83c\\udde9\\ud83c\\uddea\", \"count\": 1}, {\"emoji\": \"\\ud83c\\udde9\\ud83c\\uddff\", \"count\": 4}, {\"emoji\": \"\\u2764\\ufe0f\", \"count\": 5}, {\"emoji\": \"\\ud83d\\ude81\", \"count\": 1}, {\"emoji\": \"\\ud83c\\udfc5\", \"count\": 1}, {\"emoji\": \"\\ud83c\\udf96\\ufe0f\", \"count\": 1}, {\"emoji\": \"\\u274c\", \"count\": 11}, {\"emoji\": \"\\ud83d\\udc47\", \"count\": 19}, {\"emoji\": \"\\u2714\\ufe0f\", \"count\": 5}, {\"emoji\": \"\\u2b55\", \"count\": 2}, {\"emoji\": \"\\ud83c\\udde7\\ud83c\\uddee\", \"count\": 1}, {\"emoji\": \"\\ud83d\\udc49\\ud83c\\udffe\", \"count\": 1}, {\"emoji\": \"\\ud83d\\ude02\", \"count\": 6}, {\"emoji\": \"\\u2b07\\ufe0f\", \"count\": 25}, {\"emoji\": \"\\ud83d\\udcaf\", \"count\": 3}, {\"emoji\": \"\\ud83d\\ude37\", \"count\": 4}, {\"emoji\": \"\\ud83d\\ude4c\\ud83c\\udffc\", \"count\": 1}, {\"emoji\": \"\\ud83c\\uddfa\\ud83c\\uddf8\", \"count\": 9}, {\"emoji\": \"\\ud83d\\udc47\\ud83c\\udffb\", \"count\": 3}, {\"emoji\": \"\\ud83d\\uddd3\", \"count\": 1}, {\"emoji\": \"\\ud83d\\udce2\", \"count\": 7}, {\"emoji\": \"\\ud83d\\udc47\\ud83c\\udffd\", \"count\": 5}, {\"emoji\": \"\\ud83c\\udde7\\ud83c\\uddea\", \"count\": 2}, {\"emoji\": \"\\ud83d\\udd35\", \"count\": 1}, {\"emoji\": \"\\ud83d\\udc49\", \"count\": 9}, {\"emoji\": \"\\ud83c\\udde8\\ud83c\\uddf4\", \"count\": 1}, {\"emoji\": \"\\ud83c\\uddf5\\ud83c\\uddfe\", \"count\": 1}, {\"emoji\": \"\\ud83c\\udde7\\ud83c\\uddf9\", \"count\": 1}, {\"emoji\": \"\\ud83c\\uddea\\ud83c\\uddf8\", \"count\": 5}, {\"emoji\": \"\\ud83c\\uddee\\ud83c\\uddf9\", \"count\": 6}, {\"emoji\": \"\\ud83c\\uddf9\\ud83c\\uddfb\", \"count\": 1}, {\"emoji\": \"\\ud83c\\uddfb\\ud83c\\uddf3\", \"count\": 1}, {\"emoji\": \"\\ud83c\\uddea\\ud83c\\uddfa\", \"count\": 1}, {\"emoji\": \"\\ud83d\\udcfa\", \"count\": 4}, {\"emoji\": \"\\ud83d\\udcbb\", \"count\": 3}, {\"emoji\": \"\\ud83d\\udcfb\", \"count\": 2}, {\"emoji\": \"\\ud83e\\udd17\", \"count\": 1}, {\"emoji\": \"\\u2139\", \"count\": 2}, {\"emoji\": \"\\ud83d\\ude4f\", \"count\": 12}, {\"emoji\": \"\\ud83e\\udda0\", \"count\": 3}, {\"emoji\": \"\\ud83d\\udd0a\", \"count\": 3}, {\"emoji\": \"\\ud83d\\udce7\", \"count\": 2}, {\"emoji\": \"\\ud83d\\udcf0\", \"count\": 3}, {\"emoji\": \"\\u27a1\\ufe0f\", \"count\": 7}, {\"emoji\": \"\\ud83d\\udcf9\", \"count\": 3}, {\"emoji\": \"\\u2935\", \"count\": 1}, {\"emoji\": \"\\ud83c\\udfdb\\ufe0f\", \"count\": 1}, {\"emoji\": \"\\ud83c\\uddeb\\ud83c\\uddf7\", \"count\": 1}, {\"emoji\": \"\\ud83c\\uddec\\ud83c\\udde7\", \"count\": 1}, {\"emoji\": \"\\ud83c\\uddf7\\ud83c\\uddfa\", \"count\": 1}, {\"emoji\": \"\\ud83d\\udd34\", \"count\": 13}, {\"emoji\": \"\\ud83c\\udde8\\ud83c\\uddf3\", \"count\": 6}, {\"emoji\": \"\\u26a0\\ufe0f\", \"count\": 26}, {\"emoji\": \"\\u2705\", \"count\": 10}, {\"emoji\": \"\\u2b50\", \"count\": 3}, {\"emoji\": \"\\ud83d\\udc40\", \"count\": 3}, {\"emoji\": \"\\u261d\", \"count\": 3}, {\"emoji\": \"\\u27a1\", \"count\": 4}, {\"emoji\": \"\\u26a0\", \"count\": 8}, {\"emoji\": \"\\u26d4\", \"count\": 4}, {\"emoji\": \"\\ud83e\\udd14\", \"count\": 12}, {\"emoji\": \"\\u2795\", \"count\": 2}, {\"emoji\": \"\\u270a\\ud83c\\udffd\", \"count\": 1}, {\"emoji\": \"\\ud83d\\udc49\\ud83c\\udffd\", \"count\": 2}, {\"emoji\": \"\\ud83d\\ude2d\", \"count\": 3}, {\"emoji\": \"\\ud83e\\uddd0\", \"count\": 1}, {\"emoji\": \"\\u23f0\", \"count\": 3}, {\"emoji\": \"\\ud83d\\udd26\", \"count\": 1}, {\"emoji\": \"\\u2049\\ufe0f\", \"count\": 1}, {\"emoji\": \"\\ud83d\\udccc\", \"count\": 2}, {\"emoji\": \"\\u2757\", \"count\": 4}, {\"emoji\": \"\\ud83d\\udc50\", \"count\": 2}, {\"emoji\": \"\\ud83d\\udc44\", \"count\": 2}, {\"emoji\": \"\\ud83c\\uddf5\\ud83c\\uddf0\", \"count\": 1}, {\"emoji\": \"\\ud83c\\udf99\\ufe0f\", \"count\": 1}, {\"emoji\": \"\\ud83d\\ude22\", \"count\": 1}, {\"emoji\": \"\\u25b6\\ufe0f\", \"count\": 6}, {\"emoji\": \"\\ud83d\\ude9a\", \"count\": 1}, {\"emoji\": \"\\ud83d\\udca8\", \"count\": 1}, {\"emoji\": \"\\ud83d\\udc68\", \"count\": 2}, {\"emoji\": \"\\u2695\\ufe0f\", \"count\": 2}, {\"emoji\": \"\\ud83c\\udf0d\", \"count\": 3}, {\"emoji\": \"\\ud83e\\udd27\", \"count\": 1}, {\"emoji\": \"\\ud83c\\udfe5\", \"count\": 1}, {\"emoji\": \"\\u2935\\ufe0f\", \"count\": 1}, {\"emoji\": \"\\ud83c\\uddf3\\ud83c\\uddf4\", \"count\": 1}, {\"emoji\": \"\\ud83d\\udde3\\ufe0f\", \"count\": 1}, {\"emoji\": \"\\u3030\\ufe0f\", \"count\": 2}, {\"emoji\": \"\\ud83d\\udda5\\ufe0f\", \"count\": 1}, {\"emoji\": \"\\ud83d\\udc64\", \"count\": 1}, {\"emoji\": \"\\u2139\\ufe0f\", \"count\": 2}, {\"emoji\": \"\\ud83d\\ude03\", \"count\": 1}, {\"emoji\": \"\\ud83d\\udc4d\", \"count\": 1}, {\"emoji\": \"\\ud83d\\udcf7\", \"count\": 1}, {\"emoji\": \"\\ud83d\\udeab\", \"count\": 3}, {\"emoji\": \"\\ud83d\\udc26\", \"count\": 1}, {\"emoji\": \"\\ud83d\\udc94\", \"count\": 2}, {\"emoji\": \"\\ud83e\\udd73\", \"count\": 2}, {\"emoji\": \"\\ud83c\\udf89\", \"count\": 2}, {\"emoji\": \"\\ud83d\\ude0f\", \"count\": 1}, {\"emoji\": \"\\ud83d\\udc76\", \"count\": 1}, {\"emoji\": \"\\ud83c\\uddea\\ud83c\\udde8\", \"count\": 2}, {\"emoji\": \"\\ud83d\\udcac\", \"count\": 1}, {\"emoji\": \"\\ud83d\\udc43\", \"count\": 1}, {\"emoji\": \"\\ud83d\\udde3\", \"count\": 1}, {\"emoji\": \"\\ud83e\\uddd4\\ud83c\\udffb\", \"count\": 1}, {\"emoji\": \"\\ud83d\\ude48\", \"count\": 1}, {\"emoji\": \"\\ud83d\\ude4a\", \"count\": 1}, {\"emoji\": \"\\ud83d\\ude49\", \"count\": 1}, {\"emoji\": \"\\ud83d\\udc4f\\ud83c\\udffc\", \"count\": 1}, {\"emoji\": \"\\ud83e\\udd2c\", \"count\": 3}, {\"emoji\": \"\\ud83d\\udcf1\", \"count\": 1}, {\"emoji\": \"\\ud83d\\udcaa\", \"count\": 5}, {\"emoji\": \"\\ud83d\\ude4b\", \"count\": 2}, {\"emoji\": \"\\ud83d\\udc4b\", \"count\": 2}, {\"emoji\": \"\\ud83c\\uddf5\\ud83c\\uddea\", \"count\": 1}, {\"emoji\": \"\\ud83c\\udf6f\", \"count\": 1}, {\"emoji\": \"\\u2623\\ufe0f\", \"count\": 1}, {\"emoji\": \"\\ud83c\\uddee\\ud83c\\uddf7\", \"count\": 1}, {\"emoji\": \"\\ud83e\\udda7\", \"count\": 1}, {\"emoji\": \"\\ud83c\\uddee\\ud83c\\uddf3\", \"count\": 1}, {\"emoji\": \"\\ud83d\\ude0a\", \"count\": 2}, {\"emoji\": \"\\ud83d\\ude21\", \"count\": 4}, {\"emoji\": \"\\ud83d\\ude20\", \"count\": 1}, {\"emoji\": \"\\ud83c\\udfe0\", \"count\": 1}, {\"emoji\": \"\\ud83d\\udd01\", \"count\": 1}, {\"emoji\": \"\\ud83d\\ude4f\\ud83c\\udffb\", \"count\": 1}, {\"emoji\": \"\\ud83d\\udcf8\", \"count\": 1}, {\"emoji\": \"\\ud83d\\ude0d\", \"count\": 2}, {\"emoji\": \"\\ud83c\\udfd4\", \"count\": 1}, {\"emoji\": \"\\ud83d\\udcc4\", \"count\": 1}, {\"emoji\": \"\\ud83d\\udc4f\", \"count\": 6}, {\"emoji\": \"\\ud83d\\udc47\\ud83c\\udffc\", \"count\": 1}, {\"emoji\": \"\\ud83d\\udc9f\", \"count\": 2}, {\"emoji\": \"\\ud83d\\udead\", \"count\": 1}, {\"emoji\": \"\\ud83c\\udf21\\ufe0f\", \"count\": 1}, {\"emoji\": \"\\ud83d\\udc4c\", \"count\": 1}, {\"emoji\": \"\\u25b6\", \"count\": 3}, {\"emoji\": \"\\ud83d\\udc4d\\ud83c\\udffb\", \"count\": 1}, {\"emoji\": \"\\ud83c\\udde8\\ud83c\\uddfa\", \"count\": 2}, {\"emoji\": \"\\ud83d\\udc95\", \"count\": 1}, {\"emoji\": \"\\ud83e\\udd21\", \"count\": 1}, {\"emoji\": \"\\ud83d\\ude2a\", \"count\": 2}, {\"emoji\": \"\\ud83e\\udd24\", \"count\": 1}, {\"emoji\": \"\\ud83d\\ude1c\", \"count\": 2}, {\"emoji\": \"\\ud83d\\ude0e\", \"count\": 1}, {\"emoji\": \"\\ud83c\\uddee\\ud83c\\udde9\", \"count\": 3}, {\"emoji\": \"\\ud83d\\udc96\", \"count\": 1}, {\"emoji\": \"\\u00ae\", \"count\": 1}, {\"emoji\": \"\\ud83e\\udd63\", \"count\": 1}, {\"emoji\": \"\\ud83c\\udfb6\", \"count\": 2}, {\"emoji\": \"\\ud83d\\udc4f\\ud83c\\udffd\", \"count\": 5}, {\"emoji\": \"\\ud83c\\udf0e\", \"count\": 3}, {\"emoji\": \"\\ud83d\\udc4b\\ud83c\\udfff\", \"count\": 2}, {\"emoji\": \"\\ud83e\\udd1e\", \"count\": 1}, {\"emoji\": \"2\\u20e3\", \"count\": 2}, {\"emoji\": \"6\\u20e3\", \"count\": 1}, {\"emoji\": \"\\ud83e\\udd2d\", \"count\": 1}, {\"emoji\": \"\\ud83d\\udd3b\", \"count\": 1}, {\"emoji\": \"\\ud83d\\udd4c\", \"count\": 1}, {\"emoji\": \"\\ud83d\\udd14\", \"count\": 1}, {\"emoji\": \"\\ud83d\\udcaa\\ud83c\\udffb\", \"count\": 1}, {\"emoji\": \"\\ud83c\\udfcb\\ud83c\\udffb\", \"count\": 1}, {\"emoji\": \"\\ud83d\\udc31\", \"count\": 1}, {\"emoji\": \"\\ud83d\\udc36\", \"count\": 1}, {\"emoji\": \"3\\u20e3\", \"count\": 2}, {\"emoji\": \"\\ud83d\\udd39\", \"count\": 3}, {\"emoji\": \"\\ud83d\\udc67\", \"count\": 1}, {\"emoji\": \"\\ud83d\\udc76\\ud83c\\udffd\", \"count\": 1}, {\"emoji\": \"\\ud83c\\uddf3\\ud83c\\uddec\", \"count\": 1}, {\"emoji\": \"\\ud83c\\uddf8\\ud83c\\uddf3\", \"count\": 1}, {\"emoji\": \"\\ud83c\\uddea\\ud83c\\uddec\", \"count\": 1}, {\"emoji\": \"\\ud83c\\uddf9\\ud83c\\uddf3\", \"count\": 1}, {\"emoji\": \"\\ud83c\\uddf2\\ud83c\\udde6\", \"count\": 1}, {\"emoji\": \"\\ud83d\\udc41\\ufe0f\", \"count\": 1}, {\"emoji\": \"\\ud83e\\udde4\", \"count\": 1}, {\"emoji\": \"\\u2640\\ufe0f\", \"count\": 1}, {\"emoji\": \"\\ud83d\\udce1\", \"count\": 1}, {\"emoji\": \"\\ud83e\\udd26\", \"count\": 2}, {\"emoji\": \"\\u2642\\ufe0f\", \"count\": 2}, {\"emoji\": \"\\ud83d\\ude29\", \"count\": 2}, {\"emoji\": \"1\\u20e3\", \"count\": 1}, {\"emoji\": \"\\u2666\", \"count\": 1}, {\"emoji\": \"\\ud83c\\uddf2\\ud83c\\uddfd\", \"count\": 1}, {\"emoji\": \"\\ud83d\\udc47\\ud83c\\udfff\", \"count\": 1}, {\"emoji\": \"\\ud83c\\udff4\", \"count\": 1}, {\"emoji\": \"\\ud83d\\ude44\", \"count\": 1}, {\"emoji\": \"\\ud83e\\uddfc\", \"count\": 1}, {\"emoji\": \"\\ud83d\\ude07\", \"count\": 1}, {\"emoji\": \"\\ud83e\\udd2f\", \"count\": 1}, {\"emoji\": \"\\u26b0\\ufe0f\", \"count\": 1}]}}, {\"mode\": \"vega-lite\"});\n",
       "</script>"
      ],
      "text/plain": [
       "alt.Chart(...)"
      ]
     },
     "execution_count": 4,
     "metadata": {},
     "output_type": "execute_result"
    }
   ],
   "source": [
    "merged=list(itertools.chain.from_iterable(emos))\n",
    "c = Counter(merged)\n",
    "\n",
    "df = pd.DataFrame.from_dict(c, orient='index').reset_index()\n",
    "df = df.rename(columns={'index':'emoji', 0:'count'})\n",
    "\n",
    "\n",
    "chart = alt.Chart(\n",
    "    df\n",
    ").mark_bar().encode(\n",
    "    x=alt.X('count:Q'),\n",
    "    y=alt.Y('emoji:N',sort='-x'),\n",
    "    color=alt.Color('count:Q',scale=alt.Scale(scheme=\"blues\"))\n",
    ").transform_window(\n",
    "    rank='rank(count)',\n",
    "    sort=[alt.SortField('count', order='descending')]\n",
    ").transform_filter(\n",
    "    (alt.datum.rank < 15)\n",
    ").properties(width=700, height=300,  title = \"Most 15 frequent emojis in the dataset\")\n",
    "\n",
    "chart"
   ]
  }
 ],
 "metadata": {
  "kernelspec": {
   "display_name": "Python 3",
   "language": "python",
   "name": "python3"
  },
  "language_info": {
   "codemirror_mode": {
    "name": "ipython",
    "version": 3
   },
   "file_extension": ".py",
   "mimetype": "text/x-python",
   "name": "python",
   "nbconvert_exporter": "python",
   "pygments_lexer": "ipython3",
   "version": "3.9.2"
  }
 },
 "nbformat": 4,
 "nbformat_minor": 5
}

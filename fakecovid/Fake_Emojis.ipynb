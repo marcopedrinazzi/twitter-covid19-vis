{
 "cells": [
  {
   "cell_type": "markdown",
   "id": "dental-adelaide",
   "metadata": {},
   "source": [
    "# Emojis Visualizations - Fake Covid-19 dataset"
   ]
  },
  {
   "cell_type": "markdown",
   "id": "unavailable-clock",
   "metadata": {},
   "source": [
    "We've used the following packages:"
   ]
  },
  {
   "cell_type": "code",
   "execution_count": 1,
   "id": "blank-kenya",
   "metadata": {},
   "outputs": [],
   "source": [
    "import pandas as pd\n",
    "import numpy as np\n",
    "import json\n",
    "import itertools  \n",
    "from collections import Counter\n",
    "import altair as alt\n",
    "import demoji\n",
    "import csv\n",
    "\n",
    "#demoji.download_codes()"
   ]
  },
  {
   "cell_type": "markdown",
   "id": "progressive-defense",
   "metadata": {},
   "source": [
    "To read the JSON file that has all the tweets and to read the CSV to do the classification later, it is necessary to do:"
   ]
  },
  {
   "cell_type": "code",
   "execution_count": 2,
   "id": "medieval-browser",
   "metadata": {},
   "outputs": [],
   "source": [
    "csv_dataframe = pd.read_csv('dataset/FINAL_fakecovid_final_filtered_dataset_clean.csv',sep=\";\")\n",
    "csv_dataframe['tweet_id'] = csv_dataframe['tweet_id'].astype(str)\n",
    "csv_list = csv_dataframe.values.tolist()\n",
    "lista_unica_csv=list(itertools.chain.from_iterable(csv_list))\n",
    "\n",
    "data = []\n",
    "with open('dataset/fakecovid_result_final_translated_full.json', 'r') as f:\n",
    "    for line in f:\n",
    "        data.append(json.loads(line))"
   ]
  },
  {
   "cell_type": "markdown",
   "id": "nasty-harris",
   "metadata": {},
   "source": [
    "We're interested in the \"full_text\" field and \"id_str\" (for the tweets classification):"
   ]
  },
  {
   "cell_type": "code",
   "execution_count": 3,
   "id": "annual-convenience",
   "metadata": {},
   "outputs": [],
   "source": [
    "index= 0\n",
    "emos = []\n",
    "for element in data:\n",
    "    token_id = data[index]['id_str']\n",
    "    indice_csv = lista_unica_csv.index(token_id)\n",
    "    em = demoji.findall_list(data[index]['full_text'], False)\n",
    "    if em:\n",
    "        for e in em: \n",
    "            final_token = e + \" \" + lista_unica_csv[indice_csv+1].lower().replace(\" \", \"\")\n",
    "            emos.append(final_token)\n",
    "    index= index+1\n",
    "   \n",
    "    "
   ]
  },
  {
   "cell_type": "markdown",
   "id": "patent-scientist",
   "metadata": {},
   "source": [
    "We have calculated the frequency distribution and worked on the dataframe to display the correct data:"
   ]
  },
  {
   "cell_type": "code",
   "execution_count": 4,
   "id": "impossible-fountain",
   "metadata": {},
   "outputs": [],
   "source": [
    "#merged=list(itertools.chain.from_iterable(emos))\n",
    "#print(merged)\n",
    "#print(emos)\n",
    "c = Counter(emos)\n",
    "\n",
    "\n",
    "df = pd.DataFrame.from_dict(c, orient='index').reset_index()\n",
    "df = df.rename(columns={'index':'Emojis', 0:'count'})\n",
    "col_one_list = df['Emojis'].tolist()\n",
    "col_two_list = df['count'].tolist()\n",
    "\n",
    "typelist=[]\n",
    "namelist=[]\n",
    "\n",
    "index = 0\n",
    "\n",
    "count_false = [0] * len(col_one_list)\n",
    "count_part = [0] * len(col_one_list)\n",
    "\n",
    "for el in col_one_list:\n",
    "    tok = el.split()\n",
    "    namelist.append(tok[0])\n",
    "    if tok[0] in namelist:\n",
    "        indx = namelist.index(tok[0])\n",
    "        if tok[1] == \"false\":\n",
    "            count_false[indx] = col_two_list[index]\n",
    "        elif tok[1] == \"partiallyfalse\":\n",
    "            count_part[indx] = col_two_list[index]\n",
    "        else:\n",
    "            print(\"errore count\")\n",
    "   \n",
    "    index = index + 1\n",
    "    \n",
    "\n",
    "\n",
    "df['Emojis']=namelist\n",
    "df['False']=count_false\n",
    "df['Partially False']=count_part\n",
    "del df['count'] #clean column\n",
    "df['count'] = df['False'] + df['Partially False']\n",
    "\n",
    "\n",
    "#print(df.to_string())"
   ]
  },
  {
   "cell_type": "markdown",
   "id": "human-court",
   "metadata": {},
   "source": [
    "Here it is the final result, the chart displays only the emoji appeared in at least five different tweets:"
   ]
  },
  {
   "cell_type": "code",
   "execution_count": 6,
   "id": "centered-transportation",
   "metadata": {},
   "outputs": [
    {
     "data": {
      "text/html": [
       "\n",
       "<div id=\"altair-viz-aec68d3096c1457d8202088b5b1d09d0\"></div>\n",
       "<script type=\"text/javascript\">\n",
       "  (function(spec, embedOpt){\n",
       "    let outputDiv = document.currentScript.previousElementSibling;\n",
       "    if (outputDiv.id !== \"altair-viz-aec68d3096c1457d8202088b5b1d09d0\") {\n",
       "      outputDiv = document.getElementById(\"altair-viz-aec68d3096c1457d8202088b5b1d09d0\");\n",
       "    }\n",
       "    const paths = {\n",
       "      \"vega\": \"https://cdn.jsdelivr.net/npm//vega@5?noext\",\n",
       "      \"vega-lib\": \"https://cdn.jsdelivr.net/npm//vega-lib?noext\",\n",
       "      \"vega-lite\": \"https://cdn.jsdelivr.net/npm//vega-lite@4.8.1?noext\",\n",
       "      \"vega-embed\": \"https://cdn.jsdelivr.net/npm//vega-embed@6?noext\",\n",
       "    };\n",
       "\n",
       "    function loadScript(lib) {\n",
       "      return new Promise(function(resolve, reject) {\n",
       "        var s = document.createElement('script');\n",
       "        s.src = paths[lib];\n",
       "        s.async = true;\n",
       "        s.onload = () => resolve(paths[lib]);\n",
       "        s.onerror = () => reject(`Error loading script: ${paths[lib]}`);\n",
       "        document.getElementsByTagName(\"head\")[0].appendChild(s);\n",
       "      });\n",
       "    }\n",
       "\n",
       "    function showError(err) {\n",
       "      outputDiv.innerHTML = `<div class=\"error\" style=\"color:red;\">${err}</div>`;\n",
       "      throw err;\n",
       "    }\n",
       "\n",
       "    function displayChart(vegaEmbed) {\n",
       "      vegaEmbed(outputDiv, spec, embedOpt)\n",
       "        .catch(err => showError(`Javascript Error: ${err.message}<br>This usually means there's a typo in your chart specification. See the javascript console for the full traceback.`));\n",
       "    }\n",
       "\n",
       "    if(typeof define === \"function\" && define.amd) {\n",
       "      requirejs.config({paths});\n",
       "      require([\"vega-embed\"], displayChart, err => showError(`Error loading script: ${err.message}`));\n",
       "    } else if (typeof vegaEmbed === \"function\") {\n",
       "      displayChart(vegaEmbed);\n",
       "    } else {\n",
       "      loadScript(\"vega\")\n",
       "        .then(() => loadScript(\"vega-lite\"))\n",
       "        .then(() => loadScript(\"vega-embed\"))\n",
       "        .catch(showError)\n",
       "        .then(() => displayChart(vegaEmbed));\n",
       "    }\n",
       "  })({\"config\": {\"view\": {\"continuousWidth\": 400, \"continuousHeight\": 300}, \"axis\": {\"labelFontSize\": 13, \"titleFontSize\": 15, \"titlePadding\": 15}, \"header\": {\"labelFontSize\": 12, \"titleFontSize\": 15}, \"legend\": {\"labelFontSize\": 12, \"titleFontSize\": 14, \"titlePadding\": 10}, \"title\": {\"fontSize\": 17, \"offset\": 25}}, \"data\": {\"name\": \"data-25fb7bff8d28bd26b739970b8a52081a\"}, \"mark\": \"bar\", \"encoding\": {\"color\": {\"type\": \"nominal\", \"field\": \"key\", \"scale\": {\"range\": [\"#5D3A9B\", \"#E66100\"]}, \"title\": \"Category\"}, \"column\": {\"type\": \"nominal\", \"field\": \"Emojis\"}, \"x\": {\"type\": \"nominal\", \"field\": \"key\", \"title\": null}, \"y\": {\"type\": \"quantitative\", \"field\": \"value\", \"title\": \"Tweet count\"}}, \"title\": \"The most frequent emojis in tweets classified by category (False, Partually False)\", \"transform\": [{\"fold\": [\"False\", \"Partially False\"]}, {\"filter\": {\"field\": \"count\", \"range\": [7, 26]}}], \"$schema\": \"https://vega.github.io/schema/vega-lite/v4.8.1.json\", \"datasets\": {\"data-25fb7bff8d28bd26b739970b8a52081a\": [{\"Emojis\": \"\\ud83d\\udea8\", \"False\": 13, \"Partially False\": 2, \"count\": 15}, {\"Emojis\": \"\\ud83c\\udde9\\ud83c\\uddea\", \"False\": 1, \"Partially False\": 0, \"count\": 1}, {\"Emojis\": \"\\ud83c\\udde9\\ud83c\\uddff\", \"False\": 4, \"Partially False\": 0, \"count\": 4}, {\"Emojis\": \"\\u2764\\ufe0f\", \"False\": 3, \"Partially False\": 2, \"count\": 5}, {\"Emojis\": \"\\ud83d\\ude81\", \"False\": 1, \"Partially False\": 0, \"count\": 1}, {\"Emojis\": \"\\ud83c\\udfc5\", \"False\": 1, \"Partially False\": 0, \"count\": 1}, {\"Emojis\": \"\\ud83c\\udf96\\ufe0f\", \"False\": 1, \"Partially False\": 0, \"count\": 1}, {\"Emojis\": \"\\u274c\", \"False\": 10, \"Partially False\": 1, \"count\": 11}, {\"Emojis\": \"\\ud83d\\udc47\", \"False\": 14, \"Partially False\": 5, \"count\": 19}, {\"Emojis\": \"\\u2714\\ufe0f\", \"False\": 5, \"Partially False\": 0, \"count\": 5}, {\"Emojis\": \"\\u2b55\", \"False\": 2, \"Partially False\": 0, \"count\": 2}, {\"Emojis\": \"\\ud83c\\udde7\\ud83c\\uddee\", \"False\": 1, \"Partially False\": 0, \"count\": 1}, {\"Emojis\": \"\\ud83d\\udc49\\ud83c\\udffe\", \"False\": 1, \"Partially False\": 0, \"count\": 1}, {\"Emojis\": \"\\ud83d\\ude02\", \"False\": 6, \"Partially False\": 0, \"count\": 6}, {\"Emojis\": \"\\u2b07\\ufe0f\", \"False\": 25, \"Partially False\": 0, \"count\": 25}, {\"Emojis\": \"\\ud83d\\udcaf\", \"False\": 3, \"Partially False\": 0, \"count\": 3}, {\"Emojis\": \"\\ud83d\\ude37\", \"False\": 4, \"Partially False\": 0, \"count\": 4}, {\"Emojis\": \"\\ud83d\\ude4c\\ud83c\\udffc\", \"False\": 1, \"Partially False\": 0, \"count\": 1}, {\"Emojis\": \"\\ud83c\\uddfa\\ud83c\\uddf8\", \"False\": 7, \"Partially False\": 2, \"count\": 9}, {\"Emojis\": \"\\ud83d\\udc47\\ud83c\\udffb\", \"False\": 2, \"Partially False\": 1, \"count\": 3}, {\"Emojis\": \"\\ud83d\\uddd3\", \"False\": 0, \"Partially False\": 1, \"count\": 1}, {\"Emojis\": \"\\ud83d\\udce2\", \"False\": 7, \"Partially False\": 0, \"count\": 7}, {\"Emojis\": \"\\ud83d\\udc47\\ud83c\\udffd\", \"False\": 4, \"Partially False\": 1, \"count\": 5}, {\"Emojis\": \"\\ud83d\\udc47\\ud83c\\udffb\", \"False\": 0, \"Partially False\": 0, \"count\": 0}, {\"Emojis\": \"\\ud83c\\udde7\\ud83c\\uddea\", \"False\": 2, \"Partially False\": 0, \"count\": 2}, {\"Emojis\": \"\\ud83d\\udd35\", \"False\": 1, \"Partially False\": 0, \"count\": 1}, {\"Emojis\": \"\\ud83d\\udc49\", \"False\": 9, \"Partially False\": 0, \"count\": 9}, {\"Emojis\": \"\\ud83d\\udea8\", \"False\": 0, \"Partially False\": 0, \"count\": 0}, {\"Emojis\": \"\\ud83c\\udde8\\ud83c\\uddf4\", \"False\": 1, \"Partially False\": 0, \"count\": 1}, {\"Emojis\": \"\\ud83c\\uddf5\\ud83c\\uddfe\", \"False\": 1, \"Partially False\": 0, \"count\": 1}, {\"Emojis\": \"\\ud83c\\udde7\\ud83c\\uddf9\", \"False\": 1, \"Partially False\": 0, \"count\": 1}, {\"Emojis\": \"\\ud83c\\uddea\\ud83c\\uddf8\", \"False\": 5, \"Partially False\": 0, \"count\": 5}, {\"Emojis\": \"\\ud83c\\uddee\\ud83c\\uddf9\", \"False\": 3, \"Partially False\": 3, \"count\": 6}, {\"Emojis\": \"\\ud83c\\uddf9\\ud83c\\uddfb\", \"False\": 1, \"Partially False\": 0, \"count\": 1}, {\"Emojis\": \"\\ud83c\\uddfb\\ud83c\\uddf3\", \"False\": 1, \"Partially False\": 0, \"count\": 1}, {\"Emojis\": \"\\ud83c\\uddea\\ud83c\\uddfa\", \"False\": 1, \"Partially False\": 0, \"count\": 1}, {\"Emojis\": \"\\ud83d\\udcfa\", \"False\": 3, \"Partially False\": 1, \"count\": 4}, {\"Emojis\": \"\\ud83d\\udcbb\", \"False\": 3, \"Partially False\": 0, \"count\": 3}, {\"Emojis\": \"\\ud83d\\udcfb\", \"False\": 2, \"Partially False\": 0, \"count\": 2}, {\"Emojis\": \"\\ud83e\\udd17\", \"False\": 1, \"Partially False\": 0, \"count\": 1}, {\"Emojis\": \"\\u2139\", \"False\": 1, \"Partially False\": 1, \"count\": 2}, {\"Emojis\": \"\\ud83d\\ude4f\", \"False\": 9, \"Partially False\": 3, \"count\": 12}, {\"Emojis\": \"\\ud83c\\uddfa\\ud83c\\uddf8\", \"False\": 0, \"Partially False\": 0, \"count\": 0}, {\"Emojis\": \"\\ud83e\\udda0\", \"False\": 3, \"Partially False\": 0, \"count\": 3}, {\"Emojis\": \"\\ud83d\\udd0a\", \"False\": 2, \"Partially False\": 1, \"count\": 3}, {\"Emojis\": \"\\ud83d\\udce7\", \"False\": 2, \"Partially False\": 0, \"count\": 2}, {\"Emojis\": \"\\ud83d\\udc47\", \"False\": 0, \"Partially False\": 0, \"count\": 0}, {\"Emojis\": \"\\ud83d\\udcf0\", \"False\": 3, \"Partially False\": 0, \"count\": 3}, {\"Emojis\": \"\\u27a1\\ufe0f\", \"False\": 7, \"Partially False\": 0, \"count\": 7}, {\"Emojis\": \"\\ud83d\\udcf9\", \"False\": 3, \"Partially False\": 0, \"count\": 3}, {\"Emojis\": \"\\u2935\", \"False\": 1, \"Partially False\": 0, \"count\": 1}, {\"Emojis\": \"\\ud83c\\udfdb\\ufe0f\", \"False\": 1, \"Partially False\": 0, \"count\": 1}, {\"Emojis\": \"\\ud83c\\uddeb\\ud83c\\uddf7\", \"False\": 1, \"Partially False\": 0, \"count\": 1}, {\"Emojis\": \"\\ud83c\\uddec\\ud83c\\udde7\", \"False\": 1, \"Partially False\": 0, \"count\": 1}, {\"Emojis\": \"\\ud83c\\uddf7\\ud83c\\uddfa\", \"False\": 1, \"Partially False\": 0, \"count\": 1}, {\"Emojis\": \"\\ud83d\\udd34\", \"False\": 12, \"Partially False\": 1, \"count\": 13}, {\"Emojis\": \"\\ud83c\\udde8\\ud83c\\uddf3\", \"False\": 5, \"Partially False\": 1, \"count\": 6}, {\"Emojis\": \"\\u26a0\\ufe0f\", \"False\": 26, \"Partially False\": 0, \"count\": 26}, {\"Emojis\": \"\\u2764\\ufe0f\", \"False\": 0, \"Partially False\": 0, \"count\": 0}, {\"Emojis\": \"\\ud83c\\uddee\\ud83c\\uddf9\", \"False\": 0, \"Partially False\": 0, \"count\": 0}, {\"Emojis\": \"\\u2705\", \"False\": 9, \"Partially False\": 1, \"count\": 10}, {\"Emojis\": \"\\u2b50\", \"False\": 3, \"Partially False\": 0, \"count\": 3}, {\"Emojis\": \"\\ud83d\\udc40\", \"False\": 3, \"Partially False\": 0, \"count\": 3}, {\"Emojis\": \"\\u261d\", \"False\": 3, \"Partially False\": 0, \"count\": 3}, {\"Emojis\": \"\\u27a1\", \"False\": 3, \"Partially False\": 1, \"count\": 4}, {\"Emojis\": \"\\u26a0\", \"False\": 8, \"Partially False\": 0, \"count\": 8}, {\"Emojis\": \"\\u26d4\", \"False\": 4, \"Partially False\": 0, \"count\": 4}, {\"Emojis\": \"\\ud83e\\udd14\", \"False\": 10, \"Partially False\": 2, \"count\": 12}, {\"Emojis\": \"\\u2795\", \"False\": 2, \"Partially False\": 0, \"count\": 2}, {\"Emojis\": \"\\u2139\", \"False\": 0, \"Partially False\": 0, \"count\": 0}, {\"Emojis\": \"\\u270a\\ud83c\\udffd\", \"False\": 1, \"Partially False\": 0, \"count\": 1}, {\"Emojis\": \"\\ud83d\\udc49\\ud83c\\udffd\", \"False\": 2, \"Partially False\": 0, \"count\": 2}, {\"Emojis\": \"\\ud83d\\ude2d\", \"False\": 3, \"Partially False\": 0, \"count\": 3}, {\"Emojis\": \"\\ud83e\\uddd0\", \"False\": 0, \"Partially False\": 1, \"count\": 1}, {\"Emojis\": \"\\ud83e\\udd14\", \"False\": 0, \"Partially False\": 0, \"count\": 0}, {\"Emojis\": \"\\u23f0\", \"False\": 2, \"Partially False\": 1, \"count\": 3}, {\"Emojis\": \"\\ud83d\\udd26\", \"False\": 1, \"Partially False\": 0, \"count\": 1}, {\"Emojis\": \"\\u2049\\ufe0f\", \"False\": 1, \"Partially False\": 0, \"count\": 1}, {\"Emojis\": \"\\ud83d\\udccc\", \"False\": 2, \"Partially False\": 0, \"count\": 2}, {\"Emojis\": \"\\u2757\", \"False\": 4, \"Partially False\": 0, \"count\": 4}, {\"Emojis\": \"\\ud83d\\udc50\", \"False\": 2, \"Partially False\": 0, \"count\": 2}, {\"Emojis\": \"\\ud83d\\udc44\", \"False\": 2, \"Partially False\": 0, \"count\": 2}, {\"Emojis\": \"\\ud83c\\udde8\\ud83c\\uddf3\", \"False\": 0, \"Partially False\": 0, \"count\": 0}, {\"Emojis\": \"\\ud83c\\uddf5\\ud83c\\uddf0\", \"False\": 1, \"Partially False\": 0, \"count\": 1}, {\"Emojis\": \"\\ud83c\\udf99\\ufe0f\", \"False\": 1, \"Partially False\": 0, \"count\": 1}, {\"Emojis\": \"\\ud83d\\ude22\", \"False\": 1, \"Partially False\": 0, \"count\": 1}, {\"Emojis\": \"\\u25b6\\ufe0f\", \"False\": 1, \"Partially False\": 5, \"count\": 6}, {\"Emojis\": \"\\ud83d\\ude9a\", \"False\": 1, \"Partially False\": 0, \"count\": 1}, {\"Emojis\": \"\\ud83d\\udca8\", \"False\": 1, \"Partially False\": 0, \"count\": 1}, {\"Emojis\": \"\\ud83d\\udc68\", \"False\": 2, \"Partially False\": 0, \"count\": 2}, {\"Emojis\": \"\\u2695\\ufe0f\", \"False\": 2, \"Partially False\": 0, \"count\": 2}, {\"Emojis\": \"\\ud83c\\udf0d\", \"False\": 1, \"Partially False\": 2, \"count\": 3}, {\"Emojis\": \"\\ud83e\\udd27\", \"False\": 0, \"Partially False\": 1, \"count\": 1}, {\"Emojis\": \"\\ud83c\\udfe5\", \"False\": 0, \"Partially False\": 1, \"count\": 1}, {\"Emojis\": \"\\u2935\\ufe0f\", \"False\": 1, \"Partially False\": 0, \"count\": 1}, {\"Emojis\": \"\\ud83c\\uddf3\\ud83c\\uddf4\", \"False\": 1, \"Partially False\": 0, \"count\": 1}, {\"Emojis\": \"\\ud83d\\udde3\\ufe0f\", \"False\": 1, \"Partially False\": 0, \"count\": 1}, {\"Emojis\": \"\\u3030\\ufe0f\", \"False\": 2, \"Partially False\": 0, \"count\": 2}, {\"Emojis\": \"\\ud83d\\udda5\\ufe0f\", \"False\": 1, \"Partially False\": 0, \"count\": 1}, {\"Emojis\": \"\\ud83d\\udc64\", \"False\": 1, \"Partially False\": 0, \"count\": 1}, {\"Emojis\": \"\\u2139\\ufe0f\", \"False\": 2, \"Partially False\": 0, \"count\": 2}, {\"Emojis\": \"\\ud83d\\ude03\", \"False\": 1, \"Partially False\": 0, \"count\": 1}, {\"Emojis\": \"\\ud83d\\udcfa\", \"False\": 0, \"Partially False\": 0, \"count\": 0}, {\"Emojis\": \"\\u27a1\", \"False\": 0, \"Partially False\": 0, \"count\": 0}, {\"Emojis\": \"\\ud83d\\udc4d\", \"False\": 1, \"Partially False\": 0, \"count\": 1}, {\"Emojis\": \"\\ud83d\\udcf7\", \"False\": 1, \"Partially False\": 0, \"count\": 1}, {\"Emojis\": \"\\ud83d\\udeab\", \"False\": 3, \"Partially False\": 0, \"count\": 3}, {\"Emojis\": \"\\ud83d\\udc26\", \"False\": 1, \"Partially False\": 0, \"count\": 1}, {\"Emojis\": \"\\ud83d\\udc94\", \"False\": 2, \"Partially False\": 0, \"count\": 2}, {\"Emojis\": \"\\ud83e\\udd73\", \"False\": 2, \"Partially False\": 0, \"count\": 2}, {\"Emojis\": \"\\ud83c\\udf89\", \"False\": 2, \"Partially False\": 0, \"count\": 2}, {\"Emojis\": \"\\ud83d\\ude0f\", \"False\": 1, \"Partially False\": 0, \"count\": 1}, {\"Emojis\": \"\\ud83d\\udc76\", \"False\": 1, \"Partially False\": 0, \"count\": 1}, {\"Emojis\": \"\\ud83c\\uddea\\ud83c\\udde8\", \"False\": 2, \"Partially False\": 0, \"count\": 2}, {\"Emojis\": \"\\ud83d\\udcac\", \"False\": 0, \"Partially False\": 1, \"count\": 1}, {\"Emojis\": \"\\ud83d\\udd0a\", \"False\": 0, \"Partially False\": 0, \"count\": 0}, {\"Emojis\": \"\\u25b6\\ufe0f\", \"False\": 0, \"Partially False\": 0, \"count\": 0}, {\"Emojis\": \"\\ud83d\\udc43\", \"False\": 1, \"Partially False\": 0, \"count\": 1}, {\"Emojis\": \"\\ud83d\\udde3\", \"False\": 1, \"Partially False\": 0, \"count\": 1}, {\"Emojis\": \"\\ud83e\\uddd4\\ud83c\\udffb\", \"False\": 1, \"Partially False\": 0, \"count\": 1}, {\"Emojis\": \"\\ud83d\\ude48\", \"False\": 1, \"Partially False\": 0, \"count\": 1}, {\"Emojis\": \"\\ud83d\\ude4a\", \"False\": 1, \"Partially False\": 0, \"count\": 1}, {\"Emojis\": \"\\ud83d\\ude49\", \"False\": 1, \"Partially False\": 0, \"count\": 1}, {\"Emojis\": \"\\ud83d\\udc4f\\ud83c\\udffc\", \"False\": 1, \"Partially False\": 0, \"count\": 1}, {\"Emojis\": \"\\ud83e\\udd2c\", \"False\": 3, \"Partially False\": 0, \"count\": 3}, {\"Emojis\": \"\\ud83d\\udcf1\", \"False\": 1, \"Partially False\": 0, \"count\": 1}, {\"Emojis\": \"\\ud83d\\udcaa\", \"False\": 2, \"Partially False\": 3, \"count\": 5}, {\"Emojis\": \"\\ud83d\\ude4b\", \"False\": 2, \"Partially False\": 0, \"count\": 2}, {\"Emojis\": \"\\ud83d\\udc4b\", \"False\": 2, \"Partially False\": 0, \"count\": 2}, {\"Emojis\": \"\\ud83c\\uddf5\\ud83c\\uddea\", \"False\": 1, \"Partially False\": 0, \"count\": 1}, {\"Emojis\": \"\\ud83c\\udf6f\", \"False\": 1, \"Partially False\": 0, \"count\": 1}, {\"Emojis\": \"\\u2623\\ufe0f\", \"False\": 1, \"Partially False\": 0, \"count\": 1}, {\"Emojis\": \"\\ud83c\\uddee\\ud83c\\uddf7\", \"False\": 1, \"Partially False\": 0, \"count\": 1}, {\"Emojis\": \"\\ud83e\\udda7\", \"False\": 1, \"Partially False\": 0, \"count\": 1}, {\"Emojis\": \"\\ud83c\\uddee\\ud83c\\uddf3\", \"False\": 1, \"Partially False\": 0, \"count\": 1}, {\"Emojis\": \"\\ud83d\\ude0a\", \"False\": 2, \"Partially False\": 0, \"count\": 2}, {\"Emojis\": \"\\ud83d\\ude21\", \"False\": 4, \"Partially False\": 0, \"count\": 4}, {\"Emojis\": \"\\ud83d\\ude20\", \"False\": 1, \"Partially False\": 0, \"count\": 1}, {\"Emojis\": \"\\ud83c\\udfe0\", \"False\": 1, \"Partially False\": 0, \"count\": 1}, {\"Emojis\": \"\\ud83d\\udd01\", \"False\": 1, \"Partially False\": 0, \"count\": 1}, {\"Emojis\": \"\\ud83d\\ude4f\\ud83c\\udffb\", \"False\": 1, \"Partially False\": 0, \"count\": 1}, {\"Emojis\": \"\\ud83d\\udcf8\", \"False\": 1, \"Partially False\": 0, \"count\": 1}, {\"Emojis\": \"\\u274c\", \"False\": 0, \"Partially False\": 0, \"count\": 0}, {\"Emojis\": \"\\u2705\", \"False\": 0, \"Partially False\": 0, \"count\": 0}, {\"Emojis\": \"\\ud83d\\ude0d\", \"False\": 1, \"Partially False\": 1, \"count\": 2}, {\"Emojis\": \"\\ud83c\\udfd4\", \"False\": 1, \"Partially False\": 0, \"count\": 1}, {\"Emojis\": \"\\ud83d\\udcc4\", \"False\": 1, \"Partially False\": 0, \"count\": 1}, {\"Emojis\": \"\\ud83d\\udc4f\", \"False\": 0, \"Partially False\": 6, \"count\": 6}, {\"Emojis\": \"\\ud83d\\udc47\\ud83c\\udffc\", \"False\": 1, \"Partially False\": 0, \"count\": 1}, {\"Emojis\": \"\\ud83d\\udc9f\", \"False\": 0, \"Partially False\": 2, \"count\": 2}, {\"Emojis\": \"\\ud83d\\udcaa\", \"False\": 0, \"Partially False\": 0, \"count\": 0}, {\"Emojis\": \"\\ud83d\\udead\", \"False\": 0, \"Partially False\": 1, \"count\": 1}, {\"Emojis\": \"\\ud83c\\udf21\\ufe0f\", \"False\": 1, \"Partially False\": 0, \"count\": 1}, {\"Emojis\": \"\\ud83d\\udc4c\", \"False\": 1, \"Partially False\": 0, \"count\": 1}, {\"Emojis\": \"\\u25b6\", \"False\": 3, \"Partially False\": 0, \"count\": 3}, {\"Emojis\": \"\\ud83d\\udc4d\\ud83c\\udffb\", \"False\": 1, \"Partially False\": 0, \"count\": 1}, {\"Emojis\": \"\\ud83c\\udde8\\ud83c\\uddfa\", \"False\": 2, \"Partially False\": 0, \"count\": 2}, {\"Emojis\": \"\\ud83d\\udc95\", \"False\": 1, \"Partially False\": 0, \"count\": 1}, {\"Emojis\": \"\\ud83e\\udd21\", \"False\": 1, \"Partially False\": 0, \"count\": 1}, {\"Emojis\": \"\\ud83d\\ude2a\", \"False\": 2, \"Partially False\": 0, \"count\": 2}, {\"Emojis\": \"\\ud83e\\udd24\", \"False\": 1, \"Partially False\": 0, \"count\": 1}, {\"Emojis\": \"\\ud83d\\ude1c\", \"False\": 2, \"Partially False\": 0, \"count\": 2}, {\"Emojis\": \"\\ud83d\\ude0e\", \"False\": 1, \"Partially False\": 0, \"count\": 1}, {\"Emojis\": \"\\ud83c\\uddee\\ud83c\\udde9\", \"False\": 3, \"Partially False\": 0, \"count\": 3}, {\"Emojis\": \"\\ud83d\\ude4f\", \"False\": 0, \"Partially False\": 0, \"count\": 0}, {\"Emojis\": \"\\ud83d\\udc96\", \"False\": 0, \"Partially False\": 1, \"count\": 1}, {\"Emojis\": \"\\u00ae\", \"False\": 0, \"Partially False\": 1, \"count\": 1}, {\"Emojis\": \"\\ud83e\\udd63\", \"False\": 0, \"Partially False\": 1, \"count\": 1}, {\"Emojis\": \"\\ud83c\\udfb6\", \"False\": 2, \"Partially False\": 0, \"count\": 2}, {\"Emojis\": \"\\ud83d\\udc4f\\ud83c\\udffd\", \"False\": 5, \"Partially False\": 0, \"count\": 5}, {\"Emojis\": \"\\ud83c\\udf0e\", \"False\": 0, \"Partially False\": 3, \"count\": 3}, {\"Emojis\": \"\\ud83c\\udf0d\", \"False\": 0, \"Partially False\": 0, \"count\": 0}, {\"Emojis\": \"\\ud83d\\udc4b\\ud83c\\udfff\", \"False\": 2, \"Partially False\": 0, \"count\": 2}, {\"Emojis\": \"\\ud83e\\udd1e\", \"False\": 1, \"Partially False\": 0, \"count\": 1}, {\"Emojis\": \"2\\u20e3\", \"False\": 1, \"Partially False\": 1, \"count\": 2}, {\"Emojis\": \"6\\u20e3\", \"False\": 1, \"Partially False\": 0, \"count\": 1}, {\"Emojis\": \"\\ud83d\\udd34\", \"False\": 0, \"Partially False\": 0, \"count\": 0}, {\"Emojis\": \"\\ud83e\\udd2d\", \"False\": 0, \"Partially False\": 1, \"count\": 1}, {\"Emojis\": \"\\ud83d\\udd3b\", \"False\": 1, \"Partially False\": 0, \"count\": 1}, {\"Emojis\": \"\\ud83d\\udd4c\", \"False\": 1, \"Partially False\": 0, \"count\": 1}, {\"Emojis\": \"\\ud83d\\udd14\", \"False\": 1, \"Partially False\": 0, \"count\": 1}, {\"Emojis\": \"\\ud83d\\udcaa\\ud83c\\udffb\", \"False\": 0, \"Partially False\": 1, \"count\": 1}, {\"Emojis\": \"\\ud83c\\udfcb\\ud83c\\udffb\", \"False\": 0, \"Partially False\": 1, \"count\": 1}, {\"Emojis\": \"\\ud83d\\udc31\", \"False\": 1, \"Partially False\": 0, \"count\": 1}, {\"Emojis\": \"\\ud83d\\udc36\", \"False\": 1, \"Partially False\": 0, \"count\": 1}, {\"Emojis\": \"3\\u20e3\", \"False\": 2, \"Partially False\": 0, \"count\": 2}, {\"Emojis\": \"\\ud83d\\udd39\", \"False\": 3, \"Partially False\": 0, \"count\": 3}, {\"Emojis\": \"\\ud83d\\udc67\", \"False\": 1, \"Partially False\": 0, \"count\": 1}, {\"Emojis\": \"\\ud83d\\udc76\\ud83c\\udffd\", \"False\": 1, \"Partially False\": 0, \"count\": 1}, {\"Emojis\": \"\\ud83c\\uddf3\\ud83c\\uddec\", \"False\": 1, \"Partially False\": 0, \"count\": 1}, {\"Emojis\": \"\\ud83c\\uddf8\\ud83c\\uddf3\", \"False\": 1, \"Partially False\": 0, \"count\": 1}, {\"Emojis\": \"\\ud83c\\uddea\\ud83c\\uddec\", \"False\": 1, \"Partially False\": 0, \"count\": 1}, {\"Emojis\": \"\\ud83c\\uddf9\\ud83c\\uddf3\", \"False\": 1, \"Partially False\": 0, \"count\": 1}, {\"Emojis\": \"\\ud83c\\uddf2\\ud83c\\udde6\", \"False\": 1, \"Partially False\": 0, \"count\": 1}, {\"Emojis\": \"\\ud83d\\udc41\\ufe0f\", \"False\": 1, \"Partially False\": 0, \"count\": 1}, {\"Emojis\": \"\\ud83e\\udde4\", \"False\": 1, \"Partially False\": 0, \"count\": 1}, {\"Emojis\": \"\\u2640\\ufe0f\", \"False\": 1, \"Partially False\": 0, \"count\": 1}, {\"Emojis\": \"\\ud83d\\udce1\", \"False\": 1, \"Partially False\": 0, \"count\": 1}, {\"Emojis\": \"\\ud83e\\udd26\", \"False\": 2, \"Partially False\": 0, \"count\": 2}, {\"Emojis\": \"\\u2642\\ufe0f\", \"False\": 2, \"Partially False\": 0, \"count\": 2}, {\"Emojis\": \"\\ud83d\\udc47\\ud83c\\udffd\", \"False\": 0, \"Partially False\": 0, \"count\": 0}, {\"Emojis\": \"\\ud83d\\ude29\", \"False\": 0, \"Partially False\": 2, \"count\": 2}, {\"Emojis\": \"1\\u20e3\", \"False\": 0, \"Partially False\": 1, \"count\": 1}, {\"Emojis\": \"2\\u20e3\", \"False\": 0, \"Partially False\": 0, \"count\": 0}, {\"Emojis\": \"\\u2666\", \"False\": 1, \"Partially False\": 0, \"count\": 1}, {\"Emojis\": \"\\u23f0\", \"False\": 0, \"Partially False\": 0, \"count\": 0}, {\"Emojis\": \"\\ud83c\\uddf2\\ud83c\\uddfd\", \"False\": 1, \"Partially False\": 0, \"count\": 1}, {\"Emojis\": \"\\ud83d\\udc47\\ud83c\\udfff\", \"False\": 1, \"Partially False\": 0, \"count\": 1}, {\"Emojis\": \"\\ud83c\\udff4\", \"False\": 1, \"Partially False\": 0, \"count\": 1}, {\"Emojis\": \"\\ud83d\\ude44\", \"False\": 1, \"Partially False\": 0, \"count\": 1}, {\"Emojis\": \"\\ud83e\\uddfc\", \"False\": 0, \"Partially False\": 1, \"count\": 1}, {\"Emojis\": \"\\ud83d\\ude0d\", \"False\": 0, \"Partially False\": 0, \"count\": 0}, {\"Emojis\": \"\\ud83d\\ude07\", \"False\": 0, \"Partially False\": 1, \"count\": 1}, {\"Emojis\": \"\\ud83e\\udd2f\", \"False\": 1, \"Partially False\": 0, \"count\": 1}, {\"Emojis\": \"\\u26b0\\ufe0f\", \"False\": 0, \"Partially False\": 1, \"count\": 1}]}}, {\"mode\": \"vega-lite\"});\n",
       "</script>"
      ],
      "text/plain": [
       "alt.Chart(...)"
      ]
     },
     "execution_count": 6,
     "metadata": {},
     "output_type": "execute_result"
    }
   ],
   "source": [
    "bars = alt.Chart(df).transform_fold(\n",
    "    ['False', 'Partially False'],\n",
    ").mark_bar().encode(\n",
    "    x=alt.X('key:N',title=None), # axis=alt.Axis(labels=False)\n",
    "    y=alt.Y('value:Q',title='Tweet count'),\n",
    "    color=alt.Color('key:N',scale=alt.Scale(range=['#5D3A9B','#E66100']),title=\"Category\"),\n",
    "    column=alt.Column(\"Emojis:N\")\n",
    ").transform_filter(\n",
    "    alt.FieldRangePredicate(field='count', range=[7, 26])\n",
    ").properties(\n",
    "        title=\"The most frequent emojis in tweets classified by category (False, Partually False)\",\n",
    ").configure_title(\n",
    "    fontSize=17,\n",
    "    offset=25\n",
    ").configure_axis(\n",
    "    labelFontSize=13,\n",
    "    titleFontSize=15,\n",
    "    titlePadding=15\n",
    ").configure_legend(\n",
    "    titleFontSize=14,\n",
    "    labelFontSize=12,\n",
    "    titlePadding=10\n",
    "    #orient=\"left\"\n",
    ").configure_header(\n",
    "    titleFontSize=15,\n",
    "    labelFontSize=12\n",
    ")\n",
    "\n",
    "bars"
   ]
  },
  {
   "cell_type": "code",
   "execution_count": null,
   "id": "talented-freight",
   "metadata": {},
   "outputs": [],
   "source": []
  }
 ],
 "metadata": {
  "kernelspec": {
   "display_name": "Python 3",
   "language": "python",
   "name": "python3"
  },
  "language_info": {
   "codemirror_mode": {
    "name": "ipython",
    "version": 3
   },
   "file_extension": ".py",
   "mimetype": "text/x-python",
   "name": "python",
   "nbconvert_exporter": "python",
   "pygments_lexer": "ipython3",
   "version": "3.9.2"
  }
 },
 "nbformat": 4,
 "nbformat_minor": 5
}

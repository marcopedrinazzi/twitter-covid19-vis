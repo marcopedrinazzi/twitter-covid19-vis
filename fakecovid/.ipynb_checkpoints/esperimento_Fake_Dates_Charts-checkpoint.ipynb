{
 "cells": [
  {
   "cell_type": "markdown",
   "id": "potential-surrey",
   "metadata": {},
   "source": [
    "# Dates Bar Charts - Fake Covid-19 Dataset"
   ]
  },
  {
   "cell_type": "markdown",
   "id": "about-easter",
   "metadata": {},
   "source": [
    "### fake_dates_bar_chart.py and fake_dates_area_chart.py"
   ]
  },
  {
   "cell_type": "markdown",
   "id": "polyphonic-virgin",
   "metadata": {},
   "source": [
    "In order to create the bar and area charts, we need the following packages:"
   ]
  },
  {
   "cell_type": "code",
   "execution_count": 1,
   "id": "comparable-ferry",
   "metadata": {},
   "outputs": [],
   "source": [
    "from collections import Counter\n",
    "import pandas as pd\n",
    "from dateutil.parser import parse\n",
    "import datetime\n",
    "#import numpy as np\n",
    "import json\n",
    "#import sys\n",
    "#import string\n",
    "#import re\n",
    "import itertools  \n",
    "#from emot.emo_unicode import UNICODE_EMO, EMOTICONS\n",
    "#import emoji\n",
    "#from wordcloud import WordCloud, STOPWORDS\n",
    "#import matplotlib.pyplot as plt \n",
    "import nltk\n",
    "#from PIL import Image\n",
    "import altair as alt\n",
    "import csv\n",
    "#import itertools"
   ]
  },
  {
   "cell_type": "markdown",
   "id": "asian-netherlands",
   "metadata": {},
   "source": [
    "To read the JSON file that has all the tweets, it is necessary to do:"
   ]
  },
  {
   "cell_type": "code",
   "execution_count": 2,
   "id": "approved-stack",
   "metadata": {},
   "outputs": [],
   "source": [
    "data = []\n",
    "with open('dataset/fakecovid_result_final_translated_full.json', 'r') as f:\n",
    "    for line in f:\n",
    "        data.append(json.loads(line))"
   ]
  },
  {
   "cell_type": "markdown",
   "id": "enormous-piano",
   "metadata": {},
   "source": [
    "### Multi Line Chart: number of tweets created each month and classified by their category"
   ]
  },
  {
   "cell_type": "markdown",
   "id": "extraordinary-celebration",
   "metadata": {},
   "source": [
    "Here the goal is still to create a multi line chart that shows the trend of the number of tweets created during the year (grouped by month) but here we are going to visualize two lines: one for the FALSE tweets and one for the PARTIALLY FALSE tweets:"
   ]
  },
  {
   "cell_type": "code",
   "execution_count": 3,
   "id": "floral-oakland",
   "metadata": {},
   "outputs": [
    {
     "name": "stdout",
     "output_type": "stream",
     "text": [
      "                          data  count\n",
      "0             2020/02/02 false      4\n",
      "1             2020/02/11 false      4\n",
      "2             2020/02/15 false      1\n",
      "3             2020/02/16 false      1\n",
      "4    2020/03/04 partiallyfalse      1\n",
      "..                         ...    ...\n",
      "310  2020/05/13 partiallyfalse      3\n",
      "311  2020/04/14 partiallyfalse      1\n",
      "312  2020/04/09 partiallyfalse      1\n",
      "313  2020/05/14 partiallyfalse      1\n",
      "314           2020/01/15 false      1\n",
      "\n",
      "[315 rows x 2 columns]\n"
     ]
    }
   ],
   "source": [
    "csv_dataframe = pd.read_csv('dataset/FINAL_fakecovid_final_filtered_dataset_clean.csv',sep=\";\")\n",
    "csv_dataframe['tweet_id'] = csv_dataframe['tweet_id'].astype(str)\n",
    "csv_list = csv_dataframe.values.tolist()\n",
    "lista_unica_csv=list(itertools.chain.from_iterable(csv_list))\n",
    "\n",
    "\n",
    "index=0\n",
    "cmt_list = [] \n",
    "for element in data:\n",
    "    token_id = data[index]['id_str']\n",
    "    indice_csv = lista_unica_csv.index(token_id)\n",
    "    token = data[index]['created_at']\n",
    "    d = parse(token)\n",
    "    d = d.strftime('%Y/%m/%d')\n",
    "    final_token = d + \" \" +lista_unica_csv[indice_csv+1].lower().replace(\" \", \"\")\n",
    "    cmt_list.append(final_token)\n",
    "    index=index+1\n",
    "    \n",
    "count=Counter(cmt_list)\n",
    "\n",
    "#start = datetime.datetime.strptime(\"2020/01/01\", \"%Y/%m/%d\")\n",
    "#end = datetime.datetime.strptime(\"2020/09/01\", \"%Y/%m/%d\")\n",
    "#date_generated = [start + datetime.timedelta(days=x) for x in range(0, (end-start).days)]\n",
    "\n",
    "#for date in date_generated:\n",
    "#    if date.strftime(\"%Y/%m/%d\") not in count:\n",
    "#        count[date.strftime(\"%Y/%m/%d\") + \" \" + \"nulla\"] = 0\n",
    "        \n",
    "df = pd.DataFrame.from_dict(count, orient='index').reset_index()\n",
    "df = df.rename(columns={'index':'data', 0:'count'})\n",
    "print(df)"
   ]
  },
  {
   "cell_type": "markdown",
   "id": "equal-toilet",
   "metadata": {},
   "source": [
    "Once the dataset is created, we work on it to create a better visualisation:"
   ]
  },
  {
   "cell_type": "code",
   "execution_count": 4,
   "id": "pursuant-cincinnati",
   "metadata": {},
   "outputs": [
    {
     "name": "stdout",
     "output_type": "stream",
     "text": [
      "           data  count  Count False Tweets  Count Partially False Tweets\n",
      "138  2020/03/16     38                  33                             5\n",
      "104  2020/03/18     34                  29                             5\n",
      "105  2020/03/22     30                  19                            11\n",
      "65   2020/03/15     28                  26                             2\n",
      "67   2020/03/23     27                  23                             4\n",
      "205  2020/03/12     27                  23                             4\n",
      "141  2020/03/30     26                  22                             4\n",
      "6    2020/03/24     25                  21                             4\n",
      "66   2020/03/20     25                  19                             6\n",
      "157  2020/03/21     24                  17                             7\n",
      "71   2020/04/26     23                  19                             4\n",
      "185  2020/03/25     22                  18                             4\n",
      "182  2020/03/17     21                  18                             3\n",
      "109  2020/04/03     20                  12                             8\n",
      "143  2020/04/06     20                  17                             3\n",
      "76   2020/05/12     20                  17                             3\n",
      "219  2020/03/13     19                  16                             3\n",
      "159  2020/04/02     19                  18                             1\n",
      "8    2020/03/27     19                  15                             4\n",
      "107  2020/03/31     18                  15                             3\n",
      "139  2020/03/19     18                  12                             6\n",
      "9    2020/04/08     18                  15                             3\n",
      "218  2020/03/09     18                  14                             4\n",
      "11   2020/04/15     18                  16                             2\n",
      "137  2020/03/14     17                  14                             3\n",
      "260  2020/03/10     17                  17                             0\n",
      "7    2020/03/26     17                  11                             6\n",
      "144  2020/04/07     16                  14                             2\n",
      "120  2020/05/08     16                  15                             1\n",
      "106  2020/03/28     15                  12                             3\n",
      "10   2020/04/09     15                  14                             1\n",
      "12   2020/04/21     15                  12                             3\n",
      "161  2020/04/05     15                  13                             2\n",
      "145  2020/04/10     14                  11                             3\n",
      "160  2020/04/04     14                   9                             5\n",
      "22   2020/05/21     13                  12                             1\n",
      "5    2020/03/11     13                  12                             1\n",
      "191  2020/04/11     13                  13                             0\n",
      "24   2020/05/25     13                  11                             2\n",
      "25   2020/05/26     12                   6                             6\n",
      "73   2020/05/02     12                  11                             1\n",
      "21   2020/05/20     12                  10                             2\n",
      "102  2020/03/05     11                   8                             3\n",
      "276  2020/02/05     11                  10                             1\n",
      "187  2020/03/29     11                  11                             0\n",
      "192  2020/04/13     11                   9                             2\n",
      "108  2020/04/01     11                   9                             2\n",
      "15   2020/05/03     11                  11                             0\n",
      "72   2020/04/29     11                  11                             0\n",
      "146  2020/04/22     11                   9                             2\n",
      "16   2020/05/06     11                  10                             1\n",
      "77   2020/05/13     10                   7                             3\n",
      "114  2020/04/20     10                   8                             2\n",
      "180  2020/03/02     10                   8                             2\n",
      "27   2020/05/27     10                   4                             6\n",
      "17   2020/05/07     10                   9                             1\n",
      "14   2020/04/28     10                  10                             0\n",
      "103  2020/03/06     10                   8                             2\n",
      "13   2020/04/24      9                   9                             0\n",
      "162  2020/04/14      9                   8                             1\n",
      "194  2020/04/16      9                   8                             1\n",
      "32   2020/06/08      9                   6                             3\n",
      "75   2020/05/11      8                   6                             2\n",
      "119  2020/05/04      8                   7                             1\n",
      "113  2020/04/19      8                   6                             2\n",
      "179  2020/01/31      8                   7                             1\n",
      "181  2020/03/03      8                   7                             1\n",
      "4    2020/03/04      7                   6                             1\n",
      "19   2020/05/16      7                   7                             0\n",
      "112  2020/04/18      7                   3                             4\n",
      "69   2020/04/12      7                   6                             1\n",
      "204  2020/02/25      7                   6                             1\n",
      "18   2020/05/10      7                   7                             0\n",
      "62   2020/01/27      7                   5                             2\n",
      "284  2020/01/25      6                   3                             3\n",
      "78   2020/05/14      6                   5                             1\n",
      "58   2020/08/11      6                   3                             3\n",
      "20   2020/05/19      6                   2                             4\n",
      "281  2020/01/23      6                   6                             0\n",
      "274  2020/01/30      6                   6                             0\n",
      "256  2020/02/06      6                   6                             0\n",
      "136  2020/03/07      6                   6                             0\n",
      "64   2020/02/29      6                   4                             2\n",
      "44   2020/06/24      6                   5                             1\n",
      "1    2020/02/11      6                   4                             2\n",
      "116  2020/04/30      5                   5                             0\n",
      "122  2020/05/09      5                   5                             0\n",
      "111  2020/04/17      5                   5                             0\n",
      "235  2020/06/18      5                   1                             4\n",
      "168  2020/04/27      5                   4                             1\n",
      "215  2020/01/29      5                   4                             1\n",
      "288  2020/01/28      5                   5                             0\n",
      "0    2020/02/02      5                   4                             1\n",
      "40   2020/06/14      5                   4                             1\n",
      "38   2020/06/12      5                   4                             1\n",
      "46   2020/06/25      5                   4                             1\n",
      "36   2020/06/11      5                   4                             1\n",
      "79   2020/05/18      5                   3                             2\n",
      "34   2020/06/09      5                   4                             1\n",
      "31   2020/06/06      5                   4                             1\n",
      "23   2020/05/24      5                   5                             0\n",
      "86   2020/05/29      4                   4                             0\n",
      "135  2020/02/26      4                   2                             2\n",
      "61   2020/01/16      4                   2                             2\n",
      "236  2020/06/28      4                   4                             0\n",
      "59   2020/08/12      4                   3                             1\n",
      "83   2020/05/22      4                   3                             1\n",
      "30   2020/06/04      4                   3                             1\n",
      "126  2020/05/17      4                   4                             0\n",
      "147  2020/04/25      4                   4                             0\n",
      "230  2020/03/08      4                   3                             1\n",
      "227  2020/02/08      4                   3                             1\n",
      "155  2020/08/27      4                   0                             4\n",
      "216  2020/02/12      4                   1                             3\n",
      "166  2020/04/23      4                   4                             0\n",
      "56   2020/07/30      3                   1                             2\n",
      "57   2020/08/07      3                   2                             1\n",
      "51   2020/07/01      3                   1                             2\n",
      "49   2020/06/30      3                   1                             2\n",
      "245  2020/08/18      3                   2                             1\n",
      "55   2020/07/24      3                   3                             0\n",
      "237  2020/02/28      3                   2                             1\n",
      "273  2020/01/26      3                   2                             1\n",
      "3    2020/02/16      3                   1                             2\n",
      "297  2020/02/18      3                   1                             2\n",
      "294  2020/02/09      3                   2                             1\n",
      "91   2020/06/05      3                   2                             1\n",
      "117  2020/05/01      3                   2                             1\n",
      "177  2020/01/19      2                   1                             1\n",
      "213  2020/07/22      2                   2                             0\n",
      "54   2020/07/18      2                   0                             2\n",
      "88   2020/06/02      2                   1                             1\n",
      "148  2020/05/05      2                   2                             0\n",
      "151  2020/08/01      2                   2                             0\n",
      "150  2020/05/23      2                   0                             2\n",
      "173  2020/06/03      2                   1                             1\n",
      "202  2020/02/22      2                   2                             0\n",
      "29   2020/06/01      2                   1                             1\n",
      "35   2020/06/10      2                   2                             0\n",
      "156  2020/08/31      2                   2                             0\n",
      "275  2020/02/03      2                   2                             0\n",
      "282  2020/01/24      2                   1                             1\n",
      "178  2020/01/21      2                   1                             1\n",
      "130  2020/08/10      2                   2                             0\n",
      "257  2020/02/07      2                   1                             1\n",
      "125  2020/05/15      2                   1                             1\n",
      "266  2020/06/19      2                   1                             1\n",
      "39   2020/06/13      2                   1                             1\n",
      "128  2020/07/31      2                   2                             0\n",
      "255  2020/01/22      2                   2                             0\n",
      "254  2020/06/27      2                   1                             1\n",
      "43   2020/06/17      2                   2                             0\n",
      "133  2020/02/01      2                   2                             0\n",
      "134  2020/02/04      2                   2                             0\n",
      "307  2020/08/16      2                   2                             0\n",
      "96   2020/08/08      2                   2                             0\n",
      "269  2020/07/13      2                   2                             0\n",
      "52   2020/07/03      2                   2                             0\n",
      "94   2020/08/06      1                   0                             1\n",
      "203  2020/02/23      1                   1                             0\n",
      "263  2020/05/31      1                   0                             1\n",
      "201  2020/02/19      1                   1                             0\n",
      "200  2020/02/14      1                   1                             0\n",
      "210  2020/07/02      1                   0                             1\n",
      "198  2020/07/28      1                   1                             0\n",
      "197  2020/07/21      1                   1                             0\n",
      "309  2020/02/13      1                   0                             1\n",
      "308  2020/08/19      1                   1                             0\n",
      "2    2020/02/15      1                   1                             0\n",
      "211  2020/07/11      1                   1                             0\n",
      "212  2020/07/15      1                   1                             0\n",
      "214  2020/07/25      1                   1                             0\n",
      "306  2020/07/04      1                   1                             0\n",
      "299  2020/02/20      1                   0                             1\n",
      "225  2020/07/23      1                   1                             0\n",
      "229  2020/03/01      1                   1                             0\n",
      "280  2020/01/04      1                   1                             0\n",
      "277  2020/02/27      1                   1                             0\n",
      "271  2020/08/20      1                   1                             0\n",
      "42   2020/06/16      1                   1                             0\n",
      "243  2020/07/14      1                   1                             0\n",
      "244  2020/07/17      1                   1                             0\n",
      "268  2020/07/12      1                   0                             1\n",
      "267  2020/07/10      1                   1                             0\n",
      "93   2020/06/23      1                   1                             0\n",
      "314  2020/01/15      1                   1                             0\n",
      "85   2020/05/28      1                   1                             0\n",
      "99   2020/08/15      1                   1                             0\n",
      "154  2020/08/04      1                   1                             0\n",
      "63   2020/02/10      1                   1                             0\n",
      "132  2020/01/14      1                   0                             1\n",
      "174  2020/07/06      1                   1                             0\n",
      "175  2020/07/27      1                   1                             0\n",
      "176  2020/08/30      1                   1                             0\n",
      "48   2020/06/26      1                   0                             1\n",
      "60   2020/08/13      1                   0                             1\n",
      "53   2020/07/08      1                   0                             1\n",
      "152  2020/08/02      1                   1                             0\n",
      "153  2020/08/03      1                   0                             1\n",
      "131  2020/08/26      1                   1                             0\n",
      "129  2020/08/09      1                   0                             1\n",
      "278  2020/03/03      0                   0                             0\n",
      "279  2020/03/05      0                   0                             0\n",
      "26   2020/05/26      0                   0                             0\n",
      "110  2020/04/12      0                   0                             0\n",
      "82   2020/05/20      0                   0                             0\n",
      "28   2020/05/27      0                   0                             0\n",
      "81   2020/05/19      0                   0                             0\n",
      "84   2020/05/25      0                   0                             0\n",
      "186  2020/03/28      0                   0                             0\n",
      "272  2020/01/21      0                   0                             0\n",
      "115  2020/04/20      0                   0                             0\n",
      "270  2020/08/18      0                   0                             0\n",
      "80   2020/05/18      0                   0                             0\n",
      "74   2020/05/06      0                   0                             0\n",
      "121  2020/05/08      0                   0                             0\n",
      "265  2020/06/13      0                   0                             0\n",
      "264  2020/06/06      0                   0                             0\n",
      "70   2020/04/15      0                   0                             0\n",
      "262  2020/03/17      0                   0                             0\n",
      "261  2020/03/11      0                   0                             0\n",
      "123  2020/05/11      0                   0                             0\n",
      "259  2020/03/06      0                   0                             0\n",
      "118  2020/05/02      0                   0                             0\n",
      "285  2020/01/25      0                   0                             0\n",
      "87   2020/06/01      0                   0                             0\n",
      "283  2020/01/24      0                   0                             0\n",
      "313  2020/05/14      0                   0                             0\n",
      "312  2020/04/09      0                   0                             0\n",
      "311  2020/04/14      0                   0                             0\n",
      "310  2020/05/13      0                   0                             0\n",
      "95   2020/08/07      0                   0                             0\n",
      "97   2020/08/11      0                   0                             0\n",
      "98   2020/08/12      0                   0                             0\n",
      "305  2020/07/01      0                   0                             0\n",
      "304  2020/06/27      0                   0                             0\n",
      "303  2020/06/19      0                   0                             0\n",
      "302  2020/06/18      0                   0                             0\n",
      "301  2020/03/02      0                   0                             0\n",
      "300  2020/02/28      0                   0                             0\n",
      "100  2020/01/16      0                   0                             0\n",
      "298  2020/02/18      0                   0                             0\n",
      "101  2020/02/16      0                   0                             0\n",
      "296  2020/02/11      0                   0                             0\n",
      "295  2020/02/09      0                   0                             0\n",
      "92   2020/06/09      0                   0                             0\n",
      "293  2020/02/07      0                   0                             0\n",
      "292  2020/02/05      0                   0                             0\n",
      "291  2020/02/02      0                   0                             0\n",
      "290  2020/01/31      0                   0                             0\n",
      "289  2020/01/29      0                   0                             0\n",
      "90   2020/06/04      0                   0                             0\n",
      "287  2020/01/27      0                   0                             0\n",
      "286  2020/01/26      0                   0                             0\n",
      "124  2020/05/12      0                   0                             0\n",
      "89   2020/06/02      0                   0                             0\n",
      "258  2020/03/04      0                   0                             0\n",
      "250  2020/03/09      0                   0                             0\n",
      "127  2020/05/21      0                   0                             0\n",
      "33   2020/06/08      0                   0                             0\n",
      "158  2020/03/23      0                   0                             0\n",
      "50   2020/06/30      0                   0                             0\n",
      "163  2020/04/18      0                   0                             0\n",
      "164  2020/04/19      0                   0                             0\n",
      "165  2020/04/22      0                   0                             0\n",
      "167  2020/04/26      0                   0                             0\n",
      "209  2020/04/08      0                   0                             0\n",
      "208  2020/04/07      0                   0                             0\n",
      "207  2020/04/05      0                   0                             0\n",
      "206  2020/03/18      0                   0                             0\n",
      "169  2020/04/27      0                   0                             0\n",
      "170  2020/05/04      0                   0                             0\n",
      "171  2020/05/07      0                   0                             0\n",
      "172  2020/05/22      0                   0                             0\n",
      "199  2020/07/30      0                   0                             0\n",
      "47   2020/06/25      0                   0                             0\n",
      "196  2020/04/21      0                   0                             0\n",
      "195  2020/04/16      0                   0                             0\n",
      "45   2020/06/24      0                   0                             0\n",
      "193  2020/04/13      0                   0                             0\n",
      "183  2020/03/20      0                   0                             0\n",
      "184  2020/03/21      0                   0                             0\n",
      "190  2020/04/10      0                   0                             0\n",
      "189  2020/04/04      0                   0                             0\n",
      "188  2020/04/03      0                   0                             0\n",
      "217  2020/02/29      0                   0                             0\n",
      "220  2020/03/19      0                   0                             0\n",
      "253  2020/05/01      0                   0                             0\n",
      "221  2020/03/31      0                   0                             0\n",
      "252  2020/03/15      0                   0                             0\n",
      "251  2020/03/13      0                   0                             0\n",
      "41   2020/06/14      0                   0                             0\n",
      "249  2020/03/08      0                   0                             0\n",
      "248  2020/02/25      0                   0                             0\n",
      "247  2020/02/12      0                   0                             0\n",
      "246  2020/02/08      0                   0                             0\n",
      "68   2020/03/27      0                   0                             0\n",
      "242  2020/06/12      0                   0                             0\n",
      "241  2020/06/05      0                   0                             0\n",
      "240  2020/03/25      0                   0                             0\n",
      "239  2020/03/14      0                   0                             0\n",
      "238  2020/03/12      0                   0                             0\n",
      "140  2020/03/22      0                   0                             0\n",
      "142  2020/03/30      0                   0                             0\n",
      "234  2020/06/03      0                   0                             0\n",
      "233  2020/03/26      0                   0                             0\n",
      "232  2020/03/24      0                   0                             0\n",
      "231  2020/03/16      0                   0                             0\n",
      "149  2020/05/15      0                   0                             0\n",
      "228  2020/02/26      0                   0                             0\n",
      "226  2020/01/19      0                   0                             0\n",
      "224  2020/04/06      0                   0                             0\n",
      "223  2020/04/02      0                   0                             0\n",
      "222  2020/04/01      0                   0                             0\n",
      "37   2020/06/11      0                   0                             0\n"
     ]
    }
   ],
   "source": [
    "col_one_list = df['data'].tolist()\n",
    "col_two_list = df['count'].tolist()\n",
    "\n",
    "typelist=[]\n",
    "namelist=[]\n",
    "\n",
    "index = 0\n",
    "\n",
    "count_false = [0] * len(col_one_list)\n",
    "count_part = [0] * len(col_one_list)\n",
    "\n",
    "for el in col_one_list:\n",
    "    tok = el.split()\n",
    "    namelist.append(tok[0])\n",
    "    #typelist.append(tok[1])\n",
    "    if tok[0] in namelist:\n",
    "        indx = namelist.index(tok[0])\n",
    "        if tok[1] == \"false\":\n",
    "            count_false[indx] = col_two_list[index]\n",
    "        elif tok[1] == \"partiallyfalse\":\n",
    "            count_part[indx] = col_two_list[index]\n",
    "        else:\n",
    "            print(\"nulla\")\n",
    "   \n",
    "    index = index + 1\n",
    "\n",
    "i=0\n",
    "for el in col_two_list:\n",
    "    col_two_list[i] = count_false[i] + count_part[i]\n",
    "    i = i + 1\n",
    "\n",
    "df['data']=namelist\n",
    "df['Count False Tweets']=count_false\n",
    "df['Count Partially False Tweets']=count_part\n",
    "df['count'] = col_two_list\n",
    "\n",
    "df = df.sort_values(by=['count'],ascending=[False])\n",
    "print(df.to_string())"
   ]
  },
  {
   "cell_type": "markdown",
   "id": "beautiful-compilation",
   "metadata": {},
   "source": [
    "Plot the chart and add the tooltip for a better experience:"
   ]
  },
  {
   "cell_type": "code",
   "execution_count": 11,
   "id": "miniature-crossing",
   "metadata": {},
   "outputs": [
    {
     "data": {
      "application/json": {
       "$schema": "https://vega.github.io/schema/vega-lite/v4.8.1.json",
       "config": {
        "view": {
         "continuousHeight": 300,
         "continuousWidth": 400
        }
       },
       "data": {
        "name": "data-f892941b94d5700ddd044ddeba2737ab"
       },
       "datasets": {
        "data-f892941b94d5700ddd044ddeba2737ab": [
         {
          "Count False Tweets": 33,
          "Count Partially False Tweets": 5,
          "count": 38,
          "data": "2020/03/16"
         },
         {
          "Count False Tweets": 29,
          "Count Partially False Tweets": 5,
          "count": 34,
          "data": "2020/03/18"
         },
         {
          "Count False Tweets": 19,
          "Count Partially False Tweets": 11,
          "count": 30,
          "data": "2020/03/22"
         },
         {
          "Count False Tweets": 26,
          "Count Partially False Tweets": 2,
          "count": 28,
          "data": "2020/03/15"
         },
         {
          "Count False Tweets": 23,
          "Count Partially False Tweets": 4,
          "count": 27,
          "data": "2020/03/23"
         },
         {
          "Count False Tweets": 23,
          "Count Partially False Tweets": 4,
          "count": 27,
          "data": "2020/03/12"
         },
         {
          "Count False Tweets": 22,
          "Count Partially False Tweets": 4,
          "count": 26,
          "data": "2020/03/30"
         },
         {
          "Count False Tweets": 21,
          "Count Partially False Tweets": 4,
          "count": 25,
          "data": "2020/03/24"
         },
         {
          "Count False Tweets": 19,
          "Count Partially False Tweets": 6,
          "count": 25,
          "data": "2020/03/20"
         },
         {
          "Count False Tweets": 17,
          "Count Partially False Tweets": 7,
          "count": 24,
          "data": "2020/03/21"
         },
         {
          "Count False Tweets": 19,
          "Count Partially False Tweets": 4,
          "count": 23,
          "data": "2020/04/26"
         },
         {
          "Count False Tweets": 18,
          "Count Partially False Tweets": 4,
          "count": 22,
          "data": "2020/03/25"
         },
         {
          "Count False Tweets": 18,
          "Count Partially False Tweets": 3,
          "count": 21,
          "data": "2020/03/17"
         },
         {
          "Count False Tweets": 12,
          "Count Partially False Tweets": 8,
          "count": 20,
          "data": "2020/04/03"
         },
         {
          "Count False Tweets": 17,
          "Count Partially False Tweets": 3,
          "count": 20,
          "data": "2020/04/06"
         },
         {
          "Count False Tweets": 17,
          "Count Partially False Tweets": 3,
          "count": 20,
          "data": "2020/05/12"
         },
         {
          "Count False Tweets": 16,
          "Count Partially False Tweets": 3,
          "count": 19,
          "data": "2020/03/13"
         },
         {
          "Count False Tweets": 18,
          "Count Partially False Tweets": 1,
          "count": 19,
          "data": "2020/04/02"
         },
         {
          "Count False Tweets": 15,
          "Count Partially False Tweets": 4,
          "count": 19,
          "data": "2020/03/27"
         },
         {
          "Count False Tweets": 15,
          "Count Partially False Tweets": 3,
          "count": 18,
          "data": "2020/03/31"
         },
         {
          "Count False Tweets": 12,
          "Count Partially False Tweets": 6,
          "count": 18,
          "data": "2020/03/19"
         },
         {
          "Count False Tweets": 15,
          "Count Partially False Tweets": 3,
          "count": 18,
          "data": "2020/04/08"
         },
         {
          "Count False Tweets": 14,
          "Count Partially False Tweets": 4,
          "count": 18,
          "data": "2020/03/09"
         },
         {
          "Count False Tweets": 16,
          "Count Partially False Tweets": 2,
          "count": 18,
          "data": "2020/04/15"
         },
         {
          "Count False Tweets": 14,
          "Count Partially False Tweets": 3,
          "count": 17,
          "data": "2020/03/14"
         },
         {
          "Count False Tweets": 17,
          "Count Partially False Tweets": 0,
          "count": 17,
          "data": "2020/03/10"
         },
         {
          "Count False Tweets": 11,
          "Count Partially False Tweets": 6,
          "count": 17,
          "data": "2020/03/26"
         },
         {
          "Count False Tweets": 14,
          "Count Partially False Tweets": 2,
          "count": 16,
          "data": "2020/04/07"
         },
         {
          "Count False Tweets": 15,
          "Count Partially False Tweets": 1,
          "count": 16,
          "data": "2020/05/08"
         },
         {
          "Count False Tweets": 12,
          "Count Partially False Tweets": 3,
          "count": 15,
          "data": "2020/03/28"
         },
         {
          "Count False Tweets": 14,
          "Count Partially False Tweets": 1,
          "count": 15,
          "data": "2020/04/09"
         },
         {
          "Count False Tweets": 12,
          "Count Partially False Tweets": 3,
          "count": 15,
          "data": "2020/04/21"
         },
         {
          "Count False Tweets": 13,
          "Count Partially False Tweets": 2,
          "count": 15,
          "data": "2020/04/05"
         },
         {
          "Count False Tweets": 11,
          "Count Partially False Tweets": 3,
          "count": 14,
          "data": "2020/04/10"
         },
         {
          "Count False Tweets": 9,
          "Count Partially False Tweets": 5,
          "count": 14,
          "data": "2020/04/04"
         },
         {
          "Count False Tweets": 12,
          "Count Partially False Tweets": 1,
          "count": 13,
          "data": "2020/05/21"
         },
         {
          "Count False Tweets": 12,
          "Count Partially False Tweets": 1,
          "count": 13,
          "data": "2020/03/11"
         },
         {
          "Count False Tweets": 13,
          "Count Partially False Tweets": 0,
          "count": 13,
          "data": "2020/04/11"
         },
         {
          "Count False Tweets": 11,
          "Count Partially False Tweets": 2,
          "count": 13,
          "data": "2020/05/25"
         },
         {
          "Count False Tweets": 6,
          "Count Partially False Tweets": 6,
          "count": 12,
          "data": "2020/05/26"
         },
         {
          "Count False Tweets": 11,
          "Count Partially False Tweets": 1,
          "count": 12,
          "data": "2020/05/02"
         },
         {
          "Count False Tweets": 10,
          "Count Partially False Tweets": 2,
          "count": 12,
          "data": "2020/05/20"
         },
         {
          "Count False Tweets": 8,
          "Count Partially False Tweets": 3,
          "count": 11,
          "data": "2020/03/05"
         },
         {
          "Count False Tweets": 10,
          "Count Partially False Tweets": 1,
          "count": 11,
          "data": "2020/02/05"
         },
         {
          "Count False Tweets": 11,
          "Count Partially False Tweets": 0,
          "count": 11,
          "data": "2020/03/29"
         },
         {
          "Count False Tweets": 9,
          "Count Partially False Tweets": 2,
          "count": 11,
          "data": "2020/04/13"
         },
         {
          "Count False Tweets": 9,
          "Count Partially False Tweets": 2,
          "count": 11,
          "data": "2020/04/01"
         },
         {
          "Count False Tweets": 11,
          "Count Partially False Tweets": 0,
          "count": 11,
          "data": "2020/05/03"
         },
         {
          "Count False Tweets": 11,
          "Count Partially False Tweets": 0,
          "count": 11,
          "data": "2020/04/29"
         },
         {
          "Count False Tweets": 9,
          "Count Partially False Tweets": 2,
          "count": 11,
          "data": "2020/04/22"
         },
         {
          "Count False Tweets": 10,
          "Count Partially False Tweets": 1,
          "count": 11,
          "data": "2020/05/06"
         },
         {
          "Count False Tweets": 7,
          "Count Partially False Tweets": 3,
          "count": 10,
          "data": "2020/05/13"
         },
         {
          "Count False Tweets": 8,
          "Count Partially False Tweets": 2,
          "count": 10,
          "data": "2020/04/20"
         },
         {
          "Count False Tweets": 8,
          "Count Partially False Tweets": 2,
          "count": 10,
          "data": "2020/03/02"
         },
         {
          "Count False Tweets": 4,
          "Count Partially False Tweets": 6,
          "count": 10,
          "data": "2020/05/27"
         },
         {
          "Count False Tweets": 9,
          "Count Partially False Tweets": 1,
          "count": 10,
          "data": "2020/05/07"
         },
         {
          "Count False Tweets": 10,
          "Count Partially False Tweets": 0,
          "count": 10,
          "data": "2020/04/28"
         },
         {
          "Count False Tweets": 8,
          "Count Partially False Tweets": 2,
          "count": 10,
          "data": "2020/03/06"
         },
         {
          "Count False Tweets": 9,
          "Count Partially False Tweets": 0,
          "count": 9,
          "data": "2020/04/24"
         },
         {
          "Count False Tweets": 8,
          "Count Partially False Tweets": 1,
          "count": 9,
          "data": "2020/04/14"
         },
         {
          "Count False Tweets": 8,
          "Count Partially False Tweets": 1,
          "count": 9,
          "data": "2020/04/16"
         },
         {
          "Count False Tweets": 6,
          "Count Partially False Tweets": 3,
          "count": 9,
          "data": "2020/06/08"
         },
         {
          "Count False Tweets": 6,
          "Count Partially False Tweets": 2,
          "count": 8,
          "data": "2020/05/11"
         },
         {
          "Count False Tweets": 7,
          "Count Partially False Tweets": 1,
          "count": 8,
          "data": "2020/05/04"
         },
         {
          "Count False Tweets": 6,
          "Count Partially False Tweets": 2,
          "count": 8,
          "data": "2020/04/19"
         },
         {
          "Count False Tweets": 7,
          "Count Partially False Tweets": 1,
          "count": 8,
          "data": "2020/01/31"
         },
         {
          "Count False Tweets": 7,
          "Count Partially False Tweets": 1,
          "count": 8,
          "data": "2020/03/03"
         },
         {
          "Count False Tweets": 6,
          "Count Partially False Tweets": 1,
          "count": 7,
          "data": "2020/03/04"
         },
         {
          "Count False Tweets": 7,
          "Count Partially False Tweets": 0,
          "count": 7,
          "data": "2020/05/16"
         },
         {
          "Count False Tweets": 3,
          "Count Partially False Tweets": 4,
          "count": 7,
          "data": "2020/04/18"
         },
         {
          "Count False Tweets": 6,
          "Count Partially False Tweets": 1,
          "count": 7,
          "data": "2020/04/12"
         },
         {
          "Count False Tweets": 6,
          "Count Partially False Tweets": 1,
          "count": 7,
          "data": "2020/02/25"
         },
         {
          "Count False Tweets": 7,
          "Count Partially False Tweets": 0,
          "count": 7,
          "data": "2020/05/10"
         },
         {
          "Count False Tweets": 5,
          "Count Partially False Tweets": 2,
          "count": 7,
          "data": "2020/01/27"
         },
         {
          "Count False Tweets": 3,
          "Count Partially False Tweets": 3,
          "count": 6,
          "data": "2020/01/25"
         },
         {
          "Count False Tweets": 5,
          "Count Partially False Tweets": 1,
          "count": 6,
          "data": "2020/05/14"
         },
         {
          "Count False Tweets": 3,
          "Count Partially False Tweets": 3,
          "count": 6,
          "data": "2020/08/11"
         },
         {
          "Count False Tweets": 2,
          "Count Partially False Tweets": 4,
          "count": 6,
          "data": "2020/05/19"
         },
         {
          "Count False Tweets": 6,
          "Count Partially False Tweets": 0,
          "count": 6,
          "data": "2020/01/23"
         },
         {
          "Count False Tweets": 6,
          "Count Partially False Tweets": 0,
          "count": 6,
          "data": "2020/01/30"
         },
         {
          "Count False Tweets": 6,
          "Count Partially False Tweets": 0,
          "count": 6,
          "data": "2020/02/06"
         },
         {
          "Count False Tweets": 6,
          "Count Partially False Tweets": 0,
          "count": 6,
          "data": "2020/03/07"
         },
         {
          "Count False Tweets": 4,
          "Count Partially False Tweets": 2,
          "count": 6,
          "data": "2020/02/29"
         },
         {
          "Count False Tweets": 5,
          "Count Partially False Tweets": 1,
          "count": 6,
          "data": "2020/06/24"
         },
         {
          "Count False Tweets": 4,
          "Count Partially False Tweets": 2,
          "count": 6,
          "data": "2020/02/11"
         },
         {
          "Count False Tweets": 5,
          "Count Partially False Tweets": 0,
          "count": 5,
          "data": "2020/04/30"
         },
         {
          "Count False Tweets": 5,
          "Count Partially False Tweets": 0,
          "count": 5,
          "data": "2020/05/09"
         },
         {
          "Count False Tweets": 5,
          "Count Partially False Tweets": 0,
          "count": 5,
          "data": "2020/04/17"
         },
         {
          "Count False Tweets": 1,
          "Count Partially False Tweets": 4,
          "count": 5,
          "data": "2020/06/18"
         },
         {
          "Count False Tweets": 4,
          "Count Partially False Tweets": 1,
          "count": 5,
          "data": "2020/04/27"
         },
         {
          "Count False Tweets": 4,
          "Count Partially False Tweets": 1,
          "count": 5,
          "data": "2020/01/29"
         },
         {
          "Count False Tweets": 5,
          "Count Partially False Tweets": 0,
          "count": 5,
          "data": "2020/01/28"
         },
         {
          "Count False Tweets": 4,
          "Count Partially False Tweets": 1,
          "count": 5,
          "data": "2020/02/02"
         },
         {
          "Count False Tweets": 4,
          "Count Partially False Tweets": 1,
          "count": 5,
          "data": "2020/06/14"
         },
         {
          "Count False Tweets": 4,
          "Count Partially False Tweets": 1,
          "count": 5,
          "data": "2020/06/12"
         },
         {
          "Count False Tweets": 4,
          "Count Partially False Tweets": 1,
          "count": 5,
          "data": "2020/06/25"
         },
         {
          "Count False Tweets": 4,
          "Count Partially False Tweets": 1,
          "count": 5,
          "data": "2020/06/11"
         },
         {
          "Count False Tweets": 3,
          "Count Partially False Tweets": 2,
          "count": 5,
          "data": "2020/05/18"
         },
         {
          "Count False Tweets": 4,
          "Count Partially False Tweets": 1,
          "count": 5,
          "data": "2020/06/09"
         },
         {
          "Count False Tweets": 4,
          "Count Partially False Tweets": 1,
          "count": 5,
          "data": "2020/06/06"
         },
         {
          "Count False Tweets": 5,
          "Count Partially False Tweets": 0,
          "count": 5,
          "data": "2020/05/24"
         },
         {
          "Count False Tweets": 4,
          "Count Partially False Tweets": 0,
          "count": 4,
          "data": "2020/05/29"
         },
         {
          "Count False Tweets": 2,
          "Count Partially False Tweets": 2,
          "count": 4,
          "data": "2020/02/26"
         },
         {
          "Count False Tweets": 2,
          "Count Partially False Tweets": 2,
          "count": 4,
          "data": "2020/01/16"
         },
         {
          "Count False Tweets": 4,
          "Count Partially False Tweets": 0,
          "count": 4,
          "data": "2020/06/28"
         },
         {
          "Count False Tweets": 3,
          "Count Partially False Tweets": 1,
          "count": 4,
          "data": "2020/08/12"
         },
         {
          "Count False Tweets": 3,
          "Count Partially False Tweets": 1,
          "count": 4,
          "data": "2020/05/22"
         },
         {
          "Count False Tweets": 3,
          "Count Partially False Tweets": 1,
          "count": 4,
          "data": "2020/06/04"
         },
         {
          "Count False Tweets": 4,
          "Count Partially False Tweets": 0,
          "count": 4,
          "data": "2020/05/17"
         },
         {
          "Count False Tweets": 4,
          "Count Partially False Tweets": 0,
          "count": 4,
          "data": "2020/04/25"
         },
         {
          "Count False Tweets": 3,
          "Count Partially False Tweets": 1,
          "count": 4,
          "data": "2020/03/08"
         },
         {
          "Count False Tweets": 3,
          "Count Partially False Tweets": 1,
          "count": 4,
          "data": "2020/02/08"
         },
         {
          "Count False Tweets": 0,
          "Count Partially False Tweets": 4,
          "count": 4,
          "data": "2020/08/27"
         },
         {
          "Count False Tweets": 1,
          "Count Partially False Tweets": 3,
          "count": 4,
          "data": "2020/02/12"
         },
         {
          "Count False Tweets": 4,
          "Count Partially False Tweets": 0,
          "count": 4,
          "data": "2020/04/23"
         },
         {
          "Count False Tweets": 1,
          "Count Partially False Tweets": 2,
          "count": 3,
          "data": "2020/07/30"
         },
         {
          "Count False Tweets": 2,
          "Count Partially False Tweets": 1,
          "count": 3,
          "data": "2020/08/07"
         },
         {
          "Count False Tweets": 1,
          "Count Partially False Tweets": 2,
          "count": 3,
          "data": "2020/07/01"
         },
         {
          "Count False Tweets": 1,
          "Count Partially False Tweets": 2,
          "count": 3,
          "data": "2020/06/30"
         },
         {
          "Count False Tweets": 2,
          "Count Partially False Tweets": 1,
          "count": 3,
          "data": "2020/08/18"
         },
         {
          "Count False Tweets": 3,
          "Count Partially False Tweets": 0,
          "count": 3,
          "data": "2020/07/24"
         },
         {
          "Count False Tweets": 2,
          "Count Partially False Tweets": 1,
          "count": 3,
          "data": "2020/02/28"
         },
         {
          "Count False Tweets": 2,
          "Count Partially False Tweets": 1,
          "count": 3,
          "data": "2020/01/26"
         },
         {
          "Count False Tweets": 1,
          "Count Partially False Tweets": 2,
          "count": 3,
          "data": "2020/02/16"
         },
         {
          "Count False Tweets": 1,
          "Count Partially False Tweets": 2,
          "count": 3,
          "data": "2020/02/18"
         },
         {
          "Count False Tweets": 2,
          "Count Partially False Tweets": 1,
          "count": 3,
          "data": "2020/02/09"
         },
         {
          "Count False Tweets": 2,
          "Count Partially False Tweets": 1,
          "count": 3,
          "data": "2020/06/05"
         },
         {
          "Count False Tweets": 2,
          "Count Partially False Tweets": 1,
          "count": 3,
          "data": "2020/05/01"
         },
         {
          "Count False Tweets": 1,
          "Count Partially False Tweets": 1,
          "count": 2,
          "data": "2020/01/19"
         },
         {
          "Count False Tweets": 2,
          "Count Partially False Tweets": 0,
          "count": 2,
          "data": "2020/07/22"
         },
         {
          "Count False Tweets": 0,
          "Count Partially False Tweets": 2,
          "count": 2,
          "data": "2020/07/18"
         },
         {
          "Count False Tweets": 1,
          "Count Partially False Tweets": 1,
          "count": 2,
          "data": "2020/06/02"
         },
         {
          "Count False Tweets": 2,
          "Count Partially False Tweets": 0,
          "count": 2,
          "data": "2020/05/05"
         },
         {
          "Count False Tweets": 2,
          "Count Partially False Tweets": 0,
          "count": 2,
          "data": "2020/08/01"
         },
         {
          "Count False Tweets": 0,
          "Count Partially False Tweets": 2,
          "count": 2,
          "data": "2020/05/23"
         },
         {
          "Count False Tweets": 1,
          "Count Partially False Tweets": 1,
          "count": 2,
          "data": "2020/06/03"
         },
         {
          "Count False Tweets": 2,
          "Count Partially False Tweets": 0,
          "count": 2,
          "data": "2020/02/22"
         },
         {
          "Count False Tweets": 1,
          "Count Partially False Tweets": 1,
          "count": 2,
          "data": "2020/06/01"
         },
         {
          "Count False Tweets": 2,
          "Count Partially False Tweets": 0,
          "count": 2,
          "data": "2020/06/10"
         },
         {
          "Count False Tweets": 2,
          "Count Partially False Tweets": 0,
          "count": 2,
          "data": "2020/08/31"
         },
         {
          "Count False Tweets": 2,
          "Count Partially False Tweets": 0,
          "count": 2,
          "data": "2020/02/03"
         },
         {
          "Count False Tweets": 1,
          "Count Partially False Tweets": 1,
          "count": 2,
          "data": "2020/01/24"
         },
         {
          "Count False Tweets": 1,
          "Count Partially False Tweets": 1,
          "count": 2,
          "data": "2020/01/21"
         },
         {
          "Count False Tweets": 2,
          "Count Partially False Tweets": 0,
          "count": 2,
          "data": "2020/08/10"
         },
         {
          "Count False Tweets": 1,
          "Count Partially False Tweets": 1,
          "count": 2,
          "data": "2020/02/07"
         },
         {
          "Count False Tweets": 1,
          "Count Partially False Tweets": 1,
          "count": 2,
          "data": "2020/05/15"
         },
         {
          "Count False Tweets": 1,
          "Count Partially False Tweets": 1,
          "count": 2,
          "data": "2020/06/19"
         },
         {
          "Count False Tweets": 1,
          "Count Partially False Tweets": 1,
          "count": 2,
          "data": "2020/06/13"
         },
         {
          "Count False Tweets": 2,
          "Count Partially False Tweets": 0,
          "count": 2,
          "data": "2020/07/31"
         },
         {
          "Count False Tweets": 2,
          "Count Partially False Tweets": 0,
          "count": 2,
          "data": "2020/01/22"
         },
         {
          "Count False Tweets": 1,
          "Count Partially False Tweets": 1,
          "count": 2,
          "data": "2020/06/27"
         },
         {
          "Count False Tweets": 2,
          "Count Partially False Tweets": 0,
          "count": 2,
          "data": "2020/06/17"
         },
         {
          "Count False Tweets": 2,
          "Count Partially False Tweets": 0,
          "count": 2,
          "data": "2020/02/01"
         },
         {
          "Count False Tweets": 2,
          "Count Partially False Tweets": 0,
          "count": 2,
          "data": "2020/02/04"
         },
         {
          "Count False Tweets": 2,
          "Count Partially False Tweets": 0,
          "count": 2,
          "data": "2020/08/16"
         },
         {
          "Count False Tweets": 2,
          "Count Partially False Tweets": 0,
          "count": 2,
          "data": "2020/08/08"
         },
         {
          "Count False Tweets": 2,
          "Count Partially False Tweets": 0,
          "count": 2,
          "data": "2020/07/13"
         },
         {
          "Count False Tweets": 2,
          "Count Partially False Tweets": 0,
          "count": 2,
          "data": "2020/07/03"
         },
         {
          "Count False Tweets": 0,
          "Count Partially False Tweets": 1,
          "count": 1,
          "data": "2020/08/06"
         },
         {
          "Count False Tweets": 1,
          "Count Partially False Tweets": 0,
          "count": 1,
          "data": "2020/02/23"
         },
         {
          "Count False Tweets": 0,
          "Count Partially False Tweets": 1,
          "count": 1,
          "data": "2020/05/31"
         },
         {
          "Count False Tweets": 1,
          "Count Partially False Tweets": 0,
          "count": 1,
          "data": "2020/02/19"
         },
         {
          "Count False Tweets": 1,
          "Count Partially False Tweets": 0,
          "count": 1,
          "data": "2020/02/14"
         },
         {
          "Count False Tweets": 0,
          "Count Partially False Tweets": 1,
          "count": 1,
          "data": "2020/07/02"
         },
         {
          "Count False Tweets": 1,
          "Count Partially False Tweets": 0,
          "count": 1,
          "data": "2020/07/28"
         },
         {
          "Count False Tweets": 1,
          "Count Partially False Tweets": 0,
          "count": 1,
          "data": "2020/07/21"
         },
         {
          "Count False Tweets": 0,
          "Count Partially False Tweets": 1,
          "count": 1,
          "data": "2020/02/13"
         },
         {
          "Count False Tweets": 1,
          "Count Partially False Tweets": 0,
          "count": 1,
          "data": "2020/08/19"
         },
         {
          "Count False Tweets": 1,
          "Count Partially False Tweets": 0,
          "count": 1,
          "data": "2020/02/15"
         },
         {
          "Count False Tweets": 1,
          "Count Partially False Tweets": 0,
          "count": 1,
          "data": "2020/07/11"
         },
         {
          "Count False Tweets": 1,
          "Count Partially False Tweets": 0,
          "count": 1,
          "data": "2020/07/15"
         },
         {
          "Count False Tweets": 1,
          "Count Partially False Tweets": 0,
          "count": 1,
          "data": "2020/07/25"
         },
         {
          "Count False Tweets": 1,
          "Count Partially False Tweets": 0,
          "count": 1,
          "data": "2020/07/04"
         },
         {
          "Count False Tweets": 0,
          "Count Partially False Tweets": 1,
          "count": 1,
          "data": "2020/02/20"
         },
         {
          "Count False Tweets": 1,
          "Count Partially False Tweets": 0,
          "count": 1,
          "data": "2020/07/23"
         },
         {
          "Count False Tweets": 1,
          "Count Partially False Tweets": 0,
          "count": 1,
          "data": "2020/03/01"
         },
         {
          "Count False Tweets": 1,
          "Count Partially False Tweets": 0,
          "count": 1,
          "data": "2020/01/04"
         },
         {
          "Count False Tweets": 1,
          "Count Partially False Tweets": 0,
          "count": 1,
          "data": "2020/02/27"
         },
         {
          "Count False Tweets": 1,
          "Count Partially False Tweets": 0,
          "count": 1,
          "data": "2020/08/20"
         },
         {
          "Count False Tweets": 1,
          "Count Partially False Tweets": 0,
          "count": 1,
          "data": "2020/06/16"
         },
         {
          "Count False Tweets": 1,
          "Count Partially False Tweets": 0,
          "count": 1,
          "data": "2020/07/14"
         },
         {
          "Count False Tweets": 1,
          "Count Partially False Tweets": 0,
          "count": 1,
          "data": "2020/07/17"
         },
         {
          "Count False Tweets": 0,
          "Count Partially False Tweets": 1,
          "count": 1,
          "data": "2020/07/12"
         },
         {
          "Count False Tweets": 1,
          "Count Partially False Tweets": 0,
          "count": 1,
          "data": "2020/07/10"
         },
         {
          "Count False Tweets": 1,
          "Count Partially False Tweets": 0,
          "count": 1,
          "data": "2020/06/23"
         },
         {
          "Count False Tweets": 1,
          "Count Partially False Tweets": 0,
          "count": 1,
          "data": "2020/01/15"
         },
         {
          "Count False Tweets": 1,
          "Count Partially False Tweets": 0,
          "count": 1,
          "data": "2020/05/28"
         },
         {
          "Count False Tweets": 1,
          "Count Partially False Tweets": 0,
          "count": 1,
          "data": "2020/08/15"
         },
         {
          "Count False Tweets": 1,
          "Count Partially False Tweets": 0,
          "count": 1,
          "data": "2020/08/04"
         },
         {
          "Count False Tweets": 1,
          "Count Partially False Tweets": 0,
          "count": 1,
          "data": "2020/02/10"
         },
         {
          "Count False Tweets": 0,
          "Count Partially False Tweets": 1,
          "count": 1,
          "data": "2020/01/14"
         },
         {
          "Count False Tweets": 1,
          "Count Partially False Tweets": 0,
          "count": 1,
          "data": "2020/07/06"
         },
         {
          "Count False Tweets": 1,
          "Count Partially False Tweets": 0,
          "count": 1,
          "data": "2020/07/27"
         },
         {
          "Count False Tweets": 1,
          "Count Partially False Tweets": 0,
          "count": 1,
          "data": "2020/08/30"
         },
         {
          "Count False Tweets": 0,
          "Count Partially False Tweets": 1,
          "count": 1,
          "data": "2020/06/26"
         },
         {
          "Count False Tweets": 0,
          "Count Partially False Tweets": 1,
          "count": 1,
          "data": "2020/08/13"
         },
         {
          "Count False Tweets": 0,
          "Count Partially False Tweets": 1,
          "count": 1,
          "data": "2020/07/08"
         },
         {
          "Count False Tweets": 1,
          "Count Partially False Tweets": 0,
          "count": 1,
          "data": "2020/08/02"
         },
         {
          "Count False Tweets": 0,
          "Count Partially False Tweets": 1,
          "count": 1,
          "data": "2020/08/03"
         },
         {
          "Count False Tweets": 1,
          "Count Partially False Tweets": 0,
          "count": 1,
          "data": "2020/08/26"
         },
         {
          "Count False Tweets": 0,
          "Count Partially False Tweets": 1,
          "count": 1,
          "data": "2020/08/09"
         },
         {
          "Count False Tweets": 0,
          "Count Partially False Tweets": 0,
          "count": 0,
          "data": "2020/03/03"
         },
         {
          "Count False Tweets": 0,
          "Count Partially False Tweets": 0,
          "count": 0,
          "data": "2020/03/05"
         },
         {
          "Count False Tweets": 0,
          "Count Partially False Tweets": 0,
          "count": 0,
          "data": "2020/05/26"
         },
         {
          "Count False Tweets": 0,
          "Count Partially False Tweets": 0,
          "count": 0,
          "data": "2020/04/12"
         },
         {
          "Count False Tweets": 0,
          "Count Partially False Tweets": 0,
          "count": 0,
          "data": "2020/05/20"
         },
         {
          "Count False Tweets": 0,
          "Count Partially False Tweets": 0,
          "count": 0,
          "data": "2020/05/27"
         },
         {
          "Count False Tweets": 0,
          "Count Partially False Tweets": 0,
          "count": 0,
          "data": "2020/05/19"
         },
         {
          "Count False Tweets": 0,
          "Count Partially False Tweets": 0,
          "count": 0,
          "data": "2020/05/25"
         },
         {
          "Count False Tweets": 0,
          "Count Partially False Tweets": 0,
          "count": 0,
          "data": "2020/03/28"
         },
         {
          "Count False Tweets": 0,
          "Count Partially False Tweets": 0,
          "count": 0,
          "data": "2020/01/21"
         },
         {
          "Count False Tweets": 0,
          "Count Partially False Tweets": 0,
          "count": 0,
          "data": "2020/04/20"
         },
         {
          "Count False Tweets": 0,
          "Count Partially False Tweets": 0,
          "count": 0,
          "data": "2020/08/18"
         },
         {
          "Count False Tweets": 0,
          "Count Partially False Tweets": 0,
          "count": 0,
          "data": "2020/05/18"
         },
         {
          "Count False Tweets": 0,
          "Count Partially False Tweets": 0,
          "count": 0,
          "data": "2020/05/06"
         },
         {
          "Count False Tweets": 0,
          "Count Partially False Tweets": 0,
          "count": 0,
          "data": "2020/05/08"
         },
         {
          "Count False Tweets": 0,
          "Count Partially False Tweets": 0,
          "count": 0,
          "data": "2020/06/13"
         },
         {
          "Count False Tweets": 0,
          "Count Partially False Tweets": 0,
          "count": 0,
          "data": "2020/06/06"
         },
         {
          "Count False Tweets": 0,
          "Count Partially False Tweets": 0,
          "count": 0,
          "data": "2020/04/15"
         },
         {
          "Count False Tweets": 0,
          "Count Partially False Tweets": 0,
          "count": 0,
          "data": "2020/03/17"
         },
         {
          "Count False Tweets": 0,
          "Count Partially False Tweets": 0,
          "count": 0,
          "data": "2020/03/11"
         },
         {
          "Count False Tweets": 0,
          "Count Partially False Tweets": 0,
          "count": 0,
          "data": "2020/05/11"
         },
         {
          "Count False Tweets": 0,
          "Count Partially False Tweets": 0,
          "count": 0,
          "data": "2020/03/06"
         },
         {
          "Count False Tweets": 0,
          "Count Partially False Tweets": 0,
          "count": 0,
          "data": "2020/05/02"
         },
         {
          "Count False Tweets": 0,
          "Count Partially False Tweets": 0,
          "count": 0,
          "data": "2020/01/25"
         },
         {
          "Count False Tweets": 0,
          "Count Partially False Tweets": 0,
          "count": 0,
          "data": "2020/06/01"
         },
         {
          "Count False Tweets": 0,
          "Count Partially False Tweets": 0,
          "count": 0,
          "data": "2020/01/24"
         },
         {
          "Count False Tweets": 0,
          "Count Partially False Tweets": 0,
          "count": 0,
          "data": "2020/05/14"
         },
         {
          "Count False Tweets": 0,
          "Count Partially False Tweets": 0,
          "count": 0,
          "data": "2020/04/09"
         },
         {
          "Count False Tweets": 0,
          "Count Partially False Tweets": 0,
          "count": 0,
          "data": "2020/04/14"
         },
         {
          "Count False Tweets": 0,
          "Count Partially False Tweets": 0,
          "count": 0,
          "data": "2020/05/13"
         },
         {
          "Count False Tweets": 0,
          "Count Partially False Tweets": 0,
          "count": 0,
          "data": "2020/08/07"
         },
         {
          "Count False Tweets": 0,
          "Count Partially False Tweets": 0,
          "count": 0,
          "data": "2020/08/11"
         },
         {
          "Count False Tweets": 0,
          "Count Partially False Tweets": 0,
          "count": 0,
          "data": "2020/08/12"
         },
         {
          "Count False Tweets": 0,
          "Count Partially False Tweets": 0,
          "count": 0,
          "data": "2020/07/01"
         },
         {
          "Count False Tweets": 0,
          "Count Partially False Tweets": 0,
          "count": 0,
          "data": "2020/06/27"
         },
         {
          "Count False Tweets": 0,
          "Count Partially False Tweets": 0,
          "count": 0,
          "data": "2020/06/19"
         },
         {
          "Count False Tweets": 0,
          "Count Partially False Tweets": 0,
          "count": 0,
          "data": "2020/06/18"
         },
         {
          "Count False Tweets": 0,
          "Count Partially False Tweets": 0,
          "count": 0,
          "data": "2020/03/02"
         },
         {
          "Count False Tweets": 0,
          "Count Partially False Tweets": 0,
          "count": 0,
          "data": "2020/02/28"
         },
         {
          "Count False Tweets": 0,
          "Count Partially False Tweets": 0,
          "count": 0,
          "data": "2020/01/16"
         },
         {
          "Count False Tweets": 0,
          "Count Partially False Tweets": 0,
          "count": 0,
          "data": "2020/02/18"
         },
         {
          "Count False Tweets": 0,
          "Count Partially False Tweets": 0,
          "count": 0,
          "data": "2020/02/16"
         },
         {
          "Count False Tweets": 0,
          "Count Partially False Tweets": 0,
          "count": 0,
          "data": "2020/02/11"
         },
         {
          "Count False Tweets": 0,
          "Count Partially False Tweets": 0,
          "count": 0,
          "data": "2020/02/09"
         },
         {
          "Count False Tweets": 0,
          "Count Partially False Tweets": 0,
          "count": 0,
          "data": "2020/06/09"
         },
         {
          "Count False Tweets": 0,
          "Count Partially False Tweets": 0,
          "count": 0,
          "data": "2020/02/07"
         },
         {
          "Count False Tweets": 0,
          "Count Partially False Tweets": 0,
          "count": 0,
          "data": "2020/02/05"
         },
         {
          "Count False Tweets": 0,
          "Count Partially False Tweets": 0,
          "count": 0,
          "data": "2020/02/02"
         },
         {
          "Count False Tweets": 0,
          "Count Partially False Tweets": 0,
          "count": 0,
          "data": "2020/01/31"
         },
         {
          "Count False Tweets": 0,
          "Count Partially False Tweets": 0,
          "count": 0,
          "data": "2020/01/29"
         },
         {
          "Count False Tweets": 0,
          "Count Partially False Tweets": 0,
          "count": 0,
          "data": "2020/06/04"
         },
         {
          "Count False Tweets": 0,
          "Count Partially False Tweets": 0,
          "count": 0,
          "data": "2020/01/27"
         },
         {
          "Count False Tweets": 0,
          "Count Partially False Tweets": 0,
          "count": 0,
          "data": "2020/01/26"
         },
         {
          "Count False Tweets": 0,
          "Count Partially False Tweets": 0,
          "count": 0,
          "data": "2020/05/12"
         },
         {
          "Count False Tweets": 0,
          "Count Partially False Tweets": 0,
          "count": 0,
          "data": "2020/06/02"
         },
         {
          "Count False Tweets": 0,
          "Count Partially False Tweets": 0,
          "count": 0,
          "data": "2020/03/04"
         },
         {
          "Count False Tweets": 0,
          "Count Partially False Tweets": 0,
          "count": 0,
          "data": "2020/03/09"
         },
         {
          "Count False Tweets": 0,
          "Count Partially False Tweets": 0,
          "count": 0,
          "data": "2020/05/21"
         },
         {
          "Count False Tweets": 0,
          "Count Partially False Tweets": 0,
          "count": 0,
          "data": "2020/06/08"
         },
         {
          "Count False Tweets": 0,
          "Count Partially False Tweets": 0,
          "count": 0,
          "data": "2020/03/23"
         },
         {
          "Count False Tweets": 0,
          "Count Partially False Tweets": 0,
          "count": 0,
          "data": "2020/06/30"
         },
         {
          "Count False Tweets": 0,
          "Count Partially False Tweets": 0,
          "count": 0,
          "data": "2020/04/18"
         },
         {
          "Count False Tweets": 0,
          "Count Partially False Tweets": 0,
          "count": 0,
          "data": "2020/04/19"
         },
         {
          "Count False Tweets": 0,
          "Count Partially False Tweets": 0,
          "count": 0,
          "data": "2020/04/22"
         },
         {
          "Count False Tweets": 0,
          "Count Partially False Tweets": 0,
          "count": 0,
          "data": "2020/04/26"
         },
         {
          "Count False Tweets": 0,
          "Count Partially False Tweets": 0,
          "count": 0,
          "data": "2020/04/08"
         },
         {
          "Count False Tweets": 0,
          "Count Partially False Tweets": 0,
          "count": 0,
          "data": "2020/04/07"
         },
         {
          "Count False Tweets": 0,
          "Count Partially False Tweets": 0,
          "count": 0,
          "data": "2020/04/05"
         },
         {
          "Count False Tweets": 0,
          "Count Partially False Tweets": 0,
          "count": 0,
          "data": "2020/03/18"
         },
         {
          "Count False Tweets": 0,
          "Count Partially False Tweets": 0,
          "count": 0,
          "data": "2020/04/27"
         },
         {
          "Count False Tweets": 0,
          "Count Partially False Tweets": 0,
          "count": 0,
          "data": "2020/05/04"
         },
         {
          "Count False Tweets": 0,
          "Count Partially False Tweets": 0,
          "count": 0,
          "data": "2020/05/07"
         },
         {
          "Count False Tweets": 0,
          "Count Partially False Tweets": 0,
          "count": 0,
          "data": "2020/05/22"
         },
         {
          "Count False Tweets": 0,
          "Count Partially False Tweets": 0,
          "count": 0,
          "data": "2020/07/30"
         },
         {
          "Count False Tweets": 0,
          "Count Partially False Tweets": 0,
          "count": 0,
          "data": "2020/06/25"
         },
         {
          "Count False Tweets": 0,
          "Count Partially False Tweets": 0,
          "count": 0,
          "data": "2020/04/21"
         },
         {
          "Count False Tweets": 0,
          "Count Partially False Tweets": 0,
          "count": 0,
          "data": "2020/04/16"
         },
         {
          "Count False Tweets": 0,
          "Count Partially False Tweets": 0,
          "count": 0,
          "data": "2020/06/24"
         },
         {
          "Count False Tweets": 0,
          "Count Partially False Tweets": 0,
          "count": 0,
          "data": "2020/04/13"
         },
         {
          "Count False Tweets": 0,
          "Count Partially False Tweets": 0,
          "count": 0,
          "data": "2020/03/20"
         },
         {
          "Count False Tweets": 0,
          "Count Partially False Tweets": 0,
          "count": 0,
          "data": "2020/03/21"
         },
         {
          "Count False Tweets": 0,
          "Count Partially False Tweets": 0,
          "count": 0,
          "data": "2020/04/10"
         },
         {
          "Count False Tweets": 0,
          "Count Partially False Tweets": 0,
          "count": 0,
          "data": "2020/04/04"
         },
         {
          "Count False Tweets": 0,
          "Count Partially False Tweets": 0,
          "count": 0,
          "data": "2020/04/03"
         },
         {
          "Count False Tweets": 0,
          "Count Partially False Tweets": 0,
          "count": 0,
          "data": "2020/02/29"
         },
         {
          "Count False Tweets": 0,
          "Count Partially False Tweets": 0,
          "count": 0,
          "data": "2020/03/19"
         },
         {
          "Count False Tweets": 0,
          "Count Partially False Tweets": 0,
          "count": 0,
          "data": "2020/05/01"
         },
         {
          "Count False Tweets": 0,
          "Count Partially False Tweets": 0,
          "count": 0,
          "data": "2020/03/31"
         },
         {
          "Count False Tweets": 0,
          "Count Partially False Tweets": 0,
          "count": 0,
          "data": "2020/03/15"
         },
         {
          "Count False Tweets": 0,
          "Count Partially False Tweets": 0,
          "count": 0,
          "data": "2020/03/13"
         },
         {
          "Count False Tweets": 0,
          "Count Partially False Tweets": 0,
          "count": 0,
          "data": "2020/06/14"
         },
         {
          "Count False Tweets": 0,
          "Count Partially False Tweets": 0,
          "count": 0,
          "data": "2020/03/08"
         },
         {
          "Count False Tweets": 0,
          "Count Partially False Tweets": 0,
          "count": 0,
          "data": "2020/02/25"
         },
         {
          "Count False Tweets": 0,
          "Count Partially False Tweets": 0,
          "count": 0,
          "data": "2020/02/12"
         },
         {
          "Count False Tweets": 0,
          "Count Partially False Tweets": 0,
          "count": 0,
          "data": "2020/02/08"
         },
         {
          "Count False Tweets": 0,
          "Count Partially False Tweets": 0,
          "count": 0,
          "data": "2020/03/27"
         },
         {
          "Count False Tweets": 0,
          "Count Partially False Tweets": 0,
          "count": 0,
          "data": "2020/06/12"
         },
         {
          "Count False Tweets": 0,
          "Count Partially False Tweets": 0,
          "count": 0,
          "data": "2020/06/05"
         },
         {
          "Count False Tweets": 0,
          "Count Partially False Tweets": 0,
          "count": 0,
          "data": "2020/03/25"
         },
         {
          "Count False Tweets": 0,
          "Count Partially False Tweets": 0,
          "count": 0,
          "data": "2020/03/14"
         },
         {
          "Count False Tweets": 0,
          "Count Partially False Tweets": 0,
          "count": 0,
          "data": "2020/03/12"
         },
         {
          "Count False Tweets": 0,
          "Count Partially False Tweets": 0,
          "count": 0,
          "data": "2020/03/22"
         },
         {
          "Count False Tweets": 0,
          "Count Partially False Tweets": 0,
          "count": 0,
          "data": "2020/03/30"
         },
         {
          "Count False Tweets": 0,
          "Count Partially False Tweets": 0,
          "count": 0,
          "data": "2020/06/03"
         },
         {
          "Count False Tweets": 0,
          "Count Partially False Tweets": 0,
          "count": 0,
          "data": "2020/03/26"
         },
         {
          "Count False Tweets": 0,
          "Count Partially False Tweets": 0,
          "count": 0,
          "data": "2020/03/24"
         },
         {
          "Count False Tweets": 0,
          "Count Partially False Tweets": 0,
          "count": 0,
          "data": "2020/03/16"
         },
         {
          "Count False Tweets": 0,
          "Count Partially False Tweets": 0,
          "count": 0,
          "data": "2020/05/15"
         },
         {
          "Count False Tweets": 0,
          "Count Partially False Tweets": 0,
          "count": 0,
          "data": "2020/02/26"
         },
         {
          "Count False Tweets": 0,
          "Count Partially False Tweets": 0,
          "count": 0,
          "data": "2020/01/19"
         },
         {
          "Count False Tweets": 0,
          "Count Partially False Tweets": 0,
          "count": 0,
          "data": "2020/04/06"
         },
         {
          "Count False Tweets": 0,
          "Count Partially False Tweets": 0,
          "count": 0,
          "data": "2020/04/02"
         },
         {
          "Count False Tweets": 0,
          "Count Partially False Tweets": 0,
          "count": 0,
          "data": "2020/04/01"
         },
         {
          "Count False Tweets": 0,
          "Count Partially False Tweets": 0,
          "count": 0,
          "data": "2020/06/11"
         }
        ]
       },
       "encoding": {
        "color": {
         "field": "key",
         "type": "nominal"
        },
        "tooltip": [
         {
          "field": "data",
          "timeUnit": "monthdate",
          "title": "Date",
          "type": "temporal"
         },
         {
          "field": "value",
          "title": "Tweet Count",
          "type": "quantitative"
         }
        ],
        "x": {
         "field": "data",
         "timeUnit": "month",
         "type": "ordinal"
        },
        "y": {
         "field": "value",
         "type": "quantitative"
        }
       },
       "mark": "line",
       "title": "aaa",
       "transform": [
        {
         "fold": [
          "Count False Tweets",
          "Count Partially False Tweets"
         ]
        },
        {
         "filter": {
          "field": "count",
          "range": [
           1,
           38
          ]
         }
        }
       ],
       "width": 800
      },
      "text/plain": [
       "<VegaLite 4 object>\n",
       "\n",
       "If you see this message, it means the renderer has not been properly enabled\n",
       "for the frontend that you are using. For more information, see\n",
       "https://altair-viz.github.io/user_guide/troubleshooting.html\n"
      ]
     },
     "execution_count": 11,
     "metadata": {},
     "output_type": "execute_result"
    }
   ],
   "source": [
    "# Create a selection that chooses the nearest point & selects based on x-value\n",
    "#nearest = alt.selection(type='single', nearest=True, on='mouseover',\n",
    "#                        fields=['month'], empty='none')\n",
    "\n",
    "\n",
    "\n",
    "lines = alt.Chart(df).transform_fold(\n",
    "    ['Count False Tweets', 'Count Partially False Tweets'],\n",
    ").transform_filter(\n",
    "    alt.FieldRangePredicate(field='count', range=[1, 38])\n",
    ").mark_line().encode(\n",
    "    x=alt.X('month(data):O'),\n",
    "    y=alt.Y('value:Q'),\n",
    "    color=alt.Color('key:N'), \n",
    "    tooltip=[\n",
    "        alt.Tooltip('monthdate(data):T', title='Date'),\n",
    "        alt.Tooltip('value:Q', title='Tweet Count')\n",
    "    ]\n",
    ").properties(title=\"aaa\",width=800)\n",
    "\n",
    "lines"
   ]
  },
  {
   "cell_type": "code",
   "execution_count": null,
   "id": "terminal-sapphire",
   "metadata": {},
   "outputs": [],
   "source": []
  },
  {
   "cell_type": "code",
   "execution_count": null,
   "id": "convinced-nation",
   "metadata": {},
   "outputs": [],
   "source": []
  }
 ],
 "metadata": {
  "kernelspec": {
   "display_name": "Python 3",
   "language": "python",
   "name": "python3"
  },
  "language_info": {
   "codemirror_mode": {
    "name": "ipython",
    "version": 3
   },
   "file_extension": ".py",
   "mimetype": "text/x-python",
   "name": "python",
   "nbconvert_exporter": "python",
   "pygments_lexer": "ipython3",
   "version": "3.9.2"
  }
 },
 "nbformat": 4,
 "nbformat_minor": 5
}

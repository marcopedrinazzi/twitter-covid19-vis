{
 "cells": [
  {
   "cell_type": "markdown",
   "id": "potential-surrey",
   "metadata": {},
   "source": [
    "# Fake Dates Bar Chart"
   ]
  },
  {
   "cell_type": "markdown",
   "id": "about-easter",
   "metadata": {},
   "source": [
    "### fake_dates.py"
   ]
  },
  {
   "cell_type": "markdown",
   "id": "polyphonic-virgin",
   "metadata": {},
   "source": [
    "In order to create the bar chart, we need the following packages:"
   ]
  },
  {
   "cell_type": "code",
   "execution_count": 6,
   "id": "comparable-ferry",
   "metadata": {},
   "outputs": [],
   "source": [
    "from collections import Counter\n",
    "import pandas as pd\n",
    "import numpy as np\n",
    "import json\n",
    "import sys\n",
    "import string\n",
    "import re\n",
    "import itertools  \n",
    "from emot.emo_unicode import UNICODE_EMO, EMOTICONS\n",
    "import emoji\n",
    "from wordcloud import WordCloud, STOPWORDS\n",
    "import matplotlib.pyplot as plt \n",
    "import nltk\n",
    "from PIL import Image\n",
    "import altair as alt\n",
    "import csv\n",
    "import itertools"
   ]
  },
  {
   "cell_type": "markdown",
   "id": "asian-netherlands",
   "metadata": {},
   "source": [
    "To read the JSON file that has all the tweets, it is necessary to do:"
   ]
  },
  {
   "cell_type": "code",
   "execution_count": 2,
   "id": "approved-stack",
   "metadata": {},
   "outputs": [],
   "source": [
    "data = []\n",
    "with open('dataset/fakecovid_result_translated_full.json', 'r') as f:\n",
    "    for line in f:\n",
    "        data.append(json.loads(line))"
   ]
  },
  {
   "cell_type": "markdown",
   "id": "certified-kenya",
   "metadata": {},
   "source": [
    "We're interested in the \"created_at\" field:"
   ]
  },
  {
   "cell_type": "code",
   "execution_count": 3,
   "id": "central-freedom",
   "metadata": {},
   "outputs": [],
   "source": [
    "index=0\n",
    "new = []\n",
    "for element in data: \n",
    "    token=data[index]['created_at']\n",
    "    new.append(token[4:7])\n",
    "    index=index+1\n",
    "\n",
    "#print(new)\n",
    "count=Counter(new)"
   ]
  },
  {
   "cell_type": "markdown",
   "id": "verbal-spirit",
   "metadata": {},
   "source": [
    "The bar chart is created:"
   ]
  },
  {
   "cell_type": "code",
   "execution_count": 4,
   "id": "royal-vertex",
   "metadata": {},
   "outputs": [
    {
     "data": {
      "text/html": [
       "\n",
       "<div id=\"altair-viz-db9ec0633f974a228e484582d7fc4016\"></div>\n",
       "<script type=\"text/javascript\">\n",
       "  (function(spec, embedOpt){\n",
       "    let outputDiv = document.currentScript.previousElementSibling;\n",
       "    if (outputDiv.id !== \"altair-viz-db9ec0633f974a228e484582d7fc4016\") {\n",
       "      outputDiv = document.getElementById(\"altair-viz-db9ec0633f974a228e484582d7fc4016\");\n",
       "    }\n",
       "    const paths = {\n",
       "      \"vega\": \"https://cdn.jsdelivr.net/npm//vega@5?noext\",\n",
       "      \"vega-lib\": \"https://cdn.jsdelivr.net/npm//vega-lib?noext\",\n",
       "      \"vega-lite\": \"https://cdn.jsdelivr.net/npm//vega-lite@4.8.1?noext\",\n",
       "      \"vega-embed\": \"https://cdn.jsdelivr.net/npm//vega-embed@6?noext\",\n",
       "    };\n",
       "\n",
       "    function loadScript(lib) {\n",
       "      return new Promise(function(resolve, reject) {\n",
       "        var s = document.createElement('script');\n",
       "        s.src = paths[lib];\n",
       "        s.async = true;\n",
       "        s.onload = () => resolve(paths[lib]);\n",
       "        s.onerror = () => reject(`Error loading script: ${paths[lib]}`);\n",
       "        document.getElementsByTagName(\"head\")[0].appendChild(s);\n",
       "      });\n",
       "    }\n",
       "\n",
       "    function showError(err) {\n",
       "      outputDiv.innerHTML = `<div class=\"error\" style=\"color:red;\">${err}</div>`;\n",
       "      throw err;\n",
       "    }\n",
       "\n",
       "    function displayChart(vegaEmbed) {\n",
       "      vegaEmbed(outputDiv, spec, embedOpt)\n",
       "        .catch(err => showError(`Javascript Error: ${err.message}<br>This usually means there's a typo in your chart specification. See the javascript console for the full traceback.`));\n",
       "    }\n",
       "\n",
       "    if(typeof define === \"function\" && define.amd) {\n",
       "      requirejs.config({paths});\n",
       "      require([\"vega-embed\"], displayChart, err => showError(`Error loading script: ${err.message}`));\n",
       "    } else if (typeof vegaEmbed === \"function\") {\n",
       "      displayChart(vegaEmbed);\n",
       "    } else {\n",
       "      loadScript(\"vega\")\n",
       "        .then(() => loadScript(\"vega-lite\"))\n",
       "        .then(() => loadScript(\"vega-embed\"))\n",
       "        .catch(showError)\n",
       "        .then(() => displayChart(vegaEmbed));\n",
       "    }\n",
       "  })({\"config\": {\"view\": {\"continuousWidth\": 400, \"continuousHeight\": 300}}, \"data\": {\"name\": \"data-f1eeb556055013c3d3f86a5e154ba571\"}, \"mark\": \"bar\", \"encoding\": {\"x\": {\"type\": \"quantitative\", \"field\": \"tweet count\"}, \"y\": {\"type\": \"nominal\", \"field\": \"month\", \"sort\": [\"Jan\", \"Feb\", \"Mar\", \"Apr\", \"May\", \"Jun\", \"Jul\", \"Aug\", \"Sep\"]}}, \"$schema\": \"https://vega.github.io/schema/vega-lite/v4.8.1.json\", \"datasets\": {\"data-f1eeb556055013c3d3f86a5e154ba571\": [{\"month\": \"Feb\", \"tweet count\": 92}, {\"month\": \"Mar\", \"tweet count\": 597}, {\"month\": \"Apr\", \"tweet count\": 381}, {\"month\": \"May\", \"tweet count\": 237}, {\"month\": \"Jun\", \"tweet count\": 85}, {\"month\": \"Jul\", \"tweet count\": 38}, {\"month\": \"Aug\", \"tweet count\": 44}, {\"month\": \"Jan\", \"tweet count\": 76}, {\"month\": \"Sep\", \"tweet count\": 1}]}}, {\"mode\": \"vega-lite\"});\n",
       "</script>"
      ],
      "text/plain": [
       "alt.Chart(...)"
      ]
     },
     "execution_count": 4,
     "metadata": {},
     "output_type": "execute_result"
    }
   ],
   "source": [
    "df = pd.DataFrame.from_dict(count, orient='index').reset_index()\n",
    "df = df.rename(columns={'index':'month', 0:'tweet count'})\n",
    "\n",
    "chart = alt.Chart(df).mark_bar().encode(\n",
    "    x='tweet count',\n",
    "    y=alt.X('month',sort = ['Jan','Feb','Mar','Apr','May','Jun','Jul','Aug','Sep'])\n",
    ")\n",
    "\n",
    "chart\n",
    "\n",
    "#Questo fighissimo https://altair-viz.github.io/gallery/multiline_tooltip.html"
   ]
  },
  {
   "cell_type": "markdown",
   "id": "enormous-piano",
   "metadata": {},
   "source": [
    "# Marco"
   ]
  },
  {
   "cell_type": "code",
   "execution_count": 15,
   "id": "floral-oakland",
   "metadata": {},
   "outputs": [
    {
     "data": {
      "text/html": [
       "\n",
       "<div id=\"altair-viz-10411c74ae514eea9b00d91b71871439\"></div>\n",
       "<script type=\"text/javascript\">\n",
       "  (function(spec, embedOpt){\n",
       "    let outputDiv = document.currentScript.previousElementSibling;\n",
       "    if (outputDiv.id !== \"altair-viz-10411c74ae514eea9b00d91b71871439\") {\n",
       "      outputDiv = document.getElementById(\"altair-viz-10411c74ae514eea9b00d91b71871439\");\n",
       "    }\n",
       "    const paths = {\n",
       "      \"vega\": \"https://cdn.jsdelivr.net/npm//vega@5?noext\",\n",
       "      \"vega-lib\": \"https://cdn.jsdelivr.net/npm//vega-lib?noext\",\n",
       "      \"vega-lite\": \"https://cdn.jsdelivr.net/npm//vega-lite@4.8.1?noext\",\n",
       "      \"vega-embed\": \"https://cdn.jsdelivr.net/npm//vega-embed@6?noext\",\n",
       "    };\n",
       "\n",
       "    function loadScript(lib) {\n",
       "      return new Promise(function(resolve, reject) {\n",
       "        var s = document.createElement('script');\n",
       "        s.src = paths[lib];\n",
       "        s.async = true;\n",
       "        s.onload = () => resolve(paths[lib]);\n",
       "        s.onerror = () => reject(`Error loading script: ${paths[lib]}`);\n",
       "        document.getElementsByTagName(\"head\")[0].appendChild(s);\n",
       "      });\n",
       "    }\n",
       "\n",
       "    function showError(err) {\n",
       "      outputDiv.innerHTML = `<div class=\"error\" style=\"color:red;\">${err}</div>`;\n",
       "      throw err;\n",
       "    }\n",
       "\n",
       "    function displayChart(vegaEmbed) {\n",
       "      vegaEmbed(outputDiv, spec, embedOpt)\n",
       "        .catch(err => showError(`Javascript Error: ${err.message}<br>This usually means there's a typo in your chart specification. See the javascript console for the full traceback.`));\n",
       "    }\n",
       "\n",
       "    if(typeof define === \"function\" && define.amd) {\n",
       "      requirejs.config({paths});\n",
       "      require([\"vega-embed\"], displayChart, err => showError(`Error loading script: ${err.message}`));\n",
       "    } else if (typeof vegaEmbed === \"function\") {\n",
       "      displayChart(vegaEmbed);\n",
       "    } else {\n",
       "      loadScript(\"vega\")\n",
       "        .then(() => loadScript(\"vega-lite\"))\n",
       "        .then(() => loadScript(\"vega-embed\"))\n",
       "        .catch(showError)\n",
       "        .then(() => displayChart(vegaEmbed));\n",
       "    }\n",
       "  })({\"config\": {\"view\": {\"continuousWidth\": 400, \"continuousHeight\": 300}}, \"data\": {\"name\": \"data-80530d58c424d6d585b6567455696d01\"}, \"mark\": \"bar\", \"encoding\": {\"color\": {\"type\": \"nominal\", \"field\": \"key\"}, \"x\": {\"type\": \"quantitative\", \"field\": \"value\"}, \"y\": {\"type\": \"nominal\", \"field\": \"month\"}}, \"title\": \"aaa\", \"transform\": [{\"fold\": [\"Count False Tweets\", \"Count Partially False Tweets\", \"Count Unproven Tweets\", \"Counter Other Tweets\", \"Counter True Tweets\"]}, {\"filter\": {\"field\": \"count\", \"range\": [1, 1000]}}], \"$schema\": \"https://vega.github.io/schema/vega-lite/v4.8.1.json\", \"datasets\": {\"data-80530d58c424d6d585b6567455696d01\": [{\"month\": \"Mar\", \"count\": 597, \"Count False Tweets\": 465, \"Count Partially False Tweets\": 102, \"Count Unproven Tweets\": 7, \"Counter Other Tweets\": 9, \"Counter True Tweets\": 14}, {\"month\": \"Apr\", \"count\": 381, \"Count False Tweets\": 302, \"Count Partially False Tweets\": 55, \"Count Unproven Tweets\": 6, \"Counter Other Tweets\": 5, \"Counter True Tweets\": 13}, {\"month\": \"May\", \"count\": 237, \"Count False Tweets\": 187, \"Count Partially False Tweets\": 43, \"Count Unproven Tweets\": 1, \"Counter Other Tweets\": 1, \"Counter True Tweets\": 5}, {\"month\": \"Feb\", \"count\": 92, \"Count False Tweets\": 61, \"Count Partially False Tweets\": 23, \"Count Unproven Tweets\": 1, \"Counter Other Tweets\": 4, \"Counter True Tweets\": 3}, {\"month\": \"Jun\", \"count\": 85, \"Count False Tweets\": 58, \"Count Partially False Tweets\": 25, \"Count Unproven Tweets\": 1, \"Counter Other Tweets\": 0, \"Counter True Tweets\": 1}, {\"month\": \"Jan\", \"count\": 76, \"Count False Tweets\": 47, \"Count Partially False Tweets\": 14, \"Count Unproven Tweets\": 4, \"Counter Other Tweets\": 11, \"Counter True Tweets\": 0}, {\"month\": \"Aug\", \"count\": 44, \"Count False Tweets\": 27, \"Count Partially False Tweets\": 14, \"Count Unproven Tweets\": 1, \"Counter Other Tweets\": 2, \"Counter True Tweets\": 0}, {\"month\": \"Jul\", \"count\": 38, \"Count False Tweets\": 26, \"Count Partially False Tweets\": 10, \"Count Unproven Tweets\": 0, \"Counter Other Tweets\": 1, \"Counter True Tweets\": 1}, {\"month\": \"Sep\", \"count\": 1, \"Count False Tweets\": 1, \"Count Partially False Tweets\": 0, \"Count Unproven Tweets\": 0, \"Counter Other Tweets\": 0, \"Counter True Tweets\": 0}, {\"month\": \"May\", \"count\": 0, \"Count False Tweets\": 0, \"Count Partially False Tweets\": 0, \"Count Unproven Tweets\": 0, \"Counter Other Tweets\": 0, \"Counter True Tweets\": 0}, {\"month\": \"Apr\", \"count\": 0, \"Count False Tweets\": 0, \"Count Partially False Tweets\": 0, \"Count Unproven Tweets\": 0, \"Counter Other Tweets\": 0, \"Counter True Tweets\": 0}, {\"month\": \"Apr\", \"count\": 0, \"Count False Tweets\": 0, \"Count Partially False Tweets\": 0, \"Count Unproven Tweets\": 0, \"Counter Other Tweets\": 0, \"Counter True Tweets\": 0}, {\"month\": \"Jul\", \"count\": 0, \"Count False Tweets\": 0, \"Count Partially False Tweets\": 0, \"Count Unproven Tweets\": 0, \"Counter Other Tweets\": 0, \"Counter True Tweets\": 0}, {\"month\": \"Mar\", \"count\": 0, \"Count False Tweets\": 0, \"Count Partially False Tweets\": 0, \"Count Unproven Tweets\": 0, \"Counter Other Tweets\": 0, \"Counter True Tweets\": 0}, {\"month\": \"Jun\", \"count\": 0, \"Count False Tweets\": 0, \"Count Partially False Tweets\": 0, \"Count Unproven Tweets\": 0, \"Counter Other Tweets\": 0, \"Counter True Tweets\": 0}, {\"month\": \"Mar\", \"count\": 0, \"Count False Tweets\": 0, \"Count Partially False Tweets\": 0, \"Count Unproven Tweets\": 0, \"Counter Other Tweets\": 0, \"Counter True Tweets\": 0}, {\"month\": \"Feb\", \"count\": 0, \"Count False Tweets\": 0, \"Count Partially False Tweets\": 0, \"Count Unproven Tweets\": 0, \"Counter Other Tweets\": 0, \"Counter True Tweets\": 0}, {\"month\": \"Jan\", \"count\": 0, \"Count False Tweets\": 0, \"Count Partially False Tweets\": 0, \"Count Unproven Tweets\": 0, \"Counter Other Tweets\": 0, \"Counter True Tweets\": 0}, {\"month\": \"Jan\", \"count\": 0, \"Count False Tweets\": 0, \"Count Partially False Tweets\": 0, \"Count Unproven Tweets\": 0, \"Counter Other Tweets\": 0, \"Counter True Tweets\": 0}, {\"month\": \"May\", \"count\": 0, \"Count False Tweets\": 0, \"Count Partially False Tweets\": 0, \"Count Unproven Tweets\": 0, \"Counter Other Tweets\": 0, \"Counter True Tweets\": 0}, {\"month\": \"Feb\", \"count\": 0, \"Count False Tweets\": 0, \"Count Partially False Tweets\": 0, \"Count Unproven Tweets\": 0, \"Counter Other Tweets\": 0, \"Counter True Tweets\": 0}, {\"month\": \"Jul\", \"count\": 0, \"Count False Tweets\": 0, \"Count Partially False Tweets\": 0, \"Count Unproven Tweets\": 0, \"Counter Other Tweets\": 0, \"Counter True Tweets\": 0}, {\"month\": \"Feb\", \"count\": 0, \"Count False Tweets\": 0, \"Count Partially False Tweets\": 0, \"Count Unproven Tweets\": 0, \"Counter Other Tweets\": 0, \"Counter True Tweets\": 0}, {\"month\": \"May\", \"count\": 0, \"Count False Tweets\": 0, \"Count Partially False Tweets\": 0, \"Count Unproven Tweets\": 0, \"Counter Other Tweets\": 0, \"Counter True Tweets\": 0}, {\"month\": \"Feb\", \"count\": 0, \"Count False Tweets\": 0, \"Count Partially False Tweets\": 0, \"Count Unproven Tweets\": 0, \"Counter Other Tweets\": 0, \"Counter True Tweets\": 0}, {\"month\": \"Apr\", \"count\": 0, \"Count False Tweets\": 0, \"Count Partially False Tweets\": 0, \"Count Unproven Tweets\": 0, \"Counter Other Tweets\": 0, \"Counter True Tweets\": 0}, {\"month\": \"Aug\", \"count\": 0, \"Count False Tweets\": 0, \"Count Partially False Tweets\": 0, \"Count Unproven Tweets\": 0, \"Counter Other Tweets\": 0, \"Counter True Tweets\": 0}, {\"month\": \"Aug\", \"count\": 0, \"Count False Tweets\": 0, \"Count Partially False Tweets\": 0, \"Count Unproven Tweets\": 0, \"Counter Other Tweets\": 0, \"Counter True Tweets\": 0}, {\"month\": \"Apr\", \"count\": 0, \"Count False Tweets\": 0, \"Count Partially False Tweets\": 0, \"Count Unproven Tweets\": 0, \"Counter Other Tweets\": 0, \"Counter True Tweets\": 0}, {\"month\": \"Jan\", \"count\": 0, \"Count False Tweets\": 0, \"Count Partially False Tweets\": 0, \"Count Unproven Tweets\": 0, \"Counter Other Tweets\": 0, \"Counter True Tweets\": 0}, {\"month\": \"Aug\", \"count\": 0, \"Count False Tweets\": 0, \"Count Partially False Tweets\": 0, \"Count Unproven Tweets\": 0, \"Counter Other Tweets\": 0, \"Counter True Tweets\": 0}, {\"month\": \"Jul\", \"count\": 0, \"Count False Tweets\": 0, \"Count Partially False Tweets\": 0, \"Count Unproven Tweets\": 0, \"Counter Other Tweets\": 0, \"Counter True Tweets\": 0}, {\"month\": \"Jun\", \"count\": 0, \"Count False Tweets\": 0, \"Count Partially False Tweets\": 0, \"Count Unproven Tweets\": 0, \"Counter Other Tweets\": 0, \"Counter True Tweets\": 0}, {\"month\": \"May\", \"count\": 0, \"Count False Tweets\": 0, \"Count Partially False Tweets\": 0, \"Count Unproven Tweets\": 0, \"Counter Other Tweets\": 0, \"Counter True Tweets\": 0}, {\"month\": \"Mar\", \"count\": 0, \"Count False Tweets\": 0, \"Count Partially False Tweets\": 0, \"Count Unproven Tweets\": 0, \"Counter Other Tweets\": 0, \"Counter True Tweets\": 0}, {\"month\": \"Mar\", \"count\": 0, \"Count False Tweets\": 0, \"Count Partially False Tweets\": 0, \"Count Unproven Tweets\": 0, \"Counter Other Tweets\": 0, \"Counter True Tweets\": 0}, {\"month\": \"Jun\", \"count\": 0, \"Count False Tweets\": 0, \"Count Partially False Tweets\": 0, \"Count Unproven Tweets\": 0, \"Counter Other Tweets\": 0, \"Counter True Tweets\": 0}]}}, {\"mode\": \"vega-lite\"});\n",
       "</script>"
      ],
      "text/plain": [
       "alt.Chart(...)"
      ]
     },
     "execution_count": 15,
     "metadata": {},
     "output_type": "execute_result"
    }
   ],
   "source": [
    "csv_dataframe = pd.read_csv('dataset/fakecovid_filtered_dataset_clean.csv',sep=\";\")\n",
    "csv_dataframe['tweet_id'] = csv_dataframe['tweet_id'].astype(str)\n",
    "csv_list = csv_dataframe.values.tolist()\n",
    "lista_unica_csv=list(itertools.chain.from_iterable(csv_list))\n",
    "\n",
    "data = []\n",
    "with open('dataset/fakecovid_result_translated_full.json', 'r') as f:\n",
    "    for line in f:\n",
    "        data.append(json.loads(line))\n",
    "\n",
    "index=0\n",
    "cmt_list = []\n",
    "#stopwords = set(STOPWORDS) \n",
    "for element in data:\n",
    "    token_id = data[index]['id_str']\n",
    "    indice_csv = lista_unica_csv.index(token_id)\n",
    "    token = token=data[index]['created_at']\n",
    "    final_token = token[4:7] + \" \" +lista_unica_csv[indice_csv+1].lower().replace(\" \", \"\")\n",
    "    cmt_list.append(final_token)\n",
    "    index=index+1\n",
    "    \n",
    "#print(cmt_list)\n",
    "fdist = dict(nltk.FreqDist(cmt_list))\n",
    "df = pd.DataFrame.from_dict(fdist, orient='index').reset_index()\n",
    "df = df.rename(columns={'index':'month', 0:'count'})\n",
    "col_one_list = df['month'].tolist()\n",
    "col_two_list = df['count'].tolist()\n",
    "\n",
    "typelist=[]\n",
    "namelist=[]\n",
    "\n",
    "index = 0\n",
    "\n",
    "count_false = [0] * len(col_one_list)\n",
    "count_part = [0] * len(col_one_list)\n",
    "count_true = [0] * len(col_one_list)\n",
    "count_other = [0] * len(col_one_list)\n",
    "count_unproven = [0] * len(col_one_list)\n",
    "#print(\"count false len \"+str(len(count_false)))\n",
    "\n",
    "for el in col_one_list:\n",
    "    tok = el.split()\n",
    "    namelist.append(tok[0])\n",
    "    #typelist.append(tok[1])\n",
    "    if tok[0] in namelist:\n",
    "        indx = namelist.index(tok[0])\n",
    "        if tok[1] == \"false\":\n",
    "            count_false[indx] = col_two_list[index]\n",
    "        elif tok[1] == \"partiallyfalse\":\n",
    "            count_part[indx] = col_two_list[index]\n",
    "        elif tok[1] == \"unproven\":\n",
    "            count_unproven[indx] = col_two_list[index]\n",
    "        elif tok[1] == \"others\":\n",
    "            count_other[indx] = col_two_list[index]\n",
    "        elif tok[1] == \"true\":\n",
    "            count_true[indx] = col_two_list[index]\n",
    "        else:\n",
    "            print(\"errore count\")\n",
    "   \n",
    "    index = index + 1\n",
    "\n",
    "i=0\n",
    "for el in col_two_list:\n",
    "    col_two_list[i] = count_false[i] + count_part[i] + count_unproven[i] + count_other[i] + count_true[i]\n",
    "    i = i + 1\n",
    "\n",
    "#print(\"count false len \"+str(len(count_false)))\n",
    "df['month']=namelist\n",
    "df['Count False Tweets']=count_false\n",
    "df['Count Partially False Tweets']=count_part\n",
    "df['Count Unproven Tweets']=count_unproven\n",
    "df['Counter Other Tweets']=count_other\n",
    "df['Counter True Tweets']=count_true\n",
    "df['count'] = col_two_list\n",
    "#del df['count']\n",
    "\n",
    "\n",
    "#df['type']=typelist\n",
    "\n",
    "df = df.sort_values(by=['count'],ascending=[False])\n",
    "\n",
    "#print(df.head(20))\n",
    "\n",
    "bars = alt.Chart(df).transform_fold(\n",
    "    ['Count False Tweets', 'Count Partially False Tweets', 'Count Unproven Tweets', 'Counter Other Tweets', 'Counter True Tweets'],\n",
    ").mark_bar().encode(\n",
    "    x=alt.X('value:Q'),\n",
    "    y=alt.Y('month:N'),\n",
    "    color=alt.Color('key:N')\n",
    ").transform_filter(\n",
    "    alt.FieldRangePredicate(field='count', range=[1, 1000])\n",
    ").properties(title=\"aaa\")\n",
    "\n",
    "\n",
    "bars\n",
    "\n"
   ]
  },
  {
   "cell_type": "code",
   "execution_count": null,
   "id": "transparent-cemetery",
   "metadata": {},
   "outputs": [],
   "source": []
  }
 ],
 "metadata": {
  "kernelspec": {
   "display_name": "Python 3",
   "language": "python",
   "name": "python3"
  },
  "language_info": {
   "codemirror_mode": {
    "name": "ipython",
    "version": 3
   },
   "file_extension": ".py",
   "mimetype": "text/x-python",
   "name": "python",
   "nbconvert_exporter": "python",
   "pygments_lexer": "ipython3",
   "version": "3.9.2"
  }
 },
 "nbformat": 4,
 "nbformat_minor": 5
}

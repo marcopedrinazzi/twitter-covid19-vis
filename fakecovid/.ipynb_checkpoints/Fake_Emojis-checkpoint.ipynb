{
 "cells": [
  {
   "cell_type": "markdown",
   "id": "going-heart",
   "metadata": {},
   "source": [
    "# Emojis Visualizations - Fake Covid-19 Dataset"
   ]
  },
  {
   "cell_type": "markdown",
   "id": "arctic-disney",
   "metadata": {},
   "source": [
    "### fake_emoji_bar_chart.py"
   ]
  },
  {
   "cell_type": "markdown",
   "id": "premium-perception",
   "metadata": {},
   "source": [
    "We've used the following packages:"
   ]
  },
  {
   "cell_type": "code",
   "execution_count": 1,
   "id": "invisible-indie",
   "metadata": {},
   "outputs": [],
   "source": [
    "import pandas as pd\n",
    "import numpy as np\n",
    "import json\n",
    "import itertools  \n",
    "from collections import Counter\n",
    "#import emoji_data_python\n",
    "import altair as alt\n",
    "import demoji\n",
    "\n",
    "#demoji.download_codes()"
   ]
  },
  {
   "cell_type": "markdown",
   "id": "elementary-wound",
   "metadata": {},
   "source": [
    "To read the JSON file that has all the tweets, it is necessary to do:"
   ]
  },
  {
   "cell_type": "code",
   "execution_count": 2,
   "id": "valid-prospect",
   "metadata": {},
   "outputs": [],
   "source": [
    "data = []\n",
    "with open('dataset/fakecovid_result_final_translated_full.json', 'r') as f:\n",
    "    for line in f:\n",
    "        data.append(json.loads(line))"
   ]
  },
  {
   "cell_type": "markdown",
   "id": "killing-typing",
   "metadata": {},
   "source": [
    "We're interested in the \"full_text\" field:"
   ]
  },
  {
   "cell_type": "code",
   "execution_count": 3,
   "id": "uniform-vocabulary",
   "metadata": {},
   "outputs": [],
   "source": [
    "index= 0\n",
    "emos = []\n",
    "for element in data:\n",
    "    em = demoji.findall_list(data[index]['full_text'], False)\n",
    "    emos.append(em)\n",
    "    index= index+1"
   ]
  },
  {
   "cell_type": "markdown",
   "id": "fundamental-desert",
   "metadata": {},
   "source": [
    "We have calculated the frequency distribution, displayed in the form of a bar chart showing the 15 most frequent usernames within the dataset:"
   ]
  },
  {
   "cell_type": "code",
   "execution_count": 4,
   "id": "polish-bennett",
   "metadata": {},
   "outputs": [
    {
     "data": {
      "text/html": [
       "\n",
       "<div id=\"altair-viz-a7f769e22f56490696ada1af7a42280a\"></div>\n",
       "<script type=\"text/javascript\">\n",
       "  (function(spec, embedOpt){\n",
       "    let outputDiv = document.currentScript.previousElementSibling;\n",
       "    if (outputDiv.id !== \"altair-viz-a7f769e22f56490696ada1af7a42280a\") {\n",
       "      outputDiv = document.getElementById(\"altair-viz-a7f769e22f56490696ada1af7a42280a\");\n",
       "    }\n",
       "    const paths = {\n",
       "      \"vega\": \"https://cdn.jsdelivr.net/npm//vega@5?noext\",\n",
       "      \"vega-lib\": \"https://cdn.jsdelivr.net/npm//vega-lib?noext\",\n",
       "      \"vega-lite\": \"https://cdn.jsdelivr.net/npm//vega-lite@4.8.1?noext\",\n",
       "      \"vega-embed\": \"https://cdn.jsdelivr.net/npm//vega-embed@6?noext\",\n",
       "    };\n",
       "\n",
       "    function loadScript(lib) {\n",
       "      return new Promise(function(resolve, reject) {\n",
       "        var s = document.createElement('script');\n",
       "        s.src = paths[lib];\n",
       "        s.async = true;\n",
       "        s.onload = () => resolve(paths[lib]);\n",
       "        s.onerror = () => reject(`Error loading script: ${paths[lib]}`);\n",
       "        document.getElementsByTagName(\"head\")[0].appendChild(s);\n",
       "      });\n",
       "    }\n",
       "\n",
       "    function showError(err) {\n",
       "      outputDiv.innerHTML = `<div class=\"error\" style=\"color:red;\">${err}</div>`;\n",
       "      throw err;\n",
       "    }\n",
       "\n",
       "    function displayChart(vegaEmbed) {\n",
       "      vegaEmbed(outputDiv, spec, embedOpt)\n",
       "        .catch(err => showError(`Javascript Error: ${err.message}<br>This usually means there's a typo in your chart specification. See the javascript console for the full traceback.`));\n",
       "    }\n",
       "\n",
       "    if(typeof define === \"function\" && define.amd) {\n",
       "      requirejs.config({paths});\n",
       "      require([\"vega-embed\"], displayChart, err => showError(`Error loading script: ${err.message}`));\n",
       "    } else if (typeof vegaEmbed === \"function\") {\n",
       "      displayChart(vegaEmbed);\n",
       "    } else {\n",
       "      loadScript(\"vega\")\n",
       "        .then(() => loadScript(\"vega-lite\"))\n",
       "        .then(() => loadScript(\"vega-embed\"))\n",
       "        .catch(showError)\n",
       "        .then(() => displayChart(vegaEmbed));\n",
       "    }\n",
       "  })({\"config\": {\"view\": {\"continuousWidth\": 400, \"continuousHeight\": 300}}, \"data\": {\"name\": \"data-866bb23e545279a8c967c1452d3c59df\"}, \"mark\": \"bar\", \"encoding\": {\"color\": {\"type\": \"quantitative\", \"field\": \"Count\", \"scale\": {\"scheme\": \"blues\"}}, \"x\": {\"type\": \"quantitative\", \"field\": \"Count\"}, \"y\": {\"type\": \"nominal\", \"field\": \"Emoji\", \"sort\": \"-x\"}}, \"height\": 300, \"title\": \"Most 15 frequent emojis in the dataset\", \"transform\": [{\"window\": [{\"op\": \"rank\", \"field\": \"count\", \"as\": \"rank\"}], \"sort\": [{\"field\": \"count\", \"order\": \"descending\"}]}, {\"filter\": \"(datum.rank < 15)\"}], \"width\": 700, \"$schema\": \"https://vega.github.io/schema/vega-lite/v4.8.1.json\", \"datasets\": {\"data-866bb23e545279a8c967c1452d3c59df\": [{\"Emoji\": \"\\ud83d\\udea8\", \"Count\": 15}, {\"Emoji\": \"\\ud83c\\udde9\\ud83c\\uddea\", \"Count\": 1}, {\"Emoji\": \"\\ud83c\\udde9\\ud83c\\uddff\", \"Count\": 4}, {\"Emoji\": \"\\u2764\\ufe0f\", \"Count\": 5}, {\"Emoji\": \"\\ud83d\\ude81\", \"Count\": 1}, {\"Emoji\": \"\\ud83c\\udfc5\", \"Count\": 1}, {\"Emoji\": \"\\ud83c\\udf96\\ufe0f\", \"Count\": 1}, {\"Emoji\": \"\\u274c\", \"Count\": 11}, {\"Emoji\": \"\\ud83d\\udc47\", \"Count\": 19}, {\"Emoji\": \"\\u2714\\ufe0f\", \"Count\": 5}, {\"Emoji\": \"\\u2b55\", \"Count\": 2}, {\"Emoji\": \"\\ud83c\\udde7\\ud83c\\uddee\", \"Count\": 1}, {\"Emoji\": \"\\ud83d\\udc49\\ud83c\\udffe\", \"Count\": 1}, {\"Emoji\": \"\\ud83d\\ude02\", \"Count\": 6}, {\"Emoji\": \"\\u2b07\\ufe0f\", \"Count\": 25}, {\"Emoji\": \"\\ud83d\\udcaf\", \"Count\": 3}, {\"Emoji\": \"\\ud83d\\ude37\", \"Count\": 4}, {\"Emoji\": \"\\ud83d\\ude4c\\ud83c\\udffc\", \"Count\": 1}, {\"Emoji\": \"\\ud83c\\uddfa\\ud83c\\uddf8\", \"Count\": 9}, {\"Emoji\": \"\\ud83d\\udc47\\ud83c\\udffb\", \"Count\": 3}, {\"Emoji\": \"\\ud83d\\uddd3\", \"Count\": 1}, {\"Emoji\": \"\\ud83d\\udce2\", \"Count\": 7}, {\"Emoji\": \"\\ud83d\\udc47\\ud83c\\udffd\", \"Count\": 5}, {\"Emoji\": \"\\ud83c\\udde7\\ud83c\\uddea\", \"Count\": 2}, {\"Emoji\": \"\\ud83d\\udd35\", \"Count\": 1}, {\"Emoji\": \"\\ud83d\\udc49\", \"Count\": 9}, {\"Emoji\": \"\\ud83c\\udde8\\ud83c\\uddf4\", \"Count\": 1}, {\"Emoji\": \"\\ud83c\\uddf5\\ud83c\\uddfe\", \"Count\": 1}, {\"Emoji\": \"\\ud83c\\udde7\\ud83c\\uddf9\", \"Count\": 1}, {\"Emoji\": \"\\ud83c\\uddea\\ud83c\\uddf8\", \"Count\": 5}, {\"Emoji\": \"\\ud83c\\uddee\\ud83c\\uddf9\", \"Count\": 6}, {\"Emoji\": \"\\ud83c\\uddf9\\ud83c\\uddfb\", \"Count\": 1}, {\"Emoji\": \"\\ud83c\\uddfb\\ud83c\\uddf3\", \"Count\": 1}, {\"Emoji\": \"\\ud83c\\uddea\\ud83c\\uddfa\", \"Count\": 1}, {\"Emoji\": \"\\ud83d\\udcfa\", \"Count\": 4}, {\"Emoji\": \"\\ud83d\\udcbb\", \"Count\": 3}, {\"Emoji\": \"\\ud83d\\udcfb\", \"Count\": 2}, {\"Emoji\": \"\\ud83e\\udd17\", \"Count\": 1}, {\"Emoji\": \"\\u2139\", \"Count\": 2}, {\"Emoji\": \"\\ud83d\\ude4f\", \"Count\": 12}, {\"Emoji\": \"\\ud83e\\udda0\", \"Count\": 3}, {\"Emoji\": \"\\ud83d\\udd0a\", \"Count\": 3}, {\"Emoji\": \"\\ud83d\\udce7\", \"Count\": 2}, {\"Emoji\": \"\\ud83d\\udcf0\", \"Count\": 3}, {\"Emoji\": \"\\u27a1\\ufe0f\", \"Count\": 7}, {\"Emoji\": \"\\ud83d\\udcf9\", \"Count\": 3}, {\"Emoji\": \"\\u2935\", \"Count\": 1}, {\"Emoji\": \"\\ud83c\\udfdb\\ufe0f\", \"Count\": 1}, {\"Emoji\": \"\\ud83c\\uddeb\\ud83c\\uddf7\", \"Count\": 1}, {\"Emoji\": \"\\ud83c\\uddec\\ud83c\\udde7\", \"Count\": 1}, {\"Emoji\": \"\\ud83c\\uddf7\\ud83c\\uddfa\", \"Count\": 1}, {\"Emoji\": \"\\ud83d\\udd34\", \"Count\": 13}, {\"Emoji\": \"\\ud83c\\udde8\\ud83c\\uddf3\", \"Count\": 6}, {\"Emoji\": \"\\u26a0\\ufe0f\", \"Count\": 26}, {\"Emoji\": \"\\u2705\", \"Count\": 10}, {\"Emoji\": \"\\u2b50\", \"Count\": 3}, {\"Emoji\": \"\\ud83d\\udc40\", \"Count\": 3}, {\"Emoji\": \"\\u261d\", \"Count\": 3}, {\"Emoji\": \"\\u27a1\", \"Count\": 4}, {\"Emoji\": \"\\u26a0\", \"Count\": 8}, {\"Emoji\": \"\\u26d4\", \"Count\": 4}, {\"Emoji\": \"\\ud83e\\udd14\", \"Count\": 12}, {\"Emoji\": \"\\u2795\", \"Count\": 2}, {\"Emoji\": \"\\u270a\\ud83c\\udffd\", \"Count\": 1}, {\"Emoji\": \"\\ud83d\\udc49\\ud83c\\udffd\", \"Count\": 2}, {\"Emoji\": \"\\ud83d\\ude2d\", \"Count\": 3}, {\"Emoji\": \"\\ud83e\\uddd0\", \"Count\": 1}, {\"Emoji\": \"\\u23f0\", \"Count\": 3}, {\"Emoji\": \"\\ud83d\\udd26\", \"Count\": 1}, {\"Emoji\": \"\\u2049\\ufe0f\", \"Count\": 1}, {\"Emoji\": \"\\ud83d\\udccc\", \"Count\": 2}, {\"Emoji\": \"\\u2757\", \"Count\": 4}, {\"Emoji\": \"\\ud83d\\udc50\", \"Count\": 2}, {\"Emoji\": \"\\ud83d\\udc44\", \"Count\": 2}, {\"Emoji\": \"\\ud83c\\uddf5\\ud83c\\uddf0\", \"Count\": 1}, {\"Emoji\": \"\\ud83c\\udf99\\ufe0f\", \"Count\": 1}, {\"Emoji\": \"\\ud83d\\ude22\", \"Count\": 1}, {\"Emoji\": \"\\u25b6\\ufe0f\", \"Count\": 6}, {\"Emoji\": \"\\ud83d\\ude9a\", \"Count\": 1}, {\"Emoji\": \"\\ud83d\\udca8\", \"Count\": 1}, {\"Emoji\": \"\\ud83d\\udc68\", \"Count\": 2}, {\"Emoji\": \"\\u2695\\ufe0f\", \"Count\": 2}, {\"Emoji\": \"\\ud83c\\udf0d\", \"Count\": 3}, {\"Emoji\": \"\\ud83e\\udd27\", \"Count\": 1}, {\"Emoji\": \"\\ud83c\\udfe5\", \"Count\": 1}, {\"Emoji\": \"\\u2935\\ufe0f\", \"Count\": 1}, {\"Emoji\": \"\\ud83c\\uddf3\\ud83c\\uddf4\", \"Count\": 1}, {\"Emoji\": \"\\ud83d\\udde3\\ufe0f\", \"Count\": 1}, {\"Emoji\": \"\\u3030\\ufe0f\", \"Count\": 2}, {\"Emoji\": \"\\ud83d\\udda5\\ufe0f\", \"Count\": 1}, {\"Emoji\": \"\\ud83d\\udc64\", \"Count\": 1}, {\"Emoji\": \"\\u2139\\ufe0f\", \"Count\": 2}, {\"Emoji\": \"\\ud83d\\ude03\", \"Count\": 1}, {\"Emoji\": \"\\ud83d\\udc4d\", \"Count\": 1}, {\"Emoji\": \"\\ud83d\\udcf7\", \"Count\": 1}, {\"Emoji\": \"\\ud83d\\udeab\", \"Count\": 3}, {\"Emoji\": \"\\ud83d\\udc26\", \"Count\": 1}, {\"Emoji\": \"\\ud83d\\udc94\", \"Count\": 2}, {\"Emoji\": \"\\ud83e\\udd73\", \"Count\": 2}, {\"Emoji\": \"\\ud83c\\udf89\", \"Count\": 2}, {\"Emoji\": \"\\ud83d\\ude0f\", \"Count\": 1}, {\"Emoji\": \"\\ud83d\\udc76\", \"Count\": 1}, {\"Emoji\": \"\\ud83c\\uddea\\ud83c\\udde8\", \"Count\": 2}, {\"Emoji\": \"\\ud83d\\udcac\", \"Count\": 1}, {\"Emoji\": \"\\ud83d\\udc43\", \"Count\": 1}, {\"Emoji\": \"\\ud83d\\udde3\", \"Count\": 1}, {\"Emoji\": \"\\ud83e\\uddd4\\ud83c\\udffb\", \"Count\": 1}, {\"Emoji\": \"\\ud83d\\ude48\", \"Count\": 1}, {\"Emoji\": \"\\ud83d\\ude4a\", \"Count\": 1}, {\"Emoji\": \"\\ud83d\\ude49\", \"Count\": 1}, {\"Emoji\": \"\\ud83d\\udc4f\\ud83c\\udffc\", \"Count\": 1}, {\"Emoji\": \"\\ud83e\\udd2c\", \"Count\": 3}, {\"Emoji\": \"\\ud83d\\udcf1\", \"Count\": 1}, {\"Emoji\": \"\\ud83d\\udcaa\", \"Count\": 5}, {\"Emoji\": \"\\ud83d\\ude4b\", \"Count\": 2}, {\"Emoji\": \"\\ud83d\\udc4b\", \"Count\": 2}, {\"Emoji\": \"\\ud83c\\uddf5\\ud83c\\uddea\", \"Count\": 1}, {\"Emoji\": \"\\ud83c\\udf6f\", \"Count\": 1}, {\"Emoji\": \"\\u2623\\ufe0f\", \"Count\": 1}, {\"Emoji\": \"\\ud83c\\uddee\\ud83c\\uddf7\", \"Count\": 1}, {\"Emoji\": \"\\ud83e\\udda7\", \"Count\": 1}, {\"Emoji\": \"\\ud83c\\uddee\\ud83c\\uddf3\", \"Count\": 1}, {\"Emoji\": \"\\ud83d\\ude0a\", \"Count\": 2}, {\"Emoji\": \"\\ud83d\\ude21\", \"Count\": 4}, {\"Emoji\": \"\\ud83d\\ude20\", \"Count\": 1}, {\"Emoji\": \"\\ud83c\\udfe0\", \"Count\": 1}, {\"Emoji\": \"\\ud83d\\udd01\", \"Count\": 1}, {\"Emoji\": \"\\ud83d\\ude4f\\ud83c\\udffb\", \"Count\": 1}, {\"Emoji\": \"\\ud83d\\udcf8\", \"Count\": 1}, {\"Emoji\": \"\\ud83d\\ude0d\", \"Count\": 2}, {\"Emoji\": \"\\ud83c\\udfd4\", \"Count\": 1}, {\"Emoji\": \"\\ud83d\\udcc4\", \"Count\": 1}, {\"Emoji\": \"\\ud83d\\udc4f\", \"Count\": 6}, {\"Emoji\": \"\\ud83d\\udc47\\ud83c\\udffc\", \"Count\": 1}, {\"Emoji\": \"\\ud83d\\udc9f\", \"Count\": 2}, {\"Emoji\": \"\\ud83d\\udead\", \"Count\": 1}, {\"Emoji\": \"\\ud83c\\udf21\\ufe0f\", \"Count\": 1}, {\"Emoji\": \"\\ud83d\\udc4c\", \"Count\": 1}, {\"Emoji\": \"\\u25b6\", \"Count\": 3}, {\"Emoji\": \"\\ud83d\\udc4d\\ud83c\\udffb\", \"Count\": 1}, {\"Emoji\": \"\\ud83c\\udde8\\ud83c\\uddfa\", \"Count\": 2}, {\"Emoji\": \"\\ud83d\\udc95\", \"Count\": 1}, {\"Emoji\": \"\\ud83e\\udd21\", \"Count\": 1}, {\"Emoji\": \"\\ud83d\\ude2a\", \"Count\": 2}, {\"Emoji\": \"\\ud83e\\udd24\", \"Count\": 1}, {\"Emoji\": \"\\ud83d\\ude1c\", \"Count\": 2}, {\"Emoji\": \"\\ud83d\\ude0e\", \"Count\": 1}, {\"Emoji\": \"\\ud83c\\uddee\\ud83c\\udde9\", \"Count\": 3}, {\"Emoji\": \"\\ud83d\\udc96\", \"Count\": 1}, {\"Emoji\": \"\\u00ae\", \"Count\": 1}, {\"Emoji\": \"\\ud83e\\udd63\", \"Count\": 1}, {\"Emoji\": \"\\ud83c\\udfb6\", \"Count\": 2}, {\"Emoji\": \"\\ud83d\\udc4f\\ud83c\\udffd\", \"Count\": 5}, {\"Emoji\": \"\\ud83c\\udf0e\", \"Count\": 3}, {\"Emoji\": \"\\ud83d\\udc4b\\ud83c\\udfff\", \"Count\": 2}, {\"Emoji\": \"\\ud83e\\udd1e\", \"Count\": 1}, {\"Emoji\": \"2\\u20e3\", \"Count\": 2}, {\"Emoji\": \"6\\u20e3\", \"Count\": 1}, {\"Emoji\": \"\\ud83e\\udd2d\", \"Count\": 1}, {\"Emoji\": \"\\ud83d\\udd3b\", \"Count\": 1}, {\"Emoji\": \"\\ud83d\\udd4c\", \"Count\": 1}, {\"Emoji\": \"\\ud83d\\udd14\", \"Count\": 1}, {\"Emoji\": \"\\ud83d\\udcaa\\ud83c\\udffb\", \"Count\": 1}, {\"Emoji\": \"\\ud83c\\udfcb\\ud83c\\udffb\", \"Count\": 1}, {\"Emoji\": \"\\ud83d\\udc31\", \"Count\": 1}, {\"Emoji\": \"\\ud83d\\udc36\", \"Count\": 1}, {\"Emoji\": \"3\\u20e3\", \"Count\": 2}, {\"Emoji\": \"\\ud83d\\udd39\", \"Count\": 3}, {\"Emoji\": \"\\ud83d\\udc67\", \"Count\": 1}, {\"Emoji\": \"\\ud83d\\udc76\\ud83c\\udffd\", \"Count\": 1}, {\"Emoji\": \"\\ud83c\\uddf3\\ud83c\\uddec\", \"Count\": 1}, {\"Emoji\": \"\\ud83c\\uddf8\\ud83c\\uddf3\", \"Count\": 1}, {\"Emoji\": \"\\ud83c\\uddea\\ud83c\\uddec\", \"Count\": 1}, {\"Emoji\": \"\\ud83c\\uddf9\\ud83c\\uddf3\", \"Count\": 1}, {\"Emoji\": \"\\ud83c\\uddf2\\ud83c\\udde6\", \"Count\": 1}, {\"Emoji\": \"\\ud83d\\udc41\\ufe0f\", \"Count\": 1}, {\"Emoji\": \"\\ud83e\\udde4\", \"Count\": 1}, {\"Emoji\": \"\\u2640\\ufe0f\", \"Count\": 1}, {\"Emoji\": \"\\ud83d\\udce1\", \"Count\": 1}, {\"Emoji\": \"\\ud83e\\udd26\", \"Count\": 2}, {\"Emoji\": \"\\u2642\\ufe0f\", \"Count\": 2}, {\"Emoji\": \"\\ud83d\\ude29\", \"Count\": 2}, {\"Emoji\": \"1\\u20e3\", \"Count\": 1}, {\"Emoji\": \"\\u2666\", \"Count\": 1}, {\"Emoji\": \"\\ud83c\\uddf2\\ud83c\\uddfd\", \"Count\": 1}, {\"Emoji\": \"\\ud83d\\udc47\\ud83c\\udfff\", \"Count\": 1}, {\"Emoji\": \"\\ud83c\\udff4\", \"Count\": 1}, {\"Emoji\": \"\\ud83d\\ude44\", \"Count\": 1}, {\"Emoji\": \"\\ud83e\\uddfc\", \"Count\": 1}, {\"Emoji\": \"\\ud83d\\ude07\", \"Count\": 1}, {\"Emoji\": \"\\ud83e\\udd2f\", \"Count\": 1}, {\"Emoji\": \"\\u26b0\\ufe0f\", \"Count\": 1}]}}, {\"mode\": \"vega-lite\"});\n",
       "</script>"
      ],
      "text/plain": [
       "alt.Chart(...)"
      ]
     },
     "execution_count": 4,
     "metadata": {},
     "output_type": "execute_result"
    }
   ],
   "source": [
    "merged=list(itertools.chain.from_iterable(emos))\n",
    "c = Counter(merged)\n",
    "\n",
    "df = pd.DataFrame.from_dict(c, orient='index').reset_index()\n",
    "df = df.rename(columns={'index':'emoji', 0:'count'})\n",
    "\n",
    "\n",
    "chart = alt.Chart(\n",
    "    df\n",
    ").mark_bar().encode(\n",
    "    x=alt.X('count:Q'),\n",
    "    y=alt.Y('emoji:N',sort='-x'),\n",
    "    color=alt.Color('count:Q',scale=alt.Scale(scheme=\"blues\"))\n",
    ").transform_window(\n",
    "    rank='rank(count)',\n",
    "    sort=[alt.SortField('count', order='descending')]\n",
    ").transform_filter(\n",
    "    (alt.datum.rank < 15)\n",
    ").properties(width=700, height=300,  title = \"Most 15 frequent emojis in the dataset\")\n",
    "\n",
    "chart"
   ]
  }
 ],
 "metadata": {
  "kernelspec": {
   "display_name": "Python 3",
   "language": "python",
   "name": "python3"
  },
  "language_info": {
   "codemirror_mode": {
    "name": "ipython",
    "version": 3
   },
   "file_extension": ".py",
   "mimetype": "text/x-python",
   "name": "python",
   "nbconvert_exporter": "python",
   "pygments_lexer": "ipython3",
   "version": "3.9.2"
  }
 },
 "nbformat": 4,
 "nbformat_minor": 5
}

{
 "cells": [
  {
   "cell_type": "markdown",
   "id": "dental-adelaide",
   "metadata": {},
   "source": [
    "# Emojis Visualizations - Fake Covid-19 Dataset"
   ]
  },
  {
   "cell_type": "markdown",
   "id": "devoted-fruit",
   "metadata": {},
   "source": [
    "### emoji_bar_chart.py"
   ]
  },
  {
   "cell_type": "markdown",
   "id": "unavailable-clock",
   "metadata": {},
   "source": [
    "We've used the following packages:"
   ]
  },
  {
   "cell_type": "code",
   "execution_count": 1,
   "id": "blank-kenya",
   "metadata": {},
   "outputs": [],
   "source": [
    "import pandas as pd\n",
    "import numpy as np\n",
    "import json\n",
    "import itertools  \n",
    "from collections import Counter\n",
    "#import emoji_data_python\n",
    "import altair as alt\n",
    "import demoji\n",
    "import csv\n",
    "\n",
    "#demoji.download_codes()"
   ]
  },
  {
   "cell_type": "markdown",
   "id": "progressive-defense",
   "metadata": {},
   "source": [
    "To read the JSON file that has all the tweets and to read the CSV to do the classification later, it is necessary to do:"
   ]
  },
  {
   "cell_type": "code",
   "execution_count": 2,
   "id": "medieval-browser",
   "metadata": {},
   "outputs": [],
   "source": [
    "csv_dataframe = pd.read_csv('dataset/FINAL_fakecovid_final_filtered_dataset_clean.csv',sep=\";\")\n",
    "csv_dataframe['tweet_id'] = csv_dataframe['tweet_id'].astype(str)\n",
    "csv_list = csv_dataframe.values.tolist()\n",
    "lista_unica_csv=list(itertools.chain.from_iterable(csv_list))\n",
    "\n",
    "data = []\n",
    "with open('dataset/fakecovid_result_final_translated_full.json', 'r') as f:\n",
    "    for line in f:\n",
    "        data.append(json.loads(line))"
   ]
  },
  {
   "cell_type": "markdown",
   "id": "nasty-harris",
   "metadata": {},
   "source": [
    "We're interested in the \"full_text\" field and \"id_str\" (for the tweets classification):"
   ]
  },
  {
   "cell_type": "code",
   "execution_count": 3,
   "id": "annual-convenience",
   "metadata": {},
   "outputs": [],
   "source": [
    "index= 0\n",
    "emos = []\n",
    "for element in data:\n",
    "    token_id = data[index]['id_str']\n",
    "    indice_csv = lista_unica_csv.index(token_id)\n",
    "    em = demoji.findall_list(data[index]['full_text'], False)\n",
    "    if em:\n",
    "        for e in em: \n",
    "            final_token = e + \" \" + lista_unica_csv[indice_csv+1].lower().replace(\" \", \"\")\n",
    "            emos.append(final_token)\n",
    "    index= index+1\n",
    "   \n",
    "    "
   ]
  },
  {
   "cell_type": "markdown",
   "id": "patent-scientist",
   "metadata": {},
   "source": [
    "We have calculated the frequency distribution and worked on the dataframe to display the correct data:"
   ]
  },
  {
   "cell_type": "code",
   "execution_count": 4,
   "id": "impossible-fountain",
   "metadata": {},
   "outputs": [],
   "source": [
    "#merged=list(itertools.chain.from_iterable(emos))\n",
    "#print(merged)\n",
    "#print(emos)\n",
    "c = Counter(emos)\n",
    "\n",
    "\n",
    "\n",
    "df = pd.DataFrame.from_dict(c, orient='index').reset_index()\n",
    "df = df.rename(columns={'index':'emojis', 0:'count'})\n",
    "col_one_list = df['emojis'].tolist()\n",
    "col_two_list = df['count'].tolist()\n",
    "\n",
    "typelist=[]\n",
    "namelist=[]\n",
    "\n",
    "index = 0\n",
    "\n",
    "count_false = [0] * len(col_one_list)\n",
    "count_part = [0] * len(col_one_list)\n",
    "\n",
    "for el in col_one_list:\n",
    "    tok = el.split()\n",
    "    namelist.append(tok[0])\n",
    "    if tok[0] in namelist:\n",
    "        indx = namelist.index(tok[0])\n",
    "        if tok[1] == \"false\":\n",
    "            count_false[indx] = col_two_list[index]\n",
    "        elif tok[1] == \"partiallyfalse\":\n",
    "            count_part[indx] = col_two_list[index]\n",
    "        else:\n",
    "            print(\"errore count\")\n",
    "   \n",
    "    index = index + 1\n",
    "\n",
    "i=0\n",
    "for el in col_two_list:\n",
    "    col_two_list[i] = count_false[i] + count_part[i]\n",
    "    i = i + 1\n",
    "\n",
    "df['emojis']=namelist\n",
    "df['Count False Tweets']=count_false\n",
    "df['Count Partially False Tweets']=count_part\n",
    "df['count'] = col_two_list\n",
    "\n",
    "\n",
    "\n",
    "\n",
    "df = df.sort_values(by=['count'],ascending=[False])\n"
   ]
  },
  {
   "cell_type": "markdown",
   "id": "human-court",
   "metadata": {},
   "source": [
    "Here it is the final result, the chart displays only the emoji appeared in at least five different tweets:"
   ]
  },
  {
   "cell_type": "code",
   "execution_count": 6,
   "id": "centered-transportation",
   "metadata": {},
   "outputs": [
    {
     "data": {
      "text/html": [
       "\n",
       "<div id=\"altair-viz-0513c3cbbaf2414a9fa7f206664fd87d\"></div>\n",
       "<script type=\"text/javascript\">\n",
       "  (function(spec, embedOpt){\n",
       "    let outputDiv = document.currentScript.previousElementSibling;\n",
       "    if (outputDiv.id !== \"altair-viz-0513c3cbbaf2414a9fa7f206664fd87d\") {\n",
       "      outputDiv = document.getElementById(\"altair-viz-0513c3cbbaf2414a9fa7f206664fd87d\");\n",
       "    }\n",
       "    const paths = {\n",
       "      \"vega\": \"https://cdn.jsdelivr.net/npm//vega@5?noext\",\n",
       "      \"vega-lib\": \"https://cdn.jsdelivr.net/npm//vega-lib?noext\",\n",
       "      \"vega-lite\": \"https://cdn.jsdelivr.net/npm//vega-lite@4.8.1?noext\",\n",
       "      \"vega-embed\": \"https://cdn.jsdelivr.net/npm//vega-embed@6?noext\",\n",
       "    };\n",
       "\n",
       "    function loadScript(lib) {\n",
       "      return new Promise(function(resolve, reject) {\n",
       "        var s = document.createElement('script');\n",
       "        s.src = paths[lib];\n",
       "        s.async = true;\n",
       "        s.onload = () => resolve(paths[lib]);\n",
       "        s.onerror = () => reject(`Error loading script: ${paths[lib]}`);\n",
       "        document.getElementsByTagName(\"head\")[0].appendChild(s);\n",
       "      });\n",
       "    }\n",
       "\n",
       "    function showError(err) {\n",
       "      outputDiv.innerHTML = `<div class=\"error\" style=\"color:red;\">${err}</div>`;\n",
       "      throw err;\n",
       "    }\n",
       "\n",
       "    function displayChart(vegaEmbed) {\n",
       "      vegaEmbed(outputDiv, spec, embedOpt)\n",
       "        .catch(err => showError(`Javascript Error: ${err.message}<br>This usually means there's a typo in your chart specification. See the javascript console for the full traceback.`));\n",
       "    }\n",
       "\n",
       "    if(typeof define === \"function\" && define.amd) {\n",
       "      requirejs.config({paths});\n",
       "      require([\"vega-embed\"], displayChart, err => showError(`Error loading script: ${err.message}`));\n",
       "    } else if (typeof vegaEmbed === \"function\") {\n",
       "      displayChart(vegaEmbed);\n",
       "    } else {\n",
       "      loadScript(\"vega\")\n",
       "        .then(() => loadScript(\"vega-lite\"))\n",
       "        .then(() => loadScript(\"vega-embed\"))\n",
       "        .catch(showError)\n",
       "        .then(() => displayChart(vegaEmbed));\n",
       "    }\n",
       "  })({\"config\": {\"view\": {\"continuousWidth\": 400, \"continuousHeight\": 300}}, \"data\": {\"name\": \"data-a88e64f64f19429c212b551117928f13\"}, \"mark\": \"bar\", \"encoding\": {\"color\": {\"type\": \"nominal\", \"field\": \"key\"}, \"x\": {\"type\": \"quantitative\", \"field\": \"value\"}, \"y\": {\"type\": \"nominal\", \"field\": \"emojis\"}}, \"title\": \"The most frequent emojis in tweets classified by category (False, Partually False)\", \"transform\": [{\"fold\": [\"Count False Tweets\", \"Count Partially False Tweets\"]}, {\"filter\": {\"field\": \"count\", \"range\": [5, 26]}}], \"width\": 800, \"$schema\": \"https://vega.github.io/schema/vega-lite/v4.8.1.json\", \"datasets\": {\"data-a88e64f64f19429c212b551117928f13\": [{\"emojis\": \"\\u26a0\\ufe0f\", \"count\": 26, \"Count False Tweets\": 26, \"Count Partially False Tweets\": 0}, {\"emojis\": \"\\u2b07\\ufe0f\", \"count\": 25, \"Count False Tweets\": 25, \"Count Partially False Tweets\": 0}, {\"emojis\": \"\\ud83d\\udc47\", \"count\": 19, \"Count False Tweets\": 14, \"Count Partially False Tweets\": 5}, {\"emojis\": \"\\ud83d\\udea8\", \"count\": 15, \"Count False Tweets\": 13, \"Count Partially False Tweets\": 2}, {\"emojis\": \"\\ud83d\\udd34\", \"count\": 13, \"Count False Tweets\": 12, \"Count Partially False Tweets\": 1}, {\"emojis\": \"\\ud83d\\ude4f\", \"count\": 12, \"Count False Tweets\": 9, \"Count Partially False Tweets\": 3}, {\"emojis\": \"\\ud83e\\udd14\", \"count\": 12, \"Count False Tweets\": 10, \"Count Partially False Tweets\": 2}, {\"emojis\": \"\\u274c\", \"count\": 11, \"Count False Tweets\": 10, \"Count Partially False Tweets\": 1}, {\"emojis\": \"\\u2705\", \"count\": 10, \"Count False Tweets\": 9, \"Count Partially False Tweets\": 1}, {\"emojis\": \"\\ud83d\\udc49\", \"count\": 9, \"Count False Tweets\": 9, \"Count Partially False Tweets\": 0}, {\"emojis\": \"\\ud83c\\uddfa\\ud83c\\uddf8\", \"count\": 9, \"Count False Tweets\": 7, \"Count Partially False Tweets\": 2}, {\"emojis\": \"\\u26a0\", \"count\": 8, \"Count False Tweets\": 8, \"Count Partially False Tweets\": 0}, {\"emojis\": \"\\u27a1\\ufe0f\", \"count\": 7, \"Count False Tweets\": 7, \"Count Partially False Tweets\": 0}, {\"emojis\": \"\\ud83d\\udce2\", \"count\": 7, \"Count False Tweets\": 7, \"Count Partially False Tweets\": 0}, {\"emojis\": \"\\u25b6\\ufe0f\", \"count\": 6, \"Count False Tweets\": 1, \"Count Partially False Tweets\": 5}, {\"emojis\": \"\\ud83c\\uddee\\ud83c\\uddf9\", \"count\": 6, \"Count False Tweets\": 3, \"Count Partially False Tweets\": 3}, {\"emojis\": \"\\ud83c\\udde8\\ud83c\\uddf3\", \"count\": 6, \"Count False Tweets\": 5, \"Count Partially False Tweets\": 1}, {\"emojis\": \"\\ud83d\\udc4f\", \"count\": 6, \"Count False Tweets\": 0, \"Count Partially False Tweets\": 6}, {\"emojis\": \"\\ud83d\\ude02\", \"count\": 6, \"Count False Tweets\": 6, \"Count Partially False Tweets\": 0}, {\"emojis\": \"\\ud83d\\udcaa\", \"count\": 5, \"Count False Tweets\": 2, \"Count Partially False Tweets\": 3}, {\"emojis\": \"\\u2714\\ufe0f\", \"count\": 5, \"Count False Tweets\": 5, \"Count Partially False Tweets\": 0}, {\"emojis\": \"\\ud83c\\uddea\\ud83c\\uddf8\", \"count\": 5, \"Count False Tweets\": 5, \"Count Partially False Tweets\": 0}, {\"emojis\": \"\\ud83d\\udc4f\\ud83c\\udffd\", \"count\": 5, \"Count False Tweets\": 5, \"Count Partially False Tweets\": 0}, {\"emojis\": \"\\u2764\\ufe0f\", \"count\": 5, \"Count False Tweets\": 3, \"Count Partially False Tweets\": 2}, {\"emojis\": \"\\ud83d\\udc47\\ud83c\\udffd\", \"count\": 5, \"Count False Tweets\": 4, \"Count Partially False Tweets\": 1}, {\"emojis\": \"\\ud83c\\udde9\\ud83c\\uddff\", \"count\": 4, \"Count False Tweets\": 4, \"Count Partially False Tweets\": 0}, {\"emojis\": \"\\ud83d\\udcfa\", \"count\": 4, \"Count False Tweets\": 3, \"Count Partially False Tweets\": 1}, {\"emojis\": \"\\ud83d\\ude21\", \"count\": 4, \"Count False Tweets\": 4, \"Count Partially False Tweets\": 0}, {\"emojis\": \"\\u2757\", \"count\": 4, \"Count False Tweets\": 4, \"Count Partially False Tweets\": 0}, {\"emojis\": \"\\u26d4\", \"count\": 4, \"Count False Tweets\": 4, \"Count Partially False Tweets\": 0}, {\"emojis\": \"\\u27a1\", \"count\": 4, \"Count False Tweets\": 3, \"Count Partially False Tweets\": 1}, {\"emojis\": \"\\ud83d\\ude37\", \"count\": 4, \"Count False Tweets\": 4, \"Count Partially False Tweets\": 0}, {\"emojis\": \"\\ud83d\\udcf9\", \"count\": 3, \"Count False Tweets\": 3, \"Count Partially False Tweets\": 0}, {\"emojis\": \"\\ud83c\\udf0d\", \"count\": 3, \"Count False Tweets\": 1, \"Count Partially False Tweets\": 2}, {\"emojis\": \"\\ud83d\\udcf0\", \"count\": 3, \"Count False Tweets\": 3, \"Count Partially False Tweets\": 0}, {\"emojis\": \"\\u2b50\", \"count\": 3, \"Count False Tweets\": 3, \"Count Partially False Tweets\": 0}, {\"emojis\": \"\\ud83c\\udf0e\", \"count\": 3, \"Count False Tweets\": 0, \"Count Partially False Tweets\": 3}, {\"emojis\": \"\\ud83d\\udd39\", \"count\": 3, \"Count False Tweets\": 3, \"Count Partially False Tweets\": 0}, {\"emojis\": \"\\ud83e\\udda0\", \"count\": 3, \"Count False Tweets\": 3, \"Count Partially False Tweets\": 0}, {\"emojis\": \"\\ud83d\\udc40\", \"count\": 3, \"Count False Tweets\": 3, \"Count Partially False Tweets\": 0}, {\"emojis\": \"\\u261d\", \"count\": 3, \"Count False Tweets\": 3, \"Count Partially False Tweets\": 0}, {\"emojis\": \"\\ud83d\\udd0a\", \"count\": 3, \"Count False Tweets\": 2, \"Count Partially False Tweets\": 1}, {\"emojis\": \"\\u23f0\", \"count\": 3, \"Count False Tweets\": 2, \"Count Partially False Tweets\": 1}, {\"emojis\": \"\\ud83d\\udcaf\", \"count\": 3, \"Count False Tweets\": 3, \"Count Partially False Tweets\": 0}, {\"emojis\": \"\\ud83c\\uddee\\ud83c\\udde9\", \"count\": 3, \"Count False Tweets\": 3, \"Count Partially False Tweets\": 0}, {\"emojis\": \"\\ud83d\\ude2d\", \"count\": 3, \"Count False Tweets\": 3, \"Count Partially False Tweets\": 0}, {\"emojis\": \"\\u25b6\", \"count\": 3, \"Count False Tweets\": 3, \"Count Partially False Tweets\": 0}, {\"emojis\": \"\\ud83d\\udcbb\", \"count\": 3, \"Count False Tweets\": 3, \"Count Partially False Tweets\": 0}, {\"emojis\": \"\\ud83d\\udc47\\ud83c\\udffb\", \"count\": 3, \"Count False Tweets\": 2, \"Count Partially False Tweets\": 1}, {\"emojis\": \"\\ud83e\\udd2c\", \"count\": 3, \"Count False Tweets\": 3, \"Count Partially False Tweets\": 0}, {\"emojis\": \"\\ud83d\\udeab\", \"count\": 3, \"Count False Tweets\": 3, \"Count Partially False Tweets\": 0}, {\"emojis\": \"\\ud83c\\udfb6\", \"count\": 2, \"Count False Tweets\": 2, \"Count Partially False Tweets\": 0}, {\"emojis\": \"\\ud83d\\ude0d\", \"count\": 2, \"Count False Tweets\": 1, \"Count Partially False Tweets\": 1}, {\"emojis\": \"\\ud83d\\udc44\", \"count\": 2, \"Count False Tweets\": 2, \"Count Partially False Tweets\": 0}, {\"emojis\": \"\\ud83d\\ude4b\", \"count\": 2, \"Count False Tweets\": 2, \"Count Partially False Tweets\": 0}, {\"emojis\": \"\\ud83c\\uddea\\ud83c\\udde8\", \"count\": 2, \"Count False Tweets\": 2, \"Count Partially False Tweets\": 0}, {\"emojis\": \"\\ud83d\\udc50\", \"count\": 2, \"Count False Tweets\": 2, \"Count Partially False Tweets\": 0}, {\"emojis\": \"\\ud83d\\udc4b\", \"count\": 2, \"Count False Tweets\": 2, \"Count Partially False Tweets\": 0}, {\"emojis\": \"\\ud83d\\udccc\", \"count\": 2, \"Count False Tweets\": 2, \"Count Partially False Tweets\": 0}, {\"emojis\": \"\\ud83d\\udc9f\", \"count\": 2, \"Count False Tweets\": 0, \"Count Partially False Tweets\": 2}, {\"emojis\": \"\\ud83c\\udf89\", \"count\": 2, \"Count False Tweets\": 2, \"Count Partially False Tweets\": 0}, {\"emojis\": \"2\\u20e3\", \"count\": 2, \"Count False Tweets\": 1, \"Count Partially False Tweets\": 1}, {\"emojis\": \"\\u3030\\ufe0f\", \"count\": 2, \"Count False Tweets\": 2, \"Count Partially False Tweets\": 0}, {\"emojis\": \"\\ud83e\\udd73\", \"count\": 2, \"Count False Tweets\": 2, \"Count Partially False Tweets\": 0}, {\"emojis\": \"\\ud83d\\udc94\", \"count\": 2, \"Count False Tweets\": 2, \"Count Partially False Tweets\": 0}, {\"emojis\": \"\\ud83c\\udde8\\ud83c\\uddfa\", \"count\": 2, \"Count False Tweets\": 2, \"Count Partially False Tweets\": 0}, {\"emojis\": \"\\ud83d\\udc4b\\ud83c\\udfff\", \"count\": 2, \"Count False Tweets\": 2, \"Count Partially False Tweets\": 0}, {\"emojis\": \"\\ud83d\\udc68\", \"count\": 2, \"Count False Tweets\": 2, \"Count Partially False Tweets\": 0}, {\"emojis\": \"\\u2695\\ufe0f\", \"count\": 2, \"Count False Tweets\": 2, \"Count Partially False Tweets\": 0}, {\"emojis\": \"\\ud83d\\ude2a\", \"count\": 2, \"Count False Tweets\": 2, \"Count Partially False Tweets\": 0}, {\"emojis\": \"\\ud83d\\ude1c\", \"count\": 2, \"Count False Tweets\": 2, \"Count Partially False Tweets\": 0}, {\"emojis\": \"\\u2139\\ufe0f\", \"count\": 2, \"Count False Tweets\": 2, \"Count Partially False Tweets\": 0}, {\"emojis\": \"\\ud83d\\ude0a\", \"count\": 2, \"Count False Tweets\": 2, \"Count Partially False Tweets\": 0}, {\"emojis\": \"\\ud83d\\ude29\", \"count\": 2, \"Count False Tweets\": 0, \"Count Partially False Tweets\": 2}, {\"emojis\": \"3\\u20e3\", \"count\": 2, \"Count False Tweets\": 2, \"Count Partially False Tweets\": 0}, {\"emojis\": \"\\ud83d\\udc49\\ud83c\\udffd\", \"count\": 2, \"Count False Tweets\": 2, \"Count Partially False Tweets\": 0}, {\"emojis\": \"\\u2b55\", \"count\": 2, \"Count False Tweets\": 2, \"Count Partially False Tweets\": 0}, {\"emojis\": \"\\ud83e\\udd26\", \"count\": 2, \"Count False Tweets\": 2, \"Count Partially False Tweets\": 0}, {\"emojis\": \"\\u2642\\ufe0f\", \"count\": 2, \"Count False Tweets\": 2, \"Count Partially False Tweets\": 0}, {\"emojis\": \"\\ud83c\\udde7\\ud83c\\uddea\", \"count\": 2, \"Count False Tweets\": 2, \"Count Partially False Tweets\": 0}, {\"emojis\": \"\\u2795\", \"count\": 2, \"Count False Tweets\": 2, \"Count Partially False Tweets\": 0}, {\"emojis\": \"\\ud83d\\udcfb\", \"count\": 2, \"Count False Tweets\": 2, \"Count Partially False Tweets\": 0}, {\"emojis\": \"\\ud83d\\udce7\", \"count\": 2, \"Count False Tweets\": 2, \"Count Partially False Tweets\": 0}, {\"emojis\": \"\\u2139\", \"count\": 2, \"Count False Tweets\": 1, \"Count Partially False Tweets\": 1}, {\"emojis\": \"\\ud83d\\udead\", \"count\": 1, \"Count False Tweets\": 0, \"Count Partially False Tweets\": 1}, {\"emojis\": \"\\ud83c\\udf21\\ufe0f\", \"count\": 1, \"Count False Tweets\": 1, \"Count Partially False Tweets\": 0}, {\"emojis\": \"\\ud83d\\udcaa\\ud83c\\udffb\", \"count\": 1, \"Count False Tweets\": 0, \"Count Partially False Tweets\": 1}, {\"emojis\": \"\\ud83d\\udc4c\", \"count\": 1, \"Count False Tweets\": 1, \"Count Partially False Tweets\": 0}, {\"emojis\": \"1\\u20e3\", \"count\": 1, \"Count False Tweets\": 0, \"Count Partially False Tweets\": 1}, {\"emojis\": \"\\ud83d\\udc4d\\ud83c\\udffb\", \"count\": 1, \"Count False Tweets\": 1, \"Count Partially False Tweets\": 0}, {\"emojis\": \"\\ud83d\\udc47\\ud83c\\udffc\", \"count\": 1, \"Count False Tweets\": 1, \"Count Partially False Tweets\": 0}, {\"emojis\": \"\\ud83c\\udfd4\", \"count\": 1, \"Count False Tweets\": 1, \"Count Partially False Tweets\": 0}, {\"emojis\": \"\\u2666\", \"count\": 1, \"Count False Tweets\": 1, \"Count Partially False Tweets\": 0}, {\"emojis\": \"\\ud83d\\udcc4\", \"count\": 1, \"Count False Tweets\": 1, \"Count Partially False Tweets\": 0}, {\"emojis\": \"\\u2640\\ufe0f\", \"count\": 1, \"Count False Tweets\": 1, \"Count Partially False Tweets\": 0}, {\"emojis\": \"\\ud83c\\uddf2\\ud83c\\uddfd\", \"count\": 1, \"Count False Tweets\": 1, \"Count Partially False Tweets\": 0}, {\"emojis\": \"\\ud83d\\udcf8\", \"count\": 1, \"Count False Tweets\": 1, \"Count Partially False Tweets\": 0}, {\"emojis\": \"\\ud83d\\udc47\\ud83c\\udfff\", \"count\": 1, \"Count False Tweets\": 1, \"Count Partially False Tweets\": 0}, {\"emojis\": \"\\ud83d\\ude4f\\ud83c\\udffb\", \"count\": 1, \"Count False Tweets\": 1, \"Count Partially False Tweets\": 0}, {\"emojis\": \"\\ud83d\\ude07\", \"count\": 1, \"Count False Tweets\": 0, \"Count Partially False Tweets\": 1}, {\"emojis\": \"\\ud83c\\udff4\", \"count\": 1, \"Count False Tweets\": 1, \"Count Partially False Tweets\": 0}, {\"emojis\": \"\\ud83d\\ude44\", \"count\": 1, \"Count False Tweets\": 1, \"Count Partially False Tweets\": 0}, {\"emojis\": \"\\ud83d\\udd01\", \"count\": 1, \"Count False Tweets\": 1, \"Count Partially False Tweets\": 0}, {\"emojis\": \"\\ud83c\\udfe0\", \"count\": 1, \"Count False Tweets\": 1, \"Count Partially False Tweets\": 0}, {\"emojis\": \"\\ud83d\\ude20\", \"count\": 1, \"Count False Tweets\": 1, \"Count Partially False Tweets\": 0}, {\"emojis\": \"\\ud83d\\udce1\", \"count\": 1, \"Count False Tweets\": 1, \"Count Partially False Tweets\": 0}, {\"emojis\": \"\\ud83d\\udc41\\ufe0f\", \"count\": 1, \"Count False Tweets\": 1, \"Count Partially False Tweets\": 0}, {\"emojis\": \"\\ud83e\\udde4\", \"count\": 1, \"Count False Tweets\": 1, \"Count Partially False Tweets\": 0}, {\"emojis\": \"\\ud83c\\uddf3\\ud83c\\uddec\", \"count\": 1, \"Count False Tweets\": 1, \"Count Partially False Tweets\": 0}, {\"emojis\": \"\\ud83d\\udd4c\", \"count\": 1, \"Count False Tweets\": 1, \"Count Partially False Tweets\": 0}, {\"emojis\": \"\\ud83d\\udd3b\", \"count\": 1, \"Count False Tweets\": 1, \"Count Partially False Tweets\": 0}, {\"emojis\": \"\\ud83e\\uddfc\", \"count\": 1, \"Count False Tweets\": 0, \"Count Partially False Tweets\": 1}, {\"emojis\": \"\\ud83d\\udc31\", \"count\": 1, \"Count False Tweets\": 1, \"Count Partially False Tweets\": 0}, {\"emojis\": \"\\ud83c\\uddee\\ud83c\\uddf3\", \"count\": 1, \"Count False Tweets\": 1, \"Count Partially False Tweets\": 0}, {\"emojis\": \"\\ud83e\\udd2d\", \"count\": 1, \"Count False Tweets\": 0, \"Count Partially False Tweets\": 1}, {\"emojis\": \"6\\u20e3\", \"count\": 1, \"Count False Tweets\": 1, \"Count Partially False Tweets\": 0}, {\"emojis\": \"\\ud83d\\udc36\", \"count\": 1, \"Count False Tweets\": 1, \"Count Partially False Tweets\": 0}, {\"emojis\": \"\\ud83e\\udd1e\", \"count\": 1, \"Count False Tweets\": 1, \"Count Partially False Tweets\": 0}, {\"emojis\": \"\\ud83d\\udc67\", \"count\": 1, \"Count False Tweets\": 1, \"Count Partially False Tweets\": 0}, {\"emojis\": \"\\ud83d\\udc76\\ud83c\\udffd\", \"count\": 1, \"Count False Tweets\": 1, \"Count Partially False Tweets\": 0}, {\"emojis\": \"\\ud83c\\uddf8\\ud83c\\uddf3\", \"count\": 1, \"Count False Tweets\": 1, \"Count Partially False Tweets\": 0}, {\"emojis\": \"\\ud83d\\udc95\", \"count\": 1, \"Count False Tweets\": 1, \"Count Partially False Tweets\": 0}, {\"emojis\": \"\\ud83c\\uddea\\ud83c\\uddec\", \"count\": 1, \"Count False Tweets\": 1, \"Count Partially False Tweets\": 0}, {\"emojis\": \"\\ud83c\\uddf9\\ud83c\\uddf3\", \"count\": 1, \"Count False Tweets\": 1, \"Count Partially False Tweets\": 0}, {\"emojis\": \"\\ud83e\\udd63\", \"count\": 1, \"Count False Tweets\": 0, \"Count Partially False Tweets\": 1}, {\"emojis\": \"\\u00ae\", \"count\": 1, \"Count False Tweets\": 0, \"Count Partially False Tweets\": 1}, {\"emojis\": \"\\ud83d\\udc96\", \"count\": 1, \"Count False Tweets\": 0, \"Count Partially False Tweets\": 1}, {\"emojis\": \"\\ud83e\\udd2f\", \"count\": 1, \"Count False Tweets\": 1, \"Count Partially False Tweets\": 0}, {\"emojis\": \"\\ud83d\\ude0e\", \"count\": 1, \"Count False Tweets\": 1, \"Count Partially False Tweets\": 0}, {\"emojis\": \"\\ud83c\\uddf2\\ud83c\\udde6\", \"count\": 1, \"Count False Tweets\": 1, \"Count Partially False Tweets\": 0}, {\"emojis\": \"\\ud83e\\udd24\", \"count\": 1, \"Count False Tweets\": 1, \"Count Partially False Tweets\": 0}, {\"emojis\": \"\\ud83d\\udd14\", \"count\": 1, \"Count False Tweets\": 1, \"Count Partially False Tweets\": 0}, {\"emojis\": \"\\ud83e\\udd21\", \"count\": 1, \"Count False Tweets\": 1, \"Count Partially False Tweets\": 0}, {\"emojis\": \"\\ud83c\\udfcb\\ud83c\\udffb\", \"count\": 1, \"Count False Tweets\": 0, \"Count Partially False Tweets\": 1}, {\"emojis\": \"\\ud83d\\udc26\", \"count\": 1, \"Count False Tweets\": 1, \"Count Partially False Tweets\": 0}, {\"emojis\": \"\\ud83e\\udda7\", \"count\": 1, \"Count False Tweets\": 1, \"Count Partially False Tweets\": 0}, {\"emojis\": \"\\ud83c\\udfe5\", \"count\": 1, \"Count False Tweets\": 0, \"Count Partially False Tweets\": 1}, {\"emojis\": \"\\ud83d\\udca8\", \"count\": 1, \"Count False Tweets\": 1, \"Count Partially False Tweets\": 0}, {\"emojis\": \"\\ud83d\\ude9a\", \"count\": 1, \"Count False Tweets\": 1, \"Count Partially False Tweets\": 0}, {\"emojis\": \"\\ud83d\\ude22\", \"count\": 1, \"Count False Tweets\": 1, \"Count Partially False Tweets\": 0}, {\"emojis\": \"\\ud83c\\udf99\\ufe0f\", \"count\": 1, \"Count False Tweets\": 1, \"Count Partially False Tweets\": 0}, {\"emojis\": \"\\ud83c\\uddee\\ud83c\\uddf7\", \"count\": 1, \"Count False Tweets\": 1, \"Count Partially False Tweets\": 0}, {\"emojis\": \"\\u2049\\ufe0f\", \"count\": 1, \"Count False Tweets\": 1, \"Count Partially False Tweets\": 0}, {\"emojis\": \"\\ud83d\\udd26\", \"count\": 1, \"Count False Tweets\": 1, \"Count Partially False Tweets\": 0}, {\"emojis\": \"\\ud83e\\uddd0\", \"count\": 1, \"Count False Tweets\": 0, \"Count Partially False Tweets\": 1}, {\"emojis\": \"\\u270a\\ud83c\\udffd\", \"count\": 1, \"Count False Tweets\": 1, \"Count Partially False Tweets\": 0}, {\"emojis\": \"\\ud83c\\uddf7\\ud83c\\uddfa\", \"count\": 1, \"Count False Tweets\": 1, \"Count Partially False Tweets\": 0}, {\"emojis\": \"\\ud83c\\uddec\\ud83c\\udde7\", \"count\": 1, \"Count False Tweets\": 1, \"Count Partially False Tweets\": 0}, {\"emojis\": \"\\ud83c\\uddeb\\ud83c\\uddf7\", \"count\": 1, \"Count False Tweets\": 1, \"Count Partially False Tweets\": 0}, {\"emojis\": \"\\ud83c\\udfdb\\ufe0f\", \"count\": 1, \"Count False Tweets\": 1, \"Count Partially False Tweets\": 0}, {\"emojis\": \"\\u2935\", \"count\": 1, \"Count False Tweets\": 1, \"Count Partially False Tweets\": 0}, {\"emojis\": \"\\ud83e\\udd17\", \"count\": 1, \"Count False Tweets\": 1, \"Count Partially False Tweets\": 0}, {\"emojis\": \"\\ud83c\\uddea\\ud83c\\uddfa\", \"count\": 1, \"Count False Tweets\": 1, \"Count Partially False Tweets\": 0}, {\"emojis\": \"\\ud83c\\uddfb\\ud83c\\uddf3\", \"count\": 1, \"Count False Tweets\": 1, \"Count Partially False Tweets\": 0}, {\"emojis\": \"\\ud83c\\uddf9\\ud83c\\uddfb\", \"count\": 1, \"Count False Tweets\": 1, \"Count Partially False Tweets\": 0}, {\"emojis\": \"\\ud83c\\udde7\\ud83c\\uddf9\", \"count\": 1, \"Count False Tweets\": 1, \"Count Partially False Tweets\": 0}, {\"emojis\": \"\\ud83c\\uddf5\\ud83c\\uddfe\", \"count\": 1, \"Count False Tweets\": 1, \"Count Partially False Tweets\": 0}, {\"emojis\": \"\\ud83c\\udde8\\ud83c\\uddf4\", \"count\": 1, \"Count False Tweets\": 1, \"Count Partially False Tweets\": 0}, {\"emojis\": \"\\ud83d\\udd35\", \"count\": 1, \"Count False Tweets\": 1, \"Count Partially False Tweets\": 0}, {\"emojis\": \"\\ud83d\\uddd3\", \"count\": 1, \"Count False Tweets\": 0, \"Count Partially False Tweets\": 1}, {\"emojis\": \"\\ud83d\\ude4c\\ud83c\\udffc\", \"count\": 1, \"Count False Tweets\": 1, \"Count Partially False Tweets\": 0}, {\"emojis\": \"\\ud83d\\udc49\\ud83c\\udffe\", \"count\": 1, \"Count False Tweets\": 1, \"Count Partially False Tweets\": 0}, {\"emojis\": \"\\ud83c\\udde7\\ud83c\\uddee\", \"count\": 1, \"Count False Tweets\": 1, \"Count Partially False Tweets\": 0}, {\"emojis\": \"\\ud83c\\udf96\\ufe0f\", \"count\": 1, \"Count False Tweets\": 1, \"Count Partially False Tweets\": 0}, {\"emojis\": \"\\ud83c\\udfc5\", \"count\": 1, \"Count False Tweets\": 1, \"Count Partially False Tweets\": 0}, {\"emojis\": \"\\ud83d\\ude81\", \"count\": 1, \"Count False Tweets\": 1, \"Count Partially False Tweets\": 0}, {\"emojis\": \"\\ud83e\\udd27\", \"count\": 1, \"Count False Tweets\": 0, \"Count Partially False Tweets\": 1}, {\"emojis\": \"\\ud83c\\uddf5\\ud83c\\uddf0\", \"count\": 1, \"Count False Tweets\": 1, \"Count Partially False Tweets\": 0}, {\"emojis\": \"\\u2935\\ufe0f\", \"count\": 1, \"Count False Tweets\": 1, \"Count Partially False Tweets\": 0}, {\"emojis\": \"\\ud83d\\ude48\", \"count\": 1, \"Count False Tweets\": 1, \"Count Partially False Tweets\": 0}, {\"emojis\": \"\\ud83d\\udc76\", \"count\": 1, \"Count False Tweets\": 1, \"Count Partially False Tweets\": 0}, {\"emojis\": \"\\ud83d\\udcac\", \"count\": 1, \"Count False Tweets\": 0, \"Count Partially False Tweets\": 1}, {\"emojis\": \"\\ud83c\\uddf3\\ud83c\\uddf4\", \"count\": 1, \"Count False Tweets\": 1, \"Count Partially False Tweets\": 0}, {\"emojis\": \"\\ud83d\\udc43\", \"count\": 1, \"Count False Tweets\": 1, \"Count Partially False Tweets\": 0}, {\"emojis\": \"\\ud83d\\udde3\", \"count\": 1, \"Count False Tweets\": 1, \"Count Partially False Tweets\": 0}, {\"emojis\": \"\\ud83e\\uddd4\\ud83c\\udffb\", \"count\": 1, \"Count False Tweets\": 1, \"Count Partially False Tweets\": 0}, {\"emojis\": \"\\ud83d\\ude4a\", \"count\": 1, \"Count False Tweets\": 1, \"Count Partially False Tweets\": 0}, {\"emojis\": \"\\ud83c\\udde9\\ud83c\\uddea\", \"count\": 1, \"Count False Tweets\": 1, \"Count Partially False Tweets\": 0}, {\"emojis\": \"\\ud83d\\ude49\", \"count\": 1, \"Count False Tweets\": 1, \"Count Partially False Tweets\": 0}, {\"emojis\": \"\\ud83d\\udc4f\\ud83c\\udffc\", \"count\": 1, \"Count False Tweets\": 1, \"Count Partially False Tweets\": 0}, {\"emojis\": \"\\ud83d\\udcf1\", \"count\": 1, \"Count False Tweets\": 1, \"Count Partially False Tweets\": 0}, {\"emojis\": \"\\ud83c\\uddf5\\ud83c\\uddea\", \"count\": 1, \"Count False Tweets\": 1, \"Count Partially False Tweets\": 0}, {\"emojis\": \"\\ud83c\\udf6f\", \"count\": 1, \"Count False Tweets\": 1, \"Count Partially False Tweets\": 0}, {\"emojis\": \"\\u2623\\ufe0f\", \"count\": 1, \"Count False Tweets\": 1, \"Count Partially False Tweets\": 0}, {\"emojis\": \"\\ud83d\\ude0f\", \"count\": 1, \"Count False Tweets\": 1, \"Count Partially False Tweets\": 0}, {\"emojis\": \"\\u26b0\\ufe0f\", \"count\": 1, \"Count False Tweets\": 0, \"Count Partially False Tweets\": 1}, {\"emojis\": \"\\ud83d\\ude03\", \"count\": 1, \"Count False Tweets\": 1, \"Count Partially False Tweets\": 0}, {\"emojis\": \"\\ud83d\\udde3\\ufe0f\", \"count\": 1, \"Count False Tweets\": 1, \"Count Partially False Tweets\": 0}, {\"emojis\": \"\\ud83d\\udcf7\", \"count\": 1, \"Count False Tweets\": 1, \"Count Partially False Tweets\": 0}, {\"emojis\": \"\\ud83d\\udc4d\", \"count\": 1, \"Count False Tweets\": 1, \"Count Partially False Tweets\": 0}, {\"emojis\": \"\\ud83d\\udda5\\ufe0f\", \"count\": 1, \"Count False Tweets\": 1, \"Count Partially False Tweets\": 0}, {\"emojis\": \"\\ud83d\\udc64\", \"count\": 1, \"Count False Tweets\": 1, \"Count Partially False Tweets\": 0}, {\"emojis\": \"\\u2764\\ufe0f\", \"count\": 0, \"Count False Tweets\": 0, \"Count Partially False Tweets\": 0}, {\"emojis\": \"\\ud83c\\udf0d\", \"count\": 0, \"Count False Tweets\": 0, \"Count Partially False Tweets\": 0}, {\"emojis\": \"\\ud83d\\ude0d\", \"count\": 0, \"Count False Tweets\": 0, \"Count Partially False Tweets\": 0}, {\"emojis\": \"\\ud83d\\ude4f\", \"count\": 0, \"Count False Tweets\": 0, \"Count Partially False Tweets\": 0}, {\"emojis\": \"\\u274c\", \"count\": 0, \"Count False Tweets\": 0, \"Count Partially False Tweets\": 0}, {\"emojis\": \"\\u2705\", \"count\": 0, \"Count False Tweets\": 0, \"Count Partially False Tweets\": 0}, {\"emojis\": \"\\u23f0\", \"count\": 0, \"Count False Tweets\": 0, \"Count Partially False Tweets\": 0}, {\"emojis\": \"\\ud83d\\udc47\\ud83c\\udffb\", \"count\": 0, \"Count False Tweets\": 0, \"Count Partially False Tweets\": 0}, {\"emojis\": \"2\\u20e3\", \"count\": 0, \"Count False Tweets\": 0, \"Count Partially False Tweets\": 0}, {\"emojis\": \"\\ud83d\\udc47\\ud83c\\udffd\", \"count\": 0, \"Count False Tweets\": 0, \"Count Partially False Tweets\": 0}, {\"emojis\": \"\\ud83d\\udea8\", \"count\": 0, \"Count False Tweets\": 0, \"Count Partially False Tweets\": 0}, {\"emojis\": \"\\ud83c\\uddee\\ud83c\\uddf9\", \"count\": 0, \"Count False Tweets\": 0, \"Count Partially False Tweets\": 0}, {\"emojis\": \"\\ud83d\\udd34\", \"count\": 0, \"Count False Tweets\": 0, \"Count Partially False Tweets\": 0}, {\"emojis\": \"\\ud83c\\udde8\\ud83c\\uddf3\", \"count\": 0, \"Count False Tweets\": 0, \"Count Partially False Tweets\": 0}, {\"emojis\": \"\\ud83d\\udcfa\", \"count\": 0, \"Count False Tweets\": 0, \"Count Partially False Tweets\": 0}, {\"emojis\": \"\\u27a1\", \"count\": 0, \"Count False Tweets\": 0, \"Count Partially False Tweets\": 0}, {\"emojis\": \"\\ud83e\\udd14\", \"count\": 0, \"Count False Tweets\": 0, \"Count Partially False Tweets\": 0}, {\"emojis\": \"\\ud83d\\udcaa\", \"count\": 0, \"Count False Tweets\": 0, \"Count Partially False Tweets\": 0}, {\"emojis\": \"\\u25b6\\ufe0f\", \"count\": 0, \"Count False Tweets\": 0, \"Count Partially False Tweets\": 0}, {\"emojis\": \"\\ud83c\\uddfa\\ud83c\\uddf8\", \"count\": 0, \"Count False Tweets\": 0, \"Count Partially False Tweets\": 0}, {\"emojis\": \"\\ud83d\\udd0a\", \"count\": 0, \"Count False Tweets\": 0, \"Count Partially False Tweets\": 0}, {\"emojis\": \"\\u2139\", \"count\": 0, \"Count False Tweets\": 0, \"Count Partially False Tweets\": 0}, {\"emojis\": \"\\ud83d\\udc47\", \"count\": 0, \"Count False Tweets\": 0, \"Count Partially False Tweets\": 0}]}}, {\"mode\": \"vega-lite\"});\n",
       "</script>"
      ],
      "text/plain": [
       "alt.Chart(...)"
      ]
     },
     "execution_count": 6,
     "metadata": {},
     "output_type": "execute_result"
    }
   ],
   "source": [
    "bars = alt.Chart(df).transform_fold(\n",
    "    ['Count False Tweets', 'Count Partially False Tweets'],\n",
    ").mark_bar().encode(\n",
    "    x=alt.X('value:Q'),\n",
    "    y=alt.Y('emojis:N'),\n",
    "    color=alt.Color('key:N')\n",
    ").transform_filter(\n",
    "    alt.FieldRangePredicate(field='count', range=[5, 26])\n",
    ").properties(title=\"The most frequent emojis in tweets classified by category (False, Partually False)\",width=800)\n",
    "\n",
    "\n",
    "bars"
   ]
  },
  {
   "cell_type": "code",
   "execution_count": null,
   "id": "complicated-subdivision",
   "metadata": {},
   "outputs": [],
   "source": []
  }
 ],
 "metadata": {
  "kernelspec": {
   "display_name": "Python 3",
   "language": "python",
   "name": "python3"
  },
  "language_info": {
   "codemirror_mode": {
    "name": "ipython",
    "version": 3
   },
   "file_extension": ".py",
   "mimetype": "text/x-python",
   "name": "python",
   "nbconvert_exporter": "python",
   "pygments_lexer": "ipython3",
   "version": "3.9.2"
  }
 },
 "nbformat": 4,
 "nbformat_minor": 5
}

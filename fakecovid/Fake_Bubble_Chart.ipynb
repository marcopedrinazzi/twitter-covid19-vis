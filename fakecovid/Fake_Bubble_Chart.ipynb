{
 "cells": [
  {
   "cell_type": "markdown",
   "id": "clear-output",
   "metadata": {},
   "source": [
    "# Bubble Chart - Fake Covid-19 Dataset"
   ]
  },
  {
   "cell_type": "markdown",
   "id": "lonely-coverage",
   "metadata": {},
   "source": [
    "### fake_bubble_chart.py"
   ]
  },
  {
   "cell_type": "markdown",
   "id": "polish-backing",
   "metadata": {},
   "source": [
    "In order to create the bubble chart, we need the following packages:"
   ]
  },
  {
   "cell_type": "code",
   "execution_count": 1,
   "id": "everyday-express",
   "metadata": {},
   "outputs": [],
   "source": [
    "import pandas as pd\n",
    "import json\n",
    "from dateutil.parser import parse\n",
    "import plotly.express as px"
   ]
  },
  {
   "cell_type": "markdown",
   "id": "otherwise-occasion",
   "metadata": {},
   "source": [
    "To read the JSON file that has all the tweets, it is necessary to do:"
   ]
  },
  {
   "cell_type": "code",
   "execution_count": 2,
   "id": "threaded-swaziland",
   "metadata": {},
   "outputs": [],
   "source": [
    "data = []\n",
    "with open('dataset/fakecovid_result_final_translated_full.json', 'r') as f:\n",
    "    for line in f:\n",
    "        data.append(json.loads(line))"
   ]
  },
  {
   "cell_type": "markdown",
   "id": "sexual-tulsa",
   "metadata": {},
   "source": [
    "We're interested in the user account fields:"
   ]
  },
  {
   "cell_type": "code",
   "execution_count": 3,
   "id": "activated-signature",
   "metadata": {},
   "outputs": [],
   "source": [
    "index = 0\n",
    "names= []\n",
    "usernames = []\n",
    "followers = []\n",
    "following = []\n",
    "ages = []\n",
    "likes = []\n",
    "verified = []\n",
    "\n",
    "for element in data:\n",
    "    #name\n",
    "    name = data[index]['user']['name']\n",
    "    names.append(name)\n",
    "\n",
    "    #screen_name (username)\n",
    "    user = data[index]['user']['screen_name']\n",
    "    usernames.append(\"@\"+user)\n",
    "\n",
    "    #followers_count\n",
    "    follower = data[index]['user']['followers_count']\n",
    "    followers.append(follower)\n",
    "\n",
    "    #friends_count\n",
    "    friend = data[index]['user']['friends_count']\n",
    "    following.append(friend)\n",
    "\n",
    "    #created_at\n",
    "    age = data[index]['user']['created_at']\n",
    "    d = parse(age)\n",
    "    d = d.strftime('%Y/%m/%d')\n",
    "    ages.append(d)\n",
    "    \n",
    "    #favourites_count\n",
    "    like = data[index]['user']['favourites_count']\n",
    "    likes.append(like)\n",
    "\n",
    "    #verified\n",
    "    v = data[index]['user']['verified']\n",
    "    #verified.append(v)\n",
    "    \n",
    "    if v:\n",
    "       verified.append(\"Verified\")\n",
    "    else:\n",
    "       verified.append(\"Not Verified\")\n",
    "    \n",
    "                        \n",
    "    index=index+1"
   ]
  },
  {
   "cell_type": "markdown",
   "id": "sapphire-admission",
   "metadata": {},
   "source": [
    "We create the DataFrame which will be used to realize the chart:"
   ]
  },
  {
   "cell_type": "code",
   "execution_count": 4,
   "id": "published-packet",
   "metadata": {},
   "outputs": [],
   "source": [
    "df = pd.DataFrame(\n",
    "    {'Name': names,\n",
    "     'Username': usernames,\n",
    "     'Account age': ages,\n",
    "     'Verified': verified,\n",
    "     'Followers count': followers,\n",
    "     'Friends count': following,\n",
    "     'Likes count': likes\n",
    "    })\n",
    "df['Account age']= pd.to_datetime(df['Account age'])"
   ]
  },
  {
   "cell_type": "markdown",
   "id": "photographic-bidder",
   "metadata": {},
   "source": [
    "The bubble chart is created:"
   ]
  },
  {
   "cell_type": "code",
   "execution_count": null,
   "id": "bridal-locator",
   "metadata": {
    "scrolled": false
   },
   "outputs": [],
   "source": [
    "fig = px.scatter(df, hover_data=['Name','Username','Likes count','Friends count'],\n",
    "                 x=\"Account age\", y=\"Followers count\",\n",
    "                 size='Likes count',\n",
    "                 color=\"Verified\",\n",
    "                 title=\"Popularity of account - Fake Covid-19 dataset\",\n",
    "                 labels={\"Verified\": \"Type of account\"}\n",
    "                )\n",
    "\n",
    "fig.update_traces(marker=dict(opacity=0.8,line=dict(width=1,\n",
    "                              color='DarkSlateGrey')),\n",
    "                              selector=dict(mode='markers'))\n",
    "\n",
    "fig.update_xaxes(ticks=\"outside\", tickwidth=2, tickcolor='crimson', ticklen=10)\n",
    "fig.update_yaxes(ticks=\"outside\", tickwidth=2, tickcolor='crimson', ticklen=10)\n",
    "\n",
    "fig.update_yaxes(fixedrange=True)\n",
    "\n",
    "\n",
    "fig.show()"
   ]
  }
 ],
 "metadata": {
  "kernelspec": {
   "display_name": "Python 3",
   "language": "python",
   "name": "python3"
  },
  "language_info": {
   "codemirror_mode": {
    "name": "ipython",
    "version": 3
   },
   "file_extension": ".py",
   "mimetype": "text/x-python",
   "name": "python",
   "nbconvert_exporter": "python",
   "pygments_lexer": "ipython3",
   "version": "3.9.2"
  }
 },
 "nbformat": 4,
 "nbformat_minor": 5
}

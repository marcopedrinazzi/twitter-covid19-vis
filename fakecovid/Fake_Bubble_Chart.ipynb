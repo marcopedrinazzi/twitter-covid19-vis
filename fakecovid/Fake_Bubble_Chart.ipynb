{
 "cells": [
  {
   "cell_type": "markdown",
   "id": "clear-output",
   "metadata": {},
   "source": [
    "# Bubble Chart - Fake Covid-19 Dataset"
   ]
  },
  {
   "cell_type": "markdown",
   "id": "lonely-coverage",
   "metadata": {},
   "source": [
    "### fake_bubble_chart.py"
   ]
  },
  {
   "cell_type": "markdown",
   "id": "polish-backing",
   "metadata": {},
   "source": [
    "In order to create the bubble chart, we need the following packages:"
   ]
  },
  {
   "cell_type": "code",
   "execution_count": 27,
   "id": "everyday-express",
   "metadata": {},
   "outputs": [],
   "source": [
    "import pandas as pd\n",
    "import json\n",
    "from dateutil.parser import parse\n",
    "import plotly.express as px\n",
    "import csv\n",
    "import itertools\n",
    "from dateutil.parser import parse"
   ]
  },
  {
   "cell_type": "markdown",
   "id": "otherwise-occasion",
   "metadata": {},
   "source": [
    "To read the JSON file that has all the tweets, it is necessary to do:"
   ]
  },
  {
   "cell_type": "code",
   "execution_count": 28,
   "id": "threaded-swaziland",
   "metadata": {},
   "outputs": [],
   "source": [
    "csv_dataframe = pd.read_csv('dataset/FINAL_fakecovid_final_filtered_dataset_clean.csv',sep=\";\")\n",
    "csv_dataframe['tweet_id'] = csv_dataframe['tweet_id'].astype(str)\n",
    "csv_list = csv_dataframe.values.tolist()\n",
    "lista_unica_csv=list(itertools.chain.from_iterable(csv_list))\n",
    "\n",
    "data = []\n",
    "with open('dataset/fakecovid_result_final_translated_full.json', 'r') as f:\n",
    "    for line in f:\n",
    "        data.append(json.loads(line))"
   ]
  },
  {
   "cell_type": "markdown",
   "id": "sexual-tulsa",
   "metadata": {},
   "source": [
    "We're interested in the user account fields:"
   ]
  },
  {
   "cell_type": "code",
   "execution_count": 29,
   "id": "activated-signature",
   "metadata": {},
   "outputs": [],
   "source": [
    "index = 0\n",
    "names= []\n",
    "usernames = []\n",
    "followers = []\n",
    "following = []\n",
    "ages = []\n",
    "likes = []\n",
    "verified = []\n",
    "category = []\n",
    "retweets = []\n",
    "dates = []\n",
    "\n",
    "for element in data:\n",
    "    #name\n",
    "    name = data[index]['user']['name']\n",
    "    names.append(name)\n",
    "\n",
    "    #screen_name (username)\n",
    "    user = data[index]['user']['screen_name']\n",
    "    usernames.append(\"@\"+user)\n",
    "\n",
    "    #followers_count\n",
    "    follower = data[index]['user']['followers_count']\n",
    "    followers.append(follower)\n",
    "\n",
    "    #friends_count\n",
    "    friend = data[index]['user']['friends_count']\n",
    "    following.append(friend)\n",
    "\n",
    "    #created_at\n",
    "    age = data[index]['user']['created_at']\n",
    "    d = parse(age)\n",
    "    d = d.strftime('%Y/%m/%d')\n",
    "    ages.append(d)\n",
    "    \n",
    "    #favorites_count\n",
    "    like = data[index]['favorite_count']\n",
    "    likes.append(like)\n",
    "    \n",
    "    #retweet_count\n",
    "    rt = data[index]['retweet_count']\n",
    "    retweets.append(rt)\n",
    "    \n",
    "    #verified\n",
    "    v = data[index]['user']['verified']\n",
    "    #verified.append(v)\n",
    "    \n",
    "    if v:\n",
    "       verified.append(\"Verified\")\n",
    "    else:\n",
    "       verified.append(\"Not Verified\")\n",
    "    \n",
    "    token_id = data[index]['id_str']\n",
    "    indice_csv = lista_unica_csv.index(token_id)\n",
    "    category.append(lista_unica_csv[indice_csv+1].lower())\n",
    "    \n",
    "    token = data[index]['created_at']\n",
    "    d = parse(token)\n",
    "    d = d.strftime('%Y/%m/%d')\n",
    "    dates.append(d)\n",
    "                        \n",
    "    index=index+1"
   ]
  },
  {
   "cell_type": "markdown",
   "id": "sapphire-admission",
   "metadata": {},
   "source": [
    "We create the DataFrames which will be used to realize the chart, one for the tweets likes count and one for the tweet retweets count:"
   ]
  },
  {
   "cell_type": "code",
   "execution_count": 41,
   "id": "published-packet",
   "metadata": {},
   "outputs": [],
   "source": [
    "df = pd.DataFrame(\n",
    "    {'Name': names,\n",
    "     'Username': usernames,\n",
    "     'Account created on': ages,\n",
    "     'Verified': verified,\n",
    "     'Followers count': followers,\n",
    "     'Friends count': following,\n",
    "     'Tweet Likes count': likes,\n",
    "     'Category': category,\n",
    "     'Date':dates\n",
    "    })\n",
    "df['Date']= pd.to_datetime(df['Date'])\n",
    "\n",
    "df_rt = pd.DataFrame(\n",
    "    {'Name': names,\n",
    "     'Username': usernames,\n",
    "     'Account created on': ages,\n",
    "     'Verified': verified,\n",
    "     'Followers count': followers,\n",
    "     'Friends count': following,\n",
    "     'Tweet Retweets count': retweets,\n",
    "     'Category': category,\n",
    "     'Date':dates\n",
    "    })\n",
    "df_rt['Date']= pd.to_datetime(df_rt['Date'])"
   ]
  },
  {
   "cell_type": "markdown",
   "id": "photographic-bidder",
   "metadata": {},
   "source": [
    "The bubble chart is created:"
   ]
  },
  {
   "cell_type": "code",
   "execution_count": 42,
   "id": "bridal-locator",
   "metadata": {
    "scrolled": false
   },
   "outputs": [
    {
     "data": {
      "application/vnd.plotly.v1+json": {
       "config": {
        "plotlyServerURL": "https://plot.ly"
       },
       "data": [
        {
         "customdata": [
          [
           "World Health Organization (WHO)",
           "@WHO",
           411,
           1734,
           "2008/04/23"
          ],
          [
           "World Health Organization (WHO)",
           "@WHO",
           930,
           1734,
           "2008/04/23"
          ],
          [
           "World Health Organization (WHO)",
           "@WHO",
           8295,
           1734,
           "2008/04/23"
          ],
          [
           "Tedros Adhanom Ghebreyesus",
           "@DrTedros",
           1671,
           1206,
           "2010/09/12"
          ],
          [
           "Tedros Adhanom Ghebreyesus",
           "@DrTedros",
           117,
           1206,
           "2010/09/12"
          ],
          [
           "World Health Organization (WHO)",
           "@WHO",
           3054,
           1734,
           "2008/04/23"
          ],
          [
           "Tedros Adhanom Ghebreyesus",
           "@DrTedros",
           12909,
           1206,
           "2010/09/12"
          ],
          [
           "Catherine Herridge",
           "@CBS_Herridge",
           865,
           22,
           "2019/11/18"
          ],
          [
           "Muhammad Lila",
           "@MuhammadLila",
           536,
           1111,
           "2009/03/23"
          ],
          [
           "Icahn School of Medicine at Mount Sinai",
           "@IcahnMountSinai",
           25,
           1329,
           "2013/03/14"
          ],
          [
           "Bill Gates",
           "@BillGates",
           370205,
           276,
           "2009/06/24"
          ],
          [
           "TRS Party",
           "@trspartyonline",
           425,
           96,
           "2014/03/06"
          ],
          [
           "Sukhoi Su-57 Felon 🇷🇺🇮🇳",
           "@I30mki",
           195,
           318,
           "2018/06/30"
          ],
          [
           "Scott Bauer",
           "@sbauerAP",
           621,
           4750,
           "2009/04/03"
          ],
          [
           "Scott Bauer",
           "@sbauerAP",
           92,
           4750,
           "2009/04/03"
          ],
          [
           "Edouard Philippe",
           "@EPhilippe_LH",
           3031,
           1021,
           "2013/01/22"
          ],
          [
           "Wizara ya Afya Tanzania",
           "@wizara_afyatz",
           242,
           59,
           "2015/02/19"
          ],
          [
           "MALDITO BULO",
           "@malditobulo",
           28,
           11,
           "2016/11/30"
          ],
          [
           "First India",
           "@thefirstindia",
           0,
           225,
           "2019/04/04"
          ],
          [
           "Marin Driguez",
           "@Marindriguez",
           633,
           111,
           "2012/01/20"
          ],
          [
           "L'infirmier 💙",
           "@Infirmier00",
           8453,
           9547,
           "2018/12/05"
          ],
          [
           "WHO African Region",
           "@WHOAFRO",
           128,
           583,
           "2012/04/03"
          ],
          [
           "Nightline",
           "@Nightline",
           1148,
           438,
           "2009/01/29"
          ],
          [
           "Nightline",
           "@Nightline",
           1625,
           438,
           "2009/01/29"
          ],
          [
           "Juju Chang",
           "@JujuChangABC",
           3913,
           2819,
           "2009/01/13"
          ],
          [
           "Public Citizen",
           "@Public_Citizen",
           6187,
           7234,
           "2008/04/08"
          ],
          [
           "Anagha Acharya - अनघा आचार्य",
           "@AnaghaAcharya",
           26,
           1806,
           "2013/07/19"
          ],
          [
           "SegurançaSP",
           "@SegurancaSP",
           294,
           60,
           "2009/07/02"
          ],
          [
           "Polícia Militar do Estado de São Paulo",
           "@PMESP",
           3924,
           132,
           "2009/08/06"
          ],
          [
           "Emile Marzolf",
           "@emile_marzolf",
           0,
           2217,
           "2015/09/07"
          ],
          [
           "SOS Médias Burundi",
           "@SOSMediasBDI",
           26,
           357,
           "2015/05/17"
          ],
          [
           "Florida Rising",
           "@FLRising",
           0,
           2453,
           "2009/09/02"
          ],
          [
           "Florida Rising",
           "@FLRising",
           4,
           2453,
           "2009/09/02"
          ],
          [
           "TI DIRANNO CHE IL VENTO È..IL RESPIRO DI UNA DONNA",
           "@porcipolitici",
           19,
           5098,
           "2016/03/30"
          ],
          [
           "Sadhvi Shivaa",
           "@shiv_shaktii",
           41,
           572,
           "2013/10/07"
          ],
          [
           "Daddy Yankee",
           "@daddy_yankee",
           2881,
           98,
           "2009/04/29"
          ],
          [
           "Don Wanyama",
           "@nyamadon",
           779,
           943,
           "2010/08/22"
          ],
          [
           "Ashish K. Jha, MD, MPH",
           "@ashishkjha",
           3716,
           530,
           "2009/05/12"
          ],
          [
           "Maria Van Kerkhove",
           "@mvankerkhove",
           652,
           579,
           "2013/11/12"
          ],
          [
           "Maria Van Kerkhove",
           "@mvankerkhove",
           511,
           579,
           "2013/11/12"
          ],
          [
           "Maria Van Kerkhove",
           "@mvankerkhove",
           355,
           579,
           "2013/11/12"
          ],
          [
           "Dr. David Samadi, MD",
           "@drdavidsamadi",
           8570,
           3885,
           "2009/03/22"
          ],
          [
           "Jair M. Bolsonaro",
           "@jairbolsonaro",
           79869,
           550,
           "2010/03/31"
          ],
          [
           "Fernán Quirós",
           "@FernanQuirosBA",
           64,
           43,
           "2020/03/16"
          ],
          [
           "Newsmax",
           "@newsmax",
           160,
           568,
           "2009/02/10"
          ],
          [
           "PIB in Assam",
           "@PIB_Guwahati",
           1,
           62,
           "2013/02/25"
          ],
          [
           "Gil Cutrim",
           "@gilcutrim",
           2,
           625,
           "2010/07/05"
          ],
          [
           "Pradeep Netha",
           "@PradeepNetha4",
           0,
           72,
           "2019/03/06"
          ],
          [
           "cristian leporati",
           "@cleporati",
           13,
           2665,
           "2009/04/13"
          ],
          [
           "𝕊𝕦𝕕𝕙𝕚𝕣 𝕜 𝕣𝕒𝕛",
           "@sudhirkraj",
           0,
           305,
           "2013/05/01"
          ],
          [
           "Wilker Vasconcelos",
           "@wilkergv",
           2,
           172,
           "2012/10/04"
          ],
          [
           "Ricardo Quintela",
           "@QuintelaRicardo",
           202,
           507,
           "2013/04/27"
          ],
          [
           "Alberto Fernández",
           "@alferdez",
           15084,
           7210,
           "2010/05/30"
          ],
          [
           "Alberto Fernández",
           "@alferdez",
           3397,
           7210,
           "2010/05/30"
          ],
          [
           "wandrelvision",
           "@ttrichechus",
           361,
           656,
           "2013/05/10"
          ],
          [
           "Ahmad A. Majeed",
           "@alshoushah",
           0,
           2536,
           "2011/02/01"
          ],
          [
           "#NOUR_Al_ain1",
           "@nouralain117",
           28,
           1565,
           "2016/06/26"
          ],
          [
           "Madiha Abid Ali",
           "@MadihaAbidAli",
           45,
           741,
           "2011/03/24"
          ],
          [
           "Jair M. Bolsonaro",
           "@jairbolsonaro",
           47361,
           550,
           "2010/03/31"
          ],
          [
           "Joice Hasselmann",
           "@joicehasselmann",
           16996,
           219,
           "2010/02/22"
          ],
          [
           "Nicole Baldwin, MD, FAAP",
           "@NicoleB_MD",
           1822,
           1023,
           "2012/09/28"
          ],
          [
           "Utah Public Safety",
           "@UtahDPS",
           136,
           462,
           "2009/03/18"
          ],
          [
           "Pablo Secchi 🧡",
           "@pablosecchi",
           32,
           1063,
           "2009/03/10"
          ],
          [
           "Daniel Zovatto",
           "@Zovatto55",
           26,
           1074,
           "2012/02/03"
          ],
          [
           "Daniel Zovatto",
           "@Zovatto55",
           23,
           1074,
           "2012/02/03"
          ],
          [
           "Fabricio Ballarini",
           "@FabBallarini",
           7197,
           1071,
           "2012/05/29"
          ],
          [
           "Mark Lewis",
           "@marklewismd",
           1560,
           33026,
           "2012/09/06"
          ],
          [
           "BharatBiotech",
           "@BharatBiotech",
           1412,
           516,
           "2014/06/27"
          ],
          [
           "Jorge Ivan Ospina",
           "@JorgeIvanOspina",
           17,
           662,
           "2010/05/11"
          ],
          [
           "Consciousness Rising",
           "@conciousness777",
           127,
           989,
           "2017/06/10"
          ],
          [
           "World Health Organization (WHO)",
           "@WHO",
           4907,
           1734,
           "2008/04/23"
          ],
          [
           "The View",
           "@TheView",
           335,
           1683,
           "2009/02/19"
          ],
          [
           "Christophe Fraser 💙",
           "@ChristoPhraser",
           640,
           781,
           "2014/03/24"
          ],
          [
           "World Health Organization (WHO)",
           "@WHO",
           8352,
           1734,
           "2008/04/23"
          ],
          [
           "GMA News",
           "@gmanews",
           1186,
           696,
           "2009/05/12"
          ],
          [
           "Instituto Nacional de Salud",
           "@INSColombia",
           6,
           896,
           "2010/06/04"
          ],
          [
           "Abhishek Dubey",
           "@advabhishekbjp",
           1795,
           1857,
           "2015/09/13"
          ],
          [
           "João Doria",
           "@jdoriajr",
           444,
           371,
           "2009/08/11"
          ],
          [
           "Instituto Nacional de Salud",
           "@INSColombia",
           316,
           896,
           "2010/06/04"
          ],
          [
           "DeshGujarat",
           "@DeshGujarat",
           214,
           147,
           "2009/05/29"
          ],
          [
           "Santiago Valencia G.",
           "@sanvalgo",
           7,
           2708,
           "2009/11/30"
          ],
          [
           "Benjamin Ferran",
           "@benjaminferran",
           2,
           766,
           "2007/03/13"
          ],
          [
           "Dubai Media Office",
           "@DXBMediaOffice",
           202,
           168,
           "2009/05/04"
          ],
          [
           "Wizara ya Afya Tanzania",
           "@wizara_afyatz",
           185,
           59,
           "2015/02/19"
          ],
          [
           "alpha j alpha",
           "@alphajohnalpha1",
           17360,
           48,
           "2018/04/13"
          ],
          [
           "CBIC",
           "@cbic_india",
           1020,
           170,
           "2015/07/22"
          ],
          [
           "Pablo Sánchez",
           "@PauMatalap",
           755,
           6746,
           "2011/04/23"
          ],
          [
           "Lia Tadesse",
           "@lia_tadesse",
           301,
           695,
           "2014/10/17"
          ],
          [
           "Lia Tadesse",
           "@lia_tadesse",
           236,
           695,
           "2014/10/17"
          ],
          [
           "LouDeFrogg",
           "@LouDeFrogg",
           1,
           2382,
           "2014/11/22"
          ],
          [
           "PUCE",
           "@PUCE_Ecuador",
           222,
           6546,
           "2009/08/14"
          ],
          [
           "NHKニュース",
           "@nhk_news",
           165,
           20,
           "2010/10/18"
          ],
          [
           "Edmundo Bal",
           "@BalEdmundo",
           1226,
           187,
           "2019/02/23"
          ],
          [
           "Kevin Sorbo",
           "@ksorbs",
           6475,
           314,
           "2009/04/20"
          ],
          [
           "Marcio Americo",
           "@eumarcioamerico",
           218,
           547,
           "2009/04/30"
          ],
          [
           "Arthur Weintraub",
           "@ArthurWeint",
           21148,
           771,
           "2018/12/16"
          ],
          [
           "EMCALI 🇨🇴",
           "@EMCALIoficial",
           17,
           1161,
           "2012/01/03"
          ],
          [
           "Dinesh D'Souza",
           "@DineshDSouza",
           32855,
           5351,
           "2009/11/22"
          ],
          [
           "Dinesh D'Souza",
           "@DineshDSouza",
           241,
           5351,
           "2009/11/22"
          ],
          [
           "Sophie Wilmès",
           "@Sophie_Wilmes",
           395,
           1030,
           "2012/03/06"
          ],
          [
           "Tom Van Grieken",
           "@tomvangrieken",
           8170,
           1437,
           "2010/05/19"
          ],
          [
           "Partido Popular",
           "@populares",
           449,
           5299,
           "2009/02/10"
          ],
          [
           "Alicia erazo",
           "@ALICIAERAZO",
           104,
           348,
           "2012/08/17"
          ],
          [
           "Tedros Adhanom Ghebreyesus",
           "@DrTedros",
           2326,
           1206,
           "2010/09/12"
          ],
          [
           "Ministry of Health",
           "@MOH_Kenya",
           32,
           661,
           "2016/02/02"
          ],
          [
           "Lula",
           "@LulaOficial",
           64628,
           2406,
           "2014/07/22"
          ],
          [
           "Andry Rajoelina",
           "@SE_Rajoelina",
           1839,
           199,
           "2018/04/02"
          ],
          [
           "juansmithalvarez",
           "@juansmithalvar1",
           2,
           109,
           "2019/12/16"
          ],
          [
           "José L. Morales T.",
           "@JLMT65",
           6,
           7110,
           "2016/05/26"
          ],
          [
           "José Luis Martínez-Almeida",
           "@AlmeidaPP_",
           8666,
           1777,
           "2012/09/03"
          ],
          [
           "GEN",
           "@SomosGEN",
           3,
           74,
           "2017/06/13"
          ],
          [
           "Alfredo Perdiguero M. 🇪🇸",
           "@PerdigueroSIPEp",
           69,
           866,
           "2017/01/02"
          ],
          [
           "Ministerio de Sanidad",
           "@sanidadgob",
           298,
           689,
           "2010/12/30"
          ],
          [
           "Raquel Blasco",
           "@RaquelBlascoR",
           84,
           798,
           "2011/03/10"
          ],
          [
           "Juan Manzur",
           "@JuanManzurOK",
           266,
           257,
           "2015/05/15"
          ],
          [
           "Ministère de la Santé Publique Burundi(MSPLS)",
           "@mspls_bdi",
           76,
           24,
           "2019/04/17"
          ],
          [
           "SP Chhindwara",
           "@ChhindwaraPoli1",
           276,
           22,
           "2019/03/11"
          ],
          [
           "Dannia Rios Nacif",
           "@Rios_Nacif",
           55,
           445,
           "2019/05/18"
          ],
          [
           "Inside Gones",
           "@InsideGones",
           447,
           62,
           "2016/01/21"
          ],
          [
           "SegurançaSP",
           "@SegurancaSP",
           528,
           60,
           "2009/07/02"
          ],
          [
           "Polícia Militar do Estado de São Paulo",
           "@PMESP",
           1639,
           132,
           "2009/08/06"
          ],
          [
           "SaludBAP",
           "@SaludBAP",
           104,
           1040,
           "2016/09/23"
          ],
          [
           "Nagaon Police",
           "@nagaonpolice",
           345,
           236,
           "2015/10/01"
          ],
          [
           "Nagaon Police",
           "@nagaonpolice",
           51,
           236,
           "2015/10/01"
          ],
          [
           "Conor Lamb",
           "@ConorLambPA",
           17666,
           518,
           "2017/04/21"
          ],
          [
           "Nagma",
           "@nagma_morarji",
           231,
           292,
           "2012/05/10"
          ],
          [
           "Corentin Béchade",
           "@corentinbechade",
           0,
           348,
           "2009/06/17"
          ],
          [
           "Elliot Alderson",
           "@fs0c131y",
           131,
           3792,
           "2015/06/10"
          ],
          [
           "Kellen Squire",
           "@SquireForYou",
           41288,
           752,
           "2016/12/05"
          ],
          [
           "LCP",
           "@LCP",
           110,
           1886,
           "2009/10/26"
          ],
          [
           "CACIF",
           "@CACIFGuatemala",
           176,
           558,
           "2010/04/19"
          ],
          [
           "Andy Slavitt 🇺🇸💉",
           "@ASlavitt",
           92752,
           999,
           "2013/04/27"
          ],
          [
           "WHO African Region",
           "@WHOAFRO",
           147,
           583,
           "2012/04/03"
          ],
          [
           "Elliot Alderson",
           "@fs0c131y",
           290,
           3792,
           "2015/06/10"
          ],
          [
           "Noticias Caracol",
           "@NoticiasCaracol",
           397,
           1135,
           "2008/12/02"
          ],
          [
           "Yoweri K Museveni",
           "@KagutaMuseveni",
           1383,
           27,
           "2010/03/27"
          ],
          [
           "Federal Ministry of Education",
           "@NigEducation",
           937,
           6,
           "2018/05/16"
          ],
          [
           "IANS Tweets",
           "@ians_india",
           35,
           45,
           "2010/05/08"
          ],
          [
           "IANS Tweets",
           "@ians_india",
           225,
           45,
           "2010/05/08"
          ],
          [
           "NewsX",
           "@NewsX",
           5487,
           229,
           "2009/03/09"
          ],
          [
           "NewsMeter",
           "@NewsMeter_In",
           5,
           26,
           "2019/07/25"
          ],
          [
           "PrensaComunitaria",
           "@PrensaComunitar",
           157,
           5829,
           "2011/02/26"
          ],
          [
           "Dolly Bindra",
           "@DollyBindra",
           86,
           306,
           "2009/05/12"
          ],
          [
           ".",
           "@WICHOCOOPER",
           0,
           59,
           "2011/03/18"
          ],
          [
           "Ashish Tiwari",
           "@TiwariKahin",
           3862,
           1626,
           "2010/04/15"
          ],
          [
           "Chaudhary Sandeep",
           "@Sandeep04CBS",
           297,
           3308,
           "2011/05/20"
          ],
          [
           "Mohamed Bouarbi",
           "@MohamedBouarby",
           9,
           273,
           "2016/07/25"
          ],
          [
           "João Doria",
           "@jdoriajr",
           2855,
           371,
           "2009/08/11"
          ],
          [
           "João Doria",
           "@jdoriajr",
           1770,
           371,
           "2009/08/11"
          ],
          [
           "Zineb 🇲🇦‎",
           "@zinub",
           2,
           990,
           "2009/06/26"
          ],
          [
           "Transparencia Col",
           "@transparenciaco",
           59,
           3367,
           "2009/05/07"
          ],
          [
           "Gretchen Whitmer",
           "@gretchenwhitmer",
           15541,
           54,
           "2019/02/07"
          ],
          [
           "Tedros Adhanom Ghebreyesus",
           "@DrTedros",
           487,
           1206,
           "2010/09/12"
          ],
          [
           "MinSaludCol",
           "@MinSaludCol",
           10211,
           814,
           "2011/09/11"
          ],
          [
           "World Health Organization (WHO)",
           "@WHO",
           8181,
           1734,
           "2008/04/23"
          ],
          [
           "Francisco Tortosa",
           "@bipancho",
           1354,
           1783,
           "2010/01/03"
          ],
          [
           "Morgan Freeman",
           "@morgan_freeman",
           251,
           32,
           "2019/12/12"
          ],
          [
           "Vaughn Hillyard",
           "@VaughnHillyard",
           4036,
           6526,
           "2009/08/25"
          ],
          [
           "Peter Burger",
           "@JPeterBurger",
           178,
           2378,
           "2013/04/11"
          ],
          [
           "Aviral Srivastava",
           "@anshpatrkaar",
           745,
           412,
           "2015/08/18"
          ],
          [
           "Morgan Freeman",
           "@morgan_freeman",
           1829,
           32,
           "2019/12/12"
          ],
          [
           "Ministerio de Relaciones Exteriores",
           "@mreparaguay",
           690,
           343,
           "2011/07/25"
          ],
          [
           "CDC",
           "@CDCgov",
           4001,
           269,
           "2010/05/21"
          ],
          [
           "PIB Fact Check",
           "@PIBFactCheck",
           1078,
           31,
           "2019/12/19"
          ],
          [
           "Presidencia Colombia 🇨🇴",
           "@infopresidencia",
           244,
           292,
           "2011/06/07"
          ],
          [
           "London Breed",
           "@LondonBreed",
           3911,
           692,
           "2014/12/12"
          ],
          [
           "Ola Rollén",
           "@OlaRollen",
           3084,
           411,
           "2012/03/05"
          ],
          [
           "Andry Rajoelina",
           "@SE_Rajoelina",
           4920,
           199,
           "2018/04/02"
          ],
          [
           "Christian Martin",
           "@askomartin",
           37234,
           1792,
           "2011/05/19"
          ],
          [
           "Carl T. Bergstrom",
           "@CT_Bergstrom",
           2816,
           2110,
           "2015/06/07"
          ],
          [
           "Agence France-Presse",
           "@afpfr",
           22,
           1327,
           "2011/07/20"
          ],
          [
           "Dubai Policeشرطة دبي",
           "@DubaiPoliceHQ",
           116,
           200,
           "2010/09/21"
          ],
          [
           "Peter Burger",
           "@JPeterBurger",
           219,
           2378,
           "2013/04/11"
          ],
          [
           "Carles Enric",
           "@carlesenric",
           5571,
           355,
           "2008/11/11"
          ],
          [
           "Henrique Mandetta",
           "@lhmandetta",
           36655,
           132,
           "2014/08/12"
          ],
          [
           "Leo Varadkar",
           "@LeoVaradkar",
           1804,
           1751,
           "2010/12/22"
          ],
          [
           "Bear Grillz",
           "@itsbeargrillz",
           1324,
           70,
           "2013/11/03"
          ],
          [
           "Alvise Pérez",
           "@Alvisepf",
           6252,
           2678,
           "2011/03/08"
          ],
          [
           "Azhar",
           "@AzharJeddah2003",
           1,
           167,
           "2012/08/24"
          ],
          [
           "Ahmad Jawad PTI",
           "@AhmadJawadBTH",
           126,
           1535,
           "2012/03/16"
          ],
          [
           "1-DSIGN.COM",
           "@reaerosadesigns",
           0,
           3,
           "2017/04/17"
          ],
          [
           "Josefina de Miguel C",
           "@josefinaIBVM",
           0,
           456,
           "2010/12/18"
          ],
          [
           "Ethiopian Public Health Institute",
           "@EPHIEthiopia",
           25,
           267,
           "2015/11/03"
          ],
          [
           "ANI",
           "@ANI",
           376,
           0,
           "2011/08/16"
          ],
          [
           "David Mack",
           "@davidmackau",
           11335,
           1664,
           "2011/05/25"
          ],
          [
           "Justin Sink",
           "@justinsink",
           960,
           1628,
           "2011/07/31"
          ],
          [
           "Matt McDermott",
           "@mattmfm",
           5913,
           1785,
           "2008/07/13"
          ],
          [
           "Ummy Mwalimu",
           "@ummymwalimu",
           2527,
           560,
           "2012/03/15"
          ],
          [
           "MinSaludCol",
           "@MinSaludCol",
           4602,
           814,
           "2011/09/11"
          ],
          [
           "OJO VALLENATO OFICIAL",
           "@EyeVallenatoo",
           278,
           101,
           "2019/01/10"
          ],
          [
           "shahid siddiqui",
           "@shahid_siddiqui",
           13,
           1707,
           "2009/09/23"
          ],
          [
           "sanjay singh",
           "@santo_tango",
           5,
           796,
           "2009/07/22"
          ],
          [
           "Ignacio  Contreras",
           "@nacho1577",
           6,
           2353,
           "2010/06/15"
          ],
          [
           "Cesare Sacchetti",
           "@CesareSacchetti",
           755,
           203,
           "2013/04/19"
          ],
          [
           "NICD",
           "@nicd_sa",
           296,
           1038,
           "2013/04/22"
          ],
          [
           "Guardia Civil 🇪🇸",
           "@guardiacivil",
           269,
           288,
           "2011/05/09"
          ],
          [
           "DCP East Delhi",
           "@DCPEastDelhi",
           33,
           350,
           "2016/02/03"
          ],
          [
           "Suresh Chavhanke “Sudarshan News”",
           "@SureshChavhanke",
           23650,
           166,
           "2010/01/11"
          ],
          [
           "Lynda May 🧚‍♀️ليندا ماي",
           "@lyguerb",
           9,
           852,
           "2016/02/21"
          ],
          [
           "Jimmy Kimmel",
           "@jimmykimmel",
           26501,
           785,
           "2009/03/23"
          ],
          [
           "Ministère de la Santé Publique Burundi(MSPLS)",
           "@mspls_bdi",
           42,
           24,
           "2019/04/17"
          ],
          [
           "Vamos a ver",
           "@VAMOSAVERorg",
           93,
           232,
           "2020/04/26"
          ],
          [
           "Bobby L. Rush",
           "@RepBobbyRush",
           13,
           1420,
           "2011/05/25"
          ],
          [
           "Rep. Janel Brandtjen",
           "@RepJanel",
           12,
           393,
           "2014/04/22"
          ],
          [
           "प्रवीण मिश्रा",
           "@praveenm_mishra",
           218,
           1843,
           "2009/11/17"
          ],
          [
           "Instituto de Salud Carlos III (ISCIII)",
           "@SaludISCIII",
           23,
           525,
           "2019/04/13"
          ],
          [
           "millardayo",
           "@millardayo",
           940,
           525,
           "2010/04/14"
          ],
          [
           "Grupo Parlamentario de VOX en el Congreso",
           "@VOX_Congreso",
           1459,
           110,
           "2019/06/05"
          ],
          [
           "Tom Wolf Destroyed PA",
           "@anderso24344556",
           3,
           463,
           "2020/02/07"
          ],
          [
           "J.dB.C",
           "@jesdbc",
           5329,
           672,
           "2013/10/18"
          ],
          [
           "Geoweeb",
           "@Geoweeb",
           0,
           212,
           "2013/04/27"
          ],
          [
           "حمد العقيلي",
           "@557_hamd",
           3,
           4630,
           "2016/08/06"
          ],
          [
           "ابوعبدالعزيز",
           "@krnkrnxxx",
           0,
           14,
           "2014/01/22"
          ],
          [
           "Msemaji Mkuu wa Serikali",
           "@TZMsemajiMkuu",
           118,
           15,
           "2016/08/17"
          ],
          [
           "Fernanda Vallejos",
           "@fvallejoss",
           806,
           983,
           "2011/05/19"
          ],
          [
           "Nelson Teich",
           "@TeichNelson",
           21549,
           61,
           "2020/01/19"
          ],
          [
           "Priyanka Gandhi Vadra",
           "@priyankagandhi",
           25312,
           74,
           "2019/02/10"
          ],
          [
           "Gerson Msigwa",
           "@MsigwaGerson",
           472,
           1393,
           "2014/03/28"
          ],
          [
           "Ajayraj S Muthaliya",
           "@ajayrajmuthalia",
           0,
           114,
           "2016/04/14"
          ],
          [
           "Faheem Younus, MD",
           "@FaheemYounus",
           781,
           443,
           "2011/10/12"
          ],
          [
           "UNDP Ghana",
           "@UNDPGhana",
           110,
           590,
           "2013/01/04"
          ],
          [
           "OMS Afrique",
           "@OMS_Afrique",
           43,
           183,
           "2020/02/07"
          ],
          [
           "William Bonner",
           "@realwbonner",
           103746,
           0,
           "2009/06/30"
          ],
          [
           "Peter Burger",
           "@JPeterBurger",
           57,
           2378,
           "2013/04/11"
          ],
          [
           "RCN Radio Bucaramanga",
           "@RCNBga",
           3,
           926,
           "2012/06/13"
          ],
          [
           "João Doria",
           "@jdoriajr",
           11072,
           371,
           "2009/08/11"
          ],
          [
           "دسمان نيوز",
           "@DasmanNewsCom",
           188,
           0,
           "2012/04/18"
          ],
          [
           "TN - Todo Noticias",
           "@todonoticias",
           2607,
           21,
           "2009/03/23"
          ],
          [
           "A Marm Kilpatrick",
           "@DiseaseEcology",
           132,
           147,
           "2013/08/05"
          ],
          [
           "Alberto Fernández",
           "@alferdez",
           7797,
           7210,
           "2010/05/30"
          ],
          [
           "Muktesh Pardeshi",
           "@MukteshPardeshi",
           3377,
           198,
           "2014/06/09"
          ],
          [
           "Prefeitura de Pelotas",
           "@PrefPelotas",
           142,
           300,
           "2011/11/01"
          ],
          [
           "Eduardo Bolsonaro🇧🇷",
           "@BolsonaroSP",
           1438,
           691,
           "2009/09/16"
          ],
          [
           "تيجاني",
           "@MehdiElFilali4",
           0,
           549,
           "2018/06/15"
          ],
          [
           "Øussåma Le Morisque",
           "@bol7yaa",
           0,
           114,
           "2012/11/04"
          ],
          [
           "Flávio Dino 🇧🇷",
           "@FlavioDino",
           32475,
           658,
           "2009/03/20"
          ],
          [
           "Joe Biden",
           "@JoeBiden",
           13138,
           46,
           "2007/03/11"
          ],
          [
           "World Health Organization (WHO) Western Pacific",
           "@WHOWPRO",
           45,
           1205,
           "2015/10/05"
          ],
          [
           "Tecnológico de Monterrey",
           "@TecdeMonterrey",
           7,
           464,
           "2010/02/19"
          ],
          [
           "World Health Organization (WHO)",
           "@WHO",
           250,
           1734,
           "2008/04/23"
          ],
          [
           "UNICEF Philippines",
           "@unicefphils",
           3977,
           1056,
           "2009/10/05"
          ],
          [
           "MinSaludCol",
           "@MinSaludCol",
           4063,
           814,
           "2011/09/11"
          ],
          [
           "Jack Ma",
           "@JackMa",
           59874,
           0,
           "2020/03/15"
          ],
          [
           "Edison Lanza",
           "@EdisonLanza",
           66,
           4359,
           "2009/07/28"
          ],
          [
           "Presidency | South Africa 🇿🇦",
           "@PresidencyZA",
           101,
           17,
           "2009/05/18"
          ],
          [
           "Ministry of Health",
           "@MOH_Kenya",
           609,
           661,
           "2016/02/02"
          ],
          [
           "Scott Gottlieb, MD",
           "@ScottGottliebMD",
           1609,
           956,
           "2009/05/15"
          ],
          [
           "Ministère de la Santé Publique Burundi(MSPLS)",
           "@mspls_bdi",
           103,
           24,
           "2019/04/17"
          ],
          [
           "Jack Ma",
           "@JackMa",
           31217,
           0,
           "2020/03/15"
          ],
          [
           "taran adarsh",
           "@taran_adarsh",
           6458,
           164,
           "2009/12/27"
          ],
          [
           "Guillaume Chartrain",
           "@GuillaumeUERDC",
           98,
           1145,
           "2018/09/04"
          ],
          [
           "Andry Rajoelina",
           "@SE_Rajoelina",
           576,
           199,
           "2018/04/02"
          ],
          [
           "Sandra",
           "@sandravogelaar",
           16,
           0,
           "2011/06/23"
          ],
          [
           "L'Express",
           "@LExpressMG",
           16,
           59,
           "2011/07/22"
          ],
          [
           "KSBA",
           "@ksbanews",
           13,
           722,
           "2009/06/27"
          ],
          [
           "Murtaza Ali Shah",
           "@MurtazaViews",
           531,
           786,
           "2010/06/06"
          ],
          [
           "Alejandro Giammattei",
           "@DrGiammattei",
           1018,
           82,
           "2010/09/07"
          ],
          [
           "Jai Shri Ram",
           "@bjplao",
           28,
           5618,
           "2018/06/29"
          ],
          [
           "Kayleigh McEnany 45 Archived",
           "@PressSec45",
           1461,
           328,
           "2017/01/10"
          ],
          [
           "Australian Government Department of Health",
           "@healthgovau",
           122,
           143,
           "2010/03/22"
          ],
          [
           "Policía Nacional",
           "@policia",
           479,
           0,
           "2009/03/11"
          ],
          [
           "Ministerio Inclusión Seguridad Social Migraciones",
           "@inclusiongob",
           241,
           532,
           "2020/01/12"
          ],
          [
           "South African Government",
           "@GovernmentZA",
           507,
           513,
           "2013/06/21"
          ],
          [
           "SassyMétisChick ❤️ 🇨🇦❤️",
           "@SassyMetisChick",
           2558,
           21417,
           "2018/06/18"
          ],
          [
           "Équipe 1er degré",
           "@Equipe1erDegre",
           2769,
           410,
           "2012/01/25"
          ],
          [
           "Guardia Civil 🇪🇸",
           "@guardiacivil",
           404,
           288,
           "2011/05/09"
          ],
          [
           "Lt Gen Gyan Bhushan",
           "@bhushan_gyan",
           1646,
           2372,
           "2014/01/28"
          ],
          [
           "Albert Rivera",
           "@Albert_Rivera",
           23580,
           2433,
           "2010/01/27"
          ],
          [
           "Toni Cantó",
           "@Tonicanto1",
           3603,
           3055,
           "2011/02/08"
          ],
          [
           "Dinesh D'Souza",
           "@DineshDSouza",
           24580,
           5351,
           "2009/11/22"
          ],
          [
           "Timothy Gumm",
           "@timothy_gumm",
           264,
           372,
           "2018/03/12"
          ],
          [
           "Alvise Pérez",
           "@Alvisepf",
           10367,
           2678,
           "2011/03/08"
          ],
          [
           "Murtaza Wahab Siddiqui",
           "@murtazawahab1",
           1693,
           137,
           "2016/04/25"
          ],
          [
           "Donatella Chiodi",
           "@ChiodiDonatella",
           292,
           12043,
           "2015/04/11"
          ],
          [
           "Alvise Pérez",
           "@Alvisepf",
           14726,
           2678,
           "2011/03/08"
          ],
          [
           "Glenn Kessler",
           "@GlennKesslerWP",
           291,
           547,
           "2011/01/07"
          ],
          [
           "Daniel Dale",
           "@ddale8",
           4514,
           1485,
           "2010/12/11"
          ],
          [
           "B L Santhosh",
           "@blsanthosh",
           1031,
           298,
           "2013/01/06"
          ],
          [
           "Julián A. Fernández-Niño",
           "@JFernandeznino",
           165,
           826,
           "2010/06/09"
          ],
          [
           "CitizenJane99",
           "@CitizenJane99",
           605,
           114,
           "2013/09/11"
          ],
          [
           "Muge Cevik",
           "@mugecevik",
           613,
           1944,
           "2009/08/19"
          ],
          [
           "Tom DiNapoli",
           "@NYSComptroller",
           13,
           4789,
           "2011/01/12"
          ],
          [
           "Levy Rincón",
           "@Ievyrincon",
           1916,
           88,
           "2018/11/09"
          ],
          [
           "Dr Zweli Mkhize",
           "@DrZweliMkhize",
           792,
           38575,
           "2017/03/22"
          ],
          [
           "DD News Gujarati",
           "@DDNewsGujarati",
           534,
           329,
           "2018/03/12"
          ],
          [
           "Rádio Itatiaia",
           "@radioitatiaia",
           4528,
           91,
           "2009/05/11"
          ],
          [
           "EquisJusticia",
           "@EquisJusticia",
           178,
           1305,
           "2013/04/16"
          ],
          [
           "Bonnie369",
           "@bonnie379",
           976,
           911,
           "2011/11/18"
          ],
          [
           "Bonnie369",
           "@bonnie379",
           13,
           911,
           "2011/11/18"
          ],
          [
           "NCDC",
           "@NCDCgov",
           502,
           384,
           "2016/03/04"
          ],
          [
           "Embajada de Suecia en Madrid",
           "@EmbajadorSuecia",
           478,
           1852,
           "2013/02/19"
          ],
          [
           "RK Agarwal",
           "@rkagarwal69",
           0,
           138,
           "2019/03/21"
          ],
          [
           "Jimbere",
           "@JimbereMag",
           12,
           141,
           "2016/02/15"
          ],
          [
           "Le Double R 🇨🇲",
           "@RamsDreezy",
           2,
           448,
           "2011/02/07"
          ],
          [
           "Rep Andy Biggs",
           "@RepAndyBiggsAZ",
           723,
           1659,
           "2017/01/04"
          ],
          [
           "Scott Morrison",
           "@ScottMorrisonMP",
           2205,
           1734,
           "2009/04/22"
          ],
          [
           "Air India",
           "@airindiain",
           11,
           2925,
           "2011/10/09"
          ],
          [
           "Matt McDermott",
           "@mattmfm",
           261734,
           1785,
           "2008/07/13"
          ],
          [
           "Ummy Mwalimu",
           "@ummymwalimu",
           900,
           560,
           "2012/03/15"
          ],
          [
           "Peter Stevenson",
           "@PeterStevenson",
           387,
           1217,
           "2010/12/07"
          ],
          [
           "Jimmy Kimmel",
           "@jimmykimmel",
           79493,
           785,
           "2009/03/23"
          ],
          [
           "Alvise Pérez",
           "@Alvisepf",
           16359,
           2678,
           "2011/03/08"
          ],
          [
           "CoolSonu🤝",
           "@WilDbadGe",
           9,
           1981,
           "2015/07/26"
          ],
          [
           "Conspiracy Watch",
           "@conspiration",
           201,
           922,
           "2009/03/14"
          ],
          [
           "Michael Nöthem",
           "@mikandynothem",
           17016,
           98275,
           "2012/02/15"
          ],
          [
           "Juan Español",
           "@Cosecha_del_62",
           0,
           200,
           "2011/06/15"
          ],
          [
           "Himanta Biswa Sarma",
           "@himantabiswa",
           2834,
           97,
           "2010/04/09"
          ],
          [
           "DIPR Assam",
           "@diprassam",
           113,
           263,
           "2018/09/29"
          ],
          [
           "PIB in Assam",
           "@PIB_Guwahati",
           0,
           62,
           "2013/02/25"
          ],
          [
           "Ronald Klain",
           "@RonaldKlain",
           49758,
           2588,
           "2011/02/07"
          ],
          [
           "Hafiz Jameel",
           "@HafizJa04188954",
           6,
           201,
           "2020/04/25"
          ],
          [
           "Javier Ortega Smith",
           "@Ortega_Smith",
           4656,
           467,
           "2013/01/25"
          ],
          [
           "Umashankar Singh उमाशंकर सिंह",
           "@umashankarsingh",
           257,
           824,
           "2009/09/13"
          ],
          [
           "PIB Fact Check",
           "@PIBFactCheck",
           866,
           31,
           "2019/12/19"
          ],
          [
           "عمرو ے مسحليے♚",
           "@amro_mashali",
           2,
           8032,
           "2011/11/29"
          ],
          [
           "Tedros Adhanom Ghebreyesus",
           "@DrTedros",
           1100,
           1206,
           "2010/09/12"
          ],
          [
           "Cynthia García",
           "@cyngarciaradio",
           1447,
           1671,
           "2010/06/02"
          ],
          [
           "Gaby Levinas",
           "@GabyLevinas",
           292,
           3801,
           "2010/05/25"
          ],
          [
           "The New York Times",
           "@nytimes",
           5192,
           805,
           "2007/03/02"
          ],
          [
           "Nidhi Razdan",
           "@Nidhi",
           8035,
           408,
           "2015/05/03"
          ],
          [
           "HSE Health Protection Surveillance Centre (HPSC)",
           "@hpscireland",
           7,
           802,
           "2011/05/24"
          ],
          [
           "ParaMicroBio #SoyBiólogo #LosBiólogosExistimos",
           "@ParaMicroBio",
           34,
           4988,
           "2017/12/19"
          ],
          [
           "TIMES NOW",
           "@TimesNow",
           339,
           375,
           "2011/01/20"
          ],
          [
           "MinSaludCol",
           "@MinSaludCol",
           136,
           814,
           "2011/09/11"
          ],
          [
           "NSC 45 Archived",
           "@WHNSC45",
           25031,
           5,
           "2017/03/10"
          ],
          [
           "The White House 45 Archived",
           "@WhiteHouse45",
           3248,
           11,
           "2017/01/19"
          ],
          [
           "Karl Lauterbach",
           "@Karl_Lauterbach",
           1845,
           270,
           "2015/05/21"
          ],
          [
           "leticia spiller",
           "@leticiaspiller",
           148,
           658,
           "2010/10/13"
          ],
          [
           "Pedro Sánchez",
           "@sanchezcastejon",
           8002,
           6031,
           "2009/08/25"
          ],
          [
           "Ministerio de Sanidad",
           "@sanidadgob",
           158,
           689,
           "2010/12/30"
          ],
          [
           "Global Times",
           "@globaltimesnews",
           22836,
           520,
           "2009/06/22"
          ],
          [
           "Boris Johnson",
           "@BorisJohnson",
           352986,
           459,
           "2015/04/01"
          ],
          [
           "La Moncloa",
           "@desdelamoncloa",
           483,
           195,
           "2009/07/20"
          ],
          [
           "Consejo General de Enfermería",
           "@CGEnfermeria",
           5,
           738,
           "2010/12/06"
          ],
          [
           "David Puente",
           "@DavidPuente",
           11,
           1205,
           "2009/06/29"
          ],
          [
           "ANI",
           "@ANI",
           10375,
           0,
           "2011/08/16"
          ],
          [
           "Aditya Raj Kaul",
           "@AdityaRajKaul",
           2763,
           8130,
           "2009/06/03"
          ],
          [
           "shhhhitsdundeebear",
           "@shhhhitsdundee1",
           20,
           1989,
           "2020/02/11"
          ],
          [
           "La Moncloa",
           "@desdelamoncloa",
           422,
           195,
           "2009/07/20"
          ],
          [
           "#IndiaFightsCorona",
           "@COVIDNewsByMIB",
           352,
           71,
           "2020/03/31"
          ],
          [
           "Ministry of Health",
           "@MOH_Kenya",
           105,
           661,
           "2016/02/02"
          ],
          [
           "Minister Jackson Mthembu",
           "@JacksonMthembu_",
           327,
           3749,
           "2012/11/30"
          ],
          [
           "Helder Barbalho",
           "@helderbarbalho",
           995,
           1183,
           "2010/06/03"
          ],
          [
           "Ngozi Okonjo-Iweala",
           "@NOIweala",
           9082,
           11,
           "2011/09/13"
          ],
          [
           "Ngozi Okonjo-Iweala",
           "@NOIweala",
           5153,
           11,
           "2011/09/13"
          ],
          [
           "Guineematin",
           "@Guineematin",
           451,
           314,
           "2015/07/29"
          ],
          [
           "Daniel Dale",
           "@ddale8",
           33041,
           1485,
           "2010/12/11"
          ],
          [
           "竹内久美子",
           "@takeuchikumiffy",
           11372,
           3732,
           "2019/10/08"
          ],
          [
           "青葉あさひ",
           "@vTxpqRVTUijcIq4",
           14844,
           5234,
           "2018/11/03"
          ],
          [
           "CNEWS",
           "@CNEWS",
           2219,
           736,
           "2008/12/26"
          ],
          [
           "Andry Rajoelina",
           "@SE_Rajoelina",
           109,
           199,
           "2018/04/02"
          ],
          [
           "Andry Rajoelina",
           "@SE_Rajoelina",
           120,
           199,
           "2018/04/02"
          ],
          [
           "Cruz Roja Las Palmas",
           "@CruzRojaLP",
           7,
           153,
           "2016/06/30"
          ],
          [
           "Bhargab Talukdar",
           "@bshibamt",
           2,
           368,
           "2015/01/17"
          ],
          [
           "Natasha Dimitrievska",
           "@napostoloska",
           421,
           370,
           "2013/12/14"
          ],
          [
           "SSN ARGENTINA",
           "@ssn_ar",
           65,
           185,
           "2017/05/12"
          ],
          [
           "Prof. Sanjib Goswami 🇮🇳🇦🇺",
           "@DrSanjibG",
           41,
           4155,
           "2010/02/03"
          ],
          [
           "World Health Organization (WHO)",
           "@WHO",
           2185,
           1734,
           "2008/04/23"
          ],
          [
           "Saadia Afzaal",
           "@SaadiaAfzaal",
           8118,
           308,
           "2014/08/13"
          ],
          [
           "PIB in Assam",
           "@PIB_Guwahati",
           185,
           62,
           "2013/02/25"
          ],
          [
           "PIB Fact Check",
           "@PIBFactCheck",
           537,
           31,
           "2019/12/19"
          ],
          [
           "John Roberts",
           "@johnrobertsFox",
           331,
           492,
           "2009/02/16"
          ],
          [
           "Saadia Afzaal",
           "@SaadiaAfzaal",
           3796,
           308,
           "2014/08/13"
          ],
          [
           "Copernicus ECMWF",
           "@CopernicusECMWF",
           4061,
           499,
           "2015/06/26"
          ],
          [
           "Anderson Cooper 360°",
           "@AC360",
           9561,
           156,
           "2010/12/17"
          ],
          [
           "nychealthy",
           "@nycHealthy",
           387,
           556,
           "2008/12/09"
          ],
          [
           "Cal Cunningham",
           "@CalforNC",
           753,
           654,
           "2009/11/24"
          ],
          [
           "Radio 780 AM",
           "@780AM",
           18,
           1460,
           "2009/11/02"
          ],
          [
           "Ledoré E #𝗝𝗟𝗠𝟮𝟬𝟮𝟮 🔻 φ 🔝#Noussommespour📢",
           "@eledoster",
           2177,
           1333,
           "2016/02/25"
          ],
          [
           "KY Dept of Education",
           "@KyDeptofEd",
           71,
           825,
           "2011/04/04"
          ],
          [
           "PIB Fact Check",
           "@PIBFactCheck",
           1023,
           31,
           "2019/12/19"
          ],
          [
           "Daniel",
           "@DannyLS74",
           4,
           2783,
           "2013/08/11"
          ],
          [
           "Elisa Granato 🦠🔬",
           "@Prokaryota",
           822,
           2669,
           "2010/01/12"
          ],
          [
           "John McAfee",
           "@officialmcafee",
           5555,
           14124,
           "2012/11/21"
          ],
          [
           "Abhishek Jalan",
           "@AayoBado",
           58,
           37,
           "2020/04/17"
          ],
          [
           "Fergus Walsh",
           "@BBCFergusWalsh",
           21298,
           364,
           "2010/05/21"
          ],
          [
           "Louis 🇬🇧 🇪🇺 〓〓 💙 #StayAlertToriesAreCorrupt",
           "@LouisHenwood",
           282,
           3965,
           "2018/06/23"
          ],
          [
           "Department of Health and Social Care",
           "@DHSCgovuk",
           1983,
           852,
           "2009/05/05"
          ],
          [
           "Pakistan Socio Economic Monitor by Yasin J",
           "@pakistanmonitor",
           1,
           1523,
           "2011/01/26"
          ],
          [
           "Fergus Walsh",
           "@BBCFergusWalsh",
           2359,
           364,
           "2010/05/21"
          ],
          [
           "Cetm",
           "@CetmTransporte",
           27,
           1074,
           "2015/05/06"
          ],
          [
           "Carl T. Bergstrom",
           "@CT_Bergstrom",
           6231,
           2110,
           "2015/06/07"
          ],
          [
           "Rudy W. Giuliani",
           "@RudyGiuliani",
           40593,
           460,
           "2016/08/31"
          ],
          [
           "Danyal Gilani",
           "@DanyalGilani",
           89,
           484,
           "2009/03/15"
          ],
          [
           "Les Buralistes",
           "@LesBuralistes",
           2,
           1641,
           "2013/01/02"
          ],
          [
           "Alessandro Meluzzi☦️🇮🇹",
           "@a_meluzzi",
           56,
           50499,
           "2012/12/24"
          ],
          [
           "Kyoto University",
           "@KyotoU_News",
           271,
           199,
           "2014/09/10"
          ],
          [
           "Charlie Flanagan",
           "@CharlieFlanagan",
           169,
           646,
           "2009/11/04"
          ],
          [
           "Jeff Shipley 🦁",
           "@JeffShipley77",
           36,
           723,
           "2019/01/15"
          ],
          [
           "Arjun Singh",
           "@ArjunsinghWB",
           175,
           119,
           "2019/03/30"
          ],
          [
           "Bernie Sanders",
           "@SenSanders",
           6620,
           2330,
           "2009/04/07"
          ],
          [
           "Thaung Tun",
           "@ThaungTun20",
           48,
           39,
           "2019/09/26"
          ],
          [
           "Dinesh D'Souza",
           "@DineshDSouza",
           1133,
           5351,
           "2009/11/22"
          ],
          [
           "Albert Rivera",
           "@Albert_Rivera",
           14,
           2433,
           "2010/01/27"
          ],
          [
           "Meet the Press",
           "@MeetThePress",
           57,
           443,
           "2008/01/04"
          ],
          [
           "Paolo Grimoldi",
           "@GrimoldiPaolo",
           769,
           890,
           "2011/11/21"
          ],
          [
           "Scott Gottlieb, MD",
           "@ScottGottliebMD",
           84,
           956,
           "2009/05/15"
          ],
          [
           "Darin LaHood",
           "@RepLaHood",
           21,
           1220,
           "2015/09/17"
          ],
          [
           "Didier Raoult",
           "@raoult_didier",
           6040,
           14,
           "2020/03/24"
          ],
          [
           "Bonnie369",
           "@bonnie379",
           431,
           911,
           "2011/11/18"
          ],
          [
           "PIB Fact Check",
           "@PIBFactCheck",
           863,
           31,
           "2019/12/19"
          ],
          [
           "Daniel Oran",
           "@danieloran",
           380,
           101,
           "2009/03/17"
          ],
          [
           "La Moncloa",
           "@desdelamoncloa",
           131,
           195,
           "2009/07/20"
          ],
          [
           "Eduardo Leite",
           "@EduardoLeite_",
           9137,
           443,
           "2010/03/17"
          ],
          [
           "Eduardo Leite",
           "@EduardoLeite_",
           2634,
           443,
           "2010/03/17"
          ],
          [
           "Sander K.",
           "@sanderknura",
           1,
           4101,
           "2008/03/29"
          ],
          [
           "Never Retreat Never Surrender🛕🚩",
           "@TapasNiyama",
           37,
           108,
           "2020/03/15"
          ],
          [
           "Silvana Konermann",
           "@SKonermann",
           590,
           578,
           "2012/10/30"
          ],
          [
           "Ministerio de Sanidad",
           "@sanidadgob",
           3027,
           689,
           "2010/12/30"
          ],
          [
           "Trevor Bedford",
           "@trvrb",
           1389,
           817,
           "2010/12/10"
          ],
          [
           "Nonona' Ohtsevehn Estse'",
           "@notaxiwarrior",
           164,
           6237,
           "2011/11/14"
          ],
          [
           "Nonona' Ohtsevehn Estse'",
           "@notaxiwarrior",
           11,
           6237,
           "2011/11/14"
          ],
          [
           "Manoj Tiwari",
           "@ManojTiwariMP",
           2926,
           923,
           "2015/08/14"
          ],
          [
           "Michael Downey",
           "@mgdowney",
           2479,
           424,
           "2011/12/20"
          ],
          [
           "BBC News Africa",
           "@BBCAfrica",
           81,
           1392,
           "2009/04/30"
          ],
          [
           "Raila Odinga",
           "@RailaOdinga",
           2001,
           308,
           "2011/05/18"
          ],
          [
           "Atiku Abubakar",
           "@atiku",
           15744,
           116,
           "2010/08/12"
          ],
          [
           "The White House 45 Archived",
           "@WhiteHouse45",
           9050,
           11,
           "2017/01/19"
          ],
          [
           "Germany @ Arab World",
           "@almaniadiplo",
           78,
           371,
           "2014/09/16"
          ],
          [
           "Dee C. 🧘‍♀️👩‍🎤🏃‍♀️🎭",
           "@Nangpagirl78",
           4,
           343,
           "2016/01/04"
          ],
          [
           "Tom Hanks",
           "@tomhanks",
           209400,
           25,
           "2009/06/24"
          ],
          [
           "Carlos Bolsonaro",
           "@CarlosBolsonaro",
           17021,
           631,
           "2009/08/25"
          ],
          [
           "DM Bareilly",
           "@dmbareilly",
           2856,
           124,
           "2016/09/14"
          ],
          [
           "PIB Fact Check",
           "@PIBFactCheck",
           468,
           31,
           "2019/12/19"
          ],
          [
           "America's Newsroom",
           "@AmericaNewsroom",
           15,
           386,
           "2011/06/07"
          ],
          [
           "Guardia Civil 🇪🇸",
           "@guardiacivil",
           803,
           288,
           "2011/05/09"
          ],
          [
           "Jair M. Bolsonaro",
           "@jairbolsonaro",
           39808,
           550,
           "2010/03/31"
          ],
          [
           "Ashutosh Nath Tiwari",
           "@ashu2aug",
           0,
           496,
           "2011/04/27"
          ],
          [
           "Arancha González",
           "@AranchaGlezLaya",
           5422,
           2037,
           "2012/11/25"
          ],
          [
           "NOA Nigeria",
           "@NOA_Nigeria",
           91,
           887,
           "2011/11/03"
          ],
          [
           "Policía Nacional",
           "@policia",
           188,
           0,
           "2009/03/11"
          ],
          [
           "Corinne Lepage",
           "@corinnelepage",
           435,
           6124,
           "2009/04/14"
          ],
          [
           "Zoom",
           "@Zoom",
           46,
           2058,
           "2012/03/13"
          ],
          [
           "Matías Rajnerman",
           "@MatiasRajnerman",
           48,
           628,
           "2010/05/30"
          ],
          [
           "Fco. Javier Redondo",
           "@fjredondocalvo1",
           5,
           268,
           "2015/11/14"
          ],
          [
           "Fco. Javier Redondo",
           "@fjredondocalvo1",
           5,
           268,
           "2015/11/14"
          ],
          [
           "بربادی",
           "@syedkhaleedd",
           3,
           94,
           "2020/04/10"
          ],
          [
           "World Health Organization (WHO)",
           "@WHO",
           859,
           1734,
           "2008/04/23"
          ],
          [
           "Femi Gbajabiamila",
           "@femigbaja",
           12733,
           264,
           "2012/04/27"
          ],
          [
           "Rahul Krishnan",
           "@rahulstreetmagi",
           56,
           16,
           "2013/06/18"
          ],
          [
           "Helder Barbalho",
           "@helderbarbalho",
           6,
           1183,
           "2010/06/03"
          ],
          [
           "TheStarKenya",
           "@TheStarKenya",
           63,
           508,
           "2011/07/27"
          ],
          [
           "Jack Motley",
           "@JackMotleyLive",
           11,
           1884,
           "2012/03/19"
          ],
          [
           "ncpwds",
           "@Ncpwds",
           15,
           337,
           "2013/06/05"
          ],
          [
           "أ.د. حاكم المطيري",
           "@DrHAKEM",
           505,
           3473,
           "2010/08/24"
          ],
          [
           "Dhiraj Giri",
           "@DhirajG82325757",
           2,
           849,
           "2020/04/13"
          ],
          [
           "Vishal",
           "@VishalAryavart",
           1,
           125,
           "2017/10/15"
          ],
          [
           "Lilach Volach",
           "@lilach_v",
           41,
           580,
           "2011/01/15"
          ],
          [
           "Mangala Samaraweera",
           "@MangalaLK",
           474,
           208,
           "2015/02/20"
          ],
          [
           "Chinese Embassy in Sri Lanka",
           "@ChinaEmbSL",
           6,
           336,
           "2020/03/20"
          ],
          [
           "Daniel Múgica",
           "@danimugicagmai1",
           24,
           214,
           "2016/03/02"
          ],
          [
           "DCI KENYA",
           "@DCI_Kenya",
           255,
           88,
           "2014/05/30"
          ],
          [
           "DCI KENYA",
           "@DCI_Kenya",
           25,
           88,
           "2014/05/30"
          ],
          [
           "Kellyanne Conway",
           "@KellyannePolls",
           2009,
           937,
           "2012/01/23"
          ],
          [
           "Kellyanne Conway",
           "@KellyannePolls",
           6378,
           937,
           "2012/01/23"
          ],
          [
           "Bihar Health Dept",
           "@BiharHealthDept",
           74,
           100,
           "2019/06/03"
          ],
          [
           "The Hill",
           "@thehill",
           1779,
           276,
           "2007/03/22"
          ],
          [
           "aljo maes",
           "@aljomaes2010",
           0,
           1382,
           "2010/10/26"
          ],
          [
           "Eddie Holmes",
           "@edwardcholmes",
           193,
           369,
           "2014/06/10"
          ],
          [
           "Syed ghayasuddin",
           "@ghayasU59473086",
           27,
           864,
           "2019/07/04"
          ],
          [
           "TN - Todo Noticias",
           "@todonoticias",
           961,
           21,
           "2009/03/23"
          ],
          [
           "Charlie Flanagan",
           "@CharlieFlanagan",
           98,
           646,
           "2009/11/04"
          ],
          [
           "Florencia Ballarino",
           "@FlorBallarino",
           25,
           2141,
           "2013/04/04"
          ],
          [
           "Jair M. Bolsonaro",
           "@jairbolsonaro",
           27455,
           550,
           "2010/03/31"
          ],
          [
           "Clare Daly",
           "@ClareDalyMEP",
           579,
           29,
           "2011/10/05"
          ],
          [
           "Garrett Bedenbaugh",
           "@wxgarrett",
           116,
           2501,
           "2009/01/15"
          ],
          [
           "VOST Comunitat Valenciana",
           "@VOSTcvalenciana",
           94,
           531,
           "2013/06/05"
          ],
          [
           "Doble R",
           "@r_doble",
           0,
           595,
           "2011/11/07"
          ],
          [
           "justice-n'est-plus",
           "@plus_justice",
           12,
           183,
           "2014/02/06"
          ],
          [
           "Thaung Tun",
           "@ThaungTun20",
           622,
           39,
           "2019/09/26"
          ],
          [
           "DEO SAFARI",
           "@DEOSAFARI7",
           0,
           5,
           "2020/02/10"
          ],
          [
           "ABS-CBN News",
           "@ABSCBNNews",
           1199,
           1069,
           "2008/08/16"
          ],
          [
           "KattaNews",
           "@katta_news",
           152,
           0,
           "2019/11/18"
          ],
          [
           "Vic Micolucci WJXT",
           "@WJXTvic",
           56,
           3368,
           "2009/03/23"
          ],
          [
           "The White House 45 Archived",
           "@WhiteHouse45",
           5382,
           11,
           "2017/01/19"
          ],
          [
           "Golden State Times 🇺🇸",
           "@Goldstatetimes",
           8542,
           232,
           "2012/09/17"
          ],
          [
           "‏ انا ستورمي💨 BBS2949 كود ايهيرب",
           "@bbbii1010",
           17,
           2562,
           "2019/05/31"
          ],
          [
           "المستشار قاسم حدرج",
           "@almostshar202",
           49,
           3627,
           "2018/05/07"
          ],
          [
           "Shehan Madawa 🇱🇰",
           "@shehanmlive",
           6,
           793,
           "2010/02/04"
          ],
          [
           "ELSAN",
           "@elsan",
           8,
           1704,
           "2013/12/05"
          ],
          [
           "BCRA",
           "@BancoCentral_AR",
           56,
           19,
           "2014/05/23"
          ],
          [
           "BCRA",
           "@BancoCentral_AR",
           79,
           19,
           "2014/05/23"
          ],
          [
           "Eduardo Leite",
           "@EduardoLeite_",
           1806,
           443,
           "2010/03/17"
          ],
          [
           "Tiger Brands",
           "@TigerBrands",
           1,
           269,
           "2015/12/17"
          ],
          [
           "Presidency | South Africa 🇿🇦",
           "@PresidencyZA",
           174,
           17,
           "2009/05/18"
          ],
          [
           "The Judiciary Kenya",
           "@Kenyajudiciary",
           180,
           79,
           "2014/10/25"
          ],
          [
           "Pordenone y Budoia 2005",
           "@PordenoneBudoia",
           27,
           2732,
           "2019/06/19"
          ],
          [
           "Waris Pathan",
           "@warispathan",
           1228,
           478,
           "2014/11/28"
          ],
          [
           "Darin LaHood",
           "@RepLaHood",
           36,
           1220,
           "2015/09/17"
          ],
          [
           "ian bremmer",
           "@ianbremmer",
           3239,
           1457,
           "2009/07/28"
          ],
          [
           "Kamil Karamali",
           "@KamilKaramali",
           4245,
           1570,
           "2009/07/07"
          ],
          [
           "Eduardo Bolsonaro🇧🇷",
           "@BolsonaroSP",
           4033,
           691,
           "2009/09/16"
          ],
          [
           "UZ Brussel",
           "@UZBrussel",
           18,
           544,
           "2011/07/07"
          ],
          [
           "Chirag Thumar",
           "@ThumarChirag",
           375,
           1444,
           "2013/04/16"
          ],
          [
           "Belduque",
           "@belduque",
           0,
           609,
           "2010/03/20"
          ],
          [
           "Edú Duro d Emelec",
           "@EduX2021",
           12,
           598,
           "2011/09/17"
          ],
          [
           "Andrew Petter Nold Long 🇧🇷 🇺🇸 Bolsonarista 🧠",
           "@Andrew_Petter",
           304,
           9380,
           "2011/04/23"
          ],
          [
           "Paulo Smith",
           "@pecunia55",
           15,
           431,
           "2010/02/23"
          ],
          [
           "Noticias Caracol",
           "@NoticiasCaracol",
           48,
           1135,
           "2008/12/02"
          ],
          [
           "報道されないコロナ情報",
           "@JPYlTqpLzb65rdX",
           6327,
           0,
           "2020/02/26"
          ],
          [
           "BBC Politics",
           "@BBCPolitics",
           19805,
           289,
           "2007/01/10"
          ],
          [
           "CHU de Lille",
           "@CHU_Lille",
           29,
           1037,
           "2011/11/16"
          ],
          [
           "Amanda Páez",
           "@amandaasubiar",
           619,
           5356,
           "2011/07/15"
          ],
          [
           "Amanda Páez",
           "@amandaasubiar",
           133,
           5356,
           "2011/07/15"
          ],
          [
           "Amanda Páez",
           "@amandaasubiar",
           175,
           5356,
           "2011/07/15"
          ],
          [
           "Shivaram Mchinnappa",
           "@Mshivaram23M",
           1,
           57,
           "2016/07/08"
          ],
          [
           "Narayana Health",
           "@NarayanaHealth",
           0,
           11,
           "2013/04/03"
          ],
          [
           "Julianna Tatelbaum",
           "@CNBCJulianna",
           251,
           1016,
           "2018/09/12"
          ],
          [
           "Faisal Javed Khan",
           "@FaisalJavedKhan",
           5593,
           1341,
           "2011/03/04"
          ],
          [
           "World Health Organization (WHO)",
           "@WHO",
           45432,
           1734,
           "2008/04/23"
          ],
          [
           "Vas Narasimhan",
           "@VasNarasimhan",
           291,
           230,
           "2016/04/22"
          ],
          [
           "PIB Fact Check",
           "@PIBFactCheck",
           580,
           31,
           "2019/12/19"
          ],
          [
           "Murtaza Solangi",
           "@murtazasolangi",
           256,
           3209,
           "2009/05/04"
          ],
          [
           "TF1LeJT",
           "@TF1LeJT",
           94,
           739,
           "2015/07/24"
          ],
          [
           "WHO Kenya",
           "@WHOKenya",
           39,
           250,
           "2017/01/19"
          ],
          [
           "groveers.com",
           "@groveers",
           0,
           477,
           "2019/02/03"
          ],
          [
           "sharjahmedia",
           "@sharjahmedia",
           21,
           171,
           "2011/10/02"
          ],
          [
           "Raila Odinga",
           "@RailaOdinga",
           5500,
           308,
           "2011/05/18"
          ],
          [
           "Nistula Hebbar",
           "@nistula",
           883,
           1274,
           "2010/07/01"
          ],
          [
           "Iván Jesús Izaguirre I.",
           "@ivaniz66",
           3080,
           5275,
           "2009/11/11"
          ],
          [
           "WHO South-East Asia",
           "@WHOSEARO",
           1776,
           745,
           "2013/06/25"
          ],
          [
           "PIB Fact Check",
           "@PIBFactCheck",
           583,
           31,
           "2019/12/19"
          ],
          [
           "Revista Mongolia",
           "@revistamongolia",
           948,
           3659,
           "2012/01/27"
          ],
          [
           "Amitabh Bachchan",
           "@SrBachchan",
           77363,
           1803,
           "2010/05/18"
          ],
          [
           "Sachin Yadav",
           "@SachinYadavRJD",
           221,
           675,
           "2017/12/20"
          ],
          [
           "Ignacio Pereira",
           "@ignaciopereira",
           932,
           399,
           "2010/03/06"
          ],
          [
           "Jerome Rodrigues Officiel",
           "@J_Rodrigues_Off",
           68,
           236,
           "2019/01/12"
          ],
          [
           "Emerald Robinson ✝️",
           "@EmeraldRobinson",
           6524,
           8776,
           "2015/10/18"
          ],
          [
           "Guardia Civil 🇪🇸",
           "@guardiacivil",
           463,
           288,
           "2011/05/09"
          ],
          [
           "Candace Owens",
           "@RealCandaceO",
           27640,
           26,
           "2017/06/23"
          ],
          [
           "Ministry of Health",
           "@MoHFW_INDIA",
           612,
           192,
           "2014/06/30"
          ],
          [
           "Guillaume Gendron",
           "@g_gendron",
           3,
           1611,
           "2011/08/30"
          ],
          [
           "Val Lopes",
           "@valkloples",
           55,
           322,
           "2018/04/09"
          ],
          [
           "IFEMA",
           "@IFEMA",
           116,
           7032,
           "2009/07/14"
          ],
          [
           "Gerardo Zamora",
           "@GZamoraSDE",
           348,
           66,
           "2010/10/27"
          ],
          [
           "Evo Morales Ayma",
           "@evoespueblo",
           2966,
           30,
           "2016/04/15"
          ],
          [
           "गोपाल सनातनी",
           "@GopalSa22721269",
           16,
           6336,
           "2019/09/20"
          ],
          [
           "policiacibercol",
           "@policiacibercol",
           3,
           106,
           "2020/03/26"
          ],
          [
           "A'i",
           "@aisha_yaGuda",
           571,
           882,
           "2018/05/04"
          ],
          [
           "Martin",
           "@EspLegion",
           2,
           763,
           "2016/10/21"
          ],
          [
           "NCDC",
           "@NCDCgov",
           11865,
           384,
           "2016/03/04"
          ],
          [
           "UP POLICE",
           "@Uppolice",
           1429,
           430,
           "2013/03/16"
          ],
          [
           "World Health Organization (WHO)",
           "@WHO",
           1499,
           1734,
           "2008/04/23"
          ],
          [
           "Ministry of Health",
           "@MOH_Kenya",
           63,
           661,
           "2016/02/02"
          ],
          [
           "Raila Odinga",
           "@RailaOdinga",
           864,
           308,
           "2011/05/18"
          ],
          [
           "The ODM Party",
           "@TheODMparty",
           241,
           80,
           "2012/09/11"
          ],
          [
           "Marcelo Rubens Paiva",
           "@marcelorubens",
           1779,
           695,
           "2009/04/10"
          ],
          [
           "Ministry of Finance, Budget and National Planning",
           "@FinMinNigeria",
           831,
           164,
           "2017/03/17"
          ],
          [
           "ARY News Live",
           "@ARYNewsApp",
           0,
           794,
           "2015/05/01"
          ],
          [
           "The ODM Party",
           "@TheODMparty",
           106,
           80,
           "2012/09/11"
          ],
          [
           "GDT Guardia Civil",
           "@GDTGuardiaCivil",
           232,
           110,
           "2010/09/09"
          ],
          [
           "Guardia Civil 🇪🇸",
           "@guardiacivil",
           708,
           288,
           "2011/05/09"
          ],
          [
           "BJP",
           "@BJP4India",
           2695,
           3,
           "2010/10/26"
          ],
          [
           "هاشل الهويشل",
           "@ourkuwait",
           10,
           262,
           "2019/05/19"
          ],
          [
           "غازي بن منصور الراجحي",
           "@gha9700",
           279,
           152,
           "2015/08/19"
          ],
          [
           "Helder Barbalho",
           "@helderbarbalho",
           981,
           1183,
           "2010/06/03"
          ],
          [
           "Ratan N. Tata",
           "@RNTata2000",
           160060,
           35,
           "2011/04/05"
          ],
          [
           "Rajasthan Police",
           "@PoliceRajasthan",
           1349,
           173,
           "2017/09/13"
          ],
          [
           "Ministry of Health",
           "@MOH_Kenya",
           101,
           661,
           "2016/02/02"
          ],
          [
           "Rafael Hernando",
           "@Rafa_Hernando",
           1798,
           969,
           "2011/09/26"
          ],
          [
           "Nacho Ayala",
           "@nachoayalab",
           1093,
           257,
           "2014/04/20"
          ],
          [
           "VOX 🇪🇸",
           "@vox_es",
           1816,
           1250,
           "2013/11/18"
          ],
          [
           "Ministerio Transportes, Movilidad y A. Urbana",
           "@mitmagob",
           2538,
           354,
           "2011/02/09"
          ],
          [
           "Pure Michigan Girl",
           "@PureMichGirl",
           1309,
           29813,
           "2013/05/15"
          ],
          [
           "Rodrigo Quiroga",
           "@rquiroga777",
           1148,
           4089,
           "2011/09/04"
          ],
          [
           "Tori Sachs",
           "@Tori_Sachs",
           12,
           4479,
           "2010/11/22"
          ],
          [
           "Jair M. Bolsonaro",
           "@jairbolsonaro",
           38814,
           550,
           "2010/03/31"
          ],
          [
           "ICEBOY 🐼",
           "@Caleb_Waswa_",
           1971,
           9049,
           "2016/09/17"
          ],
          [
           "Bobby Lewis",
           "@revrrlewis",
           2300,
           1187,
           "2014/05/09"
          ],
          [
           "Baybars Örsek",
           "@baybarsorsek",
           16,
           541,
           "2009/03/27"
          ],
          [
           "Steve Vladeck",
           "@steve_vladeck",
           988,
           3060,
           "2011/09/26"
          ],
          [
           "World Health Organization (WHO)",
           "@WHO",
           1186,
           1734,
           "2008/04/23"
          ],
          [
           "Steve Vladeck",
           "@steve_vladeck",
           1971,
           3060,
           "2011/09/26"
          ],
          [
           "TODAY",
           "@TODAYshow",
           854,
           7916,
           "2007/07/26"
          ],
          [
           "IRSnews",
           "@IRSnews",
           1942,
           133,
           "2009/09/08"
          ],
          [
           "美国之音中文网",
           "@VOAChinese",
           412,
           163,
           "2007/08/13"
          ],
          [
           "BNPB Indonesia",
           "@BNPB_Indonesia",
           327,
           289,
           "2011/08/01"
          ],
          [
           "Aarogya Setu",
           "@SetuAarogya",
           175,
           14,
           "2020/04/03"
          ],
          [
           "AardvarkMobileTours",
           "@aardvarkel",
           7,
           702,
           "2012/10/24"
          ],
          [
           "takaoka",
           "@takaoka",
           148094,
           2587,
           "2007/04/11"
          ],
          [
           "Leandro Cahn 💚",
           "@leandrocahn",
           1648,
           1219,
           "2009/08/31"
          ],
          [
           "Aravind",
           "@aravindcherry",
           1,
           841,
           "2010/02/21"
          ],
          [
           "Global Times",
           "@globaltimesnews",
           273,
           520,
           "2009/06/22"
          ],
          [
           "World Health Organization (WHO) Western Pacific",
           "@WHOWPRO",
           19,
           1205,
           "2015/10/05"
          ],
          [
           "وكالة تعليق الدراسة",
           "@News_Ejazah",
           3089,
           8955,
           "2013/04/28"
          ],
          [
           "James Todaro, MD",
           "@JamesTodaroMD",
           4425,
           1606,
           "2016/11/30"
          ],
          [
           "BBC Politics",
           "@BBCPolitics",
           17197,
           289,
           "2007/01/10"
          ],
          [
           "CenterForGreatApes",
           "@CFGA",
           1623,
           2163,
           "2009/03/28"
          ],
          [
           "World Bank Kenya",
           "@WorldBankKenya",
           146,
           4639,
           "2013/12/13"
          ],
          [
           "Governor Phil Murphy",
           "@GovMurphy",
           7021,
           188,
           "2018/01/04"
          ],
          [
           "Elon Musk",
           "@elonmusk",
           52202,
           103,
           "2009/06/02"
          ],
          [
           "Roop Darak BHARTIYA",
           "@iRupND",
           814,
           388,
           "2019/12/21"
          ],
          [
           "Barack Obama",
           "@BarackObama",
           127808,
           593532,
           "2007/03/05"
          ],
          [
           "Priorities USA",
           "@prioritiesUSA",
           100360,
           68,
           "2011/04/29"
          ],
          [
           "PIB Fact Check",
           "@PIBFactCheck",
           183,
           31,
           "2019/12/19"
          ],
          [
           "João Doria",
           "@jdoriajr",
           4661,
           371,
           "2009/08/11"
          ],
          [
           "Allison Pearson",
           "@allisonpearson",
           2863,
           18003,
           "2010/04/26"
          ],
          [
           "Ministerio de Salud",
           "@Minsa_Peru",
           956,
           3629,
           "2010/04/29"
          ],
          [
           "Фред Џонс",
           "@Freddy_AFC",
           39,
           1881,
           "2015/03/29"
          ],
          [
           "ishaan prakash",
           "@ishaan_ANI",
           1962,
           100,
           "2013/06/30"
          ],
          [
           "OPS/OMS Perú",
           "@OPSOMSPeru",
           166,
           1337,
           "2010/05/06"
          ],
          [
           "Rudy W. Giuliani",
           "@RudyGiuliani",
           1804,
           460,
           "2016/08/31"
          ],
          [
           "Sarim malik19",
           "@Sarim192",
           0,
           130,
           "2019/03/06"
          ],
          [
           "Luciana Borio, MD",
           "@llborio",
           1039,
           352,
           "2013/03/15"
          ],
          [
           "Prasar Bharati News Services पी.बी.एन.एस.",
           "@PBNS_India",
           4282,
           71,
           "2019/04/01"
          ],
          [
           "Ministry of Health",
           "@MOH_Kenya",
           106,
           661,
           "2016/02/02"
          ],
          [
           "PIB Fact Check",
           "@PIBFactCheck",
           371,
           31,
           "2019/12/19"
          ],
          [
           "Leo Varadkar",
           "@LeoVaradkar",
           397,
           1751,
           "2010/12/22"
          ],
          [
           "Leo Varadkar",
           "@LeoVaradkar",
           4389,
           1751,
           "2010/12/22"
          ],
          [
           "Houseparty",
           "@houseparty",
           29022,
           14,
           "2014/12/12"
          ],
          [
           "Syed Rahat Naqvi",
           "@SyedRahatNaqvi",
           207,
           465,
           "2018/12/13"
          ],
          [
           "Fenalco Nacional",
           "@FenalcoNacional",
           47,
           995,
           "2009/11/11"
          ],
          [
           "Tedros Adhanom Ghebreyesus",
           "@DrTedros",
           6550,
           1206,
           "2010/09/12"
          ],
          [
           "Sagar P. Kapasi",
           "@iamsagarkapasi",
           0,
           94,
           "2010/06/18"
          ],
          [
           "Carlos Vera",
           "@CarlosVerareal",
           2126,
           2939,
           "2010/09/19"
          ],
          [
           "Osmar Terra",
           "@OsmarTerra",
           26601,
           10860,
           "2009/07/01"
          ],
          [
           "Hora 25",
           "@hora25",
           5362,
           903,
           "2008/05/17"
          ],
          [
           "𝐅𝐢𝐧𝐚𝐧𝐳𝐚𝐬 ≜",
           "@Finanzas_Pharol",
           1124,
           50,
           "2019/07/02"
          ],
          [
           "Presidencia Colombia 🇨🇴",
           "@infopresidencia",
           79,
           292,
           "2011/06/07"
          ],
          [
           "Министерство за здравство",
           "@ZdravstvoMK",
           49,
           141,
           "2012/12/06"
          ],
          [
           "NYTimes Communications",
           "@NYTimesPR",
           973,
           1506,
           "2008/08/12"
          ],
          [
           "SDG2030",
           "@SDG2030",
           373,
           500,
           "2015/03/18"
          ],
          [
           "Trump War Room",
           "@TrumpWarRoom",
           2701,
           267,
           "2019/03/20"
          ],
          [
           "Roy Barreras",
           "@RoyBarreras",
           3244,
           1687,
           "2009/08/02"
          ],
          [
           "Agir Gupta",
           "@agirgupta",
           0,
           10,
           "2015/05/07"
          ],
          [
           "ASG01",
           "@rocksatish448",
           4,
           43,
           "2017/11/14"
          ],
          [
           "Dr K K Aggarwal",
           "@DrKKAggarwal",
           37,
           533,
           "2010/01/03"
          ],
          [
           "Pradeep Dwivedi®",
           "@PradeepDwivedi",
           9,
           2022,
           "2009/03/26"
          ],
          [
           "MOFA",
           "@MOFAkr_eng",
           53,
           511,
           "2010/10/18"
          ],
          [
           "Grupo Mémora",
           "@GrupoMemora",
           4,
           428,
           "2012/07/03"
          ],
          [
           "🇮🇳 Nation 1st 🕉🚩",
           "@Nation_is1st",
           1,
           4826,
           "2015/01/03"
          ],
          [
           "Assam Police",
           "@assampolice",
           424,
           118,
           "2015/08/05"
          ],
          [
           "Geri Cuba",
           "@GerardoCuba1986",
           5,
           400,
           "2018/10/11"
          ],
          [
           "Jignesh",
           "@thisisjignesh",
           289,
           1475,
           "2017/07/10"
          ],
          [
           "Osmar Terra",
           "@OsmarTerra",
           0,
           10860,
           "2009/07/01"
          ],
          [
           "Candace Owens",
           "@RealCandaceO",
           14130,
           26,
           "2017/06/23"
          ],
          [
           "Salim Mattar",
           "@salimmattarBR",
           1896,
           80,
           "2019/10/21"
          ],
          [
           "World Health Organization (WHO)",
           "@WHO",
           1473,
           1734,
           "2008/04/23"
          ],
          [
           "badly-drawn bee 🐝",
           "@soapachu",
           40925,
           7804,
           "2009/02/17"
          ],
          [
           "Juan Manuel Galán",
           "@juanmanuelgalan",
           378,
           15801,
           "2009/04/14"
          ],
          [
           "SALUD México",
           "@SSalud_mx",
           95,
           237,
           "2010/04/12"
          ],
          [
           "دار الإفتاء المصرية 🇪🇬",
           "@EgyptDarAlIfta",
           3220,
           3,
           "2015/01/05"
          ],
          [
           "Cameron Kyle-Sidell, MD",
           "@cameronks",
           73,
           174,
           "2011/04/18"
          ],
          [
           "Inquirer",
           "@inquirerdotnet",
           152,
           1827,
           "2008/07/16"
          ],
          [
           "Elliot Alderson",
           "@fs0c131y",
           347,
           3792,
           "2015/06/10"
          ],
          [
           "Live Law",
           "@LiveLawIndia",
           664,
           1100,
           "2013/03/09"
          ],
          [
           "Ignacio Pereira",
           "@ignaciopereira",
           177,
           399,
           "2010/03/06"
          ],
          [
           "Noguchi Memorial Institute for Medical Research",
           "@NMIMR_UG",
           1830,
           59,
           "2018/08/10"
          ],
          [
           "Rodrigo Maia",
           "@RodrigoMaia",
           22918,
           621,
           "2009/04/25"
          ],
          [
           "🎀Makhumaloo🎀",
           "@Tk0606khumz",
           19,
           7260,
           "2019/09/11"
          ],
          [
           "MinSaludCol",
           "@MinSaludCol",
           2579,
           814,
           "2011/09/11"
          ],
          [
           "Álvaro Uribe Vélez",
           "@AlvaroUribeVel",
           13394,
           3637,
           "2009/07/29"
          ],
          [
           "HomeAffairsSA",
           "@HomeAffairsSA",
           118,
           1740,
           "2011/06/30"
          ],
          [
           "Alexandre Shazzam",
           "@alefrota77",
           315,
           729,
           "2019/08/25"
          ],
          [
           "WAHO | OOAS",
           "@OoasWaho",
           16,
           279,
           "2016/02/18"
          ],
          [
           "Brit Hume",
           "@brithume",
           31722,
           838,
           "2010/02/07"
          ],
          [
           "Rahul Kanwal",
           "@rahulkanwal",
           22201,
           4098,
           "2009/09/19"
          ],
          [
           "IMSS Jalisco",
           "@imssjalcontigo",
           123,
           736,
           "2014/06/05"
          ],
          [
           "Ministry of Health",
           "@MOH_Kenya",
           64,
           661,
           "2016/02/02"
          ],
          [
           "Inquirer",
           "@inquirerdotnet",
           32,
           1827,
           "2008/07/16"
          ],
          [
           "El pollo",
           "@elpollocabreado",
           2,
           142,
           "2011/05/19"
          ],
          [
           "WAHO | OOAS",
           "@OoasWaho",
           19,
           279,
           "2016/02/18"
          ],
          [
           "Tori Sachs",
           "@Tori_Sachs",
           4478,
           4479,
           "2010/11/22"
          ],
          [
           "NCDC",
           "@NCDCgov",
           4690,
           384,
           "2016/03/04"
          ],
          [
           "دار الإفتاء المصرية 🇪🇬",
           "@EgyptDarAlIfta",
           1122,
           3,
           "2015/01/05"
          ],
          [
           "IMSS",
           "@Tu_IMSS",
           13278,
           34641,
           "2009/08/26"
          ],
          [
           "Andrew Lawrence",
           "@ndrew_lawrence",
           477,
           3431,
           "2013/02/28"
          ],
          [
           "Miyerlandi Torres Agredo",
           "@MiyerTorresA",
           63,
           339,
           "2013/09/16"
          ],
          [
           "João Doria",
           "@jdoriajr",
           721,
           371,
           "2009/08/11"
          ],
          [
           "NDTV",
           "@ndtv",
           786,
           15,
           "2009/05/01"
          ],
          [
           "World Health Organization (WHO) Western Pacific",
           "@WHOWPRO",
           22,
           1205,
           "2015/10/05"
          ],
          [
           "World Health Organization (WHO) Western Pacific",
           "@WHOWPRO",
           26,
           1205,
           "2015/10/05"
          ],
          [
           "AFP News Agency",
           "@AFP",
           385,
           611,
           "2011/09/27"
          ],
          [
           "SheDecides Philippines",
           "@SheDecidesPH",
           2,
           107,
           "2020/02/24"
          ],
          [
           "SINAG",
           "@csspsinag",
           15,
           113,
           "2015/04/22"
          ],
          [
           "Sarah Elago",
           "@sarahelago",
           60,
           1559,
           "2010/01/08"
          ],
          [
           "Ministerio de Sanidad",
           "@sanidadgob",
           140,
           689,
           "2010/12/30"
          ],
          [
           "Salud Pública",
           "@SaludPublicaEs",
           1180,
           7,
           "2014/10/10"
          ],
          [
           "Salud Pública",
           "@SaludPublicaEs",
           1547,
           7,
           "2014/10/10"
          ],
          [
           "Ministerio de Sanidad",
           "@sanidadgob",
           142,
           689,
           "2010/12/30"
          ],
          [
           "Sarah Elago",
           "@sarahelago",
           306,
           1559,
           "2010/01/08"
          ],
          [
           "SGG Edoméx",
           "@SGGEdomex",
           21,
           566,
           "2011/09/16"
          ],
          [
           "Nadine Witkowski",
           "@witkowski_nad",
           109,
           359,
           "2016/01/19"
          ],
          [
           "D.Kimathi University",
           "@DeKUTkenya",
           10,
           463,
           "2013/09/20"
          ],
          [
           "Jean-Michel Blanquer",
           "@jmblanquer",
           2707,
           6525,
           "2011/08/22"
          ],
          [
           "Ministério da Saúde",
           "@minsaude",
           46250,
           486,
           "2009/05/04"
          ],
          [
           "Naftali Bennett בנט",
           "@naftalibennett",
           711,
           688,
           "2008/02/07"
          ],
          [
           "François Legault",
           "@francoislegault",
           1147,
           157,
           "2011/03/04"
          ],
          [
           "State House Kenya",
           "@StateHouseKenya",
           843,
           215,
           "2011/08/30"
          ],
          [
           "Tyrone_gawa",
           "@gawa_tyrone",
           2,
           2281,
           "2009/03/22"
          ],
          [
           "CMO Maharashtra",
           "@CMOMaharashtra",
           2275,
           99,
           "2014/07/01"
          ],
          [
           "Ministério da Saúde",
           "@minsaude",
           1093,
           486,
           "2009/05/04"
          ],
          [
           "Dan Patrick",
           "@DanPatrick",
           428,
           827,
           "2008/11/24"
          ],
          [
           "Nimra",
           "@smokyswaggin",
           4004,
           45,
           "2013/11/27"
          ],
          [
           "CP Mumbai Police",
           "@CPMumbaiPolice",
           10169,
           21,
           "2015/12/16"
          ],
          [
           "Sonam Mahajan",
           "@AsYouNotWish",
           4293,
           38,
           "2011/07/25"
          ],
          [
           "RanveerAulakh33468 - किसान मजदूर एकता जिन्दाबाद",
           "@aulakh33468",
           0,
           1653,
           "2020/02/24"
          ],
          [
           "Narendra Modi",
           "@narendramodi",
           258756,
           2354,
           "2009/01/10"
          ],
          [
           "newschecker.in",
           "@NewscheckerIn",
           26,
           242,
           "2019/02/14"
          ],
          [
           "James Cook",
           "@BBCJamesCook",
           3096,
           1775,
           "2008/10/28"
          ],
          [
           "Ministry of Health- Uganda",
           "@MinofHealthUG",
           585,
           414,
           "2014/11/18"
          ],
          [
           "Matteo Salvini",
           "@matteosalvinimi",
           5051,
           2007,
           "2011/03/23"
          ],
          [
           "Giorgia Meloni 🇮🇹 ن",
           "@GiorgiaMeloni",
           3752,
           906,
           "2010/04/07"
          ],
          [
           "Francisco Muñoz",
           "@panchorgl",
           104,
           1655,
           "2007/07/27"
          ],
          [
           "Naftali Bennett בנט",
           "@naftalibennett",
           339,
           688,
           "2008/02/07"
          ],
          [
           "Mehrunnissa Khan",
           "@KhanMehrunnissa",
           4,
           12,
           "2020/02/16"
          ],
          [
           "7NEWS Sydney",
           "@7NewsSydney",
           73,
           179,
           "2010/06/17"
          ],
          [
           "Ministry of Health",
           "@MOH_Kenya",
           588,
           661,
           "2016/02/02"
          ],
          [
           "Department of Health and Social Care",
           "@DHSCgovuk",
           365,
           852,
           "2009/05/05"
          ],
          [
           "Santiago Cafiero",
           "@SantiCafiero",
           807,
           526,
           "2009/05/26"
          ],
          [
           "Medanta",
           "@medanta",
           296,
           3045,
           "2009/11/18"
          ],
          [
           "María Luisa Melo",
           "@MLMelo",
           435,
           3703,
           "2009/08/27"
          ],
          [
           "Matt McCarthy",
           "@DrMattMcCarthy",
           46843,
           139,
           "2013/09/14"
          ],
          [
           "Johns Hopkins University",
           "@JohnsHopkins",
           604,
           4889,
           "2008/04/19"
          ],
          [
           "PharmaMar",
           "@PhrmMar",
           286,
           2040,
           "2015/01/29"
          ],
          [
           "Troll Memes",
           "@troll_Memes09",
           218,
           568,
           "2017/04/05"
          ],
          [
           "Alfredo Rangel",
           "@AlRangelS",
           11664,
           753,
           "2010/08/04"
          ],
          [
           "Ministry of Health",
           "@MOH_Kenya",
           115,
           661,
           "2016/02/02"
          ],
          [
           "PIB Fact Check",
           "@PIBFactCheck",
           876,
           31,
           "2019/12/19"
          ],
          [
           "Andrés Manuel",
           "@lopezobrador_",
           15796,
           256,
           "2009/10/13"
          ],
          [
           "Fahrettin Altun",
           "@fahrettinaltun",
           41175,
           1138,
           "2018/02/23"
          ],
          [
           "Talisson Ferreira",
           "@talissondsf",
           667,
           2653,
           "2018/04/04"
          ],
          [
           "PP Jain INC",
           "@pppjain",
           3,
           362,
           "2010/03/02"
          ],
          [
           "Chayan Chatterjee",
           "@Satyanewshi",
           1136,
           262,
           "2016/07/13"
          ],
          [
           "Abhishek Srivastava",
           "@plutokingsize",
           11,
           96,
           "2010/01/06"
          ],
          [
           "กระทรวงสาธารณสุข",
           "@pr_moph",
           98,
           494,
           "2010/05/14"
          ],
          [
           "OMS Algérie",
           "@OMS_ALGERIE",
           59,
           90,
           "2016/06/27"
          ],
          [
           "पीआईबी हिंदी",
           "@PIBHindi",
           1966,
           118,
           "2015/01/29"
          ],
          [
           "المجلس",
           "@Almajlliss",
           146,
           0,
           "2012/02/13"
          ],
          [
           "Didier Raoult",
           "@raoult_didier",
           47809,
           14,
           "2020/03/24"
          ],
          [
           "🌟SONIA ✨ ORGANA🌟",
           "@AINOSvp",
           64,
           442,
           "2011/03/06"
          ],
          [
           "Stefano Pontecorvo",
           "@pontecorvoste",
           1180,
           1790,
           "2015/10/27"
          ],
          [
           "Tedros Adhanom Ghebreyesus",
           "@DrTedros",
           4573,
           1206,
           "2010/09/12"
          ],
          [
           "loneWolf",
           "@Aj6ix9ine",
           9,
           1720,
           "2019/02/14"
          ],
          [
           "Rádio CBN",
           "@CBNoficial",
           18542,
           206,
           "2012/08/28"
          ],
          [
           "Susanta Nanda IFS",
           "@susantananda3",
           4978,
           349,
           "2018/01/03"
          ],
          [
           "Missouri DESE",
           "@MOEducation",
           361,
           1792,
           "2010/11/16"
          ],
          [
           "ANI",
           "@ANI",
           430,
           0,
           "2011/08/16"
          ],
          [
           "IRSnews",
           "@IRSnews",
           4288,
           133,
           "2009/09/08"
          ],
          [
           "دار الإفتاء المصرية 🇪🇬",
           "@EgyptDarAlIfta",
           368,
           3,
           "2015/01/05"
          ],
          [
           "DIRCO South Africa",
           "@DIRCO_ZA",
           35,
           4284,
           "2015/01/28"
          ],
          [
           "Spokesperson, Ministry of Home Affairs",
           "@PIBHomeAffairs",
           6376,
           135,
           "2016/07/13"
          ],
          [
           "Instituto de Salud Carlos III (ISCIII)",
           "@SaludISCIII",
           23,
           525,
           "2019/04/13"
          ],
          [
           "World Health Organization Philippines",
           "@WHOPhilippines",
           527,
           488,
           "2013/11/27"
          ],
          [
           "Tedros Adhanom Ghebreyesus",
           "@DrTedros",
           1139,
           1206,
           "2010/09/12"
          ],
          [
           "CDC",
           "@CDCgov",
           612,
           269,
           "2010/05/21"
          ],
          [
           "Global Times",
           "@globaltimesnews",
           2939,
           520,
           "2009/06/22"
          ],
          [
           "Emilio Morenatti",
           "@EmilioMorenatti",
           872,
           533,
           "2011/02/20"
          ],
          [
           "Lijian Zhao 赵立坚",
           "@zlj517",
           6813,
           174813,
           "2010/05/08"
          ],
          [
           "Embajada de Cuba en el Perú",
           "@EmbaCubaPeru",
           49,
           1221,
           "2014/08/20"
          ],
          [
           "Olivier Véran",
           "@olivierveran",
           37764,
           462,
           "2012/06/05"
          ],
          [
           "Universität Wien",
           "@univienna",
           802,
           1720,
           "2013/02/07"
          ],
          [
           "BAST - Sound Therapy",
           "@BASoundTherapy",
           4,
           914,
           "2016/08/31"
          ],
          [
           "Rebecca Alitwala Kadaga",
           "@RebeccaKadagaUG",
           855,
           209,
           "2019/01/15"
          ],
          [
           "Faheem Younus, MD",
           "@FaheemYounus",
           23001,
           445,
           "2011/10/12"
          ],
          [
           "Giuseppe Conte",
           "@GiuseppeConteIT",
           17617,
           135,
           "2018/05/24"
          ],
          [
           "Guardia Civil 🇪🇸",
           "@guardiacivil",
           442,
           288,
           "2011/05/09"
          ],
          [
           "LIBRESYLOKOS.NET",
           "@LIBRESYLOKOS",
           377,
           234,
           "2009/07/20"
          ],
          [
           "PDH Guatemala",
           "@PDHgt",
           44,
           520,
           "2013/09/23"
          ],
          [
           "Comite Carapungo",
           "@CarapungoComite",
           19,
           368,
           "2017/08/30"
          ],
          [
           "𝓑𝓲𝓷𝓽-𝓔-𝓗𝓪𝔀𝓪 بنتِ حوا",
           "@zTweeples",
           30,
           9,
           "2020/01/28"
          ],
          [
           "General Heleno",
           "@gen_heleno",
           68310,
           49,
           "2019/08/19"
          ],
          [
           "Alejo Miranda de Larra",
           "@AlejoMiranda",
           163,
           1646,
           "2009/01/04"
          ],
          [
           "Ayuntamiento de Adra",
           "@AytoAdra",
           0,
           87,
           "2015/11/18"
          ],
          [
           "Jimina",
           "@Jimina_Sabadu",
           2091,
           1804,
           "2007/03/12"
          ],
          [
           "Valerio Capraro",
           "@ValerioCapraro",
           33621,
           194,
           "2013/09/12"
          ],
          [
           "Er. A N Ansari.",
           "@ErANAnsari",
           0,
           2019,
           "2017/06/02"
          ],
          [
           "Jimina",
           "@Jimina_Sabadu",
           39,
           1804,
           "2007/03/12"
          ],
          [
           "OjoPúblico",
           "@Ojo_Publico",
           61,
           470,
           "2014/06/22"
          ],
          [
           "Gaël Hurlimann",
           "@gaelhurlimann",
           100,
           1363,
           "2009/04/27"
          ],
          [
           "Hassaan Niazi",
           "@HniaziISF",
           12,
           270,
           "2010/04/09"
          ],
          [
           "Teófilo Borrallo",
           "@Teofilo1952",
           3,
           11392,
           "2010/11/17"
          ],
          [
           "raj",
           "@raj2jas",
           1,
           2213,
           "2009/04/14"
          ],
          [
           "Government of Rajasthan",
           "@RajGovOfficial",
           456,
           24,
           "2016/10/12"
          ],
          [
           "Ayuntamiento de Calahorra",
           "@aytocalahorra",
           4,
           610,
           "2012/02/13"
          ],
          [
           "Joe Biden",
           "@JoeBiden",
           81644,
           46,
           "2007/03/11"
          ],
          [
           "Ministry of Health- Uganda",
           "@MinofHealthUG",
           2160,
           414,
           "2014/11/18"
          ],
          [
           "Michael Welling",
           "@WellingMichael",
           27786,
           19295,
           "2011/08/19"
          ],
          [
           "ENACOM",
           "@ENACOMArgentina",
           1323,
           765,
           "2013/12/17"
          ],
          [
           "kmario",
           "@kmario",
           2039,
           2079,
           "2008/04/28"
          ],
          [
           "✴️ ᙢคᏁἶֆհค ✴️ ~ 👩‍⚕️⚕️📻 🤨 🧐",
           "@manisha__gupta",
           13,
           588,
           "2011/07/31"
          ],
          [
           "La Moncloa",
           "@desdelamoncloa",
           788,
           195,
           "2009/07/20"
          ],
          [
           "Ministry of Health",
           "@MOH_Kenya",
           135,
           661,
           "2016/02/02"
          ],
          [
           "#GetTalkingwithEsther",
           "@EstherIjewere",
           959,
           7916,
           "2010/08/21"
          ],
          [
           "Emilys Yuritza",
           "@Emilys4F",
           1,
           889,
           "2020/03/22"
          ],
          [
           "Fredys Liendo",
           "@fredysliendo",
           0,
           305,
           "2010/04/19"
          ],
          [
           "Alfons López Tena",
           "@alfonslopeztena",
           3921,
           18199,
           "2011/06/02"
          ],
          [
           "ADG PI - INDIAN ARMY",
           "@adgpi",
           2278,
           111,
           "2013/02/28"
          ],
          [
           "Ministry of Health",
           "@MOH_Kenya",
           89,
           661,
           "2016/02/02"
          ],
          [
           "Ministry of Health",
           "@MOH_Kenya",
           68,
           661,
           "2016/02/02"
          ],
          [
           "CMO Maharashtra",
           "@CMOMaharashtra",
           10058,
           99,
           "2014/07/01"
          ],
          [
           "Ministério da Economia",
           "@MinEconomia",
           941,
           390,
           "2010/11/17"
          ],
          [
           "MinSaludCol",
           "@MinSaludCol",
           9240,
           814,
           "2011/09/11"
          ],
          [
           "Mumbai Police",
           "@MumbaiPolice",
           3333,
           30,
           "2015/12/16"
          ],
          [
           "ONU México",
           "@ONUMX",
           27,
           834,
           "2010/11/30"
          ],
          [
           "Cruz Roja Mexicana IAP",
           "@CruzRoja_MX",
           22,
           806,
           "2010/02/14"
          ],
          [
           "Madman. हैदर का बाप",
           "@MadMG61",
           3,
           201,
           "2019/09/13"
          ],
          [
           "ناصر چنیوٹی",
           "@_Chinioty",
           373,
           73,
           "2013/05/17"
          ],
          [
           "कुंदा कवळेकर...( K.K.)",
           "@kundakavelkar",
           146,
           386,
           "2015/05/04"
          ],
          [
           "Uber Kenya",
           "@uber_kenya",
           35,
           2492,
           "2014/12/18"
          ],
          [
           "Gioconda San Blas",
           "@daVinci1412",
           622,
           491,
           "2012/01/17"
          ],
          [
           "Andrew Cuomo",
           "@NYGovCuomo",
           34878,
           622,
           "2010/12/30"
          ],
          [
           "NBVC",
           "@NBVCCalifornia",
           59,
           106,
           "2012/04/20"
          ],
          [
           "Habibies",
           "@Habibies",
           678,
           672,
           "2009/09/30"
          ],
          [
           "ANI",
           "@ANI",
           999,
           0,
           "2011/08/16"
          ],
          [
           "Amitabh Bachchan",
           "@SrBachchan",
           11141,
           1803,
           "2010/05/18"
          ],
          [
           "covid19indiaorg",
           "@covid19indiaorg",
           60,
           2,
           "2020/03/19"
          ],
          [
           "Kiran Subedi",
           "@KiranSu11082143",
           0,
           8,
           "2020/03/22"
          ],
          [
           "Extinction Rebellion",
           "@ExtinctionR",
           3274,
           24457,
           "2018/07/19"
          ],
          [
           "Amir Khan",
           "@amirkingkhan",
           88834,
           592,
           "2009/06/10"
          ],
          [
           "Amitabh Bachchan",
           "@SrBachchan",
           6277,
           1803,
           "2010/05/18"
          ],
          [
           "PIB Fact Check",
           "@PIBFactCheck",
           1096,
           31,
           "2019/12/19"
          ],
          [
           "MinSaludCol",
           "@MinSaludCol",
           3537,
           814,
           "2011/09/11"
          ],
          [
           "Extinction Rebellion UK 🌍",
           "@XRebellionUK",
           126,
           1500,
           "2019/04/29"
          ],
          [
           "Dr Zweli Mkhize",
           "@DrZweliMkhize",
           2562,
           38576,
           "2017/03/22"
          ],
          [
           "CHU de Bordeaux",
           "@CHUBordeaux",
           215,
           1212,
           "2013/09/16"
          ],
          [
           "CDC",
           "@CDCgov",
           6096,
           269,
           "2010/05/21"
          ],
          [
           "Hussam Alhaj",
           "@HussamAlhaj4",
           3057,
           330,
           "2017/05/14"
          ],
          [
           "Junta de Andalucía",
           "@AndaluciaJunta",
           29,
           3765,
           "2011/10/03"
          ],
          [
           "Osmar Terra",
           "@OsmarTerra",
           20368,
           10859,
           "2009/07/01"
          ],
          [
           "World Health Organization Philippines",
           "@WHOPhilippines",
           300,
           488,
           "2013/11/27"
          ],
          [
           "Joe Biden",
           "@JoeBiden",
           5575,
           46,
           "2007/03/11"
          ],
          [
           "Jon Snow",
           "@jonsnowC4",
           9492,
           616,
           "2010/03/31"
          ],
          [
           "STIB-MIVB",
           "@STIBMIVB",
           4716,
           2213,
           "2009/05/27"
          ],
          [
           "Tancredi Palmeri",
           "@tancredipalmeri",
           890,
           2359,
           "2010/07/17"
          ],
          [
           "Hua Chunying 华春莹",
           "@SpokespersonCHN",
           2530,
           153,
           "2019/10/14"
          ],
          [
           "Stanford University",
           "@Stanford",
           546,
           523,
           "2008/12/11"
          ],
          [
           "Prof. Akiko Iwasaki",
           "@VirusesImmunity",
           12951,
           1715,
           "2017/05/16"
          ],
          [
           "Cristiano Ronaldo",
           "@Cristiano",
           181530,
           56,
           "2010/06/14"
          ],
          [
           "wilfredo casasola",
           "@wilfredocasaso2",
           1,
           35,
           "2020/03/01"
          ],
          [
           "eli",
           "@clairesjam",
           7111,
           630,
           "2010/10/15"
          ],
          [
           "Imroz Rahi (JŰŅÎØŘ)",
           "@ImrozRahi3",
           5,
           808,
           "2020/01/23"
          ],
          [
           "MedUni Wien",
           "@MedUni_Wien",
           6965,
           182,
           "2011/06/20"
          ],
          [
           "MedUni Wien",
           "@MedUni_Wien",
           966,
           182,
           "2011/06/20"
          ],
          [
           "CHU de Toulouse",
           "@CHUdeToulouse",
           39,
           1704,
           "2014/07/21"
          ],
          [
           "Foot Mercato",
           "@footmercato",
           8195,
           447,
           "2010/12/21"
          ],
          [
           "Filipe Caetano",
           "@filicaetano",
           500,
           907,
           "2007/04/03"
          ],
          [
           "Marián García",
           "@boticariagarcia",
           49,
           1212,
           "2011/12/31"
          ],
          [
           "Juniverse™",
           "@jup1897",
           561,
           454,
           "2013/11/20"
          ],
          [
           "Kristof Terreur",
           "@HLNinEngeland",
           547,
           991,
           "2013/01/15"
          ],
          [
           "NCDC",
           "@NCDCgov",
           212,
           384,
           "2016/03/04"
          ],
          [
           "Pop Crave",
           "@PopCrave",
           31119,
           2762,
           "2015/12/09"
          ],
          [
           "Catherine Gasté",
           "@catherinegaste",
           99,
           12723,
           "2009/11/27"
          ],
          [
           "Policía Nacional",
           "@policia",
           338,
           0,
           "2009/03/11"
          ],
          [
           "Anaïs Martinez",
           "@Naismtz7",
           0,
           1720,
           "2017/10/12"
          ],
          [
           "dirtydude",
           "@jmdu91290",
           2,
           459,
           "2015/06/02"
          ],
          [
           "Policía Nacional",
           "@policia",
           609,
           0,
           "2009/03/11"
          ],
          [
           "Osornator",
           "@Osornator",
           0,
           347,
           "2011/04/08"
          ],
          [
           "Yolanda Velez",
           "@yovelezarcelay",
           721,
           378,
           "2014/11/03"
          ],
          [
           "MDS",
           "@MDSwenson",
           16,
           145,
           "2017/03/10"
          ],
          [
           "PLOMO PAREJO",
           "@plomoparejo",
           1084,
           1193,
           "2009/09/28"
          ],
          [
           "Sergio Burstein",
           "@SLBurstein",
           109310,
           316,
           "2012/01/23"
          ],
          [
           "PIB Fact Check",
           "@PIBFactCheck",
           335,
           31,
           "2019/12/19"
          ],
          [
           "Delegación del Gobierno en Canarias",
           "@DgCanarias",
           167,
           363,
           "2016/01/28"
          ],
          [
           "Aleksandra Wójcicka 🇵🇱✝️💯#BabiesLivesMatter🇵🇱",
           "@alexja25",
           1436,
           1437,
           "2014/07/27"
          ],
          [
           "TCS Noticias",
           "@tcsnoticias",
           1784,
           948,
           "2010/08/24"
          ],
          [
           "Ministerio Defensa",
           "@MindefArg",
           77,
           154,
           "2015/12/15"
          ],
          [
           "Mzwandile Masina",
           "@mzwandileMasina",
           743,
           1736,
           "2012/04/29"
          ],
          [
           "Nation Breaking News",
           "@NationBreaking",
           1453,
           27,
           "2013/09/05"
          ],
          [
           "Alvise Pérez",
           "@Alvisepf",
           5528,
           2678,
           "2011/03/08"
          ],
          [
           "PIB Fact Check",
           "@PIBFactCheck",
           256,
           31,
           "2019/12/19"
          ],
          [
           "PIB Fact Check",
           "@PIBFactCheck",
           193,
           31,
           "2019/12/19"
          ],
          [
           "Gaurav Gupta",
           "@BBMPAdmn",
           77,
           28,
           "2015/04/22"
          ],
          [
           "Azam Jamil",
           "@AzamJamil53",
           923,
           782,
           "2017/03/09"
          ],
          [
           "Gregory Rigano",
           "@RiganoESQ",
           14854,
           845,
           "2018/06/06"
          ],
          [
           "The Hill",
           "@thehill",
           9993,
           276,
           "2007/03/22"
          ],
          [
           "Jansampark CG",
           "@DPRChhattisgarh",
           13,
           53,
           "2014/02/24"
          ],
          [
           "Citizen TV Kenya",
           "@citizentvkenya",
           33,
           156,
           "2009/08/31"
          ],
          [
           "CRTVweb",
           "@CRTV_web",
           117,
           2398,
           "2016/05/04"
          ],
          [
           "Justin Trudeau",
           "@JustinTrudeau",
           14905,
           942,
           "2008/03/30"
          ],
          [
           "LIBRESYLOKOS.NET",
           "@LIBRESYLOKOS",
           528,
           234,
           "2009/07/20"
          ],
          [
           "WA National Guard",
           "@WANationalGuard",
           2831,
           1778,
           "2010/06/02"
          ],
          [
           "Vicky Dehaene",
           "@womandream",
           56,
           361,
           "2009/07/21"
          ],
          [
           "Pooja Tibdewal",
           "@tibdewalpooja",
           1,
           197,
           "2010/07/29"
          ],
          [
           "Jim Bianco",
           "@biancoresearch",
           3560,
           933,
           "2010/09/08"
          ],
          [
           "infocov",
           "@infocov_stats",
           0,
           45,
           "2020/03/18"
          ],
          [
           "Napoléon",
           "@tprincedelamour",
           2819,
           1078,
           "2012/05/05"
          ],
          [
           "Dr. Edsel Salvana",
           "@EdselSalvana",
           135880,
           345,
           "2015/04/04"
          ],
          [
           "Binod Kumar.",
           "@binodkumar999",
           6,
           3529,
           "2014/12/22"
          ],
          [
           "Defence Forces Corps of Engineers",
           "@DF_Engineers",
           496,
           128,
           "2019/01/04"
          ],
          [
           "Óglaigh na hÉireann",
           "@defenceforces",
           501,
           1567,
           "2009/09/20"
          ],
          [
           "☣️Coronavirus🧬COVID-19☣️STEM",
           "@CoronavirusSTEM",
           57,
           806,
           "2020/02/08"
          ],
          [
           "Jonathan Hoffman",
           "@ChiefPentSpox45",
           2505,
           37,
           "2017/05/08"
          ],
          [
           "Muhammad sarwar khan",
           "@Muhamma20827944",
           0,
           237,
           "2016/06/04"
          ],
          [
           "Victoria Police",
           "@VictoriaPolice",
           605,
           315,
           "2008/10/07"
          ],
          [
           "PIB Fact Check",
           "@PIBFactCheck",
           2839,
           31,
           "2019/12/19"
          ],
          [
           "AFP News Agency",
           "@AFP",
           77,
           611,
           "2011/09/27"
          ],
          [
           "PIB Fact Check",
           "@PIBFactCheck",
           287,
           31,
           "2019/12/19"
          ],
          [
           "Regional Warfare 🍁",
           "@Kashmir28471265",
           4,
           96,
           "2020/03/16"
          ],
          [
           "MIDIS",
           "@MidisPeru",
           1559,
           1104,
           "2013/09/09"
          ],
          [
           "Lord Sugar",
           "@Lord_Sugar",
           42978,
           3100,
           "2010/06/29"
          ],
          [
           "مازن موسى",
           "@mazenmousa7",
           3241,
           35349,
           "2013/11/27"
          ],
          [
           "Edappadi K Palaniswami",
           "@CMOTamilNadu",
           1179,
           57,
           "2017/03/23"
          ],
          [
           "Yawer.",
           "@yawerajaz4",
           10,
           106,
           "2018/04/13"
          ],
          [
           "AMS",
           "@amstellario",
           6,
           20,
           "2019/12/21"
          ],
          [
           "ALOKDELHI6",
           "@ALOKdelhi6",
           12,
           6473,
           "2014/02/14"
          ],
          [
           "Dr. Tara C. Smith",
           "@aetiology",
           1614,
           4962,
           "2009/04/25"
          ],
          [
           "KKMalaysia🇲🇾",
           "@KKMPutrajaya",
           4572,
           97,
           "2012/03/20"
          ],
          [
           "KKMalaysia🇲🇾",
           "@KKMPutrajaya",
           5929,
           97,
           "2012/03/20"
          ],
          [
           "ANI",
           "@ANI",
           718,
           0,
           "2011/08/16"
          ],
          [
           "Marco Malacara",
           "@mala13slp",
           0,
           2011,
           "2009/12/07"
          ],
          [
           "Presidencia Cuba",
           "@PresidenciaCuba",
           642,
           177,
           "2018/12/20"
          ],
          [
           "Miguel Díaz-Canel Bermúdez",
           "@DiazCanelB",
           6510,
           163,
           "2018/08/02"
          ],
          [
           "پایگاه خبری جماران",
           "@jamarannews",
           28,
           133,
           "2014/08/26"
          ],
          [
           "Cruz Roja en Álava",
           "@CruzRojaAlava",
           75,
           529,
           "2010/04/26"
          ],
          [
           "SALUD México",
           "@SSalud_mx",
           42,
           237,
           "2010/04/12"
          ],
          [
           "MinSaludCol",
           "@MinSaludCol",
           294,
           814,
           "2011/09/11"
          ],
          [
           "NOTICIAS MUNDIALES SIN CENSURA",
           "@MundialesSin",
           57,
           4831,
           "2018/10/29"
          ],
          [
           "Mahmoud Ahmadinejad",
           "@Ahmadinejad1956",
           4928,
           38,
           "2017/01/04"
          ],
          [
           "INPS",
           "@INPS_it",
           90,
           138,
           "2013/07/09"
          ],
          [
           "slutty spice",
           "@vL0k0",
           90,
           145,
           "2010/09/12"
          ],
          [
           "Tom Hanks",
           "@tomhanks",
           1019115,
           25,
           "2009/06/24"
          ],
          [
           "werner welge 🇩🇪📿",
           "@wernerwelge1",
           18,
           981,
           "2013/09/12"
          ],
          [
           "Embajada de China en España",
           "@ChinaEmbEsp",
           28663,
           2089,
           "2019/09/10"
          ],
          [
           "Govern. Generalitat",
           "@govern",
           704,
           112,
           "2010/05/19"
          ],
          [
           "Gobierno de Aragón",
           "@GobAragon",
           61,
           469,
           "2010/01/15"
          ],
          [
           "HadžiPešićeva",
           "@allfama",
           20,
           1240,
           "2010/09/03"
          ],
          [
           "Pablo Echenique",
           "@PabloEchenique",
           3484,
           2310,
           "2009/03/20"
          ],
          [
           "Evo Morales Ayma",
           "@evoespueblo",
           4689,
           30,
           "2016/04/15"
          ],
          [
           "Mayor Bill de Blasio",
           "@NYCMayor",
           10670,
           1365,
           "2009/01/31"
          ],
          [
           "Lijian Zhao 赵立坚",
           "@zlj517",
           18418,
           174817,
           "2010/05/08"
          ],
          [
           "Jack Ma Foundation",
           "@foundation_ma",
           55847,
           17,
           "2017/02/06"
          ],
          [
           "klaralonso🔻",
           "@klaralonso",
           563,
           943,
           "2011/05/19"
          ],
          [
           "eli",
           "@clairesjam",
           31667,
           630,
           "2010/10/15"
          ],
          [
           "Irene Montero",
           "@IreneMontero",
           44649,
           1975,
           "2011/09/13"
          ],
          [
           "Irene Montero",
           "@IreneMontero",
           4312,
           1975,
           "2011/09/13"
          ],
          [
           "Boti García Rodrigo",
           "@btcpd",
           4394,
           615,
           "2011/07/12"
          ],
          [
           "Andrew Cuomo",
           "@NYGovCuomo",
           1731,
           622,
           "2010/12/30"
          ],
          [
           "Citizen TV Kenya",
           "@citizentvkenya",
           714,
           156,
           "2009/08/31"
          ],
          [
           "actu Paris",
           "@actufrparis",
           37,
           11,
           "2019/06/26"
          ],
          [
           "Diputación de Málaga",
           "@diputacionMLG",
           67,
           3535,
           "2011/09/19"
          ],
          [
           "Charlie Kirk",
           "@charliekirk11",
           31846,
           200620,
           "2011/05/04"
          ],
          [
           "Policía Puente Genil",
           "@PoliciaPteGenil",
           1,
           36,
           "2012/12/26"
          ],
          [
           "Hua Chunying 华春莹",
           "@SpokespersonCHN",
           4789,
           153,
           "2019/10/14"
          ],
          [
           "Aviator Anil Chopra",
           "@Chopsyturvey",
           137,
           1336,
           "2011/10/06"
          ],
          [
           "Marcos da Silva (at 🏠)",
           "@markynhwz",
           0,
           554,
           "2014/03/08"
          ],
          [
           "Ministry of Health",
           "@MOH_Kenya",
           354,
           661,
           "2016/02/02"
          ],
          [
           "Alcaldía de Barranquilla",
           "@alcaldiabquilla",
           554,
           1255,
           "2010/01/16"
          ],
          [
           "Joaquín Robles Zabal",
           "@joaquinroblesza",
           5026,
           1049,
           "2010/05/07"
          ],
          [
           "Ministerstwo Zdrowia",
           "@MZ_GOV_PL",
           534,
           1173,
           "2012/01/13"
          ],
          [
           "Infectious Diseases Society of Ireland",
           "@IDSIreland",
           884,
           184,
           "2019/04/12"
          ],
          [
           "Dr Colm Henry, CCO HSE Ireland",
           "@CcoHse",
           255,
           327,
           "2018/10/01"
          ],
          [
           "Thomas P. Bossert",
           "@TomBossert",
           4151,
           907,
           "2013/05/03"
          ],
          [
           "Diputación de Málaga",
           "@diputacionMLG",
           38,
           3535,
           "2011/09/19"
          ],
          [
           "UNESPA",
           "@UNESPA",
           1196,
           528,
           "2011/03/29"
          ],
          [
           "Óglaigh na hÉireann",
           "@defenceforces",
           407,
           1567,
           "2009/09/20"
          ],
          [
           "Policía Nacional",
           "@policia",
           7002,
           0,
           "2009/03/11"
          ],
          [
           "ITVTanzania",
           "@ITVTANZANIA",
           42,
           1,
           "2012/03/21"
          ],
          [
           "Spokesperson GoK",
           "@SpokespersonGoK",
           109,
           777,
           "2016/01/27"
          ],
          [
           "Swiss Medical Group",
           "@SwissMedicalG",
           31,
           355,
           "2012/08/16"
          ],
          [
           "Jérémy Paoloni",
           "@JeremyPaoloni",
           0,
           1759,
           "2018/07/25"
          ],
          [
           "La SPA France",
           "@SPA_Officiel",
           2333,
           358,
           "2012/05/31"
          ],
          [
           "Enfamil",
           "@Enfamil",
           17,
           85,
           "2009/10/01"
          ],
          [
           "Armstrong",
           "@Armstrongthevdj",
           0,
           166,
           "2013/05/06"
          ],
          [
           "Policía Nacional",
           "@policia",
           337,
           0,
           "2009/03/11"
          ],
          [
           "Área 1 Arrixaca",
           "@AreaUnoArrixaca",
           183,
           632,
           "2014/06/10"
          ],
          [
           "Juan Villoro",
           "@JuanVilloro56",
           3976,
           91,
           "2011/03/18"
          ],
          [
           "Noticias Caracol",
           "@NoticiasCaracol",
           455,
           1135,
           "2008/12/02"
          ],
          [
           "Ju EA",
           "@JuEndrino",
           36,
           103403,
           "2015/01/15"
          ],
          [
           "Dr Alby John",
           "@albyjohnV",
           116,
           622,
           "2009/09/09"
          ],
          [
           "Óglaigh na hÉireann",
           "@defenceforces",
           1042,
           1567,
           "2009/09/20"
          ],
          [
           "WHO Kenya",
           "@WHOKenya",
           10,
           250,
           "2017/01/19"
          ],
          [
           "South African Government",
           "@GovernmentZA",
           355,
           513,
           "2013/06/21"
          ],
          [
           "Paweł Piotr Bartoszek🇵🇱",
           "@PawelPiotr1944",
           189,
           829,
           "2014/03/20"
          ],
          [
           "Damon",
           "@dwjm94",
           0,
           264,
           "2019/10/18"
          ],
          [
           "Marco Rubio",
           "@marcorubio",
           251,
           2483,
           "2008/08/06"
          ],
          [
           "شبكة عميد الإمارات",
           "@3meed_news",
           73,
           158,
           "2011/11/09"
          ],
          [
           "Davie Police Dept.",
           "@DaviePolice",
           40,
           271,
           "2011/04/13"
          ],
          [
           "NYCEM - Notify NYC",
           "@NotifyNYC",
           399,
           79,
           "2008/09/05"
          ],
          [
           "MinSaludCol",
           "@MinSaludCol",
           5974,
           814,
           "2011/09/11"
          ],
          [
           "خالد فهد الحسين",
           "@khalidfahad77",
           8,
           1406,
           "2013/05/08"
          ],
          [
           "World Health Organization (WHO)",
           "@WHO",
           2304,
           1734,
           "2008/04/23"
          ],
          [
           "Dr. Vivek Murthy, 21st U.S. Surgeon General",
           "@Surgeon_General",
           3469,
           165,
           "2012/01/04"
          ],
          [
           "Morttii 🥀",
           "@ROSARIOCERDARO1",
           655,
           5696,
           "2020/04/28"
          ],
          [
           "David E Morgan",
           "@demorgang",
           13,
           2082,
           "2010/07/27"
          ],
          [
           "Dr. Vivek Murthy, 21st U.S. Surgeon General",
           "@Surgeon_General",
           838,
           165,
           "2012/01/04"
          ],
          [
           "Dr. Vivek Murthy, 21st U.S. Surgeon General",
           "@Surgeon_General",
           120,
           165,
           "2012/01/04"
          ],
          [
           "Vítor Hugo",
           "@MajorVitorHugo",
           2109,
           576,
           "2011/07/09"
          ],
          [
           "Dr. Vivek Murthy, 21st U.S. Surgeon General",
           "@Surgeon_General",
           158,
           165,
           "2012/01/04"
          ],
          [
           "Dr. Vivek Murthy, 21st U.S. Surgeon General",
           "@Surgeon_General",
           87,
           165,
           "2012/01/04"
          ],
          [
           "Dr. Vivek Murthy, 21st U.S. Surgeon General",
           "@Surgeon_General",
           231,
           165,
           "2012/01/04"
          ],
          [
           "Dr. Vivek Murthy, 21st U.S. Surgeon General",
           "@Surgeon_General",
           78,
           165,
           "2012/01/04"
          ],
          [
           "Zhulin Zhang",
           "@ZhangZhulin",
           311,
           860,
           "2011/12/08"
          ],
          [
           "财经冷眼",
           "@caijinglengyan",
           436,
           567,
           "2016/10/31"
          ],
          [
           "BOOM Live",
           "@boomlive_in",
           78,
           1170,
           "2014/03/16"
          ],
          [
           "MinSaludCol",
           "@MinSaludCol",
           101,
           814,
           "2011/09/11"
          ],
          [
           "Dhiyasri@123",
           "@Dhiyasri1231",
           55,
           31,
           "2020/01/30"
          ],
          [
           "Chuck Schumer",
           "@SenSchumer",
           3546,
           24551,
           "2008/11/19"
          ],
          [
           "Chuck Schumer",
           "@SenSchumer",
           3510,
           24551,
           "2008/11/19"
          ],
          [
           "Chuck Schumer",
           "@SenSchumer",
           1909,
           24551,
           "2008/11/19"
          ],
          [
           "Chuck Schumer",
           "@SenSchumer",
           3888,
           24551,
           "2008/11/19"
          ],
          [
           "Chuck Schumer",
           "@SenSchumer",
           10228,
           24551,
           "2008/11/19"
          ],
          [
           "Chuck Schumer",
           "@SenSchumer",
           5364,
           24551,
           "2008/11/19"
          ],
          [
           "Chuck Schumer",
           "@SenSchumer",
           42193,
           24551,
           "2008/11/19"
          ],
          [
           "World Health Organization Philippines",
           "@WHOPhilippines",
           351,
           488,
           "2013/11/27"
          ],
          [
           "Raphael Rashid",
           "@koryodynasty",
           91,
           846,
           "2010/06/14"
          ],
          [
           "María Alejandra Díaz Marín",
           "@MariaesPueblo",
           58,
           1852,
           "2018/03/01"
          ],
          [
           "Chuck Schumer",
           "@SenSchumer",
           2145,
           24551,
           "2008/11/19"
          ],
          [
           "Chris Murphy",
           "@ChrisMurphyCT",
           39753,
           220,
           "2010/05/31"
          ],
          [
           "Ministerio de Salud",
           "@msaludpy",
           5,
           4161,
           "2011/09/05"
          ],
          [
           "Ministry of Health",
           "@MOH_Kenya",
           17,
           661,
           "2016/02/02"
          ],
          [
           "María Alejandra Díaz Marín",
           "@MariaesPueblo",
           122,
           1852,
           "2018/03/01"
          ],
          [
           "Ministry of Health",
           "@MOH_Kenya",
           13,
           661,
           "2016/02/02"
          ],
          [
           "iris",
           "@iris_78yq",
           62,
           101,
           "2018/02/18"
          ],
          [
           "José Simão",
           "@jose_simao",
           6791,
           133,
           "2009/12/09"
          ],
          [
           "Kenyatta National Hospital",
           "@KNH_hospital",
           68,
           177,
           "2014/05/13"
          ],
          [
           "Spokesperson GoK",
           "@SpokespersonGoK",
           37,
           777,
           "2016/01/27"
          ],
          [
           "Ministry of Health",
           "@MOH_Kenya",
           64,
           661,
           "2016/02/02"
          ],
          [
           "WHO African Region",
           "@WHOAFRO",
           79,
           583,
           "2012/04/03"
          ],
          [
           "Chuck Schumer",
           "@SenSchumer",
           7293,
           24551,
           "2008/11/19"
          ],
          [
           "Chuck Schumer",
           "@SenSchumer",
           11722,
           24551,
           "2008/11/19"
          ],
          [
           "¿Por qué es tendencia?",
           "@porquetendencia",
           7439,
           150,
           "2018/03/12"
          ],
          [
           "Prabhat प्रभात Kumar कुमार",
           "@Prabhat93078075",
           1,
           619,
           "2018/12/14"
          ],
          [
           "Shwet Suman Sharma",
           "@shwetsuman1991",
           2,
           433,
           "2011/11/15"
          ],
          [
           "marcelo tinelli",
           "@cuervotinelli",
           864,
           391,
           "2012/08/29"
          ],
          [
           "Federico Bal",
           "@balfederico",
           2196,
           553,
           "2010/04/15"
          ],
          [
           "UNICEF Malaysia",
           "@myUNICEF",
           36,
           538,
           "2013/10/29"
          ],
          [
           "WHO African Region",
           "@WHOAFRO",
           222,
           583,
           "2012/04/03"
          ],
          [
           "محمد بن زايد",
           "@MohamedBinZayed",
           925,
           0,
           "2012/01/22"
          ],
          [
           "Cyril Ramaphosa 🇿🇦 #StaySafe",
           "@CyrilRamaphosa",
           318,
           7,
           "2015/01/20"
          ],
          [
           "WHO African Region",
           "@WHOAFRO",
           114,
           583,
           "2012/04/03"
          ],
          [
           "Dr. Yasmin Ali Haque",
           "@DrYasminAHaque",
           35,
           190,
           "2017/07/14"
          ],
          [
           "Zhulin Zhang",
           "@ZhangZhulin",
           11,
           860,
           "2011/12/08"
          ],
          [
           "Bloomberg Quicktake",
           "@Quicktake",
           77,
           1461,
           "2011/02/15"
          ],
          [
           "Molly Beck",
           "@MollyBeck",
           20,
           2903,
           "2012/02/16"
          ],
          [
           "yanwang",
           "@yanwang10508606",
           1975,
           141,
           "2019/01/06"
          ],
          [
           "محمد بن زايد",
           "@MohamedBinZayed",
           1138,
           0,
           "2012/01/22"
          ],
          [
           "Jennifer Zeng 曾錚",
           "@jenniferatntd",
           1986,
           448,
           "2014/01/27"
          ],
          [
           "トゥール　ムハメット",
           "@etman09",
           13718,
           248,
           "2009/12/30"
          ],
          [
           "Cristina Pedroche",
           "@CristiPedroche",
           1396,
           239,
           "2010/07/14"
          ],
          [
           "VOSTeuskadi",
           "@VOSTeuskadi",
           95,
           865,
           "2012/09/03"
          ],
          [
           "Hossein Nakhli",
           "@hnakhli",
           1596,
           877,
           "2010/02/05"
          ],
          [
           "Comunidad de Madrid",
           "@ComunidadMadrid",
           830,
           632,
           "2010/03/12"
          ],
          [
           "VOST Comunitat Valenciana",
           "@VOSTcvalenciana",
           14,
           531,
           "2013/06/05"
          ],
          [
           "Salud JCYL",
           "@Salud_JCYL",
           82,
           23,
           "2011/11/11"
          ],
          [
           "WHO Indonesia",
           "@WHOIndonesia",
           69,
           225,
           "2010/12/15"
          ],
          [
           "Protección Civil Ávila",
           "@ProteCivilAvila",
           4,
           66,
           "2011/10/15"
          ],
          [
           "Sihame Assbague",
           "@s_assbague",
           23379,
           960,
           "2013/06/09"
          ],
          [
           "Policía Local San Fernando de Henares",
           "@PoliciaLocalSFH",
           13,
           225,
           "2019/07/03"
          ],
          [
           "Pablo de Olavide",
           "@pablodeolavide",
           48,
           6094,
           "2010/01/11"
          ],
          [
           "Castilla-La Mancha",
           "@gobjccm",
           193,
           581,
           "2010/01/12"
          ],
          [
           "Sihame Assbague",
           "@s_assbague",
           472,
           960,
           "2013/06/09"
          ],
          [
           "PSOE",
           "@PSOE",
           949,
           13449,
           "2009/06/26"
          ],
          [
           "Dipartimento Protezione Civile",
           "@DPCgov",
           2336,
           112,
           "2018/04/06"
          ],
          [
           "David García García",
           "@OjodeThot",
           200,
           1204,
           "2015/10/21"
          ],
          [
           "SaludMadrid",
           "@SaludMadrid",
           1905,
           123,
           "2018/01/18"
          ],
          [
           "Alejandro",
           "@alelitooo",
           4,
           731,
           "2010/09/27"
          ],
          [
           "Mahmoud Ahmadinejad",
           "@Ahmadinejad1956",
           1779,
           38,
           "2017/01/04"
          ],
          [
           "Maggie Haberman",
           "@maggieNYT",
           687,
           5070,
           "2009/11/27"
          ],
          [
           "Otto Huang ",
           "@OttoHuang120",
           4028,
           5423,
           "2015/11/29"
          ],
          [
           "VOSTextremadura",
           "@VOSTextremadura",
           6,
           367,
           "2013/05/31"
          ],
          [
           "Zoran Ruvidic",
           "@ZoranRuvidic",
           3,
           325,
           "2013/09/14"
          ],
          [
           "World Health Organization (WHO)",
           "@WHO",
           38958,
           1734,
           "2008/04/23"
          ],
          [
           "Isabel Díaz Ayuso",
           "@IdiazAyuso",
           11064,
           10958,
           "2010/05/04"
          ],
          [
           "Policía Nacional",
           "@policia",
           481,
           0,
           "2009/03/11"
          ],
          [
           "MinSaludCol",
           "@MinSaludCol",
           3479,
           814,
           "2011/09/11"
          ],
          [
           "Cadena SER CLM",
           "@SERCLM",
           0,
           417,
           "2012/05/31"
          ],
          [
           "UNICEF Kenya",
           "@UNICEFKenya",
           1,
           920,
           "2012/01/16"
          ],
          [
           "112 Cantabria",
           "@112Cantabria",
           58,
           251,
           "2012/02/17"
          ],
          [
           "Protección Civil Valladolid",
           "@apcvalladolid",
           87,
           992,
           "2010/05/19"
          ],
          [
           "Eusko Jaurlaritza",
           "@Gob_eus",
           10,
           79,
           "2010/01/28"
          ],
          [
           "New Day",
           "@NewDay",
           38,
           1256,
           "2013/04/23"
          ],
          [
           "VOSTeuskadi",
           "@VOSTeuskadi",
           34,
           865,
           "2012/09/03"
          ],
          [
           "Markus Wolf Romeo",
           "@MarkusWolfRomeo",
           0,
           87,
           "2012/08/16"
          ],
          [
           "MarinellysTremamunno",
           "@Marinellys",
           85,
           2728,
           "2009/10/23"
          ],
          [
           "Lijian Zhao 赵立坚",
           "@zlj517",
           10140,
           174817,
           "2010/05/08"
          ],
          [
           "VOSTeuskadi",
           "@VOSTeuskadi",
           12,
           865,
           "2012/09/03"
          ],
          [
           "David A. Clarke, Jr.",
           "@SheriffClarke",
           3538,
           147,
           "2010/03/01"
          ],
          [
           "AbogadosAdriano",
           "@AbogadosAdriano",
           18,
           881,
           "2016/01/17"
          ],
          [
           "Congressman Greg Murphy, M.D.",
           "@RepGregMurphy",
           115,
           176,
           "2019/09/17"
          ],
          [
           "LA RAZÓN. CO",
           "@LaRazonCo",
           5,
           2108,
           "2013/09/18"
          ],
          [
           "7NEWS Brisbane",
           "@7NewsBrisbane",
           238,
           167,
           "2009/09/15"
          ],
          [
           "M. 6% ❤️🤍💙🇺🇸",
           "@igobyMdot",
           8,
           3101,
           "2010/08/15"
          ],
          [
           "World Health Organization (WHO)",
           "@WHO",
           795,
           1734,
           "2008/04/23"
          ],
          [
           "Zataniko",
           "@Zatanik0",
           1927,
           118,
           "2011/02/11"
          ],
          [
           "巴丢草 Badiucao",
           "@badiucao",
           889,
           13795,
           "2011/03/17"
          ],
          [
           "Americo De Grazia",
           "@AmericoDeGrazia",
           1250,
           3469,
           "2010/04/10"
          ],
          [
           "AlbertoRodNews",
           "@AlbertoRodNews",
           64,
           20252,
           "2014/02/09"
          ],
          [
           "Marcos Lima Martínez",
           "@Marcoslimamd",
           90,
           1213,
           "2013/02/03"
          ],
          [
           "巴丢草 Badiucao",
           "@badiucao",
           5341,
           13795,
           "2011/03/17"
          ],
          [
           "d-atis☠️",
           "@detresfa_",
           236,
           0,
           "2012/11/17"
          ],
          [
           "Dr. Maimuna Majumder",
           "@maiamajumder",
           37,
           426,
           "2012/09/01"
          ],
          [
           "🇺🇸Kyle Bass🇺🇸",
           "@Jkylebass",
           10435,
           811,
           "2015/02/01"
          ],
          [
           "Terrence Daniels (Captain 🍀 Planet)",
           "@Terrence_STR",
           2313,
           910,
           "2017/02/08"
          ],
          [
           "Global Times",
           "@globaltimesnews",
           1190,
           520,
           "2009/06/22"
          ],
          [
           "Doc Bear",
           "@DocBear5",
           28,
           7448,
           "2019/10/06"
          ],
          [
           "World Health Organization (WHO)",
           "@WHO",
           1747,
           1734,
           "2008/04/23"
          ],
          [
           "KKMalaysia🇲🇾",
           "@KKMPutrajaya",
           984,
           97,
           "2012/03/20"
          ],
          [
           "#themodi_in",
           "@themodi_in",
           2,
           1709,
           "2010/09/12"
          ],
          [
           "クリス三宅",
           "@ryouansensei",
           6383,
           2777,
           "2010/10/04"
          ],
          [
           "Global Times",
           "@globaltimesnews",
           59,
           520,
           "2009/06/22"
          ],
          [
           "全智胜",
           "@MgOqkzLBRPLCHyN",
           527,
           76,
           "2019/07/11"
          ],
          [
           "橋下徹",
           "@hashimoto_lo",
           5627,
           40,
           "2011/02/01"
          ],
          [
           "پايگاه خبری انتخاب",
           "@Entekhab_News",
           9,
           0,
           "2014/07/26"
          ],
          [
           "Hong Hong",
           "@honghong975",
           1002,
           262,
           "2017/03/18"
          ],
          [
           "Ingrid Carlqvist",
           "@ingridcarlqvist",
           2,
           1185,
           "2010/01/21"
          ],
          [
           "Kenya Airways",
           "@KenyaAirways",
           656,
           7104,
           "2008/12/31"
          ],
          [
           "Steven Salzberg",
           "@StevenSalzberg1",
           5,
           192,
           "2012/08/26"
          ],
          [
           "Trevor Bedford",
           "@trvrb",
           1185,
           817,
           "2010/12/10"
          ],
          [
           "Maheen",
           "@Maheen83086711",
           3,
           2443,
           "2018/03/20"
          ],
          [
           "World Health Organization (WHO)",
           "@WHO",
           262,
           1734,
           "2008/04/23"
          ],
          [
           "Maheen",
           "@Maheen83086711",
           18,
           2443,
           "2018/03/20"
          ],
          [
           "VTV CANAL 8",
           "@VTVcanal8",
           4,
           523,
           "2010/03/01"
          ],
          [
           "Convenience Store News.",
           "@CStoreNews_",
           29,
           48934,
           "2010/06/17"
          ],
          [
           "Chuck Schumer",
           "@SenSchumer",
           7322,
           24551,
           "2008/11/19"
          ],
          [
           "Chuck Schumer",
           "@SenSchumer",
           8449,
           24551,
           "2008/11/19"
          ],
          [
           "Chuck Schumer",
           "@SenSchumer",
           2025,
           24551,
           "2008/11/19"
          ],
          [
           "Chuck Schumer",
           "@SenSchumer",
           1325,
           24551,
           "2008/11/19"
          ],
          [
           "Chuck Schumer",
           "@SenSchumer",
           997,
           24551,
           "2008/11/19"
          ],
          [
           "Chuck Schumer",
           "@SenSchumer",
           5887,
           24551,
           "2008/11/19"
          ],
          [
           "Chuck Schumer",
           "@SenSchumer",
           1921,
           24551,
           "2008/11/19"
          ],
          [
           "Angry Frustrated",
           "@AF_indian",
           1,
           272,
           "2015/03/31"
          ],
          [
           "原口　一博",
           "@kharaguchi",
           322,
           4065,
           "2009/12/14"
          ],
          [
           "佐藤正久",
           "@SatoMasahisa",
           3030,
           38853,
           "2010/02/08"
          ],
          [
           "Ministerio de Sanidad",
           "@sanidadgob",
           521,
           689,
           "2010/12/30"
          ],
          [
           "Adam Kucharski",
           "@AdamJKucharski",
           1030,
           1288,
           "2012/01/02"
          ],
          [
           "🇵🇪 Simon Tartarotti",
           "@SimonTartarotti",
           44,
           1102,
           "2012/10/19"
          ],
          [
           "Dan Lyons",
           "@realdanlyons",
           45,
           2197,
           "2008/07/18"
          ],
          [
           "World Health Organization (WHO)",
           "@WHO",
           1122,
           1734,
           "2008/04/23"
          ],
          [
           "Hidalgo Co. Health",
           "@hidalgohealth",
           71,
           2,
           "2009/07/13"
          ],
          [
           "UNICEF Haiti",
           "@UNICEFHaiti",
           17,
           937,
           "2011/06/08"
          ],
          [
           "Kemenkes RI",
           "@KemenkesRI",
           577,
           201,
           "2010/06/30"
          ],
          [
           "Ministério da Saúde",
           "@minsaude",
           2993,
           486,
           "2009/05/04"
          ],
          [
           "Kemenkes RI",
           "@KemenkesRI",
           431,
           201,
           "2010/06/30"
          ],
          [
           "Harbhajan Turbanator",
           "@harbhajan_singh",
           9646,
           147,
           "2009/11/27"
          ],
          [
           "Mayra Cedeño",
           "@Mayi21298822",
           17,
           88,
           "2020/03/12"
          ],
          [
           "Omar García V.",
           "@saomargarciavi",
           20,
           626,
           "2011/11/09"
          ],
          [
           "Wisdoms",
           "@wordwisdoms",
           19,
           381,
           "2020/02/22"
          ],
          [
           "boosmaster",
           "@boosmaster4",
           0,
           550,
           "2018/02/27"
          ],
          [
           "Министерство за здравство",
           "@ZdravstvoMK",
           68,
           141,
           "2012/12/06"
          ],
          [
           "Instituto de Salud Pública de Chile",
           "@ispch",
           278,
           732,
           "2011/02/22"
          ],
          [
           "Floreηcia Jacksoη ♕",
           "@Florencia_Pink",
           224,
           25992,
           "2009/11/04"
          ],
          [
           "Annastacia Palaszczuk",
           "@AnnastaciaMP",
           75,
           1244,
           "2011/02/24"
          ],
          [
           "Entity",
           "@oUllw40ndgQUEx3",
           2014,
           495,
           "2018/12/02"
          ],
          [
           "Ben Rhodes",
           "@brhodes",
           18060,
           1546,
           "2017/01/14"
          ],
          [
           "Denis Mukwege",
           "@DenisMukwege",
           81,
           103,
           "2012/10/02"
          ],
          [
           "Jair M. Bolsonaro",
           "@jairbolsonaro",
           45520,
           550,
           "2010/03/31"
          ],
          [
           "Ministerio de Salud y Deportes Bolivia",
           "@SaludDeportesBo",
           80,
           244,
           "2012/05/25"
          ],
          [
           "Sarvesh Tv",
           "@SarveshTv",
           0,
           94,
           "2019/12/20"
          ],
          [
           "Eric Topol",
           "@EricTopol",
           1411,
           526,
           "2009/11/01"
          ],
          [
           "Ravi Vallabhaneni (Balu Deserves Bharat Ratna)",
           "@ravivallabha",
           179,
           693,
           "2010/04/18"
          ],
          [
           "Horacio Azzolin",
           "@horacioazzolin",
           74,
           1534,
           "2014/03/13"
          ],
          [
           "Noticias RCN",
           "@NoticiasRCN",
           22,
           2457,
           "2009/04/24"
          ],
          [
           "L' acomodé",
           "@MartinLerga",
           539,
           153,
           "2012/03/25"
          ],
          [
           "आत्मनिर्भर भारत",
           "@aatmnirbharin",
           6,
           110,
           "2020/07/01"
          ],
          [
           "MinSaludCol",
           "@MinSaludCol",
           1840,
           814,
           "2011/09/11"
          ],
          [
           "nick farriella",
           "@nick_farriella",
           145,
           823,
           "2014/08/02"
          ],
          [
           "Kevin McCarthy",
           "@GOPLeader",
           29215,
           1425,
           "2009/01/29"
          ],
          [
           "Candida Moss",
           "@candidamoss",
           53,
           1821,
           "2009/06/10"
          ],
          [
           "Jeff Gritchen 🇺🇸",
           "@jeffgritchen",
           40,
           1355,
           "2009/04/08"
          ],
          [
           "Drew Hammill",
           "@Drew_Hammill",
           151,
           1472,
           "2011/04/13"
          ],
          [
           "Nik-Nic",
           "@nnpeoples97",
           52,
           3312,
           "2011/03/09"
          ],
          [
           "Alex Eccleston",
           "@AventuraObscura",
           535,
           870,
           "2015/02/18"
          ],
          [
           "James Woods",
           "@RealJamesWoods",
           39264,
           4407,
           "2009/09/30"
          ],
          [
           "Jane Lytvynenko",
           "@JaneLytv",
           49,
           6413,
           "2009/08/13"
          ],
          [
           "Pushpendra Kulshrestha",
           "@PuspendraTweet",
           783,
           65,
           "2017/04/01"
          ],
          [
           "TitosVodka",
           "@TitosVodka",
           5305,
           21700,
           "2008/12/01"
          ],
          [
           "Il Fabbricante di Chiavi ",
           "@lochiediame",
           138,
           586,
           "2020/02/08"
          ],
          [
           "Shane Crotty",
           "@profshanecrotty",
           3931,
           205,
           "2016/03/21"
          ],
          [
           "Tim Young",
           "@TimRunsHisMouth",
           13235,
           39620,
           "2009/04/22"
          ],
          [
           "GEN",
           "@SomosGEN",
           2,
           74,
           "2017/06/13"
          ],
          [
           "Duncan Pegg MP",
           "@DuncanPeggMP",
           50,
           637,
           "2014/04/23"
          ],
          [
           "Rappler",
           "@rapplerdotcom",
           26,
           406,
           "2011/07/07"
          ],
          [
           "Johns Hopkins Center for Health Security",
           "@JHSPH_CHS",
           199,
           1089,
           "2009/01/09"
          ],
          [
           "San Francisco Chronicle",
           "@sfchronicle",
           5402,
           284,
           "2010/03/10"
          ],
          [
           "郑明哲",
           "@Geoloong",
           22,
           247,
           "2015/06/07"
          ],
          [
           "αรɦ :)",
           "@ashakiiii",
           5353,
           19554,
           "2018/11/10"
          ],
          [
           "Ministry of Health",
           "@MoHFW_INDIA",
           174,
           192,
           "2014/06/30"
          ],
          [
           "Undoomed",
           "@Undoomed",
           60632,
           1660,
           "2015/05/04"
          ],
          [
           "Officer Bandit 👮🏻‍♀️🦝 🇺🇸",
           "@OfficerBandit",
           7059,
           37,
           "2018/08/02"
          ]
         ],
         "hovertemplate": "Type of tweet=false<br>Date=%{x}<br>Followers count=%{y}<br>Tweet Likes count=%{customdata[2]}<br>Name=%{customdata[0]}<br>Username=%{customdata[1]}<br>Friends count=%{customdata[3]}<br>Account created on=%{customdata[4]}<extra></extra>",
         "legendgroup": "false",
         "marker": {
          "color": "#636efa",
          "line": {
           "color": "DarkSlateGrey",
           "width": 1
          },
          "opacity": 0.8,
          "size": [
           411,
           930,
           8295,
           1671,
           117,
           3054,
           12909,
           865,
           536,
           25,
           370205,
           425,
           195,
           621,
           92,
           3031,
           242,
           28,
           0,
           633,
           8453,
           128,
           1148,
           1625,
           3913,
           6187,
           26,
           294,
           3924,
           0,
           26,
           0,
           4,
           19,
           41,
           2881,
           779,
           3716,
           652,
           511,
           355,
           8570,
           79869,
           64,
           160,
           1,
           2,
           0,
           13,
           0,
           2,
           202,
           15084,
           3397,
           361,
           0,
           28,
           45,
           47361,
           16996,
           1822,
           136,
           32,
           26,
           23,
           7197,
           1560,
           1412,
           17,
           127,
           4907,
           335,
           640,
           8352,
           1186,
           6,
           1795,
           444,
           316,
           214,
           7,
           2,
           202,
           185,
           17360,
           1020,
           755,
           301,
           236,
           1,
           222,
           165,
           1226,
           6475,
           218,
           21148,
           17,
           32855,
           241,
           395,
           8170,
           449,
           104,
           2326,
           32,
           64628,
           1839,
           2,
           6,
           8666,
           3,
           69,
           298,
           84,
           266,
           76,
           276,
           55,
           447,
           528,
           1639,
           104,
           345,
           51,
           17666,
           231,
           0,
           131,
           41288,
           110,
           176,
           92752,
           147,
           290,
           397,
           1383,
           937,
           35,
           225,
           5487,
           5,
           157,
           86,
           0,
           3862,
           297,
           9,
           2855,
           1770,
           2,
           59,
           15541,
           487,
           10211,
           8181,
           1354,
           251,
           4036,
           178,
           745,
           1829,
           690,
           4001,
           1078,
           244,
           3911,
           3084,
           4920,
           37234,
           2816,
           22,
           116,
           219,
           5571,
           36655,
           1804,
           1324,
           6252,
           1,
           126,
           0,
           0,
           25,
           376,
           11335,
           960,
           5913,
           2527,
           4602,
           278,
           13,
           5,
           6,
           755,
           296,
           269,
           33,
           23650,
           9,
           26501,
           42,
           93,
           13,
           12,
           218,
           23,
           940,
           1459,
           3,
           5329,
           0,
           3,
           0,
           118,
           806,
           21549,
           25312,
           472,
           0,
           781,
           110,
           43,
           103746,
           57,
           3,
           11072,
           188,
           2607,
           132,
           7797,
           3377,
           142,
           1438,
           0,
           0,
           32475,
           13138,
           45,
           7,
           250,
           3977,
           4063,
           59874,
           66,
           101,
           609,
           1609,
           103,
           31217,
           6458,
           98,
           576,
           16,
           16,
           13,
           531,
           1018,
           28,
           1461,
           122,
           479,
           241,
           507,
           2558,
           2769,
           404,
           1646,
           23580,
           3603,
           24580,
           264,
           10367,
           1693,
           292,
           14726,
           291,
           4514,
           1031,
           165,
           605,
           613,
           13,
           1916,
           792,
           534,
           4528,
           178,
           976,
           13,
           502,
           478,
           0,
           12,
           2,
           723,
           2205,
           11,
           261734,
           900,
           387,
           79493,
           16359,
           9,
           201,
           17016,
           0,
           2834,
           113,
           0,
           49758,
           6,
           4656,
           257,
           866,
           2,
           1100,
           1447,
           292,
           5192,
           8035,
           7,
           34,
           339,
           136,
           25031,
           3248,
           1845,
           148,
           8002,
           158,
           22836,
           352986,
           483,
           5,
           11,
           10375,
           2763,
           20,
           422,
           352,
           105,
           327,
           995,
           9082,
           5153,
           451,
           33041,
           11372,
           14844,
           2219,
           109,
           120,
           7,
           2,
           421,
           65,
           41,
           2185,
           8118,
           185,
           537,
           331,
           3796,
           4061,
           9561,
           387,
           753,
           18,
           2177,
           71,
           1023,
           4,
           822,
           5555,
           58,
           21298,
           282,
           1983,
           1,
           2359,
           27,
           6231,
           40593,
           89,
           2,
           56,
           271,
           169,
           36,
           175,
           6620,
           48,
           1133,
           14,
           57,
           769,
           84,
           21,
           6040,
           431,
           863,
           380,
           131,
           9137,
           2634,
           1,
           37,
           590,
           3027,
           1389,
           164,
           11,
           2926,
           2479,
           81,
           2001,
           15744,
           9050,
           78,
           4,
           209400,
           17021,
           2856,
           468,
           15,
           803,
           39808,
           0,
           5422,
           91,
           188,
           435,
           46,
           48,
           5,
           5,
           3,
           859,
           12733,
           56,
           6,
           63,
           11,
           15,
           505,
           2,
           1,
           41,
           474,
           6,
           24,
           255,
           25,
           2009,
           6378,
           74,
           1779,
           0,
           193,
           27,
           961,
           98,
           25,
           27455,
           579,
           116,
           94,
           0,
           12,
           622,
           0,
           1199,
           152,
           56,
           5382,
           8542,
           17,
           49,
           6,
           8,
           56,
           79,
           1806,
           1,
           174,
           180,
           27,
           1228,
           36,
           3239,
           4245,
           4033,
           18,
           375,
           0,
           12,
           304,
           15,
           48,
           6327,
           19805,
           29,
           619,
           133,
           175,
           1,
           0,
           251,
           5593,
           45432,
           291,
           580,
           256,
           94,
           39,
           0,
           21,
           5500,
           883,
           3080,
           1776,
           583,
           948,
           77363,
           221,
           932,
           68,
           6524,
           463,
           27640,
           612,
           3,
           55,
           116,
           348,
           2966,
           16,
           3,
           571,
           2,
           11865,
           1429,
           1499,
           63,
           864,
           241,
           1779,
           831,
           0,
           106,
           232,
           708,
           2695,
           10,
           279,
           981,
           160060,
           1349,
           101,
           1798,
           1093,
           1816,
           2538,
           1309,
           1148,
           12,
           38814,
           1971,
           2300,
           16,
           988,
           1186,
           1971,
           854,
           1942,
           412,
           327,
           175,
           7,
           148094,
           1648,
           1,
           273,
           19,
           3089,
           4425,
           17197,
           1623,
           146,
           7021,
           52202,
           814,
           127808,
           100360,
           183,
           4661,
           2863,
           956,
           39,
           1962,
           166,
           1804,
           0,
           1039,
           4282,
           106,
           371,
           397,
           4389,
           29022,
           207,
           47,
           6550,
           0,
           2126,
           26601,
           5362,
           1124,
           79,
           49,
           973,
           373,
           2701,
           3244,
           0,
           4,
           37,
           9,
           53,
           4,
           1,
           424,
           5,
           289,
           0,
           14130,
           1896,
           1473,
           40925,
           378,
           95,
           3220,
           73,
           152,
           347,
           664,
           177,
           1830,
           22918,
           19,
           2579,
           13394,
           118,
           315,
           16,
           31722,
           22201,
           123,
           64,
           32,
           2,
           19,
           4478,
           4690,
           1122,
           13278,
           477,
           63,
           721,
           786,
           22,
           26,
           385,
           2,
           15,
           60,
           140,
           1180,
           1547,
           142,
           306,
           21,
           109,
           10,
           2707,
           46250,
           711,
           1147,
           843,
           2,
           2275,
           1093,
           428,
           4004,
           10169,
           4293,
           0,
           258756,
           26,
           3096,
           585,
           5051,
           3752,
           104,
           339,
           4,
           73,
           588,
           365,
           807,
           296,
           435,
           46843,
           604,
           286,
           218,
           11664,
           115,
           876,
           15796,
           41175,
           667,
           3,
           1136,
           11,
           98,
           59,
           1966,
           146,
           47809,
           64,
           1180,
           4573,
           9,
           18542,
           4978,
           361,
           430,
           4288,
           368,
           35,
           6376,
           23,
           527,
           1139,
           612,
           2939,
           872,
           6813,
           49,
           37764,
           802,
           4,
           855,
           23001,
           17617,
           442,
           377,
           44,
           19,
           30,
           68310,
           163,
           0,
           2091,
           33621,
           0,
           39,
           61,
           100,
           12,
           3,
           1,
           456,
           4,
           81644,
           2160,
           27786,
           1323,
           2039,
           13,
           788,
           135,
           959,
           1,
           0,
           3921,
           2278,
           89,
           68,
           10058,
           941,
           9240,
           3333,
           27,
           22,
           3,
           373,
           146,
           35,
           622,
           34878,
           59,
           678,
           999,
           11141,
           60,
           0,
           3274,
           88834,
           6277,
           1096,
           3537,
           126,
           2562,
           215,
           6096,
           3057,
           29,
           20368,
           300,
           5575,
           9492,
           4716,
           890,
           2530,
           546,
           12951,
           181530,
           1,
           7111,
           5,
           6965,
           966,
           39,
           8195,
           500,
           49,
           561,
           547,
           212,
           31119,
           99,
           338,
           0,
           2,
           609,
           0,
           721,
           16,
           1084,
           109310,
           335,
           167,
           1436,
           1784,
           77,
           743,
           1453,
           5528,
           256,
           193,
           77,
           923,
           14854,
           9993,
           13,
           33,
           117,
           14905,
           528,
           2831,
           56,
           1,
           3560,
           0,
           2819,
           135880,
           6,
           496,
           501,
           57,
           2505,
           0,
           605,
           2839,
           77,
           287,
           4,
           1559,
           42978,
           3241,
           1179,
           10,
           6,
           12,
           1614,
           4572,
           5929,
           718,
           0,
           642,
           6510,
           28,
           75,
           42,
           294,
           57,
           4928,
           90,
           90,
           1019115,
           18,
           28663,
           704,
           61,
           20,
           3484,
           4689,
           10670,
           18418,
           55847,
           563,
           31667,
           44649,
           4312,
           4394,
           1731,
           714,
           37,
           67,
           31846,
           1,
           4789,
           137,
           0,
           354,
           554,
           5026,
           534,
           884,
           255,
           4151,
           38,
           1196,
           407,
           7002,
           42,
           109,
           31,
           0,
           2333,
           17,
           0,
           337,
           183,
           3976,
           455,
           36,
           116,
           1042,
           10,
           355,
           189,
           0,
           251,
           73,
           40,
           399,
           5974,
           8,
           2304,
           3469,
           655,
           13,
           838,
           120,
           2109,
           158,
           87,
           231,
           78,
           311,
           436,
           78,
           101,
           55,
           3546,
           3510,
           1909,
           3888,
           10228,
           5364,
           42193,
           351,
           91,
           58,
           2145,
           39753,
           5,
           17,
           122,
           13,
           62,
           6791,
           68,
           37,
           64,
           79,
           7293,
           11722,
           7439,
           1,
           2,
           864,
           2196,
           36,
           222,
           925,
           318,
           114,
           35,
           11,
           77,
           20,
           1975,
           1138,
           1986,
           13718,
           1396,
           95,
           1596,
           830,
           14,
           82,
           69,
           4,
           23379,
           13,
           48,
           193,
           472,
           949,
           2336,
           200,
           1905,
           4,
           1779,
           687,
           4028,
           6,
           3,
           38958,
           11064,
           481,
           3479,
           0,
           1,
           58,
           87,
           10,
           38,
           34,
           0,
           85,
           10140,
           12,
           3538,
           18,
           115,
           5,
           238,
           8,
           795,
           1927,
           889,
           1250,
           64,
           90,
           5341,
           236,
           37,
           10435,
           2313,
           1190,
           28,
           1747,
           984,
           2,
           6383,
           59,
           527,
           5627,
           9,
           1002,
           2,
           656,
           5,
           1185,
           3,
           262,
           18,
           4,
           29,
           7322,
           8449,
           2025,
           1325,
           997,
           5887,
           1921,
           1,
           322,
           3030,
           521,
           1030,
           44,
           45,
           1122,
           71,
           17,
           577,
           2993,
           431,
           9646,
           17,
           20,
           19,
           0,
           68,
           278,
           224,
           75,
           2014,
           18060,
           81,
           45520,
           80,
           0,
           1411,
           179,
           74,
           22,
           539,
           6,
           1840,
           145,
           29215,
           53,
           40,
           151,
           52,
           535,
           39264,
           49,
           783,
           5305,
           138,
           3931,
           13235,
           2,
           50,
           26,
           199,
           5402,
           22,
           5353,
           174,
           60632,
           7059
          ],
          "sizemode": "area",
          "sizeref": 2547.7875,
          "symbol": "circle"
         },
         "mode": "markers",
         "name": "false",
         "showlegend": true,
         "type": "scattergl",
         "x": [
          "2020-02-02T00:00:00",
          "2020-02-11T00:00:00",
          "2020-02-11T00:00:00",
          "2020-02-15T00:00:00",
          "2020-02-16T00:00:00",
          "2020-03-11T00:00:00",
          "2020-03-24T00:00:00",
          "2020-03-26T00:00:00",
          "2020-04-08T00:00:00",
          "2020-04-09T00:00:00",
          "2020-04-15T00:00:00",
          "2020-04-21T00:00:00",
          "2020-04-21T00:00:00",
          "2020-04-24T00:00:00",
          "2020-04-24T00:00:00",
          "2020-04-28T00:00:00",
          "2020-05-03T00:00:00",
          "2020-05-07T00:00:00",
          "2020-05-10T00:00:00",
          "2020-05-16T00:00:00",
          "2020-05-16T00:00:00",
          "2020-05-20T00:00:00",
          "2020-05-20T00:00:00",
          "2020-05-20T00:00:00",
          "2020-05-20T00:00:00",
          "2020-05-21T00:00:00",
          "2020-05-24T00:00:00",
          "2020-05-25T00:00:00",
          "2020-05-25T00:00:00",
          "2020-05-26T00:00:00",
          "2020-05-26T00:00:00",
          "2020-05-27T00:00:00",
          "2020-05-27T00:00:00",
          "2020-06-04T00:00:00",
          "2020-06-06T00:00:00",
          "2020-06-06T00:00:00",
          "2020-06-08T00:00:00",
          "2020-06-08T00:00:00",
          "2020-06-08T00:00:00",
          "2020-06-08T00:00:00",
          "2020-06-08T00:00:00",
          "2020-06-09T00:00:00",
          "2020-06-09T00:00:00",
          "2020-06-09T00:00:00",
          "2020-06-09T00:00:00",
          "2020-06-10T00:00:00",
          "2020-06-10T00:00:00",
          "2020-06-11T00:00:00",
          "2020-06-11T00:00:00",
          "2020-06-11T00:00:00",
          "2020-06-11T00:00:00",
          "2020-06-12T00:00:00",
          "2020-06-12T00:00:00",
          "2020-06-12T00:00:00",
          "2020-06-14T00:00:00",
          "2020-06-14T00:00:00",
          "2020-06-14T00:00:00",
          "2020-06-14T00:00:00",
          "2020-06-16T00:00:00",
          "2020-06-17T00:00:00",
          "2020-06-24T00:00:00",
          "2020-06-24T00:00:00",
          "2020-06-24T00:00:00",
          "2020-06-25T00:00:00",
          "2020-06-25T00:00:00",
          "2020-06-25T00:00:00",
          "2020-06-30T00:00:00",
          "2020-07-03T00:00:00",
          "2020-07-24T00:00:00",
          "2020-07-30T00:00:00",
          "2020-01-27T00:00:00",
          "2020-02-10T00:00:00",
          "2020-02-29T00:00:00",
          "2020-03-11T00:00:00",
          "2020-03-15T00:00:00",
          "2020-03-15T00:00:00",
          "2020-03-20T00:00:00",
          "2020-03-23T00:00:00",
          "2020-03-27T00:00:00",
          "2020-04-15T00:00:00",
          "2020-04-21T00:00:00",
          "2020-04-26T00:00:00",
          "2020-04-26T00:00:00",
          "2020-04-29T00:00:00",
          "2020-04-29T00:00:00",
          "2020-05-03T00:00:00",
          "2020-05-06T00:00:00",
          "2020-05-07T00:00:00",
          "2020-05-07T00:00:00",
          "2020-05-11T00:00:00",
          "2020-05-12T00:00:00",
          "2020-05-12T00:00:00",
          "2020-05-12T00:00:00",
          "2020-05-13T00:00:00",
          "2020-05-13T00:00:00",
          "2020-05-14T00:00:00",
          "2020-05-14T00:00:00",
          "2020-05-16T00:00:00",
          "2020-05-16T00:00:00",
          "2020-05-16T00:00:00",
          "2020-05-16T00:00:00",
          "2020-05-18T00:00:00",
          "2020-05-18T00:00:00",
          "2020-05-19T00:00:00",
          "2020-05-19T00:00:00",
          "2020-05-20T00:00:00",
          "2020-05-20T00:00:00",
          "2020-05-20T00:00:00",
          "2020-05-21T00:00:00",
          "2020-05-21T00:00:00",
          "2020-05-21T00:00:00",
          "2020-05-21T00:00:00",
          "2020-05-21T00:00:00",
          "2020-05-21T00:00:00",
          "2020-05-22T00:00:00",
          "2020-05-24T00:00:00",
          "2020-05-24T00:00:00",
          "2020-05-24T00:00:00",
          "2020-05-24T00:00:00",
          "2020-05-25T00:00:00",
          "2020-05-25T00:00:00",
          "2020-05-25T00:00:00",
          "2020-05-25T00:00:00",
          "2020-05-25T00:00:00",
          "2020-05-25T00:00:00",
          "2020-05-26T00:00:00",
          "2020-05-26T00:00:00",
          "2020-05-26T00:00:00",
          "2020-05-27T00:00:00",
          "2020-05-27T00:00:00",
          "2020-05-28T00:00:00",
          "2020-05-29T00:00:00",
          "2020-05-29T00:00:00",
          "2020-06-01T00:00:00",
          "2020-06-02T00:00:00",
          "2020-06-04T00:00:00",
          "2020-06-04T00:00:00",
          "2020-06-05T00:00:00",
          "2020-06-05T00:00:00",
          "2020-06-06T00:00:00",
          "2020-06-08T00:00:00",
          "2020-06-23T00:00:00",
          "2020-06-24T00:00:00",
          "2020-06-25T00:00:00",
          "2020-08-07T00:00:00",
          "2020-08-08T00:00:00",
          "2020-08-11T00:00:00",
          "2020-08-12T00:00:00",
          "2020-08-12T00:00:00",
          "2020-08-15T00:00:00",
          "2020-01-16T00:00:00",
          "2020-03-05T00:00:00",
          "2020-03-06T00:00:00",
          "2020-03-15T00:00:00",
          "2020-03-18T00:00:00",
          "2020-03-22T00:00:00",
          "2020-03-22T00:00:00",
          "2020-03-24T00:00:00",
          "2020-03-26T00:00:00",
          "2020-03-28T00:00:00",
          "2020-03-31T00:00:00",
          "2020-04-01T00:00:00",
          "2020-04-03T00:00:00",
          "2020-04-08T00:00:00",
          "2020-04-12T00:00:00",
          "2020-04-17T00:00:00",
          "2020-04-18T00:00:00",
          "2020-04-19T00:00:00",
          "2020-04-20T00:00:00",
          "2020-04-26T00:00:00",
          "2020-04-28T00:00:00",
          "2020-04-28T00:00:00",
          "2020-04-29T00:00:00",
          "2020-04-30T00:00:00",
          "2020-04-30T00:00:00",
          "2020-05-01T00:00:00",
          "2020-05-02T00:00:00",
          "2020-05-02T00:00:00",
          "2020-05-02T00:00:00",
          "2020-05-03T00:00:00",
          "2020-05-04T00:00:00",
          "2020-05-06T00:00:00",
          "2020-05-07T00:00:00",
          "2020-05-08T00:00:00",
          "2020-05-08T00:00:00",
          "2020-05-08T00:00:00",
          "2020-05-08T00:00:00",
          "2020-05-08T00:00:00",
          "2020-05-08T00:00:00",
          "2020-05-09T00:00:00",
          "2020-05-09T00:00:00",
          "2020-05-09T00:00:00",
          "2020-05-10T00:00:00",
          "2020-05-10T00:00:00",
          "2020-05-10T00:00:00",
          "2020-05-10T00:00:00",
          "2020-05-11T00:00:00",
          "2020-05-11T00:00:00",
          "2020-05-12T00:00:00",
          "2020-05-12T00:00:00",
          "2020-05-12T00:00:00",
          "2020-05-12T00:00:00",
          "2020-05-12T00:00:00",
          "2020-05-12T00:00:00",
          "2020-05-12T00:00:00",
          "2020-05-12T00:00:00",
          "2020-05-12T00:00:00",
          "2020-05-12T00:00:00",
          "2020-05-13T00:00:00",
          "2020-05-13T00:00:00",
          "2020-05-14T00:00:00",
          "2020-05-14T00:00:00",
          "2020-05-16T00:00:00",
          "2020-05-17T00:00:00",
          "2020-05-17T00:00:00",
          "2020-05-17T00:00:00",
          "2020-05-18T00:00:00",
          "2020-05-20T00:00:00",
          "2020-05-20T00:00:00",
          "2020-05-20T00:00:00",
          "2020-05-21T00:00:00",
          "2020-05-21T00:00:00",
          "2020-05-21T00:00:00",
          "2020-05-22T00:00:00",
          "2020-05-22T00:00:00",
          "2020-05-25T00:00:00",
          "2020-05-25T00:00:00",
          "2020-05-25T00:00:00",
          "2020-06-24T00:00:00",
          "2020-07-31T00:00:00",
          "2020-08-08T00:00:00",
          "2020-08-10T00:00:00",
          "2020-08-10T00:00:00",
          "2020-08-11T00:00:00",
          "2020-08-11T00:00:00",
          "2020-08-26T00:00:00",
          "2020-02-01T00:00:00",
          "2020-02-04T00:00:00",
          "2020-02-26T00:00:00",
          "2020-03-06T00:00:00",
          "2020-03-07T00:00:00",
          "2020-03-14T00:00:00",
          "2020-03-16T00:00:00",
          "2020-03-19T00:00:00",
          "2020-03-23T00:00:00",
          "2020-03-24T00:00:00",
          "2020-03-30T00:00:00",
          "2020-03-31T00:00:00",
          "2020-04-06T00:00:00",
          "2020-04-07T00:00:00",
          "2020-04-15T00:00:00",
          "2020-04-19T00:00:00",
          "2020-04-22T00:00:00",
          "2020-04-24T00:00:00",
          "2020-04-25T00:00:00",
          "2020-04-26T00:00:00",
          "2020-04-26T00:00:00",
          "2020-04-28T00:00:00",
          "2020-04-28T00:00:00",
          "2020-04-29T00:00:00",
          "2020-04-29T00:00:00",
          "2020-04-29T00:00:00",
          "2020-04-29T00:00:00",
          "2020-04-29T00:00:00",
          "2020-04-30T00:00:00",
          "2020-05-01T00:00:00",
          "2020-05-02T00:00:00",
          "2020-05-02T00:00:00",
          "2020-05-02T00:00:00",
          "2020-05-02T00:00:00",
          "2020-05-02T00:00:00",
          "2020-05-02T00:00:00",
          "2020-05-03T00:00:00",
          "2020-05-03T00:00:00",
          "2020-05-03T00:00:00",
          "2020-05-03T00:00:00",
          "2020-05-03T00:00:00",
          "2020-05-04T00:00:00",
          "2020-05-04T00:00:00",
          "2020-05-04T00:00:00",
          "2020-05-04T00:00:00",
          "2020-05-05T00:00:00",
          "2020-05-06T00:00:00",
          "2020-05-06T00:00:00",
          "2020-05-06T00:00:00",
          "2020-05-06T00:00:00",
          "2020-05-06T00:00:00",
          "2020-05-06T00:00:00",
          "2020-05-06T00:00:00",
          "2020-05-07T00:00:00",
          "2020-05-07T00:00:00",
          "2020-05-07T00:00:00",
          "2020-05-07T00:00:00",
          "2020-05-07T00:00:00",
          "2020-05-08T00:00:00",
          "2020-05-08T00:00:00",
          "2020-05-08T00:00:00",
          "2020-05-08T00:00:00",
          "2020-05-08T00:00:00",
          "2020-05-08T00:00:00",
          "2020-05-08T00:00:00",
          "2020-05-08T00:00:00",
          "2020-05-09T00:00:00",
          "2020-05-09T00:00:00",
          "2020-05-10T00:00:00",
          "2020-05-10T00:00:00",
          "2020-05-11T00:00:00",
          "2020-05-11T00:00:00",
          "2020-05-12T00:00:00",
          "2020-05-12T00:00:00",
          "2020-05-12T00:00:00",
          "2020-05-13T00:00:00",
          "2020-05-13T00:00:00",
          "2020-05-14T00:00:00",
          "2020-05-15T00:00:00",
          "2020-05-21T00:00:00",
          "2020-05-29T00:00:00",
          "2020-05-29T00:00:00",
          "2020-08-01T00:00:00",
          "2020-08-02T00:00:00",
          "2020-08-04T00:00:00",
          "2020-08-07T00:00:00",
          "2020-08-31T00:00:00",
          "2020-03-06T00:00:00",
          "2020-03-16T00:00:00",
          "2020-03-16T00:00:00",
          "2020-03-16T00:00:00",
          "2020-03-18T00:00:00",
          "2020-03-21T00:00:00",
          "2020-03-21T00:00:00",
          "2020-03-24T00:00:00",
          "2020-03-27T00:00:00",
          "2020-03-28T00:00:00",
          "2020-04-01T00:00:00",
          "2020-04-02T00:00:00",
          "2020-04-02T00:00:00",
          "2020-04-02T00:00:00",
          "2020-04-03T00:00:00",
          "2020-04-04T00:00:00",
          "2020-04-05T00:00:00",
          "2020-04-07T00:00:00",
          "2020-04-07T00:00:00",
          "2020-04-07T00:00:00",
          "2020-04-08T00:00:00",
          "2020-04-08T00:00:00",
          "2020-04-09T00:00:00",
          "2020-04-14T00:00:00",
          "2020-04-15T00:00:00",
          "2020-04-15T00:00:00",
          "2020-04-17T00:00:00",
          "2020-04-19T00:00:00",
          "2020-04-19T00:00:00",
          "2020-04-20T00:00:00",
          "2020-04-20T00:00:00",
          "2020-04-21T00:00:00",
          "2020-04-21T00:00:00",
          "2020-04-22T00:00:00",
          "2020-04-22T00:00:00",
          "2020-04-22T00:00:00",
          "2020-04-22T00:00:00",
          "2020-04-22T00:00:00",
          "2020-04-22T00:00:00",
          "2020-04-22T00:00:00",
          "2020-04-23T00:00:00",
          "2020-04-24T00:00:00",
          "2020-04-24T00:00:00",
          "2020-04-24T00:00:00",
          "2020-04-24T00:00:00",
          "2020-04-25T00:00:00",
          "2020-04-25T00:00:00",
          "2020-04-26T00:00:00",
          "2020-04-26T00:00:00",
          "2020-04-26T00:00:00",
          "2020-04-26T00:00:00",
          "2020-04-26T00:00:00",
          "2020-04-26T00:00:00",
          "2020-04-26T00:00:00",
          "2020-04-26T00:00:00",
          "2020-04-26T00:00:00",
          "2020-04-26T00:00:00",
          "2020-04-26T00:00:00",
          "2020-04-26T00:00:00",
          "2020-04-26T00:00:00",
          "2020-04-26T00:00:00",
          "2020-04-27T00:00:00",
          "2020-04-27T00:00:00",
          "2020-04-28T00:00:00",
          "2020-04-28T00:00:00",
          "2020-04-28T00:00:00",
          "2020-04-29T00:00:00",
          "2020-04-29T00:00:00",
          "2020-04-30T00:00:00",
          "2020-05-02T00:00:00",
          "2020-05-03T00:00:00",
          "2020-05-03T00:00:00",
          "2020-05-03T00:00:00",
          "2020-05-04T00:00:00",
          "2020-05-04T00:00:00",
          "2020-05-05T00:00:00",
          "2020-05-06T00:00:00",
          "2020-05-08T00:00:00",
          "2020-06-03T00:00:00",
          "2020-07-06T00:00:00",
          "2020-07-24T00:00:00",
          "2020-07-27T00:00:00",
          "2020-08-01T00:00:00",
          "2020-08-30T00:00:00",
          "2020-01-31T00:00:00",
          "2020-01-31T00:00:00",
          "2020-02-01T00:00:00",
          "2020-03-02T00:00:00",
          "2020-03-03T00:00:00",
          "2020-03-17T00:00:00",
          "2020-03-18T00:00:00",
          "2020-03-20T00:00:00",
          "2020-03-25T00:00:00",
          "2020-03-25T00:00:00",
          "2020-03-27T00:00:00",
          "2020-03-27T00:00:00",
          "2020-03-28T00:00:00",
          "2020-03-28T00:00:00",
          "2020-03-29T00:00:00",
          "2020-03-30T00:00:00",
          "2020-03-30T00:00:00",
          "2020-04-01T00:00:00",
          "2020-04-01T00:00:00",
          "2020-04-02T00:00:00",
          "2020-04-02T00:00:00",
          "2020-04-04T00:00:00",
          "2020-04-05T00:00:00",
          "2020-04-06T00:00:00",
          "2020-04-06T00:00:00",
          "2020-04-08T00:00:00",
          "2020-04-09T00:00:00",
          "2020-04-10T00:00:00",
          "2020-04-10T00:00:00",
          "2020-04-10T00:00:00",
          "2020-04-10T00:00:00",
          "2020-04-10T00:00:00",
          "2020-04-11T00:00:00",
          "2020-04-11T00:00:00",
          "2020-04-12T00:00:00",
          "2020-04-12T00:00:00",
          "2020-04-13T00:00:00",
          "2020-04-13T00:00:00",
          "2020-04-14T00:00:00",
          "2020-04-14T00:00:00",
          "2020-04-14T00:00:00",
          "2020-04-15T00:00:00",
          "2020-04-15T00:00:00",
          "2020-04-15T00:00:00",
          "2020-04-15T00:00:00",
          "2020-04-15T00:00:00",
          "2020-04-15T00:00:00",
          "2020-04-15T00:00:00",
          "2020-04-15T00:00:00",
          "2020-04-15T00:00:00",
          "2020-04-15T00:00:00",
          "2020-04-16T00:00:00",
          "2020-04-16T00:00:00",
          "2020-04-16T00:00:00",
          "2020-04-16T00:00:00",
          "2020-04-16T00:00:00",
          "2020-04-17T00:00:00",
          "2020-04-17T00:00:00",
          "2020-04-17T00:00:00",
          "2020-04-18T00:00:00",
          "2020-04-18T00:00:00",
          "2020-04-19T00:00:00",
          "2020-04-19T00:00:00",
          "2020-04-20T00:00:00",
          "2020-04-20T00:00:00",
          "2020-04-20T00:00:00",
          "2020-04-20T00:00:00",
          "2020-04-20T00:00:00",
          "2020-04-21T00:00:00",
          "2020-04-21T00:00:00",
          "2020-04-21T00:00:00",
          "2020-04-21T00:00:00",
          "2020-04-21T00:00:00",
          "2020-04-21T00:00:00",
          "2020-04-21T00:00:00",
          "2020-04-22T00:00:00",
          "2020-04-23T00:00:00",
          "2020-04-23T00:00:00",
          "2020-04-24T00:00:00",
          "2020-04-27T00:00:00",
          "2020-04-28T00:00:00",
          "2020-05-11T00:00:00",
          "2020-06-06T00:00:00",
          "2020-07-21T00:00:00",
          "2020-07-28T00:00:00",
          "2020-07-31T00:00:00",
          "2020-02-11T00:00:00",
          "2020-02-14T00:00:00",
          "2020-02-19T00:00:00",
          "2020-02-22T00:00:00",
          "2020-02-23T00:00:00",
          "2020-02-25T00:00:00",
          "2020-03-12T00:00:00",
          "2020-03-15T00:00:00",
          "2020-03-16T00:00:00",
          "2020-03-18T00:00:00",
          "2020-03-18T00:00:00",
          "2020-03-18T00:00:00",
          "2020-03-20T00:00:00",
          "2020-03-20T00:00:00",
          "2020-03-27T00:00:00",
          "2020-03-27T00:00:00",
          "2020-03-28T00:00:00",
          "2020-03-30T00:00:00",
          "2020-04-02T00:00:00",
          "2020-04-02T00:00:00",
          "2020-04-02T00:00:00",
          "2020-04-02T00:00:00",
          "2020-04-03T00:00:00",
          "2020-04-03T00:00:00",
          "2020-04-04T00:00:00",
          "2020-04-04T00:00:00",
          "2020-04-04T00:00:00",
          "2020-04-05T00:00:00",
          "2020-04-05T00:00:00",
          "2020-04-05T00:00:00",
          "2020-04-05T00:00:00",
          "2020-04-06T00:00:00",
          "2020-04-06T00:00:00",
          "2020-04-06T00:00:00",
          "2020-04-06T00:00:00",
          "2020-04-06T00:00:00",
          "2020-04-06T00:00:00",
          "2020-04-07T00:00:00",
          "2020-04-07T00:00:00",
          "2020-04-07T00:00:00",
          "2020-04-07T00:00:00",
          "2020-04-08T00:00:00",
          "2020-04-08T00:00:00",
          "2020-04-08T00:00:00",
          "2020-04-08T00:00:00",
          "2020-04-08T00:00:00",
          "2020-04-08T00:00:00",
          "2020-04-09T00:00:00",
          "2020-04-09T00:00:00",
          "2020-04-09T00:00:00",
          "2020-04-09T00:00:00",
          "2020-04-09T00:00:00",
          "2020-04-09T00:00:00",
          "2020-04-09T00:00:00",
          "2020-04-09T00:00:00",
          "2020-04-10T00:00:00",
          "2020-04-10T00:00:00",
          "2020-04-10T00:00:00",
          "2020-04-10T00:00:00",
          "2020-04-10T00:00:00",
          "2020-04-10T00:00:00",
          "2020-04-11T00:00:00",
          "2020-04-11T00:00:00",
          "2020-04-11T00:00:00",
          "2020-04-11T00:00:00",
          "2020-04-11T00:00:00",
          "2020-04-11T00:00:00",
          "2020-04-11T00:00:00",
          "2020-04-11T00:00:00",
          "2020-04-11T00:00:00",
          "2020-04-12T00:00:00",
          "2020-04-12T00:00:00",
          "2020-04-12T00:00:00",
          "2020-04-13T00:00:00",
          "2020-04-13T00:00:00",
          "2020-04-13T00:00:00",
          "2020-04-13T00:00:00",
          "2020-04-13T00:00:00",
          "2020-04-13T00:00:00",
          "2020-04-13T00:00:00",
          "2020-04-14T00:00:00",
          "2020-04-15T00:00:00",
          "2020-04-16T00:00:00",
          "2020-04-16T00:00:00",
          "2020-05-21T00:00:00",
          "2020-07-11T00:00:00",
          "2020-07-15T00:00:00",
          "2020-07-22T00:00:00",
          "2020-07-25T00:00:00",
          "2020-01-29T00:00:00",
          "2020-02-12T00:00:00",
          "2020-03-09T00:00:00",
          "2020-03-13T00:00:00",
          "2020-03-15T00:00:00",
          "2020-03-15T00:00:00",
          "2020-03-16T00:00:00",
          "2020-03-16T00:00:00",
          "2020-03-16T00:00:00",
          "2020-03-19T00:00:00",
          "2020-03-23T00:00:00",
          "2020-03-23T00:00:00",
          "2020-03-24T00:00:00",
          "2020-03-24T00:00:00",
          "2020-03-25T00:00:00",
          "2020-03-27T00:00:00",
          "2020-03-27T00:00:00",
          "2020-03-27T00:00:00",
          "2020-03-28T00:00:00",
          "2020-03-29T00:00:00",
          "2020-03-29T00:00:00",
          "2020-03-30T00:00:00",
          "2020-03-30T00:00:00",
          "2020-03-30T00:00:00",
          "2020-03-30T00:00:00",
          "2020-03-30T00:00:00",
          "2020-03-30T00:00:00",
          "2020-03-31T00:00:00",
          "2020-03-31T00:00:00",
          "2020-03-31T00:00:00",
          "2020-03-31T00:00:00",
          "2020-03-31T00:00:00",
          "2020-03-31T00:00:00",
          "2020-03-31T00:00:00",
          "2020-03-31T00:00:00",
          "2020-03-31T00:00:00",
          "2020-03-31T00:00:00",
          "2020-04-01T00:00:00",
          "2020-04-01T00:00:00",
          "2020-04-02T00:00:00",
          "2020-04-02T00:00:00",
          "2020-04-02T00:00:00",
          "2020-04-02T00:00:00",
          "2020-04-02T00:00:00",
          "2020-04-03T00:00:00",
          "2020-04-03T00:00:00",
          "2020-04-03T00:00:00",
          "2020-04-03T00:00:00",
          "2020-04-03T00:00:00",
          "2020-04-03T00:00:00",
          "2020-04-03T00:00:00",
          "2020-04-04T00:00:00",
          "2020-04-04T00:00:00",
          "2020-04-04T00:00:00",
          "2020-04-05T00:00:00",
          "2020-04-05T00:00:00",
          "2020-04-05T00:00:00",
          "2020-04-05T00:00:00",
          "2020-04-05T00:00:00",
          "2020-04-05T00:00:00",
          "2020-04-05T00:00:00",
          "2020-04-06T00:00:00",
          "2020-04-06T00:00:00",
          "2020-04-06T00:00:00",
          "2020-04-06T00:00:00",
          "2020-04-06T00:00:00",
          "2020-04-06T00:00:00",
          "2020-04-06T00:00:00",
          "2020-04-06T00:00:00",
          "2020-04-07T00:00:00",
          "2020-04-07T00:00:00",
          "2020-04-07T00:00:00",
          "2020-04-07T00:00:00",
          "2020-04-07T00:00:00",
          "2020-04-08T00:00:00",
          "2020-04-08T00:00:00",
          "2020-04-08T00:00:00",
          "2020-04-09T00:00:00",
          "2020-04-09T00:00:00",
          "2020-04-09T00:00:00",
          "2020-04-11T00:00:00",
          "2020-04-14T00:00:00",
          "2020-04-16T00:00:00",
          "2020-04-23T00:00:00",
          "2020-04-24T00:00:00",
          "2020-07-22T00:00:00",
          "2020-07-23T00:00:00",
          "2020-07-24T00:00:00",
          "2020-01-16T00:00:00",
          "2020-01-19T00:00:00",
          "2020-01-31T00:00:00",
          "2020-03-01T00:00:00",
          "2020-03-06T00:00:00",
          "2020-03-06T00:00:00",
          "2020-03-06T00:00:00",
          "2020-03-07T00:00:00",
          "2020-03-08T00:00:00",
          "2020-03-09T00:00:00",
          "2020-03-11T00:00:00",
          "2020-03-12T00:00:00",
          "2020-03-16T00:00:00",
          "2020-03-18T00:00:00",
          "2020-03-20T00:00:00",
          "2020-03-21T00:00:00",
          "2020-03-21T00:00:00",
          "2020-03-22T00:00:00",
          "2020-03-23T00:00:00",
          "2020-03-23T00:00:00",
          "2020-03-23T00:00:00",
          "2020-03-23T00:00:00",
          "2020-03-24T00:00:00",
          "2020-03-24T00:00:00",
          "2020-03-24T00:00:00",
          "2020-03-24T00:00:00",
          "2020-03-24T00:00:00",
          "2020-03-24T00:00:00",
          "2020-03-25T00:00:00",
          "2020-03-25T00:00:00",
          "2020-03-25T00:00:00",
          "2020-03-25T00:00:00",
          "2020-03-25T00:00:00",
          "2020-03-25T00:00:00",
          "2020-03-25T00:00:00",
          "2020-03-26T00:00:00",
          "2020-03-26T00:00:00",
          "2020-03-26T00:00:00",
          "2020-03-26T00:00:00",
          "2020-03-27T00:00:00",
          "2020-03-27T00:00:00",
          "2020-03-28T00:00:00",
          "2020-03-28T00:00:00",
          "2020-03-28T00:00:00",
          "2020-03-28T00:00:00",
          "2020-03-29T00:00:00",
          "2020-03-29T00:00:00",
          "2020-03-29T00:00:00",
          "2020-03-29T00:00:00",
          "2020-03-29T00:00:00",
          "2020-03-29T00:00:00",
          "2020-03-29T00:00:00",
          "2020-03-30T00:00:00",
          "2020-03-30T00:00:00",
          "2020-03-30T00:00:00",
          "2020-03-30T00:00:00",
          "2020-03-30T00:00:00",
          "2020-03-30T00:00:00",
          "2020-03-30T00:00:00",
          "2020-03-30T00:00:00",
          "2020-03-30T00:00:00",
          "2020-03-31T00:00:00",
          "2020-03-31T00:00:00",
          "2020-04-01T00:00:00",
          "2020-04-01T00:00:00",
          "2020-04-01T00:00:00",
          "2020-04-02T00:00:00",
          "2020-04-03T00:00:00",
          "2020-04-11T00:00:00",
          "2020-04-14T00:00:00",
          "2020-04-14T00:00:00",
          "2020-05-26T00:00:00",
          "2020-06-28T00:00:00",
          "2020-01-29T00:00:00",
          "2020-02-11T00:00:00",
          "2020-02-28T00:00:00",
          "2020-03-12T00:00:00",
          "2020-03-12T00:00:00",
          "2020-03-12T00:00:00",
          "2020-03-13T00:00:00",
          "2020-03-14T00:00:00",
          "2020-03-14T00:00:00",
          "2020-03-15T00:00:00",
          "2020-03-16T00:00:00",
          "2020-03-17T00:00:00",
          "2020-03-17T00:00:00",
          "2020-03-17T00:00:00",
          "2020-03-17T00:00:00",
          "2020-03-17T00:00:00",
          "2020-03-18T00:00:00",
          "2020-03-18T00:00:00",
          "2020-03-18T00:00:00",
          "2020-03-18T00:00:00",
          "2020-03-18T00:00:00",
          "2020-03-18T00:00:00",
          "2020-03-18T00:00:00",
          "2020-03-19T00:00:00",
          "2020-03-19T00:00:00",
          "2020-03-20T00:00:00",
          "2020-03-20T00:00:00",
          "2020-03-20T00:00:00",
          "2020-03-20T00:00:00",
          "2020-03-21T00:00:00",
          "2020-03-21T00:00:00",
          "2020-03-21T00:00:00",
          "2020-03-21T00:00:00",
          "2020-03-21T00:00:00",
          "2020-03-21T00:00:00",
          "2020-03-21T00:00:00",
          "2020-03-22T00:00:00",
          "2020-03-22T00:00:00",
          "2020-03-22T00:00:00",
          "2020-03-22T00:00:00",
          "2020-03-22T00:00:00",
          "2020-03-23T00:00:00",
          "2020-03-23T00:00:00",
          "2020-03-23T00:00:00",
          "2020-03-23T00:00:00",
          "2020-03-23T00:00:00",
          "2020-03-23T00:00:00",
          "2020-03-23T00:00:00",
          "2020-03-23T00:00:00",
          "2020-03-23T00:00:00",
          "2020-03-23T00:00:00",
          "2020-03-23T00:00:00",
          "2020-03-24T00:00:00",
          "2020-03-24T00:00:00",
          "2020-03-24T00:00:00",
          "2020-03-24T00:00:00",
          "2020-03-24T00:00:00",
          "2020-03-24T00:00:00",
          "2020-03-24T00:00:00",
          "2020-03-24T00:00:00",
          "2020-03-25T00:00:00",
          "2020-03-25T00:00:00",
          "2020-03-25T00:00:00",
          "2020-03-25T00:00:00",
          "2020-03-25T00:00:00",
          "2020-03-25T00:00:00",
          "2020-03-25T00:00:00",
          "2020-03-26T00:00:00",
          "2020-03-26T00:00:00",
          "2020-03-26T00:00:00",
          "2020-03-26T00:00:00",
          "2020-03-27T00:00:00",
          "2020-03-27T00:00:00",
          "2020-03-28T00:00:00",
          "2020-03-30T00:00:00",
          "2020-07-14T00:00:00",
          "2020-07-17T00:00:00",
          "2020-02-08T00:00:00",
          "2020-03-03T00:00:00",
          "2020-03-09T00:00:00",
          "2020-03-09T00:00:00",
          "2020-03-09T00:00:00",
          "2020-03-12T00:00:00",
          "2020-03-13T00:00:00",
          "2020-03-13T00:00:00",
          "2020-03-13T00:00:00",
          "2020-03-13T00:00:00",
          "2020-03-13T00:00:00",
          "2020-03-14T00:00:00",
          "2020-03-14T00:00:00",
          "2020-03-14T00:00:00",
          "2020-03-14T00:00:00",
          "2020-03-15T00:00:00",
          "2020-03-15T00:00:00",
          "2020-03-15T00:00:00",
          "2020-03-15T00:00:00",
          "2020-03-15T00:00:00",
          "2020-03-15T00:00:00",
          "2020-03-15T00:00:00",
          "2020-03-16T00:00:00",
          "2020-03-16T00:00:00",
          "2020-03-16T00:00:00",
          "2020-03-16T00:00:00",
          "2020-03-16T00:00:00",
          "2020-03-16T00:00:00",
          "2020-03-16T00:00:00",
          "2020-03-16T00:00:00",
          "2020-03-17T00:00:00",
          "2020-03-17T00:00:00",
          "2020-03-17T00:00:00",
          "2020-03-17T00:00:00",
          "2020-03-17T00:00:00",
          "2020-03-17T00:00:00",
          "2020-03-17T00:00:00",
          "2020-03-18T00:00:00",
          "2020-03-18T00:00:00",
          "2020-03-18T00:00:00",
          "2020-03-18T00:00:00",
          "2020-03-18T00:00:00",
          "2020-03-18T00:00:00",
          "2020-03-18T00:00:00",
          "2020-03-18T00:00:00",
          "2020-03-18T00:00:00",
          "2020-03-19T00:00:00",
          "2020-03-19T00:00:00",
          "2020-03-19T00:00:00",
          "2020-03-19T00:00:00",
          "2020-03-19T00:00:00",
          "2020-03-20T00:00:00",
          "2020-03-20T00:00:00",
          "2020-03-20T00:00:00",
          "2020-03-20T00:00:00",
          "2020-03-20T00:00:00",
          "2020-03-20T00:00:00",
          "2020-03-21T00:00:00",
          "2020-03-21T00:00:00",
          "2020-03-21T00:00:00",
          "2020-03-21T00:00:00",
          "2020-03-21T00:00:00",
          "2020-03-21T00:00:00",
          "2020-03-22T00:00:00",
          "2020-03-22T00:00:00",
          "2020-03-22T00:00:00",
          "2020-03-22T00:00:00",
          "2020-03-22T00:00:00",
          "2020-03-22T00:00:00",
          "2020-03-22T00:00:00",
          "2020-03-22T00:00:00",
          "2020-03-22T00:00:00",
          "2020-03-23T00:00:00",
          "2020-03-23T00:00:00",
          "2020-03-23T00:00:00",
          "2020-03-23T00:00:00",
          "2020-03-24T00:00:00",
          "2020-03-27T00:00:00",
          "2020-03-27T00:00:00",
          "2020-03-30T00:00:00",
          "2020-01-22T00:00:00",
          "2020-02-06T00:00:00",
          "2020-02-07T00:00:00",
          "2020-02-26T00:00:00",
          "2020-03-03T00:00:00",
          "2020-03-04T00:00:00",
          "2020-03-05T00:00:00",
          "2020-03-06T00:00:00",
          "2020-03-09T00:00:00",
          "2020-03-10T00:00:00",
          "2020-03-11T00:00:00",
          "2020-03-12T00:00:00",
          "2020-03-12T00:00:00",
          "2020-03-12T00:00:00",
          "2020-03-12T00:00:00",
          "2020-03-12T00:00:00",
          "2020-03-12T00:00:00",
          "2020-03-12T00:00:00",
          "2020-03-12T00:00:00",
          "2020-03-12T00:00:00",
          "2020-03-13T00:00:00",
          "2020-03-13T00:00:00",
          "2020-03-13T00:00:00",
          "2020-03-13T00:00:00",
          "2020-03-13T00:00:00",
          "2020-03-13T00:00:00",
          "2020-03-13T00:00:00",
          "2020-03-13T00:00:00",
          "2020-03-14T00:00:00",
          "2020-03-14T00:00:00",
          "2020-03-14T00:00:00",
          "2020-03-14T00:00:00",
          "2020-03-14T00:00:00",
          "2020-03-15T00:00:00",
          "2020-03-15T00:00:00",
          "2020-03-15T00:00:00",
          "2020-03-15T00:00:00",
          "2020-03-15T00:00:00",
          "2020-03-15T00:00:00",
          "2020-03-15T00:00:00",
          "2020-03-15T00:00:00",
          "2020-03-15T00:00:00",
          "2020-03-16T00:00:00",
          "2020-03-16T00:00:00",
          "2020-03-16T00:00:00",
          "2020-03-16T00:00:00",
          "2020-03-16T00:00:00",
          "2020-03-16T00:00:00",
          "2020-03-16T00:00:00",
          "2020-03-16T00:00:00",
          "2020-03-16T00:00:00",
          "2020-03-16T00:00:00",
          "2020-03-16T00:00:00",
          "2020-03-17T00:00:00",
          "2020-03-17T00:00:00",
          "2020-03-17T00:00:00",
          "2020-03-17T00:00:00",
          "2020-03-17T00:00:00",
          "2020-03-18T00:00:00",
          "2020-03-18T00:00:00",
          "2020-03-18T00:00:00",
          "2020-03-18T00:00:00",
          "2020-03-19T00:00:00",
          "2020-03-19T00:00:00",
          "2020-03-19T00:00:00",
          "2020-03-20T00:00:00",
          "2020-03-20T00:00:00",
          "2020-03-20T00:00:00",
          "2020-03-22T00:00:00",
          "2020-03-22T00:00:00",
          "2020-03-25T00:00:00",
          "2020-03-29T00:00:00",
          "2020-05-13T00:00:00",
          "2020-06-12T00:00:00",
          "2020-06-13T00:00:00",
          "2020-06-28T00:00:00",
          "2020-06-28T00:00:00",
          "2020-07-10T00:00:00",
          "2020-07-13T00:00:00",
          "2020-08-18T00:00:00",
          "2020-08-18T00:00:00",
          "2020-08-20T00:00:00",
          "2020-01-21T00:00:00",
          "2020-01-26T00:00:00",
          "2020-01-30T00:00:00",
          "2020-01-31T00:00:00",
          "2020-02-03T00:00:00",
          "2020-02-05T00:00:00",
          "2020-02-05T00:00:00",
          "2020-02-05T00:00:00",
          "2020-02-05T00:00:00",
          "2020-02-05T00:00:00",
          "2020-02-05T00:00:00",
          "2020-02-06T00:00:00",
          "2020-02-08T00:00:00",
          "2020-02-22T00:00:00",
          "2020-02-25T00:00:00",
          "2020-02-25T00:00:00",
          "2020-02-25T00:00:00",
          "2020-02-25T00:00:00",
          "2020-02-27T00:00:00",
          "2020-02-28T00:00:00",
          "2020-02-29T00:00:00",
          "2020-02-29T00:00:00",
          "2020-02-29T00:00:00",
          "2020-03-02T00:00:00",
          "2020-03-02T00:00:00",
          "2020-03-02T00:00:00",
          "2020-03-02T00:00:00",
          "2020-03-03T00:00:00",
          "2020-03-04T00:00:00",
          "2020-03-04T00:00:00",
          "2020-03-04T00:00:00",
          "2020-03-04T00:00:00",
          "2020-03-04T00:00:00",
          "2020-03-05T00:00:00",
          "2020-03-05T00:00:00",
          "2020-03-05T00:00:00",
          "2020-03-05T00:00:00",
          "2020-03-05T00:00:00",
          "2020-03-06T00:00:00",
          "2020-03-07T00:00:00",
          "2020-03-07T00:00:00",
          "2020-03-07T00:00:00",
          "2020-03-07T00:00:00",
          "2020-03-08T00:00:00",
          "2020-03-08T00:00:00",
          "2020-03-09T00:00:00",
          "2020-03-09T00:00:00",
          "2020-03-09T00:00:00",
          "2020-03-09T00:00:00",
          "2020-03-09T00:00:00",
          "2020-03-09T00:00:00",
          "2020-03-09T00:00:00",
          "2020-03-09T00:00:00",
          "2020-03-10T00:00:00",
          "2020-03-10T00:00:00",
          "2020-03-10T00:00:00",
          "2020-03-10T00:00:00",
          "2020-03-10T00:00:00",
          "2020-03-10T00:00:00",
          "2020-03-10T00:00:00",
          "2020-03-10T00:00:00",
          "2020-03-10T00:00:00",
          "2020-03-10T00:00:00",
          "2020-03-10T00:00:00",
          "2020-03-10T00:00:00",
          "2020-03-10T00:00:00",
          "2020-03-10T00:00:00",
          "2020-03-10T00:00:00",
          "2020-03-11T00:00:00",
          "2020-03-11T00:00:00",
          "2020-03-11T00:00:00",
          "2020-03-11T00:00:00",
          "2020-03-11T00:00:00",
          "2020-03-11T00:00:00",
          "2020-03-11T00:00:00",
          "2020-03-12T00:00:00",
          "2020-03-12T00:00:00",
          "2020-03-12T00:00:00",
          "2020-03-12T00:00:00",
          "2020-03-12T00:00:00",
          "2020-03-12T00:00:00",
          "2020-03-13T00:00:00",
          "2020-03-14T00:00:00",
          "2020-03-15T00:00:00",
          "2020-03-15T00:00:00",
          "2020-03-15T00:00:00",
          "2020-03-16T00:00:00",
          "2020-03-16T00:00:00",
          "2020-04-02T00:00:00",
          "2020-04-29T00:00:00",
          "2020-08-31T00:00:00",
          "2020-01-04T00:00:00",
          "2020-01-22T00:00:00",
          "2020-01-23T00:00:00",
          "2020-01-23T00:00:00",
          "2020-01-23T00:00:00",
          "2020-01-23T00:00:00",
          "2020-01-23T00:00:00",
          "2020-01-23T00:00:00",
          "2020-01-24T00:00:00",
          "2020-01-25T00:00:00",
          "2020-01-25T00:00:00",
          "2020-01-27T00:00:00",
          "2020-01-27T00:00:00",
          "2020-01-27T00:00:00",
          "2020-01-28T00:00:00",
          "2020-01-28T00:00:00",
          "2020-01-28T00:00:00",
          "2020-01-29T00:00:00",
          "2020-01-29T00:00:00",
          "2020-01-30T00:00:00",
          "2020-01-30T00:00:00",
          "2020-01-30T00:00:00",
          "2020-01-30T00:00:00",
          "2020-01-31T00:00:00",
          "2020-01-31T00:00:00",
          "2020-01-31T00:00:00",
          "2020-02-02T00:00:00",
          "2020-02-02T00:00:00",
          "2020-02-02T00:00:00",
          "2020-02-03T00:00:00",
          "2020-02-04T00:00:00",
          "2020-02-05T00:00:00",
          "2020-02-05T00:00:00",
          "2020-02-05T00:00:00",
          "2020-02-05T00:00:00",
          "2020-02-06T00:00:00",
          "2020-02-06T00:00:00",
          "2020-02-06T00:00:00",
          "2020-02-06T00:00:00",
          "2020-02-08T00:00:00",
          "2020-02-09T00:00:00",
          "2020-02-09T00:00:00",
          "2020-02-18T00:00:00",
          "2020-02-25T00:00:00",
          "2020-03-02T00:00:00",
          "2020-03-02T00:00:00",
          "2020-03-02T00:00:00",
          "2020-03-03T00:00:00",
          "2020-03-11T00:00:00",
          "2020-03-12T00:00:00",
          "2020-03-16T00:00:00",
          "2020-03-26T00:00:00",
          "2020-03-30T00:00:00",
          "2020-03-31T00:00:00",
          "2020-04-02T00:00:00",
          "2020-04-02T00:00:00",
          "2020-04-04T00:00:00",
          "2020-04-08T00:00:00",
          "2020-04-25T00:00:00",
          "2020-04-28T00:00:00",
          "2020-04-30T00:00:00",
          "2020-05-12T00:00:00",
          "2020-06-18T00:00:00",
          "2020-06-19T00:00:00",
          "2020-06-27T00:00:00",
          "2020-06-28T00:00:00",
          "2020-07-01T00:00:00",
          "2020-07-03T00:00:00",
          "2020-07-04T00:00:00",
          "2020-07-13T00:00:00",
          "2020-08-16T00:00:00",
          "2020-08-16T00:00:00",
          "2020-08-19T00:00:00",
          "2020-03-18T00:00:00",
          "2020-03-03T00:00:00",
          "2020-03-20T00:00:00",
          "2020-04-27T00:00:00",
          "2020-03-03T00:00:00",
          "2020-04-07T00:00:00",
          "2020-05-17T00:00:00",
          "2020-03-28T00:00:00",
          "2020-03-10T00:00:00",
          "2020-03-14T00:00:00",
          "2020-03-05T00:00:00",
          "2020-03-18T00:00:00",
          "2020-08-12T00:00:00",
          "2020-05-02T00:00:00",
          "2020-06-17T00:00:00",
          "2020-01-27T00:00:00",
          "2020-01-28T00:00:00",
          "2020-01-25T00:00:00",
          "2020-03-16T00:00:00",
          "2020-01-15T00:00:00",
          "2020-01-30T00:00:00",
          "2020-01-28T00:00:00",
          "2020-01-26T00:00:00",
          "2020-03-12T00:00:00"
         ],
         "xaxis": "x",
         "y": [
          9191832,
          9191832,
          9191832,
          1437009,
          1437009,
          9191832,
          1437009,
          393129,
          43129,
          21283,
          54282956,
          557860,
          17230,
          26970,
          26970,
          839647,
          107996,
          287507,
          7052,
          218,
          24683,
          230092,
          1175975,
          1175975,
          53351,
          438436,
          15112,
          76660,
          651572,
          1936,
          56590,
          7541,
          7541,
          5650,
          4334,
          14356088,
          191908,
          185077,
          47520,
          47520,
          47520,
          330891,
          6688013,
          45352,
          862987,
          10422,
          1318,
          1,
          40044,
          33,
          63,
          18467,
          2034794,
          2034794,
          595,
          164,
          3015,
          59067,
          6688013,
          348768,
          12361,
          30804,
          5717,
          17690,
          17690,
          99418,
          47872,
          54504,
          138561,
          17468,
          9191833,
          855267,
          18131,
          9191833,
          5864301,
          135086,
          5637,
          1399161,
          135086,
          440835,
          26880,
          16747,
          2181799,
          107996,
          456,
          427237,
          28345,
          234765,
          234765,
          1476,
          33419,
          3108370,
          45415,
          570753,
          8705,
          597521,
          103432,
          1726631,
          1726631,
          70260,
          33022,
          819519,
          2223,
          1437009,
          251746,
          2393530,
          110202,
          89,
          6743,
          277604,
          61790,
          48358,
          638165,
          24756,
          31623,
          9148,
          683,
          2703,
          42197,
          76660,
          651572,
          30862,
          5158,
          5158,
          147280,
          124703,
          647,
          240250,
          2486,
          580533,
          55039,
          667366,
          230092,
          240250,
          9031370,
          2154302,
          90682,
          62752,
          62752,
          577130,
          5547,
          40995,
          72948,
          27,
          15378,
          65050,
          3074,
          1399161,
          1399161,
          1683,
          31812,
          141611,
          1437009,
          1441252,
          9191833,
          1808,
          153831,
          59008,
          15431,
          1144,
          153831,
          47226,
          3801478,
          184613,
          1336533,
          109168,
          11057,
          110202,
          423610,
          134771,
          3647428,
          1796845,
          15431,
          108402,
          820725,
          416002,
          63818,
          225264,
          133,
          15999,
          1,
          150,
          36725,
          5296402,
          95399,
          41669,
          90508,
          439893,
          1441252,
          62497,
          61717,
          1332,
          1079,
          39225,
          79456,
          1697343,
          75382,
          352249,
          1802,
          12033766,
          9148,
          2901,
          36245,
          1548,
          2671,
          21803,
          1292593,
          134555,
          572,
          1313,
          251,
          3345,
          200,
          415473,
          84843,
          262756,
          3336813,
          422512,
          9,
          205632,
          20983,
          9539,
          10123749,
          15431,
          33699,
          1399161,
          126985,
          5254900,
          10477,
          2034794,
          3527,
          5246,
          1987015,
          42,
          158,
          576819,
          29652779,
          196491,
          513428,
          9191834,
          52962,
          1441252,
          648109,
          28017,
          1840575,
          251746,
          462153,
          9148,
          648109,
          3764640,
          2280,
          110202,
          12039,
          14446,
          5518,
          470916,
          321189,
          33295,
          6075171,
          106125,
          3533380,
          28185,
          507618,
          21998,
          129166,
          1697343,
          37340,
          1228219,
          379088,
          1726631,
          327,
          225264,
          279764,
          15307,
          225264,
          147238,
          1237808,
          226786,
          18345,
          150,
          134532,
          17963,
          3146,
          575294,
          61047,
          1104399,
          22222,
          14265,
          14265,
          1189724,
          5718,
          7,
          14709,
          347,
          292967,
          545578,
          440481,
          90508,
          439893,
          2926,
          12033766,
          225264,
          1600,
          41562,
          190511,
          141,
          879597,
          7821,
          10422,
          410418,
          62,
          208148,
          207620,
          184613,
          7391,
          1437009,
          227558,
          194415,
          49719732,
          924148,
          25528,
          4642,
          9982707,
          1441252,
          171971,
          26405734,
          443508,
          165786,
          1563641,
          638165,
          1881769,
          3414289,
          758699,
          35828,
          48308,
          5296402,
          283831,
          1763,
          758699,
          128832,
          251746,
          428816,
          120586,
          1649343,
          1649343,
          75091,
          1237808,
          51291,
          12407,
          1805055,
          110202,
          110202,
          2429,
          63,
          1567,
          4446,
          3607,
          9191832,
          356354,
          10422,
          184613,
          211335,
          356354,
          35659,
          1693161,
          77256,
          85509,
          407998,
          1333,
          24303,
          184613,
          1104,
          9909,
          1050704,
          3,
          80924,
          4818,
          710860,
          707,
          80924,
          5354,
          134771,
          1167663,
          81119,
          1922,
          74594,
          10632,
          27746,
          2021,
          60315,
          12137908,
          9056,
          1726631,
          1228219,
          656332,
          7632,
          462153,
          18271,
          798839,
          14265,
          184613,
          989,
          758699,
          131333,
          131333,
          2739,
          6438,
          1945,
          638165,
          308846,
          11187,
          11187,
          1425504,
          1274,
          3275447,
          3023519,
          3634077,
          26405734,
          55739,
          78,
          16666149,
          2094838,
          24812,
          184613,
          93956,
          1697343,
          6688013,
          1523,
          58983,
          124772,
          3533380,
          73199,
          1089919,
          7630,
          389,
          389,
          39,
          9191832,
          714473,
          26,
          120586,
          1269129,
          1705,
          3294,
          1122955,
          33,
          55,
          11936,
          127786,
          8227,
          993,
          721416,
          721416,
          3404731,
          3404731,
          276924,
          4153001,
          660,
          12359,
          760,
          5254900,
          27746,
          17131,
          6688013,
          49038,
          6524,
          4619,
          278,
          102,
          9056,
          7,
          7338279,
          17884,
          12034,
          26405734,
          10547,
          3255,
          18894,
          2199,
          5128,
          129898,
          129898,
          131333,
          6249,
          1840575,
          73193,
          8919,
          171146,
          18271,
          561149,
          12704,
          1987015,
          4541,
          1949,
          3265,
          244,
          9398,
          4652,
          9031371,
          16721,
          774744,
          12293,
          22104,
          22104,
          22104,
          30,
          16630,
          7837,
          2238960,
          9191834,
          15616,
          184613,
          408223,
          101393,
          33417,
          26,
          76265,
          3023519,
          184098,
          7890,
          112301,
          184613,
          448397,
          45524654,
          5636,
          5135,
          24030,
          354615,
          1697343,
          2670042,
          2213878,
          6289,
          462,
          34131,
          13243,
          1210765,
          33123,
          221,
          71068,
          706,
          1189724,
          1512983,
          9191834,
          251746,
          3023519,
          548206,
          834351,
          232990,
          5249,
          548206,
          231535,
          1697343,
          15671979,
          1087,
          178,
          120586,
          9587623,
          351260,
          251746,
          78785,
          872,
          437106,
          116590,
          34432,
          33974,
          3753,
          6688013,
          16398,
          63609,
          8225,
          156193,
          9191834,
          156193,
          4238216,
          239377,
          1246722,
          393685,
          71780,
          378,
          5108,
          20029,
          2860,
          1881769,
          196491,
          4725379,
          126256,
          774744,
          11626,
          58334,
          383365,
          49861907,
          38105,
          130102122,
          54565,
          184613,
          1399161,
          81658,
          897463,
          3085,
          7975,
          40108,
          1167663,
          51,
          12523,
          67525,
          251746,
          184613,
          416002,
          416002,
          367072,
          1896,
          38195,
          1437009,
          21,
          603790,
          345354,
          158551,
          74235,
          1336533,
          5854,
          70334,
          80464,
          1343875,
          219214,
          5,
          2,
          13417,
          6427,
          23509,
          1821,
          1562,
          106770,
          194,
          11700,
          345354,
          2670042,
          139384,
          9191834,
          18489,
          223007,
          1225958,
          417157,
          16755,
          3230194,
          240250,
          364490,
          5135,
          29863,
          963547,
          7245,
          1441252,
          4991246,
          126845,
          62512,
          18322,
          1164175,
          4573124,
          5050,
          251746,
          3230194,
          75,
          18322,
          3753,
          1189724,
          417157,
          593529,
          55549,
          12978,
          1399161,
          14917508,
          196491,
          196491,
          1987246,
          599,
          1368,
          56863,
          638165,
          382480,
          382480,
          638165,
          56863,
          54491,
          280,
          6356,
          296211,
          1290642,
          287818,
          259523,
          1307083,
          733,
          2503545,
          1290642,
          99261,
          8362,
          3530757,
          432561,
          774,
          66644761,
          19330,
          53967,
          265462,
          1396826,
          1090874,
          10486,
          287818,
          12,
          346130,
          251746,
          710860,
          292390,
          12289,
          6774,
          25087,
          187722,
          7001,
          18328,
          325389,
          251746,
          184613,
          7906721,
          984511,
          2700,
          415,
          19706,
          206,
          202923,
          2911,
          226485,
          1824478,
          798839,
          10498,
          62003,
          1437009,
          1021,
          339772,
          100503,
          23372,
          5296402,
          239377,
          417157,
          74343,
          200244,
          21803,
          84641,
          1436723,
          3800946,
          1881628,
          30708,
          888937,
          4124,
          314453,
          22291,
          1192,
          204875,
          205532,
          996752,
          1697241,
          202863,
          149904,
          592,
          53,
          1181408,
          4171,
          665,
          6650,
          4925,
          676,
          6650,
          126826,
          4758,
          81572,
          11281,
          2723,
          791081,
          3239,
          29747771,
          265353,
          45043,
          45075,
          2010,
          2243,
          758654,
          251599,
          14289,
          1469,
          195,
          191657,
          7127380,
          251599,
          251599,
          2503446,
          718333,
          1441177,
          5073211,
          164067,
          155403,
          287,
          5789,
          25424,
          86888,
          4135,
          2610710,
          1681,
          19502,
          5299193,
          45523076,
          123271,
          2,
          358512,
          2133892,
          45523076,
          184603,
          1441177,
          57745,
          575092,
          15156,
          3800946,
          494305,
          205944,
          345300,
          84599,
          29652780,
          1451177,
          134600,
          205376,
          814366,
          828622,
          124143,
          91714268,
          1,
          2793,
          1553,
          6218,
          6218,
          11751,
          1342027,
          10307,
          71311,
          46885,
          105477,
          1189724,
          708695,
          27937,
          3533380,
          710,
          487,
          3533380,
          669,
          45320,
          165,
          663604,
          12519,
          184613,
          10616,
          5140,
          828276,
          209666,
          195511,
          1246806,
          225264,
          184613,
          184613,
          77036,
          58634,
          17751,
          4153001,
          26025,
          3127520,
          154321,
          5591108,
          202863,
          12461,
          3483,
          139,
          113406,
          15,
          29247,
          27760,
          3059,
          1964,
          38617,
          671,
          37790,
          36,
          272818,
          184613,
          1987246,
          184613,
          2562,
          281594,
          5286461,
          135026,
          1249192,
          107,
          71,
          10124,
          104346,
          1254163,
          1254163,
          5296402,
          204,
          154710,
          435301,
          32459,
          4026,
          1225958,
          1441252,
          2403,
          133810,
          76697,
          1117,
          16666149,
          1108,
          26760,
          313521,
          100823,
          1257,
          583604,
          1210765,
          1532602,
          889141,
          54271,
          6080,
          2793,
          590745,
          590745,
          11473,
          2610952,
          3127520,
          8303,
          92034,
          1719806,
          3525,
          814366,
          48079,
          177,
          251746,
          246797,
          18379,
          407449,
          7493,
          16554,
          33101,
          92034,
          10359,
          38617,
          3533380,
          54768,
          68236,
          9630,
          706,
          68446,
          4320,
          111,
          3533380,
          6021,
          389381,
          9031371,
          112110,
          15764,
          38617,
          33417,
          507618,
          1238,
          121,
          4213727,
          396420,
          9817,
          506076,
          1441252,
          22118,
          9191834,
          924519,
          6111,
          1683,
          924519,
          924519,
          247522,
          924519,
          924519,
          924519,
          924519,
          5486,
          79853,
          65731,
          1441252,
          10,
          3223470,
          3223470,
          3223470,
          3223470,
          3223470,
          3223470,
          3223470,
          84599,
          20188,
          28342,
          3223470,
          1039259,
          461632,
          251746,
          28342,
          251746,
          5746,
          5266041,
          23279,
          68236,
          251746,
          230092,
          3223470,
          3223470,
          824563,
          58,
          234,
          10356874,
          2293189,
          18176,
          230092,
          4144465,
          1869523,
          230092,
          6166,
          5486,
          1254064,
          23956,
          728,
          4144465,
          154838,
          27544,
          2228955,
          13292,
          20372,
          657196,
          4619,
          30659,
          81264,
          5908,
          90040,
          1196,
          32176,
          80958,
          90040,
          821527,
          115872,
          4022,
          80806,
          959,
          133810,
          1718335,
          38344,
          1941,
          108,
          9191834,
          465991,
          3533380,
          1441252,
          9713,
          29567,
          35052,
          10094,
          17579,
          353543,
          13292,
          23,
          6917,
          889141,
          13292,
          757218,
          255,
          13621,
          55950,
          114748,
          2382,
          9191832,
          9196,
          76416,
          192625,
          497377,
          17918,
          76416,
          73870,
          30153,
          205366,
          9556,
          1881769,
          9282,
          9191832,
          1254163,
          1246,
          48397,
          1881769,
          36831,
          2646798,
          23108,
          5498,
          16754,
          834205,
          12847,
          308846,
          3552,
          9191832,
          3552,
          1817827,
          44517,
          3223470,
          3223470,
          3223470,
          3223470,
          3223470,
          3223470,
          3223470,
          42,
          261340,
          412880,
          638165,
          123943,
          5936,
          31961,
          9191832,
          3510,
          25358,
          498946,
          1290642,
          498946,
          11122607,
          21,
          649,
          210,
          318,
          5854,
          25308,
          31925,
          162884,
          378,
          555211,
          178364,
          6688013,
          66995,
          9,
          405153,
          2291,
          8844,
          8086043,
          34,
          42,
          1441252,
          1066,
          1237504,
          11322,
          1532,
          38142,
          2554,
          12181,
          2416917,
          68196,
          204685,
          62013,
          337,
          27389,
          282274,
          61790,
          2273,
          3437444,
          217969,
          250581,
          6,
          29127,
          2213878,
          60579,
          123
         ],
         "yaxis": "y"
        },
        {
         "customdata": [
          [
           "Richard Neher",
           "@richardneher",
           606,
           518,
           "2012/08/31"
          ],
          [
           "شبكة عميد الإمارات",
           "@3meed_news",
           87,
           158,
           "2011/11/09"
          ],
          [
           "Trevor Bedford",
           "@trvrb",
           1729,
           817,
           "2010/12/10"
          ],
          [
           "CNBC",
           "@CNBC",
           19,
           842,
           "2009/02/09"
          ],
          [
           "Anderson Cooper 360°",
           "@AC360",
           216,
           156,
           "2010/12/17"
          ],
          [
           "U.S. Mission Uganda",
           "@usmissionuganda",
           27,
           7412,
           "2010/10/01"
          ],
          [
           "観光庁（Japan Tourism Agency）",
           "@Kanko_Jpn",
           504,
           109,
           "2014/06/12"
          ],
          [
           "TIMES NOW",
           "@TimesNow",
           291,
           375,
           "2011/01/20"
          ],
          [
           "Sachin Sawant सचिन सावंत",
           "@sachin_inc",
           164,
           693,
           "2011/04/28"
          ],
          [
           "Fotógrafo_Gus 🎥 🎬 📸",
           "@FotografoGus1",
           36,
           6049,
           "2019/12/15"
          ],
          [
           "World Health Organization (WHO)",
           "@WHO",
           1223,
           1734,
           "2008/04/23"
          ],
          [
           "A Marm Kilpatrick",
           "@DiseaseEcology",
           99,
           147,
           "2013/08/05"
          ],
          [
           "Sir Ganga Ram Hospital",
           "@sgrhindia",
           195,
           15,
           "2016/06/27"
          ],
          [
           "Vittorio Feltri",
           "@vfeltri",
           3154,
           537,
           "2012/02/07"
          ],
          [
           "BNPB Indonesia",
           "@BNPB_Indonesia",
           230,
           289,
           "2011/08/01"
          ],
          [
           "UAEGOV",
           "@uaegov",
           46,
           92,
           "2014/12/14"
          ],
          [
           "Daniel Silveira",
           "@danielPMERJ",
           383,
           469,
           "2017/09/26"
          ],
          [
           "عرار",
           "@FiT7xK1I7SnGiB2",
           1,
           107,
           "2020/06/22"
          ],
          [
           "Daniel Silveira",
           "@danielPMERJ",
           2712,
           469,
           "2017/09/26"
          ],
          [
           "Amalia Andrade A.",
           "@amaliaandrade_",
           605,
           2240,
           "2008/06/15"
          ],
          [
           "فارس",
           "@Farees_7",
           1,
           713,
           "2016/01/22"
          ],
          [
           "Daniel Silveira",
           "@danielPMERJ",
           901,
           469,
           "2017/09/26"
          ],
          [
           "UAEGOV",
           "@uaegov",
           86,
           92,
           "2014/12/14"
          ],
          [
           "Daniel Silveira",
           "@danielPMERJ",
           1080,
           469,
           "2017/09/26"
          ],
          [
           "Juan Ignacio Paolicchi",
           "@JuanPaolicchi",
           141,
           1254,
           "2010/01/18"
          ],
          [
           "MinSaludCol",
           "@MinSaludCol",
           396,
           814,
           "2011/09/11"
          ],
          [
           "César Pachón",
           "@CesarPachonAgro",
           223,
           7452,
           "2011/11/28"
          ],
          [
           "Otavio Ranzani",
           "@otavio_ranzani",
           1123,
           1066,
           "2017/04/03"
          ],
          [
           "NWP Rural Crime Team /Tîm Troseddau Cefn Gwlad HGC",
           "@NWPRuralCrime",
           8,
           660,
           "2013/10/07"
          ],
          [
           "NWP Rural Crime Team /Tîm Troseddau Cefn Gwlad HGC",
           "@NWPRuralCrime",
           7,
           660,
           "2013/10/07"
          ],
          [
           "DGAC Guatemala",
           "@guatemala_dgac",
           5,
           213,
           "2014/05/26"
          ],
          [
           "ID2020",
           "@ID2020",
           79,
           3185,
           "2015/05/15"
          ],
          [
           "Guille M.",
           "@Farmaenfurecida",
           573,
           612,
           "2012/04/26"
          ],
          [
           "PDH Guatemala",
           "@PDHgt",
           252,
           520,
           "2013/09/23"
          ],
          [
           "Radio SONORA 96.9 FM",
           "@sonora969",
           274,
           49,
           "2011/01/08"
          ],
          [
           "Noah Williams",
           "@Bellmanequation",
           7,
           999,
           "2009/05/05"
          ],
          [
           "CUCAIBA",
           "@Cucaiba",
           16,
           1012,
           "2011/05/27"
          ],
          [
           "Vlada Crne Gore",
           "@VladaCG",
           173,
           391,
           "2011/12/30"
          ],
          [
           "Tom Tiffany",
           "@TomTiffanyWI",
           93,
           680,
           "2015/07/23"
          ],
          [
           "Lance Allan",
           "@lanceallan",
           8,
           201,
           "2009/03/18"
          ],
          [
           "Lance Allan",
           "@lanceallan",
           6,
           201,
           "2009/03/18"
          ],
          [
           "観光庁（Japan Tourism Agency）",
           "@Kanko_Jpn",
           548,
           109,
           "2014/06/12"
          ],
          [
           "MINEX Guatemala 🇬🇹",
           "@MinexGt",
           18,
           779,
           "2010/07/05"
          ],
          [
           "Embajada de España en Guatemala",
           "@EmbajadaEspGTA",
           22,
           852,
           "2013/07/09"
          ],
          [
           "A Marm Kilpatrick",
           "@DiseaseEcology",
           291,
           147,
           "2013/08/05"
          ],
          [
           "World Health Organization (WHO)",
           "@WHO",
           834,
           1734,
           "2008/04/23"
          ],
          [
           "Luana Volnovich",
           "@luanavolnovich",
           1498,
           1363,
           "2010/08/30"
          ],
          [
           "Julián A. Fernández-Niño",
           "@JFernandeznino",
           1519,
           826,
           "2010/06/09"
          ],
          [
           "Simon Shen",
           "@simonshen_glos",
           912,
           231,
           "2019/10/11"
          ],
          [
           "World Health Organization (WHO)",
           "@WHO",
           225,
           1734,
           "2008/04/23"
          ],
          [
           "Marte Piantini",
           "@MartePiantini",
           225,
           6655,
           "2012/05/10"
          ],
          [
           "Hardeep Singh Puri",
           "@HardeepSPuri",
           1662,
           1095,
           "2014/01/13"
          ],
          [
           "Ronald Klain",
           "@RonaldKlain",
           170011,
           2588,
           "2011/02/07"
          ],
          [
           "PIB in Chandigarh",
           "@PIBChandigarh",
           0,
           191,
           "2012/04/30"
          ],
          [
           "PIB Fact Check",
           "@PIBFactCheck",
           599,
           31,
           "2019/12/19"
          ],
          [
           "Alicia erazo",
           "@ALICIAERAZO",
           1383,
           348,
           "2012/08/17"
          ],
          [
           "Scott Manley",
           "@ManleyWMC",
           33,
           566,
           "2011/03/10"
          ],
          [
           "Administrator Seema Verma",
           "@SeemaCMS",
           1177,
           348,
           "2017/01/19"
          ],
          [
           "EL HOMBRE NOTICIA",
           "@ArnulfoAgustinG",
           31,
           14,
           "2020/03/24"
          ],
          [
           "Diario La Hora",
           "@lahoragt",
           11,
           80,
           "2010/07/20"
          ],
          [
           "Ministerio de Salud y Deportes Bolivia",
           "@SaludDeportesBo",
           16,
           244,
           "2012/05/25"
          ],
          [
           "Government of Russia",
           "@GovernmentRF",
           835,
           23,
           "2012/07/12"
          ],
          [
           "World Health Organization (WHO)",
           "@WHO",
           26998,
           1734,
           "2008/04/23"
          ],
          [
           "Travelito",
           "@Travelito24",
           311999,
           66926,
           "2017/04/29"
          ],
          [
           "Ivan Petrella",
           "@ipetrella",
           2993,
           1981,
           "2010/05/31"
          ],
          [
           "Max Roser",
           "@MaxCRoser",
           610,
           1240,
           "2012/06/17"
          ],
          [
           "إبراهيمـ العمران",
           "@ibalimran",
           218,
           129,
           "2011/08/15"
          ],
          [
           "yousef ⚡alshehri 〽️",
           "@yalshehri1981",
           0,
           1047,
           "2019/03/04"
          ],
          [
           "A_ALMARRI",
           "@AALMARRI2013",
           13,
           2558,
           "2020/03/21"
          ],
          [
           "Jean Bezivin",
           "@JBezivin",
           0,
           3108,
           "2009/05/04"
          ],
          [
           "Cédric O",
           "@cedric_o",
           30,
           1512,
           "2008/08/04"
          ],
          [
           "World Health Organization (WHO)",
           "@WHO",
           496,
           1734,
           "2008/04/23"
          ],
          [
           "Leandro Cahn 💚",
           "@leandrocahn",
           552,
           1219,
           "2009/08/31"
          ],
          [
           "¿Por qué es tendencia?",
           "@porquetendencia",
           308,
           150,
           "2018/03/12"
          ],
          [
           "CMO Maharashtra",
           "@CMOMaharashtra",
           7430,
           99,
           "2014/07/01"
          ],
          [
           "Amir khan",
           "@AmirReport",
           1,
           2402,
           "2015/10/07"
          ],
          [
           "Mumbai Mirror",
           "@MumbaiMirror",
           262,
           236,
           "2012/12/05"
          ],
          [
           "Natalie E. Dean, PhD",
           "@nataliexdean",
           2105,
           676,
           "2018/06/08"
          ],
          [
           "Politic Türk",
           "@politicturk",
           2099,
           30,
           "2014/06/05"
          ],
          [
           "Eric Topol",
           "@EricTopol",
           88,
           526,
           "2009/11/01"
          ],
          [
           "Giank-deR 🇮🇹",
           "@GiancarloDeRisi",
           916,
           8961,
           "2011/11/07"
          ],
          [
           "Carl T. Bergstrom",
           "@CT_Bergstrom",
           2595,
           2110,
           "2015/06/07"
          ],
          [
           "Elon Musk",
           "@elonmusk",
           15837,
           103,
           "2009/06/02"
          ],
          [
           "Andrew Cuomo",
           "@NYGovCuomo",
           5773,
           622,
           "2010/12/30"
          ],
          [
           "Dulce Rivera",
           "@drivera_gt",
           36,
           630,
           "2014/07/08"
          ],
          [
           "Thonburi Hospital",
           "@ThonburiH",
           0,
           24,
           "2019/09/23"
          ],
          [
           "عبدالله الدواس",
           "@Abo__salma",
           1,
           2168,
           "2012/01/14"
          ],
          [
           "Winston",
           "@Winston_Dunhill",
           1122,
           2310,
           "2013/01/23"
          ],
          [
           "Carla Vizzotti",
           "@carlavizzotti",
           6827,
           251,
           "2010/06/19"
          ],
          [
           "World Health Organization (WHO)",
           "@WHO",
           248,
           1734,
           "2008/04/23"
          ],
          [
           "World Health Organization (WHO) Western Pacific",
           "@WHOWPRO",
           79,
           1205,
           "2015/10/05"
          ],
          [
           "Jason Pogue",
           "@jpogue1",
           8200,
           184,
           "2009/04/25"
          ],
          [
           "Darren Dahly",
           "@statsepi",
           174,
           4075,
           "2010/10/02"
          ],
          [
           "Prof Francois Balloux",
           "@BallouxFrancois",
           145,
           720,
           "2019/04/04"
          ],
          [
           "Canal Institucional",
           "@InstitucionalTV",
           5,
           253,
           "2009/09/01"
          ],
          [
           "Chad P. Bown",
           "@ChadBown",
           4,
           572,
           "2016/06/03"
          ],
          [
           "Alex Salvi",
           "@alexsalvinews",
           383,
           3451,
           "2017/11/18"
          ],
          [
           "i24NEWS Français",
           "@i24NEWS_FR",
           489,
           552,
           "2013/07/01"
          ],
          [
           "Governor Larry Hogan",
           "@GovLarryHogan",
           1220,
           1022,
           "2015/01/20"
          ],
          [
           "Governor Larry Hogan",
           "@GovLarryHogan",
           2272,
           1022,
           "2015/01/20"
          ],
          [
           "Galder Gonzalez🔻",
           "@theklaneh",
           2615,
           1191,
           "2009/01/30"
          ],
          [
           "Ivan Baumann Fonay",
           "@ivanfbf",
           344,
           274,
           "2008/05/12"
          ],
          [
           "Martin Tetaz",
           "@martintetaz",
           143,
           2897,
           "2010/07/14"
          ],
          [
           "franceinfo",
           "@franceinfo",
           57,
           1286,
           "2009/05/07"
          ],
          [
           "ENT UK",
           "@ENT_UK",
           4141,
           840,
           "2011/11/11"
          ],
          [
           "Dr Gaetan Burgio, MD, PhD.",
           "@GaetanBurgio",
           2765,
           1576,
           "2014/08/14"
          ],
          [
           "Andrew Lover",
           "@AndrewALover",
           28,
           1444,
           "2013/06/06"
          ],
          [
           "Lucas Morin",
           "@lucasmorin_eolc",
           253,
           550,
           "2018/10/30"
          ],
          [
           "Lu Chen #nobias",
           "@houndcl",
           72,
           241,
           "2012/01/27"
          ],
          [
           "Tomas Uribe Moreno",
           "@tomasuribeEco",
           3793,
           496,
           "2010/05/01"
          ],
          [
           "Ikhsan Kamil",
           "@IkhsanK07895159",
           44,
           1467,
           "2020/04/05"
          ],
          [
           "Robin Vos",
           "@repvos",
           66,
           772,
           "2009/03/23"
          ],
          [
           "Ram Madhav",
           "@rammadhav_rss",
           12225,
           304,
           "2012/08/11"
          ],
          [
           "Colegio Médico Col",
           "@ColegioMedicoCo",
           208,
           575,
           "2017/08/15"
          ],
          [
           "Mumbai Mirror",
           "@MumbaiMirror",
           279,
           236,
           "2012/12/05"
          ],
          [
           "Sen. Jeff Jackson",
           "@JeffJacksonNC",
           29,
           2534,
           "2010/03/20"
          ],
          [
           "ANI",
           "@ANI",
           3804,
           0,
           "2011/08/16"
          ],
          [
           "PMD News",
           "@PMDNewsGov",
           43,
           11,
           "2015/08/07"
          ],
          [
           "ANI",
           "@ANI",
           12239,
           0,
           "2011/08/16"
          ],
          [
           "朝日新聞(asahi shimbun）",
           "@asahi",
           2922,
           317,
           "2009/05/27"
          ],
          [
           "shashank",
           "@shashan29150961",
           0,
           18,
           "2020/03/26"
          ],
          [
           "Polizei Berlin Einsatz",
           "@PolizeiBerlin_E",
           1338,
           19,
           "2014/03/19"
          ],
          [
           "Roman Camacho",
           "@RCamachoVzla",
           490,
           1140,
           "2010/11/22"
          ],
          [
           "Bartolomeo Valletta",
           "@bartvalletta",
           56,
           13546,
           "2014/02/23"
          ],
          [
           "Jorge Galindo",
           "@JorgeGalindo",
           50,
           1099,
           "2008/05/19"
          ],
          [
           "ÁGUILA NEGRA #BDL",
           "@josel_6027",
           4,
           8908,
           "2011/08/31"
          ],
          [
           "World Health Organization Philippines",
           "@WHOPhilippines",
           175,
           488,
           "2013/11/27"
          ],
          [
           "Ministère des Solidarités et de la Santé",
           "@Sante_Gouv",
           403,
           648,
           "2010/01/28"
          ],
          [
           "Радио Стыдоба",
           "@RadioStydoba",
           2008,
           159,
           "2017/08/18"
          ],
          [
           "Nora Bär",
           "@norabar",
           66,
           764,
           "2010/04/08"
          ],
          [
           "Policía Municipal de Madrid",
           "@policiademadrid",
           575,
           32,
           "2011/05/17"
          ],
          [
           "Policía Municipal de Madrid",
           "@policiademadrid",
           459,
           32,
           "2011/05/17"
          ],
          [
           "Policía Municipal de Madrid",
           "@policiademadrid",
           534,
           32,
           "2011/05/17"
          ],
          [
           "HospitalPuertadelMar",
           "@HUPMCadiz",
           1004,
           380,
           "2013/07/03"
          ],
          [
           "Aurora Gomez",
           "@agomezp1",
           21,
           721,
           "2011/03/04"
          ],
          [
           "Christian Estrosi",
           "@cestrosi",
           4596,
           1471,
           "2009/10/20"
          ],
          [
           "Policía Municipal de Madrid",
           "@policiademadrid",
           1443,
           32,
           "2011/05/17"
          ],
          [
           "Policía Municipal de Madrid",
           "@policiademadrid",
           396,
           32,
           "2011/05/17"
          ],
          [
           "Policía Municipal de Madrid",
           "@policiademadrid",
           534,
           32,
           "2011/05/17"
          ],
          [
           "IFT",
           "@IFT_MX",
           9,
           167,
           "2010/01/05"
          ],
          [
           "World Health Organization (WHO)",
           "@WHO",
           749,
           1734,
           "2008/04/23"
          ],
          [
           "PIB India",
           "@PIB_India",
           3612,
           269,
           "2010/12/27"
          ],
          [
           "randahcini",
           "@HcinirandaC",
           17,
           1611,
           "2020/01/22"
          ],
          [
           "🇩🇿伊斯蘭教🇵🇸ⵣISLAM🔰ⵣ🇵🇸ислам🇩🇿",
           "@Sahnoun94594452",
           0,
           2276,
           "2019/03/11"
          ],
          [
           "abdulmohsin Alm",
           "@abdulmohsinAlm",
           0,
           936,
           "2010/12/29"
          ],
          [
           "Sid®",
           "@sid_sssay",
           0,
           4369,
           "2012/07/10"
          ],
          [
           "ANI",
           "@ANI",
           316,
           0,
           "2011/08/16"
          ],
          [
           "Falko Liecke",
           "@falkone1",
           1447,
           718,
           "2011/01/29"
          ],
          [
           "Policía Municipal de Madrid",
           "@policiademadrid",
           204,
           32,
           "2011/05/17"
          ],
          [
           "World Health Organization (WHO)",
           "@WHO",
           126,
           1734,
           "2008/04/23"
          ],
          [
           "World Health Organization (WHO)",
           "@WHO",
           391,
           1734,
           "2008/04/23"
          ],
          [
           "World Health Organization (WHO)",
           "@WHO",
           354,
           1734,
           "2008/04/23"
          ],
          [
           "Trump War Room",
           "@TrumpWarRoom",
           5901,
           267,
           "2019/03/20"
          ],
          [
           "Giuseppe Conte",
           "@GiuseppeConteIT",
           31490,
           135,
           "2018/05/24"
          ],
          [
           "Joe Biden",
           "@JoeBiden",
           102985,
           46,
           "2007/03/11"
          ],
          [
           "World News Tonight",
           "@ABCWorldNews",
           13,
           446,
           "2009/10/29"
          ],
          [
           "Radio ZET NEWS",
           "@RadioZET_NEWS",
           1647,
           809,
           "2012/04/25"
          ],
          [
           "ا لـ حـ ـد ث",
           "@AlHadath",
           63,
           44,
           "2011/02/01"
          ],
          [
           "Ghinwa Yatim",
           "@GhinwaYatim",
           110,
           2264,
           "2010/12/16"
          ],
          [
           "Ghinwa Yatim",
           "@GhinwaYatim",
           17,
           2264,
           "2010/12/16"
          ],
          [
           "🥊#Voice_Of_Youth 🥊SWM🇮🇳",
           "@RajeshK_Bharja",
           63,
           2370,
           "2018/02/17"
          ],
          [
           "Akash Ambar(IsupportFarmers)",
           "@akashyphd",
           1,
           1887,
           "2018/02/23"
          ],
          [
           "Portal Drauzio",
           "@drauziovarella",
           3758,
           373,
           "2009/10/22"
          ],
          [
           "Luigi Di Maio",
           "@luigidimaio",
           272,
           350,
           "2009/06/17"
          ],
          [
           "Urvah.bearing🚬🚬🚬💝❤❤",
           "@MominUrban",
           0,
           415,
           "2017/07/10"
          ],
          [
           "Duey Stroebel",
           "@SenStroebel",
           13,
           656,
           "2015/04/22"
          ],
          [
           "Giuseppe Conte",
           "@GiuseppeConteIT",
           4132,
           135,
           "2018/05/24"
          ],
          [
           "Jair M. Bolsonaro",
           "@jairbolsonaro",
           47367,
           552,
           "2010/03/31"
          ],
          [
           "Ted Cruz",
           "@tedcruz",
           9921,
           5426,
           "2009/03/06"
          ],
          [
           "Ministerstwo Zdrowia",
           "@MZ_GOV_PL",
           730,
           1173,
           "2012/01/13"
          ],
          [
           "Faisal Javed Khan",
           "@FaisalJavedKhan",
           8242,
           1340,
           "2011/03/04"
          ],
          [
           "Dilsedesh",
           "@Dilsedesh",
           4,
           1346,
           "2016/03/16"
          ],
          [
           "Sputnik Türkiye",
           "@sputnik_TR",
           116,
           17,
           "2011/11/30"
          ],
          [
           "Syeda Trimzi",
           "@TrimiziiiSyeda",
           204,
           2126,
           "2019/09/05"
          ],
          [
           "Rupin Sharma IPS",
           "@rupin1992",
           794,
           2184,
           "2016/11/02"
          ],
          [
           "Pinol El Original",
           "@PinolElOriginal",
           6,
           1524,
           "2010/03/19"
          ],
          [
           "HELIOS",
           "@helios_en",
           41,
           34,
           "2014/08/30"
          ],
          [
           "NBS Television",
           "@nbstv",
           1369,
           210,
           "2011/07/29"
          ],
          [
           "1m98",
           "@SoufOff",
           184,
           35,
           "2019/06/28"
          ],
          [
           "Lijian Zhao 赵立坚",
           "@zlj517",
           14302,
           174817,
           "2010/05/08"
          ],
          [
           "moises ávila roldán",
           "@moyavila",
           22,
           4182,
           "2009/08/21"
          ],
          [
           "Harrison",
           "@harri_010",
           4,
           17895,
           "2012/07/26"
          ],
          [
           "Madonna",
           "@Madonna",
           15491,
           45,
           "2012/03/03"
          ],
          [
           "BlackSabbath",
           "@BlackSabbath",
           38312,
           15,
           "2011/01/11"
          ],
          [
           "Marco Rubio",
           "@marcorubio",
           4283,
           2483,
           "2008/08/06"
          ],
          [
           "Joanna",
           "@JoannaGrams",
           12,
           292,
           "2009/08/31"
          ],
          [
           "Portal Drauzio",
           "@drauziovarella",
           8380,
           373,
           "2009/10/22"
          ],
          [
           "Famiyesin Mike",
           "@MikeFamiyesin",
           7,
           1237,
           "2013/03/06"
          ],
          [
           "Sharafat Hussain",
           "@Sharafa10041128",
           1,
           117,
           "2019/08/17"
          ],
          [
           "KKMalaysia🇲🇾",
           "@KKMPutrajaya",
           1789,
           97,
           "2012/03/20"
          ],
          [
           "Adela Micha",
           "@Adela_Micha",
           117,
           585,
           "2009/09/01"
          ],
          [
           "أفكار مذهلة",
           "@facts4444",
           114,
           22,
           "2018/10/21"
          ],
          [
           "حقائق مذهلة",
           "@facts444",
           4756,
           60,
           "2014/01/18"
          ],
          [
           "هكر المجتمع  🌎",
           "@ksa_hk23",
           18,
           594,
           "2014/08/05"
          ],
          [
           "Paolo A. Ascierto",
           "@PAscierto",
           198,
           253,
           "2012/03/13"
          ],
          [
           "World Health Organization (WHO)",
           "@WHO",
           806,
           1734,
           "2008/04/23"
          ],
          [
           "Makemery",
           "@Mous_taffe",
           23692,
           380,
           "2016/04/08"
          ],
          [
           "Aeronautica Militare",
           "@ItalianAirForce",
           6655,
           428,
           "2013/03/19"
          ],
          [
           "Kim Kardashian West",
           "@KimKardashian",
           229102,
           121,
           "2009/03/19"
          ],
          [
           "Trump War Room",
           "@TrumpWarRoom",
           7845,
           267,
           "2019/03/20"
          ],
          [
           "Himanshu Kushwaha",
           "@Himansh91694280",
           170,
           168,
           "2018/11/21"
          ],
          [
           "Janne Riiheläinen 🇫🇮🏴󠁧󠁢󠁳󠁣󠁴󠁿🇪🇺",
           "@veitera",
           161,
           4931,
           "2012/10/23"
          ],
          [
           "Office of the Prime Minister - Ethiopia",
           "@PMEthiopia",
           328,
           72,
           "2018/11/04"
          ],
          [
           "Bundesagentur für Arbeit",
           "@Bundesagentur",
           1199,
           651,
           "2012/08/16"
          ],
          [
           "Greg Hunt",
           "@GregHuntMP",
           883,
           2734,
           "2009/07/27"
          ],
          [
           "Jean-Baptiste Jeangène Vilmer",
           "@jeangene_vilmer",
           174,
           2274,
           "2011/10/22"
          ],
          [
           "Government of Punjab",
           "@GovtofPunjabPK",
           59,
           154,
           "2018/08/20"
          ],
          [
           "Office of the Prime Minister - Ethiopia",
           "@PMEthiopia",
           308,
           72,
           "2018/11/04"
          ],
          [
           "MoH ETHIOPIA",
           "@FMoHealth",
           24,
           245,
           "2013/02/14"
          ],
          [
           "Ben Cowling",
           "@bencowling88",
           49,
           103,
           "2010/12/30"
          ],
          [
           "المنبع الاخباري",
           "@almanbae_news",
           2,
           0,
           "2016/10/01"
          ],
          [
           "Dr. Mohammad Ebrahim",
           "@mohebrahim85",
           797,
           1700,
           "2012/04/04"
          ],
          [
           "BBC NEWS فارسی",
           "@bbcpersian",
           313,
           13,
           "2007/02/23"
          ],
          [
           "People's Daily, China",
           "@PDChina",
           82,
           4377,
           "2011/05/23"
          ],
          [
           "BFMTV",
           "@BFMTV",
           15,
           583,
           "2010/04/16"
          ],
          [
           "Rep. Paul Gosar, DDS",
           "@RepGosar",
           615,
           4468,
           "2011/01/20"
          ],
          [
           "Ursula von der Leyen",
           "@vonderleyen",
           4031,
           158,
           "2019/07/03"
          ],
          [
           "Sir H͓͓͓̽̽̽E͓͓̽̽N͓̽RY™",
           "@SirHenryKau",
           2245,
           54952,
           "2016/08/13"
          ],
          [
           "Ursula von der Leyen",
           "@vonderleyen",
           4363,
           158,
           "2019/07/03"
          ],
          [
           "Alejandro Balsells Conde",
           "@Alex_balsells",
           106,
           8037,
           "2011/12/30"
          ],
          [
           "Zafar Mirza",
           "@zfrmrza",
           5148,
           281,
           "2009/07/11"
          ],
          [
           "CGTN",
           "@CGTNOfficial",
           16469,
           70,
           "2013/01/24"
          ],
          [
           "Mrs S",
           "@MRSS11224611",
           7,
           1959,
           "2019/09/16"
          ],
          [
           "H o l l y",
           "@hollyhaygood",
           30,
           6677,
           "2009/06/22"
          ],
          [
           "Hôpital d'Argenteuil (officiel)",
           "@CH_Argenteuil",
           44,
           218,
           "2018/10/15"
          ],
          [
           "Matteo Salvini",
           "@matteosalvinimi",
           3456,
           2007,
           "2011/03/23"
          ],
          [
           "Brendan Larsen",
           "@bblarsen1",
           117,
           376,
           "2016/05/25"
          ],
          [
           "Amy Cheng",
           "@Taihoku1895",
           66,
           470,
           "2019/05/01"
          ],
          [
           "John Nelson",
           "@Attila70260000",
           0,
           550,
           "2019/09/02"
          ],
          [
           "MR.486",
           "@kiss486",
           363,
           2536,
           "2009/12/16"
          ],
          [
           "The_Web_Warrior",
           "@The_Web_Warrior",
           2,
           748,
           "2019/10/09"
          ],
          [
           "nerd",
           "@nerd_hawk",
           2507,
           252,
           "2009/06/26"
          ],
          [
           "Gobernación del Tolima",
           "@gobertolima",
           13,
           427,
           "2009/09/21"
          ],
          [
           "MinSaludCol",
           "@MinSaludCol",
           44,
           814,
           "2011/09/11"
          ],
          [
           "Aduma Mutiva",
           "@nepmutiva",
           619,
           8524,
           "2013/01/29"
          ],
          [
           "Farhang F. Namdar",
           "@FarhangNamdar",
           1423,
           24634,
           "2017/03/02"
          ],
          [
           "กระทรวงสาธารณสุข",
           "@pr_moph",
           82,
           494,
           "2010/05/14"
          ],
          [
           "Aaron Rupar",
           "@atrupar",
           17543,
           998,
           "2011/04/26"
          ],
          [
           "Dana Milbank",
           "@Milbank",
           153345,
           1101,
           "2009/01/27"
          ],
          [
           "Department of Health and Social Care",
           "@DHSCgovuk",
           389,
           852,
           "2009/05/05"
          ],
          [
           "Dr. Fahrettin Koca",
           "@drfahrettinkoca",
           6782,
           28,
           "2018/07/09"
          ],
          [
           "Aaron Rupar",
           "@atrupar",
           8001,
           998,
           "2011/04/26"
          ],
          [
           "BabyKay🍒",
           "@kaym0na3",
           38,
           170,
           "2017/10/30"
          ],
          [
           "tyler pazar",
           "@tylerpazar",
           19,
           20,
           "2012/08/05"
          ],
          [
           "The White House 45 Archived",
           "@WhiteHouse45",
           7466,
           11,
           "2017/01/19"
          ],
          [
           "Rep. Matt Gaetz",
           "@RepMattGaetz",
           8249,
           861,
           "2017/01/10"
          ],
          [
           "Newsmax",
           "@newsmax",
           320,
           568,
           "2009/02/10"
          ],
          [
           "James Woods",
           "@RealJamesWoods",
           13138,
           4407,
           "2009/09/30"
          ],
          [
           "Hey Jude voting makes a sad song better",
           "@BostonJudy3",
           5421,
           13060,
           "2019/02/25"
          ],
          [
           "Buca di Beppo",
           "@bucadibeppo",
           16,
           9587,
           "2010/02/11"
          ],
          [
           "Stephanie Ruhle",
           "@SRuhle",
           23159,
           1651,
           "2011/09/30"
          ],
          [
           "Kalyan Varma",
           "@KalyanVarma",
           72,
           1063,
           "2008/04/17"
          ],
          [
           "Gianluca",
           "@lukeskila",
           36434,
           346,
           "2016/10/11"
          ],
          [
           "Kendall Brown",
           "@kendallybrown",
           75201,
           4523,
           "2009/02/08"
          ],
          [
           "Keira Savage",
           "@KeiraSavage00",
           610,
           1617,
           "2014/03/23"
          ],
          [
           "Rex Chapman🏇🏼",
           "@RexChapman",
           290609,
           22091,
           "2011/06/27"
          ],
          [
           "Molly Shah",
           "@MollyOShah",
           97628,
           860,
           "2008/08/09"
          ],
          [
           "Elon Musk",
           "@elonmusk",
           464512,
           103,
           "2009/06/02"
          ],
          [
           "robertklemko",
           "@RobertKlemko",
           676937,
           2369,
           "2010/11/21"
          ],
          [
           "TjSingh",
           "@covsinghtj",
           16739,
           470,
           "2009/12/11"
          ],
          [
           "Jason Miller",
           "@JasonLikesIowa",
           10,
           223,
           "2019/09/18"
          ],
          [
           "Mavr",
           "@Myrkulite",
           20,
           1303,
           "2014/10/15"
          ],
          [
           "Harbhajan Turbanator",
           "@harbhajan_singh",
           17480,
           147,
           "2009/11/27"
          ],
          [
           "Parveen Kaswan, IFS",
           "@ParveenKaswan",
           293,
           385,
           "2013/01/01"
          ],
          [
           "Hillary Clinton",
           "@HillaryClinton",
           122270,
           919,
           "2013/04/09"
          ],
          [
           "Nick Hinton",
           "@NickHintonn",
           6162,
           522,
           "2011/06/25"
          ],
          [
           "Elon Musk",
           "@elonmusk",
           83977,
           103,
           "2009/06/02"
          ],
          [
           "Daily Mail US",
           "@DailyMail",
           63,
           1815,
           "2011/09/26"
          ],
          [
           "NowThis",
           "@nowthisnews",
           38832,
           11757,
           "2012/07/17"
          ],
          [
           "Jimmy Cuadros",
           "@cuadrosr",
           44,
           1446,
           "2012/03/26"
          ],
          [
           "Anshul Chopra",
           "@anshulchopraa",
           16016,
           8,
           "2019/11/03"
          ],
          [
           "Mara Carfagna",
           "@mara_carfagna",
           1254,
           1811,
           "2010/01/13"
          ],
          [
           "John McAfee",
           "@officialmcafee",
           5134,
           14124,
           "2012/11/21"
          ],
          [
           "aperiozar",
           "@aperiozar",
           1,
           1822,
           "2009/01/03"
          ],
          [
           "Dón Grieshnak",
           "@DGrieshnak",
           26131,
           222,
           "2019/02/19"
          ],
          [
           "西村幸祐",
           "@kohyu1952",
           540,
           3355,
           "2010/01/29"
          ],
          [
           "Daily Mail Online",
           "@MailOnline",
           39,
           2239,
           "2008/07/15"
          ],
          [
           "Josh Marshall",
           "@joshtpm",
           2571,
           835,
           "2009/02/19"
          ],
          [
           "John McAfee",
           "@officialmcafee",
           970,
           14124,
           "2012/11/21"
          ],
          [
           "Jake 🌏",
           "@morphonios",
           4356,
           337,
           "2009/06/05"
          ],
          [
           "Romaan Shaikh",
           "@RUMAANSHAIKH",
           296,
           4336,
           "2010/12/23"
          ],
          [
           "西村幸祐",
           "@kohyu1952",
           4560,
           3355,
           "2010/01/29"
          ],
          [
           "Steny (Wear a Mask) Hoyer",
           "@LeaderHoyer",
           20,
           5236,
           "2009/02/26"
          ],
          [
           "Jon Cooper 🇺🇸",
           "@joncoopertweets",
           37953,
           51599,
           "2009/03/29"
          ]
         ],
         "hovertemplate": "Type of tweet=partially false<br>Date=%{x}<br>Followers count=%{y}<br>Tweet Likes count=%{customdata[2]}<br>Name=%{customdata[0]}<br>Username=%{customdata[1]}<br>Friends count=%{customdata[3]}<br>Account created on=%{customdata[4]}<extra></extra>",
         "legendgroup": "partially false",
         "marker": {
          "color": "#EF553B",
          "line": {
           "color": "DarkSlateGrey",
           "width": 1
          },
          "opacity": 0.8,
          "size": [
           606,
           87,
           1729,
           19,
           216,
           27,
           504,
           291,
           164,
           36,
           1223,
           99,
           195,
           3154,
           230,
           46,
           383,
           1,
           2712,
           605,
           1,
           901,
           86,
           1080,
           141,
           396,
           223,
           1123,
           8,
           7,
           5,
           79,
           573,
           252,
           274,
           7,
           16,
           173,
           93,
           8,
           6,
           548,
           18,
           22,
           291,
           834,
           1498,
           1519,
           912,
           225,
           225,
           1662,
           170011,
           0,
           599,
           1383,
           33,
           1177,
           31,
           11,
           16,
           835,
           26998,
           311999,
           2993,
           610,
           218,
           0,
           13,
           0,
           30,
           496,
           552,
           308,
           7430,
           1,
           262,
           2105,
           2099,
           88,
           916,
           2595,
           15837,
           5773,
           36,
           0,
           1,
           1122,
           6827,
           248,
           79,
           8200,
           174,
           145,
           5,
           4,
           383,
           489,
           1220,
           2272,
           2615,
           344,
           143,
           57,
           4141,
           2765,
           28,
           253,
           72,
           3793,
           44,
           66,
           12225,
           208,
           279,
           29,
           3804,
           43,
           12239,
           2922,
           0,
           1338,
           490,
           56,
           50,
           4,
           175,
           403,
           2008,
           66,
           575,
           459,
           534,
           1004,
           21,
           4596,
           1443,
           396,
           534,
           9,
           749,
           3612,
           17,
           0,
           0,
           0,
           316,
           1447,
           204,
           126,
           391,
           354,
           5901,
           31490,
           102985,
           13,
           1647,
           63,
           110,
           17,
           63,
           1,
           3758,
           272,
           0,
           13,
           4132,
           47367,
           9921,
           730,
           8242,
           4,
           116,
           204,
           794,
           6,
           41,
           1369,
           184,
           14302,
           22,
           4,
           15491,
           38312,
           4283,
           12,
           8380,
           7,
           1,
           1789,
           117,
           114,
           4756,
           18,
           198,
           806,
           23692,
           6655,
           229102,
           7845,
           170,
           161,
           328,
           1199,
           883,
           174,
           59,
           308,
           24,
           49,
           2,
           797,
           313,
           82,
           15,
           615,
           4031,
           2245,
           4363,
           106,
           5148,
           16469,
           7,
           30,
           44,
           3456,
           117,
           66,
           0,
           363,
           2,
           2507,
           13,
           44,
           619,
           1423,
           82,
           17543,
           153345,
           389,
           6782,
           8001,
           38,
           19,
           7466,
           8249,
           320,
           13138,
           5421,
           16,
           23159,
           72,
           36434,
           75201,
           610,
           290609,
           97628,
           464512,
           676937,
           16739,
           10,
           20,
           17480,
           293,
           122270,
           6162,
           83977,
           63,
           38832,
           44,
           16016,
           1254,
           5134,
           1,
           26131,
           540,
           39,
           2571,
           970,
           4356,
           296,
           4560,
           20,
           37953
          ],
          "sizemode": "area",
          "sizeref": 2547.7875,
          "symbol": "circle"
         },
         "mode": "markers",
         "name": "partially false",
         "showlegend": true,
         "type": "scattergl",
         "x": [
          "2020-03-04T00:00:00",
          "2020-03-27T00:00:00",
          "2020-05-06T00:00:00",
          "2020-05-19T00:00:00",
          "2020-05-26T00:00:00",
          "2020-05-26T00:00:00",
          "2020-05-27T00:00:00",
          "2020-05-27T00:00:00",
          "2020-05-27T00:00:00",
          "2020-06-01T00:00:00",
          "2020-06-08T00:00:00",
          "2020-06-08T00:00:00",
          "2020-06-11T00:00:00",
          "2020-06-13T00:00:00",
          "2020-06-14T00:00:00",
          "2020-06-24T00:00:00",
          "2020-06-25T00:00:00",
          "2020-06-26T00:00:00",
          "2020-06-30T00:00:00",
          "2020-06-30T00:00:00",
          "2020-07-01T00:00:00",
          "2020-07-08T00:00:00",
          "2020-07-18T00:00:00",
          "2020-07-18T00:00:00",
          "2020-08-07T00:00:00",
          "2020-08-11T00:00:00",
          "2020-08-12T00:00:00",
          "2020-08-13T00:00:00",
          "2020-01-16T00:00:00",
          "2020-01-16T00:00:00",
          "2020-04-12T00:00:00",
          "2020-04-15T00:00:00",
          "2020-05-02T00:00:00",
          "2020-05-18T00:00:00",
          "2020-05-18T00:00:00",
          "2020-05-19T00:00:00",
          "2020-05-20T00:00:00",
          "2020-05-25T00:00:00",
          "2020-05-26T00:00:00",
          "2020-05-26T00:00:00",
          "2020-05-27T00:00:00",
          "2020-05-27T00:00:00",
          "2020-06-02T00:00:00",
          "2020-06-04T00:00:00",
          "2020-06-08T00:00:00",
          "2020-06-09T00:00:00",
          "2020-08-06T00:00:00",
          "2020-08-11T00:00:00",
          "2020-02-16T00:00:00",
          "2020-04-20T00:00:00",
          "2020-05-08T00:00:00",
          "2020-05-11T00:00:00",
          "2020-05-12T00:00:00",
          "2020-05-12T00:00:00",
          "2020-05-12T00:00:00",
          "2020-05-15T00:00:00",
          "2020-05-19T00:00:00",
          "2020-05-21T00:00:00",
          "2020-05-25T00:00:00",
          "2020-05-26T00:00:00",
          "2020-08-09T00:00:00",
          "2020-08-11T00:00:00",
          "2020-01-14T00:00:00",
          "2020-03-22T00:00:00",
          "2020-03-30T00:00:00",
          "2020-04-10T00:00:00",
          "2020-05-20T00:00:00",
          "2020-05-23T00:00:00",
          "2020-05-23T00:00:00",
          "2020-05-26T00:00:00",
          "2020-05-27T00:00:00",
          "2020-08-03T00:00:00",
          "2020-08-27T00:00:00",
          "2020-08-27T00:00:00",
          "2020-03-22T00:00:00",
          "2020-03-23T00:00:00",
          "2020-03-23T00:00:00",
          "2020-04-18T00:00:00",
          "2020-04-19T00:00:00",
          "2020-04-20T00:00:00",
          "2020-04-22T00:00:00",
          "2020-04-26T00:00:00",
          "2020-04-26T00:00:00",
          "2020-04-27T00:00:00",
          "2020-05-04T00:00:00",
          "2020-05-07T00:00:00",
          "2020-05-22T00:00:00",
          "2020-08-27T00:00:00",
          "2020-08-27T00:00:00",
          "2020-01-19T00:00:00",
          "2020-01-21T00:00:00",
          "2020-03-20T00:00:00",
          "2020-03-21T00:00:00",
          "2020-03-28T00:00:00",
          "2020-04-03T00:00:00",
          "2020-04-04T00:00:00",
          "2020-04-13T00:00:00",
          "2020-04-16T00:00:00",
          "2020-04-21T00:00:00",
          "2020-04-21T00:00:00",
          "2020-04-26T00:00:00",
          "2020-07-30T00:00:00",
          "2020-07-30T00:00:00",
          "2020-03-18T00:00:00",
          "2020-03-20T00:00:00",
          "2020-03-21T00:00:00",
          "2020-03-22T00:00:00",
          "2020-03-28T00:00:00",
          "2020-03-28T00:00:00",
          "2020-04-05T00:00:00",
          "2020-04-07T00:00:00",
          "2020-04-08T00:00:00",
          "2020-04-15T00:00:00",
          "2020-07-02T00:00:00",
          "2020-02-29T00:00:00",
          "2020-03-19T00:00:00",
          "2020-03-30T00:00:00",
          "2020-03-31T00:00:00",
          "2020-04-01T00:00:00",
          "2020-04-02T00:00:00",
          "2020-04-03T00:00:00",
          "2020-04-03T00:00:00",
          "2020-04-03T00:00:00",
          "2020-04-04T00:00:00",
          "2020-04-06T00:00:00",
          "2020-04-06T00:00:00",
          "2020-02-08T00:00:00",
          "2020-02-26T00:00:00",
          "2020-03-16T00:00:00",
          "2020-03-18T00:00:00",
          "2020-03-19T00:00:00",
          "2020-03-20T00:00:00",
          "2020-03-21T00:00:00",
          "2020-03-21T00:00:00",
          "2020-03-21T00:00:00",
          "2020-03-22T00:00:00",
          "2020-03-22T00:00:00",
          "2020-03-23T00:00:00",
          "2020-03-24T00:00:00",
          "2020-03-26T00:00:00",
          "2020-03-26T00:00:00",
          "2020-03-30T00:00:00",
          "2020-03-30T00:00:00",
          "2020-03-31T00:00:00",
          "2020-04-03T00:00:00",
          "2020-04-04T00:00:00",
          "2020-04-04T00:00:00",
          "2020-04-06T00:00:00",
          "2020-04-08T00:00:00",
          "2020-06-03T00:00:00",
          "2020-06-18T00:00:00",
          "2020-06-18T00:00:00",
          "2020-03-12T00:00:00",
          "2020-03-14T00:00:00",
          "2020-03-18T00:00:00",
          "2020-03-19T00:00:00",
          "2020-03-19T00:00:00",
          "2020-03-20T00:00:00",
          "2020-03-20T00:00:00",
          "2020-03-21T00:00:00",
          "2020-03-21T00:00:00",
          "2020-03-22T00:00:00",
          "2020-03-22T00:00:00",
          "2020-03-22T00:00:00",
          "2020-03-24T00:00:00",
          "2020-03-24T00:00:00",
          "2020-03-25T00:00:00",
          "2020-03-25T00:00:00",
          "2020-03-25T00:00:00",
          "2020-03-26T00:00:00",
          "2020-03-27T00:00:00",
          "2020-03-27T00:00:00",
          "2020-06-05T00:00:00",
          "2020-06-12T00:00:00",
          "2020-08-18T00:00:00",
          "2020-02-12T00:00:00",
          "2020-02-25T00:00:00",
          "2020-03-08T00:00:00",
          "2020-03-09T00:00:00",
          "2020-03-12T00:00:00",
          "2020-03-13T00:00:00",
          "2020-03-14T00:00:00",
          "2020-03-15T00:00:00",
          "2020-03-18T00:00:00",
          "2020-03-19T00:00:00",
          "2020-03-20T00:00:00",
          "2020-03-22T00:00:00",
          "2020-03-22T00:00:00",
          "2020-03-23T00:00:00",
          "2020-03-31T00:00:00",
          "2020-05-01T00:00:00",
          "2020-06-18T00:00:00",
          "2020-06-18T00:00:00",
          "2020-06-27T00:00:00",
          "2020-03-06T00:00:00",
          "2020-03-09T00:00:00",
          "2020-03-09T00:00:00",
          "2020-03-11T00:00:00",
          "2020-03-12T00:00:00",
          "2020-03-12T00:00:00",
          "2020-03-13T00:00:00",
          "2020-03-13T00:00:00",
          "2020-03-16T00:00:00",
          "2020-03-16T00:00:00",
          "2020-03-17T00:00:00",
          "2020-03-18T00:00:00",
          "2020-03-19T00:00:00",
          "2020-04-08T00:00:00",
          "2020-05-31T00:00:00",
          "2020-06-06T00:00:00",
          "2020-06-19T00:00:00",
          "2020-07-12T00:00:00",
          "2020-03-03T00:00:00",
          "2020-03-05T00:00:00",
          "2020-03-05T00:00:00",
          "2020-03-09T00:00:00",
          "2020-03-15T00:00:00",
          "2020-03-16T00:00:00",
          "2020-03-16T00:00:00",
          "2020-03-17T00:00:00",
          "2020-04-07T00:00:00",
          "2020-01-24T00:00:00",
          "2020-01-25T00:00:00",
          "2020-01-26T00:00:00",
          "2020-01-27T00:00:00",
          "2020-01-29T00:00:00",
          "2020-01-31T00:00:00",
          "2020-02-02T00:00:00",
          "2020-02-05T00:00:00",
          "2020-02-07T00:00:00",
          "2020-02-09T00:00:00",
          "2020-02-11T00:00:00",
          "2020-02-12T00:00:00",
          "2020-02-12T00:00:00",
          "2020-02-18T00:00:00",
          "2020-02-20T00:00:00",
          "2020-02-26T00:00:00",
          "2020-02-28T00:00:00",
          "2020-02-29T00:00:00",
          "2020-03-02T00:00:00",
          "2020-03-02T00:00:00",
          "2020-03-06T00:00:00",
          "2020-03-25T00:00:00",
          "2020-03-26T00:00:00",
          "2020-04-05T00:00:00",
          "2020-04-18T00:00:00",
          "2020-04-18T00:00:00",
          "2020-02-13T00:00:00",
          "2020-03-14T00:00:00",
          "2020-05-13T00:00:00",
          "2020-05-19T00:00:00",
          "2020-03-26T00:00:00",
          "2020-03-17T00:00:00",
          "2020-03-22T00:00:00",
          "2020-03-05T00:00:00",
          "2020-04-01T00:00:00",
          "2020-05-13T00:00:00",
          "2020-05-11T00:00:00",
          "2020-04-13T00:00:00",
          "2020-04-03T00:00:00",
          "2020-04-22T00:00:00",
          "2020-04-19T00:00:00",
          "2020-04-03T00:00:00",
          "2020-03-27T00:00:00",
          "2020-04-14T00:00:00",
          "2020-02-16T00:00:00",
          "2020-05-13T00:00:00",
          "2020-02-11T00:00:00",
          "2020-04-09T00:00:00",
          "2020-07-01T00:00:00",
          "2020-04-03T00:00:00",
          "2020-05-14T00:00:00",
          "2020-04-18T00:00:00",
          "2020-02-18T00:00:00",
          "2020-03-26T00:00:00",
          "2020-01-25T00:00:00",
          "2020-01-27T00:00:00",
          "2020-03-24T00:00:00",
          "2020-04-26T00:00:00",
          "2020-04-10T00:00:00",
          "2020-04-04T00:00:00",
          "2020-01-25T00:00:00",
          "2020-04-21T00:00:00",
          "2020-04-10T00:00:00"
         ],
         "xaxis": "x",
         "y": [
          11799,
          396420,
          308846,
          4060791,
          1693161,
          164057,
          94183,
          9982707,
          77148,
          6286,
          9191832,
          10477,
          1388,
          492088,
          393685,
          215385,
          142396,
          98,
          142396,
          89080,
          938,
          142396,
          215385,
          142396,
          4601,
          1441252,
          119150,
          32804,
          16522,
          16522,
          12537,
          9514,
          64076,
          149906,
          832902,
          2756,
          5970,
          31713,
          6742,
          11439,
          11439,
          94183,
          47625,
          5688,
          10477,
          9191833,
          91355,
          18345,
          31113,
          9191833,
          92710,
          383271,
          410418,
          8182,
          184613,
          2223,
          1371,
          39980,
          6365,
          355045,
          66995,
          242514,
          9191834,
          85478,
          30759,
          250383,
          3856,
          540,
          3842,
          3757,
          50142,
          9191834,
          20029,
          824563,
          2503545,
          1082,
          408739,
          110390,
          117531,
          405152,
          18629,
          134771,
          49861891,
          2610952,
          26352,
          60,
          1469,
          151994,
          79196,
          9191832,
          196491,
          6444,
          17654,
          86164,
          161605,
          51926,
          95277,
          56363,
          241822,
          241822,
          9280,
          1706,
          221939,
          1834707,
          5649,
          12284,
          2319,
          3327,
          1181,
          121666,
          858,
          7535,
          1054554,
          9402,
          408739,
          80169,
          5296402,
          23769,
          5296402,
          1290394,
          0,
          407629,
          309919,
          13174,
          58121,
          68688,
          84599,
          279183,
          43236,
          115713,
          409511,
          409511,
          409511,
          3928,
          195,
          184246,
          409511,
          409511,
          409511,
          71625,
          9191832,
          2271776,
          2983,
          516,
          1056,
          1473,
          5296402,
          2057,
          409511,
          9191832,
          9191832,
          9191832,
          1342556,
          996752,
          29747771,
          1509320,
          82435,
          9345869,
          14193,
          14193,
          5758,
          1973,
          402744,
          730515,
          557,
          2397,
          996752,
          6686535,
          4380398,
          407388,
          2238721,
          135252,
          1029469,
          8659,
          8869,
          5462,
          1714,
          764168,
          64,
          889141,
          3071,
          18472,
          2708943,
          2112563,
          4213727,
          1464,
          402775,
          333,
          23,
          1254163,
          4876074,
          37039,
          1511693,
          30672,
          1777,
          9191834,
          778,
          100937,
          69636842,
          1343875,
          30,
          9303,
          443476,
          11139,
          75746,
          7276,
          620562,
          443476,
          122888,
          7517,
          7262,
          9631,
          1582673,
          6992478,
          3040126,
          141726,
          561076,
          56735,
          561076,
          25176,
          238714,
          13638431,
          4539,
          6893,
          1117,
          1396826,
          414,
          20286,
          248,
          15958,
          214,
          398,
          17187,
          1441252,
          8228,
          27487,
          202923,
          664839,
          120034,
          710860,
          7050620,
          664839,
          246,
          11,
          26405734,
          1286123,
          862987,
          2416917,
          12812,
          19036,
          670995,
          13361,
          2132,
          21538,
          17348,
          1159147,
          3138,
          49861910,
          52219,
          485,
          58,
          390,
          11122607,
          264051,
          30962327,
          113077,
          49861910,
          331944,
          2759383,
          1901,
          403,
          229992,
          1050704,
          1396,
          1420,
          213553,
          2612131,
          359675,
          1050704,
          14949,
          1936,
          213553,
          157622,
          783107
         ],
         "yaxis": "y"
        }
       ],
       "layout": {
        "legend": {
         "itemsizing": "constant",
         "title": {
          "text": "Type of tweet"
         },
         "tracegroupgap": 0
        },
        "template": {
         "data": {
          "bar": [
           {
            "error_x": {
             "color": "#2a3f5f"
            },
            "error_y": {
             "color": "#2a3f5f"
            },
            "marker": {
             "line": {
              "color": "#E5ECF6",
              "width": 0.5
             }
            },
            "type": "bar"
           }
          ],
          "barpolar": [
           {
            "marker": {
             "line": {
              "color": "#E5ECF6",
              "width": 0.5
             }
            },
            "type": "barpolar"
           }
          ],
          "carpet": [
           {
            "aaxis": {
             "endlinecolor": "#2a3f5f",
             "gridcolor": "white",
             "linecolor": "white",
             "minorgridcolor": "white",
             "startlinecolor": "#2a3f5f"
            },
            "baxis": {
             "endlinecolor": "#2a3f5f",
             "gridcolor": "white",
             "linecolor": "white",
             "minorgridcolor": "white",
             "startlinecolor": "#2a3f5f"
            },
            "type": "carpet"
           }
          ],
          "choropleth": [
           {
            "colorbar": {
             "outlinewidth": 0,
             "ticks": ""
            },
            "type": "choropleth"
           }
          ],
          "contour": [
           {
            "colorbar": {
             "outlinewidth": 0,
             "ticks": ""
            },
            "colorscale": [
             [
              0,
              "#0d0887"
             ],
             [
              0.1111111111111111,
              "#46039f"
             ],
             [
              0.2222222222222222,
              "#7201a8"
             ],
             [
              0.3333333333333333,
              "#9c179e"
             ],
             [
              0.4444444444444444,
              "#bd3786"
             ],
             [
              0.5555555555555556,
              "#d8576b"
             ],
             [
              0.6666666666666666,
              "#ed7953"
             ],
             [
              0.7777777777777778,
              "#fb9f3a"
             ],
             [
              0.8888888888888888,
              "#fdca26"
             ],
             [
              1,
              "#f0f921"
             ]
            ],
            "type": "contour"
           }
          ],
          "contourcarpet": [
           {
            "colorbar": {
             "outlinewidth": 0,
             "ticks": ""
            },
            "type": "contourcarpet"
           }
          ],
          "heatmap": [
           {
            "colorbar": {
             "outlinewidth": 0,
             "ticks": ""
            },
            "colorscale": [
             [
              0,
              "#0d0887"
             ],
             [
              0.1111111111111111,
              "#46039f"
             ],
             [
              0.2222222222222222,
              "#7201a8"
             ],
             [
              0.3333333333333333,
              "#9c179e"
             ],
             [
              0.4444444444444444,
              "#bd3786"
             ],
             [
              0.5555555555555556,
              "#d8576b"
             ],
             [
              0.6666666666666666,
              "#ed7953"
             ],
             [
              0.7777777777777778,
              "#fb9f3a"
             ],
             [
              0.8888888888888888,
              "#fdca26"
             ],
             [
              1,
              "#f0f921"
             ]
            ],
            "type": "heatmap"
           }
          ],
          "heatmapgl": [
           {
            "colorbar": {
             "outlinewidth": 0,
             "ticks": ""
            },
            "colorscale": [
             [
              0,
              "#0d0887"
             ],
             [
              0.1111111111111111,
              "#46039f"
             ],
             [
              0.2222222222222222,
              "#7201a8"
             ],
             [
              0.3333333333333333,
              "#9c179e"
             ],
             [
              0.4444444444444444,
              "#bd3786"
             ],
             [
              0.5555555555555556,
              "#d8576b"
             ],
             [
              0.6666666666666666,
              "#ed7953"
             ],
             [
              0.7777777777777778,
              "#fb9f3a"
             ],
             [
              0.8888888888888888,
              "#fdca26"
             ],
             [
              1,
              "#f0f921"
             ]
            ],
            "type": "heatmapgl"
           }
          ],
          "histogram": [
           {
            "marker": {
             "colorbar": {
              "outlinewidth": 0,
              "ticks": ""
             }
            },
            "type": "histogram"
           }
          ],
          "histogram2d": [
           {
            "colorbar": {
             "outlinewidth": 0,
             "ticks": ""
            },
            "colorscale": [
             [
              0,
              "#0d0887"
             ],
             [
              0.1111111111111111,
              "#46039f"
             ],
             [
              0.2222222222222222,
              "#7201a8"
             ],
             [
              0.3333333333333333,
              "#9c179e"
             ],
             [
              0.4444444444444444,
              "#bd3786"
             ],
             [
              0.5555555555555556,
              "#d8576b"
             ],
             [
              0.6666666666666666,
              "#ed7953"
             ],
             [
              0.7777777777777778,
              "#fb9f3a"
             ],
             [
              0.8888888888888888,
              "#fdca26"
             ],
             [
              1,
              "#f0f921"
             ]
            ],
            "type": "histogram2d"
           }
          ],
          "histogram2dcontour": [
           {
            "colorbar": {
             "outlinewidth": 0,
             "ticks": ""
            },
            "colorscale": [
             [
              0,
              "#0d0887"
             ],
             [
              0.1111111111111111,
              "#46039f"
             ],
             [
              0.2222222222222222,
              "#7201a8"
             ],
             [
              0.3333333333333333,
              "#9c179e"
             ],
             [
              0.4444444444444444,
              "#bd3786"
             ],
             [
              0.5555555555555556,
              "#d8576b"
             ],
             [
              0.6666666666666666,
              "#ed7953"
             ],
             [
              0.7777777777777778,
              "#fb9f3a"
             ],
             [
              0.8888888888888888,
              "#fdca26"
             ],
             [
              1,
              "#f0f921"
             ]
            ],
            "type": "histogram2dcontour"
           }
          ],
          "mesh3d": [
           {
            "colorbar": {
             "outlinewidth": 0,
             "ticks": ""
            },
            "type": "mesh3d"
           }
          ],
          "parcoords": [
           {
            "line": {
             "colorbar": {
              "outlinewidth": 0,
              "ticks": ""
             }
            },
            "type": "parcoords"
           }
          ],
          "pie": [
           {
            "automargin": true,
            "type": "pie"
           }
          ],
          "scatter": [
           {
            "marker": {
             "colorbar": {
              "outlinewidth": 0,
              "ticks": ""
             }
            },
            "type": "scatter"
           }
          ],
          "scatter3d": [
           {
            "line": {
             "colorbar": {
              "outlinewidth": 0,
              "ticks": ""
             }
            },
            "marker": {
             "colorbar": {
              "outlinewidth": 0,
              "ticks": ""
             }
            },
            "type": "scatter3d"
           }
          ],
          "scattercarpet": [
           {
            "marker": {
             "colorbar": {
              "outlinewidth": 0,
              "ticks": ""
             }
            },
            "type": "scattercarpet"
           }
          ],
          "scattergeo": [
           {
            "marker": {
             "colorbar": {
              "outlinewidth": 0,
              "ticks": ""
             }
            },
            "type": "scattergeo"
           }
          ],
          "scattergl": [
           {
            "marker": {
             "colorbar": {
              "outlinewidth": 0,
              "ticks": ""
             }
            },
            "type": "scattergl"
           }
          ],
          "scattermapbox": [
           {
            "marker": {
             "colorbar": {
              "outlinewidth": 0,
              "ticks": ""
             }
            },
            "type": "scattermapbox"
           }
          ],
          "scatterpolar": [
           {
            "marker": {
             "colorbar": {
              "outlinewidth": 0,
              "ticks": ""
             }
            },
            "type": "scatterpolar"
           }
          ],
          "scatterpolargl": [
           {
            "marker": {
             "colorbar": {
              "outlinewidth": 0,
              "ticks": ""
             }
            },
            "type": "scatterpolargl"
           }
          ],
          "scatterternary": [
           {
            "marker": {
             "colorbar": {
              "outlinewidth": 0,
              "ticks": ""
             }
            },
            "type": "scatterternary"
           }
          ],
          "surface": [
           {
            "colorbar": {
             "outlinewidth": 0,
             "ticks": ""
            },
            "colorscale": [
             [
              0,
              "#0d0887"
             ],
             [
              0.1111111111111111,
              "#46039f"
             ],
             [
              0.2222222222222222,
              "#7201a8"
             ],
             [
              0.3333333333333333,
              "#9c179e"
             ],
             [
              0.4444444444444444,
              "#bd3786"
             ],
             [
              0.5555555555555556,
              "#d8576b"
             ],
             [
              0.6666666666666666,
              "#ed7953"
             ],
             [
              0.7777777777777778,
              "#fb9f3a"
             ],
             [
              0.8888888888888888,
              "#fdca26"
             ],
             [
              1,
              "#f0f921"
             ]
            ],
            "type": "surface"
           }
          ],
          "table": [
           {
            "cells": {
             "fill": {
              "color": "#EBF0F8"
             },
             "line": {
              "color": "white"
             }
            },
            "header": {
             "fill": {
              "color": "#C8D4E3"
             },
             "line": {
              "color": "white"
             }
            },
            "type": "table"
           }
          ]
         },
         "layout": {
          "annotationdefaults": {
           "arrowcolor": "#2a3f5f",
           "arrowhead": 0,
           "arrowwidth": 1
          },
          "autotypenumbers": "strict",
          "coloraxis": {
           "colorbar": {
            "outlinewidth": 0,
            "ticks": ""
           }
          },
          "colorscale": {
           "diverging": [
            [
             0,
             "#8e0152"
            ],
            [
             0.1,
             "#c51b7d"
            ],
            [
             0.2,
             "#de77ae"
            ],
            [
             0.3,
             "#f1b6da"
            ],
            [
             0.4,
             "#fde0ef"
            ],
            [
             0.5,
             "#f7f7f7"
            ],
            [
             0.6,
             "#e6f5d0"
            ],
            [
             0.7,
             "#b8e186"
            ],
            [
             0.8,
             "#7fbc41"
            ],
            [
             0.9,
             "#4d9221"
            ],
            [
             1,
             "#276419"
            ]
           ],
           "sequential": [
            [
             0,
             "#0d0887"
            ],
            [
             0.1111111111111111,
             "#46039f"
            ],
            [
             0.2222222222222222,
             "#7201a8"
            ],
            [
             0.3333333333333333,
             "#9c179e"
            ],
            [
             0.4444444444444444,
             "#bd3786"
            ],
            [
             0.5555555555555556,
             "#d8576b"
            ],
            [
             0.6666666666666666,
             "#ed7953"
            ],
            [
             0.7777777777777778,
             "#fb9f3a"
            ],
            [
             0.8888888888888888,
             "#fdca26"
            ],
            [
             1,
             "#f0f921"
            ]
           ],
           "sequentialminus": [
            [
             0,
             "#0d0887"
            ],
            [
             0.1111111111111111,
             "#46039f"
            ],
            [
             0.2222222222222222,
             "#7201a8"
            ],
            [
             0.3333333333333333,
             "#9c179e"
            ],
            [
             0.4444444444444444,
             "#bd3786"
            ],
            [
             0.5555555555555556,
             "#d8576b"
            ],
            [
             0.6666666666666666,
             "#ed7953"
            ],
            [
             0.7777777777777778,
             "#fb9f3a"
            ],
            [
             0.8888888888888888,
             "#fdca26"
            ],
            [
             1,
             "#f0f921"
            ]
           ]
          },
          "colorway": [
           "#636efa",
           "#EF553B",
           "#00cc96",
           "#ab63fa",
           "#FFA15A",
           "#19d3f3",
           "#FF6692",
           "#B6E880",
           "#FF97FF",
           "#FECB52"
          ],
          "font": {
           "color": "#2a3f5f"
          },
          "geo": {
           "bgcolor": "white",
           "lakecolor": "white",
           "landcolor": "#E5ECF6",
           "showlakes": true,
           "showland": true,
           "subunitcolor": "white"
          },
          "hoverlabel": {
           "align": "left"
          },
          "hovermode": "closest",
          "mapbox": {
           "style": "light"
          },
          "paper_bgcolor": "white",
          "plot_bgcolor": "#E5ECF6",
          "polar": {
           "angularaxis": {
            "gridcolor": "white",
            "linecolor": "white",
            "ticks": ""
           },
           "bgcolor": "#E5ECF6",
           "radialaxis": {
            "gridcolor": "white",
            "linecolor": "white",
            "ticks": ""
           }
          },
          "scene": {
           "xaxis": {
            "backgroundcolor": "#E5ECF6",
            "gridcolor": "white",
            "gridwidth": 2,
            "linecolor": "white",
            "showbackground": true,
            "ticks": "",
            "zerolinecolor": "white"
           },
           "yaxis": {
            "backgroundcolor": "#E5ECF6",
            "gridcolor": "white",
            "gridwidth": 2,
            "linecolor": "white",
            "showbackground": true,
            "ticks": "",
            "zerolinecolor": "white"
           },
           "zaxis": {
            "backgroundcolor": "#E5ECF6",
            "gridcolor": "white",
            "gridwidth": 2,
            "linecolor": "white",
            "showbackground": true,
            "ticks": "",
            "zerolinecolor": "white"
           }
          },
          "shapedefaults": {
           "line": {
            "color": "#2a3f5f"
           }
          },
          "ternary": {
           "aaxis": {
            "gridcolor": "white",
            "linecolor": "white",
            "ticks": ""
           },
           "baxis": {
            "gridcolor": "white",
            "linecolor": "white",
            "ticks": ""
           },
           "bgcolor": "#E5ECF6",
           "caxis": {
            "gridcolor": "white",
            "linecolor": "white",
            "ticks": ""
           }
          },
          "title": {
           "x": 0.05
          },
          "xaxis": {
           "automargin": true,
           "gridcolor": "white",
           "linecolor": "white",
           "ticks": "",
           "title": {
            "standoff": 15
           },
           "zerolinecolor": "white",
           "zerolinewidth": 2
          },
          "yaxis": {
           "automargin": true,
           "gridcolor": "white",
           "linecolor": "white",
           "ticks": "",
           "title": {
            "standoff": 15
           },
           "zerolinecolor": "white",
           "zerolinewidth": 2
          }
         }
        },
        "title": {
         "text": "Popularity of account - Fake Covid-19 dataset (Size of the bubbles based on Tweet likes count)"
        },
        "xaxis": {
         "anchor": "y",
         "domain": [
          0,
          1
         ],
         "tickcolor": "crimson",
         "ticklen": 10,
         "ticks": "outside",
         "tickwidth": 2,
         "title": {
          "text": "Date"
         }
        },
        "yaxis": {
         "anchor": "x",
         "domain": [
          0,
          1
         ],
         "fixedrange": true,
         "tickcolor": "crimson",
         "ticklen": 10,
         "ticks": "outside",
         "tickwidth": 2,
         "title": {
          "text": "Followers count"
         },
         "type": "log"
        }
       }
      },
      "text/html": [
       "<div>                            <div id=\"78d46c6e-97c2-4cca-8dc3-bf7bcd9e0c80\" class=\"plotly-graph-div\" style=\"height:525px; width:100%;\"></div>            <script type=\"text/javascript\">                require([\"plotly\"], function(Plotly) {                    window.PLOTLYENV=window.PLOTLYENV || {};                                    if (document.getElementById(\"78d46c6e-97c2-4cca-8dc3-bf7bcd9e0c80\")) {                    Plotly.newPlot(                        \"78d46c6e-97c2-4cca-8dc3-bf7bcd9e0c80\",                        [{\"customdata\": [[\"World Health Organization (WHO)\", \"@WHO\", 411, 1734, \"2008/04/23\"], [\"World Health Organization (WHO)\", \"@WHO\", 930, 1734, \"2008/04/23\"], [\"World Health Organization (WHO)\", \"@WHO\", 8295, 1734, \"2008/04/23\"], [\"Tedros Adhanom Ghebreyesus\", \"@DrTedros\", 1671, 1206, \"2010/09/12\"], [\"Tedros Adhanom Ghebreyesus\", \"@DrTedros\", 117, 1206, \"2010/09/12\"], [\"World Health Organization (WHO)\", \"@WHO\", 3054, 1734, \"2008/04/23\"], [\"Tedros Adhanom Ghebreyesus\", \"@DrTedros\", 12909, 1206, \"2010/09/12\"], [\"Catherine Herridge\", \"@CBS_Herridge\", 865, 22, \"2019/11/18\"], [\"Muhammad Lila\", \"@MuhammadLila\", 536, 1111, \"2009/03/23\"], [\"Icahn School of Medicine at Mount Sinai\", \"@IcahnMountSinai\", 25, 1329, \"2013/03/14\"], [\"Bill Gates\", \"@BillGates\", 370205, 276, \"2009/06/24\"], [\"TRS Party\", \"@trspartyonline\", 425, 96, \"2014/03/06\"], [\"Sukhoi Su-57 Felon \\ud83c\\uddf7\\ud83c\\uddfa\\ud83c\\uddee\\ud83c\\uddf3\", \"@I30mki\", 195, 318, \"2018/06/30\"], [\"Scott Bauer\", \"@sbauerAP\", 621, 4750, \"2009/04/03\"], [\"Scott Bauer\", \"@sbauerAP\", 92, 4750, \"2009/04/03\"], [\"Edouard Philippe\", \"@EPhilippe_LH\", 3031, 1021, \"2013/01/22\"], [\"Wizara ya Afya Tanzania\", \"@wizara_afyatz\", 242, 59, \"2015/02/19\"], [\"MALDITO BULO\", \"@malditobulo\", 28, 11, \"2016/11/30\"], [\"First India\", \"@thefirstindia\", 0, 225, \"2019/04/04\"], [\"Marin Driguez\", \"@Marindriguez\", 633, 111, \"2012/01/20\"], [\"L'infirmier \\ud83d\\udc99\", \"@Infirmier00\", 8453, 9547, \"2018/12/05\"], [\"WHO African Region\", \"@WHOAFRO\", 128, 583, \"2012/04/03\"], [\"Nightline\", \"@Nightline\", 1148, 438, \"2009/01/29\"], [\"Nightline\", \"@Nightline\", 1625, 438, \"2009/01/29\"], [\"Juju Chang\", \"@JujuChangABC\", 3913, 2819, \"2009/01/13\"], [\"Public Citizen\", \"@Public_Citizen\", 6187, 7234, \"2008/04/08\"], [\"Anagha Acharya - \\u0905\\u0928\\u0918\\u093e \\u0906\\u091a\\u093e\\u0930\\u094d\\u092f\", \"@AnaghaAcharya\", 26, 1806, \"2013/07/19\"], [\"Seguran\\u00e7aSP\", \"@SegurancaSP\", 294, 60, \"2009/07/02\"], [\"Pol\\u00edcia Militar do Estado de S\\u00e3o Paulo\", \"@PMESP\", 3924, 132, \"2009/08/06\"], [\"Emile Marzolf\", \"@emile_marzolf\", 0, 2217, \"2015/09/07\"], [\"SOS M\\u00e9dias Burundi\", \"@SOSMediasBDI\", 26, 357, \"2015/05/17\"], [\"Florida Rising\", \"@FLRising\", 0, 2453, \"2009/09/02\"], [\"Florida Rising\", \"@FLRising\", 4, 2453, \"2009/09/02\"], [\"TI DIRANNO CHE IL VENTO \\u00c8..IL RESPIRO DI UNA DONNA\", \"@porcipolitici\", 19, 5098, \"2016/03/30\"], [\"Sadhvi Shivaa\", \"@shiv_shaktii\", 41, 572, \"2013/10/07\"], [\"Daddy Yankee\", \"@daddy_yankee\", 2881, 98, \"2009/04/29\"], [\"Don Wanyama\", \"@nyamadon\", 779, 943, \"2010/08/22\"], [\"Ashish K. Jha, MD, MPH\", \"@ashishkjha\", 3716, 530, \"2009/05/12\"], [\"Maria Van Kerkhove\", \"@mvankerkhove\", 652, 579, \"2013/11/12\"], [\"Maria Van Kerkhove\", \"@mvankerkhove\", 511, 579, \"2013/11/12\"], [\"Maria Van Kerkhove\", \"@mvankerkhove\", 355, 579, \"2013/11/12\"], [\"Dr. David Samadi, MD\", \"@drdavidsamadi\", 8570, 3885, \"2009/03/22\"], [\"Jair M. Bolsonaro\", \"@jairbolsonaro\", 79869, 550, \"2010/03/31\"], [\"Fern\\u00e1n Quir\\u00f3s\", \"@FernanQuirosBA\", 64, 43, \"2020/03/16\"], [\"Newsmax\", \"@newsmax\", 160, 568, \"2009/02/10\"], [\"PIB in Assam\", \"@PIB_Guwahati\", 1, 62, \"2013/02/25\"], [\"Gil Cutrim\", \"@gilcutrim\", 2, 625, \"2010/07/05\"], [\"Pradeep Netha\", \"@PradeepNetha4\", 0, 72, \"2019/03/06\"], [\"cristian leporati\", \"@cleporati\", 13, 2665, \"2009/04/13\"], [\"\\ud835\\udd4a\\ud835\\udd66\\ud835\\udd55\\ud835\\udd59\\ud835\\udd5a\\ud835\\udd63 \\ud835\\udd5c \\ud835\\udd63\\ud835\\udd52\\ud835\\udd5b\", \"@sudhirkraj\", 0, 305, \"2013/05/01\"], [\"Wilker Vasconcelos\", \"@wilkergv\", 2, 172, \"2012/10/04\"], [\"Ricardo Quintela\", \"@QuintelaRicardo\", 202, 507, \"2013/04/27\"], [\"Alberto Fern\\u00e1ndez\", \"@alferdez\", 15084, 7210, \"2010/05/30\"], [\"Alberto Fern\\u00e1ndez\", \"@alferdez\", 3397, 7210, \"2010/05/30\"], [\"wandrelvision\", \"@ttrichechus\", 361, 656, \"2013/05/10\"], [\"Ahmad A. Majeed\", \"@alshoushah\", 0, 2536, \"2011/02/01\"], [\"#NOUR_Al_ain1\", \"@nouralain117\", 28, 1565, \"2016/06/26\"], [\"Madiha Abid Ali\", \"@MadihaAbidAli\", 45, 741, \"2011/03/24\"], [\"Jair M. Bolsonaro\", \"@jairbolsonaro\", 47361, 550, \"2010/03/31\"], [\"Joice Hasselmann\", \"@joicehasselmann\", 16996, 219, \"2010/02/22\"], [\"Nicole Baldwin, MD, FAAP\", \"@NicoleB_MD\", 1822, 1023, \"2012/09/28\"], [\"Utah Public Safety\", \"@UtahDPS\", 136, 462, \"2009/03/18\"], [\"Pablo Secchi \\ud83e\\udde1\", \"@pablosecchi\", 32, 1063, \"2009/03/10\"], [\"Daniel Zovatto\", \"@Zovatto55\", 26, 1074, \"2012/02/03\"], [\"Daniel Zovatto\", \"@Zovatto55\", 23, 1074, \"2012/02/03\"], [\"Fabricio Ballarini\", \"@FabBallarini\", 7197, 1071, \"2012/05/29\"], [\"Mark Lewis\", \"@marklewismd\", 1560, 33026, \"2012/09/06\"], [\"BharatBiotech\", \"@BharatBiotech\", 1412, 516, \"2014/06/27\"], [\"Jorge Ivan Ospina\", \"@JorgeIvanOspina\", 17, 662, \"2010/05/11\"], [\"Consciousness Rising\", \"@conciousness777\", 127, 989, \"2017/06/10\"], [\"World Health Organization (WHO)\", \"@WHO\", 4907, 1734, \"2008/04/23\"], [\"The View\", \"@TheView\", 335, 1683, \"2009/02/19\"], [\"Christophe Fraser \\ud83d\\udc99\", \"@ChristoPhraser\", 640, 781, \"2014/03/24\"], [\"World Health Organization (WHO)\", \"@WHO\", 8352, 1734, \"2008/04/23\"], [\"GMA News\", \"@gmanews\", 1186, 696, \"2009/05/12\"], [\"Instituto Nacional de Salud\", \"@INSColombia\", 6, 896, \"2010/06/04\"], [\"Abhishek Dubey\", \"@advabhishekbjp\", 1795, 1857, \"2015/09/13\"], [\"Jo\\u00e3o Doria\", \"@jdoriajr\", 444, 371, \"2009/08/11\"], [\"Instituto Nacional de Salud\", \"@INSColombia\", 316, 896, \"2010/06/04\"], [\"DeshGujarat\", \"@DeshGujarat\", 214, 147, \"2009/05/29\"], [\"Santiago Valencia G.\", \"@sanvalgo\", 7, 2708, \"2009/11/30\"], [\"Benjamin Ferran\", \"@benjaminferran\", 2, 766, \"2007/03/13\"], [\"Dubai Media Office\", \"@DXBMediaOffice\", 202, 168, \"2009/05/04\"], [\"Wizara ya Afya Tanzania\", \"@wizara_afyatz\", 185, 59, \"2015/02/19\"], [\"alpha j alpha\", \"@alphajohnalpha1\", 17360, 48, \"2018/04/13\"], [\"CBIC\", \"@cbic_india\", 1020, 170, \"2015/07/22\"], [\"Pablo S\\u00e1nchez\", \"@PauMatalap\", 755, 6746, \"2011/04/23\"], [\"Lia Tadesse\", \"@lia_tadesse\", 301, 695, \"2014/10/17\"], [\"Lia Tadesse\", \"@lia_tadesse\", 236, 695, \"2014/10/17\"], [\"LouDeFrogg\", \"@LouDeFrogg\", 1, 2382, \"2014/11/22\"], [\"PUCE\", \"@PUCE_Ecuador\", 222, 6546, \"2009/08/14\"], [\"NHK\\u30cb\\u30e5\\u30fc\\u30b9\", \"@nhk_news\", 165, 20, \"2010/10/18\"], [\"Edmundo Bal\", \"@BalEdmundo\", 1226, 187, \"2019/02/23\"], [\"Kevin Sorbo\", \"@ksorbs\", 6475, 314, \"2009/04/20\"], [\"Marcio Americo\", \"@eumarcioamerico\", 218, 547, \"2009/04/30\"], [\"Arthur Weintraub\", \"@ArthurWeint\", 21148, 771, \"2018/12/16\"], [\"EMCALI \\ud83c\\udde8\\ud83c\\uddf4\", \"@EMCALIoficial\", 17, 1161, \"2012/01/03\"], [\"Dinesh D'Souza\", \"@DineshDSouza\", 32855, 5351, \"2009/11/22\"], [\"Dinesh D'Souza\", \"@DineshDSouza\", 241, 5351, \"2009/11/22\"], [\"Sophie Wilm\\u00e8s\", \"@Sophie_Wilmes\", 395, 1030, \"2012/03/06\"], [\"Tom Van Grieken\", \"@tomvangrieken\", 8170, 1437, \"2010/05/19\"], [\"Partido Popular\", \"@populares\", 449, 5299, \"2009/02/10\"], [\"Alicia erazo\", \"@ALICIAERAZO\", 104, 348, \"2012/08/17\"], [\"Tedros Adhanom Ghebreyesus\", \"@DrTedros\", 2326, 1206, \"2010/09/12\"], [\"Ministry of Health\", \"@MOH_Kenya\", 32, 661, \"2016/02/02\"], [\"Lula\", \"@LulaOficial\", 64628, 2406, \"2014/07/22\"], [\"Andry Rajoelina\", \"@SE_Rajoelina\", 1839, 199, \"2018/04/02\"], [\"juansmithalvarez\", \"@juansmithalvar1\", 2, 109, \"2019/12/16\"], [\"Jos\\u00e9 L. Morales T.\", \"@JLMT65\", 6, 7110, \"2016/05/26\"], [\"Jos\\u00e9 Luis Mart\\u00ednez-Almeida\", \"@AlmeidaPP_\", 8666, 1777, \"2012/09/03\"], [\"GEN\", \"@SomosGEN\", 3, 74, \"2017/06/13\"], [\"Alfredo Perdiguero M. \\ud83c\\uddea\\ud83c\\uddf8\", \"@PerdigueroSIPEp\", 69, 866, \"2017/01/02\"], [\"Ministerio de Sanidad\", \"@sanidadgob\", 298, 689, \"2010/12/30\"], [\"Raquel Blasco\", \"@RaquelBlascoR\", 84, 798, \"2011/03/10\"], [\"Juan Manzur\", \"@JuanManzurOK\", 266, 257, \"2015/05/15\"], [\"Minist\\u00e8re de la Sant\\u00e9 Publique Burundi(MSPLS)\", \"@mspls_bdi\", 76, 24, \"2019/04/17\"], [\"SP Chhindwara\", \"@ChhindwaraPoli1\", 276, 22, \"2019/03/11\"], [\"Dannia Rios Nacif\", \"@Rios_Nacif\", 55, 445, \"2019/05/18\"], [\"Inside Gones\", \"@InsideGones\", 447, 62, \"2016/01/21\"], [\"Seguran\\u00e7aSP\", \"@SegurancaSP\", 528, 60, \"2009/07/02\"], [\"Pol\\u00edcia Militar do Estado de S\\u00e3o Paulo\", \"@PMESP\", 1639, 132, \"2009/08/06\"], [\"SaludBAP\", \"@SaludBAP\", 104, 1040, \"2016/09/23\"], [\"Nagaon Police\", \"@nagaonpolice\", 345, 236, \"2015/10/01\"], [\"Nagaon Police\", \"@nagaonpolice\", 51, 236, \"2015/10/01\"], [\"Conor Lamb\", \"@ConorLambPA\", 17666, 518, \"2017/04/21\"], [\"Nagma\", \"@nagma_morarji\", 231, 292, \"2012/05/10\"], [\"Corentin B\\u00e9chade\", \"@corentinbechade\", 0, 348, \"2009/06/17\"], [\"Elliot Alderson\", \"@fs0c131y\", 131, 3792, \"2015/06/10\"], [\"Kellen Squire\", \"@SquireForYou\", 41288, 752, \"2016/12/05\"], [\"LCP\", \"@LCP\", 110, 1886, \"2009/10/26\"], [\"CACIF\", \"@CACIFGuatemala\", 176, 558, \"2010/04/19\"], [\"Andy Slavitt \\ud83c\\uddfa\\ud83c\\uddf8\\ud83d\\udc89\", \"@ASlavitt\", 92752, 999, \"2013/04/27\"], [\"WHO African Region\", \"@WHOAFRO\", 147, 583, \"2012/04/03\"], [\"Elliot Alderson\", \"@fs0c131y\", 290, 3792, \"2015/06/10\"], [\"Noticias Caracol\", \"@NoticiasCaracol\", 397, 1135, \"2008/12/02\"], [\"Yoweri K Museveni\", \"@KagutaMuseveni\", 1383, 27, \"2010/03/27\"], [\"Federal Ministry of Education\", \"@NigEducation\", 937, 6, \"2018/05/16\"], [\"IANS Tweets\", \"@ians_india\", 35, 45, \"2010/05/08\"], [\"IANS Tweets\", \"@ians_india\", 225, 45, \"2010/05/08\"], [\"NewsX\", \"@NewsX\", 5487, 229, \"2009/03/09\"], [\"NewsMeter\", \"@NewsMeter_In\", 5, 26, \"2019/07/25\"], [\"PrensaComunitaria\", \"@PrensaComunitar\", 157, 5829, \"2011/02/26\"], [\"Dolly Bindra\", \"@DollyBindra\", 86, 306, \"2009/05/12\"], [\".\", \"@WICHOCOOPER\", 0, 59, \"2011/03/18\"], [\"Ashish Tiwari\", \"@TiwariKahin\", 3862, 1626, \"2010/04/15\"], [\"Chaudhary Sandeep\", \"@Sandeep04CBS\", 297, 3308, \"2011/05/20\"], [\"Mohamed Bouarbi\", \"@MohamedBouarby\", 9, 273, \"2016/07/25\"], [\"Jo\\u00e3o Doria\", \"@jdoriajr\", 2855, 371, \"2009/08/11\"], [\"Jo\\u00e3o Doria\", \"@jdoriajr\", 1770, 371, \"2009/08/11\"], [\"Zineb \\ud83c\\uddf2\\ud83c\\udde6\\u200e\", \"@zinub\", 2, 990, \"2009/06/26\"], [\"Transparencia Col\", \"@transparenciaco\", 59, 3367, \"2009/05/07\"], [\"Gretchen Whitmer\", \"@gretchenwhitmer\", 15541, 54, \"2019/02/07\"], [\"Tedros Adhanom Ghebreyesus\", \"@DrTedros\", 487, 1206, \"2010/09/12\"], [\"MinSaludCol\", \"@MinSaludCol\", 10211, 814, \"2011/09/11\"], [\"World Health Organization (WHO)\", \"@WHO\", 8181, 1734, \"2008/04/23\"], [\"Francisco Tortosa\", \"@bipancho\", 1354, 1783, \"2010/01/03\"], [\"Morgan Freeman\", \"@morgan_freeman\", 251, 32, \"2019/12/12\"], [\"Vaughn Hillyard\", \"@VaughnHillyard\", 4036, 6526, \"2009/08/25\"], [\"Peter Burger\", \"@JPeterBurger\", 178, 2378, \"2013/04/11\"], [\"Aviral Srivastava\", \"@anshpatrkaar\", 745, 412, \"2015/08/18\"], [\"Morgan Freeman\", \"@morgan_freeman\", 1829, 32, \"2019/12/12\"], [\"Ministerio de Relaciones Exteriores\", \"@mreparaguay\", 690, 343, \"2011/07/25\"], [\"CDC\", \"@CDCgov\", 4001, 269, \"2010/05/21\"], [\"PIB Fact Check\", \"@PIBFactCheck\", 1078, 31, \"2019/12/19\"], [\"Presidencia Colombia \\ud83c\\udde8\\ud83c\\uddf4\", \"@infopresidencia\", 244, 292, \"2011/06/07\"], [\"London Breed\", \"@LondonBreed\", 3911, 692, \"2014/12/12\"], [\"Ola Roll\\u00e9n\", \"@OlaRollen\", 3084, 411, \"2012/03/05\"], [\"Andry Rajoelina\", \"@SE_Rajoelina\", 4920, 199, \"2018/04/02\"], [\"Christian Martin\", \"@askomartin\", 37234, 1792, \"2011/05/19\"], [\"Carl T. Bergstrom\", \"@CT_Bergstrom\", 2816, 2110, \"2015/06/07\"], [\"Agence France-Presse\", \"@afpfr\", 22, 1327, \"2011/07/20\"], [\"Dubai Police\\u0634\\u0631\\u0637\\u0629 \\u062f\\u0628\\u064a\", \"@DubaiPoliceHQ\", 116, 200, \"2010/09/21\"], [\"Peter Burger\", \"@JPeterBurger\", 219, 2378, \"2013/04/11\"], [\"Carles Enric\", \"@carlesenric\", 5571, 355, \"2008/11/11\"], [\"Henrique Mandetta\", \"@lhmandetta\", 36655, 132, \"2014/08/12\"], [\"Leo Varadkar\", \"@LeoVaradkar\", 1804, 1751, \"2010/12/22\"], [\"Bear Grillz\", \"@itsbeargrillz\", 1324, 70, \"2013/11/03\"], [\"Alvise P\\u00e9rez\", \"@Alvisepf\", 6252, 2678, \"2011/03/08\"], [\"Azhar\", \"@AzharJeddah2003\", 1, 167, \"2012/08/24\"], [\"Ahmad Jawad PTI\", \"@AhmadJawadBTH\", 126, 1535, \"2012/03/16\"], [\"1-DSIGN.COM\", \"@reaerosadesigns\", 0, 3, \"2017/04/17\"], [\"Josefina de Miguel C\", \"@josefinaIBVM\", 0, 456, \"2010/12/18\"], [\"Ethiopian Public Health Institute\", \"@EPHIEthiopia\", 25, 267, \"2015/11/03\"], [\"ANI\", \"@ANI\", 376, 0, \"2011/08/16\"], [\"David Mack\", \"@davidmackau\", 11335, 1664, \"2011/05/25\"], [\"Justin Sink\", \"@justinsink\", 960, 1628, \"2011/07/31\"], [\"Matt McDermott\", \"@mattmfm\", 5913, 1785, \"2008/07/13\"], [\"Ummy Mwalimu\", \"@ummymwalimu\", 2527, 560, \"2012/03/15\"], [\"MinSaludCol\", \"@MinSaludCol\", 4602, 814, \"2011/09/11\"], [\"OJO VALLENATO OFICIAL\", \"@EyeVallenatoo\", 278, 101, \"2019/01/10\"], [\"shahid siddiqui\", \"@shahid_siddiqui\", 13, 1707, \"2009/09/23\"], [\"sanjay singh\", \"@santo_tango\", 5, 796, \"2009/07/22\"], [\"Ignacio  Contreras\", \"@nacho1577\", 6, 2353, \"2010/06/15\"], [\"Cesare Sacchetti\", \"@CesareSacchetti\", 755, 203, \"2013/04/19\"], [\"NICD\", \"@nicd_sa\", 296, 1038, \"2013/04/22\"], [\"Guardia Civil \\ud83c\\uddea\\ud83c\\uddf8\", \"@guardiacivil\", 269, 288, \"2011/05/09\"], [\"DCP East Delhi\", \"@DCPEastDelhi\", 33, 350, \"2016/02/03\"], [\"Suresh Chavhanke \\u201cSudarshan News\\u201d\", \"@SureshChavhanke\", 23650, 166, \"2010/01/11\"], [\"Lynda May \\ud83e\\uddda\\u200d\\u2640\\ufe0f\\u0644\\u064a\\u0646\\u062f\\u0627 \\u0645\\u0627\\u064a\", \"@lyguerb\", 9, 852, \"2016/02/21\"], [\"Jimmy Kimmel\", \"@jimmykimmel\", 26501, 785, \"2009/03/23\"], [\"Minist\\u00e8re de la Sant\\u00e9 Publique Burundi(MSPLS)\", \"@mspls_bdi\", 42, 24, \"2019/04/17\"], [\"Vamos a ver\", \"@VAMOSAVERorg\", 93, 232, \"2020/04/26\"], [\"Bobby L. Rush\", \"@RepBobbyRush\", 13, 1420, \"2011/05/25\"], [\"Rep. Janel Brandtjen\", \"@RepJanel\", 12, 393, \"2014/04/22\"], [\"\\u092a\\u094d\\u0930\\u0935\\u0940\\u0923 \\u092e\\u093f\\u0936\\u094d\\u0930\\u093e\", \"@praveenm_mishra\", 218, 1843, \"2009/11/17\"], [\"Instituto de Salud Carlos III (ISCIII)\", \"@SaludISCIII\", 23, 525, \"2019/04/13\"], [\"millardayo\", \"@millardayo\", 940, 525, \"2010/04/14\"], [\"Grupo Parlamentario de VOX en el Congreso\", \"@VOX_Congreso\", 1459, 110, \"2019/06/05\"], [\"Tom Wolf Destroyed PA\", \"@anderso24344556\", 3, 463, \"2020/02/07\"], [\"J.dB.C\", \"@jesdbc\", 5329, 672, \"2013/10/18\"], [\"Geoweeb\", \"@Geoweeb\", 0, 212, \"2013/04/27\"], [\"\\u062d\\u0645\\u062f \\u0627\\u0644\\u0639\\u0642\\u064a\\u0644\\u064a\", \"@557_hamd\", 3, 4630, \"2016/08/06\"], [\"\\u0627\\u0628\\u0648\\u0639\\u0628\\u062f\\u0627\\u0644\\u0639\\u0632\\u064a\\u0632\", \"@krnkrnxxx\", 0, 14, \"2014/01/22\"], [\"Msemaji Mkuu wa Serikali\", \"@TZMsemajiMkuu\", 118, 15, \"2016/08/17\"], [\"Fernanda Vallejos\", \"@fvallejoss\", 806, 983, \"2011/05/19\"], [\"Nelson Teich\", \"@TeichNelson\", 21549, 61, \"2020/01/19\"], [\"Priyanka Gandhi Vadra\", \"@priyankagandhi\", 25312, 74, \"2019/02/10\"], [\"Gerson Msigwa\", \"@MsigwaGerson\", 472, 1393, \"2014/03/28\"], [\"Ajayraj S Muthaliya\", \"@ajayrajmuthalia\", 0, 114, \"2016/04/14\"], [\"Faheem Younus, MD\", \"@FaheemYounus\", 781, 443, \"2011/10/12\"], [\"UNDP Ghana\", \"@UNDPGhana\", 110, 590, \"2013/01/04\"], [\"OMS Afrique\", \"@OMS_Afrique\", 43, 183, \"2020/02/07\"], [\"William Bonner\", \"@realwbonner\", 103746, 0, \"2009/06/30\"], [\"Peter Burger\", \"@JPeterBurger\", 57, 2378, \"2013/04/11\"], [\"RCN Radio Bucaramanga\", \"@RCNBga\", 3, 926, \"2012/06/13\"], [\"Jo\\u00e3o Doria\", \"@jdoriajr\", 11072, 371, \"2009/08/11\"], [\"\\u062f\\u0633\\u0645\\u0627\\u0646 \\u0646\\u064a\\u0648\\u0632\", \"@DasmanNewsCom\", 188, 0, \"2012/04/18\"], [\"TN - Todo Noticias\", \"@todonoticias\", 2607, 21, \"2009/03/23\"], [\"A Marm Kilpatrick\", \"@DiseaseEcology\", 132, 147, \"2013/08/05\"], [\"Alberto Fern\\u00e1ndez\", \"@alferdez\", 7797, 7210, \"2010/05/30\"], [\"Muktesh Pardeshi\", \"@MukteshPardeshi\", 3377, 198, \"2014/06/09\"], [\"Prefeitura de Pelotas\", \"@PrefPelotas\", 142, 300, \"2011/11/01\"], [\"Eduardo Bolsonaro\\ud83c\\udde7\\ud83c\\uddf7\", \"@BolsonaroSP\", 1438, 691, \"2009/09/16\"], [\"\\u062a\\u064a\\u062c\\u0627\\u0646\\u064a\", \"@MehdiElFilali4\", 0, 549, \"2018/06/15\"], [\"\\u00d8uss\\u00e5ma Le Morisque\", \"@bol7yaa\", 0, 114, \"2012/11/04\"], [\"Fl\\u00e1vio Dino \\ud83c\\udde7\\ud83c\\uddf7\", \"@FlavioDino\", 32475, 658, \"2009/03/20\"], [\"Joe Biden\", \"@JoeBiden\", 13138, 46, \"2007/03/11\"], [\"World Health Organization (WHO) Western Pacific\", \"@WHOWPRO\", 45, 1205, \"2015/10/05\"], [\"Tecnol\\u00f3gico de Monterrey\", \"@TecdeMonterrey\", 7, 464, \"2010/02/19\"], [\"World Health Organization (WHO)\", \"@WHO\", 250, 1734, \"2008/04/23\"], [\"UNICEF Philippines\", \"@unicefphils\", 3977, 1056, \"2009/10/05\"], [\"MinSaludCol\", \"@MinSaludCol\", 4063, 814, \"2011/09/11\"], [\"Jack Ma\", \"@JackMa\", 59874, 0, \"2020/03/15\"], [\"Edison Lanza\", \"@EdisonLanza\", 66, 4359, \"2009/07/28\"], [\"Presidency | South Africa \\ud83c\\uddff\\ud83c\\udde6\", \"@PresidencyZA\", 101, 17, \"2009/05/18\"], [\"Ministry of Health\", \"@MOH_Kenya\", 609, 661, \"2016/02/02\"], [\"Scott Gottlieb, MD\", \"@ScottGottliebMD\", 1609, 956, \"2009/05/15\"], [\"Minist\\u00e8re de la Sant\\u00e9 Publique Burundi(MSPLS)\", \"@mspls_bdi\", 103, 24, \"2019/04/17\"], [\"Jack Ma\", \"@JackMa\", 31217, 0, \"2020/03/15\"], [\"taran adarsh\", \"@taran_adarsh\", 6458, 164, \"2009/12/27\"], [\"Guillaume Chartrain\", \"@GuillaumeUERDC\", 98, 1145, \"2018/09/04\"], [\"Andry Rajoelina\", \"@SE_Rajoelina\", 576, 199, \"2018/04/02\"], [\"Sandra\", \"@sandravogelaar\", 16, 0, \"2011/06/23\"], [\"L'Express\", \"@LExpressMG\", 16, 59, \"2011/07/22\"], [\"KSBA\", \"@ksbanews\", 13, 722, \"2009/06/27\"], [\"Murtaza Ali Shah\", \"@MurtazaViews\", 531, 786, \"2010/06/06\"], [\"Alejandro Giammattei\", \"@DrGiammattei\", 1018, 82, \"2010/09/07\"], [\"Jai Shri Ram\", \"@bjplao\", 28, 5618, \"2018/06/29\"], [\"Kayleigh McEnany 45 Archived\", \"@PressSec45\", 1461, 328, \"2017/01/10\"], [\"Australian Government Department of Health\", \"@healthgovau\", 122, 143, \"2010/03/22\"], [\"Polic\\u00eda Nacional\", \"@policia\", 479, 0, \"2009/03/11\"], [\"Ministerio Inclusi\\u00f3n Seguridad Social Migraciones\", \"@inclusiongob\", 241, 532, \"2020/01/12\"], [\"South African Government\", \"@GovernmentZA\", 507, 513, \"2013/06/21\"], [\"SassyM\\u00e9tisChick \\u2764\\ufe0f \\ud83c\\udde8\\ud83c\\udde6\\u2764\\ufe0f\", \"@SassyMetisChick\", 2558, 21417, \"2018/06/18\"], [\"\\u00c9quipe 1er degr\\u00e9\", \"@Equipe1erDegre\", 2769, 410, \"2012/01/25\"], [\"Guardia Civil \\ud83c\\uddea\\ud83c\\uddf8\", \"@guardiacivil\", 404, 288, \"2011/05/09\"], [\"Lt Gen Gyan Bhushan\", \"@bhushan_gyan\", 1646, 2372, \"2014/01/28\"], [\"Albert Rivera\", \"@Albert_Rivera\", 23580, 2433, \"2010/01/27\"], [\"Toni Cant\\u00f3\", \"@Tonicanto1\", 3603, 3055, \"2011/02/08\"], [\"Dinesh D'Souza\", \"@DineshDSouza\", 24580, 5351, \"2009/11/22\"], [\"Timothy Gumm\", \"@timothy_gumm\", 264, 372, \"2018/03/12\"], [\"Alvise P\\u00e9rez\", \"@Alvisepf\", 10367, 2678, \"2011/03/08\"], [\"Murtaza Wahab Siddiqui\", \"@murtazawahab1\", 1693, 137, \"2016/04/25\"], [\"Donatella Chiodi\", \"@ChiodiDonatella\", 292, 12043, \"2015/04/11\"], [\"Alvise P\\u00e9rez\", \"@Alvisepf\", 14726, 2678, \"2011/03/08\"], [\"Glenn Kessler\", \"@GlennKesslerWP\", 291, 547, \"2011/01/07\"], [\"Daniel Dale\", \"@ddale8\", 4514, 1485, \"2010/12/11\"], [\"B L Santhosh\", \"@blsanthosh\", 1031, 298, \"2013/01/06\"], [\"Juli\\u00e1n A. Fern\\u00e1ndez-Ni\\u00f1o\", \"@JFernandeznino\", 165, 826, \"2010/06/09\"], [\"CitizenJane99\", \"@CitizenJane99\", 605, 114, \"2013/09/11\"], [\"Muge Cevik\", \"@mugecevik\", 613, 1944, \"2009/08/19\"], [\"Tom DiNapoli\", \"@NYSComptroller\", 13, 4789, \"2011/01/12\"], [\"Levy Rinc\\u00f3n\", \"@Ievyrincon\", 1916, 88, \"2018/11/09\"], [\"Dr Zweli Mkhize\", \"@DrZweliMkhize\", 792, 38575, \"2017/03/22\"], [\"DD News Gujarati\", \"@DDNewsGujarati\", 534, 329, \"2018/03/12\"], [\"R\\u00e1dio Itatiaia\", \"@radioitatiaia\", 4528, 91, \"2009/05/11\"], [\"EquisJusticia\", \"@EquisJusticia\", 178, 1305, \"2013/04/16\"], [\"Bonnie369\", \"@bonnie379\", 976, 911, \"2011/11/18\"], [\"Bonnie369\", \"@bonnie379\", 13, 911, \"2011/11/18\"], [\"NCDC\", \"@NCDCgov\", 502, 384, \"2016/03/04\"], [\"Embajada de Suecia en Madrid\", \"@EmbajadorSuecia\", 478, 1852, \"2013/02/19\"], [\"RK Agarwal\", \"@rkagarwal69\", 0, 138, \"2019/03/21\"], [\"Jimbere\", \"@JimbereMag\", 12, 141, \"2016/02/15\"], [\"Le Double R \\ud83c\\udde8\\ud83c\\uddf2\", \"@RamsDreezy\", 2, 448, \"2011/02/07\"], [\"Rep Andy Biggs\", \"@RepAndyBiggsAZ\", 723, 1659, \"2017/01/04\"], [\"Scott Morrison\", \"@ScottMorrisonMP\", 2205, 1734, \"2009/04/22\"], [\"Air India\", \"@airindiain\", 11, 2925, \"2011/10/09\"], [\"Matt McDermott\", \"@mattmfm\", 261734, 1785, \"2008/07/13\"], [\"Ummy Mwalimu\", \"@ummymwalimu\", 900, 560, \"2012/03/15\"], [\"Peter Stevenson\", \"@PeterStevenson\", 387, 1217, \"2010/12/07\"], [\"Jimmy Kimmel\", \"@jimmykimmel\", 79493, 785, \"2009/03/23\"], [\"Alvise P\\u00e9rez\", \"@Alvisepf\", 16359, 2678, \"2011/03/08\"], [\"CoolSonu\\ud83e\\udd1d\", \"@WilDbadGe\", 9, 1981, \"2015/07/26\"], [\"Conspiracy Watch\", \"@conspiration\", 201, 922, \"2009/03/14\"], [\"Michael N\\u00f6them\", \"@mikandynothem\", 17016, 98275, \"2012/02/15\"], [\"Juan Espa\\u00f1ol\", \"@Cosecha_del_62\", 0, 200, \"2011/06/15\"], [\"Himanta Biswa Sarma\", \"@himantabiswa\", 2834, 97, \"2010/04/09\"], [\"DIPR Assam\", \"@diprassam\", 113, 263, \"2018/09/29\"], [\"PIB in Assam\", \"@PIB_Guwahati\", 0, 62, \"2013/02/25\"], [\"Ronald Klain\", \"@RonaldKlain\", 49758, 2588, \"2011/02/07\"], [\"Hafiz Jameel\", \"@HafizJa04188954\", 6, 201, \"2020/04/25\"], [\"Javier Ortega Smith\", \"@Ortega_Smith\", 4656, 467, \"2013/01/25\"], [\"Umashankar Singh \\u0909\\u092e\\u093e\\u0936\\u0902\\u0915\\u0930 \\u0938\\u093f\\u0902\\u0939\", \"@umashankarsingh\", 257, 824, \"2009/09/13\"], [\"PIB Fact Check\", \"@PIBFactCheck\", 866, 31, \"2019/12/19\"], [\"\\u0639\\u0645\\u0631\\u0648 \\u06d2 \\u0645\\u0633\\u062d\\u0644\\u064a\\u06d2\\u265a\", \"@amro_mashali\", 2, 8032, \"2011/11/29\"], [\"Tedros Adhanom Ghebreyesus\", \"@DrTedros\", 1100, 1206, \"2010/09/12\"], [\"Cynthia Garc\\u00eda\", \"@cyngarciaradio\", 1447, 1671, \"2010/06/02\"], [\"Gaby Levinas\", \"@GabyLevinas\", 292, 3801, \"2010/05/25\"], [\"The New York Times\", \"@nytimes\", 5192, 805, \"2007/03/02\"], [\"Nidhi Razdan\", \"@Nidhi\", 8035, 408, \"2015/05/03\"], [\"HSE Health Protection Surveillance Centre (HPSC)\", \"@hpscireland\", 7, 802, \"2011/05/24\"], [\"ParaMicroBio #SoyBi\\u00f3logo #LosBi\\u00f3logosExistimos\", \"@ParaMicroBio\", 34, 4988, \"2017/12/19\"], [\"TIMES NOW\", \"@TimesNow\", 339, 375, \"2011/01/20\"], [\"MinSaludCol\", \"@MinSaludCol\", 136, 814, \"2011/09/11\"], [\"NSC 45 Archived\", \"@WHNSC45\", 25031, 5, \"2017/03/10\"], [\"The White House 45 Archived\", \"@WhiteHouse45\", 3248, 11, \"2017/01/19\"], [\"Karl Lauterbach\", \"@Karl_Lauterbach\", 1845, 270, \"2015/05/21\"], [\"leticia spiller\", \"@leticiaspiller\", 148, 658, \"2010/10/13\"], [\"Pedro S\\u00e1nchez\", \"@sanchezcastejon\", 8002, 6031, \"2009/08/25\"], [\"Ministerio de Sanidad\", \"@sanidadgob\", 158, 689, \"2010/12/30\"], [\"Global Times\", \"@globaltimesnews\", 22836, 520, \"2009/06/22\"], [\"Boris Johnson\", \"@BorisJohnson\", 352986, 459, \"2015/04/01\"], [\"La Moncloa\", \"@desdelamoncloa\", 483, 195, \"2009/07/20\"], [\"Consejo General de Enfermer\\u00eda\", \"@CGEnfermeria\", 5, 738, \"2010/12/06\"], [\"David Puente\", \"@DavidPuente\", 11, 1205, \"2009/06/29\"], [\"ANI\", \"@ANI\", 10375, 0, \"2011/08/16\"], [\"Aditya Raj Kaul\", \"@AdityaRajKaul\", 2763, 8130, \"2009/06/03\"], [\"shhhhitsdundeebear\", \"@shhhhitsdundee1\", 20, 1989, \"2020/02/11\"], [\"La Moncloa\", \"@desdelamoncloa\", 422, 195, \"2009/07/20\"], [\"#IndiaFightsCorona\", \"@COVIDNewsByMIB\", 352, 71, \"2020/03/31\"], [\"Ministry of Health\", \"@MOH_Kenya\", 105, 661, \"2016/02/02\"], [\"Minister Jackson Mthembu\", \"@JacksonMthembu_\", 327, 3749, \"2012/11/30\"], [\"Helder Barbalho\", \"@helderbarbalho\", 995, 1183, \"2010/06/03\"], [\"Ngozi Okonjo-Iweala\", \"@NOIweala\", 9082, 11, \"2011/09/13\"], [\"Ngozi Okonjo-Iweala\", \"@NOIweala\", 5153, 11, \"2011/09/13\"], [\"Guineematin\", \"@Guineematin\", 451, 314, \"2015/07/29\"], [\"Daniel Dale\", \"@ddale8\", 33041, 1485, \"2010/12/11\"], [\"\\u7af9\\u5185\\u4e45\\u7f8e\\u5b50\", \"@takeuchikumiffy\", 11372, 3732, \"2019/10/08\"], [\"\\u9752\\u8449\\u3042\\u3055\\u3072\", \"@vTxpqRVTUijcIq4\", 14844, 5234, \"2018/11/03\"], [\"CNEWS\", \"@CNEWS\", 2219, 736, \"2008/12/26\"], [\"Andry Rajoelina\", \"@SE_Rajoelina\", 109, 199, \"2018/04/02\"], [\"Andry Rajoelina\", \"@SE_Rajoelina\", 120, 199, \"2018/04/02\"], [\"Cruz Roja Las Palmas\", \"@CruzRojaLP\", 7, 153, \"2016/06/30\"], [\"Bhargab Talukdar\", \"@bshibamt\", 2, 368, \"2015/01/17\"], [\"Natasha Dimitrievska\", \"@napostoloska\", 421, 370, \"2013/12/14\"], [\"SSN ARGENTINA\", \"@ssn_ar\", 65, 185, \"2017/05/12\"], [\"Prof. Sanjib Goswami \\ud83c\\uddee\\ud83c\\uddf3\\ud83c\\udde6\\ud83c\\uddfa\", \"@DrSanjibG\", 41, 4155, \"2010/02/03\"], [\"World Health Organization (WHO)\", \"@WHO\", 2185, 1734, \"2008/04/23\"], [\"Saadia Afzaal\", \"@SaadiaAfzaal\", 8118, 308, \"2014/08/13\"], [\"PIB in Assam\", \"@PIB_Guwahati\", 185, 62, \"2013/02/25\"], [\"PIB Fact Check\", \"@PIBFactCheck\", 537, 31, \"2019/12/19\"], [\"John Roberts\", \"@johnrobertsFox\", 331, 492, \"2009/02/16\"], [\"Saadia Afzaal\", \"@SaadiaAfzaal\", 3796, 308, \"2014/08/13\"], [\"Copernicus ECMWF\", \"@CopernicusECMWF\", 4061, 499, \"2015/06/26\"], [\"Anderson Cooper 360\\u00b0\", \"@AC360\", 9561, 156, \"2010/12/17\"], [\"nychealthy\", \"@nycHealthy\", 387, 556, \"2008/12/09\"], [\"Cal Cunningham\", \"@CalforNC\", 753, 654, \"2009/11/24\"], [\"Radio 780 AM\", \"@780AM\", 18, 1460, \"2009/11/02\"], [\"Ledor\\u00e9 E #\\ud835\\udddd\\ud835\\udddf\\ud835\\udde0\\ud835\\udfee\\ud835\\udfec\\ud835\\udfee\\ud835\\udfee \\ud83d\\udd3b \\u03c6 \\ud83d\\udd1d#Noussommespour\\ud83d\\udce2\", \"@eledoster\", 2177, 1333, \"2016/02/25\"], [\"KY Dept of Education\", \"@KyDeptofEd\", 71, 825, \"2011/04/04\"], [\"PIB Fact Check\", \"@PIBFactCheck\", 1023, 31, \"2019/12/19\"], [\"Daniel\", \"@DannyLS74\", 4, 2783, \"2013/08/11\"], [\"Elisa Granato \\ud83e\\udda0\\ud83d\\udd2c\", \"@Prokaryota\", 822, 2669, \"2010/01/12\"], [\"John McAfee\", \"@officialmcafee\", 5555, 14124, \"2012/11/21\"], [\"Abhishek Jalan\", \"@AayoBado\", 58, 37, \"2020/04/17\"], [\"Fergus Walsh\", \"@BBCFergusWalsh\", 21298, 364, \"2010/05/21\"], [\"Louis \\ud83c\\uddec\\ud83c\\udde7 \\ud83c\\uddea\\ud83c\\uddfa \\u3013\\u3013 \\ud83d\\udc99 #StayAlertToriesAreCorrupt\", \"@LouisHenwood\", 282, 3965, \"2018/06/23\"], [\"Department of Health and Social Care\", \"@DHSCgovuk\", 1983, 852, \"2009/05/05\"], [\"Pakistan Socio Economic Monitor by Yasin J\", \"@pakistanmonitor\", 1, 1523, \"2011/01/26\"], [\"Fergus Walsh\", \"@BBCFergusWalsh\", 2359, 364, \"2010/05/21\"], [\"Cetm\", \"@CetmTransporte\", 27, 1074, \"2015/05/06\"], [\"Carl T. Bergstrom\", \"@CT_Bergstrom\", 6231, 2110, \"2015/06/07\"], [\"Rudy W. Giuliani\", \"@RudyGiuliani\", 40593, 460, \"2016/08/31\"], [\"Danyal Gilani\", \"@DanyalGilani\", 89, 484, \"2009/03/15\"], [\"Les Buralistes\", \"@LesBuralistes\", 2, 1641, \"2013/01/02\"], [\"Alessandro Meluzzi\\u2626\\ufe0f\\ud83c\\uddee\\ud83c\\uddf9\", \"@a_meluzzi\", 56, 50499, \"2012/12/24\"], [\"Kyoto University\", \"@KyotoU_News\", 271, 199, \"2014/09/10\"], [\"Charlie Flanagan\", \"@CharlieFlanagan\", 169, 646, \"2009/11/04\"], [\"Jeff Shipley \\ud83e\\udd81\", \"@JeffShipley77\", 36, 723, \"2019/01/15\"], [\"Arjun Singh\", \"@ArjunsinghWB\", 175, 119, \"2019/03/30\"], [\"Bernie Sanders\", \"@SenSanders\", 6620, 2330, \"2009/04/07\"], [\"Thaung Tun\", \"@ThaungTun20\", 48, 39, \"2019/09/26\"], [\"Dinesh D'Souza\", \"@DineshDSouza\", 1133, 5351, \"2009/11/22\"], [\"Albert Rivera\", \"@Albert_Rivera\", 14, 2433, \"2010/01/27\"], [\"Meet the Press\", \"@MeetThePress\", 57, 443, \"2008/01/04\"], [\"Paolo Grimoldi\", \"@GrimoldiPaolo\", 769, 890, \"2011/11/21\"], [\"Scott Gottlieb, MD\", \"@ScottGottliebMD\", 84, 956, \"2009/05/15\"], [\"Darin LaHood\", \"@RepLaHood\", 21, 1220, \"2015/09/17\"], [\"Didier Raoult\", \"@raoult_didier\", 6040, 14, \"2020/03/24\"], [\"Bonnie369\", \"@bonnie379\", 431, 911, \"2011/11/18\"], [\"PIB Fact Check\", \"@PIBFactCheck\", 863, 31, \"2019/12/19\"], [\"Daniel Oran\", \"@danieloran\", 380, 101, \"2009/03/17\"], [\"La Moncloa\", \"@desdelamoncloa\", 131, 195, \"2009/07/20\"], [\"Eduardo Leite\", \"@EduardoLeite_\", 9137, 443, \"2010/03/17\"], [\"Eduardo Leite\", \"@EduardoLeite_\", 2634, 443, \"2010/03/17\"], [\"Sander K.\", \"@sanderknura\", 1, 4101, \"2008/03/29\"], [\"Never Retreat Never Surrender\\ud83d\\uded5\\ud83d\\udea9\", \"@TapasNiyama\", 37, 108, \"2020/03/15\"], [\"Silvana Konermann\", \"@SKonermann\", 590, 578, \"2012/10/30\"], [\"Ministerio de Sanidad\", \"@sanidadgob\", 3027, 689, \"2010/12/30\"], [\"Trevor Bedford\", \"@trvrb\", 1389, 817, \"2010/12/10\"], [\"Nonona' Ohtsevehn Estse'\", \"@notaxiwarrior\", 164, 6237, \"2011/11/14\"], [\"Nonona' Ohtsevehn Estse'\", \"@notaxiwarrior\", 11, 6237, \"2011/11/14\"], [\"Manoj Tiwari\", \"@ManojTiwariMP\", 2926, 923, \"2015/08/14\"], [\"Michael Downey\", \"@mgdowney\", 2479, 424, \"2011/12/20\"], [\"BBC News Africa\", \"@BBCAfrica\", 81, 1392, \"2009/04/30\"], [\"Raila Odinga\", \"@RailaOdinga\", 2001, 308, \"2011/05/18\"], [\"Atiku Abubakar\", \"@atiku\", 15744, 116, \"2010/08/12\"], [\"The White House 45 Archived\", \"@WhiteHouse45\", 9050, 11, \"2017/01/19\"], [\"Germany @ Arab World\", \"@almaniadiplo\", 78, 371, \"2014/09/16\"], [\"Dee C. \\ud83e\\uddd8\\u200d\\u2640\\ufe0f\\ud83d\\udc69\\u200d\\ud83c\\udfa4\\ud83c\\udfc3\\u200d\\u2640\\ufe0f\\ud83c\\udfad\", \"@Nangpagirl78\", 4, 343, \"2016/01/04\"], [\"Tom Hanks\", \"@tomhanks\", 209400, 25, \"2009/06/24\"], [\"Carlos Bolsonaro\", \"@CarlosBolsonaro\", 17021, 631, \"2009/08/25\"], [\"DM Bareilly\", \"@dmbareilly\", 2856, 124, \"2016/09/14\"], [\"PIB Fact Check\", \"@PIBFactCheck\", 468, 31, \"2019/12/19\"], [\"America's Newsroom\", \"@AmericaNewsroom\", 15, 386, \"2011/06/07\"], [\"Guardia Civil \\ud83c\\uddea\\ud83c\\uddf8\", \"@guardiacivil\", 803, 288, \"2011/05/09\"], [\"Jair M. Bolsonaro\", \"@jairbolsonaro\", 39808, 550, \"2010/03/31\"], [\"Ashutosh Nath Tiwari\", \"@ashu2aug\", 0, 496, \"2011/04/27\"], [\"Arancha Gonz\\u00e1lez\", \"@AranchaGlezLaya\", 5422, 2037, \"2012/11/25\"], [\"NOA Nigeria\", \"@NOA_Nigeria\", 91, 887, \"2011/11/03\"], [\"Polic\\u00eda Nacional\", \"@policia\", 188, 0, \"2009/03/11\"], [\"Corinne Lepage\", \"@corinnelepage\", 435, 6124, \"2009/04/14\"], [\"Zoom\", \"@Zoom\", 46, 2058, \"2012/03/13\"], [\"Mat\\u00edas Rajnerman\", \"@MatiasRajnerman\", 48, 628, \"2010/05/30\"], [\"Fco. Javier Redondo\", \"@fjredondocalvo1\", 5, 268, \"2015/11/14\"], [\"Fco. Javier Redondo\", \"@fjredondocalvo1\", 5, 268, \"2015/11/14\"], [\"\\u0628\\u0631\\u0628\\u0627\\u062f\\u06cc\", \"@syedkhaleedd\", 3, 94, \"2020/04/10\"], [\"World Health Organization (WHO)\", \"@WHO\", 859, 1734, \"2008/04/23\"], [\"Femi Gbajabiamila\", \"@femigbaja\", 12733, 264, \"2012/04/27\"], [\"Rahul Krishnan\", \"@rahulstreetmagi\", 56, 16, \"2013/06/18\"], [\"Helder Barbalho\", \"@helderbarbalho\", 6, 1183, \"2010/06/03\"], [\"TheStarKenya\", \"@TheStarKenya\", 63, 508, \"2011/07/27\"], [\"Jack Motley\", \"@JackMotleyLive\", 11, 1884, \"2012/03/19\"], [\"ncpwds\", \"@Ncpwds\", 15, 337, \"2013/06/05\"], [\"\\u0623.\\u062f. \\u062d\\u0627\\u0643\\u0645 \\u0627\\u0644\\u0645\\u0637\\u064a\\u0631\\u064a\", \"@DrHAKEM\", 505, 3473, \"2010/08/24\"], [\"Dhiraj Giri\", \"@DhirajG82325757\", 2, 849, \"2020/04/13\"], [\"Vishal\", \"@VishalAryavart\", 1, 125, \"2017/10/15\"], [\"Lilach Volach\", \"@lilach_v\", 41, 580, \"2011/01/15\"], [\"Mangala Samaraweera\", \"@MangalaLK\", 474, 208, \"2015/02/20\"], [\"Chinese Embassy in Sri Lanka\", \"@ChinaEmbSL\", 6, 336, \"2020/03/20\"], [\"Daniel M\\u00fagica\", \"@danimugicagmai1\", 24, 214, \"2016/03/02\"], [\"DCI KENYA\", \"@DCI_Kenya\", 255, 88, \"2014/05/30\"], [\"DCI KENYA\", \"@DCI_Kenya\", 25, 88, \"2014/05/30\"], [\"Kellyanne Conway\", \"@KellyannePolls\", 2009, 937, \"2012/01/23\"], [\"Kellyanne Conway\", \"@KellyannePolls\", 6378, 937, \"2012/01/23\"], [\"Bihar Health Dept\", \"@BiharHealthDept\", 74, 100, \"2019/06/03\"], [\"The Hill\", \"@thehill\", 1779, 276, \"2007/03/22\"], [\"aljo maes\", \"@aljomaes2010\", 0, 1382, \"2010/10/26\"], [\"Eddie Holmes\", \"@edwardcholmes\", 193, 369, \"2014/06/10\"], [\"Syed ghayasuddin\", \"@ghayasU59473086\", 27, 864, \"2019/07/04\"], [\"TN - Todo Noticias\", \"@todonoticias\", 961, 21, \"2009/03/23\"], [\"Charlie Flanagan\", \"@CharlieFlanagan\", 98, 646, \"2009/11/04\"], [\"Florencia Ballarino\", \"@FlorBallarino\", 25, 2141, \"2013/04/04\"], [\"Jair M. Bolsonaro\", \"@jairbolsonaro\", 27455, 550, \"2010/03/31\"], [\"Clare Daly\", \"@ClareDalyMEP\", 579, 29, \"2011/10/05\"], [\"Garrett Bedenbaugh\", \"@wxgarrett\", 116, 2501, \"2009/01/15\"], [\"VOST Comunitat Valenciana\", \"@VOSTcvalenciana\", 94, 531, \"2013/06/05\"], [\"Doble R\", \"@r_doble\", 0, 595, \"2011/11/07\"], [\"justice-n'est-plus\", \"@plus_justice\", 12, 183, \"2014/02/06\"], [\"Thaung Tun\", \"@ThaungTun20\", 622, 39, \"2019/09/26\"], [\"DEO SAFARI\", \"@DEOSAFARI7\", 0, 5, \"2020/02/10\"], [\"ABS-CBN News\", \"@ABSCBNNews\", 1199, 1069, \"2008/08/16\"], [\"KattaNews\", \"@katta_news\", 152, 0, \"2019/11/18\"], [\"Vic Micolucci WJXT\", \"@WJXTvic\", 56, 3368, \"2009/03/23\"], [\"The White House 45 Archived\", \"@WhiteHouse45\", 5382, 11, \"2017/01/19\"], [\"Golden State Times \\ud83c\\uddfa\\ud83c\\uddf8\", \"@Goldstatetimes\", 8542, 232, \"2012/09/17\"], [\"\\u200f \\u0627\\u0646\\u0627 \\u0633\\u062a\\u0648\\u0631\\u0645\\u064a\\ud83d\\udca8 BBS2949 \\u0643\\u0648\\u062f \\u0627\\u064a\\u0647\\u064a\\u0631\\u0628\", \"@bbbii1010\", 17, 2562, \"2019/05/31\"], [\"\\u0627\\u0644\\u0645\\u0633\\u062a\\u0634\\u0627\\u0631 \\u0642\\u0627\\u0633\\u0645 \\u062d\\u062f\\u0631\\u062c\", \"@almostshar202\", 49, 3627, \"2018/05/07\"], [\"Shehan Madawa \\ud83c\\uddf1\\ud83c\\uddf0\", \"@shehanmlive\", 6, 793, \"2010/02/04\"], [\"ELSAN\", \"@elsan\", 8, 1704, \"2013/12/05\"], [\"BCRA\", \"@BancoCentral_AR\", 56, 19, \"2014/05/23\"], [\"BCRA\", \"@BancoCentral_AR\", 79, 19, \"2014/05/23\"], [\"Eduardo Leite\", \"@EduardoLeite_\", 1806, 443, \"2010/03/17\"], [\"Tiger Brands\", \"@TigerBrands\", 1, 269, \"2015/12/17\"], [\"Presidency | South Africa \\ud83c\\uddff\\ud83c\\udde6\", \"@PresidencyZA\", 174, 17, \"2009/05/18\"], [\"The Judiciary Kenya\", \"@Kenyajudiciary\", 180, 79, \"2014/10/25\"], [\"Pordenone y Budoia 2005\", \"@PordenoneBudoia\", 27, 2732, \"2019/06/19\"], [\"Waris Pathan\", \"@warispathan\", 1228, 478, \"2014/11/28\"], [\"Darin LaHood\", \"@RepLaHood\", 36, 1220, \"2015/09/17\"], [\"ian bremmer\", \"@ianbremmer\", 3239, 1457, \"2009/07/28\"], [\"Kamil Karamali\", \"@KamilKaramali\", 4245, 1570, \"2009/07/07\"], [\"Eduardo Bolsonaro\\ud83c\\udde7\\ud83c\\uddf7\", \"@BolsonaroSP\", 4033, 691, \"2009/09/16\"], [\"UZ Brussel\", \"@UZBrussel\", 18, 544, \"2011/07/07\"], [\"Chirag Thumar\", \"@ThumarChirag\", 375, 1444, \"2013/04/16\"], [\"Belduque\", \"@belduque\", 0, 609, \"2010/03/20\"], [\"Ed\\u00fa Duro d Emelec\", \"@EduX2021\", 12, 598, \"2011/09/17\"], [\"Andrew Petter Nold Long \\ud83c\\udde7\\ud83c\\uddf7 \\ud83c\\uddfa\\ud83c\\uddf8 Bolsonarista \\ud83e\\udde0\", \"@Andrew_Petter\", 304, 9380, \"2011/04/23\"], [\"Paulo Smith\", \"@pecunia55\", 15, 431, \"2010/02/23\"], [\"Noticias Caracol\", \"@NoticiasCaracol\", 48, 1135, \"2008/12/02\"], [\"\\u5831\\u9053\\u3055\\u308c\\u306a\\u3044\\u30b3\\u30ed\\u30ca\\u60c5\\u5831\", \"@JPYlTqpLzb65rdX\", 6327, 0, \"2020/02/26\"], [\"BBC Politics\", \"@BBCPolitics\", 19805, 289, \"2007/01/10\"], [\"CHU de Lille\", \"@CHU_Lille\", 29, 1037, \"2011/11/16\"], [\"Amanda P\\u00e1ez\", \"@amandaasubiar\", 619, 5356, \"2011/07/15\"], [\"Amanda P\\u00e1ez\", \"@amandaasubiar\", 133, 5356, \"2011/07/15\"], [\"Amanda P\\u00e1ez\", \"@amandaasubiar\", 175, 5356, \"2011/07/15\"], [\"Shivaram Mchinnappa\", \"@Mshivaram23M\", 1, 57, \"2016/07/08\"], [\"Narayana Health\", \"@NarayanaHealth\", 0, 11, \"2013/04/03\"], [\"Julianna Tatelbaum\", \"@CNBCJulianna\", 251, 1016, \"2018/09/12\"], [\"Faisal Javed Khan\", \"@FaisalJavedKhan\", 5593, 1341, \"2011/03/04\"], [\"World Health Organization (WHO)\", \"@WHO\", 45432, 1734, \"2008/04/23\"], [\"Vas Narasimhan\", \"@VasNarasimhan\", 291, 230, \"2016/04/22\"], [\"PIB Fact Check\", \"@PIBFactCheck\", 580, 31, \"2019/12/19\"], [\"Murtaza Solangi\", \"@murtazasolangi\", 256, 3209, \"2009/05/04\"], [\"TF1LeJT\", \"@TF1LeJT\", 94, 739, \"2015/07/24\"], [\"WHO Kenya\", \"@WHOKenya\", 39, 250, \"2017/01/19\"], [\"groveers.com\", \"@groveers\", 0, 477, \"2019/02/03\"], [\"sharjahmedia\", \"@sharjahmedia\", 21, 171, \"2011/10/02\"], [\"Raila Odinga\", \"@RailaOdinga\", 5500, 308, \"2011/05/18\"], [\"Nistula Hebbar\", \"@nistula\", 883, 1274, \"2010/07/01\"], [\"Iv\\u00e1n Jes\\u00fas Izaguirre I.\", \"@ivaniz66\", 3080, 5275, \"2009/11/11\"], [\"WHO South-East Asia\", \"@WHOSEARO\", 1776, 745, \"2013/06/25\"], [\"PIB Fact Check\", \"@PIBFactCheck\", 583, 31, \"2019/12/19\"], [\"Revista Mongolia\", \"@revistamongolia\", 948, 3659, \"2012/01/27\"], [\"Amitabh Bachchan\", \"@SrBachchan\", 77363, 1803, \"2010/05/18\"], [\"Sachin Yadav\", \"@SachinYadavRJD\", 221, 675, \"2017/12/20\"], [\"Ignacio Pereira\", \"@ignaciopereira\", 932, 399, \"2010/03/06\"], [\"Jerome Rodrigues Officiel\", \"@J_Rodrigues_Off\", 68, 236, \"2019/01/12\"], [\"Emerald Robinson \\u271d\\ufe0f\", \"@EmeraldRobinson\", 6524, 8776, \"2015/10/18\"], [\"Guardia Civil \\ud83c\\uddea\\ud83c\\uddf8\", \"@guardiacivil\", 463, 288, \"2011/05/09\"], [\"Candace Owens\", \"@RealCandaceO\", 27640, 26, \"2017/06/23\"], [\"Ministry of Health\", \"@MoHFW_INDIA\", 612, 192, \"2014/06/30\"], [\"Guillaume Gendron\", \"@g_gendron\", 3, 1611, \"2011/08/30\"], [\"Val Lopes\", \"@valkloples\", 55, 322, \"2018/04/09\"], [\"IFEMA\", \"@IFEMA\", 116, 7032, \"2009/07/14\"], [\"Gerardo Zamora\", \"@GZamoraSDE\", 348, 66, \"2010/10/27\"], [\"Evo Morales Ayma\", \"@evoespueblo\", 2966, 30, \"2016/04/15\"], [\"\\u0917\\u094b\\u092a\\u093e\\u0932 \\u0938\\u0928\\u093e\\u0924\\u0928\\u0940\", \"@GopalSa22721269\", 16, 6336, \"2019/09/20\"], [\"policiacibercol\", \"@policiacibercol\", 3, 106, \"2020/03/26\"], [\"A'i\", \"@aisha_yaGuda\", 571, 882, \"2018/05/04\"], [\"Martin\", \"@EspLegion\", 2, 763, \"2016/10/21\"], [\"NCDC\", \"@NCDCgov\", 11865, 384, \"2016/03/04\"], [\"UP POLICE\", \"@Uppolice\", 1429, 430, \"2013/03/16\"], [\"World Health Organization (WHO)\", \"@WHO\", 1499, 1734, \"2008/04/23\"], [\"Ministry of Health\", \"@MOH_Kenya\", 63, 661, \"2016/02/02\"], [\"Raila Odinga\", \"@RailaOdinga\", 864, 308, \"2011/05/18\"], [\"The ODM Party\", \"@TheODMparty\", 241, 80, \"2012/09/11\"], [\"Marcelo Rubens Paiva\", \"@marcelorubens\", 1779, 695, \"2009/04/10\"], [\"Ministry of Finance, Budget and National Planning\", \"@FinMinNigeria\", 831, 164, \"2017/03/17\"], [\"ARY News Live\", \"@ARYNewsApp\", 0, 794, \"2015/05/01\"], [\"The ODM Party\", \"@TheODMparty\", 106, 80, \"2012/09/11\"], [\"GDT Guardia Civil\", \"@GDTGuardiaCivil\", 232, 110, \"2010/09/09\"], [\"Guardia Civil \\ud83c\\uddea\\ud83c\\uddf8\", \"@guardiacivil\", 708, 288, \"2011/05/09\"], [\"BJP\", \"@BJP4India\", 2695, 3, \"2010/10/26\"], [\"\\u0647\\u0627\\u0634\\u0644 \\u0627\\u0644\\u0647\\u0648\\u064a\\u0634\\u0644\", \"@ourkuwait\", 10, 262, \"2019/05/19\"], [\"\\u063a\\u0627\\u0632\\u064a \\u0628\\u0646 \\u0645\\u0646\\u0635\\u0648\\u0631 \\u0627\\u0644\\u0631\\u0627\\u062c\\u062d\\u064a\", \"@gha9700\", 279, 152, \"2015/08/19\"], [\"Helder Barbalho\", \"@helderbarbalho\", 981, 1183, \"2010/06/03\"], [\"Ratan N. Tata\", \"@RNTata2000\", 160060, 35, \"2011/04/05\"], [\"Rajasthan Police\", \"@PoliceRajasthan\", 1349, 173, \"2017/09/13\"], [\"Ministry of Health\", \"@MOH_Kenya\", 101, 661, \"2016/02/02\"], [\"Rafael Hernando\", \"@Rafa_Hernando\", 1798, 969, \"2011/09/26\"], [\"Nacho Ayala\", \"@nachoayalab\", 1093, 257, \"2014/04/20\"], [\"VOX \\ud83c\\uddea\\ud83c\\uddf8\", \"@vox_es\", 1816, 1250, \"2013/11/18\"], [\"Ministerio Transportes, Movilidad y A. Urbana\", \"@mitmagob\", 2538, 354, \"2011/02/09\"], [\"Pure Michigan Girl\", \"@PureMichGirl\", 1309, 29813, \"2013/05/15\"], [\"Rodrigo Quiroga\", \"@rquiroga777\", 1148, 4089, \"2011/09/04\"], [\"Tori Sachs\", \"@Tori_Sachs\", 12, 4479, \"2010/11/22\"], [\"Jair M. Bolsonaro\", \"@jairbolsonaro\", 38814, 550, \"2010/03/31\"], [\"ICEBOY \\ud83d\\udc3c\", \"@Caleb_Waswa_\", 1971, 9049, \"2016/09/17\"], [\"Bobby Lewis\", \"@revrrlewis\", 2300, 1187, \"2014/05/09\"], [\"Baybars \\u00d6rsek\", \"@baybarsorsek\", 16, 541, \"2009/03/27\"], [\"Steve Vladeck\", \"@steve_vladeck\", 988, 3060, \"2011/09/26\"], [\"World Health Organization (WHO)\", \"@WHO\", 1186, 1734, \"2008/04/23\"], [\"Steve Vladeck\", \"@steve_vladeck\", 1971, 3060, \"2011/09/26\"], [\"TODAY\", \"@TODAYshow\", 854, 7916, \"2007/07/26\"], [\"IRSnews\", \"@IRSnews\", 1942, 133, \"2009/09/08\"], [\"\\u7f8e\\u56fd\\u4e4b\\u97f3\\u4e2d\\u6587\\u7f51\", \"@VOAChinese\", 412, 163, \"2007/08/13\"], [\"BNPB Indonesia\", \"@BNPB_Indonesia\", 327, 289, \"2011/08/01\"], [\"Aarogya Setu\", \"@SetuAarogya\", 175, 14, \"2020/04/03\"], [\"AardvarkMobileTours\", \"@aardvarkel\", 7, 702, \"2012/10/24\"], [\"takaoka\", \"@takaoka\", 148094, 2587, \"2007/04/11\"], [\"Leandro Cahn \\ud83d\\udc9a\", \"@leandrocahn\", 1648, 1219, \"2009/08/31\"], [\"Aravind\", \"@aravindcherry\", 1, 841, \"2010/02/21\"], [\"Global Times\", \"@globaltimesnews\", 273, 520, \"2009/06/22\"], [\"World Health Organization (WHO) Western Pacific\", \"@WHOWPRO\", 19, 1205, \"2015/10/05\"], [\"\\u0648\\u0643\\u0627\\u0644\\u0629 \\u062a\\u0639\\u0644\\u064a\\u0642 \\u0627\\u0644\\u062f\\u0631\\u0627\\u0633\\u0629\", \"@News_Ejazah\", 3089, 8955, \"2013/04/28\"], [\"James Todaro, MD\", \"@JamesTodaroMD\", 4425, 1606, \"2016/11/30\"], [\"BBC Politics\", \"@BBCPolitics\", 17197, 289, \"2007/01/10\"], [\"CenterForGreatApes\", \"@CFGA\", 1623, 2163, \"2009/03/28\"], [\"World Bank Kenya\", \"@WorldBankKenya\", 146, 4639, \"2013/12/13\"], [\"Governor Phil Murphy\", \"@GovMurphy\", 7021, 188, \"2018/01/04\"], [\"Elon Musk\", \"@elonmusk\", 52202, 103, \"2009/06/02\"], [\"Roop Darak BHARTIYA\", \"@iRupND\", 814, 388, \"2019/12/21\"], [\"Barack Obama\", \"@BarackObama\", 127808, 593532, \"2007/03/05\"], [\"Priorities USA\", \"@prioritiesUSA\", 100360, 68, \"2011/04/29\"], [\"PIB Fact Check\", \"@PIBFactCheck\", 183, 31, \"2019/12/19\"], [\"Jo\\u00e3o Doria\", \"@jdoriajr\", 4661, 371, \"2009/08/11\"], [\"Allison Pearson\", \"@allisonpearson\", 2863, 18003, \"2010/04/26\"], [\"Ministerio de Salud\", \"@Minsa_Peru\", 956, 3629, \"2010/04/29\"], [\"\\u0424\\u0440\\u0435\\u0434 \\u040f\\u043e\\u043d\\u0441\", \"@Freddy_AFC\", 39, 1881, \"2015/03/29\"], [\"ishaan prakash\", \"@ishaan_ANI\", 1962, 100, \"2013/06/30\"], [\"OPS/OMS Per\\u00fa\", \"@OPSOMSPeru\", 166, 1337, \"2010/05/06\"], [\"Rudy W. Giuliani\", \"@RudyGiuliani\", 1804, 460, \"2016/08/31\"], [\"Sarim malik19\", \"@Sarim192\", 0, 130, \"2019/03/06\"], [\"Luciana Borio, MD\", \"@llborio\", 1039, 352, \"2013/03/15\"], [\"Prasar Bharati News Services \\u092a\\u0940.\\u092c\\u0940.\\u090f\\u0928.\\u090f\\u0938.\", \"@PBNS_India\", 4282, 71, \"2019/04/01\"], [\"Ministry of Health\", \"@MOH_Kenya\", 106, 661, \"2016/02/02\"], [\"PIB Fact Check\", \"@PIBFactCheck\", 371, 31, \"2019/12/19\"], [\"Leo Varadkar\", \"@LeoVaradkar\", 397, 1751, \"2010/12/22\"], [\"Leo Varadkar\", \"@LeoVaradkar\", 4389, 1751, \"2010/12/22\"], [\"Houseparty\", \"@houseparty\", 29022, 14, \"2014/12/12\"], [\"Syed Rahat Naqvi\", \"@SyedRahatNaqvi\", 207, 465, \"2018/12/13\"], [\"Fenalco Nacional\", \"@FenalcoNacional\", 47, 995, \"2009/11/11\"], [\"Tedros Adhanom Ghebreyesus\", \"@DrTedros\", 6550, 1206, \"2010/09/12\"], [\"Sagar P. Kapasi\", \"@iamsagarkapasi\", 0, 94, \"2010/06/18\"], [\"Carlos Vera\", \"@CarlosVerareal\", 2126, 2939, \"2010/09/19\"], [\"Osmar Terra\", \"@OsmarTerra\", 26601, 10860, \"2009/07/01\"], [\"Hora 25\", \"@hora25\", 5362, 903, \"2008/05/17\"], [\"\\ud835\\udc05\\ud835\\udc22\\ud835\\udc27\\ud835\\udc1a\\ud835\\udc27\\ud835\\udc33\\ud835\\udc1a\\ud835\\udc2c \\u225c\", \"@Finanzas_Pharol\", 1124, 50, \"2019/07/02\"], [\"Presidencia Colombia \\ud83c\\udde8\\ud83c\\uddf4\", \"@infopresidencia\", 79, 292, \"2011/06/07\"], [\"\\u041c\\u0438\\u043d\\u0438\\u0441\\u0442\\u0435\\u0440\\u0441\\u0442\\u0432\\u043e \\u0437\\u0430 \\u0437\\u0434\\u0440\\u0430\\u0432\\u0441\\u0442\\u0432\\u043e\", \"@ZdravstvoMK\", 49, 141, \"2012/12/06\"], [\"NYTimes Communications\", \"@NYTimesPR\", 973, 1506, \"2008/08/12\"], [\"SDG2030\", \"@SDG2030\", 373, 500, \"2015/03/18\"], [\"Trump War Room\", \"@TrumpWarRoom\", 2701, 267, \"2019/03/20\"], [\"Roy Barreras\", \"@RoyBarreras\", 3244, 1687, \"2009/08/02\"], [\"Agir Gupta\", \"@agirgupta\", 0, 10, \"2015/05/07\"], [\"ASG01\", \"@rocksatish448\", 4, 43, \"2017/11/14\"], [\"Dr K K Aggarwal\", \"@DrKKAggarwal\", 37, 533, \"2010/01/03\"], [\"Pradeep Dwivedi\\u00ae\", \"@PradeepDwivedi\", 9, 2022, \"2009/03/26\"], [\"MOFA\", \"@MOFAkr_eng\", 53, 511, \"2010/10/18\"], [\"Grupo M\\u00e9mora\", \"@GrupoMemora\", 4, 428, \"2012/07/03\"], [\"\\ud83c\\uddee\\ud83c\\uddf3 Nation 1st \\ud83d\\udd49\\ud83d\\udea9\", \"@Nation_is1st\", 1, 4826, \"2015/01/03\"], [\"Assam Police\", \"@assampolice\", 424, 118, \"2015/08/05\"], [\"Geri Cuba\", \"@GerardoCuba1986\", 5, 400, \"2018/10/11\"], [\"Jignesh\", \"@thisisjignesh\", 289, 1475, \"2017/07/10\"], [\"Osmar Terra\", \"@OsmarTerra\", 0, 10860, \"2009/07/01\"], [\"Candace Owens\", \"@RealCandaceO\", 14130, 26, \"2017/06/23\"], [\"Salim Mattar\", \"@salimmattarBR\", 1896, 80, \"2019/10/21\"], [\"World Health Organization (WHO)\", \"@WHO\", 1473, 1734, \"2008/04/23\"], [\"badly-drawn bee \\ud83d\\udc1d\", \"@soapachu\", 40925, 7804, \"2009/02/17\"], [\"Juan Manuel Gal\\u00e1n\", \"@juanmanuelgalan\", 378, 15801, \"2009/04/14\"], [\"SALUD M\\u00e9xico\", \"@SSalud_mx\", 95, 237, \"2010/04/12\"], [\"\\u062f\\u0627\\u0631 \\u0627\\u0644\\u0625\\u0641\\u062a\\u0627\\u0621 \\u0627\\u0644\\u0645\\u0635\\u0631\\u064a\\u0629 \\ud83c\\uddea\\ud83c\\uddec\", \"@EgyptDarAlIfta\", 3220, 3, \"2015/01/05\"], [\"Cameron Kyle-Sidell, MD\", \"@cameronks\", 73, 174, \"2011/04/18\"], [\"Inquirer\", \"@inquirerdotnet\", 152, 1827, \"2008/07/16\"], [\"Elliot Alderson\", \"@fs0c131y\", 347, 3792, \"2015/06/10\"], [\"Live Law\", \"@LiveLawIndia\", 664, 1100, \"2013/03/09\"], [\"Ignacio Pereira\", \"@ignaciopereira\", 177, 399, \"2010/03/06\"], [\"Noguchi Memorial Institute for Medical Research\", \"@NMIMR_UG\", 1830, 59, \"2018/08/10\"], [\"Rodrigo Maia\", \"@RodrigoMaia\", 22918, 621, \"2009/04/25\"], [\"\\ud83c\\udf80Makhumaloo\\ud83c\\udf80\", \"@Tk0606khumz\", 19, 7260, \"2019/09/11\"], [\"MinSaludCol\", \"@MinSaludCol\", 2579, 814, \"2011/09/11\"], [\"\\u00c1lvaro Uribe V\\u00e9lez\", \"@AlvaroUribeVel\", 13394, 3637, \"2009/07/29\"], [\"HomeAffairsSA\", \"@HomeAffairsSA\", 118, 1740, \"2011/06/30\"], [\"Alexandre Shazzam\", \"@alefrota77\", 315, 729, \"2019/08/25\"], [\"WAHO | OOAS\", \"@OoasWaho\", 16, 279, \"2016/02/18\"], [\"Brit Hume\", \"@brithume\", 31722, 838, \"2010/02/07\"], [\"Rahul Kanwal\", \"@rahulkanwal\", 22201, 4098, \"2009/09/19\"], [\"IMSS Jalisco\", \"@imssjalcontigo\", 123, 736, \"2014/06/05\"], [\"Ministry of Health\", \"@MOH_Kenya\", 64, 661, \"2016/02/02\"], [\"Inquirer\", \"@inquirerdotnet\", 32, 1827, \"2008/07/16\"], [\"El pollo\", \"@elpollocabreado\", 2, 142, \"2011/05/19\"], [\"WAHO | OOAS\", \"@OoasWaho\", 19, 279, \"2016/02/18\"], [\"Tori Sachs\", \"@Tori_Sachs\", 4478, 4479, \"2010/11/22\"], [\"NCDC\", \"@NCDCgov\", 4690, 384, \"2016/03/04\"], [\"\\u062f\\u0627\\u0631 \\u0627\\u0644\\u0625\\u0641\\u062a\\u0627\\u0621 \\u0627\\u0644\\u0645\\u0635\\u0631\\u064a\\u0629 \\ud83c\\uddea\\ud83c\\uddec\", \"@EgyptDarAlIfta\", 1122, 3, \"2015/01/05\"], [\"IMSS\", \"@Tu_IMSS\", 13278, 34641, \"2009/08/26\"], [\"Andrew Lawrence\", \"@ndrew_lawrence\", 477, 3431, \"2013/02/28\"], [\"Miyerlandi Torres Agredo\", \"@MiyerTorresA\", 63, 339, \"2013/09/16\"], [\"Jo\\u00e3o Doria\", \"@jdoriajr\", 721, 371, \"2009/08/11\"], [\"NDTV\", \"@ndtv\", 786, 15, \"2009/05/01\"], [\"World Health Organization (WHO) Western Pacific\", \"@WHOWPRO\", 22, 1205, \"2015/10/05\"], [\"World Health Organization (WHO) Western Pacific\", \"@WHOWPRO\", 26, 1205, \"2015/10/05\"], [\"AFP News Agency\", \"@AFP\", 385, 611, \"2011/09/27\"], [\"SheDecides Philippines\", \"@SheDecidesPH\", 2, 107, \"2020/02/24\"], [\"SINAG\", \"@csspsinag\", 15, 113, \"2015/04/22\"], [\"Sarah Elago\", \"@sarahelago\", 60, 1559, \"2010/01/08\"], [\"Ministerio de Sanidad\", \"@sanidadgob\", 140, 689, \"2010/12/30\"], [\"Salud P\\u00fablica\", \"@SaludPublicaEs\", 1180, 7, \"2014/10/10\"], [\"Salud P\\u00fablica\", \"@SaludPublicaEs\", 1547, 7, \"2014/10/10\"], [\"Ministerio de Sanidad\", \"@sanidadgob\", 142, 689, \"2010/12/30\"], [\"Sarah Elago\", \"@sarahelago\", 306, 1559, \"2010/01/08\"], [\"SGG Edom\\u00e9x\", \"@SGGEdomex\", 21, 566, \"2011/09/16\"], [\"Nadine Witkowski\", \"@witkowski_nad\", 109, 359, \"2016/01/19\"], [\"D.Kimathi University\", \"@DeKUTkenya\", 10, 463, \"2013/09/20\"], [\"Jean-Michel Blanquer\", \"@jmblanquer\", 2707, 6525, \"2011/08/22\"], [\"Minist\\u00e9rio da Sa\\u00fade\", \"@minsaude\", 46250, 486, \"2009/05/04\"], [\"Naftali Bennett \\u05d1\\u05e0\\u05d8\", \"@naftalibennett\", 711, 688, \"2008/02/07\"], [\"Fran\\u00e7ois Legault\", \"@francoislegault\", 1147, 157, \"2011/03/04\"], [\"State House Kenya\", \"@StateHouseKenya\", 843, 215, \"2011/08/30\"], [\"Tyrone_gawa\", \"@gawa_tyrone\", 2, 2281, \"2009/03/22\"], [\"CMO Maharashtra\", \"@CMOMaharashtra\", 2275, 99, \"2014/07/01\"], [\"Minist\\u00e9rio da Sa\\u00fade\", \"@minsaude\", 1093, 486, \"2009/05/04\"], [\"Dan Patrick\", \"@DanPatrick\", 428, 827, \"2008/11/24\"], [\"Nimra\", \"@smokyswaggin\", 4004, 45, \"2013/11/27\"], [\"CP Mumbai Police\", \"@CPMumbaiPolice\", 10169, 21, \"2015/12/16\"], [\"Sonam Mahajan\", \"@AsYouNotWish\", 4293, 38, \"2011/07/25\"], [\"RanveerAulakh33468 - \\u0915\\u093f\\u0938\\u093e\\u0928 \\u092e\\u091c\\u0926\\u0942\\u0930 \\u090f\\u0915\\u0924\\u093e \\u091c\\u093f\\u0928\\u094d\\u0926\\u093e\\u092c\\u093e\\u0926\", \"@aulakh33468\", 0, 1653, \"2020/02/24\"], [\"Narendra Modi\", \"@narendramodi\", 258756, 2354, \"2009/01/10\"], [\"newschecker.in\", \"@NewscheckerIn\", 26, 242, \"2019/02/14\"], [\"James Cook\", \"@BBCJamesCook\", 3096, 1775, \"2008/10/28\"], [\"Ministry of Health- Uganda\", \"@MinofHealthUG\", 585, 414, \"2014/11/18\"], [\"Matteo Salvini\", \"@matteosalvinimi\", 5051, 2007, \"2011/03/23\"], [\"Giorgia Meloni \\ud83c\\uddee\\ud83c\\uddf9 \\u0646\", \"@GiorgiaMeloni\", 3752, 906, \"2010/04/07\"], [\"Francisco Mu\\u00f1oz\", \"@panchorgl\", 104, 1655, \"2007/07/27\"], [\"Naftali Bennett \\u05d1\\u05e0\\u05d8\", \"@naftalibennett\", 339, 688, \"2008/02/07\"], [\"Mehrunnissa Khan\", \"@KhanMehrunnissa\", 4, 12, \"2020/02/16\"], [\"7NEWS Sydney\", \"@7NewsSydney\", 73, 179, \"2010/06/17\"], [\"Ministry of Health\", \"@MOH_Kenya\", 588, 661, \"2016/02/02\"], [\"Department of Health and Social Care\", \"@DHSCgovuk\", 365, 852, \"2009/05/05\"], [\"Santiago Cafiero\", \"@SantiCafiero\", 807, 526, \"2009/05/26\"], [\"Medanta\", \"@medanta\", 296, 3045, \"2009/11/18\"], [\"Mar\\u00eda Luisa Melo\", \"@MLMelo\", 435, 3703, \"2009/08/27\"], [\"Matt McCarthy\", \"@DrMattMcCarthy\", 46843, 139, \"2013/09/14\"], [\"Johns Hopkins University\", \"@JohnsHopkins\", 604, 4889, \"2008/04/19\"], [\"PharmaMar\", \"@PhrmMar\", 286, 2040, \"2015/01/29\"], [\"Troll Memes\", \"@troll_Memes09\", 218, 568, \"2017/04/05\"], [\"Alfredo Rangel\", \"@AlRangelS\", 11664, 753, \"2010/08/04\"], [\"Ministry of Health\", \"@MOH_Kenya\", 115, 661, \"2016/02/02\"], [\"PIB Fact Check\", \"@PIBFactCheck\", 876, 31, \"2019/12/19\"], [\"Andr\\u00e9s Manuel\", \"@lopezobrador_\", 15796, 256, \"2009/10/13\"], [\"Fahrettin Altun\", \"@fahrettinaltun\", 41175, 1138, \"2018/02/23\"], [\"Talisson Ferreira\", \"@talissondsf\", 667, 2653, \"2018/04/04\"], [\"PP Jain INC\", \"@pppjain\", 3, 362, \"2010/03/02\"], [\"Chayan Chatterjee\", \"@Satyanewshi\", 1136, 262, \"2016/07/13\"], [\"Abhishek Srivastava\", \"@plutokingsize\", 11, 96, \"2010/01/06\"], [\"\\u0e01\\u0e23\\u0e30\\u0e17\\u0e23\\u0e27\\u0e07\\u0e2a\\u0e32\\u0e18\\u0e32\\u0e23\\u0e13\\u0e2a\\u0e38\\u0e02\", \"@pr_moph\", 98, 494, \"2010/05/14\"], [\"OMS Alg\\u00e9rie\", \"@OMS_ALGERIE\", 59, 90, \"2016/06/27\"], [\"\\u092a\\u0940\\u0906\\u0908\\u092c\\u0940 \\u0939\\u093f\\u0902\\u0926\\u0940\", \"@PIBHindi\", 1966, 118, \"2015/01/29\"], [\"\\u0627\\u0644\\u0645\\u062c\\u0644\\u0633\", \"@Almajlliss\", 146, 0, \"2012/02/13\"], [\"Didier Raoult\", \"@raoult_didier\", 47809, 14, \"2020/03/24\"], [\"\\ud83c\\udf1fSONIA \\u2728 ORGANA\\ud83c\\udf1f\", \"@AINOSvp\", 64, 442, \"2011/03/06\"], [\"Stefano Pontecorvo\", \"@pontecorvoste\", 1180, 1790, \"2015/10/27\"], [\"Tedros Adhanom Ghebreyesus\", \"@DrTedros\", 4573, 1206, \"2010/09/12\"], [\"loneWolf\", \"@Aj6ix9ine\", 9, 1720, \"2019/02/14\"], [\"R\\u00e1dio CBN\", \"@CBNoficial\", 18542, 206, \"2012/08/28\"], [\"Susanta Nanda IFS\", \"@susantananda3\", 4978, 349, \"2018/01/03\"], [\"Missouri DESE\", \"@MOEducation\", 361, 1792, \"2010/11/16\"], [\"ANI\", \"@ANI\", 430, 0, \"2011/08/16\"], [\"IRSnews\", \"@IRSnews\", 4288, 133, \"2009/09/08\"], [\"\\u062f\\u0627\\u0631 \\u0627\\u0644\\u0625\\u0641\\u062a\\u0627\\u0621 \\u0627\\u0644\\u0645\\u0635\\u0631\\u064a\\u0629 \\ud83c\\uddea\\ud83c\\uddec\", \"@EgyptDarAlIfta\", 368, 3, \"2015/01/05\"], [\"DIRCO South Africa\", \"@DIRCO_ZA\", 35, 4284, \"2015/01/28\"], [\"Spokesperson, Ministry of Home Affairs\", \"@PIBHomeAffairs\", 6376, 135, \"2016/07/13\"], [\"Instituto de Salud Carlos III (ISCIII)\", \"@SaludISCIII\", 23, 525, \"2019/04/13\"], [\"World Health Organization Philippines\", \"@WHOPhilippines\", 527, 488, \"2013/11/27\"], [\"Tedros Adhanom Ghebreyesus\", \"@DrTedros\", 1139, 1206, \"2010/09/12\"], [\"CDC\", \"@CDCgov\", 612, 269, \"2010/05/21\"], [\"Global Times\", \"@globaltimesnews\", 2939, 520, \"2009/06/22\"], [\"Emilio Morenatti\", \"@EmilioMorenatti\", 872, 533, \"2011/02/20\"], [\"Lijian Zhao \\u8d75\\u7acb\\u575a\", \"@zlj517\", 6813, 174813, \"2010/05/08\"], [\"Embajada de Cuba en el Per\\u00fa\", \"@EmbaCubaPeru\", 49, 1221, \"2014/08/20\"], [\"Olivier V\\u00e9ran\", \"@olivierveran\", 37764, 462, \"2012/06/05\"], [\"Universit\\u00e4t Wien\", \"@univienna\", 802, 1720, \"2013/02/07\"], [\"BAST - Sound Therapy\", \"@BASoundTherapy\", 4, 914, \"2016/08/31\"], [\"Rebecca Alitwala Kadaga\", \"@RebeccaKadagaUG\", 855, 209, \"2019/01/15\"], [\"Faheem Younus, MD\", \"@FaheemYounus\", 23001, 445, \"2011/10/12\"], [\"Giuseppe Conte\", \"@GiuseppeConteIT\", 17617, 135, \"2018/05/24\"], [\"Guardia Civil \\ud83c\\uddea\\ud83c\\uddf8\", \"@guardiacivil\", 442, 288, \"2011/05/09\"], [\"LIBRESYLOKOS.NET\", \"@LIBRESYLOKOS\", 377, 234, \"2009/07/20\"], [\"PDH Guatemala\", \"@PDHgt\", 44, 520, \"2013/09/23\"], [\"Comite Carapungo\", \"@CarapungoComite\", 19, 368, \"2017/08/30\"], [\"\\ud835\\udcd1\\ud835\\udcf2\\ud835\\udcf7\\ud835\\udcfd-\\ud835\\udcd4-\\ud835\\udcd7\\ud835\\udcea\\ud835\\udd00\\ud835\\udcea \\u0628\\u0646\\u062a\\u0650 \\u062d\\u0648\\u0627\", \"@zTweeples\", 30, 9, \"2020/01/28\"], [\"General Heleno\", \"@gen_heleno\", 68310, 49, \"2019/08/19\"], [\"Alejo Miranda de Larra\", \"@AlejoMiranda\", 163, 1646, \"2009/01/04\"], [\"Ayuntamiento de Adra\", \"@AytoAdra\", 0, 87, \"2015/11/18\"], [\"Jimina\", \"@Jimina_Sabadu\", 2091, 1804, \"2007/03/12\"], [\"Valerio Capraro\", \"@ValerioCapraro\", 33621, 194, \"2013/09/12\"], [\"Er. A N Ansari.\", \"@ErANAnsari\", 0, 2019, \"2017/06/02\"], [\"Jimina\", \"@Jimina_Sabadu\", 39, 1804, \"2007/03/12\"], [\"OjoP\\u00fablico\", \"@Ojo_Publico\", 61, 470, \"2014/06/22\"], [\"Ga\\u00ebl Hurlimann\", \"@gaelhurlimann\", 100, 1363, \"2009/04/27\"], [\"Hassaan Niazi\", \"@HniaziISF\", 12, 270, \"2010/04/09\"], [\"Te\\u00f3filo Borrallo\", \"@Teofilo1952\", 3, 11392, \"2010/11/17\"], [\"raj\", \"@raj2jas\", 1, 2213, \"2009/04/14\"], [\"Government of Rajasthan\", \"@RajGovOfficial\", 456, 24, \"2016/10/12\"], [\"Ayuntamiento de Calahorra\", \"@aytocalahorra\", 4, 610, \"2012/02/13\"], [\"Joe Biden\", \"@JoeBiden\", 81644, 46, \"2007/03/11\"], [\"Ministry of Health- Uganda\", \"@MinofHealthUG\", 2160, 414, \"2014/11/18\"], [\"Michael Welling\", \"@WellingMichael\", 27786, 19295, \"2011/08/19\"], [\"ENACOM\", \"@ENACOMArgentina\", 1323, 765, \"2013/12/17\"], [\"kmario\", \"@kmario\", 2039, 2079, \"2008/04/28\"], [\"\\u2734\\ufe0f \\u1662\\u0e04\\u13c1\\u1f36\\u0586\\u0570\\u0e04 \\u2734\\ufe0f ~ \\ud83d\\udc69\\u200d\\u2695\\ufe0f\\u2695\\ufe0f\\ud83d\\udcfb \\ud83e\\udd28 \\ud83e\\uddd0\", \"@manisha__gupta\", 13, 588, \"2011/07/31\"], [\"La Moncloa\", \"@desdelamoncloa\", 788, 195, \"2009/07/20\"], [\"Ministry of Health\", \"@MOH_Kenya\", 135, 661, \"2016/02/02\"], [\"#GetTalkingwithEsther\", \"@EstherIjewere\", 959, 7916, \"2010/08/21\"], [\"Emilys Yuritza\", \"@Emilys4F\", 1, 889, \"2020/03/22\"], [\"Fredys Liendo\", \"@fredysliendo\", 0, 305, \"2010/04/19\"], [\"Alfons L\\u00f3pez Tena\", \"@alfonslopeztena\", 3921, 18199, \"2011/06/02\"], [\"ADG PI - INDIAN ARMY\", \"@adgpi\", 2278, 111, \"2013/02/28\"], [\"Ministry of Health\", \"@MOH_Kenya\", 89, 661, \"2016/02/02\"], [\"Ministry of Health\", \"@MOH_Kenya\", 68, 661, \"2016/02/02\"], [\"CMO Maharashtra\", \"@CMOMaharashtra\", 10058, 99, \"2014/07/01\"], [\"Minist\\u00e9rio da Economia\", \"@MinEconomia\", 941, 390, \"2010/11/17\"], [\"MinSaludCol\", \"@MinSaludCol\", 9240, 814, \"2011/09/11\"], [\"Mumbai Police\", \"@MumbaiPolice\", 3333, 30, \"2015/12/16\"], [\"ONU M\\u00e9xico\", \"@ONUMX\", 27, 834, \"2010/11/30\"], [\"Cruz Roja Mexicana IAP\", \"@CruzRoja_MX\", 22, 806, \"2010/02/14\"], [\"Madman. \\u0939\\u0948\\u0926\\u0930 \\u0915\\u093e \\u092c\\u093e\\u092a\", \"@MadMG61\", 3, 201, \"2019/09/13\"], [\"\\u0646\\u0627\\u0635\\u0631 \\u0686\\u0646\\u06cc\\u0648\\u0679\\u06cc\", \"@_Chinioty\", 373, 73, \"2013/05/17\"], [\"\\u0915\\u0941\\u0902\\u0926\\u093e \\u0915\\u0935\\u0933\\u0947\\u0915\\u0930...( K.K.)\", \"@kundakavelkar\", 146, 386, \"2015/05/04\"], [\"Uber Kenya\", \"@uber_kenya\", 35, 2492, \"2014/12/18\"], [\"Gioconda San Blas\", \"@daVinci1412\", 622, 491, \"2012/01/17\"], [\"Andrew Cuomo\", \"@NYGovCuomo\", 34878, 622, \"2010/12/30\"], [\"NBVC\", \"@NBVCCalifornia\", 59, 106, \"2012/04/20\"], [\"Habibies\", \"@Habibies\", 678, 672, \"2009/09/30\"], [\"ANI\", \"@ANI\", 999, 0, \"2011/08/16\"], [\"Amitabh Bachchan\", \"@SrBachchan\", 11141, 1803, \"2010/05/18\"], [\"covid19indiaorg\", \"@covid19indiaorg\", 60, 2, \"2020/03/19\"], [\"Kiran Subedi\", \"@KiranSu11082143\", 0, 8, \"2020/03/22\"], [\"Extinction Rebellion\", \"@ExtinctionR\", 3274, 24457, \"2018/07/19\"], [\"Amir Khan\", \"@amirkingkhan\", 88834, 592, \"2009/06/10\"], [\"Amitabh Bachchan\", \"@SrBachchan\", 6277, 1803, \"2010/05/18\"], [\"PIB Fact Check\", \"@PIBFactCheck\", 1096, 31, \"2019/12/19\"], [\"MinSaludCol\", \"@MinSaludCol\", 3537, 814, \"2011/09/11\"], [\"Extinction Rebellion UK \\ud83c\\udf0d\", \"@XRebellionUK\", 126, 1500, \"2019/04/29\"], [\"Dr Zweli Mkhize\", \"@DrZweliMkhize\", 2562, 38576, \"2017/03/22\"], [\"CHU de Bordeaux\", \"@CHUBordeaux\", 215, 1212, \"2013/09/16\"], [\"CDC\", \"@CDCgov\", 6096, 269, \"2010/05/21\"], [\"Hussam Alhaj\", \"@HussamAlhaj4\", 3057, 330, \"2017/05/14\"], [\"Junta de Andaluc\\u00eda\", \"@AndaluciaJunta\", 29, 3765, \"2011/10/03\"], [\"Osmar Terra\", \"@OsmarTerra\", 20368, 10859, \"2009/07/01\"], [\"World Health Organization Philippines\", \"@WHOPhilippines\", 300, 488, \"2013/11/27\"], [\"Joe Biden\", \"@JoeBiden\", 5575, 46, \"2007/03/11\"], [\"Jon Snow\", \"@jonsnowC4\", 9492, 616, \"2010/03/31\"], [\"STIB-MIVB\", \"@STIBMIVB\", 4716, 2213, \"2009/05/27\"], [\"Tancredi Palmeri\", \"@tancredipalmeri\", 890, 2359, \"2010/07/17\"], [\"Hua Chunying \\u534e\\u6625\\u83b9\", \"@SpokespersonCHN\", 2530, 153, \"2019/10/14\"], [\"Stanford University\", \"@Stanford\", 546, 523, \"2008/12/11\"], [\"Prof. Akiko Iwasaki\", \"@VirusesImmunity\", 12951, 1715, \"2017/05/16\"], [\"Cristiano Ronaldo\", \"@Cristiano\", 181530, 56, \"2010/06/14\"], [\"wilfredo casasola\", \"@wilfredocasaso2\", 1, 35, \"2020/03/01\"], [\"eli\", \"@clairesjam\", 7111, 630, \"2010/10/15\"], [\"Imroz Rahi (J\\u0170\\u0145\\u00ce\\u00d8\\u0158)\", \"@ImrozRahi3\", 5, 808, \"2020/01/23\"], [\"MedUni Wien\", \"@MedUni_Wien\", 6965, 182, \"2011/06/20\"], [\"MedUni Wien\", \"@MedUni_Wien\", 966, 182, \"2011/06/20\"], [\"CHU de Toulouse\", \"@CHUdeToulouse\", 39, 1704, \"2014/07/21\"], [\"Foot Mercato\", \"@footmercato\", 8195, 447, \"2010/12/21\"], [\"Filipe Caetano\", \"@filicaetano\", 500, 907, \"2007/04/03\"], [\"Mari\\u00e1n Garc\\u00eda\", \"@boticariagarcia\", 49, 1212, \"2011/12/31\"], [\"Juniverse\\u2122\", \"@jup1897\", 561, 454, \"2013/11/20\"], [\"Kristof Terreur\", \"@HLNinEngeland\", 547, 991, \"2013/01/15\"], [\"NCDC\", \"@NCDCgov\", 212, 384, \"2016/03/04\"], [\"Pop Crave\", \"@PopCrave\", 31119, 2762, \"2015/12/09\"], [\"Catherine Gast\\u00e9\", \"@catherinegaste\", 99, 12723, \"2009/11/27\"], [\"Polic\\u00eda Nacional\", \"@policia\", 338, 0, \"2009/03/11\"], [\"Ana\\u00efs Martinez\", \"@Naismtz7\", 0, 1720, \"2017/10/12\"], [\"dirtydude\", \"@jmdu91290\", 2, 459, \"2015/06/02\"], [\"Polic\\u00eda Nacional\", \"@policia\", 609, 0, \"2009/03/11\"], [\"Osornator\", \"@Osornator\", 0, 347, \"2011/04/08\"], [\"Yolanda Velez\", \"@yovelezarcelay\", 721, 378, \"2014/11/03\"], [\"MDS\", \"@MDSwenson\", 16, 145, \"2017/03/10\"], [\"PLOMO PAREJO\", \"@plomoparejo\", 1084, 1193, \"2009/09/28\"], [\"Sergio Burstein\", \"@SLBurstein\", 109310, 316, \"2012/01/23\"], [\"PIB Fact Check\", \"@PIBFactCheck\", 335, 31, \"2019/12/19\"], [\"Delegaci\\u00f3n del Gobierno en Canarias\", \"@DgCanarias\", 167, 363, \"2016/01/28\"], [\"Aleksandra W\\u00f3jcicka \\ud83c\\uddf5\\ud83c\\uddf1\\u271d\\ufe0f\\ud83d\\udcaf#BabiesLivesMatter\\ud83c\\uddf5\\ud83c\\uddf1\", \"@alexja25\", 1436, 1437, \"2014/07/27\"], [\"TCS Noticias\", \"@tcsnoticias\", 1784, 948, \"2010/08/24\"], [\"Ministerio Defensa\", \"@MindefArg\", 77, 154, \"2015/12/15\"], [\"Mzwandile Masina\", \"@mzwandileMasina\", 743, 1736, \"2012/04/29\"], [\"Nation Breaking News\", \"@NationBreaking\", 1453, 27, \"2013/09/05\"], [\"Alvise P\\u00e9rez\", \"@Alvisepf\", 5528, 2678, \"2011/03/08\"], [\"PIB Fact Check\", \"@PIBFactCheck\", 256, 31, \"2019/12/19\"], [\"PIB Fact Check\", \"@PIBFactCheck\", 193, 31, \"2019/12/19\"], [\"Gaurav Gupta\", \"@BBMPAdmn\", 77, 28, \"2015/04/22\"], [\"Azam Jamil\", \"@AzamJamil53\", 923, 782, \"2017/03/09\"], [\"Gregory Rigano\", \"@RiganoESQ\", 14854, 845, \"2018/06/06\"], [\"The Hill\", \"@thehill\", 9993, 276, \"2007/03/22\"], [\"Jansampark CG\", \"@DPRChhattisgarh\", 13, 53, \"2014/02/24\"], [\"Citizen TV Kenya\", \"@citizentvkenya\", 33, 156, \"2009/08/31\"], [\"CRTVweb\", \"@CRTV_web\", 117, 2398, \"2016/05/04\"], [\"Justin Trudeau\", \"@JustinTrudeau\", 14905, 942, \"2008/03/30\"], [\"LIBRESYLOKOS.NET\", \"@LIBRESYLOKOS\", 528, 234, \"2009/07/20\"], [\"WA National Guard\", \"@WANationalGuard\", 2831, 1778, \"2010/06/02\"], [\"Vicky Dehaene\", \"@womandream\", 56, 361, \"2009/07/21\"], [\"Pooja Tibdewal\", \"@tibdewalpooja\", 1, 197, \"2010/07/29\"], [\"Jim Bianco\", \"@biancoresearch\", 3560, 933, \"2010/09/08\"], [\"infocov\", \"@infocov_stats\", 0, 45, \"2020/03/18\"], [\"Napol\\u00e9on\", \"@tprincedelamour\", 2819, 1078, \"2012/05/05\"], [\"Dr. Edsel Salvana\", \"@EdselSalvana\", 135880, 345, \"2015/04/04\"], [\"Binod Kumar.\", \"@binodkumar999\", 6, 3529, \"2014/12/22\"], [\"Defence Forces Corps of Engineers\", \"@DF_Engineers\", 496, 128, \"2019/01/04\"], [\"\\u00d3glaigh na h\\u00c9ireann\", \"@defenceforces\", 501, 1567, \"2009/09/20\"], [\"\\u2623\\ufe0fCoronavirus\\ud83e\\uddecCOVID-19\\u2623\\ufe0fSTEM\", \"@CoronavirusSTEM\", 57, 806, \"2020/02/08\"], [\"Jonathan Hoffman\", \"@ChiefPentSpox45\", 2505, 37, \"2017/05/08\"], [\"Muhammad sarwar khan\", \"@Muhamma20827944\", 0, 237, \"2016/06/04\"], [\"Victoria Police\", \"@VictoriaPolice\", 605, 315, \"2008/10/07\"], [\"PIB Fact Check\", \"@PIBFactCheck\", 2839, 31, \"2019/12/19\"], [\"AFP News Agency\", \"@AFP\", 77, 611, \"2011/09/27\"], [\"PIB Fact Check\", \"@PIBFactCheck\", 287, 31, \"2019/12/19\"], [\"Regional Warfare \\ud83c\\udf41\", \"@Kashmir28471265\", 4, 96, \"2020/03/16\"], [\"MIDIS\", \"@MidisPeru\", 1559, 1104, \"2013/09/09\"], [\"Lord Sugar\", \"@Lord_Sugar\", 42978, 3100, \"2010/06/29\"], [\"\\u0645\\u0627\\u0632\\u0646 \\u0645\\u0648\\u0633\\u0649\", \"@mazenmousa7\", 3241, 35349, \"2013/11/27\"], [\"Edappadi K Palaniswami\", \"@CMOTamilNadu\", 1179, 57, \"2017/03/23\"], [\"Yawer.\", \"@yawerajaz4\", 10, 106, \"2018/04/13\"], [\"AMS\", \"@amstellario\", 6, 20, \"2019/12/21\"], [\"ALOKDELHI6\", \"@ALOKdelhi6\", 12, 6473, \"2014/02/14\"], [\"Dr. Tara C. Smith\", \"@aetiology\", 1614, 4962, \"2009/04/25\"], [\"KKMalaysia\\ud83c\\uddf2\\ud83c\\uddfe\", \"@KKMPutrajaya\", 4572, 97, \"2012/03/20\"], [\"KKMalaysia\\ud83c\\uddf2\\ud83c\\uddfe\", \"@KKMPutrajaya\", 5929, 97, \"2012/03/20\"], [\"ANI\", \"@ANI\", 718, 0, \"2011/08/16\"], [\"Marco Malacara\", \"@mala13slp\", 0, 2011, \"2009/12/07\"], [\"Presidencia Cuba\", \"@PresidenciaCuba\", 642, 177, \"2018/12/20\"], [\"Miguel D\\u00edaz-Canel Berm\\u00fadez\", \"@DiazCanelB\", 6510, 163, \"2018/08/02\"], [\"\\u067e\\u0627\\u06cc\\u06af\\u0627\\u0647 \\u062e\\u0628\\u0631\\u06cc \\u062c\\u0645\\u0627\\u0631\\u0627\\u0646\", \"@jamarannews\", 28, 133, \"2014/08/26\"], [\"Cruz Roja en \\u00c1lava\", \"@CruzRojaAlava\", 75, 529, \"2010/04/26\"], [\"SALUD M\\u00e9xico\", \"@SSalud_mx\", 42, 237, \"2010/04/12\"], [\"MinSaludCol\", \"@MinSaludCol\", 294, 814, \"2011/09/11\"], [\"NOTICIAS MUNDIALES SIN CENSURA\", \"@MundialesSin\", 57, 4831, \"2018/10/29\"], [\"Mahmoud Ahmadinejad\", \"@Ahmadinejad1956\", 4928, 38, \"2017/01/04\"], [\"INPS\", \"@INPS_it\", 90, 138, \"2013/07/09\"], [\"slutty spice\", \"@vL0k0\", 90, 145, \"2010/09/12\"], [\"Tom Hanks\", \"@tomhanks\", 1019115, 25, \"2009/06/24\"], [\"werner welge \\ud83c\\udde9\\ud83c\\uddea\\ud83d\\udcff\", \"@wernerwelge1\", 18, 981, \"2013/09/12\"], [\"Embajada de China en Espa\\u00f1a\", \"@ChinaEmbEsp\", 28663, 2089, \"2019/09/10\"], [\"Govern. Generalitat\", \"@govern\", 704, 112, \"2010/05/19\"], [\"Gobierno de Arag\\u00f3n\", \"@GobAragon\", 61, 469, \"2010/01/15\"], [\"Had\\u017eiPe\\u0161i\\u0107eva\", \"@allfama\", 20, 1240, \"2010/09/03\"], [\"Pablo Echenique\", \"@PabloEchenique\", 3484, 2310, \"2009/03/20\"], [\"Evo Morales Ayma\", \"@evoespueblo\", 4689, 30, \"2016/04/15\"], [\"Mayor Bill de Blasio\", \"@NYCMayor\", 10670, 1365, \"2009/01/31\"], [\"Lijian Zhao \\u8d75\\u7acb\\u575a\", \"@zlj517\", 18418, 174817, \"2010/05/08\"], [\"Jack Ma Foundation\", \"@foundation_ma\", 55847, 17, \"2017/02/06\"], [\"klaralonso\\ud83d\\udd3b\", \"@klaralonso\", 563, 943, \"2011/05/19\"], [\"eli\", \"@clairesjam\", 31667, 630, \"2010/10/15\"], [\"Irene Montero\", \"@IreneMontero\", 44649, 1975, \"2011/09/13\"], [\"Irene Montero\", \"@IreneMontero\", 4312, 1975, \"2011/09/13\"], [\"Boti Garc\\u00eda Rodrigo\", \"@btcpd\", 4394, 615, \"2011/07/12\"], [\"Andrew Cuomo\", \"@NYGovCuomo\", 1731, 622, \"2010/12/30\"], [\"Citizen TV Kenya\", \"@citizentvkenya\", 714, 156, \"2009/08/31\"], [\"actu Paris\", \"@actufrparis\", 37, 11, \"2019/06/26\"], [\"Diputaci\\u00f3n de M\\u00e1laga\", \"@diputacionMLG\", 67, 3535, \"2011/09/19\"], [\"Charlie Kirk\", \"@charliekirk11\", 31846, 200620, \"2011/05/04\"], [\"Polic\\u00eda Puente Genil\", \"@PoliciaPteGenil\", 1, 36, \"2012/12/26\"], [\"Hua Chunying \\u534e\\u6625\\u83b9\", \"@SpokespersonCHN\", 4789, 153, \"2019/10/14\"], [\"Aviator Anil Chopra\", \"@Chopsyturvey\", 137, 1336, \"2011/10/06\"], [\"Marcos da Silva (at \\ud83c\\udfe0)\", \"@markynhwz\", 0, 554, \"2014/03/08\"], [\"Ministry of Health\", \"@MOH_Kenya\", 354, 661, \"2016/02/02\"], [\"Alcald\\u00eda de Barranquilla\", \"@alcaldiabquilla\", 554, 1255, \"2010/01/16\"], [\"Joaqu\\u00edn Robles Zabal\", \"@joaquinroblesza\", 5026, 1049, \"2010/05/07\"], [\"Ministerstwo Zdrowia\", \"@MZ_GOV_PL\", 534, 1173, \"2012/01/13\"], [\"Infectious Diseases Society of Ireland\", \"@IDSIreland\", 884, 184, \"2019/04/12\"], [\"Dr Colm Henry, CCO HSE Ireland\", \"@CcoHse\", 255, 327, \"2018/10/01\"], [\"Thomas P. Bossert\", \"@TomBossert\", 4151, 907, \"2013/05/03\"], [\"Diputaci\\u00f3n de M\\u00e1laga\", \"@diputacionMLG\", 38, 3535, \"2011/09/19\"], [\"UNESPA\", \"@UNESPA\", 1196, 528, \"2011/03/29\"], [\"\\u00d3glaigh na h\\u00c9ireann\", \"@defenceforces\", 407, 1567, \"2009/09/20\"], [\"Polic\\u00eda Nacional\", \"@policia\", 7002, 0, \"2009/03/11\"], [\"ITVTanzania\", \"@ITVTANZANIA\", 42, 1, \"2012/03/21\"], [\"Spokesperson GoK\", \"@SpokespersonGoK\", 109, 777, \"2016/01/27\"], [\"Swiss Medical Group\", \"@SwissMedicalG\", 31, 355, \"2012/08/16\"], [\"J\\u00e9r\\u00e9my Paoloni\", \"@JeremyPaoloni\", 0, 1759, \"2018/07/25\"], [\"La SPA France\", \"@SPA_Officiel\", 2333, 358, \"2012/05/31\"], [\"Enfamil\", \"@Enfamil\", 17, 85, \"2009/10/01\"], [\"Armstrong\", \"@Armstrongthevdj\", 0, 166, \"2013/05/06\"], [\"Polic\\u00eda Nacional\", \"@policia\", 337, 0, \"2009/03/11\"], [\"\\u00c1rea 1 Arrixaca\", \"@AreaUnoArrixaca\", 183, 632, \"2014/06/10\"], [\"Juan Villoro\", \"@JuanVilloro56\", 3976, 91, \"2011/03/18\"], [\"Noticias Caracol\", \"@NoticiasCaracol\", 455, 1135, \"2008/12/02\"], [\"Ju EA\", \"@JuEndrino\", 36, 103403, \"2015/01/15\"], [\"Dr Alby John\", \"@albyjohnV\", 116, 622, \"2009/09/09\"], [\"\\u00d3glaigh na h\\u00c9ireann\", \"@defenceforces\", 1042, 1567, \"2009/09/20\"], [\"WHO Kenya\", \"@WHOKenya\", 10, 250, \"2017/01/19\"], [\"South African Government\", \"@GovernmentZA\", 355, 513, \"2013/06/21\"], [\"Pawe\\u0142 Piotr Bartoszek\\ud83c\\uddf5\\ud83c\\uddf1\", \"@PawelPiotr1944\", 189, 829, \"2014/03/20\"], [\"Damon\", \"@dwjm94\", 0, 264, \"2019/10/18\"], [\"Marco Rubio\", \"@marcorubio\", 251, 2483, \"2008/08/06\"], [\"\\u0634\\u0628\\u0643\\u0629 \\u0639\\u0645\\u064a\\u062f \\u0627\\u0644\\u0625\\u0645\\u0627\\u0631\\u0627\\u062a\", \"@3meed_news\", 73, 158, \"2011/11/09\"], [\"Davie Police Dept.\", \"@DaviePolice\", 40, 271, \"2011/04/13\"], [\"NYCEM - Notify NYC\", \"@NotifyNYC\", 399, 79, \"2008/09/05\"], [\"MinSaludCol\", \"@MinSaludCol\", 5974, 814, \"2011/09/11\"], [\"\\u062e\\u0627\\u0644\\u062f \\u0641\\u0647\\u062f \\u0627\\u0644\\u062d\\u0633\\u064a\\u0646\", \"@khalidfahad77\", 8, 1406, \"2013/05/08\"], [\"World Health Organization (WHO)\", \"@WHO\", 2304, 1734, \"2008/04/23\"], [\"Dr. Vivek Murthy, 21st U.S. Surgeon General\", \"@Surgeon_General\", 3469, 165, \"2012/01/04\"], [\"Morttii \\ud83e\\udd40\", \"@ROSARIOCERDARO1\", 655, 5696, \"2020/04/28\"], [\"David E Morgan\", \"@demorgang\", 13, 2082, \"2010/07/27\"], [\"Dr. Vivek Murthy, 21st U.S. Surgeon General\", \"@Surgeon_General\", 838, 165, \"2012/01/04\"], [\"Dr. Vivek Murthy, 21st U.S. Surgeon General\", \"@Surgeon_General\", 120, 165, \"2012/01/04\"], [\"V\\u00edtor Hugo\", \"@MajorVitorHugo\", 2109, 576, \"2011/07/09\"], [\"Dr. Vivek Murthy, 21st U.S. Surgeon General\", \"@Surgeon_General\", 158, 165, \"2012/01/04\"], [\"Dr. Vivek Murthy, 21st U.S. Surgeon General\", \"@Surgeon_General\", 87, 165, \"2012/01/04\"], [\"Dr. Vivek Murthy, 21st U.S. Surgeon General\", \"@Surgeon_General\", 231, 165, \"2012/01/04\"], [\"Dr. Vivek Murthy, 21st U.S. Surgeon General\", \"@Surgeon_General\", 78, 165, \"2012/01/04\"], [\"Zhulin Zhang\", \"@ZhangZhulin\", 311, 860, \"2011/12/08\"], [\"\\u8d22\\u7ecf\\u51b7\\u773c\", \"@caijinglengyan\", 436, 567, \"2016/10/31\"], [\"BOOM Live\", \"@boomlive_in\", 78, 1170, \"2014/03/16\"], [\"MinSaludCol\", \"@MinSaludCol\", 101, 814, \"2011/09/11\"], [\"Dhiyasri@123\", \"@Dhiyasri1231\", 55, 31, \"2020/01/30\"], [\"Chuck Schumer\", \"@SenSchumer\", 3546, 24551, \"2008/11/19\"], [\"Chuck Schumer\", \"@SenSchumer\", 3510, 24551, \"2008/11/19\"], [\"Chuck Schumer\", \"@SenSchumer\", 1909, 24551, \"2008/11/19\"], [\"Chuck Schumer\", \"@SenSchumer\", 3888, 24551, \"2008/11/19\"], [\"Chuck Schumer\", \"@SenSchumer\", 10228, 24551, \"2008/11/19\"], [\"Chuck Schumer\", \"@SenSchumer\", 5364, 24551, \"2008/11/19\"], [\"Chuck Schumer\", \"@SenSchumer\", 42193, 24551, \"2008/11/19\"], [\"World Health Organization Philippines\", \"@WHOPhilippines\", 351, 488, \"2013/11/27\"], [\"Raphael Rashid\", \"@koryodynasty\", 91, 846, \"2010/06/14\"], [\"Mar\\u00eda Alejandra D\\u00edaz Mar\\u00edn\", \"@MariaesPueblo\", 58, 1852, \"2018/03/01\"], [\"Chuck Schumer\", \"@SenSchumer\", 2145, 24551, \"2008/11/19\"], [\"Chris Murphy\", \"@ChrisMurphyCT\", 39753, 220, \"2010/05/31\"], [\"Ministerio de Salud\", \"@msaludpy\", 5, 4161, \"2011/09/05\"], [\"Ministry of Health\", \"@MOH_Kenya\", 17, 661, \"2016/02/02\"], [\"Mar\\u00eda Alejandra D\\u00edaz Mar\\u00edn\", \"@MariaesPueblo\", 122, 1852, \"2018/03/01\"], [\"Ministry of Health\", \"@MOH_Kenya\", 13, 661, \"2016/02/02\"], [\"iris\", \"@iris_78yq\", 62, 101, \"2018/02/18\"], [\"Jos\\u00e9 Sim\\u00e3o\", \"@jose_simao\", 6791, 133, \"2009/12/09\"], [\"Kenyatta National Hospital\", \"@KNH_hospital\", 68, 177, \"2014/05/13\"], [\"Spokesperson GoK\", \"@SpokespersonGoK\", 37, 777, \"2016/01/27\"], [\"Ministry of Health\", \"@MOH_Kenya\", 64, 661, \"2016/02/02\"], [\"WHO African Region\", \"@WHOAFRO\", 79, 583, \"2012/04/03\"], [\"Chuck Schumer\", \"@SenSchumer\", 7293, 24551, \"2008/11/19\"], [\"Chuck Schumer\", \"@SenSchumer\", 11722, 24551, \"2008/11/19\"], [\"\\u00bfPor qu\\u00e9 es tendencia?\", \"@porquetendencia\", 7439, 150, \"2018/03/12\"], [\"Prabhat \\u092a\\u094d\\u0930\\u092d\\u093e\\u0924 Kumar \\u0915\\u0941\\u092e\\u093e\\u0930\", \"@Prabhat93078075\", 1, 619, \"2018/12/14\"], [\"Shwet Suman Sharma\", \"@shwetsuman1991\", 2, 433, \"2011/11/15\"], [\"marcelo tinelli\", \"@cuervotinelli\", 864, 391, \"2012/08/29\"], [\"Federico Bal\", \"@balfederico\", 2196, 553, \"2010/04/15\"], [\"UNICEF Malaysia\", \"@myUNICEF\", 36, 538, \"2013/10/29\"], [\"WHO African Region\", \"@WHOAFRO\", 222, 583, \"2012/04/03\"], [\"\\u0645\\u062d\\u0645\\u062f \\u0628\\u0646 \\u0632\\u0627\\u064a\\u062f\", \"@MohamedBinZayed\", 925, 0, \"2012/01/22\"], [\"Cyril Ramaphosa \\ud83c\\uddff\\ud83c\\udde6 #StaySafe\", \"@CyrilRamaphosa\", 318, 7, \"2015/01/20\"], [\"WHO African Region\", \"@WHOAFRO\", 114, 583, \"2012/04/03\"], [\"Dr. Yasmin Ali Haque\", \"@DrYasminAHaque\", 35, 190, \"2017/07/14\"], [\"Zhulin Zhang\", \"@ZhangZhulin\", 11, 860, \"2011/12/08\"], [\"Bloomberg Quicktake\", \"@Quicktake\", 77, 1461, \"2011/02/15\"], [\"Molly Beck\", \"@MollyBeck\", 20, 2903, \"2012/02/16\"], [\"yanwang\", \"@yanwang10508606\", 1975, 141, \"2019/01/06\"], [\"\\u0645\\u062d\\u0645\\u062f \\u0628\\u0646 \\u0632\\u0627\\u064a\\u062f\", \"@MohamedBinZayed\", 1138, 0, \"2012/01/22\"], [\"Jennifer Zeng \\u66fe\\u931a\", \"@jenniferatntd\", 1986, 448, \"2014/01/27\"], [\"\\u30c8\\u30a5\\u30fc\\u30eb\\u3000\\u30e0\\u30cf\\u30e1\\u30c3\\u30c8\", \"@etman09\", 13718, 248, \"2009/12/30\"], [\"Cristina Pedroche\", \"@CristiPedroche\", 1396, 239, \"2010/07/14\"], [\"VOSTeuskadi\", \"@VOSTeuskadi\", 95, 865, \"2012/09/03\"], [\"Hossein Nakhli\", \"@hnakhli\", 1596, 877, \"2010/02/05\"], [\"Comunidad de Madrid\", \"@ComunidadMadrid\", 830, 632, \"2010/03/12\"], [\"VOST Comunitat Valenciana\", \"@VOSTcvalenciana\", 14, 531, \"2013/06/05\"], [\"Salud JCYL\", \"@Salud_JCYL\", 82, 23, \"2011/11/11\"], [\"WHO Indonesia\", \"@WHOIndonesia\", 69, 225, \"2010/12/15\"], [\"Protecci\\u00f3n Civil \\u00c1vila\", \"@ProteCivilAvila\", 4, 66, \"2011/10/15\"], [\"Sihame Assbague\", \"@s_assbague\", 23379, 960, \"2013/06/09\"], [\"Polic\\u00eda Local San Fernando de Henares\", \"@PoliciaLocalSFH\", 13, 225, \"2019/07/03\"], [\"Pablo de Olavide\", \"@pablodeolavide\", 48, 6094, \"2010/01/11\"], [\"Castilla-La Mancha\", \"@gobjccm\", 193, 581, \"2010/01/12\"], [\"Sihame Assbague\", \"@s_assbague\", 472, 960, \"2013/06/09\"], [\"PSOE\", \"@PSOE\", 949, 13449, \"2009/06/26\"], [\"Dipartimento Protezione Civile\", \"@DPCgov\", 2336, 112, \"2018/04/06\"], [\"David Garc\\u00eda Garc\\u00eda\", \"@OjodeThot\", 200, 1204, \"2015/10/21\"], [\"SaludMadrid\", \"@SaludMadrid\", 1905, 123, \"2018/01/18\"], [\"Alejandro\", \"@alelitooo\", 4, 731, \"2010/09/27\"], [\"Mahmoud Ahmadinejad\", \"@Ahmadinejad1956\", 1779, 38, \"2017/01/04\"], [\"Maggie Haberman\", \"@maggieNYT\", 687, 5070, \"2009/11/27\"], [\"Otto Huang \\uf8ff\", \"@OttoHuang120\", 4028, 5423, \"2015/11/29\"], [\"VOSTextremadura\", \"@VOSTextremadura\", 6, 367, \"2013/05/31\"], [\"Zoran Ruvidic\", \"@ZoranRuvidic\", 3, 325, \"2013/09/14\"], [\"World Health Organization (WHO)\", \"@WHO\", 38958, 1734, \"2008/04/23\"], [\"Isabel D\\u00edaz Ayuso\", \"@IdiazAyuso\", 11064, 10958, \"2010/05/04\"], [\"Polic\\u00eda Nacional\", \"@policia\", 481, 0, \"2009/03/11\"], [\"MinSaludCol\", \"@MinSaludCol\", 3479, 814, \"2011/09/11\"], [\"Cadena SER CLM\", \"@SERCLM\", 0, 417, \"2012/05/31\"], [\"UNICEF Kenya\", \"@UNICEFKenya\", 1, 920, \"2012/01/16\"], [\"112 Cantabria\", \"@112Cantabria\", 58, 251, \"2012/02/17\"], [\"Protecci\\u00f3n Civil Valladolid\", \"@apcvalladolid\", 87, 992, \"2010/05/19\"], [\"Eusko Jaurlaritza\", \"@Gob_eus\", 10, 79, \"2010/01/28\"], [\"New Day\", \"@NewDay\", 38, 1256, \"2013/04/23\"], [\"VOSTeuskadi\", \"@VOSTeuskadi\", 34, 865, \"2012/09/03\"], [\"Markus Wolf Romeo\", \"@MarkusWolfRomeo\", 0, 87, \"2012/08/16\"], [\"MarinellysTremamunno\", \"@Marinellys\", 85, 2728, \"2009/10/23\"], [\"Lijian Zhao \\u8d75\\u7acb\\u575a\", \"@zlj517\", 10140, 174817, \"2010/05/08\"], [\"VOSTeuskadi\", \"@VOSTeuskadi\", 12, 865, \"2012/09/03\"], [\"David A. Clarke, Jr.\", \"@SheriffClarke\", 3538, 147, \"2010/03/01\"], [\"AbogadosAdriano\", \"@AbogadosAdriano\", 18, 881, \"2016/01/17\"], [\"Congressman Greg Murphy, M.D.\", \"@RepGregMurphy\", 115, 176, \"2019/09/17\"], [\"LA RAZ\\u00d3N. CO\", \"@LaRazonCo\", 5, 2108, \"2013/09/18\"], [\"7NEWS Brisbane\", \"@7NewsBrisbane\", 238, 167, \"2009/09/15\"], [\"M. 6% \\u2764\\ufe0f\\ud83e\\udd0d\\ud83d\\udc99\\ud83c\\uddfa\\ud83c\\uddf8\", \"@igobyMdot\", 8, 3101, \"2010/08/15\"], [\"World Health Organization (WHO)\", \"@WHO\", 795, 1734, \"2008/04/23\"], [\"Zataniko\", \"@Zatanik0\", 1927, 118, \"2011/02/11\"], [\"\\u5df4\\u4e22\\u8349 Badiucao\", \"@badiucao\", 889, 13795, \"2011/03/17\"], [\"Americo De Grazia\", \"@AmericoDeGrazia\", 1250, 3469, \"2010/04/10\"], [\"AlbertoRodNews\", \"@AlbertoRodNews\", 64, 20252, \"2014/02/09\"], [\"Marcos Lima Mart\\u00ednez\", \"@Marcoslimamd\", 90, 1213, \"2013/02/03\"], [\"\\u5df4\\u4e22\\u8349 Badiucao\", \"@badiucao\", 5341, 13795, \"2011/03/17\"], [\"d-atis\\u2620\\ufe0f\", \"@detresfa_\", 236, 0, \"2012/11/17\"], [\"Dr. Maimuna Majumder\", \"@maiamajumder\", 37, 426, \"2012/09/01\"], [\"\\ud83c\\uddfa\\ud83c\\uddf8Kyle Bass\\ud83c\\uddfa\\ud83c\\uddf8\", \"@Jkylebass\", 10435, 811, \"2015/02/01\"], [\"Terrence Daniels (Captain \\ud83c\\udf40 Planet)\", \"@Terrence_STR\", 2313, 910, \"2017/02/08\"], [\"Global Times\", \"@globaltimesnews\", 1190, 520, \"2009/06/22\"], [\"Doc Bear\", \"@DocBear5\", 28, 7448, \"2019/10/06\"], [\"World Health Organization (WHO)\", \"@WHO\", 1747, 1734, \"2008/04/23\"], [\"KKMalaysia\\ud83c\\uddf2\\ud83c\\uddfe\", \"@KKMPutrajaya\", 984, 97, \"2012/03/20\"], [\"#themodi_in\", \"@themodi_in\", 2, 1709, \"2010/09/12\"], [\"\\u30af\\u30ea\\u30b9\\u4e09\\u5b85\", \"@ryouansensei\", 6383, 2777, \"2010/10/04\"], [\"Global Times\", \"@globaltimesnews\", 59, 520, \"2009/06/22\"], [\"\\u5168\\u667a\\u80dc\", \"@MgOqkzLBRPLCHyN\", 527, 76, \"2019/07/11\"], [\"\\u6a4b\\u4e0b\\u5fb9\", \"@hashimoto_lo\", 5627, 40, \"2011/02/01\"], [\"\\u067e\\u0627\\u064a\\u06af\\u0627\\u0647 \\u062e\\u0628\\u0631\\u06cc \\u0627\\u0646\\u062a\\u062e\\u0627\\u0628\", \"@Entekhab_News\", 9, 0, \"2014/07/26\"], [\"Hong Hong\", \"@honghong975\", 1002, 262, \"2017/03/18\"], [\"Ingrid Carlqvist\", \"@ingridcarlqvist\", 2, 1185, \"2010/01/21\"], [\"Kenya Airways\", \"@KenyaAirways\", 656, 7104, \"2008/12/31\"], [\"Steven Salzberg\", \"@StevenSalzberg1\", 5, 192, \"2012/08/26\"], [\"Trevor Bedford\", \"@trvrb\", 1185, 817, \"2010/12/10\"], [\"Maheen\", \"@Maheen83086711\", 3, 2443, \"2018/03/20\"], [\"World Health Organization (WHO)\", \"@WHO\", 262, 1734, \"2008/04/23\"], [\"Maheen\", \"@Maheen83086711\", 18, 2443, \"2018/03/20\"], [\"VTV CANAL 8\", \"@VTVcanal8\", 4, 523, \"2010/03/01\"], [\"Convenience Store News.\", \"@CStoreNews_\", 29, 48934, \"2010/06/17\"], [\"Chuck Schumer\", \"@SenSchumer\", 7322, 24551, \"2008/11/19\"], [\"Chuck Schumer\", \"@SenSchumer\", 8449, 24551, \"2008/11/19\"], [\"Chuck Schumer\", \"@SenSchumer\", 2025, 24551, \"2008/11/19\"], [\"Chuck Schumer\", \"@SenSchumer\", 1325, 24551, \"2008/11/19\"], [\"Chuck Schumer\", \"@SenSchumer\", 997, 24551, \"2008/11/19\"], [\"Chuck Schumer\", \"@SenSchumer\", 5887, 24551, \"2008/11/19\"], [\"Chuck Schumer\", \"@SenSchumer\", 1921, 24551, \"2008/11/19\"], [\"Angry Frustrated\", \"@AF_indian\", 1, 272, \"2015/03/31\"], [\"\\u539f\\u53e3\\u3000\\u4e00\\u535a\", \"@kharaguchi\", 322, 4065, \"2009/12/14\"], [\"\\u4f50\\u85e4\\u6b63\\u4e45\", \"@SatoMasahisa\", 3030, 38853, \"2010/02/08\"], [\"Ministerio de Sanidad\", \"@sanidadgob\", 521, 689, \"2010/12/30\"], [\"Adam Kucharski\", \"@AdamJKucharski\", 1030, 1288, \"2012/01/02\"], [\"\\ud83c\\uddf5\\ud83c\\uddea Simon Tartarotti\", \"@SimonTartarotti\", 44, 1102, \"2012/10/19\"], [\"Dan Lyons\", \"@realdanlyons\", 45, 2197, \"2008/07/18\"], [\"World Health Organization (WHO)\", \"@WHO\", 1122, 1734, \"2008/04/23\"], [\"Hidalgo Co. Health\", \"@hidalgohealth\", 71, 2, \"2009/07/13\"], [\"UNICEF Haiti\", \"@UNICEFHaiti\", 17, 937, \"2011/06/08\"], [\"Kemenkes RI\", \"@KemenkesRI\", 577, 201, \"2010/06/30\"], [\"Minist\\u00e9rio da Sa\\u00fade\", \"@minsaude\", 2993, 486, \"2009/05/04\"], [\"Kemenkes RI\", \"@KemenkesRI\", 431, 201, \"2010/06/30\"], [\"Harbhajan Turbanator\", \"@harbhajan_singh\", 9646, 147, \"2009/11/27\"], [\"Mayra Cede\\u00f1o\", \"@Mayi21298822\", 17, 88, \"2020/03/12\"], [\"Omar Garc\\u00eda V.\", \"@saomargarciavi\", 20, 626, \"2011/11/09\"], [\"Wisdoms\", \"@wordwisdoms\", 19, 381, \"2020/02/22\"], [\"boosmaster\", \"@boosmaster4\", 0, 550, \"2018/02/27\"], [\"\\u041c\\u0438\\u043d\\u0438\\u0441\\u0442\\u0435\\u0440\\u0441\\u0442\\u0432\\u043e \\u0437\\u0430 \\u0437\\u0434\\u0440\\u0430\\u0432\\u0441\\u0442\\u0432\\u043e\", \"@ZdravstvoMK\", 68, 141, \"2012/12/06\"], [\"Instituto de Salud P\\u00fablica de Chile\", \"@ispch\", 278, 732, \"2011/02/22\"], [\"Flore\\u03b7cia Jackso\\u03b7 \\u2655\", \"@Florencia_Pink\", 224, 25992, \"2009/11/04\"], [\"Annastacia Palaszczuk\", \"@AnnastaciaMP\", 75, 1244, \"2011/02/24\"], [\"Entity\", \"@oUllw40ndgQUEx3\", 2014, 495, \"2018/12/02\"], [\"Ben Rhodes\", \"@brhodes\", 18060, 1546, \"2017/01/14\"], [\"Denis Mukwege\", \"@DenisMukwege\", 81, 103, \"2012/10/02\"], [\"Jair M. Bolsonaro\", \"@jairbolsonaro\", 45520, 550, \"2010/03/31\"], [\"Ministerio de Salud y Deportes Bolivia\", \"@SaludDeportesBo\", 80, 244, \"2012/05/25\"], [\"Sarvesh Tv\", \"@SarveshTv\", 0, 94, \"2019/12/20\"], [\"Eric Topol\", \"@EricTopol\", 1411, 526, \"2009/11/01\"], [\"Ravi Vallabhaneni (Balu Deserves Bharat Ratna)\", \"@ravivallabha\", 179, 693, \"2010/04/18\"], [\"Horacio Azzolin\", \"@horacioazzolin\", 74, 1534, \"2014/03/13\"], [\"Noticias RCN\", \"@NoticiasRCN\", 22, 2457, \"2009/04/24\"], [\"L' acomod\\u00e9\", \"@MartinLerga\", 539, 153, \"2012/03/25\"], [\"\\u0906\\u0924\\u094d\\u092e\\u0928\\u093f\\u0930\\u094d\\u092d\\u0930 \\u092d\\u093e\\u0930\\u0924\", \"@aatmnirbharin\", 6, 110, \"2020/07/01\"], [\"MinSaludCol\", \"@MinSaludCol\", 1840, 814, \"2011/09/11\"], [\"nick farriella\", \"@nick_farriella\", 145, 823, \"2014/08/02\"], [\"Kevin McCarthy\", \"@GOPLeader\", 29215, 1425, \"2009/01/29\"], [\"Candida Moss\", \"@candidamoss\", 53, 1821, \"2009/06/10\"], [\"Jeff Gritchen \\ud83c\\uddfa\\ud83c\\uddf8\", \"@jeffgritchen\", 40, 1355, \"2009/04/08\"], [\"Drew Hammill\", \"@Drew_Hammill\", 151, 1472, \"2011/04/13\"], [\"Nik-Nic\", \"@nnpeoples97\", 52, 3312, \"2011/03/09\"], [\"Alex Eccleston\", \"@AventuraObscura\", 535, 870, \"2015/02/18\"], [\"James Woods\", \"@RealJamesWoods\", 39264, 4407, \"2009/09/30\"], [\"Jane Lytvynenko\", \"@JaneLytv\", 49, 6413, \"2009/08/13\"], [\"Pushpendra Kulshrestha\", \"@PuspendraTweet\", 783, 65, \"2017/04/01\"], [\"TitosVodka\", \"@TitosVodka\", 5305, 21700, \"2008/12/01\"], [\"Il Fabbricante di Chiavi \\uf8ff\", \"@lochiediame\", 138, 586, \"2020/02/08\"], [\"Shane Crotty\", \"@profshanecrotty\", 3931, 205, \"2016/03/21\"], [\"Tim Young\", \"@TimRunsHisMouth\", 13235, 39620, \"2009/04/22\"], [\"GEN\", \"@SomosGEN\", 2, 74, \"2017/06/13\"], [\"Duncan Pegg MP\", \"@DuncanPeggMP\", 50, 637, \"2014/04/23\"], [\"Rappler\", \"@rapplerdotcom\", 26, 406, \"2011/07/07\"], [\"Johns Hopkins Center for Health Security\", \"@JHSPH_CHS\", 199, 1089, \"2009/01/09\"], [\"San Francisco Chronicle\", \"@sfchronicle\", 5402, 284, \"2010/03/10\"], [\"\\u90d1\\u660e\\u54f2\", \"@Geoloong\", 22, 247, \"2015/06/07\"], [\"\\u03b1\\u0e23\\u0266 :)\", \"@ashakiiii\", 5353, 19554, \"2018/11/10\"], [\"Ministry of Health\", \"@MoHFW_INDIA\", 174, 192, \"2014/06/30\"], [\"Undoomed\", \"@Undoomed\", 60632, 1660, \"2015/05/04\"], [\"Officer Bandit \\ud83d\\udc6e\\ud83c\\udffb\\u200d\\u2640\\ufe0f\\ud83e\\udd9d \\ud83c\\uddfa\\ud83c\\uddf8\", \"@OfficerBandit\", 7059, 37, \"2018/08/02\"]], \"hovertemplate\": \"Type of tweet=false<br>Date=%{x}<br>Followers count=%{y}<br>Tweet Likes count=%{customdata[2]}<br>Name=%{customdata[0]}<br>Username=%{customdata[1]}<br>Friends count=%{customdata[3]}<br>Account created on=%{customdata[4]}<extra></extra>\", \"legendgroup\": \"false\", \"marker\": {\"color\": \"#636efa\", \"line\": {\"color\": \"DarkSlateGrey\", \"width\": 1}, \"opacity\": 0.8, \"size\": [411, 930, 8295, 1671, 117, 3054, 12909, 865, 536, 25, 370205, 425, 195, 621, 92, 3031, 242, 28, 0, 633, 8453, 128, 1148, 1625, 3913, 6187, 26, 294, 3924, 0, 26, 0, 4, 19, 41, 2881, 779, 3716, 652, 511, 355, 8570, 79869, 64, 160, 1, 2, 0, 13, 0, 2, 202, 15084, 3397, 361, 0, 28, 45, 47361, 16996, 1822, 136, 32, 26, 23, 7197, 1560, 1412, 17, 127, 4907, 335, 640, 8352, 1186, 6, 1795, 444, 316, 214, 7, 2, 202, 185, 17360, 1020, 755, 301, 236, 1, 222, 165, 1226, 6475, 218, 21148, 17, 32855, 241, 395, 8170, 449, 104, 2326, 32, 64628, 1839, 2, 6, 8666, 3, 69, 298, 84, 266, 76, 276, 55, 447, 528, 1639, 104, 345, 51, 17666, 231, 0, 131, 41288, 110, 176, 92752, 147, 290, 397, 1383, 937, 35, 225, 5487, 5, 157, 86, 0, 3862, 297, 9, 2855, 1770, 2, 59, 15541, 487, 10211, 8181, 1354, 251, 4036, 178, 745, 1829, 690, 4001, 1078, 244, 3911, 3084, 4920, 37234, 2816, 22, 116, 219, 5571, 36655, 1804, 1324, 6252, 1, 126, 0, 0, 25, 376, 11335, 960, 5913, 2527, 4602, 278, 13, 5, 6, 755, 296, 269, 33, 23650, 9, 26501, 42, 93, 13, 12, 218, 23, 940, 1459, 3, 5329, 0, 3, 0, 118, 806, 21549, 25312, 472, 0, 781, 110, 43, 103746, 57, 3, 11072, 188, 2607, 132, 7797, 3377, 142, 1438, 0, 0, 32475, 13138, 45, 7, 250, 3977, 4063, 59874, 66, 101, 609, 1609, 103, 31217, 6458, 98, 576, 16, 16, 13, 531, 1018, 28, 1461, 122, 479, 241, 507, 2558, 2769, 404, 1646, 23580, 3603, 24580, 264, 10367, 1693, 292, 14726, 291, 4514, 1031, 165, 605, 613, 13, 1916, 792, 534, 4528, 178, 976, 13, 502, 478, 0, 12, 2, 723, 2205, 11, 261734, 900, 387, 79493, 16359, 9, 201, 17016, 0, 2834, 113, 0, 49758, 6, 4656, 257, 866, 2, 1100, 1447, 292, 5192, 8035, 7, 34, 339, 136, 25031, 3248, 1845, 148, 8002, 158, 22836, 352986, 483, 5, 11, 10375, 2763, 20, 422, 352, 105, 327, 995, 9082, 5153, 451, 33041, 11372, 14844, 2219, 109, 120, 7, 2, 421, 65, 41, 2185, 8118, 185, 537, 331, 3796, 4061, 9561, 387, 753, 18, 2177, 71, 1023, 4, 822, 5555, 58, 21298, 282, 1983, 1, 2359, 27, 6231, 40593, 89, 2, 56, 271, 169, 36, 175, 6620, 48, 1133, 14, 57, 769, 84, 21, 6040, 431, 863, 380, 131, 9137, 2634, 1, 37, 590, 3027, 1389, 164, 11, 2926, 2479, 81, 2001, 15744, 9050, 78, 4, 209400, 17021, 2856, 468, 15, 803, 39808, 0, 5422, 91, 188, 435, 46, 48, 5, 5, 3, 859, 12733, 56, 6, 63, 11, 15, 505, 2, 1, 41, 474, 6, 24, 255, 25, 2009, 6378, 74, 1779, 0, 193, 27, 961, 98, 25, 27455, 579, 116, 94, 0, 12, 622, 0, 1199, 152, 56, 5382, 8542, 17, 49, 6, 8, 56, 79, 1806, 1, 174, 180, 27, 1228, 36, 3239, 4245, 4033, 18, 375, 0, 12, 304, 15, 48, 6327, 19805, 29, 619, 133, 175, 1, 0, 251, 5593, 45432, 291, 580, 256, 94, 39, 0, 21, 5500, 883, 3080, 1776, 583, 948, 77363, 221, 932, 68, 6524, 463, 27640, 612, 3, 55, 116, 348, 2966, 16, 3, 571, 2, 11865, 1429, 1499, 63, 864, 241, 1779, 831, 0, 106, 232, 708, 2695, 10, 279, 981, 160060, 1349, 101, 1798, 1093, 1816, 2538, 1309, 1148, 12, 38814, 1971, 2300, 16, 988, 1186, 1971, 854, 1942, 412, 327, 175, 7, 148094, 1648, 1, 273, 19, 3089, 4425, 17197, 1623, 146, 7021, 52202, 814, 127808, 100360, 183, 4661, 2863, 956, 39, 1962, 166, 1804, 0, 1039, 4282, 106, 371, 397, 4389, 29022, 207, 47, 6550, 0, 2126, 26601, 5362, 1124, 79, 49, 973, 373, 2701, 3244, 0, 4, 37, 9, 53, 4, 1, 424, 5, 289, 0, 14130, 1896, 1473, 40925, 378, 95, 3220, 73, 152, 347, 664, 177, 1830, 22918, 19, 2579, 13394, 118, 315, 16, 31722, 22201, 123, 64, 32, 2, 19, 4478, 4690, 1122, 13278, 477, 63, 721, 786, 22, 26, 385, 2, 15, 60, 140, 1180, 1547, 142, 306, 21, 109, 10, 2707, 46250, 711, 1147, 843, 2, 2275, 1093, 428, 4004, 10169, 4293, 0, 258756, 26, 3096, 585, 5051, 3752, 104, 339, 4, 73, 588, 365, 807, 296, 435, 46843, 604, 286, 218, 11664, 115, 876, 15796, 41175, 667, 3, 1136, 11, 98, 59, 1966, 146, 47809, 64, 1180, 4573, 9, 18542, 4978, 361, 430, 4288, 368, 35, 6376, 23, 527, 1139, 612, 2939, 872, 6813, 49, 37764, 802, 4, 855, 23001, 17617, 442, 377, 44, 19, 30, 68310, 163, 0, 2091, 33621, 0, 39, 61, 100, 12, 3, 1, 456, 4, 81644, 2160, 27786, 1323, 2039, 13, 788, 135, 959, 1, 0, 3921, 2278, 89, 68, 10058, 941, 9240, 3333, 27, 22, 3, 373, 146, 35, 622, 34878, 59, 678, 999, 11141, 60, 0, 3274, 88834, 6277, 1096, 3537, 126, 2562, 215, 6096, 3057, 29, 20368, 300, 5575, 9492, 4716, 890, 2530, 546, 12951, 181530, 1, 7111, 5, 6965, 966, 39, 8195, 500, 49, 561, 547, 212, 31119, 99, 338, 0, 2, 609, 0, 721, 16, 1084, 109310, 335, 167, 1436, 1784, 77, 743, 1453, 5528, 256, 193, 77, 923, 14854, 9993, 13, 33, 117, 14905, 528, 2831, 56, 1, 3560, 0, 2819, 135880, 6, 496, 501, 57, 2505, 0, 605, 2839, 77, 287, 4, 1559, 42978, 3241, 1179, 10, 6, 12, 1614, 4572, 5929, 718, 0, 642, 6510, 28, 75, 42, 294, 57, 4928, 90, 90, 1019115, 18, 28663, 704, 61, 20, 3484, 4689, 10670, 18418, 55847, 563, 31667, 44649, 4312, 4394, 1731, 714, 37, 67, 31846, 1, 4789, 137, 0, 354, 554, 5026, 534, 884, 255, 4151, 38, 1196, 407, 7002, 42, 109, 31, 0, 2333, 17, 0, 337, 183, 3976, 455, 36, 116, 1042, 10, 355, 189, 0, 251, 73, 40, 399, 5974, 8, 2304, 3469, 655, 13, 838, 120, 2109, 158, 87, 231, 78, 311, 436, 78, 101, 55, 3546, 3510, 1909, 3888, 10228, 5364, 42193, 351, 91, 58, 2145, 39753, 5, 17, 122, 13, 62, 6791, 68, 37, 64, 79, 7293, 11722, 7439, 1, 2, 864, 2196, 36, 222, 925, 318, 114, 35, 11, 77, 20, 1975, 1138, 1986, 13718, 1396, 95, 1596, 830, 14, 82, 69, 4, 23379, 13, 48, 193, 472, 949, 2336, 200, 1905, 4, 1779, 687, 4028, 6, 3, 38958, 11064, 481, 3479, 0, 1, 58, 87, 10, 38, 34, 0, 85, 10140, 12, 3538, 18, 115, 5, 238, 8, 795, 1927, 889, 1250, 64, 90, 5341, 236, 37, 10435, 2313, 1190, 28, 1747, 984, 2, 6383, 59, 527, 5627, 9, 1002, 2, 656, 5, 1185, 3, 262, 18, 4, 29, 7322, 8449, 2025, 1325, 997, 5887, 1921, 1, 322, 3030, 521, 1030, 44, 45, 1122, 71, 17, 577, 2993, 431, 9646, 17, 20, 19, 0, 68, 278, 224, 75, 2014, 18060, 81, 45520, 80, 0, 1411, 179, 74, 22, 539, 6, 1840, 145, 29215, 53, 40, 151, 52, 535, 39264, 49, 783, 5305, 138, 3931, 13235, 2, 50, 26, 199, 5402, 22, 5353, 174, 60632, 7059], \"sizemode\": \"area\", \"sizeref\": 2547.7875, \"symbol\": \"circle\"}, \"mode\": \"markers\", \"name\": \"false\", \"showlegend\": true, \"type\": \"scattergl\", \"x\": [\"2020-02-02T00:00:00\", \"2020-02-11T00:00:00\", \"2020-02-11T00:00:00\", \"2020-02-15T00:00:00\", \"2020-02-16T00:00:00\", \"2020-03-11T00:00:00\", \"2020-03-24T00:00:00\", \"2020-03-26T00:00:00\", \"2020-04-08T00:00:00\", \"2020-04-09T00:00:00\", \"2020-04-15T00:00:00\", \"2020-04-21T00:00:00\", \"2020-04-21T00:00:00\", \"2020-04-24T00:00:00\", \"2020-04-24T00:00:00\", \"2020-04-28T00:00:00\", \"2020-05-03T00:00:00\", \"2020-05-07T00:00:00\", \"2020-05-10T00:00:00\", \"2020-05-16T00:00:00\", \"2020-05-16T00:00:00\", \"2020-05-20T00:00:00\", \"2020-05-20T00:00:00\", \"2020-05-20T00:00:00\", \"2020-05-20T00:00:00\", \"2020-05-21T00:00:00\", \"2020-05-24T00:00:00\", \"2020-05-25T00:00:00\", \"2020-05-25T00:00:00\", \"2020-05-26T00:00:00\", \"2020-05-26T00:00:00\", \"2020-05-27T00:00:00\", \"2020-05-27T00:00:00\", \"2020-06-04T00:00:00\", \"2020-06-06T00:00:00\", \"2020-06-06T00:00:00\", \"2020-06-08T00:00:00\", \"2020-06-08T00:00:00\", \"2020-06-08T00:00:00\", \"2020-06-08T00:00:00\", \"2020-06-08T00:00:00\", \"2020-06-09T00:00:00\", \"2020-06-09T00:00:00\", \"2020-06-09T00:00:00\", \"2020-06-09T00:00:00\", \"2020-06-10T00:00:00\", \"2020-06-10T00:00:00\", \"2020-06-11T00:00:00\", \"2020-06-11T00:00:00\", \"2020-06-11T00:00:00\", \"2020-06-11T00:00:00\", \"2020-06-12T00:00:00\", \"2020-06-12T00:00:00\", \"2020-06-12T00:00:00\", \"2020-06-14T00:00:00\", \"2020-06-14T00:00:00\", \"2020-06-14T00:00:00\", \"2020-06-14T00:00:00\", \"2020-06-16T00:00:00\", \"2020-06-17T00:00:00\", \"2020-06-24T00:00:00\", \"2020-06-24T00:00:00\", \"2020-06-24T00:00:00\", \"2020-06-25T00:00:00\", \"2020-06-25T00:00:00\", \"2020-06-25T00:00:00\", \"2020-06-30T00:00:00\", \"2020-07-03T00:00:00\", \"2020-07-24T00:00:00\", \"2020-07-30T00:00:00\", \"2020-01-27T00:00:00\", \"2020-02-10T00:00:00\", \"2020-02-29T00:00:00\", \"2020-03-11T00:00:00\", \"2020-03-15T00:00:00\", \"2020-03-15T00:00:00\", \"2020-03-20T00:00:00\", \"2020-03-23T00:00:00\", \"2020-03-27T00:00:00\", \"2020-04-15T00:00:00\", \"2020-04-21T00:00:00\", \"2020-04-26T00:00:00\", \"2020-04-26T00:00:00\", \"2020-04-29T00:00:00\", \"2020-04-29T00:00:00\", \"2020-05-03T00:00:00\", \"2020-05-06T00:00:00\", \"2020-05-07T00:00:00\", \"2020-05-07T00:00:00\", \"2020-05-11T00:00:00\", \"2020-05-12T00:00:00\", \"2020-05-12T00:00:00\", \"2020-05-12T00:00:00\", \"2020-05-13T00:00:00\", \"2020-05-13T00:00:00\", \"2020-05-14T00:00:00\", \"2020-05-14T00:00:00\", \"2020-05-16T00:00:00\", \"2020-05-16T00:00:00\", \"2020-05-16T00:00:00\", \"2020-05-16T00:00:00\", \"2020-05-18T00:00:00\", \"2020-05-18T00:00:00\", \"2020-05-19T00:00:00\", \"2020-05-19T00:00:00\", \"2020-05-20T00:00:00\", \"2020-05-20T00:00:00\", \"2020-05-20T00:00:00\", \"2020-05-21T00:00:00\", \"2020-05-21T00:00:00\", \"2020-05-21T00:00:00\", \"2020-05-21T00:00:00\", \"2020-05-21T00:00:00\", \"2020-05-21T00:00:00\", \"2020-05-22T00:00:00\", \"2020-05-24T00:00:00\", \"2020-05-24T00:00:00\", \"2020-05-24T00:00:00\", \"2020-05-24T00:00:00\", \"2020-05-25T00:00:00\", \"2020-05-25T00:00:00\", \"2020-05-25T00:00:00\", \"2020-05-25T00:00:00\", \"2020-05-25T00:00:00\", \"2020-05-25T00:00:00\", \"2020-05-26T00:00:00\", \"2020-05-26T00:00:00\", \"2020-05-26T00:00:00\", \"2020-05-27T00:00:00\", \"2020-05-27T00:00:00\", \"2020-05-28T00:00:00\", \"2020-05-29T00:00:00\", \"2020-05-29T00:00:00\", \"2020-06-01T00:00:00\", \"2020-06-02T00:00:00\", \"2020-06-04T00:00:00\", \"2020-06-04T00:00:00\", \"2020-06-05T00:00:00\", \"2020-06-05T00:00:00\", \"2020-06-06T00:00:00\", \"2020-06-08T00:00:00\", \"2020-06-23T00:00:00\", \"2020-06-24T00:00:00\", \"2020-06-25T00:00:00\", \"2020-08-07T00:00:00\", \"2020-08-08T00:00:00\", \"2020-08-11T00:00:00\", \"2020-08-12T00:00:00\", \"2020-08-12T00:00:00\", \"2020-08-15T00:00:00\", \"2020-01-16T00:00:00\", \"2020-03-05T00:00:00\", \"2020-03-06T00:00:00\", \"2020-03-15T00:00:00\", \"2020-03-18T00:00:00\", \"2020-03-22T00:00:00\", \"2020-03-22T00:00:00\", \"2020-03-24T00:00:00\", \"2020-03-26T00:00:00\", \"2020-03-28T00:00:00\", \"2020-03-31T00:00:00\", \"2020-04-01T00:00:00\", \"2020-04-03T00:00:00\", \"2020-04-08T00:00:00\", \"2020-04-12T00:00:00\", \"2020-04-17T00:00:00\", \"2020-04-18T00:00:00\", \"2020-04-19T00:00:00\", \"2020-04-20T00:00:00\", \"2020-04-26T00:00:00\", \"2020-04-28T00:00:00\", \"2020-04-28T00:00:00\", \"2020-04-29T00:00:00\", \"2020-04-30T00:00:00\", \"2020-04-30T00:00:00\", \"2020-05-01T00:00:00\", \"2020-05-02T00:00:00\", \"2020-05-02T00:00:00\", \"2020-05-02T00:00:00\", \"2020-05-03T00:00:00\", \"2020-05-04T00:00:00\", \"2020-05-06T00:00:00\", \"2020-05-07T00:00:00\", \"2020-05-08T00:00:00\", \"2020-05-08T00:00:00\", \"2020-05-08T00:00:00\", \"2020-05-08T00:00:00\", \"2020-05-08T00:00:00\", \"2020-05-08T00:00:00\", \"2020-05-09T00:00:00\", \"2020-05-09T00:00:00\", \"2020-05-09T00:00:00\", \"2020-05-10T00:00:00\", \"2020-05-10T00:00:00\", \"2020-05-10T00:00:00\", \"2020-05-10T00:00:00\", \"2020-05-11T00:00:00\", \"2020-05-11T00:00:00\", \"2020-05-12T00:00:00\", \"2020-05-12T00:00:00\", \"2020-05-12T00:00:00\", \"2020-05-12T00:00:00\", \"2020-05-12T00:00:00\", \"2020-05-12T00:00:00\", \"2020-05-12T00:00:00\", \"2020-05-12T00:00:00\", \"2020-05-12T00:00:00\", \"2020-05-12T00:00:00\", \"2020-05-13T00:00:00\", \"2020-05-13T00:00:00\", \"2020-05-14T00:00:00\", \"2020-05-14T00:00:00\", \"2020-05-16T00:00:00\", \"2020-05-17T00:00:00\", \"2020-05-17T00:00:00\", \"2020-05-17T00:00:00\", \"2020-05-18T00:00:00\", \"2020-05-20T00:00:00\", \"2020-05-20T00:00:00\", \"2020-05-20T00:00:00\", \"2020-05-21T00:00:00\", \"2020-05-21T00:00:00\", \"2020-05-21T00:00:00\", \"2020-05-22T00:00:00\", \"2020-05-22T00:00:00\", \"2020-05-25T00:00:00\", \"2020-05-25T00:00:00\", \"2020-05-25T00:00:00\", \"2020-06-24T00:00:00\", \"2020-07-31T00:00:00\", \"2020-08-08T00:00:00\", \"2020-08-10T00:00:00\", \"2020-08-10T00:00:00\", \"2020-08-11T00:00:00\", \"2020-08-11T00:00:00\", \"2020-08-26T00:00:00\", \"2020-02-01T00:00:00\", \"2020-02-04T00:00:00\", \"2020-02-26T00:00:00\", \"2020-03-06T00:00:00\", \"2020-03-07T00:00:00\", \"2020-03-14T00:00:00\", \"2020-03-16T00:00:00\", \"2020-03-19T00:00:00\", \"2020-03-23T00:00:00\", \"2020-03-24T00:00:00\", \"2020-03-30T00:00:00\", \"2020-03-31T00:00:00\", \"2020-04-06T00:00:00\", \"2020-04-07T00:00:00\", \"2020-04-15T00:00:00\", \"2020-04-19T00:00:00\", \"2020-04-22T00:00:00\", \"2020-04-24T00:00:00\", \"2020-04-25T00:00:00\", \"2020-04-26T00:00:00\", \"2020-04-26T00:00:00\", \"2020-04-28T00:00:00\", \"2020-04-28T00:00:00\", \"2020-04-29T00:00:00\", \"2020-04-29T00:00:00\", \"2020-04-29T00:00:00\", \"2020-04-29T00:00:00\", \"2020-04-29T00:00:00\", \"2020-04-30T00:00:00\", \"2020-05-01T00:00:00\", \"2020-05-02T00:00:00\", \"2020-05-02T00:00:00\", \"2020-05-02T00:00:00\", \"2020-05-02T00:00:00\", \"2020-05-02T00:00:00\", \"2020-05-02T00:00:00\", \"2020-05-03T00:00:00\", \"2020-05-03T00:00:00\", \"2020-05-03T00:00:00\", \"2020-05-03T00:00:00\", \"2020-05-03T00:00:00\", \"2020-05-04T00:00:00\", \"2020-05-04T00:00:00\", \"2020-05-04T00:00:00\", \"2020-05-04T00:00:00\", \"2020-05-05T00:00:00\", \"2020-05-06T00:00:00\", \"2020-05-06T00:00:00\", \"2020-05-06T00:00:00\", \"2020-05-06T00:00:00\", \"2020-05-06T00:00:00\", \"2020-05-06T00:00:00\", \"2020-05-06T00:00:00\", \"2020-05-07T00:00:00\", \"2020-05-07T00:00:00\", \"2020-05-07T00:00:00\", \"2020-05-07T00:00:00\", \"2020-05-07T00:00:00\", \"2020-05-08T00:00:00\", \"2020-05-08T00:00:00\", \"2020-05-08T00:00:00\", \"2020-05-08T00:00:00\", \"2020-05-08T00:00:00\", \"2020-05-08T00:00:00\", \"2020-05-08T00:00:00\", \"2020-05-08T00:00:00\", \"2020-05-09T00:00:00\", \"2020-05-09T00:00:00\", \"2020-05-10T00:00:00\", \"2020-05-10T00:00:00\", \"2020-05-11T00:00:00\", \"2020-05-11T00:00:00\", \"2020-05-12T00:00:00\", \"2020-05-12T00:00:00\", \"2020-05-12T00:00:00\", \"2020-05-13T00:00:00\", \"2020-05-13T00:00:00\", \"2020-05-14T00:00:00\", \"2020-05-15T00:00:00\", \"2020-05-21T00:00:00\", \"2020-05-29T00:00:00\", \"2020-05-29T00:00:00\", \"2020-08-01T00:00:00\", \"2020-08-02T00:00:00\", \"2020-08-04T00:00:00\", \"2020-08-07T00:00:00\", \"2020-08-31T00:00:00\", \"2020-03-06T00:00:00\", \"2020-03-16T00:00:00\", \"2020-03-16T00:00:00\", \"2020-03-16T00:00:00\", \"2020-03-18T00:00:00\", \"2020-03-21T00:00:00\", \"2020-03-21T00:00:00\", \"2020-03-24T00:00:00\", \"2020-03-27T00:00:00\", \"2020-03-28T00:00:00\", \"2020-04-01T00:00:00\", \"2020-04-02T00:00:00\", \"2020-04-02T00:00:00\", \"2020-04-02T00:00:00\", \"2020-04-03T00:00:00\", \"2020-04-04T00:00:00\", \"2020-04-05T00:00:00\", \"2020-04-07T00:00:00\", \"2020-04-07T00:00:00\", \"2020-04-07T00:00:00\", \"2020-04-08T00:00:00\", \"2020-04-08T00:00:00\", \"2020-04-09T00:00:00\", \"2020-04-14T00:00:00\", \"2020-04-15T00:00:00\", \"2020-04-15T00:00:00\", \"2020-04-17T00:00:00\", \"2020-04-19T00:00:00\", \"2020-04-19T00:00:00\", \"2020-04-20T00:00:00\", \"2020-04-20T00:00:00\", \"2020-04-21T00:00:00\", \"2020-04-21T00:00:00\", \"2020-04-22T00:00:00\", \"2020-04-22T00:00:00\", \"2020-04-22T00:00:00\", \"2020-04-22T00:00:00\", \"2020-04-22T00:00:00\", \"2020-04-22T00:00:00\", \"2020-04-22T00:00:00\", \"2020-04-23T00:00:00\", \"2020-04-24T00:00:00\", \"2020-04-24T00:00:00\", \"2020-04-24T00:00:00\", \"2020-04-24T00:00:00\", \"2020-04-25T00:00:00\", \"2020-04-25T00:00:00\", \"2020-04-26T00:00:00\", \"2020-04-26T00:00:00\", \"2020-04-26T00:00:00\", \"2020-04-26T00:00:00\", \"2020-04-26T00:00:00\", \"2020-04-26T00:00:00\", \"2020-04-26T00:00:00\", \"2020-04-26T00:00:00\", \"2020-04-26T00:00:00\", \"2020-04-26T00:00:00\", \"2020-04-26T00:00:00\", \"2020-04-26T00:00:00\", \"2020-04-26T00:00:00\", \"2020-04-26T00:00:00\", \"2020-04-27T00:00:00\", \"2020-04-27T00:00:00\", \"2020-04-28T00:00:00\", \"2020-04-28T00:00:00\", \"2020-04-28T00:00:00\", \"2020-04-29T00:00:00\", \"2020-04-29T00:00:00\", \"2020-04-30T00:00:00\", \"2020-05-02T00:00:00\", \"2020-05-03T00:00:00\", \"2020-05-03T00:00:00\", \"2020-05-03T00:00:00\", \"2020-05-04T00:00:00\", \"2020-05-04T00:00:00\", \"2020-05-05T00:00:00\", \"2020-05-06T00:00:00\", \"2020-05-08T00:00:00\", \"2020-06-03T00:00:00\", \"2020-07-06T00:00:00\", \"2020-07-24T00:00:00\", \"2020-07-27T00:00:00\", \"2020-08-01T00:00:00\", \"2020-08-30T00:00:00\", \"2020-01-31T00:00:00\", \"2020-01-31T00:00:00\", \"2020-02-01T00:00:00\", \"2020-03-02T00:00:00\", \"2020-03-03T00:00:00\", \"2020-03-17T00:00:00\", \"2020-03-18T00:00:00\", \"2020-03-20T00:00:00\", \"2020-03-25T00:00:00\", \"2020-03-25T00:00:00\", \"2020-03-27T00:00:00\", \"2020-03-27T00:00:00\", \"2020-03-28T00:00:00\", \"2020-03-28T00:00:00\", \"2020-03-29T00:00:00\", \"2020-03-30T00:00:00\", \"2020-03-30T00:00:00\", \"2020-04-01T00:00:00\", \"2020-04-01T00:00:00\", \"2020-04-02T00:00:00\", \"2020-04-02T00:00:00\", \"2020-04-04T00:00:00\", \"2020-04-05T00:00:00\", \"2020-04-06T00:00:00\", \"2020-04-06T00:00:00\", \"2020-04-08T00:00:00\", \"2020-04-09T00:00:00\", \"2020-04-10T00:00:00\", \"2020-04-10T00:00:00\", \"2020-04-10T00:00:00\", \"2020-04-10T00:00:00\", \"2020-04-10T00:00:00\", \"2020-04-11T00:00:00\", \"2020-04-11T00:00:00\", \"2020-04-12T00:00:00\", \"2020-04-12T00:00:00\", \"2020-04-13T00:00:00\", \"2020-04-13T00:00:00\", \"2020-04-14T00:00:00\", \"2020-04-14T00:00:00\", \"2020-04-14T00:00:00\", \"2020-04-15T00:00:00\", \"2020-04-15T00:00:00\", \"2020-04-15T00:00:00\", \"2020-04-15T00:00:00\", \"2020-04-15T00:00:00\", \"2020-04-15T00:00:00\", \"2020-04-15T00:00:00\", \"2020-04-15T00:00:00\", \"2020-04-15T00:00:00\", \"2020-04-15T00:00:00\", \"2020-04-16T00:00:00\", \"2020-04-16T00:00:00\", \"2020-04-16T00:00:00\", \"2020-04-16T00:00:00\", \"2020-04-16T00:00:00\", \"2020-04-17T00:00:00\", \"2020-04-17T00:00:00\", \"2020-04-17T00:00:00\", \"2020-04-18T00:00:00\", \"2020-04-18T00:00:00\", \"2020-04-19T00:00:00\", \"2020-04-19T00:00:00\", \"2020-04-20T00:00:00\", \"2020-04-20T00:00:00\", \"2020-04-20T00:00:00\", \"2020-04-20T00:00:00\", \"2020-04-20T00:00:00\", \"2020-04-21T00:00:00\", \"2020-04-21T00:00:00\", \"2020-04-21T00:00:00\", \"2020-04-21T00:00:00\", \"2020-04-21T00:00:00\", \"2020-04-21T00:00:00\", \"2020-04-21T00:00:00\", \"2020-04-22T00:00:00\", \"2020-04-23T00:00:00\", \"2020-04-23T00:00:00\", \"2020-04-24T00:00:00\", \"2020-04-27T00:00:00\", \"2020-04-28T00:00:00\", \"2020-05-11T00:00:00\", \"2020-06-06T00:00:00\", \"2020-07-21T00:00:00\", \"2020-07-28T00:00:00\", \"2020-07-31T00:00:00\", \"2020-02-11T00:00:00\", \"2020-02-14T00:00:00\", \"2020-02-19T00:00:00\", \"2020-02-22T00:00:00\", \"2020-02-23T00:00:00\", \"2020-02-25T00:00:00\", \"2020-03-12T00:00:00\", \"2020-03-15T00:00:00\", \"2020-03-16T00:00:00\", \"2020-03-18T00:00:00\", \"2020-03-18T00:00:00\", \"2020-03-18T00:00:00\", \"2020-03-20T00:00:00\", \"2020-03-20T00:00:00\", \"2020-03-27T00:00:00\", \"2020-03-27T00:00:00\", \"2020-03-28T00:00:00\", \"2020-03-30T00:00:00\", \"2020-04-02T00:00:00\", \"2020-04-02T00:00:00\", \"2020-04-02T00:00:00\", \"2020-04-02T00:00:00\", \"2020-04-03T00:00:00\", \"2020-04-03T00:00:00\", \"2020-04-04T00:00:00\", \"2020-04-04T00:00:00\", \"2020-04-04T00:00:00\", \"2020-04-05T00:00:00\", \"2020-04-05T00:00:00\", \"2020-04-05T00:00:00\", \"2020-04-05T00:00:00\", \"2020-04-06T00:00:00\", \"2020-04-06T00:00:00\", \"2020-04-06T00:00:00\", \"2020-04-06T00:00:00\", \"2020-04-06T00:00:00\", \"2020-04-06T00:00:00\", \"2020-04-07T00:00:00\", \"2020-04-07T00:00:00\", \"2020-04-07T00:00:00\", \"2020-04-07T00:00:00\", \"2020-04-08T00:00:00\", \"2020-04-08T00:00:00\", \"2020-04-08T00:00:00\", \"2020-04-08T00:00:00\", \"2020-04-08T00:00:00\", \"2020-04-08T00:00:00\", \"2020-04-09T00:00:00\", \"2020-04-09T00:00:00\", \"2020-04-09T00:00:00\", \"2020-04-09T00:00:00\", \"2020-04-09T00:00:00\", \"2020-04-09T00:00:00\", \"2020-04-09T00:00:00\", \"2020-04-09T00:00:00\", \"2020-04-10T00:00:00\", \"2020-04-10T00:00:00\", \"2020-04-10T00:00:00\", \"2020-04-10T00:00:00\", \"2020-04-10T00:00:00\", \"2020-04-10T00:00:00\", \"2020-04-11T00:00:00\", \"2020-04-11T00:00:00\", \"2020-04-11T00:00:00\", \"2020-04-11T00:00:00\", \"2020-04-11T00:00:00\", \"2020-04-11T00:00:00\", \"2020-04-11T00:00:00\", \"2020-04-11T00:00:00\", \"2020-04-11T00:00:00\", \"2020-04-12T00:00:00\", \"2020-04-12T00:00:00\", \"2020-04-12T00:00:00\", \"2020-04-13T00:00:00\", \"2020-04-13T00:00:00\", \"2020-04-13T00:00:00\", \"2020-04-13T00:00:00\", \"2020-04-13T00:00:00\", \"2020-04-13T00:00:00\", \"2020-04-13T00:00:00\", \"2020-04-14T00:00:00\", \"2020-04-15T00:00:00\", \"2020-04-16T00:00:00\", \"2020-04-16T00:00:00\", \"2020-05-21T00:00:00\", \"2020-07-11T00:00:00\", \"2020-07-15T00:00:00\", \"2020-07-22T00:00:00\", \"2020-07-25T00:00:00\", \"2020-01-29T00:00:00\", \"2020-02-12T00:00:00\", \"2020-03-09T00:00:00\", \"2020-03-13T00:00:00\", \"2020-03-15T00:00:00\", \"2020-03-15T00:00:00\", \"2020-03-16T00:00:00\", \"2020-03-16T00:00:00\", \"2020-03-16T00:00:00\", \"2020-03-19T00:00:00\", \"2020-03-23T00:00:00\", \"2020-03-23T00:00:00\", \"2020-03-24T00:00:00\", \"2020-03-24T00:00:00\", \"2020-03-25T00:00:00\", \"2020-03-27T00:00:00\", \"2020-03-27T00:00:00\", \"2020-03-27T00:00:00\", \"2020-03-28T00:00:00\", \"2020-03-29T00:00:00\", \"2020-03-29T00:00:00\", \"2020-03-30T00:00:00\", \"2020-03-30T00:00:00\", \"2020-03-30T00:00:00\", \"2020-03-30T00:00:00\", \"2020-03-30T00:00:00\", \"2020-03-30T00:00:00\", \"2020-03-31T00:00:00\", \"2020-03-31T00:00:00\", \"2020-03-31T00:00:00\", \"2020-03-31T00:00:00\", \"2020-03-31T00:00:00\", \"2020-03-31T00:00:00\", \"2020-03-31T00:00:00\", \"2020-03-31T00:00:00\", \"2020-03-31T00:00:00\", \"2020-03-31T00:00:00\", \"2020-04-01T00:00:00\", \"2020-04-01T00:00:00\", \"2020-04-02T00:00:00\", \"2020-04-02T00:00:00\", \"2020-04-02T00:00:00\", \"2020-04-02T00:00:00\", \"2020-04-02T00:00:00\", \"2020-04-03T00:00:00\", \"2020-04-03T00:00:00\", \"2020-04-03T00:00:00\", \"2020-04-03T00:00:00\", \"2020-04-03T00:00:00\", \"2020-04-03T00:00:00\", \"2020-04-03T00:00:00\", \"2020-04-04T00:00:00\", \"2020-04-04T00:00:00\", \"2020-04-04T00:00:00\", \"2020-04-05T00:00:00\", \"2020-04-05T00:00:00\", \"2020-04-05T00:00:00\", \"2020-04-05T00:00:00\", \"2020-04-05T00:00:00\", \"2020-04-05T00:00:00\", \"2020-04-05T00:00:00\", \"2020-04-06T00:00:00\", \"2020-04-06T00:00:00\", \"2020-04-06T00:00:00\", \"2020-04-06T00:00:00\", \"2020-04-06T00:00:00\", \"2020-04-06T00:00:00\", \"2020-04-06T00:00:00\", \"2020-04-06T00:00:00\", \"2020-04-07T00:00:00\", \"2020-04-07T00:00:00\", \"2020-04-07T00:00:00\", \"2020-04-07T00:00:00\", \"2020-04-07T00:00:00\", \"2020-04-08T00:00:00\", \"2020-04-08T00:00:00\", \"2020-04-08T00:00:00\", \"2020-04-09T00:00:00\", \"2020-04-09T00:00:00\", \"2020-04-09T00:00:00\", \"2020-04-11T00:00:00\", \"2020-04-14T00:00:00\", \"2020-04-16T00:00:00\", \"2020-04-23T00:00:00\", \"2020-04-24T00:00:00\", \"2020-07-22T00:00:00\", \"2020-07-23T00:00:00\", \"2020-07-24T00:00:00\", \"2020-01-16T00:00:00\", \"2020-01-19T00:00:00\", \"2020-01-31T00:00:00\", \"2020-03-01T00:00:00\", \"2020-03-06T00:00:00\", \"2020-03-06T00:00:00\", \"2020-03-06T00:00:00\", \"2020-03-07T00:00:00\", \"2020-03-08T00:00:00\", \"2020-03-09T00:00:00\", \"2020-03-11T00:00:00\", \"2020-03-12T00:00:00\", \"2020-03-16T00:00:00\", \"2020-03-18T00:00:00\", \"2020-03-20T00:00:00\", \"2020-03-21T00:00:00\", \"2020-03-21T00:00:00\", \"2020-03-22T00:00:00\", \"2020-03-23T00:00:00\", \"2020-03-23T00:00:00\", \"2020-03-23T00:00:00\", \"2020-03-23T00:00:00\", \"2020-03-24T00:00:00\", \"2020-03-24T00:00:00\", \"2020-03-24T00:00:00\", \"2020-03-24T00:00:00\", \"2020-03-24T00:00:00\", \"2020-03-24T00:00:00\", \"2020-03-25T00:00:00\", \"2020-03-25T00:00:00\", \"2020-03-25T00:00:00\", \"2020-03-25T00:00:00\", \"2020-03-25T00:00:00\", \"2020-03-25T00:00:00\", \"2020-03-25T00:00:00\", \"2020-03-26T00:00:00\", \"2020-03-26T00:00:00\", \"2020-03-26T00:00:00\", \"2020-03-26T00:00:00\", \"2020-03-27T00:00:00\", \"2020-03-27T00:00:00\", \"2020-03-28T00:00:00\", \"2020-03-28T00:00:00\", \"2020-03-28T00:00:00\", \"2020-03-28T00:00:00\", \"2020-03-29T00:00:00\", \"2020-03-29T00:00:00\", \"2020-03-29T00:00:00\", \"2020-03-29T00:00:00\", \"2020-03-29T00:00:00\", \"2020-03-29T00:00:00\", \"2020-03-29T00:00:00\", \"2020-03-30T00:00:00\", \"2020-03-30T00:00:00\", \"2020-03-30T00:00:00\", \"2020-03-30T00:00:00\", \"2020-03-30T00:00:00\", \"2020-03-30T00:00:00\", \"2020-03-30T00:00:00\", \"2020-03-30T00:00:00\", \"2020-03-30T00:00:00\", \"2020-03-31T00:00:00\", \"2020-03-31T00:00:00\", \"2020-04-01T00:00:00\", \"2020-04-01T00:00:00\", \"2020-04-01T00:00:00\", \"2020-04-02T00:00:00\", \"2020-04-03T00:00:00\", \"2020-04-11T00:00:00\", \"2020-04-14T00:00:00\", \"2020-04-14T00:00:00\", \"2020-05-26T00:00:00\", \"2020-06-28T00:00:00\", \"2020-01-29T00:00:00\", \"2020-02-11T00:00:00\", \"2020-02-28T00:00:00\", \"2020-03-12T00:00:00\", \"2020-03-12T00:00:00\", \"2020-03-12T00:00:00\", \"2020-03-13T00:00:00\", \"2020-03-14T00:00:00\", \"2020-03-14T00:00:00\", \"2020-03-15T00:00:00\", \"2020-03-16T00:00:00\", \"2020-03-17T00:00:00\", \"2020-03-17T00:00:00\", \"2020-03-17T00:00:00\", \"2020-03-17T00:00:00\", \"2020-03-17T00:00:00\", \"2020-03-18T00:00:00\", \"2020-03-18T00:00:00\", \"2020-03-18T00:00:00\", \"2020-03-18T00:00:00\", \"2020-03-18T00:00:00\", \"2020-03-18T00:00:00\", \"2020-03-18T00:00:00\", \"2020-03-19T00:00:00\", \"2020-03-19T00:00:00\", \"2020-03-20T00:00:00\", \"2020-03-20T00:00:00\", \"2020-03-20T00:00:00\", \"2020-03-20T00:00:00\", \"2020-03-21T00:00:00\", \"2020-03-21T00:00:00\", \"2020-03-21T00:00:00\", \"2020-03-21T00:00:00\", \"2020-03-21T00:00:00\", \"2020-03-21T00:00:00\", \"2020-03-21T00:00:00\", \"2020-03-22T00:00:00\", \"2020-03-22T00:00:00\", \"2020-03-22T00:00:00\", \"2020-03-22T00:00:00\", \"2020-03-22T00:00:00\", \"2020-03-23T00:00:00\", \"2020-03-23T00:00:00\", \"2020-03-23T00:00:00\", \"2020-03-23T00:00:00\", \"2020-03-23T00:00:00\", \"2020-03-23T00:00:00\", \"2020-03-23T00:00:00\", \"2020-03-23T00:00:00\", \"2020-03-23T00:00:00\", \"2020-03-23T00:00:00\", \"2020-03-23T00:00:00\", \"2020-03-24T00:00:00\", \"2020-03-24T00:00:00\", \"2020-03-24T00:00:00\", \"2020-03-24T00:00:00\", \"2020-03-24T00:00:00\", \"2020-03-24T00:00:00\", \"2020-03-24T00:00:00\", \"2020-03-24T00:00:00\", \"2020-03-25T00:00:00\", \"2020-03-25T00:00:00\", \"2020-03-25T00:00:00\", \"2020-03-25T00:00:00\", \"2020-03-25T00:00:00\", \"2020-03-25T00:00:00\", \"2020-03-25T00:00:00\", \"2020-03-26T00:00:00\", \"2020-03-26T00:00:00\", \"2020-03-26T00:00:00\", \"2020-03-26T00:00:00\", \"2020-03-27T00:00:00\", \"2020-03-27T00:00:00\", \"2020-03-28T00:00:00\", \"2020-03-30T00:00:00\", \"2020-07-14T00:00:00\", \"2020-07-17T00:00:00\", \"2020-02-08T00:00:00\", \"2020-03-03T00:00:00\", \"2020-03-09T00:00:00\", \"2020-03-09T00:00:00\", \"2020-03-09T00:00:00\", \"2020-03-12T00:00:00\", \"2020-03-13T00:00:00\", \"2020-03-13T00:00:00\", \"2020-03-13T00:00:00\", \"2020-03-13T00:00:00\", \"2020-03-13T00:00:00\", \"2020-03-14T00:00:00\", \"2020-03-14T00:00:00\", \"2020-03-14T00:00:00\", \"2020-03-14T00:00:00\", \"2020-03-15T00:00:00\", \"2020-03-15T00:00:00\", \"2020-03-15T00:00:00\", \"2020-03-15T00:00:00\", \"2020-03-15T00:00:00\", \"2020-03-15T00:00:00\", \"2020-03-15T00:00:00\", \"2020-03-16T00:00:00\", \"2020-03-16T00:00:00\", \"2020-03-16T00:00:00\", \"2020-03-16T00:00:00\", \"2020-03-16T00:00:00\", \"2020-03-16T00:00:00\", \"2020-03-16T00:00:00\", \"2020-03-16T00:00:00\", \"2020-03-17T00:00:00\", \"2020-03-17T00:00:00\", \"2020-03-17T00:00:00\", \"2020-03-17T00:00:00\", \"2020-03-17T00:00:00\", \"2020-03-17T00:00:00\", \"2020-03-17T00:00:00\", \"2020-03-18T00:00:00\", \"2020-03-18T00:00:00\", \"2020-03-18T00:00:00\", \"2020-03-18T00:00:00\", \"2020-03-18T00:00:00\", \"2020-03-18T00:00:00\", \"2020-03-18T00:00:00\", \"2020-03-18T00:00:00\", \"2020-03-18T00:00:00\", \"2020-03-19T00:00:00\", \"2020-03-19T00:00:00\", \"2020-03-19T00:00:00\", \"2020-03-19T00:00:00\", \"2020-03-19T00:00:00\", \"2020-03-20T00:00:00\", \"2020-03-20T00:00:00\", \"2020-03-20T00:00:00\", \"2020-03-20T00:00:00\", \"2020-03-20T00:00:00\", \"2020-03-20T00:00:00\", \"2020-03-21T00:00:00\", \"2020-03-21T00:00:00\", \"2020-03-21T00:00:00\", \"2020-03-21T00:00:00\", \"2020-03-21T00:00:00\", \"2020-03-21T00:00:00\", \"2020-03-22T00:00:00\", \"2020-03-22T00:00:00\", \"2020-03-22T00:00:00\", \"2020-03-22T00:00:00\", \"2020-03-22T00:00:00\", \"2020-03-22T00:00:00\", \"2020-03-22T00:00:00\", \"2020-03-22T00:00:00\", \"2020-03-22T00:00:00\", \"2020-03-23T00:00:00\", \"2020-03-23T00:00:00\", \"2020-03-23T00:00:00\", \"2020-03-23T00:00:00\", \"2020-03-24T00:00:00\", \"2020-03-27T00:00:00\", \"2020-03-27T00:00:00\", \"2020-03-30T00:00:00\", \"2020-01-22T00:00:00\", \"2020-02-06T00:00:00\", \"2020-02-07T00:00:00\", \"2020-02-26T00:00:00\", \"2020-03-03T00:00:00\", \"2020-03-04T00:00:00\", \"2020-03-05T00:00:00\", \"2020-03-06T00:00:00\", \"2020-03-09T00:00:00\", \"2020-03-10T00:00:00\", \"2020-03-11T00:00:00\", \"2020-03-12T00:00:00\", \"2020-03-12T00:00:00\", \"2020-03-12T00:00:00\", \"2020-03-12T00:00:00\", \"2020-03-12T00:00:00\", \"2020-03-12T00:00:00\", \"2020-03-12T00:00:00\", \"2020-03-12T00:00:00\", \"2020-03-12T00:00:00\", \"2020-03-13T00:00:00\", \"2020-03-13T00:00:00\", \"2020-03-13T00:00:00\", \"2020-03-13T00:00:00\", \"2020-03-13T00:00:00\", \"2020-03-13T00:00:00\", \"2020-03-13T00:00:00\", \"2020-03-13T00:00:00\", \"2020-03-14T00:00:00\", \"2020-03-14T00:00:00\", \"2020-03-14T00:00:00\", \"2020-03-14T00:00:00\", \"2020-03-14T00:00:00\", \"2020-03-15T00:00:00\", \"2020-03-15T00:00:00\", \"2020-03-15T00:00:00\", \"2020-03-15T00:00:00\", \"2020-03-15T00:00:00\", \"2020-03-15T00:00:00\", \"2020-03-15T00:00:00\", \"2020-03-15T00:00:00\", \"2020-03-15T00:00:00\", \"2020-03-16T00:00:00\", \"2020-03-16T00:00:00\", \"2020-03-16T00:00:00\", \"2020-03-16T00:00:00\", \"2020-03-16T00:00:00\", \"2020-03-16T00:00:00\", \"2020-03-16T00:00:00\", \"2020-03-16T00:00:00\", \"2020-03-16T00:00:00\", \"2020-03-16T00:00:00\", \"2020-03-16T00:00:00\", \"2020-03-17T00:00:00\", \"2020-03-17T00:00:00\", \"2020-03-17T00:00:00\", \"2020-03-17T00:00:00\", \"2020-03-17T00:00:00\", \"2020-03-18T00:00:00\", \"2020-03-18T00:00:00\", \"2020-03-18T00:00:00\", \"2020-03-18T00:00:00\", \"2020-03-19T00:00:00\", \"2020-03-19T00:00:00\", \"2020-03-19T00:00:00\", \"2020-03-20T00:00:00\", \"2020-03-20T00:00:00\", \"2020-03-20T00:00:00\", \"2020-03-22T00:00:00\", \"2020-03-22T00:00:00\", \"2020-03-25T00:00:00\", \"2020-03-29T00:00:00\", \"2020-05-13T00:00:00\", \"2020-06-12T00:00:00\", \"2020-06-13T00:00:00\", \"2020-06-28T00:00:00\", \"2020-06-28T00:00:00\", \"2020-07-10T00:00:00\", \"2020-07-13T00:00:00\", \"2020-08-18T00:00:00\", \"2020-08-18T00:00:00\", \"2020-08-20T00:00:00\", \"2020-01-21T00:00:00\", \"2020-01-26T00:00:00\", \"2020-01-30T00:00:00\", \"2020-01-31T00:00:00\", \"2020-02-03T00:00:00\", \"2020-02-05T00:00:00\", \"2020-02-05T00:00:00\", \"2020-02-05T00:00:00\", \"2020-02-05T00:00:00\", \"2020-02-05T00:00:00\", \"2020-02-05T00:00:00\", \"2020-02-06T00:00:00\", \"2020-02-08T00:00:00\", \"2020-02-22T00:00:00\", \"2020-02-25T00:00:00\", \"2020-02-25T00:00:00\", \"2020-02-25T00:00:00\", \"2020-02-25T00:00:00\", \"2020-02-27T00:00:00\", \"2020-02-28T00:00:00\", \"2020-02-29T00:00:00\", \"2020-02-29T00:00:00\", \"2020-02-29T00:00:00\", \"2020-03-02T00:00:00\", \"2020-03-02T00:00:00\", \"2020-03-02T00:00:00\", \"2020-03-02T00:00:00\", \"2020-03-03T00:00:00\", \"2020-03-04T00:00:00\", \"2020-03-04T00:00:00\", \"2020-03-04T00:00:00\", \"2020-03-04T00:00:00\", \"2020-03-04T00:00:00\", \"2020-03-05T00:00:00\", \"2020-03-05T00:00:00\", \"2020-03-05T00:00:00\", \"2020-03-05T00:00:00\", \"2020-03-05T00:00:00\", \"2020-03-06T00:00:00\", \"2020-03-07T00:00:00\", \"2020-03-07T00:00:00\", \"2020-03-07T00:00:00\", \"2020-03-07T00:00:00\", \"2020-03-08T00:00:00\", \"2020-03-08T00:00:00\", \"2020-03-09T00:00:00\", \"2020-03-09T00:00:00\", \"2020-03-09T00:00:00\", \"2020-03-09T00:00:00\", \"2020-03-09T00:00:00\", \"2020-03-09T00:00:00\", \"2020-03-09T00:00:00\", \"2020-03-09T00:00:00\", \"2020-03-10T00:00:00\", \"2020-03-10T00:00:00\", \"2020-03-10T00:00:00\", \"2020-03-10T00:00:00\", \"2020-03-10T00:00:00\", \"2020-03-10T00:00:00\", \"2020-03-10T00:00:00\", \"2020-03-10T00:00:00\", \"2020-03-10T00:00:00\", \"2020-03-10T00:00:00\", \"2020-03-10T00:00:00\", \"2020-03-10T00:00:00\", \"2020-03-10T00:00:00\", \"2020-03-10T00:00:00\", \"2020-03-10T00:00:00\", \"2020-03-11T00:00:00\", \"2020-03-11T00:00:00\", \"2020-03-11T00:00:00\", \"2020-03-11T00:00:00\", \"2020-03-11T00:00:00\", \"2020-03-11T00:00:00\", \"2020-03-11T00:00:00\", \"2020-03-12T00:00:00\", \"2020-03-12T00:00:00\", \"2020-03-12T00:00:00\", \"2020-03-12T00:00:00\", \"2020-03-12T00:00:00\", \"2020-03-12T00:00:00\", \"2020-03-13T00:00:00\", \"2020-03-14T00:00:00\", \"2020-03-15T00:00:00\", \"2020-03-15T00:00:00\", \"2020-03-15T00:00:00\", \"2020-03-16T00:00:00\", \"2020-03-16T00:00:00\", \"2020-04-02T00:00:00\", \"2020-04-29T00:00:00\", \"2020-08-31T00:00:00\", \"2020-01-04T00:00:00\", \"2020-01-22T00:00:00\", \"2020-01-23T00:00:00\", \"2020-01-23T00:00:00\", \"2020-01-23T00:00:00\", \"2020-01-23T00:00:00\", \"2020-01-23T00:00:00\", \"2020-01-23T00:00:00\", \"2020-01-24T00:00:00\", \"2020-01-25T00:00:00\", \"2020-01-25T00:00:00\", \"2020-01-27T00:00:00\", \"2020-01-27T00:00:00\", \"2020-01-27T00:00:00\", \"2020-01-28T00:00:00\", \"2020-01-28T00:00:00\", \"2020-01-28T00:00:00\", \"2020-01-29T00:00:00\", \"2020-01-29T00:00:00\", \"2020-01-30T00:00:00\", \"2020-01-30T00:00:00\", \"2020-01-30T00:00:00\", \"2020-01-30T00:00:00\", \"2020-01-31T00:00:00\", \"2020-01-31T00:00:00\", \"2020-01-31T00:00:00\", \"2020-02-02T00:00:00\", \"2020-02-02T00:00:00\", \"2020-02-02T00:00:00\", \"2020-02-03T00:00:00\", \"2020-02-04T00:00:00\", \"2020-02-05T00:00:00\", \"2020-02-05T00:00:00\", \"2020-02-05T00:00:00\", \"2020-02-05T00:00:00\", \"2020-02-06T00:00:00\", \"2020-02-06T00:00:00\", \"2020-02-06T00:00:00\", \"2020-02-06T00:00:00\", \"2020-02-08T00:00:00\", \"2020-02-09T00:00:00\", \"2020-02-09T00:00:00\", \"2020-02-18T00:00:00\", \"2020-02-25T00:00:00\", \"2020-03-02T00:00:00\", \"2020-03-02T00:00:00\", \"2020-03-02T00:00:00\", \"2020-03-03T00:00:00\", \"2020-03-11T00:00:00\", \"2020-03-12T00:00:00\", \"2020-03-16T00:00:00\", \"2020-03-26T00:00:00\", \"2020-03-30T00:00:00\", \"2020-03-31T00:00:00\", \"2020-04-02T00:00:00\", \"2020-04-02T00:00:00\", \"2020-04-04T00:00:00\", \"2020-04-08T00:00:00\", \"2020-04-25T00:00:00\", \"2020-04-28T00:00:00\", \"2020-04-30T00:00:00\", \"2020-05-12T00:00:00\", \"2020-06-18T00:00:00\", \"2020-06-19T00:00:00\", \"2020-06-27T00:00:00\", \"2020-06-28T00:00:00\", \"2020-07-01T00:00:00\", \"2020-07-03T00:00:00\", \"2020-07-04T00:00:00\", \"2020-07-13T00:00:00\", \"2020-08-16T00:00:00\", \"2020-08-16T00:00:00\", \"2020-08-19T00:00:00\", \"2020-03-18T00:00:00\", \"2020-03-03T00:00:00\", \"2020-03-20T00:00:00\", \"2020-04-27T00:00:00\", \"2020-03-03T00:00:00\", \"2020-04-07T00:00:00\", \"2020-05-17T00:00:00\", \"2020-03-28T00:00:00\", \"2020-03-10T00:00:00\", \"2020-03-14T00:00:00\", \"2020-03-05T00:00:00\", \"2020-03-18T00:00:00\", \"2020-08-12T00:00:00\", \"2020-05-02T00:00:00\", \"2020-06-17T00:00:00\", \"2020-01-27T00:00:00\", \"2020-01-28T00:00:00\", \"2020-01-25T00:00:00\", \"2020-03-16T00:00:00\", \"2020-01-15T00:00:00\", \"2020-01-30T00:00:00\", \"2020-01-28T00:00:00\", \"2020-01-26T00:00:00\", \"2020-03-12T00:00:00\"], \"xaxis\": \"x\", \"y\": [9191832, 9191832, 9191832, 1437009, 1437009, 9191832, 1437009, 393129, 43129, 21283, 54282956, 557860, 17230, 26970, 26970, 839647, 107996, 287507, 7052, 218, 24683, 230092, 1175975, 1175975, 53351, 438436, 15112, 76660, 651572, 1936, 56590, 7541, 7541, 5650, 4334, 14356088, 191908, 185077, 47520, 47520, 47520, 330891, 6688013, 45352, 862987, 10422, 1318, 1, 40044, 33, 63, 18467, 2034794, 2034794, 595, 164, 3015, 59067, 6688013, 348768, 12361, 30804, 5717, 17690, 17690, 99418, 47872, 54504, 138561, 17468, 9191833, 855267, 18131, 9191833, 5864301, 135086, 5637, 1399161, 135086, 440835, 26880, 16747, 2181799, 107996, 456, 427237, 28345, 234765, 234765, 1476, 33419, 3108370, 45415, 570753, 8705, 597521, 103432, 1726631, 1726631, 70260, 33022, 819519, 2223, 1437009, 251746, 2393530, 110202, 89, 6743, 277604, 61790, 48358, 638165, 24756, 31623, 9148, 683, 2703, 42197, 76660, 651572, 30862, 5158, 5158, 147280, 124703, 647, 240250, 2486, 580533, 55039, 667366, 230092, 240250, 9031370, 2154302, 90682, 62752, 62752, 577130, 5547, 40995, 72948, 27, 15378, 65050, 3074, 1399161, 1399161, 1683, 31812, 141611, 1437009, 1441252, 9191833, 1808, 153831, 59008, 15431, 1144, 153831, 47226, 3801478, 184613, 1336533, 109168, 11057, 110202, 423610, 134771, 3647428, 1796845, 15431, 108402, 820725, 416002, 63818, 225264, 133, 15999, 1, 150, 36725, 5296402, 95399, 41669, 90508, 439893, 1441252, 62497, 61717, 1332, 1079, 39225, 79456, 1697343, 75382, 352249, 1802, 12033766, 9148, 2901, 36245, 1548, 2671, 21803, 1292593, 134555, 572, 1313, 251, 3345, 200, 415473, 84843, 262756, 3336813, 422512, 9, 205632, 20983, 9539, 10123749, 15431, 33699, 1399161, 126985, 5254900, 10477, 2034794, 3527, 5246, 1987015, 42, 158, 576819, 29652779, 196491, 513428, 9191834, 52962, 1441252, 648109, 28017, 1840575, 251746, 462153, 9148, 648109, 3764640, 2280, 110202, 12039, 14446, 5518, 470916, 321189, 33295, 6075171, 106125, 3533380, 28185, 507618, 21998, 129166, 1697343, 37340, 1228219, 379088, 1726631, 327, 225264, 279764, 15307, 225264, 147238, 1237808, 226786, 18345, 150, 134532, 17963, 3146, 575294, 61047, 1104399, 22222, 14265, 14265, 1189724, 5718, 7, 14709, 347, 292967, 545578, 440481, 90508, 439893, 2926, 12033766, 225264, 1600, 41562, 190511, 141, 879597, 7821, 10422, 410418, 62, 208148, 207620, 184613, 7391, 1437009, 227558, 194415, 49719732, 924148, 25528, 4642, 9982707, 1441252, 171971, 26405734, 443508, 165786, 1563641, 638165, 1881769, 3414289, 758699, 35828, 48308, 5296402, 283831, 1763, 758699, 128832, 251746, 428816, 120586, 1649343, 1649343, 75091, 1237808, 51291, 12407, 1805055, 110202, 110202, 2429, 63, 1567, 4446, 3607, 9191832, 356354, 10422, 184613, 211335, 356354, 35659, 1693161, 77256, 85509, 407998, 1333, 24303, 184613, 1104, 9909, 1050704, 3, 80924, 4818, 710860, 707, 80924, 5354, 134771, 1167663, 81119, 1922, 74594, 10632, 27746, 2021, 60315, 12137908, 9056, 1726631, 1228219, 656332, 7632, 462153, 18271, 798839, 14265, 184613, 989, 758699, 131333, 131333, 2739, 6438, 1945, 638165, 308846, 11187, 11187, 1425504, 1274, 3275447, 3023519, 3634077, 26405734, 55739, 78, 16666149, 2094838, 24812, 184613, 93956, 1697343, 6688013, 1523, 58983, 124772, 3533380, 73199, 1089919, 7630, 389, 389, 39, 9191832, 714473, 26, 120586, 1269129, 1705, 3294, 1122955, 33, 55, 11936, 127786, 8227, 993, 721416, 721416, 3404731, 3404731, 276924, 4153001, 660, 12359, 760, 5254900, 27746, 17131, 6688013, 49038, 6524, 4619, 278, 102, 9056, 7, 7338279, 17884, 12034, 26405734, 10547, 3255, 18894, 2199, 5128, 129898, 129898, 131333, 6249, 1840575, 73193, 8919, 171146, 18271, 561149, 12704, 1987015, 4541, 1949, 3265, 244, 9398, 4652, 9031371, 16721, 774744, 12293, 22104, 22104, 22104, 30, 16630, 7837, 2238960, 9191834, 15616, 184613, 408223, 101393, 33417, 26, 76265, 3023519, 184098, 7890, 112301, 184613, 448397, 45524654, 5636, 5135, 24030, 354615, 1697343, 2670042, 2213878, 6289, 462, 34131, 13243, 1210765, 33123, 221, 71068, 706, 1189724, 1512983, 9191834, 251746, 3023519, 548206, 834351, 232990, 5249, 548206, 231535, 1697343, 15671979, 1087, 178, 120586, 9587623, 351260, 251746, 78785, 872, 437106, 116590, 34432, 33974, 3753, 6688013, 16398, 63609, 8225, 156193, 9191834, 156193, 4238216, 239377, 1246722, 393685, 71780, 378, 5108, 20029, 2860, 1881769, 196491, 4725379, 126256, 774744, 11626, 58334, 383365, 49861907, 38105, 130102122, 54565, 184613, 1399161, 81658, 897463, 3085, 7975, 40108, 1167663, 51, 12523, 67525, 251746, 184613, 416002, 416002, 367072, 1896, 38195, 1437009, 21, 603790, 345354, 158551, 74235, 1336533, 5854, 70334, 80464, 1343875, 219214, 5, 2, 13417, 6427, 23509, 1821, 1562, 106770, 194, 11700, 345354, 2670042, 139384, 9191834, 18489, 223007, 1225958, 417157, 16755, 3230194, 240250, 364490, 5135, 29863, 963547, 7245, 1441252, 4991246, 126845, 62512, 18322, 1164175, 4573124, 5050, 251746, 3230194, 75, 18322, 3753, 1189724, 417157, 593529, 55549, 12978, 1399161, 14917508, 196491, 196491, 1987246, 599, 1368, 56863, 638165, 382480, 382480, 638165, 56863, 54491, 280, 6356, 296211, 1290642, 287818, 259523, 1307083, 733, 2503545, 1290642, 99261, 8362, 3530757, 432561, 774, 66644761, 19330, 53967, 265462, 1396826, 1090874, 10486, 287818, 12, 346130, 251746, 710860, 292390, 12289, 6774, 25087, 187722, 7001, 18328, 325389, 251746, 184613, 7906721, 984511, 2700, 415, 19706, 206, 202923, 2911, 226485, 1824478, 798839, 10498, 62003, 1437009, 1021, 339772, 100503, 23372, 5296402, 239377, 417157, 74343, 200244, 21803, 84641, 1436723, 3800946, 1881628, 30708, 888937, 4124, 314453, 22291, 1192, 204875, 205532, 996752, 1697241, 202863, 149904, 592, 53, 1181408, 4171, 665, 6650, 4925, 676, 6650, 126826, 4758, 81572, 11281, 2723, 791081, 3239, 29747771, 265353, 45043, 45075, 2010, 2243, 758654, 251599, 14289, 1469, 195, 191657, 7127380, 251599, 251599, 2503446, 718333, 1441177, 5073211, 164067, 155403, 287, 5789, 25424, 86888, 4135, 2610710, 1681, 19502, 5299193, 45523076, 123271, 2, 358512, 2133892, 45523076, 184603, 1441177, 57745, 575092, 15156, 3800946, 494305, 205944, 345300, 84599, 29652780, 1451177, 134600, 205376, 814366, 828622, 124143, 91714268, 1, 2793, 1553, 6218, 6218, 11751, 1342027, 10307, 71311, 46885, 105477, 1189724, 708695, 27937, 3533380, 710, 487, 3533380, 669, 45320, 165, 663604, 12519, 184613, 10616, 5140, 828276, 209666, 195511, 1246806, 225264, 184613, 184613, 77036, 58634, 17751, 4153001, 26025, 3127520, 154321, 5591108, 202863, 12461, 3483, 139, 113406, 15, 29247, 27760, 3059, 1964, 38617, 671, 37790, 36, 272818, 184613, 1987246, 184613, 2562, 281594, 5286461, 135026, 1249192, 107, 71, 10124, 104346, 1254163, 1254163, 5296402, 204, 154710, 435301, 32459, 4026, 1225958, 1441252, 2403, 133810, 76697, 1117, 16666149, 1108, 26760, 313521, 100823, 1257, 583604, 1210765, 1532602, 889141, 54271, 6080, 2793, 590745, 590745, 11473, 2610952, 3127520, 8303, 92034, 1719806, 3525, 814366, 48079, 177, 251746, 246797, 18379, 407449, 7493, 16554, 33101, 92034, 10359, 38617, 3533380, 54768, 68236, 9630, 706, 68446, 4320, 111, 3533380, 6021, 389381, 9031371, 112110, 15764, 38617, 33417, 507618, 1238, 121, 4213727, 396420, 9817, 506076, 1441252, 22118, 9191834, 924519, 6111, 1683, 924519, 924519, 247522, 924519, 924519, 924519, 924519, 5486, 79853, 65731, 1441252, 10, 3223470, 3223470, 3223470, 3223470, 3223470, 3223470, 3223470, 84599, 20188, 28342, 3223470, 1039259, 461632, 251746, 28342, 251746, 5746, 5266041, 23279, 68236, 251746, 230092, 3223470, 3223470, 824563, 58, 234, 10356874, 2293189, 18176, 230092, 4144465, 1869523, 230092, 6166, 5486, 1254064, 23956, 728, 4144465, 154838, 27544, 2228955, 13292, 20372, 657196, 4619, 30659, 81264, 5908, 90040, 1196, 32176, 80958, 90040, 821527, 115872, 4022, 80806, 959, 133810, 1718335, 38344, 1941, 108, 9191834, 465991, 3533380, 1441252, 9713, 29567, 35052, 10094, 17579, 353543, 13292, 23, 6917, 889141, 13292, 757218, 255, 13621, 55950, 114748, 2382, 9191832, 9196, 76416, 192625, 497377, 17918, 76416, 73870, 30153, 205366, 9556, 1881769, 9282, 9191832, 1254163, 1246, 48397, 1881769, 36831, 2646798, 23108, 5498, 16754, 834205, 12847, 308846, 3552, 9191832, 3552, 1817827, 44517, 3223470, 3223470, 3223470, 3223470, 3223470, 3223470, 3223470, 42, 261340, 412880, 638165, 123943, 5936, 31961, 9191832, 3510, 25358, 498946, 1290642, 498946, 11122607, 21, 649, 210, 318, 5854, 25308, 31925, 162884, 378, 555211, 178364, 6688013, 66995, 9, 405153, 2291, 8844, 8086043, 34, 42, 1441252, 1066, 1237504, 11322, 1532, 38142, 2554, 12181, 2416917, 68196, 204685, 62013, 337, 27389, 282274, 61790, 2273, 3437444, 217969, 250581, 6, 29127, 2213878, 60579, 123], \"yaxis\": \"y\"}, {\"customdata\": [[\"Richard Neher\", \"@richardneher\", 606, 518, \"2012/08/31\"], [\"\\u0634\\u0628\\u0643\\u0629 \\u0639\\u0645\\u064a\\u062f \\u0627\\u0644\\u0625\\u0645\\u0627\\u0631\\u0627\\u062a\", \"@3meed_news\", 87, 158, \"2011/11/09\"], [\"Trevor Bedford\", \"@trvrb\", 1729, 817, \"2010/12/10\"], [\"CNBC\", \"@CNBC\", 19, 842, \"2009/02/09\"], [\"Anderson Cooper 360\\u00b0\", \"@AC360\", 216, 156, \"2010/12/17\"], [\"U.S. Mission Uganda\", \"@usmissionuganda\", 27, 7412, \"2010/10/01\"], [\"\\u89b3\\u5149\\u5e81\\uff08Japan Tourism Agency\\uff09\", \"@Kanko_Jpn\", 504, 109, \"2014/06/12\"], [\"TIMES NOW\", \"@TimesNow\", 291, 375, \"2011/01/20\"], [\"Sachin Sawant \\u0938\\u091a\\u093f\\u0928 \\u0938\\u093e\\u0935\\u0902\\u0924\", \"@sachin_inc\", 164, 693, \"2011/04/28\"], [\"Fot\\u00f3grafo_Gus \\ud83c\\udfa5 \\ud83c\\udfac \\ud83d\\udcf8\", \"@FotografoGus1\", 36, 6049, \"2019/12/15\"], [\"World Health Organization (WHO)\", \"@WHO\", 1223, 1734, \"2008/04/23\"], [\"A Marm Kilpatrick\", \"@DiseaseEcology\", 99, 147, \"2013/08/05\"], [\"Sir Ganga Ram Hospital\", \"@sgrhindia\", 195, 15, \"2016/06/27\"], [\"Vittorio Feltri\", \"@vfeltri\", 3154, 537, \"2012/02/07\"], [\"BNPB Indonesia\", \"@BNPB_Indonesia\", 230, 289, \"2011/08/01\"], [\"UAEGOV\", \"@uaegov\", 46, 92, \"2014/12/14\"], [\"Daniel Silveira\", \"@danielPMERJ\", 383, 469, \"2017/09/26\"], [\"\\u0639\\u0631\\u0627\\u0631\", \"@FiT7xK1I7SnGiB2\", 1, 107, \"2020/06/22\"], [\"Daniel Silveira\", \"@danielPMERJ\", 2712, 469, \"2017/09/26\"], [\"Amalia Andrade A.\", \"@amaliaandrade_\", 605, 2240, \"2008/06/15\"], [\"\\u0641\\u0627\\u0631\\u0633\", \"@Farees_7\", 1, 713, \"2016/01/22\"], [\"Daniel Silveira\", \"@danielPMERJ\", 901, 469, \"2017/09/26\"], [\"UAEGOV\", \"@uaegov\", 86, 92, \"2014/12/14\"], [\"Daniel Silveira\", \"@danielPMERJ\", 1080, 469, \"2017/09/26\"], [\"Juan Ignacio Paolicchi\", \"@JuanPaolicchi\", 141, 1254, \"2010/01/18\"], [\"MinSaludCol\", \"@MinSaludCol\", 396, 814, \"2011/09/11\"], [\"C\\u00e9sar Pach\\u00f3n\", \"@CesarPachonAgro\", 223, 7452, \"2011/11/28\"], [\"Otavio Ranzani\", \"@otavio_ranzani\", 1123, 1066, \"2017/04/03\"], [\"NWP Rural Crime Team /T\\u00eem Troseddau Cefn Gwlad HGC\", \"@NWPRuralCrime\", 8, 660, \"2013/10/07\"], [\"NWP Rural Crime Team /T\\u00eem Troseddau Cefn Gwlad HGC\", \"@NWPRuralCrime\", 7, 660, \"2013/10/07\"], [\"DGAC Guatemala\", \"@guatemala_dgac\", 5, 213, \"2014/05/26\"], [\"ID2020\", \"@ID2020\", 79, 3185, \"2015/05/15\"], [\"Guille M.\", \"@Farmaenfurecida\", 573, 612, \"2012/04/26\"], [\"PDH Guatemala\", \"@PDHgt\", 252, 520, \"2013/09/23\"], [\"Radio SONORA 96.9 FM\", \"@sonora969\", 274, 49, \"2011/01/08\"], [\"Noah Williams\", \"@Bellmanequation\", 7, 999, \"2009/05/05\"], [\"CUCAIBA\", \"@Cucaiba\", 16, 1012, \"2011/05/27\"], [\"Vlada Crne Gore\", \"@VladaCG\", 173, 391, \"2011/12/30\"], [\"Tom Tiffany\", \"@TomTiffanyWI\", 93, 680, \"2015/07/23\"], [\"Lance Allan\", \"@lanceallan\", 8, 201, \"2009/03/18\"], [\"Lance Allan\", \"@lanceallan\", 6, 201, \"2009/03/18\"], [\"\\u89b3\\u5149\\u5e81\\uff08Japan Tourism Agency\\uff09\", \"@Kanko_Jpn\", 548, 109, \"2014/06/12\"], [\"MINEX Guatemala \\ud83c\\uddec\\ud83c\\uddf9\", \"@MinexGt\", 18, 779, \"2010/07/05\"], [\"Embajada de Espa\\u00f1a en Guatemala\", \"@EmbajadaEspGTA\", 22, 852, \"2013/07/09\"], [\"A Marm Kilpatrick\", \"@DiseaseEcology\", 291, 147, \"2013/08/05\"], [\"World Health Organization (WHO)\", \"@WHO\", 834, 1734, \"2008/04/23\"], [\"Luana Volnovich\", \"@luanavolnovich\", 1498, 1363, \"2010/08/30\"], [\"Juli\\u00e1n A. Fern\\u00e1ndez-Ni\\u00f1o\", \"@JFernandeznino\", 1519, 826, \"2010/06/09\"], [\"Simon Shen\", \"@simonshen_glos\", 912, 231, \"2019/10/11\"], [\"World Health Organization (WHO)\", \"@WHO\", 225, 1734, \"2008/04/23\"], [\"Marte Piantini\", \"@MartePiantini\", 225, 6655, \"2012/05/10\"], [\"Hardeep Singh Puri\", \"@HardeepSPuri\", 1662, 1095, \"2014/01/13\"], [\"Ronald Klain\", \"@RonaldKlain\", 170011, 2588, \"2011/02/07\"], [\"PIB in Chandigarh\", \"@PIBChandigarh\", 0, 191, \"2012/04/30\"], [\"PIB Fact Check\", \"@PIBFactCheck\", 599, 31, \"2019/12/19\"], [\"Alicia erazo\", \"@ALICIAERAZO\", 1383, 348, \"2012/08/17\"], [\"Scott Manley\", \"@ManleyWMC\", 33, 566, \"2011/03/10\"], [\"Administrator Seema Verma\", \"@SeemaCMS\", 1177, 348, \"2017/01/19\"], [\"EL HOMBRE NOTICIA\", \"@ArnulfoAgustinG\", 31, 14, \"2020/03/24\"], [\"Diario La Hora\", \"@lahoragt\", 11, 80, \"2010/07/20\"], [\"Ministerio de Salud y Deportes Bolivia\", \"@SaludDeportesBo\", 16, 244, \"2012/05/25\"], [\"Government of Russia\", \"@GovernmentRF\", 835, 23, \"2012/07/12\"], [\"World Health Organization (WHO)\", \"@WHO\", 26998, 1734, \"2008/04/23\"], [\"Travelito\", \"@Travelito24\", 311999, 66926, \"2017/04/29\"], [\"Ivan Petrella\", \"@ipetrella\", 2993, 1981, \"2010/05/31\"], [\"Max Roser\", \"@MaxCRoser\", 610, 1240, \"2012/06/17\"], [\"\\u0625\\u0628\\u0631\\u0627\\u0647\\u064a\\u0645\\u0640 \\u0627\\u0644\\u0639\\u0645\\u0631\\u0627\\u0646\", \"@ibalimran\", 218, 129, \"2011/08/15\"], [\"yousef \\u26a1alshehri \\u303d\\ufe0f\", \"@yalshehri1981\", 0, 1047, \"2019/03/04\"], [\"A_ALMARRI\", \"@AALMARRI2013\", 13, 2558, \"2020/03/21\"], [\"Jean Bezivin\", \"@JBezivin\", 0, 3108, \"2009/05/04\"], [\"C\\u00e9dric O\", \"@cedric_o\", 30, 1512, \"2008/08/04\"], [\"World Health Organization (WHO)\", \"@WHO\", 496, 1734, \"2008/04/23\"], [\"Leandro Cahn \\ud83d\\udc9a\", \"@leandrocahn\", 552, 1219, \"2009/08/31\"], [\"\\u00bfPor qu\\u00e9 es tendencia?\", \"@porquetendencia\", 308, 150, \"2018/03/12\"], [\"CMO Maharashtra\", \"@CMOMaharashtra\", 7430, 99, \"2014/07/01\"], [\"Amir khan\", \"@AmirReport\", 1, 2402, \"2015/10/07\"], [\"Mumbai Mirror\", \"@MumbaiMirror\", 262, 236, \"2012/12/05\"], [\"Natalie E. Dean, PhD\", \"@nataliexdean\", 2105, 676, \"2018/06/08\"], [\"Politic T\\u00fcrk\", \"@politicturk\", 2099, 30, \"2014/06/05\"], [\"Eric Topol\", \"@EricTopol\", 88, 526, \"2009/11/01\"], [\"Giank-deR \\ud83c\\uddee\\ud83c\\uddf9\", \"@GiancarloDeRisi\", 916, 8961, \"2011/11/07\"], [\"Carl T. Bergstrom\", \"@CT_Bergstrom\", 2595, 2110, \"2015/06/07\"], [\"Elon Musk\", \"@elonmusk\", 15837, 103, \"2009/06/02\"], [\"Andrew Cuomo\", \"@NYGovCuomo\", 5773, 622, \"2010/12/30\"], [\"Dulce Rivera\", \"@drivera_gt\", 36, 630, \"2014/07/08\"], [\"Thonburi Hospital\", \"@ThonburiH\", 0, 24, \"2019/09/23\"], [\"\\u0639\\u0628\\u062f\\u0627\\u0644\\u0644\\u0647 \\u0627\\u0644\\u062f\\u0648\\u0627\\u0633\", \"@Abo__salma\", 1, 2168, \"2012/01/14\"], [\"Winston\", \"@Winston_Dunhill\", 1122, 2310, \"2013/01/23\"], [\"Carla Vizzotti\", \"@carlavizzotti\", 6827, 251, \"2010/06/19\"], [\"World Health Organization (WHO)\", \"@WHO\", 248, 1734, \"2008/04/23\"], [\"World Health Organization (WHO) Western Pacific\", \"@WHOWPRO\", 79, 1205, \"2015/10/05\"], [\"Jason Pogue\", \"@jpogue1\", 8200, 184, \"2009/04/25\"], [\"Darren Dahly\", \"@statsepi\", 174, 4075, \"2010/10/02\"], [\"Prof Francois Balloux\", \"@BallouxFrancois\", 145, 720, \"2019/04/04\"], [\"Canal Institucional\", \"@InstitucionalTV\", 5, 253, \"2009/09/01\"], [\"Chad P. Bown\", \"@ChadBown\", 4, 572, \"2016/06/03\"], [\"Alex Salvi\", \"@alexsalvinews\", 383, 3451, \"2017/11/18\"], [\"i24NEWS Fran\\u00e7ais\", \"@i24NEWS_FR\", 489, 552, \"2013/07/01\"], [\"Governor Larry Hogan\", \"@GovLarryHogan\", 1220, 1022, \"2015/01/20\"], [\"Governor Larry Hogan\", \"@GovLarryHogan\", 2272, 1022, \"2015/01/20\"], [\"Galder Gonzalez\\ud83d\\udd3b\", \"@theklaneh\", 2615, 1191, \"2009/01/30\"], [\"Ivan Baumann Fonay\", \"@ivanfbf\", 344, 274, \"2008/05/12\"], [\"Martin Tetaz\", \"@martintetaz\", 143, 2897, \"2010/07/14\"], [\"franceinfo\", \"@franceinfo\", 57, 1286, \"2009/05/07\"], [\"ENT UK\", \"@ENT_UK\", 4141, 840, \"2011/11/11\"], [\"Dr Gaetan Burgio, MD, PhD.\", \"@GaetanBurgio\", 2765, 1576, \"2014/08/14\"], [\"Andrew Lover\", \"@AndrewALover\", 28, 1444, \"2013/06/06\"], [\"Lucas Morin\", \"@lucasmorin_eolc\", 253, 550, \"2018/10/30\"], [\"Lu Chen #nobias\", \"@houndcl\", 72, 241, \"2012/01/27\"], [\"Tomas Uribe Moreno\", \"@tomasuribeEco\", 3793, 496, \"2010/05/01\"], [\"Ikhsan Kamil\", \"@IkhsanK07895159\", 44, 1467, \"2020/04/05\"], [\"Robin Vos\", \"@repvos\", 66, 772, \"2009/03/23\"], [\"Ram Madhav\", \"@rammadhav_rss\", 12225, 304, \"2012/08/11\"], [\"Colegio M\\u00e9dico Col\", \"@ColegioMedicoCo\", 208, 575, \"2017/08/15\"], [\"Mumbai Mirror\", \"@MumbaiMirror\", 279, 236, \"2012/12/05\"], [\"Sen. Jeff Jackson\", \"@JeffJacksonNC\", 29, 2534, \"2010/03/20\"], [\"ANI\", \"@ANI\", 3804, 0, \"2011/08/16\"], [\"PMD News\", \"@PMDNewsGov\", 43, 11, \"2015/08/07\"], [\"ANI\", \"@ANI\", 12239, 0, \"2011/08/16\"], [\"\\u671d\\u65e5\\u65b0\\u805e(asahi shimbun\\uff09\", \"@asahi\", 2922, 317, \"2009/05/27\"], [\"shashank\", \"@shashan29150961\", 0, 18, \"2020/03/26\"], [\"Polizei Berlin Einsatz\", \"@PolizeiBerlin_E\", 1338, 19, \"2014/03/19\"], [\"Roman Camacho\", \"@RCamachoVzla\", 490, 1140, \"2010/11/22\"], [\"Bartolomeo Valletta\", \"@bartvalletta\", 56, 13546, \"2014/02/23\"], [\"Jorge Galindo\", \"@JorgeGalindo\", 50, 1099, \"2008/05/19\"], [\"\\u00c1GUILA NEGRA #BDL\", \"@josel_6027\", 4, 8908, \"2011/08/31\"], [\"World Health Organization Philippines\", \"@WHOPhilippines\", 175, 488, \"2013/11/27\"], [\"Minist\\u00e8re des Solidarit\\u00e9s et de la Sant\\u00e9\", \"@Sante_Gouv\", 403, 648, \"2010/01/28\"], [\"\\u0420\\u0430\\u0434\\u0438\\u043e \\u0421\\u0442\\u044b\\u0434\\u043e\\u0431\\u0430\", \"@RadioStydoba\", 2008, 159, \"2017/08/18\"], [\"Nora B\\u00e4r\", \"@norabar\", 66, 764, \"2010/04/08\"], [\"Polic\\u00eda Municipal de Madrid\", \"@policiademadrid\", 575, 32, \"2011/05/17\"], [\"Polic\\u00eda Municipal de Madrid\", \"@policiademadrid\", 459, 32, \"2011/05/17\"], [\"Polic\\u00eda Municipal de Madrid\", \"@policiademadrid\", 534, 32, \"2011/05/17\"], [\"HospitalPuertadelMar\", \"@HUPMCadiz\", 1004, 380, \"2013/07/03\"], [\"Aurora Gomez\", \"@agomezp1\", 21, 721, \"2011/03/04\"], [\"Christian Estrosi\", \"@cestrosi\", 4596, 1471, \"2009/10/20\"], [\"Polic\\u00eda Municipal de Madrid\", \"@policiademadrid\", 1443, 32, \"2011/05/17\"], [\"Polic\\u00eda Municipal de Madrid\", \"@policiademadrid\", 396, 32, \"2011/05/17\"], [\"Polic\\u00eda Municipal de Madrid\", \"@policiademadrid\", 534, 32, \"2011/05/17\"], [\"IFT\", \"@IFT_MX\", 9, 167, \"2010/01/05\"], [\"World Health Organization (WHO)\", \"@WHO\", 749, 1734, \"2008/04/23\"], [\"PIB India\", \"@PIB_India\", 3612, 269, \"2010/12/27\"], [\"randahcini\", \"@HcinirandaC\", 17, 1611, \"2020/01/22\"], [\"\\ud83c\\udde9\\ud83c\\uddff\\u4f0a\\u65af\\u862d\\u6559\\ud83c\\uddf5\\ud83c\\uddf8\\u2d63ISLAM\\ud83d\\udd30\\u2d63\\ud83c\\uddf5\\ud83c\\uddf8\\u0438\\u0441\\u043b\\u0430\\u043c\\ud83c\\udde9\\ud83c\\uddff\", \"@Sahnoun94594452\", 0, 2276, \"2019/03/11\"], [\"abdulmohsin Alm\", \"@abdulmohsinAlm\", 0, 936, \"2010/12/29\"], [\"Sid\\u00ae\", \"@sid_sssay\", 0, 4369, \"2012/07/10\"], [\"ANI\", \"@ANI\", 316, 0, \"2011/08/16\"], [\"Falko Liecke\", \"@falkone1\", 1447, 718, \"2011/01/29\"], [\"Polic\\u00eda Municipal de Madrid\", \"@policiademadrid\", 204, 32, \"2011/05/17\"], [\"World Health Organization (WHO)\", \"@WHO\", 126, 1734, \"2008/04/23\"], [\"World Health Organization (WHO)\", \"@WHO\", 391, 1734, \"2008/04/23\"], [\"World Health Organization (WHO)\", \"@WHO\", 354, 1734, \"2008/04/23\"], [\"Trump War Room\", \"@TrumpWarRoom\", 5901, 267, \"2019/03/20\"], [\"Giuseppe Conte\", \"@GiuseppeConteIT\", 31490, 135, \"2018/05/24\"], [\"Joe Biden\", \"@JoeBiden\", 102985, 46, \"2007/03/11\"], [\"World News Tonight\", \"@ABCWorldNews\", 13, 446, \"2009/10/29\"], [\"Radio ZET NEWS\", \"@RadioZET_NEWS\", 1647, 809, \"2012/04/25\"], [\"\\u0627 \\u0644\\u0640 \\u062d\\u0640 \\u0640\\u062f \\u062b\", \"@AlHadath\", 63, 44, \"2011/02/01\"], [\"Ghinwa Yatim\", \"@GhinwaYatim\", 110, 2264, \"2010/12/16\"], [\"Ghinwa Yatim\", \"@GhinwaYatim\", 17, 2264, \"2010/12/16\"], [\"\\ud83e\\udd4a#Voice_Of_Youth \\ud83e\\udd4aSWM\\ud83c\\uddee\\ud83c\\uddf3\", \"@RajeshK_Bharja\", 63, 2370, \"2018/02/17\"], [\"Akash Ambar(IsupportFarmers)\", \"@akashyphd\", 1, 1887, \"2018/02/23\"], [\"Portal Drauzio\", \"@drauziovarella\", 3758, 373, \"2009/10/22\"], [\"Luigi Di Maio\", \"@luigidimaio\", 272, 350, \"2009/06/17\"], [\"Urvah.bearing\\ud83d\\udeac\\ud83d\\udeac\\ud83d\\udeac\\ud83d\\udc9d\\u2764\\u2764\", \"@MominUrban\", 0, 415, \"2017/07/10\"], [\"Duey Stroebel\", \"@SenStroebel\", 13, 656, \"2015/04/22\"], [\"Giuseppe Conte\", \"@GiuseppeConteIT\", 4132, 135, \"2018/05/24\"], [\"Jair M. Bolsonaro\", \"@jairbolsonaro\", 47367, 552, \"2010/03/31\"], [\"Ted Cruz\", \"@tedcruz\", 9921, 5426, \"2009/03/06\"], [\"Ministerstwo Zdrowia\", \"@MZ_GOV_PL\", 730, 1173, \"2012/01/13\"], [\"Faisal Javed Khan\", \"@FaisalJavedKhan\", 8242, 1340, \"2011/03/04\"], [\"Dilsedesh\", \"@Dilsedesh\", 4, 1346, \"2016/03/16\"], [\"Sputnik T\\u00fcrkiye\", \"@sputnik_TR\", 116, 17, \"2011/11/30\"], [\"Syeda Trimzi\", \"@TrimiziiiSyeda\", 204, 2126, \"2019/09/05\"], [\"Rupin Sharma IPS\", \"@rupin1992\", 794, 2184, \"2016/11/02\"], [\"Pinol El Original\", \"@PinolElOriginal\", 6, 1524, \"2010/03/19\"], [\"HELIOS\", \"@helios_en\", 41, 34, \"2014/08/30\"], [\"NBS Television\", \"@nbstv\", 1369, 210, \"2011/07/29\"], [\"1m98\", \"@SoufOff\", 184, 35, \"2019/06/28\"], [\"Lijian Zhao \\u8d75\\u7acb\\u575a\", \"@zlj517\", 14302, 174817, \"2010/05/08\"], [\"moises \\u00e1vila rold\\u00e1n\", \"@moyavila\", 22, 4182, \"2009/08/21\"], [\"Harrison\", \"@harri_010\", 4, 17895, \"2012/07/26\"], [\"Madonna\", \"@Madonna\", 15491, 45, \"2012/03/03\"], [\"BlackSabbath\", \"@BlackSabbath\", 38312, 15, \"2011/01/11\"], [\"Marco Rubio\", \"@marcorubio\", 4283, 2483, \"2008/08/06\"], [\"Joanna\", \"@JoannaGrams\", 12, 292, \"2009/08/31\"], [\"Portal Drauzio\", \"@drauziovarella\", 8380, 373, \"2009/10/22\"], [\"Famiyesin Mike\", \"@MikeFamiyesin\", 7, 1237, \"2013/03/06\"], [\"Sharafat Hussain\", \"@Sharafa10041128\", 1, 117, \"2019/08/17\"], [\"KKMalaysia\\ud83c\\uddf2\\ud83c\\uddfe\", \"@KKMPutrajaya\", 1789, 97, \"2012/03/20\"], [\"Adela Micha\", \"@Adela_Micha\", 117, 585, \"2009/09/01\"], [\"\\u0623\\u0641\\u0643\\u0627\\u0631 \\u0645\\u0630\\u0647\\u0644\\u0629\", \"@facts4444\", 114, 22, \"2018/10/21\"], [\"\\u062d\\u0642\\u0627\\u0626\\u0642 \\u0645\\u0630\\u0647\\u0644\\u0629\", \"@facts444\", 4756, 60, \"2014/01/18\"], [\"\\u0647\\u0643\\u0631 \\u0627\\u0644\\u0645\\u062c\\u062a\\u0645\\u0639  \\ud83c\\udf0e\", \"@ksa_hk23\", 18, 594, \"2014/08/05\"], [\"Paolo A. Ascierto\", \"@PAscierto\", 198, 253, \"2012/03/13\"], [\"World Health Organization (WHO)\", \"@WHO\", 806, 1734, \"2008/04/23\"], [\"Makemery\", \"@Mous_taffe\", 23692, 380, \"2016/04/08\"], [\"Aeronautica Militare\", \"@ItalianAirForce\", 6655, 428, \"2013/03/19\"], [\"Kim Kardashian West\", \"@KimKardashian\", 229102, 121, \"2009/03/19\"], [\"Trump War Room\", \"@TrumpWarRoom\", 7845, 267, \"2019/03/20\"], [\"Himanshu Kushwaha\", \"@Himansh91694280\", 170, 168, \"2018/11/21\"], [\"Janne Riihel\\u00e4inen \\ud83c\\uddeb\\ud83c\\uddee\\ud83c\\udff4\\udb40\\udc67\\udb40\\udc62\\udb40\\udc73\\udb40\\udc63\\udb40\\udc74\\udb40\\udc7f\\ud83c\\uddea\\ud83c\\uddfa\", \"@veitera\", 161, 4931, \"2012/10/23\"], [\"Office of the Prime Minister - Ethiopia\", \"@PMEthiopia\", 328, 72, \"2018/11/04\"], [\"Bundesagentur f\\u00fcr Arbeit\", \"@Bundesagentur\", 1199, 651, \"2012/08/16\"], [\"Greg Hunt\", \"@GregHuntMP\", 883, 2734, \"2009/07/27\"], [\"Jean-Baptiste Jeang\\u00e8ne Vilmer\", \"@jeangene_vilmer\", 174, 2274, \"2011/10/22\"], [\"Government of Punjab\", \"@GovtofPunjabPK\", 59, 154, \"2018/08/20\"], [\"Office of the Prime Minister - Ethiopia\", \"@PMEthiopia\", 308, 72, \"2018/11/04\"], [\"MoH ETHIOPIA\", \"@FMoHealth\", 24, 245, \"2013/02/14\"], [\"Ben Cowling\", \"@bencowling88\", 49, 103, \"2010/12/30\"], [\"\\u0627\\u0644\\u0645\\u0646\\u0628\\u0639 \\u0627\\u0644\\u0627\\u062e\\u0628\\u0627\\u0631\\u064a\", \"@almanbae_news\", 2, 0, \"2016/10/01\"], [\"Dr. Mohammad Ebrahim\", \"@mohebrahim85\", 797, 1700, \"2012/04/04\"], [\"BBC NEWS \\u0641\\u0627\\u0631\\u0633\\u06cc\", \"@bbcpersian\", 313, 13, \"2007/02/23\"], [\"People's Daily, China\", \"@PDChina\", 82, 4377, \"2011/05/23\"], [\"BFMTV\", \"@BFMTV\", 15, 583, \"2010/04/16\"], [\"Rep. Paul Gosar, DDS\", \"@RepGosar\", 615, 4468, \"2011/01/20\"], [\"Ursula von der Leyen\", \"@vonderleyen\", 4031, 158, \"2019/07/03\"], [\"Sir H\\u033d\\u0353\\u033d\\u0353\\u033d\\u0353E\\u033d\\u0353\\u033d\\u0353N\\u033d\\u0353RY\\u2122\", \"@SirHenryKau\", 2245, 54952, \"2016/08/13\"], [\"Ursula von der Leyen\", \"@vonderleyen\", 4363, 158, \"2019/07/03\"], [\"Alejandro Balsells Conde\", \"@Alex_balsells\", 106, 8037, \"2011/12/30\"], [\"Zafar Mirza\", \"@zfrmrza\", 5148, 281, \"2009/07/11\"], [\"CGTN\", \"@CGTNOfficial\", 16469, 70, \"2013/01/24\"], [\"Mrs S\", \"@MRSS11224611\", 7, 1959, \"2019/09/16\"], [\"H o l l y\", \"@hollyhaygood\", 30, 6677, \"2009/06/22\"], [\"H\\u00f4pital d'Argenteuil (officiel)\", \"@CH_Argenteuil\", 44, 218, \"2018/10/15\"], [\"Matteo Salvini\", \"@matteosalvinimi\", 3456, 2007, \"2011/03/23\"], [\"Brendan Larsen\", \"@bblarsen1\", 117, 376, \"2016/05/25\"], [\"Amy Cheng\", \"@Taihoku1895\", 66, 470, \"2019/05/01\"], [\"John Nelson\", \"@Attila70260000\", 0, 550, \"2019/09/02\"], [\"MR.486\", \"@kiss486\", 363, 2536, \"2009/12/16\"], [\"The_Web_Warrior\", \"@The_Web_Warrior\", 2, 748, \"2019/10/09\"], [\"nerd\", \"@nerd_hawk\", 2507, 252, \"2009/06/26\"], [\"Gobernaci\\u00f3n del Tolima\", \"@gobertolima\", 13, 427, \"2009/09/21\"], [\"MinSaludCol\", \"@MinSaludCol\", 44, 814, \"2011/09/11\"], [\"Aduma Mutiva\", \"@nepmutiva\", 619, 8524, \"2013/01/29\"], [\"Farhang F. Namdar\", \"@FarhangNamdar\", 1423, 24634, \"2017/03/02\"], [\"\\u0e01\\u0e23\\u0e30\\u0e17\\u0e23\\u0e27\\u0e07\\u0e2a\\u0e32\\u0e18\\u0e32\\u0e23\\u0e13\\u0e2a\\u0e38\\u0e02\", \"@pr_moph\", 82, 494, \"2010/05/14\"], [\"Aaron Rupar\", \"@atrupar\", 17543, 998, \"2011/04/26\"], [\"Dana Milbank\", \"@Milbank\", 153345, 1101, \"2009/01/27\"], [\"Department of Health and Social Care\", \"@DHSCgovuk\", 389, 852, \"2009/05/05\"], [\"Dr. Fahrettin Koca\", \"@drfahrettinkoca\", 6782, 28, \"2018/07/09\"], [\"Aaron Rupar\", \"@atrupar\", 8001, 998, \"2011/04/26\"], [\"BabyKay\\ud83c\\udf52\", \"@kaym0na3\", 38, 170, \"2017/10/30\"], [\"tyler pazar\", \"@tylerpazar\", 19, 20, \"2012/08/05\"], [\"The White House 45 Archived\", \"@WhiteHouse45\", 7466, 11, \"2017/01/19\"], [\"Rep. Matt Gaetz\", \"@RepMattGaetz\", 8249, 861, \"2017/01/10\"], [\"Newsmax\", \"@newsmax\", 320, 568, \"2009/02/10\"], [\"James Woods\", \"@RealJamesWoods\", 13138, 4407, \"2009/09/30\"], [\"Hey Jude voting makes a sad song better\", \"@BostonJudy3\", 5421, 13060, \"2019/02/25\"], [\"Buca di Beppo\", \"@bucadibeppo\", 16, 9587, \"2010/02/11\"], [\"Stephanie Ruhle\", \"@SRuhle\", 23159, 1651, \"2011/09/30\"], [\"Kalyan Varma\", \"@KalyanVarma\", 72, 1063, \"2008/04/17\"], [\"Gianluca\", \"@lukeskila\", 36434, 346, \"2016/10/11\"], [\"Kendall Brown\", \"@kendallybrown\", 75201, 4523, \"2009/02/08\"], [\"Keira Savage\", \"@KeiraSavage00\", 610, 1617, \"2014/03/23\"], [\"Rex Chapman\\ud83c\\udfc7\\ud83c\\udffc\", \"@RexChapman\", 290609, 22091, \"2011/06/27\"], [\"Molly Shah\", \"@MollyOShah\", 97628, 860, \"2008/08/09\"], [\"Elon Musk\", \"@elonmusk\", 464512, 103, \"2009/06/02\"], [\"robertklemko\", \"@RobertKlemko\", 676937, 2369, \"2010/11/21\"], [\"TjSingh\", \"@covsinghtj\", 16739, 470, \"2009/12/11\"], [\"Jason Miller\", \"@JasonLikesIowa\", 10, 223, \"2019/09/18\"], [\"Mavr\", \"@Myrkulite\", 20, 1303, \"2014/10/15\"], [\"Harbhajan Turbanator\", \"@harbhajan_singh\", 17480, 147, \"2009/11/27\"], [\"Parveen Kaswan, IFS\", \"@ParveenKaswan\", 293, 385, \"2013/01/01\"], [\"Hillary Clinton\", \"@HillaryClinton\", 122270, 919, \"2013/04/09\"], [\"Nick Hinton\", \"@NickHintonn\", 6162, 522, \"2011/06/25\"], [\"Elon Musk\", \"@elonmusk\", 83977, 103, \"2009/06/02\"], [\"Daily Mail US\", \"@DailyMail\", 63, 1815, \"2011/09/26\"], [\"NowThis\", \"@nowthisnews\", 38832, 11757, \"2012/07/17\"], [\"Jimmy Cuadros\", \"@cuadrosr\", 44, 1446, \"2012/03/26\"], [\"Anshul Chopra\", \"@anshulchopraa\", 16016, 8, \"2019/11/03\"], [\"Mara Carfagna\", \"@mara_carfagna\", 1254, 1811, \"2010/01/13\"], [\"John McAfee\", \"@officialmcafee\", 5134, 14124, \"2012/11/21\"], [\"aperiozar\", \"@aperiozar\", 1, 1822, \"2009/01/03\"], [\"D\\u00f3n Grieshnak\", \"@DGrieshnak\", 26131, 222, \"2019/02/19\"], [\"\\u897f\\u6751\\u5e78\\u7950\", \"@kohyu1952\", 540, 3355, \"2010/01/29\"], [\"Daily Mail Online\", \"@MailOnline\", 39, 2239, \"2008/07/15\"], [\"Josh Marshall\", \"@joshtpm\", 2571, 835, \"2009/02/19\"], [\"John McAfee\", \"@officialmcafee\", 970, 14124, \"2012/11/21\"], [\"Jake \\ud83c\\udf0f\", \"@morphonios\", 4356, 337, \"2009/06/05\"], [\"Romaan Shaikh\", \"@RUMAANSHAIKH\", 296, 4336, \"2010/12/23\"], [\"\\u897f\\u6751\\u5e78\\u7950\", \"@kohyu1952\", 4560, 3355, \"2010/01/29\"], [\"Steny (Wear a Mask) Hoyer\", \"@LeaderHoyer\", 20, 5236, \"2009/02/26\"], [\"Jon Cooper \\ud83c\\uddfa\\ud83c\\uddf8\", \"@joncoopertweets\", 37953, 51599, \"2009/03/29\"]], \"hovertemplate\": \"Type of tweet=partially false<br>Date=%{x}<br>Followers count=%{y}<br>Tweet Likes count=%{customdata[2]}<br>Name=%{customdata[0]}<br>Username=%{customdata[1]}<br>Friends count=%{customdata[3]}<br>Account created on=%{customdata[4]}<extra></extra>\", \"legendgroup\": \"partially false\", \"marker\": {\"color\": \"#EF553B\", \"line\": {\"color\": \"DarkSlateGrey\", \"width\": 1}, \"opacity\": 0.8, \"size\": [606, 87, 1729, 19, 216, 27, 504, 291, 164, 36, 1223, 99, 195, 3154, 230, 46, 383, 1, 2712, 605, 1, 901, 86, 1080, 141, 396, 223, 1123, 8, 7, 5, 79, 573, 252, 274, 7, 16, 173, 93, 8, 6, 548, 18, 22, 291, 834, 1498, 1519, 912, 225, 225, 1662, 170011, 0, 599, 1383, 33, 1177, 31, 11, 16, 835, 26998, 311999, 2993, 610, 218, 0, 13, 0, 30, 496, 552, 308, 7430, 1, 262, 2105, 2099, 88, 916, 2595, 15837, 5773, 36, 0, 1, 1122, 6827, 248, 79, 8200, 174, 145, 5, 4, 383, 489, 1220, 2272, 2615, 344, 143, 57, 4141, 2765, 28, 253, 72, 3793, 44, 66, 12225, 208, 279, 29, 3804, 43, 12239, 2922, 0, 1338, 490, 56, 50, 4, 175, 403, 2008, 66, 575, 459, 534, 1004, 21, 4596, 1443, 396, 534, 9, 749, 3612, 17, 0, 0, 0, 316, 1447, 204, 126, 391, 354, 5901, 31490, 102985, 13, 1647, 63, 110, 17, 63, 1, 3758, 272, 0, 13, 4132, 47367, 9921, 730, 8242, 4, 116, 204, 794, 6, 41, 1369, 184, 14302, 22, 4, 15491, 38312, 4283, 12, 8380, 7, 1, 1789, 117, 114, 4756, 18, 198, 806, 23692, 6655, 229102, 7845, 170, 161, 328, 1199, 883, 174, 59, 308, 24, 49, 2, 797, 313, 82, 15, 615, 4031, 2245, 4363, 106, 5148, 16469, 7, 30, 44, 3456, 117, 66, 0, 363, 2, 2507, 13, 44, 619, 1423, 82, 17543, 153345, 389, 6782, 8001, 38, 19, 7466, 8249, 320, 13138, 5421, 16, 23159, 72, 36434, 75201, 610, 290609, 97628, 464512, 676937, 16739, 10, 20, 17480, 293, 122270, 6162, 83977, 63, 38832, 44, 16016, 1254, 5134, 1, 26131, 540, 39, 2571, 970, 4356, 296, 4560, 20, 37953], \"sizemode\": \"area\", \"sizeref\": 2547.7875, \"symbol\": \"circle\"}, \"mode\": \"markers\", \"name\": \"partially false\", \"showlegend\": true, \"type\": \"scattergl\", \"x\": [\"2020-03-04T00:00:00\", \"2020-03-27T00:00:00\", \"2020-05-06T00:00:00\", \"2020-05-19T00:00:00\", \"2020-05-26T00:00:00\", \"2020-05-26T00:00:00\", \"2020-05-27T00:00:00\", \"2020-05-27T00:00:00\", \"2020-05-27T00:00:00\", \"2020-06-01T00:00:00\", \"2020-06-08T00:00:00\", \"2020-06-08T00:00:00\", \"2020-06-11T00:00:00\", \"2020-06-13T00:00:00\", \"2020-06-14T00:00:00\", \"2020-06-24T00:00:00\", \"2020-06-25T00:00:00\", \"2020-06-26T00:00:00\", \"2020-06-30T00:00:00\", \"2020-06-30T00:00:00\", \"2020-07-01T00:00:00\", \"2020-07-08T00:00:00\", \"2020-07-18T00:00:00\", \"2020-07-18T00:00:00\", \"2020-08-07T00:00:00\", \"2020-08-11T00:00:00\", \"2020-08-12T00:00:00\", \"2020-08-13T00:00:00\", \"2020-01-16T00:00:00\", \"2020-01-16T00:00:00\", \"2020-04-12T00:00:00\", \"2020-04-15T00:00:00\", \"2020-05-02T00:00:00\", \"2020-05-18T00:00:00\", \"2020-05-18T00:00:00\", \"2020-05-19T00:00:00\", \"2020-05-20T00:00:00\", \"2020-05-25T00:00:00\", \"2020-05-26T00:00:00\", \"2020-05-26T00:00:00\", \"2020-05-27T00:00:00\", \"2020-05-27T00:00:00\", \"2020-06-02T00:00:00\", \"2020-06-04T00:00:00\", \"2020-06-08T00:00:00\", \"2020-06-09T00:00:00\", \"2020-08-06T00:00:00\", \"2020-08-11T00:00:00\", \"2020-02-16T00:00:00\", \"2020-04-20T00:00:00\", \"2020-05-08T00:00:00\", \"2020-05-11T00:00:00\", \"2020-05-12T00:00:00\", \"2020-05-12T00:00:00\", \"2020-05-12T00:00:00\", \"2020-05-15T00:00:00\", \"2020-05-19T00:00:00\", \"2020-05-21T00:00:00\", \"2020-05-25T00:00:00\", \"2020-05-26T00:00:00\", \"2020-08-09T00:00:00\", \"2020-08-11T00:00:00\", \"2020-01-14T00:00:00\", \"2020-03-22T00:00:00\", \"2020-03-30T00:00:00\", \"2020-04-10T00:00:00\", \"2020-05-20T00:00:00\", \"2020-05-23T00:00:00\", \"2020-05-23T00:00:00\", \"2020-05-26T00:00:00\", \"2020-05-27T00:00:00\", \"2020-08-03T00:00:00\", \"2020-08-27T00:00:00\", \"2020-08-27T00:00:00\", \"2020-03-22T00:00:00\", \"2020-03-23T00:00:00\", \"2020-03-23T00:00:00\", \"2020-04-18T00:00:00\", \"2020-04-19T00:00:00\", \"2020-04-20T00:00:00\", \"2020-04-22T00:00:00\", \"2020-04-26T00:00:00\", \"2020-04-26T00:00:00\", \"2020-04-27T00:00:00\", \"2020-05-04T00:00:00\", \"2020-05-07T00:00:00\", \"2020-05-22T00:00:00\", \"2020-08-27T00:00:00\", \"2020-08-27T00:00:00\", \"2020-01-19T00:00:00\", \"2020-01-21T00:00:00\", \"2020-03-20T00:00:00\", \"2020-03-21T00:00:00\", \"2020-03-28T00:00:00\", \"2020-04-03T00:00:00\", \"2020-04-04T00:00:00\", \"2020-04-13T00:00:00\", \"2020-04-16T00:00:00\", \"2020-04-21T00:00:00\", \"2020-04-21T00:00:00\", \"2020-04-26T00:00:00\", \"2020-07-30T00:00:00\", \"2020-07-30T00:00:00\", \"2020-03-18T00:00:00\", \"2020-03-20T00:00:00\", \"2020-03-21T00:00:00\", \"2020-03-22T00:00:00\", \"2020-03-28T00:00:00\", \"2020-03-28T00:00:00\", \"2020-04-05T00:00:00\", \"2020-04-07T00:00:00\", \"2020-04-08T00:00:00\", \"2020-04-15T00:00:00\", \"2020-07-02T00:00:00\", \"2020-02-29T00:00:00\", \"2020-03-19T00:00:00\", \"2020-03-30T00:00:00\", \"2020-03-31T00:00:00\", \"2020-04-01T00:00:00\", \"2020-04-02T00:00:00\", \"2020-04-03T00:00:00\", \"2020-04-03T00:00:00\", \"2020-04-03T00:00:00\", \"2020-04-04T00:00:00\", \"2020-04-06T00:00:00\", \"2020-04-06T00:00:00\", \"2020-02-08T00:00:00\", \"2020-02-26T00:00:00\", \"2020-03-16T00:00:00\", \"2020-03-18T00:00:00\", \"2020-03-19T00:00:00\", \"2020-03-20T00:00:00\", \"2020-03-21T00:00:00\", \"2020-03-21T00:00:00\", \"2020-03-21T00:00:00\", \"2020-03-22T00:00:00\", \"2020-03-22T00:00:00\", \"2020-03-23T00:00:00\", \"2020-03-24T00:00:00\", \"2020-03-26T00:00:00\", \"2020-03-26T00:00:00\", \"2020-03-30T00:00:00\", \"2020-03-30T00:00:00\", \"2020-03-31T00:00:00\", \"2020-04-03T00:00:00\", \"2020-04-04T00:00:00\", \"2020-04-04T00:00:00\", \"2020-04-06T00:00:00\", \"2020-04-08T00:00:00\", \"2020-06-03T00:00:00\", \"2020-06-18T00:00:00\", \"2020-06-18T00:00:00\", \"2020-03-12T00:00:00\", \"2020-03-14T00:00:00\", \"2020-03-18T00:00:00\", \"2020-03-19T00:00:00\", \"2020-03-19T00:00:00\", \"2020-03-20T00:00:00\", \"2020-03-20T00:00:00\", \"2020-03-21T00:00:00\", \"2020-03-21T00:00:00\", \"2020-03-22T00:00:00\", \"2020-03-22T00:00:00\", \"2020-03-22T00:00:00\", \"2020-03-24T00:00:00\", \"2020-03-24T00:00:00\", \"2020-03-25T00:00:00\", \"2020-03-25T00:00:00\", \"2020-03-25T00:00:00\", \"2020-03-26T00:00:00\", \"2020-03-27T00:00:00\", \"2020-03-27T00:00:00\", \"2020-06-05T00:00:00\", \"2020-06-12T00:00:00\", \"2020-08-18T00:00:00\", \"2020-02-12T00:00:00\", \"2020-02-25T00:00:00\", \"2020-03-08T00:00:00\", \"2020-03-09T00:00:00\", \"2020-03-12T00:00:00\", \"2020-03-13T00:00:00\", \"2020-03-14T00:00:00\", \"2020-03-15T00:00:00\", \"2020-03-18T00:00:00\", \"2020-03-19T00:00:00\", \"2020-03-20T00:00:00\", \"2020-03-22T00:00:00\", \"2020-03-22T00:00:00\", \"2020-03-23T00:00:00\", \"2020-03-31T00:00:00\", \"2020-05-01T00:00:00\", \"2020-06-18T00:00:00\", \"2020-06-18T00:00:00\", \"2020-06-27T00:00:00\", \"2020-03-06T00:00:00\", \"2020-03-09T00:00:00\", \"2020-03-09T00:00:00\", \"2020-03-11T00:00:00\", \"2020-03-12T00:00:00\", \"2020-03-12T00:00:00\", \"2020-03-13T00:00:00\", \"2020-03-13T00:00:00\", \"2020-03-16T00:00:00\", \"2020-03-16T00:00:00\", \"2020-03-17T00:00:00\", \"2020-03-18T00:00:00\", \"2020-03-19T00:00:00\", \"2020-04-08T00:00:00\", \"2020-05-31T00:00:00\", \"2020-06-06T00:00:00\", \"2020-06-19T00:00:00\", \"2020-07-12T00:00:00\", \"2020-03-03T00:00:00\", \"2020-03-05T00:00:00\", \"2020-03-05T00:00:00\", \"2020-03-09T00:00:00\", \"2020-03-15T00:00:00\", \"2020-03-16T00:00:00\", \"2020-03-16T00:00:00\", \"2020-03-17T00:00:00\", \"2020-04-07T00:00:00\", \"2020-01-24T00:00:00\", \"2020-01-25T00:00:00\", \"2020-01-26T00:00:00\", \"2020-01-27T00:00:00\", \"2020-01-29T00:00:00\", \"2020-01-31T00:00:00\", \"2020-02-02T00:00:00\", \"2020-02-05T00:00:00\", \"2020-02-07T00:00:00\", \"2020-02-09T00:00:00\", \"2020-02-11T00:00:00\", \"2020-02-12T00:00:00\", \"2020-02-12T00:00:00\", \"2020-02-18T00:00:00\", \"2020-02-20T00:00:00\", \"2020-02-26T00:00:00\", \"2020-02-28T00:00:00\", \"2020-02-29T00:00:00\", \"2020-03-02T00:00:00\", \"2020-03-02T00:00:00\", \"2020-03-06T00:00:00\", \"2020-03-25T00:00:00\", \"2020-03-26T00:00:00\", \"2020-04-05T00:00:00\", \"2020-04-18T00:00:00\", \"2020-04-18T00:00:00\", \"2020-02-13T00:00:00\", \"2020-03-14T00:00:00\", \"2020-05-13T00:00:00\", \"2020-05-19T00:00:00\", \"2020-03-26T00:00:00\", \"2020-03-17T00:00:00\", \"2020-03-22T00:00:00\", \"2020-03-05T00:00:00\", \"2020-04-01T00:00:00\", \"2020-05-13T00:00:00\", \"2020-05-11T00:00:00\", \"2020-04-13T00:00:00\", \"2020-04-03T00:00:00\", \"2020-04-22T00:00:00\", \"2020-04-19T00:00:00\", \"2020-04-03T00:00:00\", \"2020-03-27T00:00:00\", \"2020-04-14T00:00:00\", \"2020-02-16T00:00:00\", \"2020-05-13T00:00:00\", \"2020-02-11T00:00:00\", \"2020-04-09T00:00:00\", \"2020-07-01T00:00:00\", \"2020-04-03T00:00:00\", \"2020-05-14T00:00:00\", \"2020-04-18T00:00:00\", \"2020-02-18T00:00:00\", \"2020-03-26T00:00:00\", \"2020-01-25T00:00:00\", \"2020-01-27T00:00:00\", \"2020-03-24T00:00:00\", \"2020-04-26T00:00:00\", \"2020-04-10T00:00:00\", \"2020-04-04T00:00:00\", \"2020-01-25T00:00:00\", \"2020-04-21T00:00:00\", \"2020-04-10T00:00:00\"], \"xaxis\": \"x\", \"y\": [11799, 396420, 308846, 4060791, 1693161, 164057, 94183, 9982707, 77148, 6286, 9191832, 10477, 1388, 492088, 393685, 215385, 142396, 98, 142396, 89080, 938, 142396, 215385, 142396, 4601, 1441252, 119150, 32804, 16522, 16522, 12537, 9514, 64076, 149906, 832902, 2756, 5970, 31713, 6742, 11439, 11439, 94183, 47625, 5688, 10477, 9191833, 91355, 18345, 31113, 9191833, 92710, 383271, 410418, 8182, 184613, 2223, 1371, 39980, 6365, 355045, 66995, 242514, 9191834, 85478, 30759, 250383, 3856, 540, 3842, 3757, 50142, 9191834, 20029, 824563, 2503545, 1082, 408739, 110390, 117531, 405152, 18629, 134771, 49861891, 2610952, 26352, 60, 1469, 151994, 79196, 9191832, 196491, 6444, 17654, 86164, 161605, 51926, 95277, 56363, 241822, 241822, 9280, 1706, 221939, 1834707, 5649, 12284, 2319, 3327, 1181, 121666, 858, 7535, 1054554, 9402, 408739, 80169, 5296402, 23769, 5296402, 1290394, 0, 407629, 309919, 13174, 58121, 68688, 84599, 279183, 43236, 115713, 409511, 409511, 409511, 3928, 195, 184246, 409511, 409511, 409511, 71625, 9191832, 2271776, 2983, 516, 1056, 1473, 5296402, 2057, 409511, 9191832, 9191832, 9191832, 1342556, 996752, 29747771, 1509320, 82435, 9345869, 14193, 14193, 5758, 1973, 402744, 730515, 557, 2397, 996752, 6686535, 4380398, 407388, 2238721, 135252, 1029469, 8659, 8869, 5462, 1714, 764168, 64, 889141, 3071, 18472, 2708943, 2112563, 4213727, 1464, 402775, 333, 23, 1254163, 4876074, 37039, 1511693, 30672, 1777, 9191834, 778, 100937, 69636842, 1343875, 30, 9303, 443476, 11139, 75746, 7276, 620562, 443476, 122888, 7517, 7262, 9631, 1582673, 6992478, 3040126, 141726, 561076, 56735, 561076, 25176, 238714, 13638431, 4539, 6893, 1117, 1396826, 414, 20286, 248, 15958, 214, 398, 17187, 1441252, 8228, 27487, 202923, 664839, 120034, 710860, 7050620, 664839, 246, 11, 26405734, 1286123, 862987, 2416917, 12812, 19036, 670995, 13361, 2132, 21538, 17348, 1159147, 3138, 49861910, 52219, 485, 58, 390, 11122607, 264051, 30962327, 113077, 49861910, 331944, 2759383, 1901, 403, 229992, 1050704, 1396, 1420, 213553, 2612131, 359675, 1050704, 14949, 1936, 213553, 157622, 783107], \"yaxis\": \"y\"}],                        {\"legend\": {\"itemsizing\": \"constant\", \"title\": {\"text\": \"Type of tweet\"}, \"tracegroupgap\": 0}, \"template\": {\"data\": {\"bar\": [{\"error_x\": {\"color\": \"#2a3f5f\"}, \"error_y\": {\"color\": \"#2a3f5f\"}, \"marker\": {\"line\": {\"color\": \"#E5ECF6\", \"width\": 0.5}}, \"type\": \"bar\"}], \"barpolar\": [{\"marker\": {\"line\": {\"color\": \"#E5ECF6\", \"width\": 0.5}}, \"type\": \"barpolar\"}], \"carpet\": [{\"aaxis\": {\"endlinecolor\": \"#2a3f5f\", \"gridcolor\": \"white\", \"linecolor\": \"white\", \"minorgridcolor\": \"white\", \"startlinecolor\": \"#2a3f5f\"}, \"baxis\": {\"endlinecolor\": \"#2a3f5f\", \"gridcolor\": \"white\", \"linecolor\": \"white\", \"minorgridcolor\": \"white\", \"startlinecolor\": \"#2a3f5f\"}, \"type\": \"carpet\"}], \"choropleth\": [{\"colorbar\": {\"outlinewidth\": 0, \"ticks\": \"\"}, \"type\": \"choropleth\"}], \"contour\": [{\"colorbar\": {\"outlinewidth\": 0, \"ticks\": \"\"}, \"colorscale\": [[0.0, \"#0d0887\"], [0.1111111111111111, \"#46039f\"], [0.2222222222222222, \"#7201a8\"], [0.3333333333333333, \"#9c179e\"], [0.4444444444444444, \"#bd3786\"], [0.5555555555555556, \"#d8576b\"], [0.6666666666666666, \"#ed7953\"], [0.7777777777777778, \"#fb9f3a\"], [0.8888888888888888, \"#fdca26\"], [1.0, \"#f0f921\"]], \"type\": \"contour\"}], \"contourcarpet\": [{\"colorbar\": {\"outlinewidth\": 0, \"ticks\": \"\"}, \"type\": \"contourcarpet\"}], \"heatmap\": [{\"colorbar\": {\"outlinewidth\": 0, \"ticks\": \"\"}, \"colorscale\": [[0.0, \"#0d0887\"], [0.1111111111111111, \"#46039f\"], [0.2222222222222222, \"#7201a8\"], [0.3333333333333333, \"#9c179e\"], [0.4444444444444444, \"#bd3786\"], [0.5555555555555556, \"#d8576b\"], [0.6666666666666666, \"#ed7953\"], [0.7777777777777778, \"#fb9f3a\"], [0.8888888888888888, \"#fdca26\"], [1.0, \"#f0f921\"]], \"type\": \"heatmap\"}], \"heatmapgl\": [{\"colorbar\": {\"outlinewidth\": 0, \"ticks\": \"\"}, \"colorscale\": [[0.0, \"#0d0887\"], [0.1111111111111111, \"#46039f\"], [0.2222222222222222, \"#7201a8\"], [0.3333333333333333, \"#9c179e\"], [0.4444444444444444, \"#bd3786\"], [0.5555555555555556, \"#d8576b\"], [0.6666666666666666, \"#ed7953\"], [0.7777777777777778, \"#fb9f3a\"], [0.8888888888888888, \"#fdca26\"], [1.0, \"#f0f921\"]], \"type\": \"heatmapgl\"}], \"histogram\": [{\"marker\": {\"colorbar\": {\"outlinewidth\": 0, \"ticks\": \"\"}}, \"type\": \"histogram\"}], \"histogram2d\": [{\"colorbar\": {\"outlinewidth\": 0, \"ticks\": \"\"}, \"colorscale\": [[0.0, \"#0d0887\"], [0.1111111111111111, \"#46039f\"], [0.2222222222222222, \"#7201a8\"], [0.3333333333333333, \"#9c179e\"], [0.4444444444444444, \"#bd3786\"], [0.5555555555555556, \"#d8576b\"], [0.6666666666666666, \"#ed7953\"], [0.7777777777777778, \"#fb9f3a\"], [0.8888888888888888, \"#fdca26\"], [1.0, \"#f0f921\"]], \"type\": \"histogram2d\"}], \"histogram2dcontour\": [{\"colorbar\": {\"outlinewidth\": 0, \"ticks\": \"\"}, \"colorscale\": [[0.0, \"#0d0887\"], [0.1111111111111111, \"#46039f\"], [0.2222222222222222, \"#7201a8\"], [0.3333333333333333, \"#9c179e\"], [0.4444444444444444, \"#bd3786\"], [0.5555555555555556, \"#d8576b\"], [0.6666666666666666, \"#ed7953\"], [0.7777777777777778, \"#fb9f3a\"], [0.8888888888888888, \"#fdca26\"], [1.0, \"#f0f921\"]], \"type\": \"histogram2dcontour\"}], \"mesh3d\": [{\"colorbar\": {\"outlinewidth\": 0, \"ticks\": \"\"}, \"type\": \"mesh3d\"}], \"parcoords\": [{\"line\": {\"colorbar\": {\"outlinewidth\": 0, \"ticks\": \"\"}}, \"type\": \"parcoords\"}], \"pie\": [{\"automargin\": true, \"type\": \"pie\"}], \"scatter\": [{\"marker\": {\"colorbar\": {\"outlinewidth\": 0, \"ticks\": \"\"}}, \"type\": \"scatter\"}], \"scatter3d\": [{\"line\": {\"colorbar\": {\"outlinewidth\": 0, \"ticks\": \"\"}}, \"marker\": {\"colorbar\": {\"outlinewidth\": 0, \"ticks\": \"\"}}, \"type\": \"scatter3d\"}], \"scattercarpet\": [{\"marker\": {\"colorbar\": {\"outlinewidth\": 0, \"ticks\": \"\"}}, \"type\": \"scattercarpet\"}], \"scattergeo\": [{\"marker\": {\"colorbar\": {\"outlinewidth\": 0, \"ticks\": \"\"}}, \"type\": \"scattergeo\"}], \"scattergl\": [{\"marker\": {\"colorbar\": {\"outlinewidth\": 0, \"ticks\": \"\"}}, \"type\": \"scattergl\"}], \"scattermapbox\": [{\"marker\": {\"colorbar\": {\"outlinewidth\": 0, \"ticks\": \"\"}}, \"type\": \"scattermapbox\"}], \"scatterpolar\": [{\"marker\": {\"colorbar\": {\"outlinewidth\": 0, \"ticks\": \"\"}}, \"type\": \"scatterpolar\"}], \"scatterpolargl\": [{\"marker\": {\"colorbar\": {\"outlinewidth\": 0, \"ticks\": \"\"}}, \"type\": \"scatterpolargl\"}], \"scatterternary\": [{\"marker\": {\"colorbar\": {\"outlinewidth\": 0, \"ticks\": \"\"}}, \"type\": \"scatterternary\"}], \"surface\": [{\"colorbar\": {\"outlinewidth\": 0, \"ticks\": \"\"}, \"colorscale\": [[0.0, \"#0d0887\"], [0.1111111111111111, \"#46039f\"], [0.2222222222222222, \"#7201a8\"], [0.3333333333333333, \"#9c179e\"], [0.4444444444444444, \"#bd3786\"], [0.5555555555555556, \"#d8576b\"], [0.6666666666666666, \"#ed7953\"], [0.7777777777777778, \"#fb9f3a\"], [0.8888888888888888, \"#fdca26\"], [1.0, \"#f0f921\"]], \"type\": \"surface\"}], \"table\": [{\"cells\": {\"fill\": {\"color\": \"#EBF0F8\"}, \"line\": {\"color\": \"white\"}}, \"header\": {\"fill\": {\"color\": \"#C8D4E3\"}, \"line\": {\"color\": \"white\"}}, \"type\": \"table\"}]}, \"layout\": {\"annotationdefaults\": {\"arrowcolor\": \"#2a3f5f\", \"arrowhead\": 0, \"arrowwidth\": 1}, \"autotypenumbers\": \"strict\", \"coloraxis\": {\"colorbar\": {\"outlinewidth\": 0, \"ticks\": \"\"}}, \"colorscale\": {\"diverging\": [[0, \"#8e0152\"], [0.1, \"#c51b7d\"], [0.2, \"#de77ae\"], [0.3, \"#f1b6da\"], [0.4, \"#fde0ef\"], [0.5, \"#f7f7f7\"], [0.6, \"#e6f5d0\"], [0.7, \"#b8e186\"], [0.8, \"#7fbc41\"], [0.9, \"#4d9221\"], [1, \"#276419\"]], \"sequential\": [[0.0, \"#0d0887\"], [0.1111111111111111, \"#46039f\"], [0.2222222222222222, \"#7201a8\"], [0.3333333333333333, \"#9c179e\"], [0.4444444444444444, \"#bd3786\"], [0.5555555555555556, \"#d8576b\"], [0.6666666666666666, \"#ed7953\"], [0.7777777777777778, \"#fb9f3a\"], [0.8888888888888888, \"#fdca26\"], [1.0, \"#f0f921\"]], \"sequentialminus\": [[0.0, \"#0d0887\"], [0.1111111111111111, \"#46039f\"], [0.2222222222222222, \"#7201a8\"], [0.3333333333333333, \"#9c179e\"], [0.4444444444444444, \"#bd3786\"], [0.5555555555555556, \"#d8576b\"], [0.6666666666666666, \"#ed7953\"], [0.7777777777777778, \"#fb9f3a\"], [0.8888888888888888, \"#fdca26\"], [1.0, \"#f0f921\"]]}, \"colorway\": [\"#636efa\", \"#EF553B\", \"#00cc96\", \"#ab63fa\", \"#FFA15A\", \"#19d3f3\", \"#FF6692\", \"#B6E880\", \"#FF97FF\", \"#FECB52\"], \"font\": {\"color\": \"#2a3f5f\"}, \"geo\": {\"bgcolor\": \"white\", \"lakecolor\": \"white\", \"landcolor\": \"#E5ECF6\", \"showlakes\": true, \"showland\": true, \"subunitcolor\": \"white\"}, \"hoverlabel\": {\"align\": \"left\"}, \"hovermode\": \"closest\", \"mapbox\": {\"style\": \"light\"}, \"paper_bgcolor\": \"white\", \"plot_bgcolor\": \"#E5ECF6\", \"polar\": {\"angularaxis\": {\"gridcolor\": \"white\", \"linecolor\": \"white\", \"ticks\": \"\"}, \"bgcolor\": \"#E5ECF6\", \"radialaxis\": {\"gridcolor\": \"white\", \"linecolor\": \"white\", \"ticks\": \"\"}}, \"scene\": {\"xaxis\": {\"backgroundcolor\": \"#E5ECF6\", \"gridcolor\": \"white\", \"gridwidth\": 2, \"linecolor\": \"white\", \"showbackground\": true, \"ticks\": \"\", \"zerolinecolor\": \"white\"}, \"yaxis\": {\"backgroundcolor\": \"#E5ECF6\", \"gridcolor\": \"white\", \"gridwidth\": 2, \"linecolor\": \"white\", \"showbackground\": true, \"ticks\": \"\", \"zerolinecolor\": \"white\"}, \"zaxis\": {\"backgroundcolor\": \"#E5ECF6\", \"gridcolor\": \"white\", \"gridwidth\": 2, \"linecolor\": \"white\", \"showbackground\": true, \"ticks\": \"\", \"zerolinecolor\": \"white\"}}, \"shapedefaults\": {\"line\": {\"color\": \"#2a3f5f\"}}, \"ternary\": {\"aaxis\": {\"gridcolor\": \"white\", \"linecolor\": \"white\", \"ticks\": \"\"}, \"baxis\": {\"gridcolor\": \"white\", \"linecolor\": \"white\", \"ticks\": \"\"}, \"bgcolor\": \"#E5ECF6\", \"caxis\": {\"gridcolor\": \"white\", \"linecolor\": \"white\", \"ticks\": \"\"}}, \"title\": {\"x\": 0.05}, \"xaxis\": {\"automargin\": true, \"gridcolor\": \"white\", \"linecolor\": \"white\", \"ticks\": \"\", \"title\": {\"standoff\": 15}, \"zerolinecolor\": \"white\", \"zerolinewidth\": 2}, \"yaxis\": {\"automargin\": true, \"gridcolor\": \"white\", \"linecolor\": \"white\", \"ticks\": \"\", \"title\": {\"standoff\": 15}, \"zerolinecolor\": \"white\", \"zerolinewidth\": 2}}}, \"title\": {\"text\": \"Popularity of account - Fake Covid-19 dataset (Size of the bubbles based on Tweet likes count)\"}, \"xaxis\": {\"anchor\": \"y\", \"domain\": [0.0, 1.0], \"tickcolor\": \"crimson\", \"ticklen\": 10, \"ticks\": \"outside\", \"tickwidth\": 2, \"title\": {\"text\": \"Date\"}}, \"yaxis\": {\"anchor\": \"x\", \"domain\": [0.0, 1.0], \"fixedrange\": true, \"tickcolor\": \"crimson\", \"ticklen\": 10, \"ticks\": \"outside\", \"tickwidth\": 2, \"title\": {\"text\": \"Followers count\"}, \"type\": \"log\"}},                        {\"responsive\": true}                    ).then(function(){\n",
       "                            \n",
       "var gd = document.getElementById('78d46c6e-97c2-4cca-8dc3-bf7bcd9e0c80');\n",
       "var x = new MutationObserver(function (mutations, observer) {{\n",
       "        var display = window.getComputedStyle(gd).display;\n",
       "        if (!display || display === 'none') {{\n",
       "            console.log([gd, 'removed!']);\n",
       "            Plotly.purge(gd);\n",
       "            observer.disconnect();\n",
       "        }}\n",
       "}});\n",
       "\n",
       "// Listen for the removal of the full notebook cells\n",
       "var notebookContainer = gd.closest('#notebook-container');\n",
       "if (notebookContainer) {{\n",
       "    x.observe(notebookContainer, {childList: true});\n",
       "}}\n",
       "\n",
       "// Listen for the clearing of the current output cell\n",
       "var outputEl = gd.closest('.output');\n",
       "if (outputEl) {{\n",
       "    x.observe(outputEl, {childList: true});\n",
       "}}\n",
       "\n",
       "                        })                };                });            </script>        </div>"
      ]
     },
     "metadata": {},
     "output_type": "display_data"
    }
   ],
   "source": [
    "fig = px.scatter(df, hover_data=['Name','Username','Tweet Likes count','Friends count','Account created on'],\n",
    "                 x=\"Date\", y=\"Followers count\",\n",
    "                 size='Tweet Likes count',\n",
    "                 color=\"Category\",\n",
    "                 title=\"Popularity of account - Fake Covid-19 dataset (Size of the bubbles based on Tweet likes count)\",\n",
    "                 labels={\"Category\": \"Type of tweet\"}\n",
    "                )\n",
    "\n",
    "fig.update_traces(marker=dict(opacity=0.8,line=dict(width=1,\n",
    "                              color='DarkSlateGrey')),\n",
    "                              selector=dict(mode='markers'))\n",
    "\n",
    "fig.update_xaxes(ticks=\"outside\", tickwidth=2, tickcolor='crimson', ticklen=10)\n",
    "fig.update_yaxes(ticks=\"outside\", tickwidth=2, tickcolor='crimson', ticklen=10, type=\"log\")\n",
    "\n",
    "fig.update_yaxes(fixedrange=True)\n",
    "\n",
    "\n",
    "fig.show()"
   ]
  },
  {
   "cell_type": "code",
   "execution_count": 43,
   "id": "sublime-ceramic",
   "metadata": {},
   "outputs": [
    {
     "data": {
      "application/vnd.plotly.v1+json": {
       "config": {
        "plotlyServerURL": "https://plot.ly"
       },
       "data": [
        {
         "customdata": [
          [
           "World Health Organization (WHO)",
           "@WHO",
           277,
           1734,
           "2008/04/23"
          ],
          [
           "World Health Organization (WHO)",
           "@WHO",
           667,
           1734,
           "2008/04/23"
          ],
          [
           "World Health Organization (WHO)",
           "@WHO",
           8678,
           1734,
           "2008/04/23"
          ],
          [
           "Tedros Adhanom Ghebreyesus",
           "@DrTedros",
           494,
           1206,
           "2010/09/12"
          ],
          [
           "Tedros Adhanom Ghebreyesus",
           "@DrTedros",
           27,
           1206,
           "2010/09/12"
          ],
          [
           "World Health Organization (WHO)",
           "@WHO",
           2092,
           1734,
           "2008/04/23"
          ],
          [
           "Tedros Adhanom Ghebreyesus",
           "@DrTedros",
           4356,
           1206,
           "2010/09/12"
          ],
          [
           "Catherine Herridge",
           "@CBS_Herridge",
           341,
           22,
           "2019/11/18"
          ],
          [
           "Muhammad Lila",
           "@MuhammadLila",
           114,
           1111,
           "2009/03/23"
          ],
          [
           "Icahn School of Medicine at Mount Sinai",
           "@IcahnMountSinai",
           11,
           1329,
           "2013/03/14"
          ],
          [
           "Bill Gates",
           "@BillGates",
           92746,
           276,
           "2009/06/24"
          ],
          [
           "TRS Party",
           "@trspartyonline",
           49,
           96,
           "2014/03/06"
          ],
          [
           "Sukhoi Su-57 Felon 🇷🇺🇮🇳",
           "@I30mki",
           58,
           318,
           "2018/06/30"
          ],
          [
           "Scott Bauer",
           "@sbauerAP",
           212,
           4750,
           "2009/04/03"
          ],
          [
           "Scott Bauer",
           "@sbauerAP",
           16,
           4750,
           "2009/04/03"
          ],
          [
           "Edouard Philippe",
           "@EPhilippe_LH",
           956,
           1021,
           "2013/01/22"
          ],
          [
           "Wizara ya Afya Tanzania",
           "@wizara_afyatz",
           55,
           59,
           "2015/02/19"
          ],
          [
           "MALDITO BULO",
           "@malditobulo",
           30,
           11,
           "2016/11/30"
          ],
          [
           "First India",
           "@thefirstindia",
           1,
           225,
           "2019/04/04"
          ],
          [
           "Marin Driguez",
           "@Marindriguez",
           307,
           111,
           "2012/01/20"
          ],
          [
           "L'infirmier 💙",
           "@Infirmier00",
           4022,
           9547,
           "2018/12/05"
          ],
          [
           "WHO African Region",
           "@WHOAFRO",
           91,
           583,
           "2012/04/03"
          ],
          [
           "Nightline",
           "@Nightline",
           204,
           438,
           "2009/01/29"
          ],
          [
           "Nightline",
           "@Nightline",
           344,
           438,
           "2009/01/29"
          ],
          [
           "Juju Chang",
           "@JujuChangABC",
           689,
           2819,
           "2009/01/13"
          ],
          [
           "Public Citizen",
           "@Public_Citizen",
           1531,
           7234,
           "2008/04/08"
          ],
          [
           "Anagha Acharya - अनघा आचार्य",
           "@AnaghaAcharya",
           7,
           1806,
           "2013/07/19"
          ],
          [
           "SegurançaSP",
           "@SegurancaSP",
           53,
           60,
           "2009/07/02"
          ],
          [
           "Polícia Militar do Estado de São Paulo",
           "@PMESP",
           610,
           132,
           "2009/08/06"
          ],
          [
           "Emile Marzolf",
           "@emile_marzolf",
           2,
           2217,
           "2015/09/07"
          ],
          [
           "SOS Médias Burundi",
           "@SOSMediasBDI",
           10,
           357,
           "2015/05/17"
          ],
          [
           "Florida Rising",
           "@FLRising",
           1,
           2453,
           "2009/09/02"
          ],
          [
           "Florida Rising",
           "@FLRising",
           6,
           2453,
           "2009/09/02"
          ],
          [
           "TI DIRANNO CHE IL VENTO È..IL RESPIRO DI UNA DONNA",
           "@porcipolitici",
           14,
           5098,
           "2016/03/30"
          ],
          [
           "Sadhvi Shivaa",
           "@shiv_shaktii",
           31,
           572,
           "2013/10/07"
          ],
          [
           "Daddy Yankee",
           "@daddy_yankee",
           254,
           98,
           "2009/04/29"
          ],
          [
           "Don Wanyama",
           "@nyamadon",
           147,
           943,
           "2010/08/22"
          ],
          [
           "Ashish K. Jha, MD, MPH",
           "@ashishkjha",
           2306,
           530,
           "2009/05/12"
          ],
          [
           "Maria Van Kerkhove",
           "@mvankerkhove",
           312,
           579,
           "2013/11/12"
          ],
          [
           "Maria Van Kerkhove",
           "@mvankerkhove",
           217,
           579,
           "2013/11/12"
          ],
          [
           "Maria Van Kerkhove",
           "@mvankerkhove",
           141,
           579,
           "2013/11/12"
          ],
          [
           "Dr. David Samadi, MD",
           "@drdavidsamadi",
           6008,
           3885,
           "2009/03/22"
          ],
          [
           "Jair M. Bolsonaro",
           "@jairbolsonaro",
           20748,
           550,
           "2010/03/31"
          ],
          [
           "Fernán Quirós",
           "@FernanQuirosBA",
           25,
           43,
           "2020/03/16"
          ],
          [
           "Newsmax",
           "@newsmax",
           103,
           568,
           "2009/02/10"
          ],
          [
           "PIB in Assam",
           "@PIB_Guwahati",
           0,
           62,
           "2013/02/25"
          ],
          [
           "Gil Cutrim",
           "@gilcutrim",
           1,
           625,
           "2010/07/05"
          ],
          [
           "Pradeep Netha",
           "@PradeepNetha4",
           0,
           72,
           "2019/03/06"
          ],
          [
           "cristian leporati",
           "@cleporati",
           15,
           2665,
           "2009/04/13"
          ],
          [
           "𝕊𝕦𝕕𝕙𝕚𝕣 𝕜 𝕣𝕒𝕛",
           "@sudhirkraj",
           1,
           305,
           "2013/05/01"
          ],
          [
           "Wilker Vasconcelos",
           "@wilkergv",
           0,
           172,
           "2012/10/04"
          ],
          [
           "Ricardo Quintela",
           "@QuintelaRicardo",
           42,
           507,
           "2013/04/27"
          ],
          [
           "Alberto Fernández",
           "@alferdez",
           2010,
           7210,
           "2010/05/30"
          ],
          [
           "Alberto Fernández",
           "@alferdez",
           761,
           7210,
           "2010/05/30"
          ],
          [
           "wandrelvision",
           "@ttrichechus",
           78,
           656,
           "2013/05/10"
          ],
          [
           "Ahmad A. Majeed",
           "@alshoushah",
           1,
           2536,
           "2011/02/01"
          ],
          [
           "#NOUR_Al_ain1",
           "@nouralain117",
           10,
           1565,
           "2016/06/26"
          ],
          [
           "Madiha Abid Ali",
           "@MadihaAbidAli",
           24,
           741,
           "2011/03/24"
          ],
          [
           "Jair M. Bolsonaro",
           "@jairbolsonaro",
           11894,
           550,
           "2010/03/31"
          ],
          [
           "Joice Hasselmann",
           "@joicehasselmann",
           749,
           219,
           "2010/02/22"
          ],
          [
           "Nicole Baldwin, MD, FAAP",
           "@NicoleB_MD",
           151,
           1023,
           "2012/09/28"
          ],
          [
           "Utah Public Safety",
           "@UtahDPS",
           53,
           462,
           "2009/03/18"
          ],
          [
           "Pablo Secchi 🧡",
           "@pablosecchi",
           9,
           1063,
           "2009/03/10"
          ],
          [
           "Daniel Zovatto",
           "@Zovatto55",
           9,
           1074,
           "2012/02/03"
          ],
          [
           "Daniel Zovatto",
           "@Zovatto55",
           6,
           1074,
           "2012/02/03"
          ],
          [
           "Fabricio Ballarini",
           "@FabBallarini",
           804,
           1071,
           "2012/05/29"
          ],
          [
           "Mark Lewis",
           "@marklewismd",
           390,
           33026,
           "2012/09/06"
          ],
          [
           "BharatBiotech",
           "@BharatBiotech",
           430,
           516,
           "2014/06/27"
          ],
          [
           "Jorge Ivan Ospina",
           "@JorgeIvanOspina",
           6,
           662,
           "2010/05/11"
          ],
          [
           "Consciousness Rising",
           "@conciousness777",
           60,
           989,
           "2017/06/10"
          ],
          [
           "World Health Organization (WHO)",
           "@WHO",
           4651,
           1734,
           "2008/04/23"
          ],
          [
           "The View",
           "@TheView",
           65,
           1683,
           "2009/02/19"
          ],
          [
           "Christophe Fraser 💙",
           "@ChristoPhraser",
           359,
           781,
           "2014/03/24"
          ],
          [
           "World Health Organization (WHO)",
           "@WHO",
           7586,
           1734,
           "2008/04/23"
          ],
          [
           "GMA News",
           "@gmanews",
           205,
           696,
           "2009/05/12"
          ],
          [
           "Instituto Nacional de Salud",
           "@INSColombia",
           4,
           896,
           "2010/06/04"
          ],
          [
           "Abhishek Dubey",
           "@advabhishekbjp",
           1338,
           1857,
           "2015/09/13"
          ],
          [
           "João Doria",
           "@jdoriajr",
           34,
           371,
           "2009/08/11"
          ],
          [
           "Instituto Nacional de Salud",
           "@INSColombia",
           187,
           896,
           "2010/06/04"
          ],
          [
           "DeshGujarat",
           "@DeshGujarat",
           103,
           147,
           "2009/05/29"
          ],
          [
           "Santiago Valencia G.",
           "@sanvalgo",
           6,
           2708,
           "2009/11/30"
          ],
          [
           "Benjamin Ferran",
           "@benjaminferran",
           1,
           766,
           "2007/03/13"
          ],
          [
           "Dubai Media Office",
           "@DXBMediaOffice",
           46,
           168,
           "2009/05/04"
          ],
          [
           "Wizara ya Afya Tanzania",
           "@wizara_afyatz",
           47,
           59,
           "2015/02/19"
          ],
          [
           "alpha j alpha",
           "@alphajohnalpha1",
           21871,
           48,
           "2018/04/13"
          ],
          [
           "CBIC",
           "@cbic_india",
           671,
           170,
           "2015/07/22"
          ],
          [
           "Pablo Sánchez",
           "@PauMatalap",
           232,
           6746,
           "2011/04/23"
          ],
          [
           "Lia Tadesse",
           "@lia_tadesse",
           80,
           695,
           "2014/10/17"
          ],
          [
           "Lia Tadesse",
           "@lia_tadesse",
           41,
           695,
           "2014/10/17"
          ],
          [
           "LouDeFrogg",
           "@LouDeFrogg",
           0,
           2382,
           "2014/11/22"
          ],
          [
           "PUCE",
           "@PUCE_Ecuador",
           177,
           6546,
           "2009/08/14"
          ],
          [
           "NHKニュース",
           "@nhk_news",
           128,
           20,
           "2010/10/18"
          ],
          [
           "Edmundo Bal",
           "@BalEdmundo",
           518,
           187,
           "2019/02/23"
          ],
          [
           "Kevin Sorbo",
           "@ksorbs",
           2616,
           314,
           "2009/04/20"
          ],
          [
           "Marcio Americo",
           "@eumarcioamerico",
           46,
           547,
           "2009/04/30"
          ],
          [
           "Arthur Weintraub",
           "@ArthurWeint",
           4149,
           771,
           "2018/12/16"
          ],
          [
           "EMCALI 🇨🇴",
           "@EMCALIoficial",
           7,
           1161,
           "2012/01/03"
          ],
          [
           "Dinesh D'Souza",
           "@DineshDSouza",
           8379,
           5351,
           "2009/11/22"
          ],
          [
           "Dinesh D'Souza",
           "@DineshDSouza",
           3,
           5351,
           "2009/11/22"
          ],
          [
           "Sophie Wilmès",
           "@Sophie_Wilmes",
           62,
           1030,
           "2012/03/06"
          ],
          [
           "Tom Van Grieken",
           "@tomvangrieken",
           4004,
           1437,
           "2010/05/19"
          ],
          [
           "Partido Popular",
           "@populares",
           254,
           5299,
           "2009/02/10"
          ],
          [
           "Alicia erazo",
           "@ALICIAERAZO",
           26,
           348,
           "2012/08/17"
          ],
          [
           "Tedros Adhanom Ghebreyesus",
           "@DrTedros",
           508,
           1206,
           "2010/09/12"
          ],
          [
           "Ministry of Health",
           "@MOH_Kenya",
           15,
           661,
           "2016/02/02"
          ],
          [
           "Lula",
           "@LulaOficial",
           8925,
           2406,
           "2014/07/22"
          ],
          [
           "Andry Rajoelina",
           "@SE_Rajoelina",
           583,
           199,
           "2018/04/02"
          ],
          [
           "juansmithalvarez",
           "@juansmithalvar1",
           3,
           109,
           "2019/12/16"
          ],
          [
           "José L. Morales T.",
           "@JLMT65",
           4,
           7110,
           "2016/05/26"
          ],
          [
           "José Luis Martínez-Almeida",
           "@AlmeidaPP_",
           2101,
           1777,
           "2012/09/03"
          ],
          [
           "GEN",
           "@SomosGEN",
           1,
           74,
           "2017/06/13"
          ],
          [
           "Alfredo Perdiguero M. 🇪🇸",
           "@PerdigueroSIPEp",
           16,
           866,
           "2017/01/02"
          ],
          [
           "Ministerio de Sanidad",
           "@sanidadgob",
           284,
           689,
           "2010/12/30"
          ],
          [
           "Raquel Blasco",
           "@RaquelBlascoR",
           36,
           798,
           "2011/03/10"
          ],
          [
           "Juan Manzur",
           "@JuanManzurOK",
           57,
           257,
           "2015/05/15"
          ],
          [
           "Ministère de la Santé Publique Burundi(MSPLS)",
           "@mspls_bdi",
           40,
           24,
           "2019/04/17"
          ],
          [
           "SP Chhindwara",
           "@ChhindwaraPoli1",
           49,
           22,
           "2019/03/11"
          ],
          [
           "Dannia Rios Nacif",
           "@Rios_Nacif",
           42,
           445,
           "2019/05/18"
          ],
          [
           "Inside Gones",
           "@InsideGones",
           64,
           62,
           "2016/01/21"
          ],
          [
           "SegurançaSP",
           "@SegurancaSP",
           80,
           60,
           "2009/07/02"
          ],
          [
           "Polícia Militar do Estado de São Paulo",
           "@PMESP",
           182,
           132,
           "2009/08/06"
          ],
          [
           "SaludBAP",
           "@SaludBAP",
           49,
           1040,
           "2016/09/23"
          ],
          [
           "Nagaon Police",
           "@nagaonpolice",
           101,
           236,
           "2015/10/01"
          ],
          [
           "Nagaon Police",
           "@nagaonpolice",
           8,
           236,
           "2015/10/01"
          ],
          [
           "Conor Lamb",
           "@ConorLambPA",
           4188,
           518,
           "2017/04/21"
          ],
          [
           "Nagma",
           "@nagma_morarji",
           108,
           292,
           "2012/05/10"
          ],
          [
           "Corentin Béchade",
           "@corentinbechade",
           0,
           348,
           "2009/06/17"
          ],
          [
           "Elliot Alderson",
           "@fs0c131y",
           61,
           3792,
           "2015/06/10"
          ],
          [
           "Kellen Squire",
           "@SquireForYou",
           17313,
           752,
           "2016/12/05"
          ],
          [
           "LCP",
           "@LCP",
           68,
           1886,
           "2009/10/26"
          ],
          [
           "CACIF",
           "@CACIFGuatemala",
           87,
           558,
           "2010/04/19"
          ],
          [
           "Andy Slavitt 🇺🇸💉",
           "@ASlavitt",
           23254,
           999,
           "2013/04/27"
          ],
          [
           "WHO African Region",
           "@WHOAFRO",
           99,
           583,
           "2012/04/03"
          ],
          [
           "Elliot Alderson",
           "@fs0c131y",
           207,
           3792,
           "2015/06/10"
          ],
          [
           "Noticias Caracol",
           "@NoticiasCaracol",
           141,
           1135,
           "2008/12/02"
          ],
          [
           "Yoweri K Museveni",
           "@KagutaMuseveni",
           223,
           27,
           "2010/03/27"
          ],
          [
           "Federal Ministry of Education",
           "@NigEducation",
           491,
           6,
           "2018/05/16"
          ],
          [
           "IANS Tweets",
           "@ians_india",
           18,
           45,
           "2010/05/08"
          ],
          [
           "IANS Tweets",
           "@ians_india",
           87,
           45,
           "2010/05/08"
          ],
          [
           "NewsX",
           "@NewsX",
           1663,
           229,
           "2009/03/09"
          ],
          [
           "NewsMeter",
           "@NewsMeter_In",
           0,
           26,
           "2019/07/25"
          ],
          [
           "PrensaComunitaria",
           "@PrensaComunitar",
           136,
           5829,
           "2011/02/26"
          ],
          [
           "Dolly Bindra",
           "@DollyBindra",
           11,
           306,
           "2009/05/12"
          ],
          [
           ".",
           "@WICHOCOOPER",
           0,
           59,
           "2011/03/18"
          ],
          [
           "Ashish Tiwari",
           "@TiwariKahin",
           2520,
           1626,
           "2010/04/15"
          ],
          [
           "Chaudhary Sandeep",
           "@Sandeep04CBS",
           116,
           3308,
           "2011/05/20"
          ],
          [
           "Mohamed Bouarbi",
           "@MohamedBouarby",
           4,
           273,
           "2016/07/25"
          ],
          [
           "João Doria",
           "@jdoriajr",
           116,
           371,
           "2009/08/11"
          ],
          [
           "João Doria",
           "@jdoriajr",
           132,
           371,
           "2009/08/11"
          ],
          [
           "Zineb 🇲🇦‎",
           "@zinub",
           1,
           990,
           "2009/06/26"
          ],
          [
           "Transparencia Col",
           "@transparenciaco",
           26,
           3367,
           "2009/05/07"
          ],
          [
           "Gretchen Whitmer",
           "@gretchenwhitmer",
           3274,
           54,
           "2019/02/07"
          ],
          [
           "Tedros Adhanom Ghebreyesus",
           "@DrTedros",
           284,
           1206,
           "2010/09/12"
          ],
          [
           "MinSaludCol",
           "@MinSaludCol",
           7916,
           814,
           "2011/09/11"
          ],
          [
           "World Health Organization (WHO)",
           "@WHO",
           7267,
           1734,
           "2008/04/23"
          ],
          [
           "Francisco Tortosa",
           "@bipancho",
           3259,
           1783,
           "2010/01/03"
          ],
          [
           "Morgan Freeman",
           "@morgan_freeman",
           42,
           32,
           "2019/12/12"
          ],
          [
           "Vaughn Hillyard",
           "@VaughnHillyard",
           2198,
           6526,
           "2009/08/25"
          ],
          [
           "Peter Burger",
           "@JPeterBurger",
           103,
           2378,
           "2013/04/11"
          ],
          [
           "Aviral Srivastava",
           "@anshpatrkaar",
           588,
           412,
           "2015/08/18"
          ],
          [
           "Morgan Freeman",
           "@morgan_freeman",
           328,
           32,
           "2019/12/12"
          ],
          [
           "Ministerio de Relaciones Exteriores",
           "@mreparaguay",
           417,
           343,
           "2011/07/25"
          ],
          [
           "CDC",
           "@CDCgov",
           3763,
           269,
           "2010/05/21"
          ],
          [
           "PIB Fact Check",
           "@PIBFactCheck",
           497,
           31,
           "2019/12/19"
          ],
          [
           "Presidencia Colombia 🇨🇴",
           "@infopresidencia",
           120,
           292,
           "2011/06/07"
          ],
          [
           "London Breed",
           "@LondonBreed",
           1192,
           692,
           "2014/12/12"
          ],
          [
           "Ola Rollén",
           "@OlaRollen",
           1670,
           411,
           "2012/03/05"
          ],
          [
           "Andry Rajoelina",
           "@SE_Rajoelina",
           2466,
           199,
           "2018/04/02"
          ],
          [
           "Christian Martin",
           "@askomartin",
           13613,
           1792,
           "2011/05/19"
          ],
          [
           "Carl T. Bergstrom",
           "@CT_Bergstrom",
           372,
           2110,
           "2015/06/07"
          ],
          [
           "Agence France-Presse",
           "@afpfr",
           31,
           1327,
           "2011/07/20"
          ],
          [
           "Dubai Policeشرطة دبي",
           "@DubaiPoliceHQ",
           26,
           200,
           "2010/09/21"
          ],
          [
           "Peter Burger",
           "@JPeterBurger",
           59,
           2378,
           "2013/04/11"
          ],
          [
           "Carles Enric",
           "@carlesenric",
           3641,
           355,
           "2008/11/11"
          ],
          [
           "Henrique Mandetta",
           "@lhmandetta",
           4006,
           132,
           "2014/08/12"
          ],
          [
           "Leo Varadkar",
           "@LeoVaradkar",
           246,
           1751,
           "2010/12/22"
          ],
          [
           "Bear Grillz",
           "@itsbeargrillz",
           201,
           70,
           "2013/11/03"
          ],
          [
           "Alvise Pérez",
           "@Alvisepf",
           2841,
           2678,
           "2011/03/08"
          ],
          [
           "Azhar",
           "@AzharJeddah2003",
           0,
           167,
           "2012/08/24"
          ],
          [
           "Ahmad Jawad PTI",
           "@AhmadJawadBTH",
           50,
           1535,
           "2012/03/16"
          ],
          [
           "1-DSIGN.COM",
           "@reaerosadesigns",
           0,
           3,
           "2017/04/17"
          ],
          [
           "Josefina de Miguel C",
           "@josefinaIBVM",
           1,
           456,
           "2010/12/18"
          ],
          [
           "Ethiopian Public Health Institute",
           "@EPHIEthiopia",
           7,
           267,
           "2015/11/03"
          ],
          [
           "ANI",
           "@ANI",
           53,
           0,
           "2011/08/16"
          ],
          [
           "David Mack",
           "@davidmackau",
           3829,
           1664,
           "2011/05/25"
          ],
          [
           "Justin Sink",
           "@justinsink",
           277,
           1628,
           "2011/07/31"
          ],
          [
           "Matt McDermott",
           "@mattmfm",
           1453,
           1785,
           "2008/07/13"
          ],
          [
           "Ummy Mwalimu",
           "@ummymwalimu",
           212,
           560,
           "2012/03/15"
          ],
          [
           "MinSaludCol",
           "@MinSaludCol",
           3120,
           814,
           "2011/09/11"
          ],
          [
           "OJO VALLENATO OFICIAL",
           "@EyeVallenatoo",
           71,
           101,
           "2019/01/10"
          ],
          [
           "shahid siddiqui",
           "@shahid_siddiqui",
           8,
           1707,
           "2009/09/23"
          ],
          [
           "sanjay singh",
           "@santo_tango",
           1,
           796,
           "2009/07/22"
          ],
          [
           "Ignacio  Contreras",
           "@nacho1577",
           6,
           2353,
           "2010/06/15"
          ],
          [
           "Cesare Sacchetti",
           "@CesareSacchetti",
           558,
           203,
           "2013/04/19"
          ],
          [
           "NICD",
           "@nicd_sa",
           269,
           1038,
           "2013/04/22"
          ],
          [
           "Guardia Civil 🇪🇸",
           "@guardiacivil",
           263,
           288,
           "2011/05/09"
          ],
          [
           "DCP East Delhi",
           "@DCPEastDelhi",
           25,
           350,
           "2016/02/03"
          ],
          [
           "Suresh Chavhanke “Sudarshan News”",
           "@SureshChavhanke",
           9589,
           166,
           "2010/01/11"
          ],
          [
           "Lynda May 🧚‍♀️ليندا ماي",
           "@lyguerb",
           2,
           852,
           "2016/02/21"
          ],
          [
           "Jimmy Kimmel",
           "@jimmykimmel",
           5829,
           785,
           "2009/03/23"
          ],
          [
           "Ministère de la Santé Publique Burundi(MSPLS)",
           "@mspls_bdi",
           41,
           24,
           "2019/04/17"
          ],
          [
           "Vamos a ver",
           "@VAMOSAVERorg",
           61,
           232,
           "2020/04/26"
          ],
          [
           "Bobby L. Rush",
           "@RepBobbyRush",
           4,
           1420,
           "2011/05/25"
          ],
          [
           "Rep. Janel Brandtjen",
           "@RepJanel",
           6,
           393,
           "2014/04/22"
          ],
          [
           "प्रवीण मिश्रा",
           "@praveenm_mishra",
           128,
           1843,
           "2009/11/17"
          ],
          [
           "Instituto de Salud Carlos III (ISCIII)",
           "@SaludISCIII",
           11,
           525,
           "2019/04/13"
          ],
          [
           "millardayo",
           "@millardayo",
           56,
           525,
           "2010/04/14"
          ],
          [
           "Grupo Parlamentario de VOX en el Congreso",
           "@VOX_Congreso",
           820,
           110,
           "2019/06/05"
          ],
          [
           "Tom Wolf Destroyed PA",
           "@anderso24344556",
           0,
           463,
           "2020/02/07"
          ],
          [
           "J.dB.C",
           "@jesdbc",
           2562,
           672,
           "2013/10/18"
          ],
          [
           "Geoweeb",
           "@Geoweeb",
           0,
           212,
           "2013/04/27"
          ],
          [
           "حمد العقيلي",
           "@557_hamd",
           7,
           4630,
           "2016/08/06"
          ],
          [
           "ابوعبدالعزيز",
           "@krnkrnxxx",
           1,
           14,
           "2014/01/22"
          ],
          [
           "Msemaji Mkuu wa Serikali",
           "@TZMsemajiMkuu",
           24,
           15,
           "2016/08/17"
          ],
          [
           "Fernanda Vallejos",
           "@fvallejoss",
           367,
           983,
           "2011/05/19"
          ],
          [
           "Nelson Teich",
           "@TeichNelson",
           1712,
           61,
           "2020/01/19"
          ],
          [
           "Priyanka Gandhi Vadra",
           "@priyankagandhi",
           5692,
           74,
           "2019/02/10"
          ],
          [
           "Gerson Msigwa",
           "@MsigwaGerson",
           52,
           1393,
           "2014/03/28"
          ],
          [
           "Ajayraj S Muthaliya",
           "@ajayrajmuthalia",
           0,
           114,
           "2016/04/14"
          ],
          [
           "Faheem Younus, MD",
           "@FaheemYounus",
           297,
           443,
           "2011/10/12"
          ],
          [
           "UNDP Ghana",
           "@UNDPGhana",
           71,
           590,
           "2013/01/04"
          ],
          [
           "OMS Afrique",
           "@OMS_Afrique",
           14,
           183,
           "2020/02/07"
          ],
          [
           "William Bonner",
           "@realwbonner",
           9029,
           0,
           "2009/06/30"
          ],
          [
           "Peter Burger",
           "@JPeterBurger",
           29,
           2378,
           "2013/04/11"
          ],
          [
           "RCN Radio Bucaramanga",
           "@RCNBga",
           1,
           926,
           "2012/06/13"
          ],
          [
           "João Doria",
           "@jdoriajr",
           1313,
           371,
           "2009/08/11"
          ],
          [
           "دسمان نيوز",
           "@DasmanNewsCom",
           211,
           0,
           "2012/04/18"
          ],
          [
           "TN - Todo Noticias",
           "@todonoticias",
           1037,
           21,
           "2009/03/23"
          ],
          [
           "A Marm Kilpatrick",
           "@DiseaseEcology",
           59,
           147,
           "2013/08/05"
          ],
          [
           "Alberto Fernández",
           "@alferdez",
           2384,
           7210,
           "2010/05/30"
          ],
          [
           "Muktesh Pardeshi",
           "@MukteshPardeshi",
           327,
           198,
           "2014/06/09"
          ],
          [
           "Prefeitura de Pelotas",
           "@PrefPelotas",
           43,
           300,
           "2011/11/01"
          ],
          [
           "Eduardo Bolsonaro🇧🇷",
           "@BolsonaroSP",
           321,
           691,
           "2009/09/16"
          ],
          [
           "تيجاني",
           "@MehdiElFilali4",
           0,
           549,
           "2018/06/15"
          ],
          [
           "Øussåma Le Morisque",
           "@bol7yaa",
           0,
           114,
           "2012/11/04"
          ],
          [
           "Flávio Dino 🇧🇷",
           "@FlavioDino",
           3123,
           658,
           "2009/03/20"
          ],
          [
           "Joe Biden",
           "@JoeBiden",
           3182,
           46,
           "2007/03/11"
          ],
          [
           "World Health Organization (WHO) Western Pacific",
           "@WHOWPRO",
           34,
           1205,
           "2015/10/05"
          ],
          [
           "Tecnológico de Monterrey",
           "@TecdeMonterrey",
           4,
           464,
           "2010/02/19"
          ],
          [
           "World Health Organization (WHO)",
           "@WHO",
           187,
           1734,
           "2008/04/23"
          ],
          [
           "UNICEF Philippines",
           "@unicefphils",
           3387,
           1056,
           "2009/10/05"
          ],
          [
           "MinSaludCol",
           "@MinSaludCol",
           2949,
           814,
           "2011/09/11"
          ],
          [
           "Jack Ma",
           "@JackMa",
           23480,
           0,
           "2020/03/15"
          ],
          [
           "Edison Lanza",
           "@EdisonLanza",
           65,
           4359,
           "2009/07/28"
          ],
          [
           "Presidency | South Africa 🇿🇦",
           "@PresidencyZA",
           105,
           17,
           "2009/05/18"
          ],
          [
           "Ministry of Health",
           "@MOH_Kenya",
           287,
           661,
           "2016/02/02"
          ],
          [
           "Scott Gottlieb, MD",
           "@ScottGottliebMD",
           496,
           956,
           "2009/05/15"
          ],
          [
           "Ministère de la Santé Publique Burundi(MSPLS)",
           "@mspls_bdi",
           92,
           24,
           "2019/04/17"
          ],
          [
           "Jack Ma",
           "@JackMa",
           8328,
           0,
           "2020/03/15"
          ],
          [
           "taran adarsh",
           "@taran_adarsh",
           648,
           164,
           "2009/12/27"
          ],
          [
           "Guillaume Chartrain",
           "@GuillaumeUERDC",
           70,
           1145,
           "2018/09/04"
          ],
          [
           "Andry Rajoelina",
           "@SE_Rajoelina",
           154,
           199,
           "2018/04/02"
          ],
          [
           "Sandra",
           "@sandravogelaar",
           14,
           0,
           "2011/06/23"
          ],
          [
           "L'Express",
           "@LExpressMG",
           9,
           59,
           "2011/07/22"
          ],
          [
           "KSBA",
           "@ksbanews",
           5,
           722,
           "2009/06/27"
          ],
          [
           "Murtaza Ali Shah",
           "@MurtazaViews",
           310,
           786,
           "2010/06/06"
          ],
          [
           "Alejandro Giammattei",
           "@DrGiammattei",
           221,
           82,
           "2010/09/07"
          ],
          [
           "Jai Shri Ram",
           "@bjplao",
           19,
           5618,
           "2018/06/29"
          ],
          [
           "Kayleigh McEnany 45 Archived",
           "@PressSec45",
           397,
           328,
           "2017/01/10"
          ],
          [
           "Australian Government Department of Health",
           "@healthgovau",
           139,
           143,
           "2010/03/22"
          ],
          [
           "Policía Nacional",
           "@policia",
           443,
           0,
           "2009/03/11"
          ],
          [
           "Ministerio Inclusión Seguridad Social Migraciones",
           "@inclusiongob",
           348,
           532,
           "2020/01/12"
          ],
          [
           "South African Government",
           "@GovernmentZA",
           317,
           513,
           "2013/06/21"
          ],
          [
           "SassyMétisChick ❤️ 🇨🇦❤️",
           "@SassyMetisChick",
           1522,
           21417,
           "2018/06/18"
          ],
          [
           "Équipe 1er degré",
           "@Equipe1erDegre",
           398,
           410,
           "2012/01/25"
          ],
          [
           "Guardia Civil 🇪🇸",
           "@guardiacivil",
           494,
           288,
           "2011/05/09"
          ],
          [
           "Lt Gen Gyan Bhushan",
           "@bhushan_gyan",
           275,
           2372,
           "2014/01/28"
          ],
          [
           "Albert Rivera",
           "@Albert_Rivera",
           11068,
           2433,
           "2010/01/27"
          ],
          [
           "Toni Cantó",
           "@Tonicanto1",
           1815,
           3055,
           "2011/02/08"
          ],
          [
           "Dinesh D'Souza",
           "@DineshDSouza",
           12160,
           5351,
           "2009/11/22"
          ],
          [
           "Timothy Gumm",
           "@timothy_gumm",
           34,
           372,
           "2018/03/12"
          ],
          [
           "Alvise Pérez",
           "@Alvisepf",
           6743,
           2678,
           "2011/03/08"
          ],
          [
           "Murtaza Wahab Siddiqui",
           "@murtazawahab1",
           411,
           137,
           "2016/04/25"
          ],
          [
           "Donatella Chiodi",
           "@ChiodiDonatella",
           220,
           12043,
           "2015/04/11"
          ],
          [
           "Alvise Pérez",
           "@Alvisepf",
           10552,
           2678,
           "2011/03/08"
          ],
          [
           "Glenn Kessler",
           "@GlennKesslerWP",
           55,
           547,
           "2011/01/07"
          ],
          [
           "Daniel Dale",
           "@ddale8",
           1379,
           1485,
           "2010/12/11"
          ],
          [
           "B L Santhosh",
           "@blsanthosh",
           392,
           298,
           "2013/01/06"
          ],
          [
           "Julián A. Fernández-Niño",
           "@JFernandeznino",
           56,
           826,
           "2010/06/09"
          ],
          [
           "CitizenJane99",
           "@CitizenJane99",
           623,
           114,
           "2013/09/11"
          ],
          [
           "Muge Cevik",
           "@mugecevik",
           166,
           1944,
           "2009/08/19"
          ],
          [
           "Tom DiNapoli",
           "@NYSComptroller",
           4,
           4789,
           "2011/01/12"
          ],
          [
           "Levy Rincón",
           "@Ievyrincon",
           1027,
           88,
           "2018/11/09"
          ],
          [
           "Dr Zweli Mkhize",
           "@DrZweliMkhize",
           446,
           38575,
           "2017/03/22"
          ],
          [
           "DD News Gujarati",
           "@DDNewsGujarati",
           211,
           329,
           "2018/03/12"
          ],
          [
           "Rádio Itatiaia",
           "@radioitatiaia",
           1140,
           91,
           "2009/05/11"
          ],
          [
           "EquisJusticia",
           "@EquisJusticia",
           128,
           1305,
           "2013/04/16"
          ],
          [
           "Bonnie369",
           "@bonnie379",
           288,
           911,
           "2011/11/18"
          ],
          [
           "Bonnie369",
           "@bonnie379",
           0,
           911,
           "2011/11/18"
          ],
          [
           "NCDC",
           "@NCDCgov",
           203,
           384,
           "2016/03/04"
          ],
          [
           "Embajada de Suecia en Madrid",
           "@EmbajadorSuecia",
           298,
           1852,
           "2013/02/19"
          ],
          [
           "RK Agarwal",
           "@rkagarwal69",
           0,
           138,
           "2019/03/21"
          ],
          [
           "Jimbere",
           "@JimbereMag",
           11,
           141,
           "2016/02/15"
          ],
          [
           "Le Double R 🇨🇲",
           "@RamsDreezy",
           0,
           448,
           "2011/02/07"
          ],
          [
           "Rep Andy Biggs",
           "@RepAndyBiggsAZ",
           218,
           1659,
           "2017/01/04"
          ],
          [
           "Scott Morrison",
           "@ScottMorrisonMP",
           606,
           1734,
           "2009/04/22"
          ],
          [
           "Air India",
           "@airindiain",
           2,
           2925,
           "2011/10/09"
          ],
          [
           "Matt McDermott",
           "@mattmfm",
           96497,
           1785,
           "2008/07/13"
          ],
          [
           "Ummy Mwalimu",
           "@ummymwalimu",
           94,
           560,
           "2012/03/15"
          ],
          [
           "Peter Stevenson",
           "@PeterStevenson",
           143,
           1217,
           "2010/12/07"
          ],
          [
           "Jimmy Kimmel",
           "@jimmykimmel",
           14293,
           785,
           "2009/03/23"
          ],
          [
           "Alvise Pérez",
           "@Alvisepf",
           10289,
           2678,
           "2011/03/08"
          ],
          [
           "CoolSonu🤝",
           "@WilDbadGe",
           3,
           1981,
           "2015/07/26"
          ],
          [
           "Conspiracy Watch",
           "@conspiration",
           128,
           922,
           "2009/03/14"
          ],
          [
           "Michael Nöthem",
           "@mikandynothem",
           6446,
           98275,
           "2012/02/15"
          ],
          [
           "Juan Español",
           "@Cosecha_del_62",
           0,
           200,
           "2011/06/15"
          ],
          [
           "Himanta Biswa Sarma",
           "@himantabiswa",
           548,
           97,
           "2010/04/09"
          ],
          [
           "DIPR Assam",
           "@diprassam",
           46,
           263,
           "2018/09/29"
          ],
          [
           "PIB in Assam",
           "@PIB_Guwahati",
           0,
           62,
           "2013/02/25"
          ],
          [
           "Ronald Klain",
           "@RonaldKlain",
           19516,
           2588,
           "2011/02/07"
          ],
          [
           "Hafiz Jameel",
           "@HafizJa04188954",
           2,
           201,
           "2020/04/25"
          ],
          [
           "Javier Ortega Smith",
           "@Ortega_Smith",
           2036,
           467,
           "2013/01/25"
          ],
          [
           "Umashankar Singh उमाशंकर सिंह",
           "@umashankarsingh",
           52,
           824,
           "2009/09/13"
          ],
          [
           "PIB Fact Check",
           "@PIBFactCheck",
           368,
           31,
           "2019/12/19"
          ],
          [
           "عمرو ے مسحليے♚",
           "@amro_mashali",
           2,
           8032,
           "2011/11/29"
          ],
          [
           "Tedros Adhanom Ghebreyesus",
           "@DrTedros",
           246,
           1206,
           "2010/09/12"
          ],
          [
           "Cynthia García",
           "@cyngarciaradio",
           1003,
           1671,
           "2010/06/02"
          ],
          [
           "Gaby Levinas",
           "@GabyLevinas",
           104,
           3801,
           "2010/05/25"
          ],
          [
           "The New York Times",
           "@nytimes",
           2413,
           805,
           "2007/03/02"
          ],
          [
           "Nidhi Razdan",
           "@Nidhi",
           699,
           408,
           "2015/05/03"
          ],
          [
           "HSE Health Protection Surveillance Centre (HPSC)",
           "@hpscireland",
           5,
           802,
           "2011/05/24"
          ],
          [
           "ParaMicroBio #SoyBiólogo #LosBiólogosExistimos",
           "@ParaMicroBio",
           25,
           4988,
           "2017/12/19"
          ],
          [
           "TIMES NOW",
           "@TimesNow",
           62,
           375,
           "2011/01/20"
          ],
          [
           "MinSaludCol",
           "@MinSaludCol",
           92,
           814,
           "2011/09/11"
          ],
          [
           "NSC 45 Archived",
           "@WHNSC45",
           12133,
           5,
           "2017/03/10"
          ],
          [
           "The White House 45 Archived",
           "@WhiteHouse45",
           788,
           11,
           "2017/01/19"
          ],
          [
           "Karl Lauterbach",
           "@Karl_Lauterbach",
           339,
           270,
           "2015/05/21"
          ],
          [
           "leticia spiller",
           "@leticiaspiller",
           16,
           658,
           "2010/10/13"
          ],
          [
           "Pedro Sánchez",
           "@sanchezcastejon",
           2786,
           6031,
           "2009/08/25"
          ],
          [
           "Ministerio de Sanidad",
           "@sanidadgob",
           92,
           689,
           "2010/12/30"
          ],
          [
           "Global Times",
           "@globaltimesnews",
           18092,
           520,
           "2009/06/22"
          ],
          [
           "Boris Johnson",
           "@BorisJohnson",
           119115,
           459,
           "2015/04/01"
          ],
          [
           "La Moncloa",
           "@desdelamoncloa",
           212,
           195,
           "2009/07/20"
          ],
          [
           "Consejo General de Enfermería",
           "@CGEnfermeria",
           5,
           738,
           "2010/12/06"
          ],
          [
           "David Puente",
           "@DavidPuente",
           0,
           1205,
           "2009/06/29"
          ],
          [
           "ANI",
           "@ANI",
           3041,
           0,
           "2011/08/16"
          ],
          [
           "Aditya Raj Kaul",
           "@AdityaRajKaul",
           999,
           8130,
           "2009/06/03"
          ],
          [
           "shhhhitsdundeebear",
           "@shhhhitsdundee1",
           13,
           1989,
           "2020/02/11"
          ],
          [
           "La Moncloa",
           "@desdelamoncloa",
           210,
           195,
           "2009/07/20"
          ],
          [
           "#IndiaFightsCorona",
           "@COVIDNewsByMIB",
           122,
           71,
           "2020/03/31"
          ],
          [
           "Ministry of Health",
           "@MOH_Kenya",
           43,
           661,
           "2016/02/02"
          ],
          [
           "Minister Jackson Mthembu",
           "@JacksonMthembu_",
           193,
           3749,
           "2012/11/30"
          ],
          [
           "Helder Barbalho",
           "@helderbarbalho",
           134,
           1183,
           "2010/06/03"
          ],
          [
           "Ngozi Okonjo-Iweala",
           "@NOIweala",
           3734,
           11,
           "2011/09/13"
          ],
          [
           "Ngozi Okonjo-Iweala",
           "@NOIweala",
           930,
           11,
           "2011/09/13"
          ],
          [
           "Guineematin",
           "@Guineematin",
           279,
           314,
           "2015/07/29"
          ],
          [
           "Daniel Dale",
           "@ddale8",
           8669,
           1485,
           "2010/12/11"
          ],
          [
           "竹内久美子",
           "@takeuchikumiffy",
           4135,
           3732,
           "2019/10/08"
          ],
          [
           "青葉あさひ",
           "@vTxpqRVTUijcIq4",
           7741,
           5234,
           "2018/11/03"
          ],
          [
           "CNEWS",
           "@CNEWS",
           1815,
           736,
           "2008/12/26"
          ],
          [
           "Andry Rajoelina",
           "@SE_Rajoelina",
           56,
           199,
           "2018/04/02"
          ],
          [
           "Andry Rajoelina",
           "@SE_Rajoelina",
           14,
           199,
           "2018/04/02"
          ],
          [
           "Cruz Roja Las Palmas",
           "@CruzRojaLP",
           7,
           153,
           "2016/06/30"
          ],
          [
           "Bhargab Talukdar",
           "@bshibamt",
           1,
           368,
           "2015/01/17"
          ],
          [
           "Natasha Dimitrievska",
           "@napostoloska",
           107,
           370,
           "2013/12/14"
          ],
          [
           "SSN ARGENTINA",
           "@ssn_ar",
           74,
           185,
           "2017/05/12"
          ],
          [
           "Prof. Sanjib Goswami 🇮🇳🇦🇺",
           "@DrSanjibG",
           13,
           4155,
           "2010/02/03"
          ],
          [
           "World Health Organization (WHO)",
           "@WHO",
           1287,
           1734,
           "2008/04/23"
          ],
          [
           "Saadia Afzaal",
           "@SaadiaAfzaal",
           2331,
           308,
           "2014/08/13"
          ],
          [
           "PIB in Assam",
           "@PIB_Guwahati",
           90,
           62,
           "2013/02/25"
          ],
          [
           "PIB Fact Check",
           "@PIBFactCheck",
           247,
           31,
           "2019/12/19"
          ],
          [
           "John Roberts",
           "@johnrobertsFox",
           64,
           492,
           "2009/02/16"
          ],
          [
           "Saadia Afzaal",
           "@SaadiaAfzaal",
           1133,
           308,
           "2014/08/13"
          ],
          [
           "Copernicus ECMWF",
           "@CopernicusECMWF",
           2408,
           499,
           "2015/06/26"
          ],
          [
           "Anderson Cooper 360°",
           "@AC360",
           3335,
           156,
           "2010/12/17"
          ],
          [
           "nychealthy",
           "@nycHealthy",
           255,
           556,
           "2008/12/09"
          ],
          [
           "Cal Cunningham",
           "@CalforNC",
           296,
           654,
           "2009/11/24"
          ],
          [
           "Radio 780 AM",
           "@780AM",
           24,
           1460,
           "2009/11/02"
          ],
          [
           "Ledoré E #𝗝𝗟𝗠𝟮𝟬𝟮𝟮 🔻 φ 🔝#Noussommespour📢",
           "@eledoster",
           1705,
           1333,
           "2016/02/25"
          ],
          [
           "KY Dept of Education",
           "@KyDeptofEd",
           54,
           825,
           "2011/04/04"
          ],
          [
           "PIB Fact Check",
           "@PIBFactCheck",
           513,
           31,
           "2019/12/19"
          ],
          [
           "Daniel",
           "@DannyLS74",
           2,
           2783,
           "2013/08/11"
          ],
          [
           "Elisa Granato 🦠🔬",
           "@Prokaryota",
           200,
           2669,
           "2010/01/12"
          ],
          [
           "John McAfee",
           "@officialmcafee",
           2005,
           14124,
           "2012/11/21"
          ],
          [
           "Abhishek Jalan",
           "@AayoBado",
           29,
           37,
           "2020/04/17"
          ],
          [
           "Fergus Walsh",
           "@BBCFergusWalsh",
           8181,
           364,
           "2010/05/21"
          ],
          [
           "Louis 🇬🇧 🇪🇺 〓〓 💙 #StayAlertToriesAreCorrupt",
           "@LouisHenwood",
           66,
           3965,
           "2018/06/23"
          ],
          [
           "Department of Health and Social Care",
           "@DHSCgovuk",
           1258,
           852,
           "2009/05/05"
          ],
          [
           "Pakistan Socio Economic Monitor by Yasin J",
           "@pakistanmonitor",
           0,
           1523,
           "2011/01/26"
          ],
          [
           "Fergus Walsh",
           "@BBCFergusWalsh",
           733,
           364,
           "2010/05/21"
          ],
          [
           "Cetm",
           "@CetmTransporte",
           10,
           1074,
           "2015/05/06"
          ],
          [
           "Carl T. Bergstrom",
           "@CT_Bergstrom",
           3188,
           2110,
           "2015/06/07"
          ],
          [
           "Rudy W. Giuliani",
           "@RudyGiuliani",
           15909,
           460,
           "2016/08/31"
          ],
          [
           "Danyal Gilani",
           "@DanyalGilani",
           27,
           484,
           "2009/03/15"
          ],
          [
           "Les Buralistes",
           "@LesBuralistes",
           1,
           1641,
           "2013/01/02"
          ],
          [
           "Alessandro Meluzzi☦️🇮🇹",
           "@a_meluzzi",
           28,
           50499,
           "2012/12/24"
          ],
          [
           "Kyoto University",
           "@KyotoU_News",
           195,
           199,
           "2014/09/10"
          ],
          [
           "Charlie Flanagan",
           "@CharlieFlanagan",
           54,
           646,
           "2009/11/04"
          ],
          [
           "Jeff Shipley 🦁",
           "@JeffShipley77",
           3,
           723,
           "2019/01/15"
          ],
          [
           "Arjun Singh",
           "@ArjunsinghWB",
           56,
           119,
           "2019/03/30"
          ],
          [
           "Bernie Sanders",
           "@SenSanders",
           1777,
           2330,
           "2009/04/07"
          ],
          [
           "Thaung Tun",
           "@ThaungTun20",
           6,
           39,
           "2019/09/26"
          ],
          [
           "Dinesh D'Souza",
           "@DineshDSouza",
           344,
           5351,
           "2009/11/22"
          ],
          [
           "Albert Rivera",
           "@Albert_Rivera",
           3,
           2433,
           "2010/01/27"
          ],
          [
           "Meet the Press",
           "@MeetThePress",
           41,
           443,
           "2008/01/04"
          ],
          [
           "Paolo Grimoldi",
           "@GrimoldiPaolo",
           627,
           890,
           "2011/11/21"
          ],
          [
           "Scott Gottlieb, MD",
           "@ScottGottliebMD",
           33,
           956,
           "2009/05/15"
          ],
          [
           "Darin LaHood",
           "@RepLaHood",
           6,
           1220,
           "2015/09/17"
          ],
          [
           "Didier Raoult",
           "@raoult_didier",
           2381,
           14,
           "2020/03/24"
          ],
          [
           "Bonnie369",
           "@bonnie379",
           98,
           911,
           "2011/11/18"
          ],
          [
           "PIB Fact Check",
           "@PIBFactCheck",
           381,
           31,
           "2019/12/19"
          ],
          [
           "Daniel Oran",
           "@danieloran",
           260,
           101,
           "2009/03/17"
          ],
          [
           "La Moncloa",
           "@desdelamoncloa",
           78,
           195,
           "2009/07/20"
          ],
          [
           "Eduardo Leite",
           "@EduardoLeite_",
           672,
           443,
           "2010/03/17"
          ],
          [
           "Eduardo Leite",
           "@EduardoLeite_",
           49,
           443,
           "2010/03/17"
          ],
          [
           "Sander K.",
           "@sanderknura",
           1,
           4101,
           "2008/03/29"
          ],
          [
           "Never Retreat Never Surrender🛕🚩",
           "@TapasNiyama",
           24,
           108,
           "2020/03/15"
          ],
          [
           "Silvana Konermann",
           "@SKonermann",
           210,
           578,
           "2012/10/30"
          ],
          [
           "Ministerio de Sanidad",
           "@sanidadgob",
           3415,
           689,
           "2010/12/30"
          ],
          [
           "Trevor Bedford",
           "@trvrb",
           782,
           817,
           "2010/12/10"
          ],
          [
           "Nonona' Ohtsevehn Estse'",
           "@notaxiwarrior",
           84,
           6237,
           "2011/11/14"
          ],
          [
           "Nonona' Ohtsevehn Estse'",
           "@notaxiwarrior",
           10,
           6237,
           "2011/11/14"
          ],
          [
           "Manoj Tiwari",
           "@ManojTiwariMP",
           338,
           923,
           "2015/08/14"
          ],
          [
           "Michael Downey",
           "@mgdowney",
           823,
           424,
           "2011/12/20"
          ],
          [
           "BBC News Africa",
           "@BBCAfrica",
           41,
           1392,
           "2009/04/30"
          ],
          [
           "Raila Odinga",
           "@RailaOdinga",
           326,
           308,
           "2011/05/18"
          ],
          [
           "Atiku Abubakar",
           "@atiku",
           4091,
           116,
           "2010/08/12"
          ],
          [
           "The White House 45 Archived",
           "@WhiteHouse45",
           1408,
           11,
           "2017/01/19"
          ],
          [
           "Germany @ Arab World",
           "@almaniadiplo",
           56,
           371,
           "2014/09/16"
          ],
          [
           "Dee C. 🧘‍♀️👩‍🎤🏃‍♀️🎭",
           "@Nangpagirl78",
           2,
           343,
           "2016/01/04"
          ],
          [
           "Tom Hanks",
           "@tomhanks",
           11314,
           25,
           "2009/06/24"
          ],
          [
           "Carlos Bolsonaro",
           "@CarlosBolsonaro",
           3319,
           631,
           "2009/08/25"
          ],
          [
           "DM Bareilly",
           "@dmbareilly",
           1146,
           124,
           "2016/09/14"
          ],
          [
           "PIB Fact Check",
           "@PIBFactCheck",
           251,
           31,
           "2019/12/19"
          ],
          [
           "America's Newsroom",
           "@AmericaNewsroom",
           8,
           386,
           "2011/06/07"
          ],
          [
           "Guardia Civil 🇪🇸",
           "@guardiacivil",
           966,
           288,
           "2011/05/09"
          ],
          [
           "Jair M. Bolsonaro",
           "@jairbolsonaro",
           6206,
           550,
           "2010/03/31"
          ],
          [
           "Ashutosh Nath Tiwari",
           "@ashu2aug",
           0,
           496,
           "2011/04/27"
          ],
          [
           "Arancha González",
           "@AranchaGlezLaya",
           1759,
           2037,
           "2012/11/25"
          ],
          [
           "NOA Nigeria",
           "@NOA_Nigeria",
           55,
           887,
           "2011/11/03"
          ],
          [
           "Policía Nacional",
           "@policia",
           96,
           0,
           "2009/03/11"
          ],
          [
           "Corinne Lepage",
           "@corinnelepage",
           393,
           6124,
           "2009/04/14"
          ],
          [
           "Zoom",
           "@Zoom",
           29,
           2058,
           "2012/03/13"
          ],
          [
           "Matías Rajnerman",
           "@MatiasRajnerman",
           5,
           628,
           "2010/05/30"
          ],
          [
           "Fco. Javier Redondo",
           "@fjredondocalvo1",
           8,
           268,
           "2015/11/14"
          ],
          [
           "Fco. Javier Redondo",
           "@fjredondocalvo1",
           4,
           268,
           "2015/11/14"
          ],
          [
           "بربادی",
           "@syedkhaleedd",
           4,
           94,
           "2020/04/10"
          ],
          [
           "World Health Organization (WHO)",
           "@WHO",
           606,
           1734,
           "2008/04/23"
          ],
          [
           "Femi Gbajabiamila",
           "@femigbaja",
           4302,
           264,
           "2012/04/27"
          ],
          [
           "Rahul Krishnan",
           "@rahulstreetmagi",
           8,
           16,
           "2013/06/18"
          ],
          [
           "Helder Barbalho",
           "@helderbarbalho",
           0,
           1183,
           "2010/06/03"
          ],
          [
           "TheStarKenya",
           "@TheStarKenya",
           33,
           508,
           "2011/07/27"
          ],
          [
           "Jack Motley",
           "@JackMotleyLive",
           2,
           1884,
           "2012/03/19"
          ],
          [
           "ncpwds",
           "@Ncpwds",
           11,
           337,
           "2013/06/05"
          ],
          [
           "أ.د. حاكم المطيري",
           "@DrHAKEM",
           171,
           3473,
           "2010/08/24"
          ],
          [
           "Dhiraj Giri",
           "@DhirajG82325757",
           1,
           849,
           "2020/04/13"
          ],
          [
           "Vishal",
           "@VishalAryavart",
           0,
           125,
           "2017/10/15"
          ],
          [
           "Lilach Volach",
           "@lilach_v",
           1,
           580,
           "2011/01/15"
          ],
          [
           "Mangala Samaraweera",
           "@MangalaLK",
           73,
           208,
           "2015/02/20"
          ],
          [
           "Chinese Embassy in Sri Lanka",
           "@ChinaEmbSL",
           0,
           336,
           "2020/03/20"
          ],
          [
           "Daniel Múgica",
           "@danimugicagmai1",
           4,
           214,
           "2016/03/02"
          ],
          [
           "DCI KENYA",
           "@DCI_Kenya",
           112,
           88,
           "2014/05/30"
          ],
          [
           "DCI KENYA",
           "@DCI_Kenya",
           13,
           88,
           "2014/05/30"
          ],
          [
           "Kellyanne Conway",
           "@KellyannePolls",
           365,
           937,
           "2012/01/23"
          ],
          [
           "Kellyanne Conway",
           "@KellyannePolls",
           1925,
           937,
           "2012/01/23"
          ],
          [
           "Bihar Health Dept",
           "@BiharHealthDept",
           19,
           100,
           "2019/06/03"
          ],
          [
           "The Hill",
           "@thehill",
           332,
           276,
           "2007/03/22"
          ],
          [
           "aljo maes",
           "@aljomaes2010",
           1,
           1382,
           "2010/10/26"
          ],
          [
           "Eddie Holmes",
           "@edwardcholmes",
           75,
           369,
           "2014/06/10"
          ],
          [
           "Syed ghayasuddin",
           "@ghayasU59473086",
           16,
           864,
           "2019/07/04"
          ],
          [
           "TN - Todo Noticias",
           "@todonoticias",
           592,
           21,
           "2009/03/23"
          ],
          [
           "Charlie Flanagan",
           "@CharlieFlanagan",
           35,
           646,
           "2009/11/04"
          ],
          [
           "Florencia Ballarino",
           "@FlorBallarino",
           20,
           2141,
           "2013/04/04"
          ],
          [
           "Jair M. Bolsonaro",
           "@jairbolsonaro",
           5703,
           550,
           "2010/03/31"
          ],
          [
           "Clare Daly",
           "@ClareDalyMEP",
           141,
           29,
           "2011/10/05"
          ],
          [
           "Garrett Bedenbaugh",
           "@wxgarrett",
           69,
           2501,
           "2009/01/15"
          ],
          [
           "VOST Comunitat Valenciana",
           "@VOSTcvalenciana",
           78,
           531,
           "2013/06/05"
          ],
          [
           "Doble R",
           "@r_doble",
           0,
           595,
           "2011/11/07"
          ],
          [
           "justice-n'est-plus",
           "@plus_justice",
           7,
           183,
           "2014/02/06"
          ],
          [
           "Thaung Tun",
           "@ThaungTun20",
           1222,
           39,
           "2019/09/26"
          ],
          [
           "DEO SAFARI",
           "@DEOSAFARI7",
           0,
           5,
           "2020/02/10"
          ],
          [
           "ABS-CBN News",
           "@ABSCBNNews",
           243,
           1069,
           "2008/08/16"
          ],
          [
           "KattaNews",
           "@katta_news",
           28,
           0,
           "2019/11/18"
          ],
          [
           "Vic Micolucci WJXT",
           "@WJXTvic",
           17,
           3368,
           "2009/03/23"
          ],
          [
           "The White House 45 Archived",
           "@WhiteHouse45",
           1063,
           11,
           "2017/01/19"
          ],
          [
           "Golden State Times 🇺🇸",
           "@Goldstatetimes",
           6050,
           232,
           "2012/09/17"
          ],
          [
           "‏ انا ستورمي💨 BBS2949 كود ايهيرب",
           "@bbbii1010",
           5,
           2562,
           "2019/05/31"
          ],
          [
           "المستشار قاسم حدرج",
           "@almostshar202",
           14,
           3627,
           "2018/05/07"
          ],
          [
           "Shehan Madawa 🇱🇰",
           "@shehanmlive",
           2,
           793,
           "2010/02/04"
          ],
          [
           "ELSAN",
           "@elsan",
           6,
           1704,
           "2013/12/05"
          ],
          [
           "BCRA",
           "@BancoCentral_AR",
           33,
           19,
           "2014/05/23"
          ],
          [
           "BCRA",
           "@BancoCentral_AR",
           45,
           19,
           "2014/05/23"
          ],
          [
           "Eduardo Leite",
           "@EduardoLeite_",
           192,
           443,
           "2010/03/17"
          ],
          [
           "Tiger Brands",
           "@TigerBrands",
           1,
           269,
           "2015/12/17"
          ],
          [
           "Presidency | South Africa 🇿🇦",
           "@PresidencyZA",
           70,
           17,
           "2009/05/18"
          ],
          [
           "The Judiciary Kenya",
           "@Kenyajudiciary",
           164,
           79,
           "2014/10/25"
          ],
          [
           "Pordenone y Budoia 2005",
           "@PordenoneBudoia",
           31,
           2732,
           "2019/06/19"
          ],
          [
           "Waris Pathan",
           "@warispathan",
           196,
           478,
           "2014/11/28"
          ],
          [
           "Darin LaHood",
           "@RepLaHood",
           9,
           1220,
           "2015/09/17"
          ],
          [
           "ian bremmer",
           "@ianbremmer",
           949,
           1457,
           "2009/07/28"
          ],
          [
           "Kamil Karamali",
           "@KamilKaramali",
           1222,
           1570,
           "2009/07/07"
          ],
          [
           "Eduardo Bolsonaro🇧🇷",
           "@BolsonaroSP",
           1002,
           691,
           "2009/09/16"
          ],
          [
           "UZ Brussel",
           "@UZBrussel",
           12,
           544,
           "2011/07/07"
          ],
          [
           "Chirag Thumar",
           "@ThumarChirag",
           121,
           1444,
           "2013/04/16"
          ],
          [
           "Belduque",
           "@belduque",
           1,
           609,
           "2010/03/20"
          ],
          [
           "Edú Duro d Emelec",
           "@EduX2021",
           5,
           598,
           "2011/09/17"
          ],
          [
           "Andrew Petter Nold Long 🇧🇷 🇺🇸 Bolsonarista 🧠",
           "@Andrew_Petter",
           117,
           9380,
           "2011/04/23"
          ],
          [
           "Paulo Smith",
           "@pecunia55",
           3,
           431,
           "2010/02/23"
          ],
          [
           "Noticias Caracol",
           "@NoticiasCaracol",
           19,
           1135,
           "2008/12/02"
          ],
          [
           "報道されないコロナ情報",
           "@JPYlTqpLzb65rdX",
           5126,
           0,
           "2020/02/26"
          ],
          [
           "BBC Politics",
           "@BBCPolitics",
           11933,
           289,
           "2007/01/10"
          ],
          [
           "CHU de Lille",
           "@CHU_Lille",
           32,
           1037,
           "2011/11/16"
          ],
          [
           "Amanda Páez",
           "@amandaasubiar",
           772,
           5356,
           "2011/07/15"
          ],
          [
           "Amanda Páez",
           "@amandaasubiar",
           167,
           5356,
           "2011/07/15"
          ],
          [
           "Amanda Páez",
           "@amandaasubiar",
           204,
           5356,
           "2011/07/15"
          ],
          [
           "Shivaram Mchinnappa",
           "@Mshivaram23M",
           0,
           57,
           "2016/07/08"
          ],
          [
           "Narayana Health",
           "@NarayanaHealth",
           1,
           11,
           "2013/04/03"
          ],
          [
           "Julianna Tatelbaum",
           "@CNBCJulianna",
           123,
           1016,
           "2018/09/12"
          ],
          [
           "Faisal Javed Khan",
           "@FaisalJavedKhan",
           1060,
           1341,
           "2011/03/04"
          ],
          [
           "World Health Organization (WHO)",
           "@WHO",
           40964,
           1734,
           "2008/04/23"
          ],
          [
           "Vas Narasimhan",
           "@VasNarasimhan",
           117,
           230,
           "2016/04/22"
          ],
          [
           "PIB Fact Check",
           "@PIBFactCheck",
           315,
           31,
           "2019/12/19"
          ],
          [
           "Murtaza Solangi",
           "@murtazasolangi",
           121,
           3209,
           "2009/05/04"
          ],
          [
           "TF1LeJT",
           "@TF1LeJT",
           61,
           739,
           "2015/07/24"
          ],
          [
           "WHO Kenya",
           "@WHOKenya",
           22,
           250,
           "2017/01/19"
          ],
          [
           "groveers.com",
           "@groveers",
           0,
           477,
           "2019/02/03"
          ],
          [
           "sharjahmedia",
           "@sharjahmedia",
           8,
           171,
           "2011/10/02"
          ],
          [
           "Raila Odinga",
           "@RailaOdinga",
           1223,
           308,
           "2011/05/18"
          ],
          [
           "Nistula Hebbar",
           "@nistula",
           239,
           1274,
           "2010/07/01"
          ],
          [
           "Iván Jesús Izaguirre I.",
           "@ivaniz66",
           3833,
           5275,
           "2009/11/11"
          ],
          [
           "WHO South-East Asia",
           "@WHOSEARO",
           820,
           745,
           "2013/06/25"
          ],
          [
           "PIB Fact Check",
           "@PIBFactCheck",
           336,
           31,
           "2019/12/19"
          ],
          [
           "Revista Mongolia",
           "@revistamongolia",
           189,
           3659,
           "2012/01/27"
          ],
          [
           "Amitabh Bachchan",
           "@SrBachchan",
           6120,
           1803,
           "2010/05/18"
          ],
          [
           "Sachin Yadav",
           "@SachinYadavRJD",
           23,
           675,
           "2017/12/20"
          ],
          [
           "Ignacio Pereira",
           "@ignaciopereira",
           688,
           399,
           "2010/03/06"
          ],
          [
           "Jerome Rodrigues Officiel",
           "@J_Rodrigues_Off",
           61,
           236,
           "2019/01/12"
          ],
          [
           "Emerald Robinson ✝️",
           "@EmeraldRobinson",
           3654,
           8776,
           "2015/10/18"
          ],
          [
           "Guardia Civil 🇪🇸",
           "@guardiacivil",
           647,
           288,
           "2011/05/09"
          ],
          [
           "Candace Owens",
           "@RealCandaceO",
           11233,
           26,
           "2017/06/23"
          ],
          [
           "Ministry of Health",
           "@MoHFW_INDIA",
           247,
           192,
           "2014/06/30"
          ],
          [
           "Guillaume Gendron",
           "@g_gendron",
           1,
           1611,
           "2011/08/30"
          ],
          [
           "Val Lopes",
           "@valkloples",
           18,
           322,
           "2018/04/09"
          ],
          [
           "IFEMA",
           "@IFEMA",
           45,
           7032,
           "2009/07/14"
          ],
          [
           "Gerardo Zamora",
           "@GZamoraSDE",
           146,
           66,
           "2010/10/27"
          ],
          [
           "Evo Morales Ayma",
           "@evoespueblo",
           1797,
           30,
           "2016/04/15"
          ],
          [
           "गोपाल सनातनी",
           "@GopalSa22721269",
           12,
           6336,
           "2019/09/20"
          ],
          [
           "policiacibercol",
           "@policiacibercol",
           2,
           106,
           "2020/03/26"
          ],
          [
           "A'i",
           "@aisha_yaGuda",
           129,
           882,
           "2018/05/04"
          ],
          [
           "Martin",
           "@EspLegion",
           0,
           763,
           "2016/10/21"
          ],
          [
           "NCDC",
           "@NCDCgov",
           7310,
           384,
           "2016/03/04"
          ],
          [
           "UP POLICE",
           "@Uppolice",
           867,
           430,
           "2013/03/16"
          ],
          [
           "World Health Organization (WHO)",
           "@WHO",
           869,
           1734,
           "2008/04/23"
          ],
          [
           "Ministry of Health",
           "@MOH_Kenya",
           46,
           661,
           "2016/02/02"
          ],
          [
           "Raila Odinga",
           "@RailaOdinga",
           144,
           308,
           "2011/05/18"
          ],
          [
           "The ODM Party",
           "@TheODMparty",
           40,
           80,
           "2012/09/11"
          ],
          [
           "Marcelo Rubens Paiva",
           "@marcelorubens",
           417,
           695,
           "2009/04/10"
          ],
          [
           "Ministry of Finance, Budget and National Planning",
           "@FinMinNigeria",
           739,
           164,
           "2017/03/17"
          ],
          [
           "ARY News Live",
           "@ARYNewsApp",
           0,
           794,
           "2015/05/01"
          ],
          [
           "The ODM Party",
           "@TheODMparty",
           16,
           80,
           "2012/09/11"
          ],
          [
           "GDT Guardia Civil",
           "@GDTGuardiaCivil",
           257,
           110,
           "2010/09/09"
          ],
          [
           "Guardia Civil 🇪🇸",
           "@guardiacivil",
           623,
           288,
           "2011/05/09"
          ],
          [
           "BJP",
           "@BJP4India",
           676,
           3,
           "2010/10/26"
          ],
          [
           "هاشل الهويشل",
           "@ourkuwait",
           0,
           262,
           "2019/05/19"
          ],
          [
           "غازي بن منصور الراجحي",
           "@gha9700",
           88,
           152,
           "2015/08/19"
          ],
          [
           "Helder Barbalho",
           "@helderbarbalho",
           60,
           1183,
           "2010/06/03"
          ],
          [
           "Ratan N. Tata",
           "@RNTata2000",
           34062,
           35,
           "2011/04/05"
          ],
          [
           "Rajasthan Police",
           "@PoliceRajasthan",
           276,
           173,
           "2017/09/13"
          ],
          [
           "Ministry of Health",
           "@MOH_Kenya",
           76,
           661,
           "2016/02/02"
          ],
          [
           "Rafael Hernando",
           "@Rafa_Hernando",
           677,
           969,
           "2011/09/26"
          ],
          [
           "Nacho Ayala",
           "@nachoayalab",
           763,
           257,
           "2014/04/20"
          ],
          [
           "VOX 🇪🇸",
           "@vox_es",
           1212,
           1250,
           "2013/11/18"
          ],
          [
           "Ministerio Transportes, Movilidad y A. Urbana",
           "@mitmagob",
           2081,
           354,
           "2011/02/09"
          ],
          [
           "Pure Michigan Girl",
           "@PureMichGirl",
           1212,
           29813,
           "2013/05/15"
          ],
          [
           "Rodrigo Quiroga",
           "@rquiroga777",
           584,
           4089,
           "2011/09/04"
          ],
          [
           "Tori Sachs",
           "@Tori_Sachs",
           4,
           4479,
           "2010/11/22"
          ],
          [
           "Jair M. Bolsonaro",
           "@jairbolsonaro",
           2335,
           550,
           "2010/03/31"
          ],
          [
           "ICEBOY 🐼",
           "@Caleb_Waswa_",
           1194,
           9049,
           "2016/09/17"
          ],
          [
           "Bobby Lewis",
           "@revrrlewis",
           1184,
           1187,
           "2014/05/09"
          ],
          [
           "Baybars Örsek",
           "@baybarsorsek",
           11,
           541,
           "2009/03/27"
          ],
          [
           "Steve Vladeck",
           "@steve_vladeck",
           209,
           3060,
           "2011/09/26"
          ],
          [
           "World Health Organization (WHO)",
           "@WHO",
           509,
           1734,
           "2008/04/23"
          ],
          [
           "Steve Vladeck",
           "@steve_vladeck",
           619,
           3060,
           "2011/09/26"
          ],
          [
           "TODAY",
           "@TODAYshow",
           248,
           7916,
           "2007/07/26"
          ],
          [
           "IRSnews",
           "@IRSnews",
           316,
           133,
           "2009/09/08"
          ],
          [
           "美国之音中文网",
           "@VOAChinese",
           224,
           163,
           "2007/08/13"
          ],
          [
           "BNPB Indonesia",
           "@BNPB_Indonesia",
           206,
           289,
           "2011/08/01"
          ],
          [
           "Aarogya Setu",
           "@SetuAarogya",
           62,
           14,
           "2020/04/03"
          ],
          [
           "AardvarkMobileTours",
           "@aardvarkel",
           2,
           702,
           "2012/10/24"
          ],
          [
           "takaoka",
           "@takaoka",
           38025,
           2587,
           "2007/04/11"
          ],
          [
           "Leandro Cahn 💚",
           "@leandrocahn",
           474,
           1219,
           "2009/08/31"
          ],
          [
           "Aravind",
           "@aravindcherry",
           1,
           841,
           "2010/02/21"
          ],
          [
           "Global Times",
           "@globaltimesnews",
           129,
           520,
           "2009/06/22"
          ],
          [
           "World Health Organization (WHO) Western Pacific",
           "@WHOWPRO",
           10,
           1205,
           "2015/10/05"
          ],
          [
           "وكالة تعليق الدراسة",
           "@News_Ejazah",
           658,
           8955,
           "2013/04/28"
          ],
          [
           "James Todaro, MD",
           "@JamesTodaroMD",
           1772,
           1606,
           "2016/11/30"
          ],
          [
           "BBC Politics",
           "@BBCPolitics",
           10902,
           289,
           "2007/01/10"
          ],
          [
           "CenterForGreatApes",
           "@CFGA",
           526,
           2163,
           "2009/03/28"
          ],
          [
           "World Bank Kenya",
           "@WorldBankKenya",
           102,
           4639,
           "2013/12/13"
          ],
          [
           "Governor Phil Murphy",
           "@GovMurphy",
           4026,
           188,
           "2018/01/04"
          ],
          [
           "Elon Musk",
           "@elonmusk",
           11885,
           103,
           "2009/06/02"
          ],
          [
           "Roop Darak BHARTIYA",
           "@iRupND",
           880,
           388,
           "2019/12/21"
          ],
          [
           "Barack Obama",
           "@BarackObama",
           36699,
           593532,
           "2007/03/05"
          ],
          [
           "Priorities USA",
           "@prioritiesUSA",
           76882,
           68,
           "2011/04/29"
          ],
          [
           "PIB Fact Check",
           "@PIBFactCheck",
           72,
           31,
           "2019/12/19"
          ],
          [
           "João Doria",
           "@jdoriajr",
           208,
           371,
           "2009/08/11"
          ],
          [
           "Allison Pearson",
           "@allisonpearson",
           655,
           18003,
           "2010/04/26"
          ],
          [
           "Ministerio de Salud",
           "@Minsa_Peru",
           468,
           3629,
           "2010/04/29"
          ],
          [
           "Фред Џонс",
           "@Freddy_AFC",
           11,
           1881,
           "2015/03/29"
          ],
          [
           "ishaan prakash",
           "@ishaan_ANI",
           826,
           100,
           "2013/06/30"
          ],
          [
           "OPS/OMS Perú",
           "@OPSOMSPeru",
           194,
           1337,
           "2010/05/06"
          ],
          [
           "Rudy W. Giuliani",
           "@RudyGiuliani",
           538,
           460,
           "2016/08/31"
          ],
          [
           "Sarim malik19",
           "@Sarim192",
           0,
           130,
           "2019/03/06"
          ],
          [
           "Luciana Borio, MD",
           "@llborio",
           507,
           352,
           "2013/03/15"
          ],
          [
           "Prasar Bharati News Services पी.बी.एन.एस.",
           "@PBNS_India",
           2469,
           71,
           "2019/04/01"
          ],
          [
           "Ministry of Health",
           "@MOH_Kenya",
           99,
           661,
           "2016/02/02"
          ],
          [
           "PIB Fact Check",
           "@PIBFactCheck",
           177,
           31,
           "2019/12/19"
          ],
          [
           "Leo Varadkar",
           "@LeoVaradkar",
           50,
           1751,
           "2010/12/22"
          ],
          [
           "Leo Varadkar",
           "@LeoVaradkar",
           605,
           1751,
           "2010/12/22"
          ],
          [
           "Houseparty",
           "@houseparty",
           8720,
           14,
           "2014/12/12"
          ],
          [
           "Syed Rahat Naqvi",
           "@SyedRahatNaqvi",
           32,
           465,
           "2018/12/13"
          ],
          [
           "Fenalco Nacional",
           "@FenalcoNacional",
           64,
           995,
           "2009/11/11"
          ],
          [
           "Tedros Adhanom Ghebreyesus",
           "@DrTedros",
           2602,
           1206,
           "2010/09/12"
          ],
          [
           "Sagar P. Kapasi",
           "@iamsagarkapasi",
           0,
           94,
           "2010/06/18"
          ],
          [
           "Carlos Vera",
           "@CarlosVerareal",
           1988,
           2939,
           "2010/09/19"
          ],
          [
           "Osmar Terra",
           "@OsmarTerra",
           7615,
           10860,
           "2009/07/01"
          ],
          [
           "Hora 25",
           "@hora25",
           2668,
           903,
           "2008/05/17"
          ],
          [
           "𝐅𝐢𝐧𝐚𝐧𝐳𝐚𝐬 ≜",
           "@Finanzas_Pharol",
           1328,
           50,
           "2019/07/02"
          ],
          [
           "Presidencia Colombia 🇨🇴",
           "@infopresidencia",
           46,
           292,
           "2011/06/07"
          ],
          [
           "Министерство за здравство",
           "@ZdravstvoMK",
           31,
           141,
           "2012/12/06"
          ],
          [
           "NYTimes Communications",
           "@NYTimesPR",
           542,
           1506,
           "2008/08/12"
          ],
          [
           "SDG2030",
           "@SDG2030",
           142,
           500,
           "2015/03/18"
          ],
          [
           "Trump War Room",
           "@TrumpWarRoom",
           946,
           267,
           "2019/03/20"
          ],
          [
           "Roy Barreras",
           "@RoyBarreras",
           2369,
           1687,
           "2009/08/02"
          ],
          [
           "Agir Gupta",
           "@agirgupta",
           0,
           10,
           "2015/05/07"
          ],
          [
           "ASG01",
           "@rocksatish448",
           1,
           43,
           "2017/11/14"
          ],
          [
           "Dr K K Aggarwal",
           "@DrKKAggarwal",
           10,
           533,
           "2010/01/03"
          ],
          [
           "Pradeep Dwivedi®",
           "@PradeepDwivedi",
           0,
           2022,
           "2009/03/26"
          ],
          [
           "MOFA",
           "@MOFAkr_eng",
           35,
           511,
           "2010/10/18"
          ],
          [
           "Grupo Mémora",
           "@GrupoMemora",
           2,
           428,
           "2012/07/03"
          ],
          [
           "🇮🇳 Nation 1st 🕉🚩",
           "@Nation_is1st",
           9,
           4826,
           "2015/01/03"
          ],
          [
           "Assam Police",
           "@assampolice",
           142,
           118,
           "2015/08/05"
          ],
          [
           "Geri Cuba",
           "@GerardoCuba1986",
           1,
           400,
           "2018/10/11"
          ],
          [
           "Jignesh",
           "@thisisjignesh",
           213,
           1475,
           "2017/07/10"
          ],
          [
           "Osmar Terra",
           "@OsmarTerra",
           0,
           10860,
           "2009/07/01"
          ],
          [
           "Candace Owens",
           "@RealCandaceO",
           4754,
           26,
           "2017/06/23"
          ],
          [
           "Salim Mattar",
           "@salimmattarBR",
           347,
           80,
           "2019/10/21"
          ],
          [
           "World Health Organization (WHO)",
           "@WHO",
           898,
           1734,
           "2008/04/23"
          ],
          [
           "badly-drawn bee 🐝",
           "@soapachu",
           9597,
           7804,
           "2009/02/17"
          ],
          [
           "Juan Manuel Galán",
           "@juanmanuelgalan",
           78,
           15801,
           "2009/04/14"
          ],
          [
           "SALUD México",
           "@SSalud_mx",
           58,
           237,
           "2010/04/12"
          ],
          [
           "دار الإفتاء المصرية 🇪🇬",
           "@EgyptDarAlIfta",
           566,
           3,
           "2015/01/05"
          ],
          [
           "Cameron Kyle-Sidell, MD",
           "@cameronks",
           14,
           174,
           "2011/04/18"
          ],
          [
           "Inquirer",
           "@inquirerdotnet",
           27,
           1827,
           "2008/07/16"
          ],
          [
           "Elliot Alderson",
           "@fs0c131y",
           310,
           3792,
           "2015/06/10"
          ],
          [
           "Live Law",
           "@LiveLawIndia",
           389,
           1100,
           "2013/03/09"
          ],
          [
           "Ignacio Pereira",
           "@ignaciopereira",
           148,
           399,
           "2010/03/06"
          ],
          [
           "Noguchi Memorial Institute for Medical Research",
           "@NMIMR_UG",
           805,
           59,
           "2018/08/10"
          ],
          [
           "Rodrigo Maia",
           "@RodrigoMaia",
           2799,
           621,
           "2009/04/25"
          ],
          [
           "🎀Makhumaloo🎀",
           "@Tk0606khumz",
           14,
           7260,
           "2019/09/11"
          ],
          [
           "MinSaludCol",
           "@MinSaludCol",
           1039,
           814,
           "2011/09/11"
          ],
          [
           "Álvaro Uribe Vélez",
           "@AlvaroUribeVel",
           3280,
           3637,
           "2009/07/29"
          ],
          [
           "HomeAffairsSA",
           "@HomeAffairsSA",
           56,
           1740,
           "2011/06/30"
          ],
          [
           "Alexandre Shazzam",
           "@alefrota77",
           63,
           729,
           "2019/08/25"
          ],
          [
           "WAHO | OOAS",
           "@OoasWaho",
           7,
           279,
           "2016/02/18"
          ],
          [
           "Brit Hume",
           "@brithume",
           12342,
           838,
           "2010/02/07"
          ],
          [
           "Rahul Kanwal",
           "@rahulkanwal",
           4823,
           4098,
           "2009/09/19"
          ],
          [
           "IMSS Jalisco",
           "@imssjalcontigo",
           56,
           736,
           "2014/06/05"
          ],
          [
           "Ministry of Health",
           "@MOH_Kenya",
           51,
           661,
           "2016/02/02"
          ],
          [
           "Inquirer",
           "@inquirerdotnet",
           8,
           1827,
           "2008/07/16"
          ],
          [
           "El pollo",
           "@elpollocabreado",
           0,
           142,
           "2011/05/19"
          ],
          [
           "WAHO | OOAS",
           "@OoasWaho",
           12,
           279,
           "2016/02/18"
          ],
          [
           "Tori Sachs",
           "@Tori_Sachs",
           2560,
           4479,
           "2010/11/22"
          ],
          [
           "NCDC",
           "@NCDCgov",
           3065,
           384,
           "2016/03/04"
          ],
          [
           "دار الإفتاء المصرية 🇪🇬",
           "@EgyptDarAlIfta",
           202,
           3,
           "2015/01/05"
          ],
          [
           "IMSS",
           "@Tu_IMSS",
           3600,
           34641,
           "2009/08/26"
          ],
          [
           "Andrew Lawrence",
           "@ndrew_lawrence",
           103,
           3431,
           "2013/02/28"
          ],
          [
           "Miyerlandi Torres Agredo",
           "@MiyerTorresA",
           54,
           339,
           "2013/09/16"
          ],
          [
           "João Doria",
           "@jdoriajr",
           61,
           371,
           "2009/08/11"
          ],
          [
           "NDTV",
           "@ndtv",
           213,
           15,
           "2009/05/01"
          ],
          [
           "World Health Organization (WHO) Western Pacific",
           "@WHOWPRO",
           13,
           1205,
           "2015/10/05"
          ],
          [
           "World Health Organization (WHO) Western Pacific",
           "@WHOWPRO",
           18,
           1205,
           "2015/10/05"
          ],
          [
           "AFP News Agency",
           "@AFP",
           449,
           611,
           "2011/09/27"
          ],
          [
           "SheDecides Philippines",
           "@SheDecidesPH",
           1,
           107,
           "2020/02/24"
          ],
          [
           "SINAG",
           "@csspsinag",
           7,
           113,
           "2015/04/22"
          ],
          [
           "Sarah Elago",
           "@sarahelago",
           6,
           1559,
           "2010/01/08"
          ],
          [
           "Ministerio de Sanidad",
           "@sanidadgob",
           104,
           689,
           "2010/12/30"
          ],
          [
           "Salud Pública",
           "@SaludPublicaEs",
           770,
           7,
           "2014/10/10"
          ],
          [
           "Salud Pública",
           "@SaludPublicaEs",
           1040,
           7,
           "2014/10/10"
          ],
          [
           "Ministerio de Sanidad",
           "@sanidadgob",
           141,
           689,
           "2010/12/30"
          ],
          [
           "Sarah Elago",
           "@sarahelago",
           28,
           1559,
           "2010/01/08"
          ],
          [
           "SGG Edoméx",
           "@SGGEdomex",
           11,
           566,
           "2011/09/16"
          ],
          [
           "Nadine Witkowski",
           "@witkowski_nad",
           126,
           359,
           "2016/01/19"
          ],
          [
           "D.Kimathi University",
           "@DeKUTkenya",
           3,
           463,
           "2013/09/20"
          ],
          [
           "Jean-Michel Blanquer",
           "@jmblanquer",
           1757,
           6525,
           "2011/08/22"
          ],
          [
           "Ministério da Saúde",
           "@minsaude",
           9465,
           486,
           "2009/05/04"
          ],
          [
           "Naftali Bennett בנט",
           "@naftalibennett",
           312,
           688,
           "2008/02/07"
          ],
          [
           "François Legault",
           "@francoislegault",
           579,
           157,
           "2011/03/04"
          ],
          [
           "State House Kenya",
           "@StateHouseKenya",
           146,
           215,
           "2011/08/30"
          ],
          [
           "Tyrone_gawa",
           "@gawa_tyrone",
           0,
           2281,
           "2009/03/22"
          ],
          [
           "CMO Maharashtra",
           "@CMOMaharashtra",
           907,
           99,
           "2014/07/01"
          ],
          [
           "Ministério da Saúde",
           "@minsaude",
           340,
           486,
           "2009/05/04"
          ],
          [
           "Dan Patrick",
           "@DanPatrick",
           177,
           827,
           "2008/11/24"
          ],
          [
           "Nimra",
           "@smokyswaggin",
           1252,
           45,
           "2013/11/27"
          ],
          [
           "CP Mumbai Police",
           "@CPMumbaiPolice",
           3721,
           21,
           "2015/12/16"
          ],
          [
           "Sonam Mahajan",
           "@AsYouNotWish",
           2432,
           38,
           "2011/07/25"
          ],
          [
           "RanveerAulakh33468 - किसान मजदूर एकता जिन्दाबाद",
           "@aulakh33468",
           0,
           1653,
           "2020/02/24"
          ],
          [
           "Narendra Modi",
           "@narendramodi",
           65549,
           2354,
           "2009/01/10"
          ],
          [
           "newschecker.in",
           "@NewscheckerIn",
           22,
           242,
           "2019/02/14"
          ],
          [
           "James Cook",
           "@BBCJamesCook",
           1554,
           1775,
           "2008/10/28"
          ],
          [
           "Ministry of Health- Uganda",
           "@MinofHealthUG",
           320,
           414,
           "2014/11/18"
          ],
          [
           "Matteo Salvini",
           "@matteosalvinimi",
           2120,
           2007,
           "2011/03/23"
          ],
          [
           "Giorgia Meloni 🇮🇹 ن",
           "@GiorgiaMeloni",
           1270,
           906,
           "2010/04/07"
          ],
          [
           "Francisco Muñoz",
           "@panchorgl",
           127,
           1655,
           "2007/07/27"
          ],
          [
           "Naftali Bennett בנט",
           "@naftalibennett",
           13,
           688,
           "2008/02/07"
          ],
          [
           "Mehrunnissa Khan",
           "@KhanMehrunnissa",
           6,
           12,
           "2020/02/16"
          ],
          [
           "7NEWS Sydney",
           "@7NewsSydney",
           28,
           179,
           "2010/06/17"
          ],
          [
           "Ministry of Health",
           "@MOH_Kenya",
           286,
           661,
           "2016/02/02"
          ],
          [
           "Department of Health and Social Care",
           "@DHSCgovuk",
           99,
           852,
           "2009/05/05"
          ],
          [
           "Santiago Cafiero",
           "@SantiCafiero",
           351,
           526,
           "2009/05/26"
          ],
          [
           "Medanta",
           "@medanta",
           122,
           3045,
           "2009/11/18"
          ],
          [
           "María Luisa Melo",
           "@MLMelo",
           192,
           3703,
           "2009/08/27"
          ],
          [
           "Matt McCarthy",
           "@DrMattMcCarthy",
           18748,
           139,
           "2013/09/14"
          ],
          [
           "Johns Hopkins University",
           "@JohnsHopkins",
           407,
           4889,
           "2008/04/19"
          ],
          [
           "PharmaMar",
           "@PhrmMar",
           130,
           2040,
           "2015/01/29"
          ],
          [
           "Troll Memes",
           "@troll_Memes09",
           71,
           568,
           "2017/04/05"
          ],
          [
           "Alfredo Rangel",
           "@AlRangelS",
           4829,
           753,
           "2010/08/04"
          ],
          [
           "Ministry of Health",
           "@MOH_Kenya",
           66,
           661,
           "2016/02/02"
          ],
          [
           "PIB Fact Check",
           "@PIBFactCheck",
           346,
           31,
           "2019/12/19"
          ],
          [
           "Andrés Manuel",
           "@lopezobrador_",
           5072,
           256,
           "2009/10/13"
          ],
          [
           "Fahrettin Altun",
           "@fahrettinaltun",
           7581,
           1138,
           "2018/02/23"
          ],
          [
           "Talisson Ferreira",
           "@talissondsf",
           109,
           2653,
           "2018/04/04"
          ],
          [
           "PP Jain INC",
           "@pppjain",
           3,
           362,
           "2010/03/02"
          ],
          [
           "Chayan Chatterjee",
           "@Satyanewshi",
           551,
           262,
           "2016/07/13"
          ],
          [
           "Abhishek Srivastava",
           "@plutokingsize",
           5,
           96,
           "2010/01/06"
          ],
          [
           "กระทรวงสาธารณสุข",
           "@pr_moph",
           129,
           494,
           "2010/05/14"
          ],
          [
           "OMS Algérie",
           "@OMS_ALGERIE",
           32,
           90,
           "2016/06/27"
          ],
          [
           "पीआईबी हिंदी",
           "@PIBHindi",
           197,
           118,
           "2015/01/29"
          ],
          [
           "المجلس",
           "@Almajlliss",
           108,
           0,
           "2012/02/13"
          ],
          [
           "Didier Raoult",
           "@raoult_didier",
           9884,
           14,
           "2020/03/24"
          ],
          [
           "🌟SONIA ✨ ORGANA🌟",
           "@AINOSvp",
           20,
           442,
           "2011/03/06"
          ],
          [
           "Stefano Pontecorvo",
           "@pontecorvoste",
           344,
           1790,
           "2015/10/27"
          ],
          [
           "Tedros Adhanom Ghebreyesus",
           "@DrTedros",
           1636,
           1206,
           "2010/09/12"
          ],
          [
           "loneWolf",
           "@Aj6ix9ine",
           3,
           1720,
           "2019/02/14"
          ],
          [
           "Rádio CBN",
           "@CBNoficial",
           5149,
           206,
           "2012/08/28"
          ],
          [
           "Susanta Nanda IFS",
           "@susantananda3",
           1611,
           349,
           "2018/01/03"
          ],
          [
           "Missouri DESE",
           "@MOEducation",
           300,
           1792,
           "2010/11/16"
          ],
          [
           "ANI",
           "@ANI",
           85,
           0,
           "2011/08/16"
          ],
          [
           "IRSnews",
           "@IRSnews",
           2478,
           133,
           "2009/09/08"
          ],
          [
           "دار الإفتاء المصرية 🇪🇬",
           "@EgyptDarAlIfta",
           47,
           3,
           "2015/01/05"
          ],
          [
           "DIRCO South Africa",
           "@DIRCO_ZA",
           12,
           4284,
           "2015/01/28"
          ],
          [
           "Spokesperson, Ministry of Home Affairs",
           "@PIBHomeAffairs",
           2742,
           135,
           "2016/07/13"
          ],
          [
           "Instituto de Salud Carlos III (ISCIII)",
           "@SaludISCIII",
           14,
           525,
           "2019/04/13"
          ],
          [
           "World Health Organization Philippines",
           "@WHOPhilippines",
           503,
           488,
           "2013/11/27"
          ],
          [
           "Tedros Adhanom Ghebreyesus",
           "@DrTedros",
           774,
           1206,
           "2010/09/12"
          ],
          [
           "CDC",
           "@CDCgov",
           512,
           269,
           "2010/05/21"
          ],
          [
           "Global Times",
           "@globaltimesnews",
           2285,
           520,
           "2009/06/22"
          ],
          [
           "Emilio Morenatti",
           "@EmilioMorenatti",
           271,
           533,
           "2011/02/20"
          ],
          [
           "Lijian Zhao 赵立坚",
           "@zlj517",
           3211,
           174813,
           "2010/05/08"
          ],
          [
           "Embajada de Cuba en el Perú",
           "@EmbaCubaPeru",
           32,
           1221,
           "2014/08/20"
          ],
          [
           "Olivier Véran",
           "@olivierveran",
           39979,
           462,
           "2012/06/05"
          ],
          [
           "Universität Wien",
           "@univienna",
           447,
           1720,
           "2013/02/07"
          ],
          [
           "BAST - Sound Therapy",
           "@BASoundTherapy",
           1,
           914,
           "2016/08/31"
          ],
          [
           "Rebecca Alitwala Kadaga",
           "@RebeccaKadagaUG",
           127,
           209,
           "2019/01/15"
          ],
          [
           "Faheem Younus, MD",
           "@FaheemYounus",
           5953,
           445,
           "2011/10/12"
          ],
          [
           "Giuseppe Conte",
           "@GiuseppeConteIT",
           3040,
           135,
           "2018/05/24"
          ],
          [
           "Guardia Civil 🇪🇸",
           "@guardiacivil",
           412,
           288,
           "2011/05/09"
          ],
          [
           "LIBRESYLOKOS.NET",
           "@LIBRESYLOKOS",
           125,
           234,
           "2009/07/20"
          ],
          [
           "PDH Guatemala",
           "@PDHgt",
           16,
           520,
           "2013/09/23"
          ],
          [
           "Comite Carapungo",
           "@CarapungoComite",
           9,
           368,
           "2017/08/30"
          ],
          [
           "𝓑𝓲𝓷𝓽-𝓔-𝓗𝓪𝔀𝓪 بنتِ حوا",
           "@zTweeples",
           11,
           9,
           "2020/01/28"
          ],
          [
           "General Heleno",
           "@gen_heleno",
           6412,
           49,
           "2019/08/19"
          ],
          [
           "Alejo Miranda de Larra",
           "@AlejoMiranda",
           84,
           1646,
           "2009/01/04"
          ],
          [
           "Ayuntamiento de Adra",
           "@AytoAdra",
           0,
           87,
           "2015/11/18"
          ],
          [
           "Jimina",
           "@Jimina_Sabadu",
           1294,
           1804,
           "2007/03/12"
          ],
          [
           "Valerio Capraro",
           "@ValerioCapraro",
           25153,
           194,
           "2013/09/12"
          ],
          [
           "Er. A N Ansari.",
           "@ErANAnsari",
           0,
           2019,
           "2017/06/02"
          ],
          [
           "Jimina",
           "@Jimina_Sabadu",
           7,
           1804,
           "2007/03/12"
          ],
          [
           "OjoPúblico",
           "@Ojo_Publico",
           33,
           470,
           "2014/06/22"
          ],
          [
           "Gaël Hurlimann",
           "@gaelhurlimann",
           42,
           1363,
           "2009/04/27"
          ],
          [
           "Hassaan Niazi",
           "@HniaziISF",
           6,
           270,
           "2010/04/09"
          ],
          [
           "Teófilo Borrallo",
           "@Teofilo1952",
           2,
           11392,
           "2010/11/17"
          ],
          [
           "raj",
           "@raj2jas",
           1,
           2213,
           "2009/04/14"
          ],
          [
           "Government of Rajasthan",
           "@RajGovOfficial",
           155,
           24,
           "2016/10/12"
          ],
          [
           "Ayuntamiento de Calahorra",
           "@aytocalahorra",
           9,
           610,
           "2012/02/13"
          ],
          [
           "Joe Biden",
           "@JoeBiden",
           40465,
           46,
           "2007/03/11"
          ],
          [
           "Ministry of Health- Uganda",
           "@MinofHealthUG",
           1262,
           414,
           "2014/11/18"
          ],
          [
           "Michael Welling",
           "@WellingMichael",
           21283,
           19295,
           "2011/08/19"
          ],
          [
           "ENACOM",
           "@ENACOMArgentina",
           1284,
           765,
           "2013/12/17"
          ],
          [
           "kmario",
           "@kmario",
           532,
           2079,
           "2008/04/28"
          ],
          [
           "✴️ ᙢคᏁἶֆհค ✴️ ~ 👩‍⚕️⚕️📻 🤨 🧐",
           "@manisha__gupta",
           7,
           588,
           "2011/07/31"
          ],
          [
           "La Moncloa",
           "@desdelamoncloa",
           487,
           195,
           "2009/07/20"
          ],
          [
           "Ministry of Health",
           "@MOH_Kenya",
           88,
           661,
           "2016/02/02"
          ],
          [
           "#GetTalkingwithEsther",
           "@EstherIjewere",
           1229,
           7916,
           "2010/08/21"
          ],
          [
           "Emilys Yuritza",
           "@Emilys4F",
           0,
           889,
           "2020/03/22"
          ],
          [
           "Fredys Liendo",
           "@fredysliendo",
           0,
           305,
           "2010/04/19"
          ],
          [
           "Alfons López Tena",
           "@alfonslopeztena",
           3784,
           18199,
           "2011/06/02"
          ],
          [
           "ADG PI - INDIAN ARMY",
           "@adgpi",
           501,
           111,
           "2013/02/28"
          ],
          [
           "Ministry of Health",
           "@MOH_Kenya",
           56,
           661,
           "2016/02/02"
          ],
          [
           "Ministry of Health",
           "@MOH_Kenya",
           32,
           661,
           "2016/02/02"
          ],
          [
           "CMO Maharashtra",
           "@CMOMaharashtra",
           4503,
           99,
           "2014/07/01"
          ],
          [
           "Ministério da Economia",
           "@MinEconomia",
           443,
           390,
           "2010/11/17"
          ],
          [
           "MinSaludCol",
           "@MinSaludCol",
           6358,
           814,
           "2011/09/11"
          ],
          [
           "Mumbai Police",
           "@MumbaiPolice",
           842,
           30,
           "2015/12/16"
          ],
          [
           "ONU México",
           "@ONUMX",
           39,
           834,
           "2010/11/30"
          ],
          [
           "Cruz Roja Mexicana IAP",
           "@CruzRoja_MX",
           24,
           806,
           "2010/02/14"
          ],
          [
           "Madman. हैदर का बाप",
           "@MadMG61",
           2,
           201,
           "2019/09/13"
          ],
          [
           "ناصر چنیوٹی",
           "@_Chinioty",
           33,
           73,
           "2013/05/17"
          ],
          [
           "कुंदा कवळेकर...( K.K.)",
           "@kundakavelkar",
           45,
           386,
           "2015/05/04"
          ],
          [
           "Uber Kenya",
           "@uber_kenya",
           31,
           2492,
           "2014/12/18"
          ],
          [
           "Gioconda San Blas",
           "@daVinci1412",
           907,
           491,
           "2012/01/17"
          ],
          [
           "Andrew Cuomo",
           "@NYGovCuomo",
           8817,
           622,
           "2010/12/30"
          ],
          [
           "NBVC",
           "@NBVCCalifornia",
           34,
           106,
           "2012/04/20"
          ],
          [
           "Habibies",
           "@Habibies",
           263,
           672,
           "2009/09/30"
          ],
          [
           "ANI",
           "@ANI",
           132,
           0,
           "2011/08/16"
          ],
          [
           "Amitabh Bachchan",
           "@SrBachchan",
           2113,
           1803,
           "2010/05/18"
          ],
          [
           "covid19indiaorg",
           "@covid19indiaorg",
           5,
           2,
           "2020/03/19"
          ],
          [
           "Kiran Subedi",
           "@KiranSu11082143",
           0,
           8,
           "2020/03/22"
          ],
          [
           "Extinction Rebellion",
           "@ExtinctionR",
           393,
           24457,
           "2018/07/19"
          ],
          [
           "Amir Khan",
           "@amirkingkhan",
           14684,
           592,
           "2009/06/10"
          ],
          [
           "Amitabh Bachchan",
           "@SrBachchan",
           640,
           1803,
           "2010/05/18"
          ],
          [
           "PIB Fact Check",
           "@PIBFactCheck",
           516,
           31,
           "2019/12/19"
          ],
          [
           "MinSaludCol",
           "@MinSaludCol",
           2180,
           814,
           "2011/09/11"
          ],
          [
           "Extinction Rebellion UK 🌍",
           "@XRebellionUK",
           39,
           1500,
           "2019/04/29"
          ],
          [
           "Dr Zweli Mkhize",
           "@DrZweliMkhize",
           2461,
           38576,
           "2017/03/22"
          ],
          [
           "CHU de Bordeaux",
           "@CHUBordeaux",
           265,
           1212,
           "2013/09/16"
          ],
          [
           "CDC",
           "@CDCgov",
           1959,
           269,
           "2010/05/21"
          ],
          [
           "Hussam Alhaj",
           "@HussamAlhaj4",
           67,
           330,
           "2017/05/14"
          ],
          [
           "Junta de Andalucía",
           "@AndaluciaJunta",
           29,
           3765,
           "2011/10/03"
          ],
          [
           "Osmar Terra",
           "@OsmarTerra",
           5196,
           10859,
           "2009/07/01"
          ],
          [
           "World Health Organization Philippines",
           "@WHOPhilippines",
           287,
           488,
           "2013/11/27"
          ],
          [
           "Joe Biden",
           "@JoeBiden",
           1557,
           46,
           "2007/03/11"
          ],
          [
           "Jon Snow",
           "@jonsnowC4",
           317,
           616,
           "2010/03/31"
          ],
          [
           "STIB-MIVB",
           "@STIBMIVB",
           748,
           2213,
           "2009/05/27"
          ],
          [
           "Tancredi Palmeri",
           "@tancredipalmeri",
           689,
           2359,
           "2010/07/17"
          ],
          [
           "Hua Chunying 华春莹",
           "@SpokespersonCHN",
           411,
           153,
           "2019/10/14"
          ],
          [
           "Stanford University",
           "@Stanford",
           293,
           523,
           "2008/12/11"
          ],
          [
           "Prof. Akiko Iwasaki",
           "@VirusesImmunity",
           8925,
           1715,
           "2017/05/16"
          ],
          [
           "Cristiano Ronaldo",
           "@Cristiano",
           31904,
           56,
           "2010/06/14"
          ],
          [
           "wilfredo casasola",
           "@wilfredocasaso2",
           0,
           35,
           "2020/03/01"
          ],
          [
           "eli",
           "@clairesjam",
           970,
           630,
           "2010/10/15"
          ],
          [
           "Imroz Rahi (JŰŅÎØŘ)",
           "@ImrozRahi3",
           3,
           808,
           "2020/01/23"
          ],
          [
           "MedUni Wien",
           "@MedUni_Wien",
           4205,
           182,
           "2011/06/20"
          ],
          [
           "MedUni Wien",
           "@MedUni_Wien",
           773,
           182,
           "2011/06/20"
          ],
          [
           "CHU de Toulouse",
           "@CHUdeToulouse",
           51,
           1704,
           "2014/07/21"
          ],
          [
           "Foot Mercato",
           "@footmercato",
           2188,
           447,
           "2010/12/21"
          ],
          [
           "Filipe Caetano",
           "@filicaetano",
           261,
           907,
           "2007/04/03"
          ],
          [
           "Marián García",
           "@boticariagarcia",
           19,
           1212,
           "2011/12/31"
          ],
          [
           "Juniverse™",
           "@jup1897",
           103,
           454,
           "2013/11/20"
          ],
          [
           "Kristof Terreur",
           "@HLNinEngeland",
           327,
           991,
           "2013/01/15"
          ],
          [
           "NCDC",
           "@NCDCgov",
           276,
           384,
           "2016/03/04"
          ],
          [
           "Pop Crave",
           "@PopCrave",
           4514,
           2762,
           "2015/12/09"
          ],
          [
           "Catherine Gasté",
           "@catherinegaste",
           100,
           12723,
           "2009/11/27"
          ],
          [
           "Policía Nacional",
           "@policia",
           222,
           0,
           "2009/03/11"
          ],
          [
           "Anaïs Martinez",
           "@Naismtz7",
           0,
           1720,
           "2017/10/12"
          ],
          [
           "dirtydude",
           "@jmdu91290",
           1,
           459,
           "2015/06/02"
          ],
          [
           "Policía Nacional",
           "@policia",
           638,
           0,
           "2009/03/11"
          ],
          [
           "Osornator",
           "@Osornator",
           0,
           347,
           "2011/04/08"
          ],
          [
           "Yolanda Velez",
           "@yovelezarcelay",
           372,
           378,
           "2014/11/03"
          ],
          [
           "MDS",
           "@MDSwenson",
           0,
           145,
           "2017/03/10"
          ],
          [
           "PLOMO PAREJO",
           "@plomoparejo",
           2888,
           1193,
           "2009/09/28"
          ],
          [
           "Sergio Burstein",
           "@SLBurstein",
           28478,
           316,
           "2012/01/23"
          ],
          [
           "PIB Fact Check",
           "@PIBFactCheck",
           170,
           31,
           "2019/12/19"
          ],
          [
           "Delegación del Gobierno en Canarias",
           "@DgCanarias",
           185,
           363,
           "2016/01/28"
          ],
          [
           "Aleksandra Wójcicka 🇵🇱✝️💯#BabiesLivesMatter🇵🇱",
           "@alexja25",
           393,
           1437,
           "2014/07/27"
          ],
          [
           "TCS Noticias",
           "@tcsnoticias",
           478,
           948,
           "2010/08/24"
          ],
          [
           "Ministerio Defensa",
           "@MindefArg",
           42,
           154,
           "2015/12/15"
          ],
          [
           "Mzwandile Masina",
           "@mzwandileMasina",
           304,
           1736,
           "2012/04/29"
          ],
          [
           "Nation Breaking News",
           "@NationBreaking",
           699,
           27,
           "2013/09/05"
          ],
          [
           "Alvise Pérez",
           "@Alvisepf",
           3201,
           2678,
           "2011/03/08"
          ],
          [
           "PIB Fact Check",
           "@PIBFactCheck",
           122,
           31,
           "2019/12/19"
          ],
          [
           "PIB Fact Check",
           "@PIBFactCheck",
           114,
           31,
           "2019/12/19"
          ],
          [
           "Gaurav Gupta",
           "@BBMPAdmn",
           32,
           28,
           "2015/04/22"
          ],
          [
           "Azam Jamil",
           "@AzamJamil53",
           364,
           782,
           "2017/03/09"
          ],
          [
           "Gregory Rigano",
           "@RiganoESQ",
           8357,
           845,
           "2018/06/06"
          ],
          [
           "The Hill",
           "@thehill",
           3912,
           276,
           "2007/03/22"
          ],
          [
           "Jansampark CG",
           "@DPRChhattisgarh",
           8,
           53,
           "2014/02/24"
          ],
          [
           "Citizen TV Kenya",
           "@citizentvkenya",
           0,
           156,
           "2009/08/31"
          ],
          [
           "CRTVweb",
           "@CRTV_web",
           112,
           2398,
           "2016/05/04"
          ],
          [
           "Justin Trudeau",
           "@JustinTrudeau",
           1998,
           942,
           "2008/03/30"
          ],
          [
           "LIBRESYLOKOS.NET",
           "@LIBRESYLOKOS",
           180,
           234,
           "2009/07/20"
          ],
          [
           "WA National Guard",
           "@WANationalGuard",
           799,
           1778,
           "2010/06/02"
          ],
          [
           "Vicky Dehaene",
           "@womandream",
           63,
           361,
           "2009/07/21"
          ],
          [
           "Pooja Tibdewal",
           "@tibdewalpooja",
           0,
           197,
           "2010/07/29"
          ],
          [
           "Jim Bianco",
           "@biancoresearch",
           1552,
           933,
           "2010/09/08"
          ],
          [
           "infocov",
           "@infocov_stats",
           0,
           45,
           "2020/03/18"
          ],
          [
           "Napoléon",
           "@tprincedelamour",
           3332,
           1078,
           "2012/05/05"
          ],
          [
           "Dr. Edsel Salvana",
           "@EdselSalvana",
           67279,
           345,
           "2015/04/04"
          ],
          [
           "Binod Kumar.",
           "@binodkumar999",
           2,
           3529,
           "2014/12/22"
          ],
          [
           "Defence Forces Corps of Engineers",
           "@DF_Engineers",
           170,
           128,
           "2019/01/04"
          ],
          [
           "Óglaigh na hÉireann",
           "@defenceforces",
           143,
           1567,
           "2009/09/20"
          ],
          [
           "☣️Coronavirus🧬COVID-19☣️STEM",
           "@CoronavirusSTEM",
           23,
           806,
           "2020/02/08"
          ],
          [
           "Jonathan Hoffman",
           "@ChiefPentSpox45",
           1141,
           37,
           "2017/05/08"
          ],
          [
           "Muhammad sarwar khan",
           "@Muhamma20827944",
           0,
           237,
           "2016/06/04"
          ],
          [
           "Victoria Police",
           "@VictoriaPolice",
           228,
           315,
           "2008/10/07"
          ],
          [
           "PIB Fact Check",
           "@PIBFactCheck",
           1429,
           31,
           "2019/12/19"
          ],
          [
           "AFP News Agency",
           "@AFP",
           82,
           611,
           "2011/09/27"
          ],
          [
           "PIB Fact Check",
           "@PIBFactCheck",
           144,
           31,
           "2019/12/19"
          ],
          [
           "Regional Warfare 🍁",
           "@Kashmir28471265",
           1,
           96,
           "2020/03/16"
          ],
          [
           "MIDIS",
           "@MidisPeru",
           972,
           1104,
           "2013/09/09"
          ],
          [
           "Lord Sugar",
           "@Lord_Sugar",
           9830,
           3100,
           "2010/06/29"
          ],
          [
           "مازن موسى",
           "@mazenmousa7",
           892,
           35349,
           "2013/11/27"
          ],
          [
           "Edappadi K Palaniswami",
           "@CMOTamilNadu",
           290,
           57,
           "2017/03/23"
          ],
          [
           "Yawer.",
           "@yawerajaz4",
           1,
           106,
           "2018/04/13"
          ],
          [
           "AMS",
           "@amstellario",
           2,
           20,
           "2019/12/21"
          ],
          [
           "ALOKDELHI6",
           "@ALOKdelhi6",
           1,
           6473,
           "2014/02/14"
          ],
          [
           "Dr. Tara C. Smith",
           "@aetiology",
           699,
           4962,
           "2009/04/25"
          ],
          [
           "KKMalaysia🇲🇾",
           "@KKMPutrajaya",
           8315,
           97,
           "2012/03/20"
          ],
          [
           "KKMalaysia🇲🇾",
           "@KKMPutrajaya",
           10011,
           97,
           "2012/03/20"
          ],
          [
           "ANI",
           "@ANI",
           142,
           0,
           "2011/08/16"
          ],
          [
           "Marco Malacara",
           "@mala13slp",
           0,
           2011,
           "2009/12/07"
          ],
          [
           "Presidencia Cuba",
           "@PresidenciaCuba",
           529,
           177,
           "2018/12/20"
          ],
          [
           "Miguel Díaz-Canel Bermúdez",
           "@DiazCanelB",
           4837,
           163,
           "2018/08/02"
          ],
          [
           "پایگاه خبری جماران",
           "@jamarannews",
           9,
           133,
           "2014/08/26"
          ],
          [
           "Cruz Roja en Álava",
           "@CruzRojaAlava",
           81,
           529,
           "2010/04/26"
          ],
          [
           "SALUD México",
           "@SSalud_mx",
           31,
           237,
           "2010/04/12"
          ],
          [
           "MinSaludCol",
           "@MinSaludCol",
           461,
           814,
           "2011/09/11"
          ],
          [
           "NOTICIAS MUNDIALES SIN CENSURA",
           "@MundialesSin",
           28,
           4831,
           "2018/10/29"
          ],
          [
           "Mahmoud Ahmadinejad",
           "@Ahmadinejad1956",
           3044,
           38,
           "2017/01/04"
          ],
          [
           "INPS",
           "@INPS_it",
           101,
           138,
           "2013/07/09"
          ],
          [
           "slutty spice",
           "@vL0k0",
           1,
           145,
           "2010/09/12"
          ],
          [
           "Tom Hanks",
           "@tomhanks",
           206406,
           25,
           "2009/06/24"
          ],
          [
           "werner welge 🇩🇪📿",
           "@wernerwelge1",
           18,
           981,
           "2013/09/12"
          ],
          [
           "Embajada de China en España",
           "@ChinaEmbEsp",
           13607,
           2089,
           "2019/09/10"
          ],
          [
           "Govern. Generalitat",
           "@govern",
           593,
           112,
           "2010/05/19"
          ],
          [
           "Gobierno de Aragón",
           "@GobAragon",
           90,
           469,
           "2010/01/15"
          ],
          [
           "HadžiPešićeva",
           "@allfama",
           2,
           1240,
           "2010/09/03"
          ],
          [
           "Pablo Echenique",
           "@PabloEchenique",
           492,
           2310,
           "2009/03/20"
          ],
          [
           "Evo Morales Ayma",
           "@evoespueblo",
           2227,
           30,
           "2016/04/15"
          ],
          [
           "Mayor Bill de Blasio",
           "@NYCMayor",
           3167,
           1365,
           "2009/01/31"
          ],
          [
           "Lijian Zhao 赵立坚",
           "@zlj517",
           11489,
           174817,
           "2010/05/08"
          ],
          [
           "Jack Ma Foundation",
           "@foundation_ma",
           13633,
           17,
           "2017/02/06"
          ],
          [
           "klaralonso🔻",
           "@klaralonso",
           306,
           943,
           "2011/05/19"
          ],
          [
           "eli",
           "@clairesjam",
           3052,
           630,
           "2010/10/15"
          ],
          [
           "Irene Montero",
           "@IreneMontero",
           19057,
           1975,
           "2011/09/13"
          ],
          [
           "Irene Montero",
           "@IreneMontero",
           935,
           1975,
           "2011/09/13"
          ],
          [
           "Boti García Rodrigo",
           "@btcpd",
           1735,
           615,
           "2011/07/12"
          ],
          [
           "Andrew Cuomo",
           "@NYGovCuomo",
           1035,
           622,
           "2010/12/30"
          ],
          [
           "Citizen TV Kenya",
           "@citizentvkenya",
           223,
           156,
           "2009/08/31"
          ],
          [
           "actu Paris",
           "@actufrparis",
           39,
           11,
           "2019/06/26"
          ],
          [
           "Diputación de Málaga",
           "@diputacionMLG",
           99,
           3535,
           "2011/09/19"
          ],
          [
           "Charlie Kirk",
           "@charliekirk11",
           13850,
           200620,
           "2011/05/04"
          ],
          [
           "Policía Puente Genil",
           "@PoliciaPteGenil",
           3,
           36,
           "2012/12/26"
          ],
          [
           "Hua Chunying 华春莹",
           "@SpokespersonCHN",
           668,
           153,
           "2019/10/14"
          ],
          [
           "Aviator Anil Chopra",
           "@Chopsyturvey",
           91,
           1336,
           "2011/10/06"
          ],
          [
           "Marcos da Silva (at 🏠)",
           "@markynhwz",
           0,
           554,
           "2014/03/08"
          ],
          [
           "Ministry of Health",
           "@MOH_Kenya",
           313,
           661,
           "2016/02/02"
          ],
          [
           "Alcaldía de Barranquilla",
           "@alcaldiabquilla",
           288,
           1255,
           "2010/01/16"
          ],
          [
           "Joaquín Robles Zabal",
           "@joaquinroblesza",
           1690,
           1049,
           "2010/05/07"
          ],
          [
           "Ministerstwo Zdrowia",
           "@MZ_GOV_PL",
           110,
           1173,
           "2012/01/13"
          ],
          [
           "Infectious Diseases Society of Ireland",
           "@IDSIreland",
           561,
           184,
           "2019/04/12"
          ],
          [
           "Dr Colm Henry, CCO HSE Ireland",
           "@CcoHse",
           54,
           327,
           "2018/10/01"
          ],
          [
           "Thomas P. Bossert",
           "@TomBossert",
           1127,
           907,
           "2013/05/03"
          ],
          [
           "Diputación de Málaga",
           "@diputacionMLG",
           50,
           3535,
           "2011/09/19"
          ],
          [
           "UNESPA",
           "@UNESPA",
           1669,
           528,
           "2011/03/29"
          ],
          [
           "Óglaigh na hÉireann",
           "@defenceforces",
           86,
           1567,
           "2009/09/20"
          ],
          [
           "Policía Nacional",
           "@policia",
           12828,
           0,
           "2009/03/11"
          ],
          [
           "ITVTanzania",
           "@ITVTANZANIA",
           6,
           1,
           "2012/03/21"
          ],
          [
           "Spokesperson GoK",
           "@SpokespersonGoK",
           76,
           777,
           "2016/01/27"
          ],
          [
           "Swiss Medical Group",
           "@SwissMedicalG",
           21,
           355,
           "2012/08/16"
          ],
          [
           "Jérémy Paoloni",
           "@JeremyPaoloni",
           0,
           1759,
           "2018/07/25"
          ],
          [
           "La SPA France",
           "@SPA_Officiel",
           3896,
           358,
           "2012/05/31"
          ],
          [
           "Enfamil",
           "@Enfamil",
           3,
           85,
           "2009/10/01"
          ],
          [
           "Armstrong",
           "@Armstrongthevdj",
           0,
           166,
           "2013/05/06"
          ],
          [
           "Policía Nacional",
           "@policia",
           239,
           0,
           "2009/03/11"
          ],
          [
           "Área 1 Arrixaca",
           "@AreaUnoArrixaca",
           149,
           632,
           "2014/06/10"
          ],
          [
           "Juan Villoro",
           "@JuanVilloro56",
           2180,
           91,
           "2011/03/18"
          ],
          [
           "Noticias Caracol",
           "@NoticiasCaracol",
           204,
           1135,
           "2008/12/02"
          ],
          [
           "Ju EA",
           "@JuEndrino",
           54,
           103403,
           "2015/01/15"
          ],
          [
           "Dr Alby John",
           "@albyjohnV",
           90,
           622,
           "2009/09/09"
          ],
          [
           "Óglaigh na hÉireann",
           "@defenceforces",
           401,
           1567,
           "2009/09/20"
          ],
          [
           "WHO Kenya",
           "@WHOKenya",
           9,
           250,
           "2017/01/19"
          ],
          [
           "South African Government",
           "@GovernmentZA",
           255,
           513,
           "2013/06/21"
          ],
          [
           "Paweł Piotr Bartoszek🇵🇱",
           "@PawelPiotr1944",
           120,
           829,
           "2014/03/20"
          ],
          [
           "Damon",
           "@dwjm94",
           0,
           264,
           "2019/10/18"
          ],
          [
           "Marco Rubio",
           "@marcorubio",
           81,
           2483,
           "2008/08/06"
          ],
          [
           "شبكة عميد الإمارات",
           "@3meed_news",
           42,
           158,
           "2011/11/09"
          ],
          [
           "Davie Police Dept.",
           "@DaviePolice",
           33,
           271,
           "2011/04/13"
          ],
          [
           "NYCEM - Notify NYC",
           "@NotifyNYC",
           236,
           79,
           "2008/09/05"
          ],
          [
           "MinSaludCol",
           "@MinSaludCol",
           3888,
           814,
           "2011/09/11"
          ],
          [
           "خالد فهد الحسين",
           "@khalidfahad77",
           11,
           1406,
           "2013/05/08"
          ],
          [
           "World Health Organization (WHO)",
           "@WHO",
           1426,
           1734,
           "2008/04/23"
          ],
          [
           "Dr. Vivek Murthy, 21st U.S. Surgeon General",
           "@Surgeon_General",
           1572,
           165,
           "2012/01/04"
          ],
          [
           "Morttii 🥀",
           "@ROSARIOCERDARO1",
           671,
           5696,
           "2020/04/28"
          ],
          [
           "David E Morgan",
           "@demorgang",
           3,
           2082,
           "2010/07/27"
          ],
          [
           "Dr. Vivek Murthy, 21st U.S. Surgeon General",
           "@Surgeon_General",
           299,
           165,
           "2012/01/04"
          ],
          [
           "Dr. Vivek Murthy, 21st U.S. Surgeon General",
           "@Surgeon_General",
           40,
           165,
           "2012/01/04"
          ],
          [
           "Vítor Hugo",
           "@MajorVitorHugo",
           290,
           576,
           "2011/07/09"
          ],
          [
           "Dr. Vivek Murthy, 21st U.S. Surgeon General",
           "@Surgeon_General",
           53,
           165,
           "2012/01/04"
          ],
          [
           "Dr. Vivek Murthy, 21st U.S. Surgeon General",
           "@Surgeon_General",
           48,
           165,
           "2012/01/04"
          ],
          [
           "Dr. Vivek Murthy, 21st U.S. Surgeon General",
           "@Surgeon_General",
           91,
           165,
           "2012/01/04"
          ],
          [
           "Dr. Vivek Murthy, 21st U.S. Surgeon General",
           "@Surgeon_General",
           59,
           165,
           "2012/01/04"
          ],
          [
           "Zhulin Zhang",
           "@ZhangZhulin",
           261,
           860,
           "2011/12/08"
          ],
          [
           "财经冷眼",
           "@caijinglengyan",
           239,
           567,
           "2016/10/31"
          ],
          [
           "BOOM Live",
           "@boomlive_in",
           53,
           1170,
           "2014/03/16"
          ],
          [
           "MinSaludCol",
           "@MinSaludCol",
           93,
           814,
           "2011/09/11"
          ],
          [
           "Dhiyasri@123",
           "@Dhiyasri1231",
           103,
           31,
           "2020/01/30"
          ],
          [
           "Chuck Schumer",
           "@SenSchumer",
           1212,
           24551,
           "2008/11/19"
          ],
          [
           "Chuck Schumer",
           "@SenSchumer",
           979,
           24551,
           "2008/11/19"
          ],
          [
           "Chuck Schumer",
           "@SenSchumer",
           550,
           24551,
           "2008/11/19"
          ],
          [
           "Chuck Schumer",
           "@SenSchumer",
           1121,
           24551,
           "2008/11/19"
          ],
          [
           "Chuck Schumer",
           "@SenSchumer",
           2494,
           24551,
           "2008/11/19"
          ],
          [
           "Chuck Schumer",
           "@SenSchumer",
           2004,
           24551,
           "2008/11/19"
          ],
          [
           "Chuck Schumer",
           "@SenSchumer",
           11389,
           24551,
           "2008/11/19"
          ],
          [
           "World Health Organization Philippines",
           "@WHOPhilippines",
           221,
           488,
           "2013/11/27"
          ],
          [
           "Raphael Rashid",
           "@koryodynasty",
           43,
           846,
           "2010/06/14"
          ],
          [
           "María Alejandra Díaz Marín",
           "@MariaesPueblo",
           89,
           1852,
           "2018/03/01"
          ],
          [
           "Chuck Schumer",
           "@SenSchumer",
           567,
           24551,
           "2008/11/19"
          ],
          [
           "Chris Murphy",
           "@ChrisMurphyCT",
           15617,
           220,
           "2010/05/31"
          ],
          [
           "Ministerio de Salud",
           "@msaludpy",
           7,
           4161,
           "2011/09/05"
          ],
          [
           "Ministry of Health",
           "@MOH_Kenya",
           12,
           661,
           "2016/02/02"
          ],
          [
           "María Alejandra Díaz Marín",
           "@MariaesPueblo",
           92,
           1852,
           "2018/03/01"
          ],
          [
           "Ministry of Health",
           "@MOH_Kenya",
           5,
           661,
           "2016/02/02"
          ],
          [
           "iris",
           "@iris_78yq",
           48,
           101,
           "2018/02/18"
          ],
          [
           "José Simão",
           "@jose_simao",
           520,
           133,
           "2009/12/09"
          ],
          [
           "Kenyatta National Hospital",
           "@KNH_hospital",
           49,
           177,
           "2014/05/13"
          ],
          [
           "Spokesperson GoK",
           "@SpokespersonGoK",
           42,
           777,
           "2016/01/27"
          ],
          [
           "Ministry of Health",
           "@MOH_Kenya",
           52,
           661,
           "2016/02/02"
          ],
          [
           "WHO African Region",
           "@WHOAFRO",
           62,
           583,
           "2012/04/03"
          ],
          [
           "Chuck Schumer",
           "@SenSchumer",
           2825,
           24551,
           "2008/11/19"
          ],
          [
           "Chuck Schumer",
           "@SenSchumer",
           3008,
           24551,
           "2008/11/19"
          ],
          [
           "¿Por qué es tendencia?",
           "@porquetendencia",
           552,
           150,
           "2018/03/12"
          ],
          [
           "Prabhat प्रभात Kumar कुमार",
           "@Prabhat93078075",
           1,
           619,
           "2018/12/14"
          ],
          [
           "Shwet Suman Sharma",
           "@shwetsuman1991",
           3,
           433,
           "2011/11/15"
          ],
          [
           "marcelo tinelli",
           "@cuervotinelli",
           92,
           391,
           "2012/08/29"
          ],
          [
           "Federico Bal",
           "@balfederico",
           163,
           553,
           "2010/04/15"
          ],
          [
           "UNICEF Malaysia",
           "@myUNICEF",
           61,
           538,
           "2013/10/29"
          ],
          [
           "WHO African Region",
           "@WHOAFRO",
           261,
           583,
           "2012/04/03"
          ],
          [
           "محمد بن زايد",
           "@MohamedBinZayed",
           260,
           0,
           "2012/01/22"
          ],
          [
           "Cyril Ramaphosa 🇿🇦 #StaySafe",
           "@CyrilRamaphosa",
           113,
           7,
           "2015/01/20"
          ],
          [
           "WHO African Region",
           "@WHOAFRO",
           125,
           583,
           "2012/04/03"
          ],
          [
           "Dr. Yasmin Ali Haque",
           "@DrYasminAHaque",
           29,
           190,
           "2017/07/14"
          ],
          [
           "Zhulin Zhang",
           "@ZhangZhulin",
           21,
           860,
           "2011/12/08"
          ],
          [
           "Bloomberg Quicktake",
           "@Quicktake",
           41,
           1461,
           "2011/02/15"
          ],
          [
           "Molly Beck",
           "@MollyBeck",
           13,
           2903,
           "2012/02/16"
          ],
          [
           "yanwang",
           "@yanwang10508606",
           1172,
           141,
           "2019/01/06"
          ],
          [
           "محمد بن زايد",
           "@MohamedBinZayed",
           324,
           0,
           "2012/01/22"
          ],
          [
           "Jennifer Zeng 曾錚",
           "@jenniferatntd",
           1371,
           448,
           "2014/01/27"
          ],
          [
           "トゥール　ムハメット",
           "@etman09",
           8947,
           248,
           "2009/12/30"
          ],
          [
           "Cristina Pedroche",
           "@CristiPedroche",
           237,
           239,
           "2010/07/14"
          ],
          [
           "VOSTeuskadi",
           "@VOSTeuskadi",
           126,
           865,
           "2012/09/03"
          ],
          [
           "Hossein Nakhli",
           "@hnakhli",
           93,
           877,
           "2010/02/05"
          ],
          [
           "Comunidad de Madrid",
           "@ComunidadMadrid",
           791,
           632,
           "2010/03/12"
          ],
          [
           "VOST Comunitat Valenciana",
           "@VOSTcvalenciana",
           18,
           531,
           "2013/06/05"
          ],
          [
           "Salud JCYL",
           "@Salud_JCYL",
           172,
           23,
           "2011/11/11"
          ],
          [
           "WHO Indonesia",
           "@WHOIndonesia",
           57,
           225,
           "2010/12/15"
          ],
          [
           "Protección Civil Ávila",
           "@ProteCivilAvila",
           4,
           66,
           "2011/10/15"
          ],
          [
           "Sihame Assbague",
           "@s_assbague",
           9400,
           960,
           "2013/06/09"
          ],
          [
           "Policía Local San Fernando de Henares",
           "@PoliciaLocalSFH",
           6,
           225,
           "2019/07/03"
          ],
          [
           "Pablo de Olavide",
           "@pablodeolavide",
           58,
           6094,
           "2010/01/11"
          ],
          [
           "Castilla-La Mancha",
           "@gobjccm",
           283,
           581,
           "2010/01/12"
          ],
          [
           "Sihame Assbague",
           "@s_assbague",
           91,
           960,
           "2013/06/09"
          ],
          [
           "PSOE",
           "@PSOE",
           428,
           13449,
           "2009/06/26"
          ],
          [
           "Dipartimento Protezione Civile",
           "@DPCgov",
           1629,
           112,
           "2018/04/06"
          ],
          [
           "David García García",
           "@OjodeThot",
           163,
           1204,
           "2015/10/21"
          ],
          [
           "SaludMadrid",
           "@SaludMadrid",
           2096,
           123,
           "2018/01/18"
          ],
          [
           "Alejandro",
           "@alelitooo",
           2,
           731,
           "2010/09/27"
          ],
          [
           "Mahmoud Ahmadinejad",
           "@Ahmadinejad1956",
           740,
           38,
           "2017/01/04"
          ],
          [
           "Maggie Haberman",
           "@maggieNYT",
           158,
           5070,
           "2009/11/27"
          ],
          [
           "Otto Huang ",
           "@OttoHuang120",
           1891,
           5423,
           "2015/11/29"
          ],
          [
           "VOSTextremadura",
           "@VOSTextremadura",
           3,
           367,
           "2013/05/31"
          ],
          [
           "Zoran Ruvidic",
           "@ZoranRuvidic",
           1,
           325,
           "2013/09/14"
          ],
          [
           "World Health Organization (WHO)",
           "@WHO",
           32914,
           1734,
           "2008/04/23"
          ],
          [
           "Isabel Díaz Ayuso",
           "@IdiazAyuso",
           5641,
           10958,
           "2010/05/04"
          ],
          [
           "Policía Nacional",
           "@policia",
           386,
           0,
           "2009/03/11"
          ],
          [
           "MinSaludCol",
           "@MinSaludCol",
           3306,
           814,
           "2011/09/11"
          ],
          [
           "Cadena SER CLM",
           "@SERCLM",
           1,
           417,
           "2012/05/31"
          ],
          [
           "UNICEF Kenya",
           "@UNICEFKenya",
           2,
           920,
           "2012/01/16"
          ],
          [
           "112 Cantabria",
           "@112Cantabria",
           82,
           251,
           "2012/02/17"
          ],
          [
           "Protección Civil Valladolid",
           "@apcvalladolid",
           129,
           992,
           "2010/05/19"
          ],
          [
           "Eusko Jaurlaritza",
           "@Gob_eus",
           21,
           79,
           "2010/01/28"
          ],
          [
           "New Day",
           "@NewDay",
           29,
           1256,
           "2013/04/23"
          ],
          [
           "VOSTeuskadi",
           "@VOSTeuskadi",
           21,
           865,
           "2012/09/03"
          ],
          [
           "Markus Wolf Romeo",
           "@MarkusWolfRomeo",
           0,
           87,
           "2012/08/16"
          ],
          [
           "MarinellysTremamunno",
           "@Marinellys",
           91,
           2728,
           "2009/10/23"
          ],
          [
           "Lijian Zhao 赵立坚",
           "@zlj517",
           1840,
           174817,
           "2010/05/08"
          ],
          [
           "VOSTeuskadi",
           "@VOSTeuskadi",
           10,
           865,
           "2012/09/03"
          ],
          [
           "David A. Clarke, Jr.",
           "@SheriffClarke",
           1011,
           147,
           "2010/03/01"
          ],
          [
           "AbogadosAdriano",
           "@AbogadosAdriano",
           14,
           881,
           "2016/01/17"
          ],
          [
           "Congressman Greg Murphy, M.D.",
           "@RepGregMurphy",
           38,
           176,
           "2019/09/17"
          ],
          [
           "LA RAZÓN. CO",
           "@LaRazonCo",
           3,
           2108,
           "2013/09/18"
          ],
          [
           "7NEWS Brisbane",
           "@7NewsBrisbane",
           98,
           167,
           "2009/09/15"
          ],
          [
           "M. 6% ❤️🤍💙🇺🇸",
           "@igobyMdot",
           5,
           3101,
           "2010/08/15"
          ],
          [
           "World Health Organization (WHO)",
           "@WHO",
           443,
           1734,
           "2008/04/23"
          ],
          [
           "Zataniko",
           "@Zatanik0",
           701,
           118,
           "2011/02/11"
          ],
          [
           "巴丢草 Badiucao",
           "@badiucao",
           2307,
           13795,
           "2011/03/17"
          ],
          [
           "Americo De Grazia",
           "@AmericoDeGrazia",
           2624,
           3469,
           "2010/04/10"
          ],
          [
           "AlbertoRodNews",
           "@AlbertoRodNews",
           210,
           20252,
           "2014/02/09"
          ],
          [
           "Marcos Lima Martínez",
           "@Marcoslimamd",
           98,
           1213,
           "2013/02/03"
          ],
          [
           "巴丢草 Badiucao",
           "@badiucao",
           5523,
           13795,
           "2011/03/17"
          ],
          [
           "d-atis☠️",
           "@detresfa_",
           213,
           0,
           "2012/11/17"
          ],
          [
           "Dr. Maimuna Majumder",
           "@maiamajumder",
           21,
           426,
           "2012/09/01"
          ],
          [
           "🇺🇸Kyle Bass🇺🇸",
           "@Jkylebass",
           8627,
           811,
           "2015/02/01"
          ],
          [
           "Terrence Daniels (Captain 🍀 Planet)",
           "@Terrence_STR",
           1817,
           910,
           "2017/02/08"
          ],
          [
           "Global Times",
           "@globaltimesnews",
           837,
           520,
           "2009/06/22"
          ],
          [
           "Doc Bear",
           "@DocBear5",
           53,
           7448,
           "2019/10/06"
          ],
          [
           "World Health Organization (WHO)",
           "@WHO",
           1758,
           1734,
           "2008/04/23"
          ],
          [
           "KKMalaysia🇲🇾",
           "@KKMPutrajaya",
           1572,
           97,
           "2012/03/20"
          ],
          [
           "#themodi_in",
           "@themodi_in",
           4,
           1709,
           "2010/09/12"
          ],
          [
           "クリス三宅",
           "@ryouansensei",
           1632,
           2777,
           "2010/10/04"
          ],
          [
           "Global Times",
           "@globaltimesnews",
           44,
           520,
           "2009/06/22"
          ],
          [
           "全智胜",
           "@MgOqkzLBRPLCHyN",
           425,
           76,
           "2019/07/11"
          ],
          [
           "橋下徹",
           "@hashimoto_lo",
           1344,
           40,
           "2011/02/01"
          ],
          [
           "پايگاه خبری انتخاب",
           "@Entekhab_News",
           2,
           0,
           "2014/07/26"
          ],
          [
           "Hong Hong",
           "@honghong975",
           853,
           262,
           "2017/03/18"
          ],
          [
           "Ingrid Carlqvist",
           "@ingridcarlqvist",
           1,
           1185,
           "2010/01/21"
          ],
          [
           "Kenya Airways",
           "@KenyaAirways",
           515,
           7104,
           "2008/12/31"
          ],
          [
           "Steven Salzberg",
           "@StevenSalzberg1",
           0,
           192,
           "2012/08/26"
          ],
          [
           "Trevor Bedford",
           "@trvrb",
           587,
           817,
           "2010/12/10"
          ],
          [
           "Maheen",
           "@Maheen83086711",
           3,
           2443,
           "2018/03/20"
          ],
          [
           "World Health Organization (WHO)",
           "@WHO",
           186,
           1734,
           "2008/04/23"
          ],
          [
           "Maheen",
           "@Maheen83086711",
           9,
           2443,
           "2018/03/20"
          ],
          [
           "VTV CANAL 8",
           "@VTVcanal8",
           21,
           523,
           "2010/03/01"
          ],
          [
           "Convenience Store News.",
           "@CStoreNews_",
           37,
           48934,
           "2010/06/17"
          ],
          [
           "Chuck Schumer",
           "@SenSchumer",
           2631,
           24551,
           "2008/11/19"
          ],
          [
           "Chuck Schumer",
           "@SenSchumer",
           2775,
           24551,
           "2008/11/19"
          ],
          [
           "Chuck Schumer",
           "@SenSchumer",
           472,
           24551,
           "2008/11/19"
          ],
          [
           "Chuck Schumer",
           "@SenSchumer",
           498,
           24551,
           "2008/11/19"
          ],
          [
           "Chuck Schumer",
           "@SenSchumer",
           211,
           24551,
           "2008/11/19"
          ],
          [
           "Chuck Schumer",
           "@SenSchumer",
           1868,
           24551,
           "2008/11/19"
          ],
          [
           "Chuck Schumer",
           "@SenSchumer",
           597,
           24551,
           "2008/11/19"
          ],
          [
           "Angry Frustrated",
           "@AF_indian",
           1,
           272,
           "2015/03/31"
          ],
          [
           "原口　一博",
           "@kharaguchi",
           243,
           4065,
           "2009/12/14"
          ],
          [
           "佐藤正久",
           "@SatoMasahisa",
           1094,
           38853,
           "2010/02/08"
          ],
          [
           "Ministerio de Sanidad",
           "@sanidadgob",
           513,
           689,
           "2010/12/30"
          ],
          [
           "Adam Kucharski",
           "@AdamJKucharski",
           539,
           1288,
           "2012/01/02"
          ],
          [
           "🇵🇪 Simon Tartarotti",
           "@SimonTartarotti",
           2,
           1102,
           "2012/10/19"
          ],
          [
           "Dan Lyons",
           "@realdanlyons",
           14,
           2197,
           "2008/07/18"
          ],
          [
           "World Health Organization (WHO)",
           "@WHO",
           953,
           1734,
           "2008/04/23"
          ],
          [
           "Hidalgo Co. Health",
           "@hidalgohealth",
           79,
           2,
           "2009/07/13"
          ],
          [
           "UNICEF Haiti",
           "@UNICEFHaiti",
           10,
           937,
           "2011/06/08"
          ],
          [
           "Kemenkes RI",
           "@KemenkesRI",
           537,
           201,
           "2010/06/30"
          ],
          [
           "Ministério da Saúde",
           "@minsaude",
           821,
           486,
           "2009/05/04"
          ],
          [
           "Kemenkes RI",
           "@KemenkesRI",
           407,
           201,
           "2010/06/30"
          ],
          [
           "Harbhajan Turbanator",
           "@harbhajan_singh",
           2788,
           147,
           "2009/11/27"
          ],
          [
           "Mayra Cedeño",
           "@Mayi21298822",
           30,
           88,
           "2020/03/12"
          ],
          [
           "Omar García V.",
           "@saomargarciavi",
           5,
           626,
           "2011/11/09"
          ],
          [
           "Wisdoms",
           "@wordwisdoms",
           29,
           381,
           "2020/02/22"
          ],
          [
           "boosmaster",
           "@boosmaster4",
           1,
           550,
           "2018/02/27"
          ],
          [
           "Министерство за здравство",
           "@ZdravstvoMK",
           19,
           141,
           "2012/12/06"
          ],
          [
           "Instituto de Salud Pública de Chile",
           "@ispch",
           142,
           732,
           "2011/02/22"
          ],
          [
           "Floreηcia Jacksoη ♕",
           "@Florencia_Pink",
           248,
           25992,
           "2009/11/04"
          ],
          [
           "Annastacia Palaszczuk",
           "@AnnastaciaMP",
           20,
           1244,
           "2011/02/24"
          ],
          [
           "Entity",
           "@oUllw40ndgQUEx3",
           962,
           495,
           "2018/12/02"
          ],
          [
           "Ben Rhodes",
           "@brhodes",
           5412,
           1546,
           "2017/01/14"
          ],
          [
           "Denis Mukwege",
           "@DenisMukwege",
           29,
           103,
           "2012/10/02"
          ],
          [
           "Jair M. Bolsonaro",
           "@jairbolsonaro",
           11937,
           550,
           "2010/03/31"
          ],
          [
           "Ministerio de Salud y Deportes Bolivia",
           "@SaludDeportesBo",
           42,
           244,
           "2012/05/25"
          ],
          [
           "Sarvesh Tv",
           "@SarveshTv",
           0,
           94,
           "2019/12/20"
          ],
          [
           "Eric Topol",
           "@EricTopol",
           732,
           526,
           "2009/11/01"
          ],
          [
           "Ravi Vallabhaneni (Balu Deserves Bharat Ratna)",
           "@ravivallabha",
           71,
           693,
           "2010/04/18"
          ],
          [
           "Horacio Azzolin",
           "@horacioazzolin",
           50,
           1534,
           "2014/03/13"
          ],
          [
           "Noticias RCN",
           "@NoticiasRCN",
           9,
           2457,
           "2009/04/24"
          ],
          [
           "L' acomodé",
           "@MartinLerga",
           47,
           153,
           "2012/03/25"
          ],
          [
           "आत्मनिर्भर भारत",
           "@aatmnirbharin",
           1,
           110,
           "2020/07/01"
          ],
          [
           "MinSaludCol",
           "@MinSaludCol",
           878,
           814,
           "2011/09/11"
          ],
          [
           "nick farriella",
           "@nick_farriella",
           32,
           823,
           "2014/08/02"
          ],
          [
           "Kevin McCarthy",
           "@GOPLeader",
           12256,
           1425,
           "2009/01/29"
          ],
          [
           "Candida Moss",
           "@candidamoss",
           32,
           1821,
           "2009/06/10"
          ],
          [
           "Jeff Gritchen 🇺🇸",
           "@jeffgritchen",
           32,
           1355,
           "2009/04/08"
          ],
          [
           "Drew Hammill",
           "@Drew_Hammill",
           90,
           1472,
           "2011/04/13"
          ],
          [
           "Nik-Nic",
           "@nnpeoples97",
           18,
           3312,
           "2011/03/09"
          ],
          [
           "Alex Eccleston",
           "@AventuraObscura",
           158,
           870,
           "2015/02/18"
          ],
          [
           "James Woods",
           "@RealJamesWoods",
           13848,
           4407,
           "2009/09/30"
          ],
          [
           "Jane Lytvynenko",
           "@JaneLytv",
           9,
           6413,
           "2009/08/13"
          ],
          [
           "Pushpendra Kulshrestha",
           "@PuspendraTweet",
           253,
           65,
           "2017/04/01"
          ],
          [
           "TitosVodka",
           "@TitosVodka",
           2032,
           21700,
           "2008/12/01"
          ],
          [
           "Il Fabbricante di Chiavi ",
           "@lochiediame",
           66,
           586,
           "2020/02/08"
          ],
          [
           "Shane Crotty",
           "@profshanecrotty",
           2341,
           205,
           "2016/03/21"
          ],
          [
           "Tim Young",
           "@TimRunsHisMouth",
           6574,
           39620,
           "2009/04/22"
          ],
          [
           "GEN",
           "@SomosGEN",
           2,
           74,
           "2017/06/13"
          ],
          [
           "Duncan Pegg MP",
           "@DuncanPeggMP",
           35,
           637,
           "2014/04/23"
          ],
          [
           "Rappler",
           "@rapplerdotcom",
           9,
           406,
           "2011/07/07"
          ],
          [
           "Johns Hopkins Center for Health Security",
           "@JHSPH_CHS",
           140,
           1089,
           "2009/01/09"
          ],
          [
           "San Francisco Chronicle",
           "@sfchronicle",
           5550,
           284,
           "2010/03/10"
          ],
          [
           "郑明哲",
           "@Geoloong",
           5,
           247,
           "2015/06/07"
          ],
          [
           "αรɦ :)",
           "@ashakiiii",
           2746,
           19554,
           "2018/11/10"
          ],
          [
           "Ministry of Health",
           "@MoHFW_INDIA",
           117,
           192,
           "2014/06/30"
          ],
          [
           "Undoomed",
           "@Undoomed",
           24176,
           1660,
           "2015/05/04"
          ],
          [
           "Officer Bandit 👮🏻‍♀️🦝 🇺🇸",
           "@OfficerBandit",
           2322,
           37,
           "2018/08/02"
          ]
         ],
         "hovertemplate": "Type of tweet=false<br>Date=%{x}<br>Followers count=%{y}<br>Tweet Retweets count=%{customdata[2]}<br>Name=%{customdata[0]}<br>Username=%{customdata[1]}<br>Friends count=%{customdata[3]}<br>Account created on=%{customdata[4]}<extra></extra>",
         "legendgroup": "false",
         "marker": {
          "color": "#636efa",
          "line": {
           "color": "DarkSlateGrey",
           "width": 1
          },
          "opacity": 0.8,
          "size": [
           277,
           667,
           8678,
           494,
           27,
           2092,
           4356,
           341,
           114,
           11,
           92746,
           49,
           58,
           212,
           16,
           956,
           55,
           30,
           1,
           307,
           4022,
           91,
           204,
           344,
           689,
           1531,
           7,
           53,
           610,
           2,
           10,
           1,
           6,
           14,
           31,
           254,
           147,
           2306,
           312,
           217,
           141,
           6008,
           20748,
           25,
           103,
           0,
           1,
           0,
           15,
           1,
           0,
           42,
           2010,
           761,
           78,
           1,
           10,
           24,
           11894,
           749,
           151,
           53,
           9,
           9,
           6,
           804,
           390,
           430,
           6,
           60,
           4651,
           65,
           359,
           7586,
           205,
           4,
           1338,
           34,
           187,
           103,
           6,
           1,
           46,
           47,
           21871,
           671,
           232,
           80,
           41,
           0,
           177,
           128,
           518,
           2616,
           46,
           4149,
           7,
           8379,
           3,
           62,
           4004,
           254,
           26,
           508,
           15,
           8925,
           583,
           3,
           4,
           2101,
           1,
           16,
           284,
           36,
           57,
           40,
           49,
           42,
           64,
           80,
           182,
           49,
           101,
           8,
           4188,
           108,
           0,
           61,
           17313,
           68,
           87,
           23254,
           99,
           207,
           141,
           223,
           491,
           18,
           87,
           1663,
           0,
           136,
           11,
           0,
           2520,
           116,
           4,
           116,
           132,
           1,
           26,
           3274,
           284,
           7916,
           7267,
           3259,
           42,
           2198,
           103,
           588,
           328,
           417,
           3763,
           497,
           120,
           1192,
           1670,
           2466,
           13613,
           372,
           31,
           26,
           59,
           3641,
           4006,
           246,
           201,
           2841,
           0,
           50,
           0,
           1,
           7,
           53,
           3829,
           277,
           1453,
           212,
           3120,
           71,
           8,
           1,
           6,
           558,
           269,
           263,
           25,
           9589,
           2,
           5829,
           41,
           61,
           4,
           6,
           128,
           11,
           56,
           820,
           0,
           2562,
           0,
           7,
           1,
           24,
           367,
           1712,
           5692,
           52,
           0,
           297,
           71,
           14,
           9029,
           29,
           1,
           1313,
           211,
           1037,
           59,
           2384,
           327,
           43,
           321,
           0,
           0,
           3123,
           3182,
           34,
           4,
           187,
           3387,
           2949,
           23480,
           65,
           105,
           287,
           496,
           92,
           8328,
           648,
           70,
           154,
           14,
           9,
           5,
           310,
           221,
           19,
           397,
           139,
           443,
           348,
           317,
           1522,
           398,
           494,
           275,
           11068,
           1815,
           12160,
           34,
           6743,
           411,
           220,
           10552,
           55,
           1379,
           392,
           56,
           623,
           166,
           4,
           1027,
           446,
           211,
           1140,
           128,
           288,
           0,
           203,
           298,
           0,
           11,
           0,
           218,
           606,
           2,
           96497,
           94,
           143,
           14293,
           10289,
           3,
           128,
           6446,
           0,
           548,
           46,
           0,
           19516,
           2,
           2036,
           52,
           368,
           2,
           246,
           1003,
           104,
           2413,
           699,
           5,
           25,
           62,
           92,
           12133,
           788,
           339,
           16,
           2786,
           92,
           18092,
           119115,
           212,
           5,
           0,
           3041,
           999,
           13,
           210,
           122,
           43,
           193,
           134,
           3734,
           930,
           279,
           8669,
           4135,
           7741,
           1815,
           56,
           14,
           7,
           1,
           107,
           74,
           13,
           1287,
           2331,
           90,
           247,
           64,
           1133,
           2408,
           3335,
           255,
           296,
           24,
           1705,
           54,
           513,
           2,
           200,
           2005,
           29,
           8181,
           66,
           1258,
           0,
           733,
           10,
           3188,
           15909,
           27,
           1,
           28,
           195,
           54,
           3,
           56,
           1777,
           6,
           344,
           3,
           41,
           627,
           33,
           6,
           2381,
           98,
           381,
           260,
           78,
           672,
           49,
           1,
           24,
           210,
           3415,
           782,
           84,
           10,
           338,
           823,
           41,
           326,
           4091,
           1408,
           56,
           2,
           11314,
           3319,
           1146,
           251,
           8,
           966,
           6206,
           0,
           1759,
           55,
           96,
           393,
           29,
           5,
           8,
           4,
           4,
           606,
           4302,
           8,
           0,
           33,
           2,
           11,
           171,
           1,
           0,
           1,
           73,
           0,
           4,
           112,
           13,
           365,
           1925,
           19,
           332,
           1,
           75,
           16,
           592,
           35,
           20,
           5703,
           141,
           69,
           78,
           0,
           7,
           1222,
           0,
           243,
           28,
           17,
           1063,
           6050,
           5,
           14,
           2,
           6,
           33,
           45,
           192,
           1,
           70,
           164,
           31,
           196,
           9,
           949,
           1222,
           1002,
           12,
           121,
           1,
           5,
           117,
           3,
           19,
           5126,
           11933,
           32,
           772,
           167,
           204,
           0,
           1,
           123,
           1060,
           40964,
           117,
           315,
           121,
           61,
           22,
           0,
           8,
           1223,
           239,
           3833,
           820,
           336,
           189,
           6120,
           23,
           688,
           61,
           3654,
           647,
           11233,
           247,
           1,
           18,
           45,
           146,
           1797,
           12,
           2,
           129,
           0,
           7310,
           867,
           869,
           46,
           144,
           40,
           417,
           739,
           0,
           16,
           257,
           623,
           676,
           0,
           88,
           60,
           34062,
           276,
           76,
           677,
           763,
           1212,
           2081,
           1212,
           584,
           4,
           2335,
           1194,
           1184,
           11,
           209,
           509,
           619,
           248,
           316,
           224,
           206,
           62,
           2,
           38025,
           474,
           1,
           129,
           10,
           658,
           1772,
           10902,
           526,
           102,
           4026,
           11885,
           880,
           36699,
           76882,
           72,
           208,
           655,
           468,
           11,
           826,
           194,
           538,
           0,
           507,
           2469,
           99,
           177,
           50,
           605,
           8720,
           32,
           64,
           2602,
           0,
           1988,
           7615,
           2668,
           1328,
           46,
           31,
           542,
           142,
           946,
           2369,
           0,
           1,
           10,
           0,
           35,
           2,
           9,
           142,
           1,
           213,
           0,
           4754,
           347,
           898,
           9597,
           78,
           58,
           566,
           14,
           27,
           310,
           389,
           148,
           805,
           2799,
           14,
           1039,
           3280,
           56,
           63,
           7,
           12342,
           4823,
           56,
           51,
           8,
           0,
           12,
           2560,
           3065,
           202,
           3600,
           103,
           54,
           61,
           213,
           13,
           18,
           449,
           1,
           7,
           6,
           104,
           770,
           1040,
           141,
           28,
           11,
           126,
           3,
           1757,
           9465,
           312,
           579,
           146,
           0,
           907,
           340,
           177,
           1252,
           3721,
           2432,
           0,
           65549,
           22,
           1554,
           320,
           2120,
           1270,
           127,
           13,
           6,
           28,
           286,
           99,
           351,
           122,
           192,
           18748,
           407,
           130,
           71,
           4829,
           66,
           346,
           5072,
           7581,
           109,
           3,
           551,
           5,
           129,
           32,
           197,
           108,
           9884,
           20,
           344,
           1636,
           3,
           5149,
           1611,
           300,
           85,
           2478,
           47,
           12,
           2742,
           14,
           503,
           774,
           512,
           2285,
           271,
           3211,
           32,
           39979,
           447,
           1,
           127,
           5953,
           3040,
           412,
           125,
           16,
           9,
           11,
           6412,
           84,
           0,
           1294,
           25153,
           0,
           7,
           33,
           42,
           6,
           2,
           1,
           155,
           9,
           40465,
           1262,
           21283,
           1284,
           532,
           7,
           487,
           88,
           1229,
           0,
           0,
           3784,
           501,
           56,
           32,
           4503,
           443,
           6358,
           842,
           39,
           24,
           2,
           33,
           45,
           31,
           907,
           8817,
           34,
           263,
           132,
           2113,
           5,
           0,
           393,
           14684,
           640,
           516,
           2180,
           39,
           2461,
           265,
           1959,
           67,
           29,
           5196,
           287,
           1557,
           317,
           748,
           689,
           411,
           293,
           8925,
           31904,
           0,
           970,
           3,
           4205,
           773,
           51,
           2188,
           261,
           19,
           103,
           327,
           276,
           4514,
           100,
           222,
           0,
           1,
           638,
           0,
           372,
           0,
           2888,
           28478,
           170,
           185,
           393,
           478,
           42,
           304,
           699,
           3201,
           122,
           114,
           32,
           364,
           8357,
           3912,
           8,
           0,
           112,
           1998,
           180,
           799,
           63,
           0,
           1552,
           0,
           3332,
           67279,
           2,
           170,
           143,
           23,
           1141,
           0,
           228,
           1429,
           82,
           144,
           1,
           972,
           9830,
           892,
           290,
           1,
           2,
           1,
           699,
           8315,
           10011,
           142,
           0,
           529,
           4837,
           9,
           81,
           31,
           461,
           28,
           3044,
           101,
           1,
           206406,
           18,
           13607,
           593,
           90,
           2,
           492,
           2227,
           3167,
           11489,
           13633,
           306,
           3052,
           19057,
           935,
           1735,
           1035,
           223,
           39,
           99,
           13850,
           3,
           668,
           91,
           0,
           313,
           288,
           1690,
           110,
           561,
           54,
           1127,
           50,
           1669,
           86,
           12828,
           6,
           76,
           21,
           0,
           3896,
           3,
           0,
           239,
           149,
           2180,
           204,
           54,
           90,
           401,
           9,
           255,
           120,
           0,
           81,
           42,
           33,
           236,
           3888,
           11,
           1426,
           1572,
           671,
           3,
           299,
           40,
           290,
           53,
           48,
           91,
           59,
           261,
           239,
           53,
           93,
           103,
           1212,
           979,
           550,
           1121,
           2494,
           2004,
           11389,
           221,
           43,
           89,
           567,
           15617,
           7,
           12,
           92,
           5,
           48,
           520,
           49,
           42,
           52,
           62,
           2825,
           3008,
           552,
           1,
           3,
           92,
           163,
           61,
           261,
           260,
           113,
           125,
           29,
           21,
           41,
           13,
           1172,
           324,
           1371,
           8947,
           237,
           126,
           93,
           791,
           18,
           172,
           57,
           4,
           9400,
           6,
           58,
           283,
           91,
           428,
           1629,
           163,
           2096,
           2,
           740,
           158,
           1891,
           3,
           1,
           32914,
           5641,
           386,
           3306,
           1,
           2,
           82,
           129,
           21,
           29,
           21,
           0,
           91,
           1840,
           10,
           1011,
           14,
           38,
           3,
           98,
           5,
           443,
           701,
           2307,
           2624,
           210,
           98,
           5523,
           213,
           21,
           8627,
           1817,
           837,
           53,
           1758,
           1572,
           4,
           1632,
           44,
           425,
           1344,
           2,
           853,
           1,
           515,
           0,
           587,
           3,
           186,
           9,
           21,
           37,
           2631,
           2775,
           472,
           498,
           211,
           1868,
           597,
           1,
           243,
           1094,
           513,
           539,
           2,
           14,
           953,
           79,
           10,
           537,
           821,
           407,
           2788,
           30,
           5,
           29,
           1,
           19,
           142,
           248,
           20,
           962,
           5412,
           29,
           11937,
           42,
           0,
           732,
           71,
           50,
           9,
           47,
           1,
           878,
           32,
           12256,
           32,
           32,
           90,
           18,
           158,
           13848,
           9,
           253,
           2032,
           66,
           2341,
           6574,
           2,
           35,
           9,
           140,
           5550,
           5,
           2746,
           117,
           24176,
           2322
          ],
          "sizemode": "area",
          "sizeref": 516.015,
          "symbol": "circle"
         },
         "mode": "markers",
         "name": "false",
         "showlegend": true,
         "type": "scattergl",
         "x": [
          "2020-02-02T00:00:00",
          "2020-02-11T00:00:00",
          "2020-02-11T00:00:00",
          "2020-02-15T00:00:00",
          "2020-02-16T00:00:00",
          "2020-03-11T00:00:00",
          "2020-03-24T00:00:00",
          "2020-03-26T00:00:00",
          "2020-04-08T00:00:00",
          "2020-04-09T00:00:00",
          "2020-04-15T00:00:00",
          "2020-04-21T00:00:00",
          "2020-04-21T00:00:00",
          "2020-04-24T00:00:00",
          "2020-04-24T00:00:00",
          "2020-04-28T00:00:00",
          "2020-05-03T00:00:00",
          "2020-05-07T00:00:00",
          "2020-05-10T00:00:00",
          "2020-05-16T00:00:00",
          "2020-05-16T00:00:00",
          "2020-05-20T00:00:00",
          "2020-05-20T00:00:00",
          "2020-05-20T00:00:00",
          "2020-05-20T00:00:00",
          "2020-05-21T00:00:00",
          "2020-05-24T00:00:00",
          "2020-05-25T00:00:00",
          "2020-05-25T00:00:00",
          "2020-05-26T00:00:00",
          "2020-05-26T00:00:00",
          "2020-05-27T00:00:00",
          "2020-05-27T00:00:00",
          "2020-06-04T00:00:00",
          "2020-06-06T00:00:00",
          "2020-06-06T00:00:00",
          "2020-06-08T00:00:00",
          "2020-06-08T00:00:00",
          "2020-06-08T00:00:00",
          "2020-06-08T00:00:00",
          "2020-06-08T00:00:00",
          "2020-06-09T00:00:00",
          "2020-06-09T00:00:00",
          "2020-06-09T00:00:00",
          "2020-06-09T00:00:00",
          "2020-06-10T00:00:00",
          "2020-06-10T00:00:00",
          "2020-06-11T00:00:00",
          "2020-06-11T00:00:00",
          "2020-06-11T00:00:00",
          "2020-06-11T00:00:00",
          "2020-06-12T00:00:00",
          "2020-06-12T00:00:00",
          "2020-06-12T00:00:00",
          "2020-06-14T00:00:00",
          "2020-06-14T00:00:00",
          "2020-06-14T00:00:00",
          "2020-06-14T00:00:00",
          "2020-06-16T00:00:00",
          "2020-06-17T00:00:00",
          "2020-06-24T00:00:00",
          "2020-06-24T00:00:00",
          "2020-06-24T00:00:00",
          "2020-06-25T00:00:00",
          "2020-06-25T00:00:00",
          "2020-06-25T00:00:00",
          "2020-06-30T00:00:00",
          "2020-07-03T00:00:00",
          "2020-07-24T00:00:00",
          "2020-07-30T00:00:00",
          "2020-01-27T00:00:00",
          "2020-02-10T00:00:00",
          "2020-02-29T00:00:00",
          "2020-03-11T00:00:00",
          "2020-03-15T00:00:00",
          "2020-03-15T00:00:00",
          "2020-03-20T00:00:00",
          "2020-03-23T00:00:00",
          "2020-03-27T00:00:00",
          "2020-04-15T00:00:00",
          "2020-04-21T00:00:00",
          "2020-04-26T00:00:00",
          "2020-04-26T00:00:00",
          "2020-04-29T00:00:00",
          "2020-04-29T00:00:00",
          "2020-05-03T00:00:00",
          "2020-05-06T00:00:00",
          "2020-05-07T00:00:00",
          "2020-05-07T00:00:00",
          "2020-05-11T00:00:00",
          "2020-05-12T00:00:00",
          "2020-05-12T00:00:00",
          "2020-05-12T00:00:00",
          "2020-05-13T00:00:00",
          "2020-05-13T00:00:00",
          "2020-05-14T00:00:00",
          "2020-05-14T00:00:00",
          "2020-05-16T00:00:00",
          "2020-05-16T00:00:00",
          "2020-05-16T00:00:00",
          "2020-05-16T00:00:00",
          "2020-05-18T00:00:00",
          "2020-05-18T00:00:00",
          "2020-05-19T00:00:00",
          "2020-05-19T00:00:00",
          "2020-05-20T00:00:00",
          "2020-05-20T00:00:00",
          "2020-05-20T00:00:00",
          "2020-05-21T00:00:00",
          "2020-05-21T00:00:00",
          "2020-05-21T00:00:00",
          "2020-05-21T00:00:00",
          "2020-05-21T00:00:00",
          "2020-05-21T00:00:00",
          "2020-05-22T00:00:00",
          "2020-05-24T00:00:00",
          "2020-05-24T00:00:00",
          "2020-05-24T00:00:00",
          "2020-05-24T00:00:00",
          "2020-05-25T00:00:00",
          "2020-05-25T00:00:00",
          "2020-05-25T00:00:00",
          "2020-05-25T00:00:00",
          "2020-05-25T00:00:00",
          "2020-05-25T00:00:00",
          "2020-05-26T00:00:00",
          "2020-05-26T00:00:00",
          "2020-05-26T00:00:00",
          "2020-05-27T00:00:00",
          "2020-05-27T00:00:00",
          "2020-05-28T00:00:00",
          "2020-05-29T00:00:00",
          "2020-05-29T00:00:00",
          "2020-06-01T00:00:00",
          "2020-06-02T00:00:00",
          "2020-06-04T00:00:00",
          "2020-06-04T00:00:00",
          "2020-06-05T00:00:00",
          "2020-06-05T00:00:00",
          "2020-06-06T00:00:00",
          "2020-06-08T00:00:00",
          "2020-06-23T00:00:00",
          "2020-06-24T00:00:00",
          "2020-06-25T00:00:00",
          "2020-08-07T00:00:00",
          "2020-08-08T00:00:00",
          "2020-08-11T00:00:00",
          "2020-08-12T00:00:00",
          "2020-08-12T00:00:00",
          "2020-08-15T00:00:00",
          "2020-01-16T00:00:00",
          "2020-03-05T00:00:00",
          "2020-03-06T00:00:00",
          "2020-03-15T00:00:00",
          "2020-03-18T00:00:00",
          "2020-03-22T00:00:00",
          "2020-03-22T00:00:00",
          "2020-03-24T00:00:00",
          "2020-03-26T00:00:00",
          "2020-03-28T00:00:00",
          "2020-03-31T00:00:00",
          "2020-04-01T00:00:00",
          "2020-04-03T00:00:00",
          "2020-04-08T00:00:00",
          "2020-04-12T00:00:00",
          "2020-04-17T00:00:00",
          "2020-04-18T00:00:00",
          "2020-04-19T00:00:00",
          "2020-04-20T00:00:00",
          "2020-04-26T00:00:00",
          "2020-04-28T00:00:00",
          "2020-04-28T00:00:00",
          "2020-04-29T00:00:00",
          "2020-04-30T00:00:00",
          "2020-04-30T00:00:00",
          "2020-05-01T00:00:00",
          "2020-05-02T00:00:00",
          "2020-05-02T00:00:00",
          "2020-05-02T00:00:00",
          "2020-05-03T00:00:00",
          "2020-05-04T00:00:00",
          "2020-05-06T00:00:00",
          "2020-05-07T00:00:00",
          "2020-05-08T00:00:00",
          "2020-05-08T00:00:00",
          "2020-05-08T00:00:00",
          "2020-05-08T00:00:00",
          "2020-05-08T00:00:00",
          "2020-05-08T00:00:00",
          "2020-05-09T00:00:00",
          "2020-05-09T00:00:00",
          "2020-05-09T00:00:00",
          "2020-05-10T00:00:00",
          "2020-05-10T00:00:00",
          "2020-05-10T00:00:00",
          "2020-05-10T00:00:00",
          "2020-05-11T00:00:00",
          "2020-05-11T00:00:00",
          "2020-05-12T00:00:00",
          "2020-05-12T00:00:00",
          "2020-05-12T00:00:00",
          "2020-05-12T00:00:00",
          "2020-05-12T00:00:00",
          "2020-05-12T00:00:00",
          "2020-05-12T00:00:00",
          "2020-05-12T00:00:00",
          "2020-05-12T00:00:00",
          "2020-05-12T00:00:00",
          "2020-05-13T00:00:00",
          "2020-05-13T00:00:00",
          "2020-05-14T00:00:00",
          "2020-05-14T00:00:00",
          "2020-05-16T00:00:00",
          "2020-05-17T00:00:00",
          "2020-05-17T00:00:00",
          "2020-05-17T00:00:00",
          "2020-05-18T00:00:00",
          "2020-05-20T00:00:00",
          "2020-05-20T00:00:00",
          "2020-05-20T00:00:00",
          "2020-05-21T00:00:00",
          "2020-05-21T00:00:00",
          "2020-05-21T00:00:00",
          "2020-05-22T00:00:00",
          "2020-05-22T00:00:00",
          "2020-05-25T00:00:00",
          "2020-05-25T00:00:00",
          "2020-05-25T00:00:00",
          "2020-06-24T00:00:00",
          "2020-07-31T00:00:00",
          "2020-08-08T00:00:00",
          "2020-08-10T00:00:00",
          "2020-08-10T00:00:00",
          "2020-08-11T00:00:00",
          "2020-08-11T00:00:00",
          "2020-08-26T00:00:00",
          "2020-02-01T00:00:00",
          "2020-02-04T00:00:00",
          "2020-02-26T00:00:00",
          "2020-03-06T00:00:00",
          "2020-03-07T00:00:00",
          "2020-03-14T00:00:00",
          "2020-03-16T00:00:00",
          "2020-03-19T00:00:00",
          "2020-03-23T00:00:00",
          "2020-03-24T00:00:00",
          "2020-03-30T00:00:00",
          "2020-03-31T00:00:00",
          "2020-04-06T00:00:00",
          "2020-04-07T00:00:00",
          "2020-04-15T00:00:00",
          "2020-04-19T00:00:00",
          "2020-04-22T00:00:00",
          "2020-04-24T00:00:00",
          "2020-04-25T00:00:00",
          "2020-04-26T00:00:00",
          "2020-04-26T00:00:00",
          "2020-04-28T00:00:00",
          "2020-04-28T00:00:00",
          "2020-04-29T00:00:00",
          "2020-04-29T00:00:00",
          "2020-04-29T00:00:00",
          "2020-04-29T00:00:00",
          "2020-04-29T00:00:00",
          "2020-04-30T00:00:00",
          "2020-05-01T00:00:00",
          "2020-05-02T00:00:00",
          "2020-05-02T00:00:00",
          "2020-05-02T00:00:00",
          "2020-05-02T00:00:00",
          "2020-05-02T00:00:00",
          "2020-05-02T00:00:00",
          "2020-05-03T00:00:00",
          "2020-05-03T00:00:00",
          "2020-05-03T00:00:00",
          "2020-05-03T00:00:00",
          "2020-05-03T00:00:00",
          "2020-05-04T00:00:00",
          "2020-05-04T00:00:00",
          "2020-05-04T00:00:00",
          "2020-05-04T00:00:00",
          "2020-05-05T00:00:00",
          "2020-05-06T00:00:00",
          "2020-05-06T00:00:00",
          "2020-05-06T00:00:00",
          "2020-05-06T00:00:00",
          "2020-05-06T00:00:00",
          "2020-05-06T00:00:00",
          "2020-05-06T00:00:00",
          "2020-05-07T00:00:00",
          "2020-05-07T00:00:00",
          "2020-05-07T00:00:00",
          "2020-05-07T00:00:00",
          "2020-05-07T00:00:00",
          "2020-05-08T00:00:00",
          "2020-05-08T00:00:00",
          "2020-05-08T00:00:00",
          "2020-05-08T00:00:00",
          "2020-05-08T00:00:00",
          "2020-05-08T00:00:00",
          "2020-05-08T00:00:00",
          "2020-05-08T00:00:00",
          "2020-05-09T00:00:00",
          "2020-05-09T00:00:00",
          "2020-05-10T00:00:00",
          "2020-05-10T00:00:00",
          "2020-05-11T00:00:00",
          "2020-05-11T00:00:00",
          "2020-05-12T00:00:00",
          "2020-05-12T00:00:00",
          "2020-05-12T00:00:00",
          "2020-05-13T00:00:00",
          "2020-05-13T00:00:00",
          "2020-05-14T00:00:00",
          "2020-05-15T00:00:00",
          "2020-05-21T00:00:00",
          "2020-05-29T00:00:00",
          "2020-05-29T00:00:00",
          "2020-08-01T00:00:00",
          "2020-08-02T00:00:00",
          "2020-08-04T00:00:00",
          "2020-08-07T00:00:00",
          "2020-08-31T00:00:00",
          "2020-03-06T00:00:00",
          "2020-03-16T00:00:00",
          "2020-03-16T00:00:00",
          "2020-03-16T00:00:00",
          "2020-03-18T00:00:00",
          "2020-03-21T00:00:00",
          "2020-03-21T00:00:00",
          "2020-03-24T00:00:00",
          "2020-03-27T00:00:00",
          "2020-03-28T00:00:00",
          "2020-04-01T00:00:00",
          "2020-04-02T00:00:00",
          "2020-04-02T00:00:00",
          "2020-04-02T00:00:00",
          "2020-04-03T00:00:00",
          "2020-04-04T00:00:00",
          "2020-04-05T00:00:00",
          "2020-04-07T00:00:00",
          "2020-04-07T00:00:00",
          "2020-04-07T00:00:00",
          "2020-04-08T00:00:00",
          "2020-04-08T00:00:00",
          "2020-04-09T00:00:00",
          "2020-04-14T00:00:00",
          "2020-04-15T00:00:00",
          "2020-04-15T00:00:00",
          "2020-04-17T00:00:00",
          "2020-04-19T00:00:00",
          "2020-04-19T00:00:00",
          "2020-04-20T00:00:00",
          "2020-04-20T00:00:00",
          "2020-04-21T00:00:00",
          "2020-04-21T00:00:00",
          "2020-04-22T00:00:00",
          "2020-04-22T00:00:00",
          "2020-04-22T00:00:00",
          "2020-04-22T00:00:00",
          "2020-04-22T00:00:00",
          "2020-04-22T00:00:00",
          "2020-04-22T00:00:00",
          "2020-04-23T00:00:00",
          "2020-04-24T00:00:00",
          "2020-04-24T00:00:00",
          "2020-04-24T00:00:00",
          "2020-04-24T00:00:00",
          "2020-04-25T00:00:00",
          "2020-04-25T00:00:00",
          "2020-04-26T00:00:00",
          "2020-04-26T00:00:00",
          "2020-04-26T00:00:00",
          "2020-04-26T00:00:00",
          "2020-04-26T00:00:00",
          "2020-04-26T00:00:00",
          "2020-04-26T00:00:00",
          "2020-04-26T00:00:00",
          "2020-04-26T00:00:00",
          "2020-04-26T00:00:00",
          "2020-04-26T00:00:00",
          "2020-04-26T00:00:00",
          "2020-04-26T00:00:00",
          "2020-04-26T00:00:00",
          "2020-04-27T00:00:00",
          "2020-04-27T00:00:00",
          "2020-04-28T00:00:00",
          "2020-04-28T00:00:00",
          "2020-04-28T00:00:00",
          "2020-04-29T00:00:00",
          "2020-04-29T00:00:00",
          "2020-04-30T00:00:00",
          "2020-05-02T00:00:00",
          "2020-05-03T00:00:00",
          "2020-05-03T00:00:00",
          "2020-05-03T00:00:00",
          "2020-05-04T00:00:00",
          "2020-05-04T00:00:00",
          "2020-05-05T00:00:00",
          "2020-05-06T00:00:00",
          "2020-05-08T00:00:00",
          "2020-06-03T00:00:00",
          "2020-07-06T00:00:00",
          "2020-07-24T00:00:00",
          "2020-07-27T00:00:00",
          "2020-08-01T00:00:00",
          "2020-08-30T00:00:00",
          "2020-01-31T00:00:00",
          "2020-01-31T00:00:00",
          "2020-02-01T00:00:00",
          "2020-03-02T00:00:00",
          "2020-03-03T00:00:00",
          "2020-03-17T00:00:00",
          "2020-03-18T00:00:00",
          "2020-03-20T00:00:00",
          "2020-03-25T00:00:00",
          "2020-03-25T00:00:00",
          "2020-03-27T00:00:00",
          "2020-03-27T00:00:00",
          "2020-03-28T00:00:00",
          "2020-03-28T00:00:00",
          "2020-03-29T00:00:00",
          "2020-03-30T00:00:00",
          "2020-03-30T00:00:00",
          "2020-04-01T00:00:00",
          "2020-04-01T00:00:00",
          "2020-04-02T00:00:00",
          "2020-04-02T00:00:00",
          "2020-04-04T00:00:00",
          "2020-04-05T00:00:00",
          "2020-04-06T00:00:00",
          "2020-04-06T00:00:00",
          "2020-04-08T00:00:00",
          "2020-04-09T00:00:00",
          "2020-04-10T00:00:00",
          "2020-04-10T00:00:00",
          "2020-04-10T00:00:00",
          "2020-04-10T00:00:00",
          "2020-04-10T00:00:00",
          "2020-04-11T00:00:00",
          "2020-04-11T00:00:00",
          "2020-04-12T00:00:00",
          "2020-04-12T00:00:00",
          "2020-04-13T00:00:00",
          "2020-04-13T00:00:00",
          "2020-04-14T00:00:00",
          "2020-04-14T00:00:00",
          "2020-04-14T00:00:00",
          "2020-04-15T00:00:00",
          "2020-04-15T00:00:00",
          "2020-04-15T00:00:00",
          "2020-04-15T00:00:00",
          "2020-04-15T00:00:00",
          "2020-04-15T00:00:00",
          "2020-04-15T00:00:00",
          "2020-04-15T00:00:00",
          "2020-04-15T00:00:00",
          "2020-04-15T00:00:00",
          "2020-04-16T00:00:00",
          "2020-04-16T00:00:00",
          "2020-04-16T00:00:00",
          "2020-04-16T00:00:00",
          "2020-04-16T00:00:00",
          "2020-04-17T00:00:00",
          "2020-04-17T00:00:00",
          "2020-04-17T00:00:00",
          "2020-04-18T00:00:00",
          "2020-04-18T00:00:00",
          "2020-04-19T00:00:00",
          "2020-04-19T00:00:00",
          "2020-04-20T00:00:00",
          "2020-04-20T00:00:00",
          "2020-04-20T00:00:00",
          "2020-04-20T00:00:00",
          "2020-04-20T00:00:00",
          "2020-04-21T00:00:00",
          "2020-04-21T00:00:00",
          "2020-04-21T00:00:00",
          "2020-04-21T00:00:00",
          "2020-04-21T00:00:00",
          "2020-04-21T00:00:00",
          "2020-04-21T00:00:00",
          "2020-04-22T00:00:00",
          "2020-04-23T00:00:00",
          "2020-04-23T00:00:00",
          "2020-04-24T00:00:00",
          "2020-04-27T00:00:00",
          "2020-04-28T00:00:00",
          "2020-05-11T00:00:00",
          "2020-06-06T00:00:00",
          "2020-07-21T00:00:00",
          "2020-07-28T00:00:00",
          "2020-07-31T00:00:00",
          "2020-02-11T00:00:00",
          "2020-02-14T00:00:00",
          "2020-02-19T00:00:00",
          "2020-02-22T00:00:00",
          "2020-02-23T00:00:00",
          "2020-02-25T00:00:00",
          "2020-03-12T00:00:00",
          "2020-03-15T00:00:00",
          "2020-03-16T00:00:00",
          "2020-03-18T00:00:00",
          "2020-03-18T00:00:00",
          "2020-03-18T00:00:00",
          "2020-03-20T00:00:00",
          "2020-03-20T00:00:00",
          "2020-03-27T00:00:00",
          "2020-03-27T00:00:00",
          "2020-03-28T00:00:00",
          "2020-03-30T00:00:00",
          "2020-04-02T00:00:00",
          "2020-04-02T00:00:00",
          "2020-04-02T00:00:00",
          "2020-04-02T00:00:00",
          "2020-04-03T00:00:00",
          "2020-04-03T00:00:00",
          "2020-04-04T00:00:00",
          "2020-04-04T00:00:00",
          "2020-04-04T00:00:00",
          "2020-04-05T00:00:00",
          "2020-04-05T00:00:00",
          "2020-04-05T00:00:00",
          "2020-04-05T00:00:00",
          "2020-04-06T00:00:00",
          "2020-04-06T00:00:00",
          "2020-04-06T00:00:00",
          "2020-04-06T00:00:00",
          "2020-04-06T00:00:00",
          "2020-04-06T00:00:00",
          "2020-04-07T00:00:00",
          "2020-04-07T00:00:00",
          "2020-04-07T00:00:00",
          "2020-04-07T00:00:00",
          "2020-04-08T00:00:00",
          "2020-04-08T00:00:00",
          "2020-04-08T00:00:00",
          "2020-04-08T00:00:00",
          "2020-04-08T00:00:00",
          "2020-04-08T00:00:00",
          "2020-04-09T00:00:00",
          "2020-04-09T00:00:00",
          "2020-04-09T00:00:00",
          "2020-04-09T00:00:00",
          "2020-04-09T00:00:00",
          "2020-04-09T00:00:00",
          "2020-04-09T00:00:00",
          "2020-04-09T00:00:00",
          "2020-04-10T00:00:00",
          "2020-04-10T00:00:00",
          "2020-04-10T00:00:00",
          "2020-04-10T00:00:00",
          "2020-04-10T00:00:00",
          "2020-04-10T00:00:00",
          "2020-04-11T00:00:00",
          "2020-04-11T00:00:00",
          "2020-04-11T00:00:00",
          "2020-04-11T00:00:00",
          "2020-04-11T00:00:00",
          "2020-04-11T00:00:00",
          "2020-04-11T00:00:00",
          "2020-04-11T00:00:00",
          "2020-04-11T00:00:00",
          "2020-04-12T00:00:00",
          "2020-04-12T00:00:00",
          "2020-04-12T00:00:00",
          "2020-04-13T00:00:00",
          "2020-04-13T00:00:00",
          "2020-04-13T00:00:00",
          "2020-04-13T00:00:00",
          "2020-04-13T00:00:00",
          "2020-04-13T00:00:00",
          "2020-04-13T00:00:00",
          "2020-04-14T00:00:00",
          "2020-04-15T00:00:00",
          "2020-04-16T00:00:00",
          "2020-04-16T00:00:00",
          "2020-05-21T00:00:00",
          "2020-07-11T00:00:00",
          "2020-07-15T00:00:00",
          "2020-07-22T00:00:00",
          "2020-07-25T00:00:00",
          "2020-01-29T00:00:00",
          "2020-02-12T00:00:00",
          "2020-03-09T00:00:00",
          "2020-03-13T00:00:00",
          "2020-03-15T00:00:00",
          "2020-03-15T00:00:00",
          "2020-03-16T00:00:00",
          "2020-03-16T00:00:00",
          "2020-03-16T00:00:00",
          "2020-03-19T00:00:00",
          "2020-03-23T00:00:00",
          "2020-03-23T00:00:00",
          "2020-03-24T00:00:00",
          "2020-03-24T00:00:00",
          "2020-03-25T00:00:00",
          "2020-03-27T00:00:00",
          "2020-03-27T00:00:00",
          "2020-03-27T00:00:00",
          "2020-03-28T00:00:00",
          "2020-03-29T00:00:00",
          "2020-03-29T00:00:00",
          "2020-03-30T00:00:00",
          "2020-03-30T00:00:00",
          "2020-03-30T00:00:00",
          "2020-03-30T00:00:00",
          "2020-03-30T00:00:00",
          "2020-03-30T00:00:00",
          "2020-03-31T00:00:00",
          "2020-03-31T00:00:00",
          "2020-03-31T00:00:00",
          "2020-03-31T00:00:00",
          "2020-03-31T00:00:00",
          "2020-03-31T00:00:00",
          "2020-03-31T00:00:00",
          "2020-03-31T00:00:00",
          "2020-03-31T00:00:00",
          "2020-03-31T00:00:00",
          "2020-04-01T00:00:00",
          "2020-04-01T00:00:00",
          "2020-04-02T00:00:00",
          "2020-04-02T00:00:00",
          "2020-04-02T00:00:00",
          "2020-04-02T00:00:00",
          "2020-04-02T00:00:00",
          "2020-04-03T00:00:00",
          "2020-04-03T00:00:00",
          "2020-04-03T00:00:00",
          "2020-04-03T00:00:00",
          "2020-04-03T00:00:00",
          "2020-04-03T00:00:00",
          "2020-04-03T00:00:00",
          "2020-04-04T00:00:00",
          "2020-04-04T00:00:00",
          "2020-04-04T00:00:00",
          "2020-04-05T00:00:00",
          "2020-04-05T00:00:00",
          "2020-04-05T00:00:00",
          "2020-04-05T00:00:00",
          "2020-04-05T00:00:00",
          "2020-04-05T00:00:00",
          "2020-04-05T00:00:00",
          "2020-04-06T00:00:00",
          "2020-04-06T00:00:00",
          "2020-04-06T00:00:00",
          "2020-04-06T00:00:00",
          "2020-04-06T00:00:00",
          "2020-04-06T00:00:00",
          "2020-04-06T00:00:00",
          "2020-04-06T00:00:00",
          "2020-04-07T00:00:00",
          "2020-04-07T00:00:00",
          "2020-04-07T00:00:00",
          "2020-04-07T00:00:00",
          "2020-04-07T00:00:00",
          "2020-04-08T00:00:00",
          "2020-04-08T00:00:00",
          "2020-04-08T00:00:00",
          "2020-04-09T00:00:00",
          "2020-04-09T00:00:00",
          "2020-04-09T00:00:00",
          "2020-04-11T00:00:00",
          "2020-04-14T00:00:00",
          "2020-04-16T00:00:00",
          "2020-04-23T00:00:00",
          "2020-04-24T00:00:00",
          "2020-07-22T00:00:00",
          "2020-07-23T00:00:00",
          "2020-07-24T00:00:00",
          "2020-01-16T00:00:00",
          "2020-01-19T00:00:00",
          "2020-01-31T00:00:00",
          "2020-03-01T00:00:00",
          "2020-03-06T00:00:00",
          "2020-03-06T00:00:00",
          "2020-03-06T00:00:00",
          "2020-03-07T00:00:00",
          "2020-03-08T00:00:00",
          "2020-03-09T00:00:00",
          "2020-03-11T00:00:00",
          "2020-03-12T00:00:00",
          "2020-03-16T00:00:00",
          "2020-03-18T00:00:00",
          "2020-03-20T00:00:00",
          "2020-03-21T00:00:00",
          "2020-03-21T00:00:00",
          "2020-03-22T00:00:00",
          "2020-03-23T00:00:00",
          "2020-03-23T00:00:00",
          "2020-03-23T00:00:00",
          "2020-03-23T00:00:00",
          "2020-03-24T00:00:00",
          "2020-03-24T00:00:00",
          "2020-03-24T00:00:00",
          "2020-03-24T00:00:00",
          "2020-03-24T00:00:00",
          "2020-03-24T00:00:00",
          "2020-03-25T00:00:00",
          "2020-03-25T00:00:00",
          "2020-03-25T00:00:00",
          "2020-03-25T00:00:00",
          "2020-03-25T00:00:00",
          "2020-03-25T00:00:00",
          "2020-03-25T00:00:00",
          "2020-03-26T00:00:00",
          "2020-03-26T00:00:00",
          "2020-03-26T00:00:00",
          "2020-03-26T00:00:00",
          "2020-03-27T00:00:00",
          "2020-03-27T00:00:00",
          "2020-03-28T00:00:00",
          "2020-03-28T00:00:00",
          "2020-03-28T00:00:00",
          "2020-03-28T00:00:00",
          "2020-03-29T00:00:00",
          "2020-03-29T00:00:00",
          "2020-03-29T00:00:00",
          "2020-03-29T00:00:00",
          "2020-03-29T00:00:00",
          "2020-03-29T00:00:00",
          "2020-03-29T00:00:00",
          "2020-03-30T00:00:00",
          "2020-03-30T00:00:00",
          "2020-03-30T00:00:00",
          "2020-03-30T00:00:00",
          "2020-03-30T00:00:00",
          "2020-03-30T00:00:00",
          "2020-03-30T00:00:00",
          "2020-03-30T00:00:00",
          "2020-03-30T00:00:00",
          "2020-03-31T00:00:00",
          "2020-03-31T00:00:00",
          "2020-04-01T00:00:00",
          "2020-04-01T00:00:00",
          "2020-04-01T00:00:00",
          "2020-04-02T00:00:00",
          "2020-04-03T00:00:00",
          "2020-04-11T00:00:00",
          "2020-04-14T00:00:00",
          "2020-04-14T00:00:00",
          "2020-05-26T00:00:00",
          "2020-06-28T00:00:00",
          "2020-01-29T00:00:00",
          "2020-02-11T00:00:00",
          "2020-02-28T00:00:00",
          "2020-03-12T00:00:00",
          "2020-03-12T00:00:00",
          "2020-03-12T00:00:00",
          "2020-03-13T00:00:00",
          "2020-03-14T00:00:00",
          "2020-03-14T00:00:00",
          "2020-03-15T00:00:00",
          "2020-03-16T00:00:00",
          "2020-03-17T00:00:00",
          "2020-03-17T00:00:00",
          "2020-03-17T00:00:00",
          "2020-03-17T00:00:00",
          "2020-03-17T00:00:00",
          "2020-03-18T00:00:00",
          "2020-03-18T00:00:00",
          "2020-03-18T00:00:00",
          "2020-03-18T00:00:00",
          "2020-03-18T00:00:00",
          "2020-03-18T00:00:00",
          "2020-03-18T00:00:00",
          "2020-03-19T00:00:00",
          "2020-03-19T00:00:00",
          "2020-03-20T00:00:00",
          "2020-03-20T00:00:00",
          "2020-03-20T00:00:00",
          "2020-03-20T00:00:00",
          "2020-03-21T00:00:00",
          "2020-03-21T00:00:00",
          "2020-03-21T00:00:00",
          "2020-03-21T00:00:00",
          "2020-03-21T00:00:00",
          "2020-03-21T00:00:00",
          "2020-03-21T00:00:00",
          "2020-03-22T00:00:00",
          "2020-03-22T00:00:00",
          "2020-03-22T00:00:00",
          "2020-03-22T00:00:00",
          "2020-03-22T00:00:00",
          "2020-03-23T00:00:00",
          "2020-03-23T00:00:00",
          "2020-03-23T00:00:00",
          "2020-03-23T00:00:00",
          "2020-03-23T00:00:00",
          "2020-03-23T00:00:00",
          "2020-03-23T00:00:00",
          "2020-03-23T00:00:00",
          "2020-03-23T00:00:00",
          "2020-03-23T00:00:00",
          "2020-03-23T00:00:00",
          "2020-03-24T00:00:00",
          "2020-03-24T00:00:00",
          "2020-03-24T00:00:00",
          "2020-03-24T00:00:00",
          "2020-03-24T00:00:00",
          "2020-03-24T00:00:00",
          "2020-03-24T00:00:00",
          "2020-03-24T00:00:00",
          "2020-03-25T00:00:00",
          "2020-03-25T00:00:00",
          "2020-03-25T00:00:00",
          "2020-03-25T00:00:00",
          "2020-03-25T00:00:00",
          "2020-03-25T00:00:00",
          "2020-03-25T00:00:00",
          "2020-03-26T00:00:00",
          "2020-03-26T00:00:00",
          "2020-03-26T00:00:00",
          "2020-03-26T00:00:00",
          "2020-03-27T00:00:00",
          "2020-03-27T00:00:00",
          "2020-03-28T00:00:00",
          "2020-03-30T00:00:00",
          "2020-07-14T00:00:00",
          "2020-07-17T00:00:00",
          "2020-02-08T00:00:00",
          "2020-03-03T00:00:00",
          "2020-03-09T00:00:00",
          "2020-03-09T00:00:00",
          "2020-03-09T00:00:00",
          "2020-03-12T00:00:00",
          "2020-03-13T00:00:00",
          "2020-03-13T00:00:00",
          "2020-03-13T00:00:00",
          "2020-03-13T00:00:00",
          "2020-03-13T00:00:00",
          "2020-03-14T00:00:00",
          "2020-03-14T00:00:00",
          "2020-03-14T00:00:00",
          "2020-03-14T00:00:00",
          "2020-03-15T00:00:00",
          "2020-03-15T00:00:00",
          "2020-03-15T00:00:00",
          "2020-03-15T00:00:00",
          "2020-03-15T00:00:00",
          "2020-03-15T00:00:00",
          "2020-03-15T00:00:00",
          "2020-03-16T00:00:00",
          "2020-03-16T00:00:00",
          "2020-03-16T00:00:00",
          "2020-03-16T00:00:00",
          "2020-03-16T00:00:00",
          "2020-03-16T00:00:00",
          "2020-03-16T00:00:00",
          "2020-03-16T00:00:00",
          "2020-03-17T00:00:00",
          "2020-03-17T00:00:00",
          "2020-03-17T00:00:00",
          "2020-03-17T00:00:00",
          "2020-03-17T00:00:00",
          "2020-03-17T00:00:00",
          "2020-03-17T00:00:00",
          "2020-03-18T00:00:00",
          "2020-03-18T00:00:00",
          "2020-03-18T00:00:00",
          "2020-03-18T00:00:00",
          "2020-03-18T00:00:00",
          "2020-03-18T00:00:00",
          "2020-03-18T00:00:00",
          "2020-03-18T00:00:00",
          "2020-03-18T00:00:00",
          "2020-03-19T00:00:00",
          "2020-03-19T00:00:00",
          "2020-03-19T00:00:00",
          "2020-03-19T00:00:00",
          "2020-03-19T00:00:00",
          "2020-03-20T00:00:00",
          "2020-03-20T00:00:00",
          "2020-03-20T00:00:00",
          "2020-03-20T00:00:00",
          "2020-03-20T00:00:00",
          "2020-03-20T00:00:00",
          "2020-03-21T00:00:00",
          "2020-03-21T00:00:00",
          "2020-03-21T00:00:00",
          "2020-03-21T00:00:00",
          "2020-03-21T00:00:00",
          "2020-03-21T00:00:00",
          "2020-03-22T00:00:00",
          "2020-03-22T00:00:00",
          "2020-03-22T00:00:00",
          "2020-03-22T00:00:00",
          "2020-03-22T00:00:00",
          "2020-03-22T00:00:00",
          "2020-03-22T00:00:00",
          "2020-03-22T00:00:00",
          "2020-03-22T00:00:00",
          "2020-03-23T00:00:00",
          "2020-03-23T00:00:00",
          "2020-03-23T00:00:00",
          "2020-03-23T00:00:00",
          "2020-03-24T00:00:00",
          "2020-03-27T00:00:00",
          "2020-03-27T00:00:00",
          "2020-03-30T00:00:00",
          "2020-01-22T00:00:00",
          "2020-02-06T00:00:00",
          "2020-02-07T00:00:00",
          "2020-02-26T00:00:00",
          "2020-03-03T00:00:00",
          "2020-03-04T00:00:00",
          "2020-03-05T00:00:00",
          "2020-03-06T00:00:00",
          "2020-03-09T00:00:00",
          "2020-03-10T00:00:00",
          "2020-03-11T00:00:00",
          "2020-03-12T00:00:00",
          "2020-03-12T00:00:00",
          "2020-03-12T00:00:00",
          "2020-03-12T00:00:00",
          "2020-03-12T00:00:00",
          "2020-03-12T00:00:00",
          "2020-03-12T00:00:00",
          "2020-03-12T00:00:00",
          "2020-03-12T00:00:00",
          "2020-03-13T00:00:00",
          "2020-03-13T00:00:00",
          "2020-03-13T00:00:00",
          "2020-03-13T00:00:00",
          "2020-03-13T00:00:00",
          "2020-03-13T00:00:00",
          "2020-03-13T00:00:00",
          "2020-03-13T00:00:00",
          "2020-03-14T00:00:00",
          "2020-03-14T00:00:00",
          "2020-03-14T00:00:00",
          "2020-03-14T00:00:00",
          "2020-03-14T00:00:00",
          "2020-03-15T00:00:00",
          "2020-03-15T00:00:00",
          "2020-03-15T00:00:00",
          "2020-03-15T00:00:00",
          "2020-03-15T00:00:00",
          "2020-03-15T00:00:00",
          "2020-03-15T00:00:00",
          "2020-03-15T00:00:00",
          "2020-03-15T00:00:00",
          "2020-03-16T00:00:00",
          "2020-03-16T00:00:00",
          "2020-03-16T00:00:00",
          "2020-03-16T00:00:00",
          "2020-03-16T00:00:00",
          "2020-03-16T00:00:00",
          "2020-03-16T00:00:00",
          "2020-03-16T00:00:00",
          "2020-03-16T00:00:00",
          "2020-03-16T00:00:00",
          "2020-03-16T00:00:00",
          "2020-03-17T00:00:00",
          "2020-03-17T00:00:00",
          "2020-03-17T00:00:00",
          "2020-03-17T00:00:00",
          "2020-03-17T00:00:00",
          "2020-03-18T00:00:00",
          "2020-03-18T00:00:00",
          "2020-03-18T00:00:00",
          "2020-03-18T00:00:00",
          "2020-03-19T00:00:00",
          "2020-03-19T00:00:00",
          "2020-03-19T00:00:00",
          "2020-03-20T00:00:00",
          "2020-03-20T00:00:00",
          "2020-03-20T00:00:00",
          "2020-03-22T00:00:00",
          "2020-03-22T00:00:00",
          "2020-03-25T00:00:00",
          "2020-03-29T00:00:00",
          "2020-05-13T00:00:00",
          "2020-06-12T00:00:00",
          "2020-06-13T00:00:00",
          "2020-06-28T00:00:00",
          "2020-06-28T00:00:00",
          "2020-07-10T00:00:00",
          "2020-07-13T00:00:00",
          "2020-08-18T00:00:00",
          "2020-08-18T00:00:00",
          "2020-08-20T00:00:00",
          "2020-01-21T00:00:00",
          "2020-01-26T00:00:00",
          "2020-01-30T00:00:00",
          "2020-01-31T00:00:00",
          "2020-02-03T00:00:00",
          "2020-02-05T00:00:00",
          "2020-02-05T00:00:00",
          "2020-02-05T00:00:00",
          "2020-02-05T00:00:00",
          "2020-02-05T00:00:00",
          "2020-02-05T00:00:00",
          "2020-02-06T00:00:00",
          "2020-02-08T00:00:00",
          "2020-02-22T00:00:00",
          "2020-02-25T00:00:00",
          "2020-02-25T00:00:00",
          "2020-02-25T00:00:00",
          "2020-02-25T00:00:00",
          "2020-02-27T00:00:00",
          "2020-02-28T00:00:00",
          "2020-02-29T00:00:00",
          "2020-02-29T00:00:00",
          "2020-02-29T00:00:00",
          "2020-03-02T00:00:00",
          "2020-03-02T00:00:00",
          "2020-03-02T00:00:00",
          "2020-03-02T00:00:00",
          "2020-03-03T00:00:00",
          "2020-03-04T00:00:00",
          "2020-03-04T00:00:00",
          "2020-03-04T00:00:00",
          "2020-03-04T00:00:00",
          "2020-03-04T00:00:00",
          "2020-03-05T00:00:00",
          "2020-03-05T00:00:00",
          "2020-03-05T00:00:00",
          "2020-03-05T00:00:00",
          "2020-03-05T00:00:00",
          "2020-03-06T00:00:00",
          "2020-03-07T00:00:00",
          "2020-03-07T00:00:00",
          "2020-03-07T00:00:00",
          "2020-03-07T00:00:00",
          "2020-03-08T00:00:00",
          "2020-03-08T00:00:00",
          "2020-03-09T00:00:00",
          "2020-03-09T00:00:00",
          "2020-03-09T00:00:00",
          "2020-03-09T00:00:00",
          "2020-03-09T00:00:00",
          "2020-03-09T00:00:00",
          "2020-03-09T00:00:00",
          "2020-03-09T00:00:00",
          "2020-03-10T00:00:00",
          "2020-03-10T00:00:00",
          "2020-03-10T00:00:00",
          "2020-03-10T00:00:00",
          "2020-03-10T00:00:00",
          "2020-03-10T00:00:00",
          "2020-03-10T00:00:00",
          "2020-03-10T00:00:00",
          "2020-03-10T00:00:00",
          "2020-03-10T00:00:00",
          "2020-03-10T00:00:00",
          "2020-03-10T00:00:00",
          "2020-03-10T00:00:00",
          "2020-03-10T00:00:00",
          "2020-03-10T00:00:00",
          "2020-03-11T00:00:00",
          "2020-03-11T00:00:00",
          "2020-03-11T00:00:00",
          "2020-03-11T00:00:00",
          "2020-03-11T00:00:00",
          "2020-03-11T00:00:00",
          "2020-03-11T00:00:00",
          "2020-03-12T00:00:00",
          "2020-03-12T00:00:00",
          "2020-03-12T00:00:00",
          "2020-03-12T00:00:00",
          "2020-03-12T00:00:00",
          "2020-03-12T00:00:00",
          "2020-03-13T00:00:00",
          "2020-03-14T00:00:00",
          "2020-03-15T00:00:00",
          "2020-03-15T00:00:00",
          "2020-03-15T00:00:00",
          "2020-03-16T00:00:00",
          "2020-03-16T00:00:00",
          "2020-04-02T00:00:00",
          "2020-04-29T00:00:00",
          "2020-08-31T00:00:00",
          "2020-01-04T00:00:00",
          "2020-01-22T00:00:00",
          "2020-01-23T00:00:00",
          "2020-01-23T00:00:00",
          "2020-01-23T00:00:00",
          "2020-01-23T00:00:00",
          "2020-01-23T00:00:00",
          "2020-01-23T00:00:00",
          "2020-01-24T00:00:00",
          "2020-01-25T00:00:00",
          "2020-01-25T00:00:00",
          "2020-01-27T00:00:00",
          "2020-01-27T00:00:00",
          "2020-01-27T00:00:00",
          "2020-01-28T00:00:00",
          "2020-01-28T00:00:00",
          "2020-01-28T00:00:00",
          "2020-01-29T00:00:00",
          "2020-01-29T00:00:00",
          "2020-01-30T00:00:00",
          "2020-01-30T00:00:00",
          "2020-01-30T00:00:00",
          "2020-01-30T00:00:00",
          "2020-01-31T00:00:00",
          "2020-01-31T00:00:00",
          "2020-01-31T00:00:00",
          "2020-02-02T00:00:00",
          "2020-02-02T00:00:00",
          "2020-02-02T00:00:00",
          "2020-02-03T00:00:00",
          "2020-02-04T00:00:00",
          "2020-02-05T00:00:00",
          "2020-02-05T00:00:00",
          "2020-02-05T00:00:00",
          "2020-02-05T00:00:00",
          "2020-02-06T00:00:00",
          "2020-02-06T00:00:00",
          "2020-02-06T00:00:00",
          "2020-02-06T00:00:00",
          "2020-02-08T00:00:00",
          "2020-02-09T00:00:00",
          "2020-02-09T00:00:00",
          "2020-02-18T00:00:00",
          "2020-02-25T00:00:00",
          "2020-03-02T00:00:00",
          "2020-03-02T00:00:00",
          "2020-03-02T00:00:00",
          "2020-03-03T00:00:00",
          "2020-03-11T00:00:00",
          "2020-03-12T00:00:00",
          "2020-03-16T00:00:00",
          "2020-03-26T00:00:00",
          "2020-03-30T00:00:00",
          "2020-03-31T00:00:00",
          "2020-04-02T00:00:00",
          "2020-04-02T00:00:00",
          "2020-04-04T00:00:00",
          "2020-04-08T00:00:00",
          "2020-04-25T00:00:00",
          "2020-04-28T00:00:00",
          "2020-04-30T00:00:00",
          "2020-05-12T00:00:00",
          "2020-06-18T00:00:00",
          "2020-06-19T00:00:00",
          "2020-06-27T00:00:00",
          "2020-06-28T00:00:00",
          "2020-07-01T00:00:00",
          "2020-07-03T00:00:00",
          "2020-07-04T00:00:00",
          "2020-07-13T00:00:00",
          "2020-08-16T00:00:00",
          "2020-08-16T00:00:00",
          "2020-08-19T00:00:00",
          "2020-03-18T00:00:00",
          "2020-03-03T00:00:00",
          "2020-03-20T00:00:00",
          "2020-04-27T00:00:00",
          "2020-03-03T00:00:00",
          "2020-04-07T00:00:00",
          "2020-05-17T00:00:00",
          "2020-03-28T00:00:00",
          "2020-03-10T00:00:00",
          "2020-03-14T00:00:00",
          "2020-03-05T00:00:00",
          "2020-03-18T00:00:00",
          "2020-08-12T00:00:00",
          "2020-05-02T00:00:00",
          "2020-06-17T00:00:00",
          "2020-01-27T00:00:00",
          "2020-01-28T00:00:00",
          "2020-01-25T00:00:00",
          "2020-03-16T00:00:00",
          "2020-01-15T00:00:00",
          "2020-01-30T00:00:00",
          "2020-01-28T00:00:00",
          "2020-01-26T00:00:00",
          "2020-03-12T00:00:00"
         ],
         "xaxis": "x",
         "y": [
          9191832,
          9191832,
          9191832,
          1437009,
          1437009,
          9191832,
          1437009,
          393129,
          43129,
          21283,
          54282956,
          557860,
          17230,
          26970,
          26970,
          839647,
          107996,
          287507,
          7052,
          218,
          24683,
          230092,
          1175975,
          1175975,
          53351,
          438436,
          15112,
          76660,
          651572,
          1936,
          56590,
          7541,
          7541,
          5650,
          4334,
          14356088,
          191908,
          185077,
          47520,
          47520,
          47520,
          330891,
          6688013,
          45352,
          862987,
          10422,
          1318,
          1,
          40044,
          33,
          63,
          18467,
          2034794,
          2034794,
          595,
          164,
          3015,
          59067,
          6688013,
          348768,
          12361,
          30804,
          5717,
          17690,
          17690,
          99418,
          47872,
          54504,
          138561,
          17468,
          9191833,
          855267,
          18131,
          9191833,
          5864301,
          135086,
          5637,
          1399161,
          135086,
          440835,
          26880,
          16747,
          2181799,
          107996,
          456,
          427237,
          28345,
          234765,
          234765,
          1476,
          33419,
          3108370,
          45415,
          570753,
          8705,
          597521,
          103432,
          1726631,
          1726631,
          70260,
          33022,
          819519,
          2223,
          1437009,
          251746,
          2393530,
          110202,
          89,
          6743,
          277604,
          61790,
          48358,
          638165,
          24756,
          31623,
          9148,
          683,
          2703,
          42197,
          76660,
          651572,
          30862,
          5158,
          5158,
          147280,
          124703,
          647,
          240250,
          2486,
          580533,
          55039,
          667366,
          230092,
          240250,
          9031370,
          2154302,
          90682,
          62752,
          62752,
          577130,
          5547,
          40995,
          72948,
          27,
          15378,
          65050,
          3074,
          1399161,
          1399161,
          1683,
          31812,
          141611,
          1437009,
          1441252,
          9191833,
          1808,
          153831,
          59008,
          15431,
          1144,
          153831,
          47226,
          3801478,
          184613,
          1336533,
          109168,
          11057,
          110202,
          423610,
          134771,
          3647428,
          1796845,
          15431,
          108402,
          820725,
          416002,
          63818,
          225264,
          133,
          15999,
          1,
          150,
          36725,
          5296402,
          95399,
          41669,
          90508,
          439893,
          1441252,
          62497,
          61717,
          1332,
          1079,
          39225,
          79456,
          1697343,
          75382,
          352249,
          1802,
          12033766,
          9148,
          2901,
          36245,
          1548,
          2671,
          21803,
          1292593,
          134555,
          572,
          1313,
          251,
          3345,
          200,
          415473,
          84843,
          262756,
          3336813,
          422512,
          9,
          205632,
          20983,
          9539,
          10123749,
          15431,
          33699,
          1399161,
          126985,
          5254900,
          10477,
          2034794,
          3527,
          5246,
          1987015,
          42,
          158,
          576819,
          29652779,
          196491,
          513428,
          9191834,
          52962,
          1441252,
          648109,
          28017,
          1840575,
          251746,
          462153,
          9148,
          648109,
          3764640,
          2280,
          110202,
          12039,
          14446,
          5518,
          470916,
          321189,
          33295,
          6075171,
          106125,
          3533380,
          28185,
          507618,
          21998,
          129166,
          1697343,
          37340,
          1228219,
          379088,
          1726631,
          327,
          225264,
          279764,
          15307,
          225264,
          147238,
          1237808,
          226786,
          18345,
          150,
          134532,
          17963,
          3146,
          575294,
          61047,
          1104399,
          22222,
          14265,
          14265,
          1189724,
          5718,
          7,
          14709,
          347,
          292967,
          545578,
          440481,
          90508,
          439893,
          2926,
          12033766,
          225264,
          1600,
          41562,
          190511,
          141,
          879597,
          7821,
          10422,
          410418,
          62,
          208148,
          207620,
          184613,
          7391,
          1437009,
          227558,
          194415,
          49719732,
          924148,
          25528,
          4642,
          9982707,
          1441252,
          171971,
          26405734,
          443508,
          165786,
          1563641,
          638165,
          1881769,
          3414289,
          758699,
          35828,
          48308,
          5296402,
          283831,
          1763,
          758699,
          128832,
          251746,
          428816,
          120586,
          1649343,
          1649343,
          75091,
          1237808,
          51291,
          12407,
          1805055,
          110202,
          110202,
          2429,
          63,
          1567,
          4446,
          3607,
          9191832,
          356354,
          10422,
          184613,
          211335,
          356354,
          35659,
          1693161,
          77256,
          85509,
          407998,
          1333,
          24303,
          184613,
          1104,
          9909,
          1050704,
          3,
          80924,
          4818,
          710860,
          707,
          80924,
          5354,
          134771,
          1167663,
          81119,
          1922,
          74594,
          10632,
          27746,
          2021,
          60315,
          12137908,
          9056,
          1726631,
          1228219,
          656332,
          7632,
          462153,
          18271,
          798839,
          14265,
          184613,
          989,
          758699,
          131333,
          131333,
          2739,
          6438,
          1945,
          638165,
          308846,
          11187,
          11187,
          1425504,
          1274,
          3275447,
          3023519,
          3634077,
          26405734,
          55739,
          78,
          16666149,
          2094838,
          24812,
          184613,
          93956,
          1697343,
          6688013,
          1523,
          58983,
          124772,
          3533380,
          73199,
          1089919,
          7630,
          389,
          389,
          39,
          9191832,
          714473,
          26,
          120586,
          1269129,
          1705,
          3294,
          1122955,
          33,
          55,
          11936,
          127786,
          8227,
          993,
          721416,
          721416,
          3404731,
          3404731,
          276924,
          4153001,
          660,
          12359,
          760,
          5254900,
          27746,
          17131,
          6688013,
          49038,
          6524,
          4619,
          278,
          102,
          9056,
          7,
          7338279,
          17884,
          12034,
          26405734,
          10547,
          3255,
          18894,
          2199,
          5128,
          129898,
          129898,
          131333,
          6249,
          1840575,
          73193,
          8919,
          171146,
          18271,
          561149,
          12704,
          1987015,
          4541,
          1949,
          3265,
          244,
          9398,
          4652,
          9031371,
          16721,
          774744,
          12293,
          22104,
          22104,
          22104,
          30,
          16630,
          7837,
          2238960,
          9191834,
          15616,
          184613,
          408223,
          101393,
          33417,
          26,
          76265,
          3023519,
          184098,
          7890,
          112301,
          184613,
          448397,
          45524654,
          5636,
          5135,
          24030,
          354615,
          1697343,
          2670042,
          2213878,
          6289,
          462,
          34131,
          13243,
          1210765,
          33123,
          221,
          71068,
          706,
          1189724,
          1512983,
          9191834,
          251746,
          3023519,
          548206,
          834351,
          232990,
          5249,
          548206,
          231535,
          1697343,
          15671979,
          1087,
          178,
          120586,
          9587623,
          351260,
          251746,
          78785,
          872,
          437106,
          116590,
          34432,
          33974,
          3753,
          6688013,
          16398,
          63609,
          8225,
          156193,
          9191834,
          156193,
          4238216,
          239377,
          1246722,
          393685,
          71780,
          378,
          5108,
          20029,
          2860,
          1881769,
          196491,
          4725379,
          126256,
          774744,
          11626,
          58334,
          383365,
          49861907,
          38105,
          130102122,
          54565,
          184613,
          1399161,
          81658,
          897463,
          3085,
          7975,
          40108,
          1167663,
          51,
          12523,
          67525,
          251746,
          184613,
          416002,
          416002,
          367072,
          1896,
          38195,
          1437009,
          21,
          603790,
          345354,
          158551,
          74235,
          1336533,
          5854,
          70334,
          80464,
          1343875,
          219214,
          5,
          2,
          13417,
          6427,
          23509,
          1821,
          1562,
          106770,
          194,
          11700,
          345354,
          2670042,
          139384,
          9191834,
          18489,
          223007,
          1225958,
          417157,
          16755,
          3230194,
          240250,
          364490,
          5135,
          29863,
          963547,
          7245,
          1441252,
          4991246,
          126845,
          62512,
          18322,
          1164175,
          4573124,
          5050,
          251746,
          3230194,
          75,
          18322,
          3753,
          1189724,
          417157,
          593529,
          55549,
          12978,
          1399161,
          14917508,
          196491,
          196491,
          1987246,
          599,
          1368,
          56863,
          638165,
          382480,
          382480,
          638165,
          56863,
          54491,
          280,
          6356,
          296211,
          1290642,
          287818,
          259523,
          1307083,
          733,
          2503545,
          1290642,
          99261,
          8362,
          3530757,
          432561,
          774,
          66644761,
          19330,
          53967,
          265462,
          1396826,
          1090874,
          10486,
          287818,
          12,
          346130,
          251746,
          710860,
          292390,
          12289,
          6774,
          25087,
          187722,
          7001,
          18328,
          325389,
          251746,
          184613,
          7906721,
          984511,
          2700,
          415,
          19706,
          206,
          202923,
          2911,
          226485,
          1824478,
          798839,
          10498,
          62003,
          1437009,
          1021,
          339772,
          100503,
          23372,
          5296402,
          239377,
          417157,
          74343,
          200244,
          21803,
          84641,
          1436723,
          3800946,
          1881628,
          30708,
          888937,
          4124,
          314453,
          22291,
          1192,
          204875,
          205532,
          996752,
          1697241,
          202863,
          149904,
          592,
          53,
          1181408,
          4171,
          665,
          6650,
          4925,
          676,
          6650,
          126826,
          4758,
          81572,
          11281,
          2723,
          791081,
          3239,
          29747771,
          265353,
          45043,
          45075,
          2010,
          2243,
          758654,
          251599,
          14289,
          1469,
          195,
          191657,
          7127380,
          251599,
          251599,
          2503446,
          718333,
          1441177,
          5073211,
          164067,
          155403,
          287,
          5789,
          25424,
          86888,
          4135,
          2610710,
          1681,
          19502,
          5299193,
          45523076,
          123271,
          2,
          358512,
          2133892,
          45523076,
          184603,
          1441177,
          57745,
          575092,
          15156,
          3800946,
          494305,
          205944,
          345300,
          84599,
          29652780,
          1451177,
          134600,
          205376,
          814366,
          828622,
          124143,
          91714268,
          1,
          2793,
          1553,
          6218,
          6218,
          11751,
          1342027,
          10307,
          71311,
          46885,
          105477,
          1189724,
          708695,
          27937,
          3533380,
          710,
          487,
          3533380,
          669,
          45320,
          165,
          663604,
          12519,
          184613,
          10616,
          5140,
          828276,
          209666,
          195511,
          1246806,
          225264,
          184613,
          184613,
          77036,
          58634,
          17751,
          4153001,
          26025,
          3127520,
          154321,
          5591108,
          202863,
          12461,
          3483,
          139,
          113406,
          15,
          29247,
          27760,
          3059,
          1964,
          38617,
          671,
          37790,
          36,
          272818,
          184613,
          1987246,
          184613,
          2562,
          281594,
          5286461,
          135026,
          1249192,
          107,
          71,
          10124,
          104346,
          1254163,
          1254163,
          5296402,
          204,
          154710,
          435301,
          32459,
          4026,
          1225958,
          1441252,
          2403,
          133810,
          76697,
          1117,
          16666149,
          1108,
          26760,
          313521,
          100823,
          1257,
          583604,
          1210765,
          1532602,
          889141,
          54271,
          6080,
          2793,
          590745,
          590745,
          11473,
          2610952,
          3127520,
          8303,
          92034,
          1719806,
          3525,
          814366,
          48079,
          177,
          251746,
          246797,
          18379,
          407449,
          7493,
          16554,
          33101,
          92034,
          10359,
          38617,
          3533380,
          54768,
          68236,
          9630,
          706,
          68446,
          4320,
          111,
          3533380,
          6021,
          389381,
          9031371,
          112110,
          15764,
          38617,
          33417,
          507618,
          1238,
          121,
          4213727,
          396420,
          9817,
          506076,
          1441252,
          22118,
          9191834,
          924519,
          6111,
          1683,
          924519,
          924519,
          247522,
          924519,
          924519,
          924519,
          924519,
          5486,
          79853,
          65731,
          1441252,
          10,
          3223470,
          3223470,
          3223470,
          3223470,
          3223470,
          3223470,
          3223470,
          84599,
          20188,
          28342,
          3223470,
          1039259,
          461632,
          251746,
          28342,
          251746,
          5746,
          5266041,
          23279,
          68236,
          251746,
          230092,
          3223470,
          3223470,
          824563,
          58,
          234,
          10356874,
          2293189,
          18176,
          230092,
          4144465,
          1869523,
          230092,
          6166,
          5486,
          1254064,
          23956,
          728,
          4144465,
          154838,
          27544,
          2228955,
          13292,
          20372,
          657196,
          4619,
          30659,
          81264,
          5908,
          90040,
          1196,
          32176,
          80958,
          90040,
          821527,
          115872,
          4022,
          80806,
          959,
          133810,
          1718335,
          38344,
          1941,
          108,
          9191834,
          465991,
          3533380,
          1441252,
          9713,
          29567,
          35052,
          10094,
          17579,
          353543,
          13292,
          23,
          6917,
          889141,
          13292,
          757218,
          255,
          13621,
          55950,
          114748,
          2382,
          9191832,
          9196,
          76416,
          192625,
          497377,
          17918,
          76416,
          73870,
          30153,
          205366,
          9556,
          1881769,
          9282,
          9191832,
          1254163,
          1246,
          48397,
          1881769,
          36831,
          2646798,
          23108,
          5498,
          16754,
          834205,
          12847,
          308846,
          3552,
          9191832,
          3552,
          1817827,
          44517,
          3223470,
          3223470,
          3223470,
          3223470,
          3223470,
          3223470,
          3223470,
          42,
          261340,
          412880,
          638165,
          123943,
          5936,
          31961,
          9191832,
          3510,
          25358,
          498946,
          1290642,
          498946,
          11122607,
          21,
          649,
          210,
          318,
          5854,
          25308,
          31925,
          162884,
          378,
          555211,
          178364,
          6688013,
          66995,
          9,
          405153,
          2291,
          8844,
          8086043,
          34,
          42,
          1441252,
          1066,
          1237504,
          11322,
          1532,
          38142,
          2554,
          12181,
          2416917,
          68196,
          204685,
          62013,
          337,
          27389,
          282274,
          61790,
          2273,
          3437444,
          217969,
          250581,
          6,
          29127,
          2213878,
          60579,
          123
         ],
         "yaxis": "y"
        },
        {
         "customdata": [
          [
           "Richard Neher",
           "@richardneher",
           297,
           518,
           "2012/08/31"
          ],
          [
           "شبكة عميد الإمارات",
           "@3meed_news",
           26,
           158,
           "2011/11/09"
          ],
          [
           "Trevor Bedford",
           "@trvrb",
           840,
           817,
           "2010/12/10"
          ],
          [
           "CNBC",
           "@CNBC",
           5,
           842,
           "2009/02/09"
          ],
          [
           "Anderson Cooper 360°",
           "@AC360",
           66,
           156,
           "2010/12/17"
          ],
          [
           "U.S. Mission Uganda",
           "@usmissionuganda",
           12,
           7412,
           "2010/10/01"
          ],
          [
           "観光庁（Japan Tourism Agency）",
           "@Kanko_Jpn",
           664,
           109,
           "2014/06/12"
          ],
          [
           "TIMES NOW",
           "@TimesNow",
           220,
           375,
           "2011/01/20"
          ],
          [
           "Sachin Sawant सचिन सावंत",
           "@sachin_inc",
           48,
           693,
           "2011/04/28"
          ],
          [
           "Fotógrafo_Gus 🎥 🎬 📸",
           "@FotografoGus1",
           37,
           6049,
           "2019/12/15"
          ],
          [
           "World Health Organization (WHO)",
           "@WHO",
           511,
           1734,
           "2008/04/23"
          ],
          [
           "A Marm Kilpatrick",
           "@DiseaseEcology",
           27,
           147,
           "2013/08/05"
          ],
          [
           "Sir Ganga Ram Hospital",
           "@sgrhindia",
           128,
           15,
           "2016/06/27"
          ],
          [
           "Vittorio Feltri",
           "@vfeltri",
           459,
           537,
           "2012/02/07"
          ],
          [
           "BNPB Indonesia",
           "@BNPB_Indonesia",
           194,
           289,
           "2011/08/01"
          ],
          [
           "UAEGOV",
           "@uaegov",
           25,
           92,
           "2014/12/14"
          ],
          [
           "Daniel Silveira",
           "@danielPMERJ",
           72,
           469,
           "2017/09/26"
          ],
          [
           "عرار",
           "@FiT7xK1I7SnGiB2",
           0,
           107,
           "2020/06/22"
          ],
          [
           "Daniel Silveira",
           "@danielPMERJ",
           432,
           469,
           "2017/09/26"
          ],
          [
           "Amalia Andrade A.",
           "@amaliaandrade_",
           34,
           2240,
           "2008/06/15"
          ],
          [
           "فارس",
           "@Farees_7",
           0,
           713,
           "2016/01/22"
          ],
          [
           "Daniel Silveira",
           "@danielPMERJ",
           137,
           469,
           "2017/09/26"
          ],
          [
           "UAEGOV",
           "@uaegov",
           33,
           92,
           "2014/12/14"
          ],
          [
           "Daniel Silveira",
           "@danielPMERJ",
           326,
           469,
           "2017/09/26"
          ],
          [
           "Juan Ignacio Paolicchi",
           "@JuanPaolicchi",
           41,
           1254,
           "2010/01/18"
          ],
          [
           "MinSaludCol",
           "@MinSaludCol",
           121,
           814,
           "2011/09/11"
          ],
          [
           "César Pachón",
           "@CesarPachonAgro",
           179,
           7452,
           "2011/11/28"
          ],
          [
           "Otavio Ranzani",
           "@otavio_ranzani",
           204,
           1066,
           "2017/04/03"
          ],
          [
           "NWP Rural Crime Team /Tîm Troseddau Cefn Gwlad HGC",
           "@NWPRuralCrime",
           2,
           660,
           "2013/10/07"
          ],
          [
           "NWP Rural Crime Team /Tîm Troseddau Cefn Gwlad HGC",
           "@NWPRuralCrime",
           0,
           660,
           "2013/10/07"
          ],
          [
           "DGAC Guatemala",
           "@guatemala_dgac",
           2,
           213,
           "2014/05/26"
          ],
          [
           "ID2020",
           "@ID2020",
           55,
           3185,
           "2015/05/15"
          ],
          [
           "Guille M.",
           "@Farmaenfurecida",
           446,
           612,
           "2012/04/26"
          ],
          [
           "PDH Guatemala",
           "@PDHgt",
           142,
           520,
           "2013/09/23"
          ],
          [
           "Radio SONORA 96.9 FM",
           "@sonora969",
           209,
           49,
           "2011/01/08"
          ],
          [
           "Noah Williams",
           "@Bellmanequation",
           3,
           999,
           "2009/05/05"
          ],
          [
           "CUCAIBA",
           "@Cucaiba",
           21,
           1012,
           "2011/05/27"
          ],
          [
           "Vlada Crne Gore",
           "@VladaCG",
           17,
           391,
           "2011/12/30"
          ],
          [
           "Tom Tiffany",
           "@TomTiffanyWI",
           32,
           680,
           "2015/07/23"
          ],
          [
           "Lance Allan",
           "@lanceallan",
           4,
           201,
           "2009/03/18"
          ],
          [
           "Lance Allan",
           "@lanceallan",
           0,
           201,
           "2009/03/18"
          ],
          [
           "観光庁（Japan Tourism Agency）",
           "@Kanko_Jpn",
           746,
           109,
           "2014/06/12"
          ],
          [
           "MINEX Guatemala 🇬🇹",
           "@MinexGt",
           7,
           779,
           "2010/07/05"
          ],
          [
           "Embajada de España en Guatemala",
           "@EmbajadaEspGTA",
           11,
           852,
           "2013/07/09"
          ],
          [
           "A Marm Kilpatrick",
           "@DiseaseEcology",
           147,
           147,
           "2013/08/05"
          ],
          [
           "World Health Organization (WHO)",
           "@WHO",
           375,
           1734,
           "2008/04/23"
          ],
          [
           "Luana Volnovich",
           "@luanavolnovich",
           775,
           1363,
           "2010/08/30"
          ],
          [
           "Julián A. Fernández-Niño",
           "@JFernandeznino",
           529,
           826,
           "2010/06/09"
          ],
          [
           "Simon Shen",
           "@simonshen_glos",
           461,
           231,
           "2019/10/11"
          ],
          [
           "World Health Organization (WHO)",
           "@WHO",
           74,
           1734,
           "2008/04/23"
          ],
          [
           "Marte Piantini",
           "@MartePiantini",
           93,
           6655,
           "2012/05/10"
          ],
          [
           "Hardeep Singh Puri",
           "@HardeepSPuri",
           241,
           1095,
           "2014/01/13"
          ],
          [
           "Ronald Klain",
           "@RonaldKlain",
           64398,
           2588,
           "2011/02/07"
          ],
          [
           "PIB in Chandigarh",
           "@PIBChandigarh",
           2,
           191,
           "2012/04/30"
          ],
          [
           "PIB Fact Check",
           "@PIBFactCheck",
           289,
           31,
           "2019/12/19"
          ],
          [
           "Alicia erazo",
           "@ALICIAERAZO",
           793,
           348,
           "2012/08/17"
          ],
          [
           "Scott Manley",
           "@ManleyWMC",
           22,
           566,
           "2011/03/10"
          ],
          [
           "Administrator Seema Verma",
           "@SeemaCMS",
           694,
           348,
           "2017/01/19"
          ],
          [
           "EL HOMBRE NOTICIA",
           "@ArnulfoAgustinG",
           13,
           14,
           "2020/03/24"
          ],
          [
           "Diario La Hora",
           "@lahoragt",
           3,
           80,
           "2010/07/20"
          ],
          [
           "Ministerio de Salud y Deportes Bolivia",
           "@SaludDeportesBo",
           7,
           244,
           "2012/05/25"
          ],
          [
           "Government of Russia",
           "@GovernmentRF",
           378,
           23,
           "2012/07/12"
          ],
          [
           "World Health Organization (WHO)",
           "@WHO",
           22688,
           1734,
           "2008/04/23"
          ],
          [
           "Travelito",
           "@Travelito24",
           94948,
           66926,
           "2017/04/29"
          ],
          [
           "Ivan Petrella",
           "@ipetrella",
           1473,
           1981,
           "2010/05/31"
          ],
          [
           "Max Roser",
           "@MaxCRoser",
           305,
           1240,
           "2012/06/17"
          ],
          [
           "إبراهيمـ العمران",
           "@ibalimran",
           125,
           129,
           "2011/08/15"
          ],
          [
           "yousef ⚡alshehri 〽️",
           "@yalshehri1981",
           0,
           1047,
           "2019/03/04"
          ],
          [
           "A_ALMARRI",
           "@AALMARRI2013",
           4,
           2558,
           "2020/03/21"
          ],
          [
           "Jean Bezivin",
           "@JBezivin",
           1,
           3108,
           "2009/05/04"
          ],
          [
           "Cédric O",
           "@cedric_o",
           22,
           1512,
           "2008/08/04"
          ],
          [
           "World Health Organization (WHO)",
           "@WHO",
           312,
           1734,
           "2008/04/23"
          ],
          [
           "Leandro Cahn 💚",
           "@leandrocahn",
           283,
           1219,
           "2009/08/31"
          ],
          [
           "¿Por qué es tendencia?",
           "@porquetendencia",
           20,
           150,
           "2018/03/12"
          ],
          [
           "CMO Maharashtra",
           "@CMOMaharashtra",
           2269,
           99,
           "2014/07/01"
          ],
          [
           "Amir khan",
           "@AmirReport",
           0,
           2402,
           "2015/10/07"
          ],
          [
           "Mumbai Mirror",
           "@MumbaiMirror",
           88,
           236,
           "2012/12/05"
          ],
          [
           "Natalie E. Dean, PhD",
           "@nataliexdean",
           857,
           676,
           "2018/06/08"
          ],
          [
           "Politic Türk",
           "@politicturk",
           474,
           30,
           "2014/06/05"
          ],
          [
           "Eric Topol",
           "@EricTopol",
           48,
           526,
           "2009/11/01"
          ],
          [
           "Giank-deR 🇮🇹",
           "@GiancarloDeRisi",
           688,
           8961,
           "2011/11/07"
          ],
          [
           "Carl T. Bergstrom",
           "@CT_Bergstrom",
           393,
           2110,
           "2015/06/07"
          ],
          [
           "Elon Musk",
           "@elonmusk",
           2452,
           103,
           "2009/06/02"
          ],
          [
           "Andrew Cuomo",
           "@NYGovCuomo",
           1238,
           622,
           "2010/12/30"
          ],
          [
           "Dulce Rivera",
           "@drivera_gt",
           15,
           630,
           "2014/07/08"
          ],
          [
           "Thonburi Hospital",
           "@ThonburiH",
           0,
           24,
           "2019/09/23"
          ],
          [
           "عبدالله الدواس",
           "@Abo__salma",
           1,
           2168,
           "2012/01/14"
          ],
          [
           "Winston",
           "@Winston_Dunhill",
           621,
           2310,
           "2013/01/23"
          ],
          [
           "Carla Vizzotti",
           "@carlavizzotti",
           1646,
           251,
           "2010/06/19"
          ],
          [
           "World Health Organization (WHO)",
           "@WHO",
           163,
           1734,
           "2008/04/23"
          ],
          [
           "World Health Organization (WHO) Western Pacific",
           "@WHOWPRO",
           67,
           1205,
           "2015/10/05"
          ],
          [
           "Jason Pogue",
           "@jpogue1",
           3888,
           184,
           "2009/04/25"
          ],
          [
           "Darren Dahly",
           "@statsepi",
           32,
           4075,
           "2010/10/02"
          ],
          [
           "Prof Francois Balloux",
           "@BallouxFrancois",
           44,
           720,
           "2019/04/04"
          ],
          [
           "Canal Institucional",
           "@InstitucionalTV",
           6,
           253,
           "2009/09/01"
          ],
          [
           "Chad P. Bown",
           "@ChadBown",
           5,
           572,
           "2016/06/03"
          ],
          [
           "Alex Salvi",
           "@alexsalvinews",
           109,
           3451,
           "2017/11/18"
          ],
          [
           "i24NEWS Français",
           "@i24NEWS_FR",
           658,
           552,
           "2013/07/01"
          ],
          [
           "Governor Larry Hogan",
           "@GovLarryHogan",
           195,
           1022,
           "2015/01/20"
          ],
          [
           "Governor Larry Hogan",
           "@GovLarryHogan",
           295,
           1022,
           "2015/01/20"
          ],
          [
           "Galder Gonzalez🔻",
           "@theklaneh",
           1526,
           1191,
           "2009/01/30"
          ],
          [
           "Ivan Baumann Fonay",
           "@ivanfbf",
           106,
           274,
           "2008/05/12"
          ],
          [
           "Martin Tetaz",
           "@martintetaz",
           41,
           2897,
           "2010/07/14"
          ],
          [
           "franceinfo",
           "@franceinfo",
           43,
           1286,
           "2009/05/07"
          ],
          [
           "ENT UK",
           "@ENT_UK",
           3950,
           840,
           "2011/11/11"
          ],
          [
           "Dr Gaetan Burgio, MD, PhD.",
           "@GaetanBurgio",
           1550,
           1576,
           "2014/08/14"
          ],
          [
           "Andrew Lover",
           "@AndrewALover",
           22,
           1444,
           "2013/06/06"
          ],
          [
           "Lucas Morin",
           "@lucasmorin_eolc",
           105,
           550,
           "2018/10/30"
          ],
          [
           "Lu Chen #nobias",
           "@houndcl",
           49,
           241,
           "2012/01/27"
          ],
          [
           "Tomas Uribe Moreno",
           "@tomasuribeEco",
           1752,
           496,
           "2010/05/01"
          ],
          [
           "Ikhsan Kamil",
           "@IkhsanK07895159",
           8,
           1467,
           "2020/04/05"
          ],
          [
           "Robin Vos",
           "@repvos",
           8,
           772,
           "2009/03/23"
          ],
          [
           "Ram Madhav",
           "@rammadhav_rss",
           3484,
           304,
           "2012/08/11"
          ],
          [
           "Colegio Médico Col",
           "@ColegioMedicoCo",
           156,
           575,
           "2017/08/15"
          ],
          [
           "Mumbai Mirror",
           "@MumbaiMirror",
           105,
           236,
           "2012/12/05"
          ],
          [
           "Sen. Jeff Jackson",
           "@JeffJacksonNC",
           4,
           2534,
           "2010/03/20"
          ],
          [
           "ANI",
           "@ANI",
           1052,
           0,
           "2011/08/16"
          ],
          [
           "PMD News",
           "@PMDNewsGov",
           26,
           11,
           "2015/08/07"
          ],
          [
           "ANI",
           "@ANI",
           8957,
           0,
           "2011/08/16"
          ],
          [
           "朝日新聞(asahi shimbun）",
           "@asahi",
           3115,
           317,
           "2009/05/27"
          ],
          [
           "shashank",
           "@shashan29150961",
           0,
           18,
           "2020/03/26"
          ],
          [
           "Polizei Berlin Einsatz",
           "@PolizeiBerlin_E",
           459,
           19,
           "2014/03/19"
          ],
          [
           "Roman Camacho",
           "@RCamachoVzla",
           1236,
           1140,
           "2010/11/22"
          ],
          [
           "Bartolomeo Valletta",
           "@bartvalletta",
           102,
           13546,
           "2014/02/23"
          ],
          [
           "Jorge Galindo",
           "@JorgeGalindo",
           26,
           1099,
           "2008/05/19"
          ],
          [
           "ÁGUILA NEGRA #BDL",
           "@josel_6027",
           10,
           8908,
           "2011/08/31"
          ],
          [
           "World Health Organization Philippines",
           "@WHOPhilippines",
           160,
           488,
           "2013/11/27"
          ],
          [
           "Ministère des Solidarités et de la Santé",
           "@Sante_Gouv",
           460,
           648,
           "2010/01/28"
          ],
          [
           "Радио Стыдоба",
           "@RadioStydoba",
           524,
           159,
           "2017/08/18"
          ],
          [
           "Nora Bär",
           "@norabar",
           27,
           764,
           "2010/04/08"
          ],
          [
           "Policía Municipal de Madrid",
           "@policiademadrid",
           142,
           32,
           "2011/05/17"
          ],
          [
           "Policía Municipal de Madrid",
           "@policiademadrid",
           109,
           32,
           "2011/05/17"
          ],
          [
           "Policía Municipal de Madrid",
           "@policiademadrid",
           104,
           32,
           "2011/05/17"
          ],
          [
           "HospitalPuertadelMar",
           "@HUPMCadiz",
           368,
           380,
           "2013/07/03"
          ],
          [
           "Aurora Gomez",
           "@agomezp1",
           5,
           721,
           "2011/03/04"
          ],
          [
           "Christian Estrosi",
           "@cestrosi",
           2540,
           1471,
           "2009/10/20"
          ],
          [
           "Policía Municipal de Madrid",
           "@policiademadrid",
           293,
           32,
           "2011/05/17"
          ],
          [
           "Policía Municipal de Madrid",
           "@policiademadrid",
           82,
           32,
           "2011/05/17"
          ],
          [
           "Policía Municipal de Madrid",
           "@policiademadrid",
           79,
           32,
           "2011/05/17"
          ],
          [
           "IFT",
           "@IFT_MX",
           11,
           167,
           "2010/01/05"
          ],
          [
           "World Health Organization (WHO)",
           "@WHO",
           537,
           1734,
           "2008/04/23"
          ],
          [
           "PIB India",
           "@PIB_India",
           1298,
           269,
           "2010/12/27"
          ],
          [
           "randahcini",
           "@HcinirandaC",
           2,
           1611,
           "2020/01/22"
          ],
          [
           "🇩🇿伊斯蘭教🇵🇸ⵣISLAM🔰ⵣ🇵🇸ислам🇩🇿",
           "@Sahnoun94594452",
           0,
           2276,
           "2019/03/11"
          ],
          [
           "abdulmohsin Alm",
           "@abdulmohsinAlm",
           0,
           936,
           "2010/12/29"
          ],
          [
           "Sid®",
           "@sid_sssay",
           0,
           4369,
           "2012/07/10"
          ],
          [
           "ANI",
           "@ANI",
           59,
           0,
           "2011/08/16"
          ],
          [
           "Falko Liecke",
           "@falkone1",
           382,
           718,
           "2011/01/29"
          ],
          [
           "Policía Municipal de Madrid",
           "@policiademadrid",
           41,
           32,
           "2011/05/17"
          ],
          [
           "World Health Organization (WHO)",
           "@WHO",
           109,
           1734,
           "2008/04/23"
          ],
          [
           "World Health Organization (WHO)",
           "@WHO",
           188,
           1734,
           "2008/04/23"
          ],
          [
           "World Health Organization (WHO)",
           "@WHO",
           151,
           1734,
           "2008/04/23"
          ],
          [
           "Trump War Room",
           "@TrumpWarRoom",
           2083,
           267,
           "2019/03/20"
          ],
          [
           "Giuseppe Conte",
           "@GiuseppeConteIT",
           6928,
           135,
           "2018/05/24"
          ],
          [
           "Joe Biden",
           "@JoeBiden",
           18405,
           46,
           "2007/03/11"
          ],
          [
           "World News Tonight",
           "@ABCWorldNews",
           12,
           446,
           "2009/10/29"
          ],
          [
           "Radio ZET NEWS",
           "@RadioZET_NEWS",
           419,
           809,
           "2012/04/25"
          ],
          [
           "ا لـ حـ ـد ث",
           "@AlHadath",
           7,
           44,
           "2011/02/01"
          ],
          [
           "Ghinwa Yatim",
           "@GhinwaYatim",
           19,
           2264,
           "2010/12/16"
          ],
          [
           "Ghinwa Yatim",
           "@GhinwaYatim",
           6,
           2264,
           "2010/12/16"
          ],
          [
           "🥊#Voice_Of_Youth 🥊SWM🇮🇳",
           "@RajeshK_Bharja",
           19,
           2370,
           "2018/02/17"
          ],
          [
           "Akash Ambar(IsupportFarmers)",
           "@akashyphd",
           0,
           1887,
           "2018/02/23"
          ],
          [
           "Portal Drauzio",
           "@drauziovarella",
           896,
           373,
           "2009/10/22"
          ],
          [
           "Luigi Di Maio",
           "@luigidimaio",
           82,
           350,
           "2009/06/17"
          ],
          [
           "Urvah.bearing🚬🚬🚬💝❤❤",
           "@MominUrban",
           0,
           415,
           "2017/07/10"
          ],
          [
           "Duey Stroebel",
           "@SenStroebel",
           2,
           656,
           "2015/04/22"
          ],
          [
           "Giuseppe Conte",
           "@GiuseppeConteIT",
           605,
           135,
           "2018/05/24"
          ],
          [
           "Jair M. Bolsonaro",
           "@jairbolsonaro",
           8745,
           552,
           "2010/03/31"
          ],
          [
           "Ted Cruz",
           "@tedcruz",
           3188,
           5426,
           "2009/03/06"
          ],
          [
           "Ministerstwo Zdrowia",
           "@MZ_GOV_PL",
           161,
           1173,
           "2012/01/13"
          ],
          [
           "Faisal Javed Khan",
           "@FaisalJavedKhan",
           1125,
           1340,
           "2011/03/04"
          ],
          [
           "Dilsedesh",
           "@Dilsedesh",
           1,
           1346,
           "2016/03/16"
          ],
          [
           "Sputnik Türkiye",
           "@sputnik_TR",
           6,
           17,
           "2011/11/30"
          ],
          [
           "Syeda Trimzi",
           "@TrimiziiiSyeda",
           46,
           2126,
           "2019/09/05"
          ],
          [
           "Rupin Sharma IPS",
           "@rupin1992",
           87,
           2184,
           "2016/11/02"
          ],
          [
           "Pinol El Original",
           "@PinolElOriginal",
           3,
           1524,
           "2010/03/19"
          ],
          [
           "HELIOS",
           "@helios_en",
           26,
           34,
           "2014/08/30"
          ],
          [
           "NBS Television",
           "@nbstv",
           338,
           210,
           "2011/07/29"
          ],
          [
           "1m98",
           "@SoufOff",
           136,
           35,
           "2019/06/28"
          ],
          [
           "Lijian Zhao 赵立坚",
           "@zlj517",
           6937,
           174817,
           "2010/05/08"
          ],
          [
           "moises ávila roldán",
           "@moyavila",
           22,
           4182,
           "2009/08/21"
          ],
          [
           "Harrison",
           "@harri_010",
           8,
           17895,
           "2012/07/26"
          ],
          [
           "Madonna",
           "@Madonna",
           2563,
           45,
           "2012/03/03"
          ],
          [
           "BlackSabbath",
           "@BlackSabbath",
           13946,
           15,
           "2011/01/11"
          ],
          [
           "Marco Rubio",
           "@marcorubio",
           1868,
           2483,
           "2008/08/06"
          ],
          [
           "Joanna",
           "@JoannaGrams",
           3,
           292,
           "2009/08/31"
          ],
          [
           "Portal Drauzio",
           "@drauziovarella",
           715,
           373,
           "2009/10/22"
          ],
          [
           "Famiyesin Mike",
           "@MikeFamiyesin",
           4,
           1237,
           "2013/03/06"
          ],
          [
           "Sharafat Hussain",
           "@Sharafa10041128",
           0,
           117,
           "2019/08/17"
          ],
          [
           "KKMalaysia🇲🇾",
           "@KKMPutrajaya",
           1634,
           97,
           "2012/03/20"
          ],
          [
           "Adela Micha",
           "@Adela_Micha",
           34,
           585,
           "2009/09/01"
          ],
          [
           "أفكار مذهلة",
           "@facts4444",
           36,
           22,
           "2018/10/21"
          ],
          [
           "حقائق مذهلة",
           "@facts444",
           1722,
           60,
           "2014/01/18"
          ],
          [
           "هكر المجتمع  🌎",
           "@ksa_hk23",
           11,
           594,
           "2014/08/05"
          ],
          [
           "Paolo A. Ascierto",
           "@PAscierto",
           78,
           253,
           "2012/03/13"
          ],
          [
           "World Health Organization (WHO)",
           "@WHO",
           441,
           1734,
           "2008/04/23"
          ],
          [
           "Makemery",
           "@Mous_taffe",
           9820,
           380,
           "2016/04/08"
          ],
          [
           "Aeronautica Militare",
           "@ItalianAirForce",
           2522,
           428,
           "2013/03/19"
          ],
          [
           "Kim Kardashian West",
           "@KimKardashian",
           45081,
           121,
           "2009/03/19"
          ],
          [
           "Trump War Room",
           "@TrumpWarRoom",
           4153,
           267,
           "2019/03/20"
          ],
          [
           "Himanshu Kushwaha",
           "@Himansh91694280",
           42,
           168,
           "2018/11/21"
          ],
          [
           "Janne Riiheläinen 🇫🇮🏴󠁧󠁢󠁳󠁣󠁴󠁿🇪🇺",
           "@veitera",
           33,
           4931,
           "2012/10/23"
          ],
          [
           "Office of the Prime Minister - Ethiopia",
           "@PMEthiopia",
           103,
           72,
           "2018/11/04"
          ],
          [
           "Bundesagentur für Arbeit",
           "@Bundesagentur",
           1566,
           651,
           "2012/08/16"
          ],
          [
           "Greg Hunt",
           "@GregHuntMP",
           502,
           2734,
           "2009/07/27"
          ],
          [
           "Jean-Baptiste Jeangène Vilmer",
           "@jeangene_vilmer",
           132,
           2274,
           "2011/10/22"
          ],
          [
           "Government of Punjab",
           "@GovtofPunjabPK",
           15,
           154,
           "2018/08/20"
          ],
          [
           "Office of the Prime Minister - Ethiopia",
           "@PMEthiopia",
           149,
           72,
           "2018/11/04"
          ],
          [
           "MoH ETHIOPIA",
           "@FMoHealth",
           6,
           245,
           "2013/02/14"
          ],
          [
           "Ben Cowling",
           "@bencowling88",
           11,
           103,
           "2010/12/30"
          ],
          [
           "المنبع الاخباري",
           "@almanbae_news",
           0,
           0,
           "2016/10/01"
          ],
          [
           "Dr. Mohammad Ebrahim",
           "@mohebrahim85",
           226,
           1700,
           "2012/04/04"
          ],
          [
           "BBC NEWS فارسی",
           "@bbcpersian",
           49,
           13,
           "2007/02/23"
          ],
          [
           "People's Daily, China",
           "@PDChina",
           39,
           4377,
           "2011/05/23"
          ],
          [
           "BFMTV",
           "@BFMTV",
           26,
           583,
           "2010/04/16"
          ],
          [
           "Rep. Paul Gosar, DDS",
           "@RepGosar",
           253,
           4468,
           "2011/01/20"
          ],
          [
           "Ursula von der Leyen",
           "@vonderleyen",
           1625,
           158,
           "2019/07/03"
          ],
          [
           "Sir H͓͓͓̽̽̽E͓͓̽̽N͓̽RY™",
           "@SirHenryKau",
           1622,
           54952,
           "2016/08/13"
          ],
          [
           "Ursula von der Leyen",
           "@vonderleyen",
           2963,
           158,
           "2019/07/03"
          ],
          [
           "Alejandro Balsells Conde",
           "@Alex_balsells",
           31,
           8037,
           "2011/12/30"
          ],
          [
           "Zafar Mirza",
           "@zfrmrza",
           896,
           281,
           "2009/07/11"
          ],
          [
           "CGTN",
           "@CGTNOfficial",
           8251,
           70,
           "2013/01/24"
          ],
          [
           "Mrs S",
           "@MRSS11224611",
           6,
           1959,
           "2019/09/16"
          ],
          [
           "H o l l y",
           "@hollyhaygood",
           9,
           6677,
           "2009/06/22"
          ],
          [
           "Hôpital d'Argenteuil (officiel)",
           "@CH_Argenteuil",
           40,
           218,
           "2018/10/15"
          ],
          [
           "Matteo Salvini",
           "@matteosalvinimi",
           766,
           2007,
           "2011/03/23"
          ],
          [
           "Brendan Larsen",
           "@bblarsen1",
           48,
           376,
           "2016/05/25"
          ],
          [
           "Amy Cheng",
           "@Taihoku1895",
           42,
           470,
           "2019/05/01"
          ],
          [
           "John Nelson",
           "@Attila70260000",
           0,
           550,
           "2019/09/02"
          ],
          [
           "MR.486",
           "@kiss486",
           228,
           2536,
           "2009/12/16"
          ],
          [
           "The_Web_Warrior",
           "@The_Web_Warrior",
           0,
           748,
           "2019/10/09"
          ],
          [
           "nerd",
           "@nerd_hawk",
           1252,
           252,
           "2009/06/26"
          ],
          [
           "Gobernación del Tolima",
           "@gobertolima",
           11,
           427,
           "2009/09/21"
          ],
          [
           "MinSaludCol",
           "@MinSaludCol",
           40,
           814,
           "2011/09/11"
          ],
          [
           "Aduma Mutiva",
           "@nepmutiva",
           431,
           8524,
           "2013/01/29"
          ],
          [
           "Farhang F. Namdar",
           "@FarhangNamdar",
           1032,
           24634,
           "2017/03/02"
          ],
          [
           "กระทรวงสาธารณสุข",
           "@pr_moph",
           247,
           494,
           "2010/05/14"
          ],
          [
           "Aaron Rupar",
           "@atrupar",
           5521,
           998,
           "2011/04/26"
          ],
          [
           "Dana Milbank",
           "@Milbank",
           32646,
           1101,
           "2009/01/27"
          ],
          [
           "Department of Health and Social Care",
           "@DHSCgovuk",
           383,
           852,
           "2009/05/05"
          ],
          [
           "Dr. Fahrettin Koca",
           "@drfahrettinkoca",
           1473,
           28,
           "2018/07/09"
          ],
          [
           "Aaron Rupar",
           "@atrupar",
           4725,
           998,
           "2011/04/26"
          ],
          [
           "BabyKay🍒",
           "@kaym0na3",
           13,
           170,
           "2017/10/30"
          ],
          [
           "tyler pazar",
           "@tylerpazar",
           8,
           20,
           "2012/08/05"
          ],
          [
           "The White House 45 Archived",
           "@WhiteHouse45",
           1339,
           11,
           "2017/01/19"
          ],
          [
           "Rep. Matt Gaetz",
           "@RepMattGaetz",
           2642,
           861,
           "2017/01/10"
          ],
          [
           "Newsmax",
           "@newsmax",
           142,
           568,
           "2009/02/10"
          ],
          [
           "James Woods",
           "@RealJamesWoods",
           6145,
           4407,
           "2009/09/30"
          ],
          [
           "Hey Jude voting makes a sad song better",
           "@BostonJudy3",
           6199,
           13060,
           "2019/02/25"
          ],
          [
           "Buca di Beppo",
           "@bucadibeppo",
           1,
           9587,
           "2010/02/11"
          ],
          [
           "Stephanie Ruhle",
           "@SRuhle",
           10053,
           1651,
           "2011/09/30"
          ],
          [
           "Kalyan Varma",
           "@KalyanVarma",
           25,
           1063,
           "2008/04/17"
          ],
          [
           "Gianluca",
           "@lukeskila",
           11855,
           346,
           "2016/10/11"
          ],
          [
           "Kendall Brown",
           "@kendallybrown",
           35243,
           4523,
           "2009/02/08"
          ],
          [
           "Keira Savage",
           "@KeiraSavage00",
           140,
           1617,
           "2014/03/23"
          ],
          [
           "Rex Chapman🏇🏼",
           "@RexChapman",
           98133,
           22091,
           "2011/06/27"
          ],
          [
           "Molly Shah",
           "@MollyOShah",
           14799,
           860,
           "2008/08/09"
          ],
          [
           "Elon Musk",
           "@elonmusk",
           63440,
           103,
           "2009/06/02"
          ],
          [
           "robertklemko",
           "@RobertKlemko",
           160392,
           2369,
           "2010/11/21"
          ],
          [
           "TjSingh",
           "@covsinghtj",
           5824,
           470,
           "2009/12/11"
          ],
          [
           "Jason Miller",
           "@JasonLikesIowa",
           2,
           223,
           "2019/09/18"
          ],
          [
           "Mavr",
           "@Myrkulite",
           3,
           1303,
           "2014/10/15"
          ],
          [
           "Harbhajan Turbanator",
           "@harbhajan_singh",
           2105,
           147,
           "2009/11/27"
          ],
          [
           "Parveen Kaswan, IFS",
           "@ParveenKaswan",
           74,
           385,
           "2013/01/01"
          ],
          [
           "Hillary Clinton",
           "@HillaryClinton",
           22825,
           919,
           "2013/04/09"
          ],
          [
           "Nick Hinton",
           "@NickHintonn",
           3283,
           522,
           "2011/06/25"
          ],
          [
           "Elon Musk",
           "@elonmusk",
           7832,
           103,
           "2009/06/02"
          ],
          [
           "Daily Mail US",
           "@DailyMail",
           41,
           1815,
           "2011/09/26"
          ],
          [
           "NowThis",
           "@nowthisnews",
           31498,
           11757,
           "2012/07/17"
          ],
          [
           "Jimmy Cuadros",
           "@cuadrosr",
           23,
           1446,
           "2012/03/26"
          ],
          [
           "Anshul Chopra",
           "@anshulchopraa",
           2571,
           8,
           "2019/11/03"
          ],
          [
           "Mara Carfagna",
           "@mara_carfagna",
           146,
           1811,
           "2010/01/13"
          ],
          [
           "John McAfee",
           "@officialmcafee",
           3017,
           14124,
           "2012/11/21"
          ],
          [
           "aperiozar",
           "@aperiozar",
           2,
           1822,
           "2009/01/03"
          ],
          [
           "Dón Grieshnak",
           "@DGrieshnak",
           9774,
           222,
           "2019/02/19"
          ],
          [
           "西村幸祐",
           "@kohyu1952",
           302,
           3355,
           "2010/01/29"
          ],
          [
           "Daily Mail Online",
           "@MailOnline",
           39,
           2239,
           "2008/07/15"
          ],
          [
           "Josh Marshall",
           "@joshtpm",
           1455,
           835,
           "2009/02/19"
          ],
          [
           "John McAfee",
           "@officialmcafee",
           219,
           14124,
           "2012/11/21"
          ],
          [
           "Jake 🌏",
           "@morphonios",
           3093,
           337,
           "2009/06/05"
          ],
          [
           "Romaan Shaikh",
           "@RUMAANSHAIKH",
           319,
           4336,
           "2010/12/23"
          ],
          [
           "西村幸祐",
           "@kohyu1952",
           3125,
           3355,
           "2010/01/29"
          ],
          [
           "Steny (Wear a Mask) Hoyer",
           "@LeaderHoyer",
           7,
           5236,
           "2009/02/26"
          ],
          [
           "Jon Cooper 🇺🇸",
           "@joncoopertweets",
           18741,
           51599,
           "2009/03/29"
          ]
         ],
         "hovertemplate": "Type of tweet=partially false<br>Date=%{x}<br>Followers count=%{y}<br>Tweet Retweets count=%{customdata[2]}<br>Name=%{customdata[0]}<br>Username=%{customdata[1]}<br>Friends count=%{customdata[3]}<br>Account created on=%{customdata[4]}<extra></extra>",
         "legendgroup": "partially false",
         "marker": {
          "color": "#EF553B",
          "line": {
           "color": "DarkSlateGrey",
           "width": 1
          },
          "opacity": 0.8,
          "size": [
           297,
           26,
           840,
           5,
           66,
           12,
           664,
           220,
           48,
           37,
           511,
           27,
           128,
           459,
           194,
           25,
           72,
           0,
           432,
           34,
           0,
           137,
           33,
           326,
           41,
           121,
           179,
           204,
           2,
           0,
           2,
           55,
           446,
           142,
           209,
           3,
           21,
           17,
           32,
           4,
           0,
           746,
           7,
           11,
           147,
           375,
           775,
           529,
           461,
           74,
           93,
           241,
           64398,
           2,
           289,
           793,
           22,
           694,
           13,
           3,
           7,
           378,
           22688,
           94948,
           1473,
           305,
           125,
           0,
           4,
           1,
           22,
           312,
           283,
           20,
           2269,
           0,
           88,
           857,
           474,
           48,
           688,
           393,
           2452,
           1238,
           15,
           0,
           1,
           621,
           1646,
           163,
           67,
           3888,
           32,
           44,
           6,
           5,
           109,
           658,
           195,
           295,
           1526,
           106,
           41,
           43,
           3950,
           1550,
           22,
           105,
           49,
           1752,
           8,
           8,
           3484,
           156,
           105,
           4,
           1052,
           26,
           8957,
           3115,
           0,
           459,
           1236,
           102,
           26,
           10,
           160,
           460,
           524,
           27,
           142,
           109,
           104,
           368,
           5,
           2540,
           293,
           82,
           79,
           11,
           537,
           1298,
           2,
           0,
           0,
           0,
           59,
           382,
           41,
           109,
           188,
           151,
           2083,
           6928,
           18405,
           12,
           419,
           7,
           19,
           6,
           19,
           0,
           896,
           82,
           0,
           2,
           605,
           8745,
           3188,
           161,
           1125,
           1,
           6,
           46,
           87,
           3,
           26,
           338,
           136,
           6937,
           22,
           8,
           2563,
           13946,
           1868,
           3,
           715,
           4,
           0,
           1634,
           34,
           36,
           1722,
           11,
           78,
           441,
           9820,
           2522,
           45081,
           4153,
           42,
           33,
           103,
           1566,
           502,
           132,
           15,
           149,
           6,
           11,
           0,
           226,
           49,
           39,
           26,
           253,
           1625,
           1622,
           2963,
           31,
           896,
           8251,
           6,
           9,
           40,
           766,
           48,
           42,
           0,
           228,
           0,
           1252,
           11,
           40,
           431,
           1032,
           247,
           5521,
           32646,
           383,
           1473,
           4725,
           13,
           8,
           1339,
           2642,
           142,
           6145,
           6199,
           1,
           10053,
           25,
           11855,
           35243,
           140,
           98133,
           14799,
           63440,
           160392,
           5824,
           2,
           3,
           2105,
           74,
           22825,
           3283,
           7832,
           41,
           31498,
           23,
           2571,
           146,
           3017,
           2,
           9774,
           302,
           39,
           1455,
           219,
           3093,
           319,
           3125,
           7,
           18741
          ],
          "sizemode": "area",
          "sizeref": 516.015,
          "symbol": "circle"
         },
         "mode": "markers",
         "name": "partially false",
         "showlegend": true,
         "type": "scattergl",
         "x": [
          "2020-03-04T00:00:00",
          "2020-03-27T00:00:00",
          "2020-05-06T00:00:00",
          "2020-05-19T00:00:00",
          "2020-05-26T00:00:00",
          "2020-05-26T00:00:00",
          "2020-05-27T00:00:00",
          "2020-05-27T00:00:00",
          "2020-05-27T00:00:00",
          "2020-06-01T00:00:00",
          "2020-06-08T00:00:00",
          "2020-06-08T00:00:00",
          "2020-06-11T00:00:00",
          "2020-06-13T00:00:00",
          "2020-06-14T00:00:00",
          "2020-06-24T00:00:00",
          "2020-06-25T00:00:00",
          "2020-06-26T00:00:00",
          "2020-06-30T00:00:00",
          "2020-06-30T00:00:00",
          "2020-07-01T00:00:00",
          "2020-07-08T00:00:00",
          "2020-07-18T00:00:00",
          "2020-07-18T00:00:00",
          "2020-08-07T00:00:00",
          "2020-08-11T00:00:00",
          "2020-08-12T00:00:00",
          "2020-08-13T00:00:00",
          "2020-01-16T00:00:00",
          "2020-01-16T00:00:00",
          "2020-04-12T00:00:00",
          "2020-04-15T00:00:00",
          "2020-05-02T00:00:00",
          "2020-05-18T00:00:00",
          "2020-05-18T00:00:00",
          "2020-05-19T00:00:00",
          "2020-05-20T00:00:00",
          "2020-05-25T00:00:00",
          "2020-05-26T00:00:00",
          "2020-05-26T00:00:00",
          "2020-05-27T00:00:00",
          "2020-05-27T00:00:00",
          "2020-06-02T00:00:00",
          "2020-06-04T00:00:00",
          "2020-06-08T00:00:00",
          "2020-06-09T00:00:00",
          "2020-08-06T00:00:00",
          "2020-08-11T00:00:00",
          "2020-02-16T00:00:00",
          "2020-04-20T00:00:00",
          "2020-05-08T00:00:00",
          "2020-05-11T00:00:00",
          "2020-05-12T00:00:00",
          "2020-05-12T00:00:00",
          "2020-05-12T00:00:00",
          "2020-05-15T00:00:00",
          "2020-05-19T00:00:00",
          "2020-05-21T00:00:00",
          "2020-05-25T00:00:00",
          "2020-05-26T00:00:00",
          "2020-08-09T00:00:00",
          "2020-08-11T00:00:00",
          "2020-01-14T00:00:00",
          "2020-03-22T00:00:00",
          "2020-03-30T00:00:00",
          "2020-04-10T00:00:00",
          "2020-05-20T00:00:00",
          "2020-05-23T00:00:00",
          "2020-05-23T00:00:00",
          "2020-05-26T00:00:00",
          "2020-05-27T00:00:00",
          "2020-08-03T00:00:00",
          "2020-08-27T00:00:00",
          "2020-08-27T00:00:00",
          "2020-03-22T00:00:00",
          "2020-03-23T00:00:00",
          "2020-03-23T00:00:00",
          "2020-04-18T00:00:00",
          "2020-04-19T00:00:00",
          "2020-04-20T00:00:00",
          "2020-04-22T00:00:00",
          "2020-04-26T00:00:00",
          "2020-04-26T00:00:00",
          "2020-04-27T00:00:00",
          "2020-05-04T00:00:00",
          "2020-05-07T00:00:00",
          "2020-05-22T00:00:00",
          "2020-08-27T00:00:00",
          "2020-08-27T00:00:00",
          "2020-01-19T00:00:00",
          "2020-01-21T00:00:00",
          "2020-03-20T00:00:00",
          "2020-03-21T00:00:00",
          "2020-03-28T00:00:00",
          "2020-04-03T00:00:00",
          "2020-04-04T00:00:00",
          "2020-04-13T00:00:00",
          "2020-04-16T00:00:00",
          "2020-04-21T00:00:00",
          "2020-04-21T00:00:00",
          "2020-04-26T00:00:00",
          "2020-07-30T00:00:00",
          "2020-07-30T00:00:00",
          "2020-03-18T00:00:00",
          "2020-03-20T00:00:00",
          "2020-03-21T00:00:00",
          "2020-03-22T00:00:00",
          "2020-03-28T00:00:00",
          "2020-03-28T00:00:00",
          "2020-04-05T00:00:00",
          "2020-04-07T00:00:00",
          "2020-04-08T00:00:00",
          "2020-04-15T00:00:00",
          "2020-07-02T00:00:00",
          "2020-02-29T00:00:00",
          "2020-03-19T00:00:00",
          "2020-03-30T00:00:00",
          "2020-03-31T00:00:00",
          "2020-04-01T00:00:00",
          "2020-04-02T00:00:00",
          "2020-04-03T00:00:00",
          "2020-04-03T00:00:00",
          "2020-04-03T00:00:00",
          "2020-04-04T00:00:00",
          "2020-04-06T00:00:00",
          "2020-04-06T00:00:00",
          "2020-02-08T00:00:00",
          "2020-02-26T00:00:00",
          "2020-03-16T00:00:00",
          "2020-03-18T00:00:00",
          "2020-03-19T00:00:00",
          "2020-03-20T00:00:00",
          "2020-03-21T00:00:00",
          "2020-03-21T00:00:00",
          "2020-03-21T00:00:00",
          "2020-03-22T00:00:00",
          "2020-03-22T00:00:00",
          "2020-03-23T00:00:00",
          "2020-03-24T00:00:00",
          "2020-03-26T00:00:00",
          "2020-03-26T00:00:00",
          "2020-03-30T00:00:00",
          "2020-03-30T00:00:00",
          "2020-03-31T00:00:00",
          "2020-04-03T00:00:00",
          "2020-04-04T00:00:00",
          "2020-04-04T00:00:00",
          "2020-04-06T00:00:00",
          "2020-04-08T00:00:00",
          "2020-06-03T00:00:00",
          "2020-06-18T00:00:00",
          "2020-06-18T00:00:00",
          "2020-03-12T00:00:00",
          "2020-03-14T00:00:00",
          "2020-03-18T00:00:00",
          "2020-03-19T00:00:00",
          "2020-03-19T00:00:00",
          "2020-03-20T00:00:00",
          "2020-03-20T00:00:00",
          "2020-03-21T00:00:00",
          "2020-03-21T00:00:00",
          "2020-03-22T00:00:00",
          "2020-03-22T00:00:00",
          "2020-03-22T00:00:00",
          "2020-03-24T00:00:00",
          "2020-03-24T00:00:00",
          "2020-03-25T00:00:00",
          "2020-03-25T00:00:00",
          "2020-03-25T00:00:00",
          "2020-03-26T00:00:00",
          "2020-03-27T00:00:00",
          "2020-03-27T00:00:00",
          "2020-06-05T00:00:00",
          "2020-06-12T00:00:00",
          "2020-08-18T00:00:00",
          "2020-02-12T00:00:00",
          "2020-02-25T00:00:00",
          "2020-03-08T00:00:00",
          "2020-03-09T00:00:00",
          "2020-03-12T00:00:00",
          "2020-03-13T00:00:00",
          "2020-03-14T00:00:00",
          "2020-03-15T00:00:00",
          "2020-03-18T00:00:00",
          "2020-03-19T00:00:00",
          "2020-03-20T00:00:00",
          "2020-03-22T00:00:00",
          "2020-03-22T00:00:00",
          "2020-03-23T00:00:00",
          "2020-03-31T00:00:00",
          "2020-05-01T00:00:00",
          "2020-06-18T00:00:00",
          "2020-06-18T00:00:00",
          "2020-06-27T00:00:00",
          "2020-03-06T00:00:00",
          "2020-03-09T00:00:00",
          "2020-03-09T00:00:00",
          "2020-03-11T00:00:00",
          "2020-03-12T00:00:00",
          "2020-03-12T00:00:00",
          "2020-03-13T00:00:00",
          "2020-03-13T00:00:00",
          "2020-03-16T00:00:00",
          "2020-03-16T00:00:00",
          "2020-03-17T00:00:00",
          "2020-03-18T00:00:00",
          "2020-03-19T00:00:00",
          "2020-04-08T00:00:00",
          "2020-05-31T00:00:00",
          "2020-06-06T00:00:00",
          "2020-06-19T00:00:00",
          "2020-07-12T00:00:00",
          "2020-03-03T00:00:00",
          "2020-03-05T00:00:00",
          "2020-03-05T00:00:00",
          "2020-03-09T00:00:00",
          "2020-03-15T00:00:00",
          "2020-03-16T00:00:00",
          "2020-03-16T00:00:00",
          "2020-03-17T00:00:00",
          "2020-04-07T00:00:00",
          "2020-01-24T00:00:00",
          "2020-01-25T00:00:00",
          "2020-01-26T00:00:00",
          "2020-01-27T00:00:00",
          "2020-01-29T00:00:00",
          "2020-01-31T00:00:00",
          "2020-02-02T00:00:00",
          "2020-02-05T00:00:00",
          "2020-02-07T00:00:00",
          "2020-02-09T00:00:00",
          "2020-02-11T00:00:00",
          "2020-02-12T00:00:00",
          "2020-02-12T00:00:00",
          "2020-02-18T00:00:00",
          "2020-02-20T00:00:00",
          "2020-02-26T00:00:00",
          "2020-02-28T00:00:00",
          "2020-02-29T00:00:00",
          "2020-03-02T00:00:00",
          "2020-03-02T00:00:00",
          "2020-03-06T00:00:00",
          "2020-03-25T00:00:00",
          "2020-03-26T00:00:00",
          "2020-04-05T00:00:00",
          "2020-04-18T00:00:00",
          "2020-04-18T00:00:00",
          "2020-02-13T00:00:00",
          "2020-03-14T00:00:00",
          "2020-05-13T00:00:00",
          "2020-05-19T00:00:00",
          "2020-03-26T00:00:00",
          "2020-03-17T00:00:00",
          "2020-03-22T00:00:00",
          "2020-03-05T00:00:00",
          "2020-04-01T00:00:00",
          "2020-05-13T00:00:00",
          "2020-05-11T00:00:00",
          "2020-04-13T00:00:00",
          "2020-04-03T00:00:00",
          "2020-04-22T00:00:00",
          "2020-04-19T00:00:00",
          "2020-04-03T00:00:00",
          "2020-03-27T00:00:00",
          "2020-04-14T00:00:00",
          "2020-02-16T00:00:00",
          "2020-05-13T00:00:00",
          "2020-02-11T00:00:00",
          "2020-04-09T00:00:00",
          "2020-07-01T00:00:00",
          "2020-04-03T00:00:00",
          "2020-05-14T00:00:00",
          "2020-04-18T00:00:00",
          "2020-02-18T00:00:00",
          "2020-03-26T00:00:00",
          "2020-01-25T00:00:00",
          "2020-01-27T00:00:00",
          "2020-03-24T00:00:00",
          "2020-04-26T00:00:00",
          "2020-04-10T00:00:00",
          "2020-04-04T00:00:00",
          "2020-01-25T00:00:00",
          "2020-04-21T00:00:00",
          "2020-04-10T00:00:00"
         ],
         "xaxis": "x",
         "y": [
          11799,
          396420,
          308846,
          4060791,
          1693161,
          164057,
          94183,
          9982707,
          77148,
          6286,
          9191832,
          10477,
          1388,
          492088,
          393685,
          215385,
          142396,
          98,
          142396,
          89080,
          938,
          142396,
          215385,
          142396,
          4601,
          1441252,
          119150,
          32804,
          16522,
          16522,
          12537,
          9514,
          64076,
          149906,
          832902,
          2756,
          5970,
          31713,
          6742,
          11439,
          11439,
          94183,
          47625,
          5688,
          10477,
          9191833,
          91355,
          18345,
          31113,
          9191833,
          92710,
          383271,
          410418,
          8182,
          184613,
          2223,
          1371,
          39980,
          6365,
          355045,
          66995,
          242514,
          9191834,
          85478,
          30759,
          250383,
          3856,
          540,
          3842,
          3757,
          50142,
          9191834,
          20029,
          824563,
          2503545,
          1082,
          408739,
          110390,
          117531,
          405152,
          18629,
          134771,
          49861891,
          2610952,
          26352,
          60,
          1469,
          151994,
          79196,
          9191832,
          196491,
          6444,
          17654,
          86164,
          161605,
          51926,
          95277,
          56363,
          241822,
          241822,
          9280,
          1706,
          221939,
          1834707,
          5649,
          12284,
          2319,
          3327,
          1181,
          121666,
          858,
          7535,
          1054554,
          9402,
          408739,
          80169,
          5296402,
          23769,
          5296402,
          1290394,
          0,
          407629,
          309919,
          13174,
          58121,
          68688,
          84599,
          279183,
          43236,
          115713,
          409511,
          409511,
          409511,
          3928,
          195,
          184246,
          409511,
          409511,
          409511,
          71625,
          9191832,
          2271776,
          2983,
          516,
          1056,
          1473,
          5296402,
          2057,
          409511,
          9191832,
          9191832,
          9191832,
          1342556,
          996752,
          29747771,
          1509320,
          82435,
          9345869,
          14193,
          14193,
          5758,
          1973,
          402744,
          730515,
          557,
          2397,
          996752,
          6686535,
          4380398,
          407388,
          2238721,
          135252,
          1029469,
          8659,
          8869,
          5462,
          1714,
          764168,
          64,
          889141,
          3071,
          18472,
          2708943,
          2112563,
          4213727,
          1464,
          402775,
          333,
          23,
          1254163,
          4876074,
          37039,
          1511693,
          30672,
          1777,
          9191834,
          778,
          100937,
          69636842,
          1343875,
          30,
          9303,
          443476,
          11139,
          75746,
          7276,
          620562,
          443476,
          122888,
          7517,
          7262,
          9631,
          1582673,
          6992478,
          3040126,
          141726,
          561076,
          56735,
          561076,
          25176,
          238714,
          13638431,
          4539,
          6893,
          1117,
          1396826,
          414,
          20286,
          248,
          15958,
          214,
          398,
          17187,
          1441252,
          8228,
          27487,
          202923,
          664839,
          120034,
          710860,
          7050620,
          664839,
          246,
          11,
          26405734,
          1286123,
          862987,
          2416917,
          12812,
          19036,
          670995,
          13361,
          2132,
          21538,
          17348,
          1159147,
          3138,
          49861910,
          52219,
          485,
          58,
          390,
          11122607,
          264051,
          30962327,
          113077,
          49861910,
          331944,
          2759383,
          1901,
          403,
          229992,
          1050704,
          1396,
          1420,
          213553,
          2612131,
          359675,
          1050704,
          14949,
          1936,
          213553,
          157622,
          783107
         ],
         "yaxis": "y"
        }
       ],
       "layout": {
        "legend": {
         "itemsizing": "constant",
         "title": {
          "text": "Type of tweet"
         },
         "tracegroupgap": 0
        },
        "template": {
         "data": {
          "bar": [
           {
            "error_x": {
             "color": "#2a3f5f"
            },
            "error_y": {
             "color": "#2a3f5f"
            },
            "marker": {
             "line": {
              "color": "#E5ECF6",
              "width": 0.5
             }
            },
            "type": "bar"
           }
          ],
          "barpolar": [
           {
            "marker": {
             "line": {
              "color": "#E5ECF6",
              "width": 0.5
             }
            },
            "type": "barpolar"
           }
          ],
          "carpet": [
           {
            "aaxis": {
             "endlinecolor": "#2a3f5f",
             "gridcolor": "white",
             "linecolor": "white",
             "minorgridcolor": "white",
             "startlinecolor": "#2a3f5f"
            },
            "baxis": {
             "endlinecolor": "#2a3f5f",
             "gridcolor": "white",
             "linecolor": "white",
             "minorgridcolor": "white",
             "startlinecolor": "#2a3f5f"
            },
            "type": "carpet"
           }
          ],
          "choropleth": [
           {
            "colorbar": {
             "outlinewidth": 0,
             "ticks": ""
            },
            "type": "choropleth"
           }
          ],
          "contour": [
           {
            "colorbar": {
             "outlinewidth": 0,
             "ticks": ""
            },
            "colorscale": [
             [
              0,
              "#0d0887"
             ],
             [
              0.1111111111111111,
              "#46039f"
             ],
             [
              0.2222222222222222,
              "#7201a8"
             ],
             [
              0.3333333333333333,
              "#9c179e"
             ],
             [
              0.4444444444444444,
              "#bd3786"
             ],
             [
              0.5555555555555556,
              "#d8576b"
             ],
             [
              0.6666666666666666,
              "#ed7953"
             ],
             [
              0.7777777777777778,
              "#fb9f3a"
             ],
             [
              0.8888888888888888,
              "#fdca26"
             ],
             [
              1,
              "#f0f921"
             ]
            ],
            "type": "contour"
           }
          ],
          "contourcarpet": [
           {
            "colorbar": {
             "outlinewidth": 0,
             "ticks": ""
            },
            "type": "contourcarpet"
           }
          ],
          "heatmap": [
           {
            "colorbar": {
             "outlinewidth": 0,
             "ticks": ""
            },
            "colorscale": [
             [
              0,
              "#0d0887"
             ],
             [
              0.1111111111111111,
              "#46039f"
             ],
             [
              0.2222222222222222,
              "#7201a8"
             ],
             [
              0.3333333333333333,
              "#9c179e"
             ],
             [
              0.4444444444444444,
              "#bd3786"
             ],
             [
              0.5555555555555556,
              "#d8576b"
             ],
             [
              0.6666666666666666,
              "#ed7953"
             ],
             [
              0.7777777777777778,
              "#fb9f3a"
             ],
             [
              0.8888888888888888,
              "#fdca26"
             ],
             [
              1,
              "#f0f921"
             ]
            ],
            "type": "heatmap"
           }
          ],
          "heatmapgl": [
           {
            "colorbar": {
             "outlinewidth": 0,
             "ticks": ""
            },
            "colorscale": [
             [
              0,
              "#0d0887"
             ],
             [
              0.1111111111111111,
              "#46039f"
             ],
             [
              0.2222222222222222,
              "#7201a8"
             ],
             [
              0.3333333333333333,
              "#9c179e"
             ],
             [
              0.4444444444444444,
              "#bd3786"
             ],
             [
              0.5555555555555556,
              "#d8576b"
             ],
             [
              0.6666666666666666,
              "#ed7953"
             ],
             [
              0.7777777777777778,
              "#fb9f3a"
             ],
             [
              0.8888888888888888,
              "#fdca26"
             ],
             [
              1,
              "#f0f921"
             ]
            ],
            "type": "heatmapgl"
           }
          ],
          "histogram": [
           {
            "marker": {
             "colorbar": {
              "outlinewidth": 0,
              "ticks": ""
             }
            },
            "type": "histogram"
           }
          ],
          "histogram2d": [
           {
            "colorbar": {
             "outlinewidth": 0,
             "ticks": ""
            },
            "colorscale": [
             [
              0,
              "#0d0887"
             ],
             [
              0.1111111111111111,
              "#46039f"
             ],
             [
              0.2222222222222222,
              "#7201a8"
             ],
             [
              0.3333333333333333,
              "#9c179e"
             ],
             [
              0.4444444444444444,
              "#bd3786"
             ],
             [
              0.5555555555555556,
              "#d8576b"
             ],
             [
              0.6666666666666666,
              "#ed7953"
             ],
             [
              0.7777777777777778,
              "#fb9f3a"
             ],
             [
              0.8888888888888888,
              "#fdca26"
             ],
             [
              1,
              "#f0f921"
             ]
            ],
            "type": "histogram2d"
           }
          ],
          "histogram2dcontour": [
           {
            "colorbar": {
             "outlinewidth": 0,
             "ticks": ""
            },
            "colorscale": [
             [
              0,
              "#0d0887"
             ],
             [
              0.1111111111111111,
              "#46039f"
             ],
             [
              0.2222222222222222,
              "#7201a8"
             ],
             [
              0.3333333333333333,
              "#9c179e"
             ],
             [
              0.4444444444444444,
              "#bd3786"
             ],
             [
              0.5555555555555556,
              "#d8576b"
             ],
             [
              0.6666666666666666,
              "#ed7953"
             ],
             [
              0.7777777777777778,
              "#fb9f3a"
             ],
             [
              0.8888888888888888,
              "#fdca26"
             ],
             [
              1,
              "#f0f921"
             ]
            ],
            "type": "histogram2dcontour"
           }
          ],
          "mesh3d": [
           {
            "colorbar": {
             "outlinewidth": 0,
             "ticks": ""
            },
            "type": "mesh3d"
           }
          ],
          "parcoords": [
           {
            "line": {
             "colorbar": {
              "outlinewidth": 0,
              "ticks": ""
             }
            },
            "type": "parcoords"
           }
          ],
          "pie": [
           {
            "automargin": true,
            "type": "pie"
           }
          ],
          "scatter": [
           {
            "marker": {
             "colorbar": {
              "outlinewidth": 0,
              "ticks": ""
             }
            },
            "type": "scatter"
           }
          ],
          "scatter3d": [
           {
            "line": {
             "colorbar": {
              "outlinewidth": 0,
              "ticks": ""
             }
            },
            "marker": {
             "colorbar": {
              "outlinewidth": 0,
              "ticks": ""
             }
            },
            "type": "scatter3d"
           }
          ],
          "scattercarpet": [
           {
            "marker": {
             "colorbar": {
              "outlinewidth": 0,
              "ticks": ""
             }
            },
            "type": "scattercarpet"
           }
          ],
          "scattergeo": [
           {
            "marker": {
             "colorbar": {
              "outlinewidth": 0,
              "ticks": ""
             }
            },
            "type": "scattergeo"
           }
          ],
          "scattergl": [
           {
            "marker": {
             "colorbar": {
              "outlinewidth": 0,
              "ticks": ""
             }
            },
            "type": "scattergl"
           }
          ],
          "scattermapbox": [
           {
            "marker": {
             "colorbar": {
              "outlinewidth": 0,
              "ticks": ""
             }
            },
            "type": "scattermapbox"
           }
          ],
          "scatterpolar": [
           {
            "marker": {
             "colorbar": {
              "outlinewidth": 0,
              "ticks": ""
             }
            },
            "type": "scatterpolar"
           }
          ],
          "scatterpolargl": [
           {
            "marker": {
             "colorbar": {
              "outlinewidth": 0,
              "ticks": ""
             }
            },
            "type": "scatterpolargl"
           }
          ],
          "scatterternary": [
           {
            "marker": {
             "colorbar": {
              "outlinewidth": 0,
              "ticks": ""
             }
            },
            "type": "scatterternary"
           }
          ],
          "surface": [
           {
            "colorbar": {
             "outlinewidth": 0,
             "ticks": ""
            },
            "colorscale": [
             [
              0,
              "#0d0887"
             ],
             [
              0.1111111111111111,
              "#46039f"
             ],
             [
              0.2222222222222222,
              "#7201a8"
             ],
             [
              0.3333333333333333,
              "#9c179e"
             ],
             [
              0.4444444444444444,
              "#bd3786"
             ],
             [
              0.5555555555555556,
              "#d8576b"
             ],
             [
              0.6666666666666666,
              "#ed7953"
             ],
             [
              0.7777777777777778,
              "#fb9f3a"
             ],
             [
              0.8888888888888888,
              "#fdca26"
             ],
             [
              1,
              "#f0f921"
             ]
            ],
            "type": "surface"
           }
          ],
          "table": [
           {
            "cells": {
             "fill": {
              "color": "#EBF0F8"
             },
             "line": {
              "color": "white"
             }
            },
            "header": {
             "fill": {
              "color": "#C8D4E3"
             },
             "line": {
              "color": "white"
             }
            },
            "type": "table"
           }
          ]
         },
         "layout": {
          "annotationdefaults": {
           "arrowcolor": "#2a3f5f",
           "arrowhead": 0,
           "arrowwidth": 1
          },
          "autotypenumbers": "strict",
          "coloraxis": {
           "colorbar": {
            "outlinewidth": 0,
            "ticks": ""
           }
          },
          "colorscale": {
           "diverging": [
            [
             0,
             "#8e0152"
            ],
            [
             0.1,
             "#c51b7d"
            ],
            [
             0.2,
             "#de77ae"
            ],
            [
             0.3,
             "#f1b6da"
            ],
            [
             0.4,
             "#fde0ef"
            ],
            [
             0.5,
             "#f7f7f7"
            ],
            [
             0.6,
             "#e6f5d0"
            ],
            [
             0.7,
             "#b8e186"
            ],
            [
             0.8,
             "#7fbc41"
            ],
            [
             0.9,
             "#4d9221"
            ],
            [
             1,
             "#276419"
            ]
           ],
           "sequential": [
            [
             0,
             "#0d0887"
            ],
            [
             0.1111111111111111,
             "#46039f"
            ],
            [
             0.2222222222222222,
             "#7201a8"
            ],
            [
             0.3333333333333333,
             "#9c179e"
            ],
            [
             0.4444444444444444,
             "#bd3786"
            ],
            [
             0.5555555555555556,
             "#d8576b"
            ],
            [
             0.6666666666666666,
             "#ed7953"
            ],
            [
             0.7777777777777778,
             "#fb9f3a"
            ],
            [
             0.8888888888888888,
             "#fdca26"
            ],
            [
             1,
             "#f0f921"
            ]
           ],
           "sequentialminus": [
            [
             0,
             "#0d0887"
            ],
            [
             0.1111111111111111,
             "#46039f"
            ],
            [
             0.2222222222222222,
             "#7201a8"
            ],
            [
             0.3333333333333333,
             "#9c179e"
            ],
            [
             0.4444444444444444,
             "#bd3786"
            ],
            [
             0.5555555555555556,
             "#d8576b"
            ],
            [
             0.6666666666666666,
             "#ed7953"
            ],
            [
             0.7777777777777778,
             "#fb9f3a"
            ],
            [
             0.8888888888888888,
             "#fdca26"
            ],
            [
             1,
             "#f0f921"
            ]
           ]
          },
          "colorway": [
           "#636efa",
           "#EF553B",
           "#00cc96",
           "#ab63fa",
           "#FFA15A",
           "#19d3f3",
           "#FF6692",
           "#B6E880",
           "#FF97FF",
           "#FECB52"
          ],
          "font": {
           "color": "#2a3f5f"
          },
          "geo": {
           "bgcolor": "white",
           "lakecolor": "white",
           "landcolor": "#E5ECF6",
           "showlakes": true,
           "showland": true,
           "subunitcolor": "white"
          },
          "hoverlabel": {
           "align": "left"
          },
          "hovermode": "closest",
          "mapbox": {
           "style": "light"
          },
          "paper_bgcolor": "white",
          "plot_bgcolor": "#E5ECF6",
          "polar": {
           "angularaxis": {
            "gridcolor": "white",
            "linecolor": "white",
            "ticks": ""
           },
           "bgcolor": "#E5ECF6",
           "radialaxis": {
            "gridcolor": "white",
            "linecolor": "white",
            "ticks": ""
           }
          },
          "scene": {
           "xaxis": {
            "backgroundcolor": "#E5ECF6",
            "gridcolor": "white",
            "gridwidth": 2,
            "linecolor": "white",
            "showbackground": true,
            "ticks": "",
            "zerolinecolor": "white"
           },
           "yaxis": {
            "backgroundcolor": "#E5ECF6",
            "gridcolor": "white",
            "gridwidth": 2,
            "linecolor": "white",
            "showbackground": true,
            "ticks": "",
            "zerolinecolor": "white"
           },
           "zaxis": {
            "backgroundcolor": "#E5ECF6",
            "gridcolor": "white",
            "gridwidth": 2,
            "linecolor": "white",
            "showbackground": true,
            "ticks": "",
            "zerolinecolor": "white"
           }
          },
          "shapedefaults": {
           "line": {
            "color": "#2a3f5f"
           }
          },
          "ternary": {
           "aaxis": {
            "gridcolor": "white",
            "linecolor": "white",
            "ticks": ""
           },
           "baxis": {
            "gridcolor": "white",
            "linecolor": "white",
            "ticks": ""
           },
           "bgcolor": "#E5ECF6",
           "caxis": {
            "gridcolor": "white",
            "linecolor": "white",
            "ticks": ""
           }
          },
          "title": {
           "x": 0.05
          },
          "xaxis": {
           "automargin": true,
           "gridcolor": "white",
           "linecolor": "white",
           "ticks": "",
           "title": {
            "standoff": 15
           },
           "zerolinecolor": "white",
           "zerolinewidth": 2
          },
          "yaxis": {
           "automargin": true,
           "gridcolor": "white",
           "linecolor": "white",
           "ticks": "",
           "title": {
            "standoff": 15
           },
           "zerolinecolor": "white",
           "zerolinewidth": 2
          }
         }
        },
        "title": {
         "text": "Popularity of account - Fake Covid-19 dataset (Size of the bubbles based on tweet retweets count)"
        },
        "xaxis": {
         "anchor": "y",
         "domain": [
          0,
          1
         ],
         "tickcolor": "crimson",
         "ticklen": 10,
         "ticks": "outside",
         "tickwidth": 2,
         "title": {
          "text": "Date"
         }
        },
        "yaxis": {
         "anchor": "x",
         "domain": [
          0,
          1
         ],
         "fixedrange": true,
         "tickcolor": "crimson",
         "ticklen": 10,
         "ticks": "outside",
         "tickwidth": 2,
         "title": {
          "text": "Followers count"
         },
         "type": "log"
        }
       }
      },
      "text/html": [
       "<div>                            <div id=\"dccb3c58-fa78-435c-ba5a-f1d1c842a0a8\" class=\"plotly-graph-div\" style=\"height:525px; width:100%;\"></div>            <script type=\"text/javascript\">                require([\"plotly\"], function(Plotly) {                    window.PLOTLYENV=window.PLOTLYENV || {};                                    if (document.getElementById(\"dccb3c58-fa78-435c-ba5a-f1d1c842a0a8\")) {                    Plotly.newPlot(                        \"dccb3c58-fa78-435c-ba5a-f1d1c842a0a8\",                        [{\"customdata\": [[\"World Health Organization (WHO)\", \"@WHO\", 277, 1734, \"2008/04/23\"], [\"World Health Organization (WHO)\", \"@WHO\", 667, 1734, \"2008/04/23\"], [\"World Health Organization (WHO)\", \"@WHO\", 8678, 1734, \"2008/04/23\"], [\"Tedros Adhanom Ghebreyesus\", \"@DrTedros\", 494, 1206, \"2010/09/12\"], [\"Tedros Adhanom Ghebreyesus\", \"@DrTedros\", 27, 1206, \"2010/09/12\"], [\"World Health Organization (WHO)\", \"@WHO\", 2092, 1734, \"2008/04/23\"], [\"Tedros Adhanom Ghebreyesus\", \"@DrTedros\", 4356, 1206, \"2010/09/12\"], [\"Catherine Herridge\", \"@CBS_Herridge\", 341, 22, \"2019/11/18\"], [\"Muhammad Lila\", \"@MuhammadLila\", 114, 1111, \"2009/03/23\"], [\"Icahn School of Medicine at Mount Sinai\", \"@IcahnMountSinai\", 11, 1329, \"2013/03/14\"], [\"Bill Gates\", \"@BillGates\", 92746, 276, \"2009/06/24\"], [\"TRS Party\", \"@trspartyonline\", 49, 96, \"2014/03/06\"], [\"Sukhoi Su-57 Felon \\ud83c\\uddf7\\ud83c\\uddfa\\ud83c\\uddee\\ud83c\\uddf3\", \"@I30mki\", 58, 318, \"2018/06/30\"], [\"Scott Bauer\", \"@sbauerAP\", 212, 4750, \"2009/04/03\"], [\"Scott Bauer\", \"@sbauerAP\", 16, 4750, \"2009/04/03\"], [\"Edouard Philippe\", \"@EPhilippe_LH\", 956, 1021, \"2013/01/22\"], [\"Wizara ya Afya Tanzania\", \"@wizara_afyatz\", 55, 59, \"2015/02/19\"], [\"MALDITO BULO\", \"@malditobulo\", 30, 11, \"2016/11/30\"], [\"First India\", \"@thefirstindia\", 1, 225, \"2019/04/04\"], [\"Marin Driguez\", \"@Marindriguez\", 307, 111, \"2012/01/20\"], [\"L'infirmier \\ud83d\\udc99\", \"@Infirmier00\", 4022, 9547, \"2018/12/05\"], [\"WHO African Region\", \"@WHOAFRO\", 91, 583, \"2012/04/03\"], [\"Nightline\", \"@Nightline\", 204, 438, \"2009/01/29\"], [\"Nightline\", \"@Nightline\", 344, 438, \"2009/01/29\"], [\"Juju Chang\", \"@JujuChangABC\", 689, 2819, \"2009/01/13\"], [\"Public Citizen\", \"@Public_Citizen\", 1531, 7234, \"2008/04/08\"], [\"Anagha Acharya - \\u0905\\u0928\\u0918\\u093e \\u0906\\u091a\\u093e\\u0930\\u094d\\u092f\", \"@AnaghaAcharya\", 7, 1806, \"2013/07/19\"], [\"Seguran\\u00e7aSP\", \"@SegurancaSP\", 53, 60, \"2009/07/02\"], [\"Pol\\u00edcia Militar do Estado de S\\u00e3o Paulo\", \"@PMESP\", 610, 132, \"2009/08/06\"], [\"Emile Marzolf\", \"@emile_marzolf\", 2, 2217, \"2015/09/07\"], [\"SOS M\\u00e9dias Burundi\", \"@SOSMediasBDI\", 10, 357, \"2015/05/17\"], [\"Florida Rising\", \"@FLRising\", 1, 2453, \"2009/09/02\"], [\"Florida Rising\", \"@FLRising\", 6, 2453, \"2009/09/02\"], [\"TI DIRANNO CHE IL VENTO \\u00c8..IL RESPIRO DI UNA DONNA\", \"@porcipolitici\", 14, 5098, \"2016/03/30\"], [\"Sadhvi Shivaa\", \"@shiv_shaktii\", 31, 572, \"2013/10/07\"], [\"Daddy Yankee\", \"@daddy_yankee\", 254, 98, \"2009/04/29\"], [\"Don Wanyama\", \"@nyamadon\", 147, 943, \"2010/08/22\"], [\"Ashish K. Jha, MD, MPH\", \"@ashishkjha\", 2306, 530, \"2009/05/12\"], [\"Maria Van Kerkhove\", \"@mvankerkhove\", 312, 579, \"2013/11/12\"], [\"Maria Van Kerkhove\", \"@mvankerkhove\", 217, 579, \"2013/11/12\"], [\"Maria Van Kerkhove\", \"@mvankerkhove\", 141, 579, \"2013/11/12\"], [\"Dr. David Samadi, MD\", \"@drdavidsamadi\", 6008, 3885, \"2009/03/22\"], [\"Jair M. Bolsonaro\", \"@jairbolsonaro\", 20748, 550, \"2010/03/31\"], [\"Fern\\u00e1n Quir\\u00f3s\", \"@FernanQuirosBA\", 25, 43, \"2020/03/16\"], [\"Newsmax\", \"@newsmax\", 103, 568, \"2009/02/10\"], [\"PIB in Assam\", \"@PIB_Guwahati\", 0, 62, \"2013/02/25\"], [\"Gil Cutrim\", \"@gilcutrim\", 1, 625, \"2010/07/05\"], [\"Pradeep Netha\", \"@PradeepNetha4\", 0, 72, \"2019/03/06\"], [\"cristian leporati\", \"@cleporati\", 15, 2665, \"2009/04/13\"], [\"\\ud835\\udd4a\\ud835\\udd66\\ud835\\udd55\\ud835\\udd59\\ud835\\udd5a\\ud835\\udd63 \\ud835\\udd5c \\ud835\\udd63\\ud835\\udd52\\ud835\\udd5b\", \"@sudhirkraj\", 1, 305, \"2013/05/01\"], [\"Wilker Vasconcelos\", \"@wilkergv\", 0, 172, \"2012/10/04\"], [\"Ricardo Quintela\", \"@QuintelaRicardo\", 42, 507, \"2013/04/27\"], [\"Alberto Fern\\u00e1ndez\", \"@alferdez\", 2010, 7210, \"2010/05/30\"], [\"Alberto Fern\\u00e1ndez\", \"@alferdez\", 761, 7210, \"2010/05/30\"], [\"wandrelvision\", \"@ttrichechus\", 78, 656, \"2013/05/10\"], [\"Ahmad A. Majeed\", \"@alshoushah\", 1, 2536, \"2011/02/01\"], [\"#NOUR_Al_ain1\", \"@nouralain117\", 10, 1565, \"2016/06/26\"], [\"Madiha Abid Ali\", \"@MadihaAbidAli\", 24, 741, \"2011/03/24\"], [\"Jair M. Bolsonaro\", \"@jairbolsonaro\", 11894, 550, \"2010/03/31\"], [\"Joice Hasselmann\", \"@joicehasselmann\", 749, 219, \"2010/02/22\"], [\"Nicole Baldwin, MD, FAAP\", \"@NicoleB_MD\", 151, 1023, \"2012/09/28\"], [\"Utah Public Safety\", \"@UtahDPS\", 53, 462, \"2009/03/18\"], [\"Pablo Secchi \\ud83e\\udde1\", \"@pablosecchi\", 9, 1063, \"2009/03/10\"], [\"Daniel Zovatto\", \"@Zovatto55\", 9, 1074, \"2012/02/03\"], [\"Daniel Zovatto\", \"@Zovatto55\", 6, 1074, \"2012/02/03\"], [\"Fabricio Ballarini\", \"@FabBallarini\", 804, 1071, \"2012/05/29\"], [\"Mark Lewis\", \"@marklewismd\", 390, 33026, \"2012/09/06\"], [\"BharatBiotech\", \"@BharatBiotech\", 430, 516, \"2014/06/27\"], [\"Jorge Ivan Ospina\", \"@JorgeIvanOspina\", 6, 662, \"2010/05/11\"], [\"Consciousness Rising\", \"@conciousness777\", 60, 989, \"2017/06/10\"], [\"World Health Organization (WHO)\", \"@WHO\", 4651, 1734, \"2008/04/23\"], [\"The View\", \"@TheView\", 65, 1683, \"2009/02/19\"], [\"Christophe Fraser \\ud83d\\udc99\", \"@ChristoPhraser\", 359, 781, \"2014/03/24\"], [\"World Health Organization (WHO)\", \"@WHO\", 7586, 1734, \"2008/04/23\"], [\"GMA News\", \"@gmanews\", 205, 696, \"2009/05/12\"], [\"Instituto Nacional de Salud\", \"@INSColombia\", 4, 896, \"2010/06/04\"], [\"Abhishek Dubey\", \"@advabhishekbjp\", 1338, 1857, \"2015/09/13\"], [\"Jo\\u00e3o Doria\", \"@jdoriajr\", 34, 371, \"2009/08/11\"], [\"Instituto Nacional de Salud\", \"@INSColombia\", 187, 896, \"2010/06/04\"], [\"DeshGujarat\", \"@DeshGujarat\", 103, 147, \"2009/05/29\"], [\"Santiago Valencia G.\", \"@sanvalgo\", 6, 2708, \"2009/11/30\"], [\"Benjamin Ferran\", \"@benjaminferran\", 1, 766, \"2007/03/13\"], [\"Dubai Media Office\", \"@DXBMediaOffice\", 46, 168, \"2009/05/04\"], [\"Wizara ya Afya Tanzania\", \"@wizara_afyatz\", 47, 59, \"2015/02/19\"], [\"alpha j alpha\", \"@alphajohnalpha1\", 21871, 48, \"2018/04/13\"], [\"CBIC\", \"@cbic_india\", 671, 170, \"2015/07/22\"], [\"Pablo S\\u00e1nchez\", \"@PauMatalap\", 232, 6746, \"2011/04/23\"], [\"Lia Tadesse\", \"@lia_tadesse\", 80, 695, \"2014/10/17\"], [\"Lia Tadesse\", \"@lia_tadesse\", 41, 695, \"2014/10/17\"], [\"LouDeFrogg\", \"@LouDeFrogg\", 0, 2382, \"2014/11/22\"], [\"PUCE\", \"@PUCE_Ecuador\", 177, 6546, \"2009/08/14\"], [\"NHK\\u30cb\\u30e5\\u30fc\\u30b9\", \"@nhk_news\", 128, 20, \"2010/10/18\"], [\"Edmundo Bal\", \"@BalEdmundo\", 518, 187, \"2019/02/23\"], [\"Kevin Sorbo\", \"@ksorbs\", 2616, 314, \"2009/04/20\"], [\"Marcio Americo\", \"@eumarcioamerico\", 46, 547, \"2009/04/30\"], [\"Arthur Weintraub\", \"@ArthurWeint\", 4149, 771, \"2018/12/16\"], [\"EMCALI \\ud83c\\udde8\\ud83c\\uddf4\", \"@EMCALIoficial\", 7, 1161, \"2012/01/03\"], [\"Dinesh D'Souza\", \"@DineshDSouza\", 8379, 5351, \"2009/11/22\"], [\"Dinesh D'Souza\", \"@DineshDSouza\", 3, 5351, \"2009/11/22\"], [\"Sophie Wilm\\u00e8s\", \"@Sophie_Wilmes\", 62, 1030, \"2012/03/06\"], [\"Tom Van Grieken\", \"@tomvangrieken\", 4004, 1437, \"2010/05/19\"], [\"Partido Popular\", \"@populares\", 254, 5299, \"2009/02/10\"], [\"Alicia erazo\", \"@ALICIAERAZO\", 26, 348, \"2012/08/17\"], [\"Tedros Adhanom Ghebreyesus\", \"@DrTedros\", 508, 1206, \"2010/09/12\"], [\"Ministry of Health\", \"@MOH_Kenya\", 15, 661, \"2016/02/02\"], [\"Lula\", \"@LulaOficial\", 8925, 2406, \"2014/07/22\"], [\"Andry Rajoelina\", \"@SE_Rajoelina\", 583, 199, \"2018/04/02\"], [\"juansmithalvarez\", \"@juansmithalvar1\", 3, 109, \"2019/12/16\"], [\"Jos\\u00e9 L. Morales T.\", \"@JLMT65\", 4, 7110, \"2016/05/26\"], [\"Jos\\u00e9 Luis Mart\\u00ednez-Almeida\", \"@AlmeidaPP_\", 2101, 1777, \"2012/09/03\"], [\"GEN\", \"@SomosGEN\", 1, 74, \"2017/06/13\"], [\"Alfredo Perdiguero M. \\ud83c\\uddea\\ud83c\\uddf8\", \"@PerdigueroSIPEp\", 16, 866, \"2017/01/02\"], [\"Ministerio de Sanidad\", \"@sanidadgob\", 284, 689, \"2010/12/30\"], [\"Raquel Blasco\", \"@RaquelBlascoR\", 36, 798, \"2011/03/10\"], [\"Juan Manzur\", \"@JuanManzurOK\", 57, 257, \"2015/05/15\"], [\"Minist\\u00e8re de la Sant\\u00e9 Publique Burundi(MSPLS)\", \"@mspls_bdi\", 40, 24, \"2019/04/17\"], [\"SP Chhindwara\", \"@ChhindwaraPoli1\", 49, 22, \"2019/03/11\"], [\"Dannia Rios Nacif\", \"@Rios_Nacif\", 42, 445, \"2019/05/18\"], [\"Inside Gones\", \"@InsideGones\", 64, 62, \"2016/01/21\"], [\"Seguran\\u00e7aSP\", \"@SegurancaSP\", 80, 60, \"2009/07/02\"], [\"Pol\\u00edcia Militar do Estado de S\\u00e3o Paulo\", \"@PMESP\", 182, 132, \"2009/08/06\"], [\"SaludBAP\", \"@SaludBAP\", 49, 1040, \"2016/09/23\"], [\"Nagaon Police\", \"@nagaonpolice\", 101, 236, \"2015/10/01\"], [\"Nagaon Police\", \"@nagaonpolice\", 8, 236, \"2015/10/01\"], [\"Conor Lamb\", \"@ConorLambPA\", 4188, 518, \"2017/04/21\"], [\"Nagma\", \"@nagma_morarji\", 108, 292, \"2012/05/10\"], [\"Corentin B\\u00e9chade\", \"@corentinbechade\", 0, 348, \"2009/06/17\"], [\"Elliot Alderson\", \"@fs0c131y\", 61, 3792, \"2015/06/10\"], [\"Kellen Squire\", \"@SquireForYou\", 17313, 752, \"2016/12/05\"], [\"LCP\", \"@LCP\", 68, 1886, \"2009/10/26\"], [\"CACIF\", \"@CACIFGuatemala\", 87, 558, \"2010/04/19\"], [\"Andy Slavitt \\ud83c\\uddfa\\ud83c\\uddf8\\ud83d\\udc89\", \"@ASlavitt\", 23254, 999, \"2013/04/27\"], [\"WHO African Region\", \"@WHOAFRO\", 99, 583, \"2012/04/03\"], [\"Elliot Alderson\", \"@fs0c131y\", 207, 3792, \"2015/06/10\"], [\"Noticias Caracol\", \"@NoticiasCaracol\", 141, 1135, \"2008/12/02\"], [\"Yoweri K Museveni\", \"@KagutaMuseveni\", 223, 27, \"2010/03/27\"], [\"Federal Ministry of Education\", \"@NigEducation\", 491, 6, \"2018/05/16\"], [\"IANS Tweets\", \"@ians_india\", 18, 45, \"2010/05/08\"], [\"IANS Tweets\", \"@ians_india\", 87, 45, \"2010/05/08\"], [\"NewsX\", \"@NewsX\", 1663, 229, \"2009/03/09\"], [\"NewsMeter\", \"@NewsMeter_In\", 0, 26, \"2019/07/25\"], [\"PrensaComunitaria\", \"@PrensaComunitar\", 136, 5829, \"2011/02/26\"], [\"Dolly Bindra\", \"@DollyBindra\", 11, 306, \"2009/05/12\"], [\".\", \"@WICHOCOOPER\", 0, 59, \"2011/03/18\"], [\"Ashish Tiwari\", \"@TiwariKahin\", 2520, 1626, \"2010/04/15\"], [\"Chaudhary Sandeep\", \"@Sandeep04CBS\", 116, 3308, \"2011/05/20\"], [\"Mohamed Bouarbi\", \"@MohamedBouarby\", 4, 273, \"2016/07/25\"], [\"Jo\\u00e3o Doria\", \"@jdoriajr\", 116, 371, \"2009/08/11\"], [\"Jo\\u00e3o Doria\", \"@jdoriajr\", 132, 371, \"2009/08/11\"], [\"Zineb \\ud83c\\uddf2\\ud83c\\udde6\\u200e\", \"@zinub\", 1, 990, \"2009/06/26\"], [\"Transparencia Col\", \"@transparenciaco\", 26, 3367, \"2009/05/07\"], [\"Gretchen Whitmer\", \"@gretchenwhitmer\", 3274, 54, \"2019/02/07\"], [\"Tedros Adhanom Ghebreyesus\", \"@DrTedros\", 284, 1206, \"2010/09/12\"], [\"MinSaludCol\", \"@MinSaludCol\", 7916, 814, \"2011/09/11\"], [\"World Health Organization (WHO)\", \"@WHO\", 7267, 1734, \"2008/04/23\"], [\"Francisco Tortosa\", \"@bipancho\", 3259, 1783, \"2010/01/03\"], [\"Morgan Freeman\", \"@morgan_freeman\", 42, 32, \"2019/12/12\"], [\"Vaughn Hillyard\", \"@VaughnHillyard\", 2198, 6526, \"2009/08/25\"], [\"Peter Burger\", \"@JPeterBurger\", 103, 2378, \"2013/04/11\"], [\"Aviral Srivastava\", \"@anshpatrkaar\", 588, 412, \"2015/08/18\"], [\"Morgan Freeman\", \"@morgan_freeman\", 328, 32, \"2019/12/12\"], [\"Ministerio de Relaciones Exteriores\", \"@mreparaguay\", 417, 343, \"2011/07/25\"], [\"CDC\", \"@CDCgov\", 3763, 269, \"2010/05/21\"], [\"PIB Fact Check\", \"@PIBFactCheck\", 497, 31, \"2019/12/19\"], [\"Presidencia Colombia \\ud83c\\udde8\\ud83c\\uddf4\", \"@infopresidencia\", 120, 292, \"2011/06/07\"], [\"London Breed\", \"@LondonBreed\", 1192, 692, \"2014/12/12\"], [\"Ola Roll\\u00e9n\", \"@OlaRollen\", 1670, 411, \"2012/03/05\"], [\"Andry Rajoelina\", \"@SE_Rajoelina\", 2466, 199, \"2018/04/02\"], [\"Christian Martin\", \"@askomartin\", 13613, 1792, \"2011/05/19\"], [\"Carl T. Bergstrom\", \"@CT_Bergstrom\", 372, 2110, \"2015/06/07\"], [\"Agence France-Presse\", \"@afpfr\", 31, 1327, \"2011/07/20\"], [\"Dubai Police\\u0634\\u0631\\u0637\\u0629 \\u062f\\u0628\\u064a\", \"@DubaiPoliceHQ\", 26, 200, \"2010/09/21\"], [\"Peter Burger\", \"@JPeterBurger\", 59, 2378, \"2013/04/11\"], [\"Carles Enric\", \"@carlesenric\", 3641, 355, \"2008/11/11\"], [\"Henrique Mandetta\", \"@lhmandetta\", 4006, 132, \"2014/08/12\"], [\"Leo Varadkar\", \"@LeoVaradkar\", 246, 1751, \"2010/12/22\"], [\"Bear Grillz\", \"@itsbeargrillz\", 201, 70, \"2013/11/03\"], [\"Alvise P\\u00e9rez\", \"@Alvisepf\", 2841, 2678, \"2011/03/08\"], [\"Azhar\", \"@AzharJeddah2003\", 0, 167, \"2012/08/24\"], [\"Ahmad Jawad PTI\", \"@AhmadJawadBTH\", 50, 1535, \"2012/03/16\"], [\"1-DSIGN.COM\", \"@reaerosadesigns\", 0, 3, \"2017/04/17\"], [\"Josefina de Miguel C\", \"@josefinaIBVM\", 1, 456, \"2010/12/18\"], [\"Ethiopian Public Health Institute\", \"@EPHIEthiopia\", 7, 267, \"2015/11/03\"], [\"ANI\", \"@ANI\", 53, 0, \"2011/08/16\"], [\"David Mack\", \"@davidmackau\", 3829, 1664, \"2011/05/25\"], [\"Justin Sink\", \"@justinsink\", 277, 1628, \"2011/07/31\"], [\"Matt McDermott\", \"@mattmfm\", 1453, 1785, \"2008/07/13\"], [\"Ummy Mwalimu\", \"@ummymwalimu\", 212, 560, \"2012/03/15\"], [\"MinSaludCol\", \"@MinSaludCol\", 3120, 814, \"2011/09/11\"], [\"OJO VALLENATO OFICIAL\", \"@EyeVallenatoo\", 71, 101, \"2019/01/10\"], [\"shahid siddiqui\", \"@shahid_siddiqui\", 8, 1707, \"2009/09/23\"], [\"sanjay singh\", \"@santo_tango\", 1, 796, \"2009/07/22\"], [\"Ignacio  Contreras\", \"@nacho1577\", 6, 2353, \"2010/06/15\"], [\"Cesare Sacchetti\", \"@CesareSacchetti\", 558, 203, \"2013/04/19\"], [\"NICD\", \"@nicd_sa\", 269, 1038, \"2013/04/22\"], [\"Guardia Civil \\ud83c\\uddea\\ud83c\\uddf8\", \"@guardiacivil\", 263, 288, \"2011/05/09\"], [\"DCP East Delhi\", \"@DCPEastDelhi\", 25, 350, \"2016/02/03\"], [\"Suresh Chavhanke \\u201cSudarshan News\\u201d\", \"@SureshChavhanke\", 9589, 166, \"2010/01/11\"], [\"Lynda May \\ud83e\\uddda\\u200d\\u2640\\ufe0f\\u0644\\u064a\\u0646\\u062f\\u0627 \\u0645\\u0627\\u064a\", \"@lyguerb\", 2, 852, \"2016/02/21\"], [\"Jimmy Kimmel\", \"@jimmykimmel\", 5829, 785, \"2009/03/23\"], [\"Minist\\u00e8re de la Sant\\u00e9 Publique Burundi(MSPLS)\", \"@mspls_bdi\", 41, 24, \"2019/04/17\"], [\"Vamos a ver\", \"@VAMOSAVERorg\", 61, 232, \"2020/04/26\"], [\"Bobby L. Rush\", \"@RepBobbyRush\", 4, 1420, \"2011/05/25\"], [\"Rep. Janel Brandtjen\", \"@RepJanel\", 6, 393, \"2014/04/22\"], [\"\\u092a\\u094d\\u0930\\u0935\\u0940\\u0923 \\u092e\\u093f\\u0936\\u094d\\u0930\\u093e\", \"@praveenm_mishra\", 128, 1843, \"2009/11/17\"], [\"Instituto de Salud Carlos III (ISCIII)\", \"@SaludISCIII\", 11, 525, \"2019/04/13\"], [\"millardayo\", \"@millardayo\", 56, 525, \"2010/04/14\"], [\"Grupo Parlamentario de VOX en el Congreso\", \"@VOX_Congreso\", 820, 110, \"2019/06/05\"], [\"Tom Wolf Destroyed PA\", \"@anderso24344556\", 0, 463, \"2020/02/07\"], [\"J.dB.C\", \"@jesdbc\", 2562, 672, \"2013/10/18\"], [\"Geoweeb\", \"@Geoweeb\", 0, 212, \"2013/04/27\"], [\"\\u062d\\u0645\\u062f \\u0627\\u0644\\u0639\\u0642\\u064a\\u0644\\u064a\", \"@557_hamd\", 7, 4630, \"2016/08/06\"], [\"\\u0627\\u0628\\u0648\\u0639\\u0628\\u062f\\u0627\\u0644\\u0639\\u0632\\u064a\\u0632\", \"@krnkrnxxx\", 1, 14, \"2014/01/22\"], [\"Msemaji Mkuu wa Serikali\", \"@TZMsemajiMkuu\", 24, 15, \"2016/08/17\"], [\"Fernanda Vallejos\", \"@fvallejoss\", 367, 983, \"2011/05/19\"], [\"Nelson Teich\", \"@TeichNelson\", 1712, 61, \"2020/01/19\"], [\"Priyanka Gandhi Vadra\", \"@priyankagandhi\", 5692, 74, \"2019/02/10\"], [\"Gerson Msigwa\", \"@MsigwaGerson\", 52, 1393, \"2014/03/28\"], [\"Ajayraj S Muthaliya\", \"@ajayrajmuthalia\", 0, 114, \"2016/04/14\"], [\"Faheem Younus, MD\", \"@FaheemYounus\", 297, 443, \"2011/10/12\"], [\"UNDP Ghana\", \"@UNDPGhana\", 71, 590, \"2013/01/04\"], [\"OMS Afrique\", \"@OMS_Afrique\", 14, 183, \"2020/02/07\"], [\"William Bonner\", \"@realwbonner\", 9029, 0, \"2009/06/30\"], [\"Peter Burger\", \"@JPeterBurger\", 29, 2378, \"2013/04/11\"], [\"RCN Radio Bucaramanga\", \"@RCNBga\", 1, 926, \"2012/06/13\"], [\"Jo\\u00e3o Doria\", \"@jdoriajr\", 1313, 371, \"2009/08/11\"], [\"\\u062f\\u0633\\u0645\\u0627\\u0646 \\u0646\\u064a\\u0648\\u0632\", \"@DasmanNewsCom\", 211, 0, \"2012/04/18\"], [\"TN - Todo Noticias\", \"@todonoticias\", 1037, 21, \"2009/03/23\"], [\"A Marm Kilpatrick\", \"@DiseaseEcology\", 59, 147, \"2013/08/05\"], [\"Alberto Fern\\u00e1ndez\", \"@alferdez\", 2384, 7210, \"2010/05/30\"], [\"Muktesh Pardeshi\", \"@MukteshPardeshi\", 327, 198, \"2014/06/09\"], [\"Prefeitura de Pelotas\", \"@PrefPelotas\", 43, 300, \"2011/11/01\"], [\"Eduardo Bolsonaro\\ud83c\\udde7\\ud83c\\uddf7\", \"@BolsonaroSP\", 321, 691, \"2009/09/16\"], [\"\\u062a\\u064a\\u062c\\u0627\\u0646\\u064a\", \"@MehdiElFilali4\", 0, 549, \"2018/06/15\"], [\"\\u00d8uss\\u00e5ma Le Morisque\", \"@bol7yaa\", 0, 114, \"2012/11/04\"], [\"Fl\\u00e1vio Dino \\ud83c\\udde7\\ud83c\\uddf7\", \"@FlavioDino\", 3123, 658, \"2009/03/20\"], [\"Joe Biden\", \"@JoeBiden\", 3182, 46, \"2007/03/11\"], [\"World Health Organization (WHO) Western Pacific\", \"@WHOWPRO\", 34, 1205, \"2015/10/05\"], [\"Tecnol\\u00f3gico de Monterrey\", \"@TecdeMonterrey\", 4, 464, \"2010/02/19\"], [\"World Health Organization (WHO)\", \"@WHO\", 187, 1734, \"2008/04/23\"], [\"UNICEF Philippines\", \"@unicefphils\", 3387, 1056, \"2009/10/05\"], [\"MinSaludCol\", \"@MinSaludCol\", 2949, 814, \"2011/09/11\"], [\"Jack Ma\", \"@JackMa\", 23480, 0, \"2020/03/15\"], [\"Edison Lanza\", \"@EdisonLanza\", 65, 4359, \"2009/07/28\"], [\"Presidency | South Africa \\ud83c\\uddff\\ud83c\\udde6\", \"@PresidencyZA\", 105, 17, \"2009/05/18\"], [\"Ministry of Health\", \"@MOH_Kenya\", 287, 661, \"2016/02/02\"], [\"Scott Gottlieb, MD\", \"@ScottGottliebMD\", 496, 956, \"2009/05/15\"], [\"Minist\\u00e8re de la Sant\\u00e9 Publique Burundi(MSPLS)\", \"@mspls_bdi\", 92, 24, \"2019/04/17\"], [\"Jack Ma\", \"@JackMa\", 8328, 0, \"2020/03/15\"], [\"taran adarsh\", \"@taran_adarsh\", 648, 164, \"2009/12/27\"], [\"Guillaume Chartrain\", \"@GuillaumeUERDC\", 70, 1145, \"2018/09/04\"], [\"Andry Rajoelina\", \"@SE_Rajoelina\", 154, 199, \"2018/04/02\"], [\"Sandra\", \"@sandravogelaar\", 14, 0, \"2011/06/23\"], [\"L'Express\", \"@LExpressMG\", 9, 59, \"2011/07/22\"], [\"KSBA\", \"@ksbanews\", 5, 722, \"2009/06/27\"], [\"Murtaza Ali Shah\", \"@MurtazaViews\", 310, 786, \"2010/06/06\"], [\"Alejandro Giammattei\", \"@DrGiammattei\", 221, 82, \"2010/09/07\"], [\"Jai Shri Ram\", \"@bjplao\", 19, 5618, \"2018/06/29\"], [\"Kayleigh McEnany 45 Archived\", \"@PressSec45\", 397, 328, \"2017/01/10\"], [\"Australian Government Department of Health\", \"@healthgovau\", 139, 143, \"2010/03/22\"], [\"Polic\\u00eda Nacional\", \"@policia\", 443, 0, \"2009/03/11\"], [\"Ministerio Inclusi\\u00f3n Seguridad Social Migraciones\", \"@inclusiongob\", 348, 532, \"2020/01/12\"], [\"South African Government\", \"@GovernmentZA\", 317, 513, \"2013/06/21\"], [\"SassyM\\u00e9tisChick \\u2764\\ufe0f \\ud83c\\udde8\\ud83c\\udde6\\u2764\\ufe0f\", \"@SassyMetisChick\", 1522, 21417, \"2018/06/18\"], [\"\\u00c9quipe 1er degr\\u00e9\", \"@Equipe1erDegre\", 398, 410, \"2012/01/25\"], [\"Guardia Civil \\ud83c\\uddea\\ud83c\\uddf8\", \"@guardiacivil\", 494, 288, \"2011/05/09\"], [\"Lt Gen Gyan Bhushan\", \"@bhushan_gyan\", 275, 2372, \"2014/01/28\"], [\"Albert Rivera\", \"@Albert_Rivera\", 11068, 2433, \"2010/01/27\"], [\"Toni Cant\\u00f3\", \"@Tonicanto1\", 1815, 3055, \"2011/02/08\"], [\"Dinesh D'Souza\", \"@DineshDSouza\", 12160, 5351, \"2009/11/22\"], [\"Timothy Gumm\", \"@timothy_gumm\", 34, 372, \"2018/03/12\"], [\"Alvise P\\u00e9rez\", \"@Alvisepf\", 6743, 2678, \"2011/03/08\"], [\"Murtaza Wahab Siddiqui\", \"@murtazawahab1\", 411, 137, \"2016/04/25\"], [\"Donatella Chiodi\", \"@ChiodiDonatella\", 220, 12043, \"2015/04/11\"], [\"Alvise P\\u00e9rez\", \"@Alvisepf\", 10552, 2678, \"2011/03/08\"], [\"Glenn Kessler\", \"@GlennKesslerWP\", 55, 547, \"2011/01/07\"], [\"Daniel Dale\", \"@ddale8\", 1379, 1485, \"2010/12/11\"], [\"B L Santhosh\", \"@blsanthosh\", 392, 298, \"2013/01/06\"], [\"Juli\\u00e1n A. Fern\\u00e1ndez-Ni\\u00f1o\", \"@JFernandeznino\", 56, 826, \"2010/06/09\"], [\"CitizenJane99\", \"@CitizenJane99\", 623, 114, \"2013/09/11\"], [\"Muge Cevik\", \"@mugecevik\", 166, 1944, \"2009/08/19\"], [\"Tom DiNapoli\", \"@NYSComptroller\", 4, 4789, \"2011/01/12\"], [\"Levy Rinc\\u00f3n\", \"@Ievyrincon\", 1027, 88, \"2018/11/09\"], [\"Dr Zweli Mkhize\", \"@DrZweliMkhize\", 446, 38575, \"2017/03/22\"], [\"DD News Gujarati\", \"@DDNewsGujarati\", 211, 329, \"2018/03/12\"], [\"R\\u00e1dio Itatiaia\", \"@radioitatiaia\", 1140, 91, \"2009/05/11\"], [\"EquisJusticia\", \"@EquisJusticia\", 128, 1305, \"2013/04/16\"], [\"Bonnie369\", \"@bonnie379\", 288, 911, \"2011/11/18\"], [\"Bonnie369\", \"@bonnie379\", 0, 911, \"2011/11/18\"], [\"NCDC\", \"@NCDCgov\", 203, 384, \"2016/03/04\"], [\"Embajada de Suecia en Madrid\", \"@EmbajadorSuecia\", 298, 1852, \"2013/02/19\"], [\"RK Agarwal\", \"@rkagarwal69\", 0, 138, \"2019/03/21\"], [\"Jimbere\", \"@JimbereMag\", 11, 141, \"2016/02/15\"], [\"Le Double R \\ud83c\\udde8\\ud83c\\uddf2\", \"@RamsDreezy\", 0, 448, \"2011/02/07\"], [\"Rep Andy Biggs\", \"@RepAndyBiggsAZ\", 218, 1659, \"2017/01/04\"], [\"Scott Morrison\", \"@ScottMorrisonMP\", 606, 1734, \"2009/04/22\"], [\"Air India\", \"@airindiain\", 2, 2925, \"2011/10/09\"], [\"Matt McDermott\", \"@mattmfm\", 96497, 1785, \"2008/07/13\"], [\"Ummy Mwalimu\", \"@ummymwalimu\", 94, 560, \"2012/03/15\"], [\"Peter Stevenson\", \"@PeterStevenson\", 143, 1217, \"2010/12/07\"], [\"Jimmy Kimmel\", \"@jimmykimmel\", 14293, 785, \"2009/03/23\"], [\"Alvise P\\u00e9rez\", \"@Alvisepf\", 10289, 2678, \"2011/03/08\"], [\"CoolSonu\\ud83e\\udd1d\", \"@WilDbadGe\", 3, 1981, \"2015/07/26\"], [\"Conspiracy Watch\", \"@conspiration\", 128, 922, \"2009/03/14\"], [\"Michael N\\u00f6them\", \"@mikandynothem\", 6446, 98275, \"2012/02/15\"], [\"Juan Espa\\u00f1ol\", \"@Cosecha_del_62\", 0, 200, \"2011/06/15\"], [\"Himanta Biswa Sarma\", \"@himantabiswa\", 548, 97, \"2010/04/09\"], [\"DIPR Assam\", \"@diprassam\", 46, 263, \"2018/09/29\"], [\"PIB in Assam\", \"@PIB_Guwahati\", 0, 62, \"2013/02/25\"], [\"Ronald Klain\", \"@RonaldKlain\", 19516, 2588, \"2011/02/07\"], [\"Hafiz Jameel\", \"@HafizJa04188954\", 2, 201, \"2020/04/25\"], [\"Javier Ortega Smith\", \"@Ortega_Smith\", 2036, 467, \"2013/01/25\"], [\"Umashankar Singh \\u0909\\u092e\\u093e\\u0936\\u0902\\u0915\\u0930 \\u0938\\u093f\\u0902\\u0939\", \"@umashankarsingh\", 52, 824, \"2009/09/13\"], [\"PIB Fact Check\", \"@PIBFactCheck\", 368, 31, \"2019/12/19\"], [\"\\u0639\\u0645\\u0631\\u0648 \\u06d2 \\u0645\\u0633\\u062d\\u0644\\u064a\\u06d2\\u265a\", \"@amro_mashali\", 2, 8032, \"2011/11/29\"], [\"Tedros Adhanom Ghebreyesus\", \"@DrTedros\", 246, 1206, \"2010/09/12\"], [\"Cynthia Garc\\u00eda\", \"@cyngarciaradio\", 1003, 1671, \"2010/06/02\"], [\"Gaby Levinas\", \"@GabyLevinas\", 104, 3801, \"2010/05/25\"], [\"The New York Times\", \"@nytimes\", 2413, 805, \"2007/03/02\"], [\"Nidhi Razdan\", \"@Nidhi\", 699, 408, \"2015/05/03\"], [\"HSE Health Protection Surveillance Centre (HPSC)\", \"@hpscireland\", 5, 802, \"2011/05/24\"], [\"ParaMicroBio #SoyBi\\u00f3logo #LosBi\\u00f3logosExistimos\", \"@ParaMicroBio\", 25, 4988, \"2017/12/19\"], [\"TIMES NOW\", \"@TimesNow\", 62, 375, \"2011/01/20\"], [\"MinSaludCol\", \"@MinSaludCol\", 92, 814, \"2011/09/11\"], [\"NSC 45 Archived\", \"@WHNSC45\", 12133, 5, \"2017/03/10\"], [\"The White House 45 Archived\", \"@WhiteHouse45\", 788, 11, \"2017/01/19\"], [\"Karl Lauterbach\", \"@Karl_Lauterbach\", 339, 270, \"2015/05/21\"], [\"leticia spiller\", \"@leticiaspiller\", 16, 658, \"2010/10/13\"], [\"Pedro S\\u00e1nchez\", \"@sanchezcastejon\", 2786, 6031, \"2009/08/25\"], [\"Ministerio de Sanidad\", \"@sanidadgob\", 92, 689, \"2010/12/30\"], [\"Global Times\", \"@globaltimesnews\", 18092, 520, \"2009/06/22\"], [\"Boris Johnson\", \"@BorisJohnson\", 119115, 459, \"2015/04/01\"], [\"La Moncloa\", \"@desdelamoncloa\", 212, 195, \"2009/07/20\"], [\"Consejo General de Enfermer\\u00eda\", \"@CGEnfermeria\", 5, 738, \"2010/12/06\"], [\"David Puente\", \"@DavidPuente\", 0, 1205, \"2009/06/29\"], [\"ANI\", \"@ANI\", 3041, 0, \"2011/08/16\"], [\"Aditya Raj Kaul\", \"@AdityaRajKaul\", 999, 8130, \"2009/06/03\"], [\"shhhhitsdundeebear\", \"@shhhhitsdundee1\", 13, 1989, \"2020/02/11\"], [\"La Moncloa\", \"@desdelamoncloa\", 210, 195, \"2009/07/20\"], [\"#IndiaFightsCorona\", \"@COVIDNewsByMIB\", 122, 71, \"2020/03/31\"], [\"Ministry of Health\", \"@MOH_Kenya\", 43, 661, \"2016/02/02\"], [\"Minister Jackson Mthembu\", \"@JacksonMthembu_\", 193, 3749, \"2012/11/30\"], [\"Helder Barbalho\", \"@helderbarbalho\", 134, 1183, \"2010/06/03\"], [\"Ngozi Okonjo-Iweala\", \"@NOIweala\", 3734, 11, \"2011/09/13\"], [\"Ngozi Okonjo-Iweala\", \"@NOIweala\", 930, 11, \"2011/09/13\"], [\"Guineematin\", \"@Guineematin\", 279, 314, \"2015/07/29\"], [\"Daniel Dale\", \"@ddale8\", 8669, 1485, \"2010/12/11\"], [\"\\u7af9\\u5185\\u4e45\\u7f8e\\u5b50\", \"@takeuchikumiffy\", 4135, 3732, \"2019/10/08\"], [\"\\u9752\\u8449\\u3042\\u3055\\u3072\", \"@vTxpqRVTUijcIq4\", 7741, 5234, \"2018/11/03\"], [\"CNEWS\", \"@CNEWS\", 1815, 736, \"2008/12/26\"], [\"Andry Rajoelina\", \"@SE_Rajoelina\", 56, 199, \"2018/04/02\"], [\"Andry Rajoelina\", \"@SE_Rajoelina\", 14, 199, \"2018/04/02\"], [\"Cruz Roja Las Palmas\", \"@CruzRojaLP\", 7, 153, \"2016/06/30\"], [\"Bhargab Talukdar\", \"@bshibamt\", 1, 368, \"2015/01/17\"], [\"Natasha Dimitrievska\", \"@napostoloska\", 107, 370, \"2013/12/14\"], [\"SSN ARGENTINA\", \"@ssn_ar\", 74, 185, \"2017/05/12\"], [\"Prof. Sanjib Goswami \\ud83c\\uddee\\ud83c\\uddf3\\ud83c\\udde6\\ud83c\\uddfa\", \"@DrSanjibG\", 13, 4155, \"2010/02/03\"], [\"World Health Organization (WHO)\", \"@WHO\", 1287, 1734, \"2008/04/23\"], [\"Saadia Afzaal\", \"@SaadiaAfzaal\", 2331, 308, \"2014/08/13\"], [\"PIB in Assam\", \"@PIB_Guwahati\", 90, 62, \"2013/02/25\"], [\"PIB Fact Check\", \"@PIBFactCheck\", 247, 31, \"2019/12/19\"], [\"John Roberts\", \"@johnrobertsFox\", 64, 492, \"2009/02/16\"], [\"Saadia Afzaal\", \"@SaadiaAfzaal\", 1133, 308, \"2014/08/13\"], [\"Copernicus ECMWF\", \"@CopernicusECMWF\", 2408, 499, \"2015/06/26\"], [\"Anderson Cooper 360\\u00b0\", \"@AC360\", 3335, 156, \"2010/12/17\"], [\"nychealthy\", \"@nycHealthy\", 255, 556, \"2008/12/09\"], [\"Cal Cunningham\", \"@CalforNC\", 296, 654, \"2009/11/24\"], [\"Radio 780 AM\", \"@780AM\", 24, 1460, \"2009/11/02\"], [\"Ledor\\u00e9 E #\\ud835\\udddd\\ud835\\udddf\\ud835\\udde0\\ud835\\udfee\\ud835\\udfec\\ud835\\udfee\\ud835\\udfee \\ud83d\\udd3b \\u03c6 \\ud83d\\udd1d#Noussommespour\\ud83d\\udce2\", \"@eledoster\", 1705, 1333, \"2016/02/25\"], [\"KY Dept of Education\", \"@KyDeptofEd\", 54, 825, \"2011/04/04\"], [\"PIB Fact Check\", \"@PIBFactCheck\", 513, 31, \"2019/12/19\"], [\"Daniel\", \"@DannyLS74\", 2, 2783, \"2013/08/11\"], [\"Elisa Granato \\ud83e\\udda0\\ud83d\\udd2c\", \"@Prokaryota\", 200, 2669, \"2010/01/12\"], [\"John McAfee\", \"@officialmcafee\", 2005, 14124, \"2012/11/21\"], [\"Abhishek Jalan\", \"@AayoBado\", 29, 37, \"2020/04/17\"], [\"Fergus Walsh\", \"@BBCFergusWalsh\", 8181, 364, \"2010/05/21\"], [\"Louis \\ud83c\\uddec\\ud83c\\udde7 \\ud83c\\uddea\\ud83c\\uddfa \\u3013\\u3013 \\ud83d\\udc99 #StayAlertToriesAreCorrupt\", \"@LouisHenwood\", 66, 3965, \"2018/06/23\"], [\"Department of Health and Social Care\", \"@DHSCgovuk\", 1258, 852, \"2009/05/05\"], [\"Pakistan Socio Economic Monitor by Yasin J\", \"@pakistanmonitor\", 0, 1523, \"2011/01/26\"], [\"Fergus Walsh\", \"@BBCFergusWalsh\", 733, 364, \"2010/05/21\"], [\"Cetm\", \"@CetmTransporte\", 10, 1074, \"2015/05/06\"], [\"Carl T. Bergstrom\", \"@CT_Bergstrom\", 3188, 2110, \"2015/06/07\"], [\"Rudy W. Giuliani\", \"@RudyGiuliani\", 15909, 460, \"2016/08/31\"], [\"Danyal Gilani\", \"@DanyalGilani\", 27, 484, \"2009/03/15\"], [\"Les Buralistes\", \"@LesBuralistes\", 1, 1641, \"2013/01/02\"], [\"Alessandro Meluzzi\\u2626\\ufe0f\\ud83c\\uddee\\ud83c\\uddf9\", \"@a_meluzzi\", 28, 50499, \"2012/12/24\"], [\"Kyoto University\", \"@KyotoU_News\", 195, 199, \"2014/09/10\"], [\"Charlie Flanagan\", \"@CharlieFlanagan\", 54, 646, \"2009/11/04\"], [\"Jeff Shipley \\ud83e\\udd81\", \"@JeffShipley77\", 3, 723, \"2019/01/15\"], [\"Arjun Singh\", \"@ArjunsinghWB\", 56, 119, \"2019/03/30\"], [\"Bernie Sanders\", \"@SenSanders\", 1777, 2330, \"2009/04/07\"], [\"Thaung Tun\", \"@ThaungTun20\", 6, 39, \"2019/09/26\"], [\"Dinesh D'Souza\", \"@DineshDSouza\", 344, 5351, \"2009/11/22\"], [\"Albert Rivera\", \"@Albert_Rivera\", 3, 2433, \"2010/01/27\"], [\"Meet the Press\", \"@MeetThePress\", 41, 443, \"2008/01/04\"], [\"Paolo Grimoldi\", \"@GrimoldiPaolo\", 627, 890, \"2011/11/21\"], [\"Scott Gottlieb, MD\", \"@ScottGottliebMD\", 33, 956, \"2009/05/15\"], [\"Darin LaHood\", \"@RepLaHood\", 6, 1220, \"2015/09/17\"], [\"Didier Raoult\", \"@raoult_didier\", 2381, 14, \"2020/03/24\"], [\"Bonnie369\", \"@bonnie379\", 98, 911, \"2011/11/18\"], [\"PIB Fact Check\", \"@PIBFactCheck\", 381, 31, \"2019/12/19\"], [\"Daniel Oran\", \"@danieloran\", 260, 101, \"2009/03/17\"], [\"La Moncloa\", \"@desdelamoncloa\", 78, 195, \"2009/07/20\"], [\"Eduardo Leite\", \"@EduardoLeite_\", 672, 443, \"2010/03/17\"], [\"Eduardo Leite\", \"@EduardoLeite_\", 49, 443, \"2010/03/17\"], [\"Sander K.\", \"@sanderknura\", 1, 4101, \"2008/03/29\"], [\"Never Retreat Never Surrender\\ud83d\\uded5\\ud83d\\udea9\", \"@TapasNiyama\", 24, 108, \"2020/03/15\"], [\"Silvana Konermann\", \"@SKonermann\", 210, 578, \"2012/10/30\"], [\"Ministerio de Sanidad\", \"@sanidadgob\", 3415, 689, \"2010/12/30\"], [\"Trevor Bedford\", \"@trvrb\", 782, 817, \"2010/12/10\"], [\"Nonona' Ohtsevehn Estse'\", \"@notaxiwarrior\", 84, 6237, \"2011/11/14\"], [\"Nonona' Ohtsevehn Estse'\", \"@notaxiwarrior\", 10, 6237, \"2011/11/14\"], [\"Manoj Tiwari\", \"@ManojTiwariMP\", 338, 923, \"2015/08/14\"], [\"Michael Downey\", \"@mgdowney\", 823, 424, \"2011/12/20\"], [\"BBC News Africa\", \"@BBCAfrica\", 41, 1392, \"2009/04/30\"], [\"Raila Odinga\", \"@RailaOdinga\", 326, 308, \"2011/05/18\"], [\"Atiku Abubakar\", \"@atiku\", 4091, 116, \"2010/08/12\"], [\"The White House 45 Archived\", \"@WhiteHouse45\", 1408, 11, \"2017/01/19\"], [\"Germany @ Arab World\", \"@almaniadiplo\", 56, 371, \"2014/09/16\"], [\"Dee C. \\ud83e\\uddd8\\u200d\\u2640\\ufe0f\\ud83d\\udc69\\u200d\\ud83c\\udfa4\\ud83c\\udfc3\\u200d\\u2640\\ufe0f\\ud83c\\udfad\", \"@Nangpagirl78\", 2, 343, \"2016/01/04\"], [\"Tom Hanks\", \"@tomhanks\", 11314, 25, \"2009/06/24\"], [\"Carlos Bolsonaro\", \"@CarlosBolsonaro\", 3319, 631, \"2009/08/25\"], [\"DM Bareilly\", \"@dmbareilly\", 1146, 124, \"2016/09/14\"], [\"PIB Fact Check\", \"@PIBFactCheck\", 251, 31, \"2019/12/19\"], [\"America's Newsroom\", \"@AmericaNewsroom\", 8, 386, \"2011/06/07\"], [\"Guardia Civil \\ud83c\\uddea\\ud83c\\uddf8\", \"@guardiacivil\", 966, 288, \"2011/05/09\"], [\"Jair M. Bolsonaro\", \"@jairbolsonaro\", 6206, 550, \"2010/03/31\"], [\"Ashutosh Nath Tiwari\", \"@ashu2aug\", 0, 496, \"2011/04/27\"], [\"Arancha Gonz\\u00e1lez\", \"@AranchaGlezLaya\", 1759, 2037, \"2012/11/25\"], [\"NOA Nigeria\", \"@NOA_Nigeria\", 55, 887, \"2011/11/03\"], [\"Polic\\u00eda Nacional\", \"@policia\", 96, 0, \"2009/03/11\"], [\"Corinne Lepage\", \"@corinnelepage\", 393, 6124, \"2009/04/14\"], [\"Zoom\", \"@Zoom\", 29, 2058, \"2012/03/13\"], [\"Mat\\u00edas Rajnerman\", \"@MatiasRajnerman\", 5, 628, \"2010/05/30\"], [\"Fco. Javier Redondo\", \"@fjredondocalvo1\", 8, 268, \"2015/11/14\"], [\"Fco. Javier Redondo\", \"@fjredondocalvo1\", 4, 268, \"2015/11/14\"], [\"\\u0628\\u0631\\u0628\\u0627\\u062f\\u06cc\", \"@syedkhaleedd\", 4, 94, \"2020/04/10\"], [\"World Health Organization (WHO)\", \"@WHO\", 606, 1734, \"2008/04/23\"], [\"Femi Gbajabiamila\", \"@femigbaja\", 4302, 264, \"2012/04/27\"], [\"Rahul Krishnan\", \"@rahulstreetmagi\", 8, 16, \"2013/06/18\"], [\"Helder Barbalho\", \"@helderbarbalho\", 0, 1183, \"2010/06/03\"], [\"TheStarKenya\", \"@TheStarKenya\", 33, 508, \"2011/07/27\"], [\"Jack Motley\", \"@JackMotleyLive\", 2, 1884, \"2012/03/19\"], [\"ncpwds\", \"@Ncpwds\", 11, 337, \"2013/06/05\"], [\"\\u0623.\\u062f. \\u062d\\u0627\\u0643\\u0645 \\u0627\\u0644\\u0645\\u0637\\u064a\\u0631\\u064a\", \"@DrHAKEM\", 171, 3473, \"2010/08/24\"], [\"Dhiraj Giri\", \"@DhirajG82325757\", 1, 849, \"2020/04/13\"], [\"Vishal\", \"@VishalAryavart\", 0, 125, \"2017/10/15\"], [\"Lilach Volach\", \"@lilach_v\", 1, 580, \"2011/01/15\"], [\"Mangala Samaraweera\", \"@MangalaLK\", 73, 208, \"2015/02/20\"], [\"Chinese Embassy in Sri Lanka\", \"@ChinaEmbSL\", 0, 336, \"2020/03/20\"], [\"Daniel M\\u00fagica\", \"@danimugicagmai1\", 4, 214, \"2016/03/02\"], [\"DCI KENYA\", \"@DCI_Kenya\", 112, 88, \"2014/05/30\"], [\"DCI KENYA\", \"@DCI_Kenya\", 13, 88, \"2014/05/30\"], [\"Kellyanne Conway\", \"@KellyannePolls\", 365, 937, \"2012/01/23\"], [\"Kellyanne Conway\", \"@KellyannePolls\", 1925, 937, \"2012/01/23\"], [\"Bihar Health Dept\", \"@BiharHealthDept\", 19, 100, \"2019/06/03\"], [\"The Hill\", \"@thehill\", 332, 276, \"2007/03/22\"], [\"aljo maes\", \"@aljomaes2010\", 1, 1382, \"2010/10/26\"], [\"Eddie Holmes\", \"@edwardcholmes\", 75, 369, \"2014/06/10\"], [\"Syed ghayasuddin\", \"@ghayasU59473086\", 16, 864, \"2019/07/04\"], [\"TN - Todo Noticias\", \"@todonoticias\", 592, 21, \"2009/03/23\"], [\"Charlie Flanagan\", \"@CharlieFlanagan\", 35, 646, \"2009/11/04\"], [\"Florencia Ballarino\", \"@FlorBallarino\", 20, 2141, \"2013/04/04\"], [\"Jair M. Bolsonaro\", \"@jairbolsonaro\", 5703, 550, \"2010/03/31\"], [\"Clare Daly\", \"@ClareDalyMEP\", 141, 29, \"2011/10/05\"], [\"Garrett Bedenbaugh\", \"@wxgarrett\", 69, 2501, \"2009/01/15\"], [\"VOST Comunitat Valenciana\", \"@VOSTcvalenciana\", 78, 531, \"2013/06/05\"], [\"Doble R\", \"@r_doble\", 0, 595, \"2011/11/07\"], [\"justice-n'est-plus\", \"@plus_justice\", 7, 183, \"2014/02/06\"], [\"Thaung Tun\", \"@ThaungTun20\", 1222, 39, \"2019/09/26\"], [\"DEO SAFARI\", \"@DEOSAFARI7\", 0, 5, \"2020/02/10\"], [\"ABS-CBN News\", \"@ABSCBNNews\", 243, 1069, \"2008/08/16\"], [\"KattaNews\", \"@katta_news\", 28, 0, \"2019/11/18\"], [\"Vic Micolucci WJXT\", \"@WJXTvic\", 17, 3368, \"2009/03/23\"], [\"The White House 45 Archived\", \"@WhiteHouse45\", 1063, 11, \"2017/01/19\"], [\"Golden State Times \\ud83c\\uddfa\\ud83c\\uddf8\", \"@Goldstatetimes\", 6050, 232, \"2012/09/17\"], [\"\\u200f \\u0627\\u0646\\u0627 \\u0633\\u062a\\u0648\\u0631\\u0645\\u064a\\ud83d\\udca8 BBS2949 \\u0643\\u0648\\u062f \\u0627\\u064a\\u0647\\u064a\\u0631\\u0628\", \"@bbbii1010\", 5, 2562, \"2019/05/31\"], [\"\\u0627\\u0644\\u0645\\u0633\\u062a\\u0634\\u0627\\u0631 \\u0642\\u0627\\u0633\\u0645 \\u062d\\u062f\\u0631\\u062c\", \"@almostshar202\", 14, 3627, \"2018/05/07\"], [\"Shehan Madawa \\ud83c\\uddf1\\ud83c\\uddf0\", \"@shehanmlive\", 2, 793, \"2010/02/04\"], [\"ELSAN\", \"@elsan\", 6, 1704, \"2013/12/05\"], [\"BCRA\", \"@BancoCentral_AR\", 33, 19, \"2014/05/23\"], [\"BCRA\", \"@BancoCentral_AR\", 45, 19, \"2014/05/23\"], [\"Eduardo Leite\", \"@EduardoLeite_\", 192, 443, \"2010/03/17\"], [\"Tiger Brands\", \"@TigerBrands\", 1, 269, \"2015/12/17\"], [\"Presidency | South Africa \\ud83c\\uddff\\ud83c\\udde6\", \"@PresidencyZA\", 70, 17, \"2009/05/18\"], [\"The Judiciary Kenya\", \"@Kenyajudiciary\", 164, 79, \"2014/10/25\"], [\"Pordenone y Budoia 2005\", \"@PordenoneBudoia\", 31, 2732, \"2019/06/19\"], [\"Waris Pathan\", \"@warispathan\", 196, 478, \"2014/11/28\"], [\"Darin LaHood\", \"@RepLaHood\", 9, 1220, \"2015/09/17\"], [\"ian bremmer\", \"@ianbremmer\", 949, 1457, \"2009/07/28\"], [\"Kamil Karamali\", \"@KamilKaramali\", 1222, 1570, \"2009/07/07\"], [\"Eduardo Bolsonaro\\ud83c\\udde7\\ud83c\\uddf7\", \"@BolsonaroSP\", 1002, 691, \"2009/09/16\"], [\"UZ Brussel\", \"@UZBrussel\", 12, 544, \"2011/07/07\"], [\"Chirag Thumar\", \"@ThumarChirag\", 121, 1444, \"2013/04/16\"], [\"Belduque\", \"@belduque\", 1, 609, \"2010/03/20\"], [\"Ed\\u00fa Duro d Emelec\", \"@EduX2021\", 5, 598, \"2011/09/17\"], [\"Andrew Petter Nold Long \\ud83c\\udde7\\ud83c\\uddf7 \\ud83c\\uddfa\\ud83c\\uddf8 Bolsonarista \\ud83e\\udde0\", \"@Andrew_Petter\", 117, 9380, \"2011/04/23\"], [\"Paulo Smith\", \"@pecunia55\", 3, 431, \"2010/02/23\"], [\"Noticias Caracol\", \"@NoticiasCaracol\", 19, 1135, \"2008/12/02\"], [\"\\u5831\\u9053\\u3055\\u308c\\u306a\\u3044\\u30b3\\u30ed\\u30ca\\u60c5\\u5831\", \"@JPYlTqpLzb65rdX\", 5126, 0, \"2020/02/26\"], [\"BBC Politics\", \"@BBCPolitics\", 11933, 289, \"2007/01/10\"], [\"CHU de Lille\", \"@CHU_Lille\", 32, 1037, \"2011/11/16\"], [\"Amanda P\\u00e1ez\", \"@amandaasubiar\", 772, 5356, \"2011/07/15\"], [\"Amanda P\\u00e1ez\", \"@amandaasubiar\", 167, 5356, \"2011/07/15\"], [\"Amanda P\\u00e1ez\", \"@amandaasubiar\", 204, 5356, \"2011/07/15\"], [\"Shivaram Mchinnappa\", \"@Mshivaram23M\", 0, 57, \"2016/07/08\"], [\"Narayana Health\", \"@NarayanaHealth\", 1, 11, \"2013/04/03\"], [\"Julianna Tatelbaum\", \"@CNBCJulianna\", 123, 1016, \"2018/09/12\"], [\"Faisal Javed Khan\", \"@FaisalJavedKhan\", 1060, 1341, \"2011/03/04\"], [\"World Health Organization (WHO)\", \"@WHO\", 40964, 1734, \"2008/04/23\"], [\"Vas Narasimhan\", \"@VasNarasimhan\", 117, 230, \"2016/04/22\"], [\"PIB Fact Check\", \"@PIBFactCheck\", 315, 31, \"2019/12/19\"], [\"Murtaza Solangi\", \"@murtazasolangi\", 121, 3209, \"2009/05/04\"], [\"TF1LeJT\", \"@TF1LeJT\", 61, 739, \"2015/07/24\"], [\"WHO Kenya\", \"@WHOKenya\", 22, 250, \"2017/01/19\"], [\"groveers.com\", \"@groveers\", 0, 477, \"2019/02/03\"], [\"sharjahmedia\", \"@sharjahmedia\", 8, 171, \"2011/10/02\"], [\"Raila Odinga\", \"@RailaOdinga\", 1223, 308, \"2011/05/18\"], [\"Nistula Hebbar\", \"@nistula\", 239, 1274, \"2010/07/01\"], [\"Iv\\u00e1n Jes\\u00fas Izaguirre I.\", \"@ivaniz66\", 3833, 5275, \"2009/11/11\"], [\"WHO South-East Asia\", \"@WHOSEARO\", 820, 745, \"2013/06/25\"], [\"PIB Fact Check\", \"@PIBFactCheck\", 336, 31, \"2019/12/19\"], [\"Revista Mongolia\", \"@revistamongolia\", 189, 3659, \"2012/01/27\"], [\"Amitabh Bachchan\", \"@SrBachchan\", 6120, 1803, \"2010/05/18\"], [\"Sachin Yadav\", \"@SachinYadavRJD\", 23, 675, \"2017/12/20\"], [\"Ignacio Pereira\", \"@ignaciopereira\", 688, 399, \"2010/03/06\"], [\"Jerome Rodrigues Officiel\", \"@J_Rodrigues_Off\", 61, 236, \"2019/01/12\"], [\"Emerald Robinson \\u271d\\ufe0f\", \"@EmeraldRobinson\", 3654, 8776, \"2015/10/18\"], [\"Guardia Civil \\ud83c\\uddea\\ud83c\\uddf8\", \"@guardiacivil\", 647, 288, \"2011/05/09\"], [\"Candace Owens\", \"@RealCandaceO\", 11233, 26, \"2017/06/23\"], [\"Ministry of Health\", \"@MoHFW_INDIA\", 247, 192, \"2014/06/30\"], [\"Guillaume Gendron\", \"@g_gendron\", 1, 1611, \"2011/08/30\"], [\"Val Lopes\", \"@valkloples\", 18, 322, \"2018/04/09\"], [\"IFEMA\", \"@IFEMA\", 45, 7032, \"2009/07/14\"], [\"Gerardo Zamora\", \"@GZamoraSDE\", 146, 66, \"2010/10/27\"], [\"Evo Morales Ayma\", \"@evoespueblo\", 1797, 30, \"2016/04/15\"], [\"\\u0917\\u094b\\u092a\\u093e\\u0932 \\u0938\\u0928\\u093e\\u0924\\u0928\\u0940\", \"@GopalSa22721269\", 12, 6336, \"2019/09/20\"], [\"policiacibercol\", \"@policiacibercol\", 2, 106, \"2020/03/26\"], [\"A'i\", \"@aisha_yaGuda\", 129, 882, \"2018/05/04\"], [\"Martin\", \"@EspLegion\", 0, 763, \"2016/10/21\"], [\"NCDC\", \"@NCDCgov\", 7310, 384, \"2016/03/04\"], [\"UP POLICE\", \"@Uppolice\", 867, 430, \"2013/03/16\"], [\"World Health Organization (WHO)\", \"@WHO\", 869, 1734, \"2008/04/23\"], [\"Ministry of Health\", \"@MOH_Kenya\", 46, 661, \"2016/02/02\"], [\"Raila Odinga\", \"@RailaOdinga\", 144, 308, \"2011/05/18\"], [\"The ODM Party\", \"@TheODMparty\", 40, 80, \"2012/09/11\"], [\"Marcelo Rubens Paiva\", \"@marcelorubens\", 417, 695, \"2009/04/10\"], [\"Ministry of Finance, Budget and National Planning\", \"@FinMinNigeria\", 739, 164, \"2017/03/17\"], [\"ARY News Live\", \"@ARYNewsApp\", 0, 794, \"2015/05/01\"], [\"The ODM Party\", \"@TheODMparty\", 16, 80, \"2012/09/11\"], [\"GDT Guardia Civil\", \"@GDTGuardiaCivil\", 257, 110, \"2010/09/09\"], [\"Guardia Civil \\ud83c\\uddea\\ud83c\\uddf8\", \"@guardiacivil\", 623, 288, \"2011/05/09\"], [\"BJP\", \"@BJP4India\", 676, 3, \"2010/10/26\"], [\"\\u0647\\u0627\\u0634\\u0644 \\u0627\\u0644\\u0647\\u0648\\u064a\\u0634\\u0644\", \"@ourkuwait\", 0, 262, \"2019/05/19\"], [\"\\u063a\\u0627\\u0632\\u064a \\u0628\\u0646 \\u0645\\u0646\\u0635\\u0648\\u0631 \\u0627\\u0644\\u0631\\u0627\\u062c\\u062d\\u064a\", \"@gha9700\", 88, 152, \"2015/08/19\"], [\"Helder Barbalho\", \"@helderbarbalho\", 60, 1183, \"2010/06/03\"], [\"Ratan N. Tata\", \"@RNTata2000\", 34062, 35, \"2011/04/05\"], [\"Rajasthan Police\", \"@PoliceRajasthan\", 276, 173, \"2017/09/13\"], [\"Ministry of Health\", \"@MOH_Kenya\", 76, 661, \"2016/02/02\"], [\"Rafael Hernando\", \"@Rafa_Hernando\", 677, 969, \"2011/09/26\"], [\"Nacho Ayala\", \"@nachoayalab\", 763, 257, \"2014/04/20\"], [\"VOX \\ud83c\\uddea\\ud83c\\uddf8\", \"@vox_es\", 1212, 1250, \"2013/11/18\"], [\"Ministerio Transportes, Movilidad y A. Urbana\", \"@mitmagob\", 2081, 354, \"2011/02/09\"], [\"Pure Michigan Girl\", \"@PureMichGirl\", 1212, 29813, \"2013/05/15\"], [\"Rodrigo Quiroga\", \"@rquiroga777\", 584, 4089, \"2011/09/04\"], [\"Tori Sachs\", \"@Tori_Sachs\", 4, 4479, \"2010/11/22\"], [\"Jair M. Bolsonaro\", \"@jairbolsonaro\", 2335, 550, \"2010/03/31\"], [\"ICEBOY \\ud83d\\udc3c\", \"@Caleb_Waswa_\", 1194, 9049, \"2016/09/17\"], [\"Bobby Lewis\", \"@revrrlewis\", 1184, 1187, \"2014/05/09\"], [\"Baybars \\u00d6rsek\", \"@baybarsorsek\", 11, 541, \"2009/03/27\"], [\"Steve Vladeck\", \"@steve_vladeck\", 209, 3060, \"2011/09/26\"], [\"World Health Organization (WHO)\", \"@WHO\", 509, 1734, \"2008/04/23\"], [\"Steve Vladeck\", \"@steve_vladeck\", 619, 3060, \"2011/09/26\"], [\"TODAY\", \"@TODAYshow\", 248, 7916, \"2007/07/26\"], [\"IRSnews\", \"@IRSnews\", 316, 133, \"2009/09/08\"], [\"\\u7f8e\\u56fd\\u4e4b\\u97f3\\u4e2d\\u6587\\u7f51\", \"@VOAChinese\", 224, 163, \"2007/08/13\"], [\"BNPB Indonesia\", \"@BNPB_Indonesia\", 206, 289, \"2011/08/01\"], [\"Aarogya Setu\", \"@SetuAarogya\", 62, 14, \"2020/04/03\"], [\"AardvarkMobileTours\", \"@aardvarkel\", 2, 702, \"2012/10/24\"], [\"takaoka\", \"@takaoka\", 38025, 2587, \"2007/04/11\"], [\"Leandro Cahn \\ud83d\\udc9a\", \"@leandrocahn\", 474, 1219, \"2009/08/31\"], [\"Aravind\", \"@aravindcherry\", 1, 841, \"2010/02/21\"], [\"Global Times\", \"@globaltimesnews\", 129, 520, \"2009/06/22\"], [\"World Health Organization (WHO) Western Pacific\", \"@WHOWPRO\", 10, 1205, \"2015/10/05\"], [\"\\u0648\\u0643\\u0627\\u0644\\u0629 \\u062a\\u0639\\u0644\\u064a\\u0642 \\u0627\\u0644\\u062f\\u0631\\u0627\\u0633\\u0629\", \"@News_Ejazah\", 658, 8955, \"2013/04/28\"], [\"James Todaro, MD\", \"@JamesTodaroMD\", 1772, 1606, \"2016/11/30\"], [\"BBC Politics\", \"@BBCPolitics\", 10902, 289, \"2007/01/10\"], [\"CenterForGreatApes\", \"@CFGA\", 526, 2163, \"2009/03/28\"], [\"World Bank Kenya\", \"@WorldBankKenya\", 102, 4639, \"2013/12/13\"], [\"Governor Phil Murphy\", \"@GovMurphy\", 4026, 188, \"2018/01/04\"], [\"Elon Musk\", \"@elonmusk\", 11885, 103, \"2009/06/02\"], [\"Roop Darak BHARTIYA\", \"@iRupND\", 880, 388, \"2019/12/21\"], [\"Barack Obama\", \"@BarackObama\", 36699, 593532, \"2007/03/05\"], [\"Priorities USA\", \"@prioritiesUSA\", 76882, 68, \"2011/04/29\"], [\"PIB Fact Check\", \"@PIBFactCheck\", 72, 31, \"2019/12/19\"], [\"Jo\\u00e3o Doria\", \"@jdoriajr\", 208, 371, \"2009/08/11\"], [\"Allison Pearson\", \"@allisonpearson\", 655, 18003, \"2010/04/26\"], [\"Ministerio de Salud\", \"@Minsa_Peru\", 468, 3629, \"2010/04/29\"], [\"\\u0424\\u0440\\u0435\\u0434 \\u040f\\u043e\\u043d\\u0441\", \"@Freddy_AFC\", 11, 1881, \"2015/03/29\"], [\"ishaan prakash\", \"@ishaan_ANI\", 826, 100, \"2013/06/30\"], [\"OPS/OMS Per\\u00fa\", \"@OPSOMSPeru\", 194, 1337, \"2010/05/06\"], [\"Rudy W. Giuliani\", \"@RudyGiuliani\", 538, 460, \"2016/08/31\"], [\"Sarim malik19\", \"@Sarim192\", 0, 130, \"2019/03/06\"], [\"Luciana Borio, MD\", \"@llborio\", 507, 352, \"2013/03/15\"], [\"Prasar Bharati News Services \\u092a\\u0940.\\u092c\\u0940.\\u090f\\u0928.\\u090f\\u0938.\", \"@PBNS_India\", 2469, 71, \"2019/04/01\"], [\"Ministry of Health\", \"@MOH_Kenya\", 99, 661, \"2016/02/02\"], [\"PIB Fact Check\", \"@PIBFactCheck\", 177, 31, \"2019/12/19\"], [\"Leo Varadkar\", \"@LeoVaradkar\", 50, 1751, \"2010/12/22\"], [\"Leo Varadkar\", \"@LeoVaradkar\", 605, 1751, \"2010/12/22\"], [\"Houseparty\", \"@houseparty\", 8720, 14, \"2014/12/12\"], [\"Syed Rahat Naqvi\", \"@SyedRahatNaqvi\", 32, 465, \"2018/12/13\"], [\"Fenalco Nacional\", \"@FenalcoNacional\", 64, 995, \"2009/11/11\"], [\"Tedros Adhanom Ghebreyesus\", \"@DrTedros\", 2602, 1206, \"2010/09/12\"], [\"Sagar P. Kapasi\", \"@iamsagarkapasi\", 0, 94, \"2010/06/18\"], [\"Carlos Vera\", \"@CarlosVerareal\", 1988, 2939, \"2010/09/19\"], [\"Osmar Terra\", \"@OsmarTerra\", 7615, 10860, \"2009/07/01\"], [\"Hora 25\", \"@hora25\", 2668, 903, \"2008/05/17\"], [\"\\ud835\\udc05\\ud835\\udc22\\ud835\\udc27\\ud835\\udc1a\\ud835\\udc27\\ud835\\udc33\\ud835\\udc1a\\ud835\\udc2c \\u225c\", \"@Finanzas_Pharol\", 1328, 50, \"2019/07/02\"], [\"Presidencia Colombia \\ud83c\\udde8\\ud83c\\uddf4\", \"@infopresidencia\", 46, 292, \"2011/06/07\"], [\"\\u041c\\u0438\\u043d\\u0438\\u0441\\u0442\\u0435\\u0440\\u0441\\u0442\\u0432\\u043e \\u0437\\u0430 \\u0437\\u0434\\u0440\\u0430\\u0432\\u0441\\u0442\\u0432\\u043e\", \"@ZdravstvoMK\", 31, 141, \"2012/12/06\"], [\"NYTimes Communications\", \"@NYTimesPR\", 542, 1506, \"2008/08/12\"], [\"SDG2030\", \"@SDG2030\", 142, 500, \"2015/03/18\"], [\"Trump War Room\", \"@TrumpWarRoom\", 946, 267, \"2019/03/20\"], [\"Roy Barreras\", \"@RoyBarreras\", 2369, 1687, \"2009/08/02\"], [\"Agir Gupta\", \"@agirgupta\", 0, 10, \"2015/05/07\"], [\"ASG01\", \"@rocksatish448\", 1, 43, \"2017/11/14\"], [\"Dr K K Aggarwal\", \"@DrKKAggarwal\", 10, 533, \"2010/01/03\"], [\"Pradeep Dwivedi\\u00ae\", \"@PradeepDwivedi\", 0, 2022, \"2009/03/26\"], [\"MOFA\", \"@MOFAkr_eng\", 35, 511, \"2010/10/18\"], [\"Grupo M\\u00e9mora\", \"@GrupoMemora\", 2, 428, \"2012/07/03\"], [\"\\ud83c\\uddee\\ud83c\\uddf3 Nation 1st \\ud83d\\udd49\\ud83d\\udea9\", \"@Nation_is1st\", 9, 4826, \"2015/01/03\"], [\"Assam Police\", \"@assampolice\", 142, 118, \"2015/08/05\"], [\"Geri Cuba\", \"@GerardoCuba1986\", 1, 400, \"2018/10/11\"], [\"Jignesh\", \"@thisisjignesh\", 213, 1475, \"2017/07/10\"], [\"Osmar Terra\", \"@OsmarTerra\", 0, 10860, \"2009/07/01\"], [\"Candace Owens\", \"@RealCandaceO\", 4754, 26, \"2017/06/23\"], [\"Salim Mattar\", \"@salimmattarBR\", 347, 80, \"2019/10/21\"], [\"World Health Organization (WHO)\", \"@WHO\", 898, 1734, \"2008/04/23\"], [\"badly-drawn bee \\ud83d\\udc1d\", \"@soapachu\", 9597, 7804, \"2009/02/17\"], [\"Juan Manuel Gal\\u00e1n\", \"@juanmanuelgalan\", 78, 15801, \"2009/04/14\"], [\"SALUD M\\u00e9xico\", \"@SSalud_mx\", 58, 237, \"2010/04/12\"], [\"\\u062f\\u0627\\u0631 \\u0627\\u0644\\u0625\\u0641\\u062a\\u0627\\u0621 \\u0627\\u0644\\u0645\\u0635\\u0631\\u064a\\u0629 \\ud83c\\uddea\\ud83c\\uddec\", \"@EgyptDarAlIfta\", 566, 3, \"2015/01/05\"], [\"Cameron Kyle-Sidell, MD\", \"@cameronks\", 14, 174, \"2011/04/18\"], [\"Inquirer\", \"@inquirerdotnet\", 27, 1827, \"2008/07/16\"], [\"Elliot Alderson\", \"@fs0c131y\", 310, 3792, \"2015/06/10\"], [\"Live Law\", \"@LiveLawIndia\", 389, 1100, \"2013/03/09\"], [\"Ignacio Pereira\", \"@ignaciopereira\", 148, 399, \"2010/03/06\"], [\"Noguchi Memorial Institute for Medical Research\", \"@NMIMR_UG\", 805, 59, \"2018/08/10\"], [\"Rodrigo Maia\", \"@RodrigoMaia\", 2799, 621, \"2009/04/25\"], [\"\\ud83c\\udf80Makhumaloo\\ud83c\\udf80\", \"@Tk0606khumz\", 14, 7260, \"2019/09/11\"], [\"MinSaludCol\", \"@MinSaludCol\", 1039, 814, \"2011/09/11\"], [\"\\u00c1lvaro Uribe V\\u00e9lez\", \"@AlvaroUribeVel\", 3280, 3637, \"2009/07/29\"], [\"HomeAffairsSA\", \"@HomeAffairsSA\", 56, 1740, \"2011/06/30\"], [\"Alexandre Shazzam\", \"@alefrota77\", 63, 729, \"2019/08/25\"], [\"WAHO | OOAS\", \"@OoasWaho\", 7, 279, \"2016/02/18\"], [\"Brit Hume\", \"@brithume\", 12342, 838, \"2010/02/07\"], [\"Rahul Kanwal\", \"@rahulkanwal\", 4823, 4098, \"2009/09/19\"], [\"IMSS Jalisco\", \"@imssjalcontigo\", 56, 736, \"2014/06/05\"], [\"Ministry of Health\", \"@MOH_Kenya\", 51, 661, \"2016/02/02\"], [\"Inquirer\", \"@inquirerdotnet\", 8, 1827, \"2008/07/16\"], [\"El pollo\", \"@elpollocabreado\", 0, 142, \"2011/05/19\"], [\"WAHO | OOAS\", \"@OoasWaho\", 12, 279, \"2016/02/18\"], [\"Tori Sachs\", \"@Tori_Sachs\", 2560, 4479, \"2010/11/22\"], [\"NCDC\", \"@NCDCgov\", 3065, 384, \"2016/03/04\"], [\"\\u062f\\u0627\\u0631 \\u0627\\u0644\\u0625\\u0641\\u062a\\u0627\\u0621 \\u0627\\u0644\\u0645\\u0635\\u0631\\u064a\\u0629 \\ud83c\\uddea\\ud83c\\uddec\", \"@EgyptDarAlIfta\", 202, 3, \"2015/01/05\"], [\"IMSS\", \"@Tu_IMSS\", 3600, 34641, \"2009/08/26\"], [\"Andrew Lawrence\", \"@ndrew_lawrence\", 103, 3431, \"2013/02/28\"], [\"Miyerlandi Torres Agredo\", \"@MiyerTorresA\", 54, 339, \"2013/09/16\"], [\"Jo\\u00e3o Doria\", \"@jdoriajr\", 61, 371, \"2009/08/11\"], [\"NDTV\", \"@ndtv\", 213, 15, \"2009/05/01\"], [\"World Health Organization (WHO) Western Pacific\", \"@WHOWPRO\", 13, 1205, \"2015/10/05\"], [\"World Health Organization (WHO) Western Pacific\", \"@WHOWPRO\", 18, 1205, \"2015/10/05\"], [\"AFP News Agency\", \"@AFP\", 449, 611, \"2011/09/27\"], [\"SheDecides Philippines\", \"@SheDecidesPH\", 1, 107, \"2020/02/24\"], [\"SINAG\", \"@csspsinag\", 7, 113, \"2015/04/22\"], [\"Sarah Elago\", \"@sarahelago\", 6, 1559, \"2010/01/08\"], [\"Ministerio de Sanidad\", \"@sanidadgob\", 104, 689, \"2010/12/30\"], [\"Salud P\\u00fablica\", \"@SaludPublicaEs\", 770, 7, \"2014/10/10\"], [\"Salud P\\u00fablica\", \"@SaludPublicaEs\", 1040, 7, \"2014/10/10\"], [\"Ministerio de Sanidad\", \"@sanidadgob\", 141, 689, \"2010/12/30\"], [\"Sarah Elago\", \"@sarahelago\", 28, 1559, \"2010/01/08\"], [\"SGG Edom\\u00e9x\", \"@SGGEdomex\", 11, 566, \"2011/09/16\"], [\"Nadine Witkowski\", \"@witkowski_nad\", 126, 359, \"2016/01/19\"], [\"D.Kimathi University\", \"@DeKUTkenya\", 3, 463, \"2013/09/20\"], [\"Jean-Michel Blanquer\", \"@jmblanquer\", 1757, 6525, \"2011/08/22\"], [\"Minist\\u00e9rio da Sa\\u00fade\", \"@minsaude\", 9465, 486, \"2009/05/04\"], [\"Naftali Bennett \\u05d1\\u05e0\\u05d8\", \"@naftalibennett\", 312, 688, \"2008/02/07\"], [\"Fran\\u00e7ois Legault\", \"@francoislegault\", 579, 157, \"2011/03/04\"], [\"State House Kenya\", \"@StateHouseKenya\", 146, 215, \"2011/08/30\"], [\"Tyrone_gawa\", \"@gawa_tyrone\", 0, 2281, \"2009/03/22\"], [\"CMO Maharashtra\", \"@CMOMaharashtra\", 907, 99, \"2014/07/01\"], [\"Minist\\u00e9rio da Sa\\u00fade\", \"@minsaude\", 340, 486, \"2009/05/04\"], [\"Dan Patrick\", \"@DanPatrick\", 177, 827, \"2008/11/24\"], [\"Nimra\", \"@smokyswaggin\", 1252, 45, \"2013/11/27\"], [\"CP Mumbai Police\", \"@CPMumbaiPolice\", 3721, 21, \"2015/12/16\"], [\"Sonam Mahajan\", \"@AsYouNotWish\", 2432, 38, \"2011/07/25\"], [\"RanveerAulakh33468 - \\u0915\\u093f\\u0938\\u093e\\u0928 \\u092e\\u091c\\u0926\\u0942\\u0930 \\u090f\\u0915\\u0924\\u093e \\u091c\\u093f\\u0928\\u094d\\u0926\\u093e\\u092c\\u093e\\u0926\", \"@aulakh33468\", 0, 1653, \"2020/02/24\"], [\"Narendra Modi\", \"@narendramodi\", 65549, 2354, \"2009/01/10\"], [\"newschecker.in\", \"@NewscheckerIn\", 22, 242, \"2019/02/14\"], [\"James Cook\", \"@BBCJamesCook\", 1554, 1775, \"2008/10/28\"], [\"Ministry of Health- Uganda\", \"@MinofHealthUG\", 320, 414, \"2014/11/18\"], [\"Matteo Salvini\", \"@matteosalvinimi\", 2120, 2007, \"2011/03/23\"], [\"Giorgia Meloni \\ud83c\\uddee\\ud83c\\uddf9 \\u0646\", \"@GiorgiaMeloni\", 1270, 906, \"2010/04/07\"], [\"Francisco Mu\\u00f1oz\", \"@panchorgl\", 127, 1655, \"2007/07/27\"], [\"Naftali Bennett \\u05d1\\u05e0\\u05d8\", \"@naftalibennett\", 13, 688, \"2008/02/07\"], [\"Mehrunnissa Khan\", \"@KhanMehrunnissa\", 6, 12, \"2020/02/16\"], [\"7NEWS Sydney\", \"@7NewsSydney\", 28, 179, \"2010/06/17\"], [\"Ministry of Health\", \"@MOH_Kenya\", 286, 661, \"2016/02/02\"], [\"Department of Health and Social Care\", \"@DHSCgovuk\", 99, 852, \"2009/05/05\"], [\"Santiago Cafiero\", \"@SantiCafiero\", 351, 526, \"2009/05/26\"], [\"Medanta\", \"@medanta\", 122, 3045, \"2009/11/18\"], [\"Mar\\u00eda Luisa Melo\", \"@MLMelo\", 192, 3703, \"2009/08/27\"], [\"Matt McCarthy\", \"@DrMattMcCarthy\", 18748, 139, \"2013/09/14\"], [\"Johns Hopkins University\", \"@JohnsHopkins\", 407, 4889, \"2008/04/19\"], [\"PharmaMar\", \"@PhrmMar\", 130, 2040, \"2015/01/29\"], [\"Troll Memes\", \"@troll_Memes09\", 71, 568, \"2017/04/05\"], [\"Alfredo Rangel\", \"@AlRangelS\", 4829, 753, \"2010/08/04\"], [\"Ministry of Health\", \"@MOH_Kenya\", 66, 661, \"2016/02/02\"], [\"PIB Fact Check\", \"@PIBFactCheck\", 346, 31, \"2019/12/19\"], [\"Andr\\u00e9s Manuel\", \"@lopezobrador_\", 5072, 256, \"2009/10/13\"], [\"Fahrettin Altun\", \"@fahrettinaltun\", 7581, 1138, \"2018/02/23\"], [\"Talisson Ferreira\", \"@talissondsf\", 109, 2653, \"2018/04/04\"], [\"PP Jain INC\", \"@pppjain\", 3, 362, \"2010/03/02\"], [\"Chayan Chatterjee\", \"@Satyanewshi\", 551, 262, \"2016/07/13\"], [\"Abhishek Srivastava\", \"@plutokingsize\", 5, 96, \"2010/01/06\"], [\"\\u0e01\\u0e23\\u0e30\\u0e17\\u0e23\\u0e27\\u0e07\\u0e2a\\u0e32\\u0e18\\u0e32\\u0e23\\u0e13\\u0e2a\\u0e38\\u0e02\", \"@pr_moph\", 129, 494, \"2010/05/14\"], [\"OMS Alg\\u00e9rie\", \"@OMS_ALGERIE\", 32, 90, \"2016/06/27\"], [\"\\u092a\\u0940\\u0906\\u0908\\u092c\\u0940 \\u0939\\u093f\\u0902\\u0926\\u0940\", \"@PIBHindi\", 197, 118, \"2015/01/29\"], [\"\\u0627\\u0644\\u0645\\u062c\\u0644\\u0633\", \"@Almajlliss\", 108, 0, \"2012/02/13\"], [\"Didier Raoult\", \"@raoult_didier\", 9884, 14, \"2020/03/24\"], [\"\\ud83c\\udf1fSONIA \\u2728 ORGANA\\ud83c\\udf1f\", \"@AINOSvp\", 20, 442, \"2011/03/06\"], [\"Stefano Pontecorvo\", \"@pontecorvoste\", 344, 1790, \"2015/10/27\"], [\"Tedros Adhanom Ghebreyesus\", \"@DrTedros\", 1636, 1206, \"2010/09/12\"], [\"loneWolf\", \"@Aj6ix9ine\", 3, 1720, \"2019/02/14\"], [\"R\\u00e1dio CBN\", \"@CBNoficial\", 5149, 206, \"2012/08/28\"], [\"Susanta Nanda IFS\", \"@susantananda3\", 1611, 349, \"2018/01/03\"], [\"Missouri DESE\", \"@MOEducation\", 300, 1792, \"2010/11/16\"], [\"ANI\", \"@ANI\", 85, 0, \"2011/08/16\"], [\"IRSnews\", \"@IRSnews\", 2478, 133, \"2009/09/08\"], [\"\\u062f\\u0627\\u0631 \\u0627\\u0644\\u0625\\u0641\\u062a\\u0627\\u0621 \\u0627\\u0644\\u0645\\u0635\\u0631\\u064a\\u0629 \\ud83c\\uddea\\ud83c\\uddec\", \"@EgyptDarAlIfta\", 47, 3, \"2015/01/05\"], [\"DIRCO South Africa\", \"@DIRCO_ZA\", 12, 4284, \"2015/01/28\"], [\"Spokesperson, Ministry of Home Affairs\", \"@PIBHomeAffairs\", 2742, 135, \"2016/07/13\"], [\"Instituto de Salud Carlos III (ISCIII)\", \"@SaludISCIII\", 14, 525, \"2019/04/13\"], [\"World Health Organization Philippines\", \"@WHOPhilippines\", 503, 488, \"2013/11/27\"], [\"Tedros Adhanom Ghebreyesus\", \"@DrTedros\", 774, 1206, \"2010/09/12\"], [\"CDC\", \"@CDCgov\", 512, 269, \"2010/05/21\"], [\"Global Times\", \"@globaltimesnews\", 2285, 520, \"2009/06/22\"], [\"Emilio Morenatti\", \"@EmilioMorenatti\", 271, 533, \"2011/02/20\"], [\"Lijian Zhao \\u8d75\\u7acb\\u575a\", \"@zlj517\", 3211, 174813, \"2010/05/08\"], [\"Embajada de Cuba en el Per\\u00fa\", \"@EmbaCubaPeru\", 32, 1221, \"2014/08/20\"], [\"Olivier V\\u00e9ran\", \"@olivierveran\", 39979, 462, \"2012/06/05\"], [\"Universit\\u00e4t Wien\", \"@univienna\", 447, 1720, \"2013/02/07\"], [\"BAST - Sound Therapy\", \"@BASoundTherapy\", 1, 914, \"2016/08/31\"], [\"Rebecca Alitwala Kadaga\", \"@RebeccaKadagaUG\", 127, 209, \"2019/01/15\"], [\"Faheem Younus, MD\", \"@FaheemYounus\", 5953, 445, \"2011/10/12\"], [\"Giuseppe Conte\", \"@GiuseppeConteIT\", 3040, 135, \"2018/05/24\"], [\"Guardia Civil \\ud83c\\uddea\\ud83c\\uddf8\", \"@guardiacivil\", 412, 288, \"2011/05/09\"], [\"LIBRESYLOKOS.NET\", \"@LIBRESYLOKOS\", 125, 234, \"2009/07/20\"], [\"PDH Guatemala\", \"@PDHgt\", 16, 520, \"2013/09/23\"], [\"Comite Carapungo\", \"@CarapungoComite\", 9, 368, \"2017/08/30\"], [\"\\ud835\\udcd1\\ud835\\udcf2\\ud835\\udcf7\\ud835\\udcfd-\\ud835\\udcd4-\\ud835\\udcd7\\ud835\\udcea\\ud835\\udd00\\ud835\\udcea \\u0628\\u0646\\u062a\\u0650 \\u062d\\u0648\\u0627\", \"@zTweeples\", 11, 9, \"2020/01/28\"], [\"General Heleno\", \"@gen_heleno\", 6412, 49, \"2019/08/19\"], [\"Alejo Miranda de Larra\", \"@AlejoMiranda\", 84, 1646, \"2009/01/04\"], [\"Ayuntamiento de Adra\", \"@AytoAdra\", 0, 87, \"2015/11/18\"], [\"Jimina\", \"@Jimina_Sabadu\", 1294, 1804, \"2007/03/12\"], [\"Valerio Capraro\", \"@ValerioCapraro\", 25153, 194, \"2013/09/12\"], [\"Er. A N Ansari.\", \"@ErANAnsari\", 0, 2019, \"2017/06/02\"], [\"Jimina\", \"@Jimina_Sabadu\", 7, 1804, \"2007/03/12\"], [\"OjoP\\u00fablico\", \"@Ojo_Publico\", 33, 470, \"2014/06/22\"], [\"Ga\\u00ebl Hurlimann\", \"@gaelhurlimann\", 42, 1363, \"2009/04/27\"], [\"Hassaan Niazi\", \"@HniaziISF\", 6, 270, \"2010/04/09\"], [\"Te\\u00f3filo Borrallo\", \"@Teofilo1952\", 2, 11392, \"2010/11/17\"], [\"raj\", \"@raj2jas\", 1, 2213, \"2009/04/14\"], [\"Government of Rajasthan\", \"@RajGovOfficial\", 155, 24, \"2016/10/12\"], [\"Ayuntamiento de Calahorra\", \"@aytocalahorra\", 9, 610, \"2012/02/13\"], [\"Joe Biden\", \"@JoeBiden\", 40465, 46, \"2007/03/11\"], [\"Ministry of Health- Uganda\", \"@MinofHealthUG\", 1262, 414, \"2014/11/18\"], [\"Michael Welling\", \"@WellingMichael\", 21283, 19295, \"2011/08/19\"], [\"ENACOM\", \"@ENACOMArgentina\", 1284, 765, \"2013/12/17\"], [\"kmario\", \"@kmario\", 532, 2079, \"2008/04/28\"], [\"\\u2734\\ufe0f \\u1662\\u0e04\\u13c1\\u1f36\\u0586\\u0570\\u0e04 \\u2734\\ufe0f ~ \\ud83d\\udc69\\u200d\\u2695\\ufe0f\\u2695\\ufe0f\\ud83d\\udcfb \\ud83e\\udd28 \\ud83e\\uddd0\", \"@manisha__gupta\", 7, 588, \"2011/07/31\"], [\"La Moncloa\", \"@desdelamoncloa\", 487, 195, \"2009/07/20\"], [\"Ministry of Health\", \"@MOH_Kenya\", 88, 661, \"2016/02/02\"], [\"#GetTalkingwithEsther\", \"@EstherIjewere\", 1229, 7916, \"2010/08/21\"], [\"Emilys Yuritza\", \"@Emilys4F\", 0, 889, \"2020/03/22\"], [\"Fredys Liendo\", \"@fredysliendo\", 0, 305, \"2010/04/19\"], [\"Alfons L\\u00f3pez Tena\", \"@alfonslopeztena\", 3784, 18199, \"2011/06/02\"], [\"ADG PI - INDIAN ARMY\", \"@adgpi\", 501, 111, \"2013/02/28\"], [\"Ministry of Health\", \"@MOH_Kenya\", 56, 661, \"2016/02/02\"], [\"Ministry of Health\", \"@MOH_Kenya\", 32, 661, \"2016/02/02\"], [\"CMO Maharashtra\", \"@CMOMaharashtra\", 4503, 99, \"2014/07/01\"], [\"Minist\\u00e9rio da Economia\", \"@MinEconomia\", 443, 390, \"2010/11/17\"], [\"MinSaludCol\", \"@MinSaludCol\", 6358, 814, \"2011/09/11\"], [\"Mumbai Police\", \"@MumbaiPolice\", 842, 30, \"2015/12/16\"], [\"ONU M\\u00e9xico\", \"@ONUMX\", 39, 834, \"2010/11/30\"], [\"Cruz Roja Mexicana IAP\", \"@CruzRoja_MX\", 24, 806, \"2010/02/14\"], [\"Madman. \\u0939\\u0948\\u0926\\u0930 \\u0915\\u093e \\u092c\\u093e\\u092a\", \"@MadMG61\", 2, 201, \"2019/09/13\"], [\"\\u0646\\u0627\\u0635\\u0631 \\u0686\\u0646\\u06cc\\u0648\\u0679\\u06cc\", \"@_Chinioty\", 33, 73, \"2013/05/17\"], [\"\\u0915\\u0941\\u0902\\u0926\\u093e \\u0915\\u0935\\u0933\\u0947\\u0915\\u0930...( K.K.)\", \"@kundakavelkar\", 45, 386, \"2015/05/04\"], [\"Uber Kenya\", \"@uber_kenya\", 31, 2492, \"2014/12/18\"], [\"Gioconda San Blas\", \"@daVinci1412\", 907, 491, \"2012/01/17\"], [\"Andrew Cuomo\", \"@NYGovCuomo\", 8817, 622, \"2010/12/30\"], [\"NBVC\", \"@NBVCCalifornia\", 34, 106, \"2012/04/20\"], [\"Habibies\", \"@Habibies\", 263, 672, \"2009/09/30\"], [\"ANI\", \"@ANI\", 132, 0, \"2011/08/16\"], [\"Amitabh Bachchan\", \"@SrBachchan\", 2113, 1803, \"2010/05/18\"], [\"covid19indiaorg\", \"@covid19indiaorg\", 5, 2, \"2020/03/19\"], [\"Kiran Subedi\", \"@KiranSu11082143\", 0, 8, \"2020/03/22\"], [\"Extinction Rebellion\", \"@ExtinctionR\", 393, 24457, \"2018/07/19\"], [\"Amir Khan\", \"@amirkingkhan\", 14684, 592, \"2009/06/10\"], [\"Amitabh Bachchan\", \"@SrBachchan\", 640, 1803, \"2010/05/18\"], [\"PIB Fact Check\", \"@PIBFactCheck\", 516, 31, \"2019/12/19\"], [\"MinSaludCol\", \"@MinSaludCol\", 2180, 814, \"2011/09/11\"], [\"Extinction Rebellion UK \\ud83c\\udf0d\", \"@XRebellionUK\", 39, 1500, \"2019/04/29\"], [\"Dr Zweli Mkhize\", \"@DrZweliMkhize\", 2461, 38576, \"2017/03/22\"], [\"CHU de Bordeaux\", \"@CHUBordeaux\", 265, 1212, \"2013/09/16\"], [\"CDC\", \"@CDCgov\", 1959, 269, \"2010/05/21\"], [\"Hussam Alhaj\", \"@HussamAlhaj4\", 67, 330, \"2017/05/14\"], [\"Junta de Andaluc\\u00eda\", \"@AndaluciaJunta\", 29, 3765, \"2011/10/03\"], [\"Osmar Terra\", \"@OsmarTerra\", 5196, 10859, \"2009/07/01\"], [\"World Health Organization Philippines\", \"@WHOPhilippines\", 287, 488, \"2013/11/27\"], [\"Joe Biden\", \"@JoeBiden\", 1557, 46, \"2007/03/11\"], [\"Jon Snow\", \"@jonsnowC4\", 317, 616, \"2010/03/31\"], [\"STIB-MIVB\", \"@STIBMIVB\", 748, 2213, \"2009/05/27\"], [\"Tancredi Palmeri\", \"@tancredipalmeri\", 689, 2359, \"2010/07/17\"], [\"Hua Chunying \\u534e\\u6625\\u83b9\", \"@SpokespersonCHN\", 411, 153, \"2019/10/14\"], [\"Stanford University\", \"@Stanford\", 293, 523, \"2008/12/11\"], [\"Prof. Akiko Iwasaki\", \"@VirusesImmunity\", 8925, 1715, \"2017/05/16\"], [\"Cristiano Ronaldo\", \"@Cristiano\", 31904, 56, \"2010/06/14\"], [\"wilfredo casasola\", \"@wilfredocasaso2\", 0, 35, \"2020/03/01\"], [\"eli\", \"@clairesjam\", 970, 630, \"2010/10/15\"], [\"Imroz Rahi (J\\u0170\\u0145\\u00ce\\u00d8\\u0158)\", \"@ImrozRahi3\", 3, 808, \"2020/01/23\"], [\"MedUni Wien\", \"@MedUni_Wien\", 4205, 182, \"2011/06/20\"], [\"MedUni Wien\", \"@MedUni_Wien\", 773, 182, \"2011/06/20\"], [\"CHU de Toulouse\", \"@CHUdeToulouse\", 51, 1704, \"2014/07/21\"], [\"Foot Mercato\", \"@footmercato\", 2188, 447, \"2010/12/21\"], [\"Filipe Caetano\", \"@filicaetano\", 261, 907, \"2007/04/03\"], [\"Mari\\u00e1n Garc\\u00eda\", \"@boticariagarcia\", 19, 1212, \"2011/12/31\"], [\"Juniverse\\u2122\", \"@jup1897\", 103, 454, \"2013/11/20\"], [\"Kristof Terreur\", \"@HLNinEngeland\", 327, 991, \"2013/01/15\"], [\"NCDC\", \"@NCDCgov\", 276, 384, \"2016/03/04\"], [\"Pop Crave\", \"@PopCrave\", 4514, 2762, \"2015/12/09\"], [\"Catherine Gast\\u00e9\", \"@catherinegaste\", 100, 12723, \"2009/11/27\"], [\"Polic\\u00eda Nacional\", \"@policia\", 222, 0, \"2009/03/11\"], [\"Ana\\u00efs Martinez\", \"@Naismtz7\", 0, 1720, \"2017/10/12\"], [\"dirtydude\", \"@jmdu91290\", 1, 459, \"2015/06/02\"], [\"Polic\\u00eda Nacional\", \"@policia\", 638, 0, \"2009/03/11\"], [\"Osornator\", \"@Osornator\", 0, 347, \"2011/04/08\"], [\"Yolanda Velez\", \"@yovelezarcelay\", 372, 378, \"2014/11/03\"], [\"MDS\", \"@MDSwenson\", 0, 145, \"2017/03/10\"], [\"PLOMO PAREJO\", \"@plomoparejo\", 2888, 1193, \"2009/09/28\"], [\"Sergio Burstein\", \"@SLBurstein\", 28478, 316, \"2012/01/23\"], [\"PIB Fact Check\", \"@PIBFactCheck\", 170, 31, \"2019/12/19\"], [\"Delegaci\\u00f3n del Gobierno en Canarias\", \"@DgCanarias\", 185, 363, \"2016/01/28\"], [\"Aleksandra W\\u00f3jcicka \\ud83c\\uddf5\\ud83c\\uddf1\\u271d\\ufe0f\\ud83d\\udcaf#BabiesLivesMatter\\ud83c\\uddf5\\ud83c\\uddf1\", \"@alexja25\", 393, 1437, \"2014/07/27\"], [\"TCS Noticias\", \"@tcsnoticias\", 478, 948, \"2010/08/24\"], [\"Ministerio Defensa\", \"@MindefArg\", 42, 154, \"2015/12/15\"], [\"Mzwandile Masina\", \"@mzwandileMasina\", 304, 1736, \"2012/04/29\"], [\"Nation Breaking News\", \"@NationBreaking\", 699, 27, \"2013/09/05\"], [\"Alvise P\\u00e9rez\", \"@Alvisepf\", 3201, 2678, \"2011/03/08\"], [\"PIB Fact Check\", \"@PIBFactCheck\", 122, 31, \"2019/12/19\"], [\"PIB Fact Check\", \"@PIBFactCheck\", 114, 31, \"2019/12/19\"], [\"Gaurav Gupta\", \"@BBMPAdmn\", 32, 28, \"2015/04/22\"], [\"Azam Jamil\", \"@AzamJamil53\", 364, 782, \"2017/03/09\"], [\"Gregory Rigano\", \"@RiganoESQ\", 8357, 845, \"2018/06/06\"], [\"The Hill\", \"@thehill\", 3912, 276, \"2007/03/22\"], [\"Jansampark CG\", \"@DPRChhattisgarh\", 8, 53, \"2014/02/24\"], [\"Citizen TV Kenya\", \"@citizentvkenya\", 0, 156, \"2009/08/31\"], [\"CRTVweb\", \"@CRTV_web\", 112, 2398, \"2016/05/04\"], [\"Justin Trudeau\", \"@JustinTrudeau\", 1998, 942, \"2008/03/30\"], [\"LIBRESYLOKOS.NET\", \"@LIBRESYLOKOS\", 180, 234, \"2009/07/20\"], [\"WA National Guard\", \"@WANationalGuard\", 799, 1778, \"2010/06/02\"], [\"Vicky Dehaene\", \"@womandream\", 63, 361, \"2009/07/21\"], [\"Pooja Tibdewal\", \"@tibdewalpooja\", 0, 197, \"2010/07/29\"], [\"Jim Bianco\", \"@biancoresearch\", 1552, 933, \"2010/09/08\"], [\"infocov\", \"@infocov_stats\", 0, 45, \"2020/03/18\"], [\"Napol\\u00e9on\", \"@tprincedelamour\", 3332, 1078, \"2012/05/05\"], [\"Dr. Edsel Salvana\", \"@EdselSalvana\", 67279, 345, \"2015/04/04\"], [\"Binod Kumar.\", \"@binodkumar999\", 2, 3529, \"2014/12/22\"], [\"Defence Forces Corps of Engineers\", \"@DF_Engineers\", 170, 128, \"2019/01/04\"], [\"\\u00d3glaigh na h\\u00c9ireann\", \"@defenceforces\", 143, 1567, \"2009/09/20\"], [\"\\u2623\\ufe0fCoronavirus\\ud83e\\uddecCOVID-19\\u2623\\ufe0fSTEM\", \"@CoronavirusSTEM\", 23, 806, \"2020/02/08\"], [\"Jonathan Hoffman\", \"@ChiefPentSpox45\", 1141, 37, \"2017/05/08\"], [\"Muhammad sarwar khan\", \"@Muhamma20827944\", 0, 237, \"2016/06/04\"], [\"Victoria Police\", \"@VictoriaPolice\", 228, 315, \"2008/10/07\"], [\"PIB Fact Check\", \"@PIBFactCheck\", 1429, 31, \"2019/12/19\"], [\"AFP News Agency\", \"@AFP\", 82, 611, \"2011/09/27\"], [\"PIB Fact Check\", \"@PIBFactCheck\", 144, 31, \"2019/12/19\"], [\"Regional Warfare \\ud83c\\udf41\", \"@Kashmir28471265\", 1, 96, \"2020/03/16\"], [\"MIDIS\", \"@MidisPeru\", 972, 1104, \"2013/09/09\"], [\"Lord Sugar\", \"@Lord_Sugar\", 9830, 3100, \"2010/06/29\"], [\"\\u0645\\u0627\\u0632\\u0646 \\u0645\\u0648\\u0633\\u0649\", \"@mazenmousa7\", 892, 35349, \"2013/11/27\"], [\"Edappadi K Palaniswami\", \"@CMOTamilNadu\", 290, 57, \"2017/03/23\"], [\"Yawer.\", \"@yawerajaz4\", 1, 106, \"2018/04/13\"], [\"AMS\", \"@amstellario\", 2, 20, \"2019/12/21\"], [\"ALOKDELHI6\", \"@ALOKdelhi6\", 1, 6473, \"2014/02/14\"], [\"Dr. Tara C. Smith\", \"@aetiology\", 699, 4962, \"2009/04/25\"], [\"KKMalaysia\\ud83c\\uddf2\\ud83c\\uddfe\", \"@KKMPutrajaya\", 8315, 97, \"2012/03/20\"], [\"KKMalaysia\\ud83c\\uddf2\\ud83c\\uddfe\", \"@KKMPutrajaya\", 10011, 97, \"2012/03/20\"], [\"ANI\", \"@ANI\", 142, 0, \"2011/08/16\"], [\"Marco Malacara\", \"@mala13slp\", 0, 2011, \"2009/12/07\"], [\"Presidencia Cuba\", \"@PresidenciaCuba\", 529, 177, \"2018/12/20\"], [\"Miguel D\\u00edaz-Canel Berm\\u00fadez\", \"@DiazCanelB\", 4837, 163, \"2018/08/02\"], [\"\\u067e\\u0627\\u06cc\\u06af\\u0627\\u0647 \\u062e\\u0628\\u0631\\u06cc \\u062c\\u0645\\u0627\\u0631\\u0627\\u0646\", \"@jamarannews\", 9, 133, \"2014/08/26\"], [\"Cruz Roja en \\u00c1lava\", \"@CruzRojaAlava\", 81, 529, \"2010/04/26\"], [\"SALUD M\\u00e9xico\", \"@SSalud_mx\", 31, 237, \"2010/04/12\"], [\"MinSaludCol\", \"@MinSaludCol\", 461, 814, \"2011/09/11\"], [\"NOTICIAS MUNDIALES SIN CENSURA\", \"@MundialesSin\", 28, 4831, \"2018/10/29\"], [\"Mahmoud Ahmadinejad\", \"@Ahmadinejad1956\", 3044, 38, \"2017/01/04\"], [\"INPS\", \"@INPS_it\", 101, 138, \"2013/07/09\"], [\"slutty spice\", \"@vL0k0\", 1, 145, \"2010/09/12\"], [\"Tom Hanks\", \"@tomhanks\", 206406, 25, \"2009/06/24\"], [\"werner welge \\ud83c\\udde9\\ud83c\\uddea\\ud83d\\udcff\", \"@wernerwelge1\", 18, 981, \"2013/09/12\"], [\"Embajada de China en Espa\\u00f1a\", \"@ChinaEmbEsp\", 13607, 2089, \"2019/09/10\"], [\"Govern. Generalitat\", \"@govern\", 593, 112, \"2010/05/19\"], [\"Gobierno de Arag\\u00f3n\", \"@GobAragon\", 90, 469, \"2010/01/15\"], [\"Had\\u017eiPe\\u0161i\\u0107eva\", \"@allfama\", 2, 1240, \"2010/09/03\"], [\"Pablo Echenique\", \"@PabloEchenique\", 492, 2310, \"2009/03/20\"], [\"Evo Morales Ayma\", \"@evoespueblo\", 2227, 30, \"2016/04/15\"], [\"Mayor Bill de Blasio\", \"@NYCMayor\", 3167, 1365, \"2009/01/31\"], [\"Lijian Zhao \\u8d75\\u7acb\\u575a\", \"@zlj517\", 11489, 174817, \"2010/05/08\"], [\"Jack Ma Foundation\", \"@foundation_ma\", 13633, 17, \"2017/02/06\"], [\"klaralonso\\ud83d\\udd3b\", \"@klaralonso\", 306, 943, \"2011/05/19\"], [\"eli\", \"@clairesjam\", 3052, 630, \"2010/10/15\"], [\"Irene Montero\", \"@IreneMontero\", 19057, 1975, \"2011/09/13\"], [\"Irene Montero\", \"@IreneMontero\", 935, 1975, \"2011/09/13\"], [\"Boti Garc\\u00eda Rodrigo\", \"@btcpd\", 1735, 615, \"2011/07/12\"], [\"Andrew Cuomo\", \"@NYGovCuomo\", 1035, 622, \"2010/12/30\"], [\"Citizen TV Kenya\", \"@citizentvkenya\", 223, 156, \"2009/08/31\"], [\"actu Paris\", \"@actufrparis\", 39, 11, \"2019/06/26\"], [\"Diputaci\\u00f3n de M\\u00e1laga\", \"@diputacionMLG\", 99, 3535, \"2011/09/19\"], [\"Charlie Kirk\", \"@charliekirk11\", 13850, 200620, \"2011/05/04\"], [\"Polic\\u00eda Puente Genil\", \"@PoliciaPteGenil\", 3, 36, \"2012/12/26\"], [\"Hua Chunying \\u534e\\u6625\\u83b9\", \"@SpokespersonCHN\", 668, 153, \"2019/10/14\"], [\"Aviator Anil Chopra\", \"@Chopsyturvey\", 91, 1336, \"2011/10/06\"], [\"Marcos da Silva (at \\ud83c\\udfe0)\", \"@markynhwz\", 0, 554, \"2014/03/08\"], [\"Ministry of Health\", \"@MOH_Kenya\", 313, 661, \"2016/02/02\"], [\"Alcald\\u00eda de Barranquilla\", \"@alcaldiabquilla\", 288, 1255, \"2010/01/16\"], [\"Joaqu\\u00edn Robles Zabal\", \"@joaquinroblesza\", 1690, 1049, \"2010/05/07\"], [\"Ministerstwo Zdrowia\", \"@MZ_GOV_PL\", 110, 1173, \"2012/01/13\"], [\"Infectious Diseases Society of Ireland\", \"@IDSIreland\", 561, 184, \"2019/04/12\"], [\"Dr Colm Henry, CCO HSE Ireland\", \"@CcoHse\", 54, 327, \"2018/10/01\"], [\"Thomas P. Bossert\", \"@TomBossert\", 1127, 907, \"2013/05/03\"], [\"Diputaci\\u00f3n de M\\u00e1laga\", \"@diputacionMLG\", 50, 3535, \"2011/09/19\"], [\"UNESPA\", \"@UNESPA\", 1669, 528, \"2011/03/29\"], [\"\\u00d3glaigh na h\\u00c9ireann\", \"@defenceforces\", 86, 1567, \"2009/09/20\"], [\"Polic\\u00eda Nacional\", \"@policia\", 12828, 0, \"2009/03/11\"], [\"ITVTanzania\", \"@ITVTANZANIA\", 6, 1, \"2012/03/21\"], [\"Spokesperson GoK\", \"@SpokespersonGoK\", 76, 777, \"2016/01/27\"], [\"Swiss Medical Group\", \"@SwissMedicalG\", 21, 355, \"2012/08/16\"], [\"J\\u00e9r\\u00e9my Paoloni\", \"@JeremyPaoloni\", 0, 1759, \"2018/07/25\"], [\"La SPA France\", \"@SPA_Officiel\", 3896, 358, \"2012/05/31\"], [\"Enfamil\", \"@Enfamil\", 3, 85, \"2009/10/01\"], [\"Armstrong\", \"@Armstrongthevdj\", 0, 166, \"2013/05/06\"], [\"Polic\\u00eda Nacional\", \"@policia\", 239, 0, \"2009/03/11\"], [\"\\u00c1rea 1 Arrixaca\", \"@AreaUnoArrixaca\", 149, 632, \"2014/06/10\"], [\"Juan Villoro\", \"@JuanVilloro56\", 2180, 91, \"2011/03/18\"], [\"Noticias Caracol\", \"@NoticiasCaracol\", 204, 1135, \"2008/12/02\"], [\"Ju EA\", \"@JuEndrino\", 54, 103403, \"2015/01/15\"], [\"Dr Alby John\", \"@albyjohnV\", 90, 622, \"2009/09/09\"], [\"\\u00d3glaigh na h\\u00c9ireann\", \"@defenceforces\", 401, 1567, \"2009/09/20\"], [\"WHO Kenya\", \"@WHOKenya\", 9, 250, \"2017/01/19\"], [\"South African Government\", \"@GovernmentZA\", 255, 513, \"2013/06/21\"], [\"Pawe\\u0142 Piotr Bartoszek\\ud83c\\uddf5\\ud83c\\uddf1\", \"@PawelPiotr1944\", 120, 829, \"2014/03/20\"], [\"Damon\", \"@dwjm94\", 0, 264, \"2019/10/18\"], [\"Marco Rubio\", \"@marcorubio\", 81, 2483, \"2008/08/06\"], [\"\\u0634\\u0628\\u0643\\u0629 \\u0639\\u0645\\u064a\\u062f \\u0627\\u0644\\u0625\\u0645\\u0627\\u0631\\u0627\\u062a\", \"@3meed_news\", 42, 158, \"2011/11/09\"], [\"Davie Police Dept.\", \"@DaviePolice\", 33, 271, \"2011/04/13\"], [\"NYCEM - Notify NYC\", \"@NotifyNYC\", 236, 79, \"2008/09/05\"], [\"MinSaludCol\", \"@MinSaludCol\", 3888, 814, \"2011/09/11\"], [\"\\u062e\\u0627\\u0644\\u062f \\u0641\\u0647\\u062f \\u0627\\u0644\\u062d\\u0633\\u064a\\u0646\", \"@khalidfahad77\", 11, 1406, \"2013/05/08\"], [\"World Health Organization (WHO)\", \"@WHO\", 1426, 1734, \"2008/04/23\"], [\"Dr. Vivek Murthy, 21st U.S. Surgeon General\", \"@Surgeon_General\", 1572, 165, \"2012/01/04\"], [\"Morttii \\ud83e\\udd40\", \"@ROSARIOCERDARO1\", 671, 5696, \"2020/04/28\"], [\"David E Morgan\", \"@demorgang\", 3, 2082, \"2010/07/27\"], [\"Dr. Vivek Murthy, 21st U.S. Surgeon General\", \"@Surgeon_General\", 299, 165, \"2012/01/04\"], [\"Dr. Vivek Murthy, 21st U.S. Surgeon General\", \"@Surgeon_General\", 40, 165, \"2012/01/04\"], [\"V\\u00edtor Hugo\", \"@MajorVitorHugo\", 290, 576, \"2011/07/09\"], [\"Dr. Vivek Murthy, 21st U.S. Surgeon General\", \"@Surgeon_General\", 53, 165, \"2012/01/04\"], [\"Dr. Vivek Murthy, 21st U.S. Surgeon General\", \"@Surgeon_General\", 48, 165, \"2012/01/04\"], [\"Dr. Vivek Murthy, 21st U.S. Surgeon General\", \"@Surgeon_General\", 91, 165, \"2012/01/04\"], [\"Dr. Vivek Murthy, 21st U.S. Surgeon General\", \"@Surgeon_General\", 59, 165, \"2012/01/04\"], [\"Zhulin Zhang\", \"@ZhangZhulin\", 261, 860, \"2011/12/08\"], [\"\\u8d22\\u7ecf\\u51b7\\u773c\", \"@caijinglengyan\", 239, 567, \"2016/10/31\"], [\"BOOM Live\", \"@boomlive_in\", 53, 1170, \"2014/03/16\"], [\"MinSaludCol\", \"@MinSaludCol\", 93, 814, \"2011/09/11\"], [\"Dhiyasri@123\", \"@Dhiyasri1231\", 103, 31, \"2020/01/30\"], [\"Chuck Schumer\", \"@SenSchumer\", 1212, 24551, \"2008/11/19\"], [\"Chuck Schumer\", \"@SenSchumer\", 979, 24551, \"2008/11/19\"], [\"Chuck Schumer\", \"@SenSchumer\", 550, 24551, \"2008/11/19\"], [\"Chuck Schumer\", \"@SenSchumer\", 1121, 24551, \"2008/11/19\"], [\"Chuck Schumer\", \"@SenSchumer\", 2494, 24551, \"2008/11/19\"], [\"Chuck Schumer\", \"@SenSchumer\", 2004, 24551, \"2008/11/19\"], [\"Chuck Schumer\", \"@SenSchumer\", 11389, 24551, \"2008/11/19\"], [\"World Health Organization Philippines\", \"@WHOPhilippines\", 221, 488, \"2013/11/27\"], [\"Raphael Rashid\", \"@koryodynasty\", 43, 846, \"2010/06/14\"], [\"Mar\\u00eda Alejandra D\\u00edaz Mar\\u00edn\", \"@MariaesPueblo\", 89, 1852, \"2018/03/01\"], [\"Chuck Schumer\", \"@SenSchumer\", 567, 24551, \"2008/11/19\"], [\"Chris Murphy\", \"@ChrisMurphyCT\", 15617, 220, \"2010/05/31\"], [\"Ministerio de Salud\", \"@msaludpy\", 7, 4161, \"2011/09/05\"], [\"Ministry of Health\", \"@MOH_Kenya\", 12, 661, \"2016/02/02\"], [\"Mar\\u00eda Alejandra D\\u00edaz Mar\\u00edn\", \"@MariaesPueblo\", 92, 1852, \"2018/03/01\"], [\"Ministry of Health\", \"@MOH_Kenya\", 5, 661, \"2016/02/02\"], [\"iris\", \"@iris_78yq\", 48, 101, \"2018/02/18\"], [\"Jos\\u00e9 Sim\\u00e3o\", \"@jose_simao\", 520, 133, \"2009/12/09\"], [\"Kenyatta National Hospital\", \"@KNH_hospital\", 49, 177, \"2014/05/13\"], [\"Spokesperson GoK\", \"@SpokespersonGoK\", 42, 777, \"2016/01/27\"], [\"Ministry of Health\", \"@MOH_Kenya\", 52, 661, \"2016/02/02\"], [\"WHO African Region\", \"@WHOAFRO\", 62, 583, \"2012/04/03\"], [\"Chuck Schumer\", \"@SenSchumer\", 2825, 24551, \"2008/11/19\"], [\"Chuck Schumer\", \"@SenSchumer\", 3008, 24551, \"2008/11/19\"], [\"\\u00bfPor qu\\u00e9 es tendencia?\", \"@porquetendencia\", 552, 150, \"2018/03/12\"], [\"Prabhat \\u092a\\u094d\\u0930\\u092d\\u093e\\u0924 Kumar \\u0915\\u0941\\u092e\\u093e\\u0930\", \"@Prabhat93078075\", 1, 619, \"2018/12/14\"], [\"Shwet Suman Sharma\", \"@shwetsuman1991\", 3, 433, \"2011/11/15\"], [\"marcelo tinelli\", \"@cuervotinelli\", 92, 391, \"2012/08/29\"], [\"Federico Bal\", \"@balfederico\", 163, 553, \"2010/04/15\"], [\"UNICEF Malaysia\", \"@myUNICEF\", 61, 538, \"2013/10/29\"], [\"WHO African Region\", \"@WHOAFRO\", 261, 583, \"2012/04/03\"], [\"\\u0645\\u062d\\u0645\\u062f \\u0628\\u0646 \\u0632\\u0627\\u064a\\u062f\", \"@MohamedBinZayed\", 260, 0, \"2012/01/22\"], [\"Cyril Ramaphosa \\ud83c\\uddff\\ud83c\\udde6 #StaySafe\", \"@CyrilRamaphosa\", 113, 7, \"2015/01/20\"], [\"WHO African Region\", \"@WHOAFRO\", 125, 583, \"2012/04/03\"], [\"Dr. Yasmin Ali Haque\", \"@DrYasminAHaque\", 29, 190, \"2017/07/14\"], [\"Zhulin Zhang\", \"@ZhangZhulin\", 21, 860, \"2011/12/08\"], [\"Bloomberg Quicktake\", \"@Quicktake\", 41, 1461, \"2011/02/15\"], [\"Molly Beck\", \"@MollyBeck\", 13, 2903, \"2012/02/16\"], [\"yanwang\", \"@yanwang10508606\", 1172, 141, \"2019/01/06\"], [\"\\u0645\\u062d\\u0645\\u062f \\u0628\\u0646 \\u0632\\u0627\\u064a\\u062f\", \"@MohamedBinZayed\", 324, 0, \"2012/01/22\"], [\"Jennifer Zeng \\u66fe\\u931a\", \"@jenniferatntd\", 1371, 448, \"2014/01/27\"], [\"\\u30c8\\u30a5\\u30fc\\u30eb\\u3000\\u30e0\\u30cf\\u30e1\\u30c3\\u30c8\", \"@etman09\", 8947, 248, \"2009/12/30\"], [\"Cristina Pedroche\", \"@CristiPedroche\", 237, 239, \"2010/07/14\"], [\"VOSTeuskadi\", \"@VOSTeuskadi\", 126, 865, \"2012/09/03\"], [\"Hossein Nakhli\", \"@hnakhli\", 93, 877, \"2010/02/05\"], [\"Comunidad de Madrid\", \"@ComunidadMadrid\", 791, 632, \"2010/03/12\"], [\"VOST Comunitat Valenciana\", \"@VOSTcvalenciana\", 18, 531, \"2013/06/05\"], [\"Salud JCYL\", \"@Salud_JCYL\", 172, 23, \"2011/11/11\"], [\"WHO Indonesia\", \"@WHOIndonesia\", 57, 225, \"2010/12/15\"], [\"Protecci\\u00f3n Civil \\u00c1vila\", \"@ProteCivilAvila\", 4, 66, \"2011/10/15\"], [\"Sihame Assbague\", \"@s_assbague\", 9400, 960, \"2013/06/09\"], [\"Polic\\u00eda Local San Fernando de Henares\", \"@PoliciaLocalSFH\", 6, 225, \"2019/07/03\"], [\"Pablo de Olavide\", \"@pablodeolavide\", 58, 6094, \"2010/01/11\"], [\"Castilla-La Mancha\", \"@gobjccm\", 283, 581, \"2010/01/12\"], [\"Sihame Assbague\", \"@s_assbague\", 91, 960, \"2013/06/09\"], [\"PSOE\", \"@PSOE\", 428, 13449, \"2009/06/26\"], [\"Dipartimento Protezione Civile\", \"@DPCgov\", 1629, 112, \"2018/04/06\"], [\"David Garc\\u00eda Garc\\u00eda\", \"@OjodeThot\", 163, 1204, \"2015/10/21\"], [\"SaludMadrid\", \"@SaludMadrid\", 2096, 123, \"2018/01/18\"], [\"Alejandro\", \"@alelitooo\", 2, 731, \"2010/09/27\"], [\"Mahmoud Ahmadinejad\", \"@Ahmadinejad1956\", 740, 38, \"2017/01/04\"], [\"Maggie Haberman\", \"@maggieNYT\", 158, 5070, \"2009/11/27\"], [\"Otto Huang \\uf8ff\", \"@OttoHuang120\", 1891, 5423, \"2015/11/29\"], [\"VOSTextremadura\", \"@VOSTextremadura\", 3, 367, \"2013/05/31\"], [\"Zoran Ruvidic\", \"@ZoranRuvidic\", 1, 325, \"2013/09/14\"], [\"World Health Organization (WHO)\", \"@WHO\", 32914, 1734, \"2008/04/23\"], [\"Isabel D\\u00edaz Ayuso\", \"@IdiazAyuso\", 5641, 10958, \"2010/05/04\"], [\"Polic\\u00eda Nacional\", \"@policia\", 386, 0, \"2009/03/11\"], [\"MinSaludCol\", \"@MinSaludCol\", 3306, 814, \"2011/09/11\"], [\"Cadena SER CLM\", \"@SERCLM\", 1, 417, \"2012/05/31\"], [\"UNICEF Kenya\", \"@UNICEFKenya\", 2, 920, \"2012/01/16\"], [\"112 Cantabria\", \"@112Cantabria\", 82, 251, \"2012/02/17\"], [\"Protecci\\u00f3n Civil Valladolid\", \"@apcvalladolid\", 129, 992, \"2010/05/19\"], [\"Eusko Jaurlaritza\", \"@Gob_eus\", 21, 79, \"2010/01/28\"], [\"New Day\", \"@NewDay\", 29, 1256, \"2013/04/23\"], [\"VOSTeuskadi\", \"@VOSTeuskadi\", 21, 865, \"2012/09/03\"], [\"Markus Wolf Romeo\", \"@MarkusWolfRomeo\", 0, 87, \"2012/08/16\"], [\"MarinellysTremamunno\", \"@Marinellys\", 91, 2728, \"2009/10/23\"], [\"Lijian Zhao \\u8d75\\u7acb\\u575a\", \"@zlj517\", 1840, 174817, \"2010/05/08\"], [\"VOSTeuskadi\", \"@VOSTeuskadi\", 10, 865, \"2012/09/03\"], [\"David A. Clarke, Jr.\", \"@SheriffClarke\", 1011, 147, \"2010/03/01\"], [\"AbogadosAdriano\", \"@AbogadosAdriano\", 14, 881, \"2016/01/17\"], [\"Congressman Greg Murphy, M.D.\", \"@RepGregMurphy\", 38, 176, \"2019/09/17\"], [\"LA RAZ\\u00d3N. CO\", \"@LaRazonCo\", 3, 2108, \"2013/09/18\"], [\"7NEWS Brisbane\", \"@7NewsBrisbane\", 98, 167, \"2009/09/15\"], [\"M. 6% \\u2764\\ufe0f\\ud83e\\udd0d\\ud83d\\udc99\\ud83c\\uddfa\\ud83c\\uddf8\", \"@igobyMdot\", 5, 3101, \"2010/08/15\"], [\"World Health Organization (WHO)\", \"@WHO\", 443, 1734, \"2008/04/23\"], [\"Zataniko\", \"@Zatanik0\", 701, 118, \"2011/02/11\"], [\"\\u5df4\\u4e22\\u8349 Badiucao\", \"@badiucao\", 2307, 13795, \"2011/03/17\"], [\"Americo De Grazia\", \"@AmericoDeGrazia\", 2624, 3469, \"2010/04/10\"], [\"AlbertoRodNews\", \"@AlbertoRodNews\", 210, 20252, \"2014/02/09\"], [\"Marcos Lima Mart\\u00ednez\", \"@Marcoslimamd\", 98, 1213, \"2013/02/03\"], [\"\\u5df4\\u4e22\\u8349 Badiucao\", \"@badiucao\", 5523, 13795, \"2011/03/17\"], [\"d-atis\\u2620\\ufe0f\", \"@detresfa_\", 213, 0, \"2012/11/17\"], [\"Dr. Maimuna Majumder\", \"@maiamajumder\", 21, 426, \"2012/09/01\"], [\"\\ud83c\\uddfa\\ud83c\\uddf8Kyle Bass\\ud83c\\uddfa\\ud83c\\uddf8\", \"@Jkylebass\", 8627, 811, \"2015/02/01\"], [\"Terrence Daniels (Captain \\ud83c\\udf40 Planet)\", \"@Terrence_STR\", 1817, 910, \"2017/02/08\"], [\"Global Times\", \"@globaltimesnews\", 837, 520, \"2009/06/22\"], [\"Doc Bear\", \"@DocBear5\", 53, 7448, \"2019/10/06\"], [\"World Health Organization (WHO)\", \"@WHO\", 1758, 1734, \"2008/04/23\"], [\"KKMalaysia\\ud83c\\uddf2\\ud83c\\uddfe\", \"@KKMPutrajaya\", 1572, 97, \"2012/03/20\"], [\"#themodi_in\", \"@themodi_in\", 4, 1709, \"2010/09/12\"], [\"\\u30af\\u30ea\\u30b9\\u4e09\\u5b85\", \"@ryouansensei\", 1632, 2777, \"2010/10/04\"], [\"Global Times\", \"@globaltimesnews\", 44, 520, \"2009/06/22\"], [\"\\u5168\\u667a\\u80dc\", \"@MgOqkzLBRPLCHyN\", 425, 76, \"2019/07/11\"], [\"\\u6a4b\\u4e0b\\u5fb9\", \"@hashimoto_lo\", 1344, 40, \"2011/02/01\"], [\"\\u067e\\u0627\\u064a\\u06af\\u0627\\u0647 \\u062e\\u0628\\u0631\\u06cc \\u0627\\u0646\\u062a\\u062e\\u0627\\u0628\", \"@Entekhab_News\", 2, 0, \"2014/07/26\"], [\"Hong Hong\", \"@honghong975\", 853, 262, \"2017/03/18\"], [\"Ingrid Carlqvist\", \"@ingridcarlqvist\", 1, 1185, \"2010/01/21\"], [\"Kenya Airways\", \"@KenyaAirways\", 515, 7104, \"2008/12/31\"], [\"Steven Salzberg\", \"@StevenSalzberg1\", 0, 192, \"2012/08/26\"], [\"Trevor Bedford\", \"@trvrb\", 587, 817, \"2010/12/10\"], [\"Maheen\", \"@Maheen83086711\", 3, 2443, \"2018/03/20\"], [\"World Health Organization (WHO)\", \"@WHO\", 186, 1734, \"2008/04/23\"], [\"Maheen\", \"@Maheen83086711\", 9, 2443, \"2018/03/20\"], [\"VTV CANAL 8\", \"@VTVcanal8\", 21, 523, \"2010/03/01\"], [\"Convenience Store News.\", \"@CStoreNews_\", 37, 48934, \"2010/06/17\"], [\"Chuck Schumer\", \"@SenSchumer\", 2631, 24551, \"2008/11/19\"], [\"Chuck Schumer\", \"@SenSchumer\", 2775, 24551, \"2008/11/19\"], [\"Chuck Schumer\", \"@SenSchumer\", 472, 24551, \"2008/11/19\"], [\"Chuck Schumer\", \"@SenSchumer\", 498, 24551, \"2008/11/19\"], [\"Chuck Schumer\", \"@SenSchumer\", 211, 24551, \"2008/11/19\"], [\"Chuck Schumer\", \"@SenSchumer\", 1868, 24551, \"2008/11/19\"], [\"Chuck Schumer\", \"@SenSchumer\", 597, 24551, \"2008/11/19\"], [\"Angry Frustrated\", \"@AF_indian\", 1, 272, \"2015/03/31\"], [\"\\u539f\\u53e3\\u3000\\u4e00\\u535a\", \"@kharaguchi\", 243, 4065, \"2009/12/14\"], [\"\\u4f50\\u85e4\\u6b63\\u4e45\", \"@SatoMasahisa\", 1094, 38853, \"2010/02/08\"], [\"Ministerio de Sanidad\", \"@sanidadgob\", 513, 689, \"2010/12/30\"], [\"Adam Kucharski\", \"@AdamJKucharski\", 539, 1288, \"2012/01/02\"], [\"\\ud83c\\uddf5\\ud83c\\uddea Simon Tartarotti\", \"@SimonTartarotti\", 2, 1102, \"2012/10/19\"], [\"Dan Lyons\", \"@realdanlyons\", 14, 2197, \"2008/07/18\"], [\"World Health Organization (WHO)\", \"@WHO\", 953, 1734, \"2008/04/23\"], [\"Hidalgo Co. Health\", \"@hidalgohealth\", 79, 2, \"2009/07/13\"], [\"UNICEF Haiti\", \"@UNICEFHaiti\", 10, 937, \"2011/06/08\"], [\"Kemenkes RI\", \"@KemenkesRI\", 537, 201, \"2010/06/30\"], [\"Minist\\u00e9rio da Sa\\u00fade\", \"@minsaude\", 821, 486, \"2009/05/04\"], [\"Kemenkes RI\", \"@KemenkesRI\", 407, 201, \"2010/06/30\"], [\"Harbhajan Turbanator\", \"@harbhajan_singh\", 2788, 147, \"2009/11/27\"], [\"Mayra Cede\\u00f1o\", \"@Mayi21298822\", 30, 88, \"2020/03/12\"], [\"Omar Garc\\u00eda V.\", \"@saomargarciavi\", 5, 626, \"2011/11/09\"], [\"Wisdoms\", \"@wordwisdoms\", 29, 381, \"2020/02/22\"], [\"boosmaster\", \"@boosmaster4\", 1, 550, \"2018/02/27\"], [\"\\u041c\\u0438\\u043d\\u0438\\u0441\\u0442\\u0435\\u0440\\u0441\\u0442\\u0432\\u043e \\u0437\\u0430 \\u0437\\u0434\\u0440\\u0430\\u0432\\u0441\\u0442\\u0432\\u043e\", \"@ZdravstvoMK\", 19, 141, \"2012/12/06\"], [\"Instituto de Salud P\\u00fablica de Chile\", \"@ispch\", 142, 732, \"2011/02/22\"], [\"Flore\\u03b7cia Jackso\\u03b7 \\u2655\", \"@Florencia_Pink\", 248, 25992, \"2009/11/04\"], [\"Annastacia Palaszczuk\", \"@AnnastaciaMP\", 20, 1244, \"2011/02/24\"], [\"Entity\", \"@oUllw40ndgQUEx3\", 962, 495, \"2018/12/02\"], [\"Ben Rhodes\", \"@brhodes\", 5412, 1546, \"2017/01/14\"], [\"Denis Mukwege\", \"@DenisMukwege\", 29, 103, \"2012/10/02\"], [\"Jair M. Bolsonaro\", \"@jairbolsonaro\", 11937, 550, \"2010/03/31\"], [\"Ministerio de Salud y Deportes Bolivia\", \"@SaludDeportesBo\", 42, 244, \"2012/05/25\"], [\"Sarvesh Tv\", \"@SarveshTv\", 0, 94, \"2019/12/20\"], [\"Eric Topol\", \"@EricTopol\", 732, 526, \"2009/11/01\"], [\"Ravi Vallabhaneni (Balu Deserves Bharat Ratna)\", \"@ravivallabha\", 71, 693, \"2010/04/18\"], [\"Horacio Azzolin\", \"@horacioazzolin\", 50, 1534, \"2014/03/13\"], [\"Noticias RCN\", \"@NoticiasRCN\", 9, 2457, \"2009/04/24\"], [\"L' acomod\\u00e9\", \"@MartinLerga\", 47, 153, \"2012/03/25\"], [\"\\u0906\\u0924\\u094d\\u092e\\u0928\\u093f\\u0930\\u094d\\u092d\\u0930 \\u092d\\u093e\\u0930\\u0924\", \"@aatmnirbharin\", 1, 110, \"2020/07/01\"], [\"MinSaludCol\", \"@MinSaludCol\", 878, 814, \"2011/09/11\"], [\"nick farriella\", \"@nick_farriella\", 32, 823, \"2014/08/02\"], [\"Kevin McCarthy\", \"@GOPLeader\", 12256, 1425, \"2009/01/29\"], [\"Candida Moss\", \"@candidamoss\", 32, 1821, \"2009/06/10\"], [\"Jeff Gritchen \\ud83c\\uddfa\\ud83c\\uddf8\", \"@jeffgritchen\", 32, 1355, \"2009/04/08\"], [\"Drew Hammill\", \"@Drew_Hammill\", 90, 1472, \"2011/04/13\"], [\"Nik-Nic\", \"@nnpeoples97\", 18, 3312, \"2011/03/09\"], [\"Alex Eccleston\", \"@AventuraObscura\", 158, 870, \"2015/02/18\"], [\"James Woods\", \"@RealJamesWoods\", 13848, 4407, \"2009/09/30\"], [\"Jane Lytvynenko\", \"@JaneLytv\", 9, 6413, \"2009/08/13\"], [\"Pushpendra Kulshrestha\", \"@PuspendraTweet\", 253, 65, \"2017/04/01\"], [\"TitosVodka\", \"@TitosVodka\", 2032, 21700, \"2008/12/01\"], [\"Il Fabbricante di Chiavi \\uf8ff\", \"@lochiediame\", 66, 586, \"2020/02/08\"], [\"Shane Crotty\", \"@profshanecrotty\", 2341, 205, \"2016/03/21\"], [\"Tim Young\", \"@TimRunsHisMouth\", 6574, 39620, \"2009/04/22\"], [\"GEN\", \"@SomosGEN\", 2, 74, \"2017/06/13\"], [\"Duncan Pegg MP\", \"@DuncanPeggMP\", 35, 637, \"2014/04/23\"], [\"Rappler\", \"@rapplerdotcom\", 9, 406, \"2011/07/07\"], [\"Johns Hopkins Center for Health Security\", \"@JHSPH_CHS\", 140, 1089, \"2009/01/09\"], [\"San Francisco Chronicle\", \"@sfchronicle\", 5550, 284, \"2010/03/10\"], [\"\\u90d1\\u660e\\u54f2\", \"@Geoloong\", 5, 247, \"2015/06/07\"], [\"\\u03b1\\u0e23\\u0266 :)\", \"@ashakiiii\", 2746, 19554, \"2018/11/10\"], [\"Ministry of Health\", \"@MoHFW_INDIA\", 117, 192, \"2014/06/30\"], [\"Undoomed\", \"@Undoomed\", 24176, 1660, \"2015/05/04\"], [\"Officer Bandit \\ud83d\\udc6e\\ud83c\\udffb\\u200d\\u2640\\ufe0f\\ud83e\\udd9d \\ud83c\\uddfa\\ud83c\\uddf8\", \"@OfficerBandit\", 2322, 37, \"2018/08/02\"]], \"hovertemplate\": \"Type of tweet=false<br>Date=%{x}<br>Followers count=%{y}<br>Tweet Retweets count=%{customdata[2]}<br>Name=%{customdata[0]}<br>Username=%{customdata[1]}<br>Friends count=%{customdata[3]}<br>Account created on=%{customdata[4]}<extra></extra>\", \"legendgroup\": \"false\", \"marker\": {\"color\": \"#636efa\", \"line\": {\"color\": \"DarkSlateGrey\", \"width\": 1}, \"opacity\": 0.8, \"size\": [277, 667, 8678, 494, 27, 2092, 4356, 341, 114, 11, 92746, 49, 58, 212, 16, 956, 55, 30, 1, 307, 4022, 91, 204, 344, 689, 1531, 7, 53, 610, 2, 10, 1, 6, 14, 31, 254, 147, 2306, 312, 217, 141, 6008, 20748, 25, 103, 0, 1, 0, 15, 1, 0, 42, 2010, 761, 78, 1, 10, 24, 11894, 749, 151, 53, 9, 9, 6, 804, 390, 430, 6, 60, 4651, 65, 359, 7586, 205, 4, 1338, 34, 187, 103, 6, 1, 46, 47, 21871, 671, 232, 80, 41, 0, 177, 128, 518, 2616, 46, 4149, 7, 8379, 3, 62, 4004, 254, 26, 508, 15, 8925, 583, 3, 4, 2101, 1, 16, 284, 36, 57, 40, 49, 42, 64, 80, 182, 49, 101, 8, 4188, 108, 0, 61, 17313, 68, 87, 23254, 99, 207, 141, 223, 491, 18, 87, 1663, 0, 136, 11, 0, 2520, 116, 4, 116, 132, 1, 26, 3274, 284, 7916, 7267, 3259, 42, 2198, 103, 588, 328, 417, 3763, 497, 120, 1192, 1670, 2466, 13613, 372, 31, 26, 59, 3641, 4006, 246, 201, 2841, 0, 50, 0, 1, 7, 53, 3829, 277, 1453, 212, 3120, 71, 8, 1, 6, 558, 269, 263, 25, 9589, 2, 5829, 41, 61, 4, 6, 128, 11, 56, 820, 0, 2562, 0, 7, 1, 24, 367, 1712, 5692, 52, 0, 297, 71, 14, 9029, 29, 1, 1313, 211, 1037, 59, 2384, 327, 43, 321, 0, 0, 3123, 3182, 34, 4, 187, 3387, 2949, 23480, 65, 105, 287, 496, 92, 8328, 648, 70, 154, 14, 9, 5, 310, 221, 19, 397, 139, 443, 348, 317, 1522, 398, 494, 275, 11068, 1815, 12160, 34, 6743, 411, 220, 10552, 55, 1379, 392, 56, 623, 166, 4, 1027, 446, 211, 1140, 128, 288, 0, 203, 298, 0, 11, 0, 218, 606, 2, 96497, 94, 143, 14293, 10289, 3, 128, 6446, 0, 548, 46, 0, 19516, 2, 2036, 52, 368, 2, 246, 1003, 104, 2413, 699, 5, 25, 62, 92, 12133, 788, 339, 16, 2786, 92, 18092, 119115, 212, 5, 0, 3041, 999, 13, 210, 122, 43, 193, 134, 3734, 930, 279, 8669, 4135, 7741, 1815, 56, 14, 7, 1, 107, 74, 13, 1287, 2331, 90, 247, 64, 1133, 2408, 3335, 255, 296, 24, 1705, 54, 513, 2, 200, 2005, 29, 8181, 66, 1258, 0, 733, 10, 3188, 15909, 27, 1, 28, 195, 54, 3, 56, 1777, 6, 344, 3, 41, 627, 33, 6, 2381, 98, 381, 260, 78, 672, 49, 1, 24, 210, 3415, 782, 84, 10, 338, 823, 41, 326, 4091, 1408, 56, 2, 11314, 3319, 1146, 251, 8, 966, 6206, 0, 1759, 55, 96, 393, 29, 5, 8, 4, 4, 606, 4302, 8, 0, 33, 2, 11, 171, 1, 0, 1, 73, 0, 4, 112, 13, 365, 1925, 19, 332, 1, 75, 16, 592, 35, 20, 5703, 141, 69, 78, 0, 7, 1222, 0, 243, 28, 17, 1063, 6050, 5, 14, 2, 6, 33, 45, 192, 1, 70, 164, 31, 196, 9, 949, 1222, 1002, 12, 121, 1, 5, 117, 3, 19, 5126, 11933, 32, 772, 167, 204, 0, 1, 123, 1060, 40964, 117, 315, 121, 61, 22, 0, 8, 1223, 239, 3833, 820, 336, 189, 6120, 23, 688, 61, 3654, 647, 11233, 247, 1, 18, 45, 146, 1797, 12, 2, 129, 0, 7310, 867, 869, 46, 144, 40, 417, 739, 0, 16, 257, 623, 676, 0, 88, 60, 34062, 276, 76, 677, 763, 1212, 2081, 1212, 584, 4, 2335, 1194, 1184, 11, 209, 509, 619, 248, 316, 224, 206, 62, 2, 38025, 474, 1, 129, 10, 658, 1772, 10902, 526, 102, 4026, 11885, 880, 36699, 76882, 72, 208, 655, 468, 11, 826, 194, 538, 0, 507, 2469, 99, 177, 50, 605, 8720, 32, 64, 2602, 0, 1988, 7615, 2668, 1328, 46, 31, 542, 142, 946, 2369, 0, 1, 10, 0, 35, 2, 9, 142, 1, 213, 0, 4754, 347, 898, 9597, 78, 58, 566, 14, 27, 310, 389, 148, 805, 2799, 14, 1039, 3280, 56, 63, 7, 12342, 4823, 56, 51, 8, 0, 12, 2560, 3065, 202, 3600, 103, 54, 61, 213, 13, 18, 449, 1, 7, 6, 104, 770, 1040, 141, 28, 11, 126, 3, 1757, 9465, 312, 579, 146, 0, 907, 340, 177, 1252, 3721, 2432, 0, 65549, 22, 1554, 320, 2120, 1270, 127, 13, 6, 28, 286, 99, 351, 122, 192, 18748, 407, 130, 71, 4829, 66, 346, 5072, 7581, 109, 3, 551, 5, 129, 32, 197, 108, 9884, 20, 344, 1636, 3, 5149, 1611, 300, 85, 2478, 47, 12, 2742, 14, 503, 774, 512, 2285, 271, 3211, 32, 39979, 447, 1, 127, 5953, 3040, 412, 125, 16, 9, 11, 6412, 84, 0, 1294, 25153, 0, 7, 33, 42, 6, 2, 1, 155, 9, 40465, 1262, 21283, 1284, 532, 7, 487, 88, 1229, 0, 0, 3784, 501, 56, 32, 4503, 443, 6358, 842, 39, 24, 2, 33, 45, 31, 907, 8817, 34, 263, 132, 2113, 5, 0, 393, 14684, 640, 516, 2180, 39, 2461, 265, 1959, 67, 29, 5196, 287, 1557, 317, 748, 689, 411, 293, 8925, 31904, 0, 970, 3, 4205, 773, 51, 2188, 261, 19, 103, 327, 276, 4514, 100, 222, 0, 1, 638, 0, 372, 0, 2888, 28478, 170, 185, 393, 478, 42, 304, 699, 3201, 122, 114, 32, 364, 8357, 3912, 8, 0, 112, 1998, 180, 799, 63, 0, 1552, 0, 3332, 67279, 2, 170, 143, 23, 1141, 0, 228, 1429, 82, 144, 1, 972, 9830, 892, 290, 1, 2, 1, 699, 8315, 10011, 142, 0, 529, 4837, 9, 81, 31, 461, 28, 3044, 101, 1, 206406, 18, 13607, 593, 90, 2, 492, 2227, 3167, 11489, 13633, 306, 3052, 19057, 935, 1735, 1035, 223, 39, 99, 13850, 3, 668, 91, 0, 313, 288, 1690, 110, 561, 54, 1127, 50, 1669, 86, 12828, 6, 76, 21, 0, 3896, 3, 0, 239, 149, 2180, 204, 54, 90, 401, 9, 255, 120, 0, 81, 42, 33, 236, 3888, 11, 1426, 1572, 671, 3, 299, 40, 290, 53, 48, 91, 59, 261, 239, 53, 93, 103, 1212, 979, 550, 1121, 2494, 2004, 11389, 221, 43, 89, 567, 15617, 7, 12, 92, 5, 48, 520, 49, 42, 52, 62, 2825, 3008, 552, 1, 3, 92, 163, 61, 261, 260, 113, 125, 29, 21, 41, 13, 1172, 324, 1371, 8947, 237, 126, 93, 791, 18, 172, 57, 4, 9400, 6, 58, 283, 91, 428, 1629, 163, 2096, 2, 740, 158, 1891, 3, 1, 32914, 5641, 386, 3306, 1, 2, 82, 129, 21, 29, 21, 0, 91, 1840, 10, 1011, 14, 38, 3, 98, 5, 443, 701, 2307, 2624, 210, 98, 5523, 213, 21, 8627, 1817, 837, 53, 1758, 1572, 4, 1632, 44, 425, 1344, 2, 853, 1, 515, 0, 587, 3, 186, 9, 21, 37, 2631, 2775, 472, 498, 211, 1868, 597, 1, 243, 1094, 513, 539, 2, 14, 953, 79, 10, 537, 821, 407, 2788, 30, 5, 29, 1, 19, 142, 248, 20, 962, 5412, 29, 11937, 42, 0, 732, 71, 50, 9, 47, 1, 878, 32, 12256, 32, 32, 90, 18, 158, 13848, 9, 253, 2032, 66, 2341, 6574, 2, 35, 9, 140, 5550, 5, 2746, 117, 24176, 2322], \"sizemode\": \"area\", \"sizeref\": 516.015, \"symbol\": \"circle\"}, \"mode\": \"markers\", \"name\": \"false\", \"showlegend\": true, \"type\": \"scattergl\", \"x\": [\"2020-02-02T00:00:00\", \"2020-02-11T00:00:00\", \"2020-02-11T00:00:00\", \"2020-02-15T00:00:00\", \"2020-02-16T00:00:00\", \"2020-03-11T00:00:00\", \"2020-03-24T00:00:00\", \"2020-03-26T00:00:00\", \"2020-04-08T00:00:00\", \"2020-04-09T00:00:00\", \"2020-04-15T00:00:00\", \"2020-04-21T00:00:00\", \"2020-04-21T00:00:00\", \"2020-04-24T00:00:00\", \"2020-04-24T00:00:00\", \"2020-04-28T00:00:00\", \"2020-05-03T00:00:00\", \"2020-05-07T00:00:00\", \"2020-05-10T00:00:00\", \"2020-05-16T00:00:00\", \"2020-05-16T00:00:00\", \"2020-05-20T00:00:00\", \"2020-05-20T00:00:00\", \"2020-05-20T00:00:00\", \"2020-05-20T00:00:00\", \"2020-05-21T00:00:00\", \"2020-05-24T00:00:00\", \"2020-05-25T00:00:00\", \"2020-05-25T00:00:00\", \"2020-05-26T00:00:00\", \"2020-05-26T00:00:00\", \"2020-05-27T00:00:00\", \"2020-05-27T00:00:00\", \"2020-06-04T00:00:00\", \"2020-06-06T00:00:00\", \"2020-06-06T00:00:00\", \"2020-06-08T00:00:00\", \"2020-06-08T00:00:00\", \"2020-06-08T00:00:00\", \"2020-06-08T00:00:00\", \"2020-06-08T00:00:00\", \"2020-06-09T00:00:00\", \"2020-06-09T00:00:00\", \"2020-06-09T00:00:00\", \"2020-06-09T00:00:00\", \"2020-06-10T00:00:00\", \"2020-06-10T00:00:00\", \"2020-06-11T00:00:00\", \"2020-06-11T00:00:00\", \"2020-06-11T00:00:00\", \"2020-06-11T00:00:00\", \"2020-06-12T00:00:00\", \"2020-06-12T00:00:00\", \"2020-06-12T00:00:00\", \"2020-06-14T00:00:00\", \"2020-06-14T00:00:00\", \"2020-06-14T00:00:00\", \"2020-06-14T00:00:00\", \"2020-06-16T00:00:00\", \"2020-06-17T00:00:00\", \"2020-06-24T00:00:00\", \"2020-06-24T00:00:00\", \"2020-06-24T00:00:00\", \"2020-06-25T00:00:00\", \"2020-06-25T00:00:00\", \"2020-06-25T00:00:00\", \"2020-06-30T00:00:00\", \"2020-07-03T00:00:00\", \"2020-07-24T00:00:00\", \"2020-07-30T00:00:00\", \"2020-01-27T00:00:00\", \"2020-02-10T00:00:00\", \"2020-02-29T00:00:00\", \"2020-03-11T00:00:00\", \"2020-03-15T00:00:00\", \"2020-03-15T00:00:00\", \"2020-03-20T00:00:00\", \"2020-03-23T00:00:00\", \"2020-03-27T00:00:00\", \"2020-04-15T00:00:00\", \"2020-04-21T00:00:00\", \"2020-04-26T00:00:00\", \"2020-04-26T00:00:00\", \"2020-04-29T00:00:00\", \"2020-04-29T00:00:00\", \"2020-05-03T00:00:00\", \"2020-05-06T00:00:00\", \"2020-05-07T00:00:00\", \"2020-05-07T00:00:00\", \"2020-05-11T00:00:00\", \"2020-05-12T00:00:00\", \"2020-05-12T00:00:00\", \"2020-05-12T00:00:00\", \"2020-05-13T00:00:00\", \"2020-05-13T00:00:00\", \"2020-05-14T00:00:00\", \"2020-05-14T00:00:00\", \"2020-05-16T00:00:00\", \"2020-05-16T00:00:00\", \"2020-05-16T00:00:00\", \"2020-05-16T00:00:00\", \"2020-05-18T00:00:00\", \"2020-05-18T00:00:00\", \"2020-05-19T00:00:00\", \"2020-05-19T00:00:00\", \"2020-05-20T00:00:00\", \"2020-05-20T00:00:00\", \"2020-05-20T00:00:00\", \"2020-05-21T00:00:00\", \"2020-05-21T00:00:00\", \"2020-05-21T00:00:00\", \"2020-05-21T00:00:00\", \"2020-05-21T00:00:00\", \"2020-05-21T00:00:00\", \"2020-05-22T00:00:00\", \"2020-05-24T00:00:00\", \"2020-05-24T00:00:00\", \"2020-05-24T00:00:00\", \"2020-05-24T00:00:00\", \"2020-05-25T00:00:00\", \"2020-05-25T00:00:00\", \"2020-05-25T00:00:00\", \"2020-05-25T00:00:00\", \"2020-05-25T00:00:00\", \"2020-05-25T00:00:00\", \"2020-05-26T00:00:00\", \"2020-05-26T00:00:00\", \"2020-05-26T00:00:00\", \"2020-05-27T00:00:00\", \"2020-05-27T00:00:00\", \"2020-05-28T00:00:00\", \"2020-05-29T00:00:00\", \"2020-05-29T00:00:00\", \"2020-06-01T00:00:00\", \"2020-06-02T00:00:00\", \"2020-06-04T00:00:00\", \"2020-06-04T00:00:00\", \"2020-06-05T00:00:00\", \"2020-06-05T00:00:00\", \"2020-06-06T00:00:00\", \"2020-06-08T00:00:00\", \"2020-06-23T00:00:00\", \"2020-06-24T00:00:00\", \"2020-06-25T00:00:00\", \"2020-08-07T00:00:00\", \"2020-08-08T00:00:00\", \"2020-08-11T00:00:00\", \"2020-08-12T00:00:00\", \"2020-08-12T00:00:00\", \"2020-08-15T00:00:00\", \"2020-01-16T00:00:00\", \"2020-03-05T00:00:00\", \"2020-03-06T00:00:00\", \"2020-03-15T00:00:00\", \"2020-03-18T00:00:00\", \"2020-03-22T00:00:00\", \"2020-03-22T00:00:00\", \"2020-03-24T00:00:00\", \"2020-03-26T00:00:00\", \"2020-03-28T00:00:00\", \"2020-03-31T00:00:00\", \"2020-04-01T00:00:00\", \"2020-04-03T00:00:00\", \"2020-04-08T00:00:00\", \"2020-04-12T00:00:00\", \"2020-04-17T00:00:00\", \"2020-04-18T00:00:00\", \"2020-04-19T00:00:00\", \"2020-04-20T00:00:00\", \"2020-04-26T00:00:00\", \"2020-04-28T00:00:00\", \"2020-04-28T00:00:00\", \"2020-04-29T00:00:00\", \"2020-04-30T00:00:00\", \"2020-04-30T00:00:00\", \"2020-05-01T00:00:00\", \"2020-05-02T00:00:00\", \"2020-05-02T00:00:00\", \"2020-05-02T00:00:00\", \"2020-05-03T00:00:00\", \"2020-05-04T00:00:00\", \"2020-05-06T00:00:00\", \"2020-05-07T00:00:00\", \"2020-05-08T00:00:00\", \"2020-05-08T00:00:00\", \"2020-05-08T00:00:00\", \"2020-05-08T00:00:00\", \"2020-05-08T00:00:00\", \"2020-05-08T00:00:00\", \"2020-05-09T00:00:00\", \"2020-05-09T00:00:00\", \"2020-05-09T00:00:00\", \"2020-05-10T00:00:00\", \"2020-05-10T00:00:00\", \"2020-05-10T00:00:00\", \"2020-05-10T00:00:00\", \"2020-05-11T00:00:00\", \"2020-05-11T00:00:00\", \"2020-05-12T00:00:00\", \"2020-05-12T00:00:00\", \"2020-05-12T00:00:00\", \"2020-05-12T00:00:00\", \"2020-05-12T00:00:00\", \"2020-05-12T00:00:00\", \"2020-05-12T00:00:00\", \"2020-05-12T00:00:00\", \"2020-05-12T00:00:00\", \"2020-05-12T00:00:00\", \"2020-05-13T00:00:00\", \"2020-05-13T00:00:00\", \"2020-05-14T00:00:00\", \"2020-05-14T00:00:00\", \"2020-05-16T00:00:00\", \"2020-05-17T00:00:00\", \"2020-05-17T00:00:00\", \"2020-05-17T00:00:00\", \"2020-05-18T00:00:00\", \"2020-05-20T00:00:00\", \"2020-05-20T00:00:00\", \"2020-05-20T00:00:00\", \"2020-05-21T00:00:00\", \"2020-05-21T00:00:00\", \"2020-05-21T00:00:00\", \"2020-05-22T00:00:00\", \"2020-05-22T00:00:00\", \"2020-05-25T00:00:00\", \"2020-05-25T00:00:00\", \"2020-05-25T00:00:00\", \"2020-06-24T00:00:00\", \"2020-07-31T00:00:00\", \"2020-08-08T00:00:00\", \"2020-08-10T00:00:00\", \"2020-08-10T00:00:00\", \"2020-08-11T00:00:00\", \"2020-08-11T00:00:00\", \"2020-08-26T00:00:00\", \"2020-02-01T00:00:00\", \"2020-02-04T00:00:00\", \"2020-02-26T00:00:00\", \"2020-03-06T00:00:00\", \"2020-03-07T00:00:00\", \"2020-03-14T00:00:00\", \"2020-03-16T00:00:00\", \"2020-03-19T00:00:00\", \"2020-03-23T00:00:00\", \"2020-03-24T00:00:00\", \"2020-03-30T00:00:00\", \"2020-03-31T00:00:00\", \"2020-04-06T00:00:00\", \"2020-04-07T00:00:00\", \"2020-04-15T00:00:00\", \"2020-04-19T00:00:00\", \"2020-04-22T00:00:00\", \"2020-04-24T00:00:00\", \"2020-04-25T00:00:00\", \"2020-04-26T00:00:00\", \"2020-04-26T00:00:00\", \"2020-04-28T00:00:00\", \"2020-04-28T00:00:00\", \"2020-04-29T00:00:00\", \"2020-04-29T00:00:00\", \"2020-04-29T00:00:00\", \"2020-04-29T00:00:00\", \"2020-04-29T00:00:00\", \"2020-04-30T00:00:00\", \"2020-05-01T00:00:00\", \"2020-05-02T00:00:00\", \"2020-05-02T00:00:00\", \"2020-05-02T00:00:00\", \"2020-05-02T00:00:00\", \"2020-05-02T00:00:00\", \"2020-05-02T00:00:00\", \"2020-05-03T00:00:00\", \"2020-05-03T00:00:00\", \"2020-05-03T00:00:00\", \"2020-05-03T00:00:00\", \"2020-05-03T00:00:00\", \"2020-05-04T00:00:00\", \"2020-05-04T00:00:00\", \"2020-05-04T00:00:00\", \"2020-05-04T00:00:00\", \"2020-05-05T00:00:00\", \"2020-05-06T00:00:00\", \"2020-05-06T00:00:00\", \"2020-05-06T00:00:00\", \"2020-05-06T00:00:00\", \"2020-05-06T00:00:00\", \"2020-05-06T00:00:00\", \"2020-05-06T00:00:00\", \"2020-05-07T00:00:00\", \"2020-05-07T00:00:00\", \"2020-05-07T00:00:00\", \"2020-05-07T00:00:00\", \"2020-05-07T00:00:00\", \"2020-05-08T00:00:00\", \"2020-05-08T00:00:00\", \"2020-05-08T00:00:00\", \"2020-05-08T00:00:00\", \"2020-05-08T00:00:00\", \"2020-05-08T00:00:00\", \"2020-05-08T00:00:00\", \"2020-05-08T00:00:00\", \"2020-05-09T00:00:00\", \"2020-05-09T00:00:00\", \"2020-05-10T00:00:00\", \"2020-05-10T00:00:00\", \"2020-05-11T00:00:00\", \"2020-05-11T00:00:00\", \"2020-05-12T00:00:00\", \"2020-05-12T00:00:00\", \"2020-05-12T00:00:00\", \"2020-05-13T00:00:00\", \"2020-05-13T00:00:00\", \"2020-05-14T00:00:00\", \"2020-05-15T00:00:00\", \"2020-05-21T00:00:00\", \"2020-05-29T00:00:00\", \"2020-05-29T00:00:00\", \"2020-08-01T00:00:00\", \"2020-08-02T00:00:00\", \"2020-08-04T00:00:00\", \"2020-08-07T00:00:00\", \"2020-08-31T00:00:00\", \"2020-03-06T00:00:00\", \"2020-03-16T00:00:00\", \"2020-03-16T00:00:00\", \"2020-03-16T00:00:00\", \"2020-03-18T00:00:00\", \"2020-03-21T00:00:00\", \"2020-03-21T00:00:00\", \"2020-03-24T00:00:00\", \"2020-03-27T00:00:00\", \"2020-03-28T00:00:00\", \"2020-04-01T00:00:00\", \"2020-04-02T00:00:00\", \"2020-04-02T00:00:00\", \"2020-04-02T00:00:00\", \"2020-04-03T00:00:00\", \"2020-04-04T00:00:00\", \"2020-04-05T00:00:00\", \"2020-04-07T00:00:00\", \"2020-04-07T00:00:00\", \"2020-04-07T00:00:00\", \"2020-04-08T00:00:00\", \"2020-04-08T00:00:00\", \"2020-04-09T00:00:00\", \"2020-04-14T00:00:00\", \"2020-04-15T00:00:00\", \"2020-04-15T00:00:00\", \"2020-04-17T00:00:00\", \"2020-04-19T00:00:00\", \"2020-04-19T00:00:00\", \"2020-04-20T00:00:00\", \"2020-04-20T00:00:00\", \"2020-04-21T00:00:00\", \"2020-04-21T00:00:00\", \"2020-04-22T00:00:00\", \"2020-04-22T00:00:00\", \"2020-04-22T00:00:00\", \"2020-04-22T00:00:00\", \"2020-04-22T00:00:00\", \"2020-04-22T00:00:00\", \"2020-04-22T00:00:00\", \"2020-04-23T00:00:00\", \"2020-04-24T00:00:00\", \"2020-04-24T00:00:00\", \"2020-04-24T00:00:00\", \"2020-04-24T00:00:00\", \"2020-04-25T00:00:00\", \"2020-04-25T00:00:00\", \"2020-04-26T00:00:00\", \"2020-04-26T00:00:00\", \"2020-04-26T00:00:00\", \"2020-04-26T00:00:00\", \"2020-04-26T00:00:00\", \"2020-04-26T00:00:00\", \"2020-04-26T00:00:00\", \"2020-04-26T00:00:00\", \"2020-04-26T00:00:00\", \"2020-04-26T00:00:00\", \"2020-04-26T00:00:00\", \"2020-04-26T00:00:00\", \"2020-04-26T00:00:00\", \"2020-04-26T00:00:00\", \"2020-04-27T00:00:00\", \"2020-04-27T00:00:00\", \"2020-04-28T00:00:00\", \"2020-04-28T00:00:00\", \"2020-04-28T00:00:00\", \"2020-04-29T00:00:00\", \"2020-04-29T00:00:00\", \"2020-04-30T00:00:00\", \"2020-05-02T00:00:00\", \"2020-05-03T00:00:00\", \"2020-05-03T00:00:00\", \"2020-05-03T00:00:00\", \"2020-05-04T00:00:00\", \"2020-05-04T00:00:00\", \"2020-05-05T00:00:00\", \"2020-05-06T00:00:00\", \"2020-05-08T00:00:00\", \"2020-06-03T00:00:00\", \"2020-07-06T00:00:00\", \"2020-07-24T00:00:00\", \"2020-07-27T00:00:00\", \"2020-08-01T00:00:00\", \"2020-08-30T00:00:00\", \"2020-01-31T00:00:00\", \"2020-01-31T00:00:00\", \"2020-02-01T00:00:00\", \"2020-03-02T00:00:00\", \"2020-03-03T00:00:00\", \"2020-03-17T00:00:00\", \"2020-03-18T00:00:00\", \"2020-03-20T00:00:00\", \"2020-03-25T00:00:00\", \"2020-03-25T00:00:00\", \"2020-03-27T00:00:00\", \"2020-03-27T00:00:00\", \"2020-03-28T00:00:00\", \"2020-03-28T00:00:00\", \"2020-03-29T00:00:00\", \"2020-03-30T00:00:00\", \"2020-03-30T00:00:00\", \"2020-04-01T00:00:00\", \"2020-04-01T00:00:00\", \"2020-04-02T00:00:00\", \"2020-04-02T00:00:00\", \"2020-04-04T00:00:00\", \"2020-04-05T00:00:00\", \"2020-04-06T00:00:00\", \"2020-04-06T00:00:00\", \"2020-04-08T00:00:00\", \"2020-04-09T00:00:00\", \"2020-04-10T00:00:00\", \"2020-04-10T00:00:00\", \"2020-04-10T00:00:00\", \"2020-04-10T00:00:00\", \"2020-04-10T00:00:00\", \"2020-04-11T00:00:00\", \"2020-04-11T00:00:00\", \"2020-04-12T00:00:00\", \"2020-04-12T00:00:00\", \"2020-04-13T00:00:00\", \"2020-04-13T00:00:00\", \"2020-04-14T00:00:00\", \"2020-04-14T00:00:00\", \"2020-04-14T00:00:00\", \"2020-04-15T00:00:00\", \"2020-04-15T00:00:00\", \"2020-04-15T00:00:00\", \"2020-04-15T00:00:00\", \"2020-04-15T00:00:00\", \"2020-04-15T00:00:00\", \"2020-04-15T00:00:00\", \"2020-04-15T00:00:00\", \"2020-04-15T00:00:00\", \"2020-04-15T00:00:00\", \"2020-04-16T00:00:00\", \"2020-04-16T00:00:00\", \"2020-04-16T00:00:00\", \"2020-04-16T00:00:00\", \"2020-04-16T00:00:00\", \"2020-04-17T00:00:00\", \"2020-04-17T00:00:00\", \"2020-04-17T00:00:00\", \"2020-04-18T00:00:00\", \"2020-04-18T00:00:00\", \"2020-04-19T00:00:00\", \"2020-04-19T00:00:00\", \"2020-04-20T00:00:00\", \"2020-04-20T00:00:00\", \"2020-04-20T00:00:00\", \"2020-04-20T00:00:00\", \"2020-04-20T00:00:00\", \"2020-04-21T00:00:00\", \"2020-04-21T00:00:00\", \"2020-04-21T00:00:00\", \"2020-04-21T00:00:00\", \"2020-04-21T00:00:00\", \"2020-04-21T00:00:00\", \"2020-04-21T00:00:00\", \"2020-04-22T00:00:00\", \"2020-04-23T00:00:00\", \"2020-04-23T00:00:00\", \"2020-04-24T00:00:00\", \"2020-04-27T00:00:00\", \"2020-04-28T00:00:00\", \"2020-05-11T00:00:00\", \"2020-06-06T00:00:00\", \"2020-07-21T00:00:00\", \"2020-07-28T00:00:00\", \"2020-07-31T00:00:00\", \"2020-02-11T00:00:00\", \"2020-02-14T00:00:00\", \"2020-02-19T00:00:00\", \"2020-02-22T00:00:00\", \"2020-02-23T00:00:00\", \"2020-02-25T00:00:00\", \"2020-03-12T00:00:00\", \"2020-03-15T00:00:00\", \"2020-03-16T00:00:00\", \"2020-03-18T00:00:00\", \"2020-03-18T00:00:00\", \"2020-03-18T00:00:00\", \"2020-03-20T00:00:00\", \"2020-03-20T00:00:00\", \"2020-03-27T00:00:00\", \"2020-03-27T00:00:00\", \"2020-03-28T00:00:00\", \"2020-03-30T00:00:00\", \"2020-04-02T00:00:00\", \"2020-04-02T00:00:00\", \"2020-04-02T00:00:00\", \"2020-04-02T00:00:00\", \"2020-04-03T00:00:00\", \"2020-04-03T00:00:00\", \"2020-04-04T00:00:00\", \"2020-04-04T00:00:00\", \"2020-04-04T00:00:00\", \"2020-04-05T00:00:00\", \"2020-04-05T00:00:00\", \"2020-04-05T00:00:00\", \"2020-04-05T00:00:00\", \"2020-04-06T00:00:00\", \"2020-04-06T00:00:00\", \"2020-04-06T00:00:00\", \"2020-04-06T00:00:00\", \"2020-04-06T00:00:00\", \"2020-04-06T00:00:00\", \"2020-04-07T00:00:00\", \"2020-04-07T00:00:00\", \"2020-04-07T00:00:00\", \"2020-04-07T00:00:00\", \"2020-04-08T00:00:00\", \"2020-04-08T00:00:00\", \"2020-04-08T00:00:00\", \"2020-04-08T00:00:00\", \"2020-04-08T00:00:00\", \"2020-04-08T00:00:00\", \"2020-04-09T00:00:00\", \"2020-04-09T00:00:00\", \"2020-04-09T00:00:00\", \"2020-04-09T00:00:00\", \"2020-04-09T00:00:00\", \"2020-04-09T00:00:00\", \"2020-04-09T00:00:00\", \"2020-04-09T00:00:00\", \"2020-04-10T00:00:00\", \"2020-04-10T00:00:00\", \"2020-04-10T00:00:00\", \"2020-04-10T00:00:00\", \"2020-04-10T00:00:00\", \"2020-04-10T00:00:00\", \"2020-04-11T00:00:00\", \"2020-04-11T00:00:00\", \"2020-04-11T00:00:00\", \"2020-04-11T00:00:00\", \"2020-04-11T00:00:00\", \"2020-04-11T00:00:00\", \"2020-04-11T00:00:00\", \"2020-04-11T00:00:00\", \"2020-04-11T00:00:00\", \"2020-04-12T00:00:00\", \"2020-04-12T00:00:00\", \"2020-04-12T00:00:00\", \"2020-04-13T00:00:00\", \"2020-04-13T00:00:00\", \"2020-04-13T00:00:00\", \"2020-04-13T00:00:00\", \"2020-04-13T00:00:00\", \"2020-04-13T00:00:00\", \"2020-04-13T00:00:00\", \"2020-04-14T00:00:00\", \"2020-04-15T00:00:00\", \"2020-04-16T00:00:00\", \"2020-04-16T00:00:00\", \"2020-05-21T00:00:00\", \"2020-07-11T00:00:00\", \"2020-07-15T00:00:00\", \"2020-07-22T00:00:00\", \"2020-07-25T00:00:00\", \"2020-01-29T00:00:00\", \"2020-02-12T00:00:00\", \"2020-03-09T00:00:00\", \"2020-03-13T00:00:00\", \"2020-03-15T00:00:00\", \"2020-03-15T00:00:00\", \"2020-03-16T00:00:00\", \"2020-03-16T00:00:00\", \"2020-03-16T00:00:00\", \"2020-03-19T00:00:00\", \"2020-03-23T00:00:00\", \"2020-03-23T00:00:00\", \"2020-03-24T00:00:00\", \"2020-03-24T00:00:00\", \"2020-03-25T00:00:00\", \"2020-03-27T00:00:00\", \"2020-03-27T00:00:00\", \"2020-03-27T00:00:00\", \"2020-03-28T00:00:00\", \"2020-03-29T00:00:00\", \"2020-03-29T00:00:00\", \"2020-03-30T00:00:00\", \"2020-03-30T00:00:00\", \"2020-03-30T00:00:00\", \"2020-03-30T00:00:00\", \"2020-03-30T00:00:00\", \"2020-03-30T00:00:00\", \"2020-03-31T00:00:00\", \"2020-03-31T00:00:00\", \"2020-03-31T00:00:00\", \"2020-03-31T00:00:00\", \"2020-03-31T00:00:00\", \"2020-03-31T00:00:00\", \"2020-03-31T00:00:00\", \"2020-03-31T00:00:00\", \"2020-03-31T00:00:00\", \"2020-03-31T00:00:00\", \"2020-04-01T00:00:00\", \"2020-04-01T00:00:00\", \"2020-04-02T00:00:00\", \"2020-04-02T00:00:00\", \"2020-04-02T00:00:00\", \"2020-04-02T00:00:00\", \"2020-04-02T00:00:00\", \"2020-04-03T00:00:00\", \"2020-04-03T00:00:00\", \"2020-04-03T00:00:00\", \"2020-04-03T00:00:00\", \"2020-04-03T00:00:00\", \"2020-04-03T00:00:00\", \"2020-04-03T00:00:00\", \"2020-04-04T00:00:00\", \"2020-04-04T00:00:00\", \"2020-04-04T00:00:00\", \"2020-04-05T00:00:00\", \"2020-04-05T00:00:00\", \"2020-04-05T00:00:00\", \"2020-04-05T00:00:00\", \"2020-04-05T00:00:00\", \"2020-04-05T00:00:00\", \"2020-04-05T00:00:00\", \"2020-04-06T00:00:00\", \"2020-04-06T00:00:00\", \"2020-04-06T00:00:00\", \"2020-04-06T00:00:00\", \"2020-04-06T00:00:00\", \"2020-04-06T00:00:00\", \"2020-04-06T00:00:00\", \"2020-04-06T00:00:00\", \"2020-04-07T00:00:00\", \"2020-04-07T00:00:00\", \"2020-04-07T00:00:00\", \"2020-04-07T00:00:00\", \"2020-04-07T00:00:00\", \"2020-04-08T00:00:00\", \"2020-04-08T00:00:00\", \"2020-04-08T00:00:00\", \"2020-04-09T00:00:00\", \"2020-04-09T00:00:00\", \"2020-04-09T00:00:00\", \"2020-04-11T00:00:00\", \"2020-04-14T00:00:00\", \"2020-04-16T00:00:00\", \"2020-04-23T00:00:00\", \"2020-04-24T00:00:00\", \"2020-07-22T00:00:00\", \"2020-07-23T00:00:00\", \"2020-07-24T00:00:00\", \"2020-01-16T00:00:00\", \"2020-01-19T00:00:00\", \"2020-01-31T00:00:00\", \"2020-03-01T00:00:00\", \"2020-03-06T00:00:00\", \"2020-03-06T00:00:00\", \"2020-03-06T00:00:00\", \"2020-03-07T00:00:00\", \"2020-03-08T00:00:00\", \"2020-03-09T00:00:00\", \"2020-03-11T00:00:00\", \"2020-03-12T00:00:00\", \"2020-03-16T00:00:00\", \"2020-03-18T00:00:00\", \"2020-03-20T00:00:00\", \"2020-03-21T00:00:00\", \"2020-03-21T00:00:00\", \"2020-03-22T00:00:00\", \"2020-03-23T00:00:00\", \"2020-03-23T00:00:00\", \"2020-03-23T00:00:00\", \"2020-03-23T00:00:00\", \"2020-03-24T00:00:00\", \"2020-03-24T00:00:00\", \"2020-03-24T00:00:00\", \"2020-03-24T00:00:00\", \"2020-03-24T00:00:00\", \"2020-03-24T00:00:00\", \"2020-03-25T00:00:00\", \"2020-03-25T00:00:00\", \"2020-03-25T00:00:00\", \"2020-03-25T00:00:00\", \"2020-03-25T00:00:00\", \"2020-03-25T00:00:00\", \"2020-03-25T00:00:00\", \"2020-03-26T00:00:00\", \"2020-03-26T00:00:00\", \"2020-03-26T00:00:00\", \"2020-03-26T00:00:00\", \"2020-03-27T00:00:00\", \"2020-03-27T00:00:00\", \"2020-03-28T00:00:00\", \"2020-03-28T00:00:00\", \"2020-03-28T00:00:00\", \"2020-03-28T00:00:00\", \"2020-03-29T00:00:00\", \"2020-03-29T00:00:00\", \"2020-03-29T00:00:00\", \"2020-03-29T00:00:00\", \"2020-03-29T00:00:00\", \"2020-03-29T00:00:00\", \"2020-03-29T00:00:00\", \"2020-03-30T00:00:00\", \"2020-03-30T00:00:00\", \"2020-03-30T00:00:00\", \"2020-03-30T00:00:00\", \"2020-03-30T00:00:00\", \"2020-03-30T00:00:00\", \"2020-03-30T00:00:00\", \"2020-03-30T00:00:00\", \"2020-03-30T00:00:00\", \"2020-03-31T00:00:00\", \"2020-03-31T00:00:00\", \"2020-04-01T00:00:00\", \"2020-04-01T00:00:00\", \"2020-04-01T00:00:00\", \"2020-04-02T00:00:00\", \"2020-04-03T00:00:00\", \"2020-04-11T00:00:00\", \"2020-04-14T00:00:00\", \"2020-04-14T00:00:00\", \"2020-05-26T00:00:00\", \"2020-06-28T00:00:00\", \"2020-01-29T00:00:00\", \"2020-02-11T00:00:00\", \"2020-02-28T00:00:00\", \"2020-03-12T00:00:00\", \"2020-03-12T00:00:00\", \"2020-03-12T00:00:00\", \"2020-03-13T00:00:00\", \"2020-03-14T00:00:00\", \"2020-03-14T00:00:00\", \"2020-03-15T00:00:00\", \"2020-03-16T00:00:00\", \"2020-03-17T00:00:00\", \"2020-03-17T00:00:00\", \"2020-03-17T00:00:00\", \"2020-03-17T00:00:00\", \"2020-03-17T00:00:00\", \"2020-03-18T00:00:00\", \"2020-03-18T00:00:00\", \"2020-03-18T00:00:00\", \"2020-03-18T00:00:00\", \"2020-03-18T00:00:00\", \"2020-03-18T00:00:00\", \"2020-03-18T00:00:00\", \"2020-03-19T00:00:00\", \"2020-03-19T00:00:00\", \"2020-03-20T00:00:00\", \"2020-03-20T00:00:00\", \"2020-03-20T00:00:00\", \"2020-03-20T00:00:00\", \"2020-03-21T00:00:00\", \"2020-03-21T00:00:00\", \"2020-03-21T00:00:00\", \"2020-03-21T00:00:00\", \"2020-03-21T00:00:00\", \"2020-03-21T00:00:00\", \"2020-03-21T00:00:00\", \"2020-03-22T00:00:00\", \"2020-03-22T00:00:00\", \"2020-03-22T00:00:00\", \"2020-03-22T00:00:00\", \"2020-03-22T00:00:00\", \"2020-03-23T00:00:00\", \"2020-03-23T00:00:00\", \"2020-03-23T00:00:00\", \"2020-03-23T00:00:00\", \"2020-03-23T00:00:00\", \"2020-03-23T00:00:00\", \"2020-03-23T00:00:00\", \"2020-03-23T00:00:00\", \"2020-03-23T00:00:00\", \"2020-03-23T00:00:00\", \"2020-03-23T00:00:00\", \"2020-03-24T00:00:00\", \"2020-03-24T00:00:00\", \"2020-03-24T00:00:00\", \"2020-03-24T00:00:00\", \"2020-03-24T00:00:00\", \"2020-03-24T00:00:00\", \"2020-03-24T00:00:00\", \"2020-03-24T00:00:00\", \"2020-03-25T00:00:00\", \"2020-03-25T00:00:00\", \"2020-03-25T00:00:00\", \"2020-03-25T00:00:00\", \"2020-03-25T00:00:00\", \"2020-03-25T00:00:00\", \"2020-03-25T00:00:00\", \"2020-03-26T00:00:00\", \"2020-03-26T00:00:00\", \"2020-03-26T00:00:00\", \"2020-03-26T00:00:00\", \"2020-03-27T00:00:00\", \"2020-03-27T00:00:00\", \"2020-03-28T00:00:00\", \"2020-03-30T00:00:00\", \"2020-07-14T00:00:00\", \"2020-07-17T00:00:00\", \"2020-02-08T00:00:00\", \"2020-03-03T00:00:00\", \"2020-03-09T00:00:00\", \"2020-03-09T00:00:00\", \"2020-03-09T00:00:00\", \"2020-03-12T00:00:00\", \"2020-03-13T00:00:00\", \"2020-03-13T00:00:00\", \"2020-03-13T00:00:00\", \"2020-03-13T00:00:00\", \"2020-03-13T00:00:00\", \"2020-03-14T00:00:00\", \"2020-03-14T00:00:00\", \"2020-03-14T00:00:00\", \"2020-03-14T00:00:00\", \"2020-03-15T00:00:00\", \"2020-03-15T00:00:00\", \"2020-03-15T00:00:00\", \"2020-03-15T00:00:00\", \"2020-03-15T00:00:00\", \"2020-03-15T00:00:00\", \"2020-03-15T00:00:00\", \"2020-03-16T00:00:00\", \"2020-03-16T00:00:00\", \"2020-03-16T00:00:00\", \"2020-03-16T00:00:00\", \"2020-03-16T00:00:00\", \"2020-03-16T00:00:00\", \"2020-03-16T00:00:00\", \"2020-03-16T00:00:00\", \"2020-03-17T00:00:00\", \"2020-03-17T00:00:00\", \"2020-03-17T00:00:00\", \"2020-03-17T00:00:00\", \"2020-03-17T00:00:00\", \"2020-03-17T00:00:00\", \"2020-03-17T00:00:00\", \"2020-03-18T00:00:00\", \"2020-03-18T00:00:00\", \"2020-03-18T00:00:00\", \"2020-03-18T00:00:00\", \"2020-03-18T00:00:00\", \"2020-03-18T00:00:00\", \"2020-03-18T00:00:00\", \"2020-03-18T00:00:00\", \"2020-03-18T00:00:00\", \"2020-03-19T00:00:00\", \"2020-03-19T00:00:00\", \"2020-03-19T00:00:00\", \"2020-03-19T00:00:00\", \"2020-03-19T00:00:00\", \"2020-03-20T00:00:00\", \"2020-03-20T00:00:00\", \"2020-03-20T00:00:00\", \"2020-03-20T00:00:00\", \"2020-03-20T00:00:00\", \"2020-03-20T00:00:00\", \"2020-03-21T00:00:00\", \"2020-03-21T00:00:00\", \"2020-03-21T00:00:00\", \"2020-03-21T00:00:00\", \"2020-03-21T00:00:00\", \"2020-03-21T00:00:00\", \"2020-03-22T00:00:00\", \"2020-03-22T00:00:00\", \"2020-03-22T00:00:00\", \"2020-03-22T00:00:00\", \"2020-03-22T00:00:00\", \"2020-03-22T00:00:00\", \"2020-03-22T00:00:00\", \"2020-03-22T00:00:00\", \"2020-03-22T00:00:00\", \"2020-03-23T00:00:00\", \"2020-03-23T00:00:00\", \"2020-03-23T00:00:00\", \"2020-03-23T00:00:00\", \"2020-03-24T00:00:00\", \"2020-03-27T00:00:00\", \"2020-03-27T00:00:00\", \"2020-03-30T00:00:00\", \"2020-01-22T00:00:00\", \"2020-02-06T00:00:00\", \"2020-02-07T00:00:00\", \"2020-02-26T00:00:00\", \"2020-03-03T00:00:00\", \"2020-03-04T00:00:00\", \"2020-03-05T00:00:00\", \"2020-03-06T00:00:00\", \"2020-03-09T00:00:00\", \"2020-03-10T00:00:00\", \"2020-03-11T00:00:00\", \"2020-03-12T00:00:00\", \"2020-03-12T00:00:00\", \"2020-03-12T00:00:00\", \"2020-03-12T00:00:00\", \"2020-03-12T00:00:00\", \"2020-03-12T00:00:00\", \"2020-03-12T00:00:00\", \"2020-03-12T00:00:00\", \"2020-03-12T00:00:00\", \"2020-03-13T00:00:00\", \"2020-03-13T00:00:00\", \"2020-03-13T00:00:00\", \"2020-03-13T00:00:00\", \"2020-03-13T00:00:00\", \"2020-03-13T00:00:00\", \"2020-03-13T00:00:00\", \"2020-03-13T00:00:00\", \"2020-03-14T00:00:00\", \"2020-03-14T00:00:00\", \"2020-03-14T00:00:00\", \"2020-03-14T00:00:00\", \"2020-03-14T00:00:00\", \"2020-03-15T00:00:00\", \"2020-03-15T00:00:00\", \"2020-03-15T00:00:00\", \"2020-03-15T00:00:00\", \"2020-03-15T00:00:00\", \"2020-03-15T00:00:00\", \"2020-03-15T00:00:00\", \"2020-03-15T00:00:00\", \"2020-03-15T00:00:00\", \"2020-03-16T00:00:00\", \"2020-03-16T00:00:00\", \"2020-03-16T00:00:00\", \"2020-03-16T00:00:00\", \"2020-03-16T00:00:00\", \"2020-03-16T00:00:00\", \"2020-03-16T00:00:00\", \"2020-03-16T00:00:00\", \"2020-03-16T00:00:00\", \"2020-03-16T00:00:00\", \"2020-03-16T00:00:00\", \"2020-03-17T00:00:00\", \"2020-03-17T00:00:00\", \"2020-03-17T00:00:00\", \"2020-03-17T00:00:00\", \"2020-03-17T00:00:00\", \"2020-03-18T00:00:00\", \"2020-03-18T00:00:00\", \"2020-03-18T00:00:00\", \"2020-03-18T00:00:00\", \"2020-03-19T00:00:00\", \"2020-03-19T00:00:00\", \"2020-03-19T00:00:00\", \"2020-03-20T00:00:00\", \"2020-03-20T00:00:00\", \"2020-03-20T00:00:00\", \"2020-03-22T00:00:00\", \"2020-03-22T00:00:00\", \"2020-03-25T00:00:00\", \"2020-03-29T00:00:00\", \"2020-05-13T00:00:00\", \"2020-06-12T00:00:00\", \"2020-06-13T00:00:00\", \"2020-06-28T00:00:00\", \"2020-06-28T00:00:00\", \"2020-07-10T00:00:00\", \"2020-07-13T00:00:00\", \"2020-08-18T00:00:00\", \"2020-08-18T00:00:00\", \"2020-08-20T00:00:00\", \"2020-01-21T00:00:00\", \"2020-01-26T00:00:00\", \"2020-01-30T00:00:00\", \"2020-01-31T00:00:00\", \"2020-02-03T00:00:00\", \"2020-02-05T00:00:00\", \"2020-02-05T00:00:00\", \"2020-02-05T00:00:00\", \"2020-02-05T00:00:00\", \"2020-02-05T00:00:00\", \"2020-02-05T00:00:00\", \"2020-02-06T00:00:00\", \"2020-02-08T00:00:00\", \"2020-02-22T00:00:00\", \"2020-02-25T00:00:00\", \"2020-02-25T00:00:00\", \"2020-02-25T00:00:00\", \"2020-02-25T00:00:00\", \"2020-02-27T00:00:00\", \"2020-02-28T00:00:00\", \"2020-02-29T00:00:00\", \"2020-02-29T00:00:00\", \"2020-02-29T00:00:00\", \"2020-03-02T00:00:00\", \"2020-03-02T00:00:00\", \"2020-03-02T00:00:00\", \"2020-03-02T00:00:00\", \"2020-03-03T00:00:00\", \"2020-03-04T00:00:00\", \"2020-03-04T00:00:00\", \"2020-03-04T00:00:00\", \"2020-03-04T00:00:00\", \"2020-03-04T00:00:00\", \"2020-03-05T00:00:00\", \"2020-03-05T00:00:00\", \"2020-03-05T00:00:00\", \"2020-03-05T00:00:00\", \"2020-03-05T00:00:00\", \"2020-03-06T00:00:00\", \"2020-03-07T00:00:00\", \"2020-03-07T00:00:00\", \"2020-03-07T00:00:00\", \"2020-03-07T00:00:00\", \"2020-03-08T00:00:00\", \"2020-03-08T00:00:00\", \"2020-03-09T00:00:00\", \"2020-03-09T00:00:00\", \"2020-03-09T00:00:00\", \"2020-03-09T00:00:00\", \"2020-03-09T00:00:00\", \"2020-03-09T00:00:00\", \"2020-03-09T00:00:00\", \"2020-03-09T00:00:00\", \"2020-03-10T00:00:00\", \"2020-03-10T00:00:00\", \"2020-03-10T00:00:00\", \"2020-03-10T00:00:00\", \"2020-03-10T00:00:00\", \"2020-03-10T00:00:00\", \"2020-03-10T00:00:00\", \"2020-03-10T00:00:00\", \"2020-03-10T00:00:00\", \"2020-03-10T00:00:00\", \"2020-03-10T00:00:00\", \"2020-03-10T00:00:00\", \"2020-03-10T00:00:00\", \"2020-03-10T00:00:00\", \"2020-03-10T00:00:00\", \"2020-03-11T00:00:00\", \"2020-03-11T00:00:00\", \"2020-03-11T00:00:00\", \"2020-03-11T00:00:00\", \"2020-03-11T00:00:00\", \"2020-03-11T00:00:00\", \"2020-03-11T00:00:00\", \"2020-03-12T00:00:00\", \"2020-03-12T00:00:00\", \"2020-03-12T00:00:00\", \"2020-03-12T00:00:00\", \"2020-03-12T00:00:00\", \"2020-03-12T00:00:00\", \"2020-03-13T00:00:00\", \"2020-03-14T00:00:00\", \"2020-03-15T00:00:00\", \"2020-03-15T00:00:00\", \"2020-03-15T00:00:00\", \"2020-03-16T00:00:00\", \"2020-03-16T00:00:00\", \"2020-04-02T00:00:00\", \"2020-04-29T00:00:00\", \"2020-08-31T00:00:00\", \"2020-01-04T00:00:00\", \"2020-01-22T00:00:00\", \"2020-01-23T00:00:00\", \"2020-01-23T00:00:00\", \"2020-01-23T00:00:00\", \"2020-01-23T00:00:00\", \"2020-01-23T00:00:00\", \"2020-01-23T00:00:00\", \"2020-01-24T00:00:00\", \"2020-01-25T00:00:00\", \"2020-01-25T00:00:00\", \"2020-01-27T00:00:00\", \"2020-01-27T00:00:00\", \"2020-01-27T00:00:00\", \"2020-01-28T00:00:00\", \"2020-01-28T00:00:00\", \"2020-01-28T00:00:00\", \"2020-01-29T00:00:00\", \"2020-01-29T00:00:00\", \"2020-01-30T00:00:00\", \"2020-01-30T00:00:00\", \"2020-01-30T00:00:00\", \"2020-01-30T00:00:00\", \"2020-01-31T00:00:00\", \"2020-01-31T00:00:00\", \"2020-01-31T00:00:00\", \"2020-02-02T00:00:00\", \"2020-02-02T00:00:00\", \"2020-02-02T00:00:00\", \"2020-02-03T00:00:00\", \"2020-02-04T00:00:00\", \"2020-02-05T00:00:00\", \"2020-02-05T00:00:00\", \"2020-02-05T00:00:00\", \"2020-02-05T00:00:00\", \"2020-02-06T00:00:00\", \"2020-02-06T00:00:00\", \"2020-02-06T00:00:00\", \"2020-02-06T00:00:00\", \"2020-02-08T00:00:00\", \"2020-02-09T00:00:00\", \"2020-02-09T00:00:00\", \"2020-02-18T00:00:00\", \"2020-02-25T00:00:00\", \"2020-03-02T00:00:00\", \"2020-03-02T00:00:00\", \"2020-03-02T00:00:00\", \"2020-03-03T00:00:00\", \"2020-03-11T00:00:00\", \"2020-03-12T00:00:00\", \"2020-03-16T00:00:00\", \"2020-03-26T00:00:00\", \"2020-03-30T00:00:00\", \"2020-03-31T00:00:00\", \"2020-04-02T00:00:00\", \"2020-04-02T00:00:00\", \"2020-04-04T00:00:00\", \"2020-04-08T00:00:00\", \"2020-04-25T00:00:00\", \"2020-04-28T00:00:00\", \"2020-04-30T00:00:00\", \"2020-05-12T00:00:00\", \"2020-06-18T00:00:00\", \"2020-06-19T00:00:00\", \"2020-06-27T00:00:00\", \"2020-06-28T00:00:00\", \"2020-07-01T00:00:00\", \"2020-07-03T00:00:00\", \"2020-07-04T00:00:00\", \"2020-07-13T00:00:00\", \"2020-08-16T00:00:00\", \"2020-08-16T00:00:00\", \"2020-08-19T00:00:00\", \"2020-03-18T00:00:00\", \"2020-03-03T00:00:00\", \"2020-03-20T00:00:00\", \"2020-04-27T00:00:00\", \"2020-03-03T00:00:00\", \"2020-04-07T00:00:00\", \"2020-05-17T00:00:00\", \"2020-03-28T00:00:00\", \"2020-03-10T00:00:00\", \"2020-03-14T00:00:00\", \"2020-03-05T00:00:00\", \"2020-03-18T00:00:00\", \"2020-08-12T00:00:00\", \"2020-05-02T00:00:00\", \"2020-06-17T00:00:00\", \"2020-01-27T00:00:00\", \"2020-01-28T00:00:00\", \"2020-01-25T00:00:00\", \"2020-03-16T00:00:00\", \"2020-01-15T00:00:00\", \"2020-01-30T00:00:00\", \"2020-01-28T00:00:00\", \"2020-01-26T00:00:00\", \"2020-03-12T00:00:00\"], \"xaxis\": \"x\", \"y\": [9191832, 9191832, 9191832, 1437009, 1437009, 9191832, 1437009, 393129, 43129, 21283, 54282956, 557860, 17230, 26970, 26970, 839647, 107996, 287507, 7052, 218, 24683, 230092, 1175975, 1175975, 53351, 438436, 15112, 76660, 651572, 1936, 56590, 7541, 7541, 5650, 4334, 14356088, 191908, 185077, 47520, 47520, 47520, 330891, 6688013, 45352, 862987, 10422, 1318, 1, 40044, 33, 63, 18467, 2034794, 2034794, 595, 164, 3015, 59067, 6688013, 348768, 12361, 30804, 5717, 17690, 17690, 99418, 47872, 54504, 138561, 17468, 9191833, 855267, 18131, 9191833, 5864301, 135086, 5637, 1399161, 135086, 440835, 26880, 16747, 2181799, 107996, 456, 427237, 28345, 234765, 234765, 1476, 33419, 3108370, 45415, 570753, 8705, 597521, 103432, 1726631, 1726631, 70260, 33022, 819519, 2223, 1437009, 251746, 2393530, 110202, 89, 6743, 277604, 61790, 48358, 638165, 24756, 31623, 9148, 683, 2703, 42197, 76660, 651572, 30862, 5158, 5158, 147280, 124703, 647, 240250, 2486, 580533, 55039, 667366, 230092, 240250, 9031370, 2154302, 90682, 62752, 62752, 577130, 5547, 40995, 72948, 27, 15378, 65050, 3074, 1399161, 1399161, 1683, 31812, 141611, 1437009, 1441252, 9191833, 1808, 153831, 59008, 15431, 1144, 153831, 47226, 3801478, 184613, 1336533, 109168, 11057, 110202, 423610, 134771, 3647428, 1796845, 15431, 108402, 820725, 416002, 63818, 225264, 133, 15999, 1, 150, 36725, 5296402, 95399, 41669, 90508, 439893, 1441252, 62497, 61717, 1332, 1079, 39225, 79456, 1697343, 75382, 352249, 1802, 12033766, 9148, 2901, 36245, 1548, 2671, 21803, 1292593, 134555, 572, 1313, 251, 3345, 200, 415473, 84843, 262756, 3336813, 422512, 9, 205632, 20983, 9539, 10123749, 15431, 33699, 1399161, 126985, 5254900, 10477, 2034794, 3527, 5246, 1987015, 42, 158, 576819, 29652779, 196491, 513428, 9191834, 52962, 1441252, 648109, 28017, 1840575, 251746, 462153, 9148, 648109, 3764640, 2280, 110202, 12039, 14446, 5518, 470916, 321189, 33295, 6075171, 106125, 3533380, 28185, 507618, 21998, 129166, 1697343, 37340, 1228219, 379088, 1726631, 327, 225264, 279764, 15307, 225264, 147238, 1237808, 226786, 18345, 150, 134532, 17963, 3146, 575294, 61047, 1104399, 22222, 14265, 14265, 1189724, 5718, 7, 14709, 347, 292967, 545578, 440481, 90508, 439893, 2926, 12033766, 225264, 1600, 41562, 190511, 141, 879597, 7821, 10422, 410418, 62, 208148, 207620, 184613, 7391, 1437009, 227558, 194415, 49719732, 924148, 25528, 4642, 9982707, 1441252, 171971, 26405734, 443508, 165786, 1563641, 638165, 1881769, 3414289, 758699, 35828, 48308, 5296402, 283831, 1763, 758699, 128832, 251746, 428816, 120586, 1649343, 1649343, 75091, 1237808, 51291, 12407, 1805055, 110202, 110202, 2429, 63, 1567, 4446, 3607, 9191832, 356354, 10422, 184613, 211335, 356354, 35659, 1693161, 77256, 85509, 407998, 1333, 24303, 184613, 1104, 9909, 1050704, 3, 80924, 4818, 710860, 707, 80924, 5354, 134771, 1167663, 81119, 1922, 74594, 10632, 27746, 2021, 60315, 12137908, 9056, 1726631, 1228219, 656332, 7632, 462153, 18271, 798839, 14265, 184613, 989, 758699, 131333, 131333, 2739, 6438, 1945, 638165, 308846, 11187, 11187, 1425504, 1274, 3275447, 3023519, 3634077, 26405734, 55739, 78, 16666149, 2094838, 24812, 184613, 93956, 1697343, 6688013, 1523, 58983, 124772, 3533380, 73199, 1089919, 7630, 389, 389, 39, 9191832, 714473, 26, 120586, 1269129, 1705, 3294, 1122955, 33, 55, 11936, 127786, 8227, 993, 721416, 721416, 3404731, 3404731, 276924, 4153001, 660, 12359, 760, 5254900, 27746, 17131, 6688013, 49038, 6524, 4619, 278, 102, 9056, 7, 7338279, 17884, 12034, 26405734, 10547, 3255, 18894, 2199, 5128, 129898, 129898, 131333, 6249, 1840575, 73193, 8919, 171146, 18271, 561149, 12704, 1987015, 4541, 1949, 3265, 244, 9398, 4652, 9031371, 16721, 774744, 12293, 22104, 22104, 22104, 30, 16630, 7837, 2238960, 9191834, 15616, 184613, 408223, 101393, 33417, 26, 76265, 3023519, 184098, 7890, 112301, 184613, 448397, 45524654, 5636, 5135, 24030, 354615, 1697343, 2670042, 2213878, 6289, 462, 34131, 13243, 1210765, 33123, 221, 71068, 706, 1189724, 1512983, 9191834, 251746, 3023519, 548206, 834351, 232990, 5249, 548206, 231535, 1697343, 15671979, 1087, 178, 120586, 9587623, 351260, 251746, 78785, 872, 437106, 116590, 34432, 33974, 3753, 6688013, 16398, 63609, 8225, 156193, 9191834, 156193, 4238216, 239377, 1246722, 393685, 71780, 378, 5108, 20029, 2860, 1881769, 196491, 4725379, 126256, 774744, 11626, 58334, 383365, 49861907, 38105, 130102122, 54565, 184613, 1399161, 81658, 897463, 3085, 7975, 40108, 1167663, 51, 12523, 67525, 251746, 184613, 416002, 416002, 367072, 1896, 38195, 1437009, 21, 603790, 345354, 158551, 74235, 1336533, 5854, 70334, 80464, 1343875, 219214, 5, 2, 13417, 6427, 23509, 1821, 1562, 106770, 194, 11700, 345354, 2670042, 139384, 9191834, 18489, 223007, 1225958, 417157, 16755, 3230194, 240250, 364490, 5135, 29863, 963547, 7245, 1441252, 4991246, 126845, 62512, 18322, 1164175, 4573124, 5050, 251746, 3230194, 75, 18322, 3753, 1189724, 417157, 593529, 55549, 12978, 1399161, 14917508, 196491, 196491, 1987246, 599, 1368, 56863, 638165, 382480, 382480, 638165, 56863, 54491, 280, 6356, 296211, 1290642, 287818, 259523, 1307083, 733, 2503545, 1290642, 99261, 8362, 3530757, 432561, 774, 66644761, 19330, 53967, 265462, 1396826, 1090874, 10486, 287818, 12, 346130, 251746, 710860, 292390, 12289, 6774, 25087, 187722, 7001, 18328, 325389, 251746, 184613, 7906721, 984511, 2700, 415, 19706, 206, 202923, 2911, 226485, 1824478, 798839, 10498, 62003, 1437009, 1021, 339772, 100503, 23372, 5296402, 239377, 417157, 74343, 200244, 21803, 84641, 1436723, 3800946, 1881628, 30708, 888937, 4124, 314453, 22291, 1192, 204875, 205532, 996752, 1697241, 202863, 149904, 592, 53, 1181408, 4171, 665, 6650, 4925, 676, 6650, 126826, 4758, 81572, 11281, 2723, 791081, 3239, 29747771, 265353, 45043, 45075, 2010, 2243, 758654, 251599, 14289, 1469, 195, 191657, 7127380, 251599, 251599, 2503446, 718333, 1441177, 5073211, 164067, 155403, 287, 5789, 25424, 86888, 4135, 2610710, 1681, 19502, 5299193, 45523076, 123271, 2, 358512, 2133892, 45523076, 184603, 1441177, 57745, 575092, 15156, 3800946, 494305, 205944, 345300, 84599, 29652780, 1451177, 134600, 205376, 814366, 828622, 124143, 91714268, 1, 2793, 1553, 6218, 6218, 11751, 1342027, 10307, 71311, 46885, 105477, 1189724, 708695, 27937, 3533380, 710, 487, 3533380, 669, 45320, 165, 663604, 12519, 184613, 10616, 5140, 828276, 209666, 195511, 1246806, 225264, 184613, 184613, 77036, 58634, 17751, 4153001, 26025, 3127520, 154321, 5591108, 202863, 12461, 3483, 139, 113406, 15, 29247, 27760, 3059, 1964, 38617, 671, 37790, 36, 272818, 184613, 1987246, 184613, 2562, 281594, 5286461, 135026, 1249192, 107, 71, 10124, 104346, 1254163, 1254163, 5296402, 204, 154710, 435301, 32459, 4026, 1225958, 1441252, 2403, 133810, 76697, 1117, 16666149, 1108, 26760, 313521, 100823, 1257, 583604, 1210765, 1532602, 889141, 54271, 6080, 2793, 590745, 590745, 11473, 2610952, 3127520, 8303, 92034, 1719806, 3525, 814366, 48079, 177, 251746, 246797, 18379, 407449, 7493, 16554, 33101, 92034, 10359, 38617, 3533380, 54768, 68236, 9630, 706, 68446, 4320, 111, 3533380, 6021, 389381, 9031371, 112110, 15764, 38617, 33417, 507618, 1238, 121, 4213727, 396420, 9817, 506076, 1441252, 22118, 9191834, 924519, 6111, 1683, 924519, 924519, 247522, 924519, 924519, 924519, 924519, 5486, 79853, 65731, 1441252, 10, 3223470, 3223470, 3223470, 3223470, 3223470, 3223470, 3223470, 84599, 20188, 28342, 3223470, 1039259, 461632, 251746, 28342, 251746, 5746, 5266041, 23279, 68236, 251746, 230092, 3223470, 3223470, 824563, 58, 234, 10356874, 2293189, 18176, 230092, 4144465, 1869523, 230092, 6166, 5486, 1254064, 23956, 728, 4144465, 154838, 27544, 2228955, 13292, 20372, 657196, 4619, 30659, 81264, 5908, 90040, 1196, 32176, 80958, 90040, 821527, 115872, 4022, 80806, 959, 133810, 1718335, 38344, 1941, 108, 9191834, 465991, 3533380, 1441252, 9713, 29567, 35052, 10094, 17579, 353543, 13292, 23, 6917, 889141, 13292, 757218, 255, 13621, 55950, 114748, 2382, 9191832, 9196, 76416, 192625, 497377, 17918, 76416, 73870, 30153, 205366, 9556, 1881769, 9282, 9191832, 1254163, 1246, 48397, 1881769, 36831, 2646798, 23108, 5498, 16754, 834205, 12847, 308846, 3552, 9191832, 3552, 1817827, 44517, 3223470, 3223470, 3223470, 3223470, 3223470, 3223470, 3223470, 42, 261340, 412880, 638165, 123943, 5936, 31961, 9191832, 3510, 25358, 498946, 1290642, 498946, 11122607, 21, 649, 210, 318, 5854, 25308, 31925, 162884, 378, 555211, 178364, 6688013, 66995, 9, 405153, 2291, 8844, 8086043, 34, 42, 1441252, 1066, 1237504, 11322, 1532, 38142, 2554, 12181, 2416917, 68196, 204685, 62013, 337, 27389, 282274, 61790, 2273, 3437444, 217969, 250581, 6, 29127, 2213878, 60579, 123], \"yaxis\": \"y\"}, {\"customdata\": [[\"Richard Neher\", \"@richardneher\", 297, 518, \"2012/08/31\"], [\"\\u0634\\u0628\\u0643\\u0629 \\u0639\\u0645\\u064a\\u062f \\u0627\\u0644\\u0625\\u0645\\u0627\\u0631\\u0627\\u062a\", \"@3meed_news\", 26, 158, \"2011/11/09\"], [\"Trevor Bedford\", \"@trvrb\", 840, 817, \"2010/12/10\"], [\"CNBC\", \"@CNBC\", 5, 842, \"2009/02/09\"], [\"Anderson Cooper 360\\u00b0\", \"@AC360\", 66, 156, \"2010/12/17\"], [\"U.S. Mission Uganda\", \"@usmissionuganda\", 12, 7412, \"2010/10/01\"], [\"\\u89b3\\u5149\\u5e81\\uff08Japan Tourism Agency\\uff09\", \"@Kanko_Jpn\", 664, 109, \"2014/06/12\"], [\"TIMES NOW\", \"@TimesNow\", 220, 375, \"2011/01/20\"], [\"Sachin Sawant \\u0938\\u091a\\u093f\\u0928 \\u0938\\u093e\\u0935\\u0902\\u0924\", \"@sachin_inc\", 48, 693, \"2011/04/28\"], [\"Fot\\u00f3grafo_Gus \\ud83c\\udfa5 \\ud83c\\udfac \\ud83d\\udcf8\", \"@FotografoGus1\", 37, 6049, \"2019/12/15\"], [\"World Health Organization (WHO)\", \"@WHO\", 511, 1734, \"2008/04/23\"], [\"A Marm Kilpatrick\", \"@DiseaseEcology\", 27, 147, \"2013/08/05\"], [\"Sir Ganga Ram Hospital\", \"@sgrhindia\", 128, 15, \"2016/06/27\"], [\"Vittorio Feltri\", \"@vfeltri\", 459, 537, \"2012/02/07\"], [\"BNPB Indonesia\", \"@BNPB_Indonesia\", 194, 289, \"2011/08/01\"], [\"UAEGOV\", \"@uaegov\", 25, 92, \"2014/12/14\"], [\"Daniel Silveira\", \"@danielPMERJ\", 72, 469, \"2017/09/26\"], [\"\\u0639\\u0631\\u0627\\u0631\", \"@FiT7xK1I7SnGiB2\", 0, 107, \"2020/06/22\"], [\"Daniel Silveira\", \"@danielPMERJ\", 432, 469, \"2017/09/26\"], [\"Amalia Andrade A.\", \"@amaliaandrade_\", 34, 2240, \"2008/06/15\"], [\"\\u0641\\u0627\\u0631\\u0633\", \"@Farees_7\", 0, 713, \"2016/01/22\"], [\"Daniel Silveira\", \"@danielPMERJ\", 137, 469, \"2017/09/26\"], [\"UAEGOV\", \"@uaegov\", 33, 92, \"2014/12/14\"], [\"Daniel Silveira\", \"@danielPMERJ\", 326, 469, \"2017/09/26\"], [\"Juan Ignacio Paolicchi\", \"@JuanPaolicchi\", 41, 1254, \"2010/01/18\"], [\"MinSaludCol\", \"@MinSaludCol\", 121, 814, \"2011/09/11\"], [\"C\\u00e9sar Pach\\u00f3n\", \"@CesarPachonAgro\", 179, 7452, \"2011/11/28\"], [\"Otavio Ranzani\", \"@otavio_ranzani\", 204, 1066, \"2017/04/03\"], [\"NWP Rural Crime Team /T\\u00eem Troseddau Cefn Gwlad HGC\", \"@NWPRuralCrime\", 2, 660, \"2013/10/07\"], [\"NWP Rural Crime Team /T\\u00eem Troseddau Cefn Gwlad HGC\", \"@NWPRuralCrime\", 0, 660, \"2013/10/07\"], [\"DGAC Guatemala\", \"@guatemala_dgac\", 2, 213, \"2014/05/26\"], [\"ID2020\", \"@ID2020\", 55, 3185, \"2015/05/15\"], [\"Guille M.\", \"@Farmaenfurecida\", 446, 612, \"2012/04/26\"], [\"PDH Guatemala\", \"@PDHgt\", 142, 520, \"2013/09/23\"], [\"Radio SONORA 96.9 FM\", \"@sonora969\", 209, 49, \"2011/01/08\"], [\"Noah Williams\", \"@Bellmanequation\", 3, 999, \"2009/05/05\"], [\"CUCAIBA\", \"@Cucaiba\", 21, 1012, \"2011/05/27\"], [\"Vlada Crne Gore\", \"@VladaCG\", 17, 391, \"2011/12/30\"], [\"Tom Tiffany\", \"@TomTiffanyWI\", 32, 680, \"2015/07/23\"], [\"Lance Allan\", \"@lanceallan\", 4, 201, \"2009/03/18\"], [\"Lance Allan\", \"@lanceallan\", 0, 201, \"2009/03/18\"], [\"\\u89b3\\u5149\\u5e81\\uff08Japan Tourism Agency\\uff09\", \"@Kanko_Jpn\", 746, 109, \"2014/06/12\"], [\"MINEX Guatemala \\ud83c\\uddec\\ud83c\\uddf9\", \"@MinexGt\", 7, 779, \"2010/07/05\"], [\"Embajada de Espa\\u00f1a en Guatemala\", \"@EmbajadaEspGTA\", 11, 852, \"2013/07/09\"], [\"A Marm Kilpatrick\", \"@DiseaseEcology\", 147, 147, \"2013/08/05\"], [\"World Health Organization (WHO)\", \"@WHO\", 375, 1734, \"2008/04/23\"], [\"Luana Volnovich\", \"@luanavolnovich\", 775, 1363, \"2010/08/30\"], [\"Juli\\u00e1n A. Fern\\u00e1ndez-Ni\\u00f1o\", \"@JFernandeznino\", 529, 826, \"2010/06/09\"], [\"Simon Shen\", \"@simonshen_glos\", 461, 231, \"2019/10/11\"], [\"World Health Organization (WHO)\", \"@WHO\", 74, 1734, \"2008/04/23\"], [\"Marte Piantini\", \"@MartePiantini\", 93, 6655, \"2012/05/10\"], [\"Hardeep Singh Puri\", \"@HardeepSPuri\", 241, 1095, \"2014/01/13\"], [\"Ronald Klain\", \"@RonaldKlain\", 64398, 2588, \"2011/02/07\"], [\"PIB in Chandigarh\", \"@PIBChandigarh\", 2, 191, \"2012/04/30\"], [\"PIB Fact Check\", \"@PIBFactCheck\", 289, 31, \"2019/12/19\"], [\"Alicia erazo\", \"@ALICIAERAZO\", 793, 348, \"2012/08/17\"], [\"Scott Manley\", \"@ManleyWMC\", 22, 566, \"2011/03/10\"], [\"Administrator Seema Verma\", \"@SeemaCMS\", 694, 348, \"2017/01/19\"], [\"EL HOMBRE NOTICIA\", \"@ArnulfoAgustinG\", 13, 14, \"2020/03/24\"], [\"Diario La Hora\", \"@lahoragt\", 3, 80, \"2010/07/20\"], [\"Ministerio de Salud y Deportes Bolivia\", \"@SaludDeportesBo\", 7, 244, \"2012/05/25\"], [\"Government of Russia\", \"@GovernmentRF\", 378, 23, \"2012/07/12\"], [\"World Health Organization (WHO)\", \"@WHO\", 22688, 1734, \"2008/04/23\"], [\"Travelito\", \"@Travelito24\", 94948, 66926, \"2017/04/29\"], [\"Ivan Petrella\", \"@ipetrella\", 1473, 1981, \"2010/05/31\"], [\"Max Roser\", \"@MaxCRoser\", 305, 1240, \"2012/06/17\"], [\"\\u0625\\u0628\\u0631\\u0627\\u0647\\u064a\\u0645\\u0640 \\u0627\\u0644\\u0639\\u0645\\u0631\\u0627\\u0646\", \"@ibalimran\", 125, 129, \"2011/08/15\"], [\"yousef \\u26a1alshehri \\u303d\\ufe0f\", \"@yalshehri1981\", 0, 1047, \"2019/03/04\"], [\"A_ALMARRI\", \"@AALMARRI2013\", 4, 2558, \"2020/03/21\"], [\"Jean Bezivin\", \"@JBezivin\", 1, 3108, \"2009/05/04\"], [\"C\\u00e9dric O\", \"@cedric_o\", 22, 1512, \"2008/08/04\"], [\"World Health Organization (WHO)\", \"@WHO\", 312, 1734, \"2008/04/23\"], [\"Leandro Cahn \\ud83d\\udc9a\", \"@leandrocahn\", 283, 1219, \"2009/08/31\"], [\"\\u00bfPor qu\\u00e9 es tendencia?\", \"@porquetendencia\", 20, 150, \"2018/03/12\"], [\"CMO Maharashtra\", \"@CMOMaharashtra\", 2269, 99, \"2014/07/01\"], [\"Amir khan\", \"@AmirReport\", 0, 2402, \"2015/10/07\"], [\"Mumbai Mirror\", \"@MumbaiMirror\", 88, 236, \"2012/12/05\"], [\"Natalie E. Dean, PhD\", \"@nataliexdean\", 857, 676, \"2018/06/08\"], [\"Politic T\\u00fcrk\", \"@politicturk\", 474, 30, \"2014/06/05\"], [\"Eric Topol\", \"@EricTopol\", 48, 526, \"2009/11/01\"], [\"Giank-deR \\ud83c\\uddee\\ud83c\\uddf9\", \"@GiancarloDeRisi\", 688, 8961, \"2011/11/07\"], [\"Carl T. Bergstrom\", \"@CT_Bergstrom\", 393, 2110, \"2015/06/07\"], [\"Elon Musk\", \"@elonmusk\", 2452, 103, \"2009/06/02\"], [\"Andrew Cuomo\", \"@NYGovCuomo\", 1238, 622, \"2010/12/30\"], [\"Dulce Rivera\", \"@drivera_gt\", 15, 630, \"2014/07/08\"], [\"Thonburi Hospital\", \"@ThonburiH\", 0, 24, \"2019/09/23\"], [\"\\u0639\\u0628\\u062f\\u0627\\u0644\\u0644\\u0647 \\u0627\\u0644\\u062f\\u0648\\u0627\\u0633\", \"@Abo__salma\", 1, 2168, \"2012/01/14\"], [\"Winston\", \"@Winston_Dunhill\", 621, 2310, \"2013/01/23\"], [\"Carla Vizzotti\", \"@carlavizzotti\", 1646, 251, \"2010/06/19\"], [\"World Health Organization (WHO)\", \"@WHO\", 163, 1734, \"2008/04/23\"], [\"World Health Organization (WHO) Western Pacific\", \"@WHOWPRO\", 67, 1205, \"2015/10/05\"], [\"Jason Pogue\", \"@jpogue1\", 3888, 184, \"2009/04/25\"], [\"Darren Dahly\", \"@statsepi\", 32, 4075, \"2010/10/02\"], [\"Prof Francois Balloux\", \"@BallouxFrancois\", 44, 720, \"2019/04/04\"], [\"Canal Institucional\", \"@InstitucionalTV\", 6, 253, \"2009/09/01\"], [\"Chad P. Bown\", \"@ChadBown\", 5, 572, \"2016/06/03\"], [\"Alex Salvi\", \"@alexsalvinews\", 109, 3451, \"2017/11/18\"], [\"i24NEWS Fran\\u00e7ais\", \"@i24NEWS_FR\", 658, 552, \"2013/07/01\"], [\"Governor Larry Hogan\", \"@GovLarryHogan\", 195, 1022, \"2015/01/20\"], [\"Governor Larry Hogan\", \"@GovLarryHogan\", 295, 1022, \"2015/01/20\"], [\"Galder Gonzalez\\ud83d\\udd3b\", \"@theklaneh\", 1526, 1191, \"2009/01/30\"], [\"Ivan Baumann Fonay\", \"@ivanfbf\", 106, 274, \"2008/05/12\"], [\"Martin Tetaz\", \"@martintetaz\", 41, 2897, \"2010/07/14\"], [\"franceinfo\", \"@franceinfo\", 43, 1286, \"2009/05/07\"], [\"ENT UK\", \"@ENT_UK\", 3950, 840, \"2011/11/11\"], [\"Dr Gaetan Burgio, MD, PhD.\", \"@GaetanBurgio\", 1550, 1576, \"2014/08/14\"], [\"Andrew Lover\", \"@AndrewALover\", 22, 1444, \"2013/06/06\"], [\"Lucas Morin\", \"@lucasmorin_eolc\", 105, 550, \"2018/10/30\"], [\"Lu Chen #nobias\", \"@houndcl\", 49, 241, \"2012/01/27\"], [\"Tomas Uribe Moreno\", \"@tomasuribeEco\", 1752, 496, \"2010/05/01\"], [\"Ikhsan Kamil\", \"@IkhsanK07895159\", 8, 1467, \"2020/04/05\"], [\"Robin Vos\", \"@repvos\", 8, 772, \"2009/03/23\"], [\"Ram Madhav\", \"@rammadhav_rss\", 3484, 304, \"2012/08/11\"], [\"Colegio M\\u00e9dico Col\", \"@ColegioMedicoCo\", 156, 575, \"2017/08/15\"], [\"Mumbai Mirror\", \"@MumbaiMirror\", 105, 236, \"2012/12/05\"], [\"Sen. Jeff Jackson\", \"@JeffJacksonNC\", 4, 2534, \"2010/03/20\"], [\"ANI\", \"@ANI\", 1052, 0, \"2011/08/16\"], [\"PMD News\", \"@PMDNewsGov\", 26, 11, \"2015/08/07\"], [\"ANI\", \"@ANI\", 8957, 0, \"2011/08/16\"], [\"\\u671d\\u65e5\\u65b0\\u805e(asahi shimbun\\uff09\", \"@asahi\", 3115, 317, \"2009/05/27\"], [\"shashank\", \"@shashan29150961\", 0, 18, \"2020/03/26\"], [\"Polizei Berlin Einsatz\", \"@PolizeiBerlin_E\", 459, 19, \"2014/03/19\"], [\"Roman Camacho\", \"@RCamachoVzla\", 1236, 1140, \"2010/11/22\"], [\"Bartolomeo Valletta\", \"@bartvalletta\", 102, 13546, \"2014/02/23\"], [\"Jorge Galindo\", \"@JorgeGalindo\", 26, 1099, \"2008/05/19\"], [\"\\u00c1GUILA NEGRA #BDL\", \"@josel_6027\", 10, 8908, \"2011/08/31\"], [\"World Health Organization Philippines\", \"@WHOPhilippines\", 160, 488, \"2013/11/27\"], [\"Minist\\u00e8re des Solidarit\\u00e9s et de la Sant\\u00e9\", \"@Sante_Gouv\", 460, 648, \"2010/01/28\"], [\"\\u0420\\u0430\\u0434\\u0438\\u043e \\u0421\\u0442\\u044b\\u0434\\u043e\\u0431\\u0430\", \"@RadioStydoba\", 524, 159, \"2017/08/18\"], [\"Nora B\\u00e4r\", \"@norabar\", 27, 764, \"2010/04/08\"], [\"Polic\\u00eda Municipal de Madrid\", \"@policiademadrid\", 142, 32, \"2011/05/17\"], [\"Polic\\u00eda Municipal de Madrid\", \"@policiademadrid\", 109, 32, \"2011/05/17\"], [\"Polic\\u00eda Municipal de Madrid\", \"@policiademadrid\", 104, 32, \"2011/05/17\"], [\"HospitalPuertadelMar\", \"@HUPMCadiz\", 368, 380, \"2013/07/03\"], [\"Aurora Gomez\", \"@agomezp1\", 5, 721, \"2011/03/04\"], [\"Christian Estrosi\", \"@cestrosi\", 2540, 1471, \"2009/10/20\"], [\"Polic\\u00eda Municipal de Madrid\", \"@policiademadrid\", 293, 32, \"2011/05/17\"], [\"Polic\\u00eda Municipal de Madrid\", \"@policiademadrid\", 82, 32, \"2011/05/17\"], [\"Polic\\u00eda Municipal de Madrid\", \"@policiademadrid\", 79, 32, \"2011/05/17\"], [\"IFT\", \"@IFT_MX\", 11, 167, \"2010/01/05\"], [\"World Health Organization (WHO)\", \"@WHO\", 537, 1734, \"2008/04/23\"], [\"PIB India\", \"@PIB_India\", 1298, 269, \"2010/12/27\"], [\"randahcini\", \"@HcinirandaC\", 2, 1611, \"2020/01/22\"], [\"\\ud83c\\udde9\\ud83c\\uddff\\u4f0a\\u65af\\u862d\\u6559\\ud83c\\uddf5\\ud83c\\uddf8\\u2d63ISLAM\\ud83d\\udd30\\u2d63\\ud83c\\uddf5\\ud83c\\uddf8\\u0438\\u0441\\u043b\\u0430\\u043c\\ud83c\\udde9\\ud83c\\uddff\", \"@Sahnoun94594452\", 0, 2276, \"2019/03/11\"], [\"abdulmohsin Alm\", \"@abdulmohsinAlm\", 0, 936, \"2010/12/29\"], [\"Sid\\u00ae\", \"@sid_sssay\", 0, 4369, \"2012/07/10\"], [\"ANI\", \"@ANI\", 59, 0, \"2011/08/16\"], [\"Falko Liecke\", \"@falkone1\", 382, 718, \"2011/01/29\"], [\"Polic\\u00eda Municipal de Madrid\", \"@policiademadrid\", 41, 32, \"2011/05/17\"], [\"World Health Organization (WHO)\", \"@WHO\", 109, 1734, \"2008/04/23\"], [\"World Health Organization (WHO)\", \"@WHO\", 188, 1734, \"2008/04/23\"], [\"World Health Organization (WHO)\", \"@WHO\", 151, 1734, \"2008/04/23\"], [\"Trump War Room\", \"@TrumpWarRoom\", 2083, 267, \"2019/03/20\"], [\"Giuseppe Conte\", \"@GiuseppeConteIT\", 6928, 135, \"2018/05/24\"], [\"Joe Biden\", \"@JoeBiden\", 18405, 46, \"2007/03/11\"], [\"World News Tonight\", \"@ABCWorldNews\", 12, 446, \"2009/10/29\"], [\"Radio ZET NEWS\", \"@RadioZET_NEWS\", 419, 809, \"2012/04/25\"], [\"\\u0627 \\u0644\\u0640 \\u062d\\u0640 \\u0640\\u062f \\u062b\", \"@AlHadath\", 7, 44, \"2011/02/01\"], [\"Ghinwa Yatim\", \"@GhinwaYatim\", 19, 2264, \"2010/12/16\"], [\"Ghinwa Yatim\", \"@GhinwaYatim\", 6, 2264, \"2010/12/16\"], [\"\\ud83e\\udd4a#Voice_Of_Youth \\ud83e\\udd4aSWM\\ud83c\\uddee\\ud83c\\uddf3\", \"@RajeshK_Bharja\", 19, 2370, \"2018/02/17\"], [\"Akash Ambar(IsupportFarmers)\", \"@akashyphd\", 0, 1887, \"2018/02/23\"], [\"Portal Drauzio\", \"@drauziovarella\", 896, 373, \"2009/10/22\"], [\"Luigi Di Maio\", \"@luigidimaio\", 82, 350, \"2009/06/17\"], [\"Urvah.bearing\\ud83d\\udeac\\ud83d\\udeac\\ud83d\\udeac\\ud83d\\udc9d\\u2764\\u2764\", \"@MominUrban\", 0, 415, \"2017/07/10\"], [\"Duey Stroebel\", \"@SenStroebel\", 2, 656, \"2015/04/22\"], [\"Giuseppe Conte\", \"@GiuseppeConteIT\", 605, 135, \"2018/05/24\"], [\"Jair M. Bolsonaro\", \"@jairbolsonaro\", 8745, 552, \"2010/03/31\"], [\"Ted Cruz\", \"@tedcruz\", 3188, 5426, \"2009/03/06\"], [\"Ministerstwo Zdrowia\", \"@MZ_GOV_PL\", 161, 1173, \"2012/01/13\"], [\"Faisal Javed Khan\", \"@FaisalJavedKhan\", 1125, 1340, \"2011/03/04\"], [\"Dilsedesh\", \"@Dilsedesh\", 1, 1346, \"2016/03/16\"], [\"Sputnik T\\u00fcrkiye\", \"@sputnik_TR\", 6, 17, \"2011/11/30\"], [\"Syeda Trimzi\", \"@TrimiziiiSyeda\", 46, 2126, \"2019/09/05\"], [\"Rupin Sharma IPS\", \"@rupin1992\", 87, 2184, \"2016/11/02\"], [\"Pinol El Original\", \"@PinolElOriginal\", 3, 1524, \"2010/03/19\"], [\"HELIOS\", \"@helios_en\", 26, 34, \"2014/08/30\"], [\"NBS Television\", \"@nbstv\", 338, 210, \"2011/07/29\"], [\"1m98\", \"@SoufOff\", 136, 35, \"2019/06/28\"], [\"Lijian Zhao \\u8d75\\u7acb\\u575a\", \"@zlj517\", 6937, 174817, \"2010/05/08\"], [\"moises \\u00e1vila rold\\u00e1n\", \"@moyavila\", 22, 4182, \"2009/08/21\"], [\"Harrison\", \"@harri_010\", 8, 17895, \"2012/07/26\"], [\"Madonna\", \"@Madonna\", 2563, 45, \"2012/03/03\"], [\"BlackSabbath\", \"@BlackSabbath\", 13946, 15, \"2011/01/11\"], [\"Marco Rubio\", \"@marcorubio\", 1868, 2483, \"2008/08/06\"], [\"Joanna\", \"@JoannaGrams\", 3, 292, \"2009/08/31\"], [\"Portal Drauzio\", \"@drauziovarella\", 715, 373, \"2009/10/22\"], [\"Famiyesin Mike\", \"@MikeFamiyesin\", 4, 1237, \"2013/03/06\"], [\"Sharafat Hussain\", \"@Sharafa10041128\", 0, 117, \"2019/08/17\"], [\"KKMalaysia\\ud83c\\uddf2\\ud83c\\uddfe\", \"@KKMPutrajaya\", 1634, 97, \"2012/03/20\"], [\"Adela Micha\", \"@Adela_Micha\", 34, 585, \"2009/09/01\"], [\"\\u0623\\u0641\\u0643\\u0627\\u0631 \\u0645\\u0630\\u0647\\u0644\\u0629\", \"@facts4444\", 36, 22, \"2018/10/21\"], [\"\\u062d\\u0642\\u0627\\u0626\\u0642 \\u0645\\u0630\\u0647\\u0644\\u0629\", \"@facts444\", 1722, 60, \"2014/01/18\"], [\"\\u0647\\u0643\\u0631 \\u0627\\u0644\\u0645\\u062c\\u062a\\u0645\\u0639  \\ud83c\\udf0e\", \"@ksa_hk23\", 11, 594, \"2014/08/05\"], [\"Paolo A. Ascierto\", \"@PAscierto\", 78, 253, \"2012/03/13\"], [\"World Health Organization (WHO)\", \"@WHO\", 441, 1734, \"2008/04/23\"], [\"Makemery\", \"@Mous_taffe\", 9820, 380, \"2016/04/08\"], [\"Aeronautica Militare\", \"@ItalianAirForce\", 2522, 428, \"2013/03/19\"], [\"Kim Kardashian West\", \"@KimKardashian\", 45081, 121, \"2009/03/19\"], [\"Trump War Room\", \"@TrumpWarRoom\", 4153, 267, \"2019/03/20\"], [\"Himanshu Kushwaha\", \"@Himansh91694280\", 42, 168, \"2018/11/21\"], [\"Janne Riihel\\u00e4inen \\ud83c\\uddeb\\ud83c\\uddee\\ud83c\\udff4\\udb40\\udc67\\udb40\\udc62\\udb40\\udc73\\udb40\\udc63\\udb40\\udc74\\udb40\\udc7f\\ud83c\\uddea\\ud83c\\uddfa\", \"@veitera\", 33, 4931, \"2012/10/23\"], [\"Office of the Prime Minister - Ethiopia\", \"@PMEthiopia\", 103, 72, \"2018/11/04\"], [\"Bundesagentur f\\u00fcr Arbeit\", \"@Bundesagentur\", 1566, 651, \"2012/08/16\"], [\"Greg Hunt\", \"@GregHuntMP\", 502, 2734, \"2009/07/27\"], [\"Jean-Baptiste Jeang\\u00e8ne Vilmer\", \"@jeangene_vilmer\", 132, 2274, \"2011/10/22\"], [\"Government of Punjab\", \"@GovtofPunjabPK\", 15, 154, \"2018/08/20\"], [\"Office of the Prime Minister - Ethiopia\", \"@PMEthiopia\", 149, 72, \"2018/11/04\"], [\"MoH ETHIOPIA\", \"@FMoHealth\", 6, 245, \"2013/02/14\"], [\"Ben Cowling\", \"@bencowling88\", 11, 103, \"2010/12/30\"], [\"\\u0627\\u0644\\u0645\\u0646\\u0628\\u0639 \\u0627\\u0644\\u0627\\u062e\\u0628\\u0627\\u0631\\u064a\", \"@almanbae_news\", 0, 0, \"2016/10/01\"], [\"Dr. Mohammad Ebrahim\", \"@mohebrahim85\", 226, 1700, \"2012/04/04\"], [\"BBC NEWS \\u0641\\u0627\\u0631\\u0633\\u06cc\", \"@bbcpersian\", 49, 13, \"2007/02/23\"], [\"People's Daily, China\", \"@PDChina\", 39, 4377, \"2011/05/23\"], [\"BFMTV\", \"@BFMTV\", 26, 583, \"2010/04/16\"], [\"Rep. Paul Gosar, DDS\", \"@RepGosar\", 253, 4468, \"2011/01/20\"], [\"Ursula von der Leyen\", \"@vonderleyen\", 1625, 158, \"2019/07/03\"], [\"Sir H\\u033d\\u0353\\u033d\\u0353\\u033d\\u0353E\\u033d\\u0353\\u033d\\u0353N\\u033d\\u0353RY\\u2122\", \"@SirHenryKau\", 1622, 54952, \"2016/08/13\"], [\"Ursula von der Leyen\", \"@vonderleyen\", 2963, 158, \"2019/07/03\"], [\"Alejandro Balsells Conde\", \"@Alex_balsells\", 31, 8037, \"2011/12/30\"], [\"Zafar Mirza\", \"@zfrmrza\", 896, 281, \"2009/07/11\"], [\"CGTN\", \"@CGTNOfficial\", 8251, 70, \"2013/01/24\"], [\"Mrs S\", \"@MRSS11224611\", 6, 1959, \"2019/09/16\"], [\"H o l l y\", \"@hollyhaygood\", 9, 6677, \"2009/06/22\"], [\"H\\u00f4pital d'Argenteuil (officiel)\", \"@CH_Argenteuil\", 40, 218, \"2018/10/15\"], [\"Matteo Salvini\", \"@matteosalvinimi\", 766, 2007, \"2011/03/23\"], [\"Brendan Larsen\", \"@bblarsen1\", 48, 376, \"2016/05/25\"], [\"Amy Cheng\", \"@Taihoku1895\", 42, 470, \"2019/05/01\"], [\"John Nelson\", \"@Attila70260000\", 0, 550, \"2019/09/02\"], [\"MR.486\", \"@kiss486\", 228, 2536, \"2009/12/16\"], [\"The_Web_Warrior\", \"@The_Web_Warrior\", 0, 748, \"2019/10/09\"], [\"nerd\", \"@nerd_hawk\", 1252, 252, \"2009/06/26\"], [\"Gobernaci\\u00f3n del Tolima\", \"@gobertolima\", 11, 427, \"2009/09/21\"], [\"MinSaludCol\", \"@MinSaludCol\", 40, 814, \"2011/09/11\"], [\"Aduma Mutiva\", \"@nepmutiva\", 431, 8524, \"2013/01/29\"], [\"Farhang F. Namdar\", \"@FarhangNamdar\", 1032, 24634, \"2017/03/02\"], [\"\\u0e01\\u0e23\\u0e30\\u0e17\\u0e23\\u0e27\\u0e07\\u0e2a\\u0e32\\u0e18\\u0e32\\u0e23\\u0e13\\u0e2a\\u0e38\\u0e02\", \"@pr_moph\", 247, 494, \"2010/05/14\"], [\"Aaron Rupar\", \"@atrupar\", 5521, 998, \"2011/04/26\"], [\"Dana Milbank\", \"@Milbank\", 32646, 1101, \"2009/01/27\"], [\"Department of Health and Social Care\", \"@DHSCgovuk\", 383, 852, \"2009/05/05\"], [\"Dr. Fahrettin Koca\", \"@drfahrettinkoca\", 1473, 28, \"2018/07/09\"], [\"Aaron Rupar\", \"@atrupar\", 4725, 998, \"2011/04/26\"], [\"BabyKay\\ud83c\\udf52\", \"@kaym0na3\", 13, 170, \"2017/10/30\"], [\"tyler pazar\", \"@tylerpazar\", 8, 20, \"2012/08/05\"], [\"The White House 45 Archived\", \"@WhiteHouse45\", 1339, 11, \"2017/01/19\"], [\"Rep. Matt Gaetz\", \"@RepMattGaetz\", 2642, 861, \"2017/01/10\"], [\"Newsmax\", \"@newsmax\", 142, 568, \"2009/02/10\"], [\"James Woods\", \"@RealJamesWoods\", 6145, 4407, \"2009/09/30\"], [\"Hey Jude voting makes a sad song better\", \"@BostonJudy3\", 6199, 13060, \"2019/02/25\"], [\"Buca di Beppo\", \"@bucadibeppo\", 1, 9587, \"2010/02/11\"], [\"Stephanie Ruhle\", \"@SRuhle\", 10053, 1651, \"2011/09/30\"], [\"Kalyan Varma\", \"@KalyanVarma\", 25, 1063, \"2008/04/17\"], [\"Gianluca\", \"@lukeskila\", 11855, 346, \"2016/10/11\"], [\"Kendall Brown\", \"@kendallybrown\", 35243, 4523, \"2009/02/08\"], [\"Keira Savage\", \"@KeiraSavage00\", 140, 1617, \"2014/03/23\"], [\"Rex Chapman\\ud83c\\udfc7\\ud83c\\udffc\", \"@RexChapman\", 98133, 22091, \"2011/06/27\"], [\"Molly Shah\", \"@MollyOShah\", 14799, 860, \"2008/08/09\"], [\"Elon Musk\", \"@elonmusk\", 63440, 103, \"2009/06/02\"], [\"robertklemko\", \"@RobertKlemko\", 160392, 2369, \"2010/11/21\"], [\"TjSingh\", \"@covsinghtj\", 5824, 470, \"2009/12/11\"], [\"Jason Miller\", \"@JasonLikesIowa\", 2, 223, \"2019/09/18\"], [\"Mavr\", \"@Myrkulite\", 3, 1303, \"2014/10/15\"], [\"Harbhajan Turbanator\", \"@harbhajan_singh\", 2105, 147, \"2009/11/27\"], [\"Parveen Kaswan, IFS\", \"@ParveenKaswan\", 74, 385, \"2013/01/01\"], [\"Hillary Clinton\", \"@HillaryClinton\", 22825, 919, \"2013/04/09\"], [\"Nick Hinton\", \"@NickHintonn\", 3283, 522, \"2011/06/25\"], [\"Elon Musk\", \"@elonmusk\", 7832, 103, \"2009/06/02\"], [\"Daily Mail US\", \"@DailyMail\", 41, 1815, \"2011/09/26\"], [\"NowThis\", \"@nowthisnews\", 31498, 11757, \"2012/07/17\"], [\"Jimmy Cuadros\", \"@cuadrosr\", 23, 1446, \"2012/03/26\"], [\"Anshul Chopra\", \"@anshulchopraa\", 2571, 8, \"2019/11/03\"], [\"Mara Carfagna\", \"@mara_carfagna\", 146, 1811, \"2010/01/13\"], [\"John McAfee\", \"@officialmcafee\", 3017, 14124, \"2012/11/21\"], [\"aperiozar\", \"@aperiozar\", 2, 1822, \"2009/01/03\"], [\"D\\u00f3n Grieshnak\", \"@DGrieshnak\", 9774, 222, \"2019/02/19\"], [\"\\u897f\\u6751\\u5e78\\u7950\", \"@kohyu1952\", 302, 3355, \"2010/01/29\"], [\"Daily Mail Online\", \"@MailOnline\", 39, 2239, \"2008/07/15\"], [\"Josh Marshall\", \"@joshtpm\", 1455, 835, \"2009/02/19\"], [\"John McAfee\", \"@officialmcafee\", 219, 14124, \"2012/11/21\"], [\"Jake \\ud83c\\udf0f\", \"@morphonios\", 3093, 337, \"2009/06/05\"], [\"Romaan Shaikh\", \"@RUMAANSHAIKH\", 319, 4336, \"2010/12/23\"], [\"\\u897f\\u6751\\u5e78\\u7950\", \"@kohyu1952\", 3125, 3355, \"2010/01/29\"], [\"Steny (Wear a Mask) Hoyer\", \"@LeaderHoyer\", 7, 5236, \"2009/02/26\"], [\"Jon Cooper \\ud83c\\uddfa\\ud83c\\uddf8\", \"@joncoopertweets\", 18741, 51599, \"2009/03/29\"]], \"hovertemplate\": \"Type of tweet=partially false<br>Date=%{x}<br>Followers count=%{y}<br>Tweet Retweets count=%{customdata[2]}<br>Name=%{customdata[0]}<br>Username=%{customdata[1]}<br>Friends count=%{customdata[3]}<br>Account created on=%{customdata[4]}<extra></extra>\", \"legendgroup\": \"partially false\", \"marker\": {\"color\": \"#EF553B\", \"line\": {\"color\": \"DarkSlateGrey\", \"width\": 1}, \"opacity\": 0.8, \"size\": [297, 26, 840, 5, 66, 12, 664, 220, 48, 37, 511, 27, 128, 459, 194, 25, 72, 0, 432, 34, 0, 137, 33, 326, 41, 121, 179, 204, 2, 0, 2, 55, 446, 142, 209, 3, 21, 17, 32, 4, 0, 746, 7, 11, 147, 375, 775, 529, 461, 74, 93, 241, 64398, 2, 289, 793, 22, 694, 13, 3, 7, 378, 22688, 94948, 1473, 305, 125, 0, 4, 1, 22, 312, 283, 20, 2269, 0, 88, 857, 474, 48, 688, 393, 2452, 1238, 15, 0, 1, 621, 1646, 163, 67, 3888, 32, 44, 6, 5, 109, 658, 195, 295, 1526, 106, 41, 43, 3950, 1550, 22, 105, 49, 1752, 8, 8, 3484, 156, 105, 4, 1052, 26, 8957, 3115, 0, 459, 1236, 102, 26, 10, 160, 460, 524, 27, 142, 109, 104, 368, 5, 2540, 293, 82, 79, 11, 537, 1298, 2, 0, 0, 0, 59, 382, 41, 109, 188, 151, 2083, 6928, 18405, 12, 419, 7, 19, 6, 19, 0, 896, 82, 0, 2, 605, 8745, 3188, 161, 1125, 1, 6, 46, 87, 3, 26, 338, 136, 6937, 22, 8, 2563, 13946, 1868, 3, 715, 4, 0, 1634, 34, 36, 1722, 11, 78, 441, 9820, 2522, 45081, 4153, 42, 33, 103, 1566, 502, 132, 15, 149, 6, 11, 0, 226, 49, 39, 26, 253, 1625, 1622, 2963, 31, 896, 8251, 6, 9, 40, 766, 48, 42, 0, 228, 0, 1252, 11, 40, 431, 1032, 247, 5521, 32646, 383, 1473, 4725, 13, 8, 1339, 2642, 142, 6145, 6199, 1, 10053, 25, 11855, 35243, 140, 98133, 14799, 63440, 160392, 5824, 2, 3, 2105, 74, 22825, 3283, 7832, 41, 31498, 23, 2571, 146, 3017, 2, 9774, 302, 39, 1455, 219, 3093, 319, 3125, 7, 18741], \"sizemode\": \"area\", \"sizeref\": 516.015, \"symbol\": \"circle\"}, \"mode\": \"markers\", \"name\": \"partially false\", \"showlegend\": true, \"type\": \"scattergl\", \"x\": [\"2020-03-04T00:00:00\", \"2020-03-27T00:00:00\", \"2020-05-06T00:00:00\", \"2020-05-19T00:00:00\", \"2020-05-26T00:00:00\", \"2020-05-26T00:00:00\", \"2020-05-27T00:00:00\", \"2020-05-27T00:00:00\", \"2020-05-27T00:00:00\", \"2020-06-01T00:00:00\", \"2020-06-08T00:00:00\", \"2020-06-08T00:00:00\", \"2020-06-11T00:00:00\", \"2020-06-13T00:00:00\", \"2020-06-14T00:00:00\", \"2020-06-24T00:00:00\", \"2020-06-25T00:00:00\", \"2020-06-26T00:00:00\", \"2020-06-30T00:00:00\", \"2020-06-30T00:00:00\", \"2020-07-01T00:00:00\", \"2020-07-08T00:00:00\", \"2020-07-18T00:00:00\", \"2020-07-18T00:00:00\", \"2020-08-07T00:00:00\", \"2020-08-11T00:00:00\", \"2020-08-12T00:00:00\", \"2020-08-13T00:00:00\", \"2020-01-16T00:00:00\", \"2020-01-16T00:00:00\", \"2020-04-12T00:00:00\", \"2020-04-15T00:00:00\", \"2020-05-02T00:00:00\", \"2020-05-18T00:00:00\", \"2020-05-18T00:00:00\", \"2020-05-19T00:00:00\", \"2020-05-20T00:00:00\", \"2020-05-25T00:00:00\", \"2020-05-26T00:00:00\", \"2020-05-26T00:00:00\", \"2020-05-27T00:00:00\", \"2020-05-27T00:00:00\", \"2020-06-02T00:00:00\", \"2020-06-04T00:00:00\", \"2020-06-08T00:00:00\", \"2020-06-09T00:00:00\", \"2020-08-06T00:00:00\", \"2020-08-11T00:00:00\", \"2020-02-16T00:00:00\", \"2020-04-20T00:00:00\", \"2020-05-08T00:00:00\", \"2020-05-11T00:00:00\", \"2020-05-12T00:00:00\", \"2020-05-12T00:00:00\", \"2020-05-12T00:00:00\", \"2020-05-15T00:00:00\", \"2020-05-19T00:00:00\", \"2020-05-21T00:00:00\", \"2020-05-25T00:00:00\", \"2020-05-26T00:00:00\", \"2020-08-09T00:00:00\", \"2020-08-11T00:00:00\", \"2020-01-14T00:00:00\", \"2020-03-22T00:00:00\", \"2020-03-30T00:00:00\", \"2020-04-10T00:00:00\", \"2020-05-20T00:00:00\", \"2020-05-23T00:00:00\", \"2020-05-23T00:00:00\", \"2020-05-26T00:00:00\", \"2020-05-27T00:00:00\", \"2020-08-03T00:00:00\", \"2020-08-27T00:00:00\", \"2020-08-27T00:00:00\", \"2020-03-22T00:00:00\", \"2020-03-23T00:00:00\", \"2020-03-23T00:00:00\", \"2020-04-18T00:00:00\", \"2020-04-19T00:00:00\", \"2020-04-20T00:00:00\", \"2020-04-22T00:00:00\", \"2020-04-26T00:00:00\", \"2020-04-26T00:00:00\", \"2020-04-27T00:00:00\", \"2020-05-04T00:00:00\", \"2020-05-07T00:00:00\", \"2020-05-22T00:00:00\", \"2020-08-27T00:00:00\", \"2020-08-27T00:00:00\", \"2020-01-19T00:00:00\", \"2020-01-21T00:00:00\", \"2020-03-20T00:00:00\", \"2020-03-21T00:00:00\", \"2020-03-28T00:00:00\", \"2020-04-03T00:00:00\", \"2020-04-04T00:00:00\", \"2020-04-13T00:00:00\", \"2020-04-16T00:00:00\", \"2020-04-21T00:00:00\", \"2020-04-21T00:00:00\", \"2020-04-26T00:00:00\", \"2020-07-30T00:00:00\", \"2020-07-30T00:00:00\", \"2020-03-18T00:00:00\", \"2020-03-20T00:00:00\", \"2020-03-21T00:00:00\", \"2020-03-22T00:00:00\", \"2020-03-28T00:00:00\", \"2020-03-28T00:00:00\", \"2020-04-05T00:00:00\", \"2020-04-07T00:00:00\", \"2020-04-08T00:00:00\", \"2020-04-15T00:00:00\", \"2020-07-02T00:00:00\", \"2020-02-29T00:00:00\", \"2020-03-19T00:00:00\", \"2020-03-30T00:00:00\", \"2020-03-31T00:00:00\", \"2020-04-01T00:00:00\", \"2020-04-02T00:00:00\", \"2020-04-03T00:00:00\", \"2020-04-03T00:00:00\", \"2020-04-03T00:00:00\", \"2020-04-04T00:00:00\", \"2020-04-06T00:00:00\", \"2020-04-06T00:00:00\", \"2020-02-08T00:00:00\", \"2020-02-26T00:00:00\", \"2020-03-16T00:00:00\", \"2020-03-18T00:00:00\", \"2020-03-19T00:00:00\", \"2020-03-20T00:00:00\", \"2020-03-21T00:00:00\", \"2020-03-21T00:00:00\", \"2020-03-21T00:00:00\", \"2020-03-22T00:00:00\", \"2020-03-22T00:00:00\", \"2020-03-23T00:00:00\", \"2020-03-24T00:00:00\", \"2020-03-26T00:00:00\", \"2020-03-26T00:00:00\", \"2020-03-30T00:00:00\", \"2020-03-30T00:00:00\", \"2020-03-31T00:00:00\", \"2020-04-03T00:00:00\", \"2020-04-04T00:00:00\", \"2020-04-04T00:00:00\", \"2020-04-06T00:00:00\", \"2020-04-08T00:00:00\", \"2020-06-03T00:00:00\", \"2020-06-18T00:00:00\", \"2020-06-18T00:00:00\", \"2020-03-12T00:00:00\", \"2020-03-14T00:00:00\", \"2020-03-18T00:00:00\", \"2020-03-19T00:00:00\", \"2020-03-19T00:00:00\", \"2020-03-20T00:00:00\", \"2020-03-20T00:00:00\", \"2020-03-21T00:00:00\", \"2020-03-21T00:00:00\", \"2020-03-22T00:00:00\", \"2020-03-22T00:00:00\", \"2020-03-22T00:00:00\", \"2020-03-24T00:00:00\", \"2020-03-24T00:00:00\", \"2020-03-25T00:00:00\", \"2020-03-25T00:00:00\", \"2020-03-25T00:00:00\", \"2020-03-26T00:00:00\", \"2020-03-27T00:00:00\", \"2020-03-27T00:00:00\", \"2020-06-05T00:00:00\", \"2020-06-12T00:00:00\", \"2020-08-18T00:00:00\", \"2020-02-12T00:00:00\", \"2020-02-25T00:00:00\", \"2020-03-08T00:00:00\", \"2020-03-09T00:00:00\", \"2020-03-12T00:00:00\", \"2020-03-13T00:00:00\", \"2020-03-14T00:00:00\", \"2020-03-15T00:00:00\", \"2020-03-18T00:00:00\", \"2020-03-19T00:00:00\", \"2020-03-20T00:00:00\", \"2020-03-22T00:00:00\", \"2020-03-22T00:00:00\", \"2020-03-23T00:00:00\", \"2020-03-31T00:00:00\", \"2020-05-01T00:00:00\", \"2020-06-18T00:00:00\", \"2020-06-18T00:00:00\", \"2020-06-27T00:00:00\", \"2020-03-06T00:00:00\", \"2020-03-09T00:00:00\", \"2020-03-09T00:00:00\", \"2020-03-11T00:00:00\", \"2020-03-12T00:00:00\", \"2020-03-12T00:00:00\", \"2020-03-13T00:00:00\", \"2020-03-13T00:00:00\", \"2020-03-16T00:00:00\", \"2020-03-16T00:00:00\", \"2020-03-17T00:00:00\", \"2020-03-18T00:00:00\", \"2020-03-19T00:00:00\", \"2020-04-08T00:00:00\", \"2020-05-31T00:00:00\", \"2020-06-06T00:00:00\", \"2020-06-19T00:00:00\", \"2020-07-12T00:00:00\", \"2020-03-03T00:00:00\", \"2020-03-05T00:00:00\", \"2020-03-05T00:00:00\", \"2020-03-09T00:00:00\", \"2020-03-15T00:00:00\", \"2020-03-16T00:00:00\", \"2020-03-16T00:00:00\", \"2020-03-17T00:00:00\", \"2020-04-07T00:00:00\", \"2020-01-24T00:00:00\", \"2020-01-25T00:00:00\", \"2020-01-26T00:00:00\", \"2020-01-27T00:00:00\", \"2020-01-29T00:00:00\", \"2020-01-31T00:00:00\", \"2020-02-02T00:00:00\", \"2020-02-05T00:00:00\", \"2020-02-07T00:00:00\", \"2020-02-09T00:00:00\", \"2020-02-11T00:00:00\", \"2020-02-12T00:00:00\", \"2020-02-12T00:00:00\", \"2020-02-18T00:00:00\", \"2020-02-20T00:00:00\", \"2020-02-26T00:00:00\", \"2020-02-28T00:00:00\", \"2020-02-29T00:00:00\", \"2020-03-02T00:00:00\", \"2020-03-02T00:00:00\", \"2020-03-06T00:00:00\", \"2020-03-25T00:00:00\", \"2020-03-26T00:00:00\", \"2020-04-05T00:00:00\", \"2020-04-18T00:00:00\", \"2020-04-18T00:00:00\", \"2020-02-13T00:00:00\", \"2020-03-14T00:00:00\", \"2020-05-13T00:00:00\", \"2020-05-19T00:00:00\", \"2020-03-26T00:00:00\", \"2020-03-17T00:00:00\", \"2020-03-22T00:00:00\", \"2020-03-05T00:00:00\", \"2020-04-01T00:00:00\", \"2020-05-13T00:00:00\", \"2020-05-11T00:00:00\", \"2020-04-13T00:00:00\", \"2020-04-03T00:00:00\", \"2020-04-22T00:00:00\", \"2020-04-19T00:00:00\", \"2020-04-03T00:00:00\", \"2020-03-27T00:00:00\", \"2020-04-14T00:00:00\", \"2020-02-16T00:00:00\", \"2020-05-13T00:00:00\", \"2020-02-11T00:00:00\", \"2020-04-09T00:00:00\", \"2020-07-01T00:00:00\", \"2020-04-03T00:00:00\", \"2020-05-14T00:00:00\", \"2020-04-18T00:00:00\", \"2020-02-18T00:00:00\", \"2020-03-26T00:00:00\", \"2020-01-25T00:00:00\", \"2020-01-27T00:00:00\", \"2020-03-24T00:00:00\", \"2020-04-26T00:00:00\", \"2020-04-10T00:00:00\", \"2020-04-04T00:00:00\", \"2020-01-25T00:00:00\", \"2020-04-21T00:00:00\", \"2020-04-10T00:00:00\"], \"xaxis\": \"x\", \"y\": [11799, 396420, 308846, 4060791, 1693161, 164057, 94183, 9982707, 77148, 6286, 9191832, 10477, 1388, 492088, 393685, 215385, 142396, 98, 142396, 89080, 938, 142396, 215385, 142396, 4601, 1441252, 119150, 32804, 16522, 16522, 12537, 9514, 64076, 149906, 832902, 2756, 5970, 31713, 6742, 11439, 11439, 94183, 47625, 5688, 10477, 9191833, 91355, 18345, 31113, 9191833, 92710, 383271, 410418, 8182, 184613, 2223, 1371, 39980, 6365, 355045, 66995, 242514, 9191834, 85478, 30759, 250383, 3856, 540, 3842, 3757, 50142, 9191834, 20029, 824563, 2503545, 1082, 408739, 110390, 117531, 405152, 18629, 134771, 49861891, 2610952, 26352, 60, 1469, 151994, 79196, 9191832, 196491, 6444, 17654, 86164, 161605, 51926, 95277, 56363, 241822, 241822, 9280, 1706, 221939, 1834707, 5649, 12284, 2319, 3327, 1181, 121666, 858, 7535, 1054554, 9402, 408739, 80169, 5296402, 23769, 5296402, 1290394, 0, 407629, 309919, 13174, 58121, 68688, 84599, 279183, 43236, 115713, 409511, 409511, 409511, 3928, 195, 184246, 409511, 409511, 409511, 71625, 9191832, 2271776, 2983, 516, 1056, 1473, 5296402, 2057, 409511, 9191832, 9191832, 9191832, 1342556, 996752, 29747771, 1509320, 82435, 9345869, 14193, 14193, 5758, 1973, 402744, 730515, 557, 2397, 996752, 6686535, 4380398, 407388, 2238721, 135252, 1029469, 8659, 8869, 5462, 1714, 764168, 64, 889141, 3071, 18472, 2708943, 2112563, 4213727, 1464, 402775, 333, 23, 1254163, 4876074, 37039, 1511693, 30672, 1777, 9191834, 778, 100937, 69636842, 1343875, 30, 9303, 443476, 11139, 75746, 7276, 620562, 443476, 122888, 7517, 7262, 9631, 1582673, 6992478, 3040126, 141726, 561076, 56735, 561076, 25176, 238714, 13638431, 4539, 6893, 1117, 1396826, 414, 20286, 248, 15958, 214, 398, 17187, 1441252, 8228, 27487, 202923, 664839, 120034, 710860, 7050620, 664839, 246, 11, 26405734, 1286123, 862987, 2416917, 12812, 19036, 670995, 13361, 2132, 21538, 17348, 1159147, 3138, 49861910, 52219, 485, 58, 390, 11122607, 264051, 30962327, 113077, 49861910, 331944, 2759383, 1901, 403, 229992, 1050704, 1396, 1420, 213553, 2612131, 359675, 1050704, 14949, 1936, 213553, 157622, 783107], \"yaxis\": \"y\"}],                        {\"legend\": {\"itemsizing\": \"constant\", \"title\": {\"text\": \"Type of tweet\"}, \"tracegroupgap\": 0}, \"template\": {\"data\": {\"bar\": [{\"error_x\": {\"color\": \"#2a3f5f\"}, \"error_y\": {\"color\": \"#2a3f5f\"}, \"marker\": {\"line\": {\"color\": \"#E5ECF6\", \"width\": 0.5}}, \"type\": \"bar\"}], \"barpolar\": [{\"marker\": {\"line\": {\"color\": \"#E5ECF6\", \"width\": 0.5}}, \"type\": \"barpolar\"}], \"carpet\": [{\"aaxis\": {\"endlinecolor\": \"#2a3f5f\", \"gridcolor\": \"white\", \"linecolor\": \"white\", \"minorgridcolor\": \"white\", \"startlinecolor\": \"#2a3f5f\"}, \"baxis\": {\"endlinecolor\": \"#2a3f5f\", \"gridcolor\": \"white\", \"linecolor\": \"white\", \"minorgridcolor\": \"white\", \"startlinecolor\": \"#2a3f5f\"}, \"type\": \"carpet\"}], \"choropleth\": [{\"colorbar\": {\"outlinewidth\": 0, \"ticks\": \"\"}, \"type\": \"choropleth\"}], \"contour\": [{\"colorbar\": {\"outlinewidth\": 0, \"ticks\": \"\"}, \"colorscale\": [[0.0, \"#0d0887\"], [0.1111111111111111, \"#46039f\"], [0.2222222222222222, \"#7201a8\"], [0.3333333333333333, \"#9c179e\"], [0.4444444444444444, \"#bd3786\"], [0.5555555555555556, \"#d8576b\"], [0.6666666666666666, \"#ed7953\"], [0.7777777777777778, \"#fb9f3a\"], [0.8888888888888888, \"#fdca26\"], [1.0, \"#f0f921\"]], \"type\": \"contour\"}], \"contourcarpet\": [{\"colorbar\": {\"outlinewidth\": 0, \"ticks\": \"\"}, \"type\": \"contourcarpet\"}], \"heatmap\": [{\"colorbar\": {\"outlinewidth\": 0, \"ticks\": \"\"}, \"colorscale\": [[0.0, \"#0d0887\"], [0.1111111111111111, \"#46039f\"], [0.2222222222222222, \"#7201a8\"], [0.3333333333333333, \"#9c179e\"], [0.4444444444444444, \"#bd3786\"], [0.5555555555555556, \"#d8576b\"], [0.6666666666666666, \"#ed7953\"], [0.7777777777777778, \"#fb9f3a\"], [0.8888888888888888, \"#fdca26\"], [1.0, \"#f0f921\"]], \"type\": \"heatmap\"}], \"heatmapgl\": [{\"colorbar\": {\"outlinewidth\": 0, \"ticks\": \"\"}, \"colorscale\": [[0.0, \"#0d0887\"], [0.1111111111111111, \"#46039f\"], [0.2222222222222222, \"#7201a8\"], [0.3333333333333333, \"#9c179e\"], [0.4444444444444444, \"#bd3786\"], [0.5555555555555556, \"#d8576b\"], [0.6666666666666666, \"#ed7953\"], [0.7777777777777778, \"#fb9f3a\"], [0.8888888888888888, \"#fdca26\"], [1.0, \"#f0f921\"]], \"type\": \"heatmapgl\"}], \"histogram\": [{\"marker\": {\"colorbar\": {\"outlinewidth\": 0, \"ticks\": \"\"}}, \"type\": \"histogram\"}], \"histogram2d\": [{\"colorbar\": {\"outlinewidth\": 0, \"ticks\": \"\"}, \"colorscale\": [[0.0, \"#0d0887\"], [0.1111111111111111, \"#46039f\"], [0.2222222222222222, \"#7201a8\"], [0.3333333333333333, \"#9c179e\"], [0.4444444444444444, \"#bd3786\"], [0.5555555555555556, \"#d8576b\"], [0.6666666666666666, \"#ed7953\"], [0.7777777777777778, \"#fb9f3a\"], [0.8888888888888888, \"#fdca26\"], [1.0, \"#f0f921\"]], \"type\": \"histogram2d\"}], \"histogram2dcontour\": [{\"colorbar\": {\"outlinewidth\": 0, \"ticks\": \"\"}, \"colorscale\": [[0.0, \"#0d0887\"], [0.1111111111111111, \"#46039f\"], [0.2222222222222222, \"#7201a8\"], [0.3333333333333333, \"#9c179e\"], [0.4444444444444444, \"#bd3786\"], [0.5555555555555556, \"#d8576b\"], [0.6666666666666666, \"#ed7953\"], [0.7777777777777778, \"#fb9f3a\"], [0.8888888888888888, \"#fdca26\"], [1.0, \"#f0f921\"]], \"type\": \"histogram2dcontour\"}], \"mesh3d\": [{\"colorbar\": {\"outlinewidth\": 0, \"ticks\": \"\"}, \"type\": \"mesh3d\"}], \"parcoords\": [{\"line\": {\"colorbar\": {\"outlinewidth\": 0, \"ticks\": \"\"}}, \"type\": \"parcoords\"}], \"pie\": [{\"automargin\": true, \"type\": \"pie\"}], \"scatter\": [{\"marker\": {\"colorbar\": {\"outlinewidth\": 0, \"ticks\": \"\"}}, \"type\": \"scatter\"}], \"scatter3d\": [{\"line\": {\"colorbar\": {\"outlinewidth\": 0, \"ticks\": \"\"}}, \"marker\": {\"colorbar\": {\"outlinewidth\": 0, \"ticks\": \"\"}}, \"type\": \"scatter3d\"}], \"scattercarpet\": [{\"marker\": {\"colorbar\": {\"outlinewidth\": 0, \"ticks\": \"\"}}, \"type\": \"scattercarpet\"}], \"scattergeo\": [{\"marker\": {\"colorbar\": {\"outlinewidth\": 0, \"ticks\": \"\"}}, \"type\": \"scattergeo\"}], \"scattergl\": [{\"marker\": {\"colorbar\": {\"outlinewidth\": 0, \"ticks\": \"\"}}, \"type\": \"scattergl\"}], \"scattermapbox\": [{\"marker\": {\"colorbar\": {\"outlinewidth\": 0, \"ticks\": \"\"}}, \"type\": \"scattermapbox\"}], \"scatterpolar\": [{\"marker\": {\"colorbar\": {\"outlinewidth\": 0, \"ticks\": \"\"}}, \"type\": \"scatterpolar\"}], \"scatterpolargl\": [{\"marker\": {\"colorbar\": {\"outlinewidth\": 0, \"ticks\": \"\"}}, \"type\": \"scatterpolargl\"}], \"scatterternary\": [{\"marker\": {\"colorbar\": {\"outlinewidth\": 0, \"ticks\": \"\"}}, \"type\": \"scatterternary\"}], \"surface\": [{\"colorbar\": {\"outlinewidth\": 0, \"ticks\": \"\"}, \"colorscale\": [[0.0, \"#0d0887\"], [0.1111111111111111, \"#46039f\"], [0.2222222222222222, \"#7201a8\"], [0.3333333333333333, \"#9c179e\"], [0.4444444444444444, \"#bd3786\"], [0.5555555555555556, \"#d8576b\"], [0.6666666666666666, \"#ed7953\"], [0.7777777777777778, \"#fb9f3a\"], [0.8888888888888888, \"#fdca26\"], [1.0, \"#f0f921\"]], \"type\": \"surface\"}], \"table\": [{\"cells\": {\"fill\": {\"color\": \"#EBF0F8\"}, \"line\": {\"color\": \"white\"}}, \"header\": {\"fill\": {\"color\": \"#C8D4E3\"}, \"line\": {\"color\": \"white\"}}, \"type\": \"table\"}]}, \"layout\": {\"annotationdefaults\": {\"arrowcolor\": \"#2a3f5f\", \"arrowhead\": 0, \"arrowwidth\": 1}, \"autotypenumbers\": \"strict\", \"coloraxis\": {\"colorbar\": {\"outlinewidth\": 0, \"ticks\": \"\"}}, \"colorscale\": {\"diverging\": [[0, \"#8e0152\"], [0.1, \"#c51b7d\"], [0.2, \"#de77ae\"], [0.3, \"#f1b6da\"], [0.4, \"#fde0ef\"], [0.5, \"#f7f7f7\"], [0.6, \"#e6f5d0\"], [0.7, \"#b8e186\"], [0.8, \"#7fbc41\"], [0.9, \"#4d9221\"], [1, \"#276419\"]], \"sequential\": [[0.0, \"#0d0887\"], [0.1111111111111111, \"#46039f\"], [0.2222222222222222, \"#7201a8\"], [0.3333333333333333, \"#9c179e\"], [0.4444444444444444, \"#bd3786\"], [0.5555555555555556, \"#d8576b\"], [0.6666666666666666, \"#ed7953\"], [0.7777777777777778, \"#fb9f3a\"], [0.8888888888888888, \"#fdca26\"], [1.0, \"#f0f921\"]], \"sequentialminus\": [[0.0, \"#0d0887\"], [0.1111111111111111, \"#46039f\"], [0.2222222222222222, \"#7201a8\"], [0.3333333333333333, \"#9c179e\"], [0.4444444444444444, \"#bd3786\"], [0.5555555555555556, \"#d8576b\"], [0.6666666666666666, \"#ed7953\"], [0.7777777777777778, \"#fb9f3a\"], [0.8888888888888888, \"#fdca26\"], [1.0, \"#f0f921\"]]}, \"colorway\": [\"#636efa\", \"#EF553B\", \"#00cc96\", \"#ab63fa\", \"#FFA15A\", \"#19d3f3\", \"#FF6692\", \"#B6E880\", \"#FF97FF\", \"#FECB52\"], \"font\": {\"color\": \"#2a3f5f\"}, \"geo\": {\"bgcolor\": \"white\", \"lakecolor\": \"white\", \"landcolor\": \"#E5ECF6\", \"showlakes\": true, \"showland\": true, \"subunitcolor\": \"white\"}, \"hoverlabel\": {\"align\": \"left\"}, \"hovermode\": \"closest\", \"mapbox\": {\"style\": \"light\"}, \"paper_bgcolor\": \"white\", \"plot_bgcolor\": \"#E5ECF6\", \"polar\": {\"angularaxis\": {\"gridcolor\": \"white\", \"linecolor\": \"white\", \"ticks\": \"\"}, \"bgcolor\": \"#E5ECF6\", \"radialaxis\": {\"gridcolor\": \"white\", \"linecolor\": \"white\", \"ticks\": \"\"}}, \"scene\": {\"xaxis\": {\"backgroundcolor\": \"#E5ECF6\", \"gridcolor\": \"white\", \"gridwidth\": 2, \"linecolor\": \"white\", \"showbackground\": true, \"ticks\": \"\", \"zerolinecolor\": \"white\"}, \"yaxis\": {\"backgroundcolor\": \"#E5ECF6\", \"gridcolor\": \"white\", \"gridwidth\": 2, \"linecolor\": \"white\", \"showbackground\": true, \"ticks\": \"\", \"zerolinecolor\": \"white\"}, \"zaxis\": {\"backgroundcolor\": \"#E5ECF6\", \"gridcolor\": \"white\", \"gridwidth\": 2, \"linecolor\": \"white\", \"showbackground\": true, \"ticks\": \"\", \"zerolinecolor\": \"white\"}}, \"shapedefaults\": {\"line\": {\"color\": \"#2a3f5f\"}}, \"ternary\": {\"aaxis\": {\"gridcolor\": \"white\", \"linecolor\": \"white\", \"ticks\": \"\"}, \"baxis\": {\"gridcolor\": \"white\", \"linecolor\": \"white\", \"ticks\": \"\"}, \"bgcolor\": \"#E5ECF6\", \"caxis\": {\"gridcolor\": \"white\", \"linecolor\": \"white\", \"ticks\": \"\"}}, \"title\": {\"x\": 0.05}, \"xaxis\": {\"automargin\": true, \"gridcolor\": \"white\", \"linecolor\": \"white\", \"ticks\": \"\", \"title\": {\"standoff\": 15}, \"zerolinecolor\": \"white\", \"zerolinewidth\": 2}, \"yaxis\": {\"automargin\": true, \"gridcolor\": \"white\", \"linecolor\": \"white\", \"ticks\": \"\", \"title\": {\"standoff\": 15}, \"zerolinecolor\": \"white\", \"zerolinewidth\": 2}}}, \"title\": {\"text\": \"Popularity of account - Fake Covid-19 dataset (Size of the bubbles based on tweet retweets count)\"}, \"xaxis\": {\"anchor\": \"y\", \"domain\": [0.0, 1.0], \"tickcolor\": \"crimson\", \"ticklen\": 10, \"ticks\": \"outside\", \"tickwidth\": 2, \"title\": {\"text\": \"Date\"}}, \"yaxis\": {\"anchor\": \"x\", \"domain\": [0.0, 1.0], \"fixedrange\": true, \"tickcolor\": \"crimson\", \"ticklen\": 10, \"ticks\": \"outside\", \"tickwidth\": 2, \"title\": {\"text\": \"Followers count\"}, \"type\": \"log\"}},                        {\"responsive\": true}                    ).then(function(){\n",
       "                            \n",
       "var gd = document.getElementById('dccb3c58-fa78-435c-ba5a-f1d1c842a0a8');\n",
       "var x = new MutationObserver(function (mutations, observer) {{\n",
       "        var display = window.getComputedStyle(gd).display;\n",
       "        if (!display || display === 'none') {{\n",
       "            console.log([gd, 'removed!']);\n",
       "            Plotly.purge(gd);\n",
       "            observer.disconnect();\n",
       "        }}\n",
       "}});\n",
       "\n",
       "// Listen for the removal of the full notebook cells\n",
       "var notebookContainer = gd.closest('#notebook-container');\n",
       "if (notebookContainer) {{\n",
       "    x.observe(notebookContainer, {childList: true});\n",
       "}}\n",
       "\n",
       "// Listen for the clearing of the current output cell\n",
       "var outputEl = gd.closest('.output');\n",
       "if (outputEl) {{\n",
       "    x.observe(outputEl, {childList: true});\n",
       "}}\n",
       "\n",
       "                        })                };                });            </script>        </div>"
      ]
     },
     "metadata": {},
     "output_type": "display_data"
    }
   ],
   "source": [
    "fig = px.scatter(df_rt, hover_data=['Name','Username','Tweet Retweets count','Friends count','Account created on'],\n",
    "                 x=\"Date\", y=\"Followers count\",\n",
    "                 size='Tweet Retweets count',\n",
    "                 color=\"Category\",\n",
    "                 title=\"Popularity of account - Fake Covid-19 dataset (Size of the bubbles based on tweet retweets count)\",\n",
    "                 labels={\"Category\": \"Type of tweet\"}\n",
    "                )\n",
    "\n",
    "fig.update_traces(marker=dict(opacity=0.8,line=dict(width=1,\n",
    "                              color='DarkSlateGrey')),\n",
    "                              selector=dict(mode='markers'))\n",
    "\n",
    "fig.update_xaxes(ticks=\"outside\", tickwidth=2, tickcolor='crimson', ticklen=10)\n",
    "fig.update_yaxes(ticks=\"outside\", tickwidth=2, tickcolor='crimson', ticklen=10, type=\"log\")\n",
    "\n",
    "fig.update_yaxes(fixedrange=True)\n",
    "\n",
    "\n",
    "fig.show()"
   ]
  },
  {
   "cell_type": "code",
   "execution_count": null,
   "id": "generous-board",
   "metadata": {},
   "outputs": [],
   "source": []
  },
  {
   "cell_type": "code",
   "execution_count": null,
   "id": "difficult-canvas",
   "metadata": {},
   "outputs": [],
   "source": []
  }
 ],
 "metadata": {
  "kernelspec": {
   "display_name": "Python 3",
   "language": "python",
   "name": "python3"
  },
  "language_info": {
   "codemirror_mode": {
    "name": "ipython",
    "version": 3
   },
   "file_extension": ".py",
   "mimetype": "text/x-python",
   "name": "python",
   "nbconvert_exporter": "python",
   "pygments_lexer": "ipython3",
   "version": "3.9.2"
  }
 },
 "nbformat": 4,
 "nbformat_minor": 5
}

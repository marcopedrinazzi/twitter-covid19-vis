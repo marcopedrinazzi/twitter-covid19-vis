{
 "cells": [
  {
   "cell_type": "code",
   "execution_count": 1,
   "id": "fitting-bulgarian",
   "metadata": {},
   "outputs": [],
   "source": [
    "import pandas as pd\n",
    "import numpy as np\n",
    "import json\n",
    "import sys\n",
    "import string\n",
    "import re\n",
    "from emot.emo_unicode import UNICODE_EMO, EMOTICONS\n",
    "import emoji\n",
    "from wordcloud import WordCloud, STOPWORDS\n",
    "import matplotlib.pyplot as plt \n",
    "import nltk\n",
    "from PIL import Image\n",
    "import itertools\n",
    "import altair as alt\n",
    "from dateutil.parser import parse\n",
    "import seaborn as sns\n",
    "import num2words\n",
    "import itertools\n",
    "import datetime\n",
    "import pytz\n",
    "utc=pytz.UTC"
   ]
  },
  {
   "cell_type": "code",
   "execution_count": 2,
   "id": "underlying-style",
   "metadata": {},
   "outputs": [],
   "source": [
    "csv_dataframe = pd.read_csv('twitter-covid19-vis/fakecovid/dataset/FINAL_fakecovid_final_filtered_dataset_clean.csv',sep=\";\")\n",
    "csv_dataframe['tweet_id'] = csv_dataframe['tweet_id'].astype(str)\n",
    "csv_list = csv_dataframe.values.tolist()\n",
    "lista_unica_csv=list(itertools.chain.from_iterable(csv_list))\n",
    "\n",
    "data = []\n",
    "with open('twitter-covid19-vis/fakecovid/dataset/fakecovid_result_final_translated_full.json', 'r') as f:\n",
    "    for line in f:\n",
    "        data.append(json.loads(line))"
   ]
  },
  {
   "cell_type": "markdown",
   "id": "retained-apparel",
   "metadata": {},
   "source": [
    "## Hashtag"
   ]
  },
  {
   "cell_type": "markdown",
   "id": "hollywood-windows",
   "metadata": {},
   "source": [
    "Here there are just the top 5 hashtags but the chart can be extended with more hashtags."
   ]
  },
  {
   "cell_type": "code",
   "execution_count": 4,
   "id": "willing-killer",
   "metadata": {},
   "outputs": [],
   "source": [
    "\n",
    "df_feb['hashtags']=namelist\n",
    "df_feb['Count False Tweets']=count_false\n",
    "#df_feb['Count Partially False Tweets']=count_part\n",
    "vdf_feb['count'] = col_two_list\n",
    "#df_feb['Date']=datelist\n",
    "\n",
    "\n",
    "#h1 = df_feb.loc[df_feb['hashtags'] == \"covid19\"]\n",
    "#h2 = df_feb.loc[df_feb['hashtags'] == \"coronavirus\"]\n",
    "#h3 = df.loc[df['hashtags'] == \"fake\"]\n",
    "#h4 = df.loc[df['hashtags'] == \"fakenews\"]\n",
    "#h5 = df.loc[df['hashtags'] == \"pibfactcheck\"]\n",
    "\n",
    "\n",
    "# Fill the empty dates with 0.\n",
    "#start = datetime.datetime.strptime(\"2020/01/01\", \"%Y/%m/%d\")\n",
    "#end = datetime.datetime.strptime(\"2020/01/31\", \"%Y/%m/%d\")\n",
    "#date_generated = [start + datetime.timedelta(days=x) for x in range(0, (end-start).days)]\n",
    "\n",
    "#for date in date_generated:\n",
    "    #if date.strftime(\"%Y/%m/%d\") not in h1:\n",
    "    #    h1.append([\"covid19\",0,0,0,date.strftime(\"%Y/%m/%d\")])\n",
    "    #if date.strftime(\"%Y/%m/%d\") not in h2:\n",
    "    #    h2.append([\"coronavirus\",0,0,0,date.strftime(\"%Y/%m/%d\")])\n",
    "    #if date.strftime(\"%Y/%m/%d\") not in h3:\n",
    "    #    h3.append(\"fake\",0,0,0,date.strftime(\"%Y/%m/%d\"))\n",
    "    #if date.strftime(\"%Y/%m/%d\") not in h4:\n",
    "     #   h4.append([\"fakenews\",0,0,0,date.strftime(\"%Y/%m/%d\")])\n",
    "    #if date.strftime(\"%Y/%m/%d\") not in h5:\n",
    "    #    h5.append(\"pibfactcheck\",0,0,0,date.strftime(\"%Y/%m/%d\"))\n",
    "\n",
    "df_feb = df_feb.append(pd.DataFrame(h1, columns=['hashtags','Count False Tweets','Count Partially False Tweets','count','Date']),ignore_index=True)\n",
    "df_feb = df_feb.append(pd.DataFrame(h2, columns=['hashtags','Count False Tweets','Count Partially False Tweets','count','Date']),ignore_index=True)\n",
    "#df = df.append(pd.DataFrame(h3, columns=['hashtags','Count False Tweets','Count Partially False Tweets','count','Date']),ignore_index=True)\n",
    "#df = df.append(pd.DataFrame(h4, columns=['hashtags','Count False Tweets','Count Partially False Tweets','count','Date']),ignore_index=True)\n",
    "#df = df.append(pd.DataFrame(h5, columns=['hashtags','Count False Tweets','Count Partially False Tweets','count','Date']),ignore_index=True)\n",
    "\n",
    "#df_feb['Date']= pd.to_datetime(df_feb['Date'])\n",
    "\n",
    "\n",
    "#df_feb = df_feb.sort_values(by=['count'],ascending=[False])\n",
    "\n",
    "\n",
    "\n",
    "#Non serve se si usa la circle il riempire\n",
    "alt.Chart(df).transform_fold(\n",
    "    ['Count False Tweets', 'Count Partially False Tweets']\n",
    ").mark_circle(\n",
    "    opacity=0.8,\n",
    "    stroke='black',\n",
    "    strokeWidth=1\n",
    ").encode(\n",
    "    alt.X('Date'),\n",
    "    alt.Y('hashtags'),\n",
    "    alt.Size('value:Q'),\n",
    "    alt.Color('key:N', legend=None)\n",
    ").properties(\n",
    "    width=520,\n",
    "    height=320\n",
    ")"
   ]
  },
  {
   "cell_type": "code",
   "execution_count": 5,
   "id": "driving-enough",
   "metadata": {},
   "outputs": [
    {
     "data": {
      "text/html": [
       "\n",
       "<div id=\"altair-viz-8abc4f065161481db60b3f5c73c432b9\"></div>\n",
       "<script type=\"text/javascript\">\n",
       "  (function(spec, embedOpt){\n",
       "    let outputDiv = document.currentScript.previousElementSibling;\n",
       "    if (outputDiv.id !== \"altair-viz-8abc4f065161481db60b3f5c73c432b9\") {\n",
       "      outputDiv = document.getElementById(\"altair-viz-8abc4f065161481db60b3f5c73c432b9\");\n",
       "    }\n",
       "    const paths = {\n",
       "      \"vega\": \"https://cdn.jsdelivr.net/npm//vega@5?noext\",\n",
       "      \"vega-lib\": \"https://cdn.jsdelivr.net/npm//vega-lib?noext\",\n",
       "      \"vega-lite\": \"https://cdn.jsdelivr.net/npm//vega-lite@4.8.1?noext\",\n",
       "      \"vega-embed\": \"https://cdn.jsdelivr.net/npm//vega-embed@6?noext\",\n",
       "    };\n",
       "\n",
       "    function loadScript(lib) {\n",
       "      return new Promise(function(resolve, reject) {\n",
       "        var s = document.createElement('script');\n",
       "        s.src = paths[lib];\n",
       "        s.async = true;\n",
       "        s.onload = () => resolve(paths[lib]);\n",
       "        s.onerror = () => reject(`Error loading script: ${paths[lib]}`);\n",
       "        document.getElementsByTagName(\"head\")[0].appendChild(s);\n",
       "      });\n",
       "    }\n",
       "\n",
       "    function showError(err) {\n",
       "      outputDiv.innerHTML = `<div class=\"error\" style=\"color:red;\">${err}</div>`;\n",
       "      throw err;\n",
       "    }\n",
       "\n",
       "    function displayChart(vegaEmbed) {\n",
       "      vegaEmbed(outputDiv, spec, embedOpt)\n",
       "        .catch(err => showError(`Javascript Error: ${err.message}<br>This usually means there's a typo in your chart specification. See the javascript console for the full traceback.`));\n",
       "    }\n",
       "\n",
       "    if(typeof define === \"function\" && define.amd) {\n",
       "      requirejs.config({paths});\n",
       "      require([\"vega-embed\"], displayChart, err => showError(`Error loading script: ${err.message}`));\n",
       "    } else if (typeof vegaEmbed === \"function\") {\n",
       "      displayChart(vegaEmbed);\n",
       "    } else {\n",
       "      loadScript(\"vega\")\n",
       "        .then(() => loadScript(\"vega-lite\"))\n",
       "        .then(() => loadScript(\"vega-embed\"))\n",
       "        .catch(showError)\n",
       "        .then(() => displayChart(vegaEmbed));\n",
       "    }\n",
       "  })({\"config\": {\"view\": {\"continuousWidth\": 400, \"continuousHeight\": 300}}, \"data\": {\"name\": \"data-c0a82159c7f3efc863b8efc39ff68539\"}, \"mark\": {\"type\": \"circle\", \"opacity\": 0.8, \"stroke\": \"black\", \"strokeWidth\": 1}, \"encoding\": {\"color\": {\"type\": \"nominal\", \"field\": \"key\", \"legend\": null}, \"size\": {\"type\": \"quantitative\", \"field\": \"value\"}, \"x\": {\"type\": \"temporal\", \"field\": \"Date\"}, \"y\": {\"type\": \"nominal\", \"field\": \"hashtags\"}}, \"height\": 320, \"transform\": [{\"fold\": [\"Count False Tweets\", \"Count Partially False Tweets\"]}], \"width\": 520, \"$schema\": \"https://vega.github.io/schema/vega-lite/v4.8.1.json\", \"datasets\": {\"data-c0a82159c7f3efc863b8efc39ff68539\": [{\"hashtags\": \"covid19\", \"count\": 5, \"Count False Tweets\": 5, \"Count Partially False Tweets\": 0, \"Date\": \"2020-03-16T00:00:00\"}, {\"hashtags\": \"covid19\", \"count\": 4, \"Count False Tweets\": 4, \"Count Partially False Tweets\": 0, \"Date\": \"2020-04-09T00:00:00\"}, {\"hashtags\": \"covid19\", \"count\": 4, \"Count False Tweets\": 4, \"Count Partially False Tweets\": 0, \"Date\": \"2020-04-05T00:00:00\"}, {\"hashtags\": \"coronavirus\", \"count\": 4, \"Count False Tweets\": 4, \"Count Partially False Tweets\": 0, \"Date\": \"2020-04-26T00:00:00\"}, {\"hashtags\": \"coronavirus\", \"count\": 4, \"Count False Tweets\": 4, \"Count Partially False Tweets\": 0, \"Date\": \"2020-03-22T00:00:00\"}, {\"hashtags\": \"covid19\", \"count\": 4, \"Count False Tweets\": 4, \"Count Partially False Tweets\": 0, \"Date\": \"2020-03-15T00:00:00\"}, {\"hashtags\": \"coronavirus\", \"count\": 3, \"Count False Tweets\": 3, \"Count Partially False Tweets\": 0, \"Date\": \"2020-03-12T00:00:00\"}, {\"hashtags\": \"covid19\", \"count\": 3, \"Count False Tweets\": 3, \"Count Partially False Tweets\": 0, \"Date\": \"2020-04-14T00:00:00\"}, {\"hashtags\": \"covid19\", \"count\": 3, \"Count False Tweets\": 3, \"Count Partially False Tweets\": 0, \"Date\": \"2020-03-27T00:00:00\"}, {\"hashtags\": \"covid19\", \"count\": 3, \"Count False Tweets\": 3, \"Count Partially False Tweets\": 0, \"Date\": \"2020-03-28T00:00:00\"}, {\"hashtags\": \"coronavirus\", \"count\": 3, \"Count False Tweets\": 3, \"Count Partially False Tweets\": 0, \"Date\": \"2020-03-31T00:00:00\"}, {\"hashtags\": \"covid19\", \"count\": 3, \"Count False Tweets\": 3, \"Count Partially False Tweets\": 0, \"Date\": \"2020-05-10T00:00:00\"}, {\"hashtags\": \"coronavirus\", \"count\": 3, \"Count False Tweets\": 3, \"Count Partially False Tweets\": 0, \"Date\": \"2020-03-16T00:00:00\"}, {\"hashtags\": \"covid19\", \"count\": 3, \"Count False Tweets\": 3, \"Count Partially False Tweets\": 0, \"Date\": \"2020-03-18T00:00:00\"}, {\"hashtags\": \"covid19\", \"count\": 3, \"Count False Tweets\": 3, \"Count Partially False Tweets\": 0, \"Date\": \"2020-03-11T00:00:00\"}, {\"hashtags\": \"covid19\", \"count\": 3, \"Count False Tweets\": 0, \"Count Partially False Tweets\": 3, \"Date\": \"2020-04-20T00:00:00\"}, {\"hashtags\": \"covid19\", \"count\": 3, \"Count False Tweets\": 3, \"Count Partially False Tweets\": 0, \"Date\": \"2020-03-30T00:00:00\"}, {\"hashtags\": \"covid19\", \"count\": 2, \"Count False Tweets\": 0, \"Count Partially False Tweets\": 2, \"Date\": \"2020-03-26T00:00:00\"}, {\"hashtags\": \"covid19\", \"count\": 2, \"Count False Tweets\": 2, \"Count Partially False Tweets\": 0, \"Date\": \"2020-04-08T00:00:00\"}, {\"hashtags\": \"covid19\", \"count\": 2, \"Count False Tweets\": 2, \"Count Partially False Tweets\": 0, \"Date\": \"2020-04-22T00:00:00\"}, {\"hashtags\": \"covid19\", \"count\": 2, \"Count False Tweets\": 0, \"Count Partially False Tweets\": 2, \"Date\": \"2020-04-04T00:00:00\"}, {\"hashtags\": \"covid19\", \"count\": 2, \"Count False Tweets\": 2, \"Count Partially False Tweets\": 0, \"Date\": \"2020-04-02T00:00:00\"}, {\"hashtags\": \"covid19\", \"count\": 2, \"Count False Tweets\": 2, \"Count Partially False Tweets\": 0, \"Date\": \"2020-03-02T00:00:00\"}, {\"hashtags\": \"covid19\", \"count\": 2, \"Count False Tweets\": 2, \"Count Partially False Tweets\": 0, \"Date\": \"2020-03-05T00:00:00\"}, {\"hashtags\": \"covid19\", \"count\": 2, \"Count False Tweets\": 2, \"Count Partially False Tweets\": 0, \"Date\": \"2020-05-04T00:00:00\"}, {\"hashtags\": \"coronavirus\", \"count\": 2, \"Count False Tweets\": 2, \"Count Partially False Tweets\": 0, \"Date\": \"2020-01-30T00:00:00\"}, {\"hashtags\": \"covid19\", \"count\": 2, \"Count False Tweets\": 0, \"Count Partially False Tweets\": 2, \"Date\": \"2020-03-09T00:00:00\"}, {\"hashtags\": \"coronavirus\", \"count\": 2, \"Count False Tweets\": 0, \"Count Partially False Tweets\": 2, \"Date\": \"2020-03-26T00:00:00\"}, {\"hashtags\": \"covid19\", \"count\": 2, \"Count False Tweets\": 0, \"Count Partially False Tweets\": 2, \"Date\": \"2020-04-21T00:00:00\"}, {\"hashtags\": \"pibfactcheck\", \"count\": 2, \"Count False Tweets\": 2, \"Count Partially False Tweets\": 0, \"Date\": \"2020-03-22T00:00:00\"}, {\"hashtags\": \"covid19\", \"count\": 2, \"Count False Tweets\": 0, \"Count Partially False Tweets\": 2, \"Date\": \"2020-03-21T00:00:00\"}, {\"hashtags\": \"covid19\", \"count\": 2, \"Count False Tweets\": 2, \"Count Partially False Tweets\": 0, \"Date\": \"2020-03-13T00:00:00\"}, {\"hashtags\": \"coronavirus\", \"count\": 2, \"Count False Tweets\": 2, \"Count Partially False Tweets\": 0, \"Date\": \"2020-02-08T00:00:00\"}, {\"hashtags\": \"coronavirus\", \"count\": 2, \"Count False Tweets\": 2, \"Count Partially False Tweets\": 0, \"Date\": \"2020-01-29T00:00:00\"}, {\"hashtags\": \"covid19\", \"count\": 2, \"Count False Tweets\": 2, \"Count Partially False Tweets\": 0, \"Date\": \"2020-03-31T00:00:00\"}, {\"hashtags\": \"coronavirus\", \"count\": 2, \"Count False Tweets\": 2, \"Count Partially False Tweets\": 0, \"Date\": \"2020-03-23T00:00:00\"}, {\"hashtags\": \"covid19\", \"count\": 2, \"Count False Tweets\": 2, \"Count Partially False Tweets\": 0, \"Date\": \"2020-03-12T00:00:00\"}, {\"hashtags\": \"covid19\", \"count\": 2, \"Count False Tweets\": 2, \"Count Partially False Tweets\": 0, \"Date\": \"2020-04-07T00:00:00\"}, {\"hashtags\": \"covid19\", \"count\": 2, \"Count False Tweets\": 2, \"Count Partially False Tweets\": 0, \"Date\": \"2020-02-11T00:00:00\"}, {\"hashtags\": \"covid19\", \"count\": 2, \"Count False Tweets\": 0, \"Count Partially False Tweets\": 2, \"Date\": \"2020-06-18T00:00:00\"}, {\"hashtags\": \"covid19\", \"count\": 2, \"Count False Tweets\": 2, \"Count Partially False Tweets\": 0, \"Date\": \"2020-05-20T00:00:00\"}, {\"hashtags\": \"coronavirus\", \"count\": 2, \"Count False Tweets\": 2, \"Count Partially False Tweets\": 0, \"Date\": \"2020-03-06T00:00:00\"}, {\"hashtags\": \"covid19\", \"count\": 2, \"Count False Tweets\": 2, \"Count Partially False Tweets\": 0, \"Date\": \"2020-04-03T00:00:00\"}, {\"hashtags\": \"covid19\", \"count\": 2, \"Count False Tweets\": 2, \"Count Partially False Tweets\": 0, \"Date\": \"2020-06-08T00:00:00\"}, {\"hashtags\": \"coronavirus\", \"count\": 2, \"Count False Tweets\": 2, \"Count Partially False Tweets\": 0, \"Date\": \"2020-02-04T00:00:00\"}, {\"hashtags\": \"fake\", \"count\": 2, \"Count False Tweets\": 0, \"Count Partially False Tweets\": 2, \"Date\": \"2020-05-12T00:00:00\"}, {\"hashtags\": \"coronavirus\", \"count\": 2, \"Count False Tweets\": 2, \"Count Partially False Tweets\": 0, \"Date\": \"2020-01-28T00:00:00\"}, {\"hashtags\": \"covid19\", \"count\": 2, \"Count False Tweets\": 2, \"Count Partially False Tweets\": 0, \"Date\": \"2020-03-06T00:00:00\"}, {\"hashtags\": \"covid19\", \"count\": 2, \"Count False Tweets\": 2, \"Count Partially False Tweets\": 0, \"Date\": \"2020-05-21T00:00:00\"}, {\"hashtags\": \"covid19\", \"count\": 2, \"Count False Tweets\": 2, \"Count Partially False Tweets\": 0, \"Date\": \"2020-03-24T00:00:00\"}, {\"hashtags\": \"coronavirus\", \"count\": 2, \"Count False Tweets\": 2, \"Count Partially False Tweets\": 0, \"Date\": \"2020-03-07T00:00:00\"}, {\"hashtags\": \"coronavirus\", \"count\": 2, \"Count False Tweets\": 2, \"Count Partially False Tweets\": 0, \"Date\": \"2020-01-27T00:00:00\"}, {\"hashtags\": \"covid19\", \"count\": 2, \"Count False Tweets\": 2, \"Count Partially False Tweets\": 0, \"Date\": \"2020-03-07T00:00:00\"}, {\"hashtags\": \"coronavirus\", \"count\": 2, \"Count False Tweets\": 2, \"Count Partially False Tweets\": 0, \"Date\": \"2020-03-11T00:00:00\"}, {\"hashtags\": \"fakenews\", \"count\": 1, \"Count False Tweets\": 1, \"Count Partially False Tweets\": 0, \"Date\": \"2020-03-17T00:00:00\"}, {\"hashtags\": \"coronavirus\", \"count\": 1, \"Count False Tweets\": 1, \"Count Partially False Tweets\": 0, \"Date\": \"2020-04-28T00:00:00\"}, {\"hashtags\": \"covid19\", \"count\": 1, \"Count False Tweets\": 1, \"Count Partially False Tweets\": 0, \"Date\": \"2020-03-21T00:00:00\"}, {\"hashtags\": \"fakenews\", \"count\": 1, \"Count False Tweets\": 1, \"Count Partially False Tweets\": 0, \"Date\": \"2020-03-14T00:00:00\"}, {\"hashtags\": \"coronavirus\", \"count\": 1, \"Count False Tweets\": 1, \"Count Partially False Tweets\": 0, \"Date\": \"2020-03-21T00:00:00\"}, {\"hashtags\": \"coronavirus\", \"count\": 1, \"Count False Tweets\": 1, \"Count Partially False Tweets\": 0, \"Date\": \"2020-03-02T00:00:00\"}, {\"hashtags\": \"coronavirus\", \"count\": 1, \"Count False Tweets\": 1, \"Count Partially False Tweets\": 0, \"Date\": \"2020-03-09T00:00:00\"}, {\"hashtags\": \"covid19\", \"count\": 1, \"Count False Tweets\": 0, \"Count Partially False Tweets\": 1, \"Date\": \"2020-03-08T00:00:00\"}, {\"hashtags\": \"coronavirus\", \"count\": 1, \"Count False Tweets\": 1, \"Count Partially False Tweets\": 0, \"Date\": \"2020-03-25T00:00:00\"}, {\"hashtags\": \"coronavirus\", \"count\": 1, \"Count False Tweets\": 1, \"Count Partially False Tweets\": 0, \"Date\": \"2020-03-20T00:00:00\"}, {\"hashtags\": \"coronavirus\", \"count\": 1, \"Count False Tweets\": 1, \"Count Partially False Tweets\": 0, \"Date\": \"2020-03-27T00:00:00\"}, {\"hashtags\": \"fake\", \"count\": 1, \"Count False Tweets\": 1, \"Count Partially False Tweets\": 0, \"Date\": \"2020-03-26T00:00:00\"}, {\"hashtags\": \"covid19\", \"count\": 1, \"Count False Tweets\": 0, \"Count Partially False Tweets\": 1, \"Date\": \"2020-02-26T00:00:00\"}, {\"hashtags\": \"covid19\", \"count\": 1, \"Count False Tweets\": 1, \"Count Partially False Tweets\": 0, \"Date\": \"2020-04-27T00:00:00\"}, {\"hashtags\": \"coronavirus\", \"count\": 1, \"Count False Tweets\": 1, \"Count Partially False Tweets\": 0, \"Date\": \"2020-04-27T00:00:00\"}, {\"hashtags\": \"fakenews\", \"count\": 1, \"Count False Tweets\": 1, \"Count Partially False Tweets\": 0, \"Date\": \"2020-04-27T00:00:00\"}, {\"hashtags\": \"covid19\", \"count\": 1, \"Count False Tweets\": 0, \"Count Partially False Tweets\": 1, \"Date\": \"2020-04-03T00:00:00\"}, {\"hashtags\": \"covid19\", \"count\": 1, \"Count False Tweets\": 1, \"Count Partially False Tweets\": 0, \"Date\": \"2020-02-28T00:00:00\"}, {\"hashtags\": \"coronavirus\", \"count\": 1, \"Count False Tweets\": 0, \"Count Partially False Tweets\": 1, \"Date\": \"2020-02-18T00:00:00\"}, {\"hashtags\": \"coronavirus\", \"count\": 1, \"Count False Tweets\": 0, \"Count Partially False Tweets\": 1, \"Date\": \"2020-06-18T00:00:00\"}, {\"hashtags\": \"covid19\", \"count\": 1, \"Count False Tweets\": 0, \"Count Partially False Tweets\": 1, \"Date\": \"2020-04-10T00:00:00\"}, {\"hashtags\": \"covid19\", \"count\": 1, \"Count False Tweets\": 0, \"Count Partially False Tweets\": 1, \"Date\": \"2020-03-02T00:00:00\"}, {\"hashtags\": \"coronavirus\", \"count\": 1, \"Count False Tweets\": 1, \"Count Partially False Tweets\": 0, \"Date\": \"2020-01-25T00:00:00\"}, {\"hashtags\": \"fakenews\", \"count\": 1, \"Count False Tweets\": 1, \"Count Partially False Tweets\": 0, \"Date\": \"2020-03-22T00:00:00\"}, {\"hashtags\": \"coronavirus\", \"count\": 1, \"Count False Tweets\": 0, \"Count Partially False Tweets\": 1, \"Date\": \"2020-02-20T00:00:00\"}, {\"hashtags\": \"coronavirus\", \"count\": 1, \"Count False Tweets\": 0, \"Count Partially False Tweets\": 1, \"Date\": \"2020-01-24T00:00:00\"}, {\"hashtags\": \"coronavirus\", \"count\": 1, \"Count False Tweets\": 0, \"Count Partially False Tweets\": 1, \"Date\": \"2020-04-07T00:00:00\"}, {\"hashtags\": \"coronavirus\", \"count\": 1, \"Count False Tweets\": 0, \"Count Partially False Tweets\": 1, \"Date\": \"2020-03-15T00:00:00\"}, {\"hashtags\": \"fakenews\", \"count\": 1, \"Count False Tweets\": 0, \"Count Partially False Tweets\": 1, \"Date\": \"2020-03-05T00:00:00\"}, {\"hashtags\": \"coronavirus\", \"count\": 1, \"Count False Tweets\": 0, \"Count Partially False Tweets\": 1, \"Date\": \"2020-01-25T00:00:00\"}, {\"hashtags\": \"coronavirus\", \"count\": 1, \"Count False Tweets\": 0, \"Count Partially False Tweets\": 1, \"Date\": \"2020-01-26T00:00:00\"}, {\"hashtags\": \"coronavirus\", \"count\": 1, \"Count False Tweets\": 1, \"Count Partially False Tweets\": 0, \"Date\": \"2020-03-05T00:00:00\"}, {\"hashtags\": \"coronavirus\", \"count\": 1, \"Count False Tweets\": 1, \"Count Partially False Tweets\": 0, \"Date\": \"2020-03-04T00:00:00\"}, {\"hashtags\": \"coronavirus\", \"count\": 1, \"Count False Tweets\": 1, \"Count Partially False Tweets\": 0, \"Date\": \"2020-02-29T00:00:00\"}, {\"hashtags\": \"covid19\", \"count\": 1, \"Count False Tweets\": 0, \"Count Partially False Tweets\": 1, \"Date\": \"2020-06-03T00:00:00\"}, {\"hashtags\": \"coronavirus\", \"count\": 1, \"Count False Tweets\": 0, \"Count Partially False Tweets\": 1, \"Date\": \"2020-02-09T00:00:00\"}, {\"hashtags\": \"coronavirus\", \"count\": 1, \"Count False Tweets\": 0, \"Count Partially False Tweets\": 1, \"Date\": \"2020-02-11T00:00:00\"}, {\"hashtags\": \"fakenews\", \"count\": 1, \"Count False Tweets\": 1, \"Count Partially False Tweets\": 0, \"Date\": \"2020-01-30T00:00:00\"}, {\"hashtags\": \"covid19\", \"count\": 1, \"Count False Tweets\": 1, \"Count Partially False Tweets\": 0, \"Date\": \"2020-08-20T00:00:00\"}, {\"hashtags\": \"covid19\", \"count\": 1, \"Count False Tweets\": 1, \"Count Partially False Tweets\": 0, \"Date\": \"2020-08-18T00:00:00\"}, {\"hashtags\": \"covid19\", \"count\": 1, \"Count False Tweets\": 1, \"Count Partially False Tweets\": 0, \"Date\": \"2020-07-13T00:00:00\"}, {\"hashtags\": \"covid19\", \"count\": 1, \"Count False Tweets\": 1, \"Count Partially False Tweets\": 0, \"Date\": \"2020-06-28T00:00:00\"}, {\"hashtags\": \"covid19\", \"count\": 1, \"Count False Tweets\": 1, \"Count Partially False Tweets\": 0, \"Date\": \"2020-05-13T00:00:00\"}, {\"hashtags\": \"covid19\", \"count\": 1, \"Count False Tweets\": 0, \"Count Partially False Tweets\": 1, \"Date\": \"2020-04-08T00:00:00\"}, {\"hashtags\": \"coronavirus\", \"count\": 1, \"Count False Tweets\": 1, \"Count Partially False Tweets\": 0, \"Date\": \"2020-03-29T00:00:00\"}, {\"hashtags\": \"covid19\", \"count\": 1, \"Count False Tweets\": 1, \"Count Partially False Tweets\": 0, \"Date\": \"2020-03-29T00:00:00\"}, {\"hashtags\": \"covid19\", \"count\": 1, \"Count False Tweets\": 0, \"Count Partially False Tweets\": 1, \"Date\": \"2020-02-18T00:00:00\"}, {\"hashtags\": \"fakenews\", \"count\": 1, \"Count False Tweets\": 1, \"Count Partially False Tweets\": 0, \"Date\": \"2020-03-19T00:00:00\"}, {\"hashtags\": \"covid19\", \"count\": 1, \"Count False Tweets\": 1, \"Count Partially False Tweets\": 0, \"Date\": \"2020-02-18T00:00:00\"}, {\"hashtags\": \"coronavirus\", \"count\": 1, \"Count False Tweets\": 0, \"Count Partially False Tweets\": 1, \"Date\": \"2020-03-09T00:00:00\"}, {\"hashtags\": \"covid19\", \"count\": 1, \"Count False Tweets\": 0, \"Count Partially False Tweets\": 1, \"Date\": \"2020-03-16T00:00:00\"}, {\"hashtags\": \"coronavirus\", \"count\": 1, \"Count False Tweets\": 1, \"Count Partially False Tweets\": 0, \"Date\": \"2020-04-06T00:00:00\"}, {\"hashtags\": \"covid19\", \"count\": 1, \"Count False Tweets\": 1, \"Count Partially False Tweets\": 0, \"Date\": \"2020-05-26T00:00:00\"}, {\"hashtags\": \"fakenews\", \"count\": 1, \"Count False Tweets\": 1, \"Count Partially False Tweets\": 0, \"Date\": \"2020-04-22T00:00:00\"}, {\"hashtags\": \"covid19\", \"count\": 1, \"Count False Tweets\": 0, \"Count Partially False Tweets\": 1, \"Date\": \"2020-08-03T00:00:00\"}, {\"hashtags\": \"fakenews\", \"count\": 1, \"Count False Tweets\": 1, \"Count Partially False Tweets\": 0, \"Date\": \"2020-05-14T00:00:00\"}, {\"hashtags\": \"pibfactcheck\", \"count\": 1, \"Count False Tweets\": 1, \"Count Partially False Tweets\": 0, \"Date\": \"2020-05-14T00:00:00\"}, {\"hashtags\": \"covid19\", \"count\": 1, \"Count False Tweets\": 1, \"Count Partially False Tweets\": 0, \"Date\": \"2020-05-07T00:00:00\"}, {\"hashtags\": \"coronavirus\", \"count\": 1, \"Count False Tweets\": 1, \"Count Partially False Tweets\": 0, \"Date\": \"2020-05-02T00:00:00\"}, {\"hashtags\": \"covid19\", \"count\": 1, \"Count False Tweets\": 1, \"Count Partially False Tweets\": 0, \"Date\": \"2020-04-29T00:00:00\"}, {\"hashtags\": \"coronavirus\", \"count\": 1, \"Count False Tweets\": 1, \"Count Partially False Tweets\": 0, \"Date\": \"2020-04-29T00:00:00\"}, {\"hashtags\": \"coronavirus\", \"count\": 1, \"Count False Tweets\": 1, \"Count Partially False Tweets\": 0, \"Date\": \"2020-04-07T00:00:00\"}, {\"hashtags\": \"covid19\", \"count\": 1, \"Count False Tweets\": 1, \"Count Partially False Tweets\": 0, \"Date\": \"2020-03-23T00:00:00\"}, {\"hashtags\": \"coronavirus\", \"count\": 1, \"Count False Tweets\": 0, \"Count Partially False Tweets\": 1, \"Date\": \"2020-01-14T00:00:00\"}, {\"hashtags\": \"covid19\", \"count\": 1, \"Count False Tweets\": 1, \"Count Partially False Tweets\": 0, \"Date\": \"2020-06-24T00:00:00\"}, {\"hashtags\": \"pibfactcheck\", \"count\": 1, \"Count False Tweets\": 0, \"Count Partially False Tweets\": 1, \"Date\": \"2020-05-12T00:00:00\"}, {\"hashtags\": \"covid19\", \"count\": 1, \"Count False Tweets\": 0, \"Count Partially False Tweets\": 1, \"Date\": \"2020-05-12T00:00:00\"}, {\"hashtags\": \"pibfactcheck\", \"count\": 1, \"Count False Tweets\": 1, \"Count Partially False Tweets\": 0, \"Date\": \"2020-04-08T00:00:00\"}, {\"hashtags\": \"fake\", \"count\": 1, \"Count False Tweets\": 1, \"Count Partially False Tweets\": 0, \"Date\": \"2020-04-08T00:00:00\"}, {\"hashtags\": \"covid19\", \"count\": 1, \"Count False Tweets\": 0, \"Count Partially False Tweets\": 1, \"Date\": \"2020-06-09T00:00:00\"}, {\"hashtags\": \"covid19\", \"count\": 1, \"Count False Tweets\": 1, \"Count Partially False Tweets\": 0, \"Date\": \"2020-06-05T00:00:00\"}, {\"hashtags\": \"coronavirus\", \"count\": 1, \"Count False Tweets\": 1, \"Count Partially False Tweets\": 0, \"Date\": \"2020-06-05T00:00:00\"}, {\"hashtags\": \"covid19\", \"count\": 1, \"Count False Tweets\": 1, \"Count Partially False Tweets\": 0, \"Date\": \"2020-05-29T00:00:00\"}, {\"hashtags\": \"covid19\", \"count\": 1, \"Count False Tweets\": 1, \"Count Partially False Tweets\": 0, \"Date\": \"2020-05-19T00:00:00\"}, {\"hashtags\": \"fakenews\", \"count\": 1, \"Count False Tweets\": 1, \"Count Partially False Tweets\": 0, \"Date\": \"2020-06-14T00:00:00\"}, {\"hashtags\": \"covid19\", \"count\": 1, \"Count False Tweets\": 1, \"Count Partially False Tweets\": 0, \"Date\": \"2020-06-14T00:00:00\"}, {\"hashtags\": \"covid19\", \"count\": 1, \"Count False Tweets\": 1, \"Count Partially False Tweets\": 0, \"Date\": \"2020-06-09T00:00:00\"}, {\"hashtags\": \"covid19\", \"count\": 1, \"Count False Tweets\": 0, \"Count Partially False Tweets\": 1, \"Date\": \"2020-06-08T00:00:00\"}, {\"hashtags\": \"covid19\", \"count\": 1, \"Count False Tweets\": 1, \"Count Partially False Tweets\": 0, \"Date\": \"2020-05-27T00:00:00\"}, {\"hashtags\": \"covid19\", \"count\": 1, \"Count False Tweets\": 0, \"Count Partially False Tweets\": 1, \"Date\": \"2020-05-26T00:00:00\"}, {\"hashtags\": \"coronavirus\", \"count\": 1, \"Count False Tweets\": 1, \"Count Partially False Tweets\": 0, \"Date\": \"2020-05-10T00:00:00\"}, {\"hashtags\": \"covid19\", \"count\": 1, \"Count False Tweets\": 0, \"Count Partially False Tweets\": 1, \"Date\": \"2020-03-04T00:00:00\"}, {\"hashtags\": \"covid19\", \"count\": 1, \"Count False Tweets\": 1, \"Count Partially False Tweets\": 0, \"Date\": \"2020-02-16T00:00:00\"}, {\"hashtags\": \"covid19\", \"count\": 1, \"Count False Tweets\": 1, \"Count Partially False Tweets\": 0, \"Date\": \"2020-08-04T00:00:00\"}, {\"hashtags\": \"covid19\", \"count\": 1, \"Count False Tweets\": 1, \"Count Partially False Tweets\": 0, \"Date\": \"2020-04-24T00:00:00\"}, {\"hashtags\": \"pibfactcheck\", \"count\": 1, \"Count False Tweets\": 0, \"Count Partially False Tweets\": 1, \"Date\": \"2020-03-30T00:00:00\"}, {\"hashtags\": \"pibfactcheck\", \"count\": 1, \"Count False Tweets\": 1, \"Count Partially False Tweets\": 0, \"Date\": \"2020-04-26T00:00:00\"}, {\"hashtags\": \"coronavirus\", \"count\": 1, \"Count False Tweets\": 1, \"Count Partially False Tweets\": 0, \"Date\": \"2020-03-18T00:00:00\"}, {\"hashtags\": \"coronavirus\", \"count\": 1, \"Count False Tweets\": 1, \"Count Partially False Tweets\": 0, \"Date\": \"2020-07-24T00:00:00\"}, {\"hashtags\": \"coronavirus\", \"count\": 1, \"Count False Tweets\": 1, \"Count Partially False Tweets\": 0, \"Date\": \"2020-04-08T00:00:00\"}, {\"hashtags\": \"coronavirus\", \"count\": 1, \"Count False Tweets\": 1, \"Count Partially False Tweets\": 0, \"Date\": \"2020-04-05T00:00:00\"}, {\"hashtags\": \"fake\", \"count\": 1, \"Count False Tweets\": 1, \"Count Partially False Tweets\": 0, \"Date\": \"2020-03-30T00:00:00\"}, {\"hashtags\": \"covid19\", \"count\": 1, \"Count False Tweets\": 1, \"Count Partially False Tweets\": 0, \"Date\": \"2020-03-25T00:00:00\"}, {\"hashtags\": \"coronavirus\", \"count\": 1, \"Count False Tweets\": 1, \"Count Partially False Tweets\": 0, \"Date\": \"2020-03-15T00:00:00\"}, {\"hashtags\": \"coronavirus\", \"count\": 1, \"Count False Tweets\": 1, \"Count Partially False Tweets\": 0, \"Date\": \"2020-04-13T00:00:00\"}, {\"hashtags\": \"covid19\", \"count\": 1, \"Count False Tweets\": 1, \"Count Partially False Tweets\": 0, \"Date\": \"2020-04-13T00:00:00\"}, {\"hashtags\": \"coronavirus\", \"count\": 1, \"Count False Tweets\": 1, \"Count Partially False Tweets\": 0, \"Date\": \"2020-04-09T00:00:00\"}, {\"hashtags\": \"covid19\", \"count\": 1, \"Count False Tweets\": 1, \"Count Partially False Tweets\": 0, \"Date\": \"2020-02-15T00:00:00\"}, {\"hashtags\": \"fake\", \"count\": 1, \"Count False Tweets\": 1, \"Count Partially False Tweets\": 0, \"Date\": \"2020-04-05T00:00:00\"}, {\"hashtags\": \"pibfactcheck\", \"count\": 1, \"Count False Tweets\": 1, \"Count Partially False Tweets\": 0, \"Date\": \"2020-04-05T00:00:00\"}, {\"hashtags\": \"pibfactcheck\", \"count\": 1, \"Count False Tweets\": 1, \"Count Partially False Tweets\": 0, \"Date\": \"2020-04-02T00:00:00\"}, {\"hashtags\": \"coronavirus\", \"count\": 1, \"Count False Tweets\": 1, \"Count Partially False Tweets\": 0, \"Date\": \"2020-03-28T00:00:00\"}, {\"hashtags\": \"covid19\", \"count\": 1, \"Count False Tweets\": 0, \"Count Partially False Tweets\": 1, \"Date\": \"2020-03-22T00:00:00\"}, {\"hashtags\": \"coronavirus\", \"count\": 1, \"Count False Tweets\": 1, \"Count Partially False Tweets\": 0, \"Date\": \"2020-04-23T00:00:00\"}, {\"hashtags\": \"covid19\", \"count\": 1, \"Count False Tweets\": 1, \"Count Partially False Tweets\": 0, \"Date\": \"2020-04-21T00:00:00\"}, {\"hashtags\": \"coronavirus\", \"count\": 1, \"Count False Tweets\": 1, \"Count Partially False Tweets\": 0, \"Date\": \"2020-04-21T00:00:00\"}, {\"hashtags\": \"covid19\", \"count\": 1, \"Count False Tweets\": 1, \"Count Partially False Tweets\": 0, \"Date\": \"2020-04-20T00:00:00\"}, {\"hashtags\": \"coronavirus\", \"count\": 1, \"Count False Tweets\": 1, \"Count Partially False Tweets\": 0, \"Date\": \"2020-04-10T00:00:00\"}, {\"hashtags\": \"covid19\", \"count\": 1, \"Count False Tweets\": 1, \"Count Partially False Tweets\": 0, \"Date\": \"2020-04-10T00:00:00\"}, {\"hashtags\": \"covid19\", \"count\": 1, \"Count False Tweets\": 0, \"Count Partially False Tweets\": 1, \"Date\": \"2020-03-28T00:00:00\"}, {\"hashtags\": \"coronavirus\", \"count\": 1, \"Count False Tweets\": 0, \"Count Partially False Tweets\": 1, \"Date\": \"2020-01-19T00:00:00\"}, {\"hashtags\": \"coronavirus\", \"count\": 1, \"Count False Tweets\": 1, \"Count Partially False Tweets\": 0, \"Date\": \"2020-06-03T00:00:00\"}, {\"hashtags\": \"fake\", \"count\": 1, \"Count False Tweets\": 1, \"Count Partially False Tweets\": 0, \"Date\": \"2020-05-08T00:00:00\"}, {\"hashtags\": \"pibfactcheck\", \"count\": 1, \"Count False Tweets\": 1, \"Count Partially False Tweets\": 0, \"Date\": \"2020-05-08T00:00:00\"}, {\"hashtags\": \"covid19\", \"count\": 1, \"Count False Tweets\": 1, \"Count Partially False Tweets\": 0, \"Date\": \"2020-04-28T00:00:00\"}, {\"hashtags\": \"covid19\", \"count\": 1, \"Count False Tweets\": 1, \"Count Partially False Tweets\": 0, \"Date\": \"2020-04-26T00:00:00\"}, {\"hashtags\": \"coronavirus\", \"count\": 1, \"Count False Tweets\": 0, \"Count Partially False Tweets\": 1, \"Date\": \"2020-04-04T00:00:00\"}]}}, {\"mode\": \"vega-lite\"});\n",
       "</script>"
      ],
      "text/plain": [
       "alt.Chart(...)"
      ]
     },
     "execution_count": 5,
     "metadata": {},
     "output_type": "execute_result"
    }
   ],
   "source": [
    "\n",
    "\n"
   ]
  },
  {
   "cell_type": "code",
   "execution_count": 42,
   "id": "funded-decision",
   "metadata": {},
   "outputs": [
    {
     "data": {
      "application/vnd.plotly.v1+json": {
       "config": {
        "plotlyServerURL": "https://plot.ly"
       },
       "data": [
        {
         "hovertemplate": "hashtags=covid19<br>Count False Tweets=%{r}<br>Date=%{theta}<extra></extra>",
         "legendgroup": "covid19",
         "marker": {
          "color": "#4477AA"
         },
         "name": "covid19",
         "r": [
          3,
          0,
          1,
          0,
          7,
          0,
          15,
          30,
          0,
          0,
          44,
          6,
          0
         ],
         "showlegend": true,
         "subplot": "polar",
         "theta": [
          "2020/08",
          "2020/08",
          "2020/07",
          "2020/06",
          "2020/06",
          "2020/05",
          "2020/05",
          "2020/04",
          "2020/04",
          "2020/03",
          "2020/03",
          "2020/02",
          "2020/02"
         ],
         "type": "barpolar"
        },
        {
         "hovertemplate": "hashtags=coronavirus<br>Count False Tweets=%{r}<br>Date=%{theta}<extra></extra>",
         "legendgroup": "coronavirus",
         "marker": {
          "color": "#66CCEE"
         },
         "name": "coronavirus",
         "r": [
          1,
          0,
          2,
          2,
          16,
          0,
          33,
          0,
          0,
          5,
          0,
          9
         ],
         "showlegend": true,
         "subplot": "polar",
         "theta": [
          "2020/07",
          "2020/06",
          "2020/06",
          "2020/05",
          "2020/04",
          "2020/04",
          "2020/03",
          "2020/03",
          "2020/02",
          "2020/02",
          "2020/01",
          "2020/01"
         ],
         "type": "barpolar"
        },
        {
         "hovertemplate": "hashtags=fakenews<br>Count False Tweets=%{r}<br>Date=%{theta}<extra></extra>",
         "legendgroup": "fakenews",
         "marker": {
          "color": "#228833"
         },
         "name": "fakenews",
         "r": [
          1,
          1,
          2,
          0,
          4,
          1
         ],
         "showlegend": true,
         "subplot": "polar",
         "theta": [
          "2020/06",
          "2020/05",
          "2020/04",
          "2020/03",
          "2020/03",
          "2020/01"
         ],
         "type": "barpolar"
        },
        {
         "hovertemplate": "hashtags=pibfactcheck<br>Count False Tweets=%{r}<br>Date=%{theta}<extra></extra>",
         "legendgroup": "pibfactcheck",
         "marker": {
          "color": "#CCBB44"
         },
         "name": "pibfactcheck",
         "r": [
          2,
          0,
          4,
          0,
          2
         ],
         "showlegend": true,
         "subplot": "polar",
         "theta": [
          "2020/05",
          "2020/05",
          "2020/04",
          "2020/03",
          "2020/03"
         ],
         "type": "barpolar"
        },
        {
         "hovertemplate": "hashtags=fake<br>Count False Tweets=%{r}<br>Date=%{theta}<extra></extra>",
         "legendgroup": "fake",
         "marker": {
          "color": "#EE6677"
         },
         "name": "fake",
         "r": [
          0,
          1,
          2,
          2
         ],
         "showlegend": true,
         "subplot": "polar",
         "theta": [
          "2020/05",
          "2020/05",
          "2020/04",
          "2020/03"
         ],
         "type": "barpolar"
        }
       ],
       "layout": {
        "barmode": "relative",
        "font": {
         "size": 15
        },
        "legend": {
         "font": {
          "size": 15
         },
         "title": {
          "text": "hashtags"
         },
         "tracegroupgap": 0
        },
        "margin": {
         "t": 60
        },
        "polar": {
         "angularaxis": {
          "direction": "clockwise",
          "rotation": 90
         },
         "domain": {
          "x": [
           0,
           1
          ],
          "y": [
           0,
           1
          ]
         }
        },
        "template": {
         "data": {
          "bar": [
           {
            "error_x": {
             "color": "#2a3f5f"
            },
            "error_y": {
             "color": "#2a3f5f"
            },
            "marker": {
             "line": {
              "color": "white",
              "width": 0.5
             }
            },
            "type": "bar"
           }
          ],
          "barpolar": [
           {
            "marker": {
             "line": {
              "color": "white",
              "width": 0.5
             }
            },
            "type": "barpolar"
           }
          ],
          "carpet": [
           {
            "aaxis": {
             "endlinecolor": "#2a3f5f",
             "gridcolor": "#C8D4E3",
             "linecolor": "#C8D4E3",
             "minorgridcolor": "#C8D4E3",
             "startlinecolor": "#2a3f5f"
            },
            "baxis": {
             "endlinecolor": "#2a3f5f",
             "gridcolor": "#C8D4E3",
             "linecolor": "#C8D4E3",
             "minorgridcolor": "#C8D4E3",
             "startlinecolor": "#2a3f5f"
            },
            "type": "carpet"
           }
          ],
          "choropleth": [
           {
            "colorbar": {
             "outlinewidth": 0,
             "ticks": ""
            },
            "type": "choropleth"
           }
          ],
          "contour": [
           {
            "colorbar": {
             "outlinewidth": 0,
             "ticks": ""
            },
            "colorscale": [
             [
              0,
              "#0d0887"
             ],
             [
              0.1111111111111111,
              "#46039f"
             ],
             [
              0.2222222222222222,
              "#7201a8"
             ],
             [
              0.3333333333333333,
              "#9c179e"
             ],
             [
              0.4444444444444444,
              "#bd3786"
             ],
             [
              0.5555555555555556,
              "#d8576b"
             ],
             [
              0.6666666666666666,
              "#ed7953"
             ],
             [
              0.7777777777777778,
              "#fb9f3a"
             ],
             [
              0.8888888888888888,
              "#fdca26"
             ],
             [
              1,
              "#f0f921"
             ]
            ],
            "type": "contour"
           }
          ],
          "contourcarpet": [
           {
            "colorbar": {
             "outlinewidth": 0,
             "ticks": ""
            },
            "type": "contourcarpet"
           }
          ],
          "heatmap": [
           {
            "colorbar": {
             "outlinewidth": 0,
             "ticks": ""
            },
            "colorscale": [
             [
              0,
              "#0d0887"
             ],
             [
              0.1111111111111111,
              "#46039f"
             ],
             [
              0.2222222222222222,
              "#7201a8"
             ],
             [
              0.3333333333333333,
              "#9c179e"
             ],
             [
              0.4444444444444444,
              "#bd3786"
             ],
             [
              0.5555555555555556,
              "#d8576b"
             ],
             [
              0.6666666666666666,
              "#ed7953"
             ],
             [
              0.7777777777777778,
              "#fb9f3a"
             ],
             [
              0.8888888888888888,
              "#fdca26"
             ],
             [
              1,
              "#f0f921"
             ]
            ],
            "type": "heatmap"
           }
          ],
          "heatmapgl": [
           {
            "colorbar": {
             "outlinewidth": 0,
             "ticks": ""
            },
            "colorscale": [
             [
              0,
              "#0d0887"
             ],
             [
              0.1111111111111111,
              "#46039f"
             ],
             [
              0.2222222222222222,
              "#7201a8"
             ],
             [
              0.3333333333333333,
              "#9c179e"
             ],
             [
              0.4444444444444444,
              "#bd3786"
             ],
             [
              0.5555555555555556,
              "#d8576b"
             ],
             [
              0.6666666666666666,
              "#ed7953"
             ],
             [
              0.7777777777777778,
              "#fb9f3a"
             ],
             [
              0.8888888888888888,
              "#fdca26"
             ],
             [
              1,
              "#f0f921"
             ]
            ],
            "type": "heatmapgl"
           }
          ],
          "histogram": [
           {
            "marker": {
             "colorbar": {
              "outlinewidth": 0,
              "ticks": ""
             }
            },
            "type": "histogram"
           }
          ],
          "histogram2d": [
           {
            "colorbar": {
             "outlinewidth": 0,
             "ticks": ""
            },
            "colorscale": [
             [
              0,
              "#0d0887"
             ],
             [
              0.1111111111111111,
              "#46039f"
             ],
             [
              0.2222222222222222,
              "#7201a8"
             ],
             [
              0.3333333333333333,
              "#9c179e"
             ],
             [
              0.4444444444444444,
              "#bd3786"
             ],
             [
              0.5555555555555556,
              "#d8576b"
             ],
             [
              0.6666666666666666,
              "#ed7953"
             ],
             [
              0.7777777777777778,
              "#fb9f3a"
             ],
             [
              0.8888888888888888,
              "#fdca26"
             ],
             [
              1,
              "#f0f921"
             ]
            ],
            "type": "histogram2d"
           }
          ],
          "histogram2dcontour": [
           {
            "colorbar": {
             "outlinewidth": 0,
             "ticks": ""
            },
            "colorscale": [
             [
              0,
              "#0d0887"
             ],
             [
              0.1111111111111111,
              "#46039f"
             ],
             [
              0.2222222222222222,
              "#7201a8"
             ],
             [
              0.3333333333333333,
              "#9c179e"
             ],
             [
              0.4444444444444444,
              "#bd3786"
             ],
             [
              0.5555555555555556,
              "#d8576b"
             ],
             [
              0.6666666666666666,
              "#ed7953"
             ],
             [
              0.7777777777777778,
              "#fb9f3a"
             ],
             [
              0.8888888888888888,
              "#fdca26"
             ],
             [
              1,
              "#f0f921"
             ]
            ],
            "type": "histogram2dcontour"
           }
          ],
          "mesh3d": [
           {
            "colorbar": {
             "outlinewidth": 0,
             "ticks": ""
            },
            "type": "mesh3d"
           }
          ],
          "parcoords": [
           {
            "line": {
             "colorbar": {
              "outlinewidth": 0,
              "ticks": ""
             }
            },
            "type": "parcoords"
           }
          ],
          "pie": [
           {
            "automargin": true,
            "type": "pie"
           }
          ],
          "scatter": [
           {
            "marker": {
             "colorbar": {
              "outlinewidth": 0,
              "ticks": ""
             }
            },
            "type": "scatter"
           }
          ],
          "scatter3d": [
           {
            "line": {
             "colorbar": {
              "outlinewidth": 0,
              "ticks": ""
             }
            },
            "marker": {
             "colorbar": {
              "outlinewidth": 0,
              "ticks": ""
             }
            },
            "type": "scatter3d"
           }
          ],
          "scattercarpet": [
           {
            "marker": {
             "colorbar": {
              "outlinewidth": 0,
              "ticks": ""
             }
            },
            "type": "scattercarpet"
           }
          ],
          "scattergeo": [
           {
            "marker": {
             "colorbar": {
              "outlinewidth": 0,
              "ticks": ""
             }
            },
            "type": "scattergeo"
           }
          ],
          "scattergl": [
           {
            "marker": {
             "colorbar": {
              "outlinewidth": 0,
              "ticks": ""
             }
            },
            "type": "scattergl"
           }
          ],
          "scattermapbox": [
           {
            "marker": {
             "colorbar": {
              "outlinewidth": 0,
              "ticks": ""
             }
            },
            "type": "scattermapbox"
           }
          ],
          "scatterpolar": [
           {
            "marker": {
             "colorbar": {
              "outlinewidth": 0,
              "ticks": ""
             }
            },
            "type": "scatterpolar"
           }
          ],
          "scatterpolargl": [
           {
            "marker": {
             "colorbar": {
              "outlinewidth": 0,
              "ticks": ""
             }
            },
            "type": "scatterpolargl"
           }
          ],
          "scatterternary": [
           {
            "marker": {
             "colorbar": {
              "outlinewidth": 0,
              "ticks": ""
             }
            },
            "type": "scatterternary"
           }
          ],
          "surface": [
           {
            "colorbar": {
             "outlinewidth": 0,
             "ticks": ""
            },
            "colorscale": [
             [
              0,
              "#0d0887"
             ],
             [
              0.1111111111111111,
              "#46039f"
             ],
             [
              0.2222222222222222,
              "#7201a8"
             ],
             [
              0.3333333333333333,
              "#9c179e"
             ],
             [
              0.4444444444444444,
              "#bd3786"
             ],
             [
              0.5555555555555556,
              "#d8576b"
             ],
             [
              0.6666666666666666,
              "#ed7953"
             ],
             [
              0.7777777777777778,
              "#fb9f3a"
             ],
             [
              0.8888888888888888,
              "#fdca26"
             ],
             [
              1,
              "#f0f921"
             ]
            ],
            "type": "surface"
           }
          ],
          "table": [
           {
            "cells": {
             "fill": {
              "color": "#EBF0F8"
             },
             "line": {
              "color": "white"
             }
            },
            "header": {
             "fill": {
              "color": "#C8D4E3"
             },
             "line": {
              "color": "white"
             }
            },
            "type": "table"
           }
          ]
         },
         "layout": {
          "annotationdefaults": {
           "arrowcolor": "#2a3f5f",
           "arrowhead": 0,
           "arrowwidth": 1
          },
          "autotypenumbers": "strict",
          "coloraxis": {
           "colorbar": {
            "outlinewidth": 0,
            "ticks": ""
           }
          },
          "colorscale": {
           "diverging": [
            [
             0,
             "#8e0152"
            ],
            [
             0.1,
             "#c51b7d"
            ],
            [
             0.2,
             "#de77ae"
            ],
            [
             0.3,
             "#f1b6da"
            ],
            [
             0.4,
             "#fde0ef"
            ],
            [
             0.5,
             "#f7f7f7"
            ],
            [
             0.6,
             "#e6f5d0"
            ],
            [
             0.7,
             "#b8e186"
            ],
            [
             0.8,
             "#7fbc41"
            ],
            [
             0.9,
             "#4d9221"
            ],
            [
             1,
             "#276419"
            ]
           ],
           "sequential": [
            [
             0,
             "#0d0887"
            ],
            [
             0.1111111111111111,
             "#46039f"
            ],
            [
             0.2222222222222222,
             "#7201a8"
            ],
            [
             0.3333333333333333,
             "#9c179e"
            ],
            [
             0.4444444444444444,
             "#bd3786"
            ],
            [
             0.5555555555555556,
             "#d8576b"
            ],
            [
             0.6666666666666666,
             "#ed7953"
            ],
            [
             0.7777777777777778,
             "#fb9f3a"
            ],
            [
             0.8888888888888888,
             "#fdca26"
            ],
            [
             1,
             "#f0f921"
            ]
           ],
           "sequentialminus": [
            [
             0,
             "#0d0887"
            ],
            [
             0.1111111111111111,
             "#46039f"
            ],
            [
             0.2222222222222222,
             "#7201a8"
            ],
            [
             0.3333333333333333,
             "#9c179e"
            ],
            [
             0.4444444444444444,
             "#bd3786"
            ],
            [
             0.5555555555555556,
             "#d8576b"
            ],
            [
             0.6666666666666666,
             "#ed7953"
            ],
            [
             0.7777777777777778,
             "#fb9f3a"
            ],
            [
             0.8888888888888888,
             "#fdca26"
            ],
            [
             1,
             "#f0f921"
            ]
           ]
          },
          "colorway": [
           "#636efa",
           "#EF553B",
           "#00cc96",
           "#ab63fa",
           "#FFA15A",
           "#19d3f3",
           "#FF6692",
           "#B6E880",
           "#FF97FF",
           "#FECB52"
          ],
          "font": {
           "color": "#2a3f5f"
          },
          "geo": {
           "bgcolor": "white",
           "lakecolor": "white",
           "landcolor": "white",
           "showlakes": true,
           "showland": true,
           "subunitcolor": "#C8D4E3"
          },
          "hoverlabel": {
           "align": "left"
          },
          "hovermode": "closest",
          "mapbox": {
           "style": "light"
          },
          "paper_bgcolor": "white",
          "plot_bgcolor": "white",
          "polar": {
           "angularaxis": {
            "gridcolor": "#EBF0F8",
            "linecolor": "#EBF0F8",
            "ticks": ""
           },
           "bgcolor": "white",
           "radialaxis": {
            "gridcolor": "#EBF0F8",
            "linecolor": "#EBF0F8",
            "ticks": ""
           }
          },
          "scene": {
           "xaxis": {
            "backgroundcolor": "white",
            "gridcolor": "#DFE8F3",
            "gridwidth": 2,
            "linecolor": "#EBF0F8",
            "showbackground": true,
            "ticks": "",
            "zerolinecolor": "#EBF0F8"
           },
           "yaxis": {
            "backgroundcolor": "white",
            "gridcolor": "#DFE8F3",
            "gridwidth": 2,
            "linecolor": "#EBF0F8",
            "showbackground": true,
            "ticks": "",
            "zerolinecolor": "#EBF0F8"
           },
           "zaxis": {
            "backgroundcolor": "white",
            "gridcolor": "#DFE8F3",
            "gridwidth": 2,
            "linecolor": "#EBF0F8",
            "showbackground": true,
            "ticks": "",
            "zerolinecolor": "#EBF0F8"
           }
          },
          "shapedefaults": {
           "line": {
            "color": "#2a3f5f"
           }
          },
          "ternary": {
           "aaxis": {
            "gridcolor": "#DFE8F3",
            "linecolor": "#A2B1C6",
            "ticks": ""
           },
           "baxis": {
            "gridcolor": "#DFE8F3",
            "linecolor": "#A2B1C6",
            "ticks": ""
           },
           "bgcolor": "white",
           "caxis": {
            "gridcolor": "#DFE8F3",
            "linecolor": "#A2B1C6",
            "ticks": ""
           }
          },
          "title": {
           "x": 0.05
          },
          "xaxis": {
           "automargin": true,
           "gridcolor": "#EBF0F8",
           "linecolor": "#EBF0F8",
           "ticks": "",
           "title": {
            "standoff": 15
           },
           "zerolinecolor": "#EBF0F8",
           "zerolinewidth": 2
          },
          "yaxis": {
           "automargin": true,
           "gridcolor": "#EBF0F8",
           "linecolor": "#EBF0F8",
           "ticks": "",
           "title": {
            "standoff": 15
           },
           "zerolinecolor": "#EBF0F8",
           "zerolinewidth": 2
          }
         }
        },
        "title": {
         "text": "Fake Hashtag"
        }
       }
      },
      "text/html": [
       "<div>                            <div id=\"f04edc44-2578-4df1-b9f5-c7bf4cb602a0\" class=\"plotly-graph-div\" style=\"height:525px; width:100%;\"></div>            <script type=\"text/javascript\">                require([\"plotly\"], function(Plotly) {                    window.PLOTLYENV=window.PLOTLYENV || {};                                    if (document.getElementById(\"f04edc44-2578-4df1-b9f5-c7bf4cb602a0\")) {                    Plotly.newPlot(                        \"f04edc44-2578-4df1-b9f5-c7bf4cb602a0\",                        [{\"hovertemplate\": \"hashtags=covid19<br>Count False Tweets=%{r}<br>Date=%{theta}<extra></extra>\", \"legendgroup\": \"covid19\", \"marker\": {\"color\": \"#4477AA\"}, \"name\": \"covid19\", \"r\": [3, 0, 1, 0, 7, 0, 15, 30, 0, 0, 44, 6, 0], \"showlegend\": true, \"subplot\": \"polar\", \"theta\": [\"2020/08\", \"2020/08\", \"2020/07\", \"2020/06\", \"2020/06\", \"2020/05\", \"2020/05\", \"2020/04\", \"2020/04\", \"2020/03\", \"2020/03\", \"2020/02\", \"2020/02\"], \"type\": \"barpolar\"}, {\"hovertemplate\": \"hashtags=coronavirus<br>Count False Tweets=%{r}<br>Date=%{theta}<extra></extra>\", \"legendgroup\": \"coronavirus\", \"marker\": {\"color\": \"#66CCEE\"}, \"name\": \"coronavirus\", \"r\": [1, 0, 2, 2, 16, 0, 33, 0, 0, 5, 0, 9], \"showlegend\": true, \"subplot\": \"polar\", \"theta\": [\"2020/07\", \"2020/06\", \"2020/06\", \"2020/05\", \"2020/04\", \"2020/04\", \"2020/03\", \"2020/03\", \"2020/02\", \"2020/02\", \"2020/01\", \"2020/01\"], \"type\": \"barpolar\"}, {\"hovertemplate\": \"hashtags=fakenews<br>Count False Tweets=%{r}<br>Date=%{theta}<extra></extra>\", \"legendgroup\": \"fakenews\", \"marker\": {\"color\": \"#228833\"}, \"name\": \"fakenews\", \"r\": [1, 1, 2, 0, 4, 1], \"showlegend\": true, \"subplot\": \"polar\", \"theta\": [\"2020/06\", \"2020/05\", \"2020/04\", \"2020/03\", \"2020/03\", \"2020/01\"], \"type\": \"barpolar\"}, {\"hovertemplate\": \"hashtags=pibfactcheck<br>Count False Tweets=%{r}<br>Date=%{theta}<extra></extra>\", \"legendgroup\": \"pibfactcheck\", \"marker\": {\"color\": \"#CCBB44\"}, \"name\": \"pibfactcheck\", \"r\": [2, 0, 4, 0, 2], \"showlegend\": true, \"subplot\": \"polar\", \"theta\": [\"2020/05\", \"2020/05\", \"2020/04\", \"2020/03\", \"2020/03\"], \"type\": \"barpolar\"}, {\"hovertemplate\": \"hashtags=fake<br>Count False Tweets=%{r}<br>Date=%{theta}<extra></extra>\", \"legendgroup\": \"fake\", \"marker\": {\"color\": \"#EE6677\"}, \"name\": \"fake\", \"r\": [0, 1, 2, 2], \"showlegend\": true, \"subplot\": \"polar\", \"theta\": [\"2020/05\", \"2020/05\", \"2020/04\", \"2020/03\"], \"type\": \"barpolar\"}],                        {\"barmode\": \"relative\", \"font\": {\"size\": 15}, \"legend\": {\"font\": {\"size\": 15}, \"title\": {\"text\": \"hashtags\"}, \"tracegroupgap\": 0}, \"margin\": {\"t\": 60}, \"polar\": {\"angularaxis\": {\"direction\": \"clockwise\", \"rotation\": 90}, \"domain\": {\"x\": [0.0, 1.0], \"y\": [0.0, 1.0]}}, \"template\": {\"data\": {\"bar\": [{\"error_x\": {\"color\": \"#2a3f5f\"}, \"error_y\": {\"color\": \"#2a3f5f\"}, \"marker\": {\"line\": {\"color\": \"white\", \"width\": 0.5}}, \"type\": \"bar\"}], \"barpolar\": [{\"marker\": {\"line\": {\"color\": \"white\", \"width\": 0.5}}, \"type\": \"barpolar\"}], \"carpet\": [{\"aaxis\": {\"endlinecolor\": \"#2a3f5f\", \"gridcolor\": \"#C8D4E3\", \"linecolor\": \"#C8D4E3\", \"minorgridcolor\": \"#C8D4E3\", \"startlinecolor\": \"#2a3f5f\"}, \"baxis\": {\"endlinecolor\": \"#2a3f5f\", \"gridcolor\": \"#C8D4E3\", \"linecolor\": \"#C8D4E3\", \"minorgridcolor\": \"#C8D4E3\", \"startlinecolor\": \"#2a3f5f\"}, \"type\": \"carpet\"}], \"choropleth\": [{\"colorbar\": {\"outlinewidth\": 0, \"ticks\": \"\"}, \"type\": \"choropleth\"}], \"contour\": [{\"colorbar\": {\"outlinewidth\": 0, \"ticks\": \"\"}, \"colorscale\": [[0.0, \"#0d0887\"], [0.1111111111111111, \"#46039f\"], [0.2222222222222222, \"#7201a8\"], [0.3333333333333333, \"#9c179e\"], [0.4444444444444444, \"#bd3786\"], [0.5555555555555556, \"#d8576b\"], [0.6666666666666666, \"#ed7953\"], [0.7777777777777778, \"#fb9f3a\"], [0.8888888888888888, \"#fdca26\"], [1.0, \"#f0f921\"]], \"type\": \"contour\"}], \"contourcarpet\": [{\"colorbar\": {\"outlinewidth\": 0, \"ticks\": \"\"}, \"type\": \"contourcarpet\"}], \"heatmap\": [{\"colorbar\": {\"outlinewidth\": 0, \"ticks\": \"\"}, \"colorscale\": [[0.0, \"#0d0887\"], [0.1111111111111111, \"#46039f\"], [0.2222222222222222, \"#7201a8\"], [0.3333333333333333, \"#9c179e\"], [0.4444444444444444, \"#bd3786\"], [0.5555555555555556, \"#d8576b\"], [0.6666666666666666, \"#ed7953\"], [0.7777777777777778, \"#fb9f3a\"], [0.8888888888888888, \"#fdca26\"], [1.0, \"#f0f921\"]], \"type\": \"heatmap\"}], \"heatmapgl\": [{\"colorbar\": {\"outlinewidth\": 0, \"ticks\": \"\"}, \"colorscale\": [[0.0, \"#0d0887\"], [0.1111111111111111, \"#46039f\"], [0.2222222222222222, \"#7201a8\"], [0.3333333333333333, \"#9c179e\"], [0.4444444444444444, \"#bd3786\"], [0.5555555555555556, \"#d8576b\"], [0.6666666666666666, \"#ed7953\"], [0.7777777777777778, \"#fb9f3a\"], [0.8888888888888888, \"#fdca26\"], [1.0, \"#f0f921\"]], \"type\": \"heatmapgl\"}], \"histogram\": [{\"marker\": {\"colorbar\": {\"outlinewidth\": 0, \"ticks\": \"\"}}, \"type\": \"histogram\"}], \"histogram2d\": [{\"colorbar\": {\"outlinewidth\": 0, \"ticks\": \"\"}, \"colorscale\": [[0.0, \"#0d0887\"], [0.1111111111111111, \"#46039f\"], [0.2222222222222222, \"#7201a8\"], [0.3333333333333333, \"#9c179e\"], [0.4444444444444444, \"#bd3786\"], [0.5555555555555556, \"#d8576b\"], [0.6666666666666666, \"#ed7953\"], [0.7777777777777778, \"#fb9f3a\"], [0.8888888888888888, \"#fdca26\"], [1.0, \"#f0f921\"]], \"type\": \"histogram2d\"}], \"histogram2dcontour\": [{\"colorbar\": {\"outlinewidth\": 0, \"ticks\": \"\"}, \"colorscale\": [[0.0, \"#0d0887\"], [0.1111111111111111, \"#46039f\"], [0.2222222222222222, \"#7201a8\"], [0.3333333333333333, \"#9c179e\"], [0.4444444444444444, \"#bd3786\"], [0.5555555555555556, \"#d8576b\"], [0.6666666666666666, \"#ed7953\"], [0.7777777777777778, \"#fb9f3a\"], [0.8888888888888888, \"#fdca26\"], [1.0, \"#f0f921\"]], \"type\": \"histogram2dcontour\"}], \"mesh3d\": [{\"colorbar\": {\"outlinewidth\": 0, \"ticks\": \"\"}, \"type\": \"mesh3d\"}], \"parcoords\": [{\"line\": {\"colorbar\": {\"outlinewidth\": 0, \"ticks\": \"\"}}, \"type\": \"parcoords\"}], \"pie\": [{\"automargin\": true, \"type\": \"pie\"}], \"scatter\": [{\"marker\": {\"colorbar\": {\"outlinewidth\": 0, \"ticks\": \"\"}}, \"type\": \"scatter\"}], \"scatter3d\": [{\"line\": {\"colorbar\": {\"outlinewidth\": 0, \"ticks\": \"\"}}, \"marker\": {\"colorbar\": {\"outlinewidth\": 0, \"ticks\": \"\"}}, \"type\": \"scatter3d\"}], \"scattercarpet\": [{\"marker\": {\"colorbar\": {\"outlinewidth\": 0, \"ticks\": \"\"}}, \"type\": \"scattercarpet\"}], \"scattergeo\": [{\"marker\": {\"colorbar\": {\"outlinewidth\": 0, \"ticks\": \"\"}}, \"type\": \"scattergeo\"}], \"scattergl\": [{\"marker\": {\"colorbar\": {\"outlinewidth\": 0, \"ticks\": \"\"}}, \"type\": \"scattergl\"}], \"scattermapbox\": [{\"marker\": {\"colorbar\": {\"outlinewidth\": 0, \"ticks\": \"\"}}, \"type\": \"scattermapbox\"}], \"scatterpolar\": [{\"marker\": {\"colorbar\": {\"outlinewidth\": 0, \"ticks\": \"\"}}, \"type\": \"scatterpolar\"}], \"scatterpolargl\": [{\"marker\": {\"colorbar\": {\"outlinewidth\": 0, \"ticks\": \"\"}}, \"type\": \"scatterpolargl\"}], \"scatterternary\": [{\"marker\": {\"colorbar\": {\"outlinewidth\": 0, \"ticks\": \"\"}}, \"type\": \"scatterternary\"}], \"surface\": [{\"colorbar\": {\"outlinewidth\": 0, \"ticks\": \"\"}, \"colorscale\": [[0.0, \"#0d0887\"], [0.1111111111111111, \"#46039f\"], [0.2222222222222222, \"#7201a8\"], [0.3333333333333333, \"#9c179e\"], [0.4444444444444444, \"#bd3786\"], [0.5555555555555556, \"#d8576b\"], [0.6666666666666666, \"#ed7953\"], [0.7777777777777778, \"#fb9f3a\"], [0.8888888888888888, \"#fdca26\"], [1.0, \"#f0f921\"]], \"type\": \"surface\"}], \"table\": [{\"cells\": {\"fill\": {\"color\": \"#EBF0F8\"}, \"line\": {\"color\": \"white\"}}, \"header\": {\"fill\": {\"color\": \"#C8D4E3\"}, \"line\": {\"color\": \"white\"}}, \"type\": \"table\"}]}, \"layout\": {\"annotationdefaults\": {\"arrowcolor\": \"#2a3f5f\", \"arrowhead\": 0, \"arrowwidth\": 1}, \"autotypenumbers\": \"strict\", \"coloraxis\": {\"colorbar\": {\"outlinewidth\": 0, \"ticks\": \"\"}}, \"colorscale\": {\"diverging\": [[0, \"#8e0152\"], [0.1, \"#c51b7d\"], [0.2, \"#de77ae\"], [0.3, \"#f1b6da\"], [0.4, \"#fde0ef\"], [0.5, \"#f7f7f7\"], [0.6, \"#e6f5d0\"], [0.7, \"#b8e186\"], [0.8, \"#7fbc41\"], [0.9, \"#4d9221\"], [1, \"#276419\"]], \"sequential\": [[0.0, \"#0d0887\"], [0.1111111111111111, \"#46039f\"], [0.2222222222222222, \"#7201a8\"], [0.3333333333333333, \"#9c179e\"], [0.4444444444444444, \"#bd3786\"], [0.5555555555555556, \"#d8576b\"], [0.6666666666666666, \"#ed7953\"], [0.7777777777777778, \"#fb9f3a\"], [0.8888888888888888, \"#fdca26\"], [1.0, \"#f0f921\"]], \"sequentialminus\": [[0.0, \"#0d0887\"], [0.1111111111111111, \"#46039f\"], [0.2222222222222222, \"#7201a8\"], [0.3333333333333333, \"#9c179e\"], [0.4444444444444444, \"#bd3786\"], [0.5555555555555556, \"#d8576b\"], [0.6666666666666666, \"#ed7953\"], [0.7777777777777778, \"#fb9f3a\"], [0.8888888888888888, \"#fdca26\"], [1.0, \"#f0f921\"]]}, \"colorway\": [\"#636efa\", \"#EF553B\", \"#00cc96\", \"#ab63fa\", \"#FFA15A\", \"#19d3f3\", \"#FF6692\", \"#B6E880\", \"#FF97FF\", \"#FECB52\"], \"font\": {\"color\": \"#2a3f5f\"}, \"geo\": {\"bgcolor\": \"white\", \"lakecolor\": \"white\", \"landcolor\": \"white\", \"showlakes\": true, \"showland\": true, \"subunitcolor\": \"#C8D4E3\"}, \"hoverlabel\": {\"align\": \"left\"}, \"hovermode\": \"closest\", \"mapbox\": {\"style\": \"light\"}, \"paper_bgcolor\": \"white\", \"plot_bgcolor\": \"white\", \"polar\": {\"angularaxis\": {\"gridcolor\": \"#EBF0F8\", \"linecolor\": \"#EBF0F8\", \"ticks\": \"\"}, \"bgcolor\": \"white\", \"radialaxis\": {\"gridcolor\": \"#EBF0F8\", \"linecolor\": \"#EBF0F8\", \"ticks\": \"\"}}, \"scene\": {\"xaxis\": {\"backgroundcolor\": \"white\", \"gridcolor\": \"#DFE8F3\", \"gridwidth\": 2, \"linecolor\": \"#EBF0F8\", \"showbackground\": true, \"ticks\": \"\", \"zerolinecolor\": \"#EBF0F8\"}, \"yaxis\": {\"backgroundcolor\": \"white\", \"gridcolor\": \"#DFE8F3\", \"gridwidth\": 2, \"linecolor\": \"#EBF0F8\", \"showbackground\": true, \"ticks\": \"\", \"zerolinecolor\": \"#EBF0F8\"}, \"zaxis\": {\"backgroundcolor\": \"white\", \"gridcolor\": \"#DFE8F3\", \"gridwidth\": 2, \"linecolor\": \"#EBF0F8\", \"showbackground\": true, \"ticks\": \"\", \"zerolinecolor\": \"#EBF0F8\"}}, \"shapedefaults\": {\"line\": {\"color\": \"#2a3f5f\"}}, \"ternary\": {\"aaxis\": {\"gridcolor\": \"#DFE8F3\", \"linecolor\": \"#A2B1C6\", \"ticks\": \"\"}, \"baxis\": {\"gridcolor\": \"#DFE8F3\", \"linecolor\": \"#A2B1C6\", \"ticks\": \"\"}, \"bgcolor\": \"white\", \"caxis\": {\"gridcolor\": \"#DFE8F3\", \"linecolor\": \"#A2B1C6\", \"ticks\": \"\"}}, \"title\": {\"x\": 0.05}, \"xaxis\": {\"automargin\": true, \"gridcolor\": \"#EBF0F8\", \"linecolor\": \"#EBF0F8\", \"ticks\": \"\", \"title\": {\"standoff\": 15}, \"zerolinecolor\": \"#EBF0F8\", \"zerolinewidth\": 2}, \"yaxis\": {\"automargin\": true, \"gridcolor\": \"#EBF0F8\", \"linecolor\": \"#EBF0F8\", \"ticks\": \"\", \"title\": {\"standoff\": 15}, \"zerolinecolor\": \"#EBF0F8\", \"zerolinewidth\": 2}}}, \"title\": {\"text\": \"Fake Hashtag\"}},                        {\"responsive\": true}                    ).then(function(){\n",
       "                            \n",
       "var gd = document.getElementById('f04edc44-2578-4df1-b9f5-c7bf4cb602a0');\n",
       "var x = new MutationObserver(function (mutations, observer) {{\n",
       "        var display = window.getComputedStyle(gd).display;\n",
       "        if (!display || display === 'none') {{\n",
       "            console.log([gd, 'removed!']);\n",
       "            Plotly.purge(gd);\n",
       "            observer.disconnect();\n",
       "        }}\n",
       "}});\n",
       "\n",
       "// Listen for the removal of the full notebook cells\n",
       "var notebookContainer = gd.closest('#notebook-container');\n",
       "if (notebookContainer) {{\n",
       "    x.observe(notebookContainer, {childList: true});\n",
       "}}\n",
       "\n",
       "// Listen for the clearing of the current output cell\n",
       "var outputEl = gd.closest('.output');\n",
       "if (outputEl) {{\n",
       "    x.observe(outputEl, {childList: true});\n",
       "}}\n",
       "\n",
       "                        })                };                });            </script>        </div>"
      ]
     },
     "metadata": {},
     "output_type": "display_data"
    }
   ],
   "source": [
    "index=0\n",
    "mixhash = []\n",
    "covid_hashtags = [\"covid19\",\"coronavirus\",\"fake\",\"fakenews\",\"pibfactcheck\"]\n",
    "for element in data:\n",
    "    token_id = data[index]['id_str']\n",
    "    indice_csv = lista_unica_csv.index(token_id)\n",
    "    for entity in data[index]['entities']['hashtags']:\n",
    "        token_covid=entity['text'].lower()\n",
    "        if token_covid in covid_hashtags:\n",
    "            token=data[index]['created_at']\n",
    "            d = parse(token)\n",
    "            d = d.strftime('%Y/%m')\n",
    "            final_token = token_covid + \" \" +lista_unica_csv[indice_csv+1].lower().replace(\" \", \"\") + \" \" + d\n",
    "            mixhash.append(final_token)\n",
    "        \n",
    "    index=index+1\n",
    "    \n",
    "    \n",
    "fdist = dict(nltk.FreqDist(mixhash))\n",
    "\n",
    "df = pd.DataFrame.from_dict(fdist, orient='index').reset_index()\n",
    "df = df.rename(columns={'index':'hashtags', 0:'count'})\n",
    "\n",
    "\n",
    "col_one_list = df['hashtags'].tolist()\n",
    "col_two_list = df['count'].tolist()\n",
    "typelist=[]\n",
    "namelist=[]\n",
    "datelist=[]\n",
    "\n",
    "index = 0\n",
    "\n",
    "count_false = [0] * len(col_one_list)\n",
    "count_part = [0] * len(col_one_list)\n",
    "\n",
    "for el in col_one_list:\n",
    "    tok = el.split()\n",
    "    namelist.append(tok[0])\n",
    "    datelist.append(tok[2])\n",
    "    indx = namelist.index(tok[0])\n",
    "    if tok[1] == \"false\":\n",
    "        count_false[index] = col_two_list[index]\n",
    "    elif tok[1] == \"partiallyfalse\":\n",
    "        count_part[index] = col_two_list[index]\n",
    "    else:\n",
    "        print(\"errore count\")\n",
    "    index = index + 1\n",
    "\n",
    "\n",
    "i=0\n",
    "for el in col_two_list:\n",
    "    col_two_list[i] = count_false[i] + count_part[i]\n",
    "    i = i + 1\n",
    "\n",
    "\n",
    "df['hashtags']=namelist\n",
    "df['Count False Tweets']=count_false\n",
    "df['Count Partially False Tweets']=count_part\n",
    "df['count'] = col_two_list\n",
    "df['Date']=datelist\n",
    "\n",
    "\n",
    "df = df.sort_values(by=['Date'],ascending=[False])\n",
    "\n",
    "import plotly.express as px\n",
    "fig = px.bar_polar(df, r=\"Count False Tweets\", theta=\"Date\",\n",
    "                   color=\"hashtags\",template='plotly_white',\n",
    "                   color_discrete_sequence= ['#4477AA', '#66CCEE', '#228833', '#CCBB44', '#EE6677','#AA3377', '#BBBBBB'])\n",
    "\n",
    "fig.update_layout(\n",
    "    title='Fake Hashtag',\n",
    "    font_size=15,\n",
    "    legend_font_size=15,\n",
    "\n",
    ")\n",
    "\n",
    "fig.show()\n"
   ]
  },
  {
   "cell_type": "code",
   "execution_count": 43,
   "id": "contrary-prison",
   "metadata": {},
   "outputs": [
    {
     "data": {
      "application/vnd.plotly.v1+json": {
       "config": {
        "plotlyServerURL": "https://plot.ly"
       },
       "data": [
        {
         "hovertemplate": "hashtags=covid19<br>Count Partially False Tweets=%{r}<br>Date=%{theta}<extra></extra>",
         "legendgroup": "covid19",
         "marker": {
          "color": "#4477AA"
         },
         "name": "covid19",
         "r": [
          0,
          1,
          0,
          5,
          0,
          2,
          0,
          0,
          10,
          12,
          0,
          0,
          2
         ],
         "showlegend": true,
         "subplot": "polar",
         "theta": [
          "2020/08",
          "2020/08",
          "2020/07",
          "2020/06",
          "2020/06",
          "2020/05",
          "2020/05",
          "2020/04",
          "2020/04",
          "2020/03",
          "2020/03",
          "2020/02",
          "2020/02"
         ],
         "type": "barpolar"
        },
        {
         "hovertemplate": "hashtags=coronavirus<br>Count Partially False Tweets=%{r}<br>Date=%{theta}<extra></extra>",
         "legendgroup": "coronavirus",
         "marker": {
          "color": "#66CCEE"
         },
         "name": "coronavirus",
         "r": [
          0,
          1,
          0,
          0,
          0,
          2,
          0,
          4,
          4,
          0,
          5,
          0
         ],
         "showlegend": true,
         "subplot": "polar",
         "theta": [
          "2020/07",
          "2020/06",
          "2020/06",
          "2020/05",
          "2020/04",
          "2020/04",
          "2020/03",
          "2020/03",
          "2020/02",
          "2020/02",
          "2020/01",
          "2020/01"
         ],
         "type": "barpolar"
        },
        {
         "hovertemplate": "hashtags=fakenews<br>Count Partially False Tweets=%{r}<br>Date=%{theta}<extra></extra>",
         "legendgroup": "fakenews",
         "marker": {
          "color": "#228833"
         },
         "name": "fakenews",
         "r": [
          0,
          0,
          0,
          1,
          0,
          0
         ],
         "showlegend": true,
         "subplot": "polar",
         "theta": [
          "2020/06",
          "2020/05",
          "2020/04",
          "2020/03",
          "2020/03",
          "2020/01"
         ],
         "type": "barpolar"
        },
        {
         "hovertemplate": "hashtags=pibfactcheck<br>Count Partially False Tweets=%{r}<br>Date=%{theta}<extra></extra>",
         "legendgroup": "pibfactcheck",
         "marker": {
          "color": "#CCBB44"
         },
         "name": "pibfactcheck",
         "r": [
          0,
          1,
          0,
          1,
          0
         ],
         "showlegend": true,
         "subplot": "polar",
         "theta": [
          "2020/05",
          "2020/05",
          "2020/04",
          "2020/03",
          "2020/03"
         ],
         "type": "barpolar"
        },
        {
         "hovertemplate": "hashtags=fake<br>Count Partially False Tweets=%{r}<br>Date=%{theta}<extra></extra>",
         "legendgroup": "fake",
         "marker": {
          "color": "#EE6677"
         },
         "name": "fake",
         "r": [
          2,
          0,
          0,
          0
         ],
         "showlegend": true,
         "subplot": "polar",
         "theta": [
          "2020/05",
          "2020/05",
          "2020/04",
          "2020/03"
         ],
         "type": "barpolar"
        }
       ],
       "layout": {
        "barmode": "relative",
        "font": {
         "size": 15
        },
        "legend": {
         "font": {
          "size": 15
         },
         "title": {
          "text": "hashtags"
         },
         "tracegroupgap": 0
        },
        "margin": {
         "t": 60
        },
        "polar": {
         "angularaxis": {
          "direction": "clockwise",
          "rotation": 90
         },
         "domain": {
          "x": [
           0,
           1
          ],
          "y": [
           0,
           1
          ]
         }
        },
        "template": {
         "data": {
          "bar": [
           {
            "error_x": {
             "color": "#2a3f5f"
            },
            "error_y": {
             "color": "#2a3f5f"
            },
            "marker": {
             "line": {
              "color": "white",
              "width": 0.5
             }
            },
            "type": "bar"
           }
          ],
          "barpolar": [
           {
            "marker": {
             "line": {
              "color": "white",
              "width": 0.5
             }
            },
            "type": "barpolar"
           }
          ],
          "carpet": [
           {
            "aaxis": {
             "endlinecolor": "#2a3f5f",
             "gridcolor": "#C8D4E3",
             "linecolor": "#C8D4E3",
             "minorgridcolor": "#C8D4E3",
             "startlinecolor": "#2a3f5f"
            },
            "baxis": {
             "endlinecolor": "#2a3f5f",
             "gridcolor": "#C8D4E3",
             "linecolor": "#C8D4E3",
             "minorgridcolor": "#C8D4E3",
             "startlinecolor": "#2a3f5f"
            },
            "type": "carpet"
           }
          ],
          "choropleth": [
           {
            "colorbar": {
             "outlinewidth": 0,
             "ticks": ""
            },
            "type": "choropleth"
           }
          ],
          "contour": [
           {
            "colorbar": {
             "outlinewidth": 0,
             "ticks": ""
            },
            "colorscale": [
             [
              0,
              "#0d0887"
             ],
             [
              0.1111111111111111,
              "#46039f"
             ],
             [
              0.2222222222222222,
              "#7201a8"
             ],
             [
              0.3333333333333333,
              "#9c179e"
             ],
             [
              0.4444444444444444,
              "#bd3786"
             ],
             [
              0.5555555555555556,
              "#d8576b"
             ],
             [
              0.6666666666666666,
              "#ed7953"
             ],
             [
              0.7777777777777778,
              "#fb9f3a"
             ],
             [
              0.8888888888888888,
              "#fdca26"
             ],
             [
              1,
              "#f0f921"
             ]
            ],
            "type": "contour"
           }
          ],
          "contourcarpet": [
           {
            "colorbar": {
             "outlinewidth": 0,
             "ticks": ""
            },
            "type": "contourcarpet"
           }
          ],
          "heatmap": [
           {
            "colorbar": {
             "outlinewidth": 0,
             "ticks": ""
            },
            "colorscale": [
             [
              0,
              "#0d0887"
             ],
             [
              0.1111111111111111,
              "#46039f"
             ],
             [
              0.2222222222222222,
              "#7201a8"
             ],
             [
              0.3333333333333333,
              "#9c179e"
             ],
             [
              0.4444444444444444,
              "#bd3786"
             ],
             [
              0.5555555555555556,
              "#d8576b"
             ],
             [
              0.6666666666666666,
              "#ed7953"
             ],
             [
              0.7777777777777778,
              "#fb9f3a"
             ],
             [
              0.8888888888888888,
              "#fdca26"
             ],
             [
              1,
              "#f0f921"
             ]
            ],
            "type": "heatmap"
           }
          ],
          "heatmapgl": [
           {
            "colorbar": {
             "outlinewidth": 0,
             "ticks": ""
            },
            "colorscale": [
             [
              0,
              "#0d0887"
             ],
             [
              0.1111111111111111,
              "#46039f"
             ],
             [
              0.2222222222222222,
              "#7201a8"
             ],
             [
              0.3333333333333333,
              "#9c179e"
             ],
             [
              0.4444444444444444,
              "#bd3786"
             ],
             [
              0.5555555555555556,
              "#d8576b"
             ],
             [
              0.6666666666666666,
              "#ed7953"
             ],
             [
              0.7777777777777778,
              "#fb9f3a"
             ],
             [
              0.8888888888888888,
              "#fdca26"
             ],
             [
              1,
              "#f0f921"
             ]
            ],
            "type": "heatmapgl"
           }
          ],
          "histogram": [
           {
            "marker": {
             "colorbar": {
              "outlinewidth": 0,
              "ticks": ""
             }
            },
            "type": "histogram"
           }
          ],
          "histogram2d": [
           {
            "colorbar": {
             "outlinewidth": 0,
             "ticks": ""
            },
            "colorscale": [
             [
              0,
              "#0d0887"
             ],
             [
              0.1111111111111111,
              "#46039f"
             ],
             [
              0.2222222222222222,
              "#7201a8"
             ],
             [
              0.3333333333333333,
              "#9c179e"
             ],
             [
              0.4444444444444444,
              "#bd3786"
             ],
             [
              0.5555555555555556,
              "#d8576b"
             ],
             [
              0.6666666666666666,
              "#ed7953"
             ],
             [
              0.7777777777777778,
              "#fb9f3a"
             ],
             [
              0.8888888888888888,
              "#fdca26"
             ],
             [
              1,
              "#f0f921"
             ]
            ],
            "type": "histogram2d"
           }
          ],
          "histogram2dcontour": [
           {
            "colorbar": {
             "outlinewidth": 0,
             "ticks": ""
            },
            "colorscale": [
             [
              0,
              "#0d0887"
             ],
             [
              0.1111111111111111,
              "#46039f"
             ],
             [
              0.2222222222222222,
              "#7201a8"
             ],
             [
              0.3333333333333333,
              "#9c179e"
             ],
             [
              0.4444444444444444,
              "#bd3786"
             ],
             [
              0.5555555555555556,
              "#d8576b"
             ],
             [
              0.6666666666666666,
              "#ed7953"
             ],
             [
              0.7777777777777778,
              "#fb9f3a"
             ],
             [
              0.8888888888888888,
              "#fdca26"
             ],
             [
              1,
              "#f0f921"
             ]
            ],
            "type": "histogram2dcontour"
           }
          ],
          "mesh3d": [
           {
            "colorbar": {
             "outlinewidth": 0,
             "ticks": ""
            },
            "type": "mesh3d"
           }
          ],
          "parcoords": [
           {
            "line": {
             "colorbar": {
              "outlinewidth": 0,
              "ticks": ""
             }
            },
            "type": "parcoords"
           }
          ],
          "pie": [
           {
            "automargin": true,
            "type": "pie"
           }
          ],
          "scatter": [
           {
            "marker": {
             "colorbar": {
              "outlinewidth": 0,
              "ticks": ""
             }
            },
            "type": "scatter"
           }
          ],
          "scatter3d": [
           {
            "line": {
             "colorbar": {
              "outlinewidth": 0,
              "ticks": ""
             }
            },
            "marker": {
             "colorbar": {
              "outlinewidth": 0,
              "ticks": ""
             }
            },
            "type": "scatter3d"
           }
          ],
          "scattercarpet": [
           {
            "marker": {
             "colorbar": {
              "outlinewidth": 0,
              "ticks": ""
             }
            },
            "type": "scattercarpet"
           }
          ],
          "scattergeo": [
           {
            "marker": {
             "colorbar": {
              "outlinewidth": 0,
              "ticks": ""
             }
            },
            "type": "scattergeo"
           }
          ],
          "scattergl": [
           {
            "marker": {
             "colorbar": {
              "outlinewidth": 0,
              "ticks": ""
             }
            },
            "type": "scattergl"
           }
          ],
          "scattermapbox": [
           {
            "marker": {
             "colorbar": {
              "outlinewidth": 0,
              "ticks": ""
             }
            },
            "type": "scattermapbox"
           }
          ],
          "scatterpolar": [
           {
            "marker": {
             "colorbar": {
              "outlinewidth": 0,
              "ticks": ""
             }
            },
            "type": "scatterpolar"
           }
          ],
          "scatterpolargl": [
           {
            "marker": {
             "colorbar": {
              "outlinewidth": 0,
              "ticks": ""
             }
            },
            "type": "scatterpolargl"
           }
          ],
          "scatterternary": [
           {
            "marker": {
             "colorbar": {
              "outlinewidth": 0,
              "ticks": ""
             }
            },
            "type": "scatterternary"
           }
          ],
          "surface": [
           {
            "colorbar": {
             "outlinewidth": 0,
             "ticks": ""
            },
            "colorscale": [
             [
              0,
              "#0d0887"
             ],
             [
              0.1111111111111111,
              "#46039f"
             ],
             [
              0.2222222222222222,
              "#7201a8"
             ],
             [
              0.3333333333333333,
              "#9c179e"
             ],
             [
              0.4444444444444444,
              "#bd3786"
             ],
             [
              0.5555555555555556,
              "#d8576b"
             ],
             [
              0.6666666666666666,
              "#ed7953"
             ],
             [
              0.7777777777777778,
              "#fb9f3a"
             ],
             [
              0.8888888888888888,
              "#fdca26"
             ],
             [
              1,
              "#f0f921"
             ]
            ],
            "type": "surface"
           }
          ],
          "table": [
           {
            "cells": {
             "fill": {
              "color": "#EBF0F8"
             },
             "line": {
              "color": "white"
             }
            },
            "header": {
             "fill": {
              "color": "#C8D4E3"
             },
             "line": {
              "color": "white"
             }
            },
            "type": "table"
           }
          ]
         },
         "layout": {
          "annotationdefaults": {
           "arrowcolor": "#2a3f5f",
           "arrowhead": 0,
           "arrowwidth": 1
          },
          "autotypenumbers": "strict",
          "coloraxis": {
           "colorbar": {
            "outlinewidth": 0,
            "ticks": ""
           }
          },
          "colorscale": {
           "diverging": [
            [
             0,
             "#8e0152"
            ],
            [
             0.1,
             "#c51b7d"
            ],
            [
             0.2,
             "#de77ae"
            ],
            [
             0.3,
             "#f1b6da"
            ],
            [
             0.4,
             "#fde0ef"
            ],
            [
             0.5,
             "#f7f7f7"
            ],
            [
             0.6,
             "#e6f5d0"
            ],
            [
             0.7,
             "#b8e186"
            ],
            [
             0.8,
             "#7fbc41"
            ],
            [
             0.9,
             "#4d9221"
            ],
            [
             1,
             "#276419"
            ]
           ],
           "sequential": [
            [
             0,
             "#0d0887"
            ],
            [
             0.1111111111111111,
             "#46039f"
            ],
            [
             0.2222222222222222,
             "#7201a8"
            ],
            [
             0.3333333333333333,
             "#9c179e"
            ],
            [
             0.4444444444444444,
             "#bd3786"
            ],
            [
             0.5555555555555556,
             "#d8576b"
            ],
            [
             0.6666666666666666,
             "#ed7953"
            ],
            [
             0.7777777777777778,
             "#fb9f3a"
            ],
            [
             0.8888888888888888,
             "#fdca26"
            ],
            [
             1,
             "#f0f921"
            ]
           ],
           "sequentialminus": [
            [
             0,
             "#0d0887"
            ],
            [
             0.1111111111111111,
             "#46039f"
            ],
            [
             0.2222222222222222,
             "#7201a8"
            ],
            [
             0.3333333333333333,
             "#9c179e"
            ],
            [
             0.4444444444444444,
             "#bd3786"
            ],
            [
             0.5555555555555556,
             "#d8576b"
            ],
            [
             0.6666666666666666,
             "#ed7953"
            ],
            [
             0.7777777777777778,
             "#fb9f3a"
            ],
            [
             0.8888888888888888,
             "#fdca26"
            ],
            [
             1,
             "#f0f921"
            ]
           ]
          },
          "colorway": [
           "#636efa",
           "#EF553B",
           "#00cc96",
           "#ab63fa",
           "#FFA15A",
           "#19d3f3",
           "#FF6692",
           "#B6E880",
           "#FF97FF",
           "#FECB52"
          ],
          "font": {
           "color": "#2a3f5f"
          },
          "geo": {
           "bgcolor": "white",
           "lakecolor": "white",
           "landcolor": "white",
           "showlakes": true,
           "showland": true,
           "subunitcolor": "#C8D4E3"
          },
          "hoverlabel": {
           "align": "left"
          },
          "hovermode": "closest",
          "mapbox": {
           "style": "light"
          },
          "paper_bgcolor": "white",
          "plot_bgcolor": "white",
          "polar": {
           "angularaxis": {
            "gridcolor": "#EBF0F8",
            "linecolor": "#EBF0F8",
            "ticks": ""
           },
           "bgcolor": "white",
           "radialaxis": {
            "gridcolor": "#EBF0F8",
            "linecolor": "#EBF0F8",
            "ticks": ""
           }
          },
          "scene": {
           "xaxis": {
            "backgroundcolor": "white",
            "gridcolor": "#DFE8F3",
            "gridwidth": 2,
            "linecolor": "#EBF0F8",
            "showbackground": true,
            "ticks": "",
            "zerolinecolor": "#EBF0F8"
           },
           "yaxis": {
            "backgroundcolor": "white",
            "gridcolor": "#DFE8F3",
            "gridwidth": 2,
            "linecolor": "#EBF0F8",
            "showbackground": true,
            "ticks": "",
            "zerolinecolor": "#EBF0F8"
           },
           "zaxis": {
            "backgroundcolor": "white",
            "gridcolor": "#DFE8F3",
            "gridwidth": 2,
            "linecolor": "#EBF0F8",
            "showbackground": true,
            "ticks": "",
            "zerolinecolor": "#EBF0F8"
           }
          },
          "shapedefaults": {
           "line": {
            "color": "#2a3f5f"
           }
          },
          "ternary": {
           "aaxis": {
            "gridcolor": "#DFE8F3",
            "linecolor": "#A2B1C6",
            "ticks": ""
           },
           "baxis": {
            "gridcolor": "#DFE8F3",
            "linecolor": "#A2B1C6",
            "ticks": ""
           },
           "bgcolor": "white",
           "caxis": {
            "gridcolor": "#DFE8F3",
            "linecolor": "#A2B1C6",
            "ticks": ""
           }
          },
          "title": {
           "x": 0.05
          },
          "xaxis": {
           "automargin": true,
           "gridcolor": "#EBF0F8",
           "linecolor": "#EBF0F8",
           "ticks": "",
           "title": {
            "standoff": 15
           },
           "zerolinecolor": "#EBF0F8",
           "zerolinewidth": 2
          },
          "yaxis": {
           "automargin": true,
           "gridcolor": "#EBF0F8",
           "linecolor": "#EBF0F8",
           "ticks": "",
           "title": {
            "standoff": 15
           },
           "zerolinecolor": "#EBF0F8",
           "zerolinewidth": 2
          }
         }
        },
        "title": {
         "text": "Partially False Hashtag"
        }
       }
      },
      "text/html": [
       "<div>                            <div id=\"45a0d2b6-131c-4b31-940c-bee563415a55\" class=\"plotly-graph-div\" style=\"height:525px; width:100%;\"></div>            <script type=\"text/javascript\">                require([\"plotly\"], function(Plotly) {                    window.PLOTLYENV=window.PLOTLYENV || {};                                    if (document.getElementById(\"45a0d2b6-131c-4b31-940c-bee563415a55\")) {                    Plotly.newPlot(                        \"45a0d2b6-131c-4b31-940c-bee563415a55\",                        [{\"hovertemplate\": \"hashtags=covid19<br>Count Partially False Tweets=%{r}<br>Date=%{theta}<extra></extra>\", \"legendgroup\": \"covid19\", \"marker\": {\"color\": \"#4477AA\"}, \"name\": \"covid19\", \"r\": [0, 1, 0, 5, 0, 2, 0, 0, 10, 12, 0, 0, 2], \"showlegend\": true, \"subplot\": \"polar\", \"theta\": [\"2020/08\", \"2020/08\", \"2020/07\", \"2020/06\", \"2020/06\", \"2020/05\", \"2020/05\", \"2020/04\", \"2020/04\", \"2020/03\", \"2020/03\", \"2020/02\", \"2020/02\"], \"type\": \"barpolar\"}, {\"hovertemplate\": \"hashtags=coronavirus<br>Count Partially False Tweets=%{r}<br>Date=%{theta}<extra></extra>\", \"legendgroup\": \"coronavirus\", \"marker\": {\"color\": \"#66CCEE\"}, \"name\": \"coronavirus\", \"r\": [0, 1, 0, 0, 0, 2, 0, 4, 4, 0, 5, 0], \"showlegend\": true, \"subplot\": \"polar\", \"theta\": [\"2020/07\", \"2020/06\", \"2020/06\", \"2020/05\", \"2020/04\", \"2020/04\", \"2020/03\", \"2020/03\", \"2020/02\", \"2020/02\", \"2020/01\", \"2020/01\"], \"type\": \"barpolar\"}, {\"hovertemplate\": \"hashtags=fakenews<br>Count Partially False Tweets=%{r}<br>Date=%{theta}<extra></extra>\", \"legendgroup\": \"fakenews\", \"marker\": {\"color\": \"#228833\"}, \"name\": \"fakenews\", \"r\": [0, 0, 0, 1, 0, 0], \"showlegend\": true, \"subplot\": \"polar\", \"theta\": [\"2020/06\", \"2020/05\", \"2020/04\", \"2020/03\", \"2020/03\", \"2020/01\"], \"type\": \"barpolar\"}, {\"hovertemplate\": \"hashtags=pibfactcheck<br>Count Partially False Tweets=%{r}<br>Date=%{theta}<extra></extra>\", \"legendgroup\": \"pibfactcheck\", \"marker\": {\"color\": \"#CCBB44\"}, \"name\": \"pibfactcheck\", \"r\": [0, 1, 0, 1, 0], \"showlegend\": true, \"subplot\": \"polar\", \"theta\": [\"2020/05\", \"2020/05\", \"2020/04\", \"2020/03\", \"2020/03\"], \"type\": \"barpolar\"}, {\"hovertemplate\": \"hashtags=fake<br>Count Partially False Tweets=%{r}<br>Date=%{theta}<extra></extra>\", \"legendgroup\": \"fake\", \"marker\": {\"color\": \"#EE6677\"}, \"name\": \"fake\", \"r\": [2, 0, 0, 0], \"showlegend\": true, \"subplot\": \"polar\", \"theta\": [\"2020/05\", \"2020/05\", \"2020/04\", \"2020/03\"], \"type\": \"barpolar\"}],                        {\"barmode\": \"relative\", \"font\": {\"size\": 15}, \"legend\": {\"font\": {\"size\": 15}, \"title\": {\"text\": \"hashtags\"}, \"tracegroupgap\": 0}, \"margin\": {\"t\": 60}, \"polar\": {\"angularaxis\": {\"direction\": \"clockwise\", \"rotation\": 90}, \"domain\": {\"x\": [0.0, 1.0], \"y\": [0.0, 1.0]}}, \"template\": {\"data\": {\"bar\": [{\"error_x\": {\"color\": \"#2a3f5f\"}, \"error_y\": {\"color\": \"#2a3f5f\"}, \"marker\": {\"line\": {\"color\": \"white\", \"width\": 0.5}}, \"type\": \"bar\"}], \"barpolar\": [{\"marker\": {\"line\": {\"color\": \"white\", \"width\": 0.5}}, \"type\": \"barpolar\"}], \"carpet\": [{\"aaxis\": {\"endlinecolor\": \"#2a3f5f\", \"gridcolor\": \"#C8D4E3\", \"linecolor\": \"#C8D4E3\", \"minorgridcolor\": \"#C8D4E3\", \"startlinecolor\": \"#2a3f5f\"}, \"baxis\": {\"endlinecolor\": \"#2a3f5f\", \"gridcolor\": \"#C8D4E3\", \"linecolor\": \"#C8D4E3\", \"minorgridcolor\": \"#C8D4E3\", \"startlinecolor\": \"#2a3f5f\"}, \"type\": \"carpet\"}], \"choropleth\": [{\"colorbar\": {\"outlinewidth\": 0, \"ticks\": \"\"}, \"type\": \"choropleth\"}], \"contour\": [{\"colorbar\": {\"outlinewidth\": 0, \"ticks\": \"\"}, \"colorscale\": [[0.0, \"#0d0887\"], [0.1111111111111111, \"#46039f\"], [0.2222222222222222, \"#7201a8\"], [0.3333333333333333, \"#9c179e\"], [0.4444444444444444, \"#bd3786\"], [0.5555555555555556, \"#d8576b\"], [0.6666666666666666, \"#ed7953\"], [0.7777777777777778, \"#fb9f3a\"], [0.8888888888888888, \"#fdca26\"], [1.0, \"#f0f921\"]], \"type\": \"contour\"}], \"contourcarpet\": [{\"colorbar\": {\"outlinewidth\": 0, \"ticks\": \"\"}, \"type\": \"contourcarpet\"}], \"heatmap\": [{\"colorbar\": {\"outlinewidth\": 0, \"ticks\": \"\"}, \"colorscale\": [[0.0, \"#0d0887\"], [0.1111111111111111, \"#46039f\"], [0.2222222222222222, \"#7201a8\"], [0.3333333333333333, \"#9c179e\"], [0.4444444444444444, \"#bd3786\"], [0.5555555555555556, \"#d8576b\"], [0.6666666666666666, \"#ed7953\"], [0.7777777777777778, \"#fb9f3a\"], [0.8888888888888888, \"#fdca26\"], [1.0, \"#f0f921\"]], \"type\": \"heatmap\"}], \"heatmapgl\": [{\"colorbar\": {\"outlinewidth\": 0, \"ticks\": \"\"}, \"colorscale\": [[0.0, \"#0d0887\"], [0.1111111111111111, \"#46039f\"], [0.2222222222222222, \"#7201a8\"], [0.3333333333333333, \"#9c179e\"], [0.4444444444444444, \"#bd3786\"], [0.5555555555555556, \"#d8576b\"], [0.6666666666666666, \"#ed7953\"], [0.7777777777777778, \"#fb9f3a\"], [0.8888888888888888, \"#fdca26\"], [1.0, \"#f0f921\"]], \"type\": \"heatmapgl\"}], \"histogram\": [{\"marker\": {\"colorbar\": {\"outlinewidth\": 0, \"ticks\": \"\"}}, \"type\": \"histogram\"}], \"histogram2d\": [{\"colorbar\": {\"outlinewidth\": 0, \"ticks\": \"\"}, \"colorscale\": [[0.0, \"#0d0887\"], [0.1111111111111111, \"#46039f\"], [0.2222222222222222, \"#7201a8\"], [0.3333333333333333, \"#9c179e\"], [0.4444444444444444, \"#bd3786\"], [0.5555555555555556, \"#d8576b\"], [0.6666666666666666, \"#ed7953\"], [0.7777777777777778, \"#fb9f3a\"], [0.8888888888888888, \"#fdca26\"], [1.0, \"#f0f921\"]], \"type\": \"histogram2d\"}], \"histogram2dcontour\": [{\"colorbar\": {\"outlinewidth\": 0, \"ticks\": \"\"}, \"colorscale\": [[0.0, \"#0d0887\"], [0.1111111111111111, \"#46039f\"], [0.2222222222222222, \"#7201a8\"], [0.3333333333333333, \"#9c179e\"], [0.4444444444444444, \"#bd3786\"], [0.5555555555555556, \"#d8576b\"], [0.6666666666666666, \"#ed7953\"], [0.7777777777777778, \"#fb9f3a\"], [0.8888888888888888, \"#fdca26\"], [1.0, \"#f0f921\"]], \"type\": \"histogram2dcontour\"}], \"mesh3d\": [{\"colorbar\": {\"outlinewidth\": 0, \"ticks\": \"\"}, \"type\": \"mesh3d\"}], \"parcoords\": [{\"line\": {\"colorbar\": {\"outlinewidth\": 0, \"ticks\": \"\"}}, \"type\": \"parcoords\"}], \"pie\": [{\"automargin\": true, \"type\": \"pie\"}], \"scatter\": [{\"marker\": {\"colorbar\": {\"outlinewidth\": 0, \"ticks\": \"\"}}, \"type\": \"scatter\"}], \"scatter3d\": [{\"line\": {\"colorbar\": {\"outlinewidth\": 0, \"ticks\": \"\"}}, \"marker\": {\"colorbar\": {\"outlinewidth\": 0, \"ticks\": \"\"}}, \"type\": \"scatter3d\"}], \"scattercarpet\": [{\"marker\": {\"colorbar\": {\"outlinewidth\": 0, \"ticks\": \"\"}}, \"type\": \"scattercarpet\"}], \"scattergeo\": [{\"marker\": {\"colorbar\": {\"outlinewidth\": 0, \"ticks\": \"\"}}, \"type\": \"scattergeo\"}], \"scattergl\": [{\"marker\": {\"colorbar\": {\"outlinewidth\": 0, \"ticks\": \"\"}}, \"type\": \"scattergl\"}], \"scattermapbox\": [{\"marker\": {\"colorbar\": {\"outlinewidth\": 0, \"ticks\": \"\"}}, \"type\": \"scattermapbox\"}], \"scatterpolar\": [{\"marker\": {\"colorbar\": {\"outlinewidth\": 0, \"ticks\": \"\"}}, \"type\": \"scatterpolar\"}], \"scatterpolargl\": [{\"marker\": {\"colorbar\": {\"outlinewidth\": 0, \"ticks\": \"\"}}, \"type\": \"scatterpolargl\"}], \"scatterternary\": [{\"marker\": {\"colorbar\": {\"outlinewidth\": 0, \"ticks\": \"\"}}, \"type\": \"scatterternary\"}], \"surface\": [{\"colorbar\": {\"outlinewidth\": 0, \"ticks\": \"\"}, \"colorscale\": [[0.0, \"#0d0887\"], [0.1111111111111111, \"#46039f\"], [0.2222222222222222, \"#7201a8\"], [0.3333333333333333, \"#9c179e\"], [0.4444444444444444, \"#bd3786\"], [0.5555555555555556, \"#d8576b\"], [0.6666666666666666, \"#ed7953\"], [0.7777777777777778, \"#fb9f3a\"], [0.8888888888888888, \"#fdca26\"], [1.0, \"#f0f921\"]], \"type\": \"surface\"}], \"table\": [{\"cells\": {\"fill\": {\"color\": \"#EBF0F8\"}, \"line\": {\"color\": \"white\"}}, \"header\": {\"fill\": {\"color\": \"#C8D4E3\"}, \"line\": {\"color\": \"white\"}}, \"type\": \"table\"}]}, \"layout\": {\"annotationdefaults\": {\"arrowcolor\": \"#2a3f5f\", \"arrowhead\": 0, \"arrowwidth\": 1}, \"autotypenumbers\": \"strict\", \"coloraxis\": {\"colorbar\": {\"outlinewidth\": 0, \"ticks\": \"\"}}, \"colorscale\": {\"diverging\": [[0, \"#8e0152\"], [0.1, \"#c51b7d\"], [0.2, \"#de77ae\"], [0.3, \"#f1b6da\"], [0.4, \"#fde0ef\"], [0.5, \"#f7f7f7\"], [0.6, \"#e6f5d0\"], [0.7, \"#b8e186\"], [0.8, \"#7fbc41\"], [0.9, \"#4d9221\"], [1, \"#276419\"]], \"sequential\": [[0.0, \"#0d0887\"], [0.1111111111111111, \"#46039f\"], [0.2222222222222222, \"#7201a8\"], [0.3333333333333333, \"#9c179e\"], [0.4444444444444444, \"#bd3786\"], [0.5555555555555556, \"#d8576b\"], [0.6666666666666666, \"#ed7953\"], [0.7777777777777778, \"#fb9f3a\"], [0.8888888888888888, \"#fdca26\"], [1.0, \"#f0f921\"]], \"sequentialminus\": [[0.0, \"#0d0887\"], [0.1111111111111111, \"#46039f\"], [0.2222222222222222, \"#7201a8\"], [0.3333333333333333, \"#9c179e\"], [0.4444444444444444, \"#bd3786\"], [0.5555555555555556, \"#d8576b\"], [0.6666666666666666, \"#ed7953\"], [0.7777777777777778, \"#fb9f3a\"], [0.8888888888888888, \"#fdca26\"], [1.0, \"#f0f921\"]]}, \"colorway\": [\"#636efa\", \"#EF553B\", \"#00cc96\", \"#ab63fa\", \"#FFA15A\", \"#19d3f3\", \"#FF6692\", \"#B6E880\", \"#FF97FF\", \"#FECB52\"], \"font\": {\"color\": \"#2a3f5f\"}, \"geo\": {\"bgcolor\": \"white\", \"lakecolor\": \"white\", \"landcolor\": \"white\", \"showlakes\": true, \"showland\": true, \"subunitcolor\": \"#C8D4E3\"}, \"hoverlabel\": {\"align\": \"left\"}, \"hovermode\": \"closest\", \"mapbox\": {\"style\": \"light\"}, \"paper_bgcolor\": \"white\", \"plot_bgcolor\": \"white\", \"polar\": {\"angularaxis\": {\"gridcolor\": \"#EBF0F8\", \"linecolor\": \"#EBF0F8\", \"ticks\": \"\"}, \"bgcolor\": \"white\", \"radialaxis\": {\"gridcolor\": \"#EBF0F8\", \"linecolor\": \"#EBF0F8\", \"ticks\": \"\"}}, \"scene\": {\"xaxis\": {\"backgroundcolor\": \"white\", \"gridcolor\": \"#DFE8F3\", \"gridwidth\": 2, \"linecolor\": \"#EBF0F8\", \"showbackground\": true, \"ticks\": \"\", \"zerolinecolor\": \"#EBF0F8\"}, \"yaxis\": {\"backgroundcolor\": \"white\", \"gridcolor\": \"#DFE8F3\", \"gridwidth\": 2, \"linecolor\": \"#EBF0F8\", \"showbackground\": true, \"ticks\": \"\", \"zerolinecolor\": \"#EBF0F8\"}, \"zaxis\": {\"backgroundcolor\": \"white\", \"gridcolor\": \"#DFE8F3\", \"gridwidth\": 2, \"linecolor\": \"#EBF0F8\", \"showbackground\": true, \"ticks\": \"\", \"zerolinecolor\": \"#EBF0F8\"}}, \"shapedefaults\": {\"line\": {\"color\": \"#2a3f5f\"}}, \"ternary\": {\"aaxis\": {\"gridcolor\": \"#DFE8F3\", \"linecolor\": \"#A2B1C6\", \"ticks\": \"\"}, \"baxis\": {\"gridcolor\": \"#DFE8F3\", \"linecolor\": \"#A2B1C6\", \"ticks\": \"\"}, \"bgcolor\": \"white\", \"caxis\": {\"gridcolor\": \"#DFE8F3\", \"linecolor\": \"#A2B1C6\", \"ticks\": \"\"}}, \"title\": {\"x\": 0.05}, \"xaxis\": {\"automargin\": true, \"gridcolor\": \"#EBF0F8\", \"linecolor\": \"#EBF0F8\", \"ticks\": \"\", \"title\": {\"standoff\": 15}, \"zerolinecolor\": \"#EBF0F8\", \"zerolinewidth\": 2}, \"yaxis\": {\"automargin\": true, \"gridcolor\": \"#EBF0F8\", \"linecolor\": \"#EBF0F8\", \"ticks\": \"\", \"title\": {\"standoff\": 15}, \"zerolinecolor\": \"#EBF0F8\", \"zerolinewidth\": 2}}}, \"title\": {\"text\": \"Partially False Hashtag\"}},                        {\"responsive\": true}                    ).then(function(){\n",
       "                            \n",
       "var gd = document.getElementById('45a0d2b6-131c-4b31-940c-bee563415a55');\n",
       "var x = new MutationObserver(function (mutations, observer) {{\n",
       "        var display = window.getComputedStyle(gd).display;\n",
       "        if (!display || display === 'none') {{\n",
       "            console.log([gd, 'removed!']);\n",
       "            Plotly.purge(gd);\n",
       "            observer.disconnect();\n",
       "        }}\n",
       "}});\n",
       "\n",
       "// Listen for the removal of the full notebook cells\n",
       "var notebookContainer = gd.closest('#notebook-container');\n",
       "if (notebookContainer) {{\n",
       "    x.observe(notebookContainer, {childList: true});\n",
       "}}\n",
       "\n",
       "// Listen for the clearing of the current output cell\n",
       "var outputEl = gd.closest('.output');\n",
       "if (outputEl) {{\n",
       "    x.observe(outputEl, {childList: true});\n",
       "}}\n",
       "\n",
       "                        })                };                });            </script>        </div>"
      ]
     },
     "metadata": {},
     "output_type": "display_data"
    }
   ],
   "source": [
    "fig2 = px.bar_polar(df, r=\"Count Partially False Tweets\", theta=\"Date\",\n",
    "                   color=\"hashtags\",template='plotly_white',\n",
    "                   color_discrete_sequence= ['#4477AA', '#66CCEE', '#228833', '#CCBB44', '#EE6677','#AA3377', '#BBBBBB'])\n",
    "\n",
    "fig2.update_layout(\n",
    "    title='Partially False Hashtag',\n",
    "    font_size=15,\n",
    "    legend_font_size=15\n",
    "\n",
    ")\n",
    "fig2.show()"
   ]
  },
  {
   "cell_type": "code",
   "execution_count": null,
   "id": "informative-speaker",
   "metadata": {},
   "outputs": [],
   "source": []
  },
  {
   "cell_type": "code",
   "execution_count": null,
   "id": "peaceful-stupid",
   "metadata": {},
   "outputs": [],
   "source": []
  }
 ],
 "metadata": {
  "kernelspec": {
   "display_name": "Python 3",
   "language": "python",
   "name": "python3"
  },
  "language_info": {
   "codemirror_mode": {
    "name": "ipython",
    "version": 3
   },
   "file_extension": ".py",
   "mimetype": "text/x-python",
   "name": "python",
   "nbconvert_exporter": "python",
   "pygments_lexer": "ipython3",
   "version": "3.9.2"
  }
 },
 "nbformat": 4,
 "nbformat_minor": 5
}
